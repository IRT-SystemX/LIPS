{
 "cells": [
  {
   "cell_type": "code",
   "execution_count": 1,
   "id": "5fecd664",
   "metadata": {},
   "outputs": [],
   "source": [
    "import os\n",
    "from lips.neurips_benchmark import NeuripsBenchmark1\n",
    "path_benchmark = os.path.join(\"reference_data\")\n",
    "neurips_benchmark1 = NeuripsBenchmark1(path_benchmark=path_benchmark,\n",
    "                                       load_data_set=True)"
   ]
  },
  {
   "cell_type": "code",
   "execution_count": 2,
   "id": "bc2d6e5a",
   "metadata": {},
   "outputs": [],
   "source": [
    "path_save = os.path.join(\"trained_models\")\n",
    "if not os.path.exists(path_save):\n",
    "    os.mkdir(path_save)\n",
    "\n",
    "from tensorflow.keras.layers import Dense\n",
    "from lips.augmented_simulators import FullyConnectedAS\n",
    "\n",
    "# the three lines bellow might be familiar to the tensorflow users. They tell tensorflow to not take all\n",
    "# the GPU video RAM for the model.\n",
    "import tensorflow as tf\n",
    "physical_devices = tf.config.list_physical_devices('GPU') \n",
    "for el in physical_devices:\n",
    "    tf.config.experimental.set_memory_growth(el, True)"
   ]
  },
  {
   "cell_type": "code",
   "execution_count": 3,
   "id": "cde3fe9a",
   "metadata": {},
   "outputs": [],
   "source": [
    "from lips.augmented_simulators import HyperParameterTuner"
   ]
  },
  {
   "cell_type": "code",
   "execution_count": 4,
   "id": "1688242b",
   "metadata": {},
   "outputs": [],
   "source": [
    "my_simulator = FullyConnectedAS(name=\"test_FullyConnectedAS\")"
   ]
  },
  {
   "cell_type": "code",
   "execution_count": 6,
   "id": "fa87a39d",
   "metadata": {},
   "outputs": [],
   "source": [
    "tuner = HyperParameterTuner(my_simulator)"
   ]
  },
  {
   "cell_type": "code",
   "execution_count": 8,
   "id": "f58a12b0",
   "metadata": {},
   "outputs": [
    {
     "name": "stdout",
     "output_type": "stream",
     "text": [
      "Epoch 1/5\n",
      "521/521 [==============================] - 3s 4ms/step - loss: 0.5563 - mae: 0.4537\n",
      "Epoch 2/5\n",
      "521/521 [==============================] - 2s 3ms/step - loss: 0.0598 - mae: 0.1513\n",
      "Epoch 3/5\n",
      "521/521 [==============================] - 1s 3ms/step - loss: 0.0272 - mae: 0.1084\n",
      "Epoch 4/5\n",
      "521/521 [==============================] - 2s 3ms/step - loss: 0.0171 - mae: 0.0868\n",
      "Epoch 5/5\n",
      "521/521 [==============================] - 2s 3ms/step - loss: 0.0126 - mae: 0.0746\n",
      "Epoch 1/5\n",
      "521/521 [==============================] - 2s 3ms/step - loss: 0.5622 - mae: 0.4574\n",
      "Epoch 2/5\n",
      "521/521 [==============================] - 2s 3ms/step - loss: 0.0558 - mae: 0.1483\n",
      "Epoch 3/5\n",
      "521/521 [==============================] - 2s 3ms/step - loss: 0.0249 - mae: 0.1044\n",
      "Epoch 4/5\n",
      "521/521 [==============================] - 2s 3ms/step - loss: 0.0156 - mae: 0.0834\n",
      "Epoch 5/5\n",
      "521/521 [==============================] - 2s 3ms/step - loss: 0.0118 - mae: 0.0722\n",
      "Epoch 1/5\n",
      "521/521 [==============================] - 2s 4ms/step - loss: 0.5591 - mae: 0.4568\n",
      "Epoch 2/5\n",
      "521/521 [==============================] - 2s 3ms/step - loss: 0.0599 - mae: 0.1515\n",
      "Epoch 3/5\n",
      "521/521 [==============================] - 1s 3ms/step - loss: 0.0269 - mae: 0.1077\n",
      "Epoch 4/5\n",
      "521/521 [==============================] - 2s 3ms/step - loss: 0.0163 - mae: 0.0850\n",
      "Epoch 5/5\n",
      "521/521 [==============================] - 2s 3ms/step - loss: 0.0119 - mae: 0.0727\n",
      "Epoch 1/5\n",
      "782/782 [==============================] - 3s 3ms/step - loss: 0.4441 - mae: 0.3912\n",
      "Epoch 2/5\n",
      "782/782 [==============================] - 3s 3ms/step - loss: 0.0339 - mae: 0.1190\n",
      "Epoch 3/5\n",
      "782/782 [==============================] - 3s 4ms/step - loss: 0.0150 - mae: 0.0819\n",
      "Epoch 4/5\n",
      "782/782 [==============================] - 2s 3ms/step - loss: 0.0100 - mae: 0.0666\n",
      "Epoch 5/5\n",
      "782/782 [==============================] - 3s 3ms/step - loss: 0.0076 - mae: 0.0580\n",
      "Best: -0.010276 using {'batch_size': 128, 'epochs': 5, 'layer_act': 'relu', 'loss': 'mse', 'lr': 0.0003, 'sizes_layer': (150, 150)}\n",
      "-0.010276 (0.000276) with: {'batch_size': 128, 'epochs': 5, 'layer_act': 'relu', 'loss': 'mse', 'lr': 0.0003, 'sizes_layer': (150, 150)}\n"
     ]
    }
   ],
   "source": [
    "grid_results = tuner.tune(neurips_benchmark1.train_dataset)"
   ]
  }
 ],
 "metadata": {
  "kernelspec": {
   "display_name": "RTE",
   "language": "python",
   "name": "rte"
  },
  "language_info": {
   "codemirror_mode": {
    "name": "ipython",
    "version": 3
   },
   "file_extension": ".py",
   "mimetype": "text/x-python",
   "name": "python",
   "nbconvert_exporter": "python",
   "pygments_lexer": "ipython3",
   "version": "3.8.8"
  }
 },
 "nbformat": 4,
 "nbformat_minor": 5
}
