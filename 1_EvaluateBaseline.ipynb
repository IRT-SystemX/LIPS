{
 "cells": [
  {
   "cell_type": "markdown",
   "metadata": {},
   "source": [
    "The goal of this notebook is to demonstrate how we can evaluate the results of a baseline on a given benchmark.\n",
    "\n",
    "It will be split into two part. The first part will focus on the evaluation of a baseline that does not requires any training (the `DCApproximatrionAC`). On the second part, we will show how to load a baseline (or any other `AugmentedSimulator`) and evaluate it on a `Benchmark` of our choice.\n",
    "\n",
    "As for the first notebook, we demonstrate this capability for the case of `NeuripsBenchmark1`.\n",
    "\n",
    "**NB** This notebook supposes that the data for the benchmark are already available. If they are not, please generate them or download them.\n",
    "\n",
    "**NB** The `DCApproximatrionAC` baseline requires the `grid2op` python package."
   ]
  },
  {
   "cell_type": "markdown",
   "metadata": {},
   "source": [
    "# Initial step: load the dataset\n",
    "\n",
    "A common dataset will be used for evaluate the two augmented simulator. This initial step aims at loading it once and for all."
   ]
  },
  {
   "cell_type": "code",
   "execution_count": 1,
   "metadata": {},
   "outputs": [],
   "source": [
    "import os\n",
    "from lips.neurips_benchmark import NeuripsBenchmark1\n",
    "path_benchmark = os.path.join(\"reference_data\")\n",
    "neurips_benchmark1 = NeuripsBenchmark1(path_benchmark=path_benchmark,\n",
    "                                       load_data_set=True)"
   ]
  },
  {
   "cell_type": "markdown",
   "metadata": {},
   "source": [
    "# The DC approximation\n",
    "\n",
    "We remind that the `grid2op` library is required for this part. You can install it with `pip install grid2op` if you do not have it already.\n",
    "\n",
    "First we will create the \"augmented simulator\". As opposed to the second model we will expose here, this method require access to a powergrid. This is one of the reason we need grid2op. \n",
    "\n",
    "The way to load each `AugmentedSimulator` is specific. Here for example we load the DCApproximation that will use the same powergrid as the one used to generate the data in the previous Notebook."
   ]
  },
  {
   "cell_type": "code",
   "execution_count": 2,
   "metadata": {},
   "outputs": [],
   "source": [
    "# the next few lines are specific for each benchmark and each `AugmentedSimulator`\n",
    "import grid2op\n",
    "import warnings\n",
    "from lips.augmented_simulators import DCApproximationAS\n",
    "with warnings.catch_warnings():\n",
    "    warnings.filterwarnings(\"ignore\")\n",
    "    env = grid2op.make(\"l2rpn_case14_sandbox\", test=True)\n",
    "    grid_path = os.path.join(env.get_path_env(), \"grid.json\")\n",
    "\n",
    "dc_augmented_sim = DCApproximationAS(grid_path=grid_path)"
   ]
  },
  {
   "cell_type": "markdown",
   "metadata": {},
   "source": [
    "Now that the model is load, there is a common interface to evaluate its performance, on a dataset. This is showed in the cell bellow where we evaluate this specific `AugmentedSimulator` one this two dataset."
   ]
  },
  {
   "cell_type": "code",
   "execution_count": 3,
   "metadata": {},
   "outputs": [
    {
     "name": "stderr",
     "output_type": "stream",
     "text": [
      "/home/benjamin/Documents/powerflow_klu/lightsim2grid/_aux_add_trafo.py:33: UserWarning: There were some Nan in the pp_net.trafo[\"tap_neutral\"], they have been replaced by 0\n",
      "  warnings.warn(\"There were some Nan in the pp_net.trafo[\\\"tap_neutral\\\"], they have been replaced by 0\")\n",
      "/home/benjamin/Documents/powerflow_klu/lightsim2grid/_aux_add_trafo.py:41: UserWarning: There were some Nan in the pp_net.trafo[\"tap_step_percent\"], they have been replaced by 0\n",
      "  warnings.warn(\"There were some Nan in the pp_net.trafo[\\\"tap_step_percent\\\"], they have been replaced by 0\")\n",
      "/home/benjamin/Documents/powerflow_klu/lightsim2grid/_aux_add_trafo.py:46: UserWarning: There were some Nan in the pp_net.trafo[\"tap_pos\"], they have been replaced by 0\n",
      "  warnings.warn(\"There were some Nan in the pp_net.trafo[\\\"tap_pos\\\"], they have been replaced by 0\")\n",
      "evaluate dc: 100%|██████████| 10000/10000 [01:44<00:00, 96.01it/s]\n"
     ]
    },
    {
     "name": "stdout",
     "output_type": "stream",
     "text": [
      "************* Basic verifier *************\n",
      "Current positivity check passed for origin side !\n",
      "----------------------------------------------\n",
      "Current positivity check passed for extremity side !\n",
      "----------------------------------------------\n",
      "Voltage positivity check passed for origin side !\n",
      "----------------------------------------------\n",
      "Voltage positivity check passed for extremity side !\n",
      "----------------------------------------------\n",
      "Loss positivity check passed !\n",
      "----------------------------------------------\n",
      "Prediction in presence of line disconnection. Check passed !\n",
      "----------------------------------------------\n",
      "************* Check loss *************\n",
      "Verification is done without any violation !\n",
      "************* Check Energy Conservation *************\n",
      "Number of failed cases is 10000 and the proportion is 100.000% : \n",
      "************* Check kirchhoff's current law *************\n"
     ]
    },
    {
     "name": "stderr",
     "output_type": "stream",
     "text": [
      "evaluate dc:   0%|          | 9/10000 [00:00<01:59, 83.34it/s]"
     ]
    },
    {
     "name": "stdout",
     "output_type": "stream",
     "text": [
      "6.75% not verify the Kirchhoff's current law at 0.01 tolerance\n"
     ]
    },
    {
     "name": "stderr",
     "output_type": "stream",
     "text": [
      "evaluate dc: 100%|██████████| 10000/10000 [01:49<00:00, 91.59it/s]\n"
     ]
    },
    {
     "name": "stdout",
     "output_type": "stream",
     "text": [
      "************* Basic verifier *************\n",
      "Current positivity check passed for origin side !\n",
      "----------------------------------------------\n",
      "Current positivity check passed for extremity side !\n",
      "----------------------------------------------\n",
      "Voltage positivity check passed for origin side !\n",
      "----------------------------------------------\n",
      "Voltage positivity check passed for extremity side !\n",
      "----------------------------------------------\n",
      "Loss positivity check passed !\n",
      "----------------------------------------------\n",
      "Prediction in presence of line disconnection. Check passed !\n",
      "----------------------------------------------\n",
      "************* Check loss *************\n",
      "Verification is done without any violation !\n",
      "************* Check Energy Conservation *************\n",
      "Number of failed cases is 10000 and the proportion is 100.000% : \n",
      "************* Check kirchhoff's current law *************\n",
      "6.77% not verify the Kirchhoff's current law at 0.01 tolerance\n"
     ]
    }
   ],
   "source": [
    "dc_metrics_per_dataset = neurips_benchmark1.evaluate_augmented_simulator(dc_augmented_sim)"
   ]
  },
  {
   "cell_type": "markdown",
   "metadata": {},
   "source": [
    "And now it is possible to study the metrics on the different dataset. For example, if we want the \"MSE\" error on the \"test\" dataset (with a similar distribution as the training one):"
   ]
  },
  {
   "cell_type": "code",
   "execution_count": 4,
   "metadata": {},
   "outputs": [
    {
     "data": {
      "text/plain": [
       "{'a_or': 51787.719623026824,\n",
       " 'a_ex': 74316.81188421666,\n",
       " 'p_or': 3.9908796044433985,\n",
       " 'p_ex': 2.7289158880997526,\n",
       " 'q_or': 115.0448778982128,\n",
       " 'q_ex': 120.65276766702716,\n",
       " 'prod_q': 668.1566567584747,\n",
       " 'load_v': 1.3049929990662892,\n",
       " 'v_or': 0.901913902957405,\n",
       " 'v_ex': 2.1511602388233135}"
      ]
     },
     "execution_count": 4,
     "metadata": {},
     "output_type": "execute_result"
    }
   ],
   "source": [
    "dc_metrics_per_dataset[\"test\"][0]['MSE_avg']"
   ]
  },
  {
   "cell_type": "markdown",
   "metadata": {},
   "source": [
    "# A learned baseline \"augmented simulator\"\n",
    "\n",
    "Along with some dataset, we provide also some baseline (from a trained neural network). This baseline is made of a fully connected neural network that takes the available input of the powergrid and tries to predict all the output of the simulator.\n",
    "\n",
    "The fully connected neural network is made of XXX layer each with YYY units.\n",
    "\n",
    "It is learned for KKK epochs on the training set of the `Benchmark1`.\n",
    "\n",
    "**NB** These baselines are not yet fully trained, and some hyper parameters still need to be optimized. We intend on doing that before the official release of the benchmark for the Neurips conference.\n",
    "\n",
    "First we need to load the baseline and initialize it properly"
   ]
  },
  {
   "cell_type": "code",
   "execution_count": 5,
   "metadata": {},
   "outputs": [],
   "source": [
    "path_baselines = os.path.join(\"trained_baselines\")\n",
    "from lips.augmented_simulators import FullyConnectedAS\n",
    "\n",
    "# recreate the baseline\n",
    "fc_augmented_sim = FullyConnectedAS(name=\"Baseline_FullyConnected\")\n",
    "\n",
    "# TODO create a wrapper for these 3 calls\n",
    "fc_augmented_sim.load_metadata(path_baselines)\n",
    "fc_augmented_sim.init()\n",
    "fc_augmented_sim.restore(path_baselines)"
   ]
  },
  {
   "cell_type": "markdown",
   "metadata": {},
   "source": [
    "Then, as for the DC approximation, we can evaluate it on the test datasets of the benchmark.\n",
    "\n",
    "This is done with the same command:"
   ]
  },
  {
   "cell_type": "code",
   "execution_count": 6,
   "metadata": {},
   "outputs": [
    {
     "name": "stdout",
     "output_type": "stream",
     "text": [
      "************* Basic verifier *************\n",
      "2.335% of lines does not respect the positivity of currents (Amp) at origin\n",
      "Concerned lines with corresponding number of negative current values at their origin:\n",
      " {2: 513, 13: 388, 16: 380, 9: 350, 4: 346, 14: 331, 8: 302, 7: 291, 17: 276, 5: 267, 19: 229, 1: 218, 10: 212, 11: 147, 0: 139, 3: 131, 6: 112, 15: 22, 12: 16}\n",
      "----------------------------------------------\n",
      "2.445% of lines does not respect the positivity of currents (Amp) at extremity\n",
      "Concerned lines with corresponding number of negative current values at their extremity:\n",
      " {2: 517, 4: 427, 16: 381, 13: 359, 9: 347, 7: 338, 14: 323, 1: 320, 17: 279, 8: 274, 5: 272, 10: 219, 19: 203, 0: 149, 11: 147, 6: 142, 3: 134, 15: 32, 12: 26}\n",
      "----------------------------------------------\n",
      "2.651% of lines does not respect the positivity of voltages (Kv) at origin\n",
      "Concerned lines with corresponding number of negative voltage values at their origin:\n",
      " {3: 848, 5: 497, 0: 466, 10: 424, 13: 323, 16: 319, 14: 309, 17: 275, 2: 245, 1: 241, 11: 212, 6: 186, 8: 186, 7: 180, 12: 139, 4: 138, 9: 121, 19: 115, 15: 79}\n",
      "----------------------------------------------\n",
      "2.744% of lines does not respect the positivity of voltages (Kv) at extremity\n",
      "Concerned lines with corresponding number of negative voltage values at their extremity:\n",
      " {3: 794, 0: 469, 5: 441, 10: 419, 16: 408, 14: 322, 13: 305, 17: 278, 6: 267, 2: 257, 1: 243, 11: 230, 8: 216, 7: 192, 9: 172, 12: 171, 19: 125, 4: 123, 15: 55}\n",
      "----------------------------------------------\n",
      "21.216% of lines does not respect the positivity of loss (Mw)\n",
      "Concerned lines with corresponding number of negative loss values:\n",
      " {16: 7392, 18: 6461, 19: 4489, 17: 4035, 10: 3407, 5: 2442, 4: 2400, 15: 2198, 6: 1805, 14: 1538, 3: 1219, 13: 1156, 2: 748, 0: 692, 1: 588, 12: 555, 11: 528, 7: 372, 8: 289, 9: 119}\n",
      "----------------------------------------------\n",
      "Prediction in presence of line disconnection. Problem encountered !\n",
      "----------------------------------------------\n",
      "************* Check loss *************\n",
      "Number of failed cases is 911 and the proportion is 9.110% : \n",
      "************* Check Energy Conservation *************\n",
      "Number of failed cases is 9974 and the proportion is 99.740% : \n",
      "************* Check kirchhoff's current law *************\n",
      "95.33% not verify the Kirchhoff's current law at 0.01 tolerance\n",
      "************* Basic verifier *************\n",
      "4.998% of lines does not respect the positivity of currents (Amp) at origin\n",
      "Concerned lines with corresponding number of negative current values at their origin:\n",
      " {4: 1476, 13: 1087, 5: 768, 3: 712, 14: 685, 10: 647, 2: 614, 11: 581, 9: 535, 6: 526, 12: 438, 7: 348, 1: 318, 0: 286, 17: 277, 16: 235, 19: 185, 15: 162, 8: 116}\n",
      "----------------------------------------------\n",
      "5.012% of lines does not respect the positivity of currents (Amp) at extremity\n",
      "Concerned lines with corresponding number of negative current values at their extremity:\n",
      " {4: 1490, 13: 1017, 5: 733, 3: 716, 2: 668, 14: 657, 10: 644, 11: 596, 9: 553, 6: 533, 12: 441, 1: 372, 7: 348, 0: 288, 16: 261, 17: 236, 19: 188, 15: 154, 8: 129}\n",
      "----------------------------------------------\n",
      "1.445% of lines does not respect the positivity of voltages (Kv) at origin\n",
      "Concerned lines with corresponding number of negative voltage values at their origin:\n",
      " {3: 1770, 14: 165, 13: 111, 10: 110, 0: 87, 6: 85, 12: 71, 1: 66, 5: 63, 8: 51, 17: 49, 19: 45, 16: 43, 7: 36, 4: 32, 2: 29, 9: 27, 11: 26, 15: 24}\n",
      "----------------------------------------------\n",
      "1.396% of lines does not respect the positivity of voltages (Kv) at extremity\n",
      "Concerned lines with corresponding number of negative voltage values at their extremity:\n",
      " {3: 1729, 14: 131, 13: 111, 10: 99, 6: 91, 12: 81, 0: 70, 5: 61, 8: 59, 17: 56, 19: 48, 1: 47, 7: 36, 15: 31, 4: 30, 2: 29, 9: 28, 16: 28, 11: 27}\n",
      "----------------------------------------------\n",
      "37.856% of lines does not respect the positivity of loss (Mw)\n",
      "Concerned lines with corresponding number of negative loss values:\n",
      " {18: 6326, 10: 5627, 15: 5190, 16: 4791, 19: 4709, 17: 4647, 5: 4153, 0: 4062, 4: 4047, 2: 4036, 11: 3584, 13: 3541, 6: 3294, 12: 3274, 7: 2963, 3: 2644, 9: 2436, 8: 2346, 14: 2032, 1: 2010}\n",
      "----------------------------------------------\n",
      "Prediction in presence of line disconnection. Problem encountered !\n",
      "----------------------------------------------\n",
      "************* Check loss *************\n",
      "Number of failed cases is 3177 and the proportion is 31.770% : \n",
      "************* Check Energy Conservation *************\n",
      "Number of failed cases is 9996 and the proportion is 99.960% : \n",
      "************* Check kirchhoff's current law *************\n",
      "99.52% not verify the Kirchhoff's current law at 0.01 tolerance\n"
     ]
    }
   ],
   "source": [
    "fc_metrics_per_dataset = neurips_benchmark1.evaluate_augmented_simulator(fc_augmented_sim)"
   ]
  },
  {
   "cell_type": "markdown",
   "metadata": {},
   "source": [
    "# Comparison of the two augmented simulator\n",
    "\n",
    "And now we can compare the two \"augmented simulators\". For example, if we want to compare the MSE (mean squared error) on the test dataset (with a distribution similar to the training distribution) for all variable types we might compare:"
   ]
  },
  {
   "cell_type": "code",
   "execution_count": 7,
   "metadata": {},
   "outputs": [
    {
     "data": {
      "text/plain": [
       "{'a_or': 31.097919464111328,\n",
       " 'a_ex': 71.19816589355469,\n",
       " 'p_or': 0.16792437434196472,\n",
       " 'p_ex': 0.15779715776443481,\n",
       " 'q_or': 0.021064499393105507,\n",
       " 'q_ex': 0.026537781581282616,\n",
       " 'prod_q': 0.07916201651096344,\n",
       " 'load_v': 0.0005125565803609788,\n",
       " 'v_or': 0.1753121316432953,\n",
       " 'v_ex': 0.13835617899894714}"
      ]
     },
     "execution_count": 7,
     "metadata": {},
     "output_type": "execute_result"
    }
   ],
   "source": [
    "fc_metrics_per_dataset[\"test\"][0]['MSE_avg']"
   ]
  },
  {
   "cell_type": "code",
   "execution_count": 8,
   "metadata": {},
   "outputs": [
    {
     "data": {
      "text/plain": [
       "{'a_or': 51787.719623026824,\n",
       " 'a_ex': 74316.81188421666,\n",
       " 'p_or': 3.9908796044433985,\n",
       " 'p_ex': 2.7289158880997526,\n",
       " 'q_or': 115.0448778982128,\n",
       " 'q_ex': 120.65276766702716,\n",
       " 'prod_q': 668.1566567584747,\n",
       " 'load_v': 1.3049929990662892,\n",
       " 'v_or': 0.901913902957405,\n",
       " 'v_ex': 2.1511602388233135}"
      ]
     },
     "execution_count": 8,
     "metadata": {},
     "output_type": "execute_result"
    }
   ],
   "source": [
    "dc_metrics_per_dataset[\"test\"][0]['MSE_avg']"
   ]
  },
  {
   "cell_type": "markdown",
   "metadata": {},
   "source": [
    "If we want the same quantity but for the \"out of distribution (due to topology)\" distribution we can have a look at:"
   ]
  },
  {
   "cell_type": "code",
   "execution_count": 9,
   "metadata": {},
   "outputs": [
    {
     "data": {
      "text/plain": [
       "{'a_or': 20856.6328125,\n",
       " 'a_ex': 54231.90625,\n",
       " 'p_or': 110.4103012084961,\n",
       " 'p_ex': 104.7504653930664,\n",
       " 'q_or': 13.657407760620117,\n",
       " 'q_ex': 16.52105712890625,\n",
       " 'prod_q': 52.501834869384766,\n",
       " 'load_v': 0.3157421350479126,\n",
       " 'v_or': 118.22198486328125,\n",
       " 'v_ex': 91.51362609863281}"
      ]
     },
     "execution_count": 9,
     "metadata": {},
     "output_type": "execute_result"
    }
   ],
   "source": [
    "fc_metrics_per_dataset[\"test_ood_topo\"][0]['MSE_avg']"
   ]
  },
  {
   "cell_type": "code",
   "execution_count": 10,
   "metadata": {},
   "outputs": [
    {
     "data": {
      "text/plain": [
       "{'a_or': 51787.719623026824,\n",
       " 'a_ex': 74316.81188421666,\n",
       " 'p_or': 3.9908796044433985,\n",
       " 'p_ex': 2.7289158880997526,\n",
       " 'q_or': 115.0448778982128,\n",
       " 'q_ex': 120.65276766702716,\n",
       " 'prod_q': 668.1566567584747,\n",
       " 'load_v': 1.3049929990662892,\n",
       " 'v_or': 0.901913902957405,\n",
       " 'v_ex': 2.1511602388233135}"
      ]
     },
     "execution_count": 10,
     "metadata": {},
     "output_type": "execute_result"
    }
   ],
   "source": [
    "dc_metrics_per_dataset[\"test\"][0]['MSE_avg']"
   ]
  }
 ],
 "metadata": {
  "kernelspec": {
   "display_name": "Python 3",
   "language": "python",
   "name": "python3"
  },
  "language_info": {
   "codemirror_mode": {
    "name": "ipython",
    "version": 3
   },
   "file_extension": ".py",
   "mimetype": "text/x-python",
   "name": "python",
   "nbconvert_exporter": "python",
   "pygments_lexer": "ipython3",
   "version": "3.8.5"
  }
 },
 "nbformat": 4,
 "nbformat_minor": 4
}
