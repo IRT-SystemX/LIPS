{
 "cells": [
  {
   "cell_type": "markdown",
   "id": "11f8300e",
   "metadata": {},
   "source": [
    "# Hyper-parameter tuning via Grid Search Cross Validation"
   ]
  },
  {
   "cell_type": "markdown",
   "id": "877a3b82",
   "metadata": {},
   "source": [
    "This notebook allows to fine-tune the hyper parameters of an augmented simulator. The class `HyperParameterTuner` provided under the simulators module is designed for this purpose. It takes an object of an augmented simulator and porivdes a function called `tune` for fine tuning purpose. This function takes as parameters a dataset and a list of hyper parameters which constitute in turn the search space for a grid search algorithm. This class could be used for any augmented simulator, to fine tune its set of parameters."
   ]
  },
  {
   "cell_type": "markdown",
   "id": "6f91f8b1",
   "metadata": {},
   "source": [
    "## Load the dataset for this experiment using the first benchmark"
   ]
  },
  {
   "cell_type": "code",
   "execution_count": 2,
   "id": "2948ac4c",
   "metadata": {},
   "outputs": [],
   "source": [
    "import os\n",
    "from lips.neurips_benchmark import NeuripsBenchmark1\n",
    "path_benchmark = os.path.join(\"reference_data\")\n",
    "neurips_benchmark1 = NeuripsBenchmark1(path_benchmark=path_benchmark,\n",
    "                                       load_data_set=True)"
   ]
  },
  {
   "cell_type": "code",
   "execution_count": 3,
   "id": "06bdbced",
   "metadata": {},
   "outputs": [],
   "source": [
    "from lips.augmented_simulators import FullyConnectedAS\n",
    "# the three lines bellow might be familiar to the tensorflow users. They tell tensorflow to not take all\n",
    "# the GPU video RAM for the model.\n",
    "import tensorflow as tf\n",
    "physical_devices = tf.config.list_physical_devices('GPU') \n",
    "for el in physical_devices:\n",
    "    tf.config.experimental.set_memory_growth(el, True)"
   ]
  },
  {
   "cell_type": "markdown",
   "id": "c8a4073a",
   "metadata": {},
   "source": [
    "## Tuning the parameters "
   ]
  },
  {
   "cell_type": "code",
   "execution_count": 4,
   "id": "4ce3aff6",
   "metadata": {},
   "outputs": [],
   "source": [
    "from lips.augmented_simulators import HyperParameterTuner"
   ]
  },
  {
   "cell_type": "markdown",
   "id": "7edb3b68",
   "metadata": {},
   "source": [
    "An augmented simulator should be instanciated at the first step. Here, we opt for a fully connected network with all the required functions."
   ]
  },
  {
   "cell_type": "code",
   "execution_count": 5,
   "id": "aa1f0a72",
   "metadata": {},
   "outputs": [],
   "source": [
    "my_simulator = FullyConnectedAS(name=\"test_FullyConnectedAS\")"
   ]
  },
  {
   "cell_type": "markdown",
   "id": "de6af967",
   "metadata": {},
   "source": [
    "The `HyperParameterTuner`class can be instanciated by taking the fully connected model as parameter."
   ]
  },
  {
   "cell_type": "code",
   "execution_count": 6,
   "id": "8f967767",
   "metadata": {},
   "outputs": [],
   "source": [
    "tuner = HyperParameterTuner(my_simulator)"
   ]
  },
  {
   "cell_type": "markdown",
   "id": "5fb9fa44",
   "metadata": {},
   "source": [
    "The main step would be to run the tuning via `tune` function of this class. Here, we give a dataset as input and a set of parameters which could be a list of possible and desired hyper parameters which in turn constitute the search space. This function porforms grid search cross validation and number of folds could be adjusted by `n_folds` argument of tune function. <span style=\"color:red\">Attention : It takes too much time to execute this grid search cross validation.</span>"
   ]
  },
  {
   "cell_type": "code",
   "execution_count": null,
   "id": "f6de9b0f",
   "metadata": {},
   "outputs": [],
   "source": [
    "grid_results = tuner.tune(neurips_benchmark1.train_dataset,\n",
    "                          sizes_layer=[(150,150), (200,200,200), (300,300,300,300)], \n",
    "                          layer_act=[\"relu\"], \n",
    "                          lr=[3e-4, 1e-2], \n",
    "                          batch_size=[64,128], \n",
    "                          epochs=[10, 50, 100], \n",
    "                          loss=[\"mse\", \"mae\"], \n",
    "                          n_folds=5, \n",
    "                          verbose=1, \n",
    "                          n_jobs=1\n",
    "                          )"
   ]
  },
  {
   "cell_type": "markdown",
   "id": "3b6d85f6",
   "metadata": {},
   "source": [
    "Once the grid search is finished, the results can be accessed and we print the different search results below."
   ]
  },
  {
   "cell_type": "code",
   "execution_count": 14,
   "id": "dade0dd2",
   "metadata": {},
   "outputs": [
    {
     "name": "stdout",
     "output_type": "stream",
     "text": [
      "Best: -0.000333 using {'batch_size': 128, 'epochs': 100, 'layer_act': 'relu', 'loss': 'mse', 'lr': 0.0003, 'sizes_layer': (300, 300, 300, 300)}\n",
      "-0.003003 (0.000255) with: {'batch_size': 64, 'epochs': 10, 'layer_act': 'relu', 'loss': 'mse', 'lr': 0.0003, 'sizes_layer': (150, 150)}\n",
      "-0.001696 (0.000134) with: {'batch_size': 64, 'epochs': 10, 'layer_act': 'relu', 'loss': 'mse', 'lr': 0.0003, 'sizes_layer': (200, 200, 200)}\n",
      "-0.001294 (0.000151) with: {'batch_size': 64, 'epochs': 10, 'layer_act': 'relu', 'loss': 'mse', 'lr': 0.0003, 'sizes_layer': (300, 300, 300, 300)}\n",
      "-0.007245 (0.002094) with: {'batch_size': 64, 'epochs': 10, 'layer_act': 'relu', 'loss': 'mse', 'lr': 0.01, 'sizes_layer': (150, 150)}\n",
      "-0.059667 (0.024964) with: {'batch_size': 64, 'epochs': 10, 'layer_act': 'relu', 'loss': 'mse', 'lr': 0.01, 'sizes_layer': (200, 200, 200)}\n",
      "-0.218516 (0.045694) with: {'batch_size': 64, 'epochs': 10, 'layer_act': 'relu', 'loss': 'mse', 'lr': 0.01, 'sizes_layer': (300, 300, 300, 300)}\n",
      "-0.030331 (0.000618) with: {'batch_size': 64, 'epochs': 10, 'layer_act': 'relu', 'loss': 'mae', 'lr': 0.0003, 'sizes_layer': (150, 150)}\n",
      "-0.024398 (0.000474) with: {'batch_size': 64, 'epochs': 10, 'layer_act': 'relu', 'loss': 'mae', 'lr': 0.0003, 'sizes_layer': (200, 200, 200)}\n",
      "-0.021255 (0.000884) with: {'batch_size': 64, 'epochs': 10, 'layer_act': 'relu', 'loss': 'mae', 'lr': 0.0003, 'sizes_layer': (300, 300, 300, 300)}\n",
      "-0.056729 (0.003380) with: {'batch_size': 64, 'epochs': 10, 'layer_act': 'relu', 'loss': 'mae', 'lr': 0.01, 'sizes_layer': (150, 150)}\n",
      "-0.067492 (0.013717) with: {'batch_size': 64, 'epochs': 10, 'layer_act': 'relu', 'loss': 'mae', 'lr': 0.01, 'sizes_layer': (200, 200, 200)}\n",
      "-0.148082 (0.022214) with: {'batch_size': 64, 'epochs': 10, 'layer_act': 'relu', 'loss': 'mae', 'lr': 0.01, 'sizes_layer': (300, 300, 300, 300)}\n",
      "-0.000948 (0.000091) with: {'batch_size': 64, 'epochs': 50, 'layer_act': 'relu', 'loss': 'mse', 'lr': 0.0003, 'sizes_layer': (150, 150)}\n",
      "-0.000589 (0.000031) with: {'batch_size': 64, 'epochs': 50, 'layer_act': 'relu', 'loss': 'mse', 'lr': 0.0003, 'sizes_layer': (200, 200, 200)}\n",
      "-0.000499 (0.000082) with: {'batch_size': 64, 'epochs': 50, 'layer_act': 'relu', 'loss': 'mse', 'lr': 0.0003, 'sizes_layer': (300, 300, 300, 300)}\n",
      "-0.016629 (0.006069) with: {'batch_size': 64, 'epochs': 50, 'layer_act': 'relu', 'loss': 'mse', 'lr': 0.01, 'sizes_layer': (150, 150)}\n",
      "-0.135111 (0.055626) with: {'batch_size': 64, 'epochs': 50, 'layer_act': 'relu', 'loss': 'mse', 'lr': 0.01, 'sizes_layer': (200, 200, 200)}\n",
      "-0.711146 (0.052354) with: {'batch_size': 64, 'epochs': 50, 'layer_act': 'relu', 'loss': 'mse', 'lr': 0.01, 'sizes_layer': (300, 300, 300, 300)}\n",
      "-0.018153 (0.000498) with: {'batch_size': 64, 'epochs': 50, 'layer_act': 'relu', 'loss': 'mae', 'lr': 0.0003, 'sizes_layer': (150, 150)}\n",
      "-0.013461 (0.000471) with: {'batch_size': 64, 'epochs': 50, 'layer_act': 'relu', 'loss': 'mae', 'lr': 0.0003, 'sizes_layer': (200, 200, 200)}\n",
      "-0.012597 (0.000325) with: {'batch_size': 64, 'epochs': 50, 'layer_act': 'relu', 'loss': 'mae', 'lr': 0.0003, 'sizes_layer': (300, 300, 300, 300)}\n",
      "-0.057520 (0.002563) with: {'batch_size': 64, 'epochs': 50, 'layer_act': 'relu', 'loss': 'mae', 'lr': 0.01, 'sizes_layer': (150, 150)}\n",
      "-0.100988 (0.017834) with: {'batch_size': 64, 'epochs': 50, 'layer_act': 'relu', 'loss': 'mae', 'lr': 0.01, 'sizes_layer': (200, 200, 200)}\n",
      "-0.299329 (0.025737) with: {'batch_size': 64, 'epochs': 50, 'layer_act': 'relu', 'loss': 'mae', 'lr': 0.01, 'sizes_layer': (300, 300, 300, 300)}\n",
      "-0.000677 (0.000012) with: {'batch_size': 64, 'epochs': 100, 'layer_act': 'relu', 'loss': 'mse', 'lr': 0.0003, 'sizes_layer': (150, 150)}\n",
      "-0.000394 (0.000028) with: {'batch_size': 64, 'epochs': 100, 'layer_act': 'relu', 'loss': 'mse', 'lr': 0.0003, 'sizes_layer': (200, 200, 200)}\n",
      "-0.000338 (0.000072) with: {'batch_size': 64, 'epochs': 100, 'layer_act': 'relu', 'loss': 'mse', 'lr': 0.0003, 'sizes_layer': (300, 300, 300, 300)}\n",
      "-0.024318 (0.008731) with: {'batch_size': 64, 'epochs': 100, 'layer_act': 'relu', 'loss': 'mse', 'lr': 0.01, 'sizes_layer': (150, 150)}\n",
      "-0.129404 (0.098838) with: {'batch_size': 64, 'epochs': 100, 'layer_act': 'relu', 'loss': 'mse', 'lr': 0.01, 'sizes_layer': (200, 200, 200)}\n",
      "-0.838109 (0.089538) with: {'batch_size': 64, 'epochs': 100, 'layer_act': 'relu', 'loss': 'mse', 'lr': 0.01, 'sizes_layer': (300, 300, 300, 300)}\n",
      "-0.014996 (0.000646) with: {'batch_size': 64, 'epochs': 100, 'layer_act': 'relu', 'loss': 'mae', 'lr': 0.0003, 'sizes_layer': (150, 150)}\n",
      "-0.010856 (0.000831) with: {'batch_size': 64, 'epochs': 100, 'layer_act': 'relu', 'loss': 'mae', 'lr': 0.0003, 'sizes_layer': (200, 200, 200)}\n",
      "-0.009554 (0.000319) with: {'batch_size': 64, 'epochs': 100, 'layer_act': 'relu', 'loss': 'mae', 'lr': 0.0003, 'sizes_layer': (300, 300, 300, 300)}\n",
      "-0.073359 (0.005600) with: {'batch_size': 64, 'epochs': 100, 'layer_act': 'relu', 'loss': 'mae', 'lr': 0.01, 'sizes_layer': (150, 150)}\n",
      "-0.133010 (0.011490) with: {'batch_size': 64, 'epochs': 100, 'layer_act': 'relu', 'loss': 'mae', 'lr': 0.01, 'sizes_layer': (200, 200, 200)}\n",
      "-0.333967 (0.062531) with: {'batch_size': 64, 'epochs': 100, 'layer_act': 'relu', 'loss': 'mae', 'lr': 0.01, 'sizes_layer': (300, 300, 300, 300)}\n",
      "-0.004488 (0.000335) with: {'batch_size': 128, 'epochs': 10, 'layer_act': 'relu', 'loss': 'mse', 'lr': 0.0003, 'sizes_layer': (150, 150)}\n",
      "-0.002460 (0.000151) with: {'batch_size': 128, 'epochs': 10, 'layer_act': 'relu', 'loss': 'mse', 'lr': 0.0003, 'sizes_layer': (200, 200, 200)}\n",
      "-0.001556 (0.000197) with: {'batch_size': 128, 'epochs': 10, 'layer_act': 'relu', 'loss': 'mse', 'lr': 0.0003, 'sizes_layer': (300, 300, 300, 300)}\n",
      "-0.003481 (0.000974) with: {'batch_size': 128, 'epochs': 10, 'layer_act': 'relu', 'loss': 'mse', 'lr': 0.01, 'sizes_layer': (150, 150)}\n",
      "-0.030194 (0.038299) with: {'batch_size': 128, 'epochs': 10, 'layer_act': 'relu', 'loss': 'mse', 'lr': 0.01, 'sizes_layer': (200, 200, 200)}\n",
      "-0.075205 (0.031444) with: {'batch_size': 128, 'epochs': 10, 'layer_act': 'relu', 'loss': 'mse', 'lr': 0.01, 'sizes_layer': (300, 300, 300, 300)}\n",
      "-0.035577 (0.001181) with: {'batch_size': 128, 'epochs': 10, 'layer_act': 'relu', 'loss': 'mae', 'lr': 0.0003, 'sizes_layer': (150, 150)}\n",
      "-0.028061 (0.000833) with: {'batch_size': 128, 'epochs': 10, 'layer_act': 'relu', 'loss': 'mae', 'lr': 0.0003, 'sizes_layer': (200, 200, 200)}\n",
      "-0.023508 (0.000731) with: {'batch_size': 128, 'epochs': 10, 'layer_act': 'relu', 'loss': 'mae', 'lr': 0.0003, 'sizes_layer': (300, 300, 300, 300)}\n",
      "-0.038423 (0.002076) with: {'batch_size': 128, 'epochs': 10, 'layer_act': 'relu', 'loss': 'mae', 'lr': 0.01, 'sizes_layer': (150, 150)}\n",
      "-0.042525 (0.009846) with: {'batch_size': 128, 'epochs': 10, 'layer_act': 'relu', 'loss': 'mae', 'lr': 0.01, 'sizes_layer': (200, 200, 200)}\n",
      "-0.068542 (0.014764) with: {'batch_size': 128, 'epochs': 10, 'layer_act': 'relu', 'loss': 'mae', 'lr': 0.01, 'sizes_layer': (300, 300, 300, 300)}\n",
      "-0.001164 (0.000086) with: {'batch_size': 128, 'epochs': 50, 'layer_act': 'relu', 'loss': 'mse', 'lr': 0.0003, 'sizes_layer': (150, 150)}\n",
      "-0.000683 (0.000077) with: {'batch_size': 128, 'epochs': 50, 'layer_act': 'relu', 'loss': 'mse', 'lr': 0.0003, 'sizes_layer': (200, 200, 200)}\n",
      "-0.000475 (0.000074) with: {'batch_size': 128, 'epochs': 50, 'layer_act': 'relu', 'loss': 'mse', 'lr': 0.0003, 'sizes_layer': (300, 300, 300, 300)}\n",
      "-0.008591 (0.004078) with: {'batch_size': 128, 'epochs': 50, 'layer_act': 'relu', 'loss': 'mse', 'lr': 0.01, 'sizes_layer': (150, 150)}\n",
      "-0.066969 (0.059075) with: {'batch_size': 128, 'epochs': 50, 'layer_act': 'relu', 'loss': 'mse', 'lr': 0.01, 'sizes_layer': (200, 200, 200)}\n",
      "-0.445861 (0.060636) with: {'batch_size': 128, 'epochs': 50, 'layer_act': 'relu', 'loss': 'mse', 'lr': 0.01, 'sizes_layer': (300, 300, 300, 300)}\n",
      "-0.020372 (0.000995) with: {'batch_size': 128, 'epochs': 50, 'layer_act': 'relu', 'loss': 'mae', 'lr': 0.0003, 'sizes_layer': (150, 150)}\n",
      "-0.015518 (0.000454) with: {'batch_size': 128, 'epochs': 50, 'layer_act': 'relu', 'loss': 'mae', 'lr': 0.0003, 'sizes_layer': (200, 200, 200)}\n",
      "-0.013221 (0.000735) with: {'batch_size': 128, 'epochs': 50, 'layer_act': 'relu', 'loss': 'mae', 'lr': 0.0003, 'sizes_layer': (300, 300, 300, 300)}\n",
      "-0.039480 (0.002560) with: {'batch_size': 128, 'epochs': 50, 'layer_act': 'relu', 'loss': 'mae', 'lr': 0.01, 'sizes_layer': (150, 150)}\n",
      "-0.047204 (0.005548) with: {'batch_size': 128, 'epochs': 50, 'layer_act': 'relu', 'loss': 'mae', 'lr': 0.01, 'sizes_layer': (200, 200, 200)}\n",
      "-0.165193 (0.021675) with: {'batch_size': 128, 'epochs': 50, 'layer_act': 'relu', 'loss': 'mae', 'lr': 0.01, 'sizes_layer': (300, 300, 300, 300)}\n",
      "-0.000800 (0.000056) with: {'batch_size': 128, 'epochs': 100, 'layer_act': 'relu', 'loss': 'mse', 'lr': 0.0003, 'sizes_layer': (150, 150)}\n",
      "-0.000446 (0.000058) with: {'batch_size': 128, 'epochs': 100, 'layer_act': 'relu', 'loss': 'mse', 'lr': 0.0003, 'sizes_layer': (200, 200, 200)}\n",
      "-0.000333 (0.000038) with: {'batch_size': 128, 'epochs': 100, 'layer_act': 'relu', 'loss': 'mse', 'lr': 0.0003, 'sizes_layer': (300, 300, 300, 300)}\n",
      "-0.006479 (0.000612) with: {'batch_size': 128, 'epochs': 100, 'layer_act': 'relu', 'loss': 'mse', 'lr': 0.01, 'sizes_layer': (150, 150)}\n",
      "-0.167798 (0.103532) with: {'batch_size': 128, 'epochs': 100, 'layer_act': 'relu', 'loss': 'mse', 'lr': 0.01, 'sizes_layer': (200, 200, 200)}\n",
      "-0.668379 (0.070052) with: {'batch_size': 128, 'epochs': 100, 'layer_act': 'relu', 'loss': 'mse', 'lr': 0.01, 'sizes_layer': (300, 300, 300, 300)}\n",
      "-0.016344 (0.000667) with: {'batch_size': 128, 'epochs': 100, 'layer_act': 'relu', 'loss': 'mae', 'lr': 0.0003, 'sizes_layer': (150, 150)}\n",
      "-0.012185 (0.000645) with: {'batch_size': 128, 'epochs': 100, 'layer_act': 'relu', 'loss': 'mae', 'lr': 0.0003, 'sizes_layer': (200, 200, 200)}\n",
      "-0.010151 (0.000294) with: {'batch_size': 128, 'epochs': 100, 'layer_act': 'relu', 'loss': 'mae', 'lr': 0.0003, 'sizes_layer': (300, 300, 300, 300)}\n",
      "-0.040495 (0.005505) with: {'batch_size': 128, 'epochs': 100, 'layer_act': 'relu', 'loss': 'mae', 'lr': 0.01, 'sizes_layer': (150, 150)}\n",
      "-0.055047 (0.009781) with: {'batch_size': 128, 'epochs': 100, 'layer_act': 'relu', 'loss': 'mae', 'lr': 0.01, 'sizes_layer': (200, 200, 200)}\n",
      "-0.223211 (0.021324) with: {'batch_size': 128, 'epochs': 100, 'layer_act': 'relu', 'loss': 'mae', 'lr': 0.01, 'sizes_layer': (300, 300, 300, 300)}\n"
     ]
    }
   ],
   "source": [
    "print(\"Best: %f using %s\" % (grid_results.best_score_, grid_results.best_params_))\n",
    "means = grid_results.cv_results_['mean_test_score']\n",
    "stds = grid_results.cv_results_['std_test_score']\n",
    "params = grid_results.cv_results_['params']\n",
    "for mean, stdev, param in zip(means, stds, params):\n",
    "    print(\"%f (%f) with: %r\" % (mean, stdev, param))"
   ]
  },
  {
   "cell_type": "markdown",
   "id": "7a72d0e0",
   "metadata": {},
   "source": [
    "It could be seen that for the fullyConnected augmented simulator, the best model has the following set of parameters : \n",
    "- Batch_size = 128\n",
    "- epochs = 100\n",
    "- loss criterion = \"mse\"\n",
    "- lr = 3e-4\n",
    "- layer sizes = (300,300,300,300) or four layers with 300 neurons each"
   ]
  }
 ],
 "metadata": {
  "kernelspec": {},
  "language_info": {
   "codemirror_mode": {
    "name": "ipython",
    "version": 3
   },
   "file_extension": ".py",
   "mimetype": "text/x-python",
   "name": "python",
   "nbconvert_exporter": "python",
   "pygments_lexer": "ipython3",
   "version": "3.6.9"
  }
 },
 "nbformat": 4,
 "nbformat_minor": 5
}
