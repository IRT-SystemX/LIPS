{
 "cells": [
  {
   "cell_type": "markdown",
   "id": "5e4f0140-7b4c-4c52-951b-41fd8ba55126",
   "metadata": {},
   "source": [
    "# Load dataset (AirfRANS use case)"
   ]
  },
  {
   "cell_type": "markdown",
   "id": "bc6242e2-8f8e-4201-adb3-98fe9da42238",
   "metadata": {},
   "source": [
    "The aim of this notebook is to download the data and load it using the dedicated Dataset module within LIPS. For more details about the data, we refer to  [this link](https://pytorch-geometric.readthedocs.io/en/latest/generated/torch_geometric.datasets.AirfRANS.html).\n",
    "\n",
    "## Import required packages"
   ]
  },
  {
   "cell_type": "code",
   "execution_count": null,
   "id": "b1e3f6f1-dfad-4da4-bec0-b081931171a9",
   "metadata": {},
   "outputs": [],
   "source": [
    "import time\n",
    "from lips.dataset.airfransDataSet import download_data,AirfRANSDataSet"
   ]
  },
  {
   "cell_type": "markdown",
   "id": "8f056ecc-a936-473b-8ebf-75ed130efb48",
   "metadata": {},
   "source": [
    "## First step: download the dataset"
   ]
  },
  {
   "cell_type": "code",
   "execution_count": null,
   "id": "2a0714d0-9a24-4679-bed1-6d0b002ccda4",
   "metadata": {},
   "outputs": [],
   "source": [
    "DIRECTORY_NAME='Dataset'\n",
    "\n",
    "import os\n",
    "if not os.path.isdir(DIRECTORY_NAME):\n",
    "    download_data(root_path=\".\", directory_name=DIRECTORY_NAME)"
   ]
  },
  {
   "cell_type": "markdown",
   "id": "35307d89-911d-4993-a74f-d57d5fadc82d",
   "metadata": {},
   "source": [
    "## Second step: load the dataset\n",
    "\n",
    "Within the data, we select the quantities we are interested in for this use case"
   ]
  },
  {
   "cell_type": "code",
   "execution_count": null,
   "id": "39a0fa5a-240b-4628-ba40-1c89ce7032de",
   "metadata": {},
   "outputs": [],
   "source": [
    "attr_names = (\n",
    "        'x-position',\n",
    "        'y-position',\n",
    "        'x-inlet_velocity', \n",
    "        'y-inlet_velocity', \n",
    "        'distance_function', \n",
    "        'x-normals', \n",
    "        'y-normals', \n",
    "        'x-velocity', \n",
    "        'y-velocity', \n",
    "        'pressure', \n",
    "        'turbulent_viscosity',\n",
    "    )"
   ]
  },
  {
   "cell_type": "markdown",
   "id": "42c661fb-3034-4dde-945c-60f969c55037",
   "metadata": {},
   "source": [
    "Next, we separate the inputs from the outputs"
   ]
  },
  {
   "cell_type": "code",
   "execution_count": null,
   "id": "f21f07d8-0cf3-4196-90f1-e256d9515bef",
   "metadata": {},
   "outputs": [],
   "source": [
    "attr_x = attr_names[:7]\n",
    "attr_y = attr_names[7:]"
   ]
  },
  {
   "cell_type": "markdown",
   "id": "53bab6dc-f75e-43ce-bf43-8501afa84ffe",
   "metadata": {},
   "source": [
    "We are now in position to instantiate the dataset, the only aspects left to do are to define the required arguments"
   ]
  },
  {
   "cell_type": "code",
   "execution_count": null,
   "id": "7086a5d3-69e4-48d9-a27b-5925e0da2cea",
   "metadata": {},
   "outputs": [],
   "source": [
    "configuration_file = None #Convenient alternative but not required at this point\n",
    "dataset_name = \"my_dataset\"\n",
    "usecase_task = \"scarce\" #Four task are supported: 'full', 'scarce', 'reynolds', 'aoa'\n",
    "usecase_split = \"training\" #Describe which data subset within a task to be used, the other option is testing\n",
    "log_path = \"dataset_log\""
   ]
  },
  {
   "cell_type": "code",
   "execution_count": null,
   "id": "51b89505-318a-4f25-bcce-6ac6cac6dc9d",
   "metadata": {},
   "outputs": [],
   "source": [
    "my_dataset = AirfRANSDataSet(config = configuration_file, \n",
    "                             name = dataset_name,\n",
    "                             task = usecase_task,\n",
    "                             split = usecase_split,\n",
    "                             attr_names = attr_names, \n",
    "                             attr_x = attr_x, \n",
    "                             attr_y = attr_y, \n",
    "                             log_path = log_path)"
   ]
  },
  {
   "cell_type": "markdown",
   "id": "1602f3fe-7358-4593-943b-5ad0c89101f3",
   "metadata": {},
   "source": [
    "Finally, we load the dataset"
   ]
  },
  {
   "cell_type": "code",
   "execution_count": null,
   "id": "8cb5a65b-2ab0-41c7-a7a5-7018a6e57eb8",
   "metadata": {},
   "outputs": [],
   "source": [
    "start_time = time.time()\n",
    "my_dataset.load(path = DIRECTORY_NAME)\n",
    "end_time = time.time() - start_time\n",
    "print(\"Loaded in %.2E s\" %end_time)"
   ]
  },
  {
   "cell_type": "markdown",
   "id": "6c866e1b-c015-4522-903f-b988f0792a1b",
   "metadata": {},
   "source": [
    "It is possible to assess the content of the dataset:"
   ]
  },
  {
   "cell_type": "code",
   "execution_count": null,
   "id": "19162900-79ed-4064-aacd-c5e20f9fb8e9",
   "metadata": {},
   "outputs": [],
   "source": [
    "print(my_dataset)"
   ]
  },
  {
   "cell_type": "markdown",
   "id": "f2220905-a95d-45a1-a66b-2bd5ff0fd192",
   "metadata": {},
   "source": [
    "To save it/reload it (reloading the dataset after saving it it faster than loading it the first time)"
   ]
  },
  {
   "cell_type": "code",
   "execution_count": null,
   "id": "2a77001c-8ae5-47aa-b15f-aeec1f0f1090",
   "metadata": {},
   "outputs": [],
   "source": [
    "from lips.dataset.airfransDataSet import save_internal,reload_dataset"
   ]
  },
  {
   "cell_type": "code",
   "execution_count": null,
   "id": "4a55acea-1f6d-474e-905a-dba6e5a5701f",
   "metadata": {},
   "outputs": [],
   "source": [
    "save_internal(dataset=my_dataset,path_out=\"AirfRANSDataset\")"
   ]
  },
  {
   "cell_type": "code",
   "execution_count": null,
   "id": "2d03e1c0-974f-4317-a066-874c2b1a3871",
   "metadata": {},
   "outputs": [],
   "source": [
    "start_time = time.time()\n",
    "reloaded_dataset=reload_dataset(path_in = \"AirfRANSDataset\",\n",
    "                              name = dataset_name,\n",
    "                              task = usecase_task,\n",
    "                              split = usecase_split,\n",
    "                              attr_x = attr_x, \n",
    "                              attr_y = attr_y)\n",
    "end_time = time.time() - start_time\n",
    "\n",
    "print(reloaded_dataset, \"Loaded in %.2E s\" %end_time)"
   ]
  },
  {
   "cell_type": "code",
   "execution_count": null,
   "id": "218dbb65-906a-4379-a51d-a975178be3ce",
   "metadata": {},
   "outputs": [],
   "source": [
    "assert my_dataset==reloaded_dataset,\"Datasets should be the same!\""
   ]
  }
 ],
 "metadata": {
  "kernelspec": {
   "display_name": "Python 3 (ipykernel)",
   "language": "python",
   "name": "python3"
  },
  "language_info": {
   "codemirror_mode": {
    "name": "ipython",
    "version": 3
   },
   "file_extension": ".py",
   "mimetype": "text/x-python",
   "name": "python",
   "nbconvert_exporter": "python",
   "pygments_lexer": "ipython3",
   "version": "3.8.17"
  }
 },
 "nbformat": 4,
 "nbformat_minor": 5
}
