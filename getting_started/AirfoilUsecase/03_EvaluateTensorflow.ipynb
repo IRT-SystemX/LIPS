{
 "cells": [
  {
   "cell_type": "markdown",
   "metadata": {},
   "source": [
    "# Using Tensorflow library for Airfoil use case"
   ]
  },
  {
   "cell_type": "code",
   "execution_count": null,
   "metadata": {},
   "outputs": [],
   "source": [
    "import os\n",
    "import matplotlib.pyplot as plt\n",
    "from lips import get_root_path\n",
    "from lips.dataset.airfransDataSet import download_data\n",
    "from lips.benchmark.airfransBenchmark import AirfRANSBenchmark"
   ]
  },
  {
   "cell_type": "code",
   "execution_count": 2,
   "metadata": {},
   "outputs": [],
   "source": [
    "# Use a GPU\n",
    "import tensorflow as tf\n",
    "gpus = tf.config.experimental.list_physical_devices('GPU')\n",
    "if gpus:\n",
    "  # Restrict TensorFlow to only use the first GPU\n",
    "    try:\n",
    "        tf.config.experimental.set_visible_devices(gpus[0], 'GPU')\n",
    "    except RuntimeError as e:\n",
    "        # Visible devices must be set at program startup\n",
    "        print(e)"
   ]
  },
  {
   "cell_type": "code",
   "execution_count": 3,
   "metadata": {},
   "outputs": [
    {
     "data": {
      "text/plain": [
       "[PhysicalDevice(name='/physical_device:CPU:0', device_type='CPU'),\n",
       " PhysicalDevice(name='/physical_device:GPU:0', device_type='GPU')]"
      ]
     },
     "execution_count": 3,
     "metadata": {},
     "output_type": "execute_result"
    }
   ],
   "source": [
    "# see the list of selected devices\n",
    "tf.config.experimental.get_visible_devices()"
   ]
  },
  {
   "cell_type": "code",
   "execution_count": 4,
   "metadata": {},
   "outputs": [],
   "source": [
    "# indicate required paths\n",
    "LIPS_PATH = get_root_path()\n",
    "DIRECTORY_NAME = 'Dataset'\n",
    "BENCHMARK_NAME = \"Case1\"\n",
    "LOG_PATH = LIPS_PATH + \"lips_logs.log\""
   ]
  },
  {
   "cell_type": "code",
   "execution_count": 5,
   "metadata": {},
   "outputs": [],
   "source": [
    "BENCH_CONFIG_PATH = LIPS_PATH + os.path.join(\"..\",\"configurations\",\"airfoil\",\"benchmarks\",\"confAirfoil.ini\") #Configuration file related to the benchmark\n",
    "SIM_CONFIG_PATH = LIPS_PATH + os.path.join(\"..\",\"configurations\",\"airfoil\",\"simulators\",\"tf_fc.ini\") #Configuration file related to the simulator"
   ]
  },
  {
   "cell_type": "code",
   "execution_count": null,
   "metadata": {},
   "outputs": [],
   "source": [
    "benchmark=AirfRANSBenchmark(benchmark_path = DIRECTORY_NAME,\n",
    "                            config_path = BENCH_CONFIG_PATH,\n",
    "                            benchmark_name = BENCHMARK_NAME,\n",
    "                            log_path = LOG_PATH)\n",
    "benchmark.load(path=DIRECTORY_NAME)"
   ]
  },
  {
   "cell_type": "code",
   "execution_count": 7,
   "metadata": {},
   "outputs": [
    {
     "name": "stdout",
     "output_type": "stream",
     "text": [
      "Input attributes (features):  ('x-position', 'y-position', 'x-inlet_velocity', 'y-inlet_velocity', 'distance_function', 'x-normals', 'y-normals')\n",
      "Output attributes (targets):  ('x-velocity', 'y-velocity', 'pressure', 'turbulent_viscosity')\n"
     ]
    }
   ],
   "source": [
    "print(\"Input attributes (features): \", benchmark.config.get_option(\"attr_x\"))\n",
    "print(\"Output attributes (targets): \", benchmark.config.get_option(\"attr_y\"))"
   ]
  },
  {
   "cell_type": "code",
   "execution_count": 11,
   "metadata": {},
   "outputs": [],
   "source": [
    "from lips.augmented_simulators.tensorflow_models.airfoil.fully_connected import TfFullyConnectedAirfoil\n",
    "from lips.dataset.scaler import StandardScaler\n",
    "\n",
    "tf_fc = TfFullyConnectedAirfoil(name=\"tf_fc\",\n",
    "                                bench_config_path=BENCH_CONFIG_PATH,\n",
    "                                bench_config_name=BENCHMARK_NAME,\n",
    "                                sim_config_path=SIM_CONFIG_PATH,\n",
    "                                sim_config_name=\"DEFAULT\",\n",
    "                                scaler=StandardScaler,\n",
    "                                log_path=LOG_PATH)"
   ]
  },
  {
   "cell_type": "code",
   "execution_count": null,
   "metadata": {},
   "outputs": [],
   "source": [
    "tf_fc.train(train_dataset=benchmark.train_dataset,\n",
    "            epochs=200\n",
    "           )"
   ]
  },
  {
   "cell_type": "code",
   "execution_count": 52,
   "metadata": {},
   "outputs": [
    {
     "data": {
      "image/png": "[encoded data removed]",
      "text/plain": [
       "<Figure size 640x480 with 1 Axes>"
      ]
     },
     "metadata": {},
     "output_type": "display_data"
    }
   ],
   "source": [
    "plt.plot(tf_fc.train_losses)\n",
    "plt.xlabel(\"Epochs\")\n",
    "plt.ylabel(\"MSE loss\")\n",
    "plt.grid()\n",
    "plt.show()"
   ]
  },
  {
   "cell_type": "code",
   "execution_count": 53,
   "metadata": {},
   "outputs": [
    {
     "name": "stdout",
     "output_type": "stream",
     "text": [
      "Number of parameters : 19604\n"
     ]
    }
   ],
   "source": [
    "print(\"Number of parameters :\", tf_fc.count_parameters())"
   ]
  },
  {
   "cell_type": "code",
   "execution_count": null,
   "metadata": {},
   "outputs": [],
   "source": [
    "tf_fc.summary()"
   ]
  },
  {
   "cell_type": "markdown",
   "metadata": {},
   "source": [
    "### Evaluation"
   ]
  },
  {
   "cell_type": "markdown",
   "metadata": {},
   "source": [
    "#### Evaluate without LIPS"
   ]
  },
  {
   "cell_type": "code",
   "execution_count": null,
   "metadata": {},
   "outputs": [],
   "source": [
    "# import metrics\n",
    "from sklearn.metrics import mean_absolute_error, mean_absolute_percentage_error, mean_squared_error"
   ]
  },
  {
   "cell_type": "code",
   "execution_count": 54,
   "metadata": {},
   "outputs": [],
   "source": [
    "# perform predictions\n",
    "predictions = tf_fc.predict(benchmark._test_dataset)"
   ]
  },
  {
   "cell_type": "code",
   "execution_count": 55,
   "metadata": {},
   "outputs": [
    {
     "name": "stdout",
     "output_type": "stream",
     "text": [
      "MAE x-velocity : 11.510057248820305\n",
      "MSE x-velocity : 379.7969272690724\n",
      "MAE y-velocity : 8.1926600307695\n",
      "MSE y-velocity : 364.7702359287913\n",
      "MAE pressure : 706.4891012240201\n",
      "MSE pressure : 4500353.282501297\n",
      "MAE turbulent_viscosity : 0.0056760896314327755\n",
      "MSE turbulent_viscosity : 9.305277791379357e-05\n"
     ]
    }
   ],
   "source": [
    "# Perform Evaluation\n",
    "for attr_ in benchmark.config.get_option(\"attr_y\"):\n",
    "    print(\"MAE\", attr_, \":\", mean_absolute_error(benchmark._test_dataset.data[attr_], predictions[attr_]))\n",
    "    print(\"MSE\", attr_, \":\", mean_squared_error(benchmark._test_dataset.data[attr_], predictions[attr_]))\n",
    "    #print(\"MAPE\", attr_, \":\", mean_absolute_percentage_error(benchmark._test_dataset.data[attr_], predictions[attr_]))"
   ]
  },
  {
   "cell_type": "markdown",
   "metadata": {},
   "source": [
    "#### Evaluate with LIPS"
   ]
  },
  {
   "cell_type": "code",
   "execution_count": 62,
   "metadata": {},
   "outputs": [],
   "source": [
    "# TODO: log the losses\n",
    "# EVAL_SAVE_PATH = get_path(EVALUATION_PATH, benchmark1)\n",
    "tf_fc_metrics = benchmark.evaluate_simulator(augmented_simulator=tf_fc,\n",
    "                                             eval_batch_size=256000,\n",
    "                                             dataset=\"test\",\n",
    "                                             shuffle=False,\n",
    "                                             save_path=None,\n",
    "                                             save_predictions=False\n",
    "                                            )"
   ]
  },
  {
   "cell_type": "code",
   "execution_count": 21,
   "metadata": {},
   "outputs": [
    {
     "data": {
      "text/plain": [
       "{'test': {'ML': {'MSE': {'x-velocity': 272.23467037559135,\n",
       "    'y-velocity': 271.8989492690839,\n",
       "    'pressure': 3711146.864414714,\n",
       "    'turbulent_viscosity': 0.0008568147359750647},\n",
       "   'MSE_surfacic': {'pressure': 0.0008568147359750647},\n",
       "   'MAPE': {'x-velocity': 221063702794075.84,\n",
       "    'y-velocity': 213079396602493.28,\n",
       "    'pressure': 8.785509375425688,\n",
       "    'turbulent_viscosity': 865561655969.5411},\n",
       "   'MAPE_surfacic': {'pressure': 865561655969.5411}},\n",
       "  'Physics': {'spearman_correlation_drag': 0.16308407710192757,\n",
       "   'spearman_correlation_lift': 0.7530428260706519,\n",
       "   'mean_relative_drag': 22.901577984573937,\n",
       "   'std_relative_drag': 10.140640623544623,\n",
       "   'mean_relative_lift': 1.2876093190592994,\n",
       "   'std_relative_lift': 3.197885752306768},\n",
       "  'IndRed': {}}}"
      ]
     },
     "execution_count": 21,
     "metadata": {},
     "output_type": "execute_result"
    }
   ],
   "source": [
    "tf_fc_metrics"
   ]
  }
 ],
 "metadata": {
  "kernelspec": {
   "display_name": "Python 3 (ipykernel)",
   "language": "python",
   "name": "python3"
  },
  "language_info": {
   "codemirror_mode": {
    "name": "ipython",
    "version": 3
   },
   "file_extension": ".py",
   "mimetype": "text/x-python",
   "name": "python",
   "nbconvert_exporter": "python",
   "pygments_lexer": "ipython3",
   "version": "3.8.10"
  }
 },
 "nbformat": 4,
 "nbformat_minor": 2
}
