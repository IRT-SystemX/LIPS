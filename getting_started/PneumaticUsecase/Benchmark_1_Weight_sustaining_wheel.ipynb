{
 "cells": [
  {
   "cell_type": "markdown",
   "id": "3f58f35b",
   "metadata": {},
   "source": [
    "# Import all dependencies\n",
    "\n",
    "We import all the dependencies required to run the benchmark"
   ]
  },
  {
   "cell_type": "code",
   "execution_count": null,
   "id": "ec77ba2d",
   "metadata": {},
   "outputs": [],
   "source": [
    "from lips.config.configmanager import ConfigManager\n",
    "from lips.augmented_simulators.torch_models.u_net import TorchUnet\n",
    "from lips.augmented_simulators.torch_models.fully_connected import TorchFullyConnected\n",
    "from lips.augmented_simulators.torch_simulator import TorchSimulator\n",
    "from lips.dataset.sampler import LHSSampler\n",
    "from lips.dataset.scaler.standard_scaler_per_channel import StandardScalerPerChannel\n",
    "from lips.dataset.scaler.standard_scaler import StandardScaler\n",
    "\n",
    "from lips.physical_simulator.getfemSimulator import GetfemSimulator\n",
    "import lips.physical_simulator.GetfemSimulator.PhysicalFieldNames as PFN\n",
    "\n",
    "from lips.benchmark.wheelBenchmark import WeightSustainingWheelBenchmark\n",
    "from lips.dataset.pneumaticWheelDataSet import SamplerStaticWheelDataSet,DataSetInterpolatorOnGrid,DataSetInterpolatorOnMesh\n",
    "from lips import get_root_path\n",
    "import os"
   ]
  },
  {
   "cell_type": "markdown",
   "id": "42246f55",
   "metadata": {},
   "source": [
    "# Constant definition\n",
    "\n",
    "We defined the constants used all through the program"
   ]
  },
  {
   "cell_type": "code",
   "execution_count": null,
   "id": "7a9d9800",
   "metadata": {},
   "outputs": [],
   "source": [
    "CONFIG_PATH_BENCHMARK=get_root_path()+os.path.join(\"..\",\"configurations\",\"pneumatic\",\"benchmarks\",\"confWheel.ini\")"
   ]
  },
  {
   "cell_type": "markdown",
   "id": "2f334b2a",
   "metadata": {},
   "source": [
    "# Datasets generation\n",
    "\n",
    "We generate the train/test and validation datasets"
   ]
  },
  {
   "cell_type": "code",
   "execution_count": null,
   "id": "cb71fbba",
   "metadata": {},
   "outputs": [],
   "source": [
    "wheel_config=ConfigManager(path=CONFIG_PATH_BENCHMARK,\n",
    "                              section_name=\"WeightSustainingWheelBenchmarkRegular\")\n",
    "\n",
    "print(wheel_config)"
   ]
  },
  {
   "cell_type": "code",
   "execution_count": null,
   "id": "3df6bc46",
   "metadata": {},
   "outputs": [],
   "source": [
    "env_params=wheel_config.get_option(\"env_params\")\n",
    "physical_domain=env_params.get(\"physical_domain\")\n",
    "physical_properties=env_params.get(\"physical_properties\")\n",
    "simulator=GetfemSimulator(physical_domain=physical_domain,physical_properties=physical_properties)"
   ]
  },
  {
   "cell_type": "markdown",
   "id": "a1961887",
   "metadata": {},
   "source": [
    "# Sampler generation"
   ]
  },
  {
   "cell_type": "code",
   "execution_count": null,
   "id": "7fcb8a8c",
   "metadata": {},
   "outputs": [],
   "source": [
    "sampler=wheel_config.get_option(\"sampler\")\n",
    "sampler_input_params=sampler.get(\"sampler_input_params\")\n",
    "sampler_seeds=sampler.get(\"seeds\")\n",
    "sampler_nb_samples=sampler.get(\"nb_samples\")\n",
    "\n",
    "lhs_sampler=LHSSampler(space_params=sampler_input_params)\n",
    "print(lhs_sampler)"
   ]
  },
  {
   "cell_type": "markdown",
   "id": "80e7c453",
   "metadata": {},
   "source": [
    "# Training dataset generation"
   ]
  },
  {
   "cell_type": "code",
   "execution_count": null,
   "id": "69612ef7",
   "metadata": {},
   "outputs": [],
   "source": [
    "attr_names=(PFN.displacement,)\n",
    "DATA_PATH=\"WeightSustainingWheelBenchmarkRegular\"\n",
    "\n",
    "pneumatic_wheel_dataset_train=SamplerStaticWheelDataSet(\"train\",attr_names=attr_names,config=wheel_config)\n",
    "pneumatic_wheel_dataset_train.generate(simulator=simulator,\n",
    "                                    actor=lhs_sampler,\n",
    "                                    nb_samples=sampler_nb_samples.get(\"train\"),\n",
    "                                    actor_seed=sampler_seeds.get(\"train\"),\n",
    "                                    path_out=DATA_PATH\n",
    "                                    )"
   ]
  },
  {
   "cell_type": "code",
   "execution_count": null,
   "id": "4e63c3d3",
   "metadata": {},
   "outputs": [],
   "source": [
    "pneumatic_wheel_dataset_val=SamplerStaticWheelDataSet(\"val\",attr_names=attr_names,config=wheel_config)\n",
    "pneumatic_wheel_dataset_val.generate(simulator=simulator,\n",
    "                                    actor=lhs_sampler,\n",
    "                                    nb_samples=sampler_nb_samples.get(\"val\"),\n",
    "                                    actor_seed=sampler_seeds.get(\"val\"),\n",
    "                                    path_out=DATA_PATH\n",
    "                                    )"
   ]
  },
  {
   "cell_type": "code",
   "execution_count": null,
   "id": "7345617e",
   "metadata": {},
   "outputs": [],
   "source": [
    "pneumatic_wheel_dataset_test=SamplerStaticWheelDataSet(\"test\",attr_names=attr_names,config=wheel_config)\n",
    "pneumatic_wheel_dataset_test.generate(simulator=simulator,\n",
    "                                    actor=lhs_sampler,\n",
    "                                    nb_samples=sampler_nb_samples.get(\"test\"),\n",
    "                                    actor_seed=sampler_seeds.get(\"test\"),\n",
    "                                    path_out=DATA_PATH\n",
    "                                    )"
   ]
  },
  {
   "cell_type": "markdown",
   "id": "8f4728a8",
   "metadata": {},
   "source": [
    "# Start training with FC architecture"
   ]
  },
  {
   "cell_type": "code",
   "execution_count": null,
   "id": "5464d437",
   "metadata": {},
   "outputs": [],
   "source": [
    "LOG_PATH=\"WeightSustainingFFNN.log\"\n",
    "CONFIG_PATH_AUGMENTED_SIMULATOR_FC=get_root_path()+os.path.join(\"..\",\"configurations\",\"pneumatic\",\"simulators\",\"torch_fc.ini\")\n",
    "DATA_PATH=\".\"\n",
    "\n",
    "benchmark_ffnn = WeightSustainingWheelBenchmark(benchmark_name=\"WeightSustainingWheelBenchmarkRegular\",\n",
    "                                benchmark_path=DATA_PATH,\n",
    "                                load_data_set=True,\n",
    "                                log_path=LOG_PATH,\n",
    "                                config_path=CONFIG_PATH_BENCHMARK\n",
    "                               )\n",
    "\n",
    "torch_sim = TorchSimulator(name=\"torch_ffnn\",\n",
    "                           model=TorchFullyConnected,\n",
    "                           scaler=StandardScaler,\n",
    "                           log_path=LOG_PATH,\n",
    "                           seed=42,\n",
    "                           sim_config_path=CONFIG_PATH_AUGMENTED_SIMULATOR_FC,\n",
    "                           bench_config_path=CONFIG_PATH_BENCHMARK\n",
    "                          )\n",
    "\n",
    "SAVE_PATH=get_root_path()+os.path.join(\"..\",\"getting_started\",\"TestBenchmarkWheel\",\"FFNNResults\")\n",
    "SAVE_PATH=get_root_path()+os.path.join(\"..\",\"getting_started\",\"TestBenchmarkWheel\",\"FFNNResults\")\n",
    "\n",
    "\n",
    "torch_sim_config=ConfigManager(path=CONFIG_PATH_AUGMENTED_SIMULATOR_FC,\n",
    "                              section_name=\"CONFIGWHEELSUSTAIN\")"
   ]
  },
  {
   "cell_type": "code",
   "execution_count": null,
   "id": "0761330e",
   "metadata": {
    "scrolled": true
   },
   "outputs": [],
   "source": [
    "torch_sim.params"
   ]
  },
  {
   "cell_type": "code",
   "execution_count": null,
   "id": "62416578",
   "metadata": {},
   "outputs": [
    {
     "name": "stdout",
     "output_type": "stream",
     "text": [
      "Eval:   Avg_Loss: 0.00325 ['MAELoss: 0.03285']\n",
      "Train Epoch: 107   Avg_Loss: 0.00139 ['MAELoss: 0.02172']\n",
      "Eval:   Avg_Loss: 0.00318 ['MAELoss: 0.03247']\n",
      "Train Epoch: 108   Avg_Loss: 0.00137 ['MAELoss: 0.02151']\n",
      "Eval:   Avg_Loss: 0.00312 ['MAELoss: 0.03210']\n",
      "Train Epoch: 109   Avg_Loss: 0.00135 ['MAELoss: 0.02129']\n",
      "Eval:   Avg_Loss: 0.00307 ['MAELoss: 0.03175']\n",
      "Train Epoch: 110   Avg_Loss: 0.00133 ['MAELoss: 0.02108']\n",
      "Eval:   Avg_Loss: 0.00302 ['MAELoss: 0.03143']\n",
      "Train Epoch: 111   Avg_Loss: 0.00130 ['MAELoss: 0.02086']\n",
      "Eval:   Avg_Loss: 0.00299 ['MAELoss: 0.03112']\n",
      "Train Epoch: 112   Avg_Loss: 0.00128 ['MAELoss: 0.02065']\n",
      "Eval:   Avg_Loss: 0.00296 ['MAELoss: 0.03082']\n",
      "Train Epoch: 113   Avg_Loss: 0.00126 ['MAELoss: 0.02043']\n",
      "Eval:   Avg_Loss: 0.00293 ['MAELoss: 0.03051']\n",
      "Train Epoch: 114   Avg_Loss: 0.00124 ['MAELoss: 0.02021']\n",
      "Eval:   Avg_Loss: 0.00289 ['MAELoss: 0.03020']\n",
      "Train Epoch: 115   Avg_Loss: 0.00122 ['MAELoss: 0.02000']\n",
      "Eval:   Avg_Loss: 0.00285 ['MAELoss: 0.02988']\n",
      "Train Epoch: 116   Avg_Loss: 0.00121 ['MAELoss: 0.01980']\n",
      "Eval:   Avg_Loss: 0.00280 ['MAELoss: 0.02956']\n",
      "Train Epoch: 117   Avg_Loss: 0.00119 ['MAELoss: 0.01961']\n",
      "Eval:   Avg_Loss: 0.00275 ['MAELoss: 0.02926']\n",
      "Train Epoch: 118   Avg_Loss: 0.00117 ['MAELoss: 0.01944']\n",
      "Eval:   Avg_Loss: 0.00270 ['MAELoss: 0.02895']\n",
      "Train Epoch: 119   Avg_Loss: 0.00115 ['MAELoss: 0.01926']\n",
      "Eval:   Avg_Loss: 0.00265 ['MAELoss: 0.02866']\n",
      "Train Epoch: 120   Avg_Loss: 0.00113 ['MAELoss: 0.01909']\n",
      "Eval:   Avg_Loss: 0.00261 ['MAELoss: 0.02839']\n",
      "Train Epoch: 121   Avg_Loss: 0.00112 ['MAELoss: 0.01893']\n",
      "Eval:   Avg_Loss: 0.00258 ['MAELoss: 0.02813']\n",
      "Train Epoch: 122   Avg_Loss: 0.00110 ['MAELoss: 0.01876']\n",
      "Eval:   Avg_Loss: 0.00254 ['MAELoss: 0.02787']\n",
      "Train Epoch: 123   Avg_Loss: 0.00108 ['MAELoss: 0.01859']\n",
      "Eval:   Avg_Loss: 0.00251 ['MAELoss: 0.02762']\n",
      "Train Epoch: 124   Avg_Loss: 0.00106 ['MAELoss: 0.01842']\n",
      "Eval:   Avg_Loss: 0.00247 ['MAELoss: 0.02736']\n",
      "Train Epoch: 125   Avg_Loss: 0.00105 ['MAELoss: 0.01826']\n",
      "Eval:   Avg_Loss: 0.00243 ['MAELoss: 0.02709']\n",
      "Train Epoch: 126   Avg_Loss: 0.00103 ['MAELoss: 0.01810']\n",
      "Eval:   Avg_Loss: 0.00239 ['MAELoss: 0.02682']\n",
      "Train Epoch: 127   Avg_Loss: 0.00101 ['MAELoss: 0.01794']\n",
      "Eval:   Avg_Loss: 0.00234 ['MAELoss: 0.02655']\n",
      "Train Epoch: 128   Avg_Loss: 0.00100 ['MAELoss: 0.01778']\n",
      "Eval:   Avg_Loss: 0.00229 ['MAELoss: 0.02627']\n",
      "Train Epoch: 129   Avg_Loss: 0.00098 ['MAELoss: 0.01762']\n",
      "Eval:   Avg_Loss: 0.00225 ['MAELoss: 0.02601']\n",
      "Train Epoch: 130   Avg_Loss: 0.00096 ['MAELoss: 0.01746']\n",
      "Eval:   Avg_Loss: 0.00222 ['MAELoss: 0.02574']\n",
      "Train Epoch: 131   Avg_Loss: 0.00095 ['MAELoss: 0.01729']\n",
      "Eval:   Avg_Loss: 0.00218 ['MAELoss: 0.02547']\n",
      "Train Epoch: 132   Avg_Loss: 0.00093 ['MAELoss: 0.01714']\n",
      "Eval:   Avg_Loss: 0.00215 ['MAELoss: 0.02522']\n",
      "Train Epoch: 133   Avg_Loss: 0.00092 ['MAELoss: 0.01698']\n",
      "Eval:   Avg_Loss: 0.00212 ['MAELoss: 0.02498']\n",
      "Train Epoch: 134   Avg_Loss: 0.00090 ['MAELoss: 0.01683']\n",
      "Eval:   Avg_Loss: 0.00209 ['MAELoss: 0.02474']\n",
      "Train Epoch: 135   Avg_Loss: 0.00089 ['MAELoss: 0.01668']\n",
      "Eval:   Avg_Loss: 0.00205 ['MAELoss: 0.02451']\n",
      "Train Epoch: 136   Avg_Loss: 0.00087 ['MAELoss: 0.01654']\n",
      "Eval:   Avg_Loss: 0.00202 ['MAELoss: 0.02429']\n",
      "Train Epoch: 137   Avg_Loss: 0.00086 ['MAELoss: 0.01641']\n",
      "Eval:   Avg_Loss: 0.00199 ['MAELoss: 0.02408']\n",
      "Train Epoch: 138   Avg_Loss: 0.00085 ['MAELoss: 0.01628']\n",
      "Eval:   Avg_Loss: 0.00196 ['MAELoss: 0.02386']\n",
      "Train Epoch: 139   Avg_Loss: 0.00084 ['MAELoss: 0.01615']\n",
      "Eval:   Avg_Loss: 0.00193 ['MAELoss: 0.02364']\n",
      "Train Epoch: 140   Avg_Loss: 0.00082 ['MAELoss: 0.01602']\n",
      "Eval:   Avg_Loss: 0.00190 ['MAELoss: 0.02342']\n",
      "Train Epoch: 141   Avg_Loss: 0.00081 ['MAELoss: 0.01588']\n",
      "Eval:   Avg_Loss: 0.00188 ['MAELoss: 0.02324']\n",
      "Train Epoch: 142   Avg_Loss: 0.00080 ['MAELoss: 0.01574']\n",
      "Eval:   Avg_Loss: 0.00185 ['MAELoss: 0.02306']\n",
      "Train Epoch: 143   Avg_Loss: 0.00079 ['MAELoss: 0.01561']\n",
      "Eval:   Avg_Loss: 0.00184 ['MAELoss: 0.02290']\n",
      "Train Epoch: 144   Avg_Loss: 0.00077 ['MAELoss: 0.01548']\n",
      "Eval:   Avg_Loss: 0.00182 ['MAELoss: 0.02275']\n",
      "Train Epoch: 145   Avg_Loss: 0.00076 ['MAELoss: 0.01536']\n",
      "Eval:   Avg_Loss: 0.00180 ['MAELoss: 0.02258']\n",
      "Train Epoch: 146   Avg_Loss: 0.00075 ['MAELoss: 0.01523']\n",
      "Eval:   Avg_Loss: 0.00177 ['MAELoss: 0.02241']\n",
      "Train Epoch: 147   Avg_Loss: 0.00074 ['MAELoss: 0.01511']\n",
      "Eval:   Avg_Loss: 0.00175 ['MAELoss: 0.02223']\n",
      "Train Epoch: 148   Avg_Loss: 0.00073 ['MAELoss: 0.01500']\n",
      "Eval:   Avg_Loss: 0.00172 ['MAELoss: 0.02204']\n",
      "Train Epoch: 149   Avg_Loss: 0.00072 ['MAELoss: 0.01488']\n",
      "Eval:   Avg_Loss: 0.00170 ['MAELoss: 0.02187']\n",
      "Train Epoch: 150   Avg_Loss: 0.00071 ['MAELoss: 0.01477']\n",
      "Eval:   Avg_Loss: 0.00167 ['MAELoss: 0.02171']\n",
      "Train Epoch: 151   Avg_Loss: 0.00070 ['MAELoss: 0.01465']\n",
      "Eval:   Avg_Loss: 0.00165 ['MAELoss: 0.02155']\n",
      "Train Epoch: 152   Avg_Loss: 0.00069 ['MAELoss: 0.01454']\n",
      "Eval:   Avg_Loss: 0.00163 ['MAELoss: 0.02141']\n",
      "Train Epoch: 153   Avg_Loss: 0.00068 ['MAELoss: 0.01443']\n",
      "Eval:   Avg_Loss: 0.00162 ['MAELoss: 0.02127']\n",
      "Train Epoch: 154   Avg_Loss: 0.00067 ['MAELoss: 0.01431']\n",
      "Eval:   Avg_Loss: 0.00160 ['MAELoss: 0.02114']\n",
      "Train Epoch: 155   Avg_Loss: 0.00066 ['MAELoss: 0.01420']\n",
      "Eval:   Avg_Loss: 0.00158 ['MAELoss: 0.02099']\n",
      "Train Epoch: 156   Avg_Loss: 0.00065 ['MAELoss: 0.01408']\n",
      "Eval:   Avg_Loss: 0.00156 ['MAELoss: 0.02084']\n",
      "Train Epoch: 157   Avg_Loss: 0.00064 ['MAELoss: 0.01397']\n",
      "Eval:   Avg_Loss: 0.00154 ['MAELoss: 0.02070']\n",
      "Train Epoch: 158   Avg_Loss: 0.00063 ['MAELoss: 0.01386']\n",
      "Eval:   Avg_Loss: 0.00152 ['MAELoss: 0.02058']\n",
      "Train Epoch: 159   Avg_Loss: 0.00062 ['MAELoss: 0.01375']\n",
      "Eval:   Avg_Loss: 0.00150 ['MAELoss: 0.02043']\n",
      "Train Epoch: 160   Avg_Loss: 0.00061 ['MAELoss: 0.01365']\n",
      "Eval:   Avg_Loss: 0.00148 ['MAELoss: 0.02030']\n",
      "Train Epoch: 161   Avg_Loss: 0.00060 ['MAELoss: 0.01354']\n",
      "Eval:   Avg_Loss: 0.00147 ['MAELoss: 0.02017']\n",
      "Train Epoch: 162   Avg_Loss: 0.00059 ['MAELoss: 0.01344']\n",
      "Eval:   Avg_Loss: 0.00145 ['MAELoss: 0.02005']\n",
      "Train Epoch: 163   Avg_Loss: 0.00058 ['MAELoss: 0.01334']\n",
      "Eval:   Avg_Loss: 0.00144 ['MAELoss: 0.01993']\n",
      "Train Epoch: 164   Avg_Loss: 0.00057 ['MAELoss: 0.01324']\n",
      "Eval:   Avg_Loss: 0.00142 ['MAELoss: 0.01982']\n",
      "Train Epoch: 165   Avg_Loss: 0.00056 ['MAELoss: 0.01315']\n",
      "Eval:   Avg_Loss: 0.00140 ['MAELoss: 0.01971']\n",
      "Train Epoch: 166   Avg_Loss: 0.00055 ['MAELoss: 0.01305']\n",
      "Eval:   Avg_Loss: 0.00139 ['MAELoss: 0.01962']\n",
      "Train Epoch: 167   Avg_Loss: 0.00055 ['MAELoss: 0.01295']\n",
      "Eval:   Avg_Loss: 0.00138 ['MAELoss: 0.01953']\n",
      "Train Epoch: 168   Avg_Loss: 0.00054 ['MAELoss: 0.01285']\n",
      "Eval:   Avg_Loss: 0.00137 ['MAELoss: 0.01942']\n",
      "Train Epoch: 169   Avg_Loss: 0.00053 ['MAELoss: 0.01275']\n",
      "Eval:   Avg_Loss: 0.00135 ['MAELoss: 0.01932']\n",
      "Train Epoch: 170   Avg_Loss: 0.00052 ['MAELoss: 0.01266']\n",
      "Eval:   Avg_Loss: 0.00134 ['MAELoss: 0.01923']\n",
      "Train Epoch: 171   Avg_Loss: 0.00051 ['MAELoss: 0.01258']\n",
      "Eval:   Avg_Loss: 0.00132 ['MAELoss: 0.01909']\n",
      "Train Epoch: 172   Avg_Loss: 0.00051 ['MAELoss: 0.01249']\n",
      "Eval:   Avg_Loss: 0.00130 ['MAELoss: 0.01897']\n",
      "Train Epoch: 173   Avg_Loss: 0.00050 ['MAELoss: 0.01241']\n",
      "Eval:   Avg_Loss: 0.00128 ['MAELoss: 0.01886']\n",
      "Train Epoch: 174   Avg_Loss: 0.00049 ['MAELoss: 0.01234']\n",
      "Eval:   Avg_Loss: 0.00127 ['MAELoss: 0.01871']\n",
      "Train Epoch: 175   Avg_Loss: 0.00048 ['MAELoss: 0.01225']\n",
      "Eval:   Avg_Loss: 0.00125 ['MAELoss: 0.01858']\n",
      "Train Epoch: 176   Avg_Loss: 0.00048 ['MAELoss: 0.01217']\n",
      "Eval:   Avg_Loss: 0.00123 ['MAELoss: 0.01842']\n",
      "Train Epoch: 177   Avg_Loss: 0.00047 ['MAELoss: 0.01209']\n",
      "Eval:   Avg_Loss: 0.00121 ['MAELoss: 0.01829']\n",
      "Train Epoch: 178   Avg_Loss: 0.00046 ['MAELoss: 0.01203']\n",
      "Eval:   Avg_Loss: 0.00119 ['MAELoss: 0.01814']\n",
      "Train Epoch: 179   Avg_Loss: 0.00046 ['MAELoss: 0.01192']\n",
      "Eval:   Avg_Loss: 0.00118 ['MAELoss: 0.01802']\n",
      "Train Epoch: 180   Avg_Loss: 0.00045 ['MAELoss: 0.01183']\n",
      "Eval:   Avg_Loss: 0.00117 ['MAELoss: 0.01793']\n",
      "Train Epoch: 181   Avg_Loss: 0.00044 ['MAELoss: 0.01174']\n",
      "Eval:   Avg_Loss: 0.00116 ['MAELoss: 0.01786']\n",
      "Train Epoch: 182   Avg_Loss: 0.00044 ['MAELoss: 0.01166']\n",
      "Eval:   Avg_Loss: 0.00115 ['MAELoss: 0.01777']\n",
      "Train Epoch: 183   Avg_Loss: 0.00043 ['MAELoss: 0.01156']\n",
      "Eval:   Avg_Loss: 0.00114 ['MAELoss: 0.01768']\n",
      "Train Epoch: 184   Avg_Loss: 0.00042 ['MAELoss: 0.01147']\n",
      "Eval:   Avg_Loss: 0.00113 ['MAELoss: 0.01758']\n",
      "Train Epoch: 185   Avg_Loss: 0.00042 ['MAELoss: 0.01139']\n",
      "Eval:   Avg_Loss: 0.00112 ['MAELoss: 0.01747']\n",
      "Train Epoch: 186   Avg_Loss: 0.00041 ['MAELoss: 0.01131']\n",
      "Eval:   Avg_Loss: 0.00110 ['MAELoss: 0.01735']\n",
      "Train Epoch: 187   Avg_Loss: 0.00040 ['MAELoss: 0.01123']\n",
      "Eval:   Avg_Loss: 0.00108 ['MAELoss: 0.01721']\n"
     ]
    },
    {
     "name": "stdout",
     "output_type": "stream",
     "text": [
      "Train Epoch: 188   Avg_Loss: 0.00040 ['MAELoss: 0.01114']\n",
      "Eval:   Avg_Loss: 0.00106 ['MAELoss: 0.01709']\n",
      "Train Epoch: 189   Avg_Loss: 0.00039 ['MAELoss: 0.01107']\n",
      "Eval:   Avg_Loss: 0.00105 ['MAELoss: 0.01697']\n",
      "Train Epoch: 190   Avg_Loss: 0.00039 ['MAELoss: 0.01100']\n",
      "Eval:   Avg_Loss: 0.00104 ['MAELoss: 0.01685']\n",
      "Train Epoch: 191   Avg_Loss: 0.00038 ['MAELoss: 0.01093']\n",
      "Eval:   Avg_Loss: 0.00103 ['MAELoss: 0.01676']\n",
      "Train Epoch: 192   Avg_Loss: 0.00037 ['MAELoss: 0.01086']\n",
      "Eval:   Avg_Loss: 0.00101 ['MAELoss: 0.01666']\n",
      "Train Epoch: 193   Avg_Loss: 0.00037 ['MAELoss: 0.01078']\n",
      "Eval:   Avg_Loss: 0.00100 ['MAELoss: 0.01657']\n",
      "Train Epoch: 194   Avg_Loss: 0.00036 ['MAELoss: 0.01070']\n",
      "Eval:   Avg_Loss: 0.00099 ['MAELoss: 0.01647']\n",
      "Train Epoch: 195   Avg_Loss: 0.00036 ['MAELoss: 0.01062']\n",
      "Eval:   Avg_Loss: 0.00097 ['MAELoss: 0.01637']\n",
      "Train Epoch: 196   Avg_Loss: 0.00035 ['MAELoss: 0.01055']\n",
      "Eval:   Avg_Loss: 0.00096 ['MAELoss: 0.01625']\n",
      "Train Epoch: 197   Avg_Loss: 0.00035 ['MAELoss: 0.01048']\n",
      "Eval:   Avg_Loss: 0.00096 ['MAELoss: 0.01616']\n",
      "Train Epoch: 198   Avg_Loss: 0.00034 ['MAELoss: 0.01040']\n",
      "Eval:   Avg_Loss: 0.00095 ['MAELoss: 0.01608']\n",
      "Train Epoch: 199   Avg_Loss: 0.00034 ['MAELoss: 0.01038']\n",
      "Eval:   Avg_Loss: 0.00094 ['MAELoss: 0.01600']\n",
      "Train Epoch: 200   Avg_Loss: 0.00033 ['MAELoss: 0.01027']\n",
      "Eval:   Avg_Loss: 0.00093 ['MAELoss: 0.01589']\n"
     ]
    }
   ],
   "source": [
    "torch_sim_params=torch_sim_config.get_options_dict()\n",
    "torch_sim.train(train_dataset=benchmark_ffnn.train_dataset,\n",
    "                    val_dataset=benchmark_ffnn.val_dataset,\n",
    "                    save_path=SAVE_PATH,\n",
    "                    **torch_sim_params)"
   ]
  },
  {
   "cell_type": "code",
   "execution_count": null,
   "id": "a27a8474",
   "metadata": {},
   "outputs": [],
   "source": [
    "torch_sim_metrics_val = benchmark_ffnn.evaluate_simulator(augmented_simulator=torch_sim,\n",
    "                                                  eval_batch_size=128,\n",
    "                                                  dataset=\"val\",\n",
    "                                                  shuffle=False,\n",
    "                                                  save_path=None,\n",
    "                                                  save_predictions=False\n",
    "                                                 )"
   ]
  },
  {
   "cell_type": "code",
   "execution_count": null,
   "id": "f120fb80",
   "metadata": {},
   "outputs": [],
   "source": [
    "torch_sim_metrics_test = benchmark_ffnn.evaluate_simulator(augmented_simulator=torch_sim,\n",
    "                                                  eval_batch_size=128,\n",
    "                                                  dataset=\"test\",\n",
    "                                                  shuffle=False,\n",
    "                                                  save_path=None,\n",
    "                                                  save_predictions=False\n",
    "                                                 )"
   ]
  },
  {
   "cell_type": "code",
   "execution_count": null,
   "id": "a6133ff7",
   "metadata": {},
   "outputs": [],
   "source": [
    "torch_sim_metrics_val"
   ]
  },
  {
   "cell_type": "markdown",
   "id": "11781e5f",
   "metadata": {},
   "source": [
    "# Start training with CNN"
   ]
  },
  {
   "cell_type": "code",
   "execution_count": null,
   "id": "e7ef889e",
   "metadata": {},
   "outputs": [],
   "source": [
    "wheel_config=ConfigManager(path=CONFIG_PATH_BENCHMARK,\n",
    "                              section_name=\"WeightSustainingWheelBenchmarkInterpolated\")\n",
    "env_params=wheel_config.get_option(\"env_params\")\n",
    "physical_domain=env_params.get(\"physical_domain\")\n",
    "physical_properties=env_params.get(\"physical_properties\")\n",
    "simulator=GetfemSimulator(physical_domain=physical_domain,physical_properties=physical_properties)\n",
    "\n",
    "attr_x= wheel_config.get_option(\"attr_x\")\n",
    "attr_y= (\"disp\",)\n",
    "attr_names=attr_x+attr_y"
   ]
  },
  {
   "cell_type": "code",
   "execution_count": null,
   "id": "07b1165e",
   "metadata": {},
   "outputs": [],
   "source": [
    "pneumatic_wheel_datasets={\n",
    "    \"train\":pneumatic_wheel_dataset_train,\n",
    "    \"val\":pneumatic_wheel_dataset_val,\n",
    "    \"test\":pneumatic_wheel_dataset_test\n",
    "    \n",
    "}"
   ]
  },
  {
   "cell_type": "markdown",
   "id": "d1788d0f",
   "metadata": {},
   "source": [
    "# Define interpolation"
   ]
  },
  {
   "cell_type": "code",
   "execution_count": null,
   "id": "5429c0ec",
   "metadata": {},
   "outputs": [],
   "source": [
    "interpolation_info=wheel_config.get_option(\"interpolation_info\")\n",
    "grid_support=interpolation_info.get(\"grid_support\")\n",
    "dofnum_by_field=interpolation_info.get(\"dofnum_by_field\")"
   ]
  },
  {
   "cell_type": "code",
   "execution_count": null,
   "id": "0fcebe34",
   "metadata": {},
   "outputs": [],
   "source": [
    "dataset_by_type=dict()\n",
    "for name,dataset in pneumatic_wheel_datasets.items():\n",
    "    myTransformer=DataSetInterpolatorOnGrid(name=name,\n",
    "                                                simulator=simulator,\n",
    "                                                dataset=dataset,\n",
    "                                                grid_support=grid_support)\n",
    "    myTransformer.generate(dofnum_by_field=dofnum_by_field,path_out=\"WeightSustainingWheelBenchmarkInterpolated\")\n",
    "    dataset_by_type[dataset.name]=myTransformer"
   ]
  },
  {
   "cell_type": "code",
   "execution_count": null,
   "id": "952e4a51",
   "metadata": {},
   "outputs": [],
   "source": [
    "LOG_PATH=\"WeightSustainingCNN.log\"\n",
    "benchmark_cnn = WeightSustainingWheelBenchmark(benchmark_name=\"WeightSustainingWheelBenchmarkInterpolated\",\n",
    "                                benchmark_path=\".\",\n",
    "                                load_data_set=True,\n",
    "                                log_path=LOG_PATH,\n",
    "                                config_path=CONFIG_PATH_BENCHMARK\n",
    "                               )"
   ]
  },
  {
   "cell_type": "code",
   "execution_count": null,
   "id": "7cd4ace0",
   "metadata": {},
   "outputs": [],
   "source": [
    "CONFIG_PATH_AUGMENTED_SIMULATOR_UNET=get_root_path()+os.path.join(\"..\",\"configurations\",\"pneumatic\",\"simulators\",\"torch_unet.ini\")\n",
    "torch_sim = TorchSimulator(name=\"torch_unet\", \n",
    "                           model=TorchUnet,\n",
    "                           sim_config_path=CONFIG_PATH_AUGMENTED_SIMULATOR_UNET,\n",
    "                           bench_config_path=CONFIG_PATH_BENCHMARK,\n",
    "                           scaler=StandardScalerPerChannel,\n",
    "                           log_path=LOG_PATH,\n",
    "                           seed=42,\n",
    "                          )"
   ]
  },
  {
   "cell_type": "code",
   "execution_count": null,
   "id": "f583d2b9",
   "metadata": {},
   "outputs": [],
   "source": [
    "SAVE_PATH=get_root_path()+os.path.join(\"..\",\"getting_started\",\"TestBenchmarkWheel\",\"CNNResults\")\n",
    "torch_sim_config=ConfigManager(path=CONFIG_PATH_AUGMENTED_SIMULATOR_UNET,\n",
    "                              section_name=\"DEFAULT\")\n",
    "torch_sim_params=torch_sim_config.get_options_dict()"
   ]
  },
  {
   "cell_type": "code",
   "execution_count": null,
   "id": "e484bf9e",
   "metadata": {},
   "outputs": [],
   "source": [
    "torch_sim_params[\"epochs\"]=2\n",
    "torch_sim.train(train_dataset=benchmark_cnn.train_dataset,\n",
    "                    val_dataset=benchmark_cnn.val_dataset,\n",
    "                    save_path=SAVE_PATH,\n",
    "                    **torch_sim_params)\n"
   ]
  },
  {
   "cell_type": "code",
   "execution_count": null,
   "id": "a4a87745",
   "metadata": {},
   "outputs": [],
   "source": [
    "predictor_val = benchmark_cnn.evaluate_predictor(augmented_simulator=torch_sim,\n",
    "                                                  eval_batch_size=128,\n",
    "                                                  dataset=\"val\",\n",
    "                                                  shuffle=False,\n",
    "                                                  save_path=None,\n",
    "                                                  save_predictions=False\n",
    "                                                 )"
   ]
  },
  {
   "cell_type": "code",
   "execution_count": null,
   "id": "88b931bc",
   "metadata": {},
   "outputs": [],
   "source": [
    "name=\"val\"\n",
    "field_name=PFN.displacement\n",
    "prediction=predictor_val[name]\n",
    "interpolated_field_name=field_name+\"Interpolated\"\n",
    "prediction[field_name] = prediction.pop(interpolated_field_name)\n",
    "simulator=dataset_by_type[name].simulator"
   ]
  },
  {
   "cell_type": "markdown",
   "id": "3cdadd8f",
   "metadata": {},
   "source": [
    "# Interpolate back to mesh"
   ]
  },
  {
   "cell_type": "code",
   "execution_count": null,
   "id": "e6fa40f4",
   "metadata": {},
   "outputs": [],
   "source": [
    "interpolated_dataset_grid=DataSetInterpolatorOnGrid(name=name,\n",
    "                                                      simulator=simulator,\n",
    "                                                      dataset=dataset_by_type[name],\n",
    "                                                      grid_support=dataset_by_type[name].grid_support)\n",
    "\n",
    "interpolated_dataset_grid.load_from_data(grid_support_points=dataset_by_type[name].grid_support_points,\n",
    "                                           interpolated_dataset=prediction,\n",
    "                                           distributed_inputs_on_grid=dataset_by_type[name].distributed_inputs_on_grid)\n",
    "\n",
    "interpolated_datas_on_mesh=DataSetInterpolatorOnMesh(name=name,\n",
    "                                                      simulator=simulator,\n",
    "                                                      dataset=interpolated_dataset_grid)\n",
    "interpolated_datas_on_mesh.generate(field_names=[field_name])\n",
    "prediction_on_mesh={name: interpolated_datas_on_mesh.interpolated_dataset}\n",
    "observation_val_on_mesh={\"val\":pneumatic_wheel_datasets[\"val\"].data}"
   ]
  },
  {
   "cell_type": "code",
   "execution_count": null,
   "id": "d0631b2e",
   "metadata": {},
   "outputs": [],
   "source": [
    "torch_sim_metrics_val = benchmark_cnn.evaluate_simulator_from_predictions(predictions=prediction_on_mesh,\n",
    "                                                                             observations=observation_val_on_mesh,\n",
    "                                                                             eval_batch_size=128,\n",
    "                                                                             dataset=\"val\",\n",
    "                                                                             shuffle=False,\n",
    "                                                                             save_path=None,\n",
    "                                                                             save_predictions=False\n",
    "                                                                            )\n",
    "print(torch_sim_metrics_val)"
   ]
  }
 ],
 "metadata": {
  "kernelspec": {
   "display_name": "Python 3 (ipykernel)",
   "language": "python",
   "name": "python3"
  },
  "language_info": {
   "codemirror_mode": {
    "name": "ipython",
    "version": 3
   },
   "file_extension": ".py",
   "mimetype": "text/x-python",
   "name": "python",
   "nbconvert_exporter": "python",
   "pygments_lexer": "ipython3",
   "version": "3.8.10"
  }
 },
 "nbformat": 4,
 "nbformat_minor": 5
}
