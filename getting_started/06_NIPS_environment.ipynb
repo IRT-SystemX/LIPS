{
 "cells": [
  {
   "cell_type": "markdown",
   "id": "d8b65cae",
   "metadata": {},
   "source": [
    "# L2RPN Neurips 2020 Track1 SMALL environment"
   ]
  },
  {
   "cell_type": "code",
   "execution_count": 1,
   "id": "164b7234",
   "metadata": {},
   "outputs": [],
   "source": [
    "import pathlib\n",
    "from pprint import pprint"
   ]
  },
  {
   "cell_type": "markdown",
   "id": "ca3d2f1c",
   "metadata": {},
   "source": [
    "#### Set the paths for data and cofiguration file"
   ]
  },
  {
   "cell_type": "code",
   "execution_count": 2,
   "id": "41bbeff6",
   "metadata": {},
   "outputs": [],
   "source": [
    "LIPS_PATH = pathlib.Path().resolve().parent\n",
    "DATA_PATH = LIPS_PATH / \"reference_data\" / \"l2rpn_neurips_2020_track1_small\"\n",
    "LOG_PATH = LIPS_PATH / \"lips_logs_neurips.log\"\n",
    "CONFIG_PATH = LIPS_PATH / \"lips\" / \"config\" / \"conf_nips_track1.ini\""
   ]
  },
  {
   "cell_type": "markdown",
   "id": "22fdb5e3",
   "metadata": {},
   "source": [
    "Create the path for this environment"
   ]
  },
  {
   "cell_type": "code",
   "execution_count": 3,
   "id": "ad886ed1",
   "metadata": {},
   "outputs": [],
   "source": [
    "if not DATA_PATH.exists():\n",
    "    DATA_PATH.mkdir(mode=511, parents=False)"
   ]
  },
  {
   "cell_type": "markdown",
   "id": "a79760f1",
   "metadata": {},
   "source": [
    "## Benchmark1"
   ]
  },
  {
   "cell_type": "code",
   "execution_count": 4,
   "id": "b1c0f103",
   "metadata": {},
   "outputs": [
    {
     "name": "stderr",
     "output_type": "stream",
     "text": [
      "2022-05-02 12:58:36.238147: W tensorflow/stream_executor/platform/default/dso_loader.cc:64] Could not load dynamic library 'libcudart.so.11.0'; dlerror: libcudart.so.11.0: cannot open shared object file: No such file or directory\n",
      "2022-05-02 12:58:36.238226: I tensorflow/stream_executor/cuda/cudart_stub.cc:29] Ignore above cudart dlerror if you do not have a GPU set up on your machine.\n"
     ]
    }
   ],
   "source": [
    "from lips.benchmark import PowerGridBenchmark\n",
    "benchmark1 = PowerGridBenchmark(benchmark_path=DATA_PATH,\n",
    "                                benchmark_name=\"Benchmark1\",\n",
    "                                load_data_set=False,\n",
    "                                config_path=CONFIG_PATH, # opt for default config path (benchmark/config.ini)\n",
    "                                log_path=LOG_PATH)"
   ]
  },
  {
   "cell_type": "code",
   "execution_count": 11,
   "id": "0b4e1ad8",
   "metadata": {},
   "outputs": [
    {
     "name": "stderr",
     "output_type": "stream",
     "text": [
      "train: 100%|████████████████████████████████████████████████████████████████████████████████████████████████████████████████| 10/10 [02:16<00:00, 13.61s/it]\n",
      "val: 100%|██████████████████████████████████████████████████████████████████████████████████████████████████████████████████| 10/10 [02:21<00:00, 14.16s/it]\n",
      "test: 100%|█████████████████████████████████████████████████████████████████████████████████████████████████████████████████| 10/10 [02:17<00:00, 13.79s/it]\n",
      "test_ood_topo: 100%|████████████████████████████████████████████████████████████████████████████████████████████████████████| 10/10 [02:12<00:00, 13.23s/it]\n"
     ]
    }
   ],
   "source": [
    "benchmark1.generate(nb_sample_train=int(10),\n",
    "                    nb_sample_val=int(10),\n",
    "                    nb_sample_test=int(10),\n",
    "                    nb_sample_test_ood_topo=int(10),\n",
    "                   )"
   ]
  },
  {
   "cell_type": "markdown",
   "id": "5761b0d1",
   "metadata": {},
   "source": [
    "### Verfiy the chronics  (for debugging purpose, to be removed in future)"
   ]
  },
  {
   "cell_type": "code",
   "execution_count": 7,
   "id": "d334ef8a",
   "metadata": {},
   "outputs": [],
   "source": [
    "import re\n",
    "import grid2op"
   ]
  },
  {
   "cell_type": "code",
   "execution_count": 8,
   "id": "b435c607",
   "metadata": {},
   "outputs": [],
   "source": [
    "env_nips = grid2op.make(\"l2rpn_neurips_2020_track1_small\")"
   ]
  },
  {
   "cell_type": "code",
   "execution_count": 9,
   "id": "b2ef305a",
   "metadata": {},
   "outputs": [],
   "source": [
    "chronics_train_selected_regex=\"^((?!(.*[3-4][0-9].*)).)*$\"\n",
    "chronics_val_selected_regex=\".*3[0-5].*\"\n",
    "chronics_test_selected_regex=\".*3[5-9].*\"\n",
    "chronics_test_ood_selected_regex=\".*4[0-9].*\"\n",
    "chronics_selected_regex = re.compile(chronics_train_selected_regex)\n",
    "chronics = lambda path: re.match(chronics_selected_regex, path) is not None"
   ]
  },
  {
   "cell_type": "code",
   "execution_count": null,
   "id": "b37268bf",
   "metadata": {},
   "outputs": [],
   "source": [
    "env_nips.chronics_handler.set_filter(chronics)\n",
    "env_nips.chronics_handler.real_data.reset()"
   ]
  },
  {
   "cell_type": "markdown",
   "id": "cdec0e44",
   "metadata": {},
   "source": [
    "# Test (to be removed in future)"
   ]
  },
  {
   "cell_type": "code",
   "execution_count": null,
   "id": "cf0476ba",
   "metadata": {},
   "outputs": [],
   "source": [
    "benchmark1._fills_actor_simulator()"
   ]
  },
  {
   "cell_type": "code",
   "execution_count": null,
   "id": "59d63559",
   "metadata": {},
   "outputs": [],
   "source": [
    "benchmark1.training_actor.reference_args"
   ]
  },
  {
   "cell_type": "code",
   "execution_count": null,
   "id": "784fcd7e",
   "metadata": {},
   "outputs": [],
   "source": [
    "benchmark1.training_actor.topo_actions"
   ]
  },
  {
   "cell_type": "code",
   "execution_count": null,
   "id": "a180c2f0",
   "metadata": {},
   "outputs": [],
   "source": [
    "obs = benchmark1.env.reset()"
   ]
  },
  {
   "cell_type": "code",
   "execution_count": null,
   "id": "347e8014",
   "metadata": {},
   "outputs": [],
   "source": [
    "action = benchmark1.training_actor.act(obs)"
   ]
  },
  {
   "cell_type": "code",
   "execution_count": null,
   "id": "57ce42ec",
   "metadata": {},
   "outputs": [],
   "source": [
    "print(action)"
   ]
  },
  {
   "cell_type": "code",
   "execution_count": null,
   "id": "7072b968",
   "metadata": {},
   "outputs": [],
   "source": [
    "from lips.benchmark.utils.powergrid_utils import XDepthAgent\n",
    "from lips.config import ConfigManager\n",
    "import numpy as np"
   ]
  },
  {
   "cell_type": "code",
   "execution_count": null,
   "id": "d438d5fd",
   "metadata": {},
   "outputs": [],
   "source": [
    "config = ConfigManager(\"Benchmark1\", path=CONFIG_PATH)\n",
    "env = benchmark1.env"
   ]
  },
  {
   "cell_type": "code",
   "execution_count": null,
   "id": "442bc072",
   "metadata": {},
   "outputs": [],
   "source": [
    "for i, action in enumerate(config.get_option(\"dataset_create_params\")[\"reference_args\"].get(\"topo_actions\")):\n",
    "    # print(i)\n",
    "    action = env.action_space(action)\n",
    "    impacted_sub = int(np.where(action.get_topological_impact()[1])[0])\n",
    "    print(impacted_sub)"
   ]
  }
 ],
 "metadata": {
  "kernelspec": {
   "display_name": "lips",
   "language": "python",
   "name": "lips"
  },
  "language_info": {
   "codemirror_mode": {
    "name": "ipython",
    "version": 3
   },
   "file_extension": ".py",
   "mimetype": "text/x-python",
   "name": "python",
   "nbconvert_exporter": "python",
   "pygments_lexer": "ipython3",
   "version": "3.8.10"
  }
 },
 "nbformat": 4,
 "nbformat_minor": 5
}
