{
 "cells": [
  {
   "cell_type": "code",
   "execution_count": null,
   "metadata": {},
   "outputs": [],
   "source": [
    "import pathlib\n",
    "from pprint import pprint\n",
    "from matplotlib import pyplot as plt\n",
    "import numpy as np\n",
    "from lips.benchmark.powergridBenchmark import PowerGridBenchmark\n",
    "from lips.utils import get_path"
   ]
  },
  {
   "cell_type": "code",
   "execution_count": 3,
   "metadata": {},
   "outputs": [],
   "source": [
    "# indicate required paths\n",
    "LIPS_PATH = pathlib.Path().resolve().parent.parent.parent # it is supposed that the notebook had run from getting_started folder\n",
    "DATA_PATH = LIPS_PATH / \"reference_data\" / \"powergrid\" / \"l2rpn_case14_sandbox\" / \"DC\"\n",
    "BENCH_CONFIG_PATH = LIPS_PATH / \"configurations\" / \"powergrid\" / \"benchmarks\" / \"l2rpn_case14_sandbox.ini\"\n",
    "SIM_CONFIG_PATH = LIPS_PATH / \"configurations\" / \"powergrid\" / \"simulators\"\n",
    "BASELINES_PATH = LIPS_PATH / \"trained_baselines\" / \"powergrid\"\n",
    "TRAINED_MODEL_PATH = LIPS_PATH / \"trained_models\" / \"powergrid\"\n",
    "EVALUATION_PATH = LIPS_PATH / \"evaluation_results\" / \"PowerGrid\"\n",
    "LOG_PATH = LIPS_PATH / \"lips_logs.log\""
   ]
  },
  {
   "cell_type": "code",
   "execution_count": 4,
   "metadata": {},
   "outputs": [],
   "source": [
    "benchmark4 = PowerGridBenchmark(benchmark_name=\"Benchmark4\",\n",
    "                                benchmark_path=DATA_PATH,\n",
    "                                load_data_set=True,\n",
    "                                log_path=LOG_PATH,\n",
    "                                config_path=BENCH_CONFIG_PATH,\n",
    "                               )"
   ]
  },
  {
   "cell_type": "code",
   "execution_count": null,
   "metadata": {},
   "outputs": [],
   "source": [
    "benchmark4.config.get_option(\"eval_dict\")"
   ]
  },
  {
   "cell_type": "code",
   "execution_count": 6,
   "metadata": {},
   "outputs": [],
   "source": [
    "from lips.augmented_simulators.torch_models.gnn import TorchGCN\n",
    "from lips.augmented_simulators.torch_simulator import TorchSimulator\n",
    "#from lips.dataset.scaler import StandardScaler"
   ]
  },
  {
   "cell_type": "code",
   "execution_count": 7,
   "metadata": {},
   "outputs": [],
   "source": [
    "torch_sim = TorchSimulator(name=\"torch_gcn\",\n",
    "                           model=TorchGCN,\n",
    "                           scaler=None,\n",
    "                           log_path=LOG_PATH,\n",
    "                           device=\"cpu\", # use \"cpu\" if you don't have a GPU available on your machine\n",
    "                           seed=42,\n",
    "                           bench_config_path=BENCH_CONFIG_PATH,\n",
    "                           bench_config_name=\"Benchmark4\",\n",
    "                           sim_config_path=SIM_CONFIG_PATH / \"torch_gnn.ini\",\n",
    "                           sim_config_name=\"GCN_CONFIG_RECOMMENDED_1\" # use the default set of hyper parameters\n",
    "                          )"
   ]
  },
  {
   "cell_type": "code",
   "execution_count": null,
   "metadata": {},
   "outputs": [],
   "source": [
    "torch_sim.params"
   ]
  },
  {
   "cell_type": "markdown",
   "metadata": {},
   "source": [
    "### Train the augmented simulator"
   ]
  },
  {
   "cell_type": "code",
   "execution_count": 9,
   "metadata": {},
   "outputs": [
    {
     "name": "stderr",
     "output_type": "stream",
     "text": [
      "Batch within epoch (Training): 100%|██████████| 782/782 [01:05<00:00, 12.01it/s]\n"
     ]
    },
    {
     "name": "stdout",
     "output_type": "stream",
     "text": [
      "Train Epoch: 1   Avg_Loss: 131.93107 ['MAELoss: 29.57365']\n"
     ]
    },
    {
     "name": "stderr",
     "output_type": "stream",
     "text": [
      "Batch within epoch (Evaluation): 100%|██████████| 79/79 [00:03<00:00, 23.06it/s]\n",
      "Epoch 1: 100%|██████████| 1/1 [01:08<00:00, 68.54s/it]\n"
     ]
    },
    {
     "name": "stdout",
     "output_type": "stream",
     "text": [
      "Eval:   Avg_Loss: 86.19561 ['MAELoss: 25.43060']\n"
     ]
    }
   ],
   "source": [
    "torch_sim.train(benchmark4.train_dataset, benchmark4.val_dataset, save_path=None, epochs=1, train_batch_size=128)"
   ]
  },
  {
   "cell_type": "markdown",
   "metadata": {},
   "source": [
    "### Save the trained model"
   ]
  },
  {
   "cell_type": "code",
   "execution_count": 20,
   "metadata": {},
   "outputs": [],
   "source": [
    "SAVE_PATH = get_path(TRAINED_MODEL_PATH, benchmark4)\n",
    "torch_sim.save(SAVE_PATH)"
   ]
  },
  {
   "cell_type": "markdown",
   "metadata": {},
   "source": [
    "### Load the trained model"
   ]
  },
  {
   "cell_type": "code",
   "execution_count": 6,
   "metadata": {},
   "outputs": [],
   "source": [
    "from lips.augmented_simulators.torch_models.gnn import TorchGCN\n",
    "from lips.augmented_simulators.torch_simulator import TorchSimulator\n",
    "\n",
    "torch_sim = TorchSimulator(name=\"torch_gcn\",\n",
    "                           model=TorchGCN,\n",
    "                           scaler=None,\n",
    "                           log_path=LOG_PATH,\n",
    "                           device=\"cpu\", # use \"cpu\" if you don't have a GPU available on your machine\n",
    "                           seed=42,\n",
    "                           bench_config_path=BENCH_CONFIG_PATH,\n",
    "                           bench_config_name=\"Benchmark4\",\n",
    "                           sim_config_path=SIM_CONFIG_PATH / \"torch_gnn.ini\",\n",
    "                           sim_config_name=\"GCN_CONFIG_RECOMMENDED_1\", # use the default set of hyper parameters\n",
    "                           #attr_y=(\"theta_or\", \"theta_ex\")\n",
    "                          )"
   ]
  },
  {
   "cell_type": "code",
   "execution_count": 7,
   "metadata": {},
   "outputs": [],
   "source": [
    "LOAD_PATH = get_path(TRAINED_MODEL_PATH, benchmark4)\n",
    "torch_sim.restore(path=LOAD_PATH)"
   ]
  },
  {
   "cell_type": "markdown",
   "metadata": {},
   "source": [
    "### Predict using the trained augmented simulator"
   ]
  },
  {
   "cell_type": "code",
   "execution_count": 10,
   "metadata": {},
   "outputs": [
    {
     "name": "stderr",
     "output_type": "stream",
     "text": [
      "Batch (Prediction): 100%|██████████| 79/79 [00:02<00:00, 26.62it/s]\n",
      "Batch (Prediction): 100%|██████████| 1/1 [00:01<00:00,  1.33s/it]\n",
      "Batch (Prediction): 100%|██████████| 1/1 [00:01<00:00,  1.67s/it]\n",
      "Batch (Prediction): 100%|██████████| 1/1 [00:01<00:00,  1.89s/it]\n",
      "Batch (Prediction): 100%|██████████| 1/1 [00:01<00:00,  1.84s/it]\n",
      "Batch (Prediction): 100%|██████████| 1/1 [00:01<00:00,  1.52s/it]\n",
      "Batch (Prediction): 100%|██████████| 1/1 [00:01<00:00,  1.63s/it]\n",
      "Batch (Prediction): 100%|██████████| 1/1 [00:01<00:00,  1.56s/it]\n",
      "Batch (Prediction): 100%|██████████| 1/1 [00:01<00:00,  1.44s/it]\n"
     ]
    }
   ],
   "source": [
    "metrics = benchmark4.evaluate_simulator(dataset=\"all\", augmented_simulator=torch_sim, save_path=None, save_predictions=False)"
   ]
  },
  {
   "cell_type": "code",
   "execution_count": 12,
   "metadata": {},
   "outputs": [
    {
     "data": {
      "text/plain": [
       "{'ML': {'MSE_avg': {'theta_or': 0.0,\n",
       "   'theta_ex': 0.0,\n",
       "   'p_or': 481.1911926269531,\n",
       "   'p_ex': 481.1911926269531},\n",
       "  'MAE_avg': {'theta_or': 0.0,\n",
       "   'theta_ex': 0.0,\n",
       "   'p_or': 14.482661247253418,\n",
       "   'p_ex': 14.482661247253418},\n",
       "  'MAPE_avg': {'theta_or': 0.0,\n",
       "   'theta_ex': 0.0,\n",
       "   'p_or': 2084222806261760.0,\n",
       "   'p_ex': 2084222806261760.0},\n",
       "  'MAPE_90_avg': {'theta_or': nan,\n",
       "   'theta_ex': 0.0,\n",
       "   'p_or': 0.5942630115912368,\n",
       "   'p_ex': 0.5942630115912368},\n",
       "  'TIME_INF': 20.475355890986975},\n",
       " 'Physics': {'LOSS_POS': {}},\n",
       " 'IndRed': {'TIME_INF': 22.10974759599776}}"
      ]
     },
     "execution_count": 12,
     "metadata": {},
     "output_type": "execute_result"
    }
   ],
   "source": [
    "metrics[\"test\"]"
   ]
  }
 ],
 "metadata": {
  "kernelspec": {
   "display_name": "lips_irt",
   "language": "python",
   "name": "python3"
  },
  "language_info": {
   "codemirror_mode": {
    "name": "ipython",
    "version": 3
   },
   "file_extension": ".py",
   "mimetype": "text/x-python",
   "name": "python",
   "nbconvert_exporter": "python",
   "pygments_lexer": "ipython3",
   "version": "3.8.10"
  }
 },
 "nbformat": 4,
 "nbformat_minor": 2
}
