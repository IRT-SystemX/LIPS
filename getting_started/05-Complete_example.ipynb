{
 "cells": [
  {
   "cell_type": "markdown",
   "id": "04273ddf",
   "metadata": {},
   "source": [
    "# LIPS : Learning Industrial physical simulationbenchmark suite: the power grid case"
   ]
  },
  {
   "cell_type": "markdown",
   "id": "589ecccc",
   "metadata": {},
   "source": [
    "The benchmarking platform (as it can be observed in the Figure below) is composed of three main modules: Data, Benchmarking and Evaluation. As the names suggest, each module is specialized with its own set of functions for a specific task. The Data module is the one that helps to generate different dataset and distributions providing a high flexibility using a set of parameters. Once the datasets are generated, the benchmarking platform will take as entry the generated dataset and perform a required benchmark on it. Each benchmark could be precised via the inputs and outputs required for modeling and prediction. Finally, in order to evaluate the performance of each benchmark, the Evaluation module provides a set of functions to inspect the models from different point of views (physics compliances, machine learning metrics, adaptability and readiness.  "
   ]
  },
  {
   "cell_type": "markdown",
   "id": "accaf99a",
   "metadata": {},
   "source": [
    "The figure below presents the scheme of benchmarking platform which is composed of three distinct parts : \n",
    "* DataSet: Generate some dataset for training and evaluation \n",
    "* Benchmark: coordinates between different parts and allows train and evaluate an agumented simulator \n",
    "* Evaluation: once the benchmark done, it allow to evaluate the performance with respect to various point of views\n",
    "\n",
    "![title](img/Benchmarking_scheme_v2.png)"
   ]
  },
  {
   "cell_type": "markdown",
   "id": "76694fbc",
   "metadata": {},
   "source": [
    "# Benchmark1: Risk assessment through contingency screening\n",
    "Table of contents:\n",
    "- [1. Creating Benchmark](#create-benchmark)\n",
    "- [2. Torch Augmented Simulator](#simulator-torch)\n",
    "    - [step 1](#step1)\n",
    "    - [step 2](#step2)\n",
    "    - [step 3](#step3)\n",
    "- [3. Tensorflow Augmented Simulator](#simulator-torch)\n",
    "    - [3.1 Fully connected neural network](#tf-fc)\n",
    "    - [3.2 LeapNet neural network](#tf-leapnet)"
   ]
  },
  {
   "cell_type": "markdown",
   "id": "5a42beab",
   "metadata": {},
   "source": [
    "## 1. Creating a Benchmark and loading corresponding data <a class=\"anchor\" id=\"create-benchmark\"></a>"
   ]
  },
  {
   "cell_type": "markdown",
   "id": "e3a1988f",
   "metadata": {},
   "source": [
    "In this notebook, we analyze the first benchmark's scenario. \n",
    "\n",
    "### Benchmark 1 : Risk assessment through contingency screening\n",
    "The first power grid benchmark tackles the step of risk assessment in power grids. The problem is to anticipate potential threats on the power grid (several hours ahead) and warn the operators accordingly. It simulates incidents (aka contingencies) involving various elements of the grid (such as the disconnection of a line/production unit), one by one. For each contingency, a risk (weakness of the grid) is detected when overloads are detected by the simulation engine on some lines. On a real grid, this scenario means running several dozens of thousands of simulations, thereby, computation time is critical, especially since this risk assessment is refreshed every 15 minutes. In this benchmark, the main physical variable we are interested in is the value of electric current in the lines (in amperes), because an overload is detected if this value exceeds a line-dependent threshold."
   ]
  },
  {
   "cell_type": "code",
   "execution_count": 1,
   "id": "1f96cdaa",
   "metadata": {},
   "outputs": [],
   "source": [
    "import pathlib\n",
    "from pprint import pprint\n",
    "from matplotlib import pyplot as plt\n",
    "from lips.benchmark import PowerGridBenchmark"
   ]
  },
  {
   "cell_type": "markdown",
   "id": "a73f3f3f",
   "metadata": {},
   "source": [
    "Some paths are required to refer to generated datasets, config files, logs and models. "
   ]
  },
  {
   "cell_type": "code",
   "execution_count": 2,
   "id": "b0c0ab9f",
   "metadata": {},
   "outputs": [],
   "source": [
    "# indicate required paths\n",
    "LIPS_PATH = pathlib.Path().resolve().parent # it is supposed that the notebook had run from getting_started folder\n",
    "DATA_PATH = LIPS_PATH / \"reference_data\"\n",
    "LOG_PATH = LIPS_PATH / \"lips_logs.log\"\n",
    "CONFIG_PATH = LIPS_PATH / \"lips\" / \"config\" / \"conf.ini\"\n",
    "BASELINES_PATH = LIPS_PATH / \"trained_baselines\"\n",
    "TRAINED_MODEL_PATH = LIPS_PATH / \"trained_models\""
   ]
  },
  {
   "cell_type": "markdown",
   "id": "be22be64",
   "metadata": {},
   "source": [
    "> ### step 1 <a class=\"anchor\" id=\"step1\"></a>\n",
    "\n",
    "We create a Power Grid Benchmark by instantiating the corresponding class `PowerGridBenchmark` and by indicating the `benchmark_name` argument.\n",
    "\n",
    "**NB.** It should be noted that the `Benchmark_name` is related to a section name of a configuration file which is located at the path indicated by the `config_path`. A configuration file (`conf.ini`) is already exists under the config module which defines all the parameters required for three benchmarks studied in power grid use case. \n",
    "\n",
    "If the data is already generated for this benchmark, the parametes `load_data_set` can be set to _True_, which allows to load the datasets for the corresponding benchmark using its name indicated by `benchmark_name`."
   ]
  },
  {
   "cell_type": "code",
   "execution_count": null,
   "id": "c39a10ff",
   "metadata": {},
   "outputs": [],
   "source": [
    "benchmark1 = PowerGridBenchmark(benchmark_name=\"Benchmark1\",\n",
    "                                benchmark_path=DATA_PATH,\n",
    "                                load_data_set=True,\n",
    "                                log_path=LOG_PATH,\n",
    "                                config_path=CONFIG_PATH\n",
    "                               )"
   ]
  },
  {
   "cell_type": "markdown",
   "id": "d976553f",
   "metadata": {},
   "source": [
    "Once the benchmark is instantiated, we can verify the corresponding configurations."
   ]
  },
  {
   "cell_type": "code",
   "execution_count": 4,
   "id": "a048cc59",
   "metadata": {},
   "outputs": [
    {
     "name": "stdout",
     "output_type": "stream",
     "text": [
      "{'attr_tau': ('line_status', 'topo_vect'),\n",
      " 'attr_x': ('prod_p', 'prod_v', 'load_p', 'load_q'),\n",
      " 'attr_y': ('a_or', 'a_ex'),\n",
      " 'env_name': 'l2rpn_case14_sandbox',\n",
      " 'env_params': {'MAX_LINE_STATUS_CHANGED': 999999,\n",
      "                'MAX_SUB_CHANGED': 999999,\n",
      "                'NB_TIMESTEP_COOLDOWN_LINE': 0,\n",
      "                'NB_TIMESTEP_COOLDOWN_SUB': 0,\n",
      "                'NO_OVERFLOW_DISCONNECTION': True},\n",
      " 'eval_dict': {'IndRed': [],\n",
      "               'ML': ['MSE_avg', 'MAE_avg', 'mape_90_avg'],\n",
      "               'OOD': ['MSE_avg', 'MAE_avg', 'mape_90_avg'],\n",
      "               'Physics': ['CURRENT_POS']},\n",
      " 'eval_params': {'ACTIVE_FLOW': True,\n",
      "                 'EL_tolerance': 0.04,\n",
      "                 'KCL_tolerance': 0.01,\n",
      "                 'LCE_tolerance': 0.001},\n",
      " 'utils_lib': 'scen1_utils'}\n"
     ]
    }
   ],
   "source": [
    "pprint(benchmark1.config.get_options_dict())"
   ]
  },
  {
   "cell_type": "markdown",
   "id": "42419b07",
   "metadata": {},
   "source": [
    "It can be seen that for this benchmark, the considered input variables include injections to the power grid (`attr_x`) and also the topology related variables (`attr_tau`), which can be exploited differently by each augmented simulator. The outputs (`attr_y`) include only electricity currents (A).\n",
    "\n",
    "We observe also some environment related parameters (`env_name`and `env_params`).\n",
    "\n",
    "One can also indicate the evaluation criteria that should be calculated to evaluate the performance of a **trained** augmented simulator. \n",
    "\n",
    "For example, for this benchmark, we would like to evaluate some machine learning (`ML`) criteria such as _MSE_, _MAE_ and _MAPE90_ and some physics compliances (`Physics`) such as current positivity (_CURRENT_POS_), as we are in the configuration of a simple benchmark that we would like only predict the electrical currents. "
   ]
  },
  {
   "cell_type": "markdown",
   "id": "a605ab42",
   "metadata": {},
   "source": [
    "# 2. Augmentd Simulator using Pytorch <a class=\"anchor\" id=\"simulator-torch\"></a>"
   ]
  },
  {
   "cell_type": "markdown",
   "id": "bd588cd0",
   "metadata": {},
   "source": [
    "> ### step 2 <a class=\"anchor\" id=\"step2\"></a>\n",
    "\n",
    "We start by training an augmented simualtor on the _Benchmark1_ dataset. \n",
    "\n",
    "**NB.** for the moment to be able to use Torch base models, we encourage the users to install _pytorch_ using the instructions provided [here](https://pytorch.org/get-started/locally/)."
   ]
  },
  {
   "cell_type": "markdown",
   "id": "f34218a6",
   "metadata": {},
   "source": [
    "## Instantiate the torch model"
   ]
  },
  {
   "cell_type": "markdown",
   "id": "6bb1b54e",
   "metadata": {},
   "source": [
    "In order to be able to use a _torch_ based model, two following elements are required and a scaler is optional if not recommended (It is highly recommended to use a scaler for a better convergence):\n",
    "- `TorchSimulator`: This class is a sort of controller which takes as the argument a torch based model and allows to `train`, `evaluate`, `load`, `save`, and some other interesting stuffs (visualisation, etc.).\n",
    "\n",
    "- Model (sub-class of `torch.nn.Module`) : The torch core model which defines the model architecture and how the different elements interact with each other through the `forward` function which applies the forward pass of neural nets. Some model specific parameters could also be implemented in this class, such as data preparation, as it can be unique to each model, and some meta-data that should be saved or restored.\n",
    "\n",
    "__NB.__ In LIPS platform, an example of such Model is `TorchFullyConnected` which has been provided in _torch_models_ package under the augmented simulators. "
   ]
  },
  {
   "cell_type": "code",
   "execution_count": 5,
   "id": "666ef142",
   "metadata": {},
   "outputs": [],
   "source": [
    "from lips.augmented_simulators.torch_models.fully_connected import TorchFullyConnected\n",
    "from lips.augmented_simulators.torch_simulator import TorchSimulator\n",
    "from lips.dataset.scaler import StandardScaler"
   ]
  },
  {
   "cell_type": "code",
   "execution_count": 6,
   "id": "efe44007",
   "metadata": {},
   "outputs": [],
   "source": [
    "torch_sim = TorchSimulator(name=\"torch_fc\",\n",
    "                           model=TorchFullyConnected,\n",
    "                           scaler=StandardScaler,\n",
    "                           log_path=LOG_PATH,\n",
    "                           device=\"cuda:0\",\n",
    "                           seed=42\n",
    "                          )"
   ]
  },
  {
   "cell_type": "markdown",
   "id": "e5dff92e",
   "metadata": {},
   "source": [
    "**It is magic, but how the \"hyper-parameters\" for this augmented simulator could be defined ?**\n",
    "\n",
    "> Good remark! In LIPS platform with each model, a configuration file is associated which maintain the exclusive set of its hyper-parameters. These configuration file is available at `augmented_simulators/configurations` directory. They could be seen (as you can see below), and one also could modify them on-the-fly by indicating some supplementary arguments (`**kwargs`) to the `TorchSimulator` class.\n",
    "\n",
    "The parameters used for training and evaluation of this augmented simulator."
   ]
  },
  {
   "cell_type": "code",
   "execution_count": 7,
   "id": "565cc777",
   "metadata": {},
   "outputs": [
    {
     "name": "stdout",
     "output_type": "stream",
     "text": [
      "{'activation': 'relu',\n",
      " 'ckpt_freq': 50,\n",
      " 'device': 'cuda:0',\n",
      " 'dropout': 0.0,\n",
      " 'epochs': 10,\n",
      " 'eval_batch_size': 128,\n",
      " 'input_dropout': 0.0,\n",
      " 'layer': 'linear',\n",
      " 'layers': (300, 300, 300, 300),\n",
      " 'loss': {'name': 'MSELoss',\n",
      "          'params': {'reduce': None,\n",
      "                     'reduction': 'mean',\n",
      "                     'size_average': None}},\n",
      " 'metrics': ('MAELoss',),\n",
      " 'name': 'torch_fc',\n",
      " 'optimizer': {'name': 'adam', 'params': {'lr': 0.0003}},\n",
      " 'save_freq': False,\n",
      " 'shuffle': False,\n",
      " 'train_batch_size': 128}\n"
     ]
    }
   ],
   "source": [
    "pprint(torch_sim.params)"
   ]
  },
  {
   "cell_type": "markdown",
   "id": "5a521cca",
   "metadata": {},
   "source": [
    "## Train it \n",
    "We can easily train the augmneted simualtor using the `train` function of our controller (`TorchSimulator`) and by indicating the right set of arguments which are:\n",
    "\n",
    "- `train_dataset` (mendatory): a dataset, on instances of which the augmented simulator is trained\n",
    "\n",
    "- `val_dataset` (optional): a dataset, on instances of which the augmented simulator is validated (to study the convergence and overfitting)\n",
    "\n",
    "- `save_path` (optional): whether to save the model, but don't worry, you can save the model once it is trained using `save` function of the controller. \n",
    "\n",
    "- `kwargs` (optional): some supplementary arguments which allows to change the default configurations on-the-fly. For example; we have increased the epoch size here (`epochs=100`) "
   ]
  },
  {
   "cell_type": "code",
   "execution_count": null,
   "id": "188e8922",
   "metadata": {},
   "outputs": [],
   "source": [
    "torch_sim.train(benchmark1.train_dataset, benchmark1.val_dataset, save_path=None, epochs=100)"
   ]
  },
  {
   "cell_type": "markdown",
   "id": "6b427190",
   "metadata": {},
   "source": [
    "#### Verify the model architecture\n",
    "We can also print the model structure using a `summary` function of the controller. It can be seen that there are four hidden layers between inputs and outputs of our fully connected neural network without any dropout as the `dropout` parameters are set to $0$."
   ]
  },
  {
   "cell_type": "code",
   "execution_count": 9,
   "id": "dabb60ed",
   "metadata": {},
   "outputs": [
    {
     "name": "stdout",
     "output_type": "stream",
     "text": [
      "TorchFullyConnected(\n",
      "  (input_layer): Linear(in_features=111, out_features=300, bias=True)\n",
      "  (input_dropout): Dropout(p=0.0, inplace=False)\n",
      "  (fc_layers): ModuleList(\n",
      "    (0): Linear(in_features=300, out_features=300, bias=True)\n",
      "    (1): Linear(in_features=300, out_features=300, bias=True)\n",
      "    (2): Linear(in_features=300, out_features=300, bias=True)\n",
      "  )\n",
      "  (dropout_layers): ModuleList(\n",
      "    (0): Dropout(p=0.0, inplace=False)\n",
      "    (1): Dropout(p=0.0, inplace=False)\n",
      "    (2): Dropout(p=0.0, inplace=False)\n",
      "  )\n",
      "  (output_layer): Linear(in_features=300, out_features=40, bias=True)\n",
      ")\n"
     ]
    }
   ],
   "source": [
    "torch_sim.summary()"
   ]
  },
  {
   "cell_type": "markdown",
   "id": "79880a44",
   "metadata": {},
   "source": [
    "The number of parameters can also be verified using `count_parameters` function of the controller `TorchSimulator`. It can be used to have an image of the complexity of the model. "
   ]
  },
  {
   "cell_type": "code",
   "execution_count": 10,
   "id": "44d5c4e6",
   "metadata": {},
   "outputs": [
    {
     "name": "stdout",
     "output_type": "stream",
     "text": [
      "Number of parameters of the model:  316540\n"
     ]
    }
   ],
   "source": [
    "print(\"Number of parameters of the model: \", torch_sim.count_parameters())"
   ]
  },
  {
   "cell_type": "markdown",
   "id": "78a7d319",
   "metadata": {},
   "source": [
    "#### Visualize the performance \n",
    "Futhermore, we can also visualize the convergence curves computed during training of the model using `visualize_convergence` function of the controller. \n",
    "\n",
    "- The first plot shows the loss function (here we have used mean squared error or `MSE`) used for the learning of the model, on the basis of which the back-propagation is performed. \n",
    "- The right hand side shows the metrics that are computed alongside the loss function for supplementary information concerning the model's behavior. Here, we have opted for mean absolute error (`MAE`). "
   ]
  },
  {
   "cell_type": "code",
   "execution_count": 11,
   "id": "111899d1",
   "metadata": {},
   "outputs": [
    {
     "data": {
      "image/png": "[encoded data removed]",
      "text/plain": [
       "<Figure size 1080x360 with 2 Axes>"
      ]
     },
     "metadata": {
      "needs_background": "light"
     },
     "output_type": "display_data"
    }
   ],
   "source": [
    "torch_sim.visualize_convergence()"
   ]
  },
  {
   "cell_type": "markdown",
   "id": "ecbb56d9",
   "metadata": {},
   "source": [
    "## Evaluate\n",
    "\n",
    "> ### step 3 <a class=\"anchor\" id=\"step3\"></a>\n",
    "\n",
    "Once the benchmark is instantiated and an augmented simulator is learned, the time is come to evaluate the performances with a set of criteria gathere from various cateogories which are:\n",
    "- Machine Learning point of view (ML)\n",
    "- Physics Compliances (Physics)\n",
    "- Industrial readiness (IndRed)\n",
    "- Out-Of-Distribution generalization (OOD)\n",
    "\n",
    "In order to compute these criteria on the results (predictions) of an augmented simulator, the benchmark module provides an `evaluate_simulator` function which takes following arguments:\n",
    "- `augmented_simulator`: a **trained** augmented simulator\n",
    "\n",
    "- `eval_batch_size`: the batch size used for evaluation. From industry point-of-view the whole dataset is not available and could be observed over time. For this reason it is more reasonable to evaluate the data by batches and measure the _inference time_ from industrial point of view.\n",
    "\n",
    "- `dataset`: the labels of datasets that should be considered for evaluation. It can be `all` if the evaluation should be performed on `val`, `test`, `test_ood_topo` datasets, corresponding to validation, test and out-of-distribution test datasets.\n",
    "\n",
    "- `shuffle`: should be set to `False` for the moment. The shuffling at the evaluation time does not change anything.  "
   ]
  },
  {
   "cell_type": "code",
   "execution_count": 10,
   "id": "d732eb28",
   "metadata": {},
   "outputs": [],
   "source": [
    "# TODO: log the losses\n",
    "torch_sim_metrics = benchmark1.evaluate_simulator(augmented_simulator=torch_sim,\n",
    "                                                  eval_batch_size=128,\n",
    "                                                  dataset=\"all\",\n",
    "                                                  shuffle=False\n",
    "                                                 )"
   ]
  },
  {
   "cell_type": "markdown",
   "id": "24a49412",
   "metadata": {},
   "source": [
    "Once the evaluation has been finished, we can report the evaluation results. The evaluation results are stored in a dictionary and all the steps are logged in a log file located at `LOG_PATH`. \n",
    "\n",
    "Every dictionary, contains various level keys:\n",
    "\n",
    "- The _first level_ corresponds to the datasets labels (\"test\", \"val\", \"test_ood_topo\")\n",
    "\n",
    "- The _second level_ corresponds to metric categories (\"ML\", \"Physics\", \"IndRed\", \"OOD\")\n",
    "\n",
    "- The _third level_ may exist only for some criteria and corresponds to the variable name."
   ]
  },
  {
   "cell_type": "markdown",
   "id": "ed90fd0d",
   "metadata": {},
   "source": [
    "#### Machine Learning "
   ]
  },
  {
   "cell_type": "markdown",
   "id": "54c476ed",
   "metadata": {},
   "source": [
    "Here we have reported the Machine Learning (`ML`) metrics for `test` dataset. As it can be seen all the criteria opted in benchmark configuration file are computed for prediction results which are: \n",
    "\n",
    "- Average Mean Squared Error (`MSE_avg`)\n",
    "\n",
    "- Averaged Mean Absolute Error (`MAE_avg`)\n",
    "\n",
    "- Averaged Mean Absolute Percentage Error computed on 10% of highest current values (`mape_90_avg`)"
   ]
  },
  {
   "cell_type": "code",
   "execution_count": 13,
   "id": "e9897b0a",
   "metadata": {},
   "outputs": [
    {
     "data": {
      "text/plain": [
       "{'MSE_avg': {'a_or': 12.162887573242188, 'a_ex': 32.363277435302734},\n",
       " 'MAE_avg': {'a_or': 1.90395987033844, 'a_ex': 2.761444330215454},\n",
       " 'mape_90_avg': {'a_or': 0.00684316618605507, 'a_ex': 0.006901279701912348}}"
      ]
     },
     "execution_count": 13,
     "metadata": {},
     "output_type": "execute_result"
    }
   ],
   "source": [
    "torch_sim_metrics[\"test\"][\"ML\"]"
   ]
  },
  {
   "cell_type": "markdown",
   "id": "4998e21e",
   "metadata": {},
   "source": [
    "The same set of criteria are also computed on a *out-of-distribution* dataset `test_ood_topo` where the data distribution is not the same during the training and the evaluation phases. There could be more than one disconnected lines observed during the evaluation phase, whereas there is maximum one disconnected line that can be observed during the training."
   ]
  },
  {
   "cell_type": "code",
   "execution_count": 14,
   "id": "442fd5e7",
   "metadata": {},
   "outputs": [
    {
     "data": {
      "text/plain": [
       "{'MSE_avg': {'a_or': 7088.90234375, 'a_ex': 12512.625},\n",
       " 'MAE_avg': {'a_or': 33.76438903808594, 'a_ex': 47.10655975341797},\n",
       " 'mape_90_avg': {'a_or': 0.16270857272711076, 'a_ex': 0.16289304407060992}}"
      ]
     },
     "execution_count": 14,
     "metadata": {},
     "output_type": "execute_result"
    }
   ],
   "source": [
    "torch_sim_metrics[\"test_ood_topo\"][\"ML\"]"
   ]
  },
  {
   "cell_type": "markdown",
   "id": "9201b9d7",
   "metadata": {},
   "source": [
    "#### Physics\n",
    "Here we have reported the Physics Compliances (`Physics`) metrics for `test` dataset. As it can be seen, only the current positivity is computed for this simple first benchmark as it predicts only the electrical currents (currents at the origin `a_or` and at the extremity side `a_ex` of power lines). \n",
    "\n",
    "**NB.** It should be noted that more complicated physical laws are relied on more flow variables (active and reactive powers, voltage, voltage angles)."
   ]
  },
  {
   "cell_type": "code",
   "execution_count": 11,
   "id": "e45eae0d",
   "metadata": {},
   "outputs": [
    {
     "data": {
      "text/plain": [
       "0.02842"
      ]
     },
     "execution_count": 11,
     "metadata": {},
     "output_type": "execute_result"
    }
   ],
   "source": [
    "torch_sim_metrics[\"test\"][\"Physics\"][\"CURRENT_POS\"][\"a_or\"][\"Violation_proportion\"]"
   ]
  },
  {
   "cell_type": "code",
   "execution_count": 12,
   "id": "e5a5288c",
   "metadata": {},
   "outputs": [
    {
     "data": {
      "text/plain": [
       "0.024085"
      ]
     },
     "execution_count": 12,
     "metadata": {},
     "output_type": "execute_result"
    }
   ],
   "source": [
    "torch_sim_metrics[\"test_ood_topo\"][\"Physics\"][\"CURRENT_POS\"][\"a_or\"][\"Violation_proportion\"]"
   ]
  },
  {
   "cell_type": "markdown",
   "id": "79e6ad18",
   "metadata": {},
   "source": [
    "It can be observed that the fully connected architecture violates the current positivity with a rate of $2\\%$."
   ]
  },
  {
   "cell_type": "markdown",
   "id": "5b34ac09",
   "metadata": {},
   "source": [
    "#### Industrial Readiness"
   ]
  },
  {
   "cell_type": "markdown",
   "id": "77db534b",
   "metadata": {},
   "source": [
    "Herein, we can also analyze the time required for the inference phase of the augmented simulator as the objective is to reduce the physical solvers time complexity using an augmented simualtor by maintaining a good prediction precision in terms of various evaluation criteria. \n",
    "\n",
    "<span style=\"color:red\">**TODO**</span> \n",
    "- It should be added in industrial readiness evaluation criteria category.\n",
    "- It should also be reported for each evaluation dataset independently.\n",
    "- Further investigation with greater details (hardware and software) for reporting computation time is required.\n"
   ]
  },
  {
   "cell_type": "code",
   "execution_count": 15,
   "id": "ea5d00f8",
   "metadata": {},
   "outputs": [
    {
     "data": {
      "text/plain": [
       "0.025376319885253906"
      ]
     },
     "execution_count": 15,
     "metadata": {},
     "output_type": "execute_result"
    }
   ],
   "source": [
    "torch_sim.predict_time"
   ]
  },
  {
   "cell_type": "markdown",
   "id": "ebe97868",
   "metadata": {},
   "source": [
    "### Save\n",
    "In order to gain time in future, the trained models could be saved and loaded easily using the `save` and `load` functions offered by the `TorchSimulator`, which save a set of elements required for the model to work independently. More precisely, when you call save, the following informations are saved:\n",
    "\n",
    "- The learned model weights\n",
    "\n",
    "- The model configurations (hyper parameters)\n",
    "\n",
    "- The model meta data infered after training (input and output shapes)\n",
    "\n",
    "- The losses computed during the training of the augmented simulator\n",
    "\n",
    "- The scaler parameters (means and standard deviations if `StandardScaler` is used)"
   ]
  },
  {
   "cell_type": "code",
   "execution_count": 16,
   "id": "c1483ca1",
   "metadata": {},
   "outputs": [],
   "source": [
    "torch_sim.save(TRAINED_MODEL_PATH)"
   ]
  },
  {
   "cell_type": "markdown",
   "id": "4116cba1",
   "metadata": {},
   "source": [
    "### Load\n",
    "Load it from stored information concerning the model and its hyper-parameters.\n",
    "\n",
    "To be able to load the dataset the `TorchSimulator` should be instantiated. "
   ]
  },
  {
   "cell_type": "code",
   "execution_count": 8,
   "id": "0e2c6f88",
   "metadata": {},
   "outputs": [],
   "source": [
    "from lips.augmented_simulators.torch_models.fully_connected import TorchFullyConnected\n",
    "from lips.augmented_simulators.torch_simulator import TorchSimulator\n",
    "from lips.dataset.scaler import StandardScaler\n",
    "\n",
    "torch_sim = TorchSimulator(name=\"torch_fc\",\n",
    "                           model=TorchFullyConnected,\n",
    "                           scaler=StandardScaler,\n",
    "                           log_path=LOG_PATH,\n",
    "                           seed=42\n",
    "                          )"
   ]
  },
  {
   "cell_type": "markdown",
   "id": "96dbd62d",
   "metadata": {},
   "source": [
    "Now we can restore the model by calling only the restore which will call some internal functions to load all the metadata and model related informations as weights."
   ]
  },
  {
   "cell_type": "code",
   "execution_count": 9,
   "id": "accc24ba",
   "metadata": {},
   "outputs": [],
   "source": [
    "torch_sim.restore(path=TRAINED_MODEL_PATH)"
   ]
  },
  {
   "cell_type": "markdown",
   "id": "1d94d545",
   "metadata": {},
   "source": [
    "# 3. Augmented Simulator using Tensorflow <a class=\"anchor\" id=\"tf-simulator\"></a>\n",
    "\n",
    "Here we present the tensorflow based augmented simulators for learning a physical domain. Two different architectures are included for the moment in LIPS framework, which are : \n",
    "- Fully Connected Neural Network\n",
    "- LeapNet Neural network\n",
    "\n",
    "The tensorflow side implementations are a little bit different from torch based implementations. In order to generalize on more architectures, we allow that each model (architecture) be a subclass of `TensorflowSimulator` base class. The main functions to `train`, `evaluate`, `load`, `save` models are implemented in base class and could be used directly by sub-classes without any overloading. Some specific tasks as data preparation and post processing of predictions could be done using the child classes."
   ]
  },
  {
   "cell_type": "markdown",
   "id": "95df69be",
   "metadata": {},
   "source": [
    "## 3.1 Fully Connected Neural Network <a class=\"anchor\" id=\"tf-fc\"></a>"
   ]
  },
  {
   "cell_type": "code",
   "execution_count": 5,
   "id": "c0545b9b",
   "metadata": {},
   "outputs": [],
   "source": [
    "from lips.augmented_simulators.tensorflow_models import TfFullyConnected\n",
    "from lips.dataset.scaler import StandardScaler"
   ]
  },
  {
   "cell_type": "code",
   "execution_count": 6,
   "id": "6c3cfc62",
   "metadata": {},
   "outputs": [],
   "source": [
    "tf_fc = TfFullyConnected(name=\"tf_fc\",\n",
    "                         bench_config_name=\"Benchmark1\",\n",
    "                         scaler=StandardScaler,\n",
    "                         log_path=LOG_PATH)"
   ]
  },
  {
   "cell_type": "markdown",
   "id": "116f7fdb",
   "metadata": {},
   "source": [
    "### Train it"
   ]
  },
  {
   "cell_type": "code",
   "execution_count": null,
   "id": "f771e9cc",
   "metadata": {},
   "outputs": [],
   "source": [
    "tf_fc.train(train_dataset=benchmark1.train_dataset,\n",
    "            val_dataset=benchmark1.val_dataset,\n",
    "            epochs=100\n",
    "           )"
   ]
  },
  {
   "cell_type": "code",
   "execution_count": 9,
   "id": "e6748625",
   "metadata": {},
   "outputs": [
    {
     "name": "stdout",
     "output_type": "stream",
     "text": [
      "Number of parameters : 316540\n"
     ]
    }
   ],
   "source": [
    "print(\"Number of parameters :\", tf_fc.count_parameters())"
   ]
  },
  {
   "cell_type": "code",
   "execution_count": 35,
   "id": "e940b9a3",
   "metadata": {},
   "outputs": [
    {
     "name": "stdout",
     "output_type": "stream",
     "text": [
      "Model: \"tf_fc_model\"\n",
      "_________________________________________________________________\n",
      "Layer (type)                 Output Shape              Param #   \n",
      "=================================================================\n",
      "input (InputLayer)           [(None, 111)]             0         \n",
      "_________________________________________________________________\n",
      "input_dropout (Dropout)      (None, 111)               0         \n",
      "_________________________________________________________________\n",
      "layer_0 (Dense)              (None, 300)               33600     \n",
      "_________________________________________________________________\n",
      "activation_0 (Activation)    (None, 300)               0         \n",
      "_________________________________________________________________\n",
      "dropout_0 (Dropout)          (None, 300)               0         \n",
      "_________________________________________________________________\n",
      "layer_1 (Dense)              (None, 300)               90300     \n",
      "_________________________________________________________________\n",
      "activation_1 (Activation)    (None, 300)               0         \n",
      "_________________________________________________________________\n",
      "dropout_1 (Dropout)          (None, 300)               0         \n",
      "_________________________________________________________________\n",
      "layer_2 (Dense)              (None, 300)               90300     \n",
      "_________________________________________________________________\n",
      "activation_2 (Activation)    (None, 300)               0         \n",
      "_________________________________________________________________\n",
      "dropout_2 (Dropout)          (None, 300)               0         \n",
      "_________________________________________________________________\n",
      "layer_3 (Dense)              (None, 300)               90300     \n",
      "_________________________________________________________________\n",
      "activation_3 (Activation)    (None, 300)               0         \n",
      "_________________________________________________________________\n",
      "dropout_3 (Dropout)          (None, 300)               0         \n",
      "_________________________________________________________________\n",
      "dense (Dense)                (None, 40)                12040     \n",
      "=================================================================\n",
      "Total params: 316,540\n",
      "Trainable params: 316,540\n",
      "Non-trainable params: 0\n",
      "_________________________________________________________________\n",
      "None\n"
     ]
    }
   ],
   "source": [
    "tf_fc.summary()"
   ]
  },
  {
   "cell_type": "markdown",
   "id": "644b5fab",
   "metadata": {},
   "source": [
    "Save a visulaization of the architecture on disk"
   ]
  },
  {
   "cell_type": "code",
   "execution_count": 28,
   "id": "80e720ce",
   "metadata": {},
   "outputs": [],
   "source": [
    "tf_fc.plot_model(path=\".\")"
   ]
  },
  {
   "cell_type": "code",
   "execution_count": 10,
   "id": "ca06bdb2",
   "metadata": {},
   "outputs": [
    {
     "data": {
      "image/png": "[encoded data removed]",
      "text/plain": [
       "<Figure size 1080x360 with 2 Axes>"
      ]
     },
     "metadata": {
      "needs_background": "light"
     },
     "output_type": "display_data"
    }
   ],
   "source": [
    "tf_fc.visualize_convergence()"
   ]
  },
  {
   "cell_type": "markdown",
   "id": "4881457a",
   "metadata": {},
   "source": [
    "### Evaluation "
   ]
  },
  {
   "cell_type": "code",
   "execution_count": null,
   "id": "909c51e0",
   "metadata": {},
   "outputs": [],
   "source": [
    "# TODO: log the losses\n",
    "tf_fc_metrics = benchmark1.evaluate_simulator(augmented_simulator=tf_fc,\n",
    "                                              eval_batch_size=128,\n",
    "                                              dataset=\"all\",\n",
    "                                              shuffle=False\n",
    "                                             )"
   ]
  },
  {
   "cell_type": "markdown",
   "id": "7f36be04",
   "metadata": {},
   "source": [
    "#### Machine Learning"
   ]
  },
  {
   "cell_type": "code",
   "execution_count": 9,
   "id": "4742049d",
   "metadata": {},
   "outputs": [
    {
     "data": {
      "text/plain": [
       "{'MSE_avg': {'a_or': 6.094569206237793, 'a_ex': 14.694607734680176},\n",
       " 'MAE_avg': {'a_or': 1.5416427850723267, 'a_ex': 2.182431697845459},\n",
       " 'mape_90_avg': {'a_or': 0.005639203993346367, 'a_ex': 0.005468105285866228}}"
      ]
     },
     "execution_count": 9,
     "metadata": {},
     "output_type": "execute_result"
    }
   ],
   "source": [
    "tf_fc_metrics[\"test\"][\"ML\"]"
   ]
  },
  {
   "cell_type": "code",
   "execution_count": 10,
   "id": "a1cb1a5a",
   "metadata": {},
   "outputs": [
    {
     "data": {
      "text/plain": [
       "{'MSE_avg': {'a_or': 8205.099609375, 'a_ex': 15183.755859375},\n",
       " 'MAE_avg': {'a_or': 40.409645080566406, 'a_ex': 56.930023193359375},\n",
       " 'mape_90_avg': {'a_or': 0.19705775114933072, 'a_ex': 0.19675627288501002}}"
      ]
     },
     "execution_count": 10,
     "metadata": {},
     "output_type": "execute_result"
    }
   ],
   "source": [
    "tf_fc_metrics[\"test_ood_topo\"][\"ML\"]"
   ]
  },
  {
   "cell_type": "markdown",
   "id": "c20833ec",
   "metadata": {},
   "source": [
    "#### Physics"
   ]
  },
  {
   "cell_type": "code",
   "execution_count": 39,
   "id": "79cf6f45",
   "metadata": {},
   "outputs": [
    {
     "data": {
      "text/plain": [
       "0.02781"
      ]
     },
     "execution_count": 39,
     "metadata": {},
     "output_type": "execute_result"
    }
   ],
   "source": [
    "tf_fc_metrics[\"test\"][\"Physics\"][\"CURRENT_POS\"][\"a_or\"][\"Violation_proportion\"]"
   ]
  },
  {
   "cell_type": "code",
   "execution_count": 40,
   "id": "e725192e",
   "metadata": {},
   "outputs": [
    {
     "data": {
      "text/plain": [
       "0.0169"
      ]
     },
     "execution_count": 40,
     "metadata": {},
     "output_type": "execute_result"
    }
   ],
   "source": [
    "tf_fc_metrics[\"test_ood_topo\"][\"Physics\"][\"CURRENT_POS\"][\"a_or\"][\"Violation_proportion\"]"
   ]
  },
  {
   "cell_type": "markdown",
   "id": "40bb9364",
   "metadata": {},
   "source": [
    "#### Industrial Readiness"
   ]
  },
  {
   "cell_type": "markdown",
   "id": "eee49169",
   "metadata": {},
   "source": [
    "Prediction time used tensorflow\n",
    "\n",
    "**<span style=\"color:red\">TODO</span>**\n",
    "\n",
    "- The above-mentioned remarks for computation time computation should also be considered here."
   ]
  },
  {
   "cell_type": "code",
   "execution_count": 11,
   "id": "2fac0730",
   "metadata": {},
   "outputs": [
    {
     "data": {
      "text/plain": [
       "0.10669374465942383"
      ]
     },
     "execution_count": 11,
     "metadata": {},
     "output_type": "execute_result"
    }
   ],
   "source": [
    "tf_fc.predict_time"
   ]
  },
  {
   "cell_type": "markdown",
   "id": "3fcd0bc0",
   "metadata": {},
   "source": [
    "### Save"
   ]
  },
  {
   "cell_type": "code",
   "execution_count": null,
   "id": "7003f595",
   "metadata": {},
   "outputs": [],
   "source": [
    "tf_fc.save(TRAINED_MODEL_PATH)"
   ]
  },
  {
   "cell_type": "markdown",
   "id": "4bc20b55",
   "metadata": {},
   "source": [
    "### Load "
   ]
  },
  {
   "cell_type": "markdown",
   "id": "b4317062",
   "metadata": {},
   "source": [
    "Load it"
   ]
  },
  {
   "cell_type": "code",
   "execution_count": 6,
   "id": "530b58fa",
   "metadata": {},
   "outputs": [],
   "source": [
    "from lips.augmented_simulators.tensorflow_models import TfFullyConnected\n",
    "from lips.dataset.scaler import StandardScaler\n",
    "\n",
    "tf_fc = TfFullyConnected(name=\"tf_fc\",\n",
    "                         bench_config_name=\"Benchmark1\",\n",
    "                         scaler=StandardScaler,\n",
    "                         log_path=LOG_PATH)"
   ]
  },
  {
   "cell_type": "code",
   "execution_count": null,
   "id": "311ce23a",
   "metadata": {},
   "outputs": [],
   "source": [
    "tf_fc.restore(TRAINED_MODEL_PATH)"
   ]
  },
  {
   "cell_type": "markdown",
   "id": "f9ea54d2",
   "metadata": {},
   "source": [
    "## 3.2 LeapNet Neural Network <a class=\"anchor\" id=\"tf-leapnet\"></a>\n",
    "Instantiating the LeapNet neural network and changing its default parameters on-the-fly. A configuration file (`tf_leapnet.ini`) is associated with this model and is avaiable under augmented_simulator module. This model has its own github page and is available [here](https://github.com/BDonnot/leap_net)."
   ]
  },
  {
   "cell_type": "code",
   "execution_count": 17,
   "id": "b06d7d91",
   "metadata": {},
   "outputs": [],
   "source": [
    "from lips.augmented_simulators.tensorflow_models import LeapNet\n",
    "from lips.dataset.scaler import PowerGridScaler"
   ]
  },
  {
   "cell_type": "code",
   "execution_count": 27,
   "id": "e8dba3dd",
   "metadata": {},
   "outputs": [],
   "source": [
    "leap_net = LeapNet(name=\"tf_leapnet\",\n",
    "                   bench_config_name=\"Benchmark1\",\n",
    "                   sizes_main=(150, 150),\n",
    "                   sizes_enc=(20, 20, 20),\n",
    "                   sizes_out=(100, 40),\n",
    "                   scaler=PowerGridScaler,\n",
    "                   log_path=LOG_PATH)"
   ]
  },
  {
   "cell_type": "code",
   "execution_count": 28,
   "id": "c661ee78",
   "metadata": {},
   "outputs": [
    {
     "data": {
      "text/plain": [
       "{'name': 'tf_leapnet',\n",
       " 'sizes_enc': (20, 20, 20),\n",
       " 'sizes_main': (150, 150),\n",
       " 'sizes_out': (100, 40),\n",
       " 'activation': 'relu',\n",
       " 'layer': 'linear',\n",
       " 'input_dropout': 0.0,\n",
       " 'dropout': 0.0,\n",
       " 'metrics': ['mae'],\n",
       " 'loss': {'name': 'mse',\n",
       "  'params': {'size_average': None, 'reduce': None, 'reduction': 'mean'}},\n",
       " 'optimizer': {'name': 'adam', 'params': {'lr': 0.0003}},\n",
       " 'train_batch_size': 128,\n",
       " 'eval_batch_size': 128,\n",
       " 'epochs': 10,\n",
       " 'shuffle': True,\n",
       " 'save_freq': False,\n",
       " 'ckpt_freq': 50,\n",
       " 'topo_vect_to_tau': 'all',\n",
       " 'kwargs_tau': None,\n",
       " 'mult_by_zero_lines_pred': True,\n",
       " 'scale_main_layer': None,\n",
       " 'scale_input_dec_layer': None,\n",
       " 'scale_input_enc_layer': None}"
      ]
     },
     "execution_count": 28,
     "metadata": {},
     "output_type": "execute_result"
    }
   ],
   "source": [
    "leap_net.params"
   ]
  },
  {
   "cell_type": "code",
   "execution_count": null,
   "id": "d58808b6",
   "metadata": {},
   "outputs": [],
   "source": [
    "leap_net.summary()"
   ]
  },
  {
   "cell_type": "code",
   "execution_count": 37,
   "id": "f8e8350d",
   "metadata": {},
   "outputs": [
    {
     "data": {
      "text/plain": [
       "202250"
      ]
     },
     "execution_count": 37,
     "metadata": {},
     "output_type": "execute_result"
    }
   ],
   "source": [
    "leap_net.count_parameters()"
   ]
  },
  {
   "cell_type": "markdown",
   "id": "1f2ec7da",
   "metadata": {},
   "source": [
    "### Train it"
   ]
  },
  {
   "cell_type": "code",
   "execution_count": null,
   "id": "68553a36",
   "metadata": {},
   "outputs": [],
   "source": [
    "leap_net.train(train_dataset=benchmark1.train_dataset,\n",
    "               val_dataset=benchmark1.val_dataset,\n",
    "               epochs=200\n",
    "              )"
   ]
  },
  {
   "cell_type": "markdown",
   "id": "2e4b438a",
   "metadata": {},
   "source": [
    "Visualize and analyzethe convergence"
   ]
  },
  {
   "cell_type": "code",
   "execution_count": 30,
   "id": "ccaddcb6",
   "metadata": {},
   "outputs": [
    {
     "data": {
      "image/png": "[encoded data removed]",
      "text/plain": [
       "<Figure size 1080x360 with 2 Axes>"
      ]
     },
     "metadata": {
      "needs_background": "light"
     },
     "output_type": "display_data"
    }
   ],
   "source": [
    "leap_net.visualize_convergence()"
   ]
  },
  {
   "cell_type": "markdown",
   "id": "34a3f47f",
   "metadata": {},
   "source": [
    "### Evaluation "
   ]
  },
  {
   "cell_type": "code",
   "execution_count": 31,
   "id": "20e0c493",
   "metadata": {},
   "outputs": [],
   "source": [
    "# TODO: log the losses\n",
    "tf_leapnet_metrics = benchmark1.evaluate_simulator(augmented_simulator=leap_net,\n",
    "                                                   eval_batch_size=128,\n",
    "                                                   dataset=\"all\",\n",
    "                                                   shuffle=False\n",
    "                                                  )"
   ]
  },
  {
   "cell_type": "markdown",
   "id": "3734f0da",
   "metadata": {},
   "source": [
    "#### Machine Learning"
   ]
  },
  {
   "cell_type": "markdown",
   "id": "4a6fcec5",
   "metadata": {},
   "source": [
    "<span style=\"color: green\">**It can be observed that the LeapNet model have a much better generalization capacity than the fully connected architecture.**</span>"
   ]
  },
  {
   "cell_type": "code",
   "execution_count": 32,
   "id": "37b17c52",
   "metadata": {},
   "outputs": [
    {
     "data": {
      "text/plain": [
       "{'MSE_avg': {'a_or': 20.370399475097656, 'a_ex': 53.8585205078125},\n",
       " 'MAE_avg': {'a_or': 2.6287999153137207, 'a_ex': 3.8664772510528564},\n",
       " 'mape_90_avg': {'a_or': 0.00782326424530298, 'a_ex': 0.007420517511013862}}"
      ]
     },
     "execution_count": 32,
     "metadata": {},
     "output_type": "execute_result"
    }
   ],
   "source": [
    "tf_leapnet_metrics[\"test\"][\"ML\"]"
   ]
  },
  {
   "cell_type": "code",
   "execution_count": 33,
   "id": "e4d18535",
   "metadata": {},
   "outputs": [
    {
     "data": {
      "text/plain": [
       "{'MSE_avg': {'a_or': 6080.419921875, 'a_ex': 10764.7216796875},\n",
       " 'MAE_avg': {'a_or': 30.749267578125, 'a_ex': 42.16881561279297},\n",
       " 'mape_90_avg': {'a_or': 0.12695663833733384, 'a_ex': 0.1333609895651043}}"
      ]
     },
     "execution_count": 33,
     "metadata": {},
     "output_type": "execute_result"
    }
   ],
   "source": [
    "tf_leapnet_metrics[\"test_ood_topo\"][\"ML\"]"
   ]
  },
  {
   "cell_type": "markdown",
   "id": "7b8e69e4",
   "metadata": {},
   "source": [
    "#### Physics"
   ]
  },
  {
   "cell_type": "markdown",
   "id": "c4558cbc",
   "metadata": {},
   "source": [
    "<span style=\"color: green\">**The rate of physics law violation by the LeapNet model is also much lower than the Fully connected model.**</span>"
   ]
  },
  {
   "cell_type": "code",
   "execution_count": 41,
   "id": "4d7a6193",
   "metadata": {},
   "outputs": [
    {
     "data": {
      "text/plain": [
       "0.00028"
      ]
     },
     "execution_count": 41,
     "metadata": {},
     "output_type": "execute_result"
    }
   ],
   "source": [
    "tf_leapnet_metrics[\"test\"][\"Physics\"][\"CURRENT_POS\"][\"a_or\"][\"Violation_proportion\"]"
   ]
  },
  {
   "cell_type": "code",
   "execution_count": 42,
   "id": "4f6f8b31",
   "metadata": {},
   "outputs": [
    {
     "data": {
      "text/plain": [
       "0.003845"
      ]
     },
     "execution_count": 42,
     "metadata": {},
     "output_type": "execute_result"
    }
   ],
   "source": [
    "tf_leapnet_metrics[\"test_ood_topo\"][\"Physics\"][\"CURRENT_POS\"][\"a_or\"][\"Violation_proportion\"]"
   ]
  },
  {
   "cell_type": "markdown",
   "id": "d21a0d34",
   "metadata": {},
   "source": [
    "#### Industrial Readiness"
   ]
  },
  {
   "cell_type": "markdown",
   "id": "00ab86e1",
   "metadata": {},
   "source": [
    "<span style=\"color: purple\">**However, this improvement comes with some costs.**</span>\n",
    "\n",
    "It can be observed that the inference time for LeapNet model ($0.20$ seconds) is higher than a simpler architecture as Fully Connected approach ($0.10$ seconds) using a Nvidia Tesla M40 24GB. However, these results should be considered with some cautions, as the number of trainable parameters is not also the same for these two models."
   ]
  },
  {
   "cell_type": "code",
   "execution_count": 34,
   "id": "ab729a63",
   "metadata": {},
   "outputs": [
    {
     "data": {
      "text/plain": [
       "0.20830965042114258"
      ]
     },
     "execution_count": 34,
     "metadata": {},
     "output_type": "execute_result"
    }
   ],
   "source": [
    "leap_net.predict_time"
   ]
  },
  {
   "cell_type": "markdown",
   "id": "ef419327",
   "metadata": {},
   "source": [
    "### Save"
   ]
  },
  {
   "cell_type": "code",
   "execution_count": 36,
   "id": "7c60092e",
   "metadata": {},
   "outputs": [],
   "source": [
    "leap_net.save(TRAINED_MODEL_PATH)"
   ]
  },
  {
   "cell_type": "markdown",
   "id": "2f1a1b9d",
   "metadata": {},
   "source": [
    "### Restore "
   ]
  },
  {
   "cell_type": "code",
   "execution_count": null,
   "id": "e35d6c2a",
   "metadata": {},
   "outputs": [],
   "source": [
    "from lips.augmented_simulators.tensorflow_models import LeapNet\n",
    "from lips.dataset.scaler import PowerGridScaler\n",
    "\n",
    "leap_net = LeapNet(name=\"tf_leapnet\",\n",
    "                   bench_config_name=\"Benchmark1\",\n",
    "                   scaler=PowerGridScaler,\n",
    "                   log_path=LOG_PATH)"
   ]
  },
  {
   "cell_type": "code",
   "execution_count": null,
   "id": "e7ee0c82",
   "metadata": {},
   "outputs": [],
   "source": [
    "leap_net.restore(path=TRAINED_MODEL_PATH)"
   ]
  }
 ],
 "metadata": {
  "execution": {
   "allow_errors": true,
   "timeout": 300
  },
  "kernelspec": {
   "display_name": "lips",
   "language": "python",
   "name": "lips"
  },
  "language_info": {
   "codemirror_mode": {
    "name": "ipython",
    "version": 3
   },
   "file_extension": ".py",
   "mimetype": "text/x-python",
   "name": "python",
   "nbconvert_exporter": "python",
   "pygments_lexer": "ipython3",
   "version": "3.8.0"
  }
 },
 "nbformat": 4,
 "nbformat_minor": 5
}
