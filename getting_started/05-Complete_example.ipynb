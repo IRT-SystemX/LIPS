{
 "cells": [
  {
   "cell_type": "markdown",
   "id": "04273ddf",
   "metadata": {},
   "source": [
    "# LIPS : Learning Industrial physical simulationbenchmark suite: the power grid case"
   ]
  },
  {
   "cell_type": "markdown",
   "id": "589ecccc",
   "metadata": {},
   "source": [
    "The benchmarking platform (as it can be observed in the Figure below) is composed of three main modules: Data, Benchmarking and Evaluation. As the names suggest, each module is specialized with its own set of functions for a specific task. The Data module is the one that helps to generate different dataset and distributions providing a high flexibility using a set of parameters. Once the datasets are generated, the benchmarking platform will take as entry the generated dataset and perform a required benchmark on it. Each benchmark could be precised via the inputs and outputs required for modeling and prediction. Finally, in order to evaluate the performance of each benchmark, the Evaluation module provides a set of functions to inspect the models from different point of views (physics compliances, machine learning metrics, adaptability and readiness.  "
   ]
  },
  {
   "cell_type": "markdown",
   "id": "accaf99a",
   "metadata": {},
   "source": [
    "The figure below presents the scheme of benchmarking platform which is composed of three distinct parts : \n",
    "* DataSet: Generate some dataset for training and evaluation \n",
    "* Benchmark: coordinates between different parts and allows train and evaluate an agumented simulator \n",
    "* Evaluation: once the benchmark done, it allow to evaluate the performance with respect to various point of views\n",
    "\n",
    "![title](img/Benchmarking_scheme_v2.png)"
   ]
  },
  {
   "cell_type": "markdown",
   "id": "76694fbc",
   "metadata": {},
   "source": [
    "# Benchmark1: Risk assessment through contingency screening\n",
    "Table of contents:\n",
    "- [1. Creating Benchmark](#create-benchmark)\n",
    "- [2. Torch Augmented Simulator](#simulator-torch)\n",
    "    - [step 1](#step1)\n",
    "    - [step 2](#step2)\n",
    "    - [step 3](#step3)\n",
    "- [3. Tensorflow Augmented Simulator](#simulator-torch)\n",
    "    - [3.1 Fully connected neural network](#tf-fc)\n",
    "    - [3.2 LeapNet neural network](#tf-leapnet)\n",
    "- [Benchmark2](#benchmark2)\n",
    "- [Benchmark3](#benchmark3)"
   ]
  },
  {
   "cell_type": "markdown",
   "id": "5a42beab",
   "metadata": {},
   "source": [
    "## 1. Creating a Benchmark and loading corresponding data <a class=\"anchor\" id=\"create-benchmark\"></a>"
   ]
  },
  {
   "cell_type": "markdown",
   "id": "e3a1988f",
   "metadata": {},
   "source": [
    "In this notebook, we analyze the first benchmark's scenario. \n",
    "\n",
    "### Benchmark 1 : Risk assessment through contingency screening\n",
    "The first power grid benchmark tackles the step of risk assessment in power grids. The problem is to anticipate potential threats on the power grid (several hours ahead) and warn the operators accordingly. It simulates incidents (aka contingencies) involving various elements of the grid (such as the disconnection of a line/production unit), one by one. For each contingency, a risk (weakness of the grid) is detected when overloads are detected by the simulation engine on some lines. On a real grid, this scenario means running several dozens of thousands of simulations, thereby, computation time is critical, especially since this risk assessment is refreshed every 15 minutes. In this benchmark, the main physical variable we are interested in is the value of electric current in the lines (in amperes), because an overload is detected if this value exceeds a line-dependent threshold."
   ]
  },
  {
   "cell_type": "code",
   "execution_count": 1,
   "id": "1f96cdaa",
   "metadata": {},
   "outputs": [],
   "source": [
    "import pathlib\n",
    "from pprint import pprint\n",
    "from matplotlib import pyplot as plt\n",
    "from lips.benchmark import PowerGridBenchmark"
   ]
  },
  {
   "cell_type": "markdown",
   "id": "a73f3f3f",
   "metadata": {},
   "source": [
    "Some paths are required to refer to generated datasets, config files, logs and models. "
   ]
  },
  {
   "cell_type": "code",
   "execution_count": 2,
   "id": "b0c0ab9f",
   "metadata": {},
   "outputs": [],
   "source": [
    "# indicate required paths\n",
    "LIPS_PATH = pathlib.Path().resolve().parent # it is supposed that the notebook had run from getting_started folder\n",
    "DATA_PATH = LIPS_PATH / \"reference_data\"\n",
    "LOG_PATH = LIPS_PATH / \"lips_logs.log\"\n",
    "CONFIG_PATH = LIPS_PATH / \"lips\" / \"config\" / \"conf.ini\"\n",
    "BASELINES_PATH = LIPS_PATH / \"trained_baselines\"\n",
    "TRAINED_MODEL_PATH = LIPS_PATH / \"trained_models\""
   ]
  },
  {
   "cell_type": "markdown",
   "id": "be22be64",
   "metadata": {},
   "source": [
    "> ### step 1 <a class=\"anchor\" id=\"step1\"></a>\n",
    "\n",
    "We create a Power Grid Benchmark by instantiating the corresponding class `PowerGridBenchmark` and by indicating the `benchmark_name` argument.\n",
    "\n",
    "**NB.** It should be noted that the `Benchmark_name` is related to a section name of a configuration file which is located at the path indicated by the `config_path`. A configuration file (`conf.ini`) is already exists under the config module which defines all the parameters required for three benchmarks studied in power grid use case. \n",
    "\n",
    "If the data is already generated for this benchmark, the parametes `load_data_set` can be set to _True_, which allows to load the datasets for the corresponding benchmark using its name indicated by `benchmark_name`."
   ]
  },
  {
   "cell_type": "code",
   "execution_count": null,
   "id": "c39a10ff",
   "metadata": {},
   "outputs": [],
   "source": [
    "benchmark1 = PowerGridBenchmark(benchmark_name=\"Benchmark1\",\n",
    "                                benchmark_path=DATA_PATH,\n",
    "                                load_data_set=True,\n",
    "                                log_path=LOG_PATH,\n",
    "                                config_path=CONFIG_PATH\n",
    "                               )"
   ]
  },
  {
   "cell_type": "markdown",
   "id": "d976553f",
   "metadata": {},
   "source": [
    "Once the benchmark is instantiated, we can verify the corresponding configurations."
   ]
  },
  {
   "cell_type": "code",
   "execution_count": null,
   "id": "a048cc59",
   "metadata": {},
   "outputs": [],
   "source": [
    "pprint(benchmark1.config.get_options_dict())"
   ]
  },
  {
   "cell_type": "markdown",
   "id": "4266d6c2",
   "metadata": {},
   "source": [
    "define some tests as below"
   ]
  },
  {
   "cell_type": "code",
   "execution_count": 15,
   "id": "8ac05cf6",
   "metadata": {},
   "outputs": [
    {
     "data": {
      "text/plain": [
       "2283"
      ]
     },
     "execution_count": 15,
     "metadata": {},
     "output_type": "execute_result"
    }
   ],
   "source": [
    "import numpy as np\n",
    "sum(np.sum(~benchmark1._test_ood_topo_dataset.data[\"line_status\"], axis=1) > 2)"
   ]
  },
  {
   "cell_type": "markdown",
   "id": "42419b07",
   "metadata": {},
   "source": [
    "It can be seen that for this benchmark, the considered input variables include injections to the power grid (`attr_x`) and also the topology related variables (`attr_tau`), which can be exploited differently by each augmented simulator. The outputs (`attr_y`) include only electricity currents (A).\n",
    "\n",
    "We observe also some environment related parameters (`env_name`and `env_params`).\n",
    "\n",
    "One can also indicate the evaluation criteria that should be calculated to evaluate the performance of a **trained** augmented simulator. \n",
    "\n",
    "For example, for this benchmark, we would like to evaluate some machine learning (`ML`) criteria such as _MSE_, _MAE_ and _MAPE90_ and some physics compliances (`Physics`) such as current positivity (_CURRENT_POS_), as we are in the configuration of a simple benchmark that we would like only predict the electrical currents. "
   ]
  },
  {
   "cell_type": "markdown",
   "id": "a605ab42",
   "metadata": {},
   "source": [
    "# 2. Augmentd Simulator using Pytorch <a class=\"anchor\" id=\"simulator-torch\"></a>"
   ]
  },
  {
   "cell_type": "markdown",
   "id": "bd588cd0",
   "metadata": {},
   "source": [
    "> ### step 2 <a class=\"anchor\" id=\"step2\"></a>\n",
    "\n",
    "We start by training an augmented simualtor on the _Benchmark1_ dataset. \n",
    "\n",
    "**NB.** for the moment to be able to use Torch base models, we encourage the users to install _pytorch_ using the instructions provided [here](https://pytorch.org/get-started/locally/)."
   ]
  },
  {
   "cell_type": "markdown",
   "id": "f34218a6",
   "metadata": {},
   "source": [
    "## Instantiate the torch model"
   ]
  },
  {
   "cell_type": "markdown",
   "id": "6bb1b54e",
   "metadata": {},
   "source": [
    "In order to be able to use a _torch_ based model, two following elements are required and a scaler is optional if not recommended (It is highly recommended to use a scaler for a better convergence):\n",
    "- `TorchSimulator`: This class is a sort of controller which takes as the argument a torch based model and allows to `train`, `evaluate`, `load`, `save`, and some other interesting stuffs (visualisation, etc.).\n",
    "\n",
    "- Model (sub-class of `torch.nn.Module`) : The torch core model which defines the model architecture and how the different elements interact with each other through the `forward` function which applies the forward pass of neural nets. Some model specific parameters could also be implemented in this class, such as data preparation, as it can be unique to each model, and some meta-data that should be saved or restored.\n",
    "\n",
    "__NB.__ In LIPS platform, an example of such Model is `TorchFullyConnected` which has been provided in _torch_models_ package under the augmented simulators. "
   ]
  },
  {
   "cell_type": "code",
   "execution_count": 16,
   "id": "666ef142",
   "metadata": {},
   "outputs": [],
   "source": [
    "from lips.augmented_simulators.torch_models.fully_connected import TorchFullyConnected\n",
    "from lips.augmented_simulators.torch_simulator import TorchSimulator\n",
    "from lips.dataset.scaler import StandardScaler"
   ]
  },
  {
   "cell_type": "code",
   "execution_count": 17,
   "id": "efe44007",
   "metadata": {},
   "outputs": [],
   "source": [
    "torch_sim = TorchSimulator(name=\"torch_fc\",\n",
    "                           model=TorchFullyConnected,\n",
    "                           scaler=StandardScaler,\n",
    "                           log_path=LOG_PATH,\n",
    "                           device=\"cuda:0\",\n",
    "                           seed=42\n",
    "                          )"
   ]
  },
  {
   "cell_type": "markdown",
   "id": "e5dff92e",
   "metadata": {},
   "source": [
    "**It is magic, but how the \"hyper-parameters\" for this augmented simulator could be defined ?**\n",
    "\n",
    "> Good remark! In LIPS platform with each model, a configuration file is associated which maintain the exclusive set of its hyper-parameters. These configuration file is available at `augmented_simulators/configurations` directory. They could be seen (as you can see below), and one also could modify them on-the-fly by indicating some supplementary arguments (`**kwargs`) to the `TorchSimulator` class.\n",
    "\n",
    "The parameters used for training and evaluation of this augmented simulator."
   ]
  },
  {
   "cell_type": "code",
   "execution_count": 18,
   "id": "565cc777",
   "metadata": {},
   "outputs": [
    {
     "name": "stdout",
     "output_type": "stream",
     "text": [
      "{'activation': 'relu',\n",
      " 'ckpt_freq': 50,\n",
      " 'device': 'cuda:0',\n",
      " 'dropout': 0.0,\n",
      " 'epochs': 10,\n",
      " 'eval_batch_size': 128,\n",
      " 'input_dropout': 0.0,\n",
      " 'layer': 'linear',\n",
      " 'layers': (300, 300, 300, 300),\n",
      " 'loss': {'name': 'MSELoss',\n",
      "          'params': {'reduce': None,\n",
      "                     'reduction': 'mean',\n",
      "                     'size_average': None}},\n",
      " 'metrics': ('MAELoss',),\n",
      " 'name': 'torch_fc',\n",
      " 'optimizer': {'name': 'adam', 'params': {'lr': 0.0003}},\n",
      " 'save_freq': False,\n",
      " 'shuffle': False,\n",
      " 'train_batch_size': 128}\n"
     ]
    }
   ],
   "source": [
    "pprint(torch_sim.params)"
   ]
  },
  {
   "cell_type": "markdown",
   "id": "5a521cca",
   "metadata": {},
   "source": [
    "## Train it \n",
    "We can easily train the augmneted simualtor using the `train` function of our controller (`TorchSimulator`) and by indicating the right set of arguments which are:\n",
    "\n",
    "- `train_dataset` (mendatory): a dataset, on instances of which the augmented simulator is trained\n",
    "\n",
    "- `val_dataset` (optional): a dataset, on instances of which the augmented simulator is validated (to study the convergence and overfitting)\n",
    "\n",
    "- `save_path` (optional): whether to save the model, but don't worry, you can save the model once it is trained using `save` function of the controller. \n",
    "\n",
    "- `kwargs` (optional): some supplementary arguments which allows to change the default configurations on-the-fly. For example; we have increased the epoch size here (`epochs=100`) "
   ]
  },
  {
   "cell_type": "code",
   "execution_count": null,
   "id": "188e8922",
   "metadata": {},
   "outputs": [],
   "source": [
    "torch_sim.train(benchmark1.train_dataset, benchmark1.val_dataset, save_path=None, epochs=100, train_batch_size=128)"
   ]
  },
  {
   "cell_type": "markdown",
   "id": "6b427190",
   "metadata": {},
   "source": [
    "#### Verify the model architecture\n",
    "We can also print the model structure using a `summary` function of the controller. It can be seen that there are four hidden layers between inputs and outputs of our fully connected neural network without any dropout as the `dropout` parameters are set to $0$."
   ]
  },
  {
   "cell_type": "code",
   "execution_count": 25,
   "id": "dabb60ed",
   "metadata": {},
   "outputs": [
    {
     "name": "stdout",
     "output_type": "stream",
     "text": [
      "TorchFullyConnected(\n",
      "  (input_layer): Linear(in_features=111, out_features=300, bias=True)\n",
      "  (input_dropout): Dropout(p=0.0, inplace=False)\n",
      "  (fc_layers): ModuleList(\n",
      "    (0): Linear(in_features=300, out_features=300, bias=True)\n",
      "    (1): Linear(in_features=300, out_features=300, bias=True)\n",
      "    (2): Linear(in_features=300, out_features=300, bias=True)\n",
      "  )\n",
      "  (dropout_layers): ModuleList(\n",
      "    (0): Dropout(p=0.0, inplace=False)\n",
      "    (1): Dropout(p=0.0, inplace=False)\n",
      "    (2): Dropout(p=0.0, inplace=False)\n",
      "  )\n",
      "  (output_layer): Linear(in_features=300, out_features=40, bias=True)\n",
      ")\n"
     ]
    }
   ],
   "source": [
    "torch_sim.summary()"
   ]
  },
  {
   "cell_type": "markdown",
   "id": "79880a44",
   "metadata": {},
   "source": [
    "The number of parameters can also be verified using `count_parameters` function of the controller `TorchSimulator`. It can be used to have an image of the complexity of the model. "
   ]
  },
  {
   "cell_type": "code",
   "execution_count": 12,
   "id": "44d5c4e6",
   "metadata": {},
   "outputs": [
    {
     "name": "stdout",
     "output_type": "stream",
     "text": [
      "Number of parameters of the model:  316540\n"
     ]
    }
   ],
   "source": [
    "print(\"Number of parameters of the model: \", torch_sim.count_parameters())"
   ]
  },
  {
   "cell_type": "markdown",
   "id": "78a7d319",
   "metadata": {},
   "source": [
    "#### Visualize the performance \n",
    "Futhermore, we can also visualize the convergence curves computed during training of the model using `visualize_convergence` function of the controller. \n",
    "\n",
    "- The first plot shows the loss function (here we have used mean squared error or `MSE`) used for the learning of the model, on the basis of which the back-propagation is performed. \n",
    "- The right hand side shows the metrics that are computed alongside the loss function for supplementary information concerning the model's behavior. Here, we have opted for mean absolute error (`MAE`). "
   ]
  },
  {
   "cell_type": "code",
   "execution_count": 13,
   "id": "18ab99a2",
   "metadata": {},
   "outputs": [
    {
     "data": {
      "image/png": "[encoded data removed]",
      "text/plain": [
       "<Figure size 1080x360 with 2 Axes>"
      ]
     },
     "metadata": {
      "needs_background": "light"
     },
     "output_type": "display_data"
    }
   ],
   "source": [
    "torch_sim.visualize_convergence()"
   ]
  },
  {
   "cell_type": "markdown",
   "id": "ecbb56d9",
   "metadata": {},
   "source": [
    "## Evaluate\n",
    "\n",
    "> ### step 3 <a class=\"anchor\" id=\"step3\"></a>\n",
    "\n",
    "Once the benchmark is instantiated and an augmented simulator is learned, the time is come to evaluate the performances with a set of criteria gathere from various cateogories which are:\n",
    "- Machine Learning point of view (ML)\n",
    "- Physics Compliances (Physics)\n",
    "- Industrial readiness (IndRed)\n",
    "- Out-Of-Distribution generalization (OOD)\n",
    "\n",
    "In order to compute these criteria on the results (predictions) of an augmented simulator, the benchmark module provides an `evaluate_simulator` function which takes following arguments:\n",
    "- `augmented_simulator`: a **trained** augmented simulator\n",
    "\n",
    "- `eval_batch_size`: the batch size used for evaluation. From industry point-of-view the whole dataset is not available and could be observed over time. For this reason it is more reasonable to evaluate the data by batches and measure the _inference time_ from industrial point of view.\n",
    "\n",
    "- `dataset`: the labels of datasets that should be considered for evaluation. It can be `all` if the evaluation should be performed on `val`, `test`, `test_ood_topo` datasets, corresponding to validation, test and out-of-distribution test datasets.\n",
    "\n",
    "- `shuffle`: should be set to `False` for the moment. The shuffling at the evaluation time does not change anything.  "
   ]
  },
  {
   "cell_type": "code",
   "execution_count": 27,
   "id": "d732eb28",
   "metadata": {},
   "outputs": [],
   "source": [
    "# TODO: log the losses\n",
    "torch_sim_metrics = benchmark1.evaluate_simulator(augmented_simulator=torch_sim,\n",
    "                                                  eval_batch_size=128,\n",
    "                                                  dataset=\"all\",\n",
    "                                                  shuffle=False\n",
    "                                                 )"
   ]
  },
  {
   "cell_type": "markdown",
   "id": "24a49412",
   "metadata": {},
   "source": [
    "Once the evaluation has been finished, we can report the evaluation results. The evaluation results are stored in a dictionary and all the steps are logged in a log file located at `LOG_PATH`. \n",
    "\n",
    "Every dictionary, contains various level keys:\n",
    "\n",
    "- The _first level_ corresponds to the datasets labels (\"test\", \"val\", \"test_ood_topo\")\n",
    "\n",
    "- The _second level_ corresponds to metric categories (\"ML\", \"Physics\", \"IndRed\", \"OOD\")\n",
    "\n",
    "- The _third level_ may exist only for some criteria and corresponds to the variable name."
   ]
  },
  {
   "cell_type": "markdown",
   "id": "ed90fd0d",
   "metadata": {},
   "source": [
    "#### Machine Learning "
   ]
  },
  {
   "cell_type": "markdown",
   "id": "54c476ed",
   "metadata": {},
   "source": [
    "Here we have reported the Machine Learning (`ML`) metrics for `test` dataset. As it can be seen all the criteria opted in benchmark configuration file are computed for prediction results which are: \n",
    "\n",
    "- Average Mean Squared Error (`MSE_avg`)\n",
    "\n",
    "- Averaged Mean Absolute Error (`MAE_avg`)\n",
    "\n",
    "- Averaged Mean Absolute Percentage Error computed on 10% of highest current values (`mape_90_avg`)"
   ]
  },
  {
   "cell_type": "code",
   "execution_count": 28,
   "id": "e58291d8",
   "metadata": {},
   "outputs": [
    {
     "data": {
      "text/plain": [
       "{'MSE_avg': {'a_or': 41.64700698852539, 'a_ex': 80.05719757080078},\n",
       " 'MAE_avg': {'a_or': 3.6848297119140625, 'a_ex': 5.1512770652771},\n",
       " 'mape_90_avg': {'a_or': 0.009963784106572917, 'a_ex': 0.00999617398551798}}"
      ]
     },
     "execution_count": 28,
     "metadata": {},
     "output_type": "execute_result"
    }
   ],
   "source": [
    "torch_sim_metrics[\"test\"][\"ML\"]"
   ]
  },
  {
   "cell_type": "markdown",
   "id": "4998e21e",
   "metadata": {},
   "source": [
    "The same set of criteria are also computed on a *out-of-distribution* dataset `test_ood_topo` where the data distribution is not the same during the training and the evaluation phases. There could be more than one disconnected lines observed during the evaluation phase, whereas there is maximum one disconnected line that can be observed during the training."
   ]
  },
  {
   "cell_type": "code",
   "execution_count": 30,
   "id": "0a8404d6",
   "metadata": {},
   "outputs": [
    {
     "data": {
      "text/plain": [
       "{'MSE_avg': {'a_or': 7212.1611328125, 'a_ex': 12439.994140625},\n",
       " 'MAE_avg': {'a_or': 30.776330947875977, 'a_ex': 42.71100997924805},\n",
       " 'mape_90_avg': {'a_or': 0.11132058534472342, 'a_ex': 0.1113556036265309}}"
      ]
     },
     "execution_count": 30,
     "metadata": {},
     "output_type": "execute_result"
    }
   ],
   "source": [
    "torch_sim_metrics[\"test_ood_topo\"][\"ML\"]"
   ]
  },
  {
   "cell_type": "markdown",
   "id": "9201b9d7",
   "metadata": {},
   "source": [
    "#### Physics\n",
    "Here we have reported the Physics Compliances (`Physics`) metrics for `test` dataset. As it can be seen, only the current positivity is computed for this simple first benchmark as it predicts only the electrical currents (currents at the origin `a_or` and at the extremity side `a_ex` of power lines). \n",
    "\n",
    "**NB.** It should be noted that more complicated physical laws are relied on more flow variables (active and reactive powers, voltage, voltage angles)."
   ]
  },
  {
   "cell_type": "code",
   "execution_count": 31,
   "id": "60096f1e",
   "metadata": {},
   "outputs": [
    {
     "data": {
      "text/plain": [
       "0.0313"
      ]
     },
     "execution_count": 31,
     "metadata": {},
     "output_type": "execute_result"
    }
   ],
   "source": [
    "torch_sim_metrics[\"test\"][\"Physics\"][\"CURRENT_POS\"][\"a_or\"][\"Violation_proportion\"]"
   ]
  },
  {
   "cell_type": "code",
   "execution_count": 32,
   "id": "954da644",
   "metadata": {},
   "outputs": [
    {
     "data": {
      "text/plain": [
       "0.044035"
      ]
     },
     "execution_count": 32,
     "metadata": {},
     "output_type": "execute_result"
    }
   ],
   "source": [
    "torch_sim_metrics[\"test_ood_topo\"][\"Physics\"][\"CURRENT_POS\"][\"a_or\"][\"Violation_proportion\"]"
   ]
  },
  {
   "cell_type": "markdown",
   "id": "79e6ad18",
   "metadata": {},
   "source": [
    "It can be observed that the fully connected architecture violates the current positivity with a rate of $2\\%$."
   ]
  },
  {
   "cell_type": "markdown",
   "id": "5b34ac09",
   "metadata": {},
   "source": [
    "#### Industrial Readiness"
   ]
  },
  {
   "cell_type": "markdown",
   "id": "77db534b",
   "metadata": {},
   "source": [
    "Herein, we can also analyze the time required for the inference phase of the augmented simulator as the objective is to reduce the physical solvers time complexity using an augmented simualtor by maintaining a good prediction precision in terms of various evaluation criteria. \n",
    "\n",
    "<span style=\"color:red\">**TODO**</span> \n",
    "- It should be added in industrial readiness evaluation criteria category.\n",
    "- It should also be reported for each evaluation dataset independently.\n",
    "- Further investigation with greater details (hardware and software) for reporting computation time is required.\n"
   ]
  },
  {
   "cell_type": "code",
   "execution_count": 15,
   "id": "ea5d00f8",
   "metadata": {},
   "outputs": [
    {
     "data": {
      "text/plain": [
       "0.025376319885253906"
      ]
     },
     "execution_count": 15,
     "metadata": {},
     "output_type": "execute_result"
    }
   ],
   "source": [
    "torch_sim.predict_time"
   ]
  },
  {
   "cell_type": "markdown",
   "id": "ebe97868",
   "metadata": {},
   "source": [
    "### Save\n",
    "In order to gain time in future, the trained models could be saved and loaded easily using the `save` and `load` functions offered by the `TorchSimulator`, which save a set of elements required for the model to work independently. More precisely, when you call save, the following informations are saved:\n",
    "\n",
    "- The learned model weights\n",
    "\n",
    "- The model configurations (hyper parameters)\n",
    "\n",
    "- The model meta data infered after training (input and output shapes)\n",
    "\n",
    "- The losses computed during the training of the augmented simulator\n",
    "\n",
    "- The scaler parameters (means and standard deviations if `StandardScaler` is used)"
   ]
  },
  {
   "cell_type": "code",
   "execution_count": 16,
   "id": "c1483ca1",
   "metadata": {},
   "outputs": [],
   "source": [
    "torch_sim.save(TRAINED_MODEL_PATH)"
   ]
  },
  {
   "cell_type": "markdown",
   "id": "4116cba1",
   "metadata": {},
   "source": [
    "### Load\n",
    "Load it from stored information concerning the model and its hyper-parameters.\n",
    "\n",
    "To be able to load the dataset the `TorchSimulator` should be instantiated. "
   ]
  },
  {
   "cell_type": "code",
   "execution_count": 8,
   "id": "0e2c6f88",
   "metadata": {},
   "outputs": [],
   "source": [
    "from lips.augmented_simulators.torch_models.fully_connected import TorchFullyConnected\n",
    "from lips.augmented_simulators.torch_simulator import TorchSimulator\n",
    "from lips.dataset.scaler import StandardScaler\n",
    "\n",
    "torch_sim = TorchSimulator(name=\"torch_fc\",\n",
    "                           model=TorchFullyConnected,\n",
    "                           scaler=StandardScaler,\n",
    "                           log_path=LOG_PATH,\n",
    "                           seed=42\n",
    "                          )"
   ]
  },
  {
   "cell_type": "markdown",
   "id": "96dbd62d",
   "metadata": {},
   "source": [
    "Now we can restore the model by calling only the restore which will call some internal functions to load all the metadata and model related informations as weights."
   ]
  },
  {
   "cell_type": "code",
   "execution_count": 9,
   "id": "accc24ba",
   "metadata": {},
   "outputs": [],
   "source": [
    "torch_sim.restore(path=TRAINED_MODEL_PATH)"
   ]
  },
  {
   "cell_type": "markdown",
   "id": "1d94d545",
   "metadata": {},
   "source": [
    "# 3. Augmented Simulator using Tensorflow <a class=\"anchor\" id=\"tf-simulator\"></a>\n",
    "\n",
    "Here we present the tensorflow based augmented simulators for learning a physical domain. Two different architectures are included for the moment in LIPS framework, which are : \n",
    "- Fully Connected Neural Network\n",
    "- LeapNet Neural network\n",
    "\n",
    "The tensorflow side implementations are a little bit different from torch based implementations. In order to generalize on more architectures, we allow that each model (architecture) be a subclass of `TensorflowSimulator` base class. The main functions to `train`, `evaluate`, `load`, `save` models are implemented in base class and could be used directly by sub-classes without any overloading. Some specific tasks as data preparation and post processing of predictions could be done using the child classes."
   ]
  },
  {
   "cell_type": "markdown",
   "id": "95df69be",
   "metadata": {},
   "source": [
    "## 3.1 Fully Connected Neural Network <a class=\"anchor\" id=\"tf-fc\"></a>"
   ]
  },
  {
   "cell_type": "code",
   "execution_count": 33,
   "id": "c0545b9b",
   "metadata": {},
   "outputs": [],
   "source": [
    "from lips.augmented_simulators.tensorflow_models import TfFullyConnected\n",
    "from lips.dataset.scaler import StandardScaler"
   ]
  },
  {
   "cell_type": "code",
   "execution_count": 34,
   "id": "6c3cfc62",
   "metadata": {},
   "outputs": [],
   "source": [
    "tf_fc = TfFullyConnected(name=\"tf_fc\",\n",
    "                         bench_config_name=\"Benchmark1\",\n",
    "                         scaler=StandardScaler,\n",
    "                         log_path=LOG_PATH)"
   ]
  },
  {
   "cell_type": "markdown",
   "id": "116f7fdb",
   "metadata": {},
   "source": [
    "### Train it"
   ]
  },
  {
   "cell_type": "code",
   "execution_count": null,
   "id": "f771e9cc",
   "metadata": {},
   "outputs": [],
   "source": [
    "tf_fc.train(train_dataset=benchmark1.train_dataset,\n",
    "            val_dataset=benchmark1.val_dataset,\n",
    "            epochs=100\n",
    "           )"
   ]
  },
  {
   "cell_type": "code",
   "execution_count": 9,
   "id": "e6748625",
   "metadata": {},
   "outputs": [
    {
     "name": "stdout",
     "output_type": "stream",
     "text": [
      "Number of parameters : 316540\n"
     ]
    }
   ],
   "source": [
    "print(\"Number of parameters :\", tf_fc.count_parameters())"
   ]
  },
  {
   "cell_type": "code",
   "execution_count": 35,
   "id": "e940b9a3",
   "metadata": {},
   "outputs": [
    {
     "name": "stdout",
     "output_type": "stream",
     "text": [
      "Model: \"tf_fc_model\"\n",
      "_________________________________________________________________\n",
      "Layer (type)                 Output Shape              Param #   \n",
      "=================================================================\n",
      "input (InputLayer)           [(None, 111)]             0         \n",
      "_________________________________________________________________\n",
      "input_dropout (Dropout)      (None, 111)               0         \n",
      "_________________________________________________________________\n",
      "layer_0 (Dense)              (None, 300)               33600     \n",
      "_________________________________________________________________\n",
      "activation_0 (Activation)    (None, 300)               0         \n",
      "_________________________________________________________________\n",
      "dropout_0 (Dropout)          (None, 300)               0         \n",
      "_________________________________________________________________\n",
      "layer_1 (Dense)              (None, 300)               90300     \n",
      "_________________________________________________________________\n",
      "activation_1 (Activation)    (None, 300)               0         \n",
      "_________________________________________________________________\n",
      "dropout_1 (Dropout)          (None, 300)               0         \n",
      "_________________________________________________________________\n",
      "layer_2 (Dense)              (None, 300)               90300     \n",
      "_________________________________________________________________\n",
      "activation_2 (Activation)    (None, 300)               0         \n",
      "_________________________________________________________________\n",
      "dropout_2 (Dropout)          (None, 300)               0         \n",
      "_________________________________________________________________\n",
      "layer_3 (Dense)              (None, 300)               90300     \n",
      "_________________________________________________________________\n",
      "activation_3 (Activation)    (None, 300)               0         \n",
      "_________________________________________________________________\n",
      "dropout_3 (Dropout)          (None, 300)               0         \n",
      "_________________________________________________________________\n",
      "dense (Dense)                (None, 40)                12040     \n",
      "=================================================================\n",
      "Total params: 316,540\n",
      "Trainable params: 316,540\n",
      "Non-trainable params: 0\n",
      "_________________________________________________________________\n",
      "None\n"
     ]
    }
   ],
   "source": [
    "tf_fc.summary()"
   ]
  },
  {
   "cell_type": "markdown",
   "id": "644b5fab",
   "metadata": {},
   "source": [
    "Save a visulaization of the architecture on disk"
   ]
  },
  {
   "cell_type": "code",
   "execution_count": 28,
   "id": "80e720ce",
   "metadata": {},
   "outputs": [],
   "source": [
    "tf_fc.plot_model(path=\".\")"
   ]
  },
  {
   "cell_type": "code",
   "execution_count": 36,
   "id": "998793f1",
   "metadata": {},
   "outputs": [
    {
     "data": {
      "image/png": "[encoded data removed]",
      "text/plain": [
       "<Figure size 1080x360 with 2 Axes>"
      ]
     },
     "metadata": {
      "needs_background": "light"
     },
     "output_type": "display_data"
    }
   ],
   "source": [
    "tf_fc.visualize_convergence()"
   ]
  },
  {
   "cell_type": "markdown",
   "id": "4881457a",
   "metadata": {},
   "source": [
    "### Evaluation "
   ]
  },
  {
   "cell_type": "code",
   "execution_count": 37,
   "id": "909c51e0",
   "metadata": {},
   "outputs": [],
   "source": [
    "# TODO: log the losses\n",
    "tf_fc_metrics = benchmark1.evaluate_simulator(augmented_simulator=tf_fc,\n",
    "                                              eval_batch_size=128,\n",
    "                                              dataset=\"all\",\n",
    "                                              shuffle=False\n",
    "                                             )"
   ]
  },
  {
   "cell_type": "markdown",
   "id": "7f36be04",
   "metadata": {},
   "source": [
    "#### Machine Learning"
   ]
  },
  {
   "cell_type": "code",
   "execution_count": 38,
   "id": "8927dcb2",
   "metadata": {},
   "outputs": [
    {
     "data": {
      "text/plain": [
       "{'MSE_avg': {'a_or': 78.23633575439453, 'a_ex': 130.08042907714844},\n",
       " 'MAE_avg': {'a_or': 4.147645473480225, 'a_ex': 5.74558162689209},\n",
       " 'mape_90_avg': {'a_or': 0.013125727278796934, 'a_ex': 0.01312723152764934}}"
      ]
     },
     "execution_count": 38,
     "metadata": {},
     "output_type": "execute_result"
    }
   ],
   "source": [
    "tf_fc_metrics[\"test\"][\"ML\"]"
   ]
  },
  {
   "cell_type": "code",
   "execution_count": 39,
   "id": "4e9fc2e9",
   "metadata": {},
   "outputs": [
    {
     "data": {
      "text/plain": [
       "{'MSE_avg': {'a_or': 9050.9423828125, 'a_ex': 15993.900390625},\n",
       " 'MAE_avg': {'a_or': 38.861202239990234, 'a_ex': 54.09991455078125},\n",
       " 'mape_90_avg': {'a_or': 0.14178899072542744, 'a_ex': 0.14169466750878246}}"
      ]
     },
     "execution_count": 39,
     "metadata": {},
     "output_type": "execute_result"
    }
   ],
   "source": [
    "tf_fc_metrics[\"test_ood_topo\"][\"ML\"]"
   ]
  },
  {
   "cell_type": "markdown",
   "id": "c20833ec",
   "metadata": {},
   "source": [
    "#### Physics"
   ]
  },
  {
   "cell_type": "code",
   "execution_count": 39,
   "id": "79cf6f45",
   "metadata": {},
   "outputs": [
    {
     "data": {
      "text/plain": [
       "0.02781"
      ]
     },
     "execution_count": 39,
     "metadata": {},
     "output_type": "execute_result"
    }
   ],
   "source": [
    "tf_fc_metrics[\"test\"][\"Physics\"][\"CURRENT_POS\"][\"a_or\"][\"Violation_proportion\"]"
   ]
  },
  {
   "cell_type": "code",
   "execution_count": 40,
   "id": "e725192e",
   "metadata": {},
   "outputs": [
    {
     "data": {
      "text/plain": [
       "0.0169"
      ]
     },
     "execution_count": 40,
     "metadata": {},
     "output_type": "execute_result"
    }
   ],
   "source": [
    "tf_fc_metrics[\"test_ood_topo\"][\"Physics\"][\"CURRENT_POS\"][\"a_or\"][\"Violation_proportion\"]"
   ]
  },
  {
   "cell_type": "markdown",
   "id": "40bb9364",
   "metadata": {},
   "source": [
    "#### Industrial Readiness"
   ]
  },
  {
   "cell_type": "markdown",
   "id": "eee49169",
   "metadata": {},
   "source": [
    "Prediction time used tensorflow\n",
    "\n",
    "**<span style=\"color:red\">TODO</span>**\n",
    "\n",
    "- The above-mentioned remarks for computation time computation should also be considered here."
   ]
  },
  {
   "cell_type": "code",
   "execution_count": 11,
   "id": "2fac0730",
   "metadata": {},
   "outputs": [
    {
     "data": {
      "text/plain": [
       "0.10669374465942383"
      ]
     },
     "execution_count": 11,
     "metadata": {},
     "output_type": "execute_result"
    }
   ],
   "source": [
    "tf_fc.predict_time"
   ]
  },
  {
   "cell_type": "markdown",
   "id": "3fcd0bc0",
   "metadata": {},
   "source": [
    "### Save"
   ]
  },
  {
   "cell_type": "code",
   "execution_count": null,
   "id": "7003f595",
   "metadata": {},
   "outputs": [],
   "source": [
    "tf_fc.save(TRAINED_MODEL_PATH)"
   ]
  },
  {
   "cell_type": "markdown",
   "id": "4bc20b55",
   "metadata": {},
   "source": [
    "### Load "
   ]
  },
  {
   "cell_type": "markdown",
   "id": "b4317062",
   "metadata": {},
   "source": [
    "Load it"
   ]
  },
  {
   "cell_type": "code",
   "execution_count": 6,
   "id": "530b58fa",
   "metadata": {},
   "outputs": [],
   "source": [
    "from lips.augmented_simulators.tensorflow_models import TfFullyConnected\n",
    "from lips.dataset.scaler import StandardScaler\n",
    "\n",
    "tf_fc = TfFullyConnected(name=\"tf_fc\",\n",
    "                         bench_config_name=\"Benchmark1\",\n",
    "                         scaler=StandardScaler,\n",
    "                         log_path=LOG_PATH)"
   ]
  },
  {
   "cell_type": "code",
   "execution_count": null,
   "id": "311ce23a",
   "metadata": {},
   "outputs": [],
   "source": [
    "tf_fc.restore(TRAINED_MODEL_PATH)"
   ]
  },
  {
   "cell_type": "markdown",
   "id": "f9ea54d2",
   "metadata": {},
   "source": [
    "## 3.2 LeapNet Neural Network <a class=\"anchor\" id=\"tf-leapnet\"></a>\n",
    "Instantiating the LeapNet neural network and changing its default parameters on-the-fly. A configuration file (`tf_leapnet.ini`) is associated with this model and is avaiable under augmented_simulator module. This model has its own github page and is available [here](https://github.com/BDonnot/leap_net)."
   ]
  },
  {
   "cell_type": "code",
   "execution_count": 40,
   "id": "b06d7d91",
   "metadata": {},
   "outputs": [],
   "source": [
    "from lips.augmented_simulators.tensorflow_models import LeapNet\n",
    "from lips.dataset.scaler import PowerGridScaler"
   ]
  },
  {
   "cell_type": "code",
   "execution_count": 41,
   "id": "e8dba3dd",
   "metadata": {},
   "outputs": [],
   "source": [
    "leap_net = LeapNet(name=\"tf_leapnet\",\n",
    "                   bench_config_name=\"Benchmark1\",\n",
    "                   sizes_main=(150, 150),\n",
    "                   sizes_enc=(20, 20, 20),\n",
    "                   sizes_out=(100, 40),\n",
    "                   scaler=PowerGridScaler,\n",
    "                   log_path=LOG_PATH)"
   ]
  },
  {
   "cell_type": "code",
   "execution_count": 42,
   "id": "c661ee78",
   "metadata": {},
   "outputs": [
    {
     "data": {
      "text/plain": [
       "{'name': 'tf_leapnet',\n",
       " 'sizes_enc': (20, 20, 20),\n",
       " 'sizes_main': (150, 150),\n",
       " 'sizes_out': (100, 40),\n",
       " 'activation': 'relu',\n",
       " 'layer': 'linear',\n",
       " 'input_dropout': 0.0,\n",
       " 'dropout': 0.0,\n",
       " 'metrics': ['mae'],\n",
       " 'loss': {'name': 'mse',\n",
       "  'params': {'size_average': None, 'reduce': None, 'reduction': 'mean'}},\n",
       " 'optimizer': {'name': 'adam', 'params': {'lr': 0.0003}},\n",
       " 'train_batch_size': 128,\n",
       " 'eval_batch_size': 128,\n",
       " 'epochs': 10,\n",
       " 'shuffle': True,\n",
       " 'save_freq': False,\n",
       " 'ckpt_freq': 50,\n",
       " 'topo_vect_to_tau': 'all',\n",
       " 'kwargs_tau': None,\n",
       " 'mult_by_zero_lines_pred': True,\n",
       " 'scale_main_layer': None,\n",
       " 'scale_input_dec_layer': None,\n",
       " 'scale_input_enc_layer': None}"
      ]
     },
     "execution_count": 42,
     "metadata": {},
     "output_type": "execute_result"
    }
   ],
   "source": [
    "leap_net.params"
   ]
  },
  {
   "cell_type": "markdown",
   "id": "1f2ec7da",
   "metadata": {},
   "source": [
    "### Train it"
   ]
  },
  {
   "cell_type": "code",
   "execution_count": null,
   "id": "68553a36",
   "metadata": {},
   "outputs": [],
   "source": [
    "leap_net.train(train_dataset=benchmark1.train_dataset,\n",
    "               val_dataset=benchmark1.val_dataset,\n",
    "               epochs=200\n",
    "              )"
   ]
  },
  {
   "cell_type": "markdown",
   "id": "a6ddfa96",
   "metadata": {},
   "source": [
    "Once you have trained the model, you can see some properties as the architecture and its number of parameters."
   ]
  },
  {
   "cell_type": "code",
   "execution_count": null,
   "id": "1713a953",
   "metadata": {},
   "outputs": [],
   "source": [
    "leap_net.summary()"
   ]
  },
  {
   "cell_type": "code",
   "execution_count": 40,
   "id": "8b65d7a1",
   "metadata": {},
   "outputs": [
    {
     "data": {
      "text/plain": [
       "202250"
      ]
     },
     "execution_count": 40,
     "metadata": {},
     "output_type": "execute_result"
    }
   ],
   "source": [
    "leap_net.count_parameters()"
   ]
  },
  {
   "cell_type": "markdown",
   "id": "2e4b438a",
   "metadata": {},
   "source": [
    "Visualize and analyze the convergence"
   ]
  },
  {
   "cell_type": "code",
   "execution_count": 44,
   "id": "eaf8bb90",
   "metadata": {},
   "outputs": [
    {
     "data": {
      "image/png": "[encoded data removed]",
      "text/plain": [
       "<Figure size 1080x360 with 2 Axes>"
      ]
     },
     "metadata": {
      "needs_background": "light"
     },
     "output_type": "display_data"
    }
   ],
   "source": [
    "leap_net.visualize_convergence()"
   ]
  },
  {
   "cell_type": "markdown",
   "id": "34a3f47f",
   "metadata": {},
   "source": [
    "### Evaluation "
   ]
  },
  {
   "cell_type": "code",
   "execution_count": 45,
   "id": "20e0c493",
   "metadata": {},
   "outputs": [],
   "source": [
    "# TODO: log the losses\n",
    "tf_leapnet_metrics = benchmark1.evaluate_simulator(augmented_simulator=leap_net,\n",
    "                                                   eval_batch_size=128,\n",
    "                                                   dataset=\"all\",\n",
    "                                                   shuffle=False\n",
    "                                                  )"
   ]
  },
  {
   "cell_type": "markdown",
   "id": "3734f0da",
   "metadata": {},
   "source": [
    "#### Machine Learning"
   ]
  },
  {
   "cell_type": "markdown",
   "id": "4a6fcec5",
   "metadata": {},
   "source": [
    "<span style=\"color: green\">**It can be observed that the LeapNet model have a much better generalization capacity than the fully connected architecture.**</span>"
   ]
  },
  {
   "cell_type": "code",
   "execution_count": 46,
   "id": "12b46acc",
   "metadata": {},
   "outputs": [
    {
     "data": {
      "text/plain": [
       "{'MSE_avg': {'a_or': 158.77035522460938, 'a_ex': 382.9508056640625},\n",
       " 'MAE_avg': {'a_or': 6.887267112731934, 'a_ex': 10.540964126586914},\n",
       " 'mape_90_avg': {'a_or': 0.017768227718714877, 'a_ex': 0.018449143453252576}}"
      ]
     },
     "execution_count": 46,
     "metadata": {},
     "output_type": "execute_result"
    }
   ],
   "source": [
    "tf_leapnet_metrics[\"test\"][\"ML\"]"
   ]
  },
  {
   "cell_type": "code",
   "execution_count": 47,
   "id": "1eed9949",
   "metadata": {},
   "outputs": [
    {
     "data": {
      "text/plain": [
       "{'MSE_avg': {'a_or': 6869.5, 'a_ex': 13769.7763671875},\n",
       " 'MAE_avg': {'a_or': 31.167926788330078, 'a_ex': 47.037391662597656},\n",
       " 'mape_90_avg': {'a_or': 0.10792183726408497, 'a_ex': 0.11495137378299831}}"
      ]
     },
     "execution_count": 47,
     "metadata": {},
     "output_type": "execute_result"
    }
   ],
   "source": [
    "tf_leapnet_metrics[\"test_ood_topo\"][\"ML\"]"
   ]
  },
  {
   "cell_type": "markdown",
   "id": "7b8e69e4",
   "metadata": {},
   "source": [
    "#### Physics"
   ]
  },
  {
   "cell_type": "markdown",
   "id": "c4558cbc",
   "metadata": {},
   "source": [
    "<span style=\"color: green\">**The rate of physics law violation by the LeapNet model is also much lower than the Fully connected model.**</span>"
   ]
  },
  {
   "cell_type": "code",
   "execution_count": 41,
   "id": "4d7a6193",
   "metadata": {},
   "outputs": [
    {
     "data": {
      "text/plain": [
       "0.00028"
      ]
     },
     "execution_count": 41,
     "metadata": {},
     "output_type": "execute_result"
    }
   ],
   "source": [
    "tf_leapnet_metrics[\"test\"][\"Physics\"][\"CURRENT_POS\"][\"a_or\"][\"Violation_proportion\"]"
   ]
  },
  {
   "cell_type": "code",
   "execution_count": 48,
   "id": "5783da6c",
   "metadata": {},
   "outputs": [
    {
     "data": {
      "text/plain": [
       "0.004955"
      ]
     },
     "execution_count": 48,
     "metadata": {},
     "output_type": "execute_result"
    }
   ],
   "source": [
    "tf_leapnet_metrics[\"test_ood_topo\"][\"Physics\"][\"CURRENT_POS\"][\"a_or\"][\"Violation_proportion\"]"
   ]
  },
  {
   "cell_type": "markdown",
   "id": "d21a0d34",
   "metadata": {},
   "source": [
    "#### Industrial Readiness"
   ]
  },
  {
   "cell_type": "markdown",
   "id": "00ab86e1",
   "metadata": {},
   "source": [
    "<span style=\"color: purple\">**However, this improvement comes with some costs.**</span>\n",
    "\n",
    "It can be observed that the inference time for LeapNet model ($0.20$ seconds) is higher than a simpler architecture as Fully Connected approach ($0.10$ seconds) using a Nvidia Tesla M40 24GB. However, these results should be considered with some cautions, as the number of trainable parameters is not also the same for these two models."
   ]
  },
  {
   "cell_type": "code",
   "execution_count": 34,
   "id": "ab729a63",
   "metadata": {},
   "outputs": [
    {
     "data": {
      "text/plain": [
       "0.20830965042114258"
      ]
     },
     "execution_count": 34,
     "metadata": {},
     "output_type": "execute_result"
    }
   ],
   "source": [
    "leap_net.predict_time"
   ]
  },
  {
   "cell_type": "markdown",
   "id": "ef419327",
   "metadata": {},
   "source": [
    "### Save"
   ]
  },
  {
   "cell_type": "code",
   "execution_count": 36,
   "id": "7c60092e",
   "metadata": {},
   "outputs": [],
   "source": [
    "leap_net.save(TRAINED_MODEL_PATH)"
   ]
  },
  {
   "cell_type": "markdown",
   "id": "2f1a1b9d",
   "metadata": {},
   "source": [
    "### Restore "
   ]
  },
  {
   "cell_type": "code",
   "execution_count": null,
   "id": "e35d6c2a",
   "metadata": {},
   "outputs": [],
   "source": [
    "from lips.augmented_simulators.tensorflow_models import LeapNet\n",
    "from lips.dataset.scaler import PowerGridScaler\n",
    "\n",
    "leap_net = LeapNet(name=\"tf_leapnet\",\n",
    "                   bench_config_name=\"Benchmark1\",\n",
    "                   scaler=PowerGridScaler,\n",
    "                   log_path=LOG_PATH)"
   ]
  },
  {
   "cell_type": "code",
   "execution_count": null,
   "id": "e7ee0c82",
   "metadata": {},
   "outputs": [],
   "source": [
    "leap_net.restore(path=TRAINED_MODEL_PATH)"
   ]
  },
  {
   "cell_type": "markdown",
   "id": "f5118325",
   "metadata": {},
   "source": [
    "# Benchmark2:  Remedial action search <a id=\"benchmark2\"></a>\n",
    "\n",
    "Once risky contingencies are identified, we need to explore possible solutions (aka \"remedial actions\") to recommend suitable solutions to the grid operator. In this benchmark, a solution consists in predefined topological change on the grid. It is successful if the simulation run on this modified grid alleviates the previous overflow without generating any new problem. In this case, the computation space in practice is significantly smaller compared to benchmark 1 (only small subsets of remedial actions to test over in most cases, compared to every contingency simulations). We here target  10-100 simulation batches whatever the grid size. This only depends on the number of preselected action candidates by the operator for a given risk. This benchmark includes the prediction of a few more physical variables: active power flows $p^\\ell$ (in MW), current $a^\\ell$ (in A) voltages $v_{k}$ (in V) at both sides of each powerline. Although this is not sufficient to fully describe the grid from a physical point of view, it is enough to give the operator some confident insights about the underlying physical behavior. For instance, is an overload somehow rather local and related to neighboring voltage drop phenomena or possibly long-distance considering power flow transmission from large power plants?\n"
   ]
  },
  {
   "cell_type": "code",
   "execution_count": 51,
   "id": "9f3ca29d",
   "metadata": {},
   "outputs": [],
   "source": [
    "benchmark2 = PowerGridBenchmark(benchmark_name=\"Benchmark2\",\n",
    "                                benchmark_path=DATA_PATH,\n",
    "                                load_data_set=True,\n",
    "                                log_path=LOG_PATH,\n",
    "                                config_path=CONFIG_PATH\n",
    "                               )"
   ]
  },
  {
   "cell_type": "markdown",
   "id": "2afce02c",
   "metadata": {},
   "source": [
    "## Fully Connected Network"
   ]
  },
  {
   "cell_type": "code",
   "execution_count": 54,
   "id": "9699c508",
   "metadata": {},
   "outputs": [],
   "source": [
    "from lips.augmented_simulators.tensorflow_models import TfFullyConnected\n",
    "from lips.dataset.scaler import StandardScaler"
   ]
  },
  {
   "cell_type": "code",
   "execution_count": 55,
   "id": "997a198a",
   "metadata": {},
   "outputs": [],
   "source": [
    "tf_fc = TfFullyConnected(name=\"tf_fc\",\n",
    "                         bench_config_name=\"Benchmark2\",\n",
    "                         scaler=StandardScaler,\n",
    "                         log_path=LOG_PATH)"
   ]
  },
  {
   "cell_type": "markdown",
   "id": "6c720355",
   "metadata": {},
   "source": [
    "### Train the model"
   ]
  },
  {
   "cell_type": "code",
   "execution_count": null,
   "id": "aa8bc437",
   "metadata": {},
   "outputs": [],
   "source": [
    "tf_fc.train(train_dataset=benchmark2.train_dataset,\n",
    "            val_dataset=benchmark2.val_dataset,\n",
    "            epochs=100\n",
    "           )"
   ]
  },
  {
   "cell_type": "markdown",
   "id": "a1ebc2a1",
   "metadata": {},
   "source": [
    "#### Convergence"
   ]
  },
  {
   "cell_type": "code",
   "execution_count": 57,
   "id": "dbeeb46b",
   "metadata": {},
   "outputs": [
    {
     "data": {
      "image/png": "[encoded data removed]",
      "text/plain": [
       "<Figure size 1080x360 with 2 Axes>"
      ]
     },
     "metadata": {
      "needs_background": "light"
     },
     "output_type": "display_data"
    }
   ],
   "source": [
    "tf_fc.visualize_convergence()"
   ]
  },
  {
   "cell_type": "markdown",
   "id": "2598587b",
   "metadata": {},
   "source": [
    "### Evaluation "
   ]
  },
  {
   "cell_type": "code",
   "execution_count": 58,
   "id": "e9ab7e85",
   "metadata": {},
   "outputs": [],
   "source": [
    "# TODO: log the losses\n",
    "tf_fc_metrics = benchmark2.evaluate_simulator(augmented_simulator=tf_fc,\n",
    "                                              eval_batch_size=128,\n",
    "                                              dataset=\"all\",\n",
    "                                              shuffle=False\n",
    "                                             )"
   ]
  },
  {
   "cell_type": "markdown",
   "id": "68b08708",
   "metadata": {},
   "source": [
    "#### Machine Learning"
   ]
  },
  {
   "cell_type": "code",
   "execution_count": 59,
   "id": "ccdf7553",
   "metadata": {},
   "outputs": [
    {
     "data": {
      "text/plain": [
       "{'MSE_avg': {'a_or': 47.57884979248047,\n",
       "  'a_ex': 103.50984191894531,\n",
       "  'p_or': 0.25810083746910095,\n",
       "  'p_ex': 0.2432287633419037,\n",
       "  'q_or': 0.04663994908332825,\n",
       "  'q_ex': 0.04020936042070389,\n",
       "  'prod_q': 0.1445080190896988,\n",
       "  'load_v': 0.0008882982074283063,\n",
       "  'v_or': 0.327985018491745,\n",
       "  'v_ex': 0.2738460898399353},\n",
       " 'MAE_avg': {'a_or': 3.718165636062622,\n",
       "  'a_ex': 5.627264022827148,\n",
       "  'p_or': 0.3176664710044861,\n",
       "  'p_ex': 0.3077593147754669,\n",
       "  'q_or': 0.1347302943468094,\n",
       "  'q_ex': 0.12957358360290527,\n",
       "  'prod_q': 0.258836954832077,\n",
       "  'load_v': 0.014275263994932175,\n",
       "  'v_or': 0.31553733348846436,\n",
       "  'v_ex': 0.2599279284477234},\n",
       " 'mape_90_avg': {'a_or': 0.010630746335722465,\n",
       "  'a_ex': 0.0109493247653866,\n",
       "  'p_or': 0.010969742486930886,\n",
       "  'p_ex': 0.011053150895323969,\n",
       "  'q_or': 0.011632409958843948,\n",
       "  'q_ex': 0.011166690572555791,\n",
       "  'prod_q': 0.008529286418428114,\n",
       "  'load_v': 0.00029871651064231617,\n",
       "  'v_or': 0.0033089016918537496,\n",
       "  'v_ex': 0.003288947328538243}}"
      ]
     },
     "execution_count": 59,
     "metadata": {},
     "output_type": "execute_result"
    }
   ],
   "source": [
    "tf_fc_metrics[\"test\"][\"ML\"]"
   ]
  },
  {
   "cell_type": "code",
   "execution_count": 60,
   "id": "cacd85d5",
   "metadata": {},
   "outputs": [
    {
     "data": {
      "text/plain": [
       "{'MSE_avg': {'a_or': 19000.00390625,\n",
       "  'a_ex': 53157.39453125,\n",
       "  'p_or': 77.32431030273438,\n",
       "  'p_ex': 75.19242858886719,\n",
       "  'q_or': 13.902132987976074,\n",
       "  'q_ex': 15.607465744018555,\n",
       "  'prod_q': 35.53318405151367,\n",
       "  'load_v': 0.36845704913139343,\n",
       "  'v_or': 4.235533237457275,\n",
       "  'v_ex': 3.2418360710144043},\n",
       " 'MAE_avg': {'a_or': 62.03972625732422,\n",
       "  'a_ex': 97.32167053222656,\n",
       "  'p_or': 5.0234222412109375,\n",
       "  'p_ex': 4.955058574676514,\n",
       "  'q_or': 2.472163677215576,\n",
       "  'q_ex': 2.5680739879608154,\n",
       "  'prod_q': 4.126723289489746,\n",
       "  'load_v': 0.2635035216808319,\n",
       "  'v_or': 1.2380813360214233,\n",
       "  'v_ex': 0.9589080810546875},\n",
       " 'mape_90_avg': {'a_or': 0.2035352330628481,\n",
       "  'a_ex': 0.20418598793757553,\n",
       "  'p_or': 0.23409116843871347,\n",
       "  'p_ex': 0.2326054416990308,\n",
       "  'q_or': 0.1952174406112671,\n",
       "  'q_ex': 0.1950767021312572,\n",
       "  'prod_q': 0.1146054516944729,\n",
       "  'load_v': 0.003640707557026688,\n",
       "  'v_or': 0.015292705936499331,\n",
       "  'v_ex': 0.014532336531931722}}"
      ]
     },
     "execution_count": 60,
     "metadata": {},
     "output_type": "execute_result"
    }
   ],
   "source": [
    "tf_fc_metrics[\"test_ood_topo\"][\"ML\"]"
   ]
  },
  {
   "cell_type": "markdown",
   "id": "eb5fa0c9",
   "metadata": {},
   "source": [
    "#### Physics"
   ]
  },
  {
   "cell_type": "code",
   "execution_count": 61,
   "id": "82c1eb03",
   "metadata": {},
   "outputs": [
    {
     "data": {
      "text/plain": [
       "0.01659"
      ]
     },
     "execution_count": 61,
     "metadata": {},
     "output_type": "execute_result"
    }
   ],
   "source": [
    "tf_fc_metrics[\"test\"][\"Physics\"][\"CURRENT_POS\"][\"a_or\"][\"Violation_proportion\"]"
   ]
  },
  {
   "cell_type": "code",
   "execution_count": 64,
   "id": "629251c6",
   "metadata": {},
   "outputs": [
    {
     "data": {
      "text/plain": [
       "0.011695"
      ]
     },
     "execution_count": 64,
     "metadata": {},
     "output_type": "execute_result"
    }
   ],
   "source": [
    "tf_fc_metrics[\"test\"][\"Physics\"][\"VOLTAGE_POS\"][\"v_or\"][\"Violation_proportion\"]"
   ]
  },
  {
   "cell_type": "code",
   "execution_count": 68,
   "id": "c2fd56e6",
   "metadata": {},
   "outputs": [
    {
     "data": {
      "text/plain": [
       "0.20502"
      ]
     },
     "execution_count": 68,
     "metadata": {},
     "output_type": "execute_result"
    }
   ],
   "source": [
    "tf_fc_metrics[\"test\"][\"Physics\"][\"LOSS_POS\"][\"violation_proportion\"]"
   ]
  },
  {
   "cell_type": "code",
   "execution_count": 70,
   "id": "b4a60b33",
   "metadata": {},
   "outputs": [
    {
     "data": {
      "text/plain": [
       "{}"
      ]
     },
     "execution_count": 70,
     "metadata": {},
     "output_type": "execute_result"
    }
   ],
   "source": [
    "tf_fc_metrics[\"test\"][\"Physics\"][\"DISC_LINES\"]"
   ]
  },
  {
   "cell_type": "code",
   "execution_count": null,
   "id": "b0f87213",
   "metadata": {},
   "outputs": [],
   "source": [
    "tf_fc_metrics[\"test\"][\"Physics\"][\"CURRENT_EQ\"]"
   ]
  },
  {
   "cell_type": "code",
   "execution_count": 72,
   "id": "76bebf49",
   "metadata": {},
   "outputs": [
    {
     "data": {
      "text/plain": [
       "0.015975"
      ]
     },
     "execution_count": 72,
     "metadata": {},
     "output_type": "execute_result"
    }
   ],
   "source": [
    "tf_fc_metrics[\"test_ood_topo\"][\"Physics\"][\"CURRENT_POS\"][\"a_or\"][\"Violation_proportion\"]"
   ]
  },
  {
   "cell_type": "code",
   "execution_count": 73,
   "id": "a23c8d20",
   "metadata": {},
   "outputs": [
    {
     "data": {
      "text/plain": [
       "0.01494"
      ]
     },
     "execution_count": 73,
     "metadata": {},
     "output_type": "execute_result"
    }
   ],
   "source": [
    "tf_fc_metrics[\"test_ood_topo\"][\"Physics\"][\"VOLTAGE_POS\"][\"v_or\"][\"Violation_proportion\"]"
   ]
  },
  {
   "cell_type": "code",
   "execution_count": 74,
   "id": "2b48ec26",
   "metadata": {},
   "outputs": [
    {
     "data": {
      "text/plain": [
       "0.25951"
      ]
     },
     "execution_count": 74,
     "metadata": {},
     "output_type": "execute_result"
    }
   ],
   "source": [
    "tf_fc_metrics[\"test_ood_topo\"][\"Physics\"][\"LOSS_POS\"][\"violation_proportion\"]"
   ]
  },
  {
   "cell_type": "code",
   "execution_count": 75,
   "id": "7410a10a",
   "metadata": {},
   "outputs": [
    {
     "data": {
      "text/plain": [
       "{}"
      ]
     },
     "execution_count": 75,
     "metadata": {},
     "output_type": "execute_result"
    }
   ],
   "source": [
    "tf_fc_metrics[\"test_ood_topo\"][\"Physics\"][\"DISC_LINES\"]"
   ]
  },
  {
   "cell_type": "code",
   "execution_count": null,
   "id": "a803535f",
   "metadata": {},
   "outputs": [],
   "source": [
    "tf_fc_metrics[\"test_ood_topo\"][\"Physics\"][\"CURRENT_EQ\"]"
   ]
  },
  {
   "cell_type": "markdown",
   "id": "d41c036e",
   "metadata": {},
   "source": [
    "#### Industrial Readiness"
   ]
  },
  {
   "cell_type": "markdown",
   "id": "9567453c",
   "metadata": {},
   "source": [
    "Prediction time used tensorflow\n",
    "\n",
    "**<span style=\"color:red\">TODO</span>**\n",
    "\n",
    "- The above-mentioned remarks for computation time computation should also be considered here."
   ]
  },
  {
   "cell_type": "code",
   "execution_count": 77,
   "id": "5fd30b1f",
   "metadata": {},
   "outputs": [
    {
     "data": {
      "text/plain": [
       "0.09416913986206055"
      ]
     },
     "execution_count": 77,
     "metadata": {},
     "output_type": "execute_result"
    }
   ],
   "source": [
    "tf_fc.predict_time"
   ]
  },
  {
   "cell_type": "markdown",
   "id": "998a9f1a",
   "metadata": {},
   "source": [
    "## LeapNet Neural Network"
   ]
  },
  {
   "cell_type": "code",
   "execution_count": 78,
   "id": "19ac05e4",
   "metadata": {},
   "outputs": [],
   "source": [
    "from lips.augmented_simulators.tensorflow_models import LeapNet\n",
    "from lips.dataset.scaler import PowerGridScaler"
   ]
  },
  {
   "cell_type": "code",
   "execution_count": 79,
   "id": "0edcbffe",
   "metadata": {},
   "outputs": [],
   "source": [
    "leap_net = LeapNet(name=\"tf_leapnet\",\n",
    "                   bench_config_name=\"Benchmark2\",\n",
    "                   sizes_main=(150, 150),\n",
    "                   sizes_enc=(20, 20, 20),\n",
    "                   sizes_out=(100, 40),\n",
    "                   scaler=PowerGridScaler,\n",
    "                   log_path=LOG_PATH)"
   ]
  },
  {
   "cell_type": "markdown",
   "id": "0fbf1e5e",
   "metadata": {},
   "source": [
    "### Train it"
   ]
  },
  {
   "cell_type": "code",
   "execution_count": null,
   "id": "de7e5432",
   "metadata": {},
   "outputs": [],
   "source": [
    "leap_net.train(train_dataset=benchmark2.train_dataset,\n",
    "               val_dataset=benchmark2.val_dataset,\n",
    "               epochs=200\n",
    "              )"
   ]
  },
  {
   "cell_type": "code",
   "execution_count": 82,
   "id": "ff735075",
   "metadata": {},
   "outputs": [
    {
     "data": {
      "image/png": "[encoded data removed]",
      "text/plain": [
       "<Figure size 1080x360 with 2 Axes>"
      ]
     },
     "metadata": {
      "needs_background": "light"
     },
     "output_type": "display_data"
    }
   ],
   "source": [
    "leap_net.visualize_convergence()"
   ]
  },
  {
   "cell_type": "markdown",
   "id": "611bfb19",
   "metadata": {},
   "source": [
    "### Evaluation "
   ]
  },
  {
   "cell_type": "code",
   "execution_count": 83,
   "id": "2e6268b2",
   "metadata": {},
   "outputs": [],
   "source": [
    "# TODO: log the losses\n",
    "tf_leapnet_metrics = benchmark2.evaluate_simulator(augmented_simulator=leap_net,\n",
    "                                                   eval_batch_size=128,\n",
    "                                                   dataset=\"all\",\n",
    "                                                   shuffle=False\n",
    "                                                  )"
   ]
  },
  {
   "cell_type": "markdown",
   "id": "d3aec28d",
   "metadata": {},
   "source": [
    "#### Machine Learning"
   ]
  },
  {
   "cell_type": "code",
   "execution_count": 84,
   "id": "4613ace7",
   "metadata": {},
   "outputs": [
    {
     "data": {
      "text/plain": [
       "{'MSE_avg': {'a_or': 127.89156341552734,\n",
       "  'a_ex': 262.7425537109375,\n",
       "  'p_or': 0.5627545118331909,\n",
       "  'p_ex': 0.4183010458946228,\n",
       "  'q_or': 0.15102724730968475,\n",
       "  'q_ex': 0.15886041522026062,\n",
       "  'prod_q': 0.10289856046438217,\n",
       "  'load_v': 0.0005164453759789467,\n",
       "  'v_or': 0.14161446690559387,\n",
       "  'v_ex': 0.06926502287387848},\n",
       " 'MAE_avg': {'a_or': 5.6003618240356445,\n",
       "  'a_ex': 8.17853832244873,\n",
       "  'p_or': 0.38290542364120483,\n",
       "  'p_ex': 0.3322980999946594,\n",
       "  'q_or': 0.2155863344669342,\n",
       "  'q_ex': 0.21266257762908936,\n",
       "  'prod_q': 0.20926113426685333,\n",
       "  'load_v': 0.01068723201751709,\n",
       "  'v_or': 0.2136068344116211,\n",
       "  'v_ex': 0.14599916338920593},\n",
       " 'mape_90_avg': {'a_or': 0.015484545597647387,\n",
       "  'a_ex': 0.01599305607993549,\n",
       "  'p_or': 0.01340504304202568,\n",
       "  'p_ex': 0.013077615219427746,\n",
       "  'q_or': 0.019332623859647874,\n",
       "  'q_ex': 0.018709642637029705,\n",
       "  'prod_q': 0.0077660709524695155,\n",
       "  'load_v': 0.0002988841629914037,\n",
       "  'v_or': 0.0025980433265958692,\n",
       "  'v_ex': 0.0021921794420023703}}"
      ]
     },
     "execution_count": 84,
     "metadata": {},
     "output_type": "execute_result"
    }
   ],
   "source": [
    "tf_leapnet_metrics[\"test\"][\"ML\"]"
   ]
  },
  {
   "cell_type": "code",
   "execution_count": 85,
   "id": "281e5a6d",
   "metadata": {},
   "outputs": [
    {
     "data": {
      "text/plain": [
       "{'MSE_avg': {'a_or': 21640.052734375,\n",
       "  'a_ex': 58454.71875,\n",
       "  'p_or': 90.68405151367188,\n",
       "  'p_ex': 105.5886459350586,\n",
       "  'q_or': 18.416820526123047,\n",
       "  'q_ex': 22.226476669311523,\n",
       "  'prod_q': 56.452056884765625,\n",
       "  'load_v': 0.7100846767425537,\n",
       "  'v_or': 1.4015501737594604,\n",
       "  'v_ex': 2.8426501750946045},\n",
       " 'MAE_avg': {'a_or': 69.59427642822266,\n",
       "  'a_ex': 105.06742095947266,\n",
       "  'p_or': 5.035119533538818,\n",
       "  'p_ex': 5.4675164222717285,\n",
       "  'q_or': 2.8127877712249756,\n",
       "  'q_ex': 2.991516590118408,\n",
       "  'prod_q': 4.95271110534668,\n",
       "  'load_v': 0.3890017569065094,\n",
       "  'v_or': 0.505209743976593,\n",
       "  'v_ex': 0.6192794442176819},\n",
       " 'mape_90_avg': {'a_or': 0.23289753135601074,\n",
       "  'a_ex': 0.19651488313305626,\n",
       "  'p_or': 0.21821281749007135,\n",
       "  'p_ex': 0.21670647333523915,\n",
       "  'q_or': 0.2083781050776324,\n",
       "  'q_ex': 0.2277290666319211,\n",
       "  'prod_q': 0.14702699117437334,\n",
       "  'load_v': 0.005483855396574481,\n",
       "  'v_or': 0.007733491742627321,\n",
       "  'v_ex': 0.010428369715193609}}"
      ]
     },
     "execution_count": 85,
     "metadata": {},
     "output_type": "execute_result"
    }
   ],
   "source": [
    "tf_leapnet_metrics[\"test_ood_topo\"][\"ML\"]"
   ]
  },
  {
   "cell_type": "markdown",
   "id": "1a87a319",
   "metadata": {},
   "source": [
    "#### Physics"
   ]
  },
  {
   "cell_type": "code",
   "execution_count": 89,
   "id": "6c8eb7af",
   "metadata": {},
   "outputs": [
    {
     "data": {
      "text/plain": [
       "0.00063"
      ]
     },
     "execution_count": 89,
     "metadata": {},
     "output_type": "execute_result"
    }
   ],
   "source": [
    "tf_leapnet_metrics[\"test\"][\"Physics\"][\"CURRENT_POS\"][\"a_or\"][\"Violation_proportion\"]"
   ]
  },
  {
   "cell_type": "code",
   "execution_count": 91,
   "id": "a0ff863a",
   "metadata": {},
   "outputs": [
    {
     "data": {
      "text/plain": [
       "{}"
      ]
     },
     "execution_count": 91,
     "metadata": {},
     "output_type": "execute_result"
    }
   ],
   "source": [
    "tf_leapnet_metrics[\"test\"][\"Physics\"][\"VOLTAGE_POS\"]"
   ]
  },
  {
   "cell_type": "code",
   "execution_count": 92,
   "id": "87833352",
   "metadata": {},
   "outputs": [
    {
     "data": {
      "text/plain": [
       "0.325035"
      ]
     },
     "execution_count": 92,
     "metadata": {},
     "output_type": "execute_result"
    }
   ],
   "source": [
    "tf_leapnet_metrics[\"test\"][\"Physics\"][\"LOSS_POS\"][\"violation_proportion\"]"
   ]
  },
  {
   "cell_type": "code",
   "execution_count": 93,
   "id": "a8b80331",
   "metadata": {},
   "outputs": [
    {
     "data": {
      "text/plain": [
       "{}"
      ]
     },
     "execution_count": 93,
     "metadata": {},
     "output_type": "execute_result"
    }
   ],
   "source": [
    "tf_leapnet_metrics[\"test\"][\"Physics\"][\"DISC_LINES\"]"
   ]
  },
  {
   "cell_type": "code",
   "execution_count": null,
   "id": "03e9a11a",
   "metadata": {},
   "outputs": [],
   "source": [
    "tf_leapnet_metrics[\"test\"][\"Physics\"][\"CURRENT_EQ\"]"
   ]
  },
  {
   "cell_type": "code",
   "execution_count": 94,
   "id": "5eded53e",
   "metadata": {},
   "outputs": [
    {
     "data": {
      "text/plain": [
       "0.006485"
      ]
     },
     "execution_count": 94,
     "metadata": {},
     "output_type": "execute_result"
    }
   ],
   "source": [
    "tf_leapnet_metrics[\"test_ood_topo\"][\"Physics\"][\"CURRENT_POS\"][\"a_or\"][\"Violation_proportion\"]"
   ]
  },
  {
   "cell_type": "code",
   "execution_count": 96,
   "id": "adfe2a28",
   "metadata": {},
   "outputs": [
    {
     "data": {
      "text/plain": [
       "{}"
      ]
     },
     "execution_count": 96,
     "metadata": {},
     "output_type": "execute_result"
    }
   ],
   "source": [
    "# TODO : if there is no violation return 0%, there is an error when using v_or key\n",
    "tf_leapnet_metrics[\"test_ood_topo\"][\"Physics\"][\"VOLTAGE_POS\"]"
   ]
  },
  {
   "cell_type": "code",
   "execution_count": 97,
   "id": "a6b9598a",
   "metadata": {},
   "outputs": [
    {
     "data": {
      "text/plain": [
       "0.457395"
      ]
     },
     "execution_count": 97,
     "metadata": {},
     "output_type": "execute_result"
    }
   ],
   "source": [
    "tf_leapnet_metrics[\"test_ood_topo\"][\"Physics\"][\"LOSS_POS\"][\"violation_proportion\"]"
   ]
  },
  {
   "cell_type": "code",
   "execution_count": 98,
   "id": "37d01b14",
   "metadata": {},
   "outputs": [
    {
     "data": {
      "text/plain": [
       "{}"
      ]
     },
     "execution_count": 98,
     "metadata": {},
     "output_type": "execute_result"
    }
   ],
   "source": [
    "tf_leapnet_metrics[\"test_ood_topo\"][\"Physics\"][\"DISC_LINES\"]"
   ]
  },
  {
   "cell_type": "code",
   "execution_count": null,
   "id": "16f49dae",
   "metadata": {},
   "outputs": [],
   "source": [
    "tf_leapnet_metrics[\"test_ood_topo\"][\"Physics\"][\"CURRENT_EQ\"]"
   ]
  },
  {
   "cell_type": "markdown",
   "id": "8563d890",
   "metadata": {},
   "source": [
    "#### Industrial Readiness"
   ]
  },
  {
   "cell_type": "code",
   "execution_count": 99,
   "id": "7a2d0eab",
   "metadata": {},
   "outputs": [
    {
     "data": {
      "text/plain": [
       "0.28827810287475586"
      ]
     },
     "execution_count": 99,
     "metadata": {},
     "output_type": "execute_result"
    }
   ],
   "source": [
    "leap_net.predict_time"
   ]
  },
  {
   "cell_type": "markdown",
   "id": "6b72e1d7",
   "metadata": {},
   "source": [
    "# Benchmark 3 : Validation of decision <a id=\"benchmark3\"></a>\n",
    "Once preferred solutions have been selected by the operator to alleviate an overflow, a last detailed simulation is run and studied more in depth by the operator, prior to apply the remedial actions on the actual power grid. The purpose of this operation is to ensure that no unforeseen event may make the grid collapse. In this application, the quality of prediction is decisive, to ensure that the adopted interventions will not violate the consistency within the network; therefore the surrogate simulator shall be nearly as good as the numerical solver. Here the main goal is to ensure the accuracy and consistency of the solution for 1-10 simulations. All physical variables of the physical problem shall be predicted: currents $a^\\ell$, active power flows $p^\\ell$, voltages $v_{k}$, reactive power flows $q^\\ell$, angles $\\theta_k$."
   ]
  },
  {
   "cell_type": "code",
   "execution_count": null,
   "id": "00d09f2b",
   "metadata": {},
   "outputs": [],
   "source": [
    "benchmark3 = PowerGridBenchmark(benchmark_name=\"Benchmark3\",\n",
    "                                benchmark_path=DATA_PATH,\n",
    "                                load_data_set=True,\n",
    "                                log_path=LOG_PATH,\n",
    "                                config_path=CONFIG_PATH\n",
    "                               )"
   ]
  },
  {
   "cell_type": "code",
   "execution_count": null,
   "id": "e13cde9d",
   "metadata": {},
   "outputs": [],
   "source": [
    "benchmark3.config.get_options_dict()"
   ]
  },
  {
   "cell_type": "markdown",
   "id": "7d7404d6",
   "metadata": {},
   "source": [
    "## Fully Connected Network"
   ]
  },
  {
   "cell_type": "code",
   "execution_count": 5,
   "id": "e2e0019b",
   "metadata": {},
   "outputs": [],
   "source": [
    "from lips.augmented_simulators.tensorflow_models import TfFullyConnected\n",
    "from lips.dataset.scaler import StandardScaler"
   ]
  },
  {
   "cell_type": "code",
   "execution_count": 6,
   "id": "1a004e47",
   "metadata": {},
   "outputs": [],
   "source": [
    "tf_fc = TfFullyConnected(name=\"tf_fc\",\n",
    "                         bench_config_name=\"Benchmark3\",\n",
    "                         scaler=StandardScaler,\n",
    "                         log_path=LOG_PATH)"
   ]
  },
  {
   "cell_type": "markdown",
   "id": "d1d9c015",
   "metadata": {},
   "source": [
    "### Train the model"
   ]
  },
  {
   "cell_type": "code",
   "execution_count": null,
   "id": "30a5de07",
   "metadata": {},
   "outputs": [],
   "source": [
    "tf_fc.train(train_dataset=benchmark3.train_dataset,\n",
    "            val_dataset=benchmark3.val_dataset,\n",
    "            epochs=100\n",
    "           )"
   ]
  },
  {
   "cell_type": "markdown",
   "id": "5f187231",
   "metadata": {},
   "source": [
    "#### Convergence"
   ]
  },
  {
   "cell_type": "code",
   "execution_count": 8,
   "id": "04836020",
   "metadata": {},
   "outputs": [
    {
     "data": {
      "image/png": "[encoded data removed]",
      "text/plain": [
       "<Figure size 1080x360 with 2 Axes>"
      ]
     },
     "metadata": {
      "needs_background": "light"
     },
     "output_type": "display_data"
    }
   ],
   "source": [
    "tf_fc.visualize_convergence()"
   ]
  },
  {
   "cell_type": "markdown",
   "id": "c0036a81",
   "metadata": {},
   "source": [
    "### Evaluation "
   ]
  },
  {
   "cell_type": "code",
   "execution_count": 9,
   "id": "a3d84223",
   "metadata": {},
   "outputs": [],
   "source": [
    "# TODO: log the losses\n",
    "tf_fc_metrics = benchmark3.evaluate_simulator(augmented_simulator=tf_fc,\n",
    "                                              eval_batch_size=128,\n",
    "                                              dataset=\"all\",\n",
    "                                              shuffle=False\n",
    "                                             )"
   ]
  },
  {
   "cell_type": "markdown",
   "id": "1ef45c8d",
   "metadata": {},
   "source": [
    "#### Machine Learning"
   ]
  },
  {
   "cell_type": "code",
   "execution_count": 10,
   "id": "1f4e5741",
   "metadata": {},
   "outputs": [
    {
     "data": {
      "text/plain": [
       "{'MSE_avg': {'a_or': 1993.1708984375,\n",
       "  'a_ex': 3798.15966796875,\n",
       "  'p_or': 9.35998821258545,\n",
       "  'p_ex': 9.01952838897705,\n",
       "  'q_or': 2.9328453540802,\n",
       "  'q_ex': 2.916205883026123,\n",
       "  'prod_q': 8.57072925567627,\n",
       "  'load_v': 0.27647507190704346,\n",
       "  'v_or': 2.5539357662200928,\n",
       "  'v_ex': 1.852583885192871,\n",
       "  'theta_or': 1.6510940790176392,\n",
       "  'theta_ex': 1.6119579076766968},\n",
       " 'MAE_avg': {'a_or': 20.842586517333984,\n",
       "  'a_ex': 29.090351104736328,\n",
       "  'p_or': 1.5972301959991455,\n",
       "  'p_ex': 1.574171543121338,\n",
       "  'q_or': 0.9390716552734375,\n",
       "  'q_ex': 0.9390395879745483,\n",
       "  'prod_q': 1.7056437730789185,\n",
       "  'load_v': 0.21827863156795502,\n",
       "  'v_or': 0.8247699737548828,\n",
       "  'v_ex': 0.6415849924087524,\n",
       "  'theta_or': 0.6131914854049683,\n",
       "  'theta_ex': 0.6285197734832764},\n",
       " 'mape_90_avg': {'a_or': 0.05663632217355663,\n",
       "  'a_ex': 0.05688351716506033,\n",
       "  'p_or': 0.0562915306680424,\n",
       "  'p_ex': 0.05652440350328518,\n",
       "  'q_or': 0.07836569274548823,\n",
       "  'q_ex': 0.07328907516692974,\n",
       "  'prod_q': 0.048524967288813746,\n",
       "  'load_v': 0.003328918158767223,\n",
       "  'v_or': 0.008859033095794357,\n",
       "  'v_ex': 0.009226395684360695,\n",
       "  'theta_or': nan,\n",
       "  'theta_ex': 0.06258870171225112}}"
      ]
     },
     "execution_count": 10,
     "metadata": {},
     "output_type": "execute_result"
    }
   ],
   "source": [
    "tf_fc_metrics[\"test\"][\"ML\"]"
   ]
  },
  {
   "cell_type": "code",
   "execution_count": 11,
   "id": "8b615cca",
   "metadata": {},
   "outputs": [
    {
     "data": {
      "text/plain": [
       "{'MSE_avg': {'a_or': 4750.556640625,\n",
       "  'a_ex': 9563.4814453125,\n",
       "  'p_or': 22.160093307495117,\n",
       "  'p_ex': 21.490083694458008,\n",
       "  'q_or': 6.720115661621094,\n",
       "  'q_ex': 6.730615139007568,\n",
       "  'prod_q': 17.7342586517334,\n",
       "  'load_v': 0.672005295753479,\n",
       "  'v_or': 4.491456031799316,\n",
       "  'v_ex': 3.2581729888916016,\n",
       "  'theta_or': 4.629125118255615,\n",
       "  'theta_ex': 4.455368518829346},\n",
       " 'MAE_avg': {'a_or': 31.540576934814453,\n",
       "  'a_ex': 44.199310302734375,\n",
       "  'p_or': 2.4336166381835938,\n",
       "  'p_ex': 2.398881673812866,\n",
       "  'q_or': 1.4219428300857544,\n",
       "  'q_ex': 1.4244019985198975,\n",
       "  'prod_q': 2.4548287391662598,\n",
       "  'load_v': 0.3313249349594116,\n",
       "  'v_or': 1.1068942546844482,\n",
       "  'v_ex': 0.8594021797180176,\n",
       "  'theta_or': 0.9943008422851562,\n",
       "  'theta_ex': 1.0171103477478027},\n",
       " 'mape_90_avg': {'a_or': 0.08064774096791212,\n",
       "  'a_ex': 0.08079158988963843,\n",
       "  'p_or': 0.08241722004416788,\n",
       "  'p_ex': 0.0831971397344167,\n",
       "  'q_or': 0.10352287294492683,\n",
       "  'q_ex': 0.10159802546947613,\n",
       "  'prod_q': 0.06809871969396158,\n",
       "  'load_v': 0.004712596039183754,\n",
       "  'v_or': 0.011586658689037101,\n",
       "  'v_ex': 0.012050405696144222,\n",
       "  'theta_or': nan,\n",
       "  'theta_ex': 0.09191853636150675}}"
      ]
     },
     "execution_count": 11,
     "metadata": {},
     "output_type": "execute_result"
    }
   ],
   "source": [
    "tf_fc_metrics[\"test_ood_topo\"][\"ML\"]"
   ]
  },
  {
   "cell_type": "markdown",
   "id": "98d0afde",
   "metadata": {},
   "source": [
    "#### Physics"
   ]
  },
  {
   "cell_type": "code",
   "execution_count": 12,
   "id": "aaefdf0a",
   "metadata": {},
   "outputs": [
    {
     "data": {
      "text/plain": [
       "0.024135"
      ]
     },
     "execution_count": 12,
     "metadata": {},
     "output_type": "execute_result"
    }
   ],
   "source": [
    "tf_fc_metrics[\"test\"][\"Physics\"][\"CURRENT_POS\"][\"a_or\"][\"Violation_proportion\"]"
   ]
  },
  {
   "cell_type": "code",
   "execution_count": 13,
   "id": "7c379e57",
   "metadata": {},
   "outputs": [
    {
     "data": {
      "text/plain": [
       "0.021825"
      ]
     },
     "execution_count": 13,
     "metadata": {},
     "output_type": "execute_result"
    }
   ],
   "source": [
    "tf_fc_metrics[\"test\"][\"Physics\"][\"VOLTAGE_POS\"][\"v_or\"][\"Violation_proportion\"]"
   ]
  },
  {
   "cell_type": "code",
   "execution_count": 14,
   "id": "6e57463b",
   "metadata": {},
   "outputs": [
    {
     "data": {
      "text/plain": [
       "0.293275"
      ]
     },
     "execution_count": 14,
     "metadata": {},
     "output_type": "execute_result"
    }
   ],
   "source": [
    "tf_fc_metrics[\"test\"][\"Physics\"][\"LOSS_POS\"][\"violation_proportion\"]"
   ]
  },
  {
   "cell_type": "code",
   "execution_count": 15,
   "id": "93c5ee9e",
   "metadata": {},
   "outputs": [
    {
     "data": {
      "text/plain": [
       "{}"
      ]
     },
     "execution_count": 15,
     "metadata": {},
     "output_type": "execute_result"
    }
   ],
   "source": [
    "tf_fc_metrics[\"test\"][\"Physics\"][\"DISC_LINES\"]"
   ]
  },
  {
   "cell_type": "code",
   "execution_count": null,
   "id": "fc6a4cb6",
   "metadata": {},
   "outputs": [],
   "source": [
    "tf_fc_metrics[\"test\"][\"Physics\"][\"CURRENT_EQ\"]"
   ]
  },
  {
   "cell_type": "code",
   "execution_count": 16,
   "id": "df4aa62b",
   "metadata": {},
   "outputs": [
    {
     "data": {
      "text/plain": [
       "0.029045"
      ]
     },
     "execution_count": 16,
     "metadata": {},
     "output_type": "execute_result"
    }
   ],
   "source": [
    "tf_fc_metrics[\"test_ood_topo\"][\"Physics\"][\"CURRENT_POS\"][\"a_or\"][\"Violation_proportion\"]"
   ]
  },
  {
   "cell_type": "code",
   "execution_count": 17,
   "id": "127c73df",
   "metadata": {},
   "outputs": [
    {
     "data": {
      "text/plain": [
       "0.027715"
      ]
     },
     "execution_count": 17,
     "metadata": {},
     "output_type": "execute_result"
    }
   ],
   "source": [
    "tf_fc_metrics[\"test_ood_topo\"][\"Physics\"][\"VOLTAGE_POS\"][\"v_or\"][\"Violation_proportion\"]"
   ]
  },
  {
   "cell_type": "code",
   "execution_count": 18,
   "id": "de0d7790",
   "metadata": {},
   "outputs": [
    {
     "data": {
      "text/plain": [
       "0.30163"
      ]
     },
     "execution_count": 18,
     "metadata": {},
     "output_type": "execute_result"
    }
   ],
   "source": [
    "tf_fc_metrics[\"test_ood_topo\"][\"Physics\"][\"LOSS_POS\"][\"violation_proportion\"]"
   ]
  },
  {
   "cell_type": "code",
   "execution_count": 19,
   "id": "d900b174",
   "metadata": {},
   "outputs": [
    {
     "data": {
      "text/plain": [
       "{}"
      ]
     },
     "execution_count": 19,
     "metadata": {},
     "output_type": "execute_result"
    }
   ],
   "source": [
    "tf_fc_metrics[\"test_ood_topo\"][\"Physics\"][\"DISC_LINES\"]"
   ]
  },
  {
   "cell_type": "code",
   "execution_count": null,
   "id": "19c807df",
   "metadata": {},
   "outputs": [],
   "source": [
    "tf_fc_metrics[\"test_ood_topo\"][\"Physics\"][\"CURRENT_EQ\"]"
   ]
  },
  {
   "cell_type": "markdown",
   "id": "109715c9",
   "metadata": {},
   "source": [
    "#### Industrial Readiness"
   ]
  },
  {
   "cell_type": "code",
   "execution_count": 20,
   "id": "853a5423",
   "metadata": {},
   "outputs": [
    {
     "data": {
      "text/plain": [
       "0.08675742149353027"
      ]
     },
     "execution_count": 20,
     "metadata": {},
     "output_type": "execute_result"
    }
   ],
   "source": [
    "tf_fc.predict_time"
   ]
  },
  {
   "cell_type": "markdown",
   "id": "7d1c090d",
   "metadata": {},
   "source": [
    "## LeapNet Neural Network"
   ]
  },
  {
   "cell_type": "code",
   "execution_count": 21,
   "id": "f0baa376",
   "metadata": {},
   "outputs": [],
   "source": [
    "from lips.augmented_simulators.tensorflow_models import LeapNet\n",
    "from lips.dataset.scaler import PowerGridScaler"
   ]
  },
  {
   "cell_type": "code",
   "execution_count": 25,
   "id": "a6ab4ee9",
   "metadata": {},
   "outputs": [],
   "source": [
    "leap_net = LeapNet(name=\"tf_leapnet\",\n",
    "                   bench_config_name=\"Benchmark3\",\n",
    "                   sizes_main=(150, 150),\n",
    "                   sizes_enc=(20, 20, 20),\n",
    "                   sizes_out=(100, 40),\n",
    "                   scaler=PowerGridScaler,\n",
    "                   log_path=LOG_PATH)"
   ]
  },
  {
   "cell_type": "markdown",
   "id": "1a8e186e",
   "metadata": {},
   "source": [
    "### Train it"
   ]
  },
  {
   "cell_type": "code",
   "execution_count": null,
   "id": "9f7043b8",
   "metadata": {},
   "outputs": [],
   "source": [
    "leap_net.train(train_dataset=benchmark3.train_dataset,\n",
    "               val_dataset=benchmark3.val_dataset,\n",
    "               epochs=200\n",
    "              )"
   ]
  },
  {
   "cell_type": "code",
   "execution_count": 27,
   "id": "2bd1fcc0",
   "metadata": {},
   "outputs": [
    {
     "data": {
      "image/png": "[encoded data removed]",
      "text/plain": [
       "<Figure size 1080x360 with 2 Axes>"
      ]
     },
     "metadata": {
      "needs_background": "light"
     },
     "output_type": "display_data"
    }
   ],
   "source": [
    "leap_net.visualize_convergence()"
   ]
  },
  {
   "cell_type": "markdown",
   "id": "8eed3178",
   "metadata": {},
   "source": [
    "### Evaluation "
   ]
  },
  {
   "cell_type": "code",
   "execution_count": 32,
   "id": "370ce8d0",
   "metadata": {},
   "outputs": [],
   "source": [
    "# TODO: log the losses\n",
    "tf_leapnet_metrics = benchmark3.evaluate_simulator(augmented_simulator=leap_net,\n",
    "                                                   eval_batch_size=128,\n",
    "                                                   dataset=\"all\",\n",
    "                                                   shuffle=False\n",
    "                                                  )"
   ]
  },
  {
   "cell_type": "markdown",
   "id": "6a678c50",
   "metadata": {},
   "source": [
    "#### Machine Learning"
   ]
  },
  {
   "cell_type": "markdown",
   "id": "cba078b5",
   "metadata": {},
   "source": [
    "<span style=\"color: green\">**It can be observed that the LeapNet model have a much better generalization capacity than the fully connected architecture.**</span>"
   ]
  },
  {
   "cell_type": "code",
   "execution_count": 33,
   "id": "3ff3394f",
   "metadata": {},
   "outputs": [
    {
     "data": {
      "text/plain": [
       "{'MSE_avg': {'a_or': 3443.40966796875,\n",
       "  'a_ex': 6737.45556640625,\n",
       "  'p_or': 32.79262161254883,\n",
       "  'p_ex': 34.957435607910156,\n",
       "  'q_or': 6.325891494750977,\n",
       "  'q_ex': 5.611996650695801,\n",
       "  'prod_q': 8.613816261291504,\n",
       "  'load_v': 0.13607041537761688,\n",
       "  'v_or': 1.198491096496582,\n",
       "  'v_ex': 0.5302087068557739,\n",
       "  'theta_or': 2.311166286468506,\n",
       "  'theta_ex': 2.3142056465148926},\n",
       " 'MAE_avg': {'a_or': 25.789112091064453,\n",
       "  'a_ex': 36.78923034667969,\n",
       "  'p_or': 2.686225652694702,\n",
       "  'p_ex': 2.7359189987182617,\n",
       "  'q_or': 1.3092920780181885,\n",
       "  'q_ex': 1.2135279178619385,\n",
       "  'prod_q': 1.4918174743652344,\n",
       "  'load_v': 0.14974413812160492,\n",
       "  'v_or': 0.47883471846580505,\n",
       "  'v_ex': 0.301699161529541,\n",
       "  'theta_or': 0.6816724538803101,\n",
       "  'theta_ex': 0.6997894644737244},\n",
       " 'mape_90_avg': {'a_or': 0.07223351340492068,\n",
       "  'a_ex': 0.0734572296992972,\n",
       "  'p_or': 0.0946381727238749,\n",
       "  'p_ex': 0.09644624016430689,\n",
       "  'q_or': 0.11380333167261006,\n",
       "  'q_ex': 0.0989723131416943,\n",
       "  'prod_q': 0.04641660294056082,\n",
       "  'load_v': 0.003489315985531949,\n",
       "  'v_or': 0.008273855448209808,\n",
       "  'v_ex': 0.006393024281382412,\n",
       "  'theta_or': nan,\n",
       "  'theta_ex': 0.0738810625352665}}"
      ]
     },
     "execution_count": 33,
     "metadata": {},
     "output_type": "execute_result"
    }
   ],
   "source": [
    "tf_leapnet_metrics[\"test\"][\"ML\"]"
   ]
  },
  {
   "cell_type": "code",
   "execution_count": 34,
   "id": "e261bfc1",
   "metadata": {},
   "outputs": [
    {
     "data": {
      "text/plain": [
       "{'MSE_avg': {'a_or': 7078.94921875,\n",
       "  'a_ex': 14714.072265625,\n",
       "  'p_or': 61.04926681518555,\n",
       "  'p_ex': 64.72892761230469,\n",
       "  'q_or': 12.248979568481445,\n",
       "  'q_ex': 11.225975036621094,\n",
       "  'prod_q': 17.441316604614258,\n",
       "  'load_v': 0.350925475358963,\n",
       "  'v_or': 2.0697360038757324,\n",
       "  'v_ex': 1.0060770511627197,\n",
       "  'theta_or': 6.173576354980469,\n",
       "  'theta_ex': 5.7586212158203125},\n",
       " 'MAE_avg': {'a_or': 37.17362594604492,\n",
       "  'a_ex': 52.9255256652832,\n",
       "  'p_or': 3.8043479919433594,\n",
       "  'p_ex': 3.886674404144287,\n",
       "  'q_or': 1.8653628826141357,\n",
       "  'q_ex': 1.7539186477661133,\n",
       "  'prod_q': 2.184037923812866,\n",
       "  'load_v': 0.22535079717636108,\n",
       "  'v_or': 0.6147905588150024,\n",
       "  'v_ex': 0.4095231890678406,\n",
       "  'theta_or': 1.1073055267333984,\n",
       "  'theta_ex': 1.1241278648376465},\n",
       " 'mape_90_avg': {'a_or': 0.0982743002940041,\n",
       "  'a_ex': 0.09940860523955833,\n",
       "  'p_or': 0.12627432186993146,\n",
       "  'p_ex': 0.13001137523582396,\n",
       "  'q_or': 0.1425080424272162,\n",
       "  'q_ex': 0.1319160368221176,\n",
       "  'prod_q': 0.06698398146351713,\n",
       "  'load_v': 0.004847425310599893,\n",
       "  'v_or': 0.010398660557177312,\n",
       "  'v_ex': 0.008300200184076314,\n",
       "  'theta_or': nan,\n",
       "  'theta_ex': 0.10362811206554881}}"
      ]
     },
     "execution_count": 34,
     "metadata": {},
     "output_type": "execute_result"
    }
   ],
   "source": [
    "tf_leapnet_metrics[\"test_ood_topo\"][\"ML\"]"
   ]
  },
  {
   "cell_type": "markdown",
   "id": "0894470c",
   "metadata": {},
   "source": [
    "#### Physics"
   ]
  },
  {
   "cell_type": "code",
   "execution_count": 35,
   "id": "33688c16",
   "metadata": {},
   "outputs": [
    {
     "data": {
      "text/plain": [
       "0.001835"
      ]
     },
     "execution_count": 35,
     "metadata": {},
     "output_type": "execute_result"
    }
   ],
   "source": [
    "tf_leapnet_metrics[\"test\"][\"Physics\"][\"CURRENT_POS\"][\"a_or\"][\"Violation_proportion\"]"
   ]
  },
  {
   "cell_type": "code",
   "execution_count": 36,
   "id": "ded1df16",
   "metadata": {},
   "outputs": [
    {
     "data": {
      "text/plain": [
       "{}"
      ]
     },
     "execution_count": 36,
     "metadata": {},
     "output_type": "execute_result"
    }
   ],
   "source": [
    "tf_leapnet_metrics[\"test\"][\"Physics\"][\"VOLTAGE_POS\"]"
   ]
  },
  {
   "cell_type": "code",
   "execution_count": 37,
   "id": "e7ef2699",
   "metadata": {},
   "outputs": [
    {
     "data": {
      "text/plain": [
       "0.42257"
      ]
     },
     "execution_count": 37,
     "metadata": {},
     "output_type": "execute_result"
    }
   ],
   "source": [
    "tf_leapnet_metrics[\"test\"][\"Physics\"][\"LOSS_POS\"][\"violation_proportion\"]"
   ]
  },
  {
   "cell_type": "code",
   "execution_count": 38,
   "id": "65840f6f",
   "metadata": {},
   "outputs": [
    {
     "data": {
      "text/plain": [
       "{}"
      ]
     },
     "execution_count": 38,
     "metadata": {},
     "output_type": "execute_result"
    }
   ],
   "source": [
    "tf_leapnet_metrics[\"test\"][\"Physics\"][\"DISC_LINES\"]"
   ]
  },
  {
   "cell_type": "code",
   "execution_count": null,
   "id": "bbebe302",
   "metadata": {},
   "outputs": [],
   "source": [
    "tf_leapnet_metrics[\"test\"][\"Physics\"][\"CURRENT_EQ\"]"
   ]
  },
  {
   "cell_type": "code",
   "execution_count": 39,
   "id": "4e334e86",
   "metadata": {},
   "outputs": [
    {
     "data": {
      "text/plain": [
       "0.003055"
      ]
     },
     "execution_count": 39,
     "metadata": {},
     "output_type": "execute_result"
    }
   ],
   "source": [
    "tf_leapnet_metrics[\"test_ood_topo\"][\"Physics\"][\"CURRENT_POS\"][\"a_or\"][\"Violation_proportion\"]"
   ]
  },
  {
   "cell_type": "code",
   "execution_count": 40,
   "id": "c8c8066b",
   "metadata": {},
   "outputs": [
    {
     "data": {
      "text/plain": [
       "{}"
      ]
     },
     "execution_count": 40,
     "metadata": {},
     "output_type": "execute_result"
    }
   ],
   "source": [
    "# TODO : if there is no violation return 0%, there is an error when using v_or key\n",
    "tf_leapnet_metrics[\"test_ood_topo\"][\"Physics\"][\"VOLTAGE_POS\"]"
   ]
  },
  {
   "cell_type": "code",
   "execution_count": 41,
   "id": "342e1a14",
   "metadata": {},
   "outputs": [
    {
     "data": {
      "text/plain": [
       "0.42273"
      ]
     },
     "execution_count": 41,
     "metadata": {},
     "output_type": "execute_result"
    }
   ],
   "source": [
    "tf_leapnet_metrics[\"test_ood_topo\"][\"Physics\"][\"LOSS_POS\"][\"violation_proportion\"]"
   ]
  },
  {
   "cell_type": "code",
   "execution_count": 42,
   "id": "64e7cc9a",
   "metadata": {},
   "outputs": [
    {
     "data": {
      "text/plain": [
       "{}"
      ]
     },
     "execution_count": 42,
     "metadata": {},
     "output_type": "execute_result"
    }
   ],
   "source": [
    "tf_leapnet_metrics[\"test_ood_topo\"][\"Physics\"][\"DISC_LINES\"]"
   ]
  },
  {
   "cell_type": "code",
   "execution_count": null,
   "id": "a4c66146",
   "metadata": {},
   "outputs": [],
   "source": [
    "tf_leapnet_metrics[\"test_ood_topo\"][\"Physics\"][\"CURRENT_EQ\"]"
   ]
  },
  {
   "cell_type": "markdown",
   "id": "e9295432",
   "metadata": {},
   "source": [
    "#### Industrial Readiness"
   ]
  },
  {
   "cell_type": "code",
   "execution_count": 43,
   "id": "c3d47b50",
   "metadata": {},
   "outputs": [
    {
     "data": {
      "text/plain": [
       "0.31844305992126465"
      ]
     },
     "execution_count": 43,
     "metadata": {},
     "output_type": "execute_result"
    }
   ],
   "source": [
    "leap_net.predict_time"
   ]
  }
 ],
 "metadata": {
  "execution": {
   "allow_errors": true,
   "timeout": 300
  },
  "kernelspec": {
   "display_name": "lips",
   "language": "python",
   "name": "lips"
  },
  "language_info": {
   "codemirror_mode": {
    "name": "ipython",
    "version": 3
   },
   "file_extension": ".py",
   "mimetype": "text/x-python",
   "name": "python",
   "nbconvert_exporter": "python",
   "pygments_lexer": "ipython3",
   "version": "3.8.0"
  }
 },
 "nbformat": 4,
 "nbformat_minor": 5
}
