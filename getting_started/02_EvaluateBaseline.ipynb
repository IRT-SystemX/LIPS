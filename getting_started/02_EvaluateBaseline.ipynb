{
 "cells": [
  {
   "cell_type": "markdown",
   "metadata": {},
   "source": [
    "# Evaluate Baselines"
   ]
  },
  {
   "cell_type": "markdown",
   "metadata": {},
   "source": [
    "The goal of this notebook is to demonstrate how we can evaluate the results of a baseline on a given benchmark.\n",
    "\n",
    "It will be split into two part. The first part will focus on the evaluation of a baseline that does not requires any training (the `DCApproximatrionAC`). On the second part, we will show how to load a baseline (or any other `AugmentedSimulator`) and evaluate it on a `Benchmark` of our choice.\n",
    "\n",
    "As for the first notebook, we demonstrate this capability for the case of `NeuripsBenchmark1`.\n",
    "\n",
    "**NB** This notebook supposes that the data for the benchmark are already available. If they are not, please generate them or download them.\n",
    "\n",
    "**NB** The `DCApproximatrionAC` baseline requires the `grid2op` python package."
   ]
  },
  {
   "cell_type": "markdown",
   "metadata": {},
   "source": [
    "#### Import required packages"
   ]
  },
  {
   "cell_type": "code",
   "execution_count": 1,
   "metadata": {},
   "outputs": [],
   "source": [
    "import os\n",
    "from lips.benchmark import PowerGridBenchmark"
   ]
  },
  {
   "cell_type": "markdown",
   "metadata": {},
   "source": [
    "#  Benchmark1"
   ]
  },
  {
   "cell_type": "markdown",
   "metadata": {},
   "source": [
    "## Initial step: load the dataset\n",
    "\n",
    "A common dataset will be used for evaluate the two augmented simulator. This initial step aims at loading it once and for all."
   ]
  },
  {
   "cell_type": "code",
   "execution_count": 2,
   "metadata": {},
   "outputs": [],
   "source": [
    "benchmark_path = os.path.abspath(os.path.join(os.path.pardir, \"reference_data\"))\n",
    "log_path = os.path.abspath(\"logs.log\")\n",
    "benchmark1 = PowerGridBenchmark(benchmark_name=\"Benchmark1\",\n",
    "                                benchmark_path=benchmark_path,\n",
    "                                load_data_set=True,\n",
    "                                log_path=log_path\n",
    "                               )"
   ]
  },
  {
   "cell_type": "markdown",
   "metadata": {},
   "source": [
    "## The DC approximation\n",
    "\n",
    "We remind that the `grid2op` library is required for this part. You can install it with `pip install grid2op` if you do not have it already.\n",
    "\n",
    "First we will create the \"augmented simulator\". As opposed to the second model we will expose here, this method require access to a powergrid. This is one of the reason we need grid2op. \n",
    "\n",
    "The way to load each `AugmentedSimulator` is specific. Here for example we load the DCApproximation that will use the same powergrid as the one used to generate the data in the previous Notebook."
   ]
  },
  {
   "cell_type": "code",
   "execution_count": 3,
   "metadata": {},
   "outputs": [],
   "source": [
    "# the next few lines are specific for each benchmark and each `AugmentedSimulator`\n",
    "import grid2op\n",
    "import warnings\n",
    "from lips.physical_simulator.dcApproximationAS import DCApproximationAS\n",
    "with warnings.catch_warnings():\n",
    "    warnings.filterwarnings(\"ignore\")\n",
    "    env = grid2op.make(\"l2rpn_case14_sandbox\", test=True)\n",
    "    grid_path = os.path.join(env.get_path_env(), \"grid.json\")\n",
    "\n",
    "dc_sim = DCApproximationAS(name=\"dc_approximation\", \n",
    "                           benchmark_name=\"Benchmark1\",\n",
    "                           path_config=None, # use default config path\n",
    "                           grid_path=grid_path)"
   ]
  },
  {
   "cell_type": "markdown",
   "metadata": {},
   "source": [
    "Now that the model is load, there is a common interface to evaluate its performance, on a dataset. This is showed in the cell bellow where we evaluate a physics based simulator `DCApproximation` on these two dataset."
   ]
  },
  {
   "cell_type": "code",
   "execution_count": 4,
   "metadata": {},
   "outputs": [
    {
     "name": "stderr",
     "output_type": "stream",
     "text": [
      "/home/milad/environments/lips_gitlab/lib/python3.8/site-packages/lightsim2grid/gridmodel/_aux_add_trafo.py:33: UserWarning: There were some Nan in the pp_net.trafo[\"tap_neutral\"], they have been replaced by 0\n",
      "  warnings.warn(\"There were some Nan in the pp_net.trafo[\\\"tap_neutral\\\"], they have been replaced by 0\")\n",
      "/home/milad/environments/lips_gitlab/lib/python3.8/site-packages/lightsim2grid/gridmodel/_aux_add_trafo.py:41: UserWarning: There were some Nan in the pp_net.trafo[\"tap_step_percent\"], they have been replaced by 0\n",
      "  warnings.warn(\"There were some Nan in the pp_net.trafo[\\\"tap_step_percent\\\"], they have been replaced by 0\")\n",
      "/home/milad/environments/lips_gitlab/lib/python3.8/site-packages/lightsim2grid/gridmodel/_aux_add_trafo.py:46: UserWarning: There were some Nan in the pp_net.trafo[\"tap_pos\"], they have been replaced by 0\n",
      "  warnings.warn(\"There were some Nan in the pp_net.trafo[\\\"tap_pos\\\"], they have been replaced by 0\")\n",
      "/home/milad/environments/lips_gitlab/lib/python3.8/site-packages/lightsim2grid/gridmodel/_aux_add_trafo.py:65: UserWarning: There were some Nan in the pp_net.trafo[\"tap_step_degree\"], they have been replaced by 0\n",
      "  warnings.warn(\"There were some Nan in the pp_net.trafo[\\\"tap_step_degree\\\"], they have been replaced by 0\")\n",
      "/home/milad/environments/lips_gitlab/lib/python3.8/site-packages/lightsim2grid/gridmodel/_aux_add_slack.py:54: UserWarning: LightSim will not consider the pandapower \"ext_grid\" as there are already generators tagged as slack bus\n",
      "  warnings.warn(\"LightSim will not consider the pandapower \\\"ext_grid\\\" as there \"\n",
      "/home/milad/environments/lips_gitlab/lib/python3.8/site-packages/lightsim2grid/gridmodel/_aux_add_slack.py:113: UserWarning: We found either some slack coefficient to be < 0. or they were all 0.We set them all to 1.0 to avoid such issues\n",
      "  warnings.warn(\"We found either some slack coefficient to be < 0. or they were all 0.\"\n",
      "evaluate dc: 100%|██████████| 10000/10000 [08:16<00:00, 20.14it/s]\n"
     ]
    }
   ],
   "source": [
    "dc_metrics_per_dataset = benchmark1.evaluate_simulator(augmented_simulator=dc_sim,\n",
    "                                                       dataset=\"test\"\n",
    "                                                      )"
   ]
  },
  {
   "cell_type": "markdown",
   "metadata": {},
   "source": [
    "And now it is possible to study the metrics on the different dataset. For example, if we want the \"MSE\" error on the \"test\" dataset (with a similar distribution as the training one):"
   ]
  },
  {
   "cell_type": "markdown",
   "metadata": {},
   "source": [
    "## A learned baseline \"augmented simulator\"\n",
    "\n",
    "Along with some dataset, we provide also some baseline (from a trained neural network). This baseline is made of a fully connected neural network that takes the available input of the powergrid and tries to predict all the output of the simulator.\n",
    "\n",
    "The fully connected neural network is made of XXX layer each with YYY units.\n",
    "\n",
    "It is learned for KKK epochs on the training set of the `Benchmark1`.\n",
    "\n",
    "**NB** These baselines are not yet fully trained, and some hyper parameters still need to be optimized. We intend on doing that before the official release of the benchmark for the Neurips conference.\n",
    "\n",
    "First we need to load the baseline and initialize it properly"
   ]
  },
  {
   "cell_type": "code",
   "execution_count": null,
   "metadata": {},
   "outputs": [],
   "source": [
    "path_baselines = os.path.join(\"trained_baselines\")\n",
    "from lips.augmented_simulators.fullyConnectedAS import FullyConnectedAS\n",
    "\n",
    "# recreate the baseline\n",
    "fc_augmented_sim = FullyConnectedAS(name=\"FullyConnectedAS\",\n",
    "                                    benchmark_name=\"Benchmark1\",\n",
    "                                    log_path=log_path\n",
    "                                   )\n",
    "\n",
    "# TODO create a wrapper for these 3 calls\n",
    "fc_augmented_sim.load_metadata(path_baselines)\n",
    "fc_augmented_sim.init()\n",
    "fc_augmented_sim.restore(path_baselines)"
   ]
  },
  {
   "cell_type": "markdown",
   "metadata": {},
   "source": [
    "Then, as for the DC approximation, we can evaluate it on the test datasets of the benchmark.\n",
    "\n",
    "This is done with the same command:"
   ]
  },
  {
   "cell_type": "code",
   "execution_count": null,
   "metadata": {},
   "outputs": [],
   "source": [
    "fc_metrics_per_dataset = benchmark1.evaluate_simulator(fc_augmented_sim, batch_size=10000)"
   ]
  },
  {
   "cell_type": "markdown",
   "metadata": {},
   "source": [
    "## Comparison of the two augmented simulator"
   ]
  },
  {
   "cell_type": "markdown",
   "metadata": {},
   "source": [
    "### Machine learning metrics "
   ]
  },
  {
   "cell_type": "markdown",
   "metadata": {},
   "source": [
    "And now we can compare the two \"augmented simulators\". For example, if we want to compare the MAPE90 (mean absolute percentage error compute for last 10% quantile) on the test dataset (with a distribution similar to the training distribution) for currents (A) at two extremity of power lines, we might compare:"
   ]
  },
  {
   "cell_type": "code",
   "execution_count": 7,
   "metadata": {},
   "outputs": [
    {
     "name": "stdout",
     "output_type": "stream",
     "text": [
      "MAPE90     : {'a_or': 0.16308450692718962, 'a_ex': 0.1464899336666497}\n",
      "NRMSE_avg  : {'a_or': 0.08072826942694072, 'a_ex': 0.07632464035218221}\n",
      "MAE_avg    : {'a_or': 84.77337833139086, 'a_ex': 107.36099085275112}\n"
     ]
    }
   ],
   "source": [
    "dataset_name = \"test\"\n",
    "ML_metrics = 0\n",
    "print(\"{:<10} : {}\".format(\"MAPE90\", dc_metrics_per_dataset[dataset_name][ML_metrics][\"mape90\"]))\n",
    "print(\"{:<10} : {}\".format(\"NRMSE_avg\", dc_metrics_per_dataset[dataset_name][ML_metrics][\"NRMSE_avg\"]))\n",
    "print(\"{:<10} : {}\".format(\"MAE_avg\", dc_metrics_per_dataset[dataset_name][ML_metrics][\"MAE_avg\"]))"
   ]
  },
  {
   "cell_type": "code",
   "execution_count": 8,
   "metadata": {},
   "outputs": [
    {
     "name": "stdout",
     "output_type": "stream",
     "text": [
      "MAPE90     : {'a_or': 0.007024117742886628, 'a_ex': 0.006871168089630504}\n",
      "NRMSE_avg  : {'a_or': 0.0030290880240499973, 'a_ex': 0.002971998881548643}\n",
      "MAE_avg    : {'a_or': 1.9451725482940674, 'a_ex': 2.78893780708313}\n"
     ]
    }
   ],
   "source": [
    "dataset_name = \"test\"\n",
    "ML_metrics = 0\n",
    "print(\"{:<10} : {}\".format(\"MAPE90\", fc_metrics_per_dataset[dataset_name][ML_metrics][\"mape90\"]))\n",
    "print(\"{:<10} : {}\".format(\"NRMSE_avg\", fc_metrics_per_dataset[dataset_name][ML_metrics][\"NRMSE_avg\"]))\n",
    "print(\"{:<10} : {}\".format(\"MAE_avg\", fc_metrics_per_dataset[dataset_name][ML_metrics][\"MAE_avg\"]))"
   ]
  },
  {
   "cell_type": "markdown",
   "metadata": {},
   "source": [
    "If we want the same quantity but for the \"out of distribution (due to topology)\" distribution we can have a look at:"
   ]
  },
  {
   "cell_type": "code",
   "execution_count": 9,
   "metadata": {},
   "outputs": [
    {
     "name": "stdout",
     "output_type": "stream",
     "text": [
      "MAPE90     : {'a_or': 0.17918059033390996, 'a_ex': 0.16180186468334115}\n",
      "NRMSE_avg  : {'a_or': 0.060954326726434374, 'a_ex': 0.057830270537688924}\n",
      "MAE_avg    : {'a_or': 90.20692764002857, 'a_ex': 114.34817311476654}\n"
     ]
    }
   ],
   "source": [
    "dataset_name = \"test_ood_topo\"\n",
    "print(\"{:<10} : {}\".format(\"MAPE90\", dc_metrics_per_dataset[dataset_name][ML_metrics][\"mape90\"]))\n",
    "print(\"{:<10} : {}\".format(\"NRMSE_avg\", dc_metrics_per_dataset[dataset_name][ML_metrics][\"NRMSE_avg\"]))\n",
    "print(\"{:<10} : {}\".format(\"MAE_avg\", dc_metrics_per_dataset[dataset_name][ML_metrics][\"MAE_avg\"]))"
   ]
  },
  {
   "cell_type": "code",
   "execution_count": 10,
   "metadata": {},
   "outputs": [
    {
     "name": "stdout",
     "output_type": "stream",
     "text": [
      "MAPE90     : {'a_or': 0.19454041454560483, 'a_ex': 0.1942612925586953}\n",
      "NRMSE_avg  : {'a_or': 0.053016722202301025, 'a_ex': 0.05295873433351517}\n",
      "MAE_avg    : {'a_or': 40.29703903198242, 'a_ex': 55.750465393066406}\n"
     ]
    }
   ],
   "source": [
    "dataset_name = \"test_ood_topo\"\n",
    "print(\"{:<10} : {}\".format(\"MAPE90\", fc_metrics_per_dataset[dataset_name][ML_metrics][\"mape90\"]))\n",
    "print(\"{:<10} : {}\".format(\"NRMSE_avg\", fc_metrics_per_dataset[dataset_name][ML_metrics][\"NRMSE_avg\"]))\n",
    "print(\"{:<10} : {}\".format(\"MAE_avg\", fc_metrics_per_dataset[dataset_name][ML_metrics][\"MAE_avg\"]))"
   ]
  },
  {
   "cell_type": "markdown",
   "metadata": {},
   "source": [
    "### Physic compliance"
   ]
  },
  {
   "cell_type": "code",
   "execution_count": 11,
   "metadata": {},
   "outputs": [
    {
     "name": "stdout",
     "output_type": "stream",
     "text": [
      "2.67% of currents at the origin side of power lines violate the current positivity.\n"
     ]
    }
   ],
   "source": [
    "physic_compliances = 1\n",
    "current_violation = fc_metrics_per_dataset[\"test\"][physic_compliances][\"BasicVerifications\"][\"currents\"][\"a_or\"][\"Violation_proportion\"]\n",
    "print(\"{:.2f}% of currents at the origin side of power lines violate the current positivity.\".format(current_violation*100))"
   ]
  },
  {
   "cell_type": "code",
   "execution_count": 12,
   "metadata": {},
   "outputs": [
    {
     "name": "stdout",
     "output_type": "stream",
     "text": [
      "The sum of negative current values (Amp) : 8368.78\n"
     ]
    }
   ],
   "source": [
    "current_error = fc_metrics_per_dataset[\"test\"][physic_compliances][\"BasicVerifications\"][\"currents\"][\"a_or\"][\"Error\"]\n",
    "print(\"The sum of negative current values (Amp) : {:.2f}\".format(current_error))"
   ]
  },
  {
   "cell_type": "markdown",
   "metadata": {},
   "source": [
    "### Industrial readiness"
   ]
  },
  {
   "cell_type": "code",
   "execution_count": 13,
   "metadata": {},
   "outputs": [
    {
     "data": {
      "text/plain": [
       "0.06155872344970703"
      ]
     },
     "execution_count": 13,
     "metadata": {},
     "output_type": "execute_result"
    }
   ],
   "source": [
    "fc_augmented_sim.predict_time"
   ]
  },
  {
   "cell_type": "code",
   "execution_count": 14,
   "metadata": {},
   "outputs": [
    {
     "data": {
      "text/plain": [
       "122.04796147346497"
      ]
     },
     "execution_count": 14,
     "metadata": {},
     "output_type": "execute_result"
    }
   ],
   "source": [
    "dc_sim._predict_time"
   ]
  },
  {
   "cell_type": "code",
   "execution_count": 15,
   "metadata": {},
   "outputs": [
    {
     "data": {
      "text/plain": [
       "70.2608094215393"
      ]
     },
     "execution_count": 15,
     "metadata": {},
     "output_type": "execute_result"
    }
   ],
   "source": [
    "dc_sim._raw_grid_simulator.comp_time"
   ]
  },
  {
   "cell_type": "markdown",
   "metadata": {},
   "source": [
    "# Benchmark2"
   ]
  },
  {
   "cell_type": "code",
   "execution_count": 24,
   "metadata": {},
   "outputs": [],
   "source": [
    "from lips.benchmark import PowerGridBenchmark\n",
    "path_benchmark = os.path.join(\"reference_data\")\n",
    "log_path = os.path.abspath(os.path.join(\"lips\",\"logger\",\"logs.log\"))\n",
    "benchmark2 = PowerGridBenchmark(benchmark_name=\"Benchmark2\",\n",
    "                                path_benchmark=path_benchmark,\n",
    "                                load_data_set=True,\n",
    "                                log_path=log_path\n",
    "                               )"
   ]
  },
  {
   "cell_type": "markdown",
   "metadata": {},
   "source": [
    "# Benchmark3 "
   ]
  }
 ],
 "metadata": {
  "kernelspec": {
   "display_name": "lips_gitlab",
   "language": "python",
   "name": "lips_gitlab"
  },
  "language_info": {
   "codemirror_mode": {
    "name": "ipython",
    "version": 3
   },
   "file_extension": ".py",
   "mimetype": "text/x-python",
   "name": "python",
   "nbconvert_exporter": "python",
   "pygments_lexer": "ipython3",
   "version": "3.8.10"
  }
 },
 "nbformat": 4,
 "nbformat_minor": 4
}
