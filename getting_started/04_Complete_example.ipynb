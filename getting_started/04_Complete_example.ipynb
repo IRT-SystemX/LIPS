{
 "cells": [
  {
   "cell_type": "markdown",
   "id": "04273ddf",
   "metadata": {},
   "source": [
    "# LIPS : Learning Industrial physical simulationbenchmark suite (PowerGrid)"
   ]
  },
  {
   "cell_type": "markdown",
   "id": "589ecccc",
   "metadata": {},
   "source": [
    "The benchmarking platform (as it can be observed in the Figure below) is composed of three main modules: Data, Benchmarking and Evaluation. As the names suggest, each module is specialized with its own set of functions for a specific task. The Data module is the one that helps to generate different dataset and distributions providing a high flexibility using a set of parameters. Once the datasets are generated, the benchmarking platform will take as entry the generated dataset and perform a required benchmark on it. Each benchmark could be precised via the inputs and outputs required for modeling and prediction. Finally, in order to evaluate the performance of each benchmark, the Evaluation module provides a set of functions to inspect the models from different point of views (physics compliances, machine learning metrics, adaptability and readiness.  "
   ]
  },
  {
   "cell_type": "markdown",
   "id": "accaf99a",
   "metadata": {},
   "source": [
    "The figure below presents the scheme of benchmarking platform which is composed of three distinct parts : \n",
    "* DataSet: Generate some dataset for training and evaluation \n",
    "* Benchmark: coordinates between different parts and allows train and evaluate an agumented simulator \n",
    "* Evaluation: once the benchmark done, it allow to evaluate the performance with respect to various point of views\n",
    "\n",
    "![title](img/Benchmarking_scheme_v2.png)"
   ]
  },
  {
   "cell_type": "markdown",
   "id": "76694fbc",
   "metadata": {},
   "source": [
    "# Benchmark1: Risk assessment through contingency screening\n",
    "Table of contents:\n",
    "- [1. Creating Benchmark](#create-benchmark)\n",
    "- [2. Torch Augmented Simulator](#simulator-torch)\n",
    "    - [step 1](#step1)\n",
    "    - [step 2](#step2)\n",
    "    - [step 3](#step3)\n",
    "- [3. Tensorflow Augmented Simulator](#simulator-torch)\n",
    "    - [3.1 Fully connected neural network](#tf-fc)\n",
    "    - [3.2 LeapNet neural network](#tf-leapnet)\n",
    "- [Benchmark2](#benchmark2)\n",
    "- [Benchmark3](#benchmark3)"
   ]
  },
  {
   "cell_type": "markdown",
   "id": "5a42beab",
   "metadata": {},
   "source": [
    "## 1. Creating a Benchmark and loading corresponding data <a class=\"anchor\" id=\"create-benchmark\"></a>"
   ]
  },
  {
   "cell_type": "markdown",
   "id": "e3a1988f",
   "metadata": {},
   "source": [
    "In this notebook, we analyze the first benchmark's scenario. \n",
    "\n",
    "### Benchmark 1 : Risk assessment through contingency screening\n",
    "The first power grid benchmark tackles the step of risk assessment in power grids. The problem is to anticipate potential threats on the power grid (several hours ahead) and warn the operators accordingly. It simulates incidents (aka contingencies) involving various elements of the grid (such as the disconnection of a line/production unit), one by one. For each contingency, a risk (weakness of the grid) is detected when overloads are detected by the simulation engine on some lines. On a real grid, this scenario means running several dozens of thousands of simulations, thereby, computation time is critical, especially since this risk assessment is refreshed every 15 minutes. In this benchmark, the main physical variable we are interested in is the value of electric current in the lines (in amperes), because an overload is detected if this value exceeds a line-dependent threshold."
   ]
  },
  {
   "cell_type": "code",
   "execution_count": null,
   "id": "1f96cdaa",
   "metadata": {},
   "outputs": [],
   "source": [
    "import pathlib\n",
    "from pprint import pprint\n",
    "from matplotlib import pyplot as plt\n",
    "from lips.benchmark.powergridBenchmark import PowerGridBenchmark\n",
    "from lips.utils import get_path"
   ]
  },
  {
   "cell_type": "markdown",
   "id": "a73f3f3f",
   "metadata": {},
   "source": [
    "Some paths are required to refer to generated datasets, config files, logs and models. "
   ]
  },
  {
   "cell_type": "code",
   "execution_count": null,
   "id": "b0c0ab9f",
   "metadata": {},
   "outputs": [],
   "source": [
    "# indicate required paths\n",
    "LIPS_PATH = pathlib.Path().resolve().parent # it is supposed that the notebook had run from getting_started folder\n",
    "DATA_PATH = LIPS_PATH / \"reference_data\" / \"powergrid\" / \"l2rpn_case14_sandbox\"\n",
    "BENCH_CONFIG_PATH = LIPS_PATH / \"configurations\" / \"powergrid\" / \"benchmarks\" / \"l2rpn_case14_sandbox.ini\"\n",
    "SIM_CONFIG_PATH = LIPS_PATH / \"configurations\" / \"powergrid\" / \"simulators\"\n",
    "BASELINES_PATH = LIPS_PATH / \"trained_baselines\" / \"powergrid\"\n",
    "TRAINED_MODEL_PATH = LIPS_PATH / \"trained_models\" / \"powergrid\"\n",
    "EVALUATION_PATH = LIPS_PATH / \"evaluation_results\" / \"PowerGrid\"\n",
    "LOG_PATH = LIPS_PATH / \"lips_logs.log\""
   ]
  },
  {
   "cell_type": "markdown",
   "id": "7a8552c3",
   "metadata": {},
   "source": [
    "## Select a device for execution "
   ]
  },
  {
   "cell_type": "markdown",
   "id": "a2890c4d",
   "metadata": {},
   "source": [
    "### GPU"
   ]
  },
  {
   "cell_type": "code",
   "execution_count": null,
   "id": "f06806e6",
   "metadata": {},
   "outputs": [],
   "source": [
    "import tensorflow as tf\n",
    "gpus = tf.config.experimental.list_physical_devices('GPU')\n",
    "if gpus:\n",
    "  # Restrict TensorFlow to only use the first GPU\n",
    "    try:\n",
    "        tf.config.experimental.set_visible_devices(gpus[3], 'GPU')\n",
    "    except RuntimeError as e:\n",
    "        # Visible devices must be set at program startup\n",
    "        print(e)"
   ]
  },
  {
   "cell_type": "markdown",
   "id": "563657d6",
   "metadata": {},
   "source": [
    "### CPU"
   ]
  },
  {
   "cell_type": "code",
   "execution_count": null,
   "id": "43ffede4",
   "metadata": {},
   "outputs": [],
   "source": [
    "import os\n",
    "os.environ[\"CUDA_VISIBLE_DEVICES\"]=\"-1\"    \n",
    "import tensorflow as tf"
   ]
  },
  {
   "cell_type": "markdown",
   "id": "ffb70a73",
   "metadata": {},
   "source": [
    "See the list of selected devices"
   ]
  },
  {
   "cell_type": "code",
   "execution_count": null,
   "id": "f164a3b4",
   "metadata": {},
   "outputs": [],
   "source": [
    "tf.config.experimental.get_visible_devices()"
   ]
  },
  {
   "cell_type": "markdown",
   "id": "be22be64",
   "metadata": {},
   "source": [
    "> ### step 1 <a class=\"anchor\" id=\"step1\"></a>\n",
    "\n",
    "We create a Power Grid Benchmark by instantiating the corresponding class `PowerGridBenchmark` and by indicating the `benchmark_name` argument.\n",
    "\n",
    "**NB.** It should be noted that the `Benchmark_name` is related to a section name of a configuration file which is located at the path indicated by the `config_path`. A configuration file (`conf.ini`) is already exists under the config module which defines all the parameters required for three benchmarks studied in power grid use case. \n",
    "\n",
    "If the data is already generated for this benchmark, the parametes `load_data_set` can be set to _True_, which allows to load the datasets for the corresponding benchmark using its name indicated by `benchmark_name`."
   ]
  },
  {
   "cell_type": "code",
   "execution_count": 3,
   "id": "c39a10ff",
   "metadata": {},
   "outputs": [],
   "source": [
    "benchmark1 = PowerGridBenchmark(benchmark_name=\"Benchmark1\",\n",
    "                                benchmark_path=DATA_PATH,\n",
    "                                load_data_set=True,\n",
    "                                log_path=LOG_PATH,\n",
    "                                config_path=BENCH_CONFIG_PATH\n",
    "                               )"
   ]
  },
  {
   "cell_type": "markdown",
   "id": "d976553f",
   "metadata": {},
   "source": [
    "Once the benchmark is instantiated, we can verify the corresponding configurations."
   ]
  },
  {
   "cell_type": "code",
   "execution_count": null,
   "id": "a048cc59",
   "metadata": {},
   "outputs": [],
   "source": [
    "pprint(benchmark1.config.get_options_dict())"
   ]
  },
  {
   "cell_type": "markdown",
   "id": "4266d6c2",
   "metadata": {},
   "source": [
    "define some tests as below"
   ]
  },
  {
   "cell_type": "code",
   "execution_count": null,
   "id": "8ac05cf6",
   "metadata": {},
   "outputs": [],
   "source": [
    "import numpy as np\n",
    "sum(np.sum(~benchmark1._test_ood_topo_dataset.data[\"line_status\"], axis=1) > 2)"
   ]
  },
  {
   "cell_type": "markdown",
   "id": "42419b07",
   "metadata": {},
   "source": [
    "It can be seen that for this benchmark, the considered input variables include injections to the power grid (`attr_x`) and also the topology related variables (`attr_tau`), which can be exploited differently by each augmented simulator. The outputs (`attr_y`) include only electricity currents (A).\n",
    "\n",
    "We observe also some environment related parameters (`env_name`and `env_params`).\n",
    "\n",
    "One can also indicate the evaluation criteria that should be calculated to evaluate the performance of a **trained** augmented simulator. \n",
    "\n",
    "For example, for this benchmark, we would like to evaluate some machine learning (`ML`) criteria such as _MSE_, _MAE_ and _MAPE90_ and some physics compliances (`Physics`) such as current positivity (_CURRENT_POS_), as we are in the configuration of a simple benchmark that we would like only predict the electrical currents. "
   ]
  },
  {
   "cell_type": "markdown",
   "id": "a605ab42",
   "metadata": {},
   "source": [
    "# 2. Augmentd Simulator using Pytorch <a class=\"anchor\" id=\"simulator-torch\"></a>"
   ]
  },
  {
   "cell_type": "markdown",
   "id": "bd588cd0",
   "metadata": {},
   "source": [
    "> ### step 2 <a class=\"anchor\" id=\"step2\"></a>\n",
    "\n",
    "We start by training an augmented simualtor on the _Benchmark1_ dataset. \n",
    "\n",
    "**NB.** for the moment to be able to use Torch base models, we encourage the users to install _pytorch_ using the instructions provided [here](https://pytorch.org/get-started/locally/)."
   ]
  },
  {
   "cell_type": "markdown",
   "id": "f34218a6",
   "metadata": {},
   "source": [
    "## Instantiate the torch model"
   ]
  },
  {
   "cell_type": "markdown",
   "id": "6bb1b54e",
   "metadata": {},
   "source": [
    "In order to be able to use a _torch_ based model, two following elements are required and a scaler is optional if not recommended (It is highly recommended to use a scaler for a better convergence):\n",
    "- `TorchSimulator`: This class is a sort of controller which takes as the argument a torch based model and allows to `train`, `evaluate`, `load`, `save`, and some other interesting stuffs (visualisation, etc.).\n",
    "\n",
    "- Model (sub-class of `torch.nn.Module`) : The torch core model which defines the model architecture and how the different elements interact with each other through the `forward` function which applies the forward pass of neural nets. Some model specific parameters could also be implemented in this class, such as data preparation, as it can be unique to each model, and some meta-data that should be saved or restored.\n",
    "\n",
    "__NB.__ In LIPS platform, an example of such Model is `TorchFullyConnected` which has been provided in _torch_models_ package under the augmented simulators. "
   ]
  },
  {
   "cell_type": "code",
   "execution_count": null,
   "id": "666ef142",
   "metadata": {},
   "outputs": [],
   "source": [
    "from lips.augmented_simulators.torch_models.fully_connected import TorchFullyConnected\n",
    "from lips.augmented_simulators.torch_simulator import TorchSimulator\n",
    "from lips.dataset.scaler import StandardScaler"
   ]
  },
  {
   "cell_type": "code",
   "execution_count": null,
   "id": "efe44007",
   "metadata": {},
   "outputs": [],
   "source": [
    "torch_sim = TorchSimulator(name=\"torch_fc\",\n",
    "                           model=TorchFullyConnected,\n",
    "                           scaler=StandardScaler,\n",
    "                           log_path=LOG_PATH,\n",
    "                           device=\"cuda:0\", # use \"cpu\" if you don't have a GPU available on your machine\n",
    "                           seed=42,\n",
    "                           bench_config_path=BENCH_CONFIG_PATH,\n",
    "                           bench_config_name=\"Benchmark1\",\n",
    "                           sim_config_path=SIM_CONFIG_PATH / \"torch_fc.ini\",\n",
    "                           sim_config_name=\"DEFAULT\" # use the default set of hyper parameters\n",
    "                          )"
   ]
  },
  {
   "cell_type": "markdown",
   "id": "e5dff92e",
   "metadata": {},
   "source": [
    "**It is magic, but how the \"hyper-parameters\" for this augmented simulator could be defined ?**\n",
    "\n",
    "> Good remark! In LIPS platform with each model, a configuration file is associated which maintain the exclusive set of its hyper-parameters. These configuration file is available at `augmented_simulators/configurations` directory. They could be seen (as you can see below), and one also could modify them on-the-fly by indicating some supplementary arguments (`**kwargs`) to the `TorchSimulator` class.\n",
    "\n",
    "The parameters used for training and evaluation of this augmented simulator."
   ]
  },
  {
   "cell_type": "code",
   "execution_count": null,
   "id": "565cc777",
   "metadata": {},
   "outputs": [],
   "source": [
    "pprint(torch_sim.params)"
   ]
  },
  {
   "cell_type": "markdown",
   "id": "5a521cca",
   "metadata": {},
   "source": [
    "## Train it \n",
    "We can easily train the augmneted simualtor using the `train` function of our controller (`TorchSimulator`) and by indicating the right set of arguments which are:\n",
    "\n",
    "- `train_dataset` (mendatory): a dataset, on instances of which the augmented simulator is trained\n",
    "\n",
    "- `val_dataset` (optional): a dataset, on instances of which the augmented simulator is validated (to study the convergence and overfitting)\n",
    "\n",
    "- `save_path` (optional): whether to save the model, but don't worry, you can save the model once it is trained using `save` function of the controller. \n",
    "\n",
    "- `kwargs` (optional): some supplementary arguments which allows to change the default configurations on-the-fly. For example; we have increased the epoch size here (`epochs=100`) "
   ]
  },
  {
   "cell_type": "code",
   "execution_count": null,
   "id": "188e8922",
   "metadata": {},
   "outputs": [],
   "source": [
    "torch_sim.train(benchmark1.train_dataset, benchmark1.val_dataset, save_path=None, epochs=100, train_batch_size=128)"
   ]
  },
  {
   "cell_type": "markdown",
   "id": "6b427190",
   "metadata": {},
   "source": [
    "#### Verify the model architecture\n",
    "We can also print the model structure using a `summary` function of the controller. It can be seen that there are four hidden layers between inputs and outputs of our fully connected neural network without any dropout as the `dropout` parameters are set to $0$."
   ]
  },
  {
   "cell_type": "code",
   "execution_count": null,
   "id": "dabb60ed",
   "metadata": {},
   "outputs": [],
   "source": [
    "torch_sim.summary()"
   ]
  },
  {
   "cell_type": "markdown",
   "id": "79880a44",
   "metadata": {},
   "source": [
    "The number of parameters can also be verified using `count_parameters` function of the controller `TorchSimulator`. It can be used to have an image of the complexity of the model. "
   ]
  },
  {
   "cell_type": "code",
   "execution_count": null,
   "id": "44d5c4e6",
   "metadata": {},
   "outputs": [],
   "source": [
    "print(\"Number of parameters of the model: \", torch_sim.count_parameters())"
   ]
  },
  {
   "cell_type": "markdown",
   "id": "78a7d319",
   "metadata": {},
   "source": [
    "#### Visualize the performance \n",
    "Futhermore, we can also visualize the convergence curves computed during training of the model using `visualize_convergence` function of the controller. \n",
    "\n",
    "- The first plot shows the loss function (here we have used mean squared error or `MSE`) used for the learning of the model, on the basis of which the back-propagation is performed. \n",
    "- The right hand side shows the metrics that are computed alongside the loss function for supplementary information concerning the model's behavior. Here, we have opted for mean absolute error (`MAE`). "
   ]
  },
  {
   "cell_type": "code",
   "execution_count": 13,
   "id": "18ab99a2",
   "metadata": {},
   "outputs": [
    {
     "data": {
      "image/png": "[encoded data removed]",
      "text/plain": [
       "<Figure size 1080x360 with 2 Axes>"
      ]
     },
     "metadata": {
      "needs_background": "light"
     },
     "output_type": "display_data"
    }
   ],
   "source": [
    "torch_sim.visualize_convergence()"
   ]
  },
  {
   "cell_type": "markdown",
   "id": "ecbb56d9",
   "metadata": {},
   "source": [
    "## Evaluate\n",
    "\n",
    "> ### step 3 <a class=\"anchor\" id=\"step3\"></a>\n",
    "\n",
    "Once the benchmark is instantiated and an augmented simulator is learned, the time is come to evaluate the performances with a set of criteria gathere from various cateogories which are:\n",
    "- Machine Learning point of view (ML)\n",
    "- Physics Compliances (Physics)\n",
    "- Industrial readiness (IndRed)\n",
    "- Out-Of-Distribution generalization (OOD)\n",
    "\n",
    "In order to compute these criteria on the results (predictions) of an augmented simulator, the benchmark module provides an `evaluate_simulator` function which takes following arguments:\n",
    "- `augmented_simulator`: a **trained** augmented simulator\n",
    "\n",
    "- `eval_batch_size`: the batch size used for evaluation. From industry point-of-view the whole dataset is not available and could be observed over time. For this reason it is more reasonable to evaluate the data by batches and measure the _inference time_ from industrial point of view.\n",
    "\n",
    "- `dataset`: the labels of datasets that should be considered for evaluation. It can be `all` if the evaluation should be performed on `val`, `test`, `test_ood_topo` datasets, corresponding to validation, test and out-of-distribution test datasets.\n",
    "\n",
    "- `shuffle`: should be set to `False` for the moment. The shuffling at the evaluation time does not change anything.  "
   ]
  },
  {
   "cell_type": "code",
   "execution_count": 14,
   "id": "d732eb28",
   "metadata": {},
   "outputs": [],
   "source": [
    "# TODO: log the losses\n",
    "EVAL_SAVE_PATH = get_path(EVALUATION_PATH, benchmark1)\n",
    "torch_sim_metrics = benchmark1.evaluate_simulator(augmented_simulator=torch_sim,\n",
    "                                                  eval_batch_size=128,\n",
    "                                                  dataset=\"all\",\n",
    "                                                  shuffle=False,\n",
    "                                                  save_path=EVAL_SAVE_PATH,\n",
    "                                                  save_predictions=True\n",
    "                                                 )"
   ]
  },
  {
   "cell_type": "markdown",
   "id": "24a49412",
   "metadata": {},
   "source": [
    "Once the evaluation has been finished, we can report the evaluation results. The evaluation results are stored in a dictionary and all the steps are logged in a log file located at `LOG_PATH`. \n",
    "\n",
    "Every dictionary, contains various level keys:\n",
    "\n",
    "- The _first level_ corresponds to the datasets labels (\"test\", \"val\", \"test_ood_topo\")\n",
    "\n",
    "- The _second level_ corresponds to metric categories (\"ML\", \"Physics\", \"IndRed\", \"OOD\")\n",
    "\n",
    "- The _third level_ may exist only for some criteria and corresponds to the variable name."
   ]
  },
  {
   "cell_type": "markdown",
   "id": "ed90fd0d",
   "metadata": {},
   "source": [
    "#### Machine Learning "
   ]
  },
  {
   "cell_type": "markdown",
   "id": "54c476ed",
   "metadata": {},
   "source": [
    "Here we have reported the Machine Learning (`ML`) metrics for `test` dataset. As it can be seen all the criteria opted in benchmark configuration file are computed for prediction results which are: \n",
    "\n",
    "- Average Mean Squared Error (`MSE_avg`)\n",
    "\n",
    "- Averaged Mean Absolute Error (`MAE_avg`)\n",
    "\n",
    "- Averaged Mean Absolute Percentage Error computed on 10% of highest current values (`mape_90_avg`)"
   ]
  },
  {
   "cell_type": "code",
   "execution_count": 15,
   "id": "e58291d8",
   "metadata": {},
   "outputs": [
    {
     "data": {
      "text/plain": [
       "{'MSE_avg': {'a_or': 35.50519943237305, 'a_ex': 71.5938491821289},\n",
       " 'MAE_avg': {'a_or': 3.258171796798706, 'a_ex': 4.677194118499756},\n",
       " 'mape_90_avg': {'a_or': 0.007850658210688444, 'a_ex': 0.00789267250148531}}"
      ]
     },
     "execution_count": 15,
     "metadata": {},
     "output_type": "execute_result"
    }
   ],
   "source": [
    "torch_sim_metrics[\"test\"][\"ML\"]"
   ]
  },
  {
   "cell_type": "markdown",
   "id": "4998e21e",
   "metadata": {},
   "source": [
    "The same set of criteria are also computed on a *out-of-distribution* dataset `test_ood_topo` where the data distribution is not the same during the training and the evaluation phases. There could be more than one disconnected lines observed during the evaluation phase, whereas there is maximum one disconnected line that can be observed during the training."
   ]
  },
  {
   "cell_type": "code",
   "execution_count": 16,
   "id": "0a8404d6",
   "metadata": {},
   "outputs": [
    {
     "data": {
      "text/plain": [
       "{'MSE_avg': {'a_or': 14354.150390625, 'a_ex': 26984.93359375},\n",
       " 'MAE_avg': {'a_or': 54.52409744262695, 'a_ex': 76.21675872802734},\n",
       " 'mape_90_avg': {'a_or': 0.20007321642831366, 'a_ex': 0.2000615688793023}}"
      ]
     },
     "execution_count": 16,
     "metadata": {},
     "output_type": "execute_result"
    }
   ],
   "source": [
    "torch_sim_metrics[\"test_ood_topo\"][\"ML\"]"
   ]
  },
  {
   "cell_type": "markdown",
   "id": "9201b9d7",
   "metadata": {},
   "source": [
    "#### Physics\n",
    "Here we have reported the Physics Compliances (`Physics`) metrics for `test` dataset. As it can be seen, only the current positivity is computed for this simple first benchmark as it predicts only the electrical currents (currents at the origin `a_or` and at the extremity side `a_ex` of power lines). \n",
    "\n",
    "**NB.** It should be noted that more complicated physical laws are relied on more flow variables (active and reactive powers, voltage, voltage angles)."
   ]
  },
  {
   "cell_type": "code",
   "execution_count": 17,
   "id": "60096f1e",
   "metadata": {},
   "outputs": [
    {
     "data": {
      "text/plain": [
       "0.0264"
      ]
     },
     "execution_count": 17,
     "metadata": {},
     "output_type": "execute_result"
    }
   ],
   "source": [
    "torch_sim_metrics[\"test\"][\"Physics\"][\"CURRENT_POS\"][\"a_or\"][\"Violation_proportion\"]"
   ]
  },
  {
   "cell_type": "code",
   "execution_count": 18,
   "id": "954da644",
   "metadata": {},
   "outputs": [
    {
     "data": {
      "text/plain": [
       "0.006205"
      ]
     },
     "execution_count": 18,
     "metadata": {},
     "output_type": "execute_result"
    }
   ],
   "source": [
    "torch_sim_metrics[\"test_ood_topo\"][\"Physics\"][\"CURRENT_POS\"][\"a_or\"][\"Violation_proportion\"]"
   ]
  },
  {
   "cell_type": "markdown",
   "id": "79e6ad18",
   "metadata": {},
   "source": [
    "It can be observed that the fully connected architecture violates the current positivity with a rate of $2\\%$."
   ]
  },
  {
   "cell_type": "markdown",
   "id": "5b34ac09",
   "metadata": {},
   "source": [
    "#### Industrial Readiness"
   ]
  },
  {
   "cell_type": "markdown",
   "id": "77db534b",
   "metadata": {},
   "source": [
    "Herein, we can also analyze the time required for the inference phase of the augmented simulator as the objective is to reduce the physical solvers time complexity using an augmented simualtor by maintaining a good prediction precision in terms of various evaluation criteria."
   ]
  },
  {
   "cell_type": "code",
   "execution_count": 19,
   "id": "ea5d00f8",
   "metadata": {},
   "outputs": [
    {
     "data": {
      "text/plain": [
       "0.025463342666625977"
      ]
     },
     "execution_count": 19,
     "metadata": {},
     "output_type": "execute_result"
    }
   ],
   "source": [
    "torch_sim_metrics[\"test\"][\"IndRed\"]"
   ]
  },
  {
   "cell_type": "markdown",
   "id": "ebe97868",
   "metadata": {},
   "source": [
    "### Save\n",
    "In order to gain time in future, the trained models could be saved and loaded easily using the `save` and `load` functions offered by the `TorchSimulator`, which save a set of elements required for the model to work independently. More precisely, when you call save, the following informations are saved:\n",
    "\n",
    "- The learned model weights\n",
    "\n",
    "- The model configurations (hyper parameters)\n",
    "\n",
    "- The model meta data infered after training (input and output shapes)\n",
    "\n",
    "- The losses computed during the training of the augmented simulator\n",
    "\n",
    "- The scaler parameters (means and standard deviations if `StandardScaler` is used)"
   ]
  },
  {
   "cell_type": "code",
   "execution_count": 20,
   "id": "c1483ca1",
   "metadata": {},
   "outputs": [],
   "source": [
    "SAVE_PATH = get_path(TRAINED_MODEL_PATH, benchmark1)\n",
    "torch_sim.save(SAVE_PATH)"
   ]
  },
  {
   "cell_type": "markdown",
   "id": "4116cba1",
   "metadata": {},
   "source": [
    "### Load\n",
    "Load it from stored information concerning the model and its hyper-parameters.\n",
    "\n",
    "To be able to load the dataset the `TorchSimulator` should be instantiated. "
   ]
  },
  {
   "cell_type": "code",
   "execution_count": 21,
   "id": "0e2c6f88",
   "metadata": {},
   "outputs": [],
   "source": [
    "from lips.augmented_simulators.torch_models.fully_connected import TorchFullyConnected\n",
    "from lips.augmented_simulators.torch_simulator import TorchSimulator\n",
    "from lips.dataset.scaler import StandardScaler\n",
    "\n",
    "torch_sim = TorchSimulator(name=\"torch_fc\",\n",
    "                           model=TorchFullyConnected,\n",
    "                           scaler=StandardScaler,\n",
    "                           log_path=LOG_PATH,\n",
    "                           seed=42,\n",
    "                           bench_config_path=BENCH_CONFIG_PATH,\n",
    "                           bench_config_name=\"Benchmark1\",\n",
    "                           sim_config_path=SIM_CONFIG_PATH / \"torch_fc.ini\",\n",
    "                           sim_config_name=\"DEFAULT\" # use the default set of hyper parameters\n",
    "                          )"
   ]
  },
  {
   "cell_type": "markdown",
   "id": "96dbd62d",
   "metadata": {},
   "source": [
    "Now we can restore the model by calling only the restore which will call some internal functions to load all the metadata and model related informations as weights."
   ]
  },
  {
   "cell_type": "code",
   "execution_count": 22,
   "id": "accc24ba",
   "metadata": {},
   "outputs": [],
   "source": [
    "LOAD_PATH = get_path(BASELINES_PATH, benchmark1)\n",
    "torch_sim.restore(path=LOAD_PATH)"
   ]
  },
  {
   "cell_type": "markdown",
   "id": "1d94d545",
   "metadata": {},
   "source": [
    "# 3. Augmented Simulator using Tensorflow <a class=\"anchor\" id=\"tf-simulator\"></a>\n",
    "\n",
    "Here we present the tensorflow based augmented simulators for learning a physical domain. Two different architectures are included for the moment in LIPS framework, which are : \n",
    "- Fully Connected Neural Network\n",
    "- LeapNet Neural network\n",
    "\n",
    "The tensorflow side implementations are a little bit different from torch based implementations. In order to generalize on more architectures, we allow that each model (architecture) be a subclass of `TensorflowSimulator` base class. The main functions to `train`, `evaluate`, `load`, `save` models are implemented in base class and could be used directly by sub-classes without any overloading. Some specific tasks as data preparation and post processing of predictions could be done using the child classes."
   ]
  },
  {
   "cell_type": "markdown",
   "id": "95df69be",
   "metadata": {},
   "source": [
    "## 3.1 Fully Connected Neural Network <a class=\"anchor\" id=\"tf-fc\"></a>"
   ]
  },
  {
   "cell_type": "code",
   "execution_count": 7,
   "id": "c0545b9b",
   "metadata": {},
   "outputs": [],
   "source": [
    "from lips.augmented_simulators.tensorflow_models import TfFullyConnected\n",
    "from lips.dataset.scaler import StandardScaler"
   ]
  },
  {
   "cell_type": "code",
   "execution_count": 8,
   "id": "6c3cfc62",
   "metadata": {},
   "outputs": [],
   "source": [
    "tf_fc = TfFullyConnected(name=\"tf_fc\",\n",
    "                         bench_config_path=BENCH_CONFIG_PATH,\n",
    "                         bench_config_name=\"Benchmark1\",\n",
    "                         sim_config_path=SIM_CONFIG_PATH / \"tf_fc.ini\",\n",
    "                         sim_config_name=\"DEFAULT\",\n",
    "                         scaler=StandardScaler,\n",
    "                         log_path=LOG_PATH)"
   ]
  },
  {
   "cell_type": "markdown",
   "id": "116f7fdb",
   "metadata": {},
   "source": [
    "### Train it"
   ]
  },
  {
   "cell_type": "code",
   "execution_count": null,
   "id": "f771e9cc",
   "metadata": {},
   "outputs": [],
   "source": [
    "tf_fc.train(train_dataset=benchmark1.train_dataset,\n",
    "            val_dataset=benchmark1.val_dataset,\n",
    "            epochs=100\n",
    "           )"
   ]
  },
  {
   "cell_type": "code",
   "execution_count": 26,
   "id": "e6748625",
   "metadata": {},
   "outputs": [
    {
     "name": "stdout",
     "output_type": "stream",
     "text": [
      "Number of parameters : 316540\n"
     ]
    }
   ],
   "source": [
    "print(\"Number of parameters :\", tf_fc.count_parameters())"
   ]
  },
  {
   "cell_type": "code",
   "execution_count": null,
   "id": "e940b9a3",
   "metadata": {},
   "outputs": [],
   "source": [
    "tf_fc.summary()"
   ]
  },
  {
   "cell_type": "markdown",
   "id": "644b5fab",
   "metadata": {},
   "source": [
    "Save a visulaization of the architecture on disk"
   ]
  },
  {
   "cell_type": "code",
   "execution_count": 28,
   "id": "80e720ce",
   "metadata": {},
   "outputs": [],
   "source": [
    "tf_fc.plot_model(path=\".\")"
   ]
  },
  {
   "cell_type": "code",
   "execution_count": 28,
   "id": "998793f1",
   "metadata": {},
   "outputs": [
    {
     "data": {
      "image/png": "[encoded data removed]",
      "text/plain": [
       "<Figure size 1080x360 with 2 Axes>"
      ]
     },
     "metadata": {
      "needs_background": "light"
     },
     "output_type": "display_data"
    }
   ],
   "source": [
    "tf_fc.visualize_convergence()"
   ]
  },
  {
   "cell_type": "markdown",
   "id": "4881457a",
   "metadata": {},
   "source": [
    "### Evaluation "
   ]
  },
  {
   "cell_type": "code",
   "execution_count": null,
   "id": "909c51e0",
   "metadata": {},
   "outputs": [],
   "source": [
    "# TODO: log the losses\n",
    "EVAL_SAVE_PATH = get_path(EVALUATION_PATH, benchmark1)\n",
    "tf_fc_metrics = benchmark1.evaluate_simulator(augmented_simulator=tf_fc,\n",
    "                                              eval_batch_size=128,\n",
    "                                              dataset=\"all\",\n",
    "                                              shuffle=False,\n",
    "                                              save_path=None,\n",
    "                                              save_predictions=False\n",
    "                                             )"
   ]
  },
  {
   "cell_type": "markdown",
   "id": "7f36be04",
   "metadata": {},
   "source": [
    "#### Machine Learning"
   ]
  },
  {
   "cell_type": "code",
   "execution_count": 14,
   "id": "8927dcb2",
   "metadata": {},
   "outputs": [
    {
     "data": {
      "text/plain": [
       "{'MSE_avg': {'a_or': 6088.7275390625, 'a_ex': 9135.8837890625},\n",
       " 'MAE_avg': {'a_or': 39.1829948425293, 'a_ex': 49.65754318237305},\n",
       " 'mape_90_avg': {'a_or': 0.23396059815323822, 'a_ex': 0.23282670314869347},\n",
       " 'time_inf': 0.04343378799967468}"
      ]
     },
     "execution_count": 14,
     "metadata": {},
     "output_type": "execute_result"
    }
   ],
   "source": [
    "tf_fc_metrics[\"test\"][\"ML\"]"
   ]
  },
  {
   "cell_type": "code",
   "execution_count": 15,
   "id": "4e9fc2e9",
   "metadata": {},
   "outputs": [
    {
     "data": {
      "text/plain": [
       "{'MSE_avg': {'a_or': 16817.22265625, 'a_ex': 28401.26953125},\n",
       " 'MAE_avg': {'a_or': 70.55635833740234, 'a_ex': 94.66122436523438},\n",
       " 'mape_90_avg': {'a_or': 0.3189259937465173, 'a_ex': 0.3177469909648034},\n",
       " 'time_inf': 0.04663692996837199}"
      ]
     },
     "execution_count": 15,
     "metadata": {},
     "output_type": "execute_result"
    }
   ],
   "source": [
    "tf_fc_metrics[\"test_ood_topo\"][\"ML\"]"
   ]
  },
  {
   "cell_type": "markdown",
   "id": "c20833ec",
   "metadata": {},
   "source": [
    "#### Physics"
   ]
  },
  {
   "cell_type": "code",
   "execution_count": 32,
   "id": "79cf6f45",
   "metadata": {},
   "outputs": [
    {
     "data": {
      "text/plain": [
       "0.02229"
      ]
     },
     "execution_count": 32,
     "metadata": {},
     "output_type": "execute_result"
    }
   ],
   "source": [
    "tf_fc_metrics[\"test\"][\"Physics\"][\"CURRENT_POS\"][\"a_or\"][\"Violation_proportion\"]"
   ]
  },
  {
   "cell_type": "code",
   "execution_count": 33,
   "id": "e725192e",
   "metadata": {},
   "outputs": [
    {
     "data": {
      "text/plain": [
       "0.016655"
      ]
     },
     "execution_count": 33,
     "metadata": {},
     "output_type": "execute_result"
    }
   ],
   "source": [
    "tf_fc_metrics[\"test_ood_topo\"][\"Physics\"][\"CURRENT_POS\"][\"a_or\"][\"Violation_proportion\"]"
   ]
  },
  {
   "cell_type": "markdown",
   "id": "40bb9364",
   "metadata": {},
   "source": [
    "#### Industrial Readiness"
   ]
  },
  {
   "cell_type": "code",
   "execution_count": 17,
   "id": "27c25f8a",
   "metadata": {},
   "outputs": [
    {
     "data": {
      "text/plain": [
       "0.19808405404910445"
      ]
     },
     "execution_count": 17,
     "metadata": {},
     "output_type": "execute_result"
    }
   ],
   "source": [
    "tf_fc_metrics[\"test\"][\"IndRed\"][\"time_inf\"]"
   ]
  },
  {
   "cell_type": "markdown",
   "id": "3fcd0bc0",
   "metadata": {},
   "source": [
    "### Save"
   ]
  },
  {
   "cell_type": "code",
   "execution_count": 35,
   "id": "7003f595",
   "metadata": {},
   "outputs": [],
   "source": [
    "SAVE_PATH = get_path(TRAINED_MODEL_PATH, benchmark1)\n",
    "tf_fc.save(SAVE_PATH)"
   ]
  },
  {
   "cell_type": "markdown",
   "id": "4bc20b55",
   "metadata": {},
   "source": [
    "### Load "
   ]
  },
  {
   "cell_type": "markdown",
   "id": "b4317062",
   "metadata": {},
   "source": [
    "Load it"
   ]
  },
  {
   "cell_type": "code",
   "execution_count": 9,
   "id": "530b58fa",
   "metadata": {},
   "outputs": [],
   "source": [
    "from lips.augmented_simulators.tensorflow_models import TfFullyConnected\n",
    "from lips.dataset.scaler import StandardScaler\n",
    "\n",
    "tf_fc = TfFullyConnected(name=\"tf_fc\",\n",
    "                         bench_config_path=BENCH_CONFIG_PATH,\n",
    "                         bench_config_name=\"Benchmark1\",\n",
    "                         sim_config_path=SIM_CONFIG_PATH / \"tf_fc.ini\",\n",
    "                         sim_config_name=\"DEFAULT\",\n",
    "                         scaler=StandardScaler,\n",
    "                         log_path=LOG_PATH)"
   ]
  },
  {
   "cell_type": "code",
   "execution_count": null,
   "id": "311ce23a",
   "metadata": {},
   "outputs": [],
   "source": [
    "LOAD_PATH = get_path(BASELINES_PATH, benchmark1)\n",
    "tf_fc.restore(LOAD_PATH)"
   ]
  },
  {
   "cell_type": "markdown",
   "id": "f9ea54d2",
   "metadata": {},
   "source": [
    "## 3.2 LeapNet Neural Network <a class=\"anchor\" id=\"tf-leapnet\"></a>\n",
    "Instantiating the LeapNet neural network and changing its default parameters on-the-fly. A configuration file (`tf_leapnet.ini`) is associated with this model and is avaiable under augmented_simulator module. This model has its own github page and is available [here](https://github.com/BDonnot/leap_net)."
   ]
  },
  {
   "cell_type": "code",
   "execution_count": 3,
   "id": "b06d7d91",
   "metadata": {},
   "outputs": [],
   "source": [
    "from lips.augmented_simulators.tensorflow_models import LeapNet\n",
    "from lips.dataset.scaler.powergrid_scaler import PowerGridScaler"
   ]
  },
  {
   "cell_type": "code",
   "execution_count": 7,
   "id": "e8dba3dd",
   "metadata": {},
   "outputs": [],
   "source": [
    "leap_net = LeapNet(name=\"tf_leapnet\",\n",
    "                   bench_config_path=BENCH_CONFIG_PATH,\n",
    "                   bench_config_name=\"Benchmark1\",\n",
    "                   sim_config_path=SIM_CONFIG_PATH / \"tf_leapnet.ini\",\n",
    "                   sim_config_name=\"DEFAULT\",\n",
    "                   sizes_main=(150, 150),\n",
    "                   sizes_enc=(20, 20, 20),\n",
    "                   sizes_out=(100, 40),\n",
    "                   scaler=PowerGridScaler,\n",
    "                   log_path=LOG_PATH)"
   ]
  },
  {
   "cell_type": "markdown",
   "id": "1f2ec7da",
   "metadata": {},
   "source": [
    "### Train it"
   ]
  },
  {
   "cell_type": "code",
   "execution_count": null,
   "id": "68553a36",
   "metadata": {},
   "outputs": [],
   "source": [
    "leap_net.train(train_dataset=benchmark1.train_dataset,\n",
    "               val_dataset=benchmark1.val_dataset,\n",
    "               epochs=200\n",
    "              )"
   ]
  },
  {
   "cell_type": "markdown",
   "id": "a6ddfa96",
   "metadata": {},
   "source": [
    "Once you have trained the model, you can see some properties as the architecture and its number of parameters."
   ]
  },
  {
   "cell_type": "code",
   "execution_count": null,
   "id": "1713a953",
   "metadata": {},
   "outputs": [],
   "source": [
    "leap_net.summary()"
   ]
  },
  {
   "cell_type": "code",
   "execution_count": 12,
   "id": "8b65d7a1",
   "metadata": {},
   "outputs": [
    {
     "data": {
      "text/plain": [
       "102017"
      ]
     },
     "execution_count": 12,
     "metadata": {},
     "output_type": "execute_result"
    }
   ],
   "source": [
    "leap_net.count_parameters()"
   ]
  },
  {
   "cell_type": "markdown",
   "id": "2e4b438a",
   "metadata": {},
   "source": [
    "Visualize and analyze the convergence"
   ]
  },
  {
   "cell_type": "code",
   "execution_count": 13,
   "id": "eaf8bb90",
   "metadata": {},
   "outputs": [
    {
     "data": {
      "image/png": "[encoded data removed]",
      "text/plain": [
       "<Figure size 1080x360 with 2 Axes>"
      ]
     },
     "metadata": {
      "needs_background": "light"
     },
     "output_type": "display_data"
    }
   ],
   "source": [
    "leap_net.visualize_convergence()"
   ]
  },
  {
   "cell_type": "markdown",
   "id": "34a3f47f",
   "metadata": {},
   "source": [
    "### Evaluation "
   ]
  },
  {
   "cell_type": "code",
   "execution_count": 14,
   "id": "20e0c493",
   "metadata": {},
   "outputs": [],
   "source": [
    "# TODO: log the losses\n",
    "EVAL_SAVE_PATH = get_path(EVALUATION_PATH, benchmark1)\n",
    "tf_leapnet_metrics = benchmark1.evaluate_simulator(augmented_simulator=leap_net,\n",
    "                                                   eval_batch_size=128,\n",
    "                                                   dataset=\"all\",\n",
    "                                                   shuffle=False,\n",
    "                                                   save_path=EVAL_SAVE_PATH,\n",
    "                                                   save_predictions=True\n",
    "                                                  )"
   ]
  },
  {
   "cell_type": "markdown",
   "id": "3734f0da",
   "metadata": {},
   "source": [
    "#### Machine Learning"
   ]
  },
  {
   "cell_type": "markdown",
   "id": "4a6fcec5",
   "metadata": {},
   "source": [
    "<span style=\"color: green\">**It can be observed that the LeapNet model have a much better generalization capacity than the fully connected architecture.**</span>"
   ]
  },
  {
   "cell_type": "code",
   "execution_count": 16,
   "id": "12b46acc",
   "metadata": {},
   "outputs": [
    {
     "data": {
      "text/plain": [
       "{'MSE_avg': {'a_or': 29.085651397705078, 'a_ex': 38.26094436645508},\n",
       " 'MAE_avg': {'a_or': 3.1388704776763916, 'a_ex': 3.5962882041931152},\n",
       " 'mape_avg': {'a_or': 0.020129426659524365, 'a_ex': 0.01763156745741016},\n",
       " 'mape_90_avg': {'a_or': 0.008468155919543854, 'a_ex': 0.00707471637739022},\n",
       " 'TIME_INF': 0.1429758999729529}"
      ]
     },
     "execution_count": 16,
     "metadata": {},
     "output_type": "execute_result"
    }
   ],
   "source": [
    "tf_leapnet_metrics[\"test\"][\"ML\"]"
   ]
  },
  {
   "cell_type": "code",
   "execution_count": 17,
   "id": "8d44c054",
   "metadata": {},
   "outputs": [
    {
     "data": {
      "text/plain": [
       "{'MSE_avg': {'a_or': 7098.3916015625, 'a_ex': 11479.880859375},\n",
       " 'MAE_avg': {'a_or': 34.719993591308594, 'a_ex': 45.26488494873047},\n",
       " 'mape_avg': {'a_or': 0.17385205858280545, 'a_ex': 0.1536015447523115},\n",
       " 'mape_90_avg': {'a_or': 0.1467663677127829, 'a_ex': 0.15487983367700717},\n",
       " 'TIME_INF': 0.17330339999170974}"
      ]
     },
     "execution_count": 17,
     "metadata": {},
     "output_type": "execute_result"
    }
   ],
   "source": [
    "tf_leapnet_metrics[\"test_ood_topo\"][\"ML\"]"
   ]
  },
  {
   "cell_type": "markdown",
   "id": "7b8e69e4",
   "metadata": {},
   "source": [
    "#### Physics"
   ]
  },
  {
   "cell_type": "markdown",
   "id": "c4558cbc",
   "metadata": {},
   "source": [
    "<span style=\"color: green\">**The rate of physics law violation by the LeapNet model is also much lower than the Fully connected model.**</span>"
   ]
  },
  {
   "cell_type": "code",
   "execution_count": 18,
   "id": "4d7a6193",
   "metadata": {},
   "outputs": [
    {
     "data": {
      "text/plain": [
       "0.00094"
      ]
     },
     "execution_count": 18,
     "metadata": {},
     "output_type": "execute_result"
    }
   ],
   "source": [
    "tf_leapnet_metrics[\"test\"][\"Physics\"][\"CURRENT_POS\"][\"a_or\"][\"Violation_proportion\"]"
   ]
  },
  {
   "cell_type": "code",
   "execution_count": 19,
   "id": "5783da6c",
   "metadata": {},
   "outputs": [
    {
     "data": {
      "text/plain": [
       "0.004135"
      ]
     },
     "execution_count": 19,
     "metadata": {},
     "output_type": "execute_result"
    }
   ],
   "source": [
    "tf_leapnet_metrics[\"test_ood_topo\"][\"Physics\"][\"CURRENT_POS\"][\"a_or\"][\"Violation_proportion\"]"
   ]
  },
  {
   "cell_type": "markdown",
   "id": "d21a0d34",
   "metadata": {},
   "source": [
    "#### Industrial Readiness"
   ]
  },
  {
   "cell_type": "markdown",
   "id": "00ab86e1",
   "metadata": {},
   "source": [
    "<span style=\"color: purple\">**However, this improvement comes with some costs.**</span>\n",
    "\n",
    "It can be observed that the inference time for LeapNet model ($0.20$ seconds) is higher than a simpler architecture as Fully Connected approach ($0.10$ seconds) using a Nvidia Tesla M40 24GB. However, these results should be considered with some cautions, as the number of trainable parameters is not also the same for these two models."
   ]
  },
  {
   "cell_type": "code",
   "execution_count": 20,
   "id": "ab729a63",
   "metadata": {},
   "outputs": [
    {
     "data": {
      "text/plain": [
       "{'TIME_INF': 0.15973710000980645}"
      ]
     },
     "execution_count": 20,
     "metadata": {},
     "output_type": "execute_result"
    }
   ],
   "source": [
    "tf_leapnet_metrics[\"test\"][\"IndRed\"]"
   ]
  },
  {
   "cell_type": "markdown",
   "id": "ef419327",
   "metadata": {},
   "source": [
    "### Save"
   ]
  },
  {
   "cell_type": "code",
   "execution_count": 44,
   "id": "7c60092e",
   "metadata": {},
   "outputs": [],
   "source": [
    "SAVE_PATH = get_path(TRAINED_MODEL_PATH, benchmark1)\n",
    "leap_net.save(SAVE_PATH)"
   ]
  },
  {
   "cell_type": "markdown",
   "id": "2f1a1b9d",
   "metadata": {},
   "source": [
    "### Restore "
   ]
  },
  {
   "cell_type": "code",
   "execution_count": 46,
   "id": "e35d6c2a",
   "metadata": {},
   "outputs": [],
   "source": [
    "from lips.augmented_simulators.tensorflow_models import LeapNet\n",
    "from lips.dataset.scaler.powergrid_scaler import PowerGridScaler\n",
    "\n",
    "leap_net_loaded = LeapNet(name=\"tf_leapnet\",\n",
    "                          bench_config_path=BENCH_CONFIG_PATH,\n",
    "                          bench_config_name=\"Benchmark1\",\n",
    "                          sim_config_path=SIM_CONFIG_PATH / \"tf_leapnet.ini\",\n",
    "                          sim_config_name=\"DEFAULT\",\n",
    "                          scaler=PowerGridScaler,\n",
    "                          log_path=LOG_PATH)"
   ]
  },
  {
   "cell_type": "code",
   "execution_count": 47,
   "id": "e7ee0c82",
   "metadata": {},
   "outputs": [],
   "source": [
    "LOAD_PATH = get_path(BASELINES_PATH, benchmark1)\n",
    "leap_net_loaded.restore(path=LOAD_PATH)"
   ]
  },
  {
   "cell_type": "markdown",
   "id": "f5118325",
   "metadata": {},
   "source": [
    "# Benchmark2:  Remedial action search <a id=\"benchmark2\"></a>\n",
    "\n",
    "Once risky contingencies are identified, we need to explore possible solutions (aka \"remedial actions\") to recommend suitable solutions to the grid operator. In this benchmark, a solution consists in predefined topological change on the grid. It is successful if the simulation run on this modified grid alleviates the previous overflow without generating any new problem. In this case, the computation space in practice is significantly smaller compared to benchmark 1 (only small subsets of remedial actions to test over in most cases, compared to every contingency simulations). We here target  10-100 simulation batches whatever the grid size. This only depends on the number of preselected action candidates by the operator for a given risk. This benchmark includes the prediction of a few more physical variables: active power flows $p^\\ell$ (in MW), current $a^\\ell$ (in A) voltages $v_{k}$ (in V) at both sides of each powerline. Although this is not sufficient to fully describe the grid from a physical point of view, it is enough to give the operator some confident insights about the underlying physical behavior. For instance, is an overload somehow rather local and related to neighboring voltage drop phenomena or possibly long-distance considering power flow transmission from large power plants?\n"
   ]
  },
  {
   "cell_type": "code",
   "execution_count": 4,
   "id": "9f3ca29d",
   "metadata": {},
   "outputs": [],
   "source": [
    "benchmark2 = PowerGridBenchmark(benchmark_name=\"Benchmark2\",\n",
    "                                benchmark_path=DATA_PATH,\n",
    "                                load_data_set=True,\n",
    "                                log_path=LOG_PATH,\n",
    "                                config_path=BENCH_CONFIG_PATH\n",
    "                               )"
   ]
  },
  {
   "cell_type": "markdown",
   "id": "2afce02c",
   "metadata": {},
   "source": [
    "## Fully Connected Network"
   ]
  },
  {
   "cell_type": "code",
   "execution_count": 11,
   "id": "9699c508",
   "metadata": {},
   "outputs": [],
   "source": [
    "from lips.augmented_simulators.tensorflow_models import TfFullyConnected\n",
    "from lips.dataset.scaler import StandardScaler"
   ]
  },
  {
   "cell_type": "code",
   "execution_count": 12,
   "id": "997a198a",
   "metadata": {},
   "outputs": [],
   "source": [
    "tf_fc = TfFullyConnected(name=\"tf_fc\",\n",
    "                         bench_config_path=BENCH_CONFIG_PATH,\n",
    "                         bench_config_name=\"Benchmark2\",\n",
    "                         sim_config_path=SIM_CONFIG_PATH / \"tf_fc.ini\",\n",
    "                         sim_config_name=\"DEFAULT\",\n",
    "                         scaler=StandardScaler,\n",
    "                         log_path=LOG_PATH)"
   ]
  },
  {
   "cell_type": "markdown",
   "id": "363a6bc9",
   "metadata": {},
   "source": [
    "### Load it from a save point "
   ]
  },
  {
   "cell_type": "code",
   "execution_count": 13,
   "id": "c285d42f",
   "metadata": {},
   "outputs": [],
   "source": [
    "LOAD_PATH = get_path(BASELINES_PATH, benchmark2)\n",
    "tf_fc.restore(path=LOAD_PATH)"
   ]
  },
  {
   "cell_type": "markdown",
   "id": "6c720355",
   "metadata": {},
   "source": [
    "### Train the model"
   ]
  },
  {
   "cell_type": "code",
   "execution_count": null,
   "id": "aa8bc437",
   "metadata": {},
   "outputs": [],
   "source": [
    "tf_fc.train(train_dataset=benchmark2.train_dataset,\n",
    "            val_dataset=benchmark2.val_dataset,\n",
    "            epochs=100\n",
    "           )"
   ]
  },
  {
   "cell_type": "markdown",
   "id": "a1ebc2a1",
   "metadata": {},
   "source": [
    "#### Convergence"
   ]
  },
  {
   "cell_type": "code",
   "execution_count": 14,
   "id": "b7e0f4d5",
   "metadata": {},
   "outputs": [
    {
     "data": {
      "image/png": "[encoded data removed]",
      "text/plain": [
       "<Figure size 1080x360 with 2 Axes>"
      ]
     },
     "metadata": {
      "needs_background": "light"
     },
     "output_type": "display_data"
    }
   ],
   "source": [
    "tf_fc.visualize_convergence()"
   ]
  },
  {
   "cell_type": "markdown",
   "id": "2598587b",
   "metadata": {},
   "source": [
    "### Evaluation "
   ]
  },
  {
   "cell_type": "code",
   "execution_count": null,
   "id": "e9ab7e85",
   "metadata": {},
   "outputs": [],
   "source": [
    "# TODO: log the losses\n",
    "EVAL_SAVE_PATH = get_path(EVALUATION_PATH, benchmark2)\n",
    "tf_fc_metrics = benchmark2.evaluate_simulator(augmented_simulator=tf_fc,\n",
    "                                              eval_batch_size=128,\n",
    "                                              dataset=\"all\",\n",
    "                                              shuffle=False,\n",
    "                                              save_path=None,\n",
    "                                              save_predictions=False\n",
    "                                             )"
   ]
  },
  {
   "cell_type": "markdown",
   "id": "68b08708",
   "metadata": {},
   "source": [
    "#### Machine Learning"
   ]
  },
  {
   "cell_type": "code",
   "execution_count": 16,
   "id": "f62d46e7",
   "metadata": {},
   "outputs": [
    {
     "name": "stdout",
     "output_type": "stream",
     "text": [
      "MAPE90 for a_or:  0.005536789221894804\n",
      "MAPE90 for a_ex:  0.005456813765815972\n",
      "MAPE for p_or:  0.00862245821668557\n",
      "MAPE for p_ex:  0.008477684866954915\n",
      "MAE for p_or:  0.09964931011199951\n",
      "MAE for p_ex:  0.09761589020490646\n",
      "MAPE for v_or:  0.0008934855225970473\n",
      "MAPE for v_ex:  0.000903380139934273\n",
      "MAE for v_or:  0.08649303764104843\n",
      "MAE for v_ex:  0.06617464125156403\n"
     ]
    }
   ],
   "source": [
    "print(\"MAPE90 for a_or: \", tf_fc_metrics[\"test\"][\"ML\"][\"mape_90_avg\"][\"a_or\"])\n",
    "print(\"MAPE90 for a_ex: \", tf_fc_metrics[\"test\"][\"ML\"][\"mape_90_avg\"][\"a_ex\"])\n",
    "print(\"MAPE for p_or: \", tf_fc_metrics[\"test\"][\"ML\"][\"mape_avg\"][\"p_or\"])\n",
    "print(\"MAPE for p_ex: \", tf_fc_metrics[\"test\"][\"ML\"][\"mape_avg\"][\"p_ex\"])\n",
    "print(\"MAE for p_or: \", tf_fc_metrics[\"test\"][\"ML\"][\"MAE_avg\"][\"p_or\"])\n",
    "print(\"MAE for p_ex: \", tf_fc_metrics[\"test\"][\"ML\"][\"MAE_avg\"][\"p_ex\"])\n",
    "print(\"MAPE for v_or: \", tf_fc_metrics[\"test\"][\"ML\"][\"mape_avg\"][\"v_or\"])\n",
    "print(\"MAPE for v_ex: \", tf_fc_metrics[\"test\"][\"ML\"][\"mape_avg\"][\"v_ex\"])\n",
    "print(\"MAE for v_or: \", tf_fc_metrics[\"test\"][\"ML\"][\"MAE_avg\"][\"v_or\"])\n",
    "print(\"MAE for v_ex: \", tf_fc_metrics[\"test\"][\"ML\"][\"MAE_avg\"][\"v_ex\"])"
   ]
  },
  {
   "cell_type": "code",
   "execution_count": 17,
   "id": "c651000d",
   "metadata": {},
   "outputs": [
    {
     "name": "stdout",
     "output_type": "stream",
     "text": [
      "MAPE90 for a_or:  0.10189347920204068\n",
      "MAPE90 for a_ex:  0.10297622870481608\n",
      "MAPE for p_or:  0.14747703100434326\n",
      "MAPE for p_ex:  0.1472255111784983\n",
      "MAE for p_or:  1.7987455129623413\n",
      "MAE for p_ex:  1.7728214263916016\n",
      "MAPE for v_or:  0.004895506836363069\n",
      "MAPE for v_ex:  0.004960453678566542\n",
      "MAE for v_or:  0.4244811534881592\n",
      "MAE for v_ex:  0.34588274359703064\n"
     ]
    }
   ],
   "source": [
    "print(\"MAPE90 for a_or: \", tf_fc_metrics[\"test_ood_topo\"][\"ML\"][\"mape_90_avg\"][\"a_or\"])\n",
    "print(\"MAPE90 for a_ex: \", tf_fc_metrics[\"test_ood_topo\"][\"ML\"][\"mape_90_avg\"][\"a_ex\"])\n",
    "print(\"MAPE for p_or: \", tf_fc_metrics[\"test_ood_topo\"][\"ML\"][\"mape_avg\"][\"p_or\"])\n",
    "print(\"MAPE for p_ex: \", tf_fc_metrics[\"test_ood_topo\"][\"ML\"][\"mape_avg\"][\"p_ex\"])\n",
    "print(\"MAE for p_or: \", tf_fc_metrics[\"test_ood_topo\"][\"ML\"][\"MAE_avg\"][\"p_or\"])\n",
    "print(\"MAE for p_ex: \", tf_fc_metrics[\"test_ood_topo\"][\"ML\"][\"MAE_avg\"][\"p_ex\"])\n",
    "print(\"MAPE for v_or: \", tf_fc_metrics[\"test_ood_topo\"][\"ML\"][\"mape_avg\"][\"v_or\"])\n",
    "print(\"MAPE for v_ex: \", tf_fc_metrics[\"test_ood_topo\"][\"ML\"][\"mape_avg\"][\"v_ex\"])\n",
    "print(\"MAE for v_or: \", tf_fc_metrics[\"test_ood_topo\"][\"ML\"][\"MAE_avg\"][\"v_or\"])\n",
    "print(\"MAE for v_ex: \", tf_fc_metrics[\"test_ood_topo\"][\"ML\"][\"MAE_avg\"][\"v_ex\"])"
   ]
  },
  {
   "cell_type": "markdown",
   "id": "3768c62b",
   "metadata": {},
   "source": [
    "#### Physics"
   ]
  },
  {
   "cell_type": "code",
   "execution_count": 18,
   "id": "48e64e5f",
   "metadata": {},
   "outputs": [
    {
     "name": "stdout",
     "output_type": "stream",
     "text": [
      "1) Current positivity violation: 0.0114725\n",
      "2) Voltage positivity violation: 0.013675\n",
      "3) Loss positivity violation: 0.16484\n",
      "4) Disconnected lines violation: {}\n",
      "5) Violation of loss to be between [1,4]% of production: 0.18\n",
      "6) Violation of global conservation: 99.4% and its weighted mape: 0.027306463569402695\n",
      "7) Violation of local conservation: 89.68142857142857% and its weighted mape: 0.005147017177159799\n",
      "8) Violation proportion of voltage equality at subs: 0.9976333333333334\n"
     ]
    }
   ],
   "source": [
    "print(\"1) Current positivity violation:\", (tf_fc_metrics[\"test\"][\"Physics\"][\"CURRENT_POS\"][\"a_or\"][\"Violation_proportion\"]+tf_fc_metrics[\"test\"][\"Physics\"][\"CURRENT_POS\"][\"a_ex\"][\"Violation_proportion\"])/2)#[\"a_or\"][\"Violation_proportion\"]\n",
    "if tf_fc_metrics[\"test\"][\"Physics\"][\"VOLTAGE_POS\"]:\n",
    "    print(\"2) Voltage positivity violation:\", (tf_fc_metrics[\"test\"][\"Physics\"][\"VOLTAGE_POS\"][\"v_or\"][\"Violation_proportion\"]+tf_fc_metrics[\"test\"][\"Physics\"][\"VOLTAGE_POS\"][\"v_ex\"][\"Violation_proportion\"])/2)\n",
    "else:\n",
    "    print(\"2) Voltage positivity violation:\", 0)\n",
    "print(\"3) Loss positivity violation:\", tf_fc_metrics[\"test\"][\"Physics\"][\"LOSS_POS\"][\"violation_proportion\"])\n",
    "print(\"4) Disconnected lines violation:\", tf_fc_metrics[\"test\"][\"Physics\"][\"DISC_LINES\"])\n",
    "print(\"5) Violation of loss to be between [1,4]% of production:\", tf_fc_metrics[\"test\"][\"Physics\"][\"CHECK_LOSS\"][\"violation_percentage\"])\n",
    "print(\"6) Violation of global conservation: {}% and its weighted mape: {}\".format(tf_fc_metrics[\"test\"][\"Physics\"][\"CHECK_GC\"][\"violation_percentage\"], tf_fc_metrics[\"test\"][\"Physics\"][\"CHECK_GC\"][\"wmape\"]))\n",
    "print(\"7) Violation of local conservation: {}% and its weighted mape: {}\".format(tf_fc_metrics[\"test\"][\"Physics\"][\"CHECK_LC\"][\"violation_percentage\"], tf_fc_metrics[\"test\"][\"Physics\"][\"CHECK_LC\"][\"mape\"]))\n",
    "print(\"8) Violation proportion of voltage equality at subs:\", tf_fc_metrics[\"test\"][\"Physics\"][\"CHECK_VOLTAGE_EQ\"][\"prop_voltages_violation\"])"
   ]
  },
  {
   "cell_type": "code",
   "execution_count": 19,
   "id": "fc889ead",
   "metadata": {},
   "outputs": [
    {
     "name": "stdout",
     "output_type": "stream",
     "text": [
      "1) Current positivity violation: 0.011865\n",
      "2) Voltage positivity violation: 0.013049999999999999\n",
      "3) Loss positivity violation: 0.20383\n",
      "4) Disconnected lines violation: {}\n",
      "5) Violation of loss to be between [1,4]% of production: 0.36\n",
      "6) Violation of global conservation: 99.81% and its weighted mape: 0.1251574009656906\n",
      "7) Violation of local conservation: 97.77785714285714% and its weighted mape: 0.023546348198665402\n",
      "8) Violation proportion of voltage equality at subs: 0.99536875\n"
     ]
    }
   ],
   "source": [
    "print(\"1) Current positivity violation:\", (tf_fc_metrics[\"test_ood_topo\"][\"Physics\"][\"CURRENT_POS\"][\"a_or\"][\"Violation_proportion\"]+tf_fc_metrics[\"test\"][\"Physics\"][\"CURRENT_POS\"][\"a_ex\"][\"Violation_proportion\"])/2)#[\"a_or\"][\"Violation_proportion\"]\n",
    "if tf_fc_metrics[\"test_ood_topo\"][\"Physics\"][\"VOLTAGE_POS\"]:\n",
    "    print(\"2) Voltage positivity violation:\", (tf_fc_metrics[\"test_ood_topo\"][\"Physics\"][\"VOLTAGE_POS\"][\"v_or\"][\"Violation_proportion\"]+tf_fc_metrics[\"test_ood_topo\"][\"Physics\"][\"VOLTAGE_POS\"][\"v_ex\"][\"Violation_proportion\"])/2)\n",
    "else:\n",
    "    print(\"2) Voltage positivity violation:\", 0)\n",
    "print(\"3) Loss positivity violation:\", tf_fc_metrics[\"test_ood_topo\"][\"Physics\"][\"LOSS_POS\"][\"violation_proportion\"])\n",
    "print(\"4) Disconnected lines violation:\", tf_fc_metrics[\"test_ood_topo\"][\"Physics\"][\"DISC_LINES\"])\n",
    "print(\"5) Violation of loss to be between [1,4]% of production:\", tf_fc_metrics[\"test_ood_topo\"][\"Physics\"][\"CHECK_LOSS\"][\"violation_percentage\"])\n",
    "print(\"6) Violation of global conservation: {}% and its weighted mape: {}\".format(tf_fc_metrics[\"test_ood_topo\"][\"Physics\"][\"CHECK_GC\"][\"violation_percentage\"], tf_fc_metrics[\"test_ood_topo\"][\"Physics\"][\"CHECK_GC\"][\"wmape\"]))\n",
    "print(\"7) Violation of local conservation: {}% and its weighted mape: {}\".format(tf_fc_metrics[\"test_ood_topo\"][\"Physics\"][\"CHECK_LC\"][\"violation_percentage\"], tf_fc_metrics[\"test_ood_topo\"][\"Physics\"][\"CHECK_LC\"][\"mape\"]))\n",
    "print(\"8) Violation proportion of voltage equality at subs:\", tf_fc_metrics[\"test_ood_topo\"][\"Physics\"][\"CHECK_VOLTAGE_EQ\"][\"prop_voltages_violation\"])"
   ]
  },
  {
   "cell_type": "markdown",
   "id": "c3138966",
   "metadata": {},
   "source": [
    "#### Industrial Readiness"
   ]
  },
  {
   "cell_type": "code",
   "execution_count": 20,
   "id": "904d6137",
   "metadata": {},
   "outputs": [
    {
     "name": "stdout",
     "output_type": "stream",
     "text": [
      "Inference time for test dataset: 0.28s\n",
      "Inference time for OOD dataset: 0.30s\n"
     ]
    }
   ],
   "source": [
    "print(f'Inference time for test dataset: {tf_fc_metrics[\"test\"][\"IndRed\"][\"TIME_INF\"]:.2f}s')\n",
    "print(f'Inference time for OOD dataset: {tf_fc_metrics[\"test_ood_topo\"][\"IndRed\"][\"TIME_INF\"]:.2f}s')"
   ]
  },
  {
   "cell_type": "markdown",
   "id": "c8b02f4d",
   "metadata": {},
   "source": [
    "### Save"
   ]
  },
  {
   "cell_type": "code",
   "execution_count": 74,
   "id": "fee0b4e3",
   "metadata": {},
   "outputs": [],
   "source": [
    "SAVE_PATH = get_path(TRAINED_MODEL_PATH, benchmark2)\n",
    "tf_fc.save(SAVE_PATH)"
   ]
  },
  {
   "cell_type": "markdown",
   "id": "998a9f1a",
   "metadata": {},
   "source": [
    "## LeapNet Neural Network"
   ]
  },
  {
   "cell_type": "code",
   "execution_count": 5,
   "id": "19ac05e4",
   "metadata": {},
   "outputs": [],
   "source": [
    "from lips.augmented_simulators.tensorflow_models import LeapNet\n",
    "from lips.dataset.scaler.powergrid_scaler import PowerGridScaler"
   ]
  },
  {
   "cell_type": "code",
   "execution_count": 6,
   "id": "0edcbffe",
   "metadata": {},
   "outputs": [],
   "source": [
    "leap_net = LeapNet(name=\"tf_leapnet\",\n",
    "                   bench_config_path=BENCH_CONFIG_PATH,\n",
    "                   bench_config_name=\"Benchmark2\",\n",
    "                   sim_config_path=SIM_CONFIG_PATH / \"tf_leapnet.ini\",\n",
    "                   sim_config_name=\"DEFAULT\",\n",
    "                   sizes_main=(150, 150),\n",
    "                   sizes_enc=(20, 20, 20),\n",
    "                   sizes_out=(100, 40),\n",
    "                   scaler=PowerGridScaler,\n",
    "                   log_path=LOG_PATH)"
   ]
  },
  {
   "cell_type": "markdown",
   "id": "d1f14609",
   "metadata": {},
   "source": [
    "### Load it"
   ]
  },
  {
   "cell_type": "code",
   "execution_count": null,
   "id": "19e79534",
   "metadata": {},
   "outputs": [],
   "source": [
    "LOAD_PATH = get_path(BASELINES_PATH, benchmark2)\n",
    "leap_net.restore(path=LOAD_PATH)"
   ]
  },
  {
   "cell_type": "markdown",
   "id": "0fbf1e5e",
   "metadata": {},
   "source": [
    "### or Train it"
   ]
  },
  {
   "cell_type": "code",
   "execution_count": null,
   "id": "de7e5432",
   "metadata": {},
   "outputs": [],
   "source": [
    "leap_net.train(train_dataset=benchmark2.train_dataset,\n",
    "               val_dataset=benchmark2.val_dataset,\n",
    "               epochs=200\n",
    "              )"
   ]
  },
  {
   "cell_type": "code",
   "execution_count": 18,
   "id": "ff735075",
   "metadata": {},
   "outputs": [
    {
     "data": {
      "image/png": "[encoded data removed]",
      "text/plain": [
       "<Figure size 1080x360 with 2 Axes>"
      ]
     },
     "metadata": {
      "needs_background": "light"
     },
     "output_type": "display_data"
    }
   ],
   "source": [
    "leap_net.visualize_convergence()"
   ]
  },
  {
   "cell_type": "markdown",
   "id": "611bfb19",
   "metadata": {},
   "source": [
    "### Evaluation "
   ]
  },
  {
   "cell_type": "code",
   "execution_count": null,
   "id": "2e6268b2",
   "metadata": {},
   "outputs": [],
   "source": [
    "# TODO: log the losses\n",
    "EVAL_SAVE_PATH = get_path(EVALUATION_PATH, benchmark2)\n",
    "tf_leapnet_metrics = benchmark2.evaluate_simulator(augmented_simulator=leap_net,\n",
    "                                                   eval_batch_size=128,\n",
    "                                                   dataset=\"all\",\n",
    "                                                   shuffle=False,\n",
    "                                                   save_path=EVAL_SAVE_PATH,\n",
    "                                                   save_predictions=True\n",
    "                                                  )"
   ]
  },
  {
   "cell_type": "markdown",
   "id": "d3aec28d",
   "metadata": {},
   "source": [
    "#### Machine Learning"
   ]
  },
  {
   "cell_type": "code",
   "execution_count": 20,
   "id": "4613ace7",
   "metadata": {},
   "outputs": [
    {
     "name": "stdout",
     "output_type": "stream",
     "text": [
      "MAPE90 for a_or:  0.009169327684259786\n",
      "MAPE90 for a_ex:  0.008609933790241586\n",
      "MAPE for p_or:  0.014057445321708958\n",
      "MAPE for p_ex:  0.013013509064890818\n",
      "MAE for p_or:  0.1869640052318573\n",
      "MAE for p_ex:  0.1794859915971756\n",
      "MAPE for v_or:  0.0016585458785211362\n",
      "MAPE for v_ex:  0.002299098771987526\n",
      "MAE for v_or:  0.1258997619152069\n",
      "MAE for v_ex:  0.1404215395450592\n"
     ]
    }
   ],
   "source": [
    "print(\"MAPE90 for a_or: \", tf_leapnet_metrics[\"test\"][\"ML\"][\"mape_90_avg\"][\"a_or\"])\n",
    "print(\"MAPE90 for a_ex: \", tf_leapnet_metrics[\"test\"][\"ML\"][\"mape_90_avg\"][\"a_ex\"])\n",
    "print(\"MAPE for p_or: \", tf_leapnet_metrics[\"test\"][\"ML\"][\"mape_avg\"][\"p_or\"])\n",
    "print(\"MAPE for p_ex: \", tf_leapnet_metrics[\"test\"][\"ML\"][\"mape_avg\"][\"p_ex\"])\n",
    "print(\"MAE for p_or: \", tf_leapnet_metrics[\"test\"][\"ML\"][\"MAE_avg\"][\"p_or\"])\n",
    "print(\"MAE for p_ex: \", tf_leapnet_metrics[\"test\"][\"ML\"][\"MAE_avg\"][\"p_ex\"])\n",
    "print(\"MAPE for v_or: \", tf_leapnet_metrics[\"test\"][\"ML\"][\"mape_avg\"][\"v_or\"])\n",
    "print(\"MAPE for v_ex: \", tf_leapnet_metrics[\"test\"][\"ML\"][\"mape_avg\"][\"v_ex\"])\n",
    "print(\"MAE for v_or: \", tf_leapnet_metrics[\"test\"][\"ML\"][\"MAE_avg\"][\"v_or\"])\n",
    "print(\"MAE for v_ex: \", tf_leapnet_metrics[\"test\"][\"ML\"][\"MAE_avg\"][\"v_ex\"])"
   ]
  },
  {
   "cell_type": "code",
   "execution_count": 21,
   "id": "281e5a6d",
   "metadata": {},
   "outputs": [
    {
     "name": "stdout",
     "output_type": "stream",
     "text": [
      "MAPE90 for a_or:  0.12464728719732017\n",
      "MAPE90 for a_ex:  0.11647447512493583\n",
      "MAPE for p_or:  0.22522913805762063\n",
      "MAPE for p_ex:  0.23975308257265215\n",
      "MAE for p_or:  2.7297797203063965\n",
      "MAE for p_ex:  2.783205509185791\n",
      "MAPE for v_or:  0.003705198642726069\n",
      "MAPE for v_ex:  0.004044990850530969\n",
      "MAE for v_or:  0.257049560546875\n",
      "MAE for v_ex:  0.24137432873249054\n"
     ]
    }
   ],
   "source": [
    "print(\"MAPE90 for a_or: \", tf_leapnet_metrics[\"test_ood_topo\"][\"ML\"][\"mape_90_avg\"][\"a_or\"])\n",
    "print(\"MAPE90 for a_ex: \", tf_leapnet_metrics[\"test_ood_topo\"][\"ML\"][\"mape_90_avg\"][\"a_ex\"])\n",
    "print(\"MAPE for p_or: \", tf_leapnet_metrics[\"test_ood_topo\"][\"ML\"][\"mape_avg\"][\"p_or\"])\n",
    "print(\"MAPE for p_ex: \", tf_leapnet_metrics[\"test_ood_topo\"][\"ML\"][\"mape_avg\"][\"p_ex\"])\n",
    "print(\"MAE for p_or: \", tf_leapnet_metrics[\"test_ood_topo\"][\"ML\"][\"MAE_avg\"][\"p_or\"])\n",
    "print(\"MAE for p_ex: \", tf_leapnet_metrics[\"test_ood_topo\"][\"ML\"][\"MAE_avg\"][\"p_ex\"])\n",
    "print(\"MAPE for v_or: \", tf_leapnet_metrics[\"test_ood_topo\"][\"ML\"][\"mape_avg\"][\"v_or\"])\n",
    "print(\"MAPE for v_ex: \", tf_leapnet_metrics[\"test_ood_topo\"][\"ML\"][\"mape_avg\"][\"v_ex\"])\n",
    "print(\"MAE for v_or: \", tf_leapnet_metrics[\"test_ood_topo\"][\"ML\"][\"MAE_avg\"][\"v_or\"])\n",
    "print(\"MAE for v_ex: \", tf_leapnet_metrics[\"test_ood_topo\"][\"ML\"][\"MAE_avg\"][\"v_ex\"])"
   ]
  },
  {
   "cell_type": "markdown",
   "id": "1a87a319",
   "metadata": {},
   "source": [
    "#### Physics"
   ]
  },
  {
   "cell_type": "code",
   "execution_count": 26,
   "id": "931cdaff",
   "metadata": {},
   "outputs": [
    {
     "name": "stdout",
     "output_type": "stream",
     "text": [
      "1) Current positivity violation: 0.00027749999999999997\n",
      "2) Voltage positivity violation: 0\n",
      "3) Loss positivity violation: 0.308235\n",
      "4) Disconnected lines violation: {}\n",
      "5) Violation of loss to be between [1,4]% of production: 0.62\n",
      "6) Violation of global conservation: 99.95% and its weighted mape: 0.2836044132709503\n",
      "7) Violation of local conservation: 96.09071428571428% and its weighted mape: 0.01215424724119231\n",
      "8) Violation proportion of voltage equality at subs: 0.9977266666666667\n"
     ]
    }
   ],
   "source": [
    "print(\"1) Current positivity violation:\", (tf_leapnet_metrics[\"test\"][\"Physics\"][\"CURRENT_POS\"][\"a_or\"][\"Violation_proportion\"]+tf_leapnet_metrics[\"test\"][\"Physics\"][\"CURRENT_POS\"][\"a_ex\"][\"Violation_proportion\"])/2)#[\"a_or\"][\"Violation_proportion\"]\n",
    "if tf_leapnet_metrics[\"test\"][\"Physics\"][\"VOLTAGE_POS\"]:\n",
    "    print(\"2) Voltage positivity violation:\", (tf_leapnet_metrics[\"test\"][\"Physics\"][\"VOLTAGE_POS\"][\"v_or\"][\"Violation_proportion\"]+tf_leapnet_metrics[\"test\"][\"Physics\"][\"VOLTAGE_POS\"][\"v_ex\"][\"Violation_proportion\"])/2)\n",
    "else:\n",
    "    print(\"2) Voltage positivity violation:\", 0)\n",
    "print(\"3) Loss positivity violation:\", tf_leapnet_metrics[\"test\"][\"Physics\"][\"LOSS_POS\"][\"violation_proportion\"])\n",
    "print(\"4) Disconnected lines violation:\", tf_leapnet_metrics[\"test\"][\"Physics\"][\"DISC_LINES\"])\n",
    "print(\"5) Violation of loss to be between [1,4]% of production:\", tf_leapnet_metrics[\"test\"][\"Physics\"][\"CHECK_LOSS\"][\"violation_percentage\"])\n",
    "print(\"6) Violation of global conservation: {}% and its weighted mape: {}\".format(tf_leapnet_metrics[\"test\"][\"Physics\"][\"CHECK_GC\"][\"violation_percentage\"], tf_leapnet_metrics[\"test\"][\"Physics\"][\"CHECK_GC\"][\"wmape\"]))\n",
    "print(\"7) Violation of local conservation: {}% and its weighted mape: {}\".format(tf_leapnet_metrics[\"test\"][\"Physics\"][\"CHECK_LC\"][\"violation_percentage\"], tf_leapnet_metrics[\"test\"][\"Physics\"][\"CHECK_LC\"][\"mape\"]))\n",
    "print(\"8) Violation proportion of voltage equality at subs:\", tf_leapnet_metrics[\"test\"][\"Physics\"][\"CHECK_VOLTAGE_EQ\"][\"prop_voltages_violation\"])"
   ]
  },
  {
   "cell_type": "code",
   "execution_count": 27,
   "id": "58920510",
   "metadata": {},
   "outputs": [
    {
     "name": "stdout",
     "output_type": "stream",
     "text": [
      "1) Current positivity violation: 0.0031349999999999998\n",
      "2) Voltage positivity violation: 0\n",
      "3) Loss positivity violation: 0.480745\n",
      "4) Disconnected lines violation: {}\n",
      "5) Violation of loss to be between [1,4]% of production: 40.88\n",
      "6) Violation of global conservation: 100.0% and its weighted mape: 2.222123861312866\n",
      "7) Violation of local conservation: 98.59285714285714% and its weighted mape: 0.10475341232364434\n",
      "8) Violation proportion of voltage equality at subs: 0.9957\n"
     ]
    }
   ],
   "source": [
    "print(\"1) Current positivity violation:\", (tf_leapnet_metrics[\"test_ood_topo\"][\"Physics\"][\"CURRENT_POS\"][\"a_or\"][\"Violation_proportion\"]+tf_leapnet_metrics[\"test\"][\"Physics\"][\"CURRENT_POS\"][\"a_ex\"][\"Violation_proportion\"])/2)#[\"a_or\"][\"Violation_proportion\"]\n",
    "if tf_leapnet_metrics[\"test_ood_topo\"][\"Physics\"][\"VOLTAGE_POS\"]:\n",
    "    print(\"2) Voltage positivity violation:\", (tf_leapnet_metrics[\"test_ood_topo\"][\"Physics\"][\"VOLTAGE_POS\"][\"v_or\"][\"Violation_proportion\"]+tf_leapnet_metrics[\"test_ood_topo\"][\"Physics\"][\"VOLTAGE_POS\"][\"v_ex\"][\"Violation_proportion\"])/2)\n",
    "else:\n",
    "    print(\"2) Voltage positivity violation:\", 0)\n",
    "print(\"3) Loss positivity violation:\", tf_leapnet_metrics[\"test_ood_topo\"][\"Physics\"][\"LOSS_POS\"][\"violation_proportion\"])\n",
    "print(\"4) Disconnected lines violation:\", tf_leapnet_metrics[\"test_ood_topo\"][\"Physics\"][\"DISC_LINES\"])\n",
    "print(\"5) Violation of loss to be between [1,4]% of production:\", tf_leapnet_metrics[\"test_ood_topo\"][\"Physics\"][\"CHECK_LOSS\"][\"violation_percentage\"])\n",
    "print(\"6) Violation of global conservation: {}% and its weighted mape: {}\".format(tf_leapnet_metrics[\"test_ood_topo\"][\"Physics\"][\"CHECK_GC\"][\"violation_percentage\"], tf_leapnet_metrics[\"test_ood_topo\"][\"Physics\"][\"CHECK_GC\"][\"wmape\"]))\n",
    "print(\"7) Violation of local conservation: {}% and its weighted mape: {}\".format(tf_leapnet_metrics[\"test_ood_topo\"][\"Physics\"][\"CHECK_LC\"][\"violation_percentage\"], tf_leapnet_metrics[\"test_ood_topo\"][\"Physics\"][\"CHECK_LC\"][\"mape\"]))\n",
    "print(\"8) Violation proportion of voltage equality at subs:\", tf_leapnet_metrics[\"test_ood_topo\"][\"Physics\"][\"CHECK_VOLTAGE_EQ\"][\"prop_voltages_violation\"])"
   ]
  },
  {
   "cell_type": "markdown",
   "id": "8563d890",
   "metadata": {},
   "source": [
    "#### Industrial Readiness"
   ]
  },
  {
   "cell_type": "code",
   "execution_count": 30,
   "id": "7a2d0eab",
   "metadata": {},
   "outputs": [
    {
     "name": "stdout",
     "output_type": "stream",
     "text": [
      "Inference time for test dataset: 0.20s\n",
      "Inference time for OOD dataset: 0.22s\n"
     ]
    }
   ],
   "source": [
    "print(f'Inference time for test dataset: {tf_leapnet_metrics[\"test\"][\"IndRed\"][\"TIME_INF\"]:.2f}s')\n",
    "print(f'Inference time for OOD dataset: {tf_leapnet_metrics[\"test_ood_topo\"][\"IndRed\"][\"TIME_INF\"]:.2f}s')"
   ]
  },
  {
   "cell_type": "markdown",
   "id": "2d2c815d",
   "metadata": {},
   "source": [
    "### Save"
   ]
  },
  {
   "cell_type": "code",
   "execution_count": 31,
   "id": "63f70207",
   "metadata": {},
   "outputs": [],
   "source": [
    "SAVE_PATH = get_path(TRAINED_MODEL_PATH, benchmark2)\n",
    "leap_net.save(SAVE_PATH)"
   ]
  },
  {
   "cell_type": "markdown",
   "id": "6b72e1d7",
   "metadata": {},
   "source": [
    "# Benchmark 3 : Validation of decision <a id=\"benchmark3\"></a>\n",
    "Once preferred solutions have been selected by the operator to alleviate an overflow, a last detailed simulation is run and studied more in depth by the operator, prior to apply the remedial actions on the actual power grid. The purpose of this operation is to ensure that no unforeseen event may make the grid collapse. In this application, the quality of prediction is decisive, to ensure that the adopted interventions will not violate the consistency within the network; therefore the surrogate simulator shall be nearly as good as the numerical solver. Here the main goal is to ensure the accuracy and consistency of the solution for 1-10 simulations. All physical variables of the physical problem shall be predicted: currents $a^\\ell$, active power flows $p^\\ell$, voltages $v_{k}$, reactive power flows $q^\\ell$, angles $\\theta_k$."
   ]
  },
  {
   "cell_type": "code",
   "execution_count": null,
   "id": "00d09f2b",
   "metadata": {},
   "outputs": [],
   "source": [
    "benchmark3 = PowerGridBenchmark(benchmark_name=\"Benchmark3\",\n",
    "                                benchmark_path=DATA_PATH,\n",
    "                                load_data_set=True,\n",
    "                                log_path=LOG_PATH,\n",
    "                                config_path=BENCH_CONFIG_PATH\n",
    "                               )"
   ]
  },
  {
   "cell_type": "code",
   "execution_count": null,
   "id": "e13cde9d",
   "metadata": {},
   "outputs": [],
   "source": [
    "benchmark3.config.get_options_dict()"
   ]
  },
  {
   "cell_type": "markdown",
   "id": "7d7404d6",
   "metadata": {},
   "source": [
    "## Fully Connected Network"
   ]
  },
  {
   "cell_type": "code",
   "execution_count": null,
   "id": "e2e0019b",
   "metadata": {},
   "outputs": [],
   "source": [
    "from lips.augmented_simulators.tensorflow_models import TfFullyConnected\n",
    "from lips.dataset.scaler import StandardScaler"
   ]
  },
  {
   "cell_type": "code",
   "execution_count": null,
   "id": "1a004e47",
   "metadata": {},
   "outputs": [],
   "source": [
    "tf_fc = TfFullyConnected(name=\"tf_fc\",\n",
    "                         bench_config_path=BENCH_CONFIG_PATH,\n",
    "                         bench_config_name=\"Benchmark3\",\n",
    "                         sim_config_path=SIM_CONFIG_PATH / \"tf_fc.ini\",\n",
    "                         sim_config_name=\"DEFAULT\",\n",
    "                         scaler=StandardScaler,\n",
    "                         log_path=LOG_PATH)"
   ]
  },
  {
   "cell_type": "markdown",
   "id": "d1d9c015",
   "metadata": {},
   "source": [
    "### Train the model"
   ]
  },
  {
   "cell_type": "code",
   "execution_count": null,
   "id": "30a5de07",
   "metadata": {},
   "outputs": [],
   "source": [
    "tf_fc.train(train_dataset=benchmark3.train_dataset,\n",
    "            val_dataset=benchmark3.val_dataset,\n",
    "            epochs=100\n",
    "           )"
   ]
  },
  {
   "cell_type": "markdown",
   "id": "5f187231",
   "metadata": {},
   "source": [
    "#### Convergence"
   ]
  },
  {
   "cell_type": "code",
   "execution_count": null,
   "id": "04836020",
   "metadata": {},
   "outputs": [],
   "source": [
    "tf_fc.visualize_convergence()"
   ]
  },
  {
   "cell_type": "markdown",
   "id": "c0036a81",
   "metadata": {},
   "source": [
    "### Evaluation "
   ]
  },
  {
   "cell_type": "code",
   "execution_count": null,
   "id": "a3d84223",
   "metadata": {},
   "outputs": [],
   "source": [
    "# TODO: log the losses\n",
    "EVAL_SAVE_PATH = get_path(EVALUATION_PATH, benchmark3)\n",
    "tf_fc_metrics = benchmark3.evaluate_simulator(augmented_simulator=tf_fc,\n",
    "                                              eval_batch_size=128,\n",
    "                                              dataset=\"all\",\n",
    "                                              shuffle=False,\n",
    "                                              save_path=EVAL_SAVE_PATH,\n",
    "                                              save_predictions=True\n",
    "                                             )"
   ]
  },
  {
   "cell_type": "markdown",
   "id": "2ee6ecba",
   "metadata": {},
   "source": [
    "### Save"
   ]
  },
  {
   "cell_type": "code",
   "execution_count": null,
   "id": "63e77d46",
   "metadata": {},
   "outputs": [],
   "source": [
    "SAVE_PATH = get_path(TRAINED_MODEL_PATH, benchmark3)\n",
    "tf_fc.save(SAVE_PATH)"
   ]
  },
  {
   "cell_type": "markdown",
   "id": "7d1c090d",
   "metadata": {},
   "source": [
    "## LeapNet Neural Network"
   ]
  },
  {
   "cell_type": "code",
   "execution_count": null,
   "id": "f0baa376",
   "metadata": {},
   "outputs": [],
   "source": [
    "from lips.augmented_simulators.tensorflow_models import LeapNet\n",
    "from lips.dataset.scaler import PowerGridScaler"
   ]
  },
  {
   "cell_type": "code",
   "execution_count": null,
   "id": "a6ab4ee9",
   "metadata": {},
   "outputs": [],
   "source": [
    "leap_net = LeapNet(name=\"tf_leapnet\",\n",
    "                   bench_config_path=BENCH_CONFIG_PATH,\n",
    "                   bench_config_name=\"Benchmark3\",\n",
    "                   sim_config_path=SIM_CONFIG_PATH / \"tf_leapnet.ini\",\n",
    "                   sim_config_name=\"DEFAULT\",\n",
    "                   sizes_main=(150, 150),\n",
    "                   sizes_enc=(20, 20, 20),\n",
    "                   sizes_out=(100, 40),\n",
    "                   scaler=PowerGridScaler,\n",
    "                   log_path=LOG_PATH)"
   ]
  },
  {
   "cell_type": "markdown",
   "id": "1a8e186e",
   "metadata": {},
   "source": [
    "### Train it"
   ]
  },
  {
   "cell_type": "code",
   "execution_count": null,
   "id": "9f7043b8",
   "metadata": {},
   "outputs": [],
   "source": [
    "leap_net.train(train_dataset=benchmark3.train_dataset,\n",
    "               val_dataset=benchmark3.val_dataset,\n",
    "               epochs=200\n",
    "              )"
   ]
  },
  {
   "cell_type": "code",
   "execution_count": null,
   "id": "2bd1fcc0",
   "metadata": {},
   "outputs": [],
   "source": [
    "leap_net.visualize_convergence()"
   ]
  },
  {
   "cell_type": "markdown",
   "id": "8eed3178",
   "metadata": {},
   "source": [
    "### Evaluation "
   ]
  },
  {
   "cell_type": "code",
   "execution_count": null,
   "id": "370ce8d0",
   "metadata": {},
   "outputs": [],
   "source": [
    "# TODO: log the losses\n",
    "EVAL_SAVE_PATH = get_path(EVALUATION_PATH, benchmark3)\n",
    "tf_leapnet_metrics = benchmark3.evaluate_simulator(augmented_simulator=leap_net,\n",
    "                                                   eval_batch_size=128,\n",
    "                                                   dataset=\"all\",\n",
    "                                                   shuffle=False,\n",
    "                                                   save_path=EVAL_SAVE_PATH,\n",
    "                                                   save_predictions=True\n",
    "                                                  )"
   ]
  },
  {
   "cell_type": "markdown",
   "id": "2b826ade",
   "metadata": {},
   "source": [
    "### Save"
   ]
  },
  {
   "cell_type": "code",
   "execution_count": null,
   "id": "d1d0c48c",
   "metadata": {},
   "outputs": [],
   "source": [
    "SAVE_PATH = get_path(TRAINED_MODEL_PATH, benchmark3)\n",
    "leap_net.save(SAVE_PATH)"
   ]
  }
 ],
 "metadata": {
  "execution": {
   "allow_errors": true,
   "timeout": 300
  },
  "kernelspec": {
   "display_name": "lips",
   "language": "python",
   "name": "lips"
  },
  "language_info": {
   "codemirror_mode": {
    "name": "ipython",
    "version": 3
   },
   "file_extension": ".py",
   "mimetype": "text/x-python",
   "name": "python",
   "nbconvert_exporter": "python",
   "pygments_lexer": "ipython3",
   "version": "3.8.10"
  }
 },
 "nbformat": 4,
 "nbformat_minor": 5
}
