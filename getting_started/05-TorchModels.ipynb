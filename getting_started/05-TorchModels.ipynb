{
 "cells": [
  {
   "cell_type": "markdown",
   "id": "ffe8721a",
   "metadata": {},
   "source": [
    "# Train and Evaluate a Pytorch model"
   ]
  },
  {
   "cell_type": "code",
   "execution_count": 1,
   "id": "34c0b1f6",
   "metadata": {},
   "outputs": [],
   "source": [
    "import pathlib\n",
    "from pprint import pprint\n",
    "from matplotlib import pyplot as plt\n",
    "from lips.benchmark import PowerGridBenchmark"
   ]
  },
  {
   "cell_type": "code",
   "execution_count": 2,
   "id": "bd523ee6",
   "metadata": {},
   "outputs": [],
   "source": [
    "# indicate required paths\n",
    "LIPS_PATH = pathlib.Path().resolve().parent\n",
    "DATA_PATH = LIPS_PATH / \"reference_data\"\n",
    "LOG_PATH = LIPS_PATH / \"lips_logs.log\"\n",
    "CONFIG_PATH = LIPS_PATH / \"lips\" / \"config\" / \"conf.ini\"\n",
    "BASELINES_PATH = LIPS_PATH / \"trained_baselines\"\n",
    "TRAINED_MODEL_PATH = LIPS_PATH / \"trained_models\""
   ]
  },
  {
   "cell_type": "code",
   "execution_count": null,
   "id": "85392831",
   "metadata": {},
   "outputs": [],
   "source": [
    "benchmark1 = PowerGridBenchmark(benchmark_name=\"Benchmark1\",\n",
    "                                benchmark_path=DATA_PATH,\n",
    "                                load_data_set=True,\n",
    "                                log_path=LOG_PATH,\n",
    "                                config_path=CONFIG_PATH\n",
    "                               )"
   ]
  },
  {
   "cell_type": "markdown",
   "id": "0b2437fa",
   "metadata": {},
   "source": [
    "## Instantiate the torch model"
   ]
  },
  {
   "cell_type": "code",
   "execution_count": 4,
   "id": "59be38b8",
   "metadata": {},
   "outputs": [],
   "source": [
    "from lips.augmented_simulators.torch_models.fully_connected import TorchFullyConnected\n",
    "from lips.augmented_simulators.torch_simulator import TorchSimulator\n",
    "from lips.dataset import Scaler"
   ]
  },
  {
   "cell_type": "code",
   "execution_count": 5,
   "id": "a51f733c",
   "metadata": {},
   "outputs": [],
   "source": [
    "params = {\"input_size\": benchmark1.train_dataset._size_x, \"output_size\": benchmark1.train_dataset._size_y}\n",
    "torch_sim = TorchSimulator(name=\"torch_fc\",\n",
    "                           model=TorchFullyConnected,\n",
    "                           scaler=Scaler,\n",
    "                           log_path=LOG_PATH,\n",
    "                           **params)"
   ]
  },
  {
   "cell_type": "markdown",
   "id": "0127aba8",
   "metadata": {},
   "source": [
    "Verify the model architecture"
   ]
  },
  {
   "cell_type": "code",
   "execution_count": 6,
   "id": "81b18103",
   "metadata": {},
   "outputs": [
    {
     "name": "stdout",
     "output_type": "stream",
     "text": [
      "TorchFullyConnected(\n",
      "  (input_layer): Linear(in_features=111, out_features=300, bias=True)\n",
      "  (input_dropout): Dropout(p=0.0, inplace=False)\n",
      "  (fc_layers): ModuleList(\n",
      "    (0): Linear(in_features=300, out_features=300, bias=True)\n",
      "    (1): Linear(in_features=300, out_features=300, bias=True)\n",
      "    (2): Linear(in_features=300, out_features=300, bias=True)\n",
      "  )\n",
      "  (dropout_layers): ModuleList(\n",
      "    (0): Dropout(p=0.0, inplace=False)\n",
      "    (1): Dropout(p=0.0, inplace=False)\n",
      "    (2): Dropout(p=0.0, inplace=False)\n",
      "  )\n",
      "  (output_layer): Linear(in_features=300, out_features=40, bias=True)\n",
      ")\n"
     ]
    }
   ],
   "source": [
    "torch_sim.summary()"
   ]
  },
  {
   "cell_type": "code",
   "execution_count": 7,
   "id": "b4a2e5ce",
   "metadata": {},
   "outputs": [
    {
     "name": "stdout",
     "output_type": "stream",
     "text": [
      "Number of parameters of the model:  316540\n"
     ]
    }
   ],
   "source": [
    "print(\"Number of parameters of the model: \", torch_sim.count_parameters())"
   ]
  },
  {
   "cell_type": "markdown",
   "id": "4062989b",
   "metadata": {},
   "source": [
    "The parameters used for training and evaluation of this augmented simulator."
   ]
  },
  {
   "cell_type": "code",
   "execution_count": 8,
   "id": "eae230f4",
   "metadata": {},
   "outputs": [
    {
     "name": "stdout",
     "output_type": "stream",
     "text": [
      "{'activation': 'relu',\n",
      " 'ckpt_freq': 50,\n",
      " 'device': 'cpu',\n",
      " 'dropout': 0.0,\n",
      " 'epochs': 10,\n",
      " 'eval_batch_size': 128,\n",
      " 'input_dropout': 0.0,\n",
      " 'input_size': 111,\n",
      " 'layer': 'linear',\n",
      " 'layers': (300, 300, 300, 300),\n",
      " 'loss': {'name': 'MSELoss',\n",
      "          'params': {'reduce': None,\n",
      "                     'reduction': 'mean',\n",
      "                     'size_average': None}},\n",
      " 'metrics': ('MAELoss',),\n",
      " 'name': 'torch_fc',\n",
      " 'optimizer': {'name': 'adam', 'params': {'lr': 0.0003}},\n",
      " 'output_size': 40,\n",
      " 'save_freq': False,\n",
      " 'shuffle': False,\n",
      " 'train_batch_size': 128}\n"
     ]
    }
   ],
   "source": [
    "pprint(torch_sim.params)"
   ]
  },
  {
   "cell_type": "markdown",
   "id": "1c08282a",
   "metadata": {},
   "source": [
    "### Train it "
   ]
  },
  {
   "cell_type": "code",
   "execution_count": 9,
   "id": "0bcd7e9c",
   "metadata": {},
   "outputs": [
    {
     "name": "stdout",
     "output_type": "stream",
     "text": [
      "Train Epoch: 1   Avg_Loss: 0.11168 ['MAELoss: 0.16884']\n",
      "Eval:   Avg_Loss: 0.01851 ['MAELoss: 0.08593']\n",
      "Train Epoch: 2   Avg_Loss: 0.00948 ['MAELoss: 0.06395']\n",
      "Eval:   Avg_Loss: 0.00957 ['MAELoss: 0.06223']\n",
      "Train Epoch: 3   Avg_Loss: 0.00595 ['MAELoss: 0.05080']\n",
      "Eval:   Avg_Loss: 0.00596 ['MAELoss: 0.04881']\n",
      "Train Epoch: 4   Avg_Loss: 0.00428 ['MAELoss: 0.04456']\n",
      "Eval:   Avg_Loss: 0.00415 ['MAELoss: 0.04139']\n",
      "Train Epoch: 5   Avg_Loss: 0.00359 ['MAELoss: 0.04104']\n",
      "Eval:   Avg_Loss: 0.00334 ['MAELoss: 0.03724']\n",
      "Train Epoch: 6   Avg_Loss: 0.00295 ['MAELoss: 0.03750']\n",
      "Eval:   Avg_Loss: 0.00279 ['MAELoss: 0.03418']\n",
      "Train Epoch: 7   Avg_Loss: 0.00316 ['MAELoss: 0.03764']\n",
      "Eval:   Avg_Loss: 0.00215 ['MAELoss: 0.03001']\n",
      "Train Epoch: 8   Avg_Loss: 0.00242 ['MAELoss: 0.03390']\n",
      "Eval:   Avg_Loss: 0.00193 ['MAELoss: 0.02871']\n",
      "Train Epoch: 9   Avg_Loss: 0.00279 ['MAELoss: 0.03499']\n",
      "Eval:   Avg_Loss: 0.00167 ['MAELoss: 0.02715']\n",
      "Train Epoch: 10   Avg_Loss: 0.00204 ['MAELoss: 0.03148']\n",
      "Eval:   Avg_Loss: 0.00158 ['MAELoss: 0.02619']\n"
     ]
    }
   ],
   "source": [
    "torch_sim.train(benchmark1.train_dataset, benchmark1.val_dataset, epochs=10, save_path=None)"
   ]
  },
  {
   "cell_type": "markdown",
   "id": "7edcca4c",
   "metadata": {},
   "source": [
    "#### Visualize the performance "
   ]
  },
  {
   "cell_type": "code",
   "execution_count": 10,
   "id": "cc98971a",
   "metadata": {},
   "outputs": [
    {
     "data": {
      "image/png": "[encoded data removed]",
      "text/plain": [
       "<Figure size 1080x360 with 2 Axes>"
      ]
     },
     "metadata": {
      "needs_background": "light"
     },
     "output_type": "display_data"
    }
   ],
   "source": [
    "torch_sim.visualize_convergence()"
   ]
  },
  {
   "cell_type": "markdown",
   "id": "7d0f7063",
   "metadata": {},
   "source": [
    "## Evaluate"
   ]
  },
  {
   "cell_type": "code",
   "execution_count": null,
   "id": "b409739e",
   "metadata": {},
   "outputs": [],
   "source": [
    "# TODO: log the losses\n",
    "torch_sim_metrics = benchmark1.evaluate_simulator(augmented_simulator=torch_sim,\n",
    "                                                  eval_batch_size=128,\n",
    "                                                  dataset=\"all\",\n",
    "                                                  shuffle=False\n",
    "                                                 )"
   ]
  },
  {
   "cell_type": "code",
   "execution_count": 12,
   "id": "334fe72f",
   "metadata": {},
   "outputs": [
    {
     "data": {
      "text/plain": [
       "{'MSE_avg': {'a_or': 35.49590301513672, 'a_ex': 90.90232849121094},\n",
       " 'MAE_avg': {'a_or': 3.510498523712158, 'a_ex': 5.093857288360596},\n",
       " 'mape_90_avg': {'a_or': 0.010410443022903055, 'a_ex': 0.010579427028622367}}"
      ]
     },
     "execution_count": 12,
     "metadata": {},
     "output_type": "execute_result"
    }
   ],
   "source": [
    "torch_sim_metrics[\"test\"][\"ML\"]"
   ]
  },
  {
   "cell_type": "code",
   "execution_count": 13,
   "id": "fc00ef1c",
   "metadata": {},
   "outputs": [
    {
     "data": {
      "text/plain": [
       "{'MSE_avg': {'a_or': 6673.7373046875, 'a_ex': 11585.724609375},\n",
       " 'MAE_avg': {'a_or': 33.74958038330078, 'a_ex': 46.697532653808594},\n",
       " 'mape_90_avg': {'a_or': 0.15009300982318693, 'a_ex': 0.15039980314217619}}"
      ]
     },
     "execution_count": 13,
     "metadata": {},
     "output_type": "execute_result"
    }
   ],
   "source": [
    "torch_sim_metrics[\"test_ood_topo\"][\"ML\"]"
   ]
  },
  {
   "cell_type": "markdown",
   "id": "27884556",
   "metadata": {},
   "source": [
    "## Save & Load "
   ]
  },
  {
   "cell_type": "code",
   "execution_count": 14,
   "id": "a64ce82c",
   "metadata": {},
   "outputs": [],
   "source": [
    "torch_sim.save(TRAINED_MODEL_PATH)"
   ]
  },
  {
   "cell_type": "markdown",
   "id": "67d51041",
   "metadata": {},
   "source": [
    "Load it"
   ]
  },
  {
   "cell_type": "code",
   "execution_count": 15,
   "id": "36cb427a",
   "metadata": {},
   "outputs": [],
   "source": [
    "from lips.augmented_simulators.torch_models.fully_connected import TorchFullyConnected\n",
    "from lips.augmented_simulators.torch_simulator import TorchSimulator\n",
    "from lips.dataset import Scaler\n",
    "\n",
    "params = {\"input_size\": benchmark1.train_dataset._size_x, \"output_size\": benchmark1.train_dataset._size_y}\n",
    "torch_sim_test = TorchSimulator(name=\"torch_fc\",\n",
    "                           model=TorchFullyConnected,\n",
    "                           scaler=Scaler,\n",
    "                           log_path=LOG_PATH,\n",
    "                           **params)"
   ]
  },
  {
   "cell_type": "code",
   "execution_count": 17,
   "id": "ce885843",
   "metadata": {},
   "outputs": [],
   "source": [
    "torch_sim_test.restore(path=TRAINED_MODEL_PATH)"
   ]
  },
  {
   "cell_type": "markdown",
   "id": "b584be22",
   "metadata": {},
   "source": [
    "# Train and evaluate a tensorflow model "
   ]
  },
  {
   "cell_type": "code",
   "execution_count": 4,
   "id": "e085a467",
   "metadata": {},
   "outputs": [],
   "source": [
    "from lips.dataset import Scaler\n",
    "from lips.augmented_simulators.tensorflow_models import TfFullyConnected\n",
    "from lips.augmented_simulators.tensorflow_simulator import TensorflowSimulator"
   ]
  },
  {
   "cell_type": "code",
   "execution_count": null,
   "id": "ff884f8d",
   "metadata": {},
   "outputs": [],
   "source": [
    "params = {\"input_shape\": (benchmark1.train_dataset._size_x,), \"output_size\": benchmark1.train_dataset._size_y}\n",
    "tf_sim = TensorflowSimulator(name=\"tf_fc\",\n",
    "                             model=TfFullyConnected,\n",
    "                             scaler=Scaler,\n",
    "                             log_path=LOG_PATH,\n",
    "                             **params)"
   ]
  },
  {
   "cell_type": "code",
   "execution_count": 6,
   "id": "a9ab0c29",
   "metadata": {},
   "outputs": [
    {
     "data": {
      "text/plain": [
       "{'input_shape': (111,),\n",
       " 'output_size': 40,\n",
       " 'name': 'tf_fc',\n",
       " 'layers': (300, 300, 300, 300),\n",
       " 'activation': 'relu',\n",
       " 'layer': 'linear',\n",
       " 'input_dropout': 0.0,\n",
       " 'dropout': 0.0,\n",
       " 'metrics': ['mae'],\n",
       " 'loss': {'name': 'mse',\n",
       "  'params': {'size_average': None, 'reduce': None, 'reduction': 'mean'}},\n",
       " 'device': 'cpu',\n",
       " 'optimizers': {'name': 'adam', 'params': {'lr': 0.0003}},\n",
       " 'train_batch_size': 128,\n",
       " 'eval_batch_size': 128,\n",
       " 'epochs': 5,\n",
       " 'shuffle': True,\n",
       " 'save_freq': False,\n",
       " 'ckpt_freq': 50}"
      ]
     },
     "execution_count": 6,
     "metadata": {},
     "output_type": "execute_result"
    }
   ],
   "source": [
    "tf_sim.params"
   ]
  },
  {
   "cell_type": "code",
   "execution_count": 7,
   "id": "e09c70f2",
   "metadata": {},
   "outputs": [
    {
     "name": "stdout",
     "output_type": "stream",
     "text": [
      "Model: \"tf_fc_model\"\n",
      "_________________________________________________________________\n",
      " Layer (type)                Output Shape              Param #   \n",
      "=================================================================\n",
      " input (InputLayer)          [(None, 111)]             0         \n",
      "                                                                 \n",
      " input_dropout (Dropout)     (None, 111)               0         \n",
      "                                                                 \n",
      " layer_0 (Dense)             (None, 300)               33600     \n",
      "                                                                 \n",
      " activation_0 (Activation)   (None, 300)               0         \n",
      "                                                                 \n",
      " dropout_0 (Dropout)         (None, 300)               0         \n",
      "                                                                 \n",
      " layer_1 (Dense)             (None, 300)               90300     \n",
      "                                                                 \n",
      " activation_1 (Activation)   (None, 300)               0         \n",
      "                                                                 \n",
      " dropout_1 (Dropout)         (None, 300)               0         \n",
      "                                                                 \n",
      " layer_2 (Dense)             (None, 300)               90300     \n",
      "                                                                 \n",
      " activation_2 (Activation)   (None, 300)               0         \n",
      "                                                                 \n",
      " dropout_2 (Dropout)         (None, 300)               0         \n",
      "                                                                 \n",
      " layer_3 (Dense)             (None, 300)               90300     \n",
      "                                                                 \n",
      " activation_3 (Activation)   (None, 300)               0         \n",
      "                                                                 \n",
      " dropout_3 (Dropout)         (None, 300)               0         \n",
      "                                                                 \n",
      " dense (Dense)               (None, 40)                12040     \n",
      "                                                                 \n",
      "=================================================================\n",
      "Total params: 316,540\n",
      "Trainable params: 316,540\n",
      "Non-trainable params: 0\n",
      "_________________________________________________________________\n"
     ]
    }
   ],
   "source": [
    "tf_sim._model.summary()"
   ]
  },
  {
   "cell_type": "code",
   "execution_count": 8,
   "id": "662e6389",
   "metadata": {},
   "outputs": [
    {
     "name": "stdout",
     "output_type": "stream",
     "text": [
      "Number of parameters : 316540\n"
     ]
    }
   ],
   "source": [
    "print(\"Number of parameters :\", tf_sim.count_parameters())"
   ]
  },
  {
   "cell_type": "code",
   "execution_count": 9,
   "id": "3b290f52",
   "metadata": {},
   "outputs": [
    {
     "name": "stdout",
     "output_type": "stream",
     "text": [
      "Epoch 1/10\n",
      "782/782 [==============================] - 5s 6ms/step - loss: 0.0738 - mae: 0.1360 - val_loss: 0.0102 - val_mae: 0.0679\n",
      "Epoch 2/10\n",
      "782/782 [==============================] - 6s 7ms/step - loss: 0.0056 - mae: 0.0531 - val_loss: 0.0049 - val_mae: 0.0480\n",
      "Epoch 3/10\n",
      "782/782 [==============================] - 8s 10ms/step - loss: 0.0034 - mae: 0.0419 - val_loss: 0.0038 - val_mae: 0.0436\n",
      "Epoch 4/10\n",
      "782/782 [==============================] - 7s 8ms/step - loss: 0.0025 - mae: 0.0358 - val_loss: 0.0029 - val_mae: 0.0380\n",
      "Epoch 5/10\n",
      "782/782 [==============================] - 6s 8ms/step - loss: 0.0020 - mae: 0.0321 - val_loss: 0.0022 - val_mae: 0.0327\n",
      "Epoch 6/10\n",
      "782/782 [==============================] - 6s 7ms/step - loss: 0.0017 - mae: 0.0297 - val_loss: 0.0020 - val_mae: 0.0313\n",
      "Epoch 7/10\n",
      "782/782 [==============================] - 5s 7ms/step - loss: 0.0015 - mae: 0.0280 - val_loss: 0.0018 - val_mae: 0.0301\n",
      "Epoch 8/10\n",
      "782/782 [==============================] - 6s 8ms/step - loss: 0.0013 - mae: 0.0259 - val_loss: 0.0014 - val_mae: 0.0266\n",
      "Epoch 9/10\n",
      "782/782 [==============================] - 6s 7ms/step - loss: 0.0012 - mae: 0.0245 - val_loss: 0.0013 - val_mae: 0.0254\n",
      "Epoch 10/10\n",
      "782/782 [==============================] - 5s 7ms/step - loss: 0.0011 - mae: 0.0241 - val_loss: 0.0011 - val_mae: 0.0237\n"
     ]
    }
   ],
   "source": [
    "history = tf_sim.train(benchmark1.train_dataset, benchmark1.val_dataset, save_path=None, epochs=10)"
   ]
  },
  {
   "cell_type": "markdown",
   "id": "8084cd14",
   "metadata": {},
   "source": [
    "Save a visulaization of the architecture on disk"
   ]
  },
  {
   "cell_type": "code",
   "execution_count": 10,
   "id": "b9c3bd88",
   "metadata": {},
   "outputs": [],
   "source": [
    "tf_sim.plot_model(path=\".\")"
   ]
  },
  {
   "cell_type": "code",
   "execution_count": 11,
   "id": "34f01c03",
   "metadata": {},
   "outputs": [
    {
     "data": {
      "image/png": "[encoded data removed]",
      "text/plain": [
       "<Figure size 1080x360 with 2 Axes>"
      ]
     },
     "metadata": {
      "needs_background": "light"
     },
     "output_type": "display_data"
    }
   ],
   "source": [
    "tf_sim.visualize_convergence()"
   ]
  },
  {
   "cell_type": "code",
   "execution_count": null,
   "id": "2ee615e5",
   "metadata": {},
   "outputs": [],
   "source": [
    "# TODO: log the losses\n",
    "tf_sim_metrics = benchmark1.evaluate_simulator(augmented_simulator=tf_sim,\n",
    "                                               eval_batch_size=128,\n",
    "                                               dataset=\"all\",\n",
    "                                               shuffle=False\n",
    "                                              )"
   ]
  },
  {
   "cell_type": "code",
   "execution_count": 13,
   "id": "dba976ae",
   "metadata": {},
   "outputs": [
    {
     "data": {
      "text/plain": [
       "{'MSE_avg': {'a_or': 24.055461883544922, 'a_ex': 58.6097526550293},\n",
       " 'MAE_avg': {'a_or': 3.150585651397705, 'a_ex': 4.493765354156494},\n",
       " 'mape_90_avg': {'a_or': 0.008634400297121484, 'a_ex': 0.008678767580653179}}"
      ]
     },
     "execution_count": 13,
     "metadata": {},
     "output_type": "execute_result"
    }
   ],
   "source": [
    "tf_sim_metrics[\"test\"][\"ML\"]"
   ]
  },
  {
   "cell_type": "code",
   "execution_count": 14,
   "id": "7d468d96",
   "metadata": {},
   "outputs": [
    {
     "data": {
      "text/plain": [
       "{'MSE_avg': {'a_or': 9323.931640625, 'a_ex': 17878.96484375},\n",
       " 'MAE_avg': {'a_or': 45.976173400878906, 'a_ex': 65.44258117675781},\n",
       " 'mape_90_avg': {'a_or': 0.21105129734636124, 'a_ex': 0.2100863433099883}}"
      ]
     },
     "execution_count": 14,
     "metadata": {},
     "output_type": "execute_result"
    }
   ],
   "source": [
    "tf_sim_metrics[\"test_ood_topo\"][\"ML\"]"
   ]
  },
  {
   "cell_type": "code",
   "execution_count": 15,
   "id": "86b5b307",
   "metadata": {},
   "outputs": [
    {
     "data": {
      "text/plain": [
       "0.27944326400756836"
      ]
     },
     "execution_count": 15,
     "metadata": {},
     "output_type": "execute_result"
    }
   ],
   "source": [
    "tf_sim.predict_time"
   ]
  },
  {
   "cell_type": "markdown",
   "id": "8b2763a8",
   "metadata": {},
   "source": [
    "## Save & Load "
   ]
  },
  {
   "cell_type": "code",
   "execution_count": 16,
   "id": "54a270ac",
   "metadata": {},
   "outputs": [],
   "source": [
    "tf_sim.save(TRAINED_MODEL_PATH)"
   ]
  },
  {
   "cell_type": "markdown",
   "id": "b707a231",
   "metadata": {},
   "source": [
    "Load it"
   ]
  },
  {
   "cell_type": "code",
   "execution_count": null,
   "id": "e79ec5cc",
   "metadata": {},
   "outputs": [],
   "source": [
    "from lips.augmented_simulators.tensorflow_models import TfFullyConnected\n",
    "from lips.augmented_simulators.tensorflow_simulator import TensorflowSimulator\n",
    "from lips.dataset import Scaler\n",
    "\n",
    "params = {\"input_shape\": (benchmark1.train_dataset._size_x,), \"output_size\": benchmark1.train_dataset._size_y}\n",
    "tf_sim_test = TensorflowSimulator(name=\"tf_fc\",\n",
    "                                  model=TfFullyConnected,\n",
    "                                  scaler=Scaler,\n",
    "                                  log_path=LOG_PATH,\n",
    "                                  **params)"
   ]
  },
  {
   "cell_type": "code",
   "execution_count": 5,
   "id": "66fe2662",
   "metadata": {},
   "outputs": [],
   "source": [
    "tf_sim_test.restore(path=TRAINED_MODEL_PATH)"
   ]
  }
 ],
 "metadata": {
  "kernelspec": {
   "display_name": "lips",
   "language": "python",
   "name": "lips"
  },
  "execution": {
   "allow_errors": true,
   "timeout": 300
  },
  "language_info": {
   "codemirror_mode": {
    "name": "ipython",
    "version": 3
   },
   "file_extension": ".py",
   "mimetype": "text/x-python",
   "name": "python",
   "nbconvert_exporter": "python",
   "pygments_lexer": "ipython3",
   "version": "3.8.10"
  }
 },
 "nbformat": 4,
 "nbformat_minor": 5
}
