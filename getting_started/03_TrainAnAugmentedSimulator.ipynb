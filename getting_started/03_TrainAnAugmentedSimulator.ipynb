{
 "cells": [
  {
   "cell_type": "code",
   "execution_count": 1,
   "metadata": {},
   "outputs": [],
   "source": [
    "# for the moment the directory should be set to the parent to be able to use the LIPS package\n",
    "import os\n",
    "os.chdir(os.path.pardir)"
   ]
  },
  {
   "cell_type": "markdown",
   "metadata": {},
   "source": [
    "## TOC:\n",
    "* [Benchmark1](#benchmark1)\n",
    "* [Benchmark2](#benchmark2)\n",
    "* [Benchmark3](#benchmark3)"
   ]
  },
  {
   "cell_type": "markdown",
   "metadata": {},
   "source": [
    "In this notebook you will learn how to create an augmented simulator and how to train it. \n",
    "\n",
    "As always on these notebooks, we use the `Benchmark1` to demonstrate how to perform this task.\n",
    "\n",
    "On the first section, we explain how to use a model that is already available on this reposotiry. The second section is dedicated to the explanation of what is needed to create a different kind of `AugmentedSimulator` with a different Neural Network archiecture with a customized loss etc."
   ]
  },
  {
   "cell_type": "markdown",
   "metadata": {},
   "source": [
    "# Benchmark1 <a class=\"anchor\" id=\"benchmark1\"></a>"
   ]
  },
  {
   "cell_type": "markdown",
   "metadata": {},
   "source": [
    "## Load the benchmark dataset\n",
    "\n",
    "As always the first step is always to load our dataset."
   ]
  },
  {
   "cell_type": "code",
   "execution_count": null,
   "metadata": {},
   "outputs": [],
   "source": [
    "import os\n",
    "from lips.benchmark import PowerGridBenchmark\n",
    "path_benchmark = os.path.join(\"reference_data\")\n",
    "log_path = os.path.abspath(os.path.join(\"lips\",\"logger\",\"logs.log\"))\n",
    "benchmark1 = PowerGridBenchmark(benchmark_name=\"Benchmark1\",\n",
    "                                path_benchmark=path_benchmark,\n",
    "                                load_data_set=True,\n",
    "                                log_path=log_path\n",
    "                               )"
   ]
  },
  {
   "cell_type": "markdown",
   "metadata": {},
   "source": [
    "## Train an available model (Fully Connected)\n",
    "\n",
    "In this section we explain how to tune an available model. We take the example of the `FullyConnectedAS` that is an available fully connected neural network.\n",
    "\n",
    "This section supposes that you already have a \"model\" (for example based on neural networks) that meets the `AugmentedSimulator` interface. If you do not have it already, the next section will cover the main principles.\n",
    "\n",
    "**NB** The creation of the 'augmented_simulator' depends on each type of 'augmented_simulator'. \n",
    "\n",
    "The first step is to create the class you want to use, with the meta parameters you want to test. For this example:"
   ]
  },
  {
   "cell_type": "code",
   "execution_count": null,
   "metadata": {},
   "outputs": [],
   "source": [
    "path_save = os.path.join(\"trained_models\")\n",
    "if not os.path.exists(path_save):\n",
    "    os.mkdir(path_save)\n",
    "\n",
    "from tensorflow.keras.layers import Dense\n",
    "from lips.augmented_simulators import FullyConnectedAS\n",
    "\n",
    "# the three lines bellow might be familiar to the tensorflow users. They tell tensorflow to not take all\n",
    "# the GPU video RAM for the model.\n",
    "import tensorflow as tf\n",
    "physical_devices = tf.config.list_physical_devices('GPU') \n",
    "for el in physical_devices:\n",
    "    tf.config.experimental.set_memory_growth(el, True)\n",
    "\n",
    "fc_simulator = FullyConnectedAS(name=\"FullyConnectedAS_neuripsbenchmark1\",\n",
    "                                # `Benchmark_name` should correspond to one of config sections created earlier\n",
    "                                benchmark_name=\"Benchmark1\",\n",
    "                                # the path of the config file, None uses the default config file\n",
    "                                path_config=None,                                                                \n",
    "                                # `attr_x` represents the variables of the dataset you want to use to predict \n",
    "                                # the output.\n",
    "                                #attr_x=(\"prod_p\", \"prod_v\", \"load_p\", \"load_q\", \"line_status\", \"topo_vect\"),\n",
    "                                # `attr_y` represents the variables of the dataset you want to predict\n",
    "                                # we predict everything needed, you can try to change them if you want, add some \n",
    "                                # others etc.\n",
    "                                #attr_y=(\"a_or\", \"a_ex\"),\n",
    "                                # `sizes_layer` represents the size of each hidden layer in the neural network. The number\n",
    "                                # of layers is determined by the length of this list, for example\n",
    "                                sizes_layer=(300, 300, 300, 300),\n",
    "                                # `lr` is the learning rate\n",
    "                                lr=3e-4, \n",
    "                                # `layer` is the type of keras layer you want to use. We don't recommend to \n",
    "                                # change it\n",
    "                                layer=Dense,\n",
    "                                # `layer_act` is the activation function you want to use after each layer\n",
    "                                layer_act=\"relu\",\n",
    "                                # `loss` is the training loss\n",
    "                                loss=\"mse\",  # loss used to train the model\n",
    "                                # `batch_size` is the size of the batch for training\n",
    "                                batch_size=128,\n",
    "                                # `log_path` where to log the outputs \n",
    "                                log_path=log_path\n",
    "                               )"
   ]
  },
  {
   "cell_type": "markdown",
   "metadata": {},
   "source": [
    "Then you need to train it. For example here we will train it for 200 epochs.\n",
    "\n",
    "**NB** You are responsible to use the correct dataset for training your model ! You can make experiments by training on the `test` set or on the `test_ood_topo` set if you want but we don't recommend you do to so !\n",
    "\n",
    "**NB** This code is generic and should work for all `AugementedSimulator`"
   ]
  },
  {
   "cell_type": "code",
   "execution_count": null,
   "metadata": {},
   "outputs": [],
   "source": [
    "fc_simulator.train(nb_iter=200,\n",
    "                   train_dataset=benchmark1.train_dataset,\n",
    "                   val_dataset=benchmark1.val_dataset)"
   ]
  },
  {
   "cell_type": "code",
   "execution_count": 5,
   "metadata": {},
   "outputs": [
    {
     "data": {
      "image/png": "[encoded data removed]",
      "text/plain": [
       "<Figure size 432x288 with 1 Axes>"
      ]
     },
     "metadata": {
      "needs_background": "light"
     },
     "output_type": "display_data"
    }
   ],
   "source": [
    "# convergence curve\n",
    "from matplotlib import pyplot as plt\n",
    "plt.plot(fc_simulator._model.history.history[\"loss\"], label=\"loss\")\n",
    "plt.plot(fc_simulator._model.history.history[\"val_loss\"], label=\"val_loss\")\n",
    "plt.legend()\n",
    "plt.grid()\n",
    "plt.show()"
   ]
  },
  {
   "cell_type": "markdown",
   "metadata": {},
   "source": [
    "And then you can save it:"
   ]
  },
  {
   "cell_type": "code",
   "execution_count": 15,
   "metadata": {},
   "outputs": [],
   "source": [
    "fc_simulator.save(path_save)\n",
    "fc_simulator.save_metadata(path_save)"
   ]
  },
  {
   "cell_type": "markdown",
   "metadata": {},
   "source": [
    "or load a trained model"
   ]
  },
  {
   "cell_type": "code",
   "execution_count": null,
   "metadata": {},
   "outputs": [],
   "source": [
    "fc_simulator.load_metadata(path_save)\n",
    "fc_simulator.init()\n",
    "fc_simulator.restore(path_save)"
   ]
  },
  {
   "cell_type": "markdown",
   "metadata": {},
   "source": [
    "###  Evaluate the augmented simulator"
   ]
  },
  {
   "cell_type": "markdown",
   "metadata": {},
   "source": [
    "Or evaluate it on the test dataset as in the previous notebook:"
   ]
  },
  {
   "cell_type": "code",
   "execution_count": null,
   "metadata": {},
   "outputs": [],
   "source": [
    "metrics_per_dataset = benchmark1.evaluate_simulator(fc_simulator,\n",
    "                                                    batch_size=128,\n",
    "                                                    dataset=\"all\"\n",
    "                                                   )"
   ]
  },
  {
   "cell_type": "markdown",
   "metadata": {},
   "source": [
    "#### Evaluation results (test set)"
   ]
  },
  {
   "cell_type": "code",
   "execution_count": 6,
   "metadata": {},
   "outputs": [
    {
     "name": "stdout",
     "output_type": "stream",
     "text": [
      "MAPE90     : {'a_or': 0.0036846988704337517, 'a_ex': 0.003613642557877352}\n",
      "MAPE       : {'a_or': 0.007488838702720867, 'a_ex': 0.0074977917104859125}\n",
      "NRMSE_avg  : {'a_or': 0.002171390224248171, 'a_ex': 0.002145729260519147}\n",
      "MAE_avg    : {'a_or': 1.25446355342865, 'a_ex': 1.7196712493896484}\n"
     ]
    }
   ],
   "source": [
    "dataset_name = \"test\"\n",
    "ML_metrics = 0\n",
    "print(\"{:<10} : {}\".format(\"MAPE90\", metrics_per_dataset[dataset_name][ML_metrics][\"mape90\"]))\n",
    "print(\"{:<10} : {}\".format(\"MAPE\", metrics_per_dataset[dataset_name][ML_metrics][\"mape_avg\"]))\n",
    "print(\"{:<10} : {}\".format(\"NRMSE_avg\", metrics_per_dataset[dataset_name][ML_metrics][\"NRMSE_avg\"]))\n",
    "print(\"{:<10} : {}\".format(\"MAE_avg\", metrics_per_dataset[dataset_name][ML_metrics][\"MAE_avg\"]))"
   ]
  },
  {
   "cell_type": "markdown",
   "metadata": {},
   "source": [
    "#### Evaluation results (OOD set)"
   ]
  },
  {
   "cell_type": "code",
   "execution_count": 8,
   "metadata": {},
   "outputs": [
    {
     "name": "stdout",
     "output_type": "stream",
     "text": [
      "MAPE90     : {'a_or': 0.49134532213153514, 'a_ex': 0.49184320518224567}\n",
      "MAPE       : {'a_or': 0.7777106072151719, 'a_ex': 0.7782865198862863}\n",
      "NRMSE_avg  : {'a_or': 0.22724822163581848, 'a_ex': 0.22774150967597961}\n",
      "MAE_avg    : {'a_or': 133.911376953125, 'a_ex': 185.03323364257812}\n"
     ]
    }
   ],
   "source": [
    "dataset_name = \"test_ood_topo\"\n",
    "print(\"{:<10} : {}\".format(\"MAPE90\", metrics_per_dataset[dataset_name][ML_metrics][\"mape90\"]))\n",
    "print(\"{:<10} : {}\".format(\"MAPE\", metrics_per_dataset[dataset_name][ML_metrics][\"mape_avg\"]))\n",
    "print(\"{:<10} : {}\".format(\"NRMSE_avg\", metrics_per_dataset[dataset_name][ML_metrics][\"NRMSE_avg\"]))\n",
    "print(\"{:<10} : {}\".format(\"MAE_avg\", metrics_per_dataset[dataset_name][ML_metrics][\"MAE_avg\"]))"
   ]
  },
  {
   "cell_type": "code",
   "execution_count": 9,
   "metadata": {},
   "outputs": [
    {
     "name": "stdout",
     "output_type": "stream",
     "text": [
      "MAPE90     : {'a_or': 246.6368408203125, 'a_ex': 328.64532470703125}\n"
     ]
    }
   ],
   "source": [
    "dataset_name = \"test_ood_topo\"\n",
    "print(\"{:<10} : {}\".format(\"MAPE90\", metrics_per_dataset[dataset_name][ML_metrics][\"MAE90\"]))"
   ]
  },
  {
   "cell_type": "markdown",
   "metadata": {},
   "source": [
    "Once saved, if you want to reuse it you can do exactly as we did in the previous notebook:\n",
    "```python\n",
    "relaoded_simulator = FullyConnectedAS(name=\"test_FullyConnectedAS\")  # the name should match! The other things are loaded from the directory\n",
    "relaoded_simulator.load_metadata(path_baselines)\n",
    "relaoded_simulator.init()\n",
    "relaoded_simulator.restore(path_baselines)\n",
    "```\n",
    "\n",
    "And you are good to go !"
   ]
  },
  {
   "cell_type": "markdown",
   "metadata": {},
   "source": [
    "## LEAP nets\n",
    "The leap nets allows to take into account the topology in the latent space, and have a more robust generalization performance than a simple fully connected model."
   ]
  },
  {
   "cell_type": "code",
   "execution_count": null,
   "metadata": {},
   "outputs": [],
   "source": [
    "path_save = os.path.join(\"trained_models\")\n",
    "if not os.path.exists(path_save):\n",
    "    os.mkdir(path_save)\n",
    "\n",
    "from tensorflow.keras.layers import Dense\n",
    "from lips.augmented_simulators import LeapNetAS\n",
    "\n",
    "# the three lines bellow might be familiar to the tensorflow users. They tell tensorflow to not take all\n",
    "# the GPU video RAM for the model.\n",
    "import tensorflow as tf\n",
    "physical_devices = tf.config.list_physical_devices('GPU') \n",
    "for el in physical_devices:\n",
    "    tf.config.experimental.set_memory_growth(el, True)"
   ]
  },
  {
   "cell_type": "code",
   "execution_count": 4,
   "metadata": {},
   "outputs": [],
   "source": [
    "leapNet = LeapNetAS(name=\"leapNetAS_baseline\",\n",
    "                    # `Benchmark_name` should correspond to one of config sections created earlier\n",
    "                    benchmark_name=\"Benchmark1\",\n",
    "                    # the path of the config file, None uses the default config file\n",
    "                    path_config=None,       \n",
    "                    # `attr_x` represents the variables of the dataset you want to use to predict \n",
    "                    # the output.\n",
    "                    #attr_x=(\"prod_p\", \"prod_v\", \"load_p\", \"load_q\"),\n",
    "                    # `attr_y` represents the variables of the dataset you want to predict\n",
    "                    # we predict everything needed, you can try to change them if you want, add some \n",
    "                    # others etc.\n",
    "                    #attr_y=(\"a_or\", \"a_ex\"),\n",
    "                    # `lr` is the learning rate\n",
    "                    lr=3e-4, \n",
    "                    # `layer` is the type of keras layer you want to use. We don't recommend to \n",
    "                    # change it\n",
    "                    layer=Dense,\n",
    "                    # `layer_act` is the activation function you want to use after each layer\n",
    "                    layer_act=\"relu\",\n",
    "                    # `loss` is the training loss\n",
    "                    loss=\"mse\",  # loss used to train the model\n",
    "                    # `batch_size` is the size of the batch for training\n",
    "                    batch_size=128,\n",
    "                    # the method used to encode the topology vector\n",
    "                    topo_vect_to_tau=\"all\",\n",
    "                    # `log_path` where to log the outputs \n",
    "                    log_path=log_path\n",
    "                   )"
   ]
  },
  {
   "cell_type": "markdown",
   "metadata": {},
   "source": [
    "### Train the model "
   ]
  },
  {
   "cell_type": "code",
   "execution_count": null,
   "metadata": {},
   "outputs": [],
   "source": [
    "leapNet.train(nb_iter=200,\n",
    "              train_dataset=benchmark1.train_dataset,\n",
    "              val_dataset=benchmark1.val_dataset\n",
    "             )"
   ]
  },
  {
   "cell_type": "code",
   "execution_count": 10,
   "metadata": {},
   "outputs": [
    {
     "data": {
      "image/png": "[encoded data removed]",
      "text/plain": [
       "<Figure size 432x288 with 1 Axes>"
      ]
     },
     "metadata": {
      "needs_background": "light"
     },
     "output_type": "display_data"
    }
   ],
   "source": [
    "# convergence curve\n",
    "from matplotlib import pyplot as plt\n",
    "plt.plot(leapNet._leap_net_model._model.history.history[\"loss\"], label=\"loss\")\n",
    "plt.plot(leapNet._leap_net_model._model.history.history[\"val_loss\"], label=\"val_loss\")\n",
    "plt.legend()\n",
    "plt.grid()\n",
    "plt.show()"
   ]
  },
  {
   "cell_type": "markdown",
   "metadata": {},
   "source": [
    "And then you can save it:"
   ]
  },
  {
   "cell_type": "code",
   "execution_count": 11,
   "metadata": {},
   "outputs": [],
   "source": [
    "leapNet.save(path_save)\n",
    "leapNet.save_metadata(path_save)"
   ]
  },
  {
   "cell_type": "markdown",
   "metadata": {},
   "source": [
    "### Evaluate the model "
   ]
  },
  {
   "cell_type": "code",
   "execution_count": null,
   "metadata": {},
   "outputs": [],
   "source": [
    "leapNet_metrics_per_dataset = benchmark1.evaluate_simulator(leapNet,\n",
    "                                                            batch_size=128,\n",
    "                                                            dataset=\"all\"\n",
    "                                                           )"
   ]
  },
  {
   "cell_type": "markdown",
   "metadata": {},
   "source": [
    "#### Evaluation results (test set)"
   ]
  },
  {
   "cell_type": "code",
   "execution_count": 13,
   "metadata": {},
   "outputs": [
    {
     "name": "stdout",
     "output_type": "stream",
     "text": [
      "MAPE90     : {'a_or': 0.007304894253511589, 'a_ex': 0.00789745218045187}\n",
      "MAPE       : {'a_or': 0.007304894253511589, 'a_ex': 0.00789745218045187}\n",
      "NRMSE_avg  : {'a_or': 0.00418089097365737, 'a_ex': 0.004608687479048967}\n",
      "MAE_avg    : {'a_or': 2.405794620513916, 'a_ex': 4.079007148742676}\n"
     ]
    }
   ],
   "source": [
    "dataset_name = \"test\"\n",
    "ML_metrics = 0\n",
    "print(\"{:<10} : {}\".format(\"MAPE90\", leapNet_metrics_per_dataset[dataset_name][ML_metrics][\"mape90\"]))\n",
    "print(\"{:<10} : {}\".format(\"MAPE\", leapNet_metrics_per_dataset[dataset_name][ML_metrics][\"mape90\"]))\n",
    "print(\"{:<10} : {}\".format(\"NRMSE_avg\", leapNet_metrics_per_dataset[dataset_name][ML_metrics][\"NRMSE_avg\"]))\n",
    "print(\"{:<10} : {}\".format(\"MAE_avg\", leapNet_metrics_per_dataset[dataset_name][ML_metrics][\"MAE_avg\"]))"
   ]
  },
  {
   "cell_type": "markdown",
   "metadata": {},
   "source": [
    "#### Evaluation results (OOD set)"
   ]
  },
  {
   "cell_type": "code",
   "execution_count": 14,
   "metadata": {},
   "outputs": [
    {
     "name": "stdout",
     "output_type": "stream",
     "text": [
      "MAPE90     : {'a_or': 0.5187410728590817, 'a_ex': 0.5220914060649886}\n",
      "MAPE       : {'a_or': 0.9047375334168853, 'a_ex': 0.9056593851351682}\n",
      "NRMSE_avg  : {'a_or': 0.22477559745311737, 'a_ex': 0.22402051091194153}\n",
      "MAE_avg    : {'a_or': 145.4780731201172, 'a_ex': 206.4204864501953}\n"
     ]
    }
   ],
   "source": [
    "dataset_name = \"test_ood_topo\"\n",
    "print(\"{:<10} : {}\".format(\"MAPE90\", leapNet_metrics_per_dataset[dataset_name][ML_metrics][\"mape90\"]))\n",
    "print(\"{:<10} : {}\".format(\"MAPE\", leapNet_metrics_per_dataset[dataset_name][ML_metrics][\"mape_avg\"]))\n",
    "print(\"{:<10} : {}\".format(\"NRMSE_avg\", leapNet_metrics_per_dataset[dataset_name][ML_metrics][\"NRMSE_avg\"]))\n",
    "print(\"{:<10} : {}\".format(\"MAE_avg\", leapNet_metrics_per_dataset[dataset_name][ML_metrics][\"MAE_avg\"]))"
   ]
  },
  {
   "cell_type": "markdown",
   "metadata": {},
   "source": [
    "# Code another type of \"augmented_simulator\"\n",
    "\n",
    "We provide only a single type of augmented simulator as of now. More baselines will be added with, we hope the growth of the community.\n",
    "\n",
    "Coding another type of \"augmented simulator\" is not difficult. Finding one that work well for all the criteria is of course a different challenge.\n",
    "\n",
    "Basically, an augmented simulator should:\n",
    "\n",
    "- inherit from `AugmentedSimulator`\n",
    "- implements the methods `save_metadata` and `load_metadata`\n",
    "- implements the methods `save` and `restore`\n",
    "- implements the method `init` that can for example, create the neural network from its meta parameters\n",
    "- implements the method `train` that will train the augmented simulator for a given number of steps (it is not mandatory to make such function, some `AugmentedSimulator` might not require any training at all)\n",
    "- implements the method `predict` method that will make some predictions and return a dictionnary containing the predictions for all variable types.\n",
    "\n",
    "More information is given on the documentation. And a fully working example is given in the `FullyConnectedAS` class.\n",
    "\n",
    "This is it, nothing more is required."
   ]
  },
  {
   "cell_type": "markdown",
   "metadata": {},
   "source": [
    "# Benchmark2 <a class=\"anchor\" id=\"benchmark2\"></a>"
   ]
  },
  {
   "cell_type": "code",
   "execution_count": 15,
   "metadata": {},
   "outputs": [],
   "source": [
    "import os\n",
    "from lips.benchmark import PowerGridBenchmark\n",
    "path_benchmark = os.path.join(\"reference_data\")\n",
    "log_path = os.path.abspath(os.path.join(\"lips\",\"logger\",\"logs.log\"))\n",
    "benchmark2 = PowerGridBenchmark(benchmark_name=\"Benchmark2\",\n",
    "                                path_benchmark=path_benchmark,\n",
    "                                load_data_set=True,\n",
    "                                log_path=log_path\n",
    "                               )"
   ]
  },
  {
   "cell_type": "markdown",
   "metadata": {},
   "source": [
    "## Fully Connected model"
   ]
  },
  {
   "cell_type": "code",
   "execution_count": 16,
   "metadata": {},
   "outputs": [],
   "source": [
    "path_save = os.path.join(\"trained_models\")\n",
    "if not os.path.exists(path_save):\n",
    "    os.mkdir(path_save)\n",
    "\n",
    "from tensorflow.keras.layers import Dense\n",
    "from lips.augmented_simulators import FullyConnectedAS\n",
    "\n",
    "# the three lines bellow might be familiar to the tensorflow users. They tell tensorflow to not take all\n",
    "# the GPU video RAM for the model.\n",
    "import tensorflow as tf\n",
    "physical_devices = tf.config.list_physical_devices('GPU') \n",
    "for el in physical_devices:\n",
    "    tf.config.experimental.set_memory_growth(el, True)\n",
    "\n",
    "fc_simulator_benchmark2 = FullyConnectedAS(name=\"FullyConnectedAS_benchmark2\",\n",
    "                                           benchmark_name=\"Benchmark2\",\n",
    "                                           path_config=None,                                                                \n",
    "                                           sizes_layer=(300, 300, 300, 300),\n",
    "                                           lr=3e-4, \n",
    "                                           layer=Dense,\n",
    "                                           layer_act=\"relu\",\n",
    "                                           loss=\"mse\",\n",
    "                                           batch_size=128,\n",
    "                                           log_path=log_path\n",
    "                                          )"
   ]
  },
  {
   "cell_type": "code",
   "execution_count": null,
   "metadata": {},
   "outputs": [],
   "source": [
    "fc_simulator_benchmark2.train(nb_iter=200,\n",
    "                              train_dataset=benchmark2.train_dataset,\n",
    "                              val_dataset=benchmark2.val_dataset)"
   ]
  },
  {
   "cell_type": "code",
   "execution_count": 18,
   "metadata": {},
   "outputs": [
    {
     "data": {
      "image/png": "[encoded data removed]",
      "text/plain": [
       "<Figure size 432x288 with 1 Axes>"
      ]
     },
     "metadata": {
      "needs_background": "light"
     },
     "output_type": "display_data"
    }
   ],
   "source": [
    "# convergence curve\n",
    "from matplotlib import pyplot as plt\n",
    "plt.plot(fc_simulator_benchmark2._model.history.history[\"loss\"], label=\"loss\")\n",
    "plt.plot(fc_simulator_benchmark2._model.history.history[\"val_loss\"], label=\"val_loss\")\n",
    "plt.legend()\n",
    "plt.grid()\n",
    "plt.show()"
   ]
  },
  {
   "cell_type": "markdown",
   "metadata": {},
   "source": [
    "And then you can save it:"
   ]
  },
  {
   "cell_type": "code",
   "execution_count": 19,
   "metadata": {},
   "outputs": [],
   "source": [
    "fc_simulator_benchmark2.save(path_save)\n",
    "fc_simulator_benchmark2.save_metadata(path_save)"
   ]
  },
  {
   "cell_type": "markdown",
   "metadata": {},
   "source": [
    "###  Evaluate the augmented simulator"
   ]
  },
  {
   "cell_type": "markdown",
   "metadata": {},
   "source": [
    "Or evaluate it on the test dataset as in the previous notebook:"
   ]
  },
  {
   "cell_type": "code",
   "execution_count": null,
   "metadata": {},
   "outputs": [],
   "source": [
    "fc_b2_metrics_per_dataset = benchmark2.evaluate_simulator(fc_simulator_benchmark2,\n",
    "                                                          batch_size=128,\n",
    "                                                          dataset=\"all\"\n",
    "                                                         )"
   ]
  },
  {
   "cell_type": "markdown",
   "metadata": {},
   "source": [
    "#### Evaluation results (test set)"
   ]
  },
  {
   "cell_type": "code",
   "execution_count": 10,
   "metadata": {},
   "outputs": [
    {
     "ename": "NameError",
     "evalue": "name 'fc_b2_metrics_per_dataset' is not defined",
     "output_type": "error",
     "traceback": [
      "\u001b[0;31m---------------------------------------------------------------------------\u001b[0m",
      "\u001b[0;31mNameError\u001b[0m                                 Traceback (most recent call last)",
      "\u001b[0;32m/tmp/ipykernel_5446/734880922.py\u001b[0m in \u001b[0;36m<module>\u001b[0;34m\u001b[0m\n\u001b[1;32m      1\u001b[0m \u001b[0mdataset_name\u001b[0m \u001b[0;34m=\u001b[0m \u001b[0;34m\"test\"\u001b[0m\u001b[0;34m\u001b[0m\u001b[0;34m\u001b[0m\u001b[0m\n\u001b[1;32m      2\u001b[0m \u001b[0mML_metrics\u001b[0m \u001b[0;34m=\u001b[0m \u001b[0;36m0\u001b[0m\u001b[0;34m\u001b[0m\u001b[0;34m\u001b[0m\u001b[0m\n\u001b[0;32m----> 3\u001b[0;31m \u001b[0mprint\u001b[0m\u001b[0;34m(\u001b[0m\u001b[0;34m\"{:<10} : {}\"\u001b[0m\u001b[0;34m.\u001b[0m\u001b[0mformat\u001b[0m\u001b[0;34m(\u001b[0m\u001b[0;34m\"MAPE90\"\u001b[0m\u001b[0;34m,\u001b[0m \u001b[0mfc_b2_metrics_per_dataset\u001b[0m\u001b[0;34m[\u001b[0m\u001b[0mdataset_name\u001b[0m\u001b[0;34m]\u001b[0m\u001b[0;34m[\u001b[0m\u001b[0mML_metrics\u001b[0m\u001b[0;34m]\u001b[0m\u001b[0;34m[\u001b[0m\u001b[0;34m\"mape90\"\u001b[0m\u001b[0;34m]\u001b[0m\u001b[0;34m)\u001b[0m\u001b[0;34m)\u001b[0m\u001b[0;34m\u001b[0m\u001b[0;34m\u001b[0m\u001b[0m\n\u001b[0m\u001b[1;32m      4\u001b[0m \u001b[0mprint\u001b[0m\u001b[0;34m(\u001b[0m\u001b[0;34m\"{:<10} : {}\"\u001b[0m\u001b[0;34m.\u001b[0m\u001b[0mformat\u001b[0m\u001b[0;34m(\u001b[0m\u001b[0;34m\"MAPE\"\u001b[0m\u001b[0;34m,\u001b[0m \u001b[0mfc_b2_metrics_per_dataset\u001b[0m\u001b[0;34m[\u001b[0m\u001b[0mdataset_name\u001b[0m\u001b[0;34m]\u001b[0m\u001b[0;34m[\u001b[0m\u001b[0mML_metrics\u001b[0m\u001b[0;34m]\u001b[0m\u001b[0;34m[\u001b[0m\u001b[0;34m\"mape_avg\"\u001b[0m\u001b[0;34m]\u001b[0m\u001b[0;34m)\u001b[0m\u001b[0;34m)\u001b[0m\u001b[0;34m\u001b[0m\u001b[0;34m\u001b[0m\u001b[0m\n\u001b[1;32m      5\u001b[0m \u001b[0mprint\u001b[0m\u001b[0;34m(\u001b[0m\u001b[0;34m\"{:<10} : {}\"\u001b[0m\u001b[0;34m.\u001b[0m\u001b[0mformat\u001b[0m\u001b[0;34m(\u001b[0m\u001b[0;34m\"NRMSE_avg\"\u001b[0m\u001b[0;34m,\u001b[0m \u001b[0mfc_b2_metrics_per_dataset\u001b[0m\u001b[0;34m[\u001b[0m\u001b[0mdataset_name\u001b[0m\u001b[0;34m]\u001b[0m\u001b[0;34m[\u001b[0m\u001b[0mML_metrics\u001b[0m\u001b[0;34m]\u001b[0m\u001b[0;34m[\u001b[0m\u001b[0;34m\"NRMSE_avg\"\u001b[0m\u001b[0;34m]\u001b[0m\u001b[0;34m)\u001b[0m\u001b[0;34m)\u001b[0m\u001b[0;34m\u001b[0m\u001b[0;34m\u001b[0m\u001b[0m\n",
      "\u001b[0;31mNameError\u001b[0m: name 'fc_b2_metrics_per_dataset' is not defined"
     ]
    }
   ],
   "source": [
    "dataset_name = \"test\"\n",
    "ML_metrics = 0\n",
    "print(\"{:<10} : {}\".format(\"MAPE90\", fc_b2_metrics_per_dataset[dataset_name][ML_metrics][\"mape90\"]))\n",
    "print(\"{:<10} : {}\".format(\"MAPE\", fc_b2_metrics_per_dataset[dataset_name][ML_metrics][\"mape_avg\"]))\n",
    "print(\"{:<10} : {}\".format(\"NRMSE_avg\", fc_b2_metrics_per_dataset[dataset_name][ML_metrics][\"NRMSE_avg\"]))\n",
    "print(\"{:<10} : {}\".format(\"MAE_avg\", fc_b2_metrics_per_dataset[dataset_name][ML_metrics][\"MAE_avg\"]))"
   ]
  },
  {
   "cell_type": "markdown",
   "metadata": {},
   "source": [
    "#### Evaluation results (OOD set)"
   ]
  },
  {
   "cell_type": "code",
   "execution_count": 22,
   "metadata": {},
   "outputs": [
    {
     "name": "stdout",
     "output_type": "stream",
     "text": [
      "MAPE90     : {'a_or': 0.49284537256946476, 'a_ex': 0.49337871771289465, 'p_or': 0.7320050531283904, 'p_ex': 0.7246586165254219, 'q_or': 1.084355255484176, 'q_ex': 1.0131807425052672, 'v_or': 0.06668068052933186, 'v_ex': 0.06717003251853844}\n",
      "MAPE       : {'a_or': 0.7936752175143977, 'a_ex': 0.8051561091035806, 'p_or': 1.2323162078745304, 'p_ex': 1.2239979491874782, 'q_or': 1.004157290743756, 'q_ex': 1.1002375129247894, 'prod_q': 0.39205302413787096, 'load_v': 0.010514315739886253, 'v_or': 0.06545680301624221, 'v_ex': 0.06608044038963129}\n",
      "NRMSE_avg  : {'a_or': 0.19161993265151978, 'a_ex': 0.19161586463451385, 'p_or': 0.1846400797367096, 'p_ex': 0.18571999669075012, 'q_or': 0.1775209903717041, 'q_ex': 0.1674838364124298, 'prod_q': 0.17315997183322906, 'load_v': 0.12535180151462555, 'v_or': 0.28644752502441406, 'v_ex': 0.2776208221912384}\n",
      "MAE_avg    : {'a_or': 140.25558471679688, 'a_ex': 193.94479370117188, 'p_or': 14.41413688659668, 'p_ex': 14.199621200561523, 'q_or': 5.297982215881348, 'q_ex': 5.688554763793945, 'prod_q': 7.89323616027832, 'load_v': 0.4947063624858856, 'v_or': 9.116484642028809, 'v_ex': 7.024857997894287}\n"
     ]
    }
   ],
   "source": [
    "dataset_name = \"test_ood_topo\"\n",
    "print(\"{:<10} : {}\".format(\"MAPE90\", fc_b2_metrics_per_dataset[dataset_name][ML_metrics][\"mape90\"]))\n",
    "print(\"{:<10} : {}\".format(\"MAPE\", fc_b2_metrics_per_dataset[dataset_name][ML_metrics][\"mape_avg\"]))\n",
    "print(\"{:<10} : {}\".format(\"NRMSE_avg\", fc_b2_metrics_per_dataset[dataset_name][ML_metrics][\"NRMSE_avg\"]))\n",
    "print(\"{:<10} : {}\".format(\"MAE_avg\", fc_b2_metrics_per_dataset[dataset_name][ML_metrics][\"MAE_avg\"]))"
   ]
  },
  {
   "cell_type": "markdown",
   "metadata": {},
   "source": [
    "## LeapNet model"
   ]
  },
  {
   "cell_type": "markdown",
   "metadata": {},
   "source": [
    "# Benchmark3 <a class=\"anchor\" id=\"benchmark3\"></a>"
   ]
  },
  {
   "cell_type": "markdown",
   "metadata": {},
   "source": [
    "## Fully Connected model"
   ]
  },
  {
   "cell_type": "markdown",
   "metadata": {},
   "source": [
    "## LeapNet model"
   ]
  }
 ],
 "metadata": {
  "kernelspec": {
   "display_name": "rte",
   "language": "python",
   "name": "rte"
  },
  "language_info": {
   "codemirror_mode": {
    "name": "ipython",
    "version": 3
   },
   "file_extension": ".py",
   "mimetype": "text/x-python",
   "name": "python",
   "nbconvert_exporter": "python",
   "pygments_lexer": "ipython3",
   "version": "3.8.10"
  }
 },
 "nbformat": 4,
 "nbformat_minor": 4
}
