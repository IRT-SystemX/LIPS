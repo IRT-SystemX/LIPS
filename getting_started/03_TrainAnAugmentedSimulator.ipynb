{
 "cells": [
  {
   "cell_type": "markdown",
   "metadata": {},
   "source": [
    "## TOC:\n",
    "* [Benchmark1](#benchmark1)\n",
    "    * [FullyConnected](#fc_benchmark1)\n",
    "    * [LeapNet](#leapnet_benchmark1)\n",
    "* [Benchmark2](#benchmark2)\n",
    "    * [FullyConnected](#fc_benchmark2)\n",
    "    * [LeapNet](#leapnet_benchmark2)\n",
    "* [Benchmark3](#benchmark3)"
   ]
  },
  {
   "cell_type": "markdown",
   "metadata": {},
   "source": [
    "In this notebook you will learn how to create an augmented simulator and how to train it. \n",
    "\n",
    "As always on these notebooks, we use the `Benchmark1` to demonstrate how to perform this task.\n",
    "\n",
    "On the first section, we explain how to use a model that is already available on this reposotiry. The second section is dedicated to the explanation of what is needed to create a different kind of `AugmentedSimulator` with a different Neural Network archiecture with a customized loss etc."
   ]
  },
  {
   "cell_type": "code",
   "execution_count": null,
   "metadata": {},
   "outputs": [],
   "source": [
    "import pathlib\n",
    "from pprint import pprint"
   ]
  },
  {
   "cell_type": "code",
   "execution_count": null,
   "metadata": {},
   "outputs": [],
   "source": [
    "LIPS_PATH = pathlib.Path().resolve().parent\n",
    "DATA_PATH = LIPS_PATH / \"reference_data\"\n",
    "LOG_PATH = LIPS_PATH / \"lips_logs.log\"\n",
    "CONFIG_PATH = LIPS_PATH / \"lips\" / \"config\" / \"conf.ini\"\n",
    "BASELINES_PATH = LIPS_PATH / \"trained_baselines\""
   ]
  },
  {
   "cell_type": "markdown",
   "metadata": {},
   "source": [
    "# Benchmark1 <a class=\"anchor\" id=\"benchmark1\"></a>"
   ]
  },
  {
   "cell_type": "markdown",
   "metadata": {},
   "source": [
    "## Load the benchmark dataset\n",
    "\n",
    "As always the first step is always to load our dataset."
   ]
  },
  {
   "cell_type": "code",
   "execution_count": 11,
   "metadata": {},
   "outputs": [],
   "source": [
    "from lips.benchmark import PowerGridBenchmark\n",
    "benchmark1 = PowerGridBenchmark(benchmark_name=\"Benchmark1\",\n",
    "                                benchmark_path=DATA_PATH,\n",
    "                                load_data_set=True,\n",
    "                                log_path=LOG_PATH,\n",
    "                                config_path=CONFIG_PATH\n",
    "                               )"
   ]
  },
  {
   "cell_type": "markdown",
   "metadata": {},
   "source": [
    "## Train an available model (Fully Connected) <a class=\"anchor\" id=\"fc_benchmark1\"></a>\n",
    "\n",
    "In this section we explain how to tune an available model. We take the example of the `FullyConnectedAS` that is an available fully connected neural network.\n",
    "\n",
    "This section supposes that you already have a \"model\" (for example based on neural networks) that meets the `AugmentedSimulator` interface. If you do not have it already, the next section will cover the main principles.\n",
    "\n",
    "**NB** The creation of the 'augmented_simulator' depends on each type of 'augmented_simulator'. \n",
    "\n",
    "The first step is to create the class you want to use, with the meta parameters you want to test. For this example:"
   ]
  },
  {
   "cell_type": "code",
   "execution_count": 27,
   "metadata": {},
   "outputs": [],
   "source": [
    "# create a path to save the model\n",
    "SAVE_PATH = LIPS_PATH / \"trained_models\"\n",
    "if not SAVE_PATH.exists():\n",
    "    SAVE_PATH.mkdir(mode=511, parents=False)"
   ]
  },
  {
   "cell_type": "code",
   "execution_count": 28,
   "metadata": {},
   "outputs": [],
   "source": [
    "from tensorflow.keras.layers import Dense\n",
    "from lips.augmented_simulators import FullyConnectedAS\n",
    "\n",
    "# the three lines bellow might be familiar to the tensorflow users. They tell tensorflow to not take all\n",
    "# the GPU video RAM for the model.\n",
    "import tensorflow as tf\n",
    "physical_devices = tf.config.list_physical_devices('GPU') \n",
    "for el in physical_devices:\n",
    "    tf.config.experimental.set_memory_growth(el, True)\n",
    "\n",
    "fc_simulator = FullyConnectedAS(name=\"FullyConnectedAS_benchmark1\",\n",
    "                                # `Benchmark_name` should correspond to one of config sections created earlier\n",
    "                                benchmark_name=\"Benchmark1\",\n",
    "                                # the path of the config file, None uses the default config file\n",
    "                                config_path=CONFIG_PATH,                                                                \n",
    "                                # `attr_x` represents the variables of the dataset you want to use to predict \n",
    "                                # the output.\n",
    "                                #attr_x=(\"prod_p\", \"prod_v\", \"load_p\", \"load_q\", \"line_status\", \"topo_vect\"),\n",
    "                                # `attr_y` represents the variables of the dataset you want to predict\n",
    "                                # we predict everything needed, you can try to change them if you want, add some \n",
    "                                # others etc.\n",
    "                                #attr_y=(\"a_or\", \"a_ex\"),\n",
    "                                # `sizes_layer` represents the size of each hidden layer in the neural network. The number\n",
    "                                # of layers is determined by the length of this list, for example\n",
    "                                sizes_layer=(300, 300, 300, 300),\n",
    "                                # `lr` is the learning rate\n",
    "                                lr=3e-4, \n",
    "                                # `layer` is the type of keras layer you want to use. We don't recommend to \n",
    "                                # change it\n",
    "                                layer=Dense,\n",
    "                                # `layer_act` is the activation function you want to use after each layer\n",
    "                                layer_act=\"relu\",\n",
    "                                # `loss` is the training loss\n",
    "                                loss=\"mse\",  # loss used to train the model\n",
    "                                # `batch_size` is the size of the batch for training\n",
    "                                batch_size=128,\n",
    "                                # `log_path` where to log the outputs \n",
    "                                log_path=LOG_PATH\n",
    "                               )"
   ]
  },
  {
   "cell_type": "markdown",
   "metadata": {},
   "source": [
    "Then you need to train it. For example here we will train it for 200 epochs.\n",
    "\n",
    "**NB** You are responsible to use the correct dataset for training your model ! You can make experiments by training on the `test` set or on the `test_ood_topo` set if you want but we don't recommend you do to so !\n",
    "\n",
    "**NB** This code is generic and should work for all `AugementedSimulator`"
   ]
  },
  {
   "cell_type": "code",
   "execution_count": null,
   "metadata": {},
   "outputs": [],
   "source": [
    "history_fc_bench1 = fc_simulator.train(nb_iter=50,\n",
    "                                       train_dataset=benchmark1.train_dataset,\n",
    "                                       val_dataset=benchmark1.val_dataset)"
   ]
  },
  {
   "cell_type": "code",
   "execution_count": 31,
   "metadata": {},
   "outputs": [
    {
     "data": {
      "image/png": "[encoded data removed]",
      "text/plain": [
       "<Figure size 432x288 with 1 Axes>"
      ]
     },
     "metadata": {
      "needs_background": "light"
     },
     "output_type": "display_data"
    }
   ],
   "source": [
    "# convergence curve\n",
    "from matplotlib import pyplot as plt\n",
    "plt.plot(history_fc_bench1.history[\"loss\"], label=\"loss\")\n",
    "plt.plot(history_fc_bench1.history[\"val_loss\"], label=\"val_loss\")\n",
    "plt.legend()\n",
    "plt.grid()\n",
    "plt.show()"
   ]
  },
  {
   "cell_type": "markdown",
   "metadata": {},
   "source": [
    "And then you can save it:"
   ]
  },
  {
   "cell_type": "code",
   "execution_count": 32,
   "metadata": {},
   "outputs": [],
   "source": [
    "fc_simulator.save(SAVE_PATH)\n",
    "fc_simulator.save_metadata(SAVE_PATH)"
   ]
  },
  {
   "cell_type": "markdown",
   "metadata": {},
   "source": [
    "or load a trained model"
   ]
  },
  {
   "cell_type": "code",
   "execution_count": null,
   "metadata": {},
   "outputs": [],
   "source": [
    "fc_simulator.load_metadata(SAVE_PATH)\n",
    "fc_simulator.init()\n",
    "fc_simulator.restore(SAVE_PATH)"
   ]
  },
  {
   "cell_type": "markdown",
   "metadata": {},
   "source": [
    "###  Evaluate the augmented simulator"
   ]
  },
  {
   "cell_type": "markdown",
   "metadata": {},
   "source": [
    "Or evaluate it on the test dataset as in the previous notebook:"
   ]
  },
  {
   "cell_type": "code",
   "execution_count": 33,
   "metadata": {},
   "outputs": [],
   "source": [
    "fc_b1_metrics_per_dataset = benchmark1.evaluate_simulator(augmented_simulator=fc_simulator,\n",
    "                                                          batch_size=128,\n",
    "                                                          dataset=\"all\"\n",
    "                                                         )"
   ]
  },
  {
   "cell_type": "markdown",
   "metadata": {},
   "source": [
    "#### Evaluation results (test sets)"
   ]
  },
  {
   "cell_type": "markdown",
   "metadata": {},
   "source": [
    "##### ML metrics"
   ]
  },
  {
   "cell_type": "code",
   "execution_count": 34,
   "metadata": {},
   "outputs": [
    {
     "name": "stdout",
     "output_type": "stream",
     "text": [
      "LEAPNet Augmented Simulator\n",
      "Dataset : test\n",
      "mape_90_avg  : {'a_or': 0.006121418087530767, 'a_ex': 0.005916925688362447}\n",
      "MSE_avg      : {'a_or': 8.708431243896484, 'a_ex': 19.78342628479004}\n",
      "MAE_avg      : {'a_or': 1.954541563987732, 'a_ex': 2.702589511871338}\n"
     ]
    }
   ],
   "source": [
    "ML_metrics = \"ML\"\n",
    "print(\"LEAPNet Augmented Simulator\")\n",
    "dataset_name = \"test\"\n",
    "print(f\"Dataset : {dataset_name}\")\n",
    "print(\"{:<12} : {}\".format(\"mape_90_avg\", fc_b1_metrics_per_dataset[dataset_name][ML_metrics][\"mape_90_avg\"]))\n",
    "print(\"{:<12} : {}\".format(\"MSE_avg\", fc_b1_metrics_per_dataset[dataset_name][ML_metrics][\"MSE_avg\"]))\n",
    "print(\"{:<12} : {}\".format(\"MAE_avg\", fc_b1_metrics_per_dataset[dataset_name][ML_metrics][\"MAE_avg\"]))"
   ]
  },
  {
   "cell_type": "markdown",
   "metadata": {},
   "source": [
    "##### Physics"
   ]
  },
  {
   "cell_type": "code",
   "execution_count": 36,
   "metadata": {},
   "outputs": [
    {
     "name": "stdout",
     "output_type": "stream",
     "text": [
      "Dataset :  test\n",
      "2.36% of currents at the origin side of power lines violate the current positivity.\n"
     ]
    }
   ],
   "source": [
    "physic_compliances = \"Physics\"\n",
    "dataset_name = \"test\"\n",
    "current_violation = fc_b1_metrics_per_dataset[dataset_name][physic_compliances][\"CURRENT_POS\"][\"a_or\"][\"Violation_proportion\"]\n",
    "print(\"Dataset : \", dataset_name)\n",
    "print(\"{:.2f}% of currents at the origin side of power lines violate the current positivity.\".format(current_violation*100))"
   ]
  },
  {
   "cell_type": "markdown",
   "metadata": {},
   "source": [
    "##### OOD Generalization"
   ]
  },
  {
   "cell_type": "code",
   "execution_count": 38,
   "metadata": {},
   "outputs": [
    {
     "name": "stdout",
     "output_type": "stream",
     "text": [
      "Dataset : test_ood_topo\n",
      "\n",
      "ML Metrics\n",
      "mape_90_avg  : {'a_or': 0.19030057536010875, 'a_ex': 0.1903028645846298}\n",
      "MSE_avg      : {'a_or': 8232.8876953125, 'a_ex': 14364.0029296875}\n",
      "MAE_avg      : {'a_or': 41.331478118896484, 'a_ex': 57.12401580810547}\n",
      "\n",
      "\n",
      "Physics\n",
      "Dataset :  test_ood_topo\n",
      "2.13% of currents at the origin side of power lines violate the current positivity.\n"
     ]
    }
   ],
   "source": [
    "dataset_name = \"test_ood_topo\"\n",
    "print(f\"Dataset : {dataset_name}\\n\")\n",
    "print(\"ML Metrics\")\n",
    "print(\"{:<12} : {}\".format(\"mape_90_avg\", fc_b1_metrics_per_dataset[dataset_name][ML_metrics][\"mape_90_avg\"]))\n",
    "print(\"{:<12} : {}\".format(\"MSE_avg\", fc_b1_metrics_per_dataset[dataset_name][ML_metrics][\"MSE_avg\"]))\n",
    "print(\"{:<12} : {}\".format(\"MAE_avg\", fc_b1_metrics_per_dataset[dataset_name][ML_metrics][\"MAE_avg\"]))\n",
    "print(\"\\n\")\n",
    "print(\"Physics\")\n",
    "current_violation = fc_b1_metrics_per_dataset[dataset_name][physic_compliances][\"CURRENT_POS\"][\"a_or\"][\"Violation_proportion\"]\n",
    "print(\"Dataset : \", dataset_name)\n",
    "print(\"{:.2f}% of currents at the origin side of power lines violate the current positivity.\".format(current_violation*100))"
   ]
  },
  {
   "cell_type": "markdown",
   "metadata": {},
   "source": [
    "##### Industrial Readiness"
   ]
  },
  {
   "cell_type": "code",
   "execution_count": 39,
   "metadata": {},
   "outputs": [
    {
     "name": "stdout",
     "output_type": "stream",
     "text": [
      "Inference time for LeapNet architecture is : 0.44 seconds\n"
     ]
    }
   ],
   "source": [
    "print(\"Inference time for LeapNet architecture is : {:.2f} seconds\".format(fc_simulator.predict_time))"
   ]
  },
  {
   "cell_type": "markdown",
   "metadata": {},
   "source": [
    "Once saved, if you want to reuse it you can do exactly as we did in the previous notebook:\n",
    "```python\n",
    "relaoded_simulator = FullyConnectedAS(name=\"test_FullyConnectedAS\")  # the name should match! The other things are loaded from the directory\n",
    "relaoded_simulator.load_metadata(path_baselines)\n",
    "relaoded_simulator.init()\n",
    "relaoded_simulator.restore(path_baselines)\n",
    "```\n",
    "\n",
    "And you are good to go !"
   ]
  },
  {
   "cell_type": "markdown",
   "metadata": {},
   "source": [
    "## LEAP nets <a class=\"anchor\" id=\"leapnet_benchmark1\"></a>\n",
    "The leap nets allows to take into account the topology in the latent space, and have a more robust generalization performance than a simple fully connected model."
   ]
  },
  {
   "cell_type": "code",
   "execution_count": 13,
   "metadata": {},
   "outputs": [],
   "source": [
    "from tensorflow.keras.layers import Dense\n",
    "from lips.augmented_simulators import LeapNetAS\n",
    "\n",
    "# the three lines bellow might be familiar to the tensorflow users. They tell tensorflow to not take all\n",
    "# the GPU video RAM for the model.\n",
    "import tensorflow as tf\n",
    "physical_devices = tf.config.list_physical_devices('GPU') \n",
    "for el in physical_devices:\n",
    "    tf.config.experimental.set_memory_growth(el, True)"
   ]
  },
  {
   "cell_type": "code",
   "execution_count": 14,
   "metadata": {},
   "outputs": [],
   "source": [
    "leapNet = LeapNetAS(name=\"LeapNet_benchmark1\",\n",
    "                    # `Benchmark_name` should correspond to one of config sections created earlier\n",
    "                    benchmark_name=\"Benchmark1\",\n",
    "                    # the path of the config file, None uses the default config file\n",
    "                    config_path=CONFIG_PATH,       \n",
    "                    # `attr_x` represents the variables of the dataset you want to use to predict \n",
    "                    # the output.\n",
    "                    #attr_x=(\"prod_p\", \"prod_v\", \"load_p\", \"load_q\"),\n",
    "                    # `attr_y` represents the variables of the dataset you want to predict\n",
    "                    # we predict everything needed, you can try to change them if you want, add some \n",
    "                    # others etc.\n",
    "                    #attr_y=(\"a_or\", \"a_ex\"),\n",
    "                    # `lr` is the learning rate\n",
    "                    lr=3e-4, \n",
    "                    # `layer` is the type of keras layer you want to use. We don't recommend to \n",
    "                    # change it\n",
    "                    layer=Dense,\n",
    "                    # `layer_act` is the activation function you want to use after each layer\n",
    "                    layer_act=\"relu\",\n",
    "                    # `loss` is the training loss\n",
    "                    loss=\"mse\",  # loss used to train the model\n",
    "                    # `batch_size` is the size of the batch for training\n",
    "                    batch_size=128,\n",
    "                    # the method used to encode the topology vector\n",
    "                    topo_vect_to_tau=\"all\",\n",
    "                    # `log_path` where to log the outputs \n",
    "                    log_path=LOG_PATH\n",
    "                   )"
   ]
  },
  {
   "cell_type": "markdown",
   "metadata": {},
   "source": [
    "### Train the model "
   ]
  },
  {
   "cell_type": "code",
   "execution_count": null,
   "metadata": {},
   "outputs": [],
   "source": [
    "history_leap_bench1 = leapNet.train(nb_iter=50,\n",
    "                                    train_dataset=benchmark1.train_dataset,\n",
    "                                    val_dataset=benchmark1.val_dataset\n",
    "                                   )"
   ]
  },
  {
   "cell_type": "code",
   "execution_count": 17,
   "metadata": {},
   "outputs": [
    {
     "data": {
      "image/png": "[encoded data removed]",
      "text/plain": [
       "<Figure size 432x288 with 1 Axes>"
      ]
     },
     "metadata": {
      "needs_background": "light"
     },
     "output_type": "display_data"
    }
   ],
   "source": [
    "# convergence curve\n",
    "from matplotlib import pyplot as plt\n",
    "plt.plot(history_leap_bench1.history[\"loss\"], label=\"loss\")\n",
    "plt.plot(history_leap_bench1.history[\"val_loss\"], label=\"val_loss\")\n",
    "plt.legend()\n",
    "plt.grid()\n",
    "plt.show()"
   ]
  },
  {
   "cell_type": "markdown",
   "metadata": {},
   "source": [
    "And then you can save it:"
   ]
  },
  {
   "cell_type": "code",
   "execution_count": 18,
   "metadata": {},
   "outputs": [],
   "source": [
    "leapNet.save(SAVE_PATH)\n",
    "leapNet.save_metadata(SAVE_PATH)"
   ]
  },
  {
   "cell_type": "markdown",
   "metadata": {},
   "source": [
    "### Evaluate the model "
   ]
  },
  {
   "cell_type": "code",
   "execution_count": null,
   "metadata": {},
   "outputs": [],
   "source": [
    "leap_b1_metrics_per_dataset = benchmark1.evaluate_simulator(augmented_simulator=leapNet,\n",
    "                                                            batch_size=128,\n",
    "                                                            dataset=\"all\"\n",
    "                                                           )"
   ]
  },
  {
   "cell_type": "markdown",
   "metadata": {},
   "source": [
    "#### Evaluation results (test sets)"
   ]
  },
  {
   "cell_type": "markdown",
   "metadata": {},
   "source": [
    "##### ML metrics"
   ]
  },
  {
   "cell_type": "code",
   "execution_count": 23,
   "metadata": {},
   "outputs": [
    {
     "name": "stdout",
     "output_type": "stream",
     "text": [
      "LEAPNet Augmented Simulator\n",
      "Dataset : test\n",
      "mape_90_avg  : {'a_or': 0.012085480894422388, 'a_ex': 0.011387714614682642}\n",
      "MSE_avg      : {'a_or': 58.526611328125, 'a_ex': 118.0520248413086}\n",
      "MAE_avg      : {'a_or': 4.184006214141846, 'a_ex': 5.753573417663574}\n"
     ]
    }
   ],
   "source": [
    "ML_metrics = \"ML\"\n",
    "print(\"LEAPNet Augmented Simulator\")\n",
    "dataset_name = \"test\"\n",
    "print(f\"Dataset : {dataset_name}\")\n",
    "print(\"{:<12} : {}\".format(\"mape_90_avg\", leap_b1_metrics_per_dataset[dataset_name][ML_metrics][\"mape_90_avg\"]))\n",
    "print(\"{:<12} : {}\".format(\"MSE_avg\", leap_b1_metrics_per_dataset[dataset_name][ML_metrics][\"MSE_avg\"]))\n",
    "print(\"{:<12} : {}\".format(\"MAE_avg\", leap_b1_metrics_per_dataset[dataset_name][ML_metrics][\"MAE_avg\"]))"
   ]
  },
  {
   "cell_type": "markdown",
   "metadata": {},
   "source": [
    "##### Physics"
   ]
  },
  {
   "cell_type": "code",
   "execution_count": 40,
   "metadata": {},
   "outputs": [
    {
     "name": "stdout",
     "output_type": "stream",
     "text": [
      "Dataset :  test\n",
      "0.06% of currents at the origin side of power lines violate the current positivity.\n"
     ]
    }
   ],
   "source": [
    "physic_compliances = \"Physics\"\n",
    "dataset_name = \"test\"\n",
    "current_violation = leap_b1_metrics_per_dataset[dataset_name][physic_compliances][\"CURRENT_POS\"][\"a_or\"][\"Violation_proportion\"]\n",
    "print(\"Dataset : \", dataset_name)\n",
    "print(\"{:.2f}% of currents at the origin side of power lines violate the current positivity.\".format(current_violation*100))"
   ]
  },
  {
   "cell_type": "markdown",
   "metadata": {},
   "source": [
    "##### OOD Generalization"
   ]
  },
  {
   "cell_type": "code",
   "execution_count": 41,
   "metadata": {},
   "outputs": [
    {
     "name": "stdout",
     "output_type": "stream",
     "text": [
      "Dataset : test_ood_topo\n",
      "\n",
      "ML Metrics\n",
      "mape_90_avg  : {'a_or': 0.13295766620053318, 'a_ex': 0.13181410508613017}\n",
      "MSE_avg      : {'a_or': 6422.44970703125, 'a_ex': 10373.875}\n",
      "MAE_avg      : {'a_or': 31.142993927001953, 'a_ex': 43.29436492919922}\n",
      "\n",
      "\n",
      "Physics\n",
      "Dataset :  test_ood_topo\n",
      "0.42% of currents at the origin side of power lines violate the current positivity.\n"
     ]
    }
   ],
   "source": [
    "dataset_name = \"test_ood_topo\"\n",
    "print(f\"Dataset : {dataset_name}\\n\")\n",
    "print(\"ML Metrics\")\n",
    "print(\"{:<12} : {}\".format(\"mape_90_avg\", leap_b1_metrics_per_dataset[dataset_name][ML_metrics][\"mape_90_avg\"]))\n",
    "print(\"{:<12} : {}\".format(\"MSE_avg\", leap_b1_metrics_per_dataset[dataset_name][ML_metrics][\"MSE_avg\"]))\n",
    "print(\"{:<12} : {}\".format(\"MAE_avg\", leap_b1_metrics_per_dataset[dataset_name][ML_metrics][\"MAE_avg\"]))\n",
    "print(\"\\n\")\n",
    "print(\"Physics\")\n",
    "current_violation = leap_b1_metrics_per_dataset[dataset_name][physic_compliances][\"CURRENT_POS\"][\"a_or\"][\"Violation_proportion\"]\n",
    "print(\"Dataset : \", dataset_name)\n",
    "print(\"{:.2f}% of currents at the origin side of power lines violate the current positivity.\".format(current_violation*100))"
   ]
  },
  {
   "cell_type": "markdown",
   "metadata": {},
   "source": [
    "##### Industrial Readiness"
   ]
  },
  {
   "cell_type": "code",
   "execution_count": 26,
   "metadata": {},
   "outputs": [
    {
     "name": "stdout",
     "output_type": "stream",
     "text": [
      "Inference time for LeapNet architecture is : 0.55 seconds\n"
     ]
    }
   ],
   "source": [
    "print(\"Inference time for LeapNet architecture is : {:.2f} seconds\".format(leapNet._predict_time))"
   ]
  },
  {
   "cell_type": "markdown",
   "metadata": {},
   "source": [
    "# Code another type of \"augmented_simulator\"\n",
    "\n",
    "We provide only a single type of augmented simulator as of now. More baselines will be added with, we hope the growth of the community.\n",
    "\n",
    "Coding another type of \"augmented simulator\" is not difficult. Finding one that work well for all the criteria is of course a different challenge.\n",
    "\n",
    "Basically, an augmented simulator should:\n",
    "\n",
    "- inherit from `AugmentedSimulator`\n",
    "- implements the methods `save_metadata` and `load_metadata`\n",
    "- implements the methods `save` and `restore`\n",
    "- implements the method `init` that can for example, create the neural network from its meta parameters\n",
    "- implements the method `train` that will train the augmented simulator for a given number of steps (it is not mandatory to make such function, some `AugmentedSimulator` might not require any training at all)\n",
    "- implements the method `predict` method that will make some predictions and return a dictionnary containing the predictions for all variable types.\n",
    "\n",
    "More information is given on the documentation. And a fully working example is given in the `FullyConnectedAS` class.\n",
    "\n",
    "This is it, nothing more is required."
   ]
  },
  {
   "cell_type": "markdown",
   "metadata": {},
   "source": [
    "# Benchmark2 <a class=\"anchor\" id=\"benchmark2\"></a>"
   ]
  },
  {
   "cell_type": "code",
   "execution_count": null,
   "metadata": {},
   "outputs": [],
   "source": [
    "from lips.benchmark import PowerGridBenchmark\n",
    "benchmark2 = PowerGridBenchmark(benchmark_name=\"Benchmark2\",\n",
    "                                benchmark_path=DATA_PATH,\n",
    "                                load_data_set=True,\n",
    "                                log_path=LOG_PATH,\n",
    "                                config_path=CONFIG_PATH\n",
    "                               )"
   ]
  },
  {
   "cell_type": "code",
   "execution_count": null,
   "metadata": {},
   "outputs": [],
   "source": [
    "print(benchmark2.config.get_option(\"attr_y\"))"
   ]
  },
  {
   "cell_type": "code",
   "execution_count": null,
   "metadata": {},
   "outputs": [],
   "source": [
    "pprint(benchmark2.config.get_option(\"eval_dict\"))"
   ]
  },
  {
   "cell_type": "markdown",
   "metadata": {},
   "source": [
    "## Fully Connected model <a class=\"anchor\" id=\"fc_benchmark2\"></a>"
   ]
  },
  {
   "cell_type": "code",
   "execution_count": null,
   "metadata": {},
   "outputs": [],
   "source": [
    "from tensorflow.keras.layers import Dense\n",
    "from lips.augmented_simulators import FullyConnectedAS\n",
    "\n",
    "# the three lines bellow might be familiar to the tensorflow users. They tell tensorflow to not take all\n",
    "# the GPU video RAM for the model.\n",
    "import tensorflow as tf\n",
    "physical_devices = tf.config.list_physical_devices('GPU') \n",
    "for el in physical_devices:\n",
    "    tf.config.experimental.set_memory_growth(el, True)\n",
    "\n",
    "fc_simulator_benchmark2 = FullyConnectedAS(name=\"FullyConnectedAS_benchmark2\",\n",
    "                                           benchmark_name=\"Benchmark2\",\n",
    "                                           config_path=CONFIG_PATH,                                                                \n",
    "                                           sizes_layer=(300, 300, 300, 300),\n",
    "                                           lr=3e-4, \n",
    "                                           layer=Dense,\n",
    "                                           layer_act=\"relu\",\n",
    "                                           loss=\"mse\",\n",
    "                                           batch_size=128,\n",
    "                                           log_path=LOG_PATH\n",
    "                                          )"
   ]
  },
  {
   "cell_type": "code",
   "execution_count": null,
   "metadata": {},
   "outputs": [],
   "source": [
    "history_fc_bench2 = fc_simulator_benchmark2.train(nb_iter=50,\n",
    "                                                  train_dataset=benchmark2.train_dataset,\n",
    "                                                  val_dataset=benchmark2.val_dataset)"
   ]
  },
  {
   "cell_type": "code",
   "execution_count": null,
   "metadata": {},
   "outputs": [],
   "source": [
    "# convergence curve\n",
    "from matplotlib import pyplot as plt\n",
    "plt.plot(history_fc_bench2.history[\"loss\"], label=\"loss\")\n",
    "plt.plot(history_fc_bench2.history[\"val_loss\"], label=\"val_loss\")\n",
    "plt.legend()\n",
    "plt.grid()\n",
    "plt.show()"
   ]
  },
  {
   "cell_type": "markdown",
   "metadata": {},
   "source": [
    "And then you can save it:"
   ]
  },
  {
   "cell_type": "code",
   "execution_count": null,
   "metadata": {},
   "outputs": [],
   "source": [
    "fc_simulator_benchmark2.save(SAVE_PATH)\n",
    "fc_simulator_benchmark2.save_metadata(SAVE_PATH)"
   ]
  },
  {
   "cell_type": "markdown",
   "metadata": {},
   "source": [
    "or load it from file:"
   ]
  },
  {
   "cell_type": "code",
   "execution_count": null,
   "metadata": {},
   "outputs": [],
   "source": [
    "SAVE_PATH"
   ]
  },
  {
   "cell_type": "code",
   "execution_count": null,
   "metadata": {},
   "outputs": [],
   "source": [
    "fc_simulator_benchmark2.load_metadata(SAVE_PATH)\n",
    "fc_simulator_benchmark2.init()\n",
    "fc_simulator_benchmark2.restore(SAVE_PATH)"
   ]
  },
  {
   "cell_type": "markdown",
   "metadata": {},
   "source": [
    "###  Evaluate the augmented simulator"
   ]
  },
  {
   "cell_type": "markdown",
   "metadata": {},
   "source": [
    "Or evaluate it on the test dataset as in the previous notebook:"
   ]
  },
  {
   "cell_type": "code",
   "execution_count": null,
   "metadata": {},
   "outputs": [],
   "source": [
    "fc_b2_metrics_per_dataset = benchmark2.evaluate_simulator(augmented_simulator=fc_simulator_benchmark2,\n",
    "                                                          batch_size=128,\n",
    "                                                          dataset=\"all\"\n",
    "                                                         )"
   ]
  },
  {
   "cell_type": "markdown",
   "metadata": {},
   "source": [
    "#### Evaluation results (test sets)"
   ]
  },
  {
   "cell_type": "markdown",
   "metadata": {},
   "source": [
    "##### ML metrics"
   ]
  },
  {
   "cell_type": "code",
   "execution_count": null,
   "metadata": {},
   "outputs": [],
   "source": [
    "ML_metrics = \"ML\"\n",
    "print(\"Fully Connected Augmented Simulator\")\n",
    "for dataset_name in (\"test\", \"test_ood_topo\"):\n",
    "    print(\"\\n\")\n",
    "    print(f\"Dataset : {dataset_name}\")\n",
    "    print(\"{:<12} : {}\".format(\"mape_90_avg\", fc_b2_metrics_per_dataset[dataset_name][ML_metrics][\"mape_90_avg\"]))\n",
    "    print(\"{:<12} : {}\".format(\"MSE_avg\", fc_b2_metrics_per_dataset[dataset_name][ML_metrics][\"MSE_avg\"]))\n",
    "    print(\"{:<12} : {}\".format(\"MAE_avg\", fc_b2_metrics_per_dataset[dataset_name][ML_metrics][\"MAE_avg\"]))"
   ]
  },
  {
   "cell_type": "markdown",
   "metadata": {},
   "source": [
    "##### Physics"
   ]
  },
  {
   "cell_type": "code",
   "execution_count": null,
   "metadata": {},
   "outputs": [],
   "source": [
    "physic_compliances = \"Physics\"\n",
    "for dataset_name in (\"test\", \"test_ood_topo\"):\n",
    "    current_violation = fc_b2_metrics_per_dataset[dataset_name][physic_compliances][\"CURRENT_POS\"][\"a_or\"][\"Violation_proportion\"]\n",
    "    print(\"Dataset : \", dataset_name)\n",
    "    print(\"{:.2f}% of currents at the origin side of power lines violate the current positivity.\".format(current_violation*100))"
   ]
  },
  {
   "cell_type": "code",
   "execution_count": null,
   "metadata": {},
   "outputs": [],
   "source": [
    "fc_b2_metrics_per_dataset[dataset_name][physic_compliances].keys()"
   ]
  },
  {
   "cell_type": "code",
   "execution_count": null,
   "metadata": {},
   "outputs": [],
   "source": [
    "for dataset_name in (\"test\", \"test_ood_topo\"):\n",
    "    current_violation = fc_b2_metrics_per_dataset[dataset_name][physic_compliances][\"VOLTAGE_POS\"][\"v_or\"][\"Violation_proportion\"]\n",
    "    print(\"Dataset : \", dataset_name)\n",
    "    print(\"{:.2f}% of voltages at the origin side of power lines violate the voltage positivity.\".format(current_violation*100))"
   ]
  },
  {
   "cell_type": "code",
   "execution_count": null,
   "metadata": {},
   "outputs": [],
   "source": [
    "for dataset_name in (\"test\", \"test_ood_topo\"):\n",
    "    current_violation = fc_b2_metrics_per_dataset[dataset_name][physic_compliances][\"LOSS_POS\"][\"violation_proportion\"]\n",
    "    print(\"Dataset : \", dataset_name)\n",
    "    print(\"{:.2f}% of elements violates loss positivity.\".format(current_violation*100))"
   ]
  },
  {
   "cell_type": "code",
   "execution_count": null,
   "metadata": {},
   "outputs": [],
   "source": [
    "for dataset_name in (\"test\", \"test_ood_topo\"):\n",
    "    if \"violation_proportion\" in fc_b2_metrics_per_dataset[dataset_name][physic_compliances][\"DISC_LINES\"].keys():\n",
    "        current_violation = fc_b2_metrics_per_dataset[dataset_name][physic_compliances][\"DISC_LINES\"][\"violation_proportion\"]\n",
    "        print(\"Dataset : \", dataset_name)\n",
    "        print(\"{:.2f}% of elements present a value in the case of disconnected lines.\".format(current_violation*100))\n",
    "    else:\n",
    "        print(\"No violation in the case of disconnected lines\")"
   ]
  },
  {
   "cell_type": "markdown",
   "metadata": {},
   "source": [
    "## LeapNet model <a class=\"anchor\" id=\"leapnet_benchmark2\"></a>"
   ]
  },
  {
   "cell_type": "markdown",
   "metadata": {},
   "source": [
    "# Benchmark3 <a class=\"anchor\" id=\"benchmark3\"></a>"
   ]
  },
  {
   "cell_type": "markdown",
   "metadata": {},
   "source": [
    "## Fully Connected model <a class=\"anchor\" id=\"fc_benchmark3\"></a>"
   ]
  },
  {
   "cell_type": "markdown",
   "metadata": {},
   "source": [
    "## LeapNet model <a class=\"anchor\" id=\"leapnet_benchmark3\"></a>"
   ]
  }
 ],
 "metadata": {
  "kernelspec": {
   "display_name": "lips_gitlab",
   "language": "python",
   "name": "lips_gitlab"
  },
  "language_info": {
   "codemirror_mode": {
    "name": "ipython",
    "version": 3
   },
   "file_extension": ".py",
   "mimetype": "text/x-python",
   "name": "python",
   "nbconvert_exporter": "python",
   "pygments_lexer": "ipython3",
   "version": "3.8.10"
  }
 },
 "nbformat": 4,
 "nbformat_minor": 4
}
