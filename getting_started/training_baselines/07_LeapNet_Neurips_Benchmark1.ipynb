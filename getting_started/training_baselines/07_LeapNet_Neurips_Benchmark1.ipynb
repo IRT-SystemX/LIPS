{
 "cells": [
  {
   "cell_type": "code",
   "execution_count": 1,
   "id": "ab14d758",
   "metadata": {},
   "outputs": [],
   "source": [
    "import os\n",
    "import sys\n",
    "import pathlib\n",
    "import warnings\n",
    "import numpy as np\n",
    "import pandas as pd\n",
    "from pprint import pprint\n",
    "import tensorflow as tf\n",
    "from lips.benchmark.powergridBenchmark import PowerGridBenchmark\n",
    "from lips.augmented_simulators.tensorflow_models import LeapNet\n",
    "from lips.dataset.scaler.powergrid_scaler import PowerGridScaler\n",
    "from lips.utils import get_path"
   ]
  },
  {
   "cell_type": "code",
   "execution_count": null,
   "id": "b1ca956d",
   "metadata": {},
   "outputs": [],
   "source": [
    "# set some environment variables\n",
    "sys.path.insert(0, \"../../\")\n",
    "\n",
    "os.environ[\"CUDA_VISIBLE_DEVICES\"] = \"2\"\n",
    "\n",
    "gpus = tf.config.experimental.list_physical_devices('GPU')\n",
    "if gpus:\n",
    "  try:\n",
    "    tf.config.experimental.set_virtual_device_configuration(\n",
    "        gpus[0],[tf.config.experimental.VirtualDeviceConfiguration(memory_limit=5120)])\n",
    "  except RuntimeError as e:\n",
    "    print(e)\n",
    "\n",
    "warnings.simplefilter(action='ignore', category=pd.errors.PerformanceWarning)\n",
    "pd.set_option('display.max_columns', None)"
   ]
  },
  {
   "cell_type": "markdown",
   "id": "fd6ae7c6",
   "metadata": {},
   "source": [
    "# 1. l2rpn_neurips_2020_track1_small grid"
   ]
  },
  {
   "cell_type": "code",
   "execution_count": 3,
   "id": "2c64b584",
   "metadata": {},
   "outputs": [],
   "source": [
    "# indicate required paths\n",
    "LIPS_PATH = pathlib.Path().resolve().parent.parent # it is supposed that the notebook had run from getting_started folder\n",
    "DATA_PATH = LIPS_PATH / \"reference_data\" / \"powergrid\" / \"l2rpn_neurips_2020_track1_small\"\n",
    "BENCH_CONFIG_PATH = LIPS_PATH / \"configurations\" / \"powergrid\" / \"benchmarks\" / \"l2rpn_neurips_2020_track1_small.ini\"\n",
    "SIM_CONFIG_PATH = LIPS_PATH / \"configurations\" / \"powergrid\" / \"simulators\"\n",
    "BASELINES_PATH = LIPS_PATH / \"trained_baselines\" / \"powergrid\"\n",
    "TRAINED_BASELINES_PATH = LIPS_PATH / \"trained_baselines\" / \"powergrid\"\n",
    "EVALUATION_PATH = LIPS_PATH / \"evaluation_results\" / \"PowerGrid\"\n",
    "LOG_PATH = LIPS_PATH / \"lips_logs.log\""
   ]
  },
  {
   "cell_type": "markdown",
   "id": "d8d73308",
   "metadata": {},
   "source": [
    "## 1.1 Benchmark1: Risk assessment through contingency screening"
   ]
  },
  {
   "cell_type": "code",
   "execution_count": 4,
   "id": "46bfa7f3",
   "metadata": {},
   "outputs": [],
   "source": [
    "benchmark1 = PowerGridBenchmark(benchmark_name=\"Benchmark1\",\n",
    "                                benchmark_path=DATA_PATH,\n",
    "                                load_data_set=True,\n",
    "                                log_path=LOG_PATH,\n",
    "                                config_path=BENCH_CONFIG_PATH\n",
    "                               )"
   ]
  },
  {
   "cell_type": "code",
   "execution_count": null,
   "id": "bd60f503",
   "metadata": {},
   "outputs": [],
   "source": [
    "topo_actions = benchmark1.config.get_option(\"dataset_create_params\")[\"reference_args\"][\"topo_actions\"]\n",
    "\n",
    "kwargs_tau = []\n",
    "for el in topo_actions:\n",
    "     kwargs_tau.append(el[\"set_bus\"][\"substations_id\"][0])\n",
    "\n",
    "pprint(kwargs_tau)"
   ]
  },
  {
   "cell_type": "markdown",
   "id": "e407858c",
   "metadata": {},
   "source": [
    "## LeapNet"
   ]
  },
  {
   "cell_type": "markdown",
   "id": "526ac4e7",
   "metadata": {},
   "source": [
    "In this benchmark, we add the topo_vect as input and we inject only the line_status in tau. To do this, go to the benchmark config file, add topo_vect in the input attributes and don't forget to remove it from the tau attributes"
   ]
  },
  {
   "cell_type": "code",
   "execution_count": 6,
   "id": "b02a9aaf",
   "metadata": {},
   "outputs": [],
   "source": [
    "leap_net = LeapNet(name=\"tf_leapnet\",\n",
    "                   bench_config_path=BENCH_CONFIG_PATH,\n",
    "                   bench_config_name=\"Benchmark1\",\n",
    "                   sim_config_path=SIM_CONFIG_PATH / \"tf_leapnet.ini\",\n",
    "                   sim_config_name=\"DEFAULT\",\n",
    "                   sizes_enc=(),\n",
    "                   sizes_main=(400, 400),\n",
    "                   sizes_out=(),\n",
    "                   topo_vect_to_tau=\"given_list\",\n",
    "                   kwargs_tau = kwargs_tau,\n",
    "                   loss = {\"name\": \"mse\"},\n",
    "                   lr = 1e-4,\n",
    "                   layer = \"resnet\",\n",
    "                   activation = tf.keras.layers.LeakyReLU(alpha=0.01),\n",
    "                   scale_main_layer = 400,\n",
    "                   scale_input_dec_layer = 400,\n",
    "                   log_path=LOG_PATH,\n",
    "                   mult_by_zero_lines_pred = False,\n",
    "                   scaler = PowerGridScaler\n",
    "                   )"
   ]
  },
  {
   "attachments": {},
   "cell_type": "markdown",
   "id": "d472e871",
   "metadata": {},
   "source": [
    "## Training"
   ]
  },
  {
   "cell_type": "code",
   "execution_count": null,
   "id": "753457f1",
   "metadata": {
    "scrolled": true
   },
   "outputs": [],
   "source": [
    "leap_net.train(train_dataset=benchmark1.train_dataset,\n",
    "               val_dataset=benchmark1.val_dataset,\n",
    "               batch_size=128,\n",
    "               epochs=400)"
   ]
  },
  {
   "attachments": {},
   "cell_type": "markdown",
   "id": "485f2785",
   "metadata": {},
   "source": [
    "### Save the model"
   ]
  },
  {
   "cell_type": "code",
   "execution_count": null,
   "id": "6926e07b",
   "metadata": {},
   "outputs": [],
   "source": [
    "SAVE_PATH = get_path(TRAINED_BASELINES_PATH, benchmark1)\n",
    "leap_net.save(SAVE_PATH)"
   ]
  },
  {
   "attachments": {},
   "cell_type": "markdown",
   "id": "90583a7e",
   "metadata": {},
   "source": [
    "## Visualization"
   ]
  },
  {
   "cell_type": "code",
   "execution_count": null,
   "id": "3ee44766",
   "metadata": {},
   "outputs": [],
   "source": [
    "leap_net.summary()"
   ]
  },
  {
   "cell_type": "code",
   "execution_count": null,
   "id": "5191460a",
   "metadata": {},
   "outputs": [],
   "source": [
    "tf.keras.utils.plot_model(\n",
    "    leap_net._model,\n",
    "    show_shapes=True,\n",
    "    show_dtype=True,\n",
    "    show_layer_activations= True)"
   ]
  },
  {
   "cell_type": "code",
   "execution_count": 11,
   "id": "f8bb6558",
   "metadata": {},
   "outputs": [
    {
     "data": {
      "image/png": "[encoded data removed]",
      "text/plain": [
       "<Figure size 1080x360 with 2 Axes>"
      ]
     },
     "metadata": {
      "needs_background": "light"
     },
     "output_type": "display_data"
    }
   ],
   "source": [
    "leap_net.visualize_convergence()"
   ]
  },
  {
   "attachments": {},
   "cell_type": "markdown",
   "id": "1580d228",
   "metadata": {},
   "source": [
    "## Evaluation"
   ]
  },
  {
   "cell_type": "code",
   "execution_count": null,
   "id": "4c42928e",
   "metadata": {
    "scrolled": true
   },
   "outputs": [],
   "source": [
    "eval_metrics = benchmark1.evaluate_simulator(augmented_simulator=leap_net,\n",
    "                                             eval_batch_size=128,\n",
    "                                             dataset=\"all\",\n",
    "                                             shuffle=False,\n",
    "                                             save_predictions=True\n",
    "                                            )"
   ]
  },
  {
   "cell_type": "code",
   "execution_count": 14,
   "id": "571e2c05",
   "metadata": {},
   "outputs": [
    {
     "name": "stdout",
     "output_type": "stream",
     "text": [
      "ML : MAPE90 --> A : mean :0.0049590070149185365, std :8.418010583453005e-06\n",
      "ML : Inf speed-up : 0.3658362890128046\n",
      "Rediness : Inf speed-up : 0.3749981439905241\n",
      "OOD : MAPE90 --> A : mean :0.04321483653814799, std :0.00013422264017170366\n"
     ]
    }
   ],
   "source": [
    "print(\"ML : MAPE90 --> A : mean :{}, std :{}\".format(np.mean(list(eval_metrics[\"test\"][\"ML\"][\"mape_90_avg\"].values())), np.std(list(eval_metrics[\"test\"][\"ML\"][\"mape_90_avg\"].values()))))\n",
    "print(\"ML : Inf speed-up :\", eval_metrics[\"test\"][\"ML\"][\"TIME_INF\"])\n",
    "print(\"Rediness : Inf speed-up :\", eval_metrics[\"test\"][\"IndRed\"][\"TIME_INF\"])\n",
    "print(\"OOD : MAPE90 --> A : mean :{}, std :{}\".format(np.mean(list(eval_metrics[\"test_ood_topo\"][\"ML\"][\"mape_90_avg\"].values())), np.std(list(eval_metrics[\"test_ood_topo\"][\"ML\"][\"mape_90_avg\"].values()))))"
   ]
  },
  {
   "cell_type": "code",
   "execution_count": 15,
   "id": "b577a25f",
   "metadata": {},
   "outputs": [
    {
     "name": "stdout",
     "output_type": "stream",
     "text": [
      "Physics : test --> CURRENT_POS : mean :0.008703898305084746, std :0.0002889830508474578\n",
      "Physics : ood --> CURRENT_POS : mean :0.013013785310734462, std :0.0003535593220338985\n"
     ]
    }
   ],
   "source": [
    "testset_violoation = [eval_metrics[\"test\"][\"Physics\"][\"CURRENT_POS\"][\"a_or\"][\"Violation_proportion\"], eval_metrics[\"test\"][\"Physics\"][\"CURRENT_POS\"][\"a_ex\"][\"Violation_proportion\"]]\n",
    "print(\"Physics : test --> CURRENT_POS : mean :{}, std :{}\".format(np.mean(testset_violoation), np.std(testset_violoation)))\n",
    "\n",
    "oodset_violoation = [eval_metrics[\"test_ood_topo\"][\"Physics\"][\"CURRENT_POS\"][\"a_or\"][\"Violation_proportion\"], eval_metrics[\"test_ood_topo\"][\"Physics\"][\"CURRENT_POS\"][\"a_ex\"][\"Violation_proportion\"]]\n",
    "print(\"Physics : ood --> CURRENT_POS : mean :{}, std :{}\".format(np.mean(oodset_violoation), np.std(oodset_violoation)))"
   ]
  }
 ],
 "metadata": {
  "kernelspec": {
   "display_name": "Python 3 (ipykernel)",
   "language": "python",
   "name": "python3"
  },
  "language_info": {
   "codemirror_mode": {
    "name": "ipython",
    "version": 3
   },
   "file_extension": ".py",
   "mimetype": "text/x-python",
   "name": "python",
   "nbconvert_exporter": "python",
   "pygments_lexer": "ipython3",
   "version": "3.8.10"
  }
 },
 "nbformat": 4,
 "nbformat_minor": 5
}
