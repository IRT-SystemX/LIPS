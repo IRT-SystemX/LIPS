{
 "cells": [
  {
   "cell_type": "code",
   "execution_count": 7,
   "id": "71606de3",
   "metadata": {},
   "outputs": [],
   "source": [
    "import os\n",
    "import sys\n",
    "import pathlib\n",
    "import warnings\n",
    "import numpy as np\n",
    "import pandas as pd\n",
    "from pprint import pprint\n",
    "import tensorflow as tf\n",
    "from lips.benchmark.powergridBenchmark import PowerGridBenchmark\n",
    "from lips.augmented_simulators.tensorflow_models.powergrid import TfResNetPowerGrid\n",
    "from lips.dataset.scaler import StandardScaler\n",
    "from lips.utils import get_path"
   ]
  },
  {
   "cell_type": "code",
   "execution_count": null,
   "id": "c2b502d9",
   "metadata": {},
   "outputs": [],
   "source": [
    "# set some environment variables\n",
    "sys.path.insert(0, \"../../\")\n",
    "\n",
    "os.environ[\"CUDA_VISIBLE_DEVICES\"] = \"2\"\n",
    "\n",
    "gpus = tf.config.experimental.list_physical_devices('GPU')\n",
    "if gpus:\n",
    "  try:\n",
    "    tf.config.experimental.set_virtual_device_configuration(\n",
    "        gpus[0],[tf.config.experimental.VirtualDeviceConfiguration(memory_limit=5120)])\n",
    "  except RuntimeError as e:\n",
    "    print(e)\n",
    "\n",
    "warnings.simplefilter(action='ignore', category=pd.errors.PerformanceWarning)\n",
    "pd.set_option('display.max_columns', None)"
   ]
  },
  {
   "cell_type": "code",
   "execution_count": 3,
   "id": "769248e0",
   "metadata": {},
   "outputs": [],
   "source": [
    "# indicate required paths\n",
    "LIPS_PATH = pathlib.Path().resolve().parent.parent # it is supposed that the notebook had run from getting_started folder\n",
    "DATA_PATH = LIPS_PATH / \"reference_data\" / \"powergrid\" / \"l2rpn_case14_sandbox\"\n",
    "BENCH_CONFIG_PATH = LIPS_PATH / \"configurations\" / \"powergrid\" / \"benchmarks\" / \"l2rpn_case14_sandbox.ini\"\n",
    "SIM_CONFIG_PATH = LIPS_PATH / \"configurations\" / \"powergrid\" / \"simulators\"\n",
    "BASELINES_PATH = LIPS_PATH / \"trained_baselines\" / \"powergrid\"\n",
    "TRAINED_BASELINES_PATH = LIPS_PATH / \"trained_baselines\" / \"powergrid\"\n",
    "EVALUATION_PATH = LIPS_PATH / \"evaluation_results\" / \"PowerGrid\"\n",
    "LOG_PATH = LIPS_PATH / \"lips_logs.log\""
   ]
  },
  {
   "cell_type": "markdown",
   "id": "b2baefc8",
   "metadata": {},
   "source": [
    "# 1. l2rpn_case14_sandbox grid"
   ]
  },
  {
   "cell_type": "markdown",
   "id": "32e2d04d",
   "metadata": {},
   "source": [
    "## 1.1 Benchmark2"
   ]
  },
  {
   "cell_type": "code",
   "execution_count": 8,
   "id": "222d577c",
   "metadata": {},
   "outputs": [],
   "source": [
    "benchmark2 = PowerGridBenchmark(benchmark_name=\"Benchmark2\",\n",
    "                                benchmark_path=DATA_PATH,\n",
    "                                load_data_set=True,\n",
    "                                log_path=LOG_PATH,\n",
    "                                config_path=BENCH_CONFIG_PATH\n",
    "                               )"
   ]
  },
  {
   "cell_type": "code",
   "execution_count": null,
   "id": "97ca2e1d",
   "metadata": {},
   "outputs": [],
   "source": [
    "topo_actions = benchmark2.config.get_option(\"dataset_create_params\")[\"train\"][\"topo_actions\"]\n",
    "\n",
    "kwargs_tau = []\n",
    "for el in topo_actions:\n",
    "     kwargs_tau.append(el[\"set_bus\"][\"substations_id\"][0])\n",
    "                       \n",
    "pprint(kwargs_tau)"
   ]
  },
  {
   "cell_type": "markdown",
   "id": "d4aa787c",
   "metadata": {},
   "source": [
    "### Tensorflow ResNet "
   ]
  },
  {
   "cell_type": "code",
   "execution_count": 10,
   "id": "4a693483",
   "metadata": {},
   "outputs": [],
   "source": [
    "tf_resnet = TfResNetPowerGrid(name=\"tf_resnet\",\n",
    "                              bench_config_path=BENCH_CONFIG_PATH,\n",
    "                              bench_config_name=\"Benchmark2\",\n",
    "                              topo_vect_to_tau=\"given_list\",\n",
    "                              kwargs_tau=kwargs_tau,\n",
    "                              layers = [200, 200, 200],\n",
    "                              scale_input_layer = True,\n",
    "                              lr = 1e-4,         \n",
    "                              loss = {\"name\": \"mse\"},\n",
    "                              layer = \"resnet\",\n",
    "                              activation = \"elu\",\n",
    "                              sim_config_path=SIM_CONFIG_PATH / \"tf_fc.ini\",\n",
    "                              sim_config_name=\"DEFAULT\",\n",
    "                              log_path=LOG_PATH,\n",
    "                              scaler = StandardScaler, \n",
    "                            )"
   ]
  },
  {
   "attachments": {},
   "cell_type": "markdown",
   "id": "9ebb9d02",
   "metadata": {},
   "source": [
    "## Training"
   ]
  },
  {
   "cell_type": "code",
   "execution_count": null,
   "id": "13a44916",
   "metadata": {
    "scrolled": true
   },
   "outputs": [],
   "source": [
    "tf_resnet.train(train_dataset=benchmark2.train_dataset,\n",
    "                val_dataset=benchmark2.val_dataset,\n",
    "                batch_size = 128,\n",
    "                epochs= 2)"
   ]
  },
  {
   "cell_type": "markdown",
   "id": "9fe6deb1",
   "metadata": {},
   "source": [
    "### Save the model"
   ]
  },
  {
   "cell_type": "code",
   "execution_count": null,
   "id": "5f45e660",
   "metadata": {},
   "outputs": [],
   "source": [
    "SAVE_PATH = get_path(TRAINED_BASELINES_PATH, benchmark2)\n",
    "tf_resnet.save(SAVE_PATH)"
   ]
  },
  {
   "attachments": {},
   "cell_type": "markdown",
   "id": "79ea36db",
   "metadata": {},
   "source": [
    "## Visualization"
   ]
  },
  {
   "cell_type": "code",
   "execution_count": null,
   "id": "fee1c973",
   "metadata": {},
   "outputs": [],
   "source": [
    "tf.keras.utils.plot_model(\n",
    "    tf_resnet._model,\n",
    "    show_shapes=True,\n",
    "    show_dtype=True,\n",
    "    show_layer_activations= True)"
   ]
  },
  {
   "cell_type": "code",
   "execution_count": null,
   "id": "73dcc453",
   "metadata": {},
   "outputs": [],
   "source": [
    "tf_resnet.summary()"
   ]
  },
  {
   "cell_type": "code",
   "execution_count": 11,
   "id": "53e58b26",
   "metadata": {},
   "outputs": [
    {
     "data": {
      "image/png": "[encoded data removed]",
      "text/plain": [
       "<Figure size 1080x360 with 2 Axes>"
      ]
     },
     "metadata": {
      "needs_background": "light"
     },
     "output_type": "display_data"
    }
   ],
   "source": [
    "tf_resnet.visualize_convergence()"
   ]
  },
  {
   "attachments": {},
   "cell_type": "markdown",
   "id": "b724f60f",
   "metadata": {},
   "source": [
    "## Evaluation"
   ]
  },
  {
   "cell_type": "code",
   "execution_count": null,
   "id": "208b5ce8",
   "metadata": {},
   "outputs": [],
   "source": [
    "eval_metrics = benchmark2.evaluate_simulator(augmented_simulator=tf_resnet,\n",
    "                                             eval_batch_size=128,\n",
    "                                             dataset=\"all\",\n",
    "                                             shuffle=False,\n",
    "                                             save_predictions=True\n",
    "                                            )"
   ]
  },
  {
   "cell_type": "markdown",
   "id": "0a286745",
   "metadata": {},
   "source": [
    "## A "
   ]
  },
  {
   "cell_type": "code",
   "execution_count": null,
   "id": "c9d1524b",
   "metadata": {},
   "outputs": [],
   "source": [
    "a_test_list = [eval_metrics[\"test\"][\"ML\"][\"mape_90_avg\"][\"a_or\"], eval_metrics[\"test\"][\"ML\"][\"mape_90_avg\"][\"a_ex\"]]\n",
    "a_ood_list = [eval_metrics[\"test_ood_topo\"][\"ML\"][\"mape_90_avg\"][\"a_or\"], eval_metrics[\"test_ood_topo\"][\"ML\"][\"mape_90_avg\"][\"a_ex\"]]"
   ]
  },
  {
   "cell_type": "code",
   "execution_count": null,
   "id": "6d10a17e",
   "metadata": {},
   "outputs": [],
   "source": [
    "print(\"ML : MAPE90 --> A : mean :{}, std :{}\".format(np.mean(a_test_list), np.std(a_test_list)))\n",
    "print(\"OOD : MAPE90 --> A : mean :{}, std :{}\".format(np.mean(a_ood_list), np.std(a_ood_list)))"
   ]
  },
  {
   "cell_type": "markdown",
   "id": "34c1db14",
   "metadata": {},
   "source": [
    "## P"
   ]
  },
  {
   "cell_type": "code",
   "execution_count": null,
   "id": "391a20a7",
   "metadata": {},
   "outputs": [],
   "source": [
    "p_test_list = [eval_metrics[\"test\"][\"ML\"][\"mape_avg\"][\"p_or\"], eval_metrics[\"test\"][\"ML\"][\"mape_avg\"][\"p_ex\"]]\n",
    "p_ood_list = [eval_metrics[\"test_ood_topo\"][\"ML\"][\"mape_avg\"][\"p_or\"], eval_metrics[\"test_ood_topo\"][\"ML\"][\"mape_avg\"][\"p_ex\"]]"
   ]
  },
  {
   "cell_type": "code",
   "execution_count": null,
   "id": "aa186073",
   "metadata": {},
   "outputs": [],
   "source": [
    "print(\"ML : MAPE --> P : mean :{}, std :{}\".format(np.mean(p_test_list), np.std(p_test_list)))\n",
    "print(\"OOD : MAPE --> P : mean :{}, std :{}\".format(np.mean(p_ood_list), np.std(p_ood_list)))"
   ]
  },
  {
   "cell_type": "markdown",
   "id": "db59e7cd",
   "metadata": {},
   "source": [
    "## V "
   ]
  },
  {
   "cell_type": "code",
   "execution_count": null,
   "id": "8dc6dc05",
   "metadata": {},
   "outputs": [],
   "source": [
    "v_test_list = [eval_metrics[\"test\"][\"ML\"][\"MAE_avg\"][\"v_or\"], eval_metrics[\"test\"][\"ML\"][\"MAE_avg\"][\"v_ex\"]]\n",
    "v_ood_list = [eval_metrics[\"test_ood_topo\"][\"ML\"][\"MAE_avg\"][\"v_or\"], eval_metrics[\"test_ood_topo\"][\"ML\"][\"MAE_avg\"][\"v_ex\"]]"
   ]
  },
  {
   "cell_type": "code",
   "execution_count": null,
   "id": "9ebe8a5e",
   "metadata": {},
   "outputs": [],
   "source": [
    "print(\"ML : MAE --> V : mean :{}, std :{}\".format(np.mean(v_test_list), np.std(v_test_list)))\n",
    "print(\"OOD : MAE --> V : mean :{}, std :{}\".format(np.mean(v_ood_list), np.std(v_ood_list)))"
   ]
  },
  {
   "cell_type": "markdown",
   "id": "946b63db",
   "metadata": {},
   "source": [
    "## Inf speed-up"
   ]
  },
  {
   "cell_type": "code",
   "execution_count": null,
   "id": "b6408e2d",
   "metadata": {},
   "outputs": [],
   "source": [
    "print(\"ML : Inf speed-up :\", eval_metrics[\"test\"][\"ML\"][\"TIME_INF\"])"
   ]
  },
  {
   "cell_type": "markdown",
   "id": "28e962c7",
   "metadata": {},
   "source": [
    "## Physics ML"
   ]
  },
  {
   "cell_type": "code",
   "execution_count": null,
   "id": "aa6cbb1c",
   "metadata": {},
   "outputs": [],
   "source": [
    "print(\"1) Current positivity violation:\", (eval_metrics[\"test\"][\"Physics\"][\"CURRENT_POS\"][\"a_or\"][\"Violation_proportion\"]+eval_metrics[\"test\"][\"Physics\"][\"CURRENT_POS\"][\"a_ex\"][\"Violation_proportion\"])/2)#[\"a_or\"][\"Violation_proportion\"]\n",
    "print(\"2) Voltage positivity violation:\", (eval_metrics[\"test\"][\"Physics\"][\"VOLTAGE_POS\"][\"v_or\"][\"Violation_proportion\"]+eval_metrics[\"test\"][\"Physics\"][\"VOLTAGE_POS\"][\"v_ex\"][\"Violation_proportion\"])/2)\n",
    "print(\"3) Loss positivity violation:\", eval_metrics[\"test\"][\"Physics\"][\"LOSS_POS\"][\"violation_proportion\"])\n",
    "print(\"4) Disconnected lines violation:\", eval_metrics[\"test\"][\"Physics\"][\"DISC_LINES\"])\n",
    "print(\"5) Violation of loss to be between [1,4]% of production:\", eval_metrics[\"test\"][\"Physics\"][\"CHECK_LOSS\"][\"violation_percentage\"])\n",
    "print(\"6) Violation of global conservation: {}% and its weighted mape: {}\".format(eval_metrics[\"test\"][\"Physics\"][\"CHECK_GC\"][\"violation_percentage\"], eval_metrics[\"test\"][\"Physics\"][\"CHECK_GC\"][\"wmape\"]))\n",
    "print(\"7) Violation of local conservation: {}% and its weighted mape: {}\".format(eval_metrics[\"test\"][\"Physics\"][\"CHECK_LC\"][\"violation_percentage\"], eval_metrics[\"test\"][\"Physics\"][\"CHECK_LC\"][\"mape\"]))\n",
    "print(\"8) Violation proportion of voltage equality at subs:\", eval_metrics[\"test\"][\"Physics\"][\"CHECK_VOLTAGE_EQ\"][\"prop_voltages_violation\"])"
   ]
  },
  {
   "cell_type": "markdown",
   "id": "a76ebdc0",
   "metadata": {},
   "source": [
    "## Physics OOD"
   ]
  },
  {
   "cell_type": "code",
   "execution_count": null,
   "id": "94f00ae1",
   "metadata": {},
   "outputs": [],
   "source": [
    "print(\"1) Current positivity violation:\", (eval_metrics[\"test_ood_topo\"][\"Physics\"][\"CURRENT_POS\"][\"a_or\"][\"Violation_proportion\"]+eval_metrics[\"test_ood_topo\"][\"Physics\"][\"CURRENT_POS\"][\"a_ex\"][\"Violation_proportion\"])/2)#[\"a_or\"][\"Violation_proportion\"]\n",
    "print(\"2) Voltage positivity violation:\", (eval_metrics[\"test_ood_topo\"][\"Physics\"][\"VOLTAGE_POS\"][\"v_or\"][\"Violation_proportion\"]+eval_metrics[\"test_ood_topo\"][\"Physics\"][\"VOLTAGE_POS\"][\"v_ex\"][\"Violation_proportion\"])/2)\n",
    "print(\"3) Loss positivity violation:\", eval_metrics[\"test_ood_topo\"][\"Physics\"][\"LOSS_POS\"][\"violation_proportion\"])\n",
    "print(\"4) Disconnected lines violation:\", eval_metrics[\"test_ood_topo\"][\"Physics\"][\"DISC_LINES\"])\n",
    "print(\"5) Violation of loss to be between [1,4]% of production:\", eval_metrics[\"test_ood_topo\"][\"Physics\"][\"CHECK_LOSS\"][\"violation_percentage\"])\n",
    "print(\"6) Violation of global conservation: {}% and its weighted mape: {}\".format(eval_metrics[\"test_ood_topo\"][\"Physics\"][\"CHECK_GC\"][\"violation_percentage\"], eval_metrics[\"test_ood_topo\"][\"Physics\"][\"CHECK_GC\"][\"wmape\"]))\n",
    "print(\"7) Violation of local conservation: {}% and its weighted mape: {}\".format(eval_metrics[\"test_ood_topo\"][\"Physics\"][\"CHECK_LC\"][\"violation_percentage\"], eval_metrics[\"test_ood_topo\"][\"Physics\"][\"CHECK_LC\"][\"mape\"]))\n",
    "print(\"8) Violation proportion of voltage equality at subs:\", eval_metrics[\"test_ood_topo\"][\"Physics\"][\"CHECK_VOLTAGE_EQ\"][\"prop_voltages_violation\"])"
   ]
  }
 ],
 "metadata": {
  "kernelspec": {
   "display_name": "Python 3 (ipykernel)",
   "language": "python",
   "name": "python3"
  },
  "language_info": {
   "codemirror_mode": {
    "name": "ipython",
    "version": 3
   },
   "file_extension": ".py",
   "mimetype": "text/x-python",
   "name": "python",
   "nbconvert_exporter": "python",
   "pygments_lexer": "ipython3",
   "version": "3.8.10"
  }
 },
 "nbformat": 4,
 "nbformat_minor": 5
}
