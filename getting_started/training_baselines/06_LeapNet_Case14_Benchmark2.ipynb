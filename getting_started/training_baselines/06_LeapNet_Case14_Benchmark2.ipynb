{
 "cells": [
  {
   "cell_type": "code",
   "execution_count": 1,
   "id": "cd536a8b",
   "metadata": {},
   "outputs": [],
   "source": [
    "import os\n",
    "import sys\n",
    "import pathlib\n",
    "import warnings\n",
    "import numpy as np\n",
    "import pandas as pd\n",
    "from pprint import pprint\n",
    "import tensorflow as tf\n",
    "from lips.benchmark.powergridBenchmark import PowerGridBenchmark\n",
    "from lips.augmented_simulators.tensorflow_models import LeapNet\n",
    "from lips.dataset.scaler.powergrid_scaler import PowerGridScaler\n",
    "from lips.utils import get_path"
   ]
  },
  {
   "cell_type": "code",
   "execution_count": null,
   "id": "398759b8",
   "metadata": {},
   "outputs": [],
   "source": [
    "# set some environment variables\n",
    "sys.path.insert(0, \"../../\")\n",
    "\n",
    "os.environ[\"CUDA_VISIBLE_DEVICES\"] = \"2\"\n",
    "\n",
    "gpus = tf.config.experimental.list_physical_devices('GPU')\n",
    "if gpus:\n",
    "  try:\n",
    "    tf.config.experimental.set_virtual_device_configuration(\n",
    "        gpus[0],[tf.config.experimental.VirtualDeviceConfiguration(memory_limit=5120)])\n",
    "  except RuntimeError as e:\n",
    "    print(e)\n",
    "\n",
    "warnings.simplefilter(action='ignore', category=pd.errors.PerformanceWarning)\n",
    "pd.set_option('display.max_columns', None)"
   ]
  },
  {
   "cell_type": "markdown",
   "id": "fd6ae7c6",
   "metadata": {},
   "source": [
    "# 1. l2rpn_case14_sandbox grid"
   ]
  },
  {
   "cell_type": "code",
   "execution_count": 3,
   "id": "2c64b584",
   "metadata": {},
   "outputs": [],
   "source": [
    "# indicate required paths\n",
    "LIPS_PATH = pathlib.Path().resolve().parent.parent # it is supposed that the notebook had run from getting_started folder\n",
    "DATA_PATH = LIPS_PATH / \"reference_data\" / \"powergrid\" / \"l2rpn_case14_sandbox\"\n",
    "BENCH_CONFIG_PATH = LIPS_PATH / \"configurations\" / \"powergrid\" / \"benchmarks\" / \"l2rpn_case14_sandbox.ini\"\n",
    "SIM_CONFIG_PATH = LIPS_PATH / \"configurations\" / \"powergrid\" / \"simulators\"\n",
    "BASELINES_PATH = LIPS_PATH / \"trained_baselines\" / \"powergrid\"\n",
    "TRAINED_BASELINES_PATH = LIPS_PATH / \"trained_baselines\" / \"powergrid\"\n",
    "EVALUATION_PATH = LIPS_PATH / \"evaluation_results\" / \"PowerGrid\"\n",
    "LOG_PATH = LIPS_PATH / \"lips_logs.log\""
   ]
  },
  {
   "cell_type": "markdown",
   "id": "d8d73308",
   "metadata": {},
   "source": [
    "## 1.1 Benchmark2: Risk assessment through contingency screening"
   ]
  },
  {
   "cell_type": "code",
   "execution_count": 4,
   "id": "46bfa7f3",
   "metadata": {},
   "outputs": [],
   "source": [
    "benchmark2 = PowerGridBenchmark(benchmark_name=\"Benchmark2\",\n",
    "                                benchmark_path=DATA_PATH,\n",
    "                                load_data_set=True,\n",
    "                                log_path=LOG_PATH,\n",
    "                                config_path=BENCH_CONFIG_PATH,\n",
    "                               )"
   ]
  },
  {
   "cell_type": "code",
   "execution_count": null,
   "id": "c695b58e",
   "metadata": {},
   "outputs": [],
   "source": [
    "topo_actions = benchmark2.config.get_option(\"dataset_create_params\")[\"train\"][\"topo_actions\"]\n",
    "\n",
    "kwargs_tau = []\n",
    "for el in topo_actions:\n",
    "     kwargs_tau.append(el[\"set_bus\"][\"substations_id\"][0])\n",
    "pprint(kwargs_tau)"
   ]
  },
  {
   "cell_type": "markdown",
   "id": "826ab87f",
   "metadata": {},
   "source": [
    "## LeapNet"
   ]
  },
  {
   "cell_type": "code",
   "execution_count": null,
   "id": "b02a9aaf",
   "metadata": {},
   "outputs": [],
   "source": [
    "leap_net = LeapNet(name=\"tf_leapnet\",                              \n",
    "                   bench_config_path=BENCH_CONFIG_PATH,\n",
    "                   bench_config_name=\"Benchmark2\",\n",
    "                   sim_config_path=SIM_CONFIG_PATH / \"tf_leapnet.ini\",\n",
    "                   sim_config_name=\"DEFAULT\", \n",
    "                   log_path=LOG_PATH,\n",
    "                   loss = {\"name\": \"mse\"},\n",
    "                   lr = 1e-4,\n",
    "                   activation = tf.keras.layers.LeakyReLU(alpha=0.01),\n",
    "                   sizes_enc=(),\n",
    "                   sizes_main=(200, 200),\n",
    "                   sizes_out=(),\n",
    "                   topo_vect_to_tau=\"given_list\",\n",
    "                   kwargs_tau = kwargs_tau,\n",
    "                   concatenate_tau = True,\n",
    "                   layer = \"resnet\",\n",
    "                   scale_main_layer = 200,\n",
    "                   scale_input_dec_layer = 200,\n",
    "                   mult_by_zero_lines_pred = False,\n",
    "                   scaler = PowerGridScaler,\n",
    "                   )"
   ]
  },
  {
   "attachments": {},
   "cell_type": "markdown",
   "id": "416e8d6e",
   "metadata": {},
   "source": [
    "## Training"
   ]
  },
  {
   "cell_type": "code",
   "execution_count": null,
   "id": "34b5033d",
   "metadata": {
    "scrolled": true
   },
   "outputs": [],
   "source": [
    "leap_net.train(train_dataset=benchmark2.train_dataset,\n",
    "               val_dataset=benchmark2.val_dataset,\n",
    "               batch_size=128,\n",
    "               epochs=400)"
   ]
  },
  {
   "attachments": {},
   "cell_type": "markdown",
   "id": "d57161c7",
   "metadata": {},
   "source": [
    "### Save the model"
   ]
  },
  {
   "cell_type": "code",
   "execution_count": null,
   "id": "34fd41a3",
   "metadata": {},
   "outputs": [],
   "source": [
    "SAVE_PATH = get_path(TRAINED_BASELINES_PATH, benchmark2)\n",
    "leap_net.save(SAVE_PATH)"
   ]
  },
  {
   "attachments": {},
   "cell_type": "markdown",
   "id": "24d916bd",
   "metadata": {},
   "source": [
    "## Visualization"
   ]
  },
  {
   "cell_type": "code",
   "execution_count": null,
   "id": "67cedfec",
   "metadata": {},
   "outputs": [],
   "source": [
    "tf.keras.utils.plot_model(\n",
    "    leap_net._model,\n",
    "    show_shapes=True,\n",
    "    show_dtype=True,\n",
    "    show_layer_activations= True)"
   ]
  },
  {
   "cell_type": "code",
   "execution_count": null,
   "id": "97bac61d",
   "metadata": {},
   "outputs": [],
   "source": [
    "leap_net.summary()"
   ]
  },
  {
   "cell_type": "code",
   "execution_count": 11,
   "id": "8a5172c0",
   "metadata": {},
   "outputs": [
    {
     "data": {
      "image/png": "[encoded data removed]",
      "text/plain": [
       "<Figure size 1080x360 with 2 Axes>"
      ]
     },
     "metadata": {
      "needs_background": "light"
     },
     "output_type": "display_data"
    }
   ],
   "source": [
    "leap_net.visualize_convergence()"
   ]
  },
  {
   "attachments": {},
   "cell_type": "markdown",
   "id": "7131fb0a",
   "metadata": {},
   "source": [
    "## Evaluation"
   ]
  },
  {
   "cell_type": "code",
   "execution_count": null,
   "id": "e13a611c",
   "metadata": {},
   "outputs": [],
   "source": [
    "eval_metrics = benchmark2.evaluate_simulator(augmented_simulator=leap_net,\n",
    "                                             eval_batch_size=128,\n",
    "                                             dataset=\"all\",\n",
    "                                             shuffle=False,\n",
    "                                             save_predictions=True\n",
    "                                            )"
   ]
  },
  {
   "cell_type": "markdown",
   "id": "38320ab1",
   "metadata": {},
   "source": [
    "## A "
   ]
  },
  {
   "cell_type": "code",
   "execution_count": null,
   "id": "bc43d5cc",
   "metadata": {},
   "outputs": [],
   "source": [
    "a_test_list = [eval_metrics[\"test\"][\"ML\"][\"mape_90_avg\"][\"a_or\"], eval_metrics[\"test\"][\"ML\"][\"mape_90_avg\"][\"a_ex\"]]\n",
    "a_ood_list = [eval_metrics[\"test_ood_topo\"][\"ML\"][\"mape_90_avg\"][\"a_or\"], eval_metrics[\"test_ood_topo\"][\"ML\"][\"mape_90_avg\"][\"a_ex\"]]"
   ]
  },
  {
   "cell_type": "code",
   "execution_count": null,
   "id": "6d10a17e",
   "metadata": {},
   "outputs": [],
   "source": [
    "print(\"ML : MAPE90 --> A : mean :{}, std :{}\".format(np.mean(a_test_list), np.std(a_test_list)))\n",
    "print(\"OOD : MAPE90 --> A : mean :{}, std :{}\".format(np.mean(a_ood_list), np.std(a_ood_list)))"
   ]
  },
  {
   "cell_type": "markdown",
   "id": "ebd33d3d",
   "metadata": {},
   "source": [
    "## P"
   ]
  },
  {
   "cell_type": "code",
   "execution_count": null,
   "id": "94d97887",
   "metadata": {},
   "outputs": [],
   "source": [
    "p_test_list = [eval_metrics[\"test\"][\"ML\"][\"mape_avg\"][\"p_or\"], eval_metrics[\"test\"][\"ML\"][\"mape_avg\"][\"p_ex\"]]\n",
    "p_ood_list = [eval_metrics[\"test_ood_topo\"][\"ML\"][\"mape_avg\"][\"p_or\"], eval_metrics[\"test_ood_topo\"][\"ML\"][\"mape_avg\"][\"p_ex\"]]"
   ]
  },
  {
   "cell_type": "code",
   "execution_count": null,
   "id": "ac555272",
   "metadata": {},
   "outputs": [],
   "source": [
    "print(\"ML : MAPE --> P : mean :{}, std :{}\".format(np.mean(p_test_list), np.std(p_test_list)))\n",
    "print(\"OOD : MAPE --> P : mean :{}, std :{}\".format(np.mean(p_ood_list), np.std(p_ood_list)))"
   ]
  },
  {
   "cell_type": "markdown",
   "id": "ed6881f6",
   "metadata": {},
   "source": [
    "## V "
   ]
  },
  {
   "cell_type": "code",
   "execution_count": null,
   "id": "6a2678c8",
   "metadata": {},
   "outputs": [],
   "source": [
    "v_test_list = [eval_metrics[\"test\"][\"ML\"][\"MAE_avg\"][\"v_or\"], eval_metrics[\"test\"][\"ML\"][\"MAE_avg\"][\"v_ex\"]]\n",
    "v_ood_list = [eval_metrics[\"test_ood_topo\"][\"ML\"][\"MAE_avg\"][\"v_or\"], eval_metrics[\"test_ood_topo\"][\"ML\"][\"MAE_avg\"][\"v_ex\"]]"
   ]
  },
  {
   "cell_type": "code",
   "execution_count": null,
   "id": "bec85aae",
   "metadata": {},
   "outputs": [],
   "source": [
    "print(\"ML : MAE --> V : mean :{}, std :{}\".format(np.mean(v_test_list), np.std(v_test_list)))\n",
    "print(\"OOD : MAE --> V : mean :{}, std :{}\".format(np.mean(v_ood_list), np.std(v_ood_list)))"
   ]
  },
  {
   "cell_type": "markdown",
   "id": "cc52a9c0",
   "metadata": {},
   "source": [
    "## Inf speed-up"
   ]
  },
  {
   "cell_type": "code",
   "execution_count": null,
   "id": "d45c84fa",
   "metadata": {},
   "outputs": [],
   "source": [
    "print(\"ML : Inf speed-up :\", eval_metrics[\"test\"][\"ML\"][\"TIME_INF\"])"
   ]
  },
  {
   "cell_type": "markdown",
   "id": "8b6b1b3a",
   "metadata": {},
   "source": [
    "## Physics ML"
   ]
  },
  {
   "cell_type": "code",
   "execution_count": null,
   "id": "3e6c15c2",
   "metadata": {},
   "outputs": [],
   "source": [
    "print(\"1) Current positivity violation:\", (eval_metrics[\"test\"][\"Physics\"][\"CURRENT_POS\"][\"a_or\"][\"Violation_proportion\"]+eval_metrics[\"test\"][\"Physics\"][\"CURRENT_POS\"][\"a_ex\"][\"Violation_proportion\"])/2)#[\"a_or\"][\"Violation_proportion\"]\n",
    "print(\"2) Voltage positivity violation:\", (eval_metrics[\"test\"][\"Physics\"][\"VOLTAGE_POS\"][\"v_or\"][\"Violation_proportion\"]+eval_metrics[\"test\"][\"Physics\"][\"VOLTAGE_POS\"][\"v_ex\"][\"Violation_proportion\"])/2)\n",
    "print(\"3) Loss positivity violation:\", eval_metrics[\"test\"][\"Physics\"][\"LOSS_POS\"][\"violation_proportion\"])\n",
    "print(\"4) Disconnected lines violation:\", eval_metrics[\"test\"][\"Physics\"][\"DISC_LINES\"])\n",
    "print(\"5) Violation of loss to be between [1,4]% of production:\", eval_metrics[\"test\"][\"Physics\"][\"CHECK_LOSS\"][\"violation_percentage\"])\n",
    "print(\"6) Violation of global conservation: {}% and its weighted mape: {}\".format(eval_metrics[\"test\"][\"Physics\"][\"CHECK_GC\"][\"violation_percentage\"], eval_metrics[\"test\"][\"Physics\"][\"CHECK_GC\"][\"wmape\"]))\n",
    "print(\"7) Violation of local conservation: {}% and its weighted mape: {}\".format(eval_metrics[\"test\"][\"Physics\"][\"CHECK_LC\"][\"violation_percentage\"], eval_metrics[\"test\"][\"Physics\"][\"CHECK_LC\"][\"mape\"]))\n",
    "print(\"8) Violation proportion of voltage equality at subs:\", eval_metrics[\"test\"][\"Physics\"][\"CHECK_VOLTAGE_EQ\"][\"prop_voltages_violation\"])"
   ]
  },
  {
   "cell_type": "markdown",
   "id": "7ba83583",
   "metadata": {},
   "source": [
    "## Physics OOD"
   ]
  },
  {
   "cell_type": "code",
   "execution_count": null,
   "id": "74d105c1",
   "metadata": {},
   "outputs": [],
   "source": [
    "print(\"1) Current positivity violation:\", (eval_metrics[\"test_ood_topo\"][\"Physics\"][\"CURRENT_POS\"][\"a_or\"][\"Violation_proportion\"]+eval_metrics[\"test_ood_topo\"][\"Physics\"][\"CURRENT_POS\"][\"a_ex\"][\"Violation_proportion\"])/2)#[\"a_or\"][\"Violation_proportion\"]\n",
    "print(\"2) Voltage positivity violation:\", (eval_metrics[\"test_ood_topo\"][\"Physics\"][\"VOLTAGE_POS\"][\"v_or\"][\"Violation_proportion\"]+eval_metrics[\"test_ood_topo\"][\"Physics\"][\"VOLTAGE_POS\"][\"v_ex\"][\"Violation_proportion\"])/2)\n",
    "print(\"3) Loss positivity violation:\", eval_metrics[\"test_ood_topo\"][\"Physics\"][\"LOSS_POS\"][\"violation_proportion\"])\n",
    "print(\"4) Disconnected lines violation:\", eval_metrics[\"test_ood_topo\"][\"Physics\"][\"DISC_LINES\"])\n",
    "print(\"5) Violation of loss to be between [1,4]% of production:\", eval_metrics[\"test_ood_topo\"][\"Physics\"][\"CHECK_LOSS\"][\"violation_percentage\"])\n",
    "print(\"6) Violation of global conservation: {}% and its weighted mape: {}\".format(eval_metrics[\"test_ood_topo\"][\"Physics\"][\"CHECK_GC\"][\"violation_percentage\"], eval_metrics[\"test_ood_topo\"][\"Physics\"][\"CHECK_GC\"][\"wmape\"]))\n",
    "print(\"7) Violation of local conservation: {}% and its weighted mape: {}\".format(eval_metrics[\"test_ood_topo\"][\"Physics\"][\"CHECK_LC\"][\"violation_percentage\"], eval_metrics[\"test_ood_topo\"][\"Physics\"][\"CHECK_LC\"][\"mape\"]))\n",
    "print(\"8) Violation proportion of voltage equality at subs:\", eval_metrics[\"test_ood_topo\"][\"Physics\"][\"CHECK_VOLTAGE_EQ\"][\"prop_voltages_violation\"])"
   ]
  }
 ],
 "metadata": {
  "kernelspec": {
   "display_name": "Python 3 (ipykernel)",
   "language": "python",
   "name": "python3"
  },
  "language_info": {
   "codemirror_mode": {
    "name": "ipython",
    "version": 3
   },
   "file_extension": ".py",
   "mimetype": "text/x-python",
   "name": "python",
   "nbconvert_exporter": "python",
   "pygments_lexer": "ipython3",
   "version": "3.8.10"
  }
 },
 "nbformat": 4,
 "nbformat_minor": 5
}
