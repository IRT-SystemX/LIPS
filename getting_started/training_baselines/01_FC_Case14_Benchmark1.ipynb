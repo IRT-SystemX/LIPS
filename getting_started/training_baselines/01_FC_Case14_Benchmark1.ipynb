{
 "cells": [
  {
   "cell_type": "code",
   "execution_count": 9,
   "id": "234bba6c",
   "metadata": {},
   "outputs": [],
   "source": [
    "import os\n",
    "import sys\n",
    "import pathlib\n",
    "import warnings\n",
    "import numpy as np\n",
    "import pandas as pd\n",
    "from pprint import pprint\n",
    "import tensorflow as tf\n",
    "from lips.benchmark.powergridBenchmark import PowerGridBenchmark\n",
    "from lips.augmented_simulators.tensorflow_models.powergrid import TfResNetPowerGrid\n",
    "from lips.dataset.scaler import StandardScaler\n",
    "from lips.utils import get_path"
   ]
  },
  {
   "cell_type": "code",
   "execution_count": null,
   "id": "8e85257e",
   "metadata": {},
   "outputs": [],
   "source": [
    "# set some environment variables\n",
    "sys.path.insert(0, \"../../\")\n",
    "\n",
    "os.environ[\"CUDA_VISIBLE_DEVICES\"] = \"2\"\n",
    "\n",
    "gpus = tf.config.experimental.list_physical_devices('GPU')\n",
    "if gpus:\n",
    "  try:\n",
    "    tf.config.experimental.set_virtual_device_configuration(\n",
    "        gpus[0],[tf.config.experimental.VirtualDeviceConfiguration(memory_limit=5120)])\n",
    "  except RuntimeError as e:\n",
    "    print(e)\n",
    "\n",
    "warnings.simplefilter(action='ignore', category=pd.errors.PerformanceWarning)\n",
    "pd.set_option('display.max_columns', None)"
   ]
  },
  {
   "cell_type": "code",
   "execution_count": 3,
   "id": "769248e0",
   "metadata": {},
   "outputs": [],
   "source": [
    "# indicate required paths\n",
    "LIPS_PATH = pathlib.Path().resolve().parent.parent # it is supposed that the notebook had run from getting_started folder\n",
    "DATA_PATH = LIPS_PATH / \"reference_data\" / \"powergrid\" / \"l2rpn_case14_sandbox\"\n",
    "BENCH_CONFIG_PATH = LIPS_PATH / \"configurations\" / \"powergrid\" / \"benchmarks\" / \"l2rpn_case14_sandbox.ini\"\n",
    "SIM_CONFIG_PATH = LIPS_PATH / \"configurations\" / \"powergrid\" / \"simulators\"\n",
    "BASELINES_PATH = LIPS_PATH / \"trained_baselines\" / \"powergrid\"\n",
    "TRAINED_BASELINES_PATH = LIPS_PATH / \"trained_baselines\" / \"powergrid\"\n",
    "EVALUATION_PATH = LIPS_PATH / \"evaluation_results\" / \"PowerGrid\"\n",
    "LOG_PATH = LIPS_PATH / \"lips_logs.log\""
   ]
  },
  {
   "cell_type": "markdown",
   "id": "b2baefc8",
   "metadata": {},
   "source": [
    "# 1. l2rpn_case14_sandbox grid"
   ]
  },
  {
   "cell_type": "markdown",
   "id": "32e2d04d",
   "metadata": {},
   "source": [
    "## 1.1 Benchmark1: Risk assessment through contingency screening"
   ]
  },
  {
   "cell_type": "code",
   "execution_count": 4,
   "id": "222d577c",
   "metadata": {},
   "outputs": [],
   "source": [
    "benchmark1 = PowerGridBenchmark(benchmark_name=\"Benchmark1\",\n",
    "                                benchmark_path=DATA_PATH,\n",
    "                                load_data_set=True,\n",
    "                                log_path=LOG_PATH,\n",
    "                                config_path=BENCH_CONFIG_PATH\n",
    "                               )"
   ]
  },
  {
   "cell_type": "code",
   "execution_count": 6,
   "id": "97ca2e1d",
   "metadata": {},
   "outputs": [
    {
     "name": "stdout",
     "output_type": "stream",
     "text": [
      "[(4, (2, 1, 2, 1, 2)), (1, (1, 2, 1, 2, 2, 2)), (5, (1, 1, 2, 2, 1, 2, 2))]\n"
     ]
    }
   ],
   "source": [
    "bench_config = ConfigManager(section_name=\"Benchmark1\", path=BENCH_CONFIG_PATH)\n",
    "topo_actions = bench_config.get_option(\"dataset_create_params\")[\"reference_args\"][\"topo_actions\"]\n",
    "\n",
    "kwargs_tau = []\n",
    "for el in topo_actions:\n",
    "     kwargs_tau.append(el[\"set_bus\"][\"substations_id\"][0])\n",
    "                       \n",
    "pprint(kwargs_tau)"
   ]
  },
  {
   "cell_type": "markdown",
   "id": "d4aa787c",
   "metadata": {},
   "source": [
    "### Tensorflow ResNet "
   ]
  },
  {
   "cell_type": "code",
   "execution_count": null,
   "id": "4a693483",
   "metadata": {},
   "outputs": [],
   "source": [
    "tf_resnet = TfResNetPowerGrid(name=\"tf_resnet\",\n",
    "                             bench_config_path=BENCH_CONFIG_PATH,\n",
    "                             bench_config_name=\"Benchmark1\",\n",
    "                             topo_vect_to_tau=\"given_list\",\n",
    "                             kwargs_tau=kwargs_tau,\n",
    "                             layers = [200, 200, 200],\n",
    "                             lr = 1e-4,\n",
    "                             loss = {\"name\": \"mse\"},\n",
    "                             layer = \"resnet\",\n",
    "                             activation = \"relu\",\n",
    "                             sim_config_path=SIM_CONFIG_PATH / \"tf_fc.ini\",\n",
    "                             sim_config_name=\"DEFAULT\",\n",
    "                             log_path=LOG_PATH,\n",
    "                             scale_input_layer = True,\n",
    "                             scaler = StandardScaler,\n",
    "                            )"
   ]
  },
  {
   "attachments": {},
   "cell_type": "markdown",
   "id": "e4998c57",
   "metadata": {},
   "source": [
    "## Training"
   ]
  },
  {
   "cell_type": "code",
   "execution_count": null,
   "id": "13a44916",
   "metadata": {
    "scrolled": true
   },
   "outputs": [],
   "source": [
    "tf_resnet.train(train_dataset=benchmark1.train_dataset,\n",
    "                val_dataset=benchmark1.val_dataset,\n",
    "                batch_size = 128,\n",
    "                epochs= 400)"
   ]
  },
  {
   "attachments": {},
   "cell_type": "markdown",
   "id": "867d314f",
   "metadata": {},
   "source": [
    "## Visualization"
   ]
  },
  {
   "cell_type": "code",
   "execution_count": null,
   "id": "fee1c973",
   "metadata": {},
   "outputs": [],
   "source": [
    "tf.keras.utils.plot_model(\n",
    "    tf_resnet._model,\n",
    "    show_shapes=True,\n",
    "    show_dtype=True,\n",
    "    show_layer_activations= True)"
   ]
  },
  {
   "cell_type": "code",
   "execution_count": null,
   "id": "e2f2293c",
   "metadata": {},
   "outputs": [],
   "source": [
    "tf_resnet.summary()"
   ]
  },
  {
   "cell_type": "code",
   "execution_count": 11,
   "id": "53e58b26",
   "metadata": {},
   "outputs": [
    {
     "data": {
      "image/png": "[encoded data removed]",
      "text/plain": [
       "<Figure size 1080x360 with 2 Axes>"
      ]
     },
     "metadata": {
      "needs_background": "light"
     },
     "output_type": "display_data"
    }
   ],
   "source": [
    "tf_resnet.visualize_convergence()"
   ]
  },
  {
   "attachments": {},
   "cell_type": "markdown",
   "id": "726b593e",
   "metadata": {},
   "source": [
    "## Evaluation"
   ]
  },
  {
   "cell_type": "code",
   "execution_count": null,
   "id": "208b5ce8",
   "metadata": {},
   "outputs": [],
   "source": [
    "eval_metrics = benchmark1.evaluate_simulator(augmented_simulator=tf_resnet,\n",
    "                                             eval_batch_size=128,\n",
    "                                             dataset=\"all\",\n",
    "                                             shuffle=False,\n",
    "                                             save_predictions=True\n",
    "                                            )"
   ]
  },
  {
   "cell_type": "code",
   "execution_count": 13,
   "id": "2b94595e",
   "metadata": {},
   "outputs": [],
   "source": [
    "SAVE_PATH = get_path(TRAINED_BASELINES_PATH, benchmark1)\n",
    "tf_resnet.save(SAVE_PATH)"
   ]
  },
  {
   "cell_type": "code",
   "execution_count": 15,
   "id": "6d10a17e",
   "metadata": {},
   "outputs": [
    {
     "name": "stdout",
     "output_type": "stream",
     "text": [
      "ML : MAPE90 --> A : mean :0.0018794984789735378, std :6.2730239130942686e-06\n",
      "ML : Inf speed-up : 0.125948318047449\n",
      "Rediness : Inf speed-up : 0.13259111298248172\n",
      "OOD : MAPE90 --> A : mean :0.1516528092253535, std :5.690003941975774e-05\n"
     ]
    }
   ],
   "source": [
    "print(\"ML : MAPE90 --> A : mean :{}, std :{}\".format(np.mean(list(eval_metrics[\"test\"][\"ML\"][\"mape_90_avg\"].values())), np.std(list(eval_metrics[\"test\"][\"ML\"][\"mape_90_avg\"].values()))))\n",
    "print(\"ML : Inf speed-up :\", eval_metrics[\"test\"][\"ML\"][\"TIME_INF\"])\n",
    "print(\"Rediness : Inf speed-up :\", tf_fc_metrics1[\"test\"][\"IndRed\"][\"TIME_INF\"])\n",
    "print(\"OOD : MAPE90 --> A : mean :{}, std :{}\".format(np.mean(list(eval_metrics[\"test_ood_topo\"][\"ML\"][\"mape_90_avg\"].values())), np.std(list(eval_metrics[\"test_ood_topo\"][\"ML\"][\"mape_90_avg\"].values()))))"
   ]
  },
  {
   "cell_type": "code",
   "execution_count": 16,
   "id": "ac65e47d",
   "metadata": {},
   "outputs": [
    {
     "name": "stdout",
     "output_type": "stream",
     "text": [
      "Physics : test --> CURRENT_POS : mean :0.029997, std :0.0007190000000000009\n"
     ]
    }
   ],
   "source": [
    "testset_violoation = [tf_fc_metrics1[\"test\"][\"Physics\"][\"CURRENT_POS\"][\"a_or\"][\"Violation_proportion\"], tf_fc_metrics1[\"test\"][\"Physics\"][\"CURRENT_POS\"][\"a_ex\"][\"Violation_proportion\"]]\n",
    "print(\"Physics : test --> CURRENT_POS : mean :{}, std :{}\".format(np.mean(testset_violoation), np.std(testset_violoation)))"
   ]
  },
  {
   "cell_type": "code",
   "execution_count": 17,
   "id": "69bfb770",
   "metadata": {},
   "outputs": [
    {
     "name": "stdout",
     "output_type": "stream",
     "text": [
      "Physics : ood --> CURRENT_POS : mean :0.0121895, std :0.00019950000000000002\n"
     ]
    }
   ],
   "source": [
    "oodset_violoation = [tf_fc_metrics1[\"test_ood_topo\"][\"Physics\"][\"CURRENT_POS\"][\"a_or\"][\"Violation_proportion\"], tf_fc_metrics1[\"test_ood_topo\"][\"Physics\"][\"CURRENT_POS\"][\"a_ex\"][\"Violation_proportion\"]]\n",
    "print(\"Physics : ood --> CURRENT_POS : mean :{}, std :{}\".format(np.mean(oodset_violoation), np.std(oodset_violoation)))"
   ]
  }
 ],
 "metadata": {
  "kernelspec": {
   "display_name": "lips",
   "language": "python",
   "name": "lips"
  },
  "language_info": {
   "codemirror_mode": {
    "name": "ipython",
    "version": 3
   },
   "file_extension": ".py",
   "mimetype": "text/x-python",
   "name": "python",
   "nbconvert_exporter": "python",
   "pygments_lexer": "ipython3",
   "version": "3.8.10"
  },
  "vscode": {
   "interpreter": {
    "hash": "7d5dcbcc2fd336ca51e896a65bf30eecb77149d4a416707277fd08908263bc13"
   }
  }
 },
 "nbformat": 4,
 "nbformat_minor": 5
}
