{
 "cells": [
  {
   "cell_type": "code",
   "execution_count": 1,
   "id": "da2b7b09",
   "metadata": {},
   "outputs": [],
   "source": [
    "import os\n",
    "import sys\n",
    "import pathlib\n",
    "import warnings\n",
    "import numpy as np\n",
    "import pandas as pd\n",
    "from pprint import pprint\n",
    "import tensorflow as tf\n",
    "from lips.benchmark.powergridBenchmark import PowerGridBenchmark\n",
    "from lips.augmented_simulators.tensorflow_models import LeapNet\n",
    "from lips.dataset.scaler.powergrid_scaler import PowerGridScaler\n",
    "from lips.utils import get_path"
   ]
  },
  {
   "cell_type": "code",
   "execution_count": null,
   "id": "be33188e",
   "metadata": {},
   "outputs": [],
   "source": [
    "# set some environment variables\n",
    "sys.path.insert(0, \"../../\")\n",
    "\n",
    "os.environ[\"CUDA_VISIBLE_DEVICES\"] = \"2\"\n",
    "\n",
    "gpus = tf.config.experimental.list_physical_devices('GPU')\n",
    "if gpus:\n",
    "  try:\n",
    "    tf.config.experimental.set_virtual_device_configuration(\n",
    "        gpus[0],[tf.config.experimental.VirtualDeviceConfiguration(memory_limit=5120)])\n",
    "  except RuntimeError as e:\n",
    "    print(e)\n",
    "\n",
    "warnings.simplefilter(action='ignore', category=pd.errors.PerformanceWarning)\n",
    "pd.set_option('display.max_columns', None)"
   ]
  },
  {
   "cell_type": "markdown",
   "id": "fd6ae7c6",
   "metadata": {},
   "source": [
    "# 1. l2rpn_neurips_2020_track1_small grid"
   ]
  },
  {
   "cell_type": "code",
   "execution_count": 3,
   "id": "2c64b584",
   "metadata": {},
   "outputs": [],
   "source": [
    "# indicate required paths\n",
    "LIPS_PATH = pathlib.Path().resolve().parent.parent # it is supposed that the notebook had run from getting_started folder\n",
    "DATA_PATH = LIPS_PATH / \"reference_data\" / \"powergrid\" / \"l2rpn_neurips_2020_track1_small\"\n",
    "BENCH_CONFIG_PATH = LIPS_PATH / \"configurations\" / \"powergrid\" / \"benchmarks\" / \"l2rpn_neurips_2020_track1_small.ini\"\n",
    "SIM_CONFIG_PATH = LIPS_PATH / \"configurations\" / \"powergrid\" / \"simulators\"\n",
    "BASELINES_PATH = LIPS_PATH / \"trained_baselines\" / \"powergrid\"\n",
    "TRAINED_BASELINES_PATH = LIPS_PATH / \"trained_baselines\" / \"powergrid\"\n",
    "EVALUATION_PATH = LIPS_PATH / \"evaluation_results\" / \"PowerGrid\"\n",
    "LOG_PATH = LIPS_PATH / \"lips_logs.log\""
   ]
  },
  {
   "cell_type": "markdown",
   "id": "d8d73308",
   "metadata": {},
   "source": [
    "## 1.1 Benchmark2: Risk assessment through contingency screening"
   ]
  },
  {
   "cell_type": "code",
   "execution_count": 4,
   "id": "46bfa7f3",
   "metadata": {},
   "outputs": [],
   "source": [
    "benchmark2 = PowerGridBenchmark(benchmark_name=\"Benchmark2\",\n",
    "                                benchmark_path=DATA_PATH,\n",
    "                                load_data_set=True,\n",
    "                                log_path=LOG_PATH,\n",
    "                                config_path=BENCH_CONFIG_PATH\n",
    "                               )"
   ]
  },
  {
   "cell_type": "code",
   "execution_count": null,
   "id": "bd60f503",
   "metadata": {},
   "outputs": [],
   "source": [
    "topo_actions = benchmark2.config.get_option(\"dataset_create_params\")[\"train\"][\"topo_actions\"]\n",
    "\n",
    "kwargs_tau = []\n",
    "for el in topo_actions:\n",
    "     kwargs_tau.append(el[\"set_bus\"][\"substations_id\"][0])\n",
    "\n",
    "pprint(kwargs_tau)"
   ]
  },
  {
   "cell_type": "markdown",
   "id": "e407858c",
   "metadata": {},
   "source": [
    "## LeapNet"
   ]
  },
  {
   "cell_type": "code",
   "execution_count": null,
   "id": "b02a9aaf",
   "metadata": {},
   "outputs": [],
   "source": [
    "leap_net = LeapNet(name=\"tf_leapnet\",\n",
    "                   bench_config_path=BENCH_CONFIG_PATH,\n",
    "                   bench_config_name=\"Benchmark2\",\n",
    "                   sim_config_path=SIM_CONFIG_PATH / \"tf_leapnet.ini\",\n",
    "                   sim_config_name=\"DEFAULT\",\n",
    "                   sizes_enc=(),\n",
    "                   sizes_main=(400, 400),\n",
    "                   sizes_out=(),\n",
    "                   topo_vect_to_tau=\"given_list\",\n",
    "                   kwargs_tau = kwargs_tau,\n",
    "                   concatenate_tau = True,\n",
    "                   loss = {\"name\": \"mse\"},\n",
    "                   lr = 1e-4,\n",
    "                   layer = \"resnet\",\n",
    "                   activation = tf.keras.layers.LeakyReLU(alpha=0.01),\n",
    "                   scale_main_layer = 400,\n",
    "                   scale_input_dec_layer = 400,\n",
    "                   log_path=LOG_PATH,\n",
    "                   mult_by_zero_lines_pred = False,\n",
    "                   scaler = PowerGridScaler\n",
    "                   )"
   ]
  },
  {
   "attachments": {},
   "cell_type": "markdown",
   "id": "87331e11",
   "metadata": {},
   "source": [
    "## Training"
   ]
  },
  {
   "cell_type": "code",
   "execution_count": 7,
   "id": "753457f1",
   "metadata": {
    "scrolled": true
   },
   "outputs": [
    {
     "ename": "NotImplementedError",
     "evalue": "Two \"taus index\" would match your topology for substation 26. It is not handled at the moment. Indexes {0, -257} matches",
     "output_type": "error",
     "traceback": [
      "\u001b[0;31m---------------------------------------------------------------------------\u001b[0m",
      "\u001b[0;31mNotImplementedError\u001b[0m                       Traceback (most recent call last)",
      "Cell \u001b[0;32mIn[7], line 1\u001b[0m\n\u001b[0;32m----> 1\u001b[0m leap_net\u001b[39m.\u001b[39;49mtrain(train_dataset\u001b[39m=\u001b[39;49mbenchmark2\u001b[39m.\u001b[39;49mtrain_dataset,\n\u001b[1;32m      2\u001b[0m                val_dataset\u001b[39m=\u001b[39;49mbenchmark2\u001b[39m.\u001b[39;49mval_dataset,\n\u001b[1;32m      3\u001b[0m                batch_size\u001b[39m=\u001b[39;49m\u001b[39m128\u001b[39;49m,\n\u001b[1;32m      4\u001b[0m                epochs\u001b[39m=\u001b[39;49m\u001b[39m2\u001b[39;49m)\n\u001b[1;32m      5\u001b[0m \u001b[39m#epochs=800\u001b[39;00m\n",
      "File \u001b[0;32m~/SYSTEMX/milad/LIPS/lips/augmented_simulators/tensorflow_simulator.py:89\u001b[0m, in \u001b[0;36mTensorflowSimulator.train\u001b[0;34m(self, train_dataset, val_dataset, save_path, **kwargs)\u001b[0m\n\u001b[1;32m     87\u001b[0m \u001b[39msuper\u001b[39m()\u001b[39m.\u001b[39mtrain(train_dataset, val_dataset)\n\u001b[1;32m     88\u001b[0m \u001b[39mself\u001b[39m\u001b[39m.\u001b[39mparams\u001b[39m.\u001b[39mupdate(kwargs)\n\u001b[0;32m---> 89\u001b[0m processed_x, processed_y \u001b[39m=\u001b[39m \u001b[39mself\u001b[39;49m\u001b[39m.\u001b[39;49mprocess_dataset(train_dataset, training\u001b[39m=\u001b[39;49m\u001b[39mTrue\u001b[39;49;00m)\n\u001b[1;32m     90\u001b[0m \u001b[39mif\u001b[39;00m val_dataset \u001b[39mis\u001b[39;00m \u001b[39mnot\u001b[39;00m \u001b[39mNone\u001b[39;00m:\n\u001b[1;32m     91\u001b[0m     processed_x_val, processed_y_val \u001b[39m=\u001b[39m \u001b[39mself\u001b[39m\u001b[39m.\u001b[39mprocess_dataset(val_dataset, training\u001b[39m=\u001b[39m\u001b[39mFalse\u001b[39;00m)\n",
      "File \u001b[0;32m~/SYSTEMX/milad/LIPS/lips/augmented_simulators/tensorflow_models/powergrid/leap_net.py:179\u001b[0m, in \u001b[0;36mLeapNet.process_dataset\u001b[0;34m(self, dataset, training)\u001b[0m\n\u001b[1;32m    177\u001b[0m \u001b[39mif\u001b[39;00m \u001b[39m\"\u001b[39m\u001b[39mtopo_vect\u001b[39m\u001b[39m\"\u001b[39m \u001b[39min\u001b[39;00m dataset\u001b[39m.\u001b[39mdata:\n\u001b[1;32m    178\u001b[0m     \u001b[39mif\u001b[39;00m training :\n\u001b[0;32m--> 179\u001b[0m         \u001b[39mself\u001b[39m\u001b[39m.\u001b[39m_topo_vect_transformer \u001b[39m=\u001b[39m TopoVectTransformation(\u001b[39mself\u001b[39;49m\u001b[39m.\u001b[39;49mbench_config, \u001b[39mself\u001b[39;49m\u001b[39m.\u001b[39;49mparams, dataset)\n\u001b[1;32m    180\u001b[0m     transformed_topo_vect \u001b[39m=\u001b[39m \u001b[39mself\u001b[39m\u001b[39m.\u001b[39m_topo_vect_transformer\u001b[39m.\u001b[39mtransform_topo_vect(dataset)\n\u001b[1;32m    182\u001b[0m \u001b[39m# concatenate line_status and topo_vect into a single feature, if the concatenate_tau param is enabled\u001b[39;00m\n",
      "File \u001b[0;32m~/SYSTEMX/milad/LIPS/lips/augmented_simulators/tensorflow_models/powergrid/utils.py:17\u001b[0m, in \u001b[0;36mTopoVectTransformation.__init__\u001b[0;34m(self, bench_config, params, dataset)\u001b[0m\n\u001b[1;32m     15\u001b[0m \u001b[39mself\u001b[39m\u001b[39m.\u001b[39mbench_config \u001b[39m=\u001b[39m bench_config\n\u001b[1;32m     16\u001b[0m \u001b[39mself\u001b[39m\u001b[39m.\u001b[39mparams \u001b[39m=\u001b[39m params\n\u001b[0;32m---> 17\u001b[0m \u001b[39mself\u001b[39m\u001b[39m.\u001b[39mfake_leapnet_proxy \u001b[39m=\u001b[39m \u001b[39mself\u001b[39;49m\u001b[39m.\u001b[39;49m_init_leapnet_proxy(dataset)\n",
      "File \u001b[0;32m~/SYSTEMX/milad/LIPS/lips/augmented_simulators/tensorflow_models/powergrid/utils.py:29\u001b[0m, in \u001b[0;36mTopoVectTransformation._init_leapnet_proxy\u001b[0;34m(self, dataset)\u001b[0m\n\u001b[1;32m     21\u001b[0m leapnet_proxy \u001b[39m=\u001b[39m ProxyLeapNet(\n\u001b[1;32m     22\u001b[0m     attr_x\u001b[39m=\u001b[39m\u001b[39mself\u001b[39m\u001b[39m.\u001b[39mbench_config\u001b[39m.\u001b[39mget_option(\u001b[39m\"\u001b[39m\u001b[39mattr_x\u001b[39m\u001b[39m\"\u001b[39m),\n\u001b[1;32m     23\u001b[0m     attr_y\u001b[39m=\u001b[39m\u001b[39mself\u001b[39m\u001b[39m.\u001b[39mbench_config\u001b[39m.\u001b[39mget_option(\u001b[39m\"\u001b[39m\u001b[39mattr_y\u001b[39m\u001b[39m\"\u001b[39m),\n\u001b[0;32m   (...)\u001b[0m\n\u001b[1;32m     26\u001b[0m     kwargs_tau\u001b[39m=\u001b[39m\u001b[39mself\u001b[39m\u001b[39m.\u001b[39mparams[\u001b[39m\"\u001b[39m\u001b[39mkwargs_tau\u001b[39m\u001b[39m\"\u001b[39m] \u001b[39mif\u001b[39;00m \u001b[39m\"\u001b[39m\u001b[39mkwargs_tau\u001b[39m\u001b[39m\"\u001b[39m \u001b[39min\u001b[39;00m \u001b[39mself\u001b[39m\u001b[39m.\u001b[39mparams \u001b[39melse\u001b[39;00m \u001b[39mNone\u001b[39;00m,\n\u001b[1;32m     27\u001b[0m )\n\u001b[1;32m     28\u001b[0m obss \u001b[39m=\u001b[39m \u001b[39mself\u001b[39m\u001b[39m.\u001b[39m_make_fake_obs(dataset)\n\u001b[0;32m---> 29\u001b[0m leapnet_proxy\u001b[39m.\u001b[39;49minit(obss)\n\u001b[1;32m     30\u001b[0m \u001b[39mreturn\u001b[39;00m leapnet_proxy\n",
      "File \u001b[0;32m~/SYSTEMX/milad/venv/LIPS/lib/python3.8/site-packages/leap_net/proxy/proxyLeapNet.py:498\u001b[0m, in \u001b[0;36mProxyLeapNet.init\u001b[0;34m(self, obss)\u001b[0m\n\u001b[1;32m    496\u001b[0m     \u001b[39mself\u001b[39m\u001b[39m.\u001b[39m_sd_tau \u001b[39m=\u001b[39m []\n\u001b[1;32m    497\u001b[0m     \u001b[39mfor\u001b[39;00m attr_nm \u001b[39min\u001b[39;00m \u001b[39mself\u001b[39m\u001b[39m.\u001b[39mattr_tau:\n\u001b[0;32m--> 498\u001b[0m         \u001b[39mself\u001b[39m\u001b[39m.\u001b[39m_m_tau\u001b[39m.\u001b[39mappend(\u001b[39mself\u001b[39;49m\u001b[39m.\u001b[39;49m_get_mean(obss, attr_nm))\n\u001b[1;32m    499\u001b[0m         \u001b[39mself\u001b[39m\u001b[39m.\u001b[39m_sd_tau\u001b[39m.\u001b[39mappend(\u001b[39mself\u001b[39m\u001b[39m.\u001b[39m_get_sd(obss, attr_nm))\n\u001b[1;32m    501\u001b[0m \u001b[39mself\u001b[39m\u001b[39m.\u001b[39m_metadata_loaded \u001b[39m=\u001b[39m \u001b[39mTrue\u001b[39;00m\n",
      "File \u001b[0;32m~/SYSTEMX/milad/venv/LIPS/lib/python3.8/site-packages/leap_net/proxy/baseNNProxy.py:374\u001b[0m, in \u001b[0;36mBaseNNProxy._get_mean\u001b[0;34m(self, obss, attr_nm)\u001b[0m\n\u001b[1;32m    366\u001b[0m \u001b[39mdef\u001b[39;00m \u001b[39m_get_mean\u001b[39m(\u001b[39mself\u001b[39m, obss, attr_nm):\n\u001b[1;32m    367\u001b[0m \u001b[39m    \u001b[39m\u001b[39m\"\"\"\u001b[39;00m\n\u001b[1;32m    368\u001b[0m \u001b[39m    For the scaler, compute the mean that will be used to scale the data\u001b[39;00m\n\u001b[1;32m    369\u001b[0m \n\u001b[0;32m   (...)\u001b[0m\n\u001b[1;32m    372\u001b[0m \u001b[39m    obss is a list of observation\u001b[39;00m\n\u001b[1;32m    373\u001b[0m \u001b[39m    \"\"\"\u001b[39;00m\n\u001b[0;32m--> 374\u001b[0m     add_, mul \u001b[39m=\u001b[39m \u001b[39mself\u001b[39;49m\u001b[39m.\u001b[39;49m_get_adds_mults_from_name(obss, attr_nm)\n\u001b[1;32m    375\u001b[0m     \u001b[39mreturn\u001b[39;00m add_\n",
      "File \u001b[0;32m~/SYSTEMX/milad/venv/LIPS/lib/python3.8/site-packages/leap_net/proxy/baseProxy.py:659\u001b[0m, in \u001b[0;36mBaseProxy._get_adds_mults_from_name\u001b[0;34m(self, obss, attr_nm)\u001b[0m\n\u001b[1;32m    643\u001b[0m \u001b[39m\u001b[39m\u001b[39m\"\"\"\u001b[39;00m\n\u001b[1;32m    644\u001b[0m \u001b[39mextract the scalers (mean and std) used for the observation\u001b[39;00m\n\u001b[1;32m    645\u001b[0m \n\u001b[0;32m   (...)\u001b[0m\n\u001b[1;32m    656\u001b[0m \n\u001b[1;32m    657\u001b[0m \u001b[39m\"\"\"\u001b[39;00m\n\u001b[1;32m    658\u001b[0m obs \u001b[39m=\u001b[39m obss[\u001b[39m0\u001b[39m]\n\u001b[0;32m--> 659\u001b[0m add_tmp \u001b[39m=\u001b[39m np\u001b[39m.\u001b[39mmean([\u001b[39mself\u001b[39m\u001b[39m.\u001b[39m_extract_obs(ob, attr_nm) \u001b[39mfor\u001b[39;00m ob \u001b[39min\u001b[39;00m obss], axis\u001b[39m=\u001b[39m\u001b[39m0\u001b[39m)\u001b[39m.\u001b[39mastype(\u001b[39mself\u001b[39m\u001b[39m.\u001b[39mdtype)\n\u001b[1;32m    660\u001b[0m mult_tmp \u001b[39m=\u001b[39m np\u001b[39m.\u001b[39mstd([\u001b[39mself\u001b[39m\u001b[39m.\u001b[39m_extract_obs(ob, attr_nm) \u001b[39mfor\u001b[39;00m ob \u001b[39min\u001b[39;00m obss], axis\u001b[39m=\u001b[39m\u001b[39m0\u001b[39m)\u001b[39m.\u001b[39mastype(\u001b[39mself\u001b[39m\u001b[39m.\u001b[39mdtype) \u001b[39m+\u001b[39m \u001b[39m1e-1\u001b[39m\n\u001b[1;32m    662\u001b[0m \u001b[39mif\u001b[39;00m attr_nm \u001b[39min\u001b[39;00m [\u001b[39m\"\u001b[39m\u001b[39mprod_p\u001b[39m\u001b[39m\"\u001b[39m]:\n\u001b[1;32m    663\u001b[0m     \u001b[39m# mult_tmp = np.array([max((pmax - pmin), 1.) for pmin, pmax in zip(obs.gen_pmin, obs.gen_pmax)],\u001b[39;00m\n\u001b[1;32m    664\u001b[0m     \u001b[39m#                     dtype=self.dtype)\u001b[39;00m\n\u001b[1;32m    665\u001b[0m     \u001b[39m# default values are good enough\u001b[39;00m\n",
      "File \u001b[0;32m~/SYSTEMX/milad/venv/LIPS/lib/python3.8/site-packages/leap_net/proxy/baseProxy.py:659\u001b[0m, in \u001b[0;36m<listcomp>\u001b[0;34m(.0)\u001b[0m\n\u001b[1;32m    643\u001b[0m \u001b[39m\u001b[39m\u001b[39m\"\"\"\u001b[39;00m\n\u001b[1;32m    644\u001b[0m \u001b[39mextract the scalers (mean and std) used for the observation\u001b[39;00m\n\u001b[1;32m    645\u001b[0m \n\u001b[0;32m   (...)\u001b[0m\n\u001b[1;32m    656\u001b[0m \n\u001b[1;32m    657\u001b[0m \u001b[39m\"\"\"\u001b[39;00m\n\u001b[1;32m    658\u001b[0m obs \u001b[39m=\u001b[39m obss[\u001b[39m0\u001b[39m]\n\u001b[0;32m--> 659\u001b[0m add_tmp \u001b[39m=\u001b[39m np\u001b[39m.\u001b[39mmean([\u001b[39mself\u001b[39;49m\u001b[39m.\u001b[39;49m_extract_obs(ob, attr_nm) \u001b[39mfor\u001b[39;00m ob \u001b[39min\u001b[39;00m obss], axis\u001b[39m=\u001b[39m\u001b[39m0\u001b[39m)\u001b[39m.\u001b[39mastype(\u001b[39mself\u001b[39m\u001b[39m.\u001b[39mdtype)\n\u001b[1;32m    660\u001b[0m mult_tmp \u001b[39m=\u001b[39m np\u001b[39m.\u001b[39mstd([\u001b[39mself\u001b[39m\u001b[39m.\u001b[39m_extract_obs(ob, attr_nm) \u001b[39mfor\u001b[39;00m ob \u001b[39min\u001b[39;00m obss], axis\u001b[39m=\u001b[39m\u001b[39m0\u001b[39m)\u001b[39m.\u001b[39mastype(\u001b[39mself\u001b[39m\u001b[39m.\u001b[39mdtype) \u001b[39m+\u001b[39m \u001b[39m1e-1\u001b[39m\n\u001b[1;32m    662\u001b[0m \u001b[39mif\u001b[39;00m attr_nm \u001b[39min\u001b[39;00m [\u001b[39m\"\u001b[39m\u001b[39mprod_p\u001b[39m\u001b[39m\"\u001b[39m]:\n\u001b[1;32m    663\u001b[0m     \u001b[39m# mult_tmp = np.array([max((pmax - pmin), 1.) for pmin, pmax in zip(obs.gen_pmin, obs.gen_pmax)],\u001b[39;00m\n\u001b[1;32m    664\u001b[0m     \u001b[39m#                     dtype=self.dtype)\u001b[39;00m\n\u001b[1;32m    665\u001b[0m     \u001b[39m# default values are good enough\u001b[39;00m\n",
      "File \u001b[0;32m~/SYSTEMX/milad/venv/LIPS/lib/python3.8/site-packages/leap_net/proxy/proxyLeapNet.py:850\u001b[0m, in \u001b[0;36mProxyLeapNet._extract_obs\u001b[0;34m(self, obs, attr_nm)\u001b[0m\n\u001b[1;32m    848\u001b[0m \u001b[39mdef\u001b[39;00m \u001b[39m_extract_obs\u001b[39m(\u001b[39mself\u001b[39m, obs, attr_nm):\n\u001b[1;32m    849\u001b[0m     \u001b[39mif\u001b[39;00m attr_nm \u001b[39m==\u001b[39m \u001b[39m\"\u001b[39m\u001b[39mtopo_vect\u001b[39m\u001b[39m\"\u001b[39m:\n\u001b[0;32m--> 850\u001b[0m         res \u001b[39m=\u001b[39m \u001b[39mself\u001b[39;49m\u001b[39m.\u001b[39;49mtopo_vect_handler(obs)\n\u001b[1;32m    851\u001b[0m     \u001b[39melse\u001b[39;00m:\n\u001b[1;32m    852\u001b[0m         res \u001b[39m=\u001b[39m \u001b[39msuper\u001b[39m()\u001b[39m.\u001b[39m_extract_obs(obs, attr_nm)\n",
      "File \u001b[0;32m~/SYSTEMX/milad/venv/LIPS/lib/python3.8/site-packages/leap_net/proxy/proxyLeapNet.py:1226\u001b[0m, in \u001b[0;36mProxyLeapNet._given_list_topo_encode\u001b[0;34m(self, obs)\u001b[0m\n\u001b[1;32m   1220\u001b[0m \u001b[39m# the next 3 \"elif\" tries to handle cases where some elements are disconnected\u001b[39;00m\n\u001b[1;32m   1221\u001b[0m \u001b[39m# but we can \"unambiguously\" find a sindle tau that \"match\" the\u001b[39;00m\n\u001b[1;32m   1222\u001b[0m \u001b[39m# topology. We try to do that\u001b[39;00m\n\u001b[1;32m   1223\u001b[0m \u001b[39melif\u001b[39;00m topo_1 \u001b[39min\u001b[39;00m \u001b[39mself\u001b[39m\u001b[39m.\u001b[39mdisco_topo \u001b[39mand\u001b[39;00m topo_2 \u001b[39min\u001b[39;00m \u001b[39mself\u001b[39m\u001b[39m.\u001b[39mdisco_topo:\n\u001b[1;32m   1224\u001b[0m     \u001b[39m# TODO i'm pretty sure, because of the symmetry \u001b[39;00m\n\u001b[1;32m   1225\u001b[0m     \u001b[39m# code should not fall into the other 2 cases above\u001b[39;00m\n\u001b[0;32m-> 1226\u001b[0m     \u001b[39mself\u001b[39;49m\u001b[39m.\u001b[39;49m_update_topo_when_disco(res, topo_1, sub_id)\n\u001b[1;32m   1227\u001b[0m \u001b[39melif\u001b[39;00m topo_1 \u001b[39min\u001b[39;00m \u001b[39mself\u001b[39m\u001b[39m.\u001b[39mdisco_topo \u001b[39mand\u001b[39;00m (\u001b[39mnot\u001b[39;00m topo_2 \u001b[39min\u001b[39;00m \u001b[39mself\u001b[39m\u001b[39m.\u001b[39mdisco_topo):\n\u001b[1;32m   1228\u001b[0m     \u001b[39m# TODO not sure about the \"and not...\"\u001b[39;00m\n\u001b[1;32m   1229\u001b[0m     \u001b[39mself\u001b[39m\u001b[39m.\u001b[39m_update_topo_when_disco(res, topo_1, sub_id)\n",
      "File \u001b[0;32m~/SYSTEMX/milad/venv/LIPS/lib/python3.8/site-packages/leap_net/proxy/proxyLeapNet.py:1080\u001b[0m, in \u001b[0;36mProxyLeapNet._update_topo_when_disco\u001b[0;34m(self, res, topo, sub_id)\u001b[0m\n\u001b[1;32m   1078\u001b[0m         res[topo_id] \u001b[39m=\u001b[39m \u001b[39m1.\u001b[39m\n\u001b[1;32m   1079\u001b[0m \u001b[39melse\u001b[39;00m:\n\u001b[0;32m-> 1080\u001b[0m     \u001b[39mraise\u001b[39;00m \u001b[39mNotImplementedError\u001b[39;00m(\u001b[39mf\u001b[39m\u001b[39m\"\u001b[39m\u001b[39mTwo \u001b[39m\u001b[39m\\\"\u001b[39;00m\u001b[39mtaus index\u001b[39m\u001b[39m\\\"\u001b[39;00m\u001b[39m would match \u001b[39m\u001b[39m\"\u001b[39m\n\u001b[1;32m   1081\u001b[0m                                 \u001b[39mf\u001b[39m\u001b[39m\"\u001b[39m\u001b[39myour topology for \u001b[39m\u001b[39m\"\u001b[39m\n\u001b[1;32m   1082\u001b[0m                                 \u001b[39mf\u001b[39m\u001b[39m\"\u001b[39m\u001b[39msubstation \u001b[39m\u001b[39m{\u001b[39;00msub_id\u001b[39m}\u001b[39;00m\u001b[39m. It is not handled \u001b[39m\u001b[39m\"\u001b[39m\n\u001b[1;32m   1083\u001b[0m                                 \u001b[39mf\u001b[39m\u001b[39m\"\u001b[39m\u001b[39mat the moment. Indexes \u001b[39m\u001b[39m{\u001b[39;00mindex_\u001b[39m}\u001b[39;00m\u001b[39m matches\u001b[39m\u001b[39m\"\u001b[39m)\n",
      "\u001b[0;31mNotImplementedError\u001b[0m: Two \"taus index\" would match your topology for substation 26. It is not handled at the moment. Indexes {0, -257} matches"
     ]
    }
   ],
   "source": [
    "leap_net.train(train_dataset=benchmark2.train_dataset,\n",
    "               val_dataset=benchmark2.val_dataset,\n",
    "               batch_size=128,\n",
    "               epochs=2)\n",
    "#epochs=800"
   ]
  },
  {
   "attachments": {},
   "cell_type": "markdown",
   "id": "fdcda0ea",
   "metadata": {},
   "source": [
    "### Save the model"
   ]
  },
  {
   "cell_type": "code",
   "execution_count": null,
   "id": "022d762b",
   "metadata": {},
   "outputs": [],
   "source": [
    "SAVE_PATH = get_path(TRAINED_BASELINES_PATH, benchmark1)\n",
    "leap_net.save(SAVE_PATH)"
   ]
  },
  {
   "attachments": {},
   "cell_type": "markdown",
   "id": "fa4b8f85",
   "metadata": {},
   "source": [
    "## Visualization"
   ]
  },
  {
   "cell_type": "code",
   "execution_count": null,
   "id": "5191460a",
   "metadata": {},
   "outputs": [],
   "source": [
    "tf.keras.utils.plot_model(\n",
    "    leap_net._model,\n",
    "    show_shapes=True,\n",
    "    show_dtype=True,\n",
    "    show_layer_activations= True)"
   ]
  },
  {
   "cell_type": "code",
   "execution_count": null,
   "id": "ec174c81",
   "metadata": {},
   "outputs": [],
   "source": [
    "leap_net.summary()"
   ]
  },
  {
   "cell_type": "code",
   "execution_count": null,
   "id": "f8bb6558",
   "metadata": {},
   "outputs": [],
   "source": [
    "leap_net.visualize_convergence()"
   ]
  },
  {
   "cell_type": "markdown",
   "id": "f6a5ac72",
   "metadata": {},
   "source": [
    "## Evaluation"
   ]
  },
  {
   "cell_type": "code",
   "execution_count": null,
   "id": "4c42928e",
   "metadata": {
    "scrolled": true
   },
   "outputs": [],
   "source": [
    "eval_metrics = benchmark2.evaluate_simulator(augmented_simulator=leap_net,\n",
    "                                             eval_batch_size=128,\n",
    "                                             dataset=\"all\",\n",
    "                                             shuffle=False,\n",
    "                                             save_predictions=True\n",
    "                                            )"
   ]
  },
  {
   "cell_type": "markdown",
   "id": "f2c64c37",
   "metadata": {},
   "source": [
    "## A "
   ]
  },
  {
   "cell_type": "code",
   "execution_count": null,
   "id": "cef4e418",
   "metadata": {},
   "outputs": [],
   "source": [
    "a_test_list = [eval_metrics[\"test\"][\"ML\"][\"mape_90_avg\"][\"a_or\"], eval_metrics[\"test\"][\"ML\"][\"mape_90_avg\"][\"a_ex\"]]\n",
    "a_ood_list = [eval_metrics[\"test_ood_topo\"][\"ML\"][\"mape_90_avg\"][\"a_or\"], eval_metrics[\"test_ood_topo\"][\"ML\"][\"mape_90_avg\"][\"a_ex\"]]"
   ]
  },
  {
   "cell_type": "code",
   "execution_count": null,
   "id": "6d10a17e",
   "metadata": {},
   "outputs": [],
   "source": [
    "print(\"ML : MAPE90 --> A : mean :{}, std :{}\".format(np.mean(a_test_list), np.std(a_test_list)))\n",
    "print(\"OOD : MAPE90 --> A : mean :{}, std :{}\".format(np.mean(a_ood_list), np.std(a_ood_list)))"
   ]
  },
  {
   "cell_type": "markdown",
   "id": "5aec5f7d",
   "metadata": {},
   "source": [
    "## P"
   ]
  },
  {
   "cell_type": "code",
   "execution_count": null,
   "id": "93a64bee",
   "metadata": {},
   "outputs": [],
   "source": [
    "p_test_list = [eval_metrics[\"test\"][\"ML\"][\"mape_avg\"][\"p_or\"], eval_metrics[\"test\"][\"ML\"][\"mape_avg\"][\"p_ex\"]]\n",
    "p_ood_list = [eval_metrics[\"test_ood_topo\"][\"ML\"][\"mape_avg\"][\"p_or\"], eval_metrics[\"test_ood_topo\"][\"ML\"][\"mape_avg\"][\"p_ex\"]]"
   ]
  },
  {
   "cell_type": "code",
   "execution_count": null,
   "id": "bb3e0e2f",
   "metadata": {},
   "outputs": [],
   "source": [
    "print(\"ML : MAPE --> P : mean :{}, std :{}\".format(np.mean(p_test_list), np.std(p_test_list)))\n",
    "print(\"OOD : MAPE --> P : mean :{}, std :{}\".format(np.mean(p_ood_list), np.std(p_ood_list)))"
   ]
  },
  {
   "cell_type": "markdown",
   "id": "685efcf1",
   "metadata": {},
   "source": [
    "## V "
   ]
  },
  {
   "cell_type": "code",
   "execution_count": null,
   "id": "86ee9ba0",
   "metadata": {},
   "outputs": [],
   "source": [
    "v_test_list = [eval_metrics[\"test\"][\"ML\"][\"MAE_avg\"][\"v_or\"], eval_metrics[\"test\"][\"ML\"][\"MAE_avg\"][\"v_ex\"]]\n",
    "v_ood_list = [eval_metrics[\"test_ood_topo\"][\"ML\"][\"MAE_avg\"][\"v_or\"], eval_metrics[\"test_ood_topo\"][\"ML\"][\"MAE_avg\"][\"v_ex\"]]"
   ]
  },
  {
   "cell_type": "code",
   "execution_count": null,
   "id": "7be23f3d",
   "metadata": {},
   "outputs": [],
   "source": [
    "print(\"ML : MAE --> V : mean :{}, std :{}\".format(np.mean(v_test_list), np.std(v_test_list)))\n",
    "print(\"OOD : MAE --> V : mean :{}, std :{}\".format(np.mean(v_ood_list), np.std(v_ood_list)))"
   ]
  },
  {
   "cell_type": "markdown",
   "id": "055db94f",
   "metadata": {},
   "source": [
    "## Inf speed-up"
   ]
  },
  {
   "cell_type": "code",
   "execution_count": null,
   "id": "e6d8dc6c",
   "metadata": {},
   "outputs": [],
   "source": [
    "print(\"ML : Inf speed-up :\", eval_metrics[\"test\"][\"ML\"][\"TIME_INF\"])"
   ]
  },
  {
   "cell_type": "markdown",
   "id": "e4fffd9d",
   "metadata": {},
   "source": [
    "## Physics ML"
   ]
  },
  {
   "cell_type": "code",
   "execution_count": null,
   "id": "c9025682",
   "metadata": {},
   "outputs": [],
   "source": [
    "print(\"1) Current positivity violation:\", (eval_metrics[\"test\"][\"Physics\"][\"CURRENT_POS\"][\"a_or\"][\"Violation_proportion\"]+eval_metrics[\"test\"][\"Physics\"][\"CURRENT_POS\"][\"a_ex\"][\"Violation_proportion\"])/2)#[\"a_or\"][\"Violation_proportion\"]\n",
    "print(\"2) Voltage positivity violation:\", (eval_metrics[\"test\"][\"Physics\"][\"VOLTAGE_POS\"][\"v_or\"][\"Violation_proportion\"]+eval_metrics[\"test\"][\"Physics\"][\"VOLTAGE_POS\"][\"v_ex\"][\"Violation_proportion\"])/2)\n",
    "print(\"3) Loss positivity violation:\", eval_metrics[\"test\"][\"Physics\"][\"LOSS_POS\"][\"violation_proportion\"])\n",
    "print(\"4) Disconnected lines violation:\", eval_metrics[\"test\"][\"Physics\"][\"DISC_LINES\"])\n",
    "print(\"5) Violation of loss to be between [1,4]% of production:\", eval_metrics[\"test\"][\"Physics\"][\"CHECK_LOSS\"][\"violation_percentage\"])\n",
    "print(\"6) Violation of global conservation: {}% and its weighted mape: {}\".format(eval_metrics[\"test\"][\"Physics\"][\"CHECK_GC\"][\"violation_percentage\"], eval_metrics[\"test\"][\"Physics\"][\"CHECK_GC\"][\"wmape\"]))\n",
    "print(\"7) Violation of local conservation: {}% and its weighted mape: {}\".format(eval_metrics[\"test\"][\"Physics\"][\"CHECK_LC\"][\"violation_percentage\"], eval_metrics[\"test\"][\"Physics\"][\"CHECK_LC\"][\"mape\"]))\n",
    "print(\"8) Violation proportion of voltage equality at subs:\", eval_metrics[\"test\"][\"Physics\"][\"CHECK_VOLTAGE_EQ\"][\"prop_voltages_violation\"])"
   ]
  },
  {
   "cell_type": "markdown",
   "id": "04961f8a",
   "metadata": {},
   "source": [
    "## Physics OOD"
   ]
  },
  {
   "cell_type": "code",
   "execution_count": null,
   "id": "2e064d97",
   "metadata": {},
   "outputs": [],
   "source": [
    "print(\"1) Current positivity violation:\", (eval_metrics[\"test_ood_topo\"][\"Physics\"][\"CURRENT_POS\"][\"a_or\"][\"Violation_proportion\"]+eval_metrics[\"test_ood_topo\"][\"Physics\"][\"CURRENT_POS\"][\"a_ex\"][\"Violation_proportion\"])/2)#[\"a_or\"][\"Violation_proportion\"]\n",
    "print(\"2) Voltage positivity violation:\", (eval_metrics[\"test_ood_topo\"][\"Physics\"][\"VOLTAGE_POS\"][\"v_or\"][\"Violation_proportion\"]+eval_metrics[\"test_ood_topo\"][\"Physics\"][\"VOLTAGE_POS\"][\"v_ex\"][\"Violation_proportion\"])/2)\n",
    "print(\"3) Loss positivity violation:\", eval_metrics[\"test_ood_topo\"][\"Physics\"][\"LOSS_POS\"][\"violation_proportion\"])\n",
    "print(\"4) Disconnected lines violation:\", eval_metrics[\"test_ood_topo\"][\"Physics\"][\"DISC_LINES\"])\n",
    "print(\"5) Violation of loss to be between [1,4]% of production:\", eval_metrics[\"test_ood_topo\"][\"Physics\"][\"CHECK_LOSS\"][\"violation_percentage\"])\n",
    "print(\"6) Violation of global conservation: {}% and its weighted mape: {}\".format(eval_metrics[\"test_ood_topo\"][\"Physics\"][\"CHECK_GC\"][\"violation_percentage\"], eval_metrics[\"test_ood_topo\"][\"Physics\"][\"CHECK_GC\"][\"wmape\"]))\n",
    "print(\"7) Violation of local conservation: {}% and its weighted mape: {}\".format(eval_metrics[\"test_ood_topo\"][\"Physics\"][\"CHECK_LC\"][\"violation_percentage\"], eval_metrics[\"test_ood_topo\"][\"Physics\"][\"CHECK_LC\"][\"mape\"]))\n",
    "print(\"8) Violation proportion of voltage equality at subs:\", eval_metrics[\"test_ood_topo\"][\"Physics\"][\"CHECK_VOLTAGE_EQ\"][\"prop_voltages_violation\"])"
   ]
  }
 ],
 "metadata": {
  "kernelspec": {
   "display_name": "Python 3 (ipykernel)",
   "language": "python",
   "name": "python3"
  },
  "language_info": {
   "codemirror_mode": {
    "name": "ipython",
    "version": 3
   },
   "file_extension": ".py",
   "mimetype": "text/x-python",
   "name": "python",
   "nbconvert_exporter": "python",
   "pygments_lexer": "ipython3",
   "version": "3.8.10"
  }
 },
 "nbformat": 4,
 "nbformat_minor": 5
}
