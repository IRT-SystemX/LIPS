{
 "cells": [
  {
   "attachments": {},
   "cell_type": "markdown",
   "metadata": {},
   "source": [
    "# Generate Datasets using DC approximation for Power Grid usecase\n",
    "This notebook allows to generate datasets for training and evaluation of augmented simulators using DC solver. In this case, the environment parameters should be modified to let the DC approximation be activate. Furthermore, we require to store the information concerning the admittance matrices via DC specific functions, that are implemented and integrated in various LIPS modules."
   ]
  },
  {
   "cell_type": "code",
   "execution_count": 53,
   "metadata": {},
   "outputs": [],
   "source": [
    "import pathlib\n",
    "\n",
    "LIPS_PATH = pathlib.Path().resolve().parent.parent\n",
    "CONFIG_PATH = LIPS_PATH / \"configurations\" / \"powergrid\" / \"benchmarks\" / \"l2rpn_case14_sandbox.ini\"\n",
    "DATA_PATH = LIPS_PATH / \"reference_data\" / \"powergrid\" / \"l2rpn_case14_sandbox\" / \"DC\"\n",
    "LOG_PATH = LIPS_PATH / \"lips_logs.log\""
   ]
  },
  {
   "cell_type": "code",
   "execution_count": 54,
   "metadata": {},
   "outputs": [],
   "source": [
    "if not DATA_PATH.exists():\n",
    "    DATA_PATH.mkdir(mode=511, parents=False)"
   ]
  },
  {
   "cell_type": "code",
   "execution_count": 56,
   "metadata": {},
   "outputs": [],
   "source": [
    "from lips.benchmark.powergridBenchmark import PowerGridBenchmark\n",
    "\n",
    "benchmark4 = PowerGridBenchmark(benchmark_path=DATA_PATH,\n",
    "                                benchmark_name=\"DoNothing\",\n",
    "                                load_data_set=False,\n",
    "                                config_path=CONFIG_PATH,\n",
    "                                log_path=LOG_PATH)"
   ]
  },
  {
   "cell_type": "code",
   "execution_count": 59,
   "metadata": {},
   "outputs": [
    {
     "name": "stderr",
     "output_type": "stream",
     "text": [
      "  5%|▌         | 5309/100000 [1:51:03<33:00:53,  1.26s/it]\n",
      "  1%|          | 754/100000 [1:48:28<237:58:38,  8.63s/it]\n",
      "  0%|          | 322/100000 [1:47:54<556:41:54, 20.11s/it]\n",
      "100%|██████████| 100000/100000 [09:37<00:00, 173.09it/s]\n",
      "100%|██████████| 10000/10000 [00:56<00:00, 178.32it/s]\n",
      "100%|██████████| 10000/10000 [01:06<00:00, 150.04it/s]\n",
      "100%|██████████| 10000/10000 [01:04<00:00, 154.27it/s]\n"
     ]
    }
   ],
   "source": [
    "benchmark4.generate(nb_sample_train=int(1e5),\n",
    "                    nb_sample_val=int(1e4),\n",
    "                    nb_sample_test=int(1e4),\n",
    "                    nb_sample_test_ood_topo=int(1e4),\n",
    "                    do_store_physics=True,\n",
    "                    is_dc=True\n",
    "                   )"
   ]
  },
  {
   "attachments": {},
   "cell_type": "markdown",
   "metadata": {},
   "source": [
    "### Error illustration \n",
    "An error occurs when using Benchmark3 that presents topological changes. The error source is related to when getting admittance matrix by `get_dcYbus()` function."
   ]
  },
  {
   "cell_type": "code",
   "execution_count": null,
   "metadata": {},
   "outputs": [],
   "source": [
    "from lips.benchmark.powergridBenchmark import PowerGridBenchmark\n",
    "\n",
    "benchmark3 = PowerGridBenchmark(benchmark_path=DATA_PATH,\n",
    "                                benchmark_name=\"Benchmark3\",\n",
    "                                load_data_set=False,\n",
    "                                config_path=CONFIG_PATH,\n",
    "                                log_path=LOG_PATH)"
   ]
  },
  {
   "cell_type": "code",
   "execution_count": null,
   "metadata": {},
   "outputs": [],
   "source": [
    "benchmark3.generate(nb_sample_train=int(1e5),\n",
    "                    nb_sample_val=int(1e4),\n",
    "                    nb_sample_test=int(1e4),\n",
    "                    nb_sample_test_ood_topo=int(1e4),\n",
    "                    do_store_physics=True,\n",
    "                    is_dc=True\n",
    "                   )"
   ]
  },
  {
   "cell_type": "code",
   "execution_count": 9,
   "metadata": {},
   "outputs": [],
   "source": [
    "YBus = benchmark3.training_simulator._simulator.backend._grid.get_dcYbus().todense()"
   ]
  },
  {
   "cell_type": "code",
   "execution_count": 11,
   "metadata": {},
   "outputs": [],
   "source": [
    "env = benchmark3.training_simulator._simulator\n",
    "obs = env.get_obs()"
   ]
  },
  {
   "attachments": {},
   "cell_type": "markdown",
   "metadata": {},
   "source": [
    "It can be seen that the dimension of unique bus bars is 14 however the returned admittance matrix for the same observation is 15x15 with an empty row and column."
   ]
  },
  {
   "cell_type": "code",
   "execution_count": 12,
   "metadata": {},
   "outputs": [
    {
     "name": "stdout",
     "output_type": "stream",
     "text": [
      "28\n",
      "[ 0  1  2  3  4  5  6  7  9 10 11 12 13 22]\n",
      "14\n"
     ]
    }
   ],
   "source": [
    "nb_bus, unique_bus, bus_or, bus_ex = obs._aux_fun_get_bus()\n",
    "n_bus_bars = obs._obs_env.n_sub * 2\n",
    "print(n_bus_bars)\n",
    "print(unique_bus)\n",
    "print(len(unique_bus))"
   ]
  },
  {
   "cell_type": "code",
   "execution_count": null,
   "metadata": {},
   "outputs": [
    {
     "data": {
      "text/plain": [
       "matrix([[0.+0.j, 0.+0.j, 0.+0.j, 0.+0.j, 0.+0.j, 0.+0.j, 0.+0.j, 0.+0.j,\n",
       "         0.+0.j, 0.+0.j, 0.+0.j, 0.+0.j, 0.+0.j, 0.+0.j, 0.+0.j]])"
      ]
     },
     "metadata": {},
     "output_type": "display_data"
    }
   ],
   "source": [
    "# Here is the row of admittance matrix which contains only zeros\n",
    "YBus[8]"
   ]
  },
  {
   "attachments": {},
   "cell_type": "markdown",
   "metadata": {},
   "source": [
    "There is an empty row and column in admittance matrix return using `get_dcYbus` function"
   ]
  },
  {
   "cell_type": "code",
   "execution_count": 18,
   "metadata": {},
   "outputs": [
    {
     "data": {
      "text/plain": [
       "array([8])"
      ]
     },
     "execution_count": 18,
     "metadata": {},
     "output_type": "execute_result"
    }
   ],
   "source": [
    "import numpy as np\n",
    "np.where(~YBus.any(axis=1))[0]"
   ]
  },
  {
   "attachments": {},
   "cell_type": "markdown",
   "metadata": {},
   "source": [
    "Removing the empty line and column from admittance matrix"
   ]
  },
  {
   "cell_type": "code",
   "execution_count": 40,
   "metadata": {},
   "outputs": [],
   "source": [
    "indices_rows = np.array(YBus.any(axis=1).flatten()).reshape(-1,)\n",
    "indices_cols = np.array(YBus.any(axis=0).flatten()).reshape(-1,)"
   ]
  },
  {
   "cell_type": "code",
   "execution_count": 52,
   "metadata": {},
   "outputs": [
    {
     "data": {
      "text/plain": [
       "(14, 14)"
      ]
     },
     "execution_count": 52,
     "metadata": {},
     "output_type": "execute_result"
    }
   ],
   "source": [
    "YBus[np.ix_(indices_rows, indices_cols)].shape"
   ]
  },
  {
   "attachments": {},
   "cell_type": "markdown",
   "metadata": {},
   "source": [
    "## Generate one step without using LIPS"
   ]
  },
  {
   "cell_type": "code",
   "execution_count": 47,
   "metadata": {},
   "outputs": [],
   "source": [
    "import grid2op\n",
    "from grid2op.Agent import DoNothingAgent\n",
    "from lightsim2grid import LightSimBackend\n",
    "from lips.dataset.utils.powergrid_utils import get_kwargs_simulator_scenario"
   ]
  },
  {
   "cell_type": "code",
   "execution_count": 42,
   "metadata": {},
   "outputs": [
    {
     "data": {
      "text/plain": [
       "{'dataset': 'l2rpn_case14_sandbox',\n",
       " 'param': <grid2op.Parameters.Parameters at 0x7f9528b728b0>,\n",
       " 'data_feeding_kwargs': {'gridvalueClass': grid2op.Chronics.gridStateFromFile.GridStateFromFile},\n",
       " 'action_class': grid2op.Action.PlayableAction.PlayableAction,\n",
       " 'opponent_init_budget': 0,\n",
       " 'opponent_action_class': grid2op.Action.DontAct.DontAct,\n",
       " 'backend': <lightsim2grid.lightSimBackend.LightSimBackend at 0x7f9528bab700>}"
      ]
     },
     "execution_count": 42,
     "metadata": {},
     "output_type": "execute_result"
    }
   ],
   "source": [
    "kwargs_simulator = get_kwargs_simulator_scenario(benchmark3.config)\n",
    "kwargs_simulator"
   ]
  },
  {
   "cell_type": "code",
   "execution_count": 44,
   "metadata": {},
   "outputs": [],
   "source": [
    "env = grid2op.make(**kwargs_simulator)"
   ]
  },
  {
   "cell_type": "code",
   "execution_count": 46,
   "metadata": {},
   "outputs": [
    {
     "data": {
      "text/plain": [
       "{'NO_OVERFLOW_DISCONNECTION': True,\n",
       " 'IGNORE_MIN_UP_DOWN_TIME': True,\n",
       " 'ALLOW_DISPATCH_GEN_SWITCH_OFF': True,\n",
       " 'LIMIT_INFEASIBLE_CURTAILMENT_STORAGE_ACTION': False,\n",
       " 'NB_TIMESTEP_OVERFLOW_ALLOWED': 2,\n",
       " 'NB_TIMESTEP_RECONNECTION': 10,\n",
       " 'HARD_OVERFLOW_THRESHOLD': 2.0,\n",
       " 'ENV_DC': True,\n",
       " 'FORECAST_DC': False,\n",
       " 'MAX_SUB_CHANGED': 999999,\n",
       " 'MAX_LINE_STATUS_CHANGED': 999999,\n",
       " 'NB_TIMESTEP_COOLDOWN_LINE': 0,\n",
       " 'NB_TIMESTEP_COOLDOWN_SUB': 0,\n",
       " 'INIT_STORAGE_CAPACITY': 0.5,\n",
       " 'ACTIVATE_STORAGE_LOSS': True,\n",
       " 'ALARM_BEST_TIME': 12,\n",
       " 'ALARM_WINDOW_SIZE': 12,\n",
       " 'MAX_SIMULATE_PER_STEP': -1,\n",
       " 'MAX_SIMULATE_PER_EPISODE': -1}"
      ]
     },
     "execution_count": 46,
     "metadata": {},
     "output_type": "execute_result"
    }
   ],
   "source": [
    "env.parameters.to_dict()"
   ]
  },
  {
   "cell_type": "code",
   "execution_count": 51,
   "metadata": {},
   "outputs": [
    {
     "name": "stdout",
     "output_type": "stream",
     "text": [
      "This action will:\n",
      "\t - NOT change anything to the injections\n",
      "\t - NOT perform any redispatching action\n",
      "\t - NOT modify any storage capacity\n",
      "\t - NOT perform any curtailment\n",
      "\t - NOT force any line status\n",
      "\t - NOT switch any line status\n",
      "\t - NOT switch anything in the topology\n",
      "\t - NOT force any particular bus configuration\n"
     ]
    }
   ],
   "source": [
    "agent = DoNothingAgent(env.action_space)\n",
    "action = agent.act(None, None)\n",
    "print(action)"
   ]
  },
  {
   "cell_type": "code",
   "execution_count": 52,
   "metadata": {},
   "outputs": [],
   "source": [
    "obs = env.reset()\n",
    "obs, *_ = env.step(action)"
   ]
  },
  {
   "cell_type": "code",
   "execution_count": 60,
   "metadata": {},
   "outputs": [
    {
     "data": {
      "text/plain": [
       "(14, 14)"
      ]
     },
     "execution_count": 60,
     "metadata": {},
     "output_type": "execute_result"
    }
   ],
   "source": [
    "env.backend._grid.get_dcYbus().todense().shape"
   ]
  }
 ],
 "metadata": {
  "kernelspec": {
   "display_name": "lips",
   "language": "python",
   "name": "python3"
  },
  "language_info": {
   "codemirror_mode": {
    "name": "ipython",
    "version": 3
   },
   "file_extension": ".py",
   "mimetype": "text/x-python",
   "name": "python",
   "nbconvert_exporter": "python",
   "pygments_lexer": "ipython3",
   "version": "3.8.10"
  },
  "orig_nbformat": 4
 },
 "nbformat": 4,
 "nbformat_minor": 2
}
