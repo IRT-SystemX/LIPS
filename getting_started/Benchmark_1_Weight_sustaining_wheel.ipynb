{
 "cells": [
  {
   "cell_type": "markdown",
   "id": "3f58f35b",
   "metadata": {},
   "source": [
    "# Import all dependencies\n",
    "\n",
    "We import all the dependencies required to run the benchmark"
   ]
  },
  {
   "cell_type": "code",
   "execution_count": 13,
   "id": "ec77ba2d",
   "metadata": {},
   "outputs": [],
   "source": [
    "from lips.config.configmanager import ConfigManager\n",
    "from lips.augmented_simulators.torch_models.u_net import TorchUnet\n",
    "from lips.augmented_simulators.torch_models.fully_connected import TorchFullyConnected\n",
    "from lips.augmented_simulators.torch_simulator import TorchSimulator\n",
    "from lips.dataset.sampler import LHSSampler\n",
    "from lips.dataset.scaler.standard_scaler_per_channel import StandardScalerPerChannel\n",
    "from lips.dataset.scaler.standard_scaler import StandardScaler\n",
    "\n",
    "from lips.physical_simulator.getfemSimulator import GetfemSimulator\n",
    "import lips.physical_simulator.GetfemSimulator.PhysicalFieldNames as PFN\n",
    "\n",
    "from lips.benchmark.wheelBenchmark import WeightSustainingWheelBenchmark\n",
    "from lips.dataset.pneumaticWheelDataSet import SamplerStaticWheelDataSet,DataSetInterpolatorOnGrid,DataSetInterpolatorOnMesh\n",
    "from lips import GetRootPath\n",
    "import os"
   ]
  },
  {
   "cell_type": "markdown",
   "id": "42246f55",
   "metadata": {},
   "source": [
    "# Constant definition\n",
    "\n",
    "We defined the constants used all through the program"
   ]
  },
  {
   "cell_type": "code",
   "execution_count": 14,
   "id": "7a9d9800",
   "metadata": {},
   "outputs": [],
   "source": [
    "CONFIG_PATH_BENCHMARK=GetRootPath()+os.path.join(\"..\",\"configurations\",\"pneumatic\",\"benchmarks\",\"confWheel.ini\")"
   ]
  },
  {
   "cell_type": "markdown",
   "id": "2f334b2a",
   "metadata": {},
   "source": [
    "# Datasets generation\n",
    "\n",
    "We generate the train/test and validation datasets"
   ]
  },
  {
   "cell_type": "code",
   "execution_count": 15,
   "id": "cb71fbba",
   "metadata": {},
   "outputs": [
    {
     "name": "stdout",
     "output_type": "stream",
     "text": [
      "{'attr_x': ('Force',),\n",
      " 'attr_y': ('disp',),\n",
      " 'attr_y_eval': ('disp',),\n",
      " 'env_name': 'VerticalDisp_wheelFFNN',\n",
      " 'env_params': {'physical_domain': {'Mesher': 'Getfem',\n",
      "                                    'meshSize': 1,\n",
      "                                    'refNumByRegion': {'CONTACT_BOUND': 2,\n",
      "                                                       'EXTERIOR_BOUND': 3,\n",
      "                                                       'HOLE_BOUND': 1},\n",
      "                                    'wheelDimensions': (8.0,\n",
      "                                                        15.0)},\n",
      "                'physical_properties': {'contact': [['CONTACT_BOUND',\n",
      "                                                     {'fricCoeff': 0.0,\n",
      "                                                      'gap': 0.0,\n",
      "                                                      'type': 'Plane'}]],\n",
      "                                        'materials': [['ALL',\n",
      "                                                       {'law': 'LinearElasticity',\n",
      "                                                        'poisson': 0.495,\n",
      "                                                        'young': 5980000.0}]],\n",
      "                                        'neumann': [['HOLE_BOUND',\n",
      "                                                     {'Force': 10000000.0,\n",
      "                                                      'type': 'RimRigidityNeumann'}]],\n",
      "                                        'problem_type': 'StaticMechanicalStandard'}},\n",
      " 'eval_crit_args': {},\n",
      " 'eval_dict': {'ML': ['MSE_avg',\n",
      "                      'MAE_avg'],\n",
      "               'Physics': ['max_stress',\n",
      "                           'max_deflection']},\n",
      " 'sampler': {'nb_samples': {'test': 3,\n",
      "                            'train': 21,\n",
      "                            'val': 6},\n",
      "             'sampler_input_params': {'Force': (10000.0,\n",
      "                                                10000000.0)},\n",
      "             'seeds': {'test': 42,\n",
      "                       'train': 42,\n",
      "                       'val': 42}}}\n"
     ]
    }
   ],
   "source": [
    "wheel_config=ConfigManager(path=CONFIG_PATH_BENCHMARK,\n",
    "                              section_name=\"WeightSustainingWheelBenchmarkRegular\")\n",
    "\n",
    "print(wheel_config)"
   ]
  },
  {
   "cell_type": "code",
   "execution_count": 16,
   "id": "3df6bc46",
   "metadata": {},
   "outputs": [],
   "source": [
    "env_params=wheel_config.get_option(\"env_params\")\n",
    "physical_domain=env_params.get(\"physical_domain\")\n",
    "physical_properties=env_params.get(\"physical_properties\")\n",
    "simulator=GetfemSimulator(physical_domain=physical_domain,physical_properties=physical_properties)"
   ]
  },
  {
   "cell_type": "markdown",
   "id": "a1961887",
   "metadata": {},
   "source": [
    "# Sampler generation"
   ]
  },
  {
   "cell_type": "code",
   "execution_count": 17,
   "id": "7fcb8a8c",
   "metadata": {},
   "outputs": [
    {
     "name": "stdout",
     "output_type": "stream",
     "text": [
      "Type of sampling: LHSSampler\n",
      "Parameters\n",
      "\tForce: (10000.0, 10000000.0)\n",
      "\n"
     ]
    }
   ],
   "source": [
    "sampler=wheel_config.get_option(\"sampler\")\n",
    "sampler_input_params=sampler.get(\"sampler_input_params\")\n",
    "sampler_seeds=sampler.get(\"seeds\")\n",
    "sampler_nb_samples=sampler.get(\"nb_samples\")\n",
    "\n",
    "lhs_sampler=LHSSampler(space_params=sampler_input_params)\n",
    "print(lhs_sampler)"
   ]
  },
  {
   "cell_type": "markdown",
   "id": "80e7c453",
   "metadata": {},
   "source": [
    "# Training dataset generation"
   ]
  },
  {
   "cell_type": "code",
   "execution_count": 18,
   "id": "69612ef7",
   "metadata": {},
   "outputs": [
    {
     "name": "stderr",
     "output_type": "stream",
     "text": [
      "\r",
      "train:   0%|                                                                                                                          | 0/21 [00:00<?, ?it/s]"
     ]
    },
    {
     "name": "stdout",
     "output_type": "stream",
     "text": [
      "Solve problem with  4507  dofs\n",
      " iter   0 residual            1\n",
      "step control [       0,       1,1.52588e-05] iter   1 residual      21.1153\n",
      "step control [       0,       1,    0.0625] iter   2 residual      37.0891\n",
      "step control [       0,       1,     0.125] iter   3 residual      50.3676\n",
      "step control [       0,       1,       0.5] iter   4 residual      66.5287\n",
      "step control [       0,       1,         1] iter   5 residual       29.689\n",
      "step control [       0,       1,         1] iter   6 residual      12.3367\n",
      "step control [       0,       1,         1] iter   7 residual      1.13715\n",
      "step control [       0,       1,         1] iter   8 residual  2.38451e-06\n"
     ]
    },
    {
     "name": "stderr",
     "output_type": "stream",
     "text": [
      "\r",
      "train:   5%|█████▍                                                                                                            | 1/21 [00:00<00:06,  2.88it/s]"
     ]
    },
    {
     "name": "stdout",
     "output_type": "stream",
     "text": [
      "step control [       0,       1,         1] iter   9 residual  9.47208e-07\n",
      "Solve problem with  4507  dofs\n",
      " iter   0 residual            1\n",
      "step control [       0,       1,1.52588e-05] iter   1 residual      21.1156\n",
      "step control [       0,       1,         1] iter   2 residual      39.1397\n",
      "step control [       0,       1,         1] iter   3 residual      12.4495\n",
      "step control [       0,       1,         1] iter   4 residual      4.53917\n",
      "step control [       0,       1,         1] iter   5 residual        1.668\n"
     ]
    },
    {
     "name": "stderr",
     "output_type": "stream",
     "text": [
      "\r",
      "train:  10%|██████████▊                                                                                                       | 2/21 [00:00<00:05,  3.73it/s]"
     ]
    },
    {
     "name": "stdout",
     "output_type": "stream",
     "text": [
      "step control [       0,       1,         1] iter   6 residual  8.25921e-08\n",
      "Solve problem with  4507  dofs\n",
      " iter   0 residual            1\n",
      "step control [       0,       1,1.52588e-05] iter   1 residual      21.1156\n",
      "step control [       0,       1,       0.5] iter   2 residual      37.9977\n",
      "step control [       0,       1,         1] iter   3 residual      23.9879\n",
      "step control [       0,       1,         1] iter   4 residual      5.58022\n",
      "step control [       0,       1,         1] iter   5 residual      1.80673\n"
     ]
    },
    {
     "name": "stderr",
     "output_type": "stream",
     "text": [
      "\r",
      "train:  14%|████████████████▎                                                                                                 | 3/21 [00:00<00:04,  4.12it/s]"
     ]
    },
    {
     "name": "stdout",
     "output_type": "stream",
     "text": [
      "step control [       0,       1,         1] iter   6 residual  4.65554e-08\n",
      "Solve problem with  4507  dofs\n",
      " iter   0 residual            1\n"
     ]
    },
    {
     "name": "stderr",
     "output_type": "stream",
     "text": [
      "\r",
      "train:  19%|█████████████████████▋                                                                                            | 4/21 [00:00<00:03,  4.58it/s]"
     ]
    },
    {
     "name": "stdout",
     "output_type": "stream",
     "text": [
      "step control [       0,       1,1.52588e-05] iter   1 residual      21.1156\n",
      "step control [       0,       1,         1] iter   2 residual      31.5186\n",
      "step control [       0,       1,         1] iter   3 residual      9.85915\n",
      "step control [       0,       1,         1] iter   4 residual      3.43225\n",
      "step control [       0,       1,         1] iter   5 residual      1.04902\n",
      "step control [       0,       1,         1] iter   6 residual   1.5647e-08\n",
      "Solve problem with  4507  dofs\n",
      " iter   0 residual            1\n",
      "step control [       0,       1,1.52588e-05] iter   1 residual      21.1156\n"
     ]
    },
    {
     "name": "stderr",
     "output_type": "stream",
     "text": [
      "\r",
      "train:  24%|███████████████████████████▏                                                                                      | 5/21 [00:01<00:03,  4.88it/s]"
     ]
    },
    {
     "name": "stdout",
     "output_type": "stream",
     "text": [
      "step control [       0,       1,      0.25] iter   2 residual      31.3487\n",
      "step control [       0,       1,         1] iter   3 residual      37.4914\n",
      "step control [       0,       1,         1] iter   4 residual      11.0102\n",
      "step control [       0,       1,         1] iter   5 residual      1.02373\n",
      "step control [       0,       1,         1] iter   6 residual  2.68554e-07\n",
      "Solve problem with  4507  dofs\n",
      " iter   0 residual            1\n",
      "step control [       0,       1,1.52588e-05] iter   1 residual      21.1156\n",
      "step control [       0,       1,      0.25] iter   2 residual      39.2001\n"
     ]
    },
    {
     "name": "stderr",
     "output_type": "stream",
     "text": [
      "\r",
      "train:  29%|████████████████████████████████▌                                                                                 | 6/21 [00:01<00:02,  5.06it/s]"
     ]
    },
    {
     "name": "stdout",
     "output_type": "stream",
     "text": [
      "step control [       0,       1,         1] iter   3 residual      52.5177\n",
      "step control [       0,       1,         1] iter   4 residual      15.9261\n",
      "step control [       0,       1,         1] iter   5 residual      2.21357\n",
      "step control [       0,       1,         1] iter   6 residual  8.08466e-07\n",
      "Solve problem with  4507  dofs\n",
      " iter   0 residual            1\n",
      "step control [       0,       1,1.52588e-05] iter   1 residual      21.1156\n",
      "step control [       0,       1,         1] iter   2 residual      33.9036\n",
      "step control [       0,       1,         1] iter   3 residual      10.6698\n",
      "step control [       0,       1,         1] iter   4 residual      3.77866\n"
     ]
    },
    {
     "name": "stderr",
     "output_type": "stream",
     "text": [
      "\r",
      "train:  33%|██████████████████████████████████████                                                                            | 7/21 [00:01<00:02,  5.24it/s]"
     ]
    },
    {
     "name": "stdout",
     "output_type": "stream",
     "text": [
      "step control [       0,       1,         1] iter   5 residual      1.24273\n",
      "step control [       0,       1,         1] iter   6 residual  3.65973e-08\n",
      "Solve problem with  4507  dofs\n",
      " iter   0 residual            1\n",
      "step control [       0,       1,1.52588e-05] iter   1 residual      21.1155\n",
      "step control [       0,       1,     0.125] iter   2 residual      29.4229\n",
      "step control [       0,       1,      0.25] iter   3 residual      38.8652\n",
      "step control [       0,       1,         1] iter   4 residual      30.2218\n",
      "step control [       0,       1,         1] iter   5 residual      9.26083\n"
     ]
    },
    {
     "name": "stderr",
     "output_type": "stream",
     "text": [
      "\r",
      "train:  38%|███████████████████████████████████████████▍                                                                      | 8/21 [00:01<00:02,  5.08it/s]"
     ]
    },
    {
     "name": "stdout",
     "output_type": "stream",
     "text": [
      "step control [       0,       1,         1] iter   6 residual      2.84527\n",
      "step control [       0,       1,         1] iter   7 residual  2.43256e-07\n",
      "Solve problem with  4507  dofs\n",
      " iter   0 residual            1\n",
      "step control [       0,       1,1.52588e-05] iter   1 residual      21.1155\n",
      "step control [       0,       1,     0.125] iter   2 residual      35.0656\n",
      "step control [       0,       1,       0.5] iter   3 residual      55.9637\n",
      "step control [       0,       1,         1] iter   4 residual      25.8597\n",
      "step control [       0,       1,         1] iter   5 residual      4.70369\n"
     ]
    },
    {
     "name": "stderr",
     "output_type": "stream",
     "text": [
      "\r",
      "train:  43%|████████████████████████████████████████████████▊                                                                 | 9/21 [00:01<00:02,  4.97it/s]"
     ]
    },
    {
     "name": "stdout",
     "output_type": "stream",
     "text": [
      "step control [       0,       1,         1] iter   6 residual  1.59793e-06\n",
      "step control [       0,       1,         1] iter   7 residual  1.25506e-12\n",
      "Solve problem with  4507  dofs\n",
      " iter   0 residual            1\n",
      "step control [       0,       1,1.52588e-05] iter   1 residual      21.1132\n",
      "step control [       0,       1, 0.0078125] iter   2 residual      37.6365\n",
      "step control [       0,       1,  0.015625] iter   3 residual      57.5422\n",
      "step control [       0,       1,   0.03125] iter   4 residual      78.2237\n",
      "step control [       0,       1,     0.125] iter   5 residual      101.391\n",
      "step control [       0,       1,       0.5] iter   6 residual      129.771\n",
      "step control [       0,       1,         1] iter   7 residual      65.2343\n",
      "step control [       0,       1,         1] iter   8 residual      6.49568\n",
      "step control [       0,       1,         1] iter   9 residual     0.235075\n",
      "step control [       0,       1,1.52588e-05] iter  10 residual     0.251099\n",
      "step control [       0,       1,1.52588e-05] iter  11 residual     0.264494\n",
      "step control [       0,       1,1.52588e-05] iter  12 residual     0.278439\n",
      "step control [       0,       1,3.05176e-05] iter  13 residual     0.303623\n",
      "step control [       0,       1,3.05176e-05] iter  14 residual     0.321762\n",
      "step control [       0,       1,6.10352e-05] iter  15 residual      0.34286\n",
      "step control [       0,       1,0.00012207] iter  16 residual     0.365024\n",
      "step control [       0,       1,0.000244141] iter  17 residual     0.385039\n"
     ]
    },
    {
     "name": "stderr",
     "output_type": "stream",
     "text": [
      "\r",
      "train:  48%|█████████████████████████████████████████████████████▊                                                           | 10/21 [00:02<00:03,  2.84it/s]"
     ]
    },
    {
     "name": "stdout",
     "output_type": "stream",
     "text": [
      "step control [       0,       1,         1] iter  18 residual     0.020667\n",
      "step control [       0,       1,         1] iter  19 residual   0.00277132\n",
      "step control [       0,       1,         1] iter  20 residual  5.53564e-05\n",
      "step control [       0,       1,         1] iter  21 residual   2.2948e-12\n",
      "Solve problem with  4507  dofs\n",
      " iter   0 residual            1\n",
      "step control [       0,       1,1.52588e-05] iter   1 residual      21.1156\n",
      "step control [       0,       1,         1] iter   2 residual      32.3637\n",
      "step control [       0,       1,         1] iter   3 residual      10.1464\n"
     ]
    },
    {
     "name": "stderr",
     "output_type": "stream",
     "text": [
      "\r",
      "train:  52%|███████████████████████████████████████████████████████████▏                                                     | 11/21 [00:02<00:03,  3.31it/s]"
     ]
    },
    {
     "name": "stdout",
     "output_type": "stream",
     "text": [
      "step control [       0,       1,         1] iter   4 residual      3.55501\n",
      "step control [       0,       1,         1] iter   5 residual      1.11766\n",
      "step control [       0,       1,         1] iter   6 residual  2.30709e-08\n",
      "Solve problem with  4507  dofs\n",
      " iter   0 residual            1\n",
      "step control [       0,       1,1.52588e-05] iter   1 residual      21.1155\n",
      "step control [       0,       1,    0.0625] iter   2 residual       28.716\n",
      "step control [       0,       1,     0.125] iter   3 residual       39.132\n",
      "step control [       0,       1,       0.5] iter   4 residual      57.1017\n"
     ]
    },
    {
     "name": "stderr",
     "output_type": "stream",
     "text": [
      "\r",
      "train:  57%|████████████████████████████████████████████████████████████████▌                                                | 12/21 [00:03<00:02,  3.53it/s]"
     ]
    },
    {
     "name": "stdout",
     "output_type": "stream",
     "text": [
      "step control [       0,       1,         1] iter   5 residual      33.8542\n",
      "step control [       0,       1,         1] iter   6 residual      6.72904\n",
      "step control [       0,       1,         1] iter   7 residual   2.2568e-06\n",
      "step control [       0,       1,         1] iter   8 residual  1.40924e-12\n",
      "Solve problem with  4507  dofs\n",
      " iter   0 residual            1\n",
      "step control [       0,       1,1.52588e-05] iter   1 residual      21.1156\n",
      "step control [       0,       1,       0.5] iter   2 residual      32.3447\n",
      "step control [       0,       1,         1] iter   3 residual      19.4057\n"
     ]
    },
    {
     "name": "stderr",
     "output_type": "stream",
     "text": [
      "\r",
      "train:  62%|█████████████████████████████████████████████████████████████████████▉                                           | 13/21 [00:03<00:02,  3.92it/s]"
     ]
    },
    {
     "name": "stdout",
     "output_type": "stream",
     "text": [
      "step control [       0,       1,         1] iter   4 residual      4.30536\n",
      "step control [       0,       1,         1] iter   5 residual      1.15849\n",
      "step control [       0,       1,         1] iter   6 residual  2.44584e-09\n",
      "Solve problem with  4507  dofs\n",
      " iter   0 residual            1\n",
      "step control [       0,       1,1.52588e-05] iter   1 residual      21.1156\n",
      "step control [       0,       1,       0.5] iter   2 residual      34.5236\n",
      "step control [       0,       1,         1] iter   3 residual      21.1743\n",
      "step control [       0,       1,         1] iter   4 residual      4.79771\n"
     ]
    },
    {
     "name": "stderr",
     "output_type": "stream",
     "text": [
      "\r",
      "train:  67%|███████████████████████████████████████████████████████████████████████████▎                                     | 14/21 [00:03<00:01,  4.26it/s]"
     ]
    },
    {
     "name": "stdout",
     "output_type": "stream",
     "text": [
      "step control [       0,       1,         1] iter   5 residual        1.408\n",
      "step control [       0,       1,         1] iter   6 residual  3.71961e-08\n",
      "Solve problem with  4507  dofs\n",
      " iter   0 residual            1\n",
      "step control [       0,       1,1.52588e-05] iter   1 residual      21.1156\n",
      "step control [       0,       1,       0.5] iter   2 residual       27.616\n",
      "step control [       0,       1,         1] iter   3 residual      18.3184\n",
      "step control [       0,       1,         1] iter   4 residual      4.84604\n",
      "step control [       0,       1,         1] iter   5 residual       1.8396\n"
     ]
    },
    {
     "name": "stderr",
     "output_type": "stream",
     "text": [
      "\r",
      "train:  71%|████████████████████████████████████████████████████████████████████████████████▋                                | 15/21 [00:03<00:01,  4.55it/s]"
     ]
    },
    {
     "name": "stdout",
     "output_type": "stream",
     "text": [
      "step control [       0,       1,         1] iter   6 residual  1.01151e-07\n",
      "Solve problem with  4507  dofs\n",
      " iter   0 residual            1\n",
      "step control [       0,       1,1.52588e-05] iter   1 residual      21.1156\n",
      "step control [       0,       1,      0.25] iter   2 residual      28.6305\n",
      "step control [       0,       1,         1] iter   3 residual      36.9282\n",
      "step control [       0,       1,         1] iter   4 residual      12.2216\n",
      "step control [       0,       1,         1] iter   5 residual      2.32759\n"
     ]
    },
    {
     "name": "stderr",
     "output_type": "stream",
     "text": [
      "\r",
      "train:  76%|██████████████████████████████████████████████████████████████████████████████████████                           | 16/21 [00:03<00:01,  4.76it/s]"
     ]
    },
    {
     "name": "stdout",
     "output_type": "stream",
     "text": [
      "step control [       0,       1,         1] iter   6 residual  7.85582e-07\n",
      "Solve problem with  4507  dofs\n"
     ]
    },
    {
     "name": "stderr",
     "output_type": "stream",
     "text": [
      "\r",
      "train:  81%|███████████████████████████████████████████████████████████████████████████████████████████▍                     | 17/21 [00:03<00:00,  4.98it/s]"
     ]
    },
    {
     "name": "stdout",
     "output_type": "stream",
     "text": [
      " iter   0 residual            1\n",
      "step control [       0,       1,1.52588e-05] iter   1 residual      21.1156\n",
      "step control [       0,       1,         1] iter   2 residual      35.6017\n",
      "step control [       0,       1,         1] iter   3 residual       11.247\n",
      "step control [       0,       1,         1] iter   4 residual       4.0253\n",
      "step control [       0,       1,         1] iter   5 residual      1.38065\n",
      "step control [       0,       1,         1] iter   6 residual  5.15139e-08\n",
      "Solve problem with  4507  dofs\n",
      " iter   0 residual            1\n"
     ]
    },
    {
     "name": "stderr",
     "output_type": "stream",
     "text": [
      "\r",
      "train:  86%|████████████████████████████████████████████████████████████████████████████████████████████████▊                | 18/21 [00:04<00:00,  5.14it/s]"
     ]
    },
    {
     "name": "stdout",
     "output_type": "stream",
     "text": [
      "step control [       0,       1,1.52588e-05] iter   1 residual      21.1156\n",
      "step control [       0,       1,       0.5] iter   2 residual      29.4769\n",
      "step control [       0,       1,         1] iter   3 residual      20.0777\n",
      "step control [       0,       1,         1] iter   4 residual      5.41084\n",
      "step control [       0,       1,         1] iter   5 residual  9.53107e-05\n",
      "step control [       0,       1,         1] iter   6 residual  3.51022e-07\n",
      "Solve problem with  4507  dofs\n",
      " iter   0 residual            1\n",
      "step control [       0,       1,1.52588e-05] iter   1 residual      21.1156\n"
     ]
    },
    {
     "name": "stderr",
     "output_type": "stream",
     "text": [
      "\r",
      "train:  90%|██████████████████████████████████████████████████████████████████████████████████████████████████████▏          | 19/21 [00:04<00:00,  5.23it/s]"
     ]
    },
    {
     "name": "stdout",
     "output_type": "stream",
     "text": [
      "step control [       0,       1,      0.25] iter   2 residual      29.9374\n",
      "step control [       0,       1,         1] iter   3 residual      34.7488\n",
      "step control [       0,       1,         1] iter   4 residual       10.126\n",
      "step control [       0,       1,         1] iter   5 residual     0.817468\n",
      "step control [       0,       1,         1] iter   6 residual  8.99899e-07\n",
      "Solve problem with  4507  dofs\n",
      " iter   0 residual            1\n",
      "step control [       0,       1,1.52588e-05] iter   1 residual      21.1156\n",
      "step control [       0,       1,      0.25] iter   2 residual      34.0598\n"
     ]
    },
    {
     "name": "stderr",
     "output_type": "stream",
     "text": [
      "\r",
      "train:  95%|███████████████████████████████████████████████████████████████████████████████████████████████████████████▌     | 20/21 [00:04<00:00,  5.27it/s]"
     ]
    },
    {
     "name": "stdout",
     "output_type": "stream",
     "text": [
      "step control [       0,       1,         1] iter   3 residual       42.716\n",
      "step control [       0,       1,         1] iter   4 residual       12.716\n",
      "step control [       0,       1,         1] iter   5 residual      1.42783\n",
      "step control [       0,       1,         1] iter   6 residual  2.46048e-07\n",
      "Solve problem with  4507  dofs\n",
      " iter   0 residual            1\n",
      "step control [       0,       1,1.52588e-05] iter   1 residual      21.1156\n",
      "step control [       0,       1,       0.5] iter   2 residual      30.6111\n",
      "step control [       0,       1,         1] iter   3 residual      21.1475\n"
     ]
    },
    {
     "name": "stderr",
     "output_type": "stream",
     "text": [
      "train: 100%|█████████████████████████████████████████████████████████████████████████████████████████████████████████████████| 21/21 [00:04<00:00,  4.46it/s]\n"
     ]
    },
    {
     "name": "stdout",
     "output_type": "stream",
     "text": [
      "step control [       0,       1,         1] iter   4 residual      5.75507\n",
      "step control [       0,       1,         1] iter   5 residual  0.000108535\n",
      "step control [       0,       1,         1] iter   6 residual  3.80887e-07\n"
     ]
    }
   ],
   "source": [
    "attr_names=(PFN.displacement,)\n",
    "DATA_PATH=\"WeightSustainingWheelBenchmarkRegular\"\n",
    "\n",
    "pneumatic_wheel_dataset_train=SamplerStaticWheelDataSet(\"train\",attr_names=attr_names,config=wheel_config)\n",
    "pneumatic_wheel_dataset_train.generate(simulator=simulator,\n",
    "                                    actor=lhs_sampler,\n",
    "                                    nb_samples=sampler_nb_samples.get(\"train\"),\n",
    "                                    actor_seed=sampler_seeds.get(\"train\"),\n",
    "                                    path_out=DATA_PATH\n",
    "                                    )"
   ]
  },
  {
   "cell_type": "code",
   "execution_count": 19,
   "id": "4e63c3d3",
   "metadata": {},
   "outputs": [
    {
     "name": "stderr",
     "output_type": "stream",
     "text": [
      "\r",
      "val:   0%|                                                                                                                             | 0/6 [00:00<?, ?it/s]"
     ]
    },
    {
     "name": "stdout",
     "output_type": "stream",
     "text": [
      "Solve problem with  4507  dofs\n",
      " iter   0 residual            1\n",
      "step control [       0,       1,1.52588e-05] iter   1 residual      21.1038\n",
      "step control [       0,       1,0.000976562] iter   2 residual      29.2743\n",
      "step control [       0,       1,0.00195312] iter   3 residual      42.2365\n",
      "step control [       0,       1,0.00390625] iter   4 residual       57.984\n",
      "step control [       0,       1,  0.015625] iter   5 residual      83.7774\n",
      "step control [       0,       1,   0.03125] iter   6 residual      109.961\n",
      "step control [       0,       1,    0.0625] iter   7 residual       119.17\n",
      "step control [       0,       1,       0.5] iter   8 residual      115.554\n"
     ]
    },
    {
     "name": "stderr",
     "output_type": "stream",
     "text": [
      "\r",
      "val:  17%|███████████████████▌                                                                                                 | 1/6 [00:00<00:01,  2.81it/s]"
     ]
    },
    {
     "name": "stdout",
     "output_type": "stream",
     "text": [
      "step control [       0,       1,         1] iter   9 residual   0.00539168\n",
      "step control [       0,       1,         1] iter  10 residual  0.000146727\n",
      "step control [       0,       1,         1] iter  11 residual  7.93246e-07\n",
      "Solve problem with  4507  dofs\n",
      " iter   0 residual            1\n",
      "step control [       0,       1,1.52588e-05] iter   1 residual      21.1155\n",
      "step control [       0,       1,     0.125] iter   2 residual      35.2172\n",
      "step control [       0,       1,       0.5] iter   3 residual      56.3274\n",
      "step control [       0,       1,         1] iter   4 residual      26.0528\n"
     ]
    },
    {
     "name": "stderr",
     "output_type": "stream",
     "text": [
      "\r",
      "val:  33%|███████████████████████████████████████                                                                              | 2/6 [00:00<00:01,  3.66it/s]"
     ]
    },
    {
     "name": "stdout",
     "output_type": "stream",
     "text": [
      "step control [       0,       1,         1] iter   5 residual      4.75261\n",
      "step control [       0,       1,         1] iter   6 residual  1.61384e-06\n",
      "step control [       0,       1,         1] iter   7 residual  1.27629e-12\n",
      "Solve problem with  4507  dofs\n",
      " iter   0 residual            1\n",
      "step control [       0,       1,1.52588e-05] iter   1 residual      21.1156\n",
      "step control [       0,       1,       0.5] iter   2 residual      29.6539\n",
      "step control [       0,       1,         1] iter   3 residual      20.2451\n",
      "step control [       0,       1,         1] iter   4 residual      5.46468\n"
     ]
    },
    {
     "name": "stderr",
     "output_type": "stream",
     "text": [
      "\r",
      "val:  50%|██████████████████████████████████████████████████████████▌                                                          | 3/6 [00:00<00:00,  4.26it/s]"
     ]
    },
    {
     "name": "stdout",
     "output_type": "stream",
     "text": [
      "step control [       0,       1,         1] iter   5 residual  9.73791e-05\n",
      "step control [       0,       1,         1] iter   6 residual  3.55693e-07\n",
      "Solve problem with  4507  dofs\n",
      " iter   0 residual            1\n",
      "step control [       0,       1,1.52588e-05] iter   1 residual      21.1156\n",
      "step control [       0,       1,       0.5] iter   2 residual      33.9871\n",
      "step control [       0,       1,         1] iter   3 residual      20.7384\n",
      "step control [       0,       1,         1] iter   4 residual      4.67648\n",
      "step control [       0,       1,         1] iter   5 residual      1.34657\n"
     ]
    },
    {
     "name": "stderr",
     "output_type": "stream",
     "text": [
      "\r",
      "val:  67%|██████████████████████████████████████████████████████████████████████████████                                       | 4/6 [00:00<00:00,  4.61it/s]"
     ]
    },
    {
     "name": "stdout",
     "output_type": "stream",
     "text": [
      "step control [       0,       1,         1] iter   6 residual   1.9676e-08\n",
      "Solve problem with  4507  dofs\n",
      " iter   0 residual            1\n",
      "step control [       0,       1,1.52588e-05] iter   1 residual      21.1156\n",
      "step control [       0,       1,      0.25] iter   2 residual      29.1294\n",
      "step control [       0,       1,         1] iter   3 residual      38.0412\n"
     ]
    },
    {
     "name": "stderr",
     "output_type": "stream",
     "text": [
      "\r",
      "val:  83%|█████████████████████████████████████████████████████████████████████████████████████████████████▌                   | 5/6 [00:01<00:00,  4.87it/s]"
     ]
    },
    {
     "name": "stdout",
     "output_type": "stream",
     "text": [
      "step control [       0,       1,         1] iter   4 residual      12.6232\n",
      "step control [       0,       1,         1] iter   5 residual      2.45154\n",
      "step control [       0,       1,         1] iter   6 residual  3.53338e-07\n",
      "Solve problem with  4507  dofs\n",
      " iter   0 residual            1\n",
      "step control [       0,       1,1.52588e-05] iter   1 residual      21.1156\n",
      "step control [       0,       1,         1] iter   2 residual      30.4766\n",
      "step control [       0,       1,         1] iter   3 residual      9.50498\n",
      "step control [       0,       1,         1] iter   4 residual      3.28091\n"
     ]
    },
    {
     "name": "stderr",
     "output_type": "stream",
     "text": [
      "val: 100%|█████████████████████████████████████████████████████████████████████████████████████████████████████████████████████| 6/6 [00:01<00:00,  4.53it/s]\n"
     ]
    },
    {
     "name": "stdout",
     "output_type": "stream",
     "text": [
      "step control [       0,       1,         1] iter   5 residual     0.966798\n",
      "step control [       0,       1,         1] iter   6 residual  3.14572e-08\n"
     ]
    }
   ],
   "source": [
    "pneumatic_wheel_dataset_val=SamplerStaticWheelDataSet(\"val\",attr_names=attr_names,config=wheel_config)\n",
    "pneumatic_wheel_dataset_val.generate(simulator=simulator,\n",
    "                                    actor=lhs_sampler,\n",
    "                                    nb_samples=sampler_nb_samples.get(\"val\"),\n",
    "                                    actor_seed=sampler_seeds.get(\"val\"),\n",
    "                                    path_out=DATA_PATH\n",
    "                                    )"
   ]
  },
  {
   "cell_type": "code",
   "execution_count": 20,
   "id": "7345617e",
   "metadata": {},
   "outputs": [
    {
     "name": "stderr",
     "output_type": "stream",
     "text": [
      "\r",
      "test:   0%|                                                                                                                            | 0/3 [00:00<?, ?it/s]"
     ]
    },
    {
     "name": "stdout",
     "output_type": "stream",
     "text": [
      "Solve problem with  4507  dofs\n",
      " iter   0 residual            1\n",
      "step control [       0,       1,1.52588e-05] iter   1 residual       21.108\n",
      "step control [       0,       1,0.00195312] iter   2 residual      32.9876\n",
      "step control [       0,       1,0.00390625] iter   3 residual      50.7189\n",
      "step control [       0,       1, 0.0078125] iter   4 residual      71.7629\n",
      "step control [       0,       1,   0.03125] iter   5 residual      104.789\n"
     ]
    },
    {
     "name": "stderr",
     "output_type": "stream",
     "text": [
      "\r",
      "test:  33%|██████████████████████████████████████▋                                                                             | 1/3 [00:00<00:00,  3.11it/s]"
     ]
    },
    {
     "name": "stdout",
     "output_type": "stream",
     "text": [
      "step control [       0,       1,    0.0625] iter   6 residual      136.446\n",
      "step control [       0,       1,      0.25] iter   7 residual      170.239\n",
      "step control [       0,       1,         1] iter   8 residual      98.4976\n",
      "step control [       0,       1,         1] iter   9 residual  2.59507e-05\n",
      "step control [       0,       1,         1] iter  10 residual  2.70375e-12\n",
      "Solve problem with  4507  dofs\n",
      " iter   0 residual            1\n",
      "step control [       0,       1,1.52588e-05] iter   1 residual      21.1156\n",
      "step control [       0,       1,      0.25] iter   2 residual      33.2754\n"
     ]
    },
    {
     "name": "stderr",
     "output_type": "stream",
     "text": [
      "\r",
      "test:  67%|█████████████████████████████████████████████████████████████████████████████▎                                      | 2/3 [00:00<00:00,  4.07it/s]"
     ]
    },
    {
     "name": "stdout",
     "output_type": "stream",
     "text": [
      "step control [       0,       1,         1] iter   3 residual      41.2067\n",
      "step control [       0,       1,         1] iter   4 residual      12.2216\n",
      "step control [       0,       1,         1] iter   5 residual      1.30682\n",
      "step control [       0,       1,         1] iter   6 residual  2.43832e-07\n",
      "Solve problem with  4507  dofs\n",
      " iter   0 residual            1\n",
      "step control [       0,       1,1.52588e-05] iter   1 residual      21.1156\n",
      "step control [       0,       1,         1] iter   2 residual      36.2175\n",
      "step control [       0,       1,         1] iter   3 residual      11.4563\n"
     ]
    },
    {
     "name": "stderr",
     "output_type": "stream",
     "text": [
      "test: 100%|████████████████████████████████████████████████████████████████████████████████████████████████████████████████████| 3/3 [00:00<00:00,  4.28it/s]"
     ]
    },
    {
     "name": "stdout",
     "output_type": "stream",
     "text": [
      "step control [       0,       1,         1] iter   4 residual      4.11474\n",
      "step control [       0,       1,         1] iter   5 residual      1.43066\n",
      "step control [       0,       1,         1] iter   6 residual  5.69232e-08\n"
     ]
    },
    {
     "name": "stderr",
     "output_type": "stream",
     "text": [
      "\n"
     ]
    }
   ],
   "source": [
    "pneumatic_wheel_dataset_test=SamplerStaticWheelDataSet(\"test\",attr_names=attr_names,config=wheel_config)\n",
    "pneumatic_wheel_dataset_test.generate(simulator=simulator,\n",
    "                                    actor=lhs_sampler,\n",
    "                                    nb_samples=sampler_nb_samples.get(\"test\"),\n",
    "                                    actor_seed=sampler_seeds.get(\"test\"),\n",
    "                                    path_out=DATA_PATH\n",
    "                                    )"
   ]
  },
  {
   "cell_type": "markdown",
   "id": "8f4728a8",
   "metadata": {},
   "source": [
    "# Start training with FC architecture"
   ]
  },
  {
   "cell_type": "code",
   "execution_count": 21,
   "id": "5464d437",
   "metadata": {},
   "outputs": [],
   "source": [
    "LOG_PATH=\"WeightSustainingFFNN.log\"\n",
    "CONFIG_PATH_AUGMENTED_SIMULATOR_FC=GetRootPath()+os.path.join(\"..\",\"configurations\",\"pneumatic\",\"simulators\",\"torch_fc.ini\")\n",
    "DATA_PATH=\".\"\n",
    "\n",
    "benchmark_ffnn = WeightSustainingWheelBenchmark(benchmark_name=\"WeightSustainingWheelBenchmarkRegular\",\n",
    "                                benchmark_path=DATA_PATH,\n",
    "                                load_data_set=True,\n",
    "                                log_path=LOG_PATH,\n",
    "                                config_path=CONFIG_PATH_BENCHMARK\n",
    "                               )\n",
    "\n",
    "torch_sim = TorchSimulator(name=\"torch_ffnn\",\n",
    "                           model=TorchFullyConnected,\n",
    "                           scaler=StandardScaler,\n",
    "                           log_path=LOG_PATH,\n",
    "                           seed=42,\n",
    "                           architecture_type=\"Classical\",\n",
    "                           sim_config_path=CONFIG_PATH_AUGMENTED_SIMULATOR_FC,\n",
    "                           bench_config_path=CONFIG_PATH_BENCHMARK\n",
    "                          )\n",
    "\n",
    "SAVE_PATH=GetRootPath()+os.path.join(\"..\",\"getting_started\",\"TestBenchmarkWheel\",\"FFNNResults\")\n",
    "SAVE_PATH=GetRootPath()+os.path.join(\"..\",\"getting_started\",\"TestBenchmarkWheel\",\"FFNNResults\")\n",
    "\n",
    "\n",
    "torch_sim_config=ConfigManager(path=CONFIG_PATH_AUGMENTED_SIMULATOR_FC,\n",
    "                              section_name=\"CONFIGWHEELSUSTAIN\")"
   ]
  },
  {
   "cell_type": "code",
   "execution_count": 22,
   "id": "0761330e",
   "metadata": {
    "scrolled": true
   },
   "outputs": [
    {
     "data": {
      "text/plain": [
       "{'architecture_type': 'Classical',\n",
       " 'bench_config_path': '/home/ddanan/HSAProject/LIPSPlatform/LIPS_Github/LIPS/lips/../configurations/pneumatic/benchmarks/confWheel.ini',\n",
       " 'name': 'torch_fc',\n",
       " 'layers': (300, 300, 300, 300),\n",
       " 'activation': 'relu',\n",
       " 'layer': 'linear',\n",
       " 'input_dropout': 0.0,\n",
       " 'dropout': 0.0,\n",
       " 'metrics': ('MAELoss',),\n",
       " 'loss': {'name': 'MSELoss',\n",
       "  'params': {'size_average': None, 'reduce': None, 'reduction': 'mean'}},\n",
       " 'device': 'cpu',\n",
       " 'optimizer': {'name': 'adam', 'params': {'lr': 0.0002}},\n",
       " 'train_batch_size': 50,\n",
       " 'eval_batch_size': 50,\n",
       " 'epochs': 200,\n",
       " 'shuffle': False,\n",
       " 'save_freq': False,\n",
       " 'ckpt_freq': 50}"
      ]
     },
     "execution_count": 22,
     "metadata": {},
     "output_type": "execute_result"
    }
   ],
   "source": [
    "torch_sim.params"
   ]
  },
  {
   "cell_type": "code",
   "execution_count": 23,
   "id": "62416578",
   "metadata": {},
   "outputs": [
    {
     "name": "stdout",
     "output_type": "stream",
     "text": [
      "Train Epoch: 1   Avg_Loss: 0.49116 ['MAELoss: 0.43556']\n",
      "Eval:   Avg_Loss: 0.72965 ['MAELoss: 0.51003']\n",
      "Train Epoch: 2   Avg_Loss: 0.48937 ['MAELoss: 0.43367']\n",
      "Eval:   Avg_Loss: 0.72754 ['MAELoss: 0.50854']\n",
      "Train Epoch: 3   Avg_Loss: 0.48768 ['MAELoss: 0.43221']\n",
      "Eval:   Avg_Loss: 0.72522 ['MAELoss: 0.50725']\n",
      "Train Epoch: 4   Avg_Loss: 0.48582 ['MAELoss: 0.43093']\n",
      "Eval:   Avg_Loss: 0.72253 ['MAELoss: 0.50600']\n",
      "Train Epoch: 5   Avg_Loss: 0.48367 ['MAELoss: 0.42970']\n",
      "Eval:   Avg_Loss: 0.71922 ['MAELoss: 0.50466']\n",
      "Train Epoch: 6   Avg_Loss: 0.48104 ['MAELoss: 0.42837']\n",
      "Eval:   Avg_Loss: 0.71528 ['MAELoss: 0.50313']\n",
      "Train Epoch: 7   Avg_Loss: 0.47789 ['MAELoss: 0.42685']\n",
      "Eval:   Avg_Loss: 0.71055 ['MAELoss: 0.50131']\n",
      "Train Epoch: 8   Avg_Loss: 0.47411 ['MAELoss: 0.42508']\n",
      "Eval:   Avg_Loss: 0.70492 ['MAELoss: 0.49917']\n",
      "Train Epoch: 9   Avg_Loss: 0.46964 ['MAELoss: 0.42302']\n",
      "Eval:   Avg_Loss: 0.69826 ['MAELoss: 0.49670']\n",
      "Train Epoch: 10   Avg_Loss: 0.46439 ['MAELoss: 0.42063']\n",
      "Eval:   Avg_Loss: 0.69043 ['MAELoss: 0.49381']\n",
      "Train Epoch: 11   Avg_Loss: 0.45822 ['MAELoss: 0.41784']\n",
      "Eval:   Avg_Loss: 0.68129 ['MAELoss: 0.49045']\n",
      "Train Epoch: 12   Avg_Loss: 0.45105 ['MAELoss: 0.41460']\n",
      "Eval:   Avg_Loss: 0.67068 ['MAELoss: 0.48649']\n",
      "Train Epoch: 13   Avg_Loss: 0.44274 ['MAELoss: 0.41081']\n",
      "Eval:   Avg_Loss: 0.65839 ['MAELoss: 0.48181']\n",
      "Train Epoch: 14   Avg_Loss: 0.43317 ['MAELoss: 0.40636']\n",
      "Eval:   Avg_Loss: 0.64423 ['MAELoss: 0.47623']\n",
      "Train Epoch: 15   Avg_Loss: 0.42221 ['MAELoss: 0.40110']\n",
      "Eval:   Avg_Loss: 0.62811 ['MAELoss: 0.46965']\n",
      "Train Epoch: 16   Avg_Loss: 0.40976 ['MAELoss: 0.39489']\n",
      "Eval:   Avg_Loss: 0.60980 ['MAELoss: 0.46187']\n",
      "Train Epoch: 17   Avg_Loss: 0.39570 ['MAELoss: 0.38757']\n",
      "Eval:   Avg_Loss: 0.58919 ['MAELoss: 0.45274']\n",
      "Train Epoch: 18   Avg_Loss: 0.37999 ['MAELoss: 0.37901']\n",
      "Eval:   Avg_Loss: 0.56618 ['MAELoss: 0.44214']\n",
      "Train Epoch: 19   Avg_Loss: 0.36256 ['MAELoss: 0.36908']\n",
      "Eval:   Avg_Loss: 0.54080 ['MAELoss: 0.42995']\n",
      "Train Epoch: 20   Avg_Loss: 0.34347 ['MAELoss: 0.35762']\n",
      "Eval:   Avg_Loss: 0.51300 ['MAELoss: 0.41598']\n",
      "Train Epoch: 21   Avg_Loss: 0.32277 ['MAELoss: 0.34446']\n",
      "Eval:   Avg_Loss: 0.48285 ['MAELoss: 0.40030']\n",
      "Train Epoch: 22   Avg_Loss: 0.30060 ['MAELoss: 0.32959']\n",
      "Eval:   Avg_Loss: 0.45064 ['MAELoss: 0.38312']\n",
      "Train Epoch: 23   Avg_Loss: 0.27726 ['MAELoss: 0.31317']\n",
      "Eval:   Avg_Loss: 0.41677 ['MAELoss: 0.36462']\n",
      "Train Epoch: 24   Avg_Loss: 0.25324 ['MAELoss: 0.29570']\n",
      "Eval:   Avg_Loss: 0.38186 ['MAELoss: 0.34557']\n",
      "Train Epoch: 25   Avg_Loss: 0.22917 ['MAELoss: 0.27800']\n",
      "Eval:   Avg_Loss: 0.34677 ['MAELoss: 0.32659']\n",
      "Train Epoch: 26   Avg_Loss: 0.20588 ['MAELoss: 0.26098']\n",
      "Eval:   Avg_Loss: 0.31254 ['MAELoss: 0.30860']\n",
      "Train Epoch: 27   Avg_Loss: 0.18434 ['MAELoss: 0.24584']\n",
      "Eval:   Avg_Loss: 0.28014 ['MAELoss: 0.29229']\n",
      "Train Epoch: 28   Avg_Loss: 0.16542 ['MAELoss: 0.23321']\n",
      "Eval:   Avg_Loss: 0.25038 ['MAELoss: 0.27747']\n",
      "Train Epoch: 29   Avg_Loss: 0.14969 ['MAELoss: 0.22328']\n",
      "Eval:   Avg_Loss: 0.22356 ['MAELoss: 0.26400']\n",
      "Train Epoch: 30   Avg_Loss: 0.13709 ['MAELoss: 0.21600']\n",
      "Eval:   Avg_Loss: 0.19960 ['MAELoss: 0.25162']\n",
      "Train Epoch: 31   Avg_Loss: 0.12703 ['MAELoss: 0.21046']\n",
      "Eval:   Avg_Loss: 0.17838 ['MAELoss: 0.24013']\n",
      "Train Epoch: 32   Avg_Loss: 0.11877 ['MAELoss: 0.20587']\n",
      "Eval:   Avg_Loss: 0.15983 ['MAELoss: 0.22922']\n",
      "Train Epoch: 33   Avg_Loss: 0.11156 ['MAELoss: 0.20135']\n",
      "Eval:   Avg_Loss: 0.14355 ['MAELoss: 0.21825']\n",
      "Train Epoch: 34   Avg_Loss: 0.10448 ['MAELoss: 0.19566']\n",
      "Eval:   Avg_Loss: 0.12886 ['MAELoss: 0.20670']\n",
      "Train Epoch: 35   Avg_Loss: 0.09663 ['MAELoss: 0.18794']\n",
      "Eval:   Avg_Loss: 0.11515 ['MAELoss: 0.19429']\n",
      "Train Epoch: 36   Avg_Loss: 0.08754 ['MAELoss: 0.17776']\n",
      "Eval:   Avg_Loss: 0.10241 ['MAELoss: 0.18150']\n",
      "Train Epoch: 37   Avg_Loss: 0.07751 ['MAELoss: 0.16564']\n",
      "Eval:   Avg_Loss: 0.09105 ['MAELoss: 0.16933']\n",
      "Train Epoch: 38   Avg_Loss: 0.06731 ['MAELoss: 0.15269']\n",
      "Eval:   Avg_Loss: 0.08167 ['MAELoss: 0.15894']\n",
      "Train Epoch: 39   Avg_Loss: 0.05782 ['MAELoss: 0.14039']\n",
      "Eval:   Avg_Loss: 0.07470 ['MAELoss: 0.15066']\n",
      "Train Epoch: 40   Avg_Loss: 0.04978 ['MAELoss: 0.12965']\n",
      "Eval:   Avg_Loss: 0.07020 ['MAELoss: 0.14444']\n",
      "Train Epoch: 41   Avg_Loss: 0.04355 ['MAELoss: 0.12067']\n",
      "Eval:   Avg_Loss: 0.06766 ['MAELoss: 0.14003']\n",
      "Train Epoch: 42   Avg_Loss: 0.03908 ['MAELoss: 0.11353']\n",
      "Eval:   Avg_Loss: 0.06601 ['MAELoss: 0.13734']\n",
      "Train Epoch: 43   Avg_Loss: 0.03590 ['MAELoss: 0.10808']\n",
      "Eval:   Avg_Loss: 0.06419 ['MAELoss: 0.13598']\n",
      "Train Epoch: 44   Avg_Loss: 0.03339 ['MAELoss: 0.10377']\n",
      "Eval:   Avg_Loss: 0.06129 ['MAELoss: 0.13461']\n",
      "Train Epoch: 45   Avg_Loss: 0.03096 ['MAELoss: 0.09992']\n",
      "Eval:   Avg_Loss: 0.05722 ['MAELoss: 0.13215']\n",
      "Train Epoch: 46   Avg_Loss: 0.02838 ['MAELoss: 0.09612']\n",
      "Eval:   Avg_Loss: 0.05210 ['MAELoss: 0.12812']\n",
      "Train Epoch: 47   Avg_Loss: 0.02561 ['MAELoss: 0.09208']\n",
      "Eval:   Avg_Loss: 0.04635 ['MAELoss: 0.12286']\n",
      "Train Epoch: 48   Avg_Loss: 0.02283 ['MAELoss: 0.08802']\n",
      "Eval:   Avg_Loss: 0.04051 ['MAELoss: 0.11708']\n",
      "Train Epoch: 49   Avg_Loss: 0.02026 ['MAELoss: 0.08443']\n",
      "Eval:   Avg_Loss: 0.03505 ['MAELoss: 0.11126']\n",
      "Train Epoch: 50   Avg_Loss: 0.01811 ['MAELoss: 0.08175']\n",
      "Eval:   Avg_Loss: 0.03042 ['MAELoss: 0.10576']\n",
      "Train Epoch: 51   Avg_Loss: 0.01653 ['MAELoss: 0.08011']\n",
      "Eval:   Avg_Loss: 0.02666 ['MAELoss: 0.10064']\n",
      "Train Epoch: 52   Avg_Loss: 0.01544 ['MAELoss: 0.07925']\n",
      "Eval:   Avg_Loss: 0.02371 ['MAELoss: 0.09603']\n",
      "Train Epoch: 53   Avg_Loss: 0.01468 ['MAELoss: 0.07864']\n",
      "Eval:   Avg_Loss: 0.02148 ['MAELoss: 0.09207']\n",
      "Train Epoch: 54   Avg_Loss: 0.01405 ['MAELoss: 0.07776']\n",
      "Eval:   Avg_Loss: 0.01977 ['MAELoss: 0.08869']\n",
      "Train Epoch: 55   Avg_Loss: 0.01335 ['MAELoss: 0.07617']\n",
      "Eval:   Avg_Loss: 0.01847 ['MAELoss: 0.08592']\n",
      "Train Epoch: 56   Avg_Loss: 0.01247 ['MAELoss: 0.07372']\n",
      "Eval:   Avg_Loss: 0.01751 ['MAELoss: 0.08375']\n",
      "Train Epoch: 57   Avg_Loss: 0.01145 ['MAELoss: 0.07055']\n",
      "Eval:   Avg_Loss: 0.01690 ['MAELoss: 0.08214']\n",
      "Train Epoch: 58   Avg_Loss: 0.01041 ['MAELoss: 0.06697']\n",
      "Eval:   Avg_Loss: 0.01664 ['MAELoss: 0.08101']\n",
      "Train Epoch: 59   Avg_Loss: 0.00949 ['MAELoss: 0.06337']\n",
      "Eval:   Avg_Loss: 0.01669 ['MAELoss: 0.08031']\n",
      "Train Epoch: 60   Avg_Loss: 0.00880 ['MAELoss: 0.06023']\n",
      "Eval:   Avg_Loss: 0.01679 ['MAELoss: 0.07964']\n",
      "Train Epoch: 61   Avg_Loss: 0.00828 ['MAELoss: 0.05765']\n",
      "Eval:   Avg_Loss: 0.01666 ['MAELoss: 0.07857']\n",
      "Train Epoch: 62   Avg_Loss: 0.00783 ['MAELoss: 0.05548']\n",
      "Eval:   Avg_Loss: 0.01613 ['MAELoss: 0.07688']\n",
      "Train Epoch: 63   Avg_Loss: 0.00735 ['MAELoss: 0.05349']\n",
      "Eval:   Avg_Loss: 0.01518 ['MAELoss: 0.07459']\n",
      "Train Epoch: 64   Avg_Loss: 0.00682 ['MAELoss: 0.05160']\n",
      "Eval:   Avg_Loss: 0.01392 ['MAELoss: 0.07177']\n",
      "Train Epoch: 65   Avg_Loss: 0.00625 ['MAELoss: 0.04974']\n",
      "Eval:   Avg_Loss: 0.01254 ['MAELoss: 0.06866']\n",
      "Train Epoch: 66   Avg_Loss: 0.00572 ['MAELoss: 0.04804']\n",
      "Eval:   Avg_Loss: 0.01119 ['MAELoss: 0.06550']\n",
      "Train Epoch: 67   Avg_Loss: 0.00526 ['MAELoss: 0.04655']\n",
      "Eval:   Avg_Loss: 0.01005 ['MAELoss: 0.06253']\n",
      "Train Epoch: 68   Avg_Loss: 0.00490 ['MAELoss: 0.04525']\n",
      "Eval:   Avg_Loss: 0.00913 ['MAELoss: 0.05982']\n",
      "Train Epoch: 69   Avg_Loss: 0.00461 ['MAELoss: 0.04402']\n",
      "Eval:   Avg_Loss: 0.00842 ['MAELoss: 0.05747']\n",
      "Train Epoch: 70   Avg_Loss: 0.00436 ['MAELoss: 0.04275']\n",
      "Eval:   Avg_Loss: 0.00792 ['MAELoss: 0.05554']\n",
      "Train Epoch: 71   Avg_Loss: 0.00411 ['MAELoss: 0.04136']\n",
      "Eval:   Avg_Loss: 0.00759 ['MAELoss: 0.05401']\n",
      "Train Epoch: 72   Avg_Loss: 0.00385 ['MAELoss: 0.03980']\n",
      "Eval:   Avg_Loss: 0.00741 ['MAELoss: 0.05276']\n",
      "Train Epoch: 73   Avg_Loss: 0.00360 ['MAELoss: 0.03813']\n",
      "Eval:   Avg_Loss: 0.00734 ['MAELoss: 0.05175']\n",
      "Train Epoch: 74   Avg_Loss: 0.00337 ['MAELoss: 0.03647']\n",
      "Eval:   Avg_Loss: 0.00734 ['MAELoss: 0.05093']\n",
      "Train Epoch: 75   Avg_Loss: 0.00320 ['MAELoss: 0.03498']\n",
      "Eval:   Avg_Loss: 0.00734 ['MAELoss: 0.05018']\n",
      "Train Epoch: 76   Avg_Loss: 0.00306 ['MAELoss: 0.03378']\n",
      "Eval:   Avg_Loss: 0.00726 ['MAELoss: 0.04947']\n",
      "Train Epoch: 77   Avg_Loss: 0.00295 ['MAELoss: 0.03284']\n",
      "Eval:   Avg_Loss: 0.00707 ['MAELoss: 0.04870']\n",
      "Train Epoch: 78   Avg_Loss: 0.00284 ['MAELoss: 0.03212']\n",
      "Eval:   Avg_Loss: 0.00677 ['MAELoss: 0.04788']\n",
      "Train Epoch: 79   Avg_Loss: 0.00272 ['MAELoss: 0.03156']\n",
      "Eval:   Avg_Loss: 0.00641 ['MAELoss: 0.04701']\n",
      "Train Epoch: 80   Avg_Loss: 0.00262 ['MAELoss: 0.03112']\n",
      "Eval:   Avg_Loss: 0.00601 ['MAELoss: 0.04609']\n",
      "Train Epoch: 81   Avg_Loss: 0.00252 ['MAELoss: 0.03075']\n",
      "Eval:   Avg_Loss: 0.00565 ['MAELoss: 0.04519']\n",
      "Train Epoch: 82   Avg_Loss: 0.00244 ['MAELoss: 0.03045']\n",
      "Eval:   Avg_Loss: 0.00535 ['MAELoss: 0.04438']\n",
      "Train Epoch: 83   Avg_Loss: 0.00237 ['MAELoss: 0.03016']\n",
      "Eval:   Avg_Loss: 0.00511 ['MAELoss: 0.04367']\n",
      "Train Epoch: 84   Avg_Loss: 0.00230 ['MAELoss: 0.02983']\n",
      "Eval:   Avg_Loss: 0.00495 ['MAELoss: 0.04308']\n",
      "Train Epoch: 85   Avg_Loss: 0.00224 ['MAELoss: 0.02944']\n",
      "Eval:   Avg_Loss: 0.00484 ['MAELoss: 0.04260']\n",
      "Train Epoch: 86   Avg_Loss: 0.00218 ['MAELoss: 0.02898']\n",
      "Eval:   Avg_Loss: 0.00479 ['MAELoss: 0.04220']\n",
      "Train Epoch: 87   Avg_Loss: 0.00212 ['MAELoss: 0.02847']\n",
      "Eval:   Avg_Loss: 0.00476 ['MAELoss: 0.04181']\n",
      "Train Epoch: 88   Avg_Loss: 0.00206 ['MAELoss: 0.02795']\n",
      "Eval:   Avg_Loss: 0.00471 ['MAELoss: 0.04139']\n",
      "Train Epoch: 89   Avg_Loss: 0.00201 ['MAELoss: 0.02745']\n",
      "Eval:   Avg_Loss: 0.00465 ['MAELoss: 0.04094']\n",
      "Train Epoch: 90   Avg_Loss: 0.00197 ['MAELoss: 0.02702']\n",
      "Eval:   Avg_Loss: 0.00456 ['MAELoss: 0.04044']\n",
      "Train Epoch: 91   Avg_Loss: 0.00192 ['MAELoss: 0.02664']\n",
      "Eval:   Avg_Loss: 0.00444 ['MAELoss: 0.03992']\n",
      "Train Epoch: 92   Avg_Loss: 0.00188 ['MAELoss: 0.02632']\n",
      "Eval:   Avg_Loss: 0.00428 ['MAELoss: 0.03933']\n",
      "Train Epoch: 93   Avg_Loss: 0.00184 ['MAELoss: 0.02602']\n",
      "Eval:   Avg_Loss: 0.00412 ['MAELoss: 0.03871']\n",
      "Train Epoch: 94   Avg_Loss: 0.00180 ['MAELoss: 0.02574']\n",
      "Eval:   Avg_Loss: 0.00397 ['MAELoss: 0.03808']\n",
      "Train Epoch: 95   Avg_Loss: 0.00176 ['MAELoss: 0.02546']\n",
      "Eval:   Avg_Loss: 0.00384 ['MAELoss: 0.03749']\n",
      "Train Epoch: 96   Avg_Loss: 0.00172 ['MAELoss: 0.02517']\n",
      "Eval:   Avg_Loss: 0.00374 ['MAELoss: 0.03694']\n",
      "Train Epoch: 97   Avg_Loss: 0.00169 ['MAELoss: 0.02486']\n",
      "Eval:   Avg_Loss: 0.00367 ['MAELoss: 0.03646']\n",
      "Train Epoch: 98   Avg_Loss: 0.00165 ['MAELoss: 0.02452']\n",
      "Eval:   Avg_Loss: 0.00362 ['MAELoss: 0.03603']\n",
      "Train Epoch: 99   Avg_Loss: 0.00162 ['MAELoss: 0.02417']\n",
      "Eval:   Avg_Loss: 0.00360 ['MAELoss: 0.03566']\n",
      "Train Epoch: 100   Avg_Loss: 0.00158 ['MAELoss: 0.02383']\n",
      "Eval:   Avg_Loss: 0.00358 ['MAELoss: 0.03528']\n",
      "Train Epoch: 101   Avg_Loss: 0.00155 ['MAELoss: 0.02346']\n",
      "Eval:   Avg_Loss: 0.00355 ['MAELoss: 0.03491']\n",
      "Train Epoch: 102   Avg_Loss: 0.00152 ['MAELoss: 0.02309']\n",
      "Eval:   Avg_Loss: 0.00351 ['MAELoss: 0.03455']\n",
      "Train Epoch: 103   Avg_Loss: 0.00150 ['MAELoss: 0.02277']\n",
      "Eval:   Avg_Loss: 0.00346 ['MAELoss: 0.03416']\n",
      "Train Epoch: 104   Avg_Loss: 0.00147 ['MAELoss: 0.02248']\n",
      "Eval:   Avg_Loss: 0.00340 ['MAELoss: 0.03374']\n",
      "Train Epoch: 105   Avg_Loss: 0.00144 ['MAELoss: 0.02220']\n",
      "Eval:   Avg_Loss: 0.00332 ['MAELoss: 0.03329']\n",
      "Train Epoch: 106   Avg_Loss: 0.00142 ['MAELoss: 0.02195']\n"
     ]
    },
    {
     "name": "stdout",
     "output_type": "stream",
     "text": [
      "Eval:   Avg_Loss: 0.00325 ['MAELoss: 0.03285']\n",
      "Train Epoch: 107   Avg_Loss: 0.00139 ['MAELoss: 0.02172']\n",
      "Eval:   Avg_Loss: 0.00318 ['MAELoss: 0.03247']\n",
      "Train Epoch: 108   Avg_Loss: 0.00137 ['MAELoss: 0.02151']\n",
      "Eval:   Avg_Loss: 0.00312 ['MAELoss: 0.03210']\n",
      "Train Epoch: 109   Avg_Loss: 0.00135 ['MAELoss: 0.02129']\n",
      "Eval:   Avg_Loss: 0.00307 ['MAELoss: 0.03175']\n",
      "Train Epoch: 110   Avg_Loss: 0.00133 ['MAELoss: 0.02108']\n",
      "Eval:   Avg_Loss: 0.00302 ['MAELoss: 0.03143']\n",
      "Train Epoch: 111   Avg_Loss: 0.00130 ['MAELoss: 0.02086']\n",
      "Eval:   Avg_Loss: 0.00299 ['MAELoss: 0.03112']\n",
      "Train Epoch: 112   Avg_Loss: 0.00128 ['MAELoss: 0.02065']\n",
      "Eval:   Avg_Loss: 0.00296 ['MAELoss: 0.03082']\n",
      "Train Epoch: 113   Avg_Loss: 0.00126 ['MAELoss: 0.02043']\n",
      "Eval:   Avg_Loss: 0.00293 ['MAELoss: 0.03051']\n",
      "Train Epoch: 114   Avg_Loss: 0.00124 ['MAELoss: 0.02021']\n",
      "Eval:   Avg_Loss: 0.00289 ['MAELoss: 0.03020']\n",
      "Train Epoch: 115   Avg_Loss: 0.00122 ['MAELoss: 0.02000']\n",
      "Eval:   Avg_Loss: 0.00285 ['MAELoss: 0.02988']\n",
      "Train Epoch: 116   Avg_Loss: 0.00121 ['MAELoss: 0.01980']\n",
      "Eval:   Avg_Loss: 0.00280 ['MAELoss: 0.02956']\n",
      "Train Epoch: 117   Avg_Loss: 0.00119 ['MAELoss: 0.01961']\n",
      "Eval:   Avg_Loss: 0.00275 ['MAELoss: 0.02926']\n",
      "Train Epoch: 118   Avg_Loss: 0.00117 ['MAELoss: 0.01944']\n",
      "Eval:   Avg_Loss: 0.00270 ['MAELoss: 0.02895']\n",
      "Train Epoch: 119   Avg_Loss: 0.00115 ['MAELoss: 0.01926']\n",
      "Eval:   Avg_Loss: 0.00265 ['MAELoss: 0.02866']\n",
      "Train Epoch: 120   Avg_Loss: 0.00113 ['MAELoss: 0.01909']\n",
      "Eval:   Avg_Loss: 0.00261 ['MAELoss: 0.02839']\n",
      "Train Epoch: 121   Avg_Loss: 0.00112 ['MAELoss: 0.01893']\n",
      "Eval:   Avg_Loss: 0.00258 ['MAELoss: 0.02813']\n",
      "Train Epoch: 122   Avg_Loss: 0.00110 ['MAELoss: 0.01876']\n",
      "Eval:   Avg_Loss: 0.00254 ['MAELoss: 0.02787']\n",
      "Train Epoch: 123   Avg_Loss: 0.00108 ['MAELoss: 0.01859']\n",
      "Eval:   Avg_Loss: 0.00251 ['MAELoss: 0.02762']\n",
      "Train Epoch: 124   Avg_Loss: 0.00106 ['MAELoss: 0.01842']\n",
      "Eval:   Avg_Loss: 0.00247 ['MAELoss: 0.02736']\n",
      "Train Epoch: 125   Avg_Loss: 0.00105 ['MAELoss: 0.01826']\n",
      "Eval:   Avg_Loss: 0.00243 ['MAELoss: 0.02709']\n",
      "Train Epoch: 126   Avg_Loss: 0.00103 ['MAELoss: 0.01810']\n",
      "Eval:   Avg_Loss: 0.00239 ['MAELoss: 0.02682']\n",
      "Train Epoch: 127   Avg_Loss: 0.00101 ['MAELoss: 0.01794']\n",
      "Eval:   Avg_Loss: 0.00234 ['MAELoss: 0.02655']\n",
      "Train Epoch: 128   Avg_Loss: 0.00100 ['MAELoss: 0.01778']\n",
      "Eval:   Avg_Loss: 0.00229 ['MAELoss: 0.02627']\n",
      "Train Epoch: 129   Avg_Loss: 0.00098 ['MAELoss: 0.01762']\n",
      "Eval:   Avg_Loss: 0.00225 ['MAELoss: 0.02601']\n",
      "Train Epoch: 130   Avg_Loss: 0.00096 ['MAELoss: 0.01746']\n",
      "Eval:   Avg_Loss: 0.00222 ['MAELoss: 0.02574']\n",
      "Train Epoch: 131   Avg_Loss: 0.00095 ['MAELoss: 0.01729']\n",
      "Eval:   Avg_Loss: 0.00218 ['MAELoss: 0.02547']\n",
      "Train Epoch: 132   Avg_Loss: 0.00093 ['MAELoss: 0.01714']\n",
      "Eval:   Avg_Loss: 0.00215 ['MAELoss: 0.02522']\n",
      "Train Epoch: 133   Avg_Loss: 0.00092 ['MAELoss: 0.01698']\n",
      "Eval:   Avg_Loss: 0.00212 ['MAELoss: 0.02498']\n",
      "Train Epoch: 134   Avg_Loss: 0.00090 ['MAELoss: 0.01683']\n",
      "Eval:   Avg_Loss: 0.00209 ['MAELoss: 0.02474']\n",
      "Train Epoch: 135   Avg_Loss: 0.00089 ['MAELoss: 0.01668']\n",
      "Eval:   Avg_Loss: 0.00205 ['MAELoss: 0.02451']\n",
      "Train Epoch: 136   Avg_Loss: 0.00087 ['MAELoss: 0.01654']\n",
      "Eval:   Avg_Loss: 0.00202 ['MAELoss: 0.02429']\n",
      "Train Epoch: 137   Avg_Loss: 0.00086 ['MAELoss: 0.01641']\n",
      "Eval:   Avg_Loss: 0.00199 ['MAELoss: 0.02408']\n",
      "Train Epoch: 138   Avg_Loss: 0.00085 ['MAELoss: 0.01628']\n",
      "Eval:   Avg_Loss: 0.00196 ['MAELoss: 0.02386']\n",
      "Train Epoch: 139   Avg_Loss: 0.00084 ['MAELoss: 0.01615']\n",
      "Eval:   Avg_Loss: 0.00193 ['MAELoss: 0.02364']\n",
      "Train Epoch: 140   Avg_Loss: 0.00082 ['MAELoss: 0.01602']\n",
      "Eval:   Avg_Loss: 0.00190 ['MAELoss: 0.02342']\n",
      "Train Epoch: 141   Avg_Loss: 0.00081 ['MAELoss: 0.01588']\n",
      "Eval:   Avg_Loss: 0.00188 ['MAELoss: 0.02324']\n",
      "Train Epoch: 142   Avg_Loss: 0.00080 ['MAELoss: 0.01574']\n",
      "Eval:   Avg_Loss: 0.00185 ['MAELoss: 0.02306']\n",
      "Train Epoch: 143   Avg_Loss: 0.00079 ['MAELoss: 0.01561']\n",
      "Eval:   Avg_Loss: 0.00184 ['MAELoss: 0.02290']\n",
      "Train Epoch: 144   Avg_Loss: 0.00077 ['MAELoss: 0.01548']\n",
      "Eval:   Avg_Loss: 0.00182 ['MAELoss: 0.02275']\n",
      "Train Epoch: 145   Avg_Loss: 0.00076 ['MAELoss: 0.01536']\n",
      "Eval:   Avg_Loss: 0.00180 ['MAELoss: 0.02258']\n",
      "Train Epoch: 146   Avg_Loss: 0.00075 ['MAELoss: 0.01523']\n",
      "Eval:   Avg_Loss: 0.00177 ['MAELoss: 0.02241']\n",
      "Train Epoch: 147   Avg_Loss: 0.00074 ['MAELoss: 0.01511']\n",
      "Eval:   Avg_Loss: 0.00175 ['MAELoss: 0.02223']\n",
      "Train Epoch: 148   Avg_Loss: 0.00073 ['MAELoss: 0.01500']\n",
      "Eval:   Avg_Loss: 0.00172 ['MAELoss: 0.02204']\n",
      "Train Epoch: 149   Avg_Loss: 0.00072 ['MAELoss: 0.01488']\n",
      "Eval:   Avg_Loss: 0.00170 ['MAELoss: 0.02187']\n",
      "Train Epoch: 150   Avg_Loss: 0.00071 ['MAELoss: 0.01477']\n",
      "Eval:   Avg_Loss: 0.00167 ['MAELoss: 0.02171']\n",
      "Train Epoch: 151   Avg_Loss: 0.00070 ['MAELoss: 0.01465']\n",
      "Eval:   Avg_Loss: 0.00165 ['MAELoss: 0.02155']\n",
      "Train Epoch: 152   Avg_Loss: 0.00069 ['MAELoss: 0.01454']\n",
      "Eval:   Avg_Loss: 0.00163 ['MAELoss: 0.02141']\n",
      "Train Epoch: 153   Avg_Loss: 0.00068 ['MAELoss: 0.01443']\n",
      "Eval:   Avg_Loss: 0.00162 ['MAELoss: 0.02127']\n",
      "Train Epoch: 154   Avg_Loss: 0.00067 ['MAELoss: 0.01431']\n",
      "Eval:   Avg_Loss: 0.00160 ['MAELoss: 0.02114']\n",
      "Train Epoch: 155   Avg_Loss: 0.00066 ['MAELoss: 0.01420']\n",
      "Eval:   Avg_Loss: 0.00158 ['MAELoss: 0.02099']\n",
      "Train Epoch: 156   Avg_Loss: 0.00065 ['MAELoss: 0.01408']\n",
      "Eval:   Avg_Loss: 0.00156 ['MAELoss: 0.02084']\n",
      "Train Epoch: 157   Avg_Loss: 0.00064 ['MAELoss: 0.01397']\n",
      "Eval:   Avg_Loss: 0.00154 ['MAELoss: 0.02070']\n",
      "Train Epoch: 158   Avg_Loss: 0.00063 ['MAELoss: 0.01386']\n",
      "Eval:   Avg_Loss: 0.00152 ['MAELoss: 0.02058']\n",
      "Train Epoch: 159   Avg_Loss: 0.00062 ['MAELoss: 0.01375']\n",
      "Eval:   Avg_Loss: 0.00150 ['MAELoss: 0.02043']\n",
      "Train Epoch: 160   Avg_Loss: 0.00061 ['MAELoss: 0.01365']\n",
      "Eval:   Avg_Loss: 0.00148 ['MAELoss: 0.02030']\n",
      "Train Epoch: 161   Avg_Loss: 0.00060 ['MAELoss: 0.01354']\n",
      "Eval:   Avg_Loss: 0.00147 ['MAELoss: 0.02017']\n",
      "Train Epoch: 162   Avg_Loss: 0.00059 ['MAELoss: 0.01344']\n",
      "Eval:   Avg_Loss: 0.00145 ['MAELoss: 0.02005']\n",
      "Train Epoch: 163   Avg_Loss: 0.00058 ['MAELoss: 0.01334']\n",
      "Eval:   Avg_Loss: 0.00144 ['MAELoss: 0.01993']\n",
      "Train Epoch: 164   Avg_Loss: 0.00057 ['MAELoss: 0.01324']\n",
      "Eval:   Avg_Loss: 0.00142 ['MAELoss: 0.01982']\n",
      "Train Epoch: 165   Avg_Loss: 0.00056 ['MAELoss: 0.01315']\n",
      "Eval:   Avg_Loss: 0.00140 ['MAELoss: 0.01971']\n",
      "Train Epoch: 166   Avg_Loss: 0.00055 ['MAELoss: 0.01305']\n",
      "Eval:   Avg_Loss: 0.00139 ['MAELoss: 0.01962']\n",
      "Train Epoch: 167   Avg_Loss: 0.00055 ['MAELoss: 0.01295']\n",
      "Eval:   Avg_Loss: 0.00138 ['MAELoss: 0.01953']\n",
      "Train Epoch: 168   Avg_Loss: 0.00054 ['MAELoss: 0.01285']\n",
      "Eval:   Avg_Loss: 0.00137 ['MAELoss: 0.01942']\n",
      "Train Epoch: 169   Avg_Loss: 0.00053 ['MAELoss: 0.01275']\n",
      "Eval:   Avg_Loss: 0.00135 ['MAELoss: 0.01932']\n",
      "Train Epoch: 170   Avg_Loss: 0.00052 ['MAELoss: 0.01266']\n",
      "Eval:   Avg_Loss: 0.00134 ['MAELoss: 0.01923']\n",
      "Train Epoch: 171   Avg_Loss: 0.00051 ['MAELoss: 0.01258']\n",
      "Eval:   Avg_Loss: 0.00132 ['MAELoss: 0.01909']\n",
      "Train Epoch: 172   Avg_Loss: 0.00051 ['MAELoss: 0.01249']\n",
      "Eval:   Avg_Loss: 0.00130 ['MAELoss: 0.01897']\n",
      "Train Epoch: 173   Avg_Loss: 0.00050 ['MAELoss: 0.01241']\n",
      "Eval:   Avg_Loss: 0.00128 ['MAELoss: 0.01886']\n",
      "Train Epoch: 174   Avg_Loss: 0.00049 ['MAELoss: 0.01234']\n",
      "Eval:   Avg_Loss: 0.00127 ['MAELoss: 0.01871']\n",
      "Train Epoch: 175   Avg_Loss: 0.00048 ['MAELoss: 0.01225']\n",
      "Eval:   Avg_Loss: 0.00125 ['MAELoss: 0.01858']\n",
      "Train Epoch: 176   Avg_Loss: 0.00048 ['MAELoss: 0.01217']\n",
      "Eval:   Avg_Loss: 0.00123 ['MAELoss: 0.01842']\n",
      "Train Epoch: 177   Avg_Loss: 0.00047 ['MAELoss: 0.01209']\n",
      "Eval:   Avg_Loss: 0.00121 ['MAELoss: 0.01829']\n",
      "Train Epoch: 178   Avg_Loss: 0.00046 ['MAELoss: 0.01203']\n",
      "Eval:   Avg_Loss: 0.00119 ['MAELoss: 0.01814']\n",
      "Train Epoch: 179   Avg_Loss: 0.00046 ['MAELoss: 0.01192']\n",
      "Eval:   Avg_Loss: 0.00118 ['MAELoss: 0.01802']\n",
      "Train Epoch: 180   Avg_Loss: 0.00045 ['MAELoss: 0.01183']\n",
      "Eval:   Avg_Loss: 0.00117 ['MAELoss: 0.01793']\n",
      "Train Epoch: 181   Avg_Loss: 0.00044 ['MAELoss: 0.01174']\n",
      "Eval:   Avg_Loss: 0.00116 ['MAELoss: 0.01786']\n",
      "Train Epoch: 182   Avg_Loss: 0.00044 ['MAELoss: 0.01166']\n",
      "Eval:   Avg_Loss: 0.00115 ['MAELoss: 0.01777']\n",
      "Train Epoch: 183   Avg_Loss: 0.00043 ['MAELoss: 0.01156']\n",
      "Eval:   Avg_Loss: 0.00114 ['MAELoss: 0.01768']\n",
      "Train Epoch: 184   Avg_Loss: 0.00042 ['MAELoss: 0.01147']\n",
      "Eval:   Avg_Loss: 0.00113 ['MAELoss: 0.01758']\n",
      "Train Epoch: 185   Avg_Loss: 0.00042 ['MAELoss: 0.01139']\n",
      "Eval:   Avg_Loss: 0.00112 ['MAELoss: 0.01747']\n",
      "Train Epoch: 186   Avg_Loss: 0.00041 ['MAELoss: 0.01131']\n",
      "Eval:   Avg_Loss: 0.00110 ['MAELoss: 0.01735']\n",
      "Train Epoch: 187   Avg_Loss: 0.00040 ['MAELoss: 0.01123']\n",
      "Eval:   Avg_Loss: 0.00108 ['MAELoss: 0.01721']\n"
     ]
    },
    {
     "name": "stdout",
     "output_type": "stream",
     "text": [
      "Train Epoch: 188   Avg_Loss: 0.00040 ['MAELoss: 0.01114']\n",
      "Eval:   Avg_Loss: 0.00106 ['MAELoss: 0.01709']\n",
      "Train Epoch: 189   Avg_Loss: 0.00039 ['MAELoss: 0.01107']\n",
      "Eval:   Avg_Loss: 0.00105 ['MAELoss: 0.01697']\n",
      "Train Epoch: 190   Avg_Loss: 0.00039 ['MAELoss: 0.01100']\n",
      "Eval:   Avg_Loss: 0.00104 ['MAELoss: 0.01685']\n",
      "Train Epoch: 191   Avg_Loss: 0.00038 ['MAELoss: 0.01093']\n",
      "Eval:   Avg_Loss: 0.00103 ['MAELoss: 0.01676']\n",
      "Train Epoch: 192   Avg_Loss: 0.00037 ['MAELoss: 0.01086']\n",
      "Eval:   Avg_Loss: 0.00101 ['MAELoss: 0.01666']\n",
      "Train Epoch: 193   Avg_Loss: 0.00037 ['MAELoss: 0.01078']\n",
      "Eval:   Avg_Loss: 0.00100 ['MAELoss: 0.01657']\n",
      "Train Epoch: 194   Avg_Loss: 0.00036 ['MAELoss: 0.01070']\n",
      "Eval:   Avg_Loss: 0.00099 ['MAELoss: 0.01647']\n",
      "Train Epoch: 195   Avg_Loss: 0.00036 ['MAELoss: 0.01062']\n",
      "Eval:   Avg_Loss: 0.00097 ['MAELoss: 0.01637']\n",
      "Train Epoch: 196   Avg_Loss: 0.00035 ['MAELoss: 0.01055']\n",
      "Eval:   Avg_Loss: 0.00096 ['MAELoss: 0.01625']\n",
      "Train Epoch: 197   Avg_Loss: 0.00035 ['MAELoss: 0.01048']\n",
      "Eval:   Avg_Loss: 0.00096 ['MAELoss: 0.01616']\n",
      "Train Epoch: 198   Avg_Loss: 0.00034 ['MAELoss: 0.01040']\n",
      "Eval:   Avg_Loss: 0.00095 ['MAELoss: 0.01608']\n",
      "Train Epoch: 199   Avg_Loss: 0.00034 ['MAELoss: 0.01038']\n",
      "Eval:   Avg_Loss: 0.00094 ['MAELoss: 0.01600']\n",
      "Train Epoch: 200   Avg_Loss: 0.00033 ['MAELoss: 0.01027']\n",
      "Eval:   Avg_Loss: 0.00093 ['MAELoss: 0.01589']\n"
     ]
    }
   ],
   "source": [
    "torch_sim_params=torch_sim_config.get_options_dict()\n",
    "torch_sim.train(train_dataset=benchmark_ffnn.train_dataset,\n",
    "                    val_dataset=benchmark_ffnn.val_dataset,\n",
    "                    save_path=SAVE_PATH,\n",
    "                    **torch_sim_params)"
   ]
  },
  {
   "cell_type": "code",
   "execution_count": 24,
   "id": "a27a8474",
   "metadata": {},
   "outputs": [
    {
     "ename": "ValueError",
     "evalue": "MSE_avg",
     "output_type": "error",
     "traceback": [
      "\u001b[0;31m---------------------------------------------------------------------------\u001b[0m",
      "\u001b[0;31mValueError\u001b[0m                                Traceback (most recent call last)",
      "Input \u001b[0;32mIn [24]\u001b[0m, in \u001b[0;36m<cell line: 1>\u001b[0;34m()\u001b[0m\n\u001b[0;32m----> 1\u001b[0m torch_sim_metrics_val \u001b[38;5;241m=\u001b[39m \u001b[43mbenchmark_ffnn\u001b[49m\u001b[38;5;241;43m.\u001b[39;49m\u001b[43mevaluate_simulator\u001b[49m\u001b[43m(\u001b[49m\u001b[43maugmented_simulator\u001b[49m\u001b[38;5;241;43m=\u001b[39;49m\u001b[43mtorch_sim\u001b[49m\u001b[43m,\u001b[49m\n\u001b[1;32m      2\u001b[0m \u001b[43m                                                  \u001b[49m\u001b[43meval_batch_size\u001b[49m\u001b[38;5;241;43m=\u001b[39;49m\u001b[38;5;241;43m128\u001b[39;49m\u001b[43m,\u001b[49m\n\u001b[1;32m      3\u001b[0m \u001b[43m                                                  \u001b[49m\u001b[43mdataset\u001b[49m\u001b[38;5;241;43m=\u001b[39;49m\u001b[38;5;124;43m\"\u001b[39;49m\u001b[38;5;124;43mval\u001b[39;49m\u001b[38;5;124;43m\"\u001b[39;49m\u001b[43m,\u001b[49m\n\u001b[1;32m      4\u001b[0m \u001b[43m                                                  \u001b[49m\u001b[43mshuffle\u001b[49m\u001b[38;5;241;43m=\u001b[39;49m\u001b[38;5;28;43;01mFalse\u001b[39;49;00m\u001b[43m,\u001b[49m\n\u001b[1;32m      5\u001b[0m \u001b[43m                                                  \u001b[49m\u001b[43msave_path\u001b[49m\u001b[38;5;241;43m=\u001b[39;49m\u001b[38;5;28;43;01mNone\u001b[39;49;00m\u001b[43m,\u001b[49m\n\u001b[1;32m      6\u001b[0m \u001b[43m                                                  \u001b[49m\u001b[43msave_predictions\u001b[49m\u001b[38;5;241;43m=\u001b[39;49m\u001b[38;5;28;43;01mFalse\u001b[39;49;00m\n\u001b[1;32m      7\u001b[0m \u001b[43m                                                 \u001b[49m\u001b[43m)\u001b[49m\n",
      "File \u001b[0;32m~/HSAProject/LIPSPlatform/LIPS_Github/LIPS/lips/benchmark/wheelBenchmark.py:124\u001b[0m, in \u001b[0;36mWheelBenchmark.evaluate_simulator\u001b[0;34m(self, dataset, augmented_simulator, save_path, **kwargs)\u001b[0m\n\u001b[1;32m    121\u001b[0m res \u001b[38;5;241m=\u001b[39m {}\n\u001b[1;32m    122\u001b[0m \u001b[38;5;28;01mfor\u001b[39;00m dataset_, nm_ \u001b[38;5;129;01min\u001b[39;00m \u001b[38;5;28mzip\u001b[39m(li_dataset, keys):\n\u001b[1;32m    123\u001b[0m     \u001b[38;5;66;03m# call the evaluate simulator function of Benchmark class\u001b[39;00m\n\u001b[0;32m--> 124\u001b[0m     tmp \u001b[38;5;241m=\u001b[39m \u001b[38;5;28;43mself\u001b[39;49m\u001b[38;5;241;43m.\u001b[39;49m\u001b[43m_aux_evaluate_on_single_dataset\u001b[49m\u001b[43m(\u001b[49m\u001b[43mdataset\u001b[49m\u001b[38;5;241;43m=\u001b[39;49m\u001b[43mdataset_\u001b[49m\u001b[43m,\u001b[49m\n\u001b[1;32m    125\u001b[0m \u001b[43m                                               \u001b[49m\u001b[43maugmented_simulator\u001b[49m\u001b[38;5;241;43m=\u001b[39;49m\u001b[43maugmented_simulator\u001b[49m\u001b[43m,\u001b[49m\n\u001b[1;32m    126\u001b[0m \u001b[43m                                               \u001b[49m\u001b[43msave_path\u001b[49m\u001b[38;5;241;43m=\u001b[39;49m\u001b[43msave_path\u001b[49m\u001b[43m,\u001b[49m\n\u001b[1;32m    127\u001b[0m \u001b[43m                                               \u001b[49m\u001b[38;5;241;43m*\u001b[39;49m\u001b[38;5;241;43m*\u001b[39;49m\u001b[43mkwargs\u001b[49m\u001b[43m)\u001b[49m\n\u001b[1;32m    128\u001b[0m     res[nm_] \u001b[38;5;241m=\u001b[39m copy\u001b[38;5;241m.\u001b[39mdeepcopy(tmp)\n\u001b[1;32m    129\u001b[0m \u001b[38;5;28;01mreturn\u001b[39;00m res\n",
      "File \u001b[0;32m~/HSAProject/LIPSPlatform/LIPS_Github/LIPS/lips/benchmark/wheelBenchmark.py:501\u001b[0m, in \u001b[0;36mWeightSustainingWheelBenchmark._aux_evaluate_on_single_dataset\u001b[0;34m(self, dataset, augmented_simulator, save_path, **kwargs)\u001b[0m\n\u001b[1;32m    498\u001b[0m \u001b[38;5;28mself\u001b[39m\u001b[38;5;241m.\u001b[39mobservations[dataset\u001b[38;5;241m.\u001b[39mname] \u001b[38;5;241m=\u001b[39m dataset\u001b[38;5;241m.\u001b[39mdata\n\u001b[1;32m    499\u001b[0m \u001b[38;5;28mself\u001b[39m\u001b[38;5;241m.\u001b[39mdataset \u001b[38;5;241m=\u001b[39m dataset\n\u001b[0;32m--> 501\u001b[0m res \u001b[38;5;241m=\u001b[39m \u001b[38;5;28;43mself\u001b[39;49m\u001b[38;5;241;43m.\u001b[39;49m\u001b[43mevaluation\u001b[49m\u001b[38;5;241;43m.\u001b[39;49m\u001b[43mevaluate\u001b[49m\u001b[43m(\u001b[49m\u001b[43mobservations\u001b[49m\u001b[38;5;241;43m=\u001b[39;49m\u001b[43mdataset\u001b[49m\u001b[38;5;241;43m.\u001b[39;49m\u001b[43mdata\u001b[49m\u001b[43m,\u001b[49m\n\u001b[1;32m    502\u001b[0m \u001b[43m                               \u001b[49m\u001b[43mpredictions\u001b[49m\u001b[38;5;241;43m=\u001b[39;49m\u001b[43mpredictions\u001b[49m\u001b[43m,\u001b[49m\n\u001b[1;32m    503\u001b[0m \u001b[43m                               \u001b[49m\u001b[43msave_path\u001b[49m\u001b[38;5;241;43m=\u001b[39;49m\u001b[43msave_path\u001b[49m\n\u001b[1;32m    504\u001b[0m \u001b[43m                               \u001b[49m\u001b[43m)\u001b[49m\n\u001b[1;32m    505\u001b[0m \u001b[38;5;28;01mreturn\u001b[39;00m res\n",
      "File \u001b[0;32m~/HSAProject/LIPSPlatform/LIPS_Github/LIPS/lips/evaluation/pneumatic_evaluation.py:98\u001b[0m, in \u001b[0;36mPneumaticEvaluation.evaluate\u001b[0;34m(self, observations, predictions, save_path)\u001b[0m\n\u001b[1;32m     95\u001b[0m \u001b[38;5;28msuper\u001b[39m()\u001b[38;5;241m.\u001b[39mevaluate(observations, predictions, save_path)\n\u001b[1;32m     97\u001b[0m \u001b[38;5;28;01mfor\u001b[39;00m cat \u001b[38;5;129;01min\u001b[39;00m \u001b[38;5;28mself\u001b[39m\u001b[38;5;241m.\u001b[39meval_dict\u001b[38;5;241m.\u001b[39mkeys():\n\u001b[0;32m---> 98\u001b[0m     \u001b[38;5;28;43mself\u001b[39;49m\u001b[38;5;241;43m.\u001b[39;49m\u001b[43m_dispatch_evaluation\u001b[49m\u001b[43m(\u001b[49m\u001b[43mcat\u001b[49m\u001b[43m)\u001b[49m\n\u001b[1;32m    100\u001b[0m \u001b[38;5;66;03m# TODO: save the self.metrics variable\u001b[39;00m\n\u001b[1;32m    101\u001b[0m \u001b[38;5;28;01mif\u001b[39;00m save_path:\n",
      "File \u001b[0;32m~/HSAProject/LIPSPlatform/LIPS_Github/LIPS/lips/evaluation/pneumatic_evaluation.py:120\u001b[0m, in \u001b[0;36mPneumaticEvaluation._dispatch_evaluation\u001b[0;34m(self, category)\u001b[0m\n\u001b[1;32m    118\u001b[0m \u001b[38;5;28;01mif\u001b[39;00m category \u001b[38;5;241m==\u001b[39m \u001b[38;5;28mself\u001b[39m\u001b[38;5;241m.\u001b[39mMACHINE_LEARNING:\n\u001b[1;32m    119\u001b[0m     \u001b[38;5;28;01mif\u001b[39;00m \u001b[38;5;28mself\u001b[39m\u001b[38;5;241m.\u001b[39meval_dict[category]:\n\u001b[0;32m--> 120\u001b[0m         \u001b[38;5;28;43mself\u001b[39;49m\u001b[38;5;241;43m.\u001b[39;49m\u001b[43mevaluate_ml\u001b[49m\u001b[43m(\u001b[49m\u001b[43m)\u001b[49m\n\u001b[1;32m    121\u001b[0m \u001b[38;5;28;01mif\u001b[39;00m category \u001b[38;5;241m==\u001b[39m \u001b[38;5;28mself\u001b[39m\u001b[38;5;241m.\u001b[39mPHYSICS_COMPLIANCES:\n\u001b[1;32m    122\u001b[0m     \u001b[38;5;28;01mif\u001b[39;00m \u001b[38;5;28mself\u001b[39m\u001b[38;5;241m.\u001b[39meval_dict[category]:\n",
      "File \u001b[0;32m~/HSAProject/LIPSPlatform/LIPS_Github/LIPS/lips/evaluation/pneumatic_evaluation.py:133\u001b[0m, in \u001b[0;36mPneumaticEvaluation.evaluate_ml\u001b[0;34m(self)\u001b[0m\n\u001b[1;32m    131\u001b[0m metric_val_by_name \u001b[38;5;241m=\u001b[39m \u001b[38;5;28mself\u001b[39m\u001b[38;5;241m.\u001b[39mmetrics[\u001b[38;5;28mself\u001b[39m\u001b[38;5;241m.\u001b[39mMACHINE_LEARNING]\n\u001b[1;32m    132\u001b[0m \u001b[38;5;28;01mfor\u001b[39;00m metric_name \u001b[38;5;129;01min\u001b[39;00m \u001b[38;5;28mself\u001b[39m\u001b[38;5;241m.\u001b[39meval_dict[\u001b[38;5;28mself\u001b[39m\u001b[38;5;241m.\u001b[39mMACHINE_LEARNING]:\n\u001b[0;32m--> 133\u001b[0m     metric_fun \u001b[38;5;241m=\u001b[39m \u001b[43mmetric_factory\u001b[49m\u001b[38;5;241;43m.\u001b[39;49m\u001b[43mget_metric\u001b[49m\u001b[43m(\u001b[49m\u001b[43mmetric_name\u001b[49m\u001b[43m)\u001b[49m\n\u001b[1;32m    134\u001b[0m     metric_val_by_name[metric_name] \u001b[38;5;241m=\u001b[39m {}\n\u001b[1;32m    135\u001b[0m     \u001b[38;5;28;01mfor\u001b[39;00m nm_, pred_ \u001b[38;5;129;01min\u001b[39;00m \u001b[38;5;28mself\u001b[39m\u001b[38;5;241m.\u001b[39mpredictions\u001b[38;5;241m.\u001b[39mitems():\n",
      "File \u001b[0;32m~/HSAProject/LIPSPlatform/LIPS_Github/LIPS/lips/evaluation/utils.py:62\u001b[0m, in \u001b[0;36mMetricFactory.get_metric\u001b[0;34m(self, metric_name)\u001b[0m\n\u001b[1;32m     60\u001b[0m creator \u001b[38;5;241m=\u001b[39m \u001b[38;5;28mself\u001b[39m\u001b[38;5;241m.\u001b[39m_creators\u001b[38;5;241m.\u001b[39mget(metric_name)\n\u001b[1;32m     61\u001b[0m \u001b[38;5;28;01mif\u001b[39;00m \u001b[38;5;129;01mnot\u001b[39;00m creator:\n\u001b[0;32m---> 62\u001b[0m     \u001b[38;5;28;01mraise\u001b[39;00m \u001b[38;5;167;01mValueError\u001b[39;00m(metric_name)\n\u001b[1;32m     63\u001b[0m \u001b[38;5;28;01mreturn\u001b[39;00m creator\n",
      "\u001b[0;31mValueError\u001b[0m: MSE_avg"
     ]
    }
   ],
   "source": [
    "torch_sim_metrics_val = benchmark_ffnn.evaluate_simulator(augmented_simulator=torch_sim,\n",
    "                                                  eval_batch_size=128,\n",
    "                                                  dataset=\"val\",\n",
    "                                                  shuffle=False,\n",
    "                                                  save_path=None,\n",
    "                                                  save_predictions=False\n",
    "                                                 )"
   ]
  },
  {
   "cell_type": "code",
   "execution_count": 25,
   "id": "f120fb80",
   "metadata": {},
   "outputs": [
    {
     "ename": "ValueError",
     "evalue": "MSE_avg",
     "output_type": "error",
     "traceback": [
      "\u001b[0;31m---------------------------------------------------------------------------\u001b[0m",
      "\u001b[0;31mValueError\u001b[0m                                Traceback (most recent call last)",
      "Input \u001b[0;32mIn [25]\u001b[0m, in \u001b[0;36m<cell line: 1>\u001b[0;34m()\u001b[0m\n\u001b[0;32m----> 1\u001b[0m torch_sim_metrics_test \u001b[38;5;241m=\u001b[39m \u001b[43mbenchmark_ffnn\u001b[49m\u001b[38;5;241;43m.\u001b[39;49m\u001b[43mevaluate_simulator\u001b[49m\u001b[43m(\u001b[49m\u001b[43maugmented_simulator\u001b[49m\u001b[38;5;241;43m=\u001b[39;49m\u001b[43mtorch_sim\u001b[49m\u001b[43m,\u001b[49m\n\u001b[1;32m      2\u001b[0m \u001b[43m                                                  \u001b[49m\u001b[43meval_batch_size\u001b[49m\u001b[38;5;241;43m=\u001b[39;49m\u001b[38;5;241;43m128\u001b[39;49m\u001b[43m,\u001b[49m\n\u001b[1;32m      3\u001b[0m \u001b[43m                                                  \u001b[49m\u001b[43mdataset\u001b[49m\u001b[38;5;241;43m=\u001b[39;49m\u001b[38;5;124;43m\"\u001b[39;49m\u001b[38;5;124;43mtest\u001b[39;49m\u001b[38;5;124;43m\"\u001b[39;49m\u001b[43m,\u001b[49m\n\u001b[1;32m      4\u001b[0m \u001b[43m                                                  \u001b[49m\u001b[43mshuffle\u001b[49m\u001b[38;5;241;43m=\u001b[39;49m\u001b[38;5;28;43;01mFalse\u001b[39;49;00m\u001b[43m,\u001b[49m\n\u001b[1;32m      5\u001b[0m \u001b[43m                                                  \u001b[49m\u001b[43msave_path\u001b[49m\u001b[38;5;241;43m=\u001b[39;49m\u001b[38;5;28;43;01mNone\u001b[39;49;00m\u001b[43m,\u001b[49m\n\u001b[1;32m      6\u001b[0m \u001b[43m                                                  \u001b[49m\u001b[43msave_predictions\u001b[49m\u001b[38;5;241;43m=\u001b[39;49m\u001b[38;5;28;43;01mFalse\u001b[39;49;00m\n\u001b[1;32m      7\u001b[0m \u001b[43m                                                 \u001b[49m\u001b[43m)\u001b[49m\n",
      "File \u001b[0;32m~/HSAProject/LIPSPlatform/LIPS_Github/LIPS/lips/benchmark/wheelBenchmark.py:124\u001b[0m, in \u001b[0;36mWheelBenchmark.evaluate_simulator\u001b[0;34m(self, dataset, augmented_simulator, save_path, **kwargs)\u001b[0m\n\u001b[1;32m    121\u001b[0m res \u001b[38;5;241m=\u001b[39m {}\n\u001b[1;32m    122\u001b[0m \u001b[38;5;28;01mfor\u001b[39;00m dataset_, nm_ \u001b[38;5;129;01min\u001b[39;00m \u001b[38;5;28mzip\u001b[39m(li_dataset, keys):\n\u001b[1;32m    123\u001b[0m     \u001b[38;5;66;03m# call the evaluate simulator function of Benchmark class\u001b[39;00m\n\u001b[0;32m--> 124\u001b[0m     tmp \u001b[38;5;241m=\u001b[39m \u001b[38;5;28;43mself\u001b[39;49m\u001b[38;5;241;43m.\u001b[39;49m\u001b[43m_aux_evaluate_on_single_dataset\u001b[49m\u001b[43m(\u001b[49m\u001b[43mdataset\u001b[49m\u001b[38;5;241;43m=\u001b[39;49m\u001b[43mdataset_\u001b[49m\u001b[43m,\u001b[49m\n\u001b[1;32m    125\u001b[0m \u001b[43m                                               \u001b[49m\u001b[43maugmented_simulator\u001b[49m\u001b[38;5;241;43m=\u001b[39;49m\u001b[43maugmented_simulator\u001b[49m\u001b[43m,\u001b[49m\n\u001b[1;32m    126\u001b[0m \u001b[43m                                               \u001b[49m\u001b[43msave_path\u001b[49m\u001b[38;5;241;43m=\u001b[39;49m\u001b[43msave_path\u001b[49m\u001b[43m,\u001b[49m\n\u001b[1;32m    127\u001b[0m \u001b[43m                                               \u001b[49m\u001b[38;5;241;43m*\u001b[39;49m\u001b[38;5;241;43m*\u001b[39;49m\u001b[43mkwargs\u001b[49m\u001b[43m)\u001b[49m\n\u001b[1;32m    128\u001b[0m     res[nm_] \u001b[38;5;241m=\u001b[39m copy\u001b[38;5;241m.\u001b[39mdeepcopy(tmp)\n\u001b[1;32m    129\u001b[0m \u001b[38;5;28;01mreturn\u001b[39;00m res\n",
      "File \u001b[0;32m~/HSAProject/LIPSPlatform/LIPS_Github/LIPS/lips/benchmark/wheelBenchmark.py:501\u001b[0m, in \u001b[0;36mWeightSustainingWheelBenchmark._aux_evaluate_on_single_dataset\u001b[0;34m(self, dataset, augmented_simulator, save_path, **kwargs)\u001b[0m\n\u001b[1;32m    498\u001b[0m \u001b[38;5;28mself\u001b[39m\u001b[38;5;241m.\u001b[39mobservations[dataset\u001b[38;5;241m.\u001b[39mname] \u001b[38;5;241m=\u001b[39m dataset\u001b[38;5;241m.\u001b[39mdata\n\u001b[1;32m    499\u001b[0m \u001b[38;5;28mself\u001b[39m\u001b[38;5;241m.\u001b[39mdataset \u001b[38;5;241m=\u001b[39m dataset\n\u001b[0;32m--> 501\u001b[0m res \u001b[38;5;241m=\u001b[39m \u001b[38;5;28;43mself\u001b[39;49m\u001b[38;5;241;43m.\u001b[39;49m\u001b[43mevaluation\u001b[49m\u001b[38;5;241;43m.\u001b[39;49m\u001b[43mevaluate\u001b[49m\u001b[43m(\u001b[49m\u001b[43mobservations\u001b[49m\u001b[38;5;241;43m=\u001b[39;49m\u001b[43mdataset\u001b[49m\u001b[38;5;241;43m.\u001b[39;49m\u001b[43mdata\u001b[49m\u001b[43m,\u001b[49m\n\u001b[1;32m    502\u001b[0m \u001b[43m                               \u001b[49m\u001b[43mpredictions\u001b[49m\u001b[38;5;241;43m=\u001b[39;49m\u001b[43mpredictions\u001b[49m\u001b[43m,\u001b[49m\n\u001b[1;32m    503\u001b[0m \u001b[43m                               \u001b[49m\u001b[43msave_path\u001b[49m\u001b[38;5;241;43m=\u001b[39;49m\u001b[43msave_path\u001b[49m\n\u001b[1;32m    504\u001b[0m \u001b[43m                               \u001b[49m\u001b[43m)\u001b[49m\n\u001b[1;32m    505\u001b[0m \u001b[38;5;28;01mreturn\u001b[39;00m res\n",
      "File \u001b[0;32m~/HSAProject/LIPSPlatform/LIPS_Github/LIPS/lips/evaluation/pneumatic_evaluation.py:98\u001b[0m, in \u001b[0;36mPneumaticEvaluation.evaluate\u001b[0;34m(self, observations, predictions, save_path)\u001b[0m\n\u001b[1;32m     95\u001b[0m \u001b[38;5;28msuper\u001b[39m()\u001b[38;5;241m.\u001b[39mevaluate(observations, predictions, save_path)\n\u001b[1;32m     97\u001b[0m \u001b[38;5;28;01mfor\u001b[39;00m cat \u001b[38;5;129;01min\u001b[39;00m \u001b[38;5;28mself\u001b[39m\u001b[38;5;241m.\u001b[39meval_dict\u001b[38;5;241m.\u001b[39mkeys():\n\u001b[0;32m---> 98\u001b[0m     \u001b[38;5;28;43mself\u001b[39;49m\u001b[38;5;241;43m.\u001b[39;49m\u001b[43m_dispatch_evaluation\u001b[49m\u001b[43m(\u001b[49m\u001b[43mcat\u001b[49m\u001b[43m)\u001b[49m\n\u001b[1;32m    100\u001b[0m \u001b[38;5;66;03m# TODO: save the self.metrics variable\u001b[39;00m\n\u001b[1;32m    101\u001b[0m \u001b[38;5;28;01mif\u001b[39;00m save_path:\n",
      "File \u001b[0;32m~/HSAProject/LIPSPlatform/LIPS_Github/LIPS/lips/evaluation/pneumatic_evaluation.py:120\u001b[0m, in \u001b[0;36mPneumaticEvaluation._dispatch_evaluation\u001b[0;34m(self, category)\u001b[0m\n\u001b[1;32m    118\u001b[0m \u001b[38;5;28;01mif\u001b[39;00m category \u001b[38;5;241m==\u001b[39m \u001b[38;5;28mself\u001b[39m\u001b[38;5;241m.\u001b[39mMACHINE_LEARNING:\n\u001b[1;32m    119\u001b[0m     \u001b[38;5;28;01mif\u001b[39;00m \u001b[38;5;28mself\u001b[39m\u001b[38;5;241m.\u001b[39meval_dict[category]:\n\u001b[0;32m--> 120\u001b[0m         \u001b[38;5;28;43mself\u001b[39;49m\u001b[38;5;241;43m.\u001b[39;49m\u001b[43mevaluate_ml\u001b[49m\u001b[43m(\u001b[49m\u001b[43m)\u001b[49m\n\u001b[1;32m    121\u001b[0m \u001b[38;5;28;01mif\u001b[39;00m category \u001b[38;5;241m==\u001b[39m \u001b[38;5;28mself\u001b[39m\u001b[38;5;241m.\u001b[39mPHYSICS_COMPLIANCES:\n\u001b[1;32m    122\u001b[0m     \u001b[38;5;28;01mif\u001b[39;00m \u001b[38;5;28mself\u001b[39m\u001b[38;5;241m.\u001b[39meval_dict[category]:\n",
      "File \u001b[0;32m~/HSAProject/LIPSPlatform/LIPS_Github/LIPS/lips/evaluation/pneumatic_evaluation.py:133\u001b[0m, in \u001b[0;36mPneumaticEvaluation.evaluate_ml\u001b[0;34m(self)\u001b[0m\n\u001b[1;32m    131\u001b[0m metric_val_by_name \u001b[38;5;241m=\u001b[39m \u001b[38;5;28mself\u001b[39m\u001b[38;5;241m.\u001b[39mmetrics[\u001b[38;5;28mself\u001b[39m\u001b[38;5;241m.\u001b[39mMACHINE_LEARNING]\n\u001b[1;32m    132\u001b[0m \u001b[38;5;28;01mfor\u001b[39;00m metric_name \u001b[38;5;129;01min\u001b[39;00m \u001b[38;5;28mself\u001b[39m\u001b[38;5;241m.\u001b[39meval_dict[\u001b[38;5;28mself\u001b[39m\u001b[38;5;241m.\u001b[39mMACHINE_LEARNING]:\n\u001b[0;32m--> 133\u001b[0m     metric_fun \u001b[38;5;241m=\u001b[39m \u001b[43mmetric_factory\u001b[49m\u001b[38;5;241;43m.\u001b[39;49m\u001b[43mget_metric\u001b[49m\u001b[43m(\u001b[49m\u001b[43mmetric_name\u001b[49m\u001b[43m)\u001b[49m\n\u001b[1;32m    134\u001b[0m     metric_val_by_name[metric_name] \u001b[38;5;241m=\u001b[39m {}\n\u001b[1;32m    135\u001b[0m     \u001b[38;5;28;01mfor\u001b[39;00m nm_, pred_ \u001b[38;5;129;01min\u001b[39;00m \u001b[38;5;28mself\u001b[39m\u001b[38;5;241m.\u001b[39mpredictions\u001b[38;5;241m.\u001b[39mitems():\n",
      "File \u001b[0;32m~/HSAProject/LIPSPlatform/LIPS_Github/LIPS/lips/evaluation/utils.py:62\u001b[0m, in \u001b[0;36mMetricFactory.get_metric\u001b[0;34m(self, metric_name)\u001b[0m\n\u001b[1;32m     60\u001b[0m creator \u001b[38;5;241m=\u001b[39m \u001b[38;5;28mself\u001b[39m\u001b[38;5;241m.\u001b[39m_creators\u001b[38;5;241m.\u001b[39mget(metric_name)\n\u001b[1;32m     61\u001b[0m \u001b[38;5;28;01mif\u001b[39;00m \u001b[38;5;129;01mnot\u001b[39;00m creator:\n\u001b[0;32m---> 62\u001b[0m     \u001b[38;5;28;01mraise\u001b[39;00m \u001b[38;5;167;01mValueError\u001b[39;00m(metric_name)\n\u001b[1;32m     63\u001b[0m \u001b[38;5;28;01mreturn\u001b[39;00m creator\n",
      "\u001b[0;31mValueError\u001b[0m: MSE_avg"
     ]
    }
   ],
   "source": [
    "torch_sim_metrics_test = benchmark_ffnn.evaluate_simulator(augmented_simulator=torch_sim,\n",
    "                                                  eval_batch_size=128,\n",
    "                                                  dataset=\"test\",\n",
    "                                                  shuffle=False,\n",
    "                                                  save_path=None,\n",
    "                                                  save_predictions=False\n",
    "                                                 )"
   ]
  },
  {
   "cell_type": "code",
   "execution_count": null,
   "id": "a6133ff7",
   "metadata": {},
   "outputs": [],
   "source": [
    "torch_sim_metrics_val"
   ]
  },
  {
   "cell_type": "markdown",
   "id": "11781e5f",
   "metadata": {},
   "source": [
    "# Start training with CNN"
   ]
  },
  {
   "cell_type": "code",
   "execution_count": 26,
   "id": "e7ef889e",
   "metadata": {},
   "outputs": [],
   "source": [
    "wheel_config=ConfigManager(path=CONFIG_PATH_BENCHMARK,\n",
    "                              section_name=\"WeightSustainingWheelBenchmarkInterpolated\")\n",
    "env_params=wheel_config.get_option(\"env_params\")\n",
    "physical_domain=env_params.get(\"physical_domain\")\n",
    "physical_properties=env_params.get(\"physical_properties\")\n",
    "simulator=GetfemSimulator(physical_domain=physical_domain,physical_properties=physical_properties)\n",
    "\n",
    "attr_x= wheel_config.get_option(\"attr_x\")\n",
    "attr_y= (\"disp\",)\n",
    "attr_names=attr_x+attr_y"
   ]
  },
  {
   "cell_type": "code",
   "execution_count": 27,
   "id": "07b1165e",
   "metadata": {},
   "outputs": [],
   "source": [
    "pneumatic_wheel_datasets={\n",
    "    \"train\":pneumatic_wheel_dataset_train,\n",
    "    \"val\":pneumatic_wheel_dataset_val,\n",
    "    \"test\":pneumatic_wheel_dataset_test\n",
    "    \n",
    "}"
   ]
  },
  {
   "cell_type": "markdown",
   "id": "d1788d0f",
   "metadata": {},
   "source": [
    "# Define interpolation"
   ]
  },
  {
   "cell_type": "code",
   "execution_count": 28,
   "id": "5429c0ec",
   "metadata": {},
   "outputs": [],
   "source": [
    "interpolation_info=wheel_config.get_option(\"interpolation_info\")\n",
    "grid_support=interpolation_info.get(\"grid_support\")\n",
    "dofnum_by_field=interpolation_info.get(\"dofnum_by_field\")"
   ]
  },
  {
   "cell_type": "code",
   "execution_count": 29,
   "id": "0fcebe34",
   "metadata": {},
   "outputs": [],
   "source": [
    "dataset_by_type=dict()\n",
    "for name,dataset in pneumatic_wheel_datasets.items():\n",
    "    myTransformer=DataSetInterpolatorOnGrid(name=name,\n",
    "                                                simulator=simulator,\n",
    "                                                dataset=dataset,\n",
    "                                                grid_support=grid_support)\n",
    "    myTransformer.generate(dofnum_by_field=dofnum_by_field,path_out=\"WeightSustainingWheelBenchmarkInterpolated\")\n",
    "    dataset_by_type[dataset.name]=myTransformer"
   ]
  },
  {
   "cell_type": "code",
   "execution_count": 30,
   "id": "952e4a51",
   "metadata": {},
   "outputs": [],
   "source": [
    "LOG_PATH=\"WeightSustainingCNN.log\"\n",
    "benchmark_cnn = WeightSustainingWheelBenchmark(benchmark_name=\"WeightSustainingWheelBenchmarkInterpolated\",\n",
    "                                benchmark_path=\".\",\n",
    "                                load_data_set=True,\n",
    "                                log_path=LOG_PATH,\n",
    "                                config_path=CONFIG_PATH_BENCHMARK\n",
    "                               )"
   ]
  },
  {
   "cell_type": "code",
   "execution_count": 31,
   "id": "7cd4ace0",
   "metadata": {},
   "outputs": [],
   "source": [
    "CONFIG_PATH_AUGMENTED_SIMULATOR_UNET=GetRootPath()+os.path.join(\"..\",\"configurations\",\"pneumatic\",\"simulators\",\"torch_unet.ini\")\n",
    "torch_sim = TorchSimulator(name=\"torch_unet\", \n",
    "                           model=TorchUnet,\n",
    "                           sim_config_path=CONFIG_PATH_AUGMENTED_SIMULATOR_UNET,\n",
    "                           bench_config_path=CONFIG_PATH_BENCHMARK,\n",
    "                           scaler=StandardScalerPerChannel,\n",
    "                           log_path=LOG_PATH,\n",
    "                           seed=42,\n",
    "                           architecture_type=\"Classical\",\n",
    "                          )"
   ]
  },
  {
   "cell_type": "code",
   "execution_count": 32,
   "id": "f583d2b9",
   "metadata": {},
   "outputs": [],
   "source": [
    "SAVE_PATH=GetRootPath()+os.path.join(\"..\",\"getting_started\",\"TestBenchmarkWheel\",\"CNNResults\")\n",
    "torch_sim_config=ConfigManager(path=CONFIG_PATH_AUGMENTED_SIMULATOR_UNET,\n",
    "                              section_name=\"DEFAULT\")\n",
    "torch_sim_params=torch_sim_config.get_options_dict()"
   ]
  },
  {
   "cell_type": "code",
   "execution_count": 33,
   "id": "e484bf9e",
   "metadata": {},
   "outputs": [
    {
     "name": "stdout",
     "output_type": "stream",
     "text": [
      "Train Epoch: 1   Avg_Loss: 0.37264 ['MAELoss: 0.41494']\n",
      "Eval:   Avg_Loss: 0.34903 ['MAELoss: 0.31045']\n",
      "Train Epoch: 2   Avg_Loss: 0.23942 ['MAELoss: 0.33505']\n",
      "Eval:   Avg_Loss: 0.34484 ['MAELoss: 0.30562']\n"
     ]
    }
   ],
   "source": [
    "torch_sim_params[\"epochs\"]=2\n",
    "torch_sim.train(train_dataset=benchmark_cnn.train_dataset,\n",
    "                    val_dataset=benchmark_cnn.val_dataset,\n",
    "                    save_path=SAVE_PATH,\n",
    "                    **torch_sim_params)\n"
   ]
  },
  {
   "cell_type": "code",
   "execution_count": 34,
   "id": "a4a87745",
   "metadata": {},
   "outputs": [],
   "source": [
    "predictor_val = benchmark_cnn.evaluate_predictor(augmented_simulator=torch_sim,\n",
    "                                                  eval_batch_size=128,\n",
    "                                                  dataset=\"val\",\n",
    "                                                  shuffle=False,\n",
    "                                                  save_path=None,\n",
    "                                                  save_predictions=False\n",
    "                                                 )"
   ]
  },
  {
   "cell_type": "code",
   "execution_count": 35,
   "id": "88b931bc",
   "metadata": {},
   "outputs": [],
   "source": [
    "name=\"val\"\n",
    "field_name=PFN.displacement\n",
    "prediction=predictor_val[name]\n",
    "interpolated_field_name=field_name+\"Interpolated\"\n",
    "prediction[field_name] = prediction.pop(interpolated_field_name)\n",
    "simulator=dataset_by_type[name].simulator"
   ]
  },
  {
   "cell_type": "markdown",
   "id": "3cdadd8f",
   "metadata": {},
   "source": [
    "# Interpolate back to mesh"
   ]
  },
  {
   "cell_type": "code",
   "execution_count": 36,
   "id": "e6fa40f4",
   "metadata": {},
   "outputs": [],
   "source": [
    "interpolated_dataset_grid=DataSetInterpolatorOnGrid(name=name,\n",
    "                                                      simulator=simulator,\n",
    "                                                      dataset=dataset_by_type[name],\n",
    "                                                      grid_support=dataset_by_type[name].grid_support)\n",
    "\n",
    "interpolated_dataset_grid.load_from_data(grid_support_points=dataset_by_type[name].grid_support_points,\n",
    "                                           interpolated_dataset=prediction,\n",
    "                                           distributed_inputs_on_grid=dataset_by_type[name].distributed_inputs_on_grid)\n",
    "\n",
    "interpolated_datas_on_mesh=DataSetInterpolatorOnMesh(name=name,\n",
    "                                                      simulator=simulator,\n",
    "                                                      dataset=interpolated_dataset_grid)\n",
    "interpolated_datas_on_mesh.generate(field_names=[field_name])\n",
    "prediction_on_mesh={name: interpolated_datas_on_mesh.interpolated_dataset}\n",
    "observation_val_on_mesh={\"val\":pneumatic_wheel_datasets[\"val\"].data}"
   ]
  },
  {
   "cell_type": "code",
   "execution_count": 37,
   "id": "d0631b2e",
   "metadata": {},
   "outputs": [
    {
     "ename": "ValueError",
     "evalue": "MSE_avg2",
     "output_type": "error",
     "traceback": [
      "\u001b[0;31m---------------------------------------------------------------------------\u001b[0m",
      "\u001b[0;31mValueError\u001b[0m                                Traceback (most recent call last)",
      "Input \u001b[0;32mIn [37]\u001b[0m, in \u001b[0;36m<cell line: 1>\u001b[0;34m()\u001b[0m\n\u001b[0;32m----> 1\u001b[0m torch_sim_metrics_val \u001b[38;5;241m=\u001b[39m \u001b[43mbenchmark_cnn\u001b[49m\u001b[38;5;241;43m.\u001b[39;49m\u001b[43mevaluate_simulator_from_predictions\u001b[49m\u001b[43m(\u001b[49m\u001b[43mpredictions\u001b[49m\u001b[38;5;241;43m=\u001b[39;49m\u001b[43mprediction_on_mesh\u001b[49m\u001b[43m,\u001b[49m\n\u001b[1;32m      2\u001b[0m \u001b[43m                                                                             \u001b[49m\u001b[43mobservations\u001b[49m\u001b[38;5;241;43m=\u001b[39;49m\u001b[43mobservation_val_on_mesh\u001b[49m\u001b[43m,\u001b[49m\n\u001b[1;32m      3\u001b[0m \u001b[43m                                                                             \u001b[49m\u001b[43meval_batch_size\u001b[49m\u001b[38;5;241;43m=\u001b[39;49m\u001b[38;5;241;43m128\u001b[39;49m\u001b[43m,\u001b[49m\n\u001b[1;32m      4\u001b[0m \u001b[43m                                                                             \u001b[49m\u001b[43mdataset\u001b[49m\u001b[38;5;241;43m=\u001b[39;49m\u001b[38;5;124;43m\"\u001b[39;49m\u001b[38;5;124;43mval\u001b[39;49m\u001b[38;5;124;43m\"\u001b[39;49m\u001b[43m,\u001b[49m\n\u001b[1;32m      5\u001b[0m \u001b[43m                                                                             \u001b[49m\u001b[43mshuffle\u001b[49m\u001b[38;5;241;43m=\u001b[39;49m\u001b[38;5;28;43;01mFalse\u001b[39;49;00m\u001b[43m,\u001b[49m\n\u001b[1;32m      6\u001b[0m \u001b[43m                                                                             \u001b[49m\u001b[43msave_path\u001b[49m\u001b[38;5;241;43m=\u001b[39;49m\u001b[38;5;28;43;01mNone\u001b[39;49;00m\u001b[43m,\u001b[49m\n\u001b[1;32m      7\u001b[0m \u001b[43m                                                                             \u001b[49m\u001b[43msave_predictions\u001b[49m\u001b[38;5;241;43m=\u001b[39;49m\u001b[38;5;28;43;01mFalse\u001b[39;49;00m\n\u001b[1;32m      8\u001b[0m \u001b[43m                                                                            \u001b[49m\u001b[43m)\u001b[49m\n\u001b[1;32m      9\u001b[0m \u001b[38;5;28mprint\u001b[39m(torch_sim_metrics_val)\n",
      "File \u001b[0;32m~/HSAProject/LIPSPlatform/LIPS_Github/LIPS/lips/benchmark/wheelBenchmark.py:419\u001b[0m, in \u001b[0;36mWeightSustainingWheelBenchmark.evaluate_simulator_from_predictions\u001b[0;34m(self, predictions, observations, dataset, save_path, **kwargs)\u001b[0m\n\u001b[1;32m    416\u001b[0m res \u001b[38;5;241m=\u001b[39m {}\n\u001b[1;32m    417\u001b[0m \u001b[38;5;28;01mfor\u001b[39;00m dataset_, nm_ \u001b[38;5;129;01min\u001b[39;00m \u001b[38;5;28mzip\u001b[39m(li_dataset, keys):\n\u001b[1;32m    418\u001b[0m     \u001b[38;5;66;03m# call the evaluate predictor function of Benchmark class\u001b[39;00m\n\u001b[0;32m--> 419\u001b[0m     tmp \u001b[38;5;241m=\u001b[39m \u001b[38;5;28;43mself\u001b[39;49m\u001b[38;5;241;43m.\u001b[39;49m\u001b[43m_aux_evaluate_on_single_dataset_from_prediction\u001b[49m\u001b[43m(\u001b[49m\u001b[43mdataset\u001b[49m\u001b[38;5;241;43m=\u001b[39;49m\u001b[43mdataset_\u001b[49m\u001b[43m,\u001b[49m\n\u001b[1;32m    420\u001b[0m \u001b[43m                                               \u001b[49m\u001b[43mpredictions\u001b[49m\u001b[38;5;241;43m=\u001b[39;49m\u001b[43mpredictions\u001b[49m\u001b[43m[\u001b[49m\u001b[43mnm_\u001b[49m\u001b[43m]\u001b[49m\u001b[43m,\u001b[49m\n\u001b[1;32m    421\u001b[0m \u001b[43m                                               \u001b[49m\u001b[43mobservations\u001b[49m\u001b[38;5;241;43m=\u001b[39;49m\u001b[43mobservations\u001b[49m\u001b[43m[\u001b[49m\u001b[43mnm_\u001b[49m\u001b[43m]\u001b[49m\u001b[43m,\u001b[49m\n\u001b[1;32m    422\u001b[0m \u001b[43m                                               \u001b[49m\u001b[43msave_path\u001b[49m\u001b[38;5;241;43m=\u001b[39;49m\u001b[43msave_path\u001b[49m\u001b[43m,\u001b[49m\n\u001b[1;32m    423\u001b[0m \u001b[43m                                               \u001b[49m\u001b[38;5;241;43m*\u001b[39;49m\u001b[38;5;241;43m*\u001b[39;49m\u001b[43mkwargs\u001b[49m\u001b[43m)\u001b[49m\n\u001b[1;32m    424\u001b[0m     res[nm_] \u001b[38;5;241m=\u001b[39m copy\u001b[38;5;241m.\u001b[39mdeepcopy(tmp)\n\u001b[1;32m    425\u001b[0m \u001b[38;5;28;01mreturn\u001b[39;00m res\n",
      "File \u001b[0;32m~/HSAProject/LIPSPlatform/LIPS_Github/LIPS/lips/benchmark/wheelBenchmark.py:459\u001b[0m, in \u001b[0;36mWeightSustainingWheelBenchmark._aux_evaluate_on_single_dataset_from_prediction\u001b[0;34m(self, dataset, predictions, observations, save_path, **kwargs)\u001b[0m\n\u001b[1;32m    456\u001b[0m \u001b[38;5;28mself\u001b[39m\u001b[38;5;241m.\u001b[39mobservations[dataset\u001b[38;5;241m.\u001b[39mname] \u001b[38;5;241m=\u001b[39m observations\n\u001b[1;32m    457\u001b[0m \u001b[38;5;28mself\u001b[39m\u001b[38;5;241m.\u001b[39mdataset \u001b[38;5;241m=\u001b[39m dataset\n\u001b[0;32m--> 459\u001b[0m res \u001b[38;5;241m=\u001b[39m \u001b[38;5;28;43mself\u001b[39;49m\u001b[38;5;241;43m.\u001b[39;49m\u001b[43mevaluation\u001b[49m\u001b[38;5;241;43m.\u001b[39;49m\u001b[43mevaluate\u001b[49m\u001b[43m(\u001b[49m\u001b[43mobservations\u001b[49m\u001b[38;5;241;43m=\u001b[39;49m\u001b[43mobservations\u001b[49m\u001b[43m,\u001b[49m\n\u001b[1;32m    460\u001b[0m \u001b[43m                               \u001b[49m\u001b[43mpredictions\u001b[49m\u001b[38;5;241;43m=\u001b[39;49m\u001b[43mpredictions\u001b[49m\u001b[43m,\u001b[49m\n\u001b[1;32m    461\u001b[0m \u001b[43m                               \u001b[49m\u001b[43msave_path\u001b[49m\u001b[38;5;241;43m=\u001b[39;49m\u001b[43msave_path\u001b[49m\n\u001b[1;32m    462\u001b[0m \u001b[43m                               \u001b[49m\u001b[43m)\u001b[49m\n\u001b[1;32m    463\u001b[0m \u001b[38;5;28;01mreturn\u001b[39;00m res\n",
      "File \u001b[0;32m~/HSAProject/LIPSPlatform/LIPS_Github/LIPS/lips/evaluation/pneumatic_evaluation.py:98\u001b[0m, in \u001b[0;36mPneumaticEvaluation.evaluate\u001b[0;34m(self, observations, predictions, save_path)\u001b[0m\n\u001b[1;32m     95\u001b[0m \u001b[38;5;28msuper\u001b[39m()\u001b[38;5;241m.\u001b[39mevaluate(observations, predictions, save_path)\n\u001b[1;32m     97\u001b[0m \u001b[38;5;28;01mfor\u001b[39;00m cat \u001b[38;5;129;01min\u001b[39;00m \u001b[38;5;28mself\u001b[39m\u001b[38;5;241m.\u001b[39meval_dict\u001b[38;5;241m.\u001b[39mkeys():\n\u001b[0;32m---> 98\u001b[0m     \u001b[38;5;28;43mself\u001b[39;49m\u001b[38;5;241;43m.\u001b[39;49m\u001b[43m_dispatch_evaluation\u001b[49m\u001b[43m(\u001b[49m\u001b[43mcat\u001b[49m\u001b[43m)\u001b[49m\n\u001b[1;32m    100\u001b[0m \u001b[38;5;66;03m# TODO: save the self.metrics variable\u001b[39;00m\n\u001b[1;32m    101\u001b[0m \u001b[38;5;28;01mif\u001b[39;00m save_path:\n",
      "File \u001b[0;32m~/HSAProject/LIPSPlatform/LIPS_Github/LIPS/lips/evaluation/pneumatic_evaluation.py:120\u001b[0m, in \u001b[0;36mPneumaticEvaluation._dispatch_evaluation\u001b[0;34m(self, category)\u001b[0m\n\u001b[1;32m    118\u001b[0m \u001b[38;5;28;01mif\u001b[39;00m category \u001b[38;5;241m==\u001b[39m \u001b[38;5;28mself\u001b[39m\u001b[38;5;241m.\u001b[39mMACHINE_LEARNING:\n\u001b[1;32m    119\u001b[0m     \u001b[38;5;28;01mif\u001b[39;00m \u001b[38;5;28mself\u001b[39m\u001b[38;5;241m.\u001b[39meval_dict[category]:\n\u001b[0;32m--> 120\u001b[0m         \u001b[38;5;28;43mself\u001b[39;49m\u001b[38;5;241;43m.\u001b[39;49m\u001b[43mevaluate_ml\u001b[49m\u001b[43m(\u001b[49m\u001b[43m)\u001b[49m\n\u001b[1;32m    121\u001b[0m \u001b[38;5;28;01mif\u001b[39;00m category \u001b[38;5;241m==\u001b[39m \u001b[38;5;28mself\u001b[39m\u001b[38;5;241m.\u001b[39mPHYSICS_COMPLIANCES:\n\u001b[1;32m    122\u001b[0m     \u001b[38;5;28;01mif\u001b[39;00m \u001b[38;5;28mself\u001b[39m\u001b[38;5;241m.\u001b[39meval_dict[category]:\n",
      "File \u001b[0;32m~/HSAProject/LIPSPlatform/LIPS_Github/LIPS/lips/evaluation/pneumatic_evaluation.py:133\u001b[0m, in \u001b[0;36mPneumaticEvaluation.evaluate_ml\u001b[0;34m(self)\u001b[0m\n\u001b[1;32m    131\u001b[0m metric_val_by_name \u001b[38;5;241m=\u001b[39m \u001b[38;5;28mself\u001b[39m\u001b[38;5;241m.\u001b[39mmetrics[\u001b[38;5;28mself\u001b[39m\u001b[38;5;241m.\u001b[39mMACHINE_LEARNING]\n\u001b[1;32m    132\u001b[0m \u001b[38;5;28;01mfor\u001b[39;00m metric_name \u001b[38;5;129;01min\u001b[39;00m \u001b[38;5;28mself\u001b[39m\u001b[38;5;241m.\u001b[39meval_dict[\u001b[38;5;28mself\u001b[39m\u001b[38;5;241m.\u001b[39mMACHINE_LEARNING]:\n\u001b[0;32m--> 133\u001b[0m     metric_fun \u001b[38;5;241m=\u001b[39m \u001b[43mmetric_factory\u001b[49m\u001b[38;5;241;43m.\u001b[39;49m\u001b[43mget_metric\u001b[49m\u001b[43m(\u001b[49m\u001b[43mmetric_name\u001b[49m\u001b[43m)\u001b[49m\n\u001b[1;32m    134\u001b[0m     metric_val_by_name[metric_name] \u001b[38;5;241m=\u001b[39m {}\n\u001b[1;32m    135\u001b[0m     \u001b[38;5;28;01mfor\u001b[39;00m nm_, pred_ \u001b[38;5;129;01min\u001b[39;00m \u001b[38;5;28mself\u001b[39m\u001b[38;5;241m.\u001b[39mpredictions\u001b[38;5;241m.\u001b[39mitems():\n",
      "File \u001b[0;32m~/HSAProject/LIPSPlatform/LIPS_Github/LIPS/lips/evaluation/utils.py:62\u001b[0m, in \u001b[0;36mMetricFactory.get_metric\u001b[0;34m(self, metric_name)\u001b[0m\n\u001b[1;32m     60\u001b[0m creator \u001b[38;5;241m=\u001b[39m \u001b[38;5;28mself\u001b[39m\u001b[38;5;241m.\u001b[39m_creators\u001b[38;5;241m.\u001b[39mget(metric_name)\n\u001b[1;32m     61\u001b[0m \u001b[38;5;28;01mif\u001b[39;00m \u001b[38;5;129;01mnot\u001b[39;00m creator:\n\u001b[0;32m---> 62\u001b[0m     \u001b[38;5;28;01mraise\u001b[39;00m \u001b[38;5;167;01mValueError\u001b[39;00m(metric_name)\n\u001b[1;32m     63\u001b[0m \u001b[38;5;28;01mreturn\u001b[39;00m creator\n",
      "\u001b[0;31mValueError\u001b[0m: MSE_avg2"
     ]
    }
   ],
   "source": [
    "torch_sim_metrics_val = benchmark_cnn.evaluate_simulator_from_predictions(predictions=prediction_on_mesh,\n",
    "                                                                             observations=observation_val_on_mesh,\n",
    "                                                                             eval_batch_size=128,\n",
    "                                                                             dataset=\"val\",\n",
    "                                                                             shuffle=False,\n",
    "                                                                             save_path=None,\n",
    "                                                                             save_predictions=False\n",
    "                                                                            )\n",
    "print(torch_sim_metrics_val)"
   ]
  }
 ],
 "metadata": {
  "kernelspec": {
   "display_name": "Python 3 (ipykernel)",
   "language": "python",
   "name": "python3"
  },
  "language_info": {
   "codemirror_mode": {
    "name": "ipython",
    "version": 3
   },
   "file_extension": ".py",
   "mimetype": "text/x-python",
   "name": "python",
   "nbconvert_exporter": "python",
   "pygments_lexer": "ipython3",
   "version": "3.8.13"
  }
 },
 "nbformat": 4,
 "nbformat_minor": 5
}
