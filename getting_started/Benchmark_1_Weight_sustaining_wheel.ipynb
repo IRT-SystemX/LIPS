{
 "cells": [
  {
   "cell_type": "markdown",
   "id": "3f58f35b",
   "metadata": {},
   "source": [
    "# Import all dependencies\n",
    "\n",
    "We import all the dependencies required to run the benchmark"
   ]
  },
  {
   "cell_type": "code",
   "execution_count": null,
   "id": "ec77ba2d",
   "metadata": {},
   "outputs": [],
   "source": [
    "from lips.config.configmanager import ConfigManager\n",
    "from lips.augmented_simulators.torch_models.u_net import TorchUnet\n",
    "from lips.augmented_simulators.torch_models.fully_connected import TorchFullyConnected\n",
    "from lips.augmented_simulators.torch_simulator import TorchSimulator\n",
    "from lips.dataset.sampler import LHSSampler\n",
    "from lips.dataset.scaler.standard_scaler_per_channel import StandardScalerPerChannel\n",
    "from lips.dataset.scaler.standard_scaler import StandardScaler\n",
    "\n",
    "from lips.physical_simulator.getfemSimulator import GetfemSimulator\n",
    "import lips.physical_simulator.GetfemSimulator.PhysicalFieldNames as PFN\n",
    "\n",
    "from lips.benchmark.wheelBenchmark import WeightSustainingWheelBenchmark\n",
    "from lips.dataset.pneumaticWheelDataSet import SamplerStaticWheelDataSet,DataSetInterpolatorOnGrid,DataSetInterpolatorOnMesh\n"
   ]
  },
  {
   "cell_type": "markdown",
   "id": "42246f55",
   "metadata": {},
   "source": [
    "# Constant definition\n",
    "\n",
    "We defined the constants used all through the program"
   ]
  },
  {
   "cell_type": "code",
   "execution_count": null,
   "id": "7a9d9800",
   "metadata": {},
   "outputs": [],
   "source": [
    "CONFIG_PATH_BENCHMARK=\"/home/ddanan/HSAProject/LIPSPlatform/LIPS_Github/LIPS/configurations/pneumatic/benchmarks/confWheel.ini\""
   ]
  },
  {
   "cell_type": "markdown",
   "id": "2f334b2a",
   "metadata": {},
   "source": [
    "# Datasets generation\n",
    "\n",
    "We generate the train/test and validation datasets"
   ]
  },
  {
   "cell_type": "code",
   "execution_count": null,
   "id": "cb71fbba",
   "metadata": {},
   "outputs": [],
   "source": [
    "wheel_config=ConfigManager(path=CONFIG_PATH_BENCHMARK,\n",
    "                              section_name=\"WeightSustainingWheelBenchmarkRegular\")\n",
    "\n",
    "print(wheel_config)"
   ]
  },
  {
   "cell_type": "code",
   "execution_count": null,
   "id": "3df6bc46",
   "metadata": {},
   "outputs": [],
   "source": [
    "env_params=wheel_config.get_option(\"env_params\")\n",
    "physical_domain=env_params.get(\"physical_domain\")\n",
    "physical_properties=env_params.get(\"physical_properties\")\n",
    "simulator=GetfemSimulator(physical_domain=physical_domain,physical_properties=physical_properties)"
   ]
  },
  {
   "cell_type": "markdown",
   "id": "a1961887",
   "metadata": {},
   "source": [
    "# Sampler generation"
   ]
  },
  {
   "cell_type": "code",
   "execution_count": null,
   "id": "7fcb8a8c",
   "metadata": {},
   "outputs": [],
   "source": [
    "sampler=wheel_config.get_option(\"sampler\")\n",
    "sampler_input_params=sampler.get(\"sampler_input_params\")\n",
    "sampler_seeds=sampler.get(\"seeds\")\n",
    "sampler_nb_samples=sampler.get(\"nb_samples\")\n",
    "\n",
    "lhs_sampler=LHSSampler(space_params=sampler_input_params)\n",
    "print(lhs_sampler)"
   ]
  },
  {
   "cell_type": "markdown",
   "id": "80e7c453",
   "metadata": {},
   "source": [
    "# Training dataset generation"
   ]
  },
  {
   "cell_type": "code",
   "execution_count": null,
   "id": "69612ef7",
   "metadata": {},
   "outputs": [],
   "source": [
    "attr_names=(PFN.displacement,)\n",
    "DATA_PATH=\"WeightSustainingWheelBenchmarkRegular\"\n",
    "\n",
    "pneumatic_wheel_dataset_train=SamplerStaticWheelDataSet(\"train\",attr_names=attr_names,config=wheel_config)\n",
    "pneumatic_wheel_dataset_train.generate(simulator=simulator,\n",
    "                                    actor=lhs_sampler,\n",
    "                                    nb_samples=sampler_nb_samples.get(\"train\"),\n",
    "                                    actor_seed=sampler_seeds.get(\"train\"),\n",
    "                                    path_out=DATA_PATH\n",
    "                                    )"
   ]
  },
  {
   "cell_type": "code",
   "execution_count": null,
   "id": "4e63c3d3",
   "metadata": {},
   "outputs": [],
   "source": [
    "pneumatic_wheel_dataset_val=SamplerStaticWheelDataSet(\"val\",attr_names=attr_names,config=wheel_config)\n",
    "pneumatic_wheel_dataset_val.generate(simulator=simulator,\n",
    "                                    actor=lhs_sampler,\n",
    "                                    nb_samples=sampler_nb_samples.get(\"val\"),\n",
    "                                    actor_seed=sampler_seeds.get(\"val\"),\n",
    "                                    path_out=DATA_PATH\n",
    "                                    )"
   ]
  },
  {
   "cell_type": "code",
   "execution_count": null,
   "id": "7345617e",
   "metadata": {},
   "outputs": [],
   "source": [
    "pneumatic_wheel_dataset_test=SamplerStaticWheelDataSet(\"test\",attr_names=attr_names,config=wheel_config)\n",
    "pneumatic_wheel_dataset_test.generate(simulator=simulator,\n",
    "                                    actor=lhs_sampler,\n",
    "                                    nb_samples=sampler_nb_samples.get(\"test\"),\n",
    "                                    actor_seed=sampler_seeds.get(\"test\"),\n",
    "                                    path_out=DATA_PATH\n",
    "                                    )"
   ]
  },
  {
   "cell_type": "markdown",
   "id": "8f4728a8",
   "metadata": {},
   "source": [
    "# Start training with FC architecture"
   ]
  },
  {
   "cell_type": "code",
   "execution_count": null,
   "id": "5464d437",
   "metadata": {},
   "outputs": [],
   "source": [
    "LOG_PATH=\"WeightSustainingFFNN.log\"\n",
    "CONFIG_PATH_AUGMENTED_SIMULATOR_FC=\"/home/ddanan/HSAProject/LIPSPlatform/LIPS_Github/LIPS/configurations/pneumatic/simulators/torch_fc.ini\"\n",
    "DATA_PATH=\".\"\n",
    "\n",
    "benchmark_ffnn = WeightSustainingWheelBenchmark(benchmark_name=\"WeightSustainingWheelBenchmarkRegular\",\n",
    "                                benchmark_path=DATA_PATH,\n",
    "                                load_data_set=True,\n",
    "                                log_path=LOG_PATH,\n",
    "                                config_path=CONFIG_PATH_BENCHMARK\n",
    "                               )\n",
    "\n",
    "torch_sim = TorchSimulator(name=\"torch_ffnn\",\n",
    "                           model=TorchFullyConnected,\n",
    "                           scaler=StandardScaler,\n",
    "                           log_path=LOG_PATH,\n",
    "                           seed=42,\n",
    "                           architecture_type=\"Classical\",\n",
    "                           sim_config_path=CONFIG_PATH_AUGMENTED_SIMULATOR_FC\n",
    "                          )\n",
    "\n",
    "SAVE_PATH=\"/home/ddanan/HSAProject/LIPSPlatform/LIPS_Github/LIPS/getting_started/TestBenchmarkWheel/FFNNResults\"\n",
    "torch_sim_config=ConfigManager(path=CONFIG_PATH_AUGMENTED_SIMULATOR_FC,\n",
    "                              section_name=\"CONFIGWHEELSUSTAIN\")"
   ]
  },
  {
   "cell_type": "code",
   "execution_count": null,
   "id": "0761330e",
   "metadata": {
    "scrolled": true
   },
   "outputs": [],
   "source": [
    "torch_sim.params"
   ]
  },
  {
   "cell_type": "code",
   "execution_count": null,
   "id": "62416578",
   "metadata": {},
   "outputs": [],
   "source": [
    "torch_sim_params=torch_sim_config.get_options_dict()\n",
    "torch_sim.train(train_dataset=benchmark_ffnn.train_dataset,\n",
    "                    val_dataset=benchmark_ffnn.val_dataset,\n",
    "                    save_path=SAVE_PATH,\n",
    "                    **torch_sim_params)"
   ]
  },
  {
   "cell_type": "code",
   "execution_count": null,
   "id": "a27a8474",
   "metadata": {},
   "outputs": [],
   "source": [
    "torch_sim_metrics_val = benchmark_ffnn.evaluate_simulator(augmented_simulator=torch_sim,\n",
    "                                                  eval_batch_size=128,\n",
    "                                                  dataset=\"val\",\n",
    "                                                  shuffle=False,\n",
    "                                                  save_path=None,\n",
    "                                                  save_predictions=False\n",
    "                                                 )"
   ]
  },
  {
   "cell_type": "code",
   "execution_count": null,
   "id": "f120fb80",
   "metadata": {},
   "outputs": [],
   "source": [
    "torch_sim_metrics_test = benchmark_ffnn.evaluate_simulator(augmented_simulator=torch_sim,\n",
    "                                                  eval_batch_size=128,\n",
    "                                                  dataset=\"test\",\n",
    "                                                  shuffle=False,\n",
    "                                                  save_path=None,\n",
    "                                                  save_predictions=False\n",
    "                                                 )"
   ]
  },
  {
   "cell_type": "code",
   "execution_count": null,
   "id": "a6133ff7",
   "metadata": {},
   "outputs": [],
   "source": [
    "torch_sim_metrics_val"
   ]
  },
  {
   "cell_type": "markdown",
   "id": "11781e5f",
   "metadata": {},
   "source": [
    "# Start training with CNN"
   ]
  },
  {
   "cell_type": "code",
   "execution_count": null,
   "id": "e7ef889e",
   "metadata": {},
   "outputs": [],
   "source": [
    "wheel_config=ConfigManager(path=CONFIG_PATH_BENCHMARK,\n",
    "                              section_name=\"WeightSustainingWheelBenchmarkInterpolated\")\n",
    "env_params=wheel_config.get_option(\"env_params\")\n",
    "physical_domain=env_params.get(\"physical_domain\")\n",
    "physical_properties=env_params.get(\"physical_properties\")\n",
    "simulator=GetfemSimulator(physical_domain=physical_domain,physical_properties=physical_properties)\n",
    "\n",
    "attr_x= wheel_config.get_option(\"attr_x\")\n",
    "attr_y= (\"disp\",)\n",
    "attr_names=attr_x+attr_y"
   ]
  },
  {
   "cell_type": "code",
   "execution_count": null,
   "id": "07b1165e",
   "metadata": {},
   "outputs": [],
   "source": [
    "pneumatic_wheel_datasets={\n",
    "    \"train\":pneumatic_wheel_dataset_train,\n",
    "    \"val\":pneumatic_wheel_dataset_val,\n",
    "    \"test\":pneumatic_wheel_dataset_test\n",
    "    \n",
    "}"
   ]
  },
  {
   "cell_type": "markdown",
   "id": "d1788d0f",
   "metadata": {},
   "source": [
    "# Define interpolation"
   ]
  },
  {
   "cell_type": "code",
   "execution_count": null,
   "id": "5429c0ec",
   "metadata": {},
   "outputs": [],
   "source": [
    "interpolation_info=wheel_config.get_option(\"interpolation_info\")\n",
    "grid_support=interpolation_info.get(\"grid_support\")\n",
    "dofnum_by_field=interpolation_info.get(\"dofnum_by_field\")"
   ]
  },
  {
   "cell_type": "code",
   "execution_count": null,
   "id": "0fcebe34",
   "metadata": {},
   "outputs": [],
   "source": [
    "dataset_by_type=dict()\n",
    "for name,dataset in pneumatic_wheel_datasets.items():\n",
    "    myTransformer=DataSetInterpolatorOnGrid(name=name,\n",
    "                                                simulator=simulator,\n",
    "                                                dataset=dataset,\n",
    "                                                grid_support=grid_support)\n",
    "    myTransformer.generate(dofnum_by_field=dofnum_by_field,path_out=\"WeightSustainingWheelBenchmarkInterpolated\")\n",
    "    dataset_by_type[dataset.name]=myTransformer"
   ]
  },
  {
   "cell_type": "code",
   "execution_count": null,
   "id": "952e4a51",
   "metadata": {},
   "outputs": [],
   "source": [
    "LOG_PATH=\"WeightSustainingCNN.log\"\n",
    "benchmark_cnn = WeightSustainingWheelBenchmark(benchmark_name=\"WeightSustainingWheelBenchmarkInterpolated\",\n",
    "                                benchmark_path=\".\",\n",
    "                                load_data_set=True,\n",
    "                                log_path=LOG_PATH,\n",
    "                                config_path=CONFIG_PATH_BENCHMARK\n",
    "                               )"
   ]
  },
  {
   "cell_type": "code",
   "execution_count": null,
   "id": "7cd4ace0",
   "metadata": {},
   "outputs": [],
   "source": [
    "torch_sim = TorchSimulator(name=\"torch_unet\",\n",
    "                           model=TorchUnet,\n",
    "                           scaler=StandardScalerPerChannel,\n",
    "                           log_path=LOG_PATH,\n",
    "                           seed=42,\n",
    "                           architecture_type=\"Classical\",\n",
    "                          )"
   ]
  },
  {
   "cell_type": "code",
   "execution_count": null,
   "id": "f583d2b9",
   "metadata": {},
   "outputs": [],
   "source": [
    "SAVE_PATH=\"/home/ddanan/HSAProject/LIPSPlatform/LIPS_Github/LIPS/getting_started/TestBenchmarkWheel/CNNResults\"\n",
    "CONFIG_PATH_AUGMENTED_SIMULATOR_UNET=\"/home/ddanan/HSAProject/LIPSPlatform/LIPS_Github/LIPS/configurations/pneumatic/simulators/torch_unet.ini\"\n",
    "torch_sim_config=ConfigManager(path=CONFIG_PATH_AUGMENTED_SIMULATOR_UNET,\n",
    "                              section_name=\"DEFAULT\")\n",
    "torch_sim_params=torch_sim_config.get_options_dict()"
   ]
  },
  {
   "cell_type": "code",
   "execution_count": null,
   "id": "e484bf9e",
   "metadata": {},
   "outputs": [],
   "source": [
    "torch_sim_params[\"epochs\"]=2\n",
    "torch_sim.train(train_dataset=benchmark_cnn.train_dataset,\n",
    "                    val_dataset=benchmark_cnn.val_dataset,\n",
    "                    save_path=SAVE_PATH,\n",
    "                    **torch_sim_params)"
   ]
  },
  {
   "cell_type": "code",
   "execution_count": null,
   "id": "a4a87745",
   "metadata": {},
   "outputs": [],
   "source": [
    "predictor_val = benchmark_cnn.evaluate_predictor(augmented_simulator=torch_sim,\n",
    "                                                  eval_batch_size=128,\n",
    "                                                  dataset=\"val\",\n",
    "                                                  shuffle=False,\n",
    "                                                  save_path=None,\n",
    "                                                  save_predictions=False\n",
    "                                                 )"
   ]
  },
  {
   "cell_type": "code",
   "execution_count": null,
   "id": "88b931bc",
   "metadata": {},
   "outputs": [],
   "source": [
    "name=\"val\"\n",
    "field_name=PFN.displacement\n",
    "prediction=predictor_val[name]\n",
    "interpolated_field_name=field_name+\"Interpolated\"\n",
    "prediction[field_name] = prediction.pop(interpolated_field_name)\n",
    "simulator=dataset_by_type[name].simulator"
   ]
  },
  {
   "cell_type": "markdown",
   "id": "3cdadd8f",
   "metadata": {},
   "source": [
    "# Interpolate back to mesh"
   ]
  },
  {
   "cell_type": "code",
   "execution_count": null,
   "id": "e6fa40f4",
   "metadata": {},
   "outputs": [],
   "source": [
    "interpolated_dataset_grid=DataSetInterpolatorOnGrid(name=name,\n",
    "                                                      simulator=simulator,\n",
    "                                                      dataset=dataset_by_type[name],\n",
    "                                                      grid_support=dataset_by_type[name].grid_support)\n",
    "\n",
    "interpolated_dataset_grid.load_from_data(grid_support_points=dataset_by_type[name].grid_support_points,\n",
    "                                           interpolated_dataset=prediction,\n",
    "                                           distributed_inputs_on_grid=dataset_by_type[name].distributed_inputs_on_grid)\n",
    "\n",
    "interpolated_datas_on_mesh=DataSetInterpolatorOnMesh(name=name,\n",
    "                                                      simulator=simulator,\n",
    "                                                      dataset=interpolated_dataset_grid)\n",
    "interpolated_datas_on_mesh.generate(field_names=[field_name])\n",
    "prediction_on_mesh={name: interpolated_datas_on_mesh.interpolated_dataset}\n",
    "observation_val_on_mesh={\"val\":pneumatic_wheel_datasets[\"val\"].data}"
   ]
  },
  {
   "cell_type": "code",
   "execution_count": null,
   "id": "d0631b2e",
   "metadata": {},
   "outputs": [],
   "source": [
    "torch_sim_metrics_val = benchmark_cnn.evaluate_simulator_from_predictions(predictions=prediction_on_mesh,\n",
    "                                                                             observations=observation_val_on_mesh,\n",
    "                                                                             eval_batch_size=128,\n",
    "                                                                             dataset=\"val\",\n",
    "                                                                             shuffle=False,\n",
    "                                                                             save_path=None,\n",
    "                                                                             save_predictions=False\n",
    "                                                                            )\n",
    "print(torch_sim_metrics_val)"
   ]
  },
  {
   "cell_type": "code",
   "execution_count": null,
   "id": "328ef749",
   "metadata": {},
   "outputs": [],
   "source": []
  },
  {
   "cell_type": "code",
   "execution_count": null,
   "id": "b0d8e9cd",
   "metadata": {},
   "outputs": [],
   "source": []
  }
 ],
 "metadata": {
  "kernelspec": {
   "display_name": "Python 3 (ipykernel)",
   "language": "python",
   "name": "python3"
  },
  "language_info": {
   "codemirror_mode": {
    "name": "ipython",
    "version": 3
   },
   "file_extension": ".py",
   "mimetype": "text/x-python",
   "name": "python",
   "nbconvert_exporter": "python",
   "pygments_lexer": "ipython3",
   "version": "3.8.13"
  }
 },
 "nbformat": 4,
 "nbformat_minor": 5
}
