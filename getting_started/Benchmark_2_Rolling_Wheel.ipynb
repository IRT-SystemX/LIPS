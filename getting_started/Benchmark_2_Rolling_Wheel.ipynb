{
 "cells": [
  {
   "cell_type": "markdown",
   "id": "42b018e8",
   "metadata": {},
   "source": [
    "# Import all dependencies\n",
    "\n",
    "We import all the dependencies required to run the benchmark"
   ]
  },
  {
   "cell_type": "code",
   "execution_count": null,
   "id": "b2709b9a",
   "metadata": {},
   "outputs": [],
   "source": [
    "from lips.config.configmanager import ConfigManager\n",
    "from lips.augmented_simulators.torch_models.fully_connected import TorchFullyConnected\n",
    "from lips.augmented_simulators.torch_simulator import TorchSimulator\n",
    "from lips.dataset.scaler.standard_scaler import StandardScaler\n",
    "from lips.dataset.scaler.rolling_scaler import RollingWheelScaler\n",
    "\n",
    "from lips.benchmark.wheelBenchmark import WeightSustainingWheelBenchmark,DispRollingWheelBenchmark\n",
    "from lips.dataset.pneumaticWheelDataSet import QuasiStaticWheelDataSet\n",
    "from lips.physical_simulator.getfemSimulator import GetfemSimulator\n",
    "import lips.physical_simulator.GetfemSimulator.PhysicalFieldNames as PFN"
   ]
  },
  {
   "cell_type": "markdown",
   "id": "f3856863",
   "metadata": {},
   "source": [
    "# Constant definition\n",
    "\n",
    "We defined the constants used all through the program"
   ]
  },
  {
   "cell_type": "code",
   "execution_count": null,
   "id": "ac9f5149",
   "metadata": {},
   "outputs": [],
   "source": [
    "CONFIG_PATH_BENCHMARK=\"/home/ddanan/HSAProject/LIPSPlatform/LIPS_Github/LIPS/configurations/pneumatic/benchmarks/confWheel.ini\""
   ]
  },
  {
   "cell_type": "markdown",
   "id": "c136a421",
   "metadata": {},
   "source": [
    "# Dataset generation\n",
    "\n",
    "We generate the base dataset"
   ]
  },
  {
   "cell_type": "code",
   "execution_count": null,
   "id": "bee29946",
   "metadata": {},
   "outputs": [],
   "source": [
    "wheel_config=ConfigManager(path=CONFIG_PATH_BENCHMARK,\n",
    "                              section_name=\"RollingWheelBenchmarkDisplacement\")\n",
    "env_params=wheel_config.get_option(\"env_params\")\n",
    "physical_domain=env_params.get(\"physical_domain\")\n",
    "physical_properties=env_params.get(\"physical_properties\")\n",
    "base_simulator=GetfemSimulator(physical_domain=physical_domain,physical_properties=physical_properties)\n",
    "    \n",
    "attr_names=(PFN.displacement,PFN.contactMultiplier)\n",
    "attr_x = wheel_config.get_option(\"attr_x\")\n",
    "quasiStaticWheelDataSet=QuasiStaticWheelDataSet(\"base\",attr_names=attr_names,attr_x = attr_x,attr_y = attr_names)\n",
    "quasiStaticWheelDataSet.generate(simulator=base_simulator,\n",
    "                                    path_out=\"RollingWheelBenchmarkDisplacement\")"
   ]
  },
  {
   "cell_type": "markdown",
   "id": "ca6e5f74",
   "metadata": {},
   "source": [
    "# Start training with FC (displacement case)"
   ]
  },
  {
   "cell_type": "code",
   "execution_count": null,
   "id": "f58f58d6",
   "metadata": {},
   "outputs": [],
   "source": [
    "LOG_PATH=\"RollingFFNNDisplacement.log\"\n",
    "DATA_PATH=\".\"\n",
    "benchmark_quasistatic_dataSet = DispRollingWheelBenchmark(benchmark_name=\"RollingWheelBenchmarkDisplacement\",\n",
    "                                benchmark_path=DATA_PATH,\n",
    "                                load_data_set=True,\n",
    "                                log_path=LOG_PATH,\n",
    "                                config_path=CONFIG_PATH_BENCHMARK,\n",
    "                                input_required_for_post_process=True\n",
    "                               )\n",
    "\n",
    "wheel_config=ConfigManager(path=CONFIG_PATH_BENCHMARK,\n",
    "                              section_name=\"RollingWheelBenchmarkDisplacement\")\n",
    "\n",
    "benchmark_quasistatic_dataSet.split_train_test_valid()\n",
    "\n",
    "rolling_properties=wheel_config.get_option(\"env_params\").get(\"physical_properties\").get(\"rolling\")[1]\n",
    "theta_Rolling = rolling_properties.get(\"theta_Rolling\")\n",
    "verticalDisp = rolling_properties.get(\"d\")\n",
    "wheel_origin_y = wheel_config.get_option(\"env_params\").get(\"physical_domain\").get(\"wheel_Dimensions\")[-1]\n",
    "wheel_speed = theta_Rolling * (wheel_origin_y - verticalDisp/3)\n",
    "\n",
    "\n",
    "torch_sim = TorchSimulator(name=\"torch_ffnn\",\n",
    "                           model=TorchFullyConnected,\n",
    "                           scaler=RollingWheelScaler,\n",
    "                           log_path=LOG_PATH,\n",
    "                           seed=42,\n",
    "                           architecture_type=\"Classical\",\n",
    "                           scalerParams={\"wheel_velocity\":wheel_speed}\n",
    "                          )\n",
    "\n",
    "SAVE_PATH=\"/home/ddanan/HSAProject/LIPSPlatform/LIPS_Github/LIPS/getting_started/TestBenchmarkWheel/RollingDispFFNN\"\n",
    "CONFIG_PATH_AUGMENTED_SIMULATOR_FC=\"/home/ddanan/HSAProject/LIPSPlatform/LIPS_Github/LIPS/configurations/pneumatic/simulators/torch_fc.ini\"\n",
    "\n",
    "torch_sim_config=ConfigManager(path=CONFIG_PATH_AUGMENTED_SIMULATOR_FC,\n",
    "                              section_name=\"CONFIGROLLINGDISP\")\n",
    "torch_sim_params=torch_sim_config.get_options_dict()"
   ]
  },
  {
   "cell_type": "code",
   "execution_count": null,
   "id": "e1119481",
   "metadata": {},
   "outputs": [],
   "source": [
    "torch_sim.train(train_dataset=benchmark_quasistatic_dataSet.train_dataset,\n",
    "                    val_dataset=benchmark_quasistatic_dataSet._test_dataset,\n",
    "                    save_path=SAVE_PATH, **torch_sim_params)\n",
    "\n",
    "torch_sim_metrics_val = benchmark_quasistatic_dataSet.evaluate_simulator(augmented_simulator=torch_sim,\n",
    "                                                  eval_batch_size=128,\n",
    "                                                  dataset=\"test\",\n",
    "                                                  shuffle=False,\n",
    "                                                  save_path=None,\n",
    "                                                  save_predictions=False\n",
    "                                                 )"
   ]
  },
  {
   "cell_type": "markdown",
   "id": "211c2254",
   "metadata": {},
   "source": [
    "# Start training with FC (multiplier case)"
   ]
  },
  {
   "cell_type": "code",
   "execution_count": null,
   "id": "76dd40e7",
   "metadata": {},
   "outputs": [],
   "source": [
    "LOG_PATH=\"RollingFFNNMultipliers.log\"\n",
    "DATA_PATH=\".\"\n",
    "benchmark_quasistatic_dataSet = DispRollingWheelBenchmark(benchmark_name=\"RollingWheelBenchmarkMultiplier\",\n",
    "                                benchmark_path=DATA_PATH,\n",
    "                                load_data_set=True,\n",
    "                                log_path=LOG_PATH,\n",
    "                                config_path=CONFIG_PATH_BENCHMARK,\n",
    "                                input_required_for_post_process=False\n",
    "                               )\n",
    "\n",
    "wheel_config=ConfigManager(path=CONFIG_PATH_BENCHMARK,\n",
    "                              section_name=\"RollingWheelBenchmarkMultiplier\")\n",
    "benchmark_quasistatic_dataSet.split_train_test_valid()\n",
    "\n",
    "\n",
    "torch_sim = TorchSimulator(name=\"torch_ffnn\",\n",
    "                           model=TorchFullyConnected,\n",
    "                           scaler=StandardScaler,\n",
    "                           log_path=LOG_PATH,\n",
    "                           seed=42,\n",
    "                           architecture_type=\"Classical\",\n",
    "                          )\n",
    "\n",
    "torch_sim_config=ConfigManager(path=CONFIG_PATH_AUGMENTED_SIMULATOR_FC,\n",
    "                              section_name=\"CONFIGROLLINGMULTIPLIER\")\n",
    "torch_sim_params=torch_sim_config.get_options_dict()"
   ]
  },
  {
   "cell_type": "code",
   "execution_count": null,
   "id": "77eff45b",
   "metadata": {},
   "outputs": [],
   "source": [
    "torch_sim.train(benchmark_quasistatic_dataSet.train_dataset, benchmark_quasistatic_dataSet._test_dataset, save_path=SAVE_PATH, **torch_sim_params)\n",
    "\n",
    "torch_sim_metrics_val = benchmark_quasistatic_dataSet.evaluate_simulator(augmented_simulator=torch_sim,\n",
    "                                                  eval_batch_size=128,\n",
    "                                                  dataset=\"test\",\n",
    "                                                  shuffle=False,\n",
    "                                                  save_path=None,\n",
    "                                                  save_predictions=False\n",
    "                                                 )\n"
   ]
  },
  {
   "cell_type": "code",
   "execution_count": null,
   "id": "ade68261",
   "metadata": {},
   "outputs": [],
   "source": [
    "torch_sim_metrics_val"
   ]
  }
 ],
 "metadata": {
  "kernelspec": {
   "display_name": "LIPS-env",
   "language": "python",
   "name": "lips-env"
  },
  "language_info": {
   "codemirror_mode": {
    "name": "ipython",
    "version": 3
   },
   "file_extension": ".py",
   "mimetype": "text/x-python",
   "name": "python",
   "nbconvert_exporter": "python",
   "pygments_lexer": "ipython3",
   "version": "3.8.13"
  }
 },
 "nbformat": 4,
 "nbformat_minor": 5
}
