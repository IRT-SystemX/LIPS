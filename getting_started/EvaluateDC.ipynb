{
 "cells": [
  {
   "cell_type": "markdown",
   "id": "257da04d",
   "metadata": {},
   "source": [
    "# Environment `l2RPN_neurips_2020_track1_small`  "
   ]
  },
  {
   "cell_type": "code",
   "execution_count": 1,
   "id": "aa46353b",
   "metadata": {},
   "outputs": [],
   "source": [
    "import pathlib\n",
    "from pprint import pprint\n",
    "from lips.benchmark.powergridBenchmark import PowerGridBenchmark\n",
    "from lips.utils import get_path"
   ]
  },
  {
   "cell_type": "code",
   "execution_count": 2,
   "id": "b51c9c72",
   "metadata": {},
   "outputs": [],
   "source": [
    "# indicate required paths\n",
    "LIPS_PATH = pathlib.Path().resolve().parent # it is supposed that the notebook had run from getting_started folder\n",
    "DATA_PATH = LIPS_PATH / \"reference_data\" / \"powergrid\" / \"l2rpn_neurips_2020_track1_small\"\n",
    "BENCH_CONFIG_PATH = LIPS_PATH / \"configurations\" / \"powergrid\" / \"benchmarks\" / \"l2rpn_neurips_2020_track1_small.ini\"\n",
    "SIM_CONFIG_PATH = LIPS_PATH / \"configurations\" / \"powergrid\" / \"simulators\"\n",
    "BASELINES_PATH = LIPS_PATH / \"trained_baselines\" / \"powergrid\"\n",
    "TRAINED_MODEL_PATH = LIPS_PATH / \"trained_models\" / \"powergrid\"\n",
    "EVALUATION_PATH = LIPS_PATH / \"evaluation_results\" / \"PowerGrid\"\n",
    "LOG_PATH = LIPS_PATH / \"lips_logs.log\""
   ]
  },
  {
   "cell_type": "markdown",
   "id": "7974e697",
   "metadata": {},
   "source": [
    "## Benchmark1"
   ]
  },
  {
   "cell_type": "code",
   "execution_count": 3,
   "id": "0770ee20",
   "metadata": {},
   "outputs": [],
   "source": [
    "benchmark1 = PowerGridBenchmark(benchmark_name=\"Benchmark1\",\n",
    "                                benchmark_path=DATA_PATH,\n",
    "                                load_data_set=True,\n",
    "                                log_path=LOG_PATH,\n",
    "                                config_path=BENCH_CONFIG_PATH\n",
    "                               )"
   ]
  },
  {
   "cell_type": "code",
   "execution_count": 4,
   "id": "630decdf",
   "metadata": {},
   "outputs": [
    {
     "name": "stdout",
     "output_type": "stream",
     "text": [
      "Benchmark name:  Benchmark1\n",
      "Environment name:  l2rpn_neurips_2020_track1_small\n",
      "Output attributes:  ('a_or', 'a_ex')\n",
      "Evaluation criteria: \n",
      "{'IndRed': ['TIME_INF'],\n",
      " 'ML': ['MSE_avg', 'MAE_avg', 'mape_avg', 'mape_90_avg', 'TIME_INF'],\n",
      " 'OOD': ['MSE_avg', 'MAE_avg', 'mape_avg', 'mape_90_avg', 'TIME_INF'],\n",
      " 'Physics': ['CURRENT_POS']}\n"
     ]
    }
   ],
   "source": [
    "# to verify the config is loaded appropriately for this benchmark\n",
    "print(\"Benchmark name: \", benchmark1.config.section_name)\n",
    "print(\"Environment name: \", benchmark1.config.get_option(\"env_name\"))\n",
    "print(\"Output attributes: \", benchmark1.config.get_option(\"attr_y\"))\n",
    "print(\"Evaluation criteria: \")\n",
    "pprint(benchmark1.config.get_option(\"eval_dict\"))"
   ]
  },
  {
   "cell_type": "code",
   "execution_count": 5,
   "id": "9d96fd32",
   "metadata": {},
   "outputs": [],
   "source": [
    "# the next few lines are specific for each benchmark and each `AugmentedSimulator`\n",
    "import grid2op\n",
    "import warnings\n",
    "from lips.physical_simulator.dcApproximationAS import DCApproximationAS\n",
    "with warnings.catch_warnings():\n",
    "    warnings.filterwarnings(\"ignore\")\n",
    "    env = grid2op.make(benchmark1.config.get_option(\"env_name\"))\n",
    "    grid_path = pathlib.Path(env.get_path_env()) / \"grid.json\"\n",
    "\n",
    "dc_sim = DCApproximationAS(name=\"dc_approximation\", \n",
    "                           benchmark_name=\"Benchmark1\",\n",
    "                           config_path=BENCH_CONFIG_PATH,\n",
    "                           grid_path=grid_path)"
   ]
  },
  {
   "cell_type": "code",
   "execution_count": null,
   "id": "26fefcdb",
   "metadata": {},
   "outputs": [],
   "source": [
    "EVAL_SAVE_PATH = get_path(EVALUATION_PATH, benchmark1)\n",
    "dc_metrics_per_dataset_nips_bench1 = benchmark1.evaluate_simulator(augmented_simulator=dc_sim,\n",
    "                                                                   dataset=\"all\", # other values : \"val\", \"test\", \"test_ood_topo\"\n",
    "                                                                   save_path=EVAL_SAVE_PATH,\n",
    "                                                                   save_predictions=True\n",
    "                                                                  )"
   ]
  },
  {
   "cell_type": "markdown",
   "id": "48426c72",
   "metadata": {},
   "source": [
    "### ML-related performances"
   ]
  },
  {
   "cell_type": "markdown",
   "id": "f28b2cf5",
   "metadata": {},
   "source": [
    "#### Test data evaluation"
   ]
  },
  {
   "cell_type": "code",
   "execution_count": 11,
   "id": "8a44c785",
   "metadata": {},
   "outputs": [
    {
     "name": "stdout",
     "output_type": "stream",
     "text": [
      "MAPE90 for a_or:  0.09211532222184272\n",
      "MAPE90 for a_ex:  0.0935863213806914\n"
     ]
    }
   ],
   "source": [
    "print(\"MAPE90 for a_or: \", dc_metrics_per_dataset_nips_bench1[\"test\"][\"ML\"][\"mape_90_avg\"][\"a_or\"])\n",
    "print(\"MAPE90 for a_ex: \", dc_metrics_per_dataset_nips_bench1[\"test\"][\"ML\"][\"mape_90_avg\"][\"a_ex\"])"
   ]
  },
  {
   "cell_type": "markdown",
   "id": "73cf832d",
   "metadata": {},
   "source": [
    "#### OOD Generalization evaluation"
   ]
  },
  {
   "cell_type": "code",
   "execution_count": 12,
   "id": "ed5426f3",
   "metadata": {},
   "outputs": [
    {
     "name": "stdout",
     "output_type": "stream",
     "text": [
      "MAPE90 for a_or:  0.0892979240499491\n",
      "MAPE90 for a_ex:  0.09065118962072517\n"
     ]
    }
   ],
   "source": [
    "print(\"MAPE90 for a_or: \", dc_metrics_per_dataset_nips_bench1[\"test_ood_topo\"][\"ML\"][\"mape_90_avg\"][\"a_or\"])\n",
    "print(\"MAPE90 for a_ex: \", dc_metrics_per_dataset_nips_bench1[\"test_ood_topo\"][\"ML\"][\"mape_90_avg\"][\"a_ex\"])"
   ]
  },
  {
   "cell_type": "markdown",
   "id": "50909f27",
   "metadata": {},
   "source": [
    "### Physics compliances"
   ]
  },
  {
   "cell_type": "code",
   "execution_count": 13,
   "id": "a8fc6b77",
   "metadata": {},
   "outputs": [
    {
     "data": {
      "text/plain": [
       "dict_keys(['CURRENT_POS'])"
      ]
     },
     "execution_count": 13,
     "metadata": {},
     "output_type": "execute_result"
    }
   ],
   "source": [
    "dc_metrics_per_dataset_nips_bench1[\"test\"][\"Physics\"].keys()"
   ]
  },
  {
   "cell_type": "markdown",
   "id": "07bb9ec7",
   "metadata": {},
   "source": [
    "#### Test dataset evaluation"
   ]
  },
  {
   "cell_type": "code",
   "execution_count": 14,
   "id": "38bdecd7",
   "metadata": {},
   "outputs": [
    {
     "name": "stdout",
     "output_type": "stream",
     "text": [
      "1) Current positivity violation: {}\n"
     ]
    }
   ],
   "source": [
    "print(\"1) Current positivity violation:\", dc_metrics_per_dataset_nips_bench1[\"test\"][\"Physics\"][\"CURRENT_POS\"])#[\"a_or\"][\"Violation_proportion\"]"
   ]
  },
  {
   "cell_type": "markdown",
   "id": "e4f34b8b",
   "metadata": {},
   "source": [
    "#### OOD Generalization"
   ]
  },
  {
   "cell_type": "code",
   "execution_count": 15,
   "id": "3fec3e5a",
   "metadata": {},
   "outputs": [
    {
     "name": "stdout",
     "output_type": "stream",
     "text": [
      "1) Current positivity violation: {}\n"
     ]
    }
   ],
   "source": [
    "print(\"1) Current positivity violation:\", dc_metrics_per_dataset_nips_bench1[\"test_ood_topo\"][\"Physics\"][\"CURRENT_POS\"])#[\"a_or\"][\"Violation_proportion\"]"
   ]
  },
  {
   "cell_type": "markdown",
   "id": "deeed9cf",
   "metadata": {},
   "source": [
    "## Benchmark2"
   ]
  },
  {
   "cell_type": "code",
   "execution_count": 7,
   "id": "e06ff9cf",
   "metadata": {},
   "outputs": [],
   "source": [
    "benchmark2 = PowerGridBenchmark(benchmark_name=\"Benchmark2\",\n",
    "                                benchmark_path=DATA_PATH,\n",
    "                                load_data_set=True,\n",
    "                                log_path=LOG_PATH,\n",
    "                                config_path=BENCH_CONFIG_PATH\n",
    "                               )"
   ]
  },
  {
   "cell_type": "code",
   "execution_count": 8,
   "id": "45b40931",
   "metadata": {},
   "outputs": [
    {
     "name": "stdout",
     "output_type": "stream",
     "text": [
      "Benchmark name:  Benchmark2\n",
      "Environment name:  l2rpn_neurips_2020_track1_small\n",
      "Output attributes:  ('a_or', 'a_ex', 'p_or', 'p_ex', 'q_or', 'q_ex', 'prod_q', 'load_v', 'v_or', 'v_ex')\n",
      "Evaluation criteria: \n",
      "{'IndRed': ['TIME_INF'],\n",
      " 'ML': ['MSE_avg', 'MAE_avg', 'mape_avg', 'mape_90_avg', 'TIME_INF'],\n",
      " 'OOD': ['MSE_avg', 'MAE_avg', 'mape_avg', 'mape_90_avg', 'TIME_INF'],\n",
      " 'Physics': ['CURRENT_POS',\n",
      "             'VOLTAGE_POS',\n",
      "             'LOSS_POS',\n",
      "             'DISC_LINES',\n",
      "             'CURRENT_EQ',\n",
      "             'CHECK_LOSS',\n",
      "             'CHECK_GC',\n",
      "             'CHECK_LC',\n",
      "             'CHECK_VOLTAGE_EQ']}\n"
     ]
    }
   ],
   "source": [
    "# to verify the config is loaded appropriately for this benchmark\n",
    "print(\"Benchmark name: \", benchmark2.config.section_name)\n",
    "print(\"Environment name: \", benchmark2.config.get_option(\"env_name\"))\n",
    "print(\"Output attributes: \", benchmark2.config.get_option(\"attr_y\"))\n",
    "print(\"Evaluation criteria: \")\n",
    "pprint(benchmark2.config.get_option(\"eval_dict\"))"
   ]
  },
  {
   "cell_type": "code",
   "execution_count": 9,
   "id": "b27db245",
   "metadata": {},
   "outputs": [],
   "source": [
    "# the next few lines are specific for each benchmark and each `AugmentedSimulator`\n",
    "import grid2op\n",
    "import warnings\n",
    "from lips.physical_simulator.dcApproximationAS import DCApproximationAS\n",
    "with warnings.catch_warnings():\n",
    "    warnings.filterwarnings(\"ignore\")\n",
    "    env = grid2op.make(benchmark1.config.get_option(\"env_name\"))\n",
    "    grid_path = pathlib.Path(env.get_path_env()) / \"grid.json\"\n",
    "\n",
    "dc_sim = DCApproximationAS(name=\"dc_approximation\", \n",
    "                           benchmark_name=\"Benchmark2\",\n",
    "                           config_path=BENCH_CONFIG_PATH,\n",
    "                           grid_path=grid_path)"
   ]
  },
  {
   "cell_type": "code",
   "execution_count": null,
   "id": "6787c2aa",
   "metadata": {},
   "outputs": [],
   "source": [
    "EVAL_SAVE_PATH = get_path(EVALUATION_PATH, benchmark2)\n",
    "dc_metrics_per_dataset_nips_bench2 = benchmark2.evaluate_simulator(augmented_simulator=dc_sim,\n",
    "                                                                   dataset=\"all\", # other values : \"val\", \"test\", \"test_ood_topo\"\n",
    "                                                                   save_path=EVAL_SAVE_PATH,\n",
    "                                                                   save_predictions=True\n",
    "                                                                  )"
   ]
  },
  {
   "cell_type": "markdown",
   "id": "a78a31a9",
   "metadata": {},
   "source": [
    "### ML-related performances"
   ]
  },
  {
   "cell_type": "markdown",
   "id": "9551dadd",
   "metadata": {},
   "source": [
    "#### Test data evaluation"
   ]
  },
  {
   "cell_type": "code",
   "execution_count": 16,
   "id": "6ec121a2",
   "metadata": {},
   "outputs": [
    {
     "name": "stdout",
     "output_type": "stream",
     "text": [
      "MAPE90 for a_or:  0.08607726908889432\n",
      "MAPE90 for a_ex:  0.08688336686118878\n",
      "MAPE for p_or:  0.07510083406666619\n",
      "MAPE for p_ex:  0.0752763558681588\n",
      "MAPE for v_or:  0.025931524108099433\n",
      "MAPE for v_ex:  0.02667889294542402\n"
     ]
    }
   ],
   "source": [
    "print(\"MAPE90 for a_or: \", dc_metrics_per_dataset_nips_bench2[\"test\"][\"ML\"][\"mape_90_avg\"][\"a_or\"])\n",
    "print(\"MAPE90 for a_ex: \", dc_metrics_per_dataset_nips_bench2[\"test\"][\"ML\"][\"mape_90_avg\"][\"a_ex\"])\n",
    "print(\"MAPE for p_or: \", dc_metrics_per_dataset_nips_bench2[\"test\"][\"ML\"][\"mape_avg\"][\"p_or\"])\n",
    "print(\"MAPE for p_ex: \", dc_metrics_per_dataset_nips_bench2[\"test\"][\"ML\"][\"mape_avg\"][\"p_ex\"])\n",
    "print(\"MAPE for v_or: \", dc_metrics_per_dataset_nips_bench2[\"test\"][\"ML\"][\"mape_avg\"][\"v_or\"])\n",
    "print(\"MAPE for v_ex: \", dc_metrics_per_dataset_nips_bench2[\"test\"][\"ML\"][\"mape_avg\"][\"v_ex\"])"
   ]
  },
  {
   "cell_type": "markdown",
   "id": "1d266f7a",
   "metadata": {},
   "source": [
    "#### OOD Generalization evaluation"
   ]
  },
  {
   "cell_type": "code",
   "execution_count": 17,
   "id": "862c0130",
   "metadata": {},
   "outputs": [
    {
     "name": "stdout",
     "output_type": "stream",
     "text": [
      "MAPE90 for a_or:  0.09784620136324164\n",
      "MAPE90 for a_ex:  0.0961574901261287\n",
      "MAPE for p_or:  0.08847901551545259\n",
      "MAPE for p_ex:  0.08881861816568805\n",
      "MAPE for v_or:  0.027389127445560022\n",
      "MAPE for v_ex:  0.02817785041661958\n"
     ]
    }
   ],
   "source": [
    "print(\"MAPE90 for a_or: \", dc_metrics_per_dataset_nips_bench2[\"test_ood_topo\"][\"ML\"][\"mape_90_avg\"][\"a_or\"])\n",
    "print(\"MAPE90 for a_ex: \", dc_metrics_per_dataset_nips_bench2[\"test_ood_topo\"][\"ML\"][\"mape_90_avg\"][\"a_ex\"])\n",
    "print(\"MAPE for p_or: \", dc_metrics_per_dataset_nips_bench2[\"test_ood_topo\"][\"ML\"][\"mape_avg\"][\"p_or\"])\n",
    "print(\"MAPE for p_ex: \", dc_metrics_per_dataset_nips_bench2[\"test_ood_topo\"][\"ML\"][\"mape_avg\"][\"p_ex\"])\n",
    "print(\"MAPE for v_or: \", dc_metrics_per_dataset_nips_bench2[\"test_ood_topo\"][\"ML\"][\"mape_avg\"][\"v_or\"])\n",
    "print(\"MAPE for v_ex: \", dc_metrics_per_dataset_nips_bench2[\"test_ood_topo\"][\"ML\"][\"mape_avg\"][\"v_ex\"])"
   ]
  },
  {
   "cell_type": "markdown",
   "id": "a8acd75e",
   "metadata": {},
   "source": [
    "### Physics compliances"
   ]
  },
  {
   "cell_type": "code",
   "execution_count": null,
   "id": "4cd9c540",
   "metadata": {},
   "outputs": [],
   "source": [
    "dc_metrics_per_dataset_bench2[\"test\"][\"Physics\"].keys()"
   ]
  },
  {
   "cell_type": "markdown",
   "id": "b69abe25",
   "metadata": {},
   "source": [
    "#### Test dataset evaluation"
   ]
  },
  {
   "cell_type": "code",
   "execution_count": 18,
   "id": "a75ed195",
   "metadata": {},
   "outputs": [
    {
     "name": "stdout",
     "output_type": "stream",
     "text": [
      "1) Current positivity violation: {}\n",
      "2) Voltage positivity violation: {}\n",
      "3) Loss positivity violation: {}\n",
      "4) Disconnected lines violation: {}\n",
      "5) Violation of loss to be between [1,4]% of production: 0.0\n",
      "6) Violation of global conservation: 100.0% and its weighted mape: 1.0000000158419715\n",
      "7) Violation of local conservation: 2.7777777777777777% and its weighted mape: 0.011069415807126823\n",
      "8) Violation proportion of voltage equality at subs: 0.020959742699225667\n"
     ]
    }
   ],
   "source": [
    "print(\"1) Current positivity violation:\", dc_metrics_per_dataset_nips_bench2[\"test\"][\"Physics\"][\"CURRENT_POS\"])#[\"a_or\"][\"Violation_proportion\"]\n",
    "print(\"2) Voltage positivity violation:\", dc_metrics_per_dataset_nips_bench2[\"test\"][\"Physics\"][\"VOLTAGE_POS\"])\n",
    "print(\"3) Loss positivity violation:\", dc_metrics_per_dataset_nips_bench2[\"test\"][\"Physics\"][\"LOSS_POS\"])\n",
    "print(\"4) Disconnected lines violation:\", dc_metrics_per_dataset_nips_bench2[\"test\"][\"Physics\"][\"DISC_LINES\"])\n",
    "print(\"5) Violation of loss to be between [1,4]% of production:\", dc_metrics_per_dataset_nips_bench2[\"test\"][\"Physics\"][\"CHECK_LOSS\"][\"violation_percentage\"])\n",
    "print(\"6) Violation of global conservation: {}% and its weighted mape: {}\".format(dc_metrics_per_dataset_nips_bench2[\"test\"][\"Physics\"][\"CHECK_GC\"][\"violation_percentage\"], dc_metrics_per_dataset_nips_bench2[\"test\"][\"Physics\"][\"CHECK_GC\"][\"wmape\"]))\n",
    "print(\"7) Violation of local conservation: {}% and its weighted mape: {}\".format(dc_metrics_per_dataset_nips_bench2[\"test\"][\"Physics\"][\"CHECK_LC\"][\"violation_percentage\"], dc_metrics_per_dataset_nips_bench2[\"test\"][\"Physics\"][\"CHECK_LC\"][\"mape\"]))\n",
    "print(\"8) Violation proportion of voltage equality at subs:\", dc_metrics_per_dataset_nips_bench2[\"test\"][\"Physics\"][\"CHECK_VOLTAGE_EQ\"][0][2])"
   ]
  },
  {
   "cell_type": "markdown",
   "id": "d0c7de83",
   "metadata": {},
   "source": [
    "#### OOD Generalization"
   ]
  },
  {
   "cell_type": "code",
   "execution_count": 19,
   "id": "4a94b820",
   "metadata": {},
   "outputs": [
    {
     "name": "stdout",
     "output_type": "stream",
     "text": [
      "1) Current positivity violation: {}\n",
      "2) Voltage positivity violation: {}\n",
      "3) Loss positivity violation: {}\n",
      "4) Disconnected lines violation: {}\n",
      "5) Violation of loss to be between [1,4]% of production: 0.0\n",
      "6) Violation of global conservation: 100.0% and its weighted mape: 0.9999999921966226\n",
      "7) Violation of local conservation: 2.7777777777777777% and its weighted mape: 0.015149217172298248\n",
      "8) Violation proportion of voltage equality at subs: 0.03629023768921451\n"
     ]
    }
   ],
   "source": [
    "print(\"1) Current positivity violation:\", dc_metrics_per_dataset_nips_bench2[\"test_ood_topo\"][\"Physics\"][\"CURRENT_POS\"])#[\"a_or\"][\"Violation_proportion\"]\n",
    "print(\"2) Voltage positivity violation:\", dc_metrics_per_dataset_nips_bench2[\"test_ood_topo\"][\"Physics\"][\"VOLTAGE_POS\"])\n",
    "print(\"3) Loss positivity violation:\", dc_metrics_per_dataset_nips_bench2[\"test_ood_topo\"][\"Physics\"][\"LOSS_POS\"])\n",
    "print(\"4) Disconnected lines violation:\", dc_metrics_per_dataset_nips_bench2[\"test_ood_topo\"][\"Physics\"][\"DISC_LINES\"])\n",
    "print(\"5) Violation of loss to be between [1,4]% of production:\", dc_metrics_per_dataset_nips_bench2[\"test_ood_topo\"][\"Physics\"][\"CHECK_LOSS\"][\"violation_percentage\"])\n",
    "print(\"6) Violation of global conservation: {}% and its weighted mape: {}\".format(dc_metrics_per_dataset_nips_bench2[\"test_ood_topo\"][\"Physics\"][\"CHECK_GC\"][\"violation_percentage\"], dc_metrics_per_dataset_nips_bench2[\"test_ood_topo\"][\"Physics\"][\"CHECK_GC\"][\"wmape\"]))\n",
    "print(\"7) Violation of local conservation: {}% and its weighted mape: {}\".format(dc_metrics_per_dataset_nips_bench2[\"test_ood_topo\"][\"Physics\"][\"CHECK_LC\"][\"violation_percentage\"], dc_metrics_per_dataset_nips_bench2[\"test_ood_topo\"][\"Physics\"][\"CHECK_LC\"][\"mape\"]))\n",
    "print(\"8) Violation proportion of voltage equality at subs:\", dc_metrics_per_dataset_nips_bench2[\"test_ood_topo\"][\"Physics\"][\"CHECK_VOLTAGE_EQ\"][0][2])"
   ]
  }
 ],
 "metadata": {
  "kernelspec": {
   "display_name": "lips",
   "language": "python",
   "name": "lips"
  },
  "language_info": {
   "codemirror_mode": {
    "name": "ipython",
    "version": 3
   },
   "file_extension": ".py",
   "mimetype": "text/x-python",
   "name": "python",
   "nbconvert_exporter": "python",
   "pygments_lexer": "ipython3",
   "version": "3.8.10"
  }
 },
 "nbformat": 4,
 "nbformat_minor": 5
}
