{
 "cells": [
  {
   "cell_type": "code",
   "execution_count": 1,
   "metadata": {},
   "outputs": [
    {
     "name": "stderr",
     "output_type": "stream",
     "text": [
      "/home/marotant/.local/lib/python3.8/site-packages/geopandas/_compat.py:111: UserWarning: The Shapely GEOS version (3.8.0-CAPI-1.13.1 ) is incompatible with the GEOS version PyGEOS was compiled with (3.9.1-CAPI-1.14.2). Conversions between both will be slow.\n",
      "  warnings.warn(\n"
     ]
    },
    {
     "name": "stdout",
     "output_type": "stream",
     "text": [
      "/home/marotant/Téléchargements/2022_L2RPN_results_cpy/submissions/02_56_richard_wth/submission\n"
     ]
    }
   ],
   "source": [
    "import grid2op\n",
    "import os\n",
    "import sys\n",
    "import numpy as np\n",
    "import grid2op\n",
    "from tqdm import tqdm\n",
    "\n",
    "\n",
    "from grid2op.dtypes import dt_int\n",
    "from grid2op.Runner import Runner\n",
    "from grid2op.Chronics import ChangeNothing\n",
    "from grid2op.Agent import BaseAgent\n",
    "from grid2op.Reward import BaseReward, RedispReward, L2RPNSandBoxScore, _AlarmScore\n",
    "from grid2op.Action import TopologyAndDispatchAction\n",
    "\n",
    "agent_name=\"02_56_richard_wth\"#\"01_63_maze-rl\"\n",
    "submission_dir=os.path.join('/pathTo/submissions/',agent_name)\n",
    "path_save_dir='./res_test_wcci_2022'\n",
    "os.makedirs(path_save_dir,exist_ok=True)\n",
    "\n",
    "submission_location = os.path.join(submission_dir, \"submission\")\n",
    "print(submission_location)\n",
    "\n",
    "# add proper directories to path\n",
    "#sys.path.append(program_dir)\n",
    "sys.path.append(submission_dir)\n",
    "\n",
    "\n"
   ]
  },
  {
   "cell_type": "markdown",
   "metadata": {},
   "source": [
    "## Loading grid2op environment"
   ]
  },
  {
   "cell_type": "code",
   "execution_count": 7,
   "metadata": {},
   "outputs": [],
   "source": [
    "#grid2op.make(\"/home/marotant/Téléchargements/L2RPN_wcci2022_starting_kit/input_data_local/\")\n",
    "env=grid2op.make(\"L2RPN_wcci_2022\")\n"
   ]
  },
  {
   "cell_type": "code",
   "execution_count": 9,
   "metadata": {},
   "outputs": [],
   "source": [
    "from submission import make_agent\n",
    "#env_template = grid2op.make(env_path),\n",
    "#                            chronics_class=ChangeNothing,\n",
    "#                            action_class=TopologyAndDispatchAction)\n",
    "#env = grid2op.make(env_path,backend=BACKEND(),reward_class=L2RPNSandBoxScore,other_rewards={'attention_score':_AlarmScore}\n",
    "                   \n",
    "\n",
    "submitted_agent = make_agent(env, submission_location)\n",
    "#from l2rpn_baselines.ExpertAgent import ExpertAgent\n",
    "#from grid2op.Agent.greedyAgent import GreedyAgent\n",
    "#from grid2op.Agent.doNothing import DoNothingAgent\n",
    "#from grid2op.Agent.randomAgent import RandomAgent\n",
    "#submitted_agent=DoNothing_Attention_Agent(env.action_space,env.alarms_lines_area)#,env.observation_space)\n",
    "\n",
    "#submitted_agent=ExpertAgent(env.action_space,env.observation_space,name=\"expert_run\",gridName=\"IEEE118_R2\")#RandomAgent(env.action_space)#"
   ]
  },
  {
   "cell_type": "code",
   "execution_count": 44,
   "metadata": {},
   "outputs": [
    {
     "name": "stdout",
     "output_type": "stream",
     "text": [
      "index:0\n",
      "68\n",
      "[1 2 1 1 2 1 2]\n",
      "index:1\n",
      "58\n",
      "[1 1 1 2 1 1 2 2 1 1]\n",
      "index:2\n",
      "58\n",
      "[1 1 1 2 1 2 1 1 1 1]\n",
      "index:3\n",
      "55\n",
      "[1 2 2 2 1 1 1 1 2 2]\n",
      "index:4\n",
      "99\n",
      "[1 1 2 2 1 2 2 2 1 1 2 2]\n",
      "index:5\n",
      "68\n",
      "[1 2 1 1 2 1 1]\n",
      "index:6\n",
      "99\n",
      "[1 1 1 2 1 2 2 2 2 1 2 2]\n",
      "index:7\n",
      "99\n",
      "[1 1 2 1 1 2 2 2 1 1 1 2]\n",
      "index:8\n",
      "67\n",
      "[1 1 2 1]\n",
      "index:9\n",
      "99\n",
      "[1 1 2 2 1 2 2 2 1 2 1 2]\n",
      "index:10\n",
      "99\n",
      "[1 1 1 2 1 2 2 2 1 1 2 2]\n",
      "index:11\n",
      "48\n",
      "[1 1 1 1 1 1 1 1 2 1 1 1 1 1 1 1 2]\n",
      "index:12\n",
      "68\n",
      "[1 2 2 2 1 1 2]\n",
      "index:13\n",
      "22\n",
      "[1 1 1 2 1 1]\n",
      "index:14\n",
      "55\n",
      "[1 1 1 1 2 2 2 1 1 2]\n",
      "index:15\n",
      "68\n",
      "[1 1 1 1 2 2 1]\n",
      "index:16\n",
      "68\n",
      "[1 1 1 1 2 2 2]\n",
      "index:17\n",
      "67\n",
      "[1 2 1 2]\n",
      "index:18\n",
      "16\n",
      "[1 2 1 2 2 2 2]\n",
      "index:19\n",
      "68\n",
      "[1 2 2 2 2 1 1]\n",
      "index:20\n",
      "99\n",
      "[1 1 2 1 1 2 2 2 1 2 1 2]\n",
      "index:21\n",
      "76\n",
      "[1 2 1 2 1 1 1 1 1 2 1]\n",
      "index:22\n",
      "68\n",
      "[1 1 1 1 1 2 2]\n",
      "index:23\n",
      "68\n",
      "[1 2 2 2 1 1 1]\n",
      "index:24\n",
      "58\n",
      "[ 1  1  1 -1  1  2  2  2  1  1]\n",
      "index:25\n",
      "11\n",
      "[1 1 2 1 1 1 2 1 1]\n",
      "index:26\n",
      "54\n",
      "[1 1 2 2 2]\n",
      "index:27\n",
      "58\n",
      "[1 1 1 2 2 1 1 1 1 1]\n",
      "index:28\n",
      "58\n",
      "[1 1 1 2 1 1 2 2 2 1]\n",
      "index:29\n",
      "16\n",
      "[1 2 1 2 1 2 2]\n",
      "index:30\n",
      "68\n",
      "[1 1 2 2 1 2 2]\n",
      "index:31\n",
      "68\n",
      "[1 1 2 2 2 1 2]\n",
      "index:32\n",
      "16\n",
      "[1 2 1 2 2 2 1]\n",
      "index:33\n",
      "48\n",
      "[1 1 1 1 1 1 1 2 2 1 1 2 1 1 1 1 2]\n",
      "index:34\n",
      "68\n",
      "[1 2 2 2 2 1 2]\n",
      "index:35\n",
      "19\n",
      "[1 2 1]\n",
      "index:36\n",
      "99\n",
      "[1 1 2 1 1 2 2 2 1 1 2 2]\n",
      "index:37\n",
      "55\n",
      "[1 1 1 1 2 2 1 2 1 2]\n",
      "index:38\n",
      "99\n",
      "[1 1 1 2 1 2 2 2 2 1 1 2]\n",
      "index:39\n",
      "99\n",
      "[1 1 2 2 1 2 2 2 1 1 1 2]\n",
      "index:40\n",
      "99\n",
      "[1 1 1 2 1 2 2 2 1 2 1 2]\n",
      "index:41\n",
      "48\n",
      "[1 2 2 1 1 1 1 2 2 1 1 1 2 1 1 2 1]\n",
      "index:42\n",
      "16\n",
      "[1 2 1 2 1 2 1]\n",
      "index:43\n",
      "24\n",
      "[1 2 1 1]\n",
      "index:44\n",
      "60\n",
      "[1 2 1 2 2]\n",
      "index:45\n",
      "26\n",
      "[1 2 1 1 2 1 2]\n",
      "index:46\n",
      "16\n",
      "[1 2 1 1 1 2 1]\n",
      "index:47\n",
      "36\n",
      "[1 2 2 2 2 1]\n",
      "index:48\n",
      "22\n",
      "[1 1 1 2 2 1]\n",
      "index:49\n",
      "16\n",
      "[1 1 2 1 2 1 2]\n",
      "index:50\n",
      "16\n",
      "[1 1 1 1 1 2 1]\n",
      "index:51\n",
      "64\n",
      "[1 1 2 1 2]\n",
      "index:52\n",
      "36\n",
      "[1 1 2 2 2 1]\n",
      "index:53\n",
      "29\n",
      "[1 2 2 2]\n",
      "index:54\n",
      "60\n",
      "[1 1 1 2 2]\n",
      "index:55\n",
      "99\n",
      "[1 1 1 2 1 2 2 2 1 1 2 1]\n",
      "index:56\n",
      "76\n",
      "[1 2 1 1 1 1 2 2 2 2 1]\n",
      "index:57\n",
      "58\n",
      "[1 1 1 2 2 1 2 2 1 1]\n",
      "index:58\n",
      "48\n",
      "[1 2 2 2 1 2 2 1 1 2 2 2 2 2 2 2 1]\n",
      "index:59\n",
      "48\n",
      "[1 2 2 2 2 2 2 2 2 2 2 1 2 2 2 2 1]\n",
      "index:60\n",
      "76\n",
      "[1 1 1 1 2 2 2 2 2 1 1]\n",
      "index:61\n",
      "69\n",
      "[1 2 2 2 1 2 1 2]\n",
      "index:62\n",
      "99\n",
      "[1 1 1 2 1 2 2 2 1 1 1 2]\n",
      "index:63\n",
      "58\n",
      "[1 1 1 1 2 2 1 2 1 1]\n",
      "index:64\n",
      "48\n",
      "[1 1 1 1 1 2 2 1 1 2 2 1 1 1 2 1 2]\n",
      "index:65\n",
      "48\n",
      "[1 1 1 1 1 1 1 2 1 1 1 1 1 1 1 1 2]\n",
      "index:66\n",
      "33\n",
      "[1 2 1 2 2 1]\n",
      "index:67\n",
      "26\n",
      "[1 2 1 1 1 2 2]\n",
      "index:68\n",
      "16\n",
      "[1 1 2 2 2 2 2]\n",
      "index:69\n",
      "99\n",
      "[1 1 1 2 1 2 2 2 1 2 1 1]\n"
     ]
    }
   ],
   "source": [
    "action_space_zz=submitted_agent.action_space_zz\n",
    "for i in range(70):#len(action_space_zz)):\n",
    "    print(\"index:\"+str(i))\n",
    "    action=action_space_zz[i]\n",
    "    sub_id=action.impact_on_objects()['topology']['bus_switch'][0]['substation']\n",
    "    print(sub_id)\n",
    "    obs=env.reset()\n",
    "    obs_simulated,_,_,_=obs.simulate(action)\n",
    "    print(obs_simulated.sub_topology(sub_id))"
   ]
  },
  {
   "cell_type": "code",
   "execution_count": 42,
   "metadata": {},
   "outputs": [
    {
     "name": "stdout",
     "output_type": "stream",
     "text": [
      "60\n",
      "[1 1 1 2 2]\n"
     ]
    }
   ],
   "source": [
    "i=54\n",
    "action=action_space_zz[i]\n",
    "sub_id=action.impact_on_objects()['topology']['bus_switch'][0]['substation']\n",
    "print(sub_id)\n",
    "obs=env.reset()\n",
    "obs_simulated,_,_,_=obs.simulate(action)\n",
    "print(obs_simulated.sub_topology(sub_id))"
   ]
  },
  {
   "cell_type": "code",
   "execution_count": 43,
   "metadata": {},
   "outputs": [
    {
     "data": {
      "application/vnd.plotly.v1+json": {
       "config": {
        "plotlyServerURL": "https://plot.ly"
       },
       "data": [
        {
         "hoverinfo": "skip",
         "line": {
          "color": "rgb(8,81,156)"
         },
         "name": "a0_1_0",
         "showlegend": false,
         "type": "scatter",
         "x": [
          -1067,
          -940
         ],
         "y": [
          600,
          600
         ]
        },
        {
         "hoverinfo": "skip",
         "marker": {
          "color": "red",
          "showscale": false,
          "size": 10
         },
         "name": "a_bus__or_0_1_0",
         "showlegend": false,
         "type": "scatter",
         "x": [
          -1052
         ],
         "y": [
          600
         ]
        },
        {
         "hoverinfo": "skip",
         "marker": {
          "color": "red",
          "showscale": false,
          "size": 10
         },
         "name": "a_bus__ex_0_1_0",
         "showlegend": false,
         "type": "scatter",
         "x": [
          -955
         ],
         "y": [
          600
         ]
        },
        {
         "hoverinfo": "skip",
         "marker": {
          "color": "rgb(8,81,156)",
          "showscale": false,
          "size": 10,
          "symbol": "triangle-left"
         },
         "name": "a_->_0_1_0",
         "showlegend": false,
         "type": "scatter",
         "x": [
          -1037,
          -1042
         ],
         "y": [
          600,
          600
         ]
        },
        {
         "hoverinfo": "skip",
         "line": {
          "color": "rgb(33,113,181)"
         },
         "name": "a0_2_1",
         "showlegend": false,
         "type": "scatter",
         "x": [
          -1067,
          -1006
         ],
         "y": [
          600,
          524
         ]
        },
        {
         "hoverinfo": "skip",
         "marker": {
          "color": "red",
          "showscale": false,
          "size": 10
         },
         "name": "a_bus__or_0_2_1",
         "showlegend": false,
         "type": "scatter",
         "x": [
          -1057.6108154585404
         ],
         "y": [
          588.3019995876896
         ]
        },
        {
         "hoverinfo": "skip",
         "marker": {
          "color": "red",
          "showscale": false,
          "size": 10
         },
         "name": "a_bus__ex_0_2_1",
         "showlegend": false,
         "type": "scatter",
         "x": [
          -1015.3891845414597
         ],
         "y": [
          535.6980004123104
         ]
        },
        {
         "hoverinfo": "skip",
         "marker": {
          "color": "rgb(33,113,181)",
          "showscale": false,
          "size": 10,
          "symbol": "triangle-nw"
         },
         "name": "a_->_0_2_1",
         "showlegend": false,
         "type": "scatter",
         "x": [
          -1048.2216309170806,
          -1051.3513590975672
         ],
         "y": [
          576.6039991753792,
          580.5033326461493
         ]
        },
        {
         "hoverinfo": "skip",
         "line": {
          "color": "rgb(8,81,156)"
         },
         "name": "a10_11_2",
         "showlegend": false,
         "type": "scatter",
         "x": [
          -847,
          -705
         ],
         "y": [
          465,
          505
         ]
        },
        {
         "hoverinfo": "skip",
         "marker": {
          "color": "red",
          "showscale": false,
          "size": 10
         },
         "name": "a_bus__or_10_11_2",
         "showlegend": false,
         "type": "scatter",
         "x": [
          -832.5618933723256
         ],
         "y": [
          469.06707228948574
         ]
        },
        {
         "hoverinfo": "skip",
         "marker": {
          "color": "red",
          "showscale": false,
          "size": 10
         },
         "name": "a_bus__ex_10_11_2",
         "showlegend": false,
         "type": "scatter",
         "x": [
          -719.4381066276744
         ],
         "y": [
          500.93292771051426
         ]
        },
        {
         "hoverinfo": "skip",
         "marker": {
          "color": "rgb(8,81,156)",
          "showscale": false,
          "size": 10,
          "symbol": "triangle-ne"
         },
         "name": "a_->_10_11_2",
         "showlegend": false,
         "type": "scatter",
         "x": [
          -818.1237867446512,
          -822.9364889538759
         ],
         "y": [
          473.13414457897153,
          471.7784538158096
         ]
        },
        {
         "hoverinfo": "skip",
         "line": {
          "color": "rgb(8,48,107)"
         },
         "name": "a69_70_3",
         "showlegend": false,
         "type": "scatter",
         "x": [
          160,
          93
         ],
         "y": [
          41,
          124
         ]
        },
        {
         "hoverinfo": "skip",
         "marker": {
          "color": "red",
          "showscale": false,
          "size": 10
         },
         "name": "a_bus__or_69_70_3",
         "showlegend": false,
         "type": "scatter",
         "x": [
          150.57821700915025
         ],
         "y": [
          52.671761018515355
         ]
        },
        {
         "hoverinfo": "skip",
         "marker": {
          "color": "red",
          "showscale": false,
          "size": 10
         },
         "name": "a_bus__ex_69_70_3",
         "showlegend": false,
         "type": "scatter",
         "x": [
          102.42178299084975
         ],
         "y": [
          112.32823898148465
         ]
        },
        {
         "hoverinfo": "skip",
         "marker": {
          "color": "rgb(8,48,107)",
          "showscale": false,
          "size": 10,
          "symbol": "triangle-se"
         },
         "name": "a_->_69_70_3",
         "showlegend": false,
         "type": "scatter",
         "x": [
          141.1564340183005,
          144.29702834858375
         ],
         "y": [
          64.34352203703071,
          60.452935030858924
         ]
        },
        {
         "hoverinfo": "skip",
         "line": {
          "color": "rgb(8,48,107)"
         },
         "name": "a23_71_4",
         "showlegend": false,
         "type": "scatter",
         "x": [
          -49,
          -3
         ],
         "y": [
          43,
          120
         ]
        },
        {
         "hoverinfo": "skip",
         "marker": {
          "color": "red",
          "showscale": false,
          "size": 10
         },
         "name": "a_bus__or_23_71_4",
         "showlegend": false,
         "type": "scatter",
         "x": [
          -41.30717121810869
         ],
         "y": [
          55.87712643925285
         ]
        },
        {
         "hoverinfo": "skip",
         "marker": {
          "color": "red",
          "showscale": false,
          "size": 10
         },
         "name": "a_bus__ex_23_71_4",
         "showlegend": false,
         "type": "scatter",
         "x": [
          -10.692828781891311
         ],
         "y": [
          107.12287356074715
         ]
        },
        {
         "hoverinfo": "skip",
         "marker": {
          "color": "rgb(8,48,107)",
          "showscale": false,
          "size": 10,
          "symbol": "triangle-ne"
         },
         "name": "a_->_23_71_4",
         "showlegend": false,
         "type": "scatter",
         "x": [
          -33.61434243621738,
          -36.17861869684781
         ],
         "y": [
          68.7542528785057,
          64.46187739875475
         ]
        },
        {
         "hoverinfo": "skip",
         "line": {
          "color": "rgb(8,48,107)"
         },
         "name": "a70_71_5",
         "showlegend": false,
         "type": "scatter",
         "x": [
          93,
          -3
         ],
         "y": [
          124,
          120
         ]
        },
        {
         "hoverinfo": "skip",
         "marker": {
          "color": "red",
          "showscale": false,
          "size": 10
         },
         "name": "a_bus__or_70_71_5",
         "showlegend": false,
         "type": "scatter",
         "x": [
          78.01300390361472
         ],
         "y": [
          123.37554182931729
         ]
        },
        {
         "hoverinfo": "skip",
         "marker": {
          "color": "red",
          "showscale": false,
          "size": 10
         },
         "name": "a_bus__ex_70_71_5",
         "showlegend": false,
         "type": "scatter",
         "x": [
          11.98699609638528
         ],
         "y": [
          120.62445817068271
         ]
        },
        {
         "hoverinfo": "skip",
         "marker": {
          "color": "rgb(8,48,107)",
          "showscale": false,
          "size": 10,
          "symbol": "triangle-right"
         },
         "name": "a_->_70_71_5",
         "showlegend": false,
         "type": "scatter",
         "x": [
          63.02600780722945,
          68.02167317269121
         ],
         "y": [
          122.75108365863457,
          122.95923638219547
         ]
        },
        {
         "hoverinfo": "skip",
         "line": {
          "color": "rgb(253,141,60)"
         },
         "name": "a70_72_6",
         "showlegend": false,
         "type": "scatter",
         "x": [
          93,
          207
         ],
         "y": [
          124,
          107
         ]
        },
        {
         "hoverinfo": "skip",
         "marker": {
          "color": "red",
          "showscale": false,
          "size": 10
         },
         "name": "a_bus__or_70_72_6",
         "showlegend": false,
         "type": "scatter",
         "x": [
          107.83594897570713
         ],
         "y": [
          121.7876216439735
         ]
        },
        {
         "hoverinfo": "skip",
         "marker": {
          "color": "red",
          "showscale": false,
          "size": 10
         },
         "name": "a_bus__ex_70_72_6",
         "showlegend": false,
         "type": "scatter",
         "x": [
          192.16405102429286
         ],
         "y": [
          109.2123783560265
         ]
        },
        {
         "hoverinfo": "skip",
         "marker": {
          "color": "rgb(253,141,60)",
          "showscale": false,
          "size": 10,
          "symbol": "triangle-right"
         },
         "name": "a_->_70_72_6",
         "showlegend": false,
         "type": "scatter",
         "x": [
          122.67189795141427,
          117.72658162617856
         ],
         "y": [
          119.57524328794699,
          120.31270273995582
         ]
        },
        {
         "hoverinfo": "skip",
         "line": {
          "color": "rgb(33,113,181)"
         },
         "name": "a69_73_7",
         "showlegend": false,
         "type": "scatter",
         "x": [
          160,
          69
         ],
         "y": [
          41,
          -133
         ]
        },
        {
         "hoverinfo": "skip",
         "marker": {
          "color": "red",
          "showscale": false,
          "size": 10
         },
         "name": "a_bus__or_69_73_7",
         "showlegend": false,
         "type": "scatter",
         "x": [
          153.04845987890144
         ],
         "y": [
          27.708044164053316
         ]
        },
        {
         "hoverinfo": "skip",
         "marker": {
          "color": "red",
          "showscale": false,
          "size": 10
         },
         "name": "a_bus__ex_69_73_7",
         "showlegend": false,
         "type": "scatter",
         "x": [
          75.95154012109856
         ],
         "y": [
          -119.70804416405332
         ]
        },
        {
         "hoverinfo": "skip",
         "marker": {
          "color": "rgb(33,113,181)",
          "showscale": false,
          "size": 10,
          "symbol": "triangle-sw"
         },
         "name": "a_->_69_73_7",
         "showlegend": false,
         "type": "scatter",
         "x": [
          146.09691975780288,
          148.41409979816908
         ],
         "y": [
          14.416088328106632,
          18.846740273422192
         ]
        },
        {
         "hoverinfo": "skip",
         "line": {
          "color": "rgb(8,81,156)"
         },
         "name": "a69_74_8",
         "showlegend": false,
         "type": "scatter",
         "x": [
          160,
          160
         ],
         "y": [
          41,
          -207
         ]
        },
        {
         "hoverinfo": "skip",
         "marker": {
          "color": "red",
          "showscale": false,
          "size": 10
         },
         "name": "a_bus__or_69_74_8",
         "showlegend": false,
         "type": "scatter",
         "x": [
          160
         ],
         "y": [
          26
         ]
        },
        {
         "hoverinfo": "skip",
         "marker": {
          "color": "red",
          "showscale": false,
          "size": 10
         },
         "name": "a_bus__ex_69_74_8",
         "showlegend": false,
         "type": "scatter",
         "x": [
          160
         ],
         "y": [
          -192
         ]
        },
        {
         "hoverinfo": "skip",
         "marker": {
          "color": "rgb(8,81,156)",
          "showscale": false,
          "size": 10,
          "symbol": "triangle-down"
         },
         "name": "a_->_69_74_8",
         "showlegend": false,
         "type": "scatter",
         "x": [
          160,
          160
         ],
         "y": [
          11,
          16
         ]
        },
        {
         "hoverinfo": "skip",
         "line": {
          "color": "rgb(8,48,107)"
         },
         "name": "a68_74_9",
         "showlegend": false,
         "type": "scatter",
         "x": [
          485,
          160
         ],
         "y": [
          51,
          -207
         ]
        },
        {
         "hoverinfo": "skip",
         "marker": {
          "color": "red",
          "showscale": false,
          "size": 10
         },
         "name": "a_bus__or_68_74_9",
         "showlegend": false,
         "type": "scatter",
         "x": [
          473.2517841257796
         ],
         "y": [
          41.673724013695775
         ]
        },
        {
         "hoverinfo": "skip",
         "marker": {
          "color": "red",
          "showscale": false,
          "size": 10
         },
         "name": "a_bus__ex_68_74_9",
         "showlegend": false,
         "type": "scatter",
         "x": [
          171.74821587422045
         ],
         "y": [
          -197.6737240136958
         ]
        },
        {
         "hoverinfo": "skip",
         "marker": {
          "color": "rgb(8,48,107)",
          "showscale": false,
          "size": 10,
          "symbol": "triangle-sw"
         },
         "name": "a_->_68_74_9",
         "showlegend": false,
         "type": "scatter",
         "x": [
          461.5035682515591,
          465.4196402096326
         ],
         "y": [
          32.34744802739155,
          35.45620668949296
         ]
        },
        {
         "hoverinfo": "skip",
         "line": {
          "color": "rgb(8,81,156)"
         },
         "name": "a73_74_10",
         "showlegend": false,
         "type": "scatter",
         "x": [
          69,
          160
         ],
         "y": [
          -133,
          -207
         ]
        },
        {
         "hoverinfo": "skip",
         "marker": {
          "color": "red",
          "showscale": false,
          "size": 10
         },
         "name": "a_bus__or_73_74_10",
         "showlegend": false,
         "type": "scatter",
         "x": [
          80.63779714158323
         ],
         "y": [
          -142.46370317007867
         ]
        },
        {
         "hoverinfo": "skip",
         "marker": {
          "color": "red",
          "showscale": false,
          "size": 10
         },
         "name": "a_bus__ex_73_74_10",
         "showlegend": false,
         "type": "scatter",
         "x": [
          148.36220285841677
         ],
         "y": [
          -197.53629682992133
         ]
        },
        {
         "hoverinfo": "skip",
         "marker": {
          "color": "rgb(8,81,156)",
          "showscale": false,
          "size": 10,
          "symbol": "triangle-nw"
         },
         "name": "a_->_73_74_10",
         "showlegend": false,
         "type": "scatter",
         "x": [
          92.27559428316646,
          88.39632856930538
         ],
         "y": [
          -151.92740634015735,
          -148.7728386167978
         ]
        },
        {
         "hoverinfo": "skip",
         "line": {
          "color": "rgb(8,81,156)"
         },
         "name": "a75_76_11",
         "showlegend": false,
         "type": "scatter",
         "x": [
          398,
          464
         ],
         "y": [
          -207,
          -262
         ]
        },
        {
         "hoverinfo": "skip",
         "marker": {
          "color": "red",
          "showscale": false,
          "size": 10
         },
         "name": "a_bus__or_75_76_11",
         "showlegend": false,
         "type": "scatter",
         "x": [
          409.5233191939606
         ],
         "y": [
          -216.6027659949672
         ]
        },
        {
         "hoverinfo": "skip",
         "marker": {
          "color": "red",
          "showscale": false,
          "size": 10
         },
         "name": "a_bus__ex_75_76_11",
         "showlegend": false,
         "type": "scatter",
         "x": [
          452.4766808060394
         ],
         "y": [
          -252.3972340050328
         ]
        },
        {
         "hoverinfo": "skip",
         "marker": {
          "color": "rgb(8,81,156)",
          "showscale": false,
          "size": 10,
          "symbol": "triangle-nw"
         },
         "name": "a_->_75_76_11",
         "showlegend": false,
         "type": "scatter",
         "x": [
          421.0466383879213,
          417.2055319899344
         ],
         "y": [
          -226.2055319899344,
          -223.004609991612
         ]
        },
        {
         "hoverinfo": "skip",
         "line": {
          "color": "rgb(8,81,156)"
         },
         "name": "a68_76_12",
         "showlegend": false,
         "type": "scatter",
         "x": [
          485,
          464
         ],
         "y": [
          51,
          -262
         ]
        },
        {
         "hoverinfo": "skip",
         "marker": {
          "color": "red",
          "showscale": false,
          "size": 10
         },
         "name": "a_bus__or_68_76_12",
         "showlegend": false,
         "type": "scatter",
         "x": [
          483.9958676986118
         ],
         "y": [
          36.03364712692806
         ]
        },
        {
         "hoverinfo": "skip",
         "marker": {
          "color": "red",
          "showscale": false,
          "size": 10
         },
         "name": "a_bus__ex_68_76_12",
         "showlegend": false,
         "type": "scatter",
         "x": [
          465.0041323013882
         ],
         "y": [
          -247.03364712692806
         ]
        },
        {
         "hoverinfo": "skip",
         "marker": {
          "color": "rgb(8,81,156)",
          "showscale": false,
          "size": 10,
          "symbol": "triangle-down"
         },
         "name": "a_->_68_76_12",
         "showlegend": false,
         "type": "scatter",
         "x": [
          482.9917353972236,
          483.326446164353
         ],
         "y": [
          21.06729425385612,
          26.056078544880098
         ]
        },
        {
         "hoverinfo": "skip",
         "line": {
          "color": "rgb(8,81,156)"
         },
         "name": "a1_11_13",
         "showlegend": false,
         "type": "scatter",
         "x": [
          -940,
          -705
         ],
         "y": [
          600,
          505
         ]
        },
        {
         "hoverinfo": "skip",
         "marker": {
          "color": "red",
          "showscale": false,
          "size": 10
         },
         "name": "a_bus__or_1_11_13",
         "showlegend": false,
         "type": "scatter",
         "x": [
          -926.0933490144376
         ],
         "y": [
          594.3781623675386
         ]
        },
        {
         "hoverinfo": "skip",
         "marker": {
          "color": "red",
          "showscale": false,
          "size": 10
         },
         "name": "a_bus__ex_1_11_13",
         "showlegend": false,
         "type": "scatter",
         "x": [
          -718.9066509855624
         ],
         "y": [
          510.62183763246134
         ]
        },
        {
         "hoverinfo": "skip",
         "marker": {
          "color": "rgb(8,81,156)",
          "showscale": false,
          "size": 10,
          "symbol": "triangle-nw"
         },
         "name": "a_->_1_11_13",
         "showlegend": false,
         "type": "scatter",
         "x": [
          -912.1866980288753,
          -916.8222483573961
         ],
         "y": [
          588.7563247350772,
          590.6302706125643
         ]
        },
        {
         "hoverinfo": "skip",
         "line": {
          "color": "rgb(8,48,107)"
         },
         "name": "a74_76_14",
         "showlegend": false,
         "type": "scatter",
         "x": [
          160,
          464
         ],
         "y": [
          -207,
          -262
         ]
        },
        {
         "hoverinfo": "skip",
         "marker": {
          "color": "red",
          "showscale": false,
          "size": 10
         },
         "name": "a_bus__or_74_76_14",
         "showlegend": false,
         "type": "scatter",
         "x": [
          174.76037367013132
         ],
         "y": [
          -209.6704623416356
         ]
        },
        {
         "hoverinfo": "skip",
         "marker": {
          "color": "red",
          "showscale": false,
          "size": 10
         },
         "name": "a_bus__ex_74_76_14",
         "showlegend": false,
         "type": "scatter",
         "x": [
          449.23962632986866
         ],
         "y": [
          -259.3295376583644
         ]
        },
        {
         "hoverinfo": "skip",
         "marker": {
          "color": "rgb(8,48,107)",
          "showscale": false,
          "size": 10,
          "symbol": "triangle-right"
         },
         "name": "a_->_74_76_14",
         "showlegend": false,
         "type": "scatter",
         "x": [
          189.52074734026266,
          184.6006227835522
         ],
         "y": [
          -212.3409246832712,
          -211.45077056939266
         ]
        },
        {
         "hoverinfo": "skip",
         "line": {
          "color": "rgb(33,113,181)"
         },
         "name": "a76_77_15",
         "showlegend": false,
         "type": "scatter",
         "x": [
          464,
          514
         ],
         "y": [
          -262,
          -165
         ]
        },
        {
         "hoverinfo": "skip",
         "marker": {
          "color": "red",
          "showscale": false,
          "size": 10
         },
         "name": "a_bus__or_76_77_15",
         "showlegend": false,
         "type": "scatter",
         "x": [
          470.87264032131355
         ],
         "y": [
          -248.6670777766517
         ]
        },
        {
         "hoverinfo": "skip",
         "marker": {
          "color": "red",
          "showscale": false,
          "size": 10
         },
         "name": "a_bus__ex_76_77_15",
         "showlegend": false,
         "type": "scatter",
         "x": [
          507.12735967868645
         ],
         "y": [
          -178.3329222233483
         ]
        },
        {
         "hoverinfo": "skip",
         "marker": {
          "color": "rgb(33,113,181)",
          "showscale": false,
          "size": 10,
          "symbol": "triangle-ne"
         },
         "name": "a_->_76_77_15",
         "showlegend": false,
         "type": "scatter",
         "x": [
          477.7452806426271,
          475.4544005355226
         ],
         "y": [
          -235.3341555533034,
          -239.77846296108615
         ]
        },
        {
         "hoverinfo": "skip",
         "line": {
          "color": "rgb(8,81,156)"
         },
         "name": "a77_78_16",
         "showlegend": false,
         "type": "scatter",
         "x": [
          514,
          547
         ],
         "y": [
          -165,
          -97
         ]
        },
        {
         "hoverinfo": "skip",
         "marker": {
          "color": "red",
          "showscale": false,
          "size": 10
         },
         "name": "a_bus__or_77_78_16",
         "showlegend": false,
         "type": "scatter",
         "x": [
          520.548971295603
         ],
         "y": [
          -151.50515005754536
         ]
        },
        {
         "hoverinfo": "skip",
         "marker": {
          "color": "red",
          "showscale": false,
          "size": 10
         },
         "name": "a_bus__ex_77_78_16",
         "showlegend": false,
         "type": "scatter",
         "x": [
          540.451028704397
         ],
         "y": [
          -110.49484994245465
         ]
        },
        {
         "hoverinfo": "skip",
         "marker": {
          "color": "rgb(8,81,156)",
          "showscale": false,
          "size": 10,
          "symbol": "triangle-ne"
         },
         "name": "a_->_77_78_16",
         "showlegend": false,
         "type": "scatter",
         "x": [
          527.097942591206,
          524.9149521593383
         ],
         "y": [
          -138.01030011509073,
          -142.50858342924226
         ]
        },
        {
         "hoverinfo": "skip",
         "line": {
          "color": "rgb(33,113,181)"
         },
         "name": "a76_79_17",
         "showlegend": false,
         "type": "scatter",
         "x": [
          462.86810933805947,
          597.8681093380594
         ],
         "y": [
          -259.2217229206914,
          -204.22172292069135
         ]
        },
        {
         "hoverinfo": "skip",
         "marker": {
          "color": "red",
          "showscale": false,
          "size": 10
         },
         "name": "a_bus__or_76_79_17",
         "showlegend": false,
         "type": "scatter",
         "x": [
          476.7594947346027
         ],
         "y": [
          -253.56226961098858
         ]
        },
        {
         "hoverinfo": "skip",
         "marker": {
          "color": "red",
          "showscale": false,
          "size": 10
         },
         "name": "a_bus__ex_76_79_17",
         "showlegend": false,
         "type": "scatter",
         "x": [
          583.9767239415162
         ],
         "y": [
          -209.88117623039415
         ]
        },
        {
         "hoverinfo": "skip",
         "marker": {
          "color": "rgb(33,113,181)",
          "showscale": false,
          "size": 10,
          "symbol": "triangle-ne"
         },
         "name": "a_->_76_79_17",
         "showlegend": false,
         "type": "scatter",
         "x": [
          490.6508801311459,
          486.02041833229816
         ],
         "y": [
          -247.90281630128578,
          -249.78930073785338
         ]
        },
        {
         "hoverinfo": "skip",
         "line": {
          "color": "rgb(33,113,181)"
         },
         "name": "a76_79_18",
         "showlegend": false,
         "type": "scatter",
         "x": [
          465.13189066194053,
          600.1318906619406
         ],
         "y": [
          -264.7782770793086,
          -209.77827707930865
         ]
        },
        {
         "hoverinfo": "skip",
         "marker": {
          "color": "red",
          "showscale": false,
          "size": 10
         },
         "name": "a_bus__or_76_79_18",
         "showlegend": false,
         "type": "scatter",
         "x": [
          479.02327605848376
         ],
         "y": [
          -259.11882376960585
         ]
        },
        {
         "hoverinfo": "skip",
         "marker": {
          "color": "red",
          "showscale": false,
          "size": 10
         },
         "name": "a_bus__ex_76_79_18",
         "showlegend": false,
         "type": "scatter",
         "x": [
          586.2405052653974
         ],
         "y": [
          -215.43773038901145
         ]
        },
        {
         "hoverinfo": "skip",
         "marker": {
          "color": "rgb(33,113,181)",
          "showscale": false,
          "size": 10,
          "symbol": "triangle-ne"
         },
         "name": "a_->_76_79_18",
         "showlegend": false,
         "type": "scatter",
         "x": [
          492.914661455027,
          488.2841996561792
         ],
         "y": [
          -253.45937045990306,
          -255.34585489647066
         ]
        },
        {
         "hoverinfo": "skip",
         "line": {
          "color": "rgb(8,81,156)"
         },
         "name": "a78_79_19",
         "showlegend": false,
         "type": "scatter",
         "x": [
          547,
          599
         ],
         "y": [
          -97,
          -207
         ]
        },
        {
         "hoverinfo": "skip",
         "marker": {
          "color": "red",
          "showscale": false,
          "size": 10
         },
         "name": "a_bus__or_78_79_19",
         "showlegend": false,
         "type": "scatter",
         "x": [
          553.4106942534013
         ],
         "y": [
          -110.56108399757956
         ]
        },
        {
         "hoverinfo": "skip",
         "marker": {
          "color": "red",
          "showscale": false,
          "size": 10
         },
         "name": "a_bus__ex_78_79_19",
         "showlegend": false,
         "type": "scatter",
         "x": [
          592.5893057465987
         ],
         "y": [
          -193.43891600242046
         ]
        },
        {
         "hoverinfo": "skip",
         "marker": {
          "color": "rgb(8,81,156)",
          "showscale": false,
          "size": 10,
          "symbol": "triangle-se"
         },
         "name": "a_->_78_79_19",
         "showlegend": false,
         "type": "scatter",
         "x": [
          559.8213885068026,
          557.6844904223354
         ],
         "y": [
          -124.12216799515912,
          -119.6018066626326
         ]
        },
        {
         "hoverinfo": "skip",
         "line": {
          "color": "rgb(8,81,156)"
         },
         "name": "a76_81_20",
         "showlegend": false,
         "type": "scatter",
         "x": [
          464,
          393
         ],
         "y": [
          -262,
          -329
         ]
        },
        {
         "hoverinfo": "skip",
         "marker": {
          "color": "red",
          "showscale": false,
          "size": 10
         },
         "name": "a_bus__or_76_81_20",
         "showlegend": false,
         "type": "scatter",
         "x": [
          453.0905424319941
         ],
         "y": [
          -272.29484024023094
         ]
        },
        {
         "hoverinfo": "skip",
         "marker": {
          "color": "red",
          "showscale": false,
          "size": 10
         },
         "name": "a_bus__ex_76_81_20",
         "showlegend": false,
         "type": "scatter",
         "x": [
          403.9094575680059
         ],
         "y": [
          -318.70515975976906
         ]
        },
        {
         "hoverinfo": "skip",
         "marker": {
          "color": "rgb(8,81,156)",
          "showscale": false,
          "size": 10,
          "symbol": "triangle-sw"
         },
         "name": "a_->_76_81_20",
         "showlegend": false,
         "type": "scatter",
         "x": [
          442.18108486398813,
          445.8175707199901
         ],
         "y": [
          -282.5896804804619,
          -279.15806706705155
         ]
        },
        {
         "hoverinfo": "skip",
         "line": {
          "color": "rgb(8,81,156)"
         },
         "name": "a81_82_21",
         "showlegend": false,
         "type": "scatter",
         "x": [
          393,
          149
         ],
         "y": [
          -329,
          -377
         ]
        },
        {
         "hoverinfo": "skip",
         "marker": {
          "color": "red",
          "showscale": false,
          "size": 10
         },
         "name": "a_bus__or_81_82_21",
         "showlegend": false,
         "type": "scatter",
         "x": [
          378.2820831526332
         ],
         "y": [
          -331.8953279044
         ]
        },
        {
         "hoverinfo": "skip",
         "marker": {
          "color": "red",
          "showscale": false,
          "size": 10
         },
         "name": "a_bus__ex_81_82_21",
         "showlegend": false,
         "type": "scatter",
         "x": [
          163.71791684736678
         ],
         "y": [
          -374.1046720956
         ]
        },
        {
         "hoverinfo": "skip",
         "marker": {
          "color": "rgb(8,81,156)",
          "showscale": false,
          "size": 10,
          "symbol": "triangle-right"
         },
         "name": "a_->_81_82_21",
         "showlegend": false,
         "type": "scatter",
         "x": [
          363.56416630526644,
          368.47013858772203
         ],
         "y": [
          -334.7906558088,
          -333.82554650733334
         ]
        },
        {
         "hoverinfo": "skip",
         "line": {
          "color": "rgb(33,113,181)"
         },
         "name": "a82_83_22",
         "showlegend": false,
         "type": "scatter",
         "x": [
          149,
          89
         ],
         "y": [
          -377,
          -418
         ]
        },
        {
         "hoverinfo": "skip",
         "marker": {
          "color": "red",
          "showscale": false,
          "size": 10
         },
         "name": "a_bus__or_82_83_22",
         "showlegend": false,
         "type": "scatter",
         "x": [
          136.6153303774878
         ],
         "y": [
          -385.46285757538334
         ]
        },
        {
         "hoverinfo": "skip",
         "marker": {
          "color": "red",
          "showscale": false,
          "size": 10
         },
         "name": "a_bus__ex_82_83_22",
         "showlegend": false,
         "type": "scatter",
         "x": [
          101.3846696225122
         ],
         "y": [
          -409.53714242461666
         ]
        },
        {
         "hoverinfo": "skip",
         "marker": {
          "color": "rgb(33,113,181)",
          "showscale": false,
          "size": 10,
          "symbol": "triangle-sw"
         },
         "name": "a_->_82_83_22",
         "showlegend": false,
         "type": "scatter",
         "x": [
          124.23066075497557,
          128.35888396247964
         ],
         "y": [
          -393.9257151507667,
          -391.1047626256389
         ]
        },
        {
         "hoverinfo": "skip",
         "line": {
          "color": "rgb(33,113,181)"
         },
         "name": "a82_84_23",
         "showlegend": false,
         "type": "scatter",
         "x": [
          149,
          112
         ],
         "y": [
          -377,
          -484
         ]
        },
        {
         "hoverinfo": "skip",
         "marker": {
          "color": "red",
          "showscale": false,
          "size": 10
         },
         "name": "a_bus__or_82_84_23",
         "showlegend": false,
         "type": "scatter",
         "x": [
          144.09789228909014
         ],
         "y": [
          -391.17636554236094
         ]
        },
        {
         "hoverinfo": "skip",
         "marker": {
          "color": "red",
          "showscale": false,
          "size": 10
         },
         "name": "a_bus__ex_82_84_23",
         "showlegend": false,
         "type": "scatter",
         "x": [
          116.90210771090986
         ],
         "y": [
          -469.82363445763906
         ]
        },
        {
         "hoverinfo": "skip",
         "marker": {
          "color": "rgb(33,113,181)",
          "showscale": false,
          "size": 10,
          "symbol": "triangle-sw"
         },
         "name": "a_->_82_84_23",
         "showlegend": false,
         "type": "scatter",
         "x": [
          139.19578457818028,
          140.8298204818169
         ],
         "y": [
          -405.3527310847219,
          -400.6272759039349
         ]
        },
        {
         "hoverinfo": "skip",
         "line": {
          "color": "rgb(8,81,156)"
         },
         "name": "a2_11_24",
         "showlegend": false,
         "type": "scatter",
         "x": [
          -1006,
          -705
         ],
         "y": [
          524,
          505
         ]
        },
        {
         "hoverinfo": "skip",
         "marker": {
          "color": "red",
          "showscale": false,
          "size": 10
         },
         "name": "a_bus__or_2_11_24",
         "showlegend": false,
         "type": "scatter",
         "x": [
          -991.0297947676064
         ],
         "y": [
          523.0550368790183
         ]
        },
        {
         "hoverinfo": "skip",
         "marker": {
          "color": "red",
          "showscale": false,
          "size": 10
         },
         "name": "a_bus__ex_2_11_24",
         "showlegend": false,
         "type": "scatter",
         "x": [
          -719.9702052323936
         ],
         "y": [
          505.94496312098164
         ]
        },
        {
         "hoverinfo": "skip",
         "marker": {
          "color": "rgb(8,81,156)",
          "showscale": false,
          "size": 10,
          "symbol": "triangle-left"
         },
         "name": "a_->_2_11_24",
         "showlegend": false,
         "type": "scatter",
         "x": [
          -976.0595895352128,
          -981.0496579460107
         ],
         "y": [
          522.1100737580367,
          522.4250614650306
         ]
        },
        {
         "hoverinfo": "skip",
         "line": {
          "color": "rgb(33,113,181)"
         },
         "name": "a83_84_25",
         "showlegend": false,
         "type": "scatter",
         "x": [
          89,
          112
         ],
         "y": [
          -418,
          -484
         ]
        },
        {
         "hoverinfo": "skip",
         "marker": {
          "color": "red",
          "showscale": false,
          "size": 10
         },
         "name": "a_bus__or_83_84_25",
         "showlegend": false,
         "type": "scatter",
         "x": [
          93.93613252444402
         ],
         "y": [
          -432.1645542005785
         ]
        },
        {
         "hoverinfo": "skip",
         "marker": {
          "color": "red",
          "showscale": false,
          "size": 10
         },
         "name": "a_bus__ex_83_84_25",
         "showlegend": false,
         "type": "scatter",
         "x": [
          107.06386747555598
         ],
         "y": [
          -469.8354457994215
         ]
        },
        {
         "hoverinfo": "skip",
         "marker": {
          "color": "rgb(33,113,181)",
          "showscale": false,
          "size": 10,
          "symbol": "triangle-se"
         },
         "name": "a_->_83_84_25",
         "showlegend": false,
         "type": "scatter",
         "x": [
          98.87226504888804,
          97.22688754074004
         ],
         "y": [
          -446.329108401157,
          -441.60759033429747
         ]
        },
        {
         "hoverinfo": "skip",
         "line": {
          "color": "rgb(33,113,181)"
         },
         "name": "a84_85_26",
         "showlegend": false,
         "type": "scatter",
         "x": [
          112,
          118
         ],
         "y": [
          -484,
          -565
         ]
        },
        {
         "hoverinfo": "skip",
         "marker": {
          "color": "red",
          "showscale": false,
          "size": 10
         },
         "name": "a_bus__or_84_85_26",
         "showlegend": false,
         "type": "scatter",
         "x": [
          113.10807528272967
         ],
         "y": [
          -498.95901631685064
         ]
        },
        {
         "hoverinfo": "skip",
         "marker": {
          "color": "red",
          "showscale": false,
          "size": 10
         },
         "name": "a_bus__ex_84_85_26",
         "showlegend": false,
         "type": "scatter",
         "x": [
          116.89192471727033
         ],
         "y": [
          -550.0409836831494
         ]
        },
        {
         "hoverinfo": "skip",
         "marker": {
          "color": "rgb(33,113,181)",
          "showscale": false,
          "size": 10,
          "symbol": "triangle-down"
         },
         "name": "a_->_84_85_26",
         "showlegend": false,
         "type": "scatter",
         "x": [
          114.21615056545936,
          113.8467921378828
         ],
         "y": [
          -513.9180326337013,
          -508.9316938614177
         ]
        },
        {
         "hoverinfo": "skip",
         "line": {
          "color": "rgb(33,113,181)"
         },
         "name": "a84_87_27",
         "showlegend": false,
         "type": "scatter",
         "x": [
          112,
          205
         ],
         "y": [
          -484,
          -484
         ]
        },
        {
         "hoverinfo": "skip",
         "marker": {
          "color": "red",
          "showscale": false,
          "size": 10
         },
         "name": "a_bus__or_84_87_27",
         "showlegend": false,
         "type": "scatter",
         "x": [
          127
         ],
         "y": [
          -484
         ]
        },
        {
         "hoverinfo": "skip",
         "marker": {
          "color": "red",
          "showscale": false,
          "size": 10
         },
         "name": "a_bus__ex_84_87_27",
         "showlegend": false,
         "type": "scatter",
         "x": [
          190
         ],
         "y": [
          -484
         ]
        },
        {
         "hoverinfo": "skip",
         "marker": {
          "color": "rgb(33,113,181)",
          "showscale": false,
          "size": 10,
          "symbol": "triangle-right"
         },
         "name": "a_->_84_87_27",
         "showlegend": false,
         "type": "scatter",
         "x": [
          142,
          137
         ],
         "y": [
          -484,
          -484
         ]
        },
        {
         "hoverinfo": "skip",
         "line": {
          "color": "rgb(8,81,156)"
         },
         "name": "a84_88_28",
         "showlegend": false,
         "type": "scatter",
         "x": [
          112,
          313
         ],
         "y": [
          -484,
          -489
         ]
        },
        {
         "hoverinfo": "skip",
         "marker": {
          "color": "red",
          "showscale": false,
          "size": 10
         },
         "name": "a_bus__or_84_88_28",
         "showlegend": false,
         "type": "scatter",
         "x": [
          126.99536117852081
         ],
         "y": [
          -484.37301893478906
         ]
        },
        {
         "hoverinfo": "skip",
         "marker": {
          "color": "red",
          "showscale": false,
          "size": 10
         },
         "name": "a_bus__ex_84_88_28",
         "showlegend": false,
         "type": "scatter",
         "x": [
          298.0046388214792
         ],
         "y": [
          -488.62698106521094
         ]
        },
        {
         "hoverinfo": "skip",
         "marker": {
          "color": "rgb(8,81,156)",
          "showscale": false,
          "size": 10,
          "symbol": "triangle-right"
         },
         "name": "a_->_84_88_28",
         "showlegend": false,
         "type": "scatter",
         "x": [
          141.99072235704162,
          136.992268630868
         ],
         "y": [
          -484.7460378695782,
          -484.62169822464847
         ]
        },
        {
         "hoverinfo": "skip",
         "line": {
          "color": "rgb(8,81,156)"
         },
         "name": "a87_88_29",
         "showlegend": false,
         "type": "scatter",
         "x": [
          205,
          313
         ],
         "y": [
          -484,
          -489
         ]
        },
        {
         "hoverinfo": "skip",
         "marker": {
          "color": "red",
          "showscale": false,
          "size": 10
         },
         "name": "a_bus__or_87_88_29",
         "showlegend": false,
         "type": "scatter",
         "x": [
          219.983950691944
         ],
         "y": [
          -484.69370142092333
         ]
        },
        {
         "hoverinfo": "skip",
         "marker": {
          "color": "red",
          "showscale": false,
          "size": 10
         },
         "name": "a_bus__ex_87_88_29",
         "showlegend": false,
         "type": "scatter",
         "x": [
          298.016049308056
         ],
         "y": [
          -488.30629857907667
         ]
        },
        {
         "hoverinfo": "skip",
         "marker": {
          "color": "rgb(8,81,156)",
          "showscale": false,
          "size": 10,
          "symbol": "triangle-left"
         },
         "name": "a_->_87_88_29",
         "showlegend": false,
         "type": "scatter",
         "x": [
          234.967901383888,
          229.97325115324
         ],
         "y": [
          -485.38740284184667,
          -485.1561690348722
         ]
        },
        {
         "hoverinfo": "skip",
         "line": {
          "color": "rgb(33,113,181)"
         },
         "name": "a88_89_30",
         "showlegend": false,
         "type": "scatter",
         "x": [
          315.99081513343765,
          323.99081513343765
         ],
         "y": [
          -488.7654262640441,
          -590.7654262640441
         ]
        },
        {
         "hoverinfo": "skip",
         "marker": {
          "color": "red",
          "showscale": false,
          "size": 10
         },
         "name": "a_bus__or_88_89_30",
         "showlegend": false,
         "type": "scatter",
         "x": [
          317.1636838132171
         ],
         "y": [
          -503.71950193123234
         ]
        },
        {
         "hoverinfo": "skip",
         "marker": {
          "color": "red",
          "showscale": false,
          "size": 10
         },
         "name": "a_bus__ex_88_89_30",
         "showlegend": false,
         "type": "scatter",
         "x": [
          322.8179464536582
         ],
         "y": [
          -575.8113505968558
         ]
        },
        {
         "hoverinfo": "skip",
         "marker": {
          "color": "rgb(33,113,181)",
          "showscale": false,
          "size": 10,
          "symbol": "triangle-down"
         },
         "name": "a_->_88_89_30",
         "showlegend": false,
         "type": "scatter",
         "x": [
          318.3365524929966,
          317.9455962664034
         ],
         "y": [
          -518.6735775984207,
          -513.6888857093579
         ]
        },
        {
         "hoverinfo": "skip",
         "line": {
          "color": "rgb(33,113,181)"
         },
         "name": "a88_89_31",
         "showlegend": false,
         "type": "scatter",
         "x": [
          310.00918486656235,
          318.00918486656235
         ],
         "y": [
          -489.2345737359559,
          -591.2345737359559
         ]
        },
        {
         "hoverinfo": "skip",
         "marker": {
          "color": "red",
          "showscale": false,
          "size": 10
         },
         "name": "a_bus__or_88_89_31",
         "showlegend": false,
         "type": "scatter",
         "x": [
          311.1820535463418
         ],
         "y": [
          -504.18864940314415
         ]
        },
        {
         "hoverinfo": "skip",
         "marker": {
          "color": "red",
          "showscale": false,
          "size": 10
         },
         "name": "a_bus__ex_88_89_31",
         "showlegend": false,
         "type": "scatter",
         "x": [
          316.8363161867829
         ],
         "y": [
          -576.2804980687677
         ]
        },
        {
         "hoverinfo": "skip",
         "marker": {
          "color": "rgb(33,113,181)",
          "showscale": false,
          "size": 10,
          "symbol": "triangle-down"
         },
         "name": "a_->_88_89_31",
         "showlegend": false,
         "type": "scatter",
         "x": [
          312.3549222261213,
          311.9639659995281
         ],
         "y": [
          -519.1427250703325,
          -514.1580331812697
         ]
        },
        {
         "hoverinfo": "skip",
         "line": {
          "color": "rgb(8,81,156)"
         },
         "name": "a89_90_32",
         "showlegend": false,
         "type": "scatter",
         "x": [
          321,
          504
         ],
         "y": [
          -591,
          -591
         ]
        },
        {
         "hoverinfo": "skip",
         "marker": {
          "color": "red",
          "showscale": false,
          "size": 10
         },
         "name": "a_bus__or_89_90_32",
         "showlegend": false,
         "type": "scatter",
         "x": [
          336
         ],
         "y": [
          -591
         ]
        },
        {
         "hoverinfo": "skip",
         "marker": {
          "color": "red",
          "showscale": false,
          "size": 10
         },
         "name": "a_bus__ex_89_90_32",
         "showlegend": false,
         "type": "scatter",
         "x": [
          489
         ],
         "y": [
          -591
         ]
        },
        {
         "hoverinfo": "skip",
         "marker": {
          "color": "rgb(8,81,156)",
          "showscale": false,
          "size": 10,
          "symbol": "triangle-left"
         },
         "name": "a_->_89_90_32",
         "showlegend": false,
         "type": "scatter",
         "x": [
          351,
          346
         ],
         "y": [
          -591,
          -591
         ]
        },
        {
         "hoverinfo": "skip",
         "line": {
          "color": "rgb(8,48,107)"
         },
         "name": "a88_91_33",
         "showlegend": false,
         "type": "scatter",
         "x": [
          313,
          517
         ],
         "y": [
          -486,
          -486
         ]
        },
        {
         "hoverinfo": "skip",
         "marker": {
          "color": "red",
          "showscale": false,
          "size": 10
         },
         "name": "a_bus__or_88_91_33",
         "showlegend": false,
         "type": "scatter",
         "x": [
          328
         ],
         "y": [
          -486
         ]
        },
        {
         "hoverinfo": "skip",
         "marker": {
          "color": "red",
          "showscale": false,
          "size": 10
         },
         "name": "a_bus__ex_88_91_33",
         "showlegend": false,
         "type": "scatter",
         "x": [
          502
         ],
         "y": [
          -486
         ]
        },
        {
         "hoverinfo": "skip",
         "marker": {
          "color": "rgb(8,48,107)",
          "showscale": false,
          "size": 10,
          "symbol": "triangle-left"
         },
         "name": "a_->_88_91_33",
         "showlegend": false,
         "type": "scatter",
         "x": [
          343,
          338
         ],
         "y": [
          -486,
          -486
         ]
        },
        {
         "hoverinfo": "skip",
         "line": {
          "color": "rgb(8,48,107)"
         },
         "name": "a88_91_34",
         "showlegend": false,
         "type": "scatter",
         "x": [
          313,
          517
         ],
         "y": [
          -492,
          -492
         ]
        },
        {
         "hoverinfo": "skip",
         "marker": {
          "color": "red",
          "showscale": false,
          "size": 10
         },
         "name": "a_bus__or_88_91_34",
         "showlegend": false,
         "type": "scatter",
         "x": [
          328
         ],
         "y": [
          -492
         ]
        },
        {
         "hoverinfo": "skip",
         "marker": {
          "color": "red",
          "showscale": false,
          "size": 10
         },
         "name": "a_bus__ex_88_91_34",
         "showlegend": false,
         "type": "scatter",
         "x": [
          502
         ],
         "y": [
          -492
         ]
        },
        {
         "hoverinfo": "skip",
         "marker": {
          "color": "rgb(8,48,107)",
          "showscale": false,
          "size": 10,
          "symbol": "triangle-left"
         },
         "name": "a_->_88_91_34",
         "showlegend": false,
         "type": "scatter",
         "x": [
          343,
          338
         ],
         "y": [
          -492,
          -492
         ]
        },
        {
         "hoverinfo": "skip",
         "line": {
          "color": "rgb(33,113,181)"
         },
         "name": "a6_11_35",
         "showlegend": false,
         "type": "scatter",
         "x": [
          -792,
          -705
         ],
         "y": [
          346,
          505
         ]
        },
        {
         "hoverinfo": "skip",
         "marker": {
          "color": "red",
          "showscale": false,
          "size": 10
         },
         "name": "a_bus__or_6_11_35",
         "showlegend": false,
         "type": "scatter",
         "x": [
          -784.7998287691594
         ],
         "y": [
          359.1589336287777
         ]
        },
        {
         "hoverinfo": "skip",
         "marker": {
          "color": "red",
          "showscale": false,
          "size": 10
         },
         "name": "a_bus__ex_6_11_35",
         "showlegend": false,
         "type": "scatter",
         "x": [
          -712.2001712308406
         ],
         "y": [
          491.8410663712223
         ]
        },
        {
         "hoverinfo": "skip",
         "marker": {
          "color": "rgb(33,113,181)",
          "showscale": false,
          "size": 10,
          "symbol": "triangle-ne"
         },
         "name": "a_->_6_11_35",
         "showlegend": false,
         "type": "scatter",
         "x": [
          -777.5996575383189,
          -779.9997146152657
         ],
         "y": [
          372.31786725755535,
          367.9315560479628
         ]
        },
        {
         "hoverinfo": "skip",
         "line": {
          "color": "rgb(8,81,156)"
         },
         "name": "a90_91_36",
         "showlegend": false,
         "type": "scatter",
         "x": [
          504,
          517
         ],
         "y": [
          -591,
          -489
         ]
        },
        {
         "hoverinfo": "skip",
         "marker": {
          "color": "red",
          "showscale": false,
          "size": 10
         },
         "name": "a_bus__or_90_91_36",
         "showlegend": false,
         "type": "scatter",
         "x": [
          505.8964242288488
         ],
         "y": [
          -576.1203637428788
         ]
        },
        {
         "hoverinfo": "skip",
         "marker": {
          "color": "red",
          "showscale": false,
          "size": 10
         },
         "name": "a_bus__ex_90_91_36",
         "showlegend": false,
         "type": "scatter",
         "x": [
          515.1035757711512
         ],
         "y": [
          -503.8796362571212
         ]
        },
        {
         "hoverinfo": "skip",
         "marker": {
          "color": "rgb(8,81,156)",
          "showscale": false,
          "size": 10,
          "symbol": "triangle-down"
         },
         "name": "a_->_90_91_36",
         "showlegend": false,
         "type": "scatter",
         "x": [
          507.7928484576976,
          507.1607070480813
         ],
         "y": [
          -561.2407274857577,
          -566.2006062381314
         ]
        },
        {
         "hoverinfo": "skip",
         "line": {
          "color": "rgb(33,113,181)"
         },
         "name": "a91_92_37",
         "showlegend": false,
         "type": "scatter",
         "x": [
          517,
          642
         ],
         "y": [
          -489,
          -481
         ]
        },
        {
         "hoverinfo": "skip",
         "marker": {
          "color": "red",
          "showscale": false,
          "size": 10
         },
         "name": "a_bus__or_91_92_37",
         "showlegend": false,
         "type": "scatter",
         "x": [
          531.9693740508677
         ],
         "y": [
          -488.0419600607445
         ]
        },
        {
         "hoverinfo": "skip",
         "marker": {
          "color": "red",
          "showscale": false,
          "size": 10
         },
         "name": "a_bus__ex_91_92_37",
         "showlegend": false,
         "type": "scatter",
         "x": [
          627.0306259491323
         ],
         "y": [
          -481.9580399392555
         ]
        },
        {
         "hoverinfo": "skip",
         "marker": {
          "color": "rgb(33,113,181)",
          "showscale": false,
          "size": 10,
          "symbol": "triangle-left"
         },
         "name": "a_->_91_92_37",
         "showlegend": false,
         "type": "scatter",
         "x": [
          546.9387481017354,
          541.9489567514462
         ],
         "y": [
          -487.0839201214889,
          -487.40326676790744
         ]
        },
        {
         "hoverinfo": "skip",
         "line": {
          "color": "rgb(33,113,181)"
         },
         "name": "a91_93_38",
         "showlegend": false,
         "type": "scatter",
         "x": [
          517,
          646
         ],
         "y": [
          -489,
          -377
         ]
        },
        {
         "hoverinfo": "skip",
         "marker": {
          "color": "red",
          "showscale": false,
          "size": 10
         },
         "name": "a_bus__or_91_93_38",
         "showlegend": false,
         "type": "scatter",
         "x": [
          528.3266406048211
         ],
         "y": [
          -479.1660174593801
         ]
        },
        {
         "hoverinfo": "skip",
         "marker": {
          "color": "red",
          "showscale": false,
          "size": 10
         },
         "name": "a_bus__ex_91_93_38",
         "showlegend": false,
         "type": "scatter",
         "x": [
          634.6733593951789
         ],
         "y": [
          -386.8339825406199
         ]
        },
        {
         "hoverinfo": "skip",
         "marker": {
          "color": "rgb(33,113,181)",
          "showscale": false,
          "size": 10,
          "symbol": "triangle-sw"
         },
         "name": "a_->_91_93_38",
         "showlegend": false,
         "type": "scatter",
         "x": [
          539.6532812096423,
          535.8777343413685
         ],
         "y": [
          -469.3320349187602,
          -472.61002909896683
         ]
        },
        {
         "hoverinfo": "skip",
         "line": {
          "color": "rgb(66,146,198)"
         },
         "name": "a92_93_39",
         "showlegend": false,
         "type": "scatter",
         "x": [
          642,
          646
         ],
         "y": [
          -481,
          -377
         ]
        },
        {
         "hoverinfo": "skip",
         "marker": {
          "color": "red",
          "showscale": false,
          "size": 10
         },
         "name": "a_bus__or_92_93_39",
         "showlegend": false,
         "type": "scatter",
         "x": [
          642.576496831518
         ],
         "y": [
          -466.0110823805303
         ]
        },
        {
         "hoverinfo": "skip",
         "marker": {
          "color": "red",
          "showscale": false,
          "size": 10
         },
         "name": "a_bus__ex_92_93_39",
         "showlegend": false,
         "type": "scatter",
         "x": [
          645.423503168482
         ],
         "y": [
          -391.9889176194697
         ]
        },
        {
         "hoverinfo": "skip",
         "marker": {
          "color": "rgb(66,146,198)",
          "showscale": false,
          "size": 10,
          "symbol": "triangle-down"
         },
         "name": "a_->_92_93_39",
         "showlegend": false,
         "type": "scatter",
         "x": [
          643.1529936630361,
          642.9608280525301
         ],
         "y": [
          -451.02216476106054,
          -456.0184706342171
         ]
        },
        {
         "hoverinfo": "skip",
         "line": {
          "color": "rgb(8,81,156)"
         },
         "name": "a93_94_40",
         "showlegend": false,
         "type": "scatter",
         "x": [
          646,
          559
         ],
         "y": [
          -377,
          -377
         ]
        },
        {
         "hoverinfo": "skip",
         "marker": {
          "color": "red",
          "showscale": false,
          "size": 10
         },
         "name": "a_bus__or_93_94_40",
         "showlegend": false,
         "type": "scatter",
         "x": [
          631
         ],
         "y": [
          -377
         ]
        },
        {
         "hoverinfo": "skip",
         "marker": {
          "color": "red",
          "showscale": false,
          "size": 10
         },
         "name": "a_bus__ex_93_94_40",
         "showlegend": false,
         "type": "scatter",
         "x": [
          574
         ],
         "y": [
          -377
         ]
        },
        {
         "hoverinfo": "skip",
         "marker": {
          "color": "rgb(8,81,156)",
          "showscale": false,
          "size": 10,
          "symbol": "triangle-left"
         },
         "name": "a_->_93_94_40",
         "showlegend": false,
         "type": "scatter",
         "x": [
          616,
          621
         ],
         "y": [
          -377,
          -377
         ]
        },
        {
         "hoverinfo": "skip",
         "line": {
          "color": "rgb(8,81,156)"
         },
         "name": "a79_95_41",
         "showlegend": false,
         "type": "scatter",
         "x": [
          599,
          583
         ],
         "y": [
          -207,
          -331
         ]
        },
        {
         "hoverinfo": "skip",
         "marker": {
          "color": "red",
          "showscale": false,
          "size": 10
         },
         "name": "a_bus__or_79_95_41",
         "showlegend": false,
         "type": "scatter",
         "x": [
          597.080429935547
         ],
         "y": [
          -221.87666799951037
         ]
        },
        {
         "hoverinfo": "skip",
         "marker": {
          "color": "red",
          "showscale": false,
          "size": 10
         },
         "name": "a_bus__ex_79_95_41",
         "showlegend": false,
         "type": "scatter",
         "x": [
          584.919570064453
         ],
         "y": [
          -316.1233320004896
         ]
        },
        {
         "hoverinfo": "skip",
         "marker": {
          "color": "rgb(8,81,156)",
          "showscale": false,
          "size": 10,
          "symbol": "triangle-down"
         },
         "name": "a_->_79_95_41",
         "showlegend": false,
         "type": "scatter",
         "x": [
          595.1608598710941,
          595.8007165592451
         ],
         "y": [
          -236.75333599902075,
          -231.79444666585061
         ]
        },
        {
         "hoverinfo": "skip",
         "line": {
          "color": "rgb(8,48,107)"
         },
         "name": "a81_95_42",
         "showlegend": false,
         "type": "scatter",
         "x": [
          393,
          583
         ],
         "y": [
          -329,
          -331
         ]
        },
        {
         "hoverinfo": "skip",
         "marker": {
          "color": "red",
          "showscale": false,
          "size": 10
         },
         "name": "a_bus__or_81_95_42",
         "showlegend": false,
         "type": "scatter",
         "x": [
          407.9991690441231
         ],
         "y": [
          -329.15788598993817
         ]
        },
        {
         "hoverinfo": "skip",
         "marker": {
          "color": "red",
          "showscale": false,
          "size": 10
         },
         "name": "a_bus__ex_81_95_42",
         "showlegend": false,
         "type": "scatter",
         "x": [
          568.0008309558768
         ],
         "y": [
          -330.84211401006183
         ]
        },
        {
         "hoverinfo": "skip",
         "marker": {
          "color": "rgb(8,48,107)",
          "showscale": false,
          "size": 10,
          "symbol": "triangle-right"
         },
         "name": "a_->_81_95_42",
         "showlegend": false,
         "type": "scatter",
         "x": [
          422.9983380882462,
          417.99861507353853
         ],
         "y": [
          -329.3157719798763,
          -329.26314331656357
         ]
        },
        {
         "hoverinfo": "skip",
         "line": {
          "color": "rgb(8,48,107)"
         },
         "name": "a93_95_43",
         "showlegend": false,
         "type": "scatter",
         "x": [
          646,
          583
         ],
         "y": [
          -377,
          -331
         ]
        },
        {
         "hoverinfo": "skip",
         "marker": {
          "color": "red",
          "showscale": false,
          "size": 10
         },
         "name": "a_bus__or_93_95_43",
         "showlegend": false,
         "type": "scatter",
         "x": [
          633.8856109378128
         ],
         "y": [
          -368.1545730657046
         ]
        },
        {
         "hoverinfo": "skip",
         "marker": {
          "color": "red",
          "showscale": false,
          "size": 10
         },
         "name": "a_bus__ex_93_95_43",
         "showlegend": false,
         "type": "scatter",
         "x": [
          595.1143890621872
         ],
         "y": [
          -339.8454269342954
         ]
        },
        {
         "hoverinfo": "skip",
         "marker": {
          "color": "rgb(8,48,107)",
          "showscale": false,
          "size": 10,
          "symbol": "triangle-se"
         },
         "name": "a_->_93_95_43",
         "showlegend": false,
         "type": "scatter",
         "x": [
          621.7712218756255,
          625.8093515630213
         ],
         "y": [
          -359.30914613140914,
          -362.2576217761743
         ]
        },
        {
         "hoverinfo": "skip",
         "line": {
          "color": "rgb(8,81,156)"
         },
         "name": "a79_96_44",
         "showlegend": false,
         "type": "scatter",
         "x": [
          599,
          541
         ],
         "y": [
          -207,
          -280
         ]
        },
        {
         "hoverinfo": "skip",
         "marker": {
          "color": "red",
          "showscale": false,
          "size": 10
         },
         "name": "a_bus__or_79_96_44",
         "showlegend": false,
         "type": "scatter",
         "x": [
          589.6688662871443
         ],
         "y": [
          -218.74435794893907
         ]
        },
        {
         "hoverinfo": "skip",
         "marker": {
          "color": "red",
          "showscale": false,
          "size": 10
         },
         "name": "a_bus__ex_79_96_44",
         "showlegend": false,
         "type": "scatter",
         "x": [
          550.3311337128557
         ],
         "y": [
          -268.25564205106093
         ]
        },
        {
         "hoverinfo": "skip",
         "marker": {
          "color": "rgb(8,81,156)",
          "showscale": false,
          "size": 10,
          "symbol": "triangle-sw"
         },
         "name": "a_->_79_96_44",
         "showlegend": false,
         "type": "scatter",
         "x": [
          580.3377325742887,
          583.4481104785739
         ],
         "y": [
          -230.4887158978781,
          -226.57392991489843
         ]
        },
        {
         "hoverinfo": "skip",
         "line": {
          "color": "rgb(8,48,107)"
         },
         "name": "a79_97_45",
         "showlegend": false,
         "type": "scatter",
         "x": [
          599,
          691
         ],
         "y": [
          -207,
          -251
         ]
        },
        {
         "hoverinfo": "skip",
         "marker": {
          "color": "red",
          "showscale": false,
          "size": 10
         },
         "name": "a_bus__or_79_97_45",
         "showlegend": false,
         "type": "scatter",
         "x": [
          612.5320133245347
         ],
         "y": [
          -213.47183245956006
         ]
        },
        {
         "hoverinfo": "skip",
         "marker": {
          "color": "red",
          "showscale": false,
          "size": 10
         },
         "name": "a_bus__ex_79_97_45",
         "showlegend": false,
         "type": "scatter",
         "x": [
          677.4679866754653
         ],
         "y": [
          -244.52816754043994
         ]
        },
        {
         "hoverinfo": "skip",
         "marker": {
          "color": "rgb(8,48,107)",
          "showscale": false,
          "size": 10,
          "symbol": "triangle-se"
         },
         "name": "a_->_79_97_45",
         "showlegend": false,
         "type": "scatter",
         "x": [
          626.0640266490694,
          621.5533555408912
         ],
         "y": [
          -219.94366491912015,
          -217.78638743260012
         ]
        },
        {
         "hoverinfo": "skip",
         "line": {
          "color": "rgb(8,81,156)"
         },
         "name": "a10_12_46",
         "showlegend": false,
         "type": "scatter",
         "x": [
          -847,
          -638
         ],
         "y": [
          465,
          363
         ]
        },
        {
         "hoverinfo": "skip",
         "marker": {
          "color": "red",
          "showscale": false,
          "size": 10
         },
         "name": "a_bus__or_10_12_46",
         "showlegend": false,
         "type": "scatter",
         "x": [
          -833.5197133238487
         ],
         "y": [
          458.4211041102037
         ]
        },
        {
         "hoverinfo": "skip",
         "marker": {
          "color": "red",
          "showscale": false,
          "size": 10
         },
         "name": "a_bus__ex_10_12_46",
         "showlegend": false,
         "type": "scatter",
         "x": [
          -651.4802866761513
         ],
         "y": [
          369.5788958897963
         ]
        },
        {
         "hoverinfo": "skip",
         "marker": {
          "color": "rgb(8,81,156)",
          "showscale": false,
          "size": 10,
          "symbol": "triangle-se"
         },
         "name": "a_->_10_12_46",
         "showlegend": false,
         "type": "scatter",
         "x": [
          -820.0394266476974,
          -824.5328555397479
         ],
         "y": [
          451.84220822040743,
          454.03517351700617
         ]
        },
        {
         "hoverinfo": "skip",
         "line": {
          "color": "rgb(8,48,107)"
         },
         "name": "a79_98_47",
         "showlegend": false,
         "type": "scatter",
         "x": [
          599,
          776
         ],
         "y": [
          -207,
          -209
         ]
        },
        {
         "hoverinfo": "skip",
         "marker": {
          "color": "red",
          "showscale": false,
          "size": 10
         },
         "name": "a_bus__or_79_98_47",
         "showlegend": false,
         "type": "scatter",
         "x": [
          613.9990425124464
         ],
         "y": [
          -207.16948070635533
         ]
        },
        {
         "hoverinfo": "skip",
         "marker": {
          "color": "red",
          "showscale": false,
          "size": 10
         },
         "name": "a_bus__ex_79_98_47",
         "showlegend": false,
         "type": "scatter",
         "x": [
          761.0009574875536
         ],
         "y": [
          -208.83051929364467
         ]
        },
        {
         "hoverinfo": "skip",
         "marker": {
          "color": "rgb(8,48,107)",
          "showscale": false,
          "size": 10,
          "symbol": "triangle-right"
         },
         "name": "a_->_79_98_47",
         "showlegend": false,
         "type": "scatter",
         "x": [
          628.9980850248928,
          623.9984041874106
         ],
         "y": [
          -207.33896141271063,
          -207.28246784392553
         ]
        },
        {
         "hoverinfo": "skip",
         "line": {
          "color": "rgb(66,146,198)"
         },
         "name": "a91_99_48",
         "showlegend": false,
         "type": "scatter",
         "x": [
          517,
          760
         ],
         "y": [
          -489,
          -377
         ]
        },
        {
         "hoverinfo": "skip",
         "marker": {
          "color": "red",
          "showscale": false,
          "size": 10
         },
         "name": "a_bus__or_91_99_48",
         "showlegend": false,
         "type": "scatter",
         "x": [
          530.6226704943444
         ],
         "y": [
          -482.7212382906725
         ]
        },
        {
         "hoverinfo": "skip",
         "marker": {
          "color": "red",
          "showscale": false,
          "size": 10
         },
         "name": "a_bus__ex_91_99_48",
         "showlegend": false,
         "type": "scatter",
         "x": [
          746.3773295056556
         ],
         "y": [
          -383.2787617093275
         ]
        },
        {
         "hoverinfo": "skip",
         "marker": {
          "color": "rgb(66,146,198)",
          "showscale": false,
          "size": 10,
          "symbol": "triangle-sw"
         },
         "name": "a_->_91_99_48",
         "showlegend": false,
         "type": "scatter",
         "x": [
          544.2453409886889,
          539.7044508239075
         ],
         "y": [
          -476.442476581345,
          -478.53539715112083
         ]
        },
        {
         "hoverinfo": "skip",
         "line": {
          "color": "rgb(33,113,181)"
         },
         "name": "a93_99_49",
         "showlegend": false,
         "type": "scatter",
         "x": [
          646,
          760
         ],
         "y": [
          -377,
          -377
         ]
        },
        {
         "hoverinfo": "skip",
         "marker": {
          "color": "red",
          "showscale": false,
          "size": 10
         },
         "name": "a_bus__or_93_99_49",
         "showlegend": false,
         "type": "scatter",
         "x": [
          661
         ],
         "y": [
          -377
         ]
        },
        {
         "hoverinfo": "skip",
         "marker": {
          "color": "red",
          "showscale": false,
          "size": 10
         },
         "name": "a_bus__ex_93_99_49",
         "showlegend": false,
         "type": "scatter",
         "x": [
          745
         ],
         "y": [
          -377
         ]
        },
        {
         "hoverinfo": "skip",
         "marker": {
          "color": "rgb(33,113,181)",
          "showscale": false,
          "size": 10,
          "symbol": "triangle-left"
         },
         "name": "a_->_93_99_49",
         "showlegend": false,
         "type": "scatter",
         "x": [
          676,
          671
         ],
         "y": [
          -377,
          -377
         ]
        },
        {
         "hoverinfo": "skip",
         "line": {
          "color": "rgb(8,48,107)"
         },
         "name": "a94_95_50",
         "showlegend": false,
         "type": "scatter",
         "x": [
          559,
          583
         ],
         "y": [
          -377,
          -331
         ]
        },
        {
         "hoverinfo": "skip",
         "marker": {
          "color": "red",
          "showscale": false,
          "size": 10
         },
         "name": "a_bus__or_94_95_50",
         "showlegend": false,
         "type": "scatter",
         "x": [
          565.9384901004253
         ],
         "y": [
          -363.7012273075182
         ]
        },
        {
         "hoverinfo": "skip",
         "marker": {
          "color": "red",
          "showscale": false,
          "size": 10
         },
         "name": "a_bus__ex_94_95_50",
         "showlegend": false,
         "type": "scatter",
         "x": [
          576.0615098995747
         ],
         "y": [
          -344.2987726924818
         ]
        },
        {
         "hoverinfo": "skip",
         "marker": {
          "color": "rgb(8,48,107)",
          "showscale": false,
          "size": 10,
          "symbol": "triangle-sw"
         },
         "name": "a_->_94_95_50",
         "showlegend": false,
         "type": "scatter",
         "x": [
          572.8769802008505,
          570.5641501673755
         ],
         "y": [
          -350.40245461503633,
          -354.8353788458636
         ]
        },
        {
         "hoverinfo": "skip",
         "line": {
          "color": "rgb(8,81,156)"
         },
         "name": "a95_96_51",
         "showlegend": false,
         "type": "scatter",
         "x": [
          583,
          541
         ],
         "y": [
          -331,
          -280
         ]
        },
        {
         "hoverinfo": "skip",
         "marker": {
          "color": "red",
          "showscale": false,
          "size": 10
         },
         "name": "a_bus__or_95_96_51",
         "showlegend": false,
         "type": "scatter",
         "x": [
          573.4643912070835
         ],
         "y": [
          -319.42104646574427
         ]
        },
        {
         "hoverinfo": "skip",
         "marker": {
          "color": "red",
          "showscale": false,
          "size": 10
         },
         "name": "a_bus__ex_95_96_51",
         "showlegend": false,
         "type": "scatter",
         "x": [
          550.5356087929165
         ],
         "y": [
          -291.57895353425573
         ]
        },
        {
         "hoverinfo": "skip",
         "marker": {
          "color": "rgb(8,81,156)",
          "showscale": false,
          "size": 10,
          "symbol": "triangle-se"
         },
         "name": "a_->_95_96_51",
         "showlegend": false,
         "type": "scatter",
         "x": [
          563.928782414167,
          567.1073186784726
         ],
         "y": [
          -307.84209293148854,
          -311.7017441095738
         ]
        },
        {
         "hoverinfo": "skip",
         "line": {
          "color": "rgb(8,48,107)"
         },
         "name": "a97_99_52",
         "showlegend": false,
         "type": "scatter",
         "x": [
          691,
          760
         ],
         "y": [
          -251,
          -377
         ]
        },
        {
         "hoverinfo": "skip",
         "marker": {
          "color": "red",
          "showscale": false,
          "size": 10
         },
         "name": "a_bus__or_97_99_52",
         "showlegend": false,
         "type": "scatter",
         "x": [
          698.2047193429837
         ],
         "y": [
          -264.1564440176225
         ]
        },
        {
         "hoverinfo": "skip",
         "marker": {
          "color": "red",
          "showscale": false,
          "size": 10
         },
         "name": "a_bus__ex_97_99_52",
         "showlegend": false,
         "type": "scatter",
         "x": [
          752.7952806570163
         ],
         "y": [
          -363.8435559823775
         ]
        },
        {
         "hoverinfo": "skip",
         "marker": {
          "color": "rgb(8,48,107)",
          "showscale": false,
          "size": 10,
          "symbol": "triangle-nw"
         },
         "name": "a_->_97_99_52",
         "showlegend": false,
         "type": "scatter",
         "x": [
          705.4094386859675,
          703.0078655716396
         ],
         "y": [
          -277.31288803524507,
          -272.92740669603756
         ]
        },
        {
         "hoverinfo": "skip",
         "line": {
          "color": "rgb(8,48,107)"
         },
         "name": "a98_99_53",
         "showlegend": false,
         "type": "scatter",
         "x": [
          776,
          760
         ],
         "y": [
          -209,
          -377
         ]
        },
        {
         "hoverinfo": "skip",
         "marker": {
          "color": "red",
          "showscale": false,
          "size": 10
         },
         "name": "a_bus__or_98_99_53",
         "showlegend": false,
         "type": "scatter",
         "x": [
          774.57786361058
         ],
         "y": [
          -223.93243208890928
         ]
        },
        {
         "hoverinfo": "skip",
         "marker": {
          "color": "red",
          "showscale": false,
          "size": 10
         },
         "name": "a_bus__ex_98_99_53",
         "showlegend": false,
         "type": "scatter",
         "x": [
          761.42213638942
         ],
         "y": [
          -362.0675679110907
         ]
        },
        {
         "hoverinfo": "skip",
         "marker": {
          "color": "rgb(8,48,107)",
          "showscale": false,
          "size": 10,
          "symbol": "triangle-down"
         },
         "name": "a_->_98_99_53",
         "showlegend": false,
         "type": "scatter",
         "x": [
          773.1557272211601,
          773.6297726843001
         ],
         "y": [
          -238.86486417781856,
          -233.8873868148488
         ]
        },
        {
         "hoverinfo": "skip",
         "line": {
          "color": "rgb(66,146,198)"
         },
         "name": "a99_100_54",
         "showlegend": false,
         "type": "scatter",
         "x": [
          760,
          720
         ],
         "y": [
          -377,
          -537
         ]
        },
        {
         "hoverinfo": "skip",
         "marker": {
          "color": "red",
          "showscale": false,
          "size": 10
         },
         "name": "a_bus__or_99_100_54",
         "showlegend": false,
         "type": "scatter",
         "x": [
          756.361965624455
         ],
         "y": [
          -391.55213750217996
         ]
        },
        {
         "hoverinfo": "skip",
         "marker": {
          "color": "red",
          "showscale": false,
          "size": 10
         },
         "name": "a_bus__ex_99_100_54",
         "showlegend": false,
         "type": "scatter",
         "x": [
          723.638034375545
         ],
         "y": [
          -522.44786249782
         ]
        },
        {
         "hoverinfo": "skip",
         "marker": {
          "color": "rgb(66,146,198)",
          "showscale": false,
          "size": 10,
          "symbol": "triangle-down"
         },
         "name": "a_->_99_100_54",
         "showlegend": false,
         "type": "scatter",
         "x": [
          752.7239312489099,
          753.9366093740916
         ],
         "y": [
          -406.10427500436,
          -401.2535625036333
         ]
        },
        {
         "hoverinfo": "skip",
         "line": {
          "color": "rgb(33,113,181)"
         },
         "name": "a91_101_55",
         "showlegend": false,
         "type": "scatter",
         "x": [
          517,
          596
         ],
         "y": [
          -489,
          -535
         ]
        },
        {
         "hoverinfo": "skip",
         "marker": {
          "color": "red",
          "showscale": false,
          "size": 10
         },
         "name": "a_bus__or_91_101_55",
         "showlegend": false,
         "type": "scatter",
         "x": [
          529.9626307276385
         ],
         "y": [
          -496.54786093001735
         ]
        },
        {
         "hoverinfo": "skip",
         "marker": {
          "color": "red",
          "showscale": false,
          "size": 10
         },
         "name": "a_bus__ex_91_101_55",
         "showlegend": false,
         "type": "scatter",
         "x": [
          583.0373692723615
         ],
         "y": [
          -527.4521390699826
         ]
        },
        {
         "hoverinfo": "skip",
         "marker": {
          "color": "rgb(33,113,181)",
          "showscale": false,
          "size": 10,
          "symbol": "triangle-nw"
         },
         "name": "a_->_91_101_55",
         "showlegend": false,
         "type": "scatter",
         "x": [
          542.925261455277,
          538.6043845460641
         ],
         "y": [
          -504.0957218600347,
          -501.5797682166956
         ]
        },
        {
         "hoverinfo": "skip",
         "line": {
          "color": "rgb(66,146,198)"
         },
         "name": "a100_101_56",
         "showlegend": false,
         "type": "scatter",
         "x": [
          720,
          596
         ],
         "y": [
          -537,
          -535
         ]
        },
        {
         "hoverinfo": "skip",
         "marker": {
          "color": "red",
          "showscale": false,
          "size": 10
         },
         "name": "a_bus__or_100_101_56",
         "showlegend": false,
         "type": "scatter",
         "x": [
          705.0019507120181
         ],
         "y": [
          -536.7580959792261
         ]
        },
        {
         "hoverinfo": "skip",
         "marker": {
          "color": "red",
          "showscale": false,
          "size": 10
         },
         "name": "a_bus__ex_100_101_56",
         "showlegend": false,
         "type": "scatter",
         "x": [
          610.9980492879819
         ],
         "y": [
          -535.2419040207739
         ]
        },
        {
         "hoverinfo": "skip",
         "marker": {
          "color": "rgb(66,146,198)",
          "showscale": false,
          "size": 10,
          "symbol": "triangle-left"
         },
         "name": "a_->_100_101_56",
         "showlegend": false,
         "type": "scatter",
         "x": [
          690.0039014240363,
          695.0032511866968
         ],
         "y": [
          -536.5161919584523,
          -536.5968266320435
         ]
        },
        {
         "hoverinfo": "skip",
         "line": {
          "color": "rgb(8,48,107)"
         },
         "name": "a11_13_57",
         "showlegend": false,
         "type": "scatter",
         "x": [
          -705,
          -544
         ],
         "y": [
          505,
          498
         ]
        },
        {
         "hoverinfo": "skip",
         "marker": {
          "color": "red",
          "showscale": false,
          "size": 10
         },
         "name": "a_bus__or_11_13_57",
         "showlegend": false,
         "type": "scatter",
         "x": [
          -690.0141576246741
         ],
         "y": [
          504.3484416358554
         ]
        },
        {
         "hoverinfo": "skip",
         "marker": {
          "color": "red",
          "showscale": false,
          "size": 10
         },
         "name": "a_bus__ex_11_13_57",
         "showlegend": false,
         "type": "scatter",
         "x": [
          -558.9858423753259
         ],
         "y": [
          498.6515583641446
         ]
        },
        {
         "hoverinfo": "skip",
         "marker": {
          "color": "rgb(8,48,107)",
          "showscale": false,
          "size": 10,
          "symbol": "triangle-right"
         },
         "name": "a_->_11_13_57",
         "showlegend": false,
         "type": "scatter",
         "x": [
          -675.0283152493482,
          -680.0235960411235
         ],
         "y": [
          503.6968832717108,
          503.91406939309235
         ]
        },
        {
         "hoverinfo": "skip",
         "line": {
          "color": "rgb(8,48,107)"
         },
         "name": "a99_102_58",
         "showlegend": false,
         "type": "scatter",
         "x": [
          760,
          860
         ],
         "y": [
          -377,
          -537
         ]
        },
        {
         "hoverinfo": "skip",
         "marker": {
          "color": "red",
          "showscale": false,
          "size": 10
         },
         "name": "a_bus__or_99_102_58",
         "showlegend": false,
         "type": "scatter",
         "x": [
          767.9499841000477
         ],
         "y": [
          -389.7199745600763
         ]
        },
        {
         "hoverinfo": "skip",
         "marker": {
          "color": "red",
          "showscale": false,
          "size": 10
         },
         "name": "a_bus__ex_99_102_58",
         "showlegend": false,
         "type": "scatter",
         "x": [
          852.0500158999523
         ],
         "y": [
          -524.2800254399236
         ]
        },
        {
         "hoverinfo": "skip",
         "marker": {
          "color": "rgb(8,48,107)",
          "showscale": false,
          "size": 10,
          "symbol": "triangle-nw"
         },
         "name": "a_->_99_102_58",
         "showlegend": false,
         "type": "scatter",
         "x": [
          775.8999682000954,
          773.2499735000795
         ],
         "y": [
          -402.4399491201527,
          -398.1999576001272
         ]
        },
        {
         "hoverinfo": "skip",
         "line": {
          "color": "rgb(8,81,156)"
         },
         "name": "a99_103_59",
         "showlegend": false,
         "type": "scatter",
         "x": [
          760,
          871
         ],
         "y": [
          -377,
          -373
         ]
        },
        {
         "hoverinfo": "skip",
         "marker": {
          "color": "red",
          "showscale": false,
          "size": 10
         },
         "name": "a_bus__or_99_103_59",
         "showlegend": false,
         "type": "scatter",
         "x": [
          774.9902700062736
         ],
         "y": [
          -376.459810089864
         ]
        },
        {
         "hoverinfo": "skip",
         "marker": {
          "color": "red",
          "showscale": false,
          "size": 10
         },
         "name": "a_bus__ex_99_103_59",
         "showlegend": false,
         "type": "scatter",
         "x": [
          856.0097299937264
         ],
         "y": [
          -373.540189910136
         ]
        },
        {
         "hoverinfo": "skip",
         "marker": {
          "color": "rgb(8,81,156)",
          "showscale": false,
          "size": 10,
          "symbol": "triangle-left"
         },
         "name": "a_->_99_103_59",
         "showlegend": false,
         "type": "scatter",
         "x": [
          789.9805400125472,
          784.9837833437894
         ],
         "y": [
          -375.919620179728,
          -376.0996834831067
         ]
        },
        {
         "hoverinfo": "skip",
         "line": {
          "color": "rgb(33,113,181)"
         },
         "name": "a102_103_60",
         "showlegend": false,
         "type": "scatter",
         "x": [
          860,
          871
         ],
         "y": [
          -537,
          -373
         ]
        },
        {
         "hoverinfo": "skip",
         "marker": {
          "color": "red",
          "showscale": false,
          "size": 10
         },
         "name": "a_bus__or_102_103_60",
         "showlegend": false,
         "type": "scatter",
         "x": [
          861.0038420474734
         ],
         "y": [
          -522.0336276558504
         ]
        },
        {
         "hoverinfo": "skip",
         "marker": {
          "color": "red",
          "showscale": false,
          "size": 10
         },
         "name": "a_bus__ex_102_103_60",
         "showlegend": false,
         "type": "scatter",
         "x": [
          869.9961579525266
         ],
         "y": [
          -387.96637234414953
         ]
        },
        {
         "hoverinfo": "skip",
         "marker": {
          "color": "rgb(33,113,181)",
          "showscale": false,
          "size": 10,
          "symbol": "triangle-down"
         },
         "name": "a_->_102_103_60",
         "showlegend": false,
         "type": "scatter",
         "x": [
          862.007684094947,
          861.6730700791225
         ],
         "y": [
          -507.06725531170093,
          -512.0560460930841
         ]
        },
        {
         "hoverinfo": "skip",
         "line": {
          "color": "rgb(8,48,107)"
         },
         "name": "a102_104_61",
         "showlegend": false,
         "type": "scatter",
         "x": [
          860,
          964
         ],
         "y": [
          -537,
          -377
         ]
        },
        {
         "hoverinfo": "skip",
         "marker": {
          "color": "red",
          "showscale": false,
          "size": 10
         },
         "name": "a_bus__or_102_104_61",
         "showlegend": false,
         "type": "scatter",
         "x": [
          868.1748252589313
         ],
         "y": [
          -524.4233457554905
         ]
        },
        {
         "hoverinfo": "skip",
         "marker": {
          "color": "red",
          "showscale": false,
          "size": 10
         },
         "name": "a_bus__ex_102_104_61",
         "showlegend": false,
         "type": "scatter",
         "x": [
          955.8251747410687
         ],
         "y": [
          -389.57665424450954
         ]
        },
        {
         "hoverinfo": "skip",
         "marker": {
          "color": "rgb(8,48,107)",
          "showscale": false,
          "size": 10,
          "symbol": "triangle-sw"
         },
         "name": "a_->_102_104_61",
         "showlegend": false,
         "type": "scatter",
         "x": [
          876.3496505178624,
          873.6247087648853
         ],
         "y": [
          -511.84669151098086,
          -516.0389095924841
         ]
        },
        {
         "hoverinfo": "skip",
         "line": {
          "color": "rgb(8,48,107)"
         },
         "name": "a99_105_62",
         "showlegend": false,
         "type": "scatter",
         "x": [
          760,
          961
         ],
         "y": [
          -377,
          -245
         ]
        },
        {
         "hoverinfo": "skip",
         "marker": {
          "color": "red",
          "showscale": false,
          "size": 10
         },
         "name": "a_bus__or_99_105_62",
         "showlegend": false,
         "type": "scatter",
         "x": [
          772.5380355171912
         ],
         "y": [
          -368.76606622751615
         ]
        },
        {
         "hoverinfo": "skip",
         "marker": {
          "color": "red",
          "showscale": false,
          "size": 10
         },
         "name": "a_bus__ex_99_105_62",
         "showlegend": false,
         "type": "scatter",
         "x": [
          948.4619644828088
         ],
         "y": [
          -253.23393377248382
         ]
        },
        {
         "hoverinfo": "skip",
         "marker": {
          "color": "rgb(8,48,107)",
          "showscale": false,
          "size": 10,
          "symbol": "triangle-sw"
         },
         "name": "a_->_99_105_62",
         "showlegend": false,
         "type": "scatter",
         "x": [
          785.0760710343826,
          780.8967258619855
         ],
         "y": [
          -360.53213245503235,
          -363.2767770458603
         ]
        },
        {
         "hoverinfo": "skip",
         "line": {
          "color": "rgb(33,113,181)"
         },
         "name": "a103_104_63",
         "showlegend": false,
         "type": "scatter",
         "x": [
          871,
          964
         ],
         "y": [
          -373,
          -377
         ]
        },
        {
         "hoverinfo": "skip",
         "marker": {
          "color": "red",
          "showscale": false,
          "size": 10
         },
         "name": "a_bus__or_103_104_63",
         "showlegend": false,
         "type": "scatter",
         "x": [
          885.9861447840194
         ],
         "y": [
          -373.6445653670546
         ]
        },
        {
         "hoverinfo": "skip",
         "marker": {
          "color": "red",
          "showscale": false,
          "size": 10
         },
         "name": "a_bus__ex_103_104_63",
         "showlegend": false,
         "type": "scatter",
         "x": [
          949.0138552159806
         ],
         "y": [
          -376.3554346329454
         ]
        },
        {
         "hoverinfo": "skip",
         "marker": {
          "color": "rgb(33,113,181)",
          "showscale": false,
          "size": 10,
          "symbol": "triangle-right"
         },
         "name": "a_->_103_104_63",
         "showlegend": false,
         "type": "scatter",
         "x": [
          900.972289568039,
          895.9769079733658
         ],
         "y": [
          -374.2891307341092,
          -374.0742756117577
         ]
        },
        {
         "hoverinfo": "skip",
         "line": {
          "color": "rgb(8,81,156)"
         },
         "name": "a104_105_64",
         "showlegend": false,
         "type": "scatter",
         "x": [
          964,
          961
         ],
         "y": [
          -377,
          -245
         ]
        },
        {
         "hoverinfo": "skip",
         "marker": {
          "color": "red",
          "showscale": false,
          "size": 10
         },
         "name": "a_bus__or_104_105_64",
         "showlegend": false,
         "type": "scatter",
         "x": [
          963.6591789197006
         ],
         "y": [
          -362.00387246682584
         ]
        },
        {
         "hoverinfo": "skip",
         "marker": {
          "color": "red",
          "showscale": false,
          "size": 10
         },
         "name": "a_bus__ex_104_105_64",
         "showlegend": false,
         "type": "scatter",
         "x": [
          961.3408210802994
         ],
         "y": [
          -259.99612753317416
         ]
        },
        {
         "hoverinfo": "skip",
         "marker": {
          "color": "rgb(8,81,156)",
          "showscale": false,
          "size": 10,
          "symbol": "triangle-up"
         },
         "name": "a_->_104_105_64",
         "showlegend": false,
         "type": "scatter",
         "x": [
          963.3183578394012,
          963.4319648661676
         ],
         "y": [
          -347.00774493365174,
          -352.00645411137646
         ]
        },
        {
         "hoverinfo": "skip",
         "line": {
          "color": "rgb(8,48,107)"
         },
         "name": "a104_106_65",
         "showlegend": false,
         "type": "scatter",
         "x": [
          964,
          1067
         ],
         "y": [
          -377,
          -377
         ]
        },
        {
         "hoverinfo": "skip",
         "marker": {
          "color": "red",
          "showscale": false,
          "size": 10
         },
         "name": "a_bus__or_104_106_65",
         "showlegend": false,
         "type": "scatter",
         "x": [
          979
         ],
         "y": [
          -377
         ]
        },
        {
         "hoverinfo": "skip",
         "marker": {
          "color": "red",
          "showscale": false,
          "size": 10
         },
         "name": "a_bus__ex_104_106_65",
         "showlegend": false,
         "type": "scatter",
         "x": [
          1052
         ],
         "y": [
          -377
         ]
        },
        {
         "hoverinfo": "skip",
         "marker": {
          "color": "rgb(8,48,107)",
          "showscale": false,
          "size": 10,
          "symbol": "triangle-left"
         },
         "name": "a_->_104_106_65",
         "showlegend": false,
         "type": "scatter",
         "x": [
          994,
          989
         ],
         "y": [
          -377,
          -377
         ]
        },
        {
         "hoverinfo": "skip",
         "line": {
          "color": "rgb(8,48,107)"
         },
         "name": "a104_107_66",
         "showlegend": false,
         "type": "scatter",
         "x": [
          964,
          1047
         ],
         "y": [
          -377,
          -444
         ]
        },
        {
         "hoverinfo": "skip",
         "marker": {
          "color": "red",
          "showscale": false,
          "size": 10
         },
         "name": "a_bus__or_104_107_66",
         "showlegend": false,
         "type": "scatter",
         "x": [
          975.6717610185153
         ],
         "y": [
          -386.42178299084975
         ]
        },
        {
         "hoverinfo": "skip",
         "marker": {
          "color": "red",
          "showscale": false,
          "size": 10
         },
         "name": "a_bus__ex_104_107_66",
         "showlegend": false,
         "type": "scatter",
         "x": [
          1035.3282389814847
         ],
         "y": [
          -434.57821700915025
         ]
        },
        {
         "hoverinfo": "skip",
         "marker": {
          "color": "rgb(8,48,107)",
          "showscale": false,
          "size": 10,
          "symbol": "triangle-se"
         },
         "name": "a_->_104_107_66",
         "showlegend": false,
         "type": "scatter",
         "x": [
          987.3435220370308,
          983.452935030859
         ],
         "y": [
          -395.8435659816995,
          -392.70297165141625
         ]
        },
        {
         "hoverinfo": "skip",
         "line": {
          "color": "rgb(8,81,156)"
         },
         "name": "a105_106_67",
         "showlegend": false,
         "type": "scatter",
         "x": [
          961,
          1067
         ],
         "y": [
          -245,
          -377
         ]
        },
        {
         "hoverinfo": "skip",
         "marker": {
          "color": "red",
          "showscale": false,
          "size": 10
         },
         "name": "a_bus__or_105_106_67",
         "showlegend": false,
         "type": "scatter",
         "x": [
          970.392020488083
         ],
         "y": [
          -256.6957236266693
         ]
        },
        {
         "hoverinfo": "skip",
         "marker": {
          "color": "red",
          "showscale": false,
          "size": 10
         },
         "name": "a_bus__ex_105_106_67",
         "showlegend": false,
         "type": "scatter",
         "x": [
          1057.6079795119172
         ],
         "y": [
          -365.3042763733307
         ]
        },
        {
         "hoverinfo": "skip",
         "marker": {
          "color": "rgb(8,81,156)",
          "showscale": false,
          "size": 10,
          "symbol": "triangle-nw"
         },
         "name": "a_->_105_106_67",
         "showlegend": false,
         "type": "scatter",
         "x": [
          979.7840409761658,
          976.6533674801382
         ],
         "y": [
          -268.39144725333864,
          -264.4928727111155
         ]
        },
        {
         "hoverinfo": "skip",
         "line": {
          "color": "rgb(8,48,107)"
         },
         "name": "a12_14_68",
         "showlegend": false,
         "type": "scatter",
         "x": [
          -638,
          -498
         ],
         "y": [
          363,
          369
         ]
        },
        {
         "hoverinfo": "skip",
         "marker": {
          "color": "red",
          "showscale": false,
          "size": 10
         },
         "name": "a_bus__or_12_14_68",
         "showlegend": false,
         "type": "scatter",
         "x": [
          -623.0137565627349
         ],
         "y": [
          363.6422675758828
         ]
        },
        {
         "hoverinfo": "skip",
         "marker": {
          "color": "red",
          "showscale": false,
          "size": 10
         },
         "name": "a_bus__ex_12_14_68",
         "showlegend": false,
         "type": "scatter",
         "x": [
          -512.9862434372651
         ],
         "y": [
          368.3577324241172
         ]
        },
        {
         "hoverinfo": "skip",
         "marker": {
          "color": "rgb(8,48,107)",
          "showscale": false,
          "size": 10,
          "symbol": "triangle-left"
         },
         "name": "a_->_12_14_68",
         "showlegend": false,
         "type": "scatter",
         "x": [
          -608.0275131254699,
          -613.0229276045583
         ],
         "y": [
          364.28453515176557,
          364.07044595980466
         ]
        },
        {
         "hoverinfo": "skip",
         "line": {
          "color": "rgb(8,48,107)"
         },
         "name": "a107_108_69",
         "showlegend": false,
         "type": "scatter",
         "x": [
          1047,
          1053
         ],
         "y": [
          -444,
          -519
         ]
        },
        {
         "hoverinfo": "skip",
         "marker": {
          "color": "red",
          "showscale": false,
          "size": 10
         },
         "name": "a_bus__or_107_108_69",
         "showlegend": false,
         "type": "scatter",
         "x": [
          1048.1961783342433
         ],
         "y": [
          -458.9522291780419
         ]
        },
        {
         "hoverinfo": "skip",
         "marker": {
          "color": "red",
          "showscale": false,
          "size": 10
         },
         "name": "a_bus__ex_107_108_69",
         "showlegend": false,
         "type": "scatter",
         "x": [
          1051.8038216657567
         ],
         "y": [
          -504.0477708219581
         ]
        },
        {
         "hoverinfo": "skip",
         "marker": {
          "color": "rgb(8,48,107)",
          "showscale": false,
          "size": 10,
          "symbol": "triangle-down"
         },
         "name": "a_->_107_108_69",
         "showlegend": false,
         "type": "scatter",
         "x": [
          1049.3923566684866,
          1048.9936305570723
         ],
         "y": [
          -473.90445835608375,
          -468.92038196340314
         ]
        },
        {
         "hoverinfo": "skip",
         "line": {
          "color": "rgb(8,48,107)"
         },
         "name": "a102_109_70",
         "showlegend": false,
         "type": "scatter",
         "x": [
          860,
          953
         ],
         "y": [
          -537,
          -585
         ]
        },
        {
         "hoverinfo": "skip",
         "marker": {
          "color": "red",
          "showscale": false,
          "size": 10
         },
         "name": "a_bus__or_102_109_70",
         "showlegend": false,
         "type": "scatter",
         "x": [
          873.329309855823
         ],
         "y": [
          -543.8796437965538
         ]
        },
        {
         "hoverinfo": "skip",
         "marker": {
          "color": "red",
          "showscale": false,
          "size": 10
         },
         "name": "a_bus__ex_102_109_70",
         "showlegend": false,
         "type": "scatter",
         "x": [
          939.670690144177
         ],
         "y": [
          -578.1203562034462
         ]
        },
        {
         "hoverinfo": "skip",
         "marker": {
          "color": "rgb(8,48,107)",
          "showscale": false,
          "size": 10,
          "symbol": "triangle-se"
         },
         "name": "a_->_102_109_70",
         "showlegend": false,
         "type": "scatter",
         "x": [
          886.6586197116459,
          882.2155164263716
         ],
         "y": [
          -550.7592875931076,
          -548.4660729942564
         ]
        },
        {
         "hoverinfo": "skip",
         "line": {
          "color": "rgb(8,48,107)"
         },
         "name": "a108_109_71",
         "showlegend": false,
         "type": "scatter",
         "x": [
          1053,
          953
         ],
         "y": [
          -519,
          -585
         ]
        },
        {
         "hoverinfo": "skip",
         "marker": {
          "color": "red",
          "showscale": false,
          "size": 10
         },
         "name": "a_bus__or_108_109_71",
         "showlegend": false,
         "type": "scatter",
         "x": [
          1040.480858901574
         ],
         "y": [
          -527.2626331249611
         ]
        },
        {
         "hoverinfo": "skip",
         "marker": {
          "color": "red",
          "showscale": false,
          "size": 10
         },
         "name": "a_bus__ex_108_109_71",
         "showlegend": false,
         "type": "scatter",
         "x": [
          965.5191410984258
         ],
         "y": [
          -576.7373668750389
         ]
        },
        {
         "hoverinfo": "skip",
         "marker": {
          "color": "rgb(8,48,107)",
          "showscale": false,
          "size": 10,
          "symbol": "triangle-sw"
         },
         "name": "a_->_108_109_71",
         "showlegend": false,
         "type": "scatter",
         "x": [
          1027.9617178031483,
          1032.134764835957
         ],
         "y": [
          -535.5252662499221,
          -532.7710552082684
         ]
        },
        {
         "hoverinfo": "skip",
         "line": {
          "color": "rgb(8,48,107)"
         },
         "name": "a109_110_72",
         "showlegend": false,
         "type": "scatter",
         "x": [
          953,
          871
         ],
         "y": [
          -585,
          -600
         ]
        },
        {
         "hoverinfo": "skip",
         "marker": {
          "color": "red",
          "showscale": false,
          "size": 10
         },
         "name": "a_bus__or_109_110_72",
         "showlegend": false,
         "type": "scatter",
         "x": [
          938.2448388993917
         ],
         "y": [
          -587.6991148354772
         ]
        },
        {
         "hoverinfo": "skip",
         "marker": {
          "color": "red",
          "showscale": false,
          "size": 10
         },
         "name": "a_bus__ex_109_110_72",
         "showlegend": false,
         "type": "scatter",
         "x": [
          885.7551611006083
         ],
         "y": [
          -597.3008851645228
         ]
        },
        {
         "hoverinfo": "skip",
         "marker": {
          "color": "rgb(8,48,107)",
          "showscale": false,
          "size": 10,
          "symbol": "triangle-left"
         },
         "name": "a_->_109_110_72",
         "showlegend": false,
         "type": "scatter",
         "x": [
          923.4896777987833,
          928.4080648323194
         ],
         "y": [
          -590.3982296709544,
          -589.4985247257953
         ]
        },
        {
         "hoverinfo": "skip",
         "line": {
          "color": "rgb(8,81,156)"
         },
         "name": "a109_111_73",
         "showlegend": false,
         "type": "scatter",
         "x": [
          953,
          1064
         ],
         "y": [
          -585,
          -585
         ]
        },
        {
         "hoverinfo": "skip",
         "marker": {
          "color": "red",
          "showscale": false,
          "size": 10
         },
         "name": "a_bus__or_109_111_73",
         "showlegend": false,
         "type": "scatter",
         "x": [
          968
         ],
         "y": [
          -585
         ]
        },
        {
         "hoverinfo": "skip",
         "marker": {
          "color": "red",
          "showscale": false,
          "size": 10
         },
         "name": "a_bus__ex_109_111_73",
         "showlegend": false,
         "type": "scatter",
         "x": [
          1049
         ],
         "y": [
          -585
         ]
        },
        {
         "hoverinfo": "skip",
         "marker": {
          "color": "rgb(8,81,156)",
          "showscale": false,
          "size": 10,
          "symbol": "triangle-left"
         },
         "name": "a_->_109_111_73",
         "showlegend": false,
         "type": "scatter",
         "x": [
          983,
          978
         ],
         "y": [
          -585,
          -585
         ]
        },
        {
         "hoverinfo": "skip",
         "line": {
          "color": "rgb(8,81,156)"
         },
         "name": "a16_112_74",
         "showlegend": false,
         "type": "scatter",
         "x": [
          -586,
          -715
         ],
         "y": [
          205,
          178
         ]
        },
        {
         "hoverinfo": "skip",
         "marker": {
          "color": "red",
          "showscale": false,
          "size": 10
         },
         "name": "a_bus__or_16_112_74",
         "showlegend": false,
         "type": "scatter",
         "x": [
          -600.681859378793
         ],
         "y": [
          201.9270526881596
         ]
        },
        {
         "hoverinfo": "skip",
         "marker": {
          "color": "red",
          "showscale": false,
          "size": 10
         },
         "name": "a_bus__ex_16_112_74",
         "showlegend": false,
         "type": "scatter",
         "x": [
          -700.318140621207
         ],
         "y": [
          181.0729473118404
         ]
        },
        {
         "hoverinfo": "skip",
         "marker": {
          "color": "rgb(8,81,156)",
          "showscale": false,
          "size": 10,
          "symbol": "triangle-left"
         },
         "name": "a_->_16_112_74",
         "showlegend": false,
         "type": "scatter",
         "x": [
          -615.3637187575861,
          -610.4697656313217
         ],
         "y": [
          198.85410537631918,
          199.87842114693265
         ]
        },
        {
         "hoverinfo": "skip",
         "line": {
          "color": "rgb(8,48,107)"
         },
         "name": "a31_112_75",
         "showlegend": false,
         "type": "scatter",
         "x": [
          -686,
          -715
         ],
         "y": [
          7,
          178
         ]
        },
        {
         "hoverinfo": "skip",
         "marker": {
          "color": "red",
          "showscale": false,
          "size": 10
         },
         "name": "a_bus__or_31_112_75",
         "showlegend": false,
         "type": "scatter",
         "x": [
          -688.5080483439477
         ],
         "y": [
          21.788836786726037
         ]
        },
        {
         "hoverinfo": "skip",
         "marker": {
          "color": "red",
          "showscale": false,
          "size": 10
         },
         "name": "a_bus__ex_31_112_75",
         "showlegend": false,
         "type": "scatter",
         "x": [
          -712.4919516560523
         ],
         "y": [
          163.21116321327398
         ]
        },
        {
         "hoverinfo": "skip",
         "marker": {
          "color": "rgb(8,48,107)",
          "showscale": false,
          "size": 10,
          "symbol": "triangle-down"
         },
         "name": "a_->_31_112_75",
         "showlegend": false,
         "type": "scatter",
         "x": [
          -691.0160966878955,
          -690.1800805732462
         ],
         "y": [
          36.577673573452074,
          31.64806131121006
         ]
        },
        {
         "hoverinfo": "skip",
         "line": {
          "color": "rgb(8,48,107)"
         },
         "name": "a31_113_76",
         "showlegend": false,
         "type": "scatter",
         "x": [
          -686,
          -683
         ],
         "y": [
          7,
          -53
         ]
        },
        {
         "hoverinfo": "skip",
         "marker": {
          "color": "red",
          "showscale": false,
          "size": 10
         },
         "name": "a_bus__or_31_113_76",
         "showlegend": false,
         "type": "scatter",
         "x": [
          -685.2509357458416
         ],
         "y": [
          -7.98128508316767
         ]
        },
        {
         "hoverinfo": "skip",
         "marker": {
          "color": "red",
          "showscale": false,
          "size": 10
         },
         "name": "a_bus__ex_31_113_76",
         "showlegend": false,
         "type": "scatter",
         "x": [
          -683.7490642541584
         ],
         "y": [
          -38.01871491683233
         ]
        },
        {
         "hoverinfo": "skip",
         "marker": {
          "color": "rgb(8,48,107)",
          "showscale": false,
          "size": 10,
          "symbol": "triangle-up"
         },
         "name": "a_->_31_113_76",
         "showlegend": false,
         "type": "scatter",
         "x": [
          -684.5018714916832,
          -684.7515595764027
         ],
         "y": [
          -22.96257016633534,
          -17.968808471946115
         ]
        },
        {
         "hoverinfo": "skip",
         "line": {
          "color": "rgb(8,81,156)"
         },
         "name": "a26_114_77",
         "showlegend": false,
         "type": "scatter",
         "x": [
          -858,
          -665
         ],
         "y": [
          -98,
          -122
         ]
        },
        {
         "hoverinfo": "skip",
         "marker": {
          "color": "red",
          "showscale": false,
          "size": 10
         },
         "name": "a_bus__or_26_114_77",
         "showlegend": false,
         "type": "scatter",
         "x": [
          -843.1146483196937
         ],
         "y": [
          -99.85102818822462
         ]
        },
        {
         "hoverinfo": "skip",
         "marker": {
          "color": "red",
          "showscale": false,
          "size": 10
         },
         "name": "a_bus__ex_26_114_77",
         "showlegend": false,
         "type": "scatter",
         "x": [
          -679.8853516803063
         ],
         "y": [
          -120.14897181177538
         ]
        },
        {
         "hoverinfo": "skip",
         "marker": {
          "color": "rgb(8,81,156)",
          "showscale": false,
          "size": 10,
          "symbol": "triangle-right"
         },
         "name": "a_->_26_114_77",
         "showlegend": false,
         "type": "scatter",
         "x": [
          -828.2292966393875,
          -833.1910805328229
         ],
         "y": [
          -101.70205637644924,
          -101.08504698037436
         ]
        },
        {
         "hoverinfo": "skip",
         "line": {
          "color": "rgb(8,48,107)"
         },
         "name": "a113_114_78",
         "showlegend": false,
         "type": "scatter",
         "x": [
          -683,
          -665
         ],
         "y": [
          -53,
          -122
         ]
        },
        {
         "hoverinfo": "skip",
         "marker": {
          "color": "red",
          "showscale": false,
          "size": 10
         },
         "name": "a_bus__or_113_114_78",
         "showlegend": false,
         "type": "scatter",
         "x": [
          -679.2136715427949
         ],
         "y": [
          -67.51425908595266
         ]
        },
        {
         "hoverinfo": "skip",
         "marker": {
          "color": "red",
          "showscale": false,
          "size": 10
         },
         "name": "a_bus__ex_113_114_78",
         "showlegend": false,
         "type": "scatter",
         "x": [
          -668.7863284572051
         ],
         "y": [
          -107.48574091404734
         ]
        },
        {
         "hoverinfo": "skip",
         "marker": {
          "color": "rgb(8,48,107)",
          "showscale": false,
          "size": 10,
          "symbol": "triangle-nw"
         },
         "name": "a_->_113_114_78",
         "showlegend": false,
         "type": "scatter",
         "x": [
          -675.42734308559,
          -676.689452571325
         ],
         "y": [
          -82.02851817190532,
          -77.1904318099211
         ]
        },
        {
         "hoverinfo": "skip",
         "line": {
          "color": "rgb(8,48,107)"
         },
         "name": "a13_14_79",
         "showlegend": false,
         "type": "scatter",
         "x": [
          -544,
          -498
         ],
         "y": [
          498,
          369
         ]
        },
        {
         "hoverinfo": "skip",
         "marker": {
          "color": "red",
          "showscale": false,
          "size": 10
         },
         "name": "a_bus__or_13_14_79",
         "showlegend": false,
         "type": "scatter",
         "x": [
          -538.9618928298656
         ],
         "y": [
          483.8713951098405
         ]
        },
        {
         "hoverinfo": "skip",
         "marker": {
          "color": "red",
          "showscale": false,
          "size": 10
         },
         "name": "a_bus__ex_13_14_79",
         "showlegend": false,
         "type": "scatter",
         "x": [
          -503.0381071701344
         ],
         "y": [
          383.1286048901595
         ]
        },
        {
         "hoverinfo": "skip",
         "marker": {
          "color": "rgb(8,48,107)",
          "showscale": false,
          "size": 10,
          "symbol": "triangle-nw"
         },
         "name": "a_->_13_14_79",
         "showlegend": false,
         "type": "scatter",
         "x": [
          -533.9237856597312,
          -535.6031547164426
         ],
         "y": [
          469.74279021968096,
          474.45232518306744
         ]
        },
        {
         "hoverinfo": "skip",
         "line": {
          "color": "rgb(8,81,156)"
         },
         "name": "a11_116_80",
         "showlegend": false,
         "type": "scatter",
         "x": [
          -705,
          -625
         ],
         "y": [
          505,
          592
         ]
        },
        {
         "hoverinfo": "skip",
         "marker": {
          "color": "red",
          "showscale": false,
          "size": 10
         },
         "name": "a_bus__or_11_116_80",
         "showlegend": false,
         "type": "scatter",
         "x": [
          -694.8469017835329
         ],
         "y": [
          516.041494310408
         ]
        },
        {
         "hoverinfo": "skip",
         "marker": {
          "color": "red",
          "showscale": false,
          "size": 10
         },
         "name": "a_bus__ex_11_116_80",
         "showlegend": false,
         "type": "scatter",
         "x": [
          -635.1530982164671
         ],
         "y": [
          580.958505689592
         ]
        },
        {
         "hoverinfo": "skip",
         "marker": {
          "color": "rgb(8,81,156)",
          "showscale": false,
          "size": 10,
          "symbol": "triangle-ne"
         },
         "name": "a_->_11_116_80",
         "showlegend": false,
         "type": "scatter",
         "x": [
          -684.6938035670657,
          -688.0781696392214
         ],
         "y": [
          527.082988620816,
          523.4024905173467
         ]
        },
        {
         "hoverinfo": "skip",
         "line": {
          "color": "rgb(8,81,156)"
         },
         "name": "a74_117_81",
         "showlegend": false,
         "type": "scatter",
         "x": [
          160,
          299
         ],
         "y": [
          -207,
          -172
         ]
        },
        {
         "hoverinfo": "skip",
         "marker": {
          "color": "red",
          "showscale": false,
          "size": 10
         },
         "name": "a_bus__or_74_117_81",
         "showlegend": false,
         "type": "scatter",
         "x": [
          174.54596095295108
         ],
         "y": [
          -203.33734796148713
         ]
        },
        {
         "hoverinfo": "skip",
         "marker": {
          "color": "red",
          "showscale": false,
          "size": 10
         },
         "name": "a_bus__ex_74_117_81",
         "showlegend": false,
         "type": "scatter",
         "x": [
          284.4540390470489
         ],
         "y": [
          -175.66265203851287
         ]
        },
        {
         "hoverinfo": "skip",
         "marker": {
          "color": "rgb(8,81,156)",
          "showscale": false,
          "size": 10,
          "symbol": "triangle-right"
         },
         "name": "a_->_74_117_81",
         "showlegend": false,
         "type": "scatter",
         "x": [
          189.09192190590215,
          184.24326825491846
         ],
         "y": [
          -199.67469592297428,
          -200.8955799358119
         ]
        },
        {
         "hoverinfo": "skip",
         "line": {
          "color": "rgb(8,81,156)"
         },
         "name": "a75_117_82",
         "showlegend": false,
         "type": "scatter",
         "x": [
          398,
          299
         ],
         "y": [
          -207,
          -172
         ]
        },
        {
         "hoverinfo": "skip",
         "marker": {
          "color": "red",
          "showscale": false,
          "size": 10
         },
         "name": "a_bus__or_75_117_82",
         "showlegend": false,
         "type": "scatter",
         "x": [
          383.8577842129304
         ],
         "y": [
          -202.0002267419451
         ]
        },
        {
         "hoverinfo": "skip",
         "marker": {
          "color": "red",
          "showscale": false,
          "size": 10
         },
         "name": "a_bus__ex_75_117_82",
         "showlegend": false,
         "type": "scatter",
         "x": [
          313.1422157870696
         ],
         "y": [
          -176.9997732580549
         ]
        },
        {
         "hoverinfo": "skip",
         "marker": {
          "color": "rgb(8,81,156)",
          "showscale": false,
          "size": 10,
          "symbol": "triangle-se"
         },
         "name": "a_->_75_117_82",
         "showlegend": false,
         "type": "scatter",
         "x": [
          369.7155684258609,
          374.4296403548841
         ],
         "y": [
          -197.00045348389023,
          -198.6670445699085
         ]
        },
        {
         "hoverinfo": "skip",
         "line": {
          "color": "rgb(8,81,156)"
         },
         "name": "a11_15_83",
         "showlegend": false,
         "type": "scatter",
         "x": [
          -705,
          -747
         ],
         "y": [
          505,
          268
         ]
        },
        {
         "hoverinfo": "skip",
         "marker": {
          "color": "red",
          "showscale": false,
          "size": 10
         },
         "name": "a_bus__or_11_15_83",
         "showlegend": false,
         "type": "scatter",
         "x": [
          -707.6174448522866
         ],
         "y": [
          490.23013261924
         ]
        },
        {
         "hoverinfo": "skip",
         "marker": {
          "color": "red",
          "showscale": false,
          "size": 10
         },
         "name": "a_bus__ex_11_15_83",
         "showlegend": false,
         "type": "scatter",
         "x": [
          -744.3825551477134
         ],
         "y": [
          282.76986738076
         ]
        },
        {
         "hoverinfo": "skip",
         "marker": {
          "color": "rgb(8,81,156)",
          "showscale": false,
          "size": 10,
          "symbol": "triangle-down"
         },
         "name": "a_->_11_15_83",
         "showlegend": false,
         "type": "scatter",
         "x": [
          -710.2348897045732,
          -709.3624080871443
         ],
         "y": [
          475.46026523847996,
          480.38355436539996
         ]
        },
        {
         "hoverinfo": "skip",
         "line": {
          "color": "rgb(33,113,181)"
         },
         "name": "a14_16_84",
         "showlegend": false,
         "type": "scatter",
         "x": [
          -498,
          -586
         ],
         "y": [
          369,
          205
         ]
        },
        {
         "hoverinfo": "skip",
         "marker": {
          "color": "red",
          "showscale": false,
          "size": 10
         },
         "name": "a_bus__or_14_16_84",
         "showlegend": false,
         "type": "scatter",
         "x": [
          -505.09226557221893
         ],
         "y": [
          355.7825959790465
         ]
        },
        {
         "hoverinfo": "skip",
         "marker": {
          "color": "red",
          "showscale": false,
          "size": 10
         },
         "name": "a_bus__ex_14_16_84",
         "showlegend": false,
         "type": "scatter",
         "x": [
          -578.9077344277811
         ],
         "y": [
          218.2174040209535
         ]
        },
        {
         "hoverinfo": "skip",
         "marker": {
          "color": "rgb(33,113,181)",
          "showscale": false,
          "size": 10,
          "symbol": "triangle-ne"
         },
         "name": "a_->_14_16_84",
         "showlegend": false,
         "type": "scatter",
         "x": [
          -512.1845311444379,
          -509.82044262036493
         ],
         "y": [
          342.56519195809295,
          346.9709932984108
         ]
        },
        {
         "hoverinfo": "skip",
         "line": {
          "color": "rgb(8,81,156)"
         },
         "name": "a3_4_85",
         "showlegend": false,
         "type": "scatter",
         "x": [
          -940,
          -977
         ],
         "y": [
          461,
          348
         ]
        },
        {
         "hoverinfo": "skip",
         "marker": {
          "color": "red",
          "showscale": false,
          "size": 10
         },
         "name": "a_bus__or_3_4_85",
         "showlegend": false,
         "type": "scatter",
         "x": [
          -944.6676576425608
         ],
         "y": [
          446.74472125380066
         ]
        },
        {
         "hoverinfo": "skip",
         "marker": {
          "color": "red",
          "showscale": false,
          "size": 10
         },
         "name": "a_bus__ex_3_4_85",
         "showlegend": false,
         "type": "scatter",
         "x": [
          -972.3323423574392
         ],
         "y": [
          362.25527874619934
         ]
        },
        {
         "hoverinfo": "skip",
         "marker": {
          "color": "rgb(8,81,156)",
          "showscale": false,
          "size": 10,
          "symbol": "triangle-ne"
         },
         "name": "a_->_3_4_85",
         "showlegend": false,
         "type": "scatter",
         "x": [
          -949.3353152851216,
          -947.7794294042681
         ],
         "y": [
          432.4894425076013,
          437.24120208966775
         ]
        },
        {
         "hoverinfo": "skip",
         "line": {
          "color": "rgb(8,81,156)"
         },
         "name": "a15_16_86",
         "showlegend": false,
         "type": "scatter",
         "x": [
          -747,
          -586
         ],
         "y": [
          268,
          205
         ]
        },
        {
         "hoverinfo": "skip",
         "marker": {
          "color": "red",
          "showscale": false,
          "size": 10
         },
         "name": "a_bus__or_15_16_86",
         "showlegend": false,
         "type": "scatter",
         "x": [
          -733.0313583044137
         ],
         "y": [
          262.5340097712923
         ]
        },
        {
         "hoverinfo": "skip",
         "marker": {
          "color": "red",
          "showscale": false,
          "size": 10
         },
         "name": "a_bus__ex_15_16_86",
         "showlegend": false,
         "type": "scatter",
         "x": [
          -599.9686416955863
         ],
         "y": [
          210.46599022870768
         ]
        },
        {
         "hoverinfo": "skip",
         "marker": {
          "color": "rgb(8,81,156)",
          "showscale": false,
          "size": 10,
          "symbol": "triangle-nw"
         },
         "name": "a_->_15_16_86",
         "showlegend": false,
         "type": "scatter",
         "x": [
          -719.0627166088274,
          -723.7189305073562
         ],
         "y": [
          257.06801954258464,
          258.8900162854872
         ]
        },
        {
         "hoverinfo": "skip",
         "line": {
          "color": "rgb(33,113,181)"
         },
         "name": "a16_17_87",
         "showlegend": false,
         "type": "scatter",
         "x": [
          -586,
          -427
         ],
         "y": [
          205,
          205
         ]
        },
        {
         "hoverinfo": "skip",
         "marker": {
          "color": "red",
          "showscale": false,
          "size": 10
         },
         "name": "a_bus__or_16_17_87",
         "showlegend": false,
         "type": "scatter",
         "x": [
          -571
         ],
         "y": [
          205
         ]
        },
        {
         "hoverinfo": "skip",
         "marker": {
          "color": "red",
          "showscale": false,
          "size": 10
         },
         "name": "a_bus__ex_16_17_87",
         "showlegend": false,
         "type": "scatter",
         "x": [
          -442
         ],
         "y": [
          205
         ]
        },
        {
         "hoverinfo": "skip",
         "marker": {
          "color": "rgb(33,113,181)",
          "showscale": false,
          "size": 10,
          "symbol": "triangle-right"
         },
         "name": "a_->_16_17_87",
         "showlegend": false,
         "type": "scatter",
         "x": [
          -556,
          -561
         ],
         "y": [
          205,
          205
         ]
        },
        {
         "hoverinfo": "skip",
         "line": {
          "color": "rgb(8,48,107)"
         },
         "name": "a17_18_88",
         "showlegend": false,
         "type": "scatter",
         "x": [
          -427,
          -307
         ],
         "y": [
          205,
          311
         ]
        },
        {
         "hoverinfo": "skip",
         "marker": {
          "color": "red",
          "showscale": false,
          "size": 10
         },
         "name": "a_bus__or_17_18_88",
         "showlegend": false,
         "type": "scatter",
         "x": [
          -415.7579018232717
         ],
         "y": [
          214.93052005610997
         ]
        },
        {
         "hoverinfo": "skip",
         "marker": {
          "color": "red",
          "showscale": false,
          "size": 10
         },
         "name": "a_bus__ex_17_18_88",
         "showlegend": false,
         "type": "scatter",
         "x": [
          -318.2420981767283
         ],
         "y": [
          301.06947994389003
         ]
        },
        {
         "hoverinfo": "skip",
         "marker": {
          "color": "rgb(8,48,107)",
          "showscale": false,
          "size": 10,
          "symbol": "triangle-ne"
         },
         "name": "a_->_17_18_88",
         "showlegend": false,
         "type": "scatter",
         "x": [
          -404.5158036465434,
          -408.26316970545287
         ],
         "y": [
          224.86104011221997,
          221.5508667601833
         ]
        },
        {
         "hoverinfo": "skip",
         "line": {
          "color": "rgb(8,81,156)"
         },
         "name": "a18_19_89",
         "showlegend": false,
         "type": "scatter",
         "x": [
          -307,
          -274
         ],
         "y": [
          311,
          222
         ]
        },
        {
         "hoverinfo": "skip",
         "marker": {
          "color": "red",
          "showscale": false,
          "size": 10
         },
         "name": "a_bus__or_18_19_89",
         "showlegend": false,
         "type": "scatter",
         "x": [
          -301.78513820184975
         ],
         "y": [
          296.9356757565039
         ]
        },
        {
         "hoverinfo": "skip",
         "marker": {
          "color": "red",
          "showscale": false,
          "size": 10
         },
         "name": "a_bus__ex_18_19_89",
         "showlegend": false,
         "type": "scatter",
         "x": [
          -279.21486179815025
         ],
         "y": [
          236.06432424349615
         ]
        },
        {
         "hoverinfo": "skip",
         "marker": {
          "color": "rgb(8,81,156)",
          "showscale": false,
          "size": 10,
          "symbol": "triangle-se"
         },
         "name": "a_->_18_19_89",
         "showlegend": false,
         "type": "scatter",
         "x": [
          -296.5702764036995,
          -298.30856366974956
         ],
         "y": [
          282.87135151300777,
          287.5594595941731
         ]
        },
        {
         "hoverinfo": "skip",
         "line": {
          "color": "rgb(8,81,156)"
         },
         "name": "a14_18_90",
         "showlegend": false,
         "type": "scatter",
         "x": [
          -498,
          -307
         ],
         "y": [
          369,
          311
         ]
        },
        {
         "hoverinfo": "skip",
         "marker": {
          "color": "red",
          "showscale": false,
          "size": 10
         },
         "name": "a_bus__or_14_18_90",
         "showlegend": false,
         "type": "scatter",
         "x": [
          -483.647164389082
         ],
         "y": [
          364.6415473013966
         ]
        },
        {
         "hoverinfo": "skip",
         "marker": {
          "color": "red",
          "showscale": false,
          "size": 10
         },
         "name": "a_bus__ex_14_18_90",
         "showlegend": false,
         "type": "scatter",
         "x": [
          -321.352835610918
         ],
         "y": [
          315.3584526986034
         ]
        },
        {
         "hoverinfo": "skip",
         "marker": {
          "color": "rgb(8,81,156)",
          "showscale": false,
          "size": 10,
          "symbol": "triangle-se"
         },
         "name": "a_->_14_18_90",
         "showlegend": false,
         "type": "scatter",
         "x": [
          -469.2943287781639,
          -474.0786073151366
         ],
         "y": [
          360.28309460279326,
          361.7359121689944
         ]
        },
        {
         "hoverinfo": "skip",
         "line": {
          "color": "rgb(33,113,181)"
         },
         "name": "a19_20_91",
         "showlegend": false,
         "type": "scatter",
         "x": [
          -274,
          -285
         ],
         "y": [
          222,
          82
         ]
        },
        {
         "hoverinfo": "skip",
         "marker": {
          "color": "red",
          "showscale": false,
          "size": 10
         },
         "name": "a_bus__or_19_20_91",
         "showlegend": false,
         "type": "scatter",
         "x": [
          -275.1749502490851
         ],
         "y": [
          207.04608773891678
         ]
        },
        {
         "hoverinfo": "skip",
         "marker": {
          "color": "red",
          "showscale": false,
          "size": 10
         },
         "name": "a_bus__ex_19_20_91",
         "showlegend": false,
         "type": "scatter",
         "x": [
          -283.8250497509149
         ],
         "y": [
          96.95391226108322
         ]
        },
        {
         "hoverinfo": "skip",
         "marker": {
          "color": "rgb(33,113,181)",
          "showscale": false,
          "size": 10,
          "symbol": "triangle-up"
         },
         "name": "a_->_19_20_91",
         "showlegend": false,
         "type": "scatter",
         "x": [
          -276.3499004981702,
          -275.95825041514183
         ],
         "y": [
          192.09217547783356,
          197.07681289819465
         ]
        },
        {
         "hoverinfo": "skip",
         "line": {
          "color": "rgb(66,146,198)"
         },
         "name": "a20_21_92",
         "showlegend": false,
         "type": "scatter",
         "x": [
          -285,
          -314
         ],
         "y": [
          82,
          0
         ]
        },
        {
         "hoverinfo": "skip",
         "marker": {
          "color": "red",
          "showscale": false,
          "size": 10
         },
         "name": "a_bus__or_20_21_92",
         "showlegend": false,
         "type": "scatter",
         "x": [
          -290.0013217023757
         ],
         "y": [
          67.85833173811004
         ]
        },
        {
         "hoverinfo": "skip",
         "marker": {
          "color": "red",
          "showscale": false,
          "size": 10
         },
         "name": "a_bus__ex_20_21_92",
         "showlegend": false,
         "type": "scatter",
         "x": [
          -308.9986782976243
         ],
         "y": [
          14.141668261889956
         ]
        },
        {
         "hoverinfo": "skip",
         "marker": {
          "color": "rgb(66,146,198)",
          "showscale": false,
          "size": 10,
          "symbol": "triangle-ne"
         },
         "name": "a_->_20_21_92",
         "showlegend": false,
         "type": "scatter",
         "x": [
          -295.00264340475144,
          -293.3355361706262
         ],
         "y": [
          53.71666347622009,
          58.430552896850074
         ]
        },
        {
         "hoverinfo": "skip",
         "line": {
          "color": "rgb(253,141,60)"
         },
         "name": "a21_22_93",
         "showlegend": false,
         "type": "scatter",
         "x": [
          -314,
          -348
         ],
         "y": [
          0,
          -115
         ]
        },
        {
         "hoverinfo": "skip",
         "marker": {
          "color": "red",
          "showscale": false,
          "size": 10
         },
         "name": "a_bus__or_21_22_93",
         "showlegend": false,
         "type": "scatter",
         "x": [
          -318.25280659711177
         ],
         "y": [
          -14.384492901995634
         ]
        },
        {
         "hoverinfo": "skip",
         "marker": {
          "color": "red",
          "showscale": false,
          "size": 10
         },
         "name": "a_bus__ex_21_22_93",
         "showlegend": false,
         "type": "scatter",
         "x": [
          -343.74719340288823
         ],
         "y": [
          -100.61550709800437
         ]
        },
        {
         "hoverinfo": "skip",
         "marker": {
          "color": "rgb(253,141,60)",
          "showscale": false,
          "size": 10,
          "symbol": "triangle-ne"
         },
         "name": "a_->_21_22_93",
         "showlegend": false,
         "type": "scatter",
         "x": [
          -322.50561319422354,
          -321.08801099518627
         ],
         "y": [
          -28.768985803991264,
          -23.974154836659388
         ]
        },
        {
         "hoverinfo": "skip",
         "line": {
          "color": "rgb(8,48,107)"
         },
         "name": "a22_23_94",
         "showlegend": false,
         "type": "scatter",
         "x": [
          -348,
          -49
         ],
         "y": [
          -115,
          43
         ]
        },
        {
         "hoverinfo": "skip",
         "marker": {
          "color": "red",
          "showscale": false,
          "size": 10
         },
         "name": "a_bus__or_22_23_94",
         "showlegend": false,
         "type": "scatter",
         "x": [
          -334.7377906176857
         ],
         "y": [
          -107.99187597857639
         ]
        },
        {
         "hoverinfo": "skip",
         "marker": {
          "color": "red",
          "showscale": false,
          "size": 10
         },
         "name": "a_bus__ex_22_23_94",
         "showlegend": false,
         "type": "scatter",
         "x": [
          -62.262209382314296
         ],
         "y": [
          35.99187597857639
         ]
        },
        {
         "hoverinfo": "skip",
         "marker": {
          "color": "rgb(8,48,107)",
          "showscale": false,
          "size": 10,
          "symbol": "triangle-ne"
         },
         "name": "a_->_22_23_94",
         "showlegend": false,
         "type": "scatter",
         "x": [
          -321.4755812353714,
          -325.89631769614283
         ],
         "y": [
          -100.98375195715278,
          -103.31979329762731
         ]
        },
        {
         "hoverinfo": "skip",
         "line": {
          "color": "rgb(33,113,181)"
         },
         "name": "a22_24_95",
         "showlegend": false,
         "type": "scatter",
         "x": [
          -348,
          -462
         ],
         "y": [
          -115,
          -236
         ]
        },
        {
         "hoverinfo": "skip",
         "marker": {
          "color": "red",
          "showscale": false,
          "size": 10
         },
         "name": "a_bus__or_22_24_95",
         "showlegend": false,
         "type": "scatter",
         "x": [
          -358.2860980808066
         ],
         "y": [
          -125.91770059454035
         ]
        },
        {
         "hoverinfo": "skip",
         "marker": {
          "color": "red",
          "showscale": false,
          "size": 10
         },
         "name": "a_bus__ex_22_24_95",
         "showlegend": false,
         "type": "scatter",
         "x": [
          -451.7139019191934
         ],
         "y": [
          -225.08229940545965
         ]
        },
        {
         "hoverinfo": "skip",
         "marker": {
          "color": "rgb(33,113,181)",
          "showscale": false,
          "size": 10,
          "symbol": "triangle-ne"
         },
         "name": "a_->_22_24_95",
         "showlegend": false,
         "type": "scatter",
         "x": [
          -368.5721961616132,
          -365.1434968013443
         ],
         "y": [
          -136.83540118908067,
          -133.19616765756723
         ]
        },
        {
         "hoverinfo": "skip",
         "line": {
          "color": "rgb(33,113,181)"
         },
         "name": "a2_4_96",
         "showlegend": false,
         "type": "scatter",
         "x": [
          -1006,
          -977
         ],
         "y": [
          524,
          348
         ]
        },
        {
         "hoverinfo": "skip",
         "marker": {
          "color": "red",
          "showscale": false,
          "size": 10
         },
         "name": "a_bus__or_2_4_96",
         "showlegend": false,
         "type": "scatter",
         "x": [
          -1003.5612928982756
         ],
         "y": [
          509.1995706929833
         ]
        },
        {
         "hoverinfo": "skip",
         "marker": {
          "color": "red",
          "showscale": false,
          "size": 10
         },
         "name": "a_bus__ex_2_4_96",
         "showlegend": false,
         "type": "scatter",
         "x": [
          -979.4387071017244
         ],
         "y": [
          362.8004293070167
         ]
        },
        {
         "hoverinfo": "skip",
         "marker": {
          "color": "rgb(33,113,181)",
          "showscale": false,
          "size": 10,
          "symbol": "triangle-up"
         },
         "name": "a_->_2_4_96",
         "showlegend": false,
         "type": "scatter",
         "x": [
          -1001.1225857965513,
          -1001.9354881637928
         ],
         "y": [
          494.3991413859666,
          499.3326178216388
         ]
        },
        {
         "hoverinfo": "skip",
         "line": {
          "color": "rgb(33,113,181)"
         },
         "name": "a24_26_97",
         "showlegend": false,
         "type": "scatter",
         "x": [
          -462,
          -858
         ],
         "y": [
          -236,
          -98
         ]
        },
        {
         "hoverinfo": "skip",
         "marker": {
          "color": "red",
          "showscale": false,
          "size": 10
         },
         "name": "a_bus__or_24_26_97",
         "showlegend": false,
         "type": "scatter",
         "x": [
          -476.1645542005785
         ],
         "y": [
          -231.06386747555598
         ]
        },
        {
         "hoverinfo": "skip",
         "marker": {
          "color": "red",
          "showscale": false,
          "size": 10
         },
         "name": "a_bus__ex_24_26_97",
         "showlegend": false,
         "type": "scatter",
         "x": [
          -843.8354457994214
         ],
         "y": [
          -102.93613252444402
         ]
        },
        {
         "hoverinfo": "skip",
         "marker": {
          "color": "rgb(33,113,181)",
          "showscale": false,
          "size": 10,
          "symbol": "triangle-nw"
         },
         "name": "a_->_24_26_97",
         "showlegend": false,
         "type": "scatter",
         "x": [
          -490.329108401157,
          -485.60759033429747
         ],
         "y": [
          -226.12773495111196,
          -227.77311245925998
         ]
        },
        {
         "hoverinfo": "skip",
         "line": {
          "color": "rgb(8,81,156)"
         },
         "name": "a26_27_98",
         "showlegend": false,
         "type": "scatter",
         "x": [
          -858,
          -879
         ],
         "y": [
          -98,
          -22
         ]
        },
        {
         "hoverinfo": "skip",
         "marker": {
          "color": "red",
          "showscale": false,
          "size": 10
         },
         "name": "a_bus__or_26_27_98",
         "showlegend": false,
         "type": "scatter",
         "x": [
          -861.9950306915964
         ],
         "y": [
          -83.54179368755575
         ]
        },
        {
         "hoverinfo": "skip",
         "marker": {
          "color": "red",
          "showscale": false,
          "size": 10
         },
         "name": "a_bus__ex_26_27_98",
         "showlegend": false,
         "type": "scatter",
         "x": [
          -875.0049693084036
         ],
         "y": [
          -36.45820631244424
         ]
        },
        {
         "hoverinfo": "skip",
         "marker": {
          "color": "rgb(8,81,156)",
          "showscale": false,
          "size": 10,
          "symbol": "triangle-nw"
         },
         "name": "a_->_26_27_98",
         "showlegend": false,
         "type": "scatter",
         "x": [
          -865.9900613831928,
          -864.658384485994
         ],
         "y": [
          -69.0835873751115,
          -73.90298947925959
         ]
        },
        {
         "hoverinfo": "skip",
         "line": {
          "color": "rgb(8,81,156)"
         },
         "name": "a27_28_99",
         "showlegend": false,
         "type": "scatter",
         "x": [
          -879,
          -876
         ],
         "y": [
          -22,
          56
         ]
        },
        {
         "hoverinfo": "skip",
         "marker": {
          "color": "red",
          "showscale": false,
          "size": 10
         },
         "name": "a_bus__or_27_28_99",
         "showlegend": false,
         "type": "scatter",
         "x": [
          -878.423503168482
         ],
         "y": [
          -7.011082380530285
         ]
        },
        {
         "hoverinfo": "skip",
         "marker": {
          "color": "red",
          "showscale": false,
          "size": 10
         },
         "name": "a_bus__ex_27_28_99",
         "showlegend": false,
         "type": "scatter",
         "x": [
          -876.576496831518
         ],
         "y": [
          41.01108238053028
         ]
        },
        {
         "hoverinfo": "skip",
         "marker": {
          "color": "rgb(8,81,156)",
          "showscale": false,
          "size": 10,
          "symbol": "triangle-up"
         },
         "name": "a_->_27_28_99",
         "showlegend": false,
         "type": "scatter",
         "x": [
          -877.8470063369639,
          -878.0391719474699
         ],
         "y": [
          7.97783523893943,
          2.9815293657828583
         ]
        },
        {
         "hoverinfo": "skip",
         "line": {
          "color": "rgb(8,81,156)"
         },
         "name": "a7_29_100",
         "showlegend": false,
         "type": "scatter",
         "x": [
          -969,
          -562
         ],
         "y": [
          131,
          131
         ]
        },
        {
         "hoverinfo": "skip",
         "marker": {
          "color": "red",
          "showscale": false,
          "size": 10
         },
         "name": "a_bus__or_7_29_100",
         "showlegend": false,
         "type": "scatter",
         "x": [
          -954
         ],
         "y": [
          131
         ]
        },
        {
         "hoverinfo": "skip",
         "marker": {
          "color": "red",
          "showscale": false,
          "size": 10
         },
         "name": "a_bus__ex_7_29_100",
         "showlegend": false,
         "type": "scatter",
         "x": [
          -577
         ],
         "y": [
          131
         ]
        },
        {
         "hoverinfo": "skip",
         "marker": {
          "color": "rgb(8,81,156)",
          "showscale": false,
          "size": 10,
          "symbol": "triangle-right"
         },
         "name": "a_->_7_29_100",
         "showlegend": false,
         "type": "scatter",
         "x": [
          -939,
          -944
         ],
         "y": [
          131,
          131
         ]
        },
        {
         "hoverinfo": "skip",
         "line": {
          "color": "rgb(66,146,198)"
         },
         "name": "a25_29_101",
         "showlegend": false,
         "type": "scatter",
         "x": [
          -493,
          -562
         ],
         "y": [
          -122,
          131
         ]
        },
        {
         "hoverinfo": "skip",
         "marker": {
          "color": "red",
          "showscale": false,
          "size": 10
         },
         "name": "a_bus__or_25_29_101",
         "showlegend": false,
         "type": "scatter",
         "x": [
          -496.9467610868816
         ],
         "y": [
          -107.52854268143402
         ]
        },
        {
         "hoverinfo": "skip",
         "marker": {
          "color": "red",
          "showscale": false,
          "size": 10
         },
         "name": "a_bus__ex_25_29_101",
         "showlegend": false,
         "type": "scatter",
         "x": [
          -558.0532389131183
         ],
         "y": [
          116.52854268143402
         ]
        },
        {
         "hoverinfo": "skip",
         "marker": {
          "color": "rgb(66,146,198)",
          "showscale": false,
          "size": 10,
          "symbol": "triangle-nw"
         },
         "name": "a_->_25_29_101",
         "showlegend": false,
         "type": "scatter",
         "x": [
          -500.89352217376324,
          -499.5779351448027
         ],
         "y": [
          -93.05708536286804,
          -97.8809044690567
         ]
        },
        {
         "hoverinfo": "skip",
         "line": {
          "color": "rgb(8,81,156)"
         },
         "name": "a16_30_102",
         "showlegend": false,
         "type": "scatter",
         "x": [
          -586,
          -773
         ],
         "y": [
          205,
          56
         ]
        },
        {
         "hoverinfo": "skip",
         "marker": {
          "color": "red",
          "showscale": false,
          "size": 10
         },
         "name": "a_bus__or_16_30_102",
         "showlegend": false,
         "type": "scatter",
         "x": [
          -597.7313710023101
         ],
         "y": [
          195.65254396072615
         ]
        },
        {
         "hoverinfo": "skip",
         "marker": {
          "color": "red",
          "showscale": false,
          "size": 10
         },
         "name": "a_bus__ex_16_30_102",
         "showlegend": false,
         "type": "scatter",
         "x": [
          -761.2686289976899
         ],
         "y": [
          65.34745603927385
         ]
        },
        {
         "hoverinfo": "skip",
         "marker": {
          "color": "rgb(8,81,156)",
          "showscale": false,
          "size": 10,
          "symbol": "triangle-sw"
         },
         "name": "a_->_16_30_102",
         "showlegend": false,
         "type": "scatter",
         "x": [
          -609.4627420046203,
          -605.5522850038502
         ],
         "y": [
          186.3050879214523,
          189.42090660121025
         ]
        },
        {
         "hoverinfo": "skip",
         "line": {
          "color": "rgb(8,48,107)"
         },
         "name": "a28_30_103",
         "showlegend": false,
         "type": "scatter",
         "x": [
          -876,
          -773
         ],
         "y": [
          56,
          56
         ]
        },
        {
         "hoverinfo": "skip",
         "marker": {
          "color": "red",
          "showscale": false,
          "size": 10
         },
         "name": "a_bus__or_28_30_103",
         "showlegend": false,
         "type": "scatter",
         "x": [
          -861
         ],
         "y": [
          56
         ]
        },
        {
         "hoverinfo": "skip",
         "marker": {
          "color": "red",
          "showscale": false,
          "size": 10
         },
         "name": "a_bus__ex_28_30_103",
         "showlegend": false,
         "type": "scatter",
         "x": [
          -788
         ],
         "y": [
          56
         ]
        },
        {
         "hoverinfo": "skip",
         "marker": {
          "color": "rgb(8,48,107)",
          "showscale": false,
          "size": 10,
          "symbol": "triangle-left"
         },
         "name": "a_->_28_30_103",
         "showlegend": false,
         "type": "scatter",
         "x": [
          -846,
          -851
         ],
         "y": [
          56,
          56
         ]
        },
        {
         "hoverinfo": "skip",
         "line": {
          "color": "rgb(8,81,156)"
         },
         "name": "a22_31_104",
         "showlegend": false,
         "type": "scatter",
         "x": [
          -348,
          -686
         ],
         "y": [
          -115,
          7
         ]
        },
        {
         "hoverinfo": "skip",
         "marker": {
          "color": "red",
          "showscale": false,
          "size": 10
         },
         "name": "a_bus__or_22_31_104",
         "showlegend": false,
         "type": "scatter",
         "x": [
          -362.1090491731626
         ],
         "y": [
          -109.90738461797089
         ]
        },
        {
         "hoverinfo": "skip",
         "marker": {
          "color": "red",
          "showscale": false,
          "size": 10
         },
         "name": "a_bus__ex_22_31_104",
         "showlegend": false,
         "type": "scatter",
         "x": [
          -671.8909508268374
         ],
         "y": [
          1.9073846179708926
         ]
        },
        {
         "hoverinfo": "skip",
         "marker": {
          "color": "rgb(8,81,156)",
          "showscale": false,
          "size": 10,
          "symbol": "triangle-nw"
         },
         "name": "a_->_22_31_104",
         "showlegend": false,
         "type": "scatter",
         "x": [
          -376.2180983463252,
          -371.515081955271
         ],
         "y": [
          -104.81476923594178,
          -106.51230769661815
         ]
        },
        {
         "hoverinfo": "skip",
         "line": {
          "color": "rgb(33,113,181)"
         },
         "name": "a30_31_105",
         "showlegend": false,
         "type": "scatter",
         "x": [
          -773,
          -686
         ],
         "y": [
          56,
          7
         ]
        },
        {
         "hoverinfo": "skip",
         "marker": {
          "color": "red",
          "showscale": false,
          "size": 10
         },
         "name": "a_bus__or_30_31_105",
         "showlegend": false,
         "type": "scatter",
         "x": [
          -759.9303808458508
         ],
         "y": [
          48.63895013157114
         ]
        },
        {
         "hoverinfo": "skip",
         "marker": {
          "color": "red",
          "showscale": false,
          "size": 10
         },
         "name": "a_bus__ex_30_31_105",
         "showlegend": false,
         "type": "scatter",
         "x": [
          -699.0696191541492
         ],
         "y": [
          14.361049868428857
         ]
        },
        {
         "hoverinfo": "skip",
         "marker": {
          "color": "rgb(33,113,181)",
          "showscale": false,
          "size": 10,
          "symbol": "triangle-nw"
         },
         "name": "a_->_30_31_105",
         "showlegend": false,
         "type": "scatter",
         "x": [
          -746.8607616917017,
          -751.2173014097514
         ],
         "y": [
          41.277900263142286,
          43.731583552618574
         ]
        },
        {
         "hoverinfo": "skip",
         "line": {
          "color": "rgb(8,81,156)"
         },
         "name": "a26_31_106",
         "showlegend": false,
         "type": "scatter",
         "x": [
          -858,
          -686
         ],
         "y": [
          -98,
          7
         ]
        },
        {
         "hoverinfo": "skip",
         "marker": {
          "color": "red",
          "showscale": false,
          "size": 10
         },
         "name": "a_bus__or_26_31_106",
         "showlegend": false,
         "type": "scatter",
         "x": [
          -845.1970939544527
         ],
         "y": [
          -90.18427247219498
         ]
        },
        {
         "hoverinfo": "skip",
         "marker": {
          "color": "red",
          "showscale": false,
          "size": 10
         },
         "name": "a_bus__ex_26_31_106",
         "showlegend": false,
         "type": "scatter",
         "x": [
          -698.8029060455473
         ],
         "y": [
          -0.81572752780502
         ]
        },
        {
         "hoverinfo": "skip",
         "marker": {
          "color": "rgb(8,81,156)",
          "showscale": false,
          "size": 10,
          "symbol": "triangle-ne"
         },
         "name": "a_->_26_31_106",
         "showlegend": false,
         "type": "scatter",
         "x": [
          -832.3941879089055,
          -836.6618232574212
         ],
         "y": [
          -82.36854494438997,
          -84.9737874536583
         ]
        },
        {
         "hoverinfo": "skip",
         "line": {
          "color": "rgb(33,113,181)"
         },
         "name": "a4_5_107",
         "showlegend": false,
         "type": "scatter",
         "x": [
          -977,
          -874
         ],
         "y": [
          348,
          352
         ]
        },
        {
         "hoverinfo": "skip",
         "marker": {
          "color": "red",
          "showscale": false,
          "size": 10
         },
         "name": "a_bus__or_4_5_107",
         "showlegend": false,
         "type": "scatter",
         "x": [
          -962.0112983727546
         ],
         "y": [
          348.5820855000872
         ]
        },
        {
         "hoverinfo": "skip",
         "marker": {
          "color": "red",
          "showscale": false,
          "size": 10
         },
         "name": "a_bus__ex_4_5_107",
         "showlegend": false,
         "type": "scatter",
         "x": [
          -888.9887016272454
         ],
         "y": [
          351.4179144999128
         ]
        },
        {
         "hoverinfo": "skip",
         "marker": {
          "color": "rgb(33,113,181)",
          "showscale": false,
          "size": 10,
          "symbol": "triangle-right"
         },
         "name": "a_->_4_5_107",
         "showlegend": false,
         "type": "scatter",
         "x": [
          -947.0225967455093,
          -952.0188306212577
         ],
         "y": [
          349.1641710001744,
          348.97014250014536
         ]
        },
        {
         "hoverinfo": "skip",
         "line": {
          "color": "rgb(8,48,107)"
         },
         "name": "a14_32_108",
         "showlegend": false,
         "type": "scatter",
         "x": [
          -498,
          -12
         ],
         "y": [
          369,
          480
         ]
        },
        {
         "hoverinfo": "skip",
         "marker": {
          "color": "red",
          "showscale": false,
          "size": 10
         },
         "name": "a_bus__or_14_32_108",
         "showlegend": false,
         "type": "scatter",
         "x": [
          -483.3765623701686
         ],
         "y": [
          372.33992094014667
         ]
        },
        {
         "hoverinfo": "skip",
         "marker": {
          "color": "red",
          "showscale": false,
          "size": 10
         },
         "name": "a_bus__ex_14_32_108",
         "showlegend": false,
         "type": "scatter",
         "x": [
          -26.62343762983142
         ],
         "y": [
          476.66007905985333
         ]
        },
        {
         "hoverinfo": "skip",
         "marker": {
          "color": "rgb(8,48,107)",
          "showscale": false,
          "size": 10,
          "symbol": "triangle-right"
         },
         "name": "a_->_14_32_108",
         "showlegend": false,
         "type": "scatter",
         "x": [
          -468.75312474033717,
          -473.62760395028096
         ],
         "y": [
          375.67984188029334,
          374.56653490024445
         ]
        },
        {
         "hoverinfo": "skip",
         "line": {
          "color": "rgb(8,48,107)"
         },
         "name": "a18_33_109",
         "showlegend": false,
         "type": "scatter",
         "x": [
          -307,
          40
         ],
         "y": [
          311,
          373
         ]
        },
        {
         "hoverinfo": "skip",
         "marker": {
          "color": "red",
          "showscale": false,
          "size": 10
         },
         "name": "a_bus__or_18_33_109",
         "showlegend": false,
         "type": "scatter",
         "x": [
          -292.2338494429732
         ],
         "y": [
          313.6383323761835
         ]
        },
        {
         "hoverinfo": "skip",
         "marker": {
          "color": "red",
          "showscale": false,
          "size": 10
         },
         "name": "a_bus__ex_18_33_109",
         "showlegend": false,
         "type": "scatter",
         "x": [
          25.233849442973224
         ],
         "y": [
          370.3616676238165
         ]
        },
        {
         "hoverinfo": "skip",
         "marker": {
          "color": "rgb(8,48,107)",
          "showscale": false,
          "size": 10,
          "symbol": "triangle-right"
         },
         "name": "a_->_18_33_109",
         "showlegend": false,
         "type": "scatter",
         "x": [
          -277.46769888594645,
          -282.389749071622
         ],
         "y": [
          316.27666475236697,
          315.39722062697246
         ]
        },
        {
         "hoverinfo": "skip",
         "line": {
          "color": "rgb(33,113,181)"
         },
         "name": "a34_35_110",
         "showlegend": false,
         "type": "scatter",
         "x": [
          -91,
          133
         ],
         "y": [
          257,
          272
         ]
        },
        {
         "hoverinfo": "skip",
         "marker": {
          "color": "red",
          "showscale": false,
          "size": 10
         },
         "name": "a_bus__or_34_35_110",
         "showlegend": false,
         "type": "scatter",
         "x": [
          -76.0335189291625
         ],
         "y": [
          258.002219714565
         ]
        },
        {
         "hoverinfo": "skip",
         "marker": {
          "color": "red",
          "showscale": false,
          "size": 10
         },
         "name": "a_bus__ex_34_35_110",
         "showlegend": false,
         "type": "scatter",
         "x": [
          118.0335189291625
         ],
         "y": [
          270.997780285435
         ]
        },
        {
         "hoverinfo": "skip",
         "marker": {
          "color": "rgb(33,113,181)",
          "showscale": false,
          "size": 10,
          "symbol": "triangle-right"
         },
         "name": "a_->_34_35_110",
         "showlegend": false,
         "type": "scatter",
         "x": [
          -61.067037858324994,
          -66.0558648819375
         ],
         "y": [
          259.00443942913006,
          258.6703661909417
         ]
        },
        {
         "hoverinfo": "skip",
         "line": {
          "color": "rgb(33,113,181)"
         },
         "name": "a34_36_111",
         "showlegend": false,
         "type": "scatter",
         "x": [
          -91,
          194
         ],
         "y": [
          257,
          411
         ]
        },
        {
         "hoverinfo": "skip",
         "marker": {
          "color": "red",
          "showscale": false,
          "size": 10
         },
         "name": "a_bus__or_34_36_111",
         "showlegend": false,
         "type": "scatter",
         "x": [
          -77.80335542854827
         ],
         "y": [
          264.13081847018793
         ]
        },
        {
         "hoverinfo": "skip",
         "marker": {
          "color": "red",
          "showscale": false,
          "size": 10
         },
         "name": "a_bus__ex_34_36_111",
         "showlegend": false,
         "type": "scatter",
         "x": [
          180.80335542854826
         ],
         "y": [
          403.86918152981207
         ]
        },
        {
         "hoverinfo": "skip",
         "marker": {
          "color": "rgb(33,113,181)",
          "showscale": false,
          "size": 10,
          "symbol": "triangle-sw"
         },
         "name": "a_->_34_36_111",
         "showlegend": false,
         "type": "scatter",
         "x": [
          -64.60671085709654,
          -69.00559238091378
         ],
         "y": [
          271.26163694037587,
          268.88469745031324
         ]
        },
        {
         "hoverinfo": "skip",
         "line": {
          "color": "rgb(8,48,107)"
         },
         "name": "a32_36_112",
         "showlegend": false,
         "type": "scatter",
         "x": [
          -12,
          194
         ],
         "y": [
          480,
          411
         ]
        },
        {
         "hoverinfo": "skip",
         "marker": {
          "color": "red",
          "showscale": false,
          "size": 10
         },
         "name": "a_bus__or_32_36_112",
         "showlegend": false,
         "type": "scatter",
         "x": [
          2.223329866313412
         ],
         "y": [
          475.2358749476911
         ]
        },
        {
         "hoverinfo": "skip",
         "marker": {
          "color": "red",
          "showscale": false,
          "size": 10
         },
         "name": "a_bus__ex_32_36_112",
         "showlegend": false,
         "type": "scatter",
         "x": [
          179.7766701336866
         ],
         "y": [
          415.7641250523089
         ]
        },
        {
         "hoverinfo": "skip",
         "marker": {
          "color": "rgb(8,48,107)",
          "showscale": false,
          "size": 10,
          "symbol": "triangle-nw"
         },
         "name": "a_->_32_36_112",
         "showlegend": false,
         "type": "scatter",
         "x": [
          16.446659732626824,
          11.70554977718902
         ],
         "y": [
          470.4717498953823,
          472.05979157948525
         ]
        },
        {
         "hoverinfo": "skip",
         "line": {
          "color": "rgb(8,81,156)"
         },
         "name": "a33_35_113",
         "showlegend": false,
         "type": "scatter",
         "x": [
          40,
          133
         ],
         "y": [
          373,
          272
         ]
        },
        {
         "hoverinfo": "skip",
         "marker": {
          "color": "red",
          "showscale": false,
          "size": 10
         },
         "name": "a_bus__or_33_35_113",
         "showlegend": false,
         "type": "scatter",
         "x": [
          50.16058071817275
         ],
         "y": [
          361.96539083295215
         ]
        },
        {
         "hoverinfo": "skip",
         "marker": {
          "color": "red",
          "showscale": false,
          "size": 10
         },
         "name": "a_bus__ex_33_35_113",
         "showlegend": false,
         "type": "scatter",
         "x": [
          122.83941928182725
         ],
         "y": [
          283.03460916704785
         ]
        },
        {
         "hoverinfo": "skip",
         "marker": {
          "color": "rgb(8,81,156)",
          "showscale": false,
          "size": 10,
          "symbol": "triangle-se"
         },
         "name": "a_->_33_35_113",
         "showlegend": false,
         "type": "scatter",
         "x": [
          60.32116143634551,
          56.93430119695459
         ],
         "y": [
          350.9307816659043,
          354.6089847215869
         ]
        },
        {
         "hoverinfo": "skip",
         "line": {
          "color": "rgb(66,146,198)"
         },
         "name": "a33_36_114",
         "showlegend": false,
         "type": "scatter",
         "x": [
          40,
          194
         ],
         "y": [
          373,
          411
         ]
        },
        {
         "hoverinfo": "skip",
         "marker": {
          "color": "red",
          "showscale": false,
          "size": 10
         },
         "name": "a_bus__or_33_36_114",
         "showlegend": false,
         "type": "scatter",
         "x": [
          54.5631948922274
         ],
         "y": [
          376.5935156227574
         ]
        },
        {
         "hoverinfo": "skip",
         "marker": {
          "color": "red",
          "showscale": false,
          "size": 10
         },
         "name": "a_bus__ex_33_36_114",
         "showlegend": false,
         "type": "scatter",
         "x": [
          179.43680510777259
         ],
         "y": [
          407.4064843772426
         ]
        },
        {
         "hoverinfo": "skip",
         "marker": {
          "color": "rgb(66,146,198)",
          "showscale": false,
          "size": 10,
          "symbol": "triangle-left"
         },
         "name": "a_->_33_36_114",
         "showlegend": false,
         "type": "scatter",
         "x": [
          69.12638978445482,
          64.27199148704568
         ],
         "y": [
          380.1870312455148,
          378.98919270459567
         ]
        },
        {
         "hoverinfo": "skip",
         "line": {
          "color": "rgb(8,48,107)"
         },
         "name": "a36_38_115",
         "showlegend": false,
         "type": "scatter",
         "x": [
          194,
          155
         ],
         "y": [
          411,
          503
         ]
        },
        {
         "hoverinfo": "skip",
         "marker": {
          "color": "red",
          "showscale": false,
          "size": 10
         },
         "name": "a_bus__or_36_38_115",
         "showlegend": false,
         "type": "scatter",
         "x": [
          188.14560755788446
         ],
         "y": [
          424.8103616583238
         ]
        },
        {
         "hoverinfo": "skip",
         "marker": {
          "color": "red",
          "showscale": false,
          "size": 10
         },
         "name": "a_bus__ex_36_38_115",
         "showlegend": false,
         "type": "scatter",
         "x": [
          160.85439244211554
         ],
         "y": [
          489.1896383416762
         ]
        },
        {
         "hoverinfo": "skip",
         "marker": {
          "color": "rgb(8,48,107)",
          "showscale": false,
          "size": 10,
          "symbol": "triangle-se"
         },
         "name": "a_->_36_38_115",
         "showlegend": false,
         "type": "scatter",
         "x": [
          182.29121511576895,
          184.2426792631408
         ],
         "y": [
          438.6207233166476,
          434.01726943053967
         ]
        },
        {
         "hoverinfo": "skip",
         "line": {
          "color": "rgb(8,48,107)"
         },
         "name": "a36_39_116",
         "showlegend": false,
         "type": "scatter",
         "x": [
          194,
          226
         ],
         "y": [
          411,
          568
         ]
        },
        {
         "hoverinfo": "skip",
         "marker": {
          "color": "red",
          "showscale": false,
          "size": 10
         },
         "name": "a_bus__or_36_39_116",
         "showlegend": false,
         "type": "scatter",
         "x": [
          196.99573178240087
         ],
         "y": [
          425.69780905740424
         ]
        },
        {
         "hoverinfo": "skip",
         "marker": {
          "color": "red",
          "showscale": false,
          "size": 10
         },
         "name": "a_bus__ex_36_39_116",
         "showlegend": false,
         "type": "scatter",
         "x": [
          223.00426821759913
         ],
         "y": [
          553.3021909425958
         ]
        },
        {
         "hoverinfo": "skip",
         "marker": {
          "color": "rgb(8,48,107)",
          "showscale": false,
          "size": 10,
          "symbol": "triangle-down"
         },
         "name": "a_->_36_39_116",
         "showlegend": false,
         "type": "scatter",
         "x": [
          199.99146356480173,
          198.99288630400144
         ],
         "y": [
          440.3956181148084,
          435.496348429007
         ]
        },
        {
         "hoverinfo": "skip",
         "line": {
          "color": "rgb(8,81,156)"
         },
         "name": "a29_37_117",
         "showlegend": false,
         "type": "scatter",
         "x": [
          -562,
          231
         ],
         "y": [
          131,
          213
         ]
        },
        {
         "hoverinfo": "skip",
         "marker": {
          "color": "red",
          "showscale": false,
          "size": 10
         },
         "name": "a_bus__or_29_37_117",
         "showlegend": false,
         "type": "scatter",
         "x": [
          -547.0795566998685
         ],
         "y": [
          132.54284533494425
         ]
        },
        {
         "hoverinfo": "skip",
         "marker": {
          "color": "red",
          "showscale": false,
          "size": 10
         },
         "name": "a_bus__ex_29_37_117",
         "showlegend": false,
         "type": "scatter",
         "x": [
          216.07955669986845
         ],
         "y": [
          211.45715466505575
         ]
        },
        {
         "hoverinfo": "skip",
         "marker": {
          "color": "rgb(8,81,156)",
          "showscale": false,
          "size": 10,
          "symbol": "triangle-right"
         },
         "name": "a_->_29_37_117",
         "showlegend": false,
         "type": "scatter",
         "x": [
          -532.1591133997368,
          -537.1325944997807
         ],
         "y": [
          134.0856906698885,
          133.57140889157375
         ]
        },
        {
         "hoverinfo": "skip",
         "line": {
          "color": "rgb(33,113,181)"
         },
         "name": "a5_6_118",
         "showlegend": false,
         "type": "scatter",
         "x": [
          -874,
          -792
         ],
         "y": [
          352,
          346
         ]
        },
        {
         "hoverinfo": "skip",
         "marker": {
          "color": "red",
          "showscale": false,
          "size": 10
         },
         "name": "a_bus__or_5_6_118",
         "showlegend": false,
         "type": "scatter",
         "x": [
          -859.0399941461266
         ],
         "y": [
          350.90536542532635
         ]
        },
        {
         "hoverinfo": "skip",
         "marker": {
          "color": "red",
          "showscale": false,
          "size": 10
         },
         "name": "a_bus__ex_5_6_118",
         "showlegend": false,
         "type": "scatter",
         "x": [
          -806.9600058538734
         ],
         "y": [
          347.09463457467365
         ]
        },
        {
         "hoverinfo": "skip",
         "marker": {
          "color": "rgb(33,113,181)",
          "showscale": false,
          "size": 10,
          "symbol": "triangle-right"
         },
         "name": "a_->_5_6_118",
         "showlegend": false,
         "type": "scatter",
         "x": [
          -844.0799882922531,
          -849.0666569102109
         ],
         "y": [
          349.8107308506527,
          350.17560904221057
         ]
        },
        {
         "hoverinfo": "skip",
         "line": {
          "color": "rgb(8,81,156)"
         },
         "name": "a38_39_119",
         "showlegend": false,
         "type": "scatter",
         "x": [
          155,
          226
         ],
         "y": [
          503,
          568
         ]
        },
        {
         "hoverinfo": "skip",
         "marker": {
          "color": "red",
          "showscale": false,
          "size": 10
         },
         "name": "a_bus__or_38_39_119",
         "showlegend": false,
         "type": "scatter",
         "x": [
          166.06377817779492
         ],
         "y": [
          513.1288110078405
         ]
        },
        {
         "hoverinfo": "skip",
         "marker": {
          "color": "red",
          "showscale": false,
          "size": 10
         },
         "name": "a_bus__ex_38_39_119",
         "showlegend": false,
         "type": "scatter",
         "x": [
          214.93622182220508
         ],
         "y": [
          557.8711889921595
         ]
        },
        {
         "hoverinfo": "skip",
         "marker": {
          "color": "rgb(8,81,156)",
          "showscale": false,
          "size": 10,
          "symbol": "triangle-sw"
         },
         "name": "a_->_38_39_119",
         "showlegend": false,
         "type": "scatter",
         "x": [
          177.12755635558983,
          173.43963029632485
         ],
         "y": [
          523.2576220156809,
          519.881351679734
         ]
        },
        {
         "hoverinfo": "skip",
         "line": {
          "color": "rgb(8,81,156)"
         },
         "name": "a39_40_120",
         "showlegend": false,
         "type": "scatter",
         "x": [
          226,
          340
         ],
         "y": [
          568,
          615
         ]
        },
        {
         "hoverinfo": "skip",
         "marker": {
          "color": "red",
          "showscale": false,
          "size": 10
         },
         "name": "a_bus__or_39_40_120",
         "showlegend": false,
         "type": "scatter",
         "x": [
          239.86765083059692
         ],
         "y": [
          573.7173648161233
         ]
        },
        {
         "hoverinfo": "skip",
         "marker": {
          "color": "red",
          "showscale": false,
          "size": 10
         },
         "name": "a_bus__ex_39_40_120",
         "showlegend": false,
         "type": "scatter",
         "x": [
          326.1323491694031
         ],
         "y": [
          609.2826351838767
         ]
        },
        {
         "hoverinfo": "skip",
         "marker": {
          "color": "rgb(8,81,156)",
          "showscale": false,
          "size": 10,
          "symbol": "triangle-sw"
         },
         "name": "a_->_39_40_120",
         "showlegend": false,
         "type": "scatter",
         "x": [
          253.73530166119383,
          249.1127513843282
         ],
         "y": [
          579.4347296322467,
          577.5289413602055
         ]
        },
        {
         "hoverinfo": "skip",
         "line": {
          "color": "rgb(8,81,156)"
         },
         "name": "a39_41_121",
         "showlegend": false,
         "type": "scatter",
         "x": [
          226,
          424
         ],
         "y": [
          568,
          568
         ]
        },
        {
         "hoverinfo": "skip",
         "marker": {
          "color": "red",
          "showscale": false,
          "size": 10
         },
         "name": "a_bus__or_39_41_121",
         "showlegend": false,
         "type": "scatter",
         "x": [
          241
         ],
         "y": [
          568
         ]
        },
        {
         "hoverinfo": "skip",
         "marker": {
          "color": "red",
          "showscale": false,
          "size": 10
         },
         "name": "a_bus__ex_39_41_121",
         "showlegend": false,
         "type": "scatter",
         "x": [
          409
         ],
         "y": [
          568
         ]
        },
        {
         "hoverinfo": "skip",
         "marker": {
          "color": "rgb(8,81,156)",
          "showscale": false,
          "size": 10,
          "symbol": "triangle-left"
         },
         "name": "a_->_39_41_121",
         "showlegend": false,
         "type": "scatter",
         "x": [
          256,
          251
         ],
         "y": [
          568,
          568
         ]
        },
        {
         "hoverinfo": "skip",
         "line": {
          "color": "rgb(8,81,156)"
         },
         "name": "a40_41_122",
         "showlegend": false,
         "type": "scatter",
         "x": [
          340,
          424
         ],
         "y": [
          615,
          568
         ]
        },
        {
         "hoverinfo": "skip",
         "marker": {
          "color": "red",
          "showscale": false,
          "size": 10
         },
         "name": "a_bus__or_40_41_122",
         "showlegend": false,
         "type": "scatter",
         "x": [
          353.0902467575173
         ],
         "y": [
          607.6756952666273
         ]
        },
        {
         "hoverinfo": "skip",
         "marker": {
          "color": "red",
          "showscale": false,
          "size": 10
         },
         "name": "a_bus__ex_40_41_122",
         "showlegend": false,
         "type": "scatter",
         "x": [
          410.9097532424827
         ],
         "y": [
          575.3243047333727
         ]
        },
        {
         "hoverinfo": "skip",
         "marker": {
          "color": "rgb(8,81,156)",
          "showscale": false,
          "size": 10,
          "symbol": "triangle-nw"
         },
         "name": "a_->_40_41_122",
         "showlegend": false,
         "type": "scatter",
         "x": [
          366.18049351503464,
          361.81707792919553
         ],
         "y": [
          600.3513905332544,
          602.7928254443786
         ]
        },
        {
         "hoverinfo": "skip",
         "line": {
          "color": "rgb(8,81,156)"
         },
         "name": "a42_43_123",
         "showlegend": false,
         "type": "scatter",
         "x": [
          326,
          369
         ],
         "y": [
          363,
          421
         ]
        },
        {
         "hoverinfo": "skip",
         "marker": {
          "color": "red",
          "showscale": false,
          "size": 10
         },
         "name": "a_bus__or_42_43_123",
         "showlegend": false,
         "type": "scatter",
         "x": [
          334.93338090848965
         ],
         "y": [
          375.04967657424186
         ]
        },
        {
         "hoverinfo": "skip",
         "marker": {
          "color": "red",
          "showscale": false,
          "size": 10
         },
         "name": "a_bus__ex_42_43_123",
         "showlegend": false,
         "type": "scatter",
         "x": [
          360.06661909151035
         ],
         "y": [
          408.95032342575814
         ]
        },
        {
         "hoverinfo": "skip",
         "marker": {
          "color": "rgb(8,81,156)",
          "showscale": false,
          "size": 10,
          "symbol": "triangle-ne"
         },
         "name": "a_->_42_43_123",
         "showlegend": false,
         "type": "scatter",
         "x": [
          343.86676181697925,
          340.88896818081605
         ],
         "y": [
          387.09935314848366,
          383.08279429040306
         ]
        },
        {
         "hoverinfo": "skip",
         "line": {
          "color": "rgb(8,81,156)"
         },
         "name": "a33_42_124",
         "showlegend": false,
         "type": "scatter",
         "x": [
          40,
          326
         ],
         "y": [
          373,
          363
         ]
        },
        {
         "hoverinfo": "skip",
         "marker": {
          "color": "red",
          "showscale": false,
          "size": 10
         },
         "name": "a_bus__or_33_42_124",
         "showlegend": false,
         "type": "scatter",
         "x": [
          54.99083924625381
         ],
         "y": [
          372.4758447815995
         ]
        },
        {
         "hoverinfo": "skip",
         "marker": {
          "color": "red",
          "showscale": false,
          "size": 10
         },
         "name": "a_bus__ex_33_42_124",
         "showlegend": false,
         "type": "scatter",
         "x": [
          311.0091607537462
         ],
         "y": [
          363.5241552184005
         ]
        },
        {
         "hoverinfo": "skip",
         "marker": {
          "color": "rgb(8,81,156)",
          "showscale": false,
          "size": 10,
          "symbol": "triangle-right"
         },
         "name": "a_->_33_42_124",
         "showlegend": false,
         "type": "scatter",
         "x": [
          69.98167849250763,
          64.98473207708969
         ],
         "y": [
          371.95168956319907,
          372.12640796933255
         ]
        },
        {
         "hoverinfo": "skip",
         "line": {
          "color": "rgb(8,81,156)"
         },
         "name": "a43_44_125",
         "showlegend": false,
         "type": "scatter",
         "x": [
          369,
          411
         ],
         "y": [
          421,
          330
         ]
        },
        {
         "hoverinfo": "skip",
         "marker": {
          "color": "red",
          "showscale": false,
          "size": 10
         },
         "name": "a_bus__or_43_44_125",
         "showlegend": false,
         "type": "scatter",
         "x": [
          375.2858726619262
         ],
         "y": [
          407.3806092324932
         ]
        },
        {
         "hoverinfo": "skip",
         "marker": {
          "color": "red",
          "showscale": false,
          "size": 10
         },
         "name": "a_bus__ex_43_44_125",
         "showlegend": false,
         "type": "scatter",
         "x": [
          404.7141273380738
         ],
         "y": [
          343.6193907675068
         ]
        },
        {
         "hoverinfo": "skip",
         "marker": {
          "color": "rgb(8,81,156)",
          "showscale": false,
          "size": 10,
          "symbol": "triangle-se"
         },
         "name": "a_->_43_44_125",
         "showlegend": false,
         "type": "scatter",
         "x": [
          381.57174532385244,
          379.4764544365437
         ],
         "y": [
          393.7612184649864,
          398.3010153874887
         ]
        },
        {
         "hoverinfo": "skip",
         "line": {
          "color": "rgb(8,81,156)"
         },
         "name": "a44_45_126",
         "showlegend": false,
         "type": "scatter",
         "x": [
          411,
          350
         ],
         "y": [
          330,
          236
         ]
        },
        {
         "hoverinfo": "skip",
         "marker": {
          "color": "red",
          "showscale": false,
          "size": 10
         },
         "name": "a_bus__or_44_45_126",
         "showlegend": false,
         "type": "scatter",
         "x": [
          402.8345871683182
         ],
         "y": [
          317.41723268560503
         ]
        },
        {
         "hoverinfo": "skip",
         "marker": {
          "color": "red",
          "showscale": false,
          "size": 10
         },
         "name": "a_bus__ex_44_45_126",
         "showlegend": false,
         "type": "scatter",
         "x": [
          358.1654128316818
         ],
         "y": [
          248.58276731439494
         ]
        },
        {
         "hoverinfo": "skip",
         "marker": {
          "color": "rgb(8,81,156)",
          "showscale": false,
          "size": 10,
          "symbol": "triangle-ne"
         },
         "name": "a_->_44_45_126",
         "showlegend": false,
         "type": "scatter",
         "x": [
          394.6691743366364,
          397.39097861386364
         ],
         "y": [
          304.83446537121006,
          309.02872114267507
         ]
        },
        {
         "hoverinfo": "skip",
         "line": {
          "color": "rgb(8,81,156)"
         },
         "name": "a45_46_127",
         "showlegend": false,
         "type": "scatter",
         "x": [
          350,
          460
         ],
         "y": [
          236,
          182
         ]
        },
        {
         "hoverinfo": "skip",
         "marker": {
          "color": "red",
          "showscale": false,
          "size": 10
         },
         "name": "a_bus__or_45_46_127",
         "showlegend": false,
         "type": "scatter",
         "x": [
          363.4650141584266
         ],
         "y": [
          229.3899021404088
         ]
        },
        {
         "hoverinfo": "skip",
         "marker": {
          "color": "red",
          "showscale": false,
          "size": 10
         },
         "name": "a_bus__ex_45_46_127",
         "showlegend": false,
         "type": "scatter",
         "x": [
          446.5349858415734
         ],
         "y": [
          188.6100978595912
         ]
        },
        {
         "hoverinfo": "skip",
         "marker": {
          "color": "rgb(8,81,156)",
          "showscale": false,
          "size": 10,
          "symbol": "triangle-nw"
         },
         "name": "a_->_45_46_127",
         "showlegend": false,
         "type": "scatter",
         "x": [
          376.9300283168531,
          372.44169026404427
         ],
         "y": [
          222.77980428081756,
          224.98317023401464
         ]
        },
        {
         "hoverinfo": "skip",
         "line": {
          "color": "rgb(8,81,156)"
         },
         "name": "a45_47_128",
         "showlegend": false,
         "type": "scatter",
         "x": [
          350,
          453
         ],
         "y": [
          236,
          244
         ]
        },
        {
         "hoverinfo": "skip",
         "marker": {
          "color": "red",
          "showscale": false,
          "size": 10
         },
         "name": "a_bus__or_45_47_128",
         "showlegend": false,
         "type": "scatter",
         "x": [
          364.95495908007956
         ],
         "y": [
          237.161550219812
         ]
        },
        {
         "hoverinfo": "skip",
         "marker": {
          "color": "red",
          "showscale": false,
          "size": 10
         },
         "name": "a_bus__ex_45_47_128",
         "showlegend": false,
         "type": "scatter",
         "x": [
          438.04504091992044
         ],
         "y": [
          242.838449780188
         ]
        },
        {
         "hoverinfo": "skip",
         "marker": {
          "color": "rgb(8,81,156)",
          "showscale": false,
          "size": 10,
          "symbol": "triangle-left"
         },
         "name": "a_->_45_47_128",
         "showlegend": false,
         "type": "scatter",
         "x": [
          379.9099181601592,
          374.92493180013264
         ],
         "y": [
          238.32310043962403,
          237.93591703302002
         ]
        },
        {
         "hoverinfo": "skip",
         "line": {
          "color": "rgb(66,146,198)"
         },
         "name": "a7_8_129",
         "showlegend": false,
         "type": "scatter",
         "x": [
          -969,
          -964
         ],
         "y": [
          131,
          39
         ]
        },
        {
         "hoverinfo": "skip",
         "marker": {
          "color": "red",
          "showscale": false,
          "size": 10
         },
         "name": "a_bus__or_7_8_129",
         "showlegend": false,
         "type": "scatter",
         "x": [
          -968.1859838963591
         ],
         "y": [
          116.02210369300771
         ]
        },
        {
         "hoverinfo": "skip",
         "marker": {
          "color": "red",
          "showscale": false,
          "size": 10
         },
         "name": "a_bus__ex_7_8_129",
         "showlegend": false,
         "type": "scatter",
         "x": [
          -964.8140161036409
         ],
         "y": [
          53.97789630699229
         ]
        },
        {
         "hoverinfo": "skip",
         "marker": {
          "color": "rgb(66,146,198)",
          "showscale": false,
          "size": 10,
          "symbol": "triangle-up"
         },
         "name": "a_->_7_8_129",
         "showlegend": false,
         "type": "scatter",
         "x": [
          -967.3719677927182,
          -967.6433064939318
         ],
         "y": [
          101.04420738601542,
          106.03683948834617
         ]
        },
        {
         "hoverinfo": "skip",
         "line": {
          "color": "rgb(8,48,107)"
         },
         "name": "a46_48_130",
         "showlegend": false,
         "type": "scatter",
         "x": [
          460,
          583
         ],
         "y": [
          182,
          209
         ]
        },
        {
         "hoverinfo": "skip",
         "marker": {
          "color": "red",
          "showscale": false,
          "size": 10
         },
         "name": "a_bus__or_46_48_130",
         "showlegend": false,
         "type": "scatter",
         "x": [
          474.65116514757824
         ],
         "y": [
          185.21610942263914
         ]
        },
        {
         "hoverinfo": "skip",
         "marker": {
          "color": "red",
          "showscale": false,
          "size": 10
         },
         "name": "a_bus__ex_46_48_130",
         "showlegend": false,
         "type": "scatter",
         "x": [
          568.3488348524218
         ],
         "y": [
          205.78389057736086
         ]
        },
        {
         "hoverinfo": "skip",
         "marker": {
          "color": "rgb(8,48,107)",
          "showscale": false,
          "size": 10,
          "symbol": "triangle-left"
         },
         "name": "a_->_46_48_130",
         "showlegend": false,
         "type": "scatter",
         "x": [
          489.3023302951565,
          484.4186085792971
         ],
         "y": [
          188.43221884527824,
          187.3601823710652
         ]
        },
        {
         "hoverinfo": "skip",
         "line": {
          "color": "rgb(33,113,181)"
         },
         "name": "a41_48_131",
         "showlegend": false,
         "type": "scatter",
         "x": [
          426.7430077542851,
          585.7430077542851
         ],
         "y": [
          569.2148697296137,
          210.21486972961375
         ]
        },
        {
         "hoverinfo": "skip",
         "marker": {
          "color": "red",
          "showscale": false,
          "size": 10
         },
         "name": "a_bus__or_41_48_131",
         "showlegend": false,
         "type": "scatter",
         "x": [
          432.81735640235377
         ],
         "y": [
          555.4998309581882
         ]
        },
        {
         "hoverinfo": "skip",
         "marker": {
          "color": "red",
          "showscale": false,
          "size": 10
         },
         "name": "a_bus__ex_41_48_131",
         "showlegend": false,
         "type": "scatter",
         "x": [
          579.6686591062164
         ],
         "y": [
          223.9299085010393
         ]
        },
        {
         "hoverinfo": "skip",
         "marker": {
          "color": "rgb(33,113,181)",
          "showscale": false,
          "size": 10,
          "symbol": "triangle-se"
         },
         "name": "a_->_41_48_131",
         "showlegend": false,
         "type": "scatter",
         "x": [
          438.8917050504225,
          436.8669221677329
         ],
         "y": [
          541.7847921867627,
          546.3564717772379
         ]
        },
        {
         "hoverinfo": "skip",
         "line": {
          "color": "rgb(33,113,181)"
         },
         "name": "a41_48_132",
         "showlegend": false,
         "type": "scatter",
         "x": [
          421.2569922457149,
          580.2569922457149
         ],
         "y": [
          566.7851302703863,
          207.78513027038625
         ]
        },
        {
         "hoverinfo": "skip",
         "marker": {
          "color": "red",
          "showscale": false,
          "size": 10
         },
         "name": "a_bus__or_41_48_132",
         "showlegend": false,
         "type": "scatter",
         "x": [
          427.3313408937836
         ],
         "y": [
          553.0700914989608
         ]
        },
        {
         "hoverinfo": "skip",
         "marker": {
          "color": "red",
          "showscale": false,
          "size": 10
         },
         "name": "a_bus__ex_41_48_132",
         "showlegend": false,
         "type": "scatter",
         "x": [
          574.1826435976461
         ],
         "y": [
          221.5001690418118
         ]
        },
        {
         "hoverinfo": "skip",
         "marker": {
          "color": "rgb(33,113,181)",
          "showscale": false,
          "size": 10,
          "symbol": "triangle-se"
         },
         "name": "a_->_41_48_132",
         "showlegend": false,
         "type": "scatter",
         "x": [
          433.4056895418523,
          431.38090665916275
         ],
         "y": [
          539.3550527275353,
          543.9267323180104
         ]
        },
        {
         "hoverinfo": "skip",
         "line": {
          "color": "rgb(8,81,156)"
         },
         "name": "a44_48_133",
         "showlegend": false,
         "type": "scatter",
         "x": [
          411,
          583
         ],
         "y": [
          330,
          209
         ]
        },
        {
         "hoverinfo": "skip",
         "marker": {
          "color": "red",
          "showscale": false,
          "size": 10
         },
         "name": "a_bus__or_44_48_133",
         "showlegend": false,
         "type": "scatter",
         "x": [
          423.2683394866292
         ],
         "y": [
          321.36936582626663
         ]
        },
        {
         "hoverinfo": "skip",
         "marker": {
          "color": "red",
          "showscale": false,
          "size": 10
         },
         "name": "a_bus__ex_44_48_133",
         "showlegend": false,
         "type": "scatter",
         "x": [
          570.7316605133708
         ],
         "y": [
          217.63063417373334
         ]
        },
        {
         "hoverinfo": "skip",
         "marker": {
          "color": "rgb(8,81,156)",
          "showscale": false,
          "size": 10,
          "symbol": "triangle-nw"
         },
         "name": "a_->_44_48_133",
         "showlegend": false,
         "type": "scatter",
         "x": [
          435.53667897325846,
          431.4472324777154
         ],
         "y": [
          312.73873165253326,
          315.6156097104444
         ]
        },
        {
         "hoverinfo": "skip",
         "line": {
          "color": "rgb(8,81,156)"
         },
         "name": "a47_48_134",
         "showlegend": false,
         "type": "scatter",
         "x": [
          453,
          583
         ],
         "y": [
          244,
          209
         ]
        },
        {
         "hoverinfo": "skip",
         "marker": {
          "color": "red",
          "showscale": false,
          "size": 10
         },
         "name": "a_bus__or_47_48_134",
         "showlegend": false,
         "type": "scatter",
         "x": [
          467.48423637781
         ],
         "y": [
          240.1003978982819
         ]
        },
        {
         "hoverinfo": "skip",
         "marker": {
          "color": "red",
          "showscale": false,
          "size": 10
         },
         "name": "a_bus__ex_47_48_134",
         "showlegend": false,
         "type": "scatter",
         "x": [
          568.51576362219
         ],
         "y": [
          212.8996021017181
         ]
        },
        {
         "hoverinfo": "skip",
         "marker": {
          "color": "rgb(8,81,156)",
          "showscale": false,
          "size": 10,
          "symbol": "triangle-nw"
         },
         "name": "a_->_47_48_134",
         "showlegend": false,
         "type": "scatter",
         "x": [
          481.96847275562004,
          477.1403939630167
         ],
         "y": [
          236.20079579656382,
          237.50066316380318
         ]
        },
        {
         "hoverinfo": "skip",
         "line": {
          "color": "rgb(253,141,60)"
         },
         "name": "a48_49_135",
         "showlegend": false,
         "type": "scatter",
         "x": [
          583,
          776
         ],
         "y": [
          209,
          300
         ]
        },
        {
         "hoverinfo": "skip",
         "marker": {
          "color": "red",
          "showscale": false,
          "size": 10
         },
         "name": "a_bus__or_48_49_135",
         "showlegend": false,
         "type": "scatter",
         "x": [
          596.5674972714031
         ],
         "y": [
          215.39711011242326
         ]
        },
        {
         "hoverinfo": "skip",
         "marker": {
          "color": "red",
          "showscale": false,
          "size": 10
         },
         "name": "a_bus__ex_48_49_135",
         "showlegend": false,
         "type": "scatter",
         "x": [
          762.4325027285969
         ],
         "y": [
          293.60288988757674
         ]
        },
        {
         "hoverinfo": "skip",
         "marker": {
          "color": "rgb(253,141,60)",
          "showscale": false,
          "size": 10,
          "symbol": "triangle-ne"
         },
         "name": "a_->_48_49_135",
         "showlegend": false,
         "type": "scatter",
         "x": [
          610.1349945428063,
          605.6124954523386
         ],
         "y": [
          221.79422022484653,
          219.6618501873721
         ]
        },
        {
         "hoverinfo": "skip",
         "line": {
          "color": "rgb(253,141,60)"
         },
         "name": "a48_50_136",
         "showlegend": false,
         "type": "scatter",
         "x": [
          583,
          706
         ],
         "y": [
          209,
          300
         ]
        },
        {
         "hoverinfo": "skip",
         "marker": {
          "color": "red",
          "showscale": false,
          "size": 10
         },
         "name": "a_bus__or_48_50_136",
         "showlegend": false,
         "type": "scatter",
         "x": [
          595.0585659695589
         ],
         "y": [
          217.9213780750395
         ]
        },
        {
         "hoverinfo": "skip",
         "marker": {
          "color": "red",
          "showscale": false,
          "size": 10
         },
         "name": "a_bus__ex_48_50_136",
         "showlegend": false,
         "type": "scatter",
         "x": [
          693.9414340304411
         ],
         "y": [
          291.0786219249605
         ]
        },
        {
         "hoverinfo": "skip",
         "marker": {
          "color": "rgb(253,141,60)",
          "showscale": false,
          "size": 10,
          "symbol": "triangle-ne"
         },
         "name": "a_->_48_50_136",
         "showlegend": false,
         "type": "scatter",
         "x": [
          607.1171319391178,
          603.0976099492649
         ],
         "y": [
          226.84275615007905,
          223.8689634583992
         ]
        },
        {
         "hoverinfo": "skip",
         "line": {
          "color": "rgb(33,113,181)"
         },
         "name": "a50_51_137",
         "showlegend": false,
         "type": "scatter",
         "x": [
          706,
          541
         ],
         "y": [
          300,
          430
         ]
        },
        {
         "hoverinfo": "skip",
         "marker": {
          "color": "red",
          "showscale": false,
          "size": 10
         },
         "name": "a_bus__or_50_51_137",
         "showlegend": false,
         "type": "scatter",
         "x": [
          694.2176249165869
         ],
         "y": [
          309.2830833990527
         ]
        },
        {
         "hoverinfo": "skip",
         "marker": {
          "color": "red",
          "showscale": false,
          "size": 10
         },
         "name": "a_bus__ex_50_51_137",
         "showlegend": false,
         "type": "scatter",
         "x": [
          552.7823750834131
         ],
         "y": [
          420.7169166009473
         ]
        },
        {
         "hoverinfo": "skip",
         "marker": {
          "color": "rgb(33,113,181)",
          "showscale": false,
          "size": 10,
          "symbol": "triangle-nw"
         },
         "name": "a_->_50_51_137",
         "showlegend": false,
         "type": "scatter",
         "x": [
          682.4352498331739,
          686.3627081943116
         ],
         "y": [
          318.56616679810537,
          315.4718056650878
         ]
        },
        {
         "hoverinfo": "skip",
         "line": {
          "color": "rgb(33,113,181)"
         },
         "name": "a51_52_138",
         "showlegend": false,
         "type": "scatter",
         "x": [
          541,
          533
         ],
         "y": [
          430,
          568
         ]
        },
        {
         "hoverinfo": "skip",
         "marker": {
          "color": "red",
          "showscale": false,
          "size": 10
         },
         "name": "a_bus__or_51_52_138",
         "showlegend": false,
         "type": "scatter",
         "x": [
          540.1318922572848
         ],
         "y": [
          444.9748585618375
         ]
        },
        {
         "hoverinfo": "skip",
         "marker": {
          "color": "red",
          "showscale": false,
          "size": 10
         },
         "name": "a_bus__ex_51_52_138",
         "showlegend": false,
         "type": "scatter",
         "x": [
          533.8681077427152
         ],
         "y": [
          553.0251414381624
         ]
        },
        {
         "hoverinfo": "skip",
         "marker": {
          "color": "rgb(33,113,181)",
          "showscale": false,
          "size": 10,
          "symbol": "triangle-up"
         },
         "name": "a_->_51_52_138",
         "showlegend": false,
         "type": "scatter",
         "x": [
          539.2637845145696,
          539.5531537621413
         ],
         "y": [
          459.949717123675,
          454.95809760306247
         ]
        },
        {
         "hoverinfo": "skip",
         "line": {
          "color": "rgb(8,81,156)"
         },
         "name": "a52_53_139",
         "showlegend": false,
         "type": "scatter",
         "x": [
          533,
          625
         ],
         "y": [
          568,
          566
         ]
        },
        {
         "hoverinfo": "skip",
         "marker": {
          "color": "red",
          "showscale": false,
          "size": 10
         },
         "name": "a_bus__or_52_53_139",
         "showlegend": false,
         "type": "scatter",
         "x": [
          547.9964568323587
         ],
         "y": [
          567.6739900688617
         ]
        },
        {
         "hoverinfo": "skip",
         "marker": {
          "color": "red",
          "showscale": false,
          "size": 10
         },
         "name": "a_bus__ex_52_53_139",
         "showlegend": false,
         "type": "scatter",
         "x": [
          610.0035431676413
         ],
         "y": [
          566.3260099311383
         ]
        },
        {
         "hoverinfo": "skip",
         "marker": {
          "color": "rgb(8,81,156)",
          "showscale": false,
          "size": 10,
          "symbol": "triangle-left"
         },
         "name": "a_->_52_53_139",
         "showlegend": false,
         "type": "scatter",
         "x": [
          562.9929136647174,
          557.9940947205979
         ],
         "y": [
          567.3479801377234,
          567.4566501147696
         ]
        },
        {
         "hoverinfo": "skip",
         "line": {
          "color": "rgb(8,48,107)"
         },
         "name": "a8_9_140",
         "showlegend": false,
         "type": "scatter",
         "x": [
          -964,
          -969
         ],
         "y": [
          39,
          -39
         ]
        },
        {
         "hoverinfo": "skip",
         "marker": {
          "color": "red",
          "showscale": false,
          "size": 10
         },
         "name": "a_bus__or_8_9_140",
         "showlegend": false,
         "type": "scatter",
         "x": [
          -964.9595689816501
         ],
         "y": [
          24.030723886257732
         ]
        },
        {
         "hoverinfo": "skip",
         "marker": {
          "color": "red",
          "showscale": false,
          "size": 10
         },
         "name": "a_bus__ex_8_9_140",
         "showlegend": false,
         "type": "scatter",
         "x": [
          -968.0404310183499
         ],
         "y": [
          -24.030723886257732
         ]
        },
        {
         "hoverinfo": "skip",
         "marker": {
          "color": "rgb(8,48,107)",
          "showscale": false,
          "size": 10,
          "symbol": "triangle-up"
         },
         "name": "a_->_8_9_140",
         "showlegend": false,
         "type": "scatter",
         "x": [
          -965.9191379633003,
          -965.5992816360836
         ],
         "y": [
          9.061447772515459,
          14.051206477096216
         ]
        },
        {
         "hoverinfo": "skip",
         "line": {
          "color": "rgb(33,113,181)"
         },
         "name": "a48_53_141",
         "showlegend": false,
         "type": "scatter",
         "x": [
          580.0205481870314,
          622.0205481870314
         ],
         "y": [
          209.3505237427022,
          566.3505237427022
         ]
        },
        {
         "hoverinfo": "skip",
         "marker": {
          "color": "red",
          "showscale": false,
          "size": 10
         },
         "name": "a_bus__or_48_53_141",
         "showlegend": false,
         "type": "scatter",
         "x": [
          581.7731669005424
         ],
         "y": [
          224.24778280754535
         ]
        },
        {
         "hoverinfo": "skip",
         "marker": {
          "color": "red",
          "showscale": false,
          "size": 10
         },
         "name": "a_bus__ex_48_53_141",
         "showlegend": false,
         "type": "scatter",
         "x": [
          620.2679294735204
         ],
         "y": [
          551.453264677859
         ]
        },
        {
         "hoverinfo": "skip",
         "marker": {
          "color": "rgb(33,113,181)",
          "showscale": false,
          "size": 10,
          "symbol": "triangle-up"
         },
         "name": "a_->_48_53_141",
         "showlegend": false,
         "type": "scatter",
         "x": [
          583.5257856140532,
          582.9415793762163
         ],
         "y": [
          239.14504187238848,
          234.1792888507741
         ]
        },
        {
         "hoverinfo": "skip",
         "line": {
          "color": "rgb(33,113,181)"
         },
         "name": "a48_53_142",
         "showlegend": false,
         "type": "scatter",
         "x": [
          585.9794518129686,
          627.9794518129686
         ],
         "y": [
          208.6494762572978,
          565.6494762572978
         ]
        },
        {
         "hoverinfo": "skip",
         "marker": {
          "color": "red",
          "showscale": false,
          "size": 10
         },
         "name": "a_bus__or_48_53_142",
         "showlegend": false,
         "type": "scatter",
         "x": [
          587.7320705264796
         ],
         "y": [
          223.54673532214096
         ]
        },
        {
         "hoverinfo": "skip",
         "marker": {
          "color": "red",
          "showscale": false,
          "size": 10
         },
         "name": "a_bus__ex_48_53_142",
         "showlegend": false,
         "type": "scatter",
         "x": [
          626.2268330994576
         ],
         "y": [
          550.7522171924546
         ]
        },
        {
         "hoverinfo": "skip",
         "marker": {
          "color": "rgb(33,113,181)",
          "showscale": false,
          "size": 10,
          "symbol": "triangle-up"
         },
         "name": "a_->_48_53_142",
         "showlegend": false,
         "type": "scatter",
         "x": [
          589.4846892399904,
          588.9004830021535
         ],
         "y": [
          238.4439943869841,
          233.4782413653697
         ]
        },
        {
         "hoverinfo": "skip",
         "line": {
          "color": "rgb(8,48,107)"
         },
         "name": "a53_54_143",
         "showlegend": false,
         "type": "scatter",
         "x": [
          625,
          783
         ],
         "y": [
          566,
          515
         ]
        },
        {
         "hoverinfo": "skip",
         "marker": {
          "color": "red",
          "showscale": false,
          "size": 10
         },
         "name": "a_bus__or_53_54_143",
         "showlegend": false,
         "type": "scatter",
         "x": [
          639.2747774983827
         ],
         "y": [
          561.3923186555853
         ]
        },
        {
         "hoverinfo": "skip",
         "marker": {
          "color": "red",
          "showscale": false,
          "size": 10
         },
         "name": "a_bus__ex_53_54_143",
         "showlegend": false,
         "type": "scatter",
         "x": [
          768.7252225016173
         ],
         "y": [
          519.6076813444147
         ]
        },
        {
         "hoverinfo": "skip",
         "marker": {
          "color": "rgb(8,48,107)",
          "showscale": false,
          "size": 10,
          "symbol": "triangle-se"
         },
         "name": "a_->_53_54_143",
         "showlegend": false,
         "type": "scatter",
         "x": [
          653.5495549967654,
          648.7912958306379
         ],
         "y": [
          556.7846373111706,
          558.3205310926422
         ]
        },
        {
         "hoverinfo": "skip",
         "line": {
          "color": "rgb(8,48,107)"
         },
         "name": "a53_55_144",
         "showlegend": false,
         "type": "scatter",
         "x": [
          625,
          742
         ],
         "y": [
          566,
          430
         ]
        },
        {
         "hoverinfo": "skip",
         "marker": {
          "color": "red",
          "showscale": false,
          "size": 10
         },
         "name": "a_bus__or_53_55_144",
         "showlegend": false,
         "type": "scatter",
         "x": [
          634.7825114313879
         ],
         "y": [
          554.6288756011218
         ]
        },
        {
         "hoverinfo": "skip",
         "marker": {
          "color": "red",
          "showscale": false,
          "size": 10
         },
         "name": "a_bus__ex_53_55_144",
         "showlegend": false,
         "type": "scatter",
         "x": [
          732.2174885686121
         ],
         "y": [
          441.3711243988783
         ]
        },
        {
         "hoverinfo": "skip",
         "marker": {
          "color": "rgb(8,48,107)",
          "showscale": false,
          "size": 10,
          "symbol": "triangle-se"
         },
         "name": "a_->_53_55_144",
         "showlegend": false,
         "type": "scatter",
         "x": [
          644.5650228627758,
          641.3041857189799
         ],
         "y": [
          543.2577512022435,
          547.0481260018696
         ]
        },
        {
         "hoverinfo": "skip",
         "line": {
          "color": "rgb(8,81,156)"
         },
         "name": "a54_55_145",
         "showlegend": false,
         "type": "scatter",
         "x": [
          783,
          742
         ],
         "y": [
          515,
          430
         ]
        },
        {
         "hoverinfo": "skip",
         "marker": {
          "color": "red",
          "showscale": false,
          "size": 10
         },
         "name": "a_bus__or_54_55_145",
         "showlegend": false,
         "type": "scatter",
         "x": [
          776.4832093388695
         ],
         "y": [
          501.4895803366808
         ]
        },
        {
         "hoverinfo": "skip",
         "marker": {
          "color": "red",
          "showscale": false,
          "size": 10
         },
         "name": "a_bus__ex_54_55_145",
         "showlegend": false,
         "type": "scatter",
         "x": [
          748.5167906611305
         ],
         "y": [
          443.5104196633192
         ]
        },
        {
         "hoverinfo": "skip",
         "marker": {
          "color": "rgb(8,81,156)",
          "showscale": false,
          "size": 10,
          "symbol": "triangle-ne"
         },
         "name": "a_->_54_55_145",
         "showlegend": false,
         "type": "scatter",
         "x": [
          769.9664186777391,
          772.1386822314493
         ],
         "y": [
          487.97916067336155,
          492.48263389446794
         ]
        },
        {
         "hoverinfo": "skip",
         "line": {
          "color": "rgb(66,146,198)"
         },
         "name": "a55_56_146",
         "showlegend": false,
         "type": "scatter",
         "x": [
          742,
          776
         ],
         "y": [
          430,
          365
         ]
        },
        {
         "hoverinfo": "skip",
         "marker": {
          "color": "red",
          "showscale": false,
          "size": 10
         },
         "name": "a_bus__or_55_56_146",
         "showlegend": false,
         "type": "scatter",
         "x": [
          748.9524629005
         ],
         "y": [
          416.7085268078677
         ]
        },
        {
         "hoverinfo": "skip",
         "marker": {
          "color": "red",
          "showscale": false,
          "size": 10
         },
         "name": "a_bus__ex_55_56_146",
         "showlegend": false,
         "type": "scatter",
         "x": [
          769.0475370995
         ],
         "y": [
          378.2914731921323
         ]
        },
        {
         "hoverinfo": "skip",
         "marker": {
          "color": "rgb(66,146,198)",
          "showscale": false,
          "size": 10,
          "symbol": "triangle-nw"
         },
         "name": "a_->_55_56_146",
         "showlegend": false,
         "type": "scatter",
         "x": [
          755.904925801,
          753.5874381675
         ],
         "y": [
          403.4170536157354,
          407.8475446797795
         ]
        },
        {
         "hoverinfo": "skip",
         "line": {
          "color": "rgb(253,141,60)"
         },
         "name": "a49_56_147",
         "showlegend": false,
         "type": "scatter",
         "x": [
          776,
          776
         ],
         "y": [
          300,
          365
         ]
        },
        {
         "hoverinfo": "skip",
         "marker": {
          "color": "red",
          "showscale": false,
          "size": 10
         },
         "name": "a_bus__or_49_56_147",
         "showlegend": false,
         "type": "scatter",
         "x": [
          776
         ],
         "y": [
          315
         ]
        },
        {
         "hoverinfo": "skip",
         "marker": {
          "color": "red",
          "showscale": false,
          "size": 10
         },
         "name": "a_bus__ex_49_56_147",
         "showlegend": false,
         "type": "scatter",
         "x": [
          776
         ],
         "y": [
          350
         ]
        },
        {
         "hoverinfo": "skip",
         "marker": {
          "color": "rgb(253,141,60)",
          "showscale": false,
          "size": 10,
          "symbol": "triangle-up"
         },
         "name": "a_->_49_56_147",
         "showlegend": false,
         "type": "scatter",
         "x": [
          776,
          776
         ],
         "y": [
          330,
          325
         ]
        },
        {
         "hoverinfo": "skip",
         "line": {
          "color": "rgb(33,113,181)"
         },
         "name": "a55_57_148",
         "showlegend": false,
         "type": "scatter",
         "x": [
          742,
          706
         ],
         "y": [
          430,
          365
         ]
        },
        {
         "hoverinfo": "skip",
         "marker": {
          "color": "red",
          "showscale": false,
          "size": 10
         },
         "name": "a_bus__or_55_57_148",
         "showlegend": false,
         "type": "scatter",
         "x": [
          734.7325025802135
         ],
         "y": [
          416.87812965871876
         ]
        },
        {
         "hoverinfo": "skip",
         "marker": {
          "color": "red",
          "showscale": false,
          "size": 10
         },
         "name": "a_bus__ex_55_57_148",
         "showlegend": false,
         "type": "scatter",
         "x": [
          713.2674974197865
         ],
         "y": [
          378.12187034128124
         ]
        },
        {
         "hoverinfo": "skip",
         "marker": {
          "color": "rgb(33,113,181)",
          "showscale": false,
          "size": 10,
          "symbol": "triangle-ne"
         },
         "name": "a_->_55_57_148",
         "showlegend": false,
         "type": "scatter",
         "x": [
          727.4650051604269,
          729.8875043003558
         ],
         "y": [
          403.7562593174375,
          408.1302160978646
         ]
        },
        {
         "hoverinfo": "skip",
         "line": {
          "color": "rgb(66,146,198)"
         },
         "name": "a50_57_149",
         "showlegend": false,
         "type": "scatter",
         "x": [
          706,
          706
         ],
         "y": [
          300,
          365
         ]
        },
        {
         "hoverinfo": "skip",
         "marker": {
          "color": "red",
          "showscale": false,
          "size": 10
         },
         "name": "a_bus__or_50_57_149",
         "showlegend": false,
         "type": "scatter",
         "x": [
          706
         ],
         "y": [
          315
         ]
        },
        {
         "hoverinfo": "skip",
         "marker": {
          "color": "red",
          "showscale": false,
          "size": 10
         },
         "name": "a_bus__ex_50_57_149",
         "showlegend": false,
         "type": "scatter",
         "x": [
          706
         ],
         "y": [
          350
         ]
        },
        {
         "hoverinfo": "skip",
         "marker": {
          "color": "rgb(66,146,198)",
          "showscale": false,
          "size": 10,
          "symbol": "triangle-up"
         },
         "name": "a_->_50_57_149",
         "showlegend": false,
         "type": "scatter",
         "x": [
          706,
          706
         ],
         "y": [
          330,
          325
         ]
        },
        {
         "hoverinfo": "skip",
         "line": {
          "color": "rgb(8,81,156)"
         },
         "name": "a53_58_150",
         "showlegend": false,
         "type": "scatter",
         "x": [
          625,
          982
         ],
         "y": [
          566,
          529
         ]
        },
        {
         "hoverinfo": "skip",
         "marker": {
          "color": "red",
          "showscale": false,
          "size": 10
         },
         "name": "a_bus__or_53_58_150",
         "showlegend": false,
         "type": "scatter",
         "x": [
          639.9200816258395
         ],
         "y": [
          564.4536610079662
         ]
        },
        {
         "hoverinfo": "skip",
         "marker": {
          "color": "red",
          "showscale": false,
          "size": 10
         },
         "name": "a_bus__ex_53_58_150",
         "showlegend": false,
         "type": "scatter",
         "x": [
          967.0799183741605
         ],
         "y": [
          530.5463389920338
         ]
        },
        {
         "hoverinfo": "skip",
         "marker": {
          "color": "rgb(8,81,156)",
          "showscale": false,
          "size": 10,
          "symbol": "triangle-left"
         },
         "name": "a_->_53_58_150",
         "showlegend": false,
         "type": "scatter",
         "x": [
          654.8401632516791,
          649.8668027097326
         ],
         "y": [
          562.9073220159324,
          563.4227683466104
         ]
        },
        {
         "hoverinfo": "skip",
         "line": {
          "color": "rgb(33,113,181)"
         },
         "name": "a3_10_151",
         "showlegend": false,
         "type": "scatter",
         "x": [
          -940,
          -847
         ],
         "y": [
          461,
          465
         ]
        },
        {
         "hoverinfo": "skip",
         "marker": {
          "color": "red",
          "showscale": false,
          "size": 10
         },
         "name": "a_bus__or_3_10_151",
         "showlegend": false,
         "type": "scatter",
         "x": [
          -925.0138552159806
         ],
         "y": [
          461.6445653670546
         ]
        },
        {
         "hoverinfo": "skip",
         "marker": {
          "color": "red",
          "showscale": false,
          "size": 10
         },
         "name": "a_bus__ex_3_10_151",
         "showlegend": false,
         "type": "scatter",
         "x": [
          -861.9861447840194
         ],
         "y": [
          464.3554346329454
         ]
        },
        {
         "hoverinfo": "skip",
         "marker": {
          "color": "rgb(33,113,181)",
          "showscale": false,
          "size": 10,
          "symbol": "triangle-right"
         },
         "name": "a_->_3_10_151",
         "showlegend": false,
         "type": "scatter",
         "x": [
          -910.027710431961,
          -915.0230920266342
         ],
         "y": [
          462.2891307341092,
          462.0742756117577
         ]
        },
        {
         "hoverinfo": "skip",
         "line": {
          "color": "rgb(8,81,156)"
         },
         "name": "a55_58_152",
         "showlegend": false,
         "type": "scatter",
         "x": [
          740.8560072311413,
          980.8560072311413
         ],
         "y": [
          432.77331580329377,
          531.7733158032938
         ]
        },
        {
         "hoverinfo": "skip",
         "marker": {
          "color": "red",
          "showscale": false,
          "size": 10
         },
         "name": "a_bus__or_55_58_152",
         "showlegend": false,
         "type": "scatter",
         "x": [
          754.7225862476103
         ],
         "y": [
          438.4932796475872
         ]
        },
        {
         "hoverinfo": "skip",
         "marker": {
          "color": "red",
          "showscale": false,
          "size": 10
         },
         "name": "a_bus__ex_55_58_152",
         "showlegend": false,
         "type": "scatter",
         "x": [
          966.9894282146724
         ],
         "y": [
          526.0533519590005
         ]
        },
        {
         "hoverinfo": "skip",
         "marker": {
          "color": "rgb(8,81,156)",
          "showscale": false,
          "size": 10,
          "symbol": "triangle-sw"
         },
         "name": "a_->_55_58_152",
         "showlegend": false,
         "type": "scatter",
         "x": [
          768.5891652640792,
          763.9669722585895
         ],
         "y": [
          444.21324349188063,
          442.30658887711616
         ]
        },
        {
         "hoverinfo": "skip",
         "line": {
          "color": "rgb(8,81,156)"
         },
         "name": "a55_58_153",
         "showlegend": false,
         "type": "scatter",
         "x": [
          743.1439927688587,
          983.1439927688587
         ],
         "y": [
          427.22668419670623,
          526.2266841967062
         ]
        },
        {
         "hoverinfo": "skip",
         "marker": {
          "color": "red",
          "showscale": false,
          "size": 10
         },
         "name": "a_bus__or_55_58_153",
         "showlegend": false,
         "type": "scatter",
         "x": [
          757.0105717853276
         ],
         "y": [
          432.94664804099966
         ]
        },
        {
         "hoverinfo": "skip",
         "marker": {
          "color": "red",
          "showscale": false,
          "size": 10
         },
         "name": "a_bus__ex_55_58_153",
         "showlegend": false,
         "type": "scatter",
         "x": [
          969.2774137523897
         ],
         "y": [
          520.5067203524128
         ]
        },
        {
         "hoverinfo": "skip",
         "marker": {
          "color": "rgb(8,81,156)",
          "showscale": false,
          "size": 10,
          "symbol": "triangle-sw"
         },
         "name": "a_->_55_58_153",
         "showlegend": false,
         "type": "scatter",
         "x": [
          770.8771508017965,
          766.2549577963068
         ],
         "y": [
          438.6666118852931,
          436.7599572705286
         ]
        },
        {
         "hoverinfo": "skip",
         "line": {
          "color": "rgb(33,113,181)"
         },
         "name": "a54_58_154",
         "showlegend": false,
         "type": "scatter",
         "x": [
          783,
          982
         ],
         "y": [
          515,
          529
         ]
        },
        {
         "hoverinfo": "skip",
         "marker": {
          "color": "red",
          "showscale": false,
          "size": 10
         },
         "name": "a_bus__or_54_58_154",
         "showlegend": false,
         "type": "scatter",
         "x": [
          797.963016950872
         ],
         "y": [
          516.0526745593578
         ]
        },
        {
         "hoverinfo": "skip",
         "marker": {
          "color": "red",
          "showscale": false,
          "size": 10
         },
         "name": "a_bus__ex_54_58_154",
         "showlegend": false,
         "type": "scatter",
         "x": [
          967.036983049128
         ],
         "y": [
          527.9473254406422
         ]
        },
        {
         "hoverinfo": "skip",
         "marker": {
          "color": "rgb(33,113,181)",
          "showscale": false,
          "size": 10,
          "symbol": "triangle-left"
         },
         "name": "a_->_54_58_154",
         "showlegend": false,
         "type": "scatter",
         "x": [
          812.9260339017438,
          807.9383615847865
         ],
         "y": [
          517.1053491187156,
          516.7544575989297
         ]
        },
        {
         "hoverinfo": "skip",
         "line": {
          "color": "rgb(8,48,107)"
         },
         "name": "a58_59_155",
         "showlegend": false,
         "type": "scatter",
         "x": [
          982,
          908
         ],
         "y": [
          529,
          254
         ]
        },
        {
         "hoverinfo": "skip",
         "marker": {
          "color": "red",
          "showscale": false,
          "size": 10
         },
         "name": "a_bus__or_58_59_155",
         "showlegend": false,
         "type": "scatter",
         "x": [
          978.1022868511421
         ],
         "y": [
          514.5152551900553
         ]
        },
        {
         "hoverinfo": "skip",
         "marker": {
          "color": "red",
          "showscale": false,
          "size": 10
         },
         "name": "a_bus__ex_58_59_155",
         "showlegend": false,
         "type": "scatter",
         "x": [
          911.8977131488579
         ],
         "y": [
          268.48474480994474
         ]
        },
        {
         "hoverinfo": "skip",
         "marker": {
          "color": "rgb(8,48,107)",
          "showscale": false,
          "size": 10,
          "symbol": "triangle-ne"
         },
         "name": "a_->_58_59_155",
         "showlegend": false,
         "type": "scatter",
         "x": [
          974.2045737022843,
          975.5038114185702
         ],
         "y": [
          500.0305103801105,
          504.8587586500921
         ]
        },
        {
         "hoverinfo": "skip",
         "line": {
          "color": "rgb(8,81,156)"
         },
         "name": "a58_60_156",
         "showlegend": false,
         "type": "scatter",
         "x": [
          982,
          950
         ],
         "y": [
          529,
          195
         ]
        },
        {
         "hoverinfo": "skip",
         "marker": {
          "color": "red",
          "showscale": false,
          "size": 10
         },
         "name": "a_bus__or_58_60_156",
         "showlegend": false,
         "type": "scatter",
         "x": [
          980.5694250528759
         ],
         "y": [
          514.0683739893922
         ]
        },
        {
         "hoverinfo": "skip",
         "marker": {
          "color": "red",
          "showscale": false,
          "size": 10
         },
         "name": "a_bus__ex_58_60_156",
         "showlegend": false,
         "type": "scatter",
         "x": [
          951.4305749471241
         ],
         "y": [
          209.93162601060786
         ]
        },
        {
         "hoverinfo": "skip",
         "marker": {
          "color": "rgb(8,81,156)",
          "showscale": false,
          "size": 10,
          "symbol": "triangle-up"
         },
         "name": "a_->_58_60_156",
         "showlegend": false,
         "type": "scatter",
         "x": [
          979.1388501057518,
          979.6157084214598
         ],
         "y": [
          499.1367479787843,
          504.1139566489869
         ]
        },
        {
         "hoverinfo": "skip",
         "line": {
          "color": "rgb(8,48,107)"
         },
         "name": "a59_60_157",
         "showlegend": false,
         "type": "scatter",
         "x": [
          908,
          950
         ],
         "y": [
          254,
          195
         ]
        },
        {
         "hoverinfo": "skip",
         "marker": {
          "color": "red",
          "showscale": false,
          "size": 10
         },
         "name": "a_bus__or_59_60_157",
         "showlegend": false,
         "type": "scatter",
         "x": [
          916.6989694008427
         ],
         "y": [
          241.78001917500674
         ]
        },
        {
         "hoverinfo": "skip",
         "marker": {
          "color": "red",
          "showscale": false,
          "size": 10
         },
         "name": "a_bus__ex_59_60_157",
         "showlegend": false,
         "type": "scatter",
         "x": [
          941.3010305991573
         ],
         "y": [
          207.21998082499326
         ]
        },
        {
         "hoverinfo": "skip",
         "marker": {
          "color": "rgb(8,48,107)",
          "showscale": false,
          "size": 10,
          "symbol": "triangle-nw"
         },
         "name": "a_->_59_60_157",
         "showlegend": false,
         "type": "scatter",
         "x": [
          925.3979388016853,
          922.4982823347377
         ],
         "y": [
          229.56003835001349,
          233.6333652916779
         ]
        },
        {
         "hoverinfo": "skip",
         "line": {
          "color": "rgb(33,113,181)"
         },
         "name": "a59_61_158",
         "showlegend": false,
         "type": "scatter",
         "x": [
          908,
          854
         ],
         "y": [
          254,
          185
         ]
        },
        {
         "hoverinfo": "skip",
         "marker": {
          "color": "red",
          "showscale": false,
          "size": 10
         },
         "name": "a_bus__or_59_61_158",
         "showlegend": false,
         "type": "scatter",
         "x": [
          898.7553760751283
         ],
         "y": [
          242.1874249848862
         ]
        },
        {
         "hoverinfo": "skip",
         "marker": {
          "color": "red",
          "showscale": false,
          "size": 10
         },
         "name": "a_bus__ex_59_61_158",
         "showlegend": false,
         "type": "scatter",
         "x": [
          863.2446239248717
         ],
         "y": [
          196.8125750151138
         ]
        },
        {
         "hoverinfo": "skip",
         "marker": {
          "color": "rgb(33,113,181)",
          "showscale": false,
          "size": 10,
          "symbol": "triangle-ne"
         },
         "name": "a_->_59_61_158",
         "showlegend": false,
         "type": "scatter",
         "x": [
          889.5107521502567,
          892.5922934585473
         ],
         "y": [
          230.3748499697724,
          234.31237497481035
         ]
        },
        {
         "hoverinfo": "skip",
         "line": {
          "color": "rgb(8,81,156)"
         },
         "name": "a60_61_159",
         "showlegend": false,
         "type": "scatter",
         "x": [
          950,
          854
         ],
         "y": [
          195,
          185
         ]
        },
        {
         "hoverinfo": "skip",
         "marker": {
          "color": "red",
          "showscale": false,
          "size": 10
         },
         "name": "a_bus__or_60_61_159",
         "showlegend": false,
         "type": "scatter",
         "x": [
          935.0807238666383
         ],
         "y": [
          193.44590873610815
         ]
        },
        {
         "hoverinfo": "skip",
         "marker": {
          "color": "red",
          "showscale": false,
          "size": 10
         },
         "name": "a_bus__ex_60_61_159",
         "showlegend": false,
         "type": "scatter",
         "x": [
          868.9192761333617
         ],
         "y": [
          186.55409126389185
         ]
        },
        {
         "hoverinfo": "skip",
         "marker": {
          "color": "rgb(8,81,156)",
          "showscale": false,
          "size": 10,
          "symbol": "triangle-right"
         },
         "name": "a_->_60_61_159",
         "showlegend": false,
         "type": "scatter",
         "x": [
          920.1614477332766,
          925.1345397777305
         ],
         "y": [
          191.8918174722163,
          192.4098478935136
         ]
        },
        {
         "hoverinfo": "skip",
         "line": {
          "color": "rgb(66,146,198)"
         },
         "name": "a62_63_160",
         "showlegend": false,
         "type": "scatter",
         "x": [
          1020,
          1013
         ],
         "y": [
          355,
          126
         ]
        },
        {
         "hoverinfo": "skip",
         "marker": {
          "color": "red",
          "showscale": false,
          "size": 10
         },
         "name": "a_bus__or_62_63_160",
         "showlegend": false,
         "type": "scatter",
         "x": [
          1019.5416987806906
         ],
         "y": [
          340.0070029683062
         ]
        },
        {
         "hoverinfo": "skip",
         "marker": {
          "color": "red",
          "showscale": false,
          "size": 10
         },
         "name": "a_bus__ex_62_63_160",
         "showlegend": false,
         "type": "scatter",
         "x": [
          1013.4583012193094
         ],
         "y": [
          140.99299703169382
         ]
        },
        {
         "hoverinfo": "skip",
         "marker": {
          "color": "rgb(66,146,198)",
          "showscale": false,
          "size": 10,
          "symbol": "triangle-up"
         },
         "name": "a_->_62_63_160",
         "showlegend": false,
         "type": "scatter",
         "x": [
          1019.0833975613812,
          1019.2361646344843
         ],
         "y": [
          325.01400593661236,
          330.01167161384365
         ]
        },
        {
         "hoverinfo": "skip",
         "line": {
          "color": "rgb(8,81,156)"
         },
         "name": "a37_64_161",
         "showlegend": false,
         "type": "scatter",
         "x": [
          231,
          786
         ],
         "y": [
          213,
          7
         ]
        },
        {
         "hoverinfo": "skip",
         "marker": {
          "color": "red",
          "showscale": false,
          "size": 10
         },
         "name": "a_bus__or_37_64_161",
         "showlegend": false,
         "type": "scatter",
         "x": [
          245.06256018845139
         ],
         "y": [
          207.7803830651874
         ]
        },
        {
         "hoverinfo": "skip",
         "marker": {
          "color": "red",
          "showscale": false,
          "size": 10
         },
         "name": "a_bus__ex_37_64_161",
         "showlegend": false,
         "type": "scatter",
         "x": [
          771.9374398115486
         ],
         "y": [
          12.219616934812585
         ]
        },
        {
         "hoverinfo": "skip",
         "marker": {
          "color": "rgb(8,81,156)",
          "showscale": false,
          "size": 10,
          "symbol": "triangle-se"
         },
         "name": "a_->_37_64_161",
         "showlegend": false,
         "type": "scatter",
         "x": [
          259.12512037690277,
          254.43760031408564
         ],
         "y": [
          202.56076613037484,
          204.30063844197903
         ]
        },
        {
         "hoverinfo": "skip",
         "line": {
          "color": "rgb(33,113,181)"
         },
         "name": "a4_10_162",
         "showlegend": false,
         "type": "scatter",
         "x": [
          -977,
          -847
         ],
         "y": [
          348,
          465
         ]
        },
        {
         "hoverinfo": "skip",
         "marker": {
          "color": "red",
          "showscale": false,
          "size": 10
         },
         "name": "a_bus__or_4_10_162",
         "showlegend": false,
         "type": "scatter",
         "x": [
          -965.8505878062925
         ],
         "y": [
          358.0344709743367
         ]
        },
        {
         "hoverinfo": "skip",
         "marker": {
          "color": "red",
          "showscale": false,
          "size": 10
         },
         "name": "a_bus__ex_4_10_162",
         "showlegend": false,
         "type": "scatter",
         "x": [
          -858.1494121937075
         ],
         "y": [
          454.9655290256633
         ]
        },
        {
         "hoverinfo": "skip",
         "marker": {
          "color": "rgb(33,113,181)",
          "showscale": false,
          "size": 10,
          "symbol": "triangle-ne"
         },
         "name": "a_->_4_10_162",
         "showlegend": false,
         "type": "scatter",
         "x": [
          -954.701175612585,
          -958.4176463438208
         ],
         "y": [
          368.0689419486735,
          364.72411829056125
         ]
        },
        {
         "hoverinfo": "skip",
         "line": {
          "color": "rgb(8,81,156)"
         },
         "name": "a63_64_163",
         "showlegend": false,
         "type": "scatter",
         "x": [
          1013,
          786
         ],
         "y": [
          126,
          7
         ]
        },
        {
         "hoverinfo": "skip",
         "marker": {
          "color": "red",
          "showscale": false,
          "size": 10
         },
         "name": "a_bus__or_63_64_163",
         "showlegend": false,
         "type": "scatter",
         "x": [
          999.7148187059594
         ],
         "y": [
          119.0355217004809
         ]
        },
        {
         "hoverinfo": "skip",
         "marker": {
          "color": "red",
          "showscale": false,
          "size": 10
         },
         "name": "a_bus__ex_63_64_163",
         "showlegend": false,
         "type": "scatter",
         "x": [
          799.2851812940406
         ],
         "y": [
          13.964478299519104
         ]
        },
        {
         "hoverinfo": "skip",
         "marker": {
          "color": "rgb(8,81,156)",
          "showscale": false,
          "size": 10,
          "symbol": "triangle-ne"
         },
         "name": "a_->_63_64_163",
         "showlegend": false,
         "type": "scatter",
         "x": [
          986.4296374119187,
          990.858031176599
         ],
         "y": [
          112.0710434009618,
          114.39253616746817
         ]
        },
        {
         "hoverinfo": "skip",
         "line": {
          "color": "rgb(8,81,156)"
         },
         "name": "a48_65_164",
         "showlegend": false,
         "type": "scatter",
         "x": [
          584.6392706429904,
          748.6392706429904
         ],
         "y": [
          211.51252696682639,
          104.5125269668264
         ]
        },
        {
         "hoverinfo": "skip",
         "marker": {
          "color": "red",
          "showscale": false,
          "size": 10
         },
         "name": "a_bus__or_48_65_164",
         "showlegend": false,
         "type": "scatter",
         "x": [
          597.2019054771224
         ],
         "y": [
          203.31617375187443
         ]
        },
        {
         "hoverinfo": "skip",
         "marker": {
          "color": "red",
          "showscale": false,
          "size": 10
         },
         "name": "a_bus__ex_48_65_164",
         "showlegend": false,
         "type": "scatter",
         "x": [
          736.0766358088583
         ],
         "y": [
          112.70888018177837
         ]
        },
        {
         "hoverinfo": "skip",
         "marker": {
          "color": "rgb(8,81,156)",
          "showscale": false,
          "size": 10,
          "symbol": "triangle-nw"
         },
         "name": "a_->_48_65_164",
         "showlegend": false,
         "type": "scatter",
         "x": [
          609.7645403112543,
          605.5769953665437
         ],
         "y": [
          195.11982053692245,
          197.85193827523977
         ]
        },
        {
         "hoverinfo": "skip",
         "line": {
          "color": "rgb(8,81,156)"
         },
         "name": "a48_65_165",
         "showlegend": false,
         "type": "scatter",
         "x": [
          581.3607293570096,
          745.3607293570096
         ],
         "y": [
          206.48747303317361,
          99.4874730331736
         ]
        },
        {
         "hoverinfo": "skip",
         "marker": {
          "color": "red",
          "showscale": false,
          "size": 10
         },
         "name": "a_bus__or_48_65_165",
         "showlegend": false,
         "type": "scatter",
         "x": [
          593.9233641911417
         ],
         "y": [
          198.29111981822166
         ]
        },
        {
         "hoverinfo": "skip",
         "marker": {
          "color": "red",
          "showscale": false,
          "size": 10
         },
         "name": "a_bus__ex_48_65_165",
         "showlegend": false,
         "type": "scatter",
         "x": [
          732.7980945228776
         ],
         "y": [
          107.68382624812557
         ]
        },
        {
         "hoverinfo": "skip",
         "marker": {
          "color": "rgb(8,81,156)",
          "showscale": false,
          "size": 10,
          "symbol": "triangle-nw"
         },
         "name": "a_->_48_65_165",
         "showlegend": false,
         "type": "scatter",
         "x": [
          606.4859990252736,
          602.2984540805629
         ],
         "y": [
          190.09476660326968,
          192.826884341587
         ]
        },
        {
         "hoverinfo": "skip",
         "line": {
          "color": "rgb(66,146,198)"
         },
         "name": "a61_65_166",
         "showlegend": false,
         "type": "scatter",
         "x": [
          854,
          747
         ],
         "y": [
          185,
          102
         ]
        },
        {
         "hoverinfo": "skip",
         "marker": {
          "color": "red",
          "showscale": false,
          "size": 10
         },
         "name": "a_bus__or_61_65_166",
         "showlegend": false,
         "type": "scatter",
         "x": [
          842.1477977848095
         ],
         "y": [
          175.80623566485227
         ]
        },
        {
         "hoverinfo": "skip",
         "marker": {
          "color": "red",
          "showscale": false,
          "size": 10
         },
         "name": "a_bus__ex_61_65_166",
         "showlegend": false,
         "type": "scatter",
         "x": [
          758.8522022151905
         ],
         "y": [
          111.19376433514773
         ]
        },
        {
         "hoverinfo": "skip",
         "marker": {
          "color": "rgb(66,146,198)",
          "showscale": false,
          "size": 10,
          "symbol": "triangle-ne"
         },
         "name": "a_->_61_65_166",
         "showlegend": false,
         "type": "scatter",
         "x": [
          830.2955955696191,
          834.2463296413492
         ],
         "y": [
          166.61247132970453,
          169.67705944142045
         ]
        },
        {
         "hoverinfo": "skip",
         "line": {
          "color": "rgb(33,113,181)"
         },
         "name": "a61_66_167",
         "showlegend": false,
         "type": "scatter",
         "x": [
          854,
          841
         ],
         "y": [
          185,
          94
         ]
        },
        {
         "hoverinfo": "skip",
         "marker": {
          "color": "red",
          "showscale": false,
          "size": 10
         },
         "name": "a_bus__or_61_66_167",
         "showlegend": false,
         "type": "scatter",
         "x": [
          851.8786796564403
         ],
         "y": [
          170.1507575950825
         ]
        },
        {
         "hoverinfo": "skip",
         "marker": {
          "color": "red",
          "showscale": false,
          "size": 10
         },
         "name": "a_bus__ex_61_66_167",
         "showlegend": false,
         "type": "scatter",
         "x": [
          843.1213203435597
         ],
         "y": [
          108.8492424049175
         ]
        },
        {
         "hoverinfo": "skip",
         "marker": {
          "color": "rgb(33,113,181)",
          "showscale": false,
          "size": 10,
          "symbol": "triangle-up"
         },
         "name": "a_->_61_66_167",
         "showlegend": false,
         "type": "scatter",
         "x": [
          849.7573593128807,
          850.4644660940672
         ],
         "y": [
          155.301515190165,
          160.25126265847084
         ]
        },
        {
         "hoverinfo": "skip",
         "line": {
          "color": "rgb(33,113,181)"
         },
         "name": "a65_66_168",
         "showlegend": false,
         "type": "scatter",
         "x": [
          747,
          841
         ],
         "y": [
          102,
          94
         ]
        },
        {
         "hoverinfo": "skip",
         "marker": {
          "color": "red",
          "showscale": false,
          "size": 10
         },
         "name": "a_bus__or_65_66_168",
         "showlegend": false,
         "type": "scatter",
         "x": [
          761.9459701080897
         ],
         "y": [
          100.72800254399237
         ]
        },
        {
         "hoverinfo": "skip",
         "marker": {
          "color": "red",
          "showscale": false,
          "size": 10
         },
         "name": "a_bus__ex_65_66_168",
         "showlegend": false,
         "type": "scatter",
         "x": [
          826.0540298919103
         ],
         "y": [
          95.27199745600763
         ]
        },
        {
         "hoverinfo": "skip",
         "marker": {
          "color": "rgb(33,113,181)",
          "showscale": false,
          "size": 10,
          "symbol": "triangle-right"
         },
         "name": "a_->_65_66_168",
         "showlegend": false,
         "type": "scatter",
         "x": [
          776.8919402161794,
          771.9099501801495
         ],
         "y": [
          99.45600508798475,
          99.88000423998729
         ]
        },
        {
         "hoverinfo": "skip",
         "line": {
          "color": "rgb(8,81,156)"
         },
         "name": "a46_68_169",
         "showlegend": false,
         "type": "scatter",
         "x": [
          460,
          485
         ],
         "y": [
          182,
          51
         ]
        },
        {
         "hoverinfo": "skip",
         "marker": {
          "color": "red",
          "showscale": false,
          "size": 10
         },
         "name": "a_bus__or_46_68_169",
         "showlegend": false,
         "type": "scatter",
         "x": [
          462.8118498348923
         ],
         "y": [
          167.2659068651642
         ]
        },
        {
         "hoverinfo": "skip",
         "marker": {
          "color": "red",
          "showscale": false,
          "size": 10
         },
         "name": "a_bus__ex_46_68_169",
         "showlegend": false,
         "type": "scatter",
         "x": [
          482.1881501651077
         ],
         "y": [
          65.73409313483582
         ]
        },
        {
         "hoverinfo": "skip",
         "marker": {
          "color": "rgb(8,81,156)",
          "showscale": false,
          "size": 10,
          "symbol": "triangle-up"
         },
         "name": "a_->_46_68_169",
         "showlegend": false,
         "type": "scatter",
         "x": [
          465.6236996697847,
          464.6864163914872
         ],
         "y": [
          152.53181373032834,
          157.44317810860696
         ]
        },
        {
         "hoverinfo": "skip",
         "line": {
          "color": "rgb(8,48,107)"
         },
         "name": "a48_68_170",
         "showlegend": false,
         "type": "scatter",
         "x": [
          583,
          485
         ],
         "y": [
          209,
          51
         ]
        },
        {
         "hoverinfo": "skip",
         "marker": {
          "color": "red",
          "showscale": false,
          "size": 10
         },
         "name": "a_bus__or_48_68_170",
         "showlegend": false,
         "type": "scatter",
         "x": [
          575.0935740441391
         ],
         "y": [
          196.25290509157128
         ]
        },
        {
         "hoverinfo": "skip",
         "marker": {
          "color": "red",
          "showscale": false,
          "size": 10
         },
         "name": "a_bus__ex_48_68_170",
         "showlegend": false,
         "type": "scatter",
         "x": [
          492.90642595586087
         ],
         "y": [
          63.747094908428735
         ]
        },
        {
         "hoverinfo": "skip",
         "marker": {
          "color": "rgb(8,48,107)",
          "showscale": false,
          "size": 10,
          "symbol": "triangle-ne"
         },
         "name": "a_->_48_68_170",
         "showlegend": false,
         "type": "scatter",
         "x": [
          567.1871480882783,
          569.8226234068985
         ],
         "y": [
          183.50581018314253,
          187.75484181928545
         ]
        },
        {
         "hoverinfo": "skip",
         "line": {
          "color": "rgb(8,48,107)"
         },
         "name": "a68_69_171",
         "showlegend": false,
         "type": "scatter",
         "x": [
          485,
          160
         ],
         "y": [
          51,
          41
         ]
        },
        {
         "hoverinfo": "skip",
         "marker": {
          "color": "red",
          "showscale": false,
          "size": 10
         },
         "name": "a_bus__or_68_69_171",
         "showlegend": false,
         "type": "scatter",
         "x": [
          470.0070955538502
         ],
         "y": [
          50.53867986319539
         ]
        },
        {
         "hoverinfo": "skip",
         "marker": {
          "color": "red",
          "showscale": false,
          "size": 10
         },
         "name": "a_bus__ex_68_69_171",
         "showlegend": false,
         "type": "scatter",
         "x": [
          174.9929044461498
         ],
         "y": [
          41.46132013680461
         ]
        },
        {
         "hoverinfo": "skip",
         "marker": {
          "color": "rgb(8,48,107)",
          "showscale": false,
          "size": 10,
          "symbol": "triangle-right"
         },
         "name": "a_->_68_69_171",
         "showlegend": false,
         "type": "scatter",
         "x": [
          455.0141911077004,
          460.0118259230837
         ],
         "y": [
          50.07735972639078,
          50.231133105325654
         ]
        },
        {
         "hoverinfo": "skip",
         "line": {
          "color": "rgb(8,48,107)"
         },
         "name": "a23_69_172",
         "showlegend": false,
         "type": "scatter",
         "x": [
          -49,
          160
         ],
         "y": [
          43,
          41
         ]
        },
        {
         "hoverinfo": "skip",
         "marker": {
          "color": "red",
          "showscale": false,
          "size": 10
         },
         "name": "a_bus__or_23_69_172",
         "showlegend": false,
         "type": "scatter",
         "x": [
          -34.00068675029795
         ],
         "y": [
          42.85646590191673
         ]
        },
        {
         "hoverinfo": "skip",
         "marker": {
          "color": "red",
          "showscale": false,
          "size": 10
         },
         "name": "a_bus__ex_23_69_172",
         "showlegend": false,
         "type": "scatter",
         "x": [
          145.00068675029794
         ],
         "y": [
          41.14353409808327
         ]
        },
        {
         "hoverinfo": "skip",
         "marker": {
          "color": "rgb(8,48,107)",
          "showscale": false,
          "size": 10,
          "symbol": "triangle-right"
         },
         "name": "a_->_23_69_172",
         "showlegend": false,
         "type": "scatter",
         "x": [
          -19.001373500595903,
          -24.00114458382992
         ],
         "y": [
          42.71293180383345,
          42.76077650319454
         ]
        },
        {
         "hoverinfo": "skip",
         "line": {
          "color": "rgb(33,113,181)"
         },
         "name": "a7_4_173",
         "showlegend": false,
         "type": "scatter",
         "x": [
          -969,
          -977
         ],
         "y": [
          131,
          348
         ]
        },
        {
         "hoverinfo": "skip",
         "marker": {
          "color": "red",
          "showscale": false,
          "size": 10
         },
         "name": "a_bus__or_7_4_173",
         "showlegend": false,
         "type": "scatter",
         "x": [
          -969.5526199784506
         ],
         "y": [
          145.98981691547357
         ]
        },
        {
         "hoverinfo": "skip",
         "marker": {
          "color": "red",
          "showscale": false,
          "size": 10
         },
         "name": "a_bus__ex_7_4_173",
         "showlegend": false,
         "type": "scatter",
         "x": [
          -976.4473800215494
         ],
         "y": [
          333.01018308452643
         ]
        },
        {
         "hoverinfo": "skip",
         "marker": {
          "color": "rgb(33,113,181)",
          "showscale": false,
          "size": 10,
          "symbol": "triangle-up"
         },
         "name": "a_->_7_4_173",
         "showlegend": false,
         "type": "scatter",
         "x": [
          -970.1052399569012,
          -969.9210332974177
         ],
         "y": [
          160.9796338309471,
          155.98302819245592
         ]
        },
        {
         "hoverinfo": "skip",
         "line": {
          "color": "rgb(66,146,198)"
         },
         "name": "a25_24_174",
         "showlegend": false,
         "type": "scatter",
         "x": [
          -493,
          -462
         ],
         "y": [
          -122,
          -236
         ]
        },
        {
         "hoverinfo": "skip",
         "marker": {
          "color": "red",
          "showscale": false,
          "size": 10
         },
         "name": "a_bus__or_25_24_174",
         "showlegend": false,
         "type": "scatter",
         "x": [
          -489.06398347017034
         ],
         "y": [
          -136.4743833677607
         ]
        },
        {
         "hoverinfo": "skip",
         "marker": {
          "color": "red",
          "showscale": false,
          "size": 10
         },
         "name": "a_bus__ex_25_24_174",
         "showlegend": false,
         "type": "scatter",
         "x": [
          -465.93601652982966
         ],
         "y": [
          -221.5256166322393
         ]
        },
        {
         "hoverinfo": "skip",
         "marker": {
          "color": "rgb(66,146,198)",
          "showscale": false,
          "size": 10,
          "symbol": "triangle-se"
         },
         "name": "a_->_25_24_174",
         "showlegend": false,
         "type": "scatter",
         "x": [
          -485.1279669403407,
          -486.4399724502839
         ],
         "y": [
          -150.9487667355214,
          -146.12397227960116
         ]
        },
        {
         "hoverinfo": "skip",
         "line": {
          "color": "rgb(8,81,156)"
         },
         "name": "a80_79_175",
         "showlegend": false,
         "type": "scatter",
         "x": [
          621,
          599
         ],
         "y": [
          -139,
          -207
         ]
        },
        {
         "hoverinfo": "skip",
         "marker": {
          "color": "red",
          "showscale": false,
          "size": 10
         },
         "name": "a_bus__or_80_79_175",
         "showlegend": false,
         "type": "scatter",
         "x": [
          616.38269571878
         ],
         "y": [
          -153.27166777831616
         ]
        },
        {
         "hoverinfo": "skip",
         "marker": {
          "color": "red",
          "showscale": false,
          "size": 10
         },
         "name": "a_bus__ex_80_79_175",
         "showlegend": false,
         "type": "scatter",
         "x": [
          603.61730428122
         ],
         "y": [
          -192.72833222168384
         ]
        },
        {
         "hoverinfo": "skip",
         "marker": {
          "color": "rgb(8,81,156)",
          "showscale": false,
          "size": 10,
          "symbol": "triangle-sw"
         },
         "name": "a_->_80_79_175",
         "showlegend": false,
         "type": "scatter",
         "x": [
          611.7653914375601,
          613.3044928646334
         ],
         "y": [
          -167.54333555663234,
          -162.7861129638603
         ]
        },
        {
         "hoverinfo": "skip",
         "line": {
          "color": "rgb(8,48,107)"
         },
         "name": "a86_85_176",
         "showlegend": false,
         "type": "scatter",
         "x": [
          181,
          118
         ],
         "y": [
          -595,
          -565
         ]
        },
        {
         "hoverinfo": "skip",
         "marker": {
          "color": "red",
          "showscale": false,
          "size": 10
         },
         "name": "a_bus__or_86_85_176",
         "showlegend": false,
         "type": "scatter",
         "x": [
          167.45709221764105
         ],
         "y": [
          -588.5509962941148
         ]
        },
        {
         "hoverinfo": "skip",
         "marker": {
          "color": "red",
          "showscale": false,
          "size": 10
         },
         "name": "a_bus__ex_86_85_176",
         "showlegend": false,
         "type": "scatter",
         "x": [
          131.54290778235895
         ],
         "y": [
          -571.4490037058852
         ]
        },
        {
         "hoverinfo": "skip",
         "marker": {
          "color": "rgb(8,48,107)",
          "showscale": false,
          "size": 10,
          "symbol": "triangle-nw"
         },
         "name": "a_->_86_85_176",
         "showlegend": false,
         "type": "scatter",
         "x": [
          153.9141844352821,
          158.42848702940174
         ],
         "y": [
          -582.1019925882296,
          -584.2516604901913
         ]
        },
        {
         "hoverinfo": "skip",
         "line": {
          "color": "rgb(66,146,198)"
         },
         "name": "a115_67_177",
         "showlegend": false,
         "type": "scatter",
         "x": [
          671,
          579
         ],
         "y": [
          -42,
          25
         ]
        },
        {
         "hoverinfo": "skip",
         "marker": {
          "color": "red",
          "showscale": false,
          "size": 10
         },
         "name": "a_bus__or_115_67_177",
         "showlegend": false,
         "type": "scatter",
         "x": [
          658.8746606036162
         ],
         "y": [
          -33.16958978741619
         ]
        },
        {
         "hoverinfo": "skip",
         "marker": {
          "color": "red",
          "showscale": false,
          "size": 10
         },
         "name": "a_bus__ex_115_67_177",
         "showlegend": false,
         "type": "scatter",
         "x": [
          591.1253393963838
         ],
         "y": [
          16.169589787416193
         ]
        },
        {
         "hoverinfo": "skip",
         "marker": {
          "color": "rgb(66,146,198)",
          "showscale": false,
          "size": 10,
          "symbol": "triangle-nw"
         },
         "name": "a_->_115_67_177",
         "showlegend": false,
         "type": "scatter",
         "x": [
          646.7493212072326,
          650.7911010060271
         ],
         "y": [
          -24.339179574832382,
          -27.282649645693652
         ]
        },
        {
         "hoverinfo": "skip",
         "line": {
          "color": "rgb(66,146,198)"
         },
         "name": "a29_16_178",
         "showlegend": false,
         "type": "scatter",
         "x": [
          -562,
          -586
         ],
         "y": [
          131,
          205
         ]
        },
        {
         "hoverinfo": "skip",
         "marker": {
          "color": "red",
          "showscale": false,
          "size": 10
         },
         "name": "a_bus__or_29_16_178",
         "showlegend": false,
         "type": "scatter",
         "x": [
          -566.6275704705615
         ],
         "y": [
          145.26834228423144
         ]
        },
        {
         "hoverinfo": "skip",
         "marker": {
          "color": "red",
          "showscale": false,
          "size": 10
         },
         "name": "a_bus__ex_29_16_178",
         "showlegend": false,
         "type": "scatter",
         "x": [
          -581.3724295294385
         ],
         "y": [
          190.73165771576856
         ]
        },
        {
         "hoverinfo": "skip",
         "marker": {
          "color": "rgb(66,146,198)",
          "showscale": false,
          "size": 10,
          "symbol": "triangle-nw"
         },
         "name": "a_->_29_16_178",
         "showlegend": false,
         "type": "scatter",
         "x": [
          -571.255140941123,
          -569.7126174509359
         ],
         "y": [
          159.5366845684629,
          154.78057047371908
         ]
        },
        {
         "hoverinfo": "skip",
         "line": {
          "color": "rgb(253,141,60)"
         },
         "name": "a37_36_179",
         "showlegend": false,
         "type": "scatter",
         "x": [
          231,
          194
         ],
         "y": [
          213,
          411
         ]
        },
        {
         "hoverinfo": "skip",
         "marker": {
          "color": "red",
          "showscale": false,
          "size": 10
         },
         "name": "a_bus__or_37_36_179",
         "showlegend": false,
         "type": "scatter",
         "x": [
          228.24466491300984
         ],
         "y": [
          227.7447661411906
         ]
        },
        {
         "hoverinfo": "skip",
         "marker": {
          "color": "red",
          "showscale": false,
          "size": 10
         },
         "name": "a_bus__ex_37_36_179",
         "showlegend": false,
         "type": "scatter",
         "x": [
          196.75533508699016
         ],
         "y": [
          396.2552338588094
         ]
        },
        {
         "hoverinfo": "skip",
         "marker": {
          "color": "rgb(253,141,60)",
          "showscale": false,
          "size": 10,
          "symbol": "triangle-up"
         },
         "name": "a_->_37_36_179",
         "showlegend": false,
         "type": "scatter",
         "x": [
          225.48932982601966,
          226.40777485501638
         ],
         "y": [
          242.4895322823812,
          237.57461023531766
         ]
        },
        {
         "hoverinfo": "skip",
         "line": {
          "color": "rgb(66,146,198)"
         },
         "name": "a62_58_180",
         "showlegend": false,
         "type": "scatter",
         "x": [
          1020,
          982
         ],
         "y": [
          355,
          529
         ]
        },
        {
         "hoverinfo": "skip",
         "marker": {
          "color": "red",
          "showscale": false,
          "size": 10
         },
         "name": "a_bus__or_62_58_180",
         "showlegend": false,
         "type": "scatter",
         "x": [
          1016.7995704891024
         ],
         "y": [
          369.6545982867418
         ]
        },
        {
         "hoverinfo": "skip",
         "marker": {
          "color": "red",
          "showscale": false,
          "size": 10
         },
         "name": "a_bus__ex_62_58_180",
         "showlegend": false,
         "type": "scatter",
         "x": [
          985.2004295108976
         ],
         "y": [
          514.3454017132582
         ]
        },
        {
         "hoverinfo": "skip",
         "marker": {
          "color": "rgb(66,146,198)",
          "showscale": false,
          "size": 10,
          "symbol": "triangle-up"
         },
         "name": "a_->_62_58_180",
         "showlegend": false,
         "type": "scatter",
         "x": [
          1013.5991409782048,
          1014.6659508151706
         ],
         "y": [
          384.3091965734836,
          379.42433047790297
         ]
        },
        {
         "hoverinfo": "skip",
         "line": {
          "color": "rgb(8,48,107)"
         },
         "name": "a63_60_181",
         "showlegend": false,
         "type": "scatter",
         "x": [
          1013,
          950
         ],
         "y": [
          126,
          195
         ]
        },
        {
         "hoverinfo": "skip",
         "marker": {
          "color": "red",
          "showscale": false,
          "size": 10
         },
         "name": "a_bus__or_63_60_181",
         "showlegend": false,
         "type": "scatter",
         "x": [
          1002.88595953968
         ],
         "y": [
          137.0772824089219
         ]
        },
        {
         "hoverinfo": "skip",
         "marker": {
          "color": "lime",
          "showscale": false,
          "size": 10
         },
         "name": "a_bus__ex_63_60_181",
         "showlegend": false,
         "type": "scatter",
         "x": [
          960.11404046032
         ],
         "y": [
          183.9227175910781
         ]
        },
        {
         "hoverinfo": "skip",
         "marker": {
          "color": "rgb(8,48,107)",
          "showscale": false,
          "size": 10,
          "symbol": "triangle-se"
         },
         "name": "a_->_63_60_181",
         "showlegend": false,
         "type": "scatter",
         "x": [
          992.77191907936,
          996.1432658994667
         ],
         "y": [
          148.15456481784378,
          144.46213734820316
         ]
        },
        {
         "hoverinfo": "skip",
         "line": {
          "color": "rgb(253,141,60)"
         },
         "name": "a64_65_182",
         "showlegend": false,
         "type": "scatter",
         "x": [
          786,
          747
         ],
         "y": [
          7,
          102
         ]
        },
        {
         "hoverinfo": "skip",
         "marker": {
          "color": "red",
          "showscale": false,
          "size": 10
         },
         "name": "a_bus__or_64_65_182",
         "showlegend": false,
         "type": "scatter",
         "x": [
          780.3034490956742
         ],
         "y": [
          20.87621374130654
         ]
        },
        {
         "hoverinfo": "skip",
         "marker": {
          "color": "red",
          "showscale": false,
          "size": 10
         },
         "name": "a_bus__ex_64_65_182",
         "showlegend": false,
         "type": "scatter",
         "x": [
          752.6965509043258
         ],
         "y": [
          88.12378625869346
         ]
        },
        {
         "hoverinfo": "skip",
         "marker": {
          "color": "rgb(253,141,60)",
          "showscale": false,
          "size": 10,
          "symbol": "triangle-nw"
         },
         "name": "a_->_64_65_182",
         "showlegend": false,
         "type": "scatter",
         "x": [
          774.6068981913484,
          776.5057484927903
         ],
         "y": [
          34.75242748261308,
          30.127022902177565
         ]
        },
        {
         "hoverinfo": "skip",
         "line": {
          "color": "rgb(8,48,107)"
         },
         "name": "a64_67_183",
         "showlegend": false,
         "type": "scatter",
         "x": [
          786,
          579
         ],
         "y": [
          7,
          25
         ]
        },
        {
         "hoverinfo": "skip",
         "marker": {
          "color": "red",
          "showscale": false,
          "size": 10
         },
         "name": "a_bus__or_64_67_183",
         "showlegend": false,
         "type": "scatter",
         "x": [
          771.0563911770647
         ],
         "y": [
          8.29944424547263
         ]
        },
        {
         "hoverinfo": "skip",
         "marker": {
          "color": "red",
          "showscale": false,
          "size": 10
         },
         "name": "a_bus__ex_64_67_183",
         "showlegend": false,
         "type": "scatter",
         "x": [
          593.9436088229353
         ],
         "y": [
          23.70055575452737
         ]
        },
        {
         "hoverinfo": "skip",
         "marker": {
          "color": "rgb(8,48,107)",
          "showscale": false,
          "size": 10,
          "symbol": "triangle-left"
         },
         "name": "a_->_64_67_183",
         "showlegend": false,
         "type": "scatter",
         "x": [
          756.1127823541295,
          761.0939852951079
         ],
         "y": [
          9.59888849094526,
          9.16574040912105
         ]
        },
        {
         "hoverinfo": "skip",
         "line": {
          "color": "rgb(66,146,198)"
         },
         "name": "a67_68_184",
         "showlegend": false,
         "type": "scatter",
         "x": [
          579,
          485
         ],
         "y": [
          25,
          51
         ]
        },
        {
         "hoverinfo": "skip",
         "marker": {
          "color": "red",
          "showscale": false,
          "size": 10
         },
         "name": "a_bus__or_67_68_184",
         "showlegend": false,
         "type": "scatter",
         "x": [
          564.5428331961871
         ],
         "y": [
          28.998790818075925
         ]
        },
        {
         "hoverinfo": "skip",
         "marker": {
          "color": "red",
          "showscale": false,
          "size": 10
         },
         "name": "a_bus__ex_67_68_184",
         "showlegend": false,
         "type": "scatter",
         "x": [
          499.457166803813
         ],
         "y": [
          47.001209181924075
         ]
        },
        {
         "hoverinfo": "skip",
         "marker": {
          "color": "rgb(66,146,198)",
          "showscale": false,
          "size": 10,
          "symbol": "triangle-nw"
         },
         "name": "a_->_67_68_184",
         "showlegend": false,
         "type": "scatter",
         "x": [
          550.085666392374,
          554.904721993645
         ],
         "y": [
          32.99758163615186,
          31.66465136345988
         ]
        },
        {
         "hoverinfo": "skip",
         "line": {
          "color": "rgb(8,81,156)"
         },
         "name": "a80_67_185",
         "showlegend": false,
         "type": "scatter",
         "x": [
          621,
          579
         ],
         "y": [
          -139,
          25
         ]
        },
        {
         "hoverinfo": "skip",
         "marker": {
          "color": "red",
          "showscale": false,
          "size": 10
         },
         "name": "a_bus__or_80_67_185",
         "showlegend": false,
         "type": "scatter",
         "x": [
          617.2786333915143
         ],
         "y": [
          -124.46894943353207
         ]
        },
        {
         "hoverinfo": "skip",
         "marker": {
          "color": "red",
          "showscale": false,
          "size": 10
         },
         "name": "a_bus__ex_80_67_185",
         "showlegend": false,
         "type": "scatter",
         "x": [
          582.7213666084857
         ],
         "y": [
          10.468949433532076
         ]
        },
        {
         "hoverinfo": "skip",
         "marker": {
          "color": "rgb(8,81,156)",
          "showscale": false,
          "size": 10,
          "symbol": "triangle-down"
         },
         "name": "a_->_80_67_185",
         "showlegend": false,
         "type": "scatter",
         "x": [
          613.5572667830286,
          614.7977223191905
         ],
         "y": [
          -109.93789886706416,
          -114.78158238922013
         ]
        },
        {
         "hoverinfo": "skip",
         "line": {
          "color": "black",
          "width": 1
         },
         "showlegend": false,
         "type": "scatter",
         "x": [
          -1113,
          -1067
         ],
         "y": [
          629,
          600
         ]
        },
        {
         "marker": {
          "color": "DarkOrange",
          "line": {
           "color": "black",
           "width": 1
          },
          "showscale": false,
          "size": 12
         },
         "mode": "markers",
         "name": "cload_0_0",
         "showlegend": false,
         "text": [
          ""
         ],
         "type": "scatter",
         "x": [
          -1113
         ],
         "y": [
          629
         ]
        },
        {
         "hoverinfo": "skip",
         "marker": {
          "color": "red",
          "showscale": false,
          "size": 10
         },
         "name": "c_bus_load_0_0",
         "showlegend": false,
         "type": "scatter",
         "x": [
          -1079.6888840389347
         ],
         "y": [
          607.9995138506328
         ]
        },
        {
         "hoverinfo": "skip",
         "line": {
          "color": "black",
          "width": 1
         },
         "showlegend": false,
         "type": "scatter",
         "x": [
          -974,
          -940
         ],
         "y": [
          640,
          600
         ]
        },
        {
         "marker": {
          "color": "DarkOrange",
          "line": {
           "color": "black",
           "width": 1
          },
          "showscale": false,
          "size": 12
         },
         "mode": "markers",
         "name": "cload_1_1",
         "showlegend": false,
         "text": [
          ""
         ],
         "type": "scatter",
         "x": [
          -974
         ],
         "y": [
          640
         ]
        },
        {
         "hoverinfo": "skip",
         "marker": {
          "color": "red",
          "showscale": false,
          "size": 10
         },
         "name": "c_bus_load_1_1",
         "showlegend": false,
         "type": "scatter",
         "x": [
          -949.7147263014331
         ],
         "y": [
          611.4290897663919
         ]
        },
        {
         "hoverinfo": "skip",
         "line": {
          "color": "black",
          "width": 1
         },
         "showlegend": false,
         "type": "scatter",
         "x": [
          -1056,
          -1006
         ],
         "y": [
          546,
          524
         ]
        },
        {
         "marker": {
          "color": "DarkOrange",
          "line": {
           "color": "black",
           "width": 1
          },
          "showscale": false,
          "size": 12
         },
         "mode": "markers",
         "name": "cload_2_2",
         "showlegend": false,
         "text": [
          ""
         ],
         "type": "scatter",
         "x": [
          -1056
         ],
         "y": [
          546
         ]
        },
        {
         "hoverinfo": "skip",
         "marker": {
          "color": "red",
          "showscale": false,
          "size": 10
         },
         "name": "c_bus_load_2_2",
         "showlegend": false,
         "type": "scatter",
         "x": [
          -1019.7297254863415
         ],
         "y": [
          530.0410792139902
         ]
        },
        {
         "hoverinfo": "skip",
         "line": {
          "color": "black",
          "width": 1
         },
         "showlegend": false,
         "type": "scatter",
         "x": [
          -993,
          -940
         ],
         "y": [
          478,
          461
         ]
        },
        {
         "marker": {
          "color": "DarkOrange",
          "line": {
           "color": "black",
           "width": 1
          },
          "showscale": false,
          "size": 12
         },
         "mode": "markers",
         "name": "cload_3_3",
         "showlegend": false,
         "text": [
          ""
         ],
         "type": "scatter",
         "x": [
          -993
         ],
         "y": [
          478
         ]
        },
        {
         "hoverinfo": "skip",
         "marker": {
          "color": "red",
          "showscale": false,
          "size": 10
         },
         "name": "c_bus_load_3_3",
         "showlegend": false,
         "type": "scatter",
         "x": [
          -954.2832297479796
         ],
         "y": [
          465.5814133153897
         ]
        },
        {
         "hoverinfo": "skip",
         "line": {
          "color": "black",
          "width": 1
         },
         "showlegend": false,
         "type": "scatter",
         "x": [
          -922,
          -874
         ],
         "y": [
          358,
          352
         ]
        },
        {
         "marker": {
          "color": "DarkOrange",
          "line": {
           "color": "black",
           "width": 1
          },
          "showscale": false,
          "size": 12
         },
         "mode": "markers",
         "name": "cload_5_4",
         "showlegend": false,
         "text": [
          ""
         ],
         "type": "scatter",
         "x": [
          -922
         ],
         "y": [
          358
         ]
        },
        {
         "hoverinfo": "skip",
         "marker": {
          "color": "red",
          "showscale": false,
          "size": 10
         },
         "name": "c_bus_load_5_4",
         "showlegend": false,
         "type": "scatter",
         "x": [
          -888.884168150705
         ],
         "y": [
          353.86052101883814
         ]
        },
        {
         "hoverinfo": "skip",
         "line": {
          "color": "black",
          "width": 1
         },
         "showlegend": false,
         "type": "scatter",
         "x": [
          -832,
          -792
         ],
         "y": [
          363,
          346
         ]
        },
        {
         "marker": {
          "color": "DarkOrange",
          "line": {
           "color": "black",
           "width": 1
          },
          "showscale": false,
          "size": 12
         },
         "mode": "markers",
         "name": "cload_6_5",
         "showlegend": false,
         "text": [
          ""
         ],
         "type": "scatter",
         "x": [
          -832
         ],
         "y": [
          363
         ]
        },
        {
         "hoverinfo": "skip",
         "marker": {
          "color": "red",
          "showscale": false,
          "size": 10
         },
         "name": "c_bus_load_6_5",
         "showlegend": false,
         "type": "scatter",
         "x": [
          -805.8049637768771
         ],
         "y": [
          351.8671096051728
         ]
        },
        {
         "hoverinfo": "skip",
         "line": {
          "color": "black",
          "width": 1
         },
         "showlegend": false,
         "type": "scatter",
         "x": [
          -866,
          -847
         ],
         "y": [
          509,
          465
         ]
        },
        {
         "marker": {
          "color": "DarkOrange",
          "line": {
           "color": "black",
           "width": 1
          },
          "showscale": false,
          "size": 12
         },
         "mode": "markers",
         "name": "cload_10_7",
         "showlegend": false,
         "text": [
          ""
         ],
         "type": "scatter",
         "x": [
          -866
         ],
         "y": [
          509
         ]
        },
        {
         "hoverinfo": "skip",
         "marker": {
          "color": "red",
          "showscale": false,
          "size": 10
         },
         "name": "c_bus_load_10_7",
         "showlegend": false,
         "type": "scatter",
         "x": [
          -852.9465402444957
         ],
         "y": [
          478.77093530304285
         ]
        },
        {
         "hoverinfo": "skip",
         "line": {
          "color": "black",
          "width": 1
         },
         "showlegend": false,
         "type": "scatter",
         "x": [
          -723,
          -705
         ],
         "y": [
          551,
          505
         ]
        },
        {
         "marker": {
          "color": "DarkOrange",
          "line": {
           "color": "black",
           "width": 1
          },
          "showscale": false,
          "size": 12
         },
         "mode": "markers",
         "name": "cload_11_8",
         "showlegend": false,
         "text": [
          ""
         ],
         "type": "scatter",
         "x": [
          -723
         ],
         "y": [
          551
         ]
        },
        {
         "hoverinfo": "skip",
         "marker": {
          "color": "red",
          "showscale": false,
          "size": 10
         },
         "name": "c_bus_load_11_8",
         "showlegend": false,
         "type": "scatter",
         "x": [
          -710.4659902287077
         ],
         "y": [
          518.9686416955863
         ]
        },
        {
         "hoverinfo": "skip",
         "line": {
          "color": "black",
          "width": 1
         },
         "showlegend": false,
         "type": "scatter",
         "x": [
          -671,
          -638
         ],
         "y": [
          390,
          363
         ]
        },
        {
         "marker": {
          "color": "DarkOrange",
          "line": {
           "color": "black",
           "width": 1
          },
          "showscale": false,
          "size": 12
         },
         "mode": "markers",
         "name": "cload_12_9",
         "showlegend": false,
         "text": [
          ""
         ],
         "type": "scatter",
         "x": [
          -671
         ],
         "y": [
          390
         ]
        },
        {
         "hoverinfo": "skip",
         "marker": {
          "color": "red",
          "showscale": false,
          "size": 10
         },
         "name": "c_bus_load_12_9",
         "showlegend": false,
         "type": "scatter",
         "x": [
          -649.6093594880498
         ],
         "y": [
          372.49856685385896
         ]
        },
        {
         "hoverinfo": "skip",
         "line": {
          "color": "black",
          "width": 1
         },
         "showlegend": false,
         "type": "scatter",
         "x": [
          -559,
          -544
         ],
         "y": [
          543,
          498
         ]
        },
        {
         "marker": {
          "color": "DarkOrange",
          "line": {
           "color": "black",
           "width": 1
          },
          "showscale": false,
          "size": 12
         },
         "mode": "markers",
         "name": "cload_13_10",
         "showlegend": false,
         "text": [
          ""
         ],
         "type": "scatter",
         "x": [
          -559
         ],
         "y": [
          543
         ]
        },
        {
         "hoverinfo": "skip",
         "marker": {
          "color": "red",
          "showscale": false,
          "size": 10
         },
         "name": "c_bus_load_13_10",
         "showlegend": false,
         "type": "scatter",
         "x": [
          -548.7434164902526
         ],
         "y": [
          512.2302494707577
         ]
        },
        {
         "hoverinfo": "skip",
         "line": {
          "color": "black",
          "width": 1
         },
         "showlegend": false,
         "type": "scatter",
         "x": [
          -531,
          -498
         ],
         "y": [
          401,
          369
         ]
        },
        {
         "marker": {
          "color": "DarkOrange",
          "line": {
           "color": "black",
           "width": 1
          },
          "showscale": false,
          "size": 12
         },
         "mode": "markers",
         "name": "cload_14_11",
         "showlegend": false,
         "text": [
          ""
         ],
         "type": "scatter",
         "x": [
          -531
         ],
         "y": [
          401
         ]
        },
        {
         "hoverinfo": "skip",
         "marker": {
          "color": "red",
          "showscale": false,
          "size": 10
         },
         "name": "c_bus_load_14_11",
         "showlegend": false,
         "type": "scatter",
         "x": [
          -508.7685059017658
         ],
         "y": [
          379.44218754110625
         ]
        },
        {
         "hoverinfo": "skip",
         "line": {
          "color": "black",
          "width": 1
         },
         "showlegend": false,
         "type": "scatter",
         "x": [
          -791,
          -747
         ],
         "y": [
          274,
          268
         ]
        },
        {
         "marker": {
          "color": "DarkOrange",
          "line": {
           "color": "black",
           "width": 1
          },
          "showscale": false,
          "size": 12
         },
         "mode": "markers",
         "name": "cload_15_12",
         "showlegend": false,
         "text": [
          ""
         ],
         "type": "scatter",
         "x": [
          -791
         ],
         "y": [
          274
         ]
        },
        {
         "hoverinfo": "skip",
         "marker": {
          "color": "red",
          "showscale": false,
          "size": 10
         },
         "name": "c_bus_load_15_12",
         "showlegend": false,
         "type": "scatter",
         "x": [
          -761.8624525206645
         ],
         "y": [
          270.0266980709997
         ]
        },
        {
         "hoverinfo": "skip",
         "line": {
          "color": "black",
          "width": 1
         },
         "showlegend": false,
         "type": "scatter",
         "x": [
          -623,
          -586
         ],
         "y": [
          210,
          205
         ]
        },
        {
         "marker": {
          "color": "DarkOrange",
          "line": {
           "color": "black",
           "width": 1
          },
          "showscale": false,
          "size": 12
         },
         "mode": "markers",
         "name": "cload_16_13",
         "showlegend": false,
         "text": [
          ""
         ],
         "type": "scatter",
         "x": [
          -623
         ],
         "y": [
          210
         ]
        },
        {
         "hoverinfo": "skip",
         "marker": {
          "color": "red",
          "showscale": false,
          "size": 10
         },
         "name": "c_bus_load_16_13",
         "showlegend": false,
         "type": "scatter",
         "x": [
          -600.8648864561549
         ],
         "y": [
          207.00876844002093
         ]
        },
        {
         "hoverinfo": "skip",
         "line": {
          "color": "black",
          "width": 1
         },
         "showlegend": false,
         "type": "scatter",
         "x": [
          -457,
          -427
         ],
         "y": [
          226,
          205
         ]
        },
        {
         "marker": {
          "color": "DarkOrange",
          "line": {
           "color": "black",
           "width": 1
          },
          "showscale": false,
          "size": 12
         },
         "mode": "markers",
         "name": "cload_17_14",
         "showlegend": false,
         "text": [
          ""
         ],
         "type": "scatter",
         "x": [
          -457
         ],
         "y": [
          226
         ]
        },
        {
         "hoverinfo": "skip",
         "marker": {
          "color": "red",
          "showscale": false,
          "size": 10
         },
         "name": "c_bus_load_17_14",
         "showlegend": false,
         "type": "scatter",
         "x": [
          -439.2884788077856
         ],
         "y": [
          213.60193516544993
         ]
        },
        {
         "hoverinfo": "skip",
         "line": {
          "color": "black",
          "width": 1
         },
         "showlegend": false,
         "type": "scatter",
         "x": [
          -336,
          -307
         ],
         "y": [
          340,
          311
         ]
        },
        {
         "marker": {
          "color": "DarkOrange",
          "line": {
           "color": "black",
           "width": 1
          },
          "showscale": false,
          "size": 12
         },
         "mode": "markers",
         "name": "cload_18_15",
         "showlegend": false,
         "text": [
          ""
         ],
         "type": "scatter",
         "x": [
          -336
         ],
         "y": [
          340
         ]
        },
        {
         "hoverinfo": "skip",
         "marker": {
          "color": "red",
          "showscale": false,
          "size": 10
         },
         "name": "c_bus_load_18_15",
         "showlegend": false,
         "type": "scatter",
         "x": [
          -317.6066017177982
         ],
         "y": [
          321.6066017177982
         ]
        },
        {
         "hoverinfo": "skip",
         "line": {
          "color": "black",
          "width": 1
         },
         "showlegend": false,
         "type": "scatter",
         "x": [
          -303,
          -274
         ],
         "y": [
          237,
          222
         ]
        },
        {
         "marker": {
          "color": "DarkOrange",
          "line": {
           "color": "black",
           "width": 1
          },
          "showscale": false,
          "size": 12
         },
         "mode": "markers",
         "name": "cload_19_16",
         "showlegend": false,
         "text": [
          ""
         ],
         "type": "scatter",
         "x": [
          -303
         ],
         "y": [
          237
         ]
        },
        {
         "hoverinfo": "skip",
         "marker": {
          "color": "red",
          "showscale": false,
          "size": 10
         },
         "name": "c_bus_load_19_16",
         "showlegend": false,
         "type": "scatter",
         "x": [
          -287.3232646473392
         ],
         "y": [
          228.8913437831065
         ]
        },
        {
         "hoverinfo": "skip",
         "line": {
          "color": "black",
          "width": 1
         },
         "showlegend": false,
         "type": "scatter",
         "x": [
          -319,
          -285
         ],
         "y": [
          76,
          82
         ]
        },
        {
         "marker": {
          "color": "DarkOrange",
          "line": {
           "color": "black",
           "width": 1
          },
          "showscale": false,
          "size": 12
         },
         "mode": "markers",
         "name": "cload_20_17",
         "showlegend": false,
         "text": [
          ""
         ],
         "type": "scatter",
         "x": [
          -319
         ],
         "y": [
          76
         ]
        },
        {
         "hoverinfo": "skip",
         "marker": {
          "color": "red",
          "showscale": false,
          "size": 10
         },
         "name": "c_bus_load_20_17",
         "showlegend": false,
         "type": "scatter",
         "x": [
          -299.771753382269
         ],
         "y": [
          79.39321999136429
         ]
        },
        {
         "hoverinfo": "skip",
         "line": {
          "color": "black",
          "width": 1
         },
         "showlegend": false,
         "type": "scatter",
         "x": [
          -346,
          -314
         ],
         "y": [
          -20,
          0
         ]
        },
        {
         "marker": {
          "color": "DarkOrange",
          "line": {
           "color": "black",
           "width": 1
          },
          "showscale": false,
          "size": 12
         },
         "mode": "markers",
         "name": "cload_21_18",
         "showlegend": false,
         "text": [
          ""
         ],
         "type": "scatter",
         "x": [
          -346
         ],
         "y": [
          -20
         ]
        },
        {
         "hoverinfo": "skip",
         "marker": {
          "color": "red",
          "showscale": false,
          "size": 10
         },
         "name": "c_bus_load_21_18",
         "showlegend": false,
         "type": "scatter",
         "x": [
          -326.7199745600763
         ],
         "y": [
          -7.9499841000477005
         ]
        },
        {
         "hoverinfo": "skip",
         "line": {
          "color": "black",
          "width": 1
         },
         "showlegend": false,
         "type": "scatter",
         "x": [
          -383,
          -348
         ],
         "y": [
          -139,
          -115
         ]
        },
        {
         "marker": {
          "color": "DarkOrange",
          "line": {
           "color": "black",
           "width": 1
          },
          "showscale": false,
          "size": 12
         },
         "mode": "markers",
         "name": "cload_22_19",
         "showlegend": false,
         "text": [
          ""
         ],
         "type": "scatter",
         "x": [
          -383
         ],
         "y": [
          -139
         ]
        },
        {
         "hoverinfo": "skip",
         "marker": {
          "color": "red",
          "showscale": false,
          "size": 10
         },
         "name": "c_bus_load_22_19",
         "showlegend": false,
         "type": "scatter",
         "x": [
          -360.3709327776897
         ],
         "y": [
          -123.48292533327292
         ]
        },
        {
         "hoverinfo": "skip",
         "line": {
          "color": "black",
          "width": 1
         },
         "showlegend": false,
         "type": "scatter",
         "x": [
          -907,
          -858
         ],
         "y": [
          -115,
          -98
         ]
        },
        {
         "marker": {
          "color": "DarkOrange",
          "line": {
           "color": "black",
           "width": 1
          },
          "showscale": false,
          "size": 12
         },
         "mode": "markers",
         "name": "cload_26_21",
         "showlegend": false,
         "text": [
          ""
         ],
         "type": "scatter",
         "x": [
          -907
         ],
         "y": [
          -115
         ]
        },
        {
         "hoverinfo": "skip",
         "marker": {
          "color": "red",
          "showscale": false,
          "size": 10
         },
         "name": "c_bus_load_26_21",
         "showlegend": false,
         "type": "scatter",
         "x": [
          -872.1713491787644
         ],
         "y": [
          -102.91659053140808
         ]
        },
        {
         "hoverinfo": "skip",
         "line": {
          "color": "black",
          "width": 1
         },
         "showlegend": false,
         "type": "scatter",
         "x": [
          -925,
          -879
         ],
         "y": [
          -41,
          -22
         ]
        },
        {
         "marker": {
          "color": "DarkOrange",
          "line": {
           "color": "black",
           "width": 1
          },
          "showscale": false,
          "size": 12
         },
         "mode": "markers",
         "name": "cload_27_22",
         "showlegend": false,
         "text": [
          ""
         ],
         "type": "scatter",
         "x": [
          -925
         ],
         "y": [
          -41
         ]
        },
        {
         "hoverinfo": "skip",
         "marker": {
          "color": "red",
          "showscale": false,
          "size": 10
         },
         "name": "c_bus_load_27_22",
         "showlegend": false,
         "type": "scatter",
         "x": [
          -892.8639213973504
         ],
         "y": [
          -27.72640231629689
         ]
        },
        {
         "hoverinfo": "skip",
         "line": {
          "color": "black",
          "width": 1
         },
         "showlegend": false,
         "type": "scatter",
         "x": [
          -924,
          -876
         ],
         "y": [
          52,
          56
         ]
        },
        {
         "marker": {
          "color": "DarkOrange",
          "line": {
           "color": "black",
           "width": 1
          },
          "showscale": false,
          "size": 12
         },
         "mode": "markers",
         "name": "cload_28_23",
         "showlegend": false,
         "text": [
          ""
         ],
         "type": "scatter",
         "x": [
          -924
         ],
         "y": [
          52
         ]
        },
        {
         "hoverinfo": "skip",
         "marker": {
          "color": "red",
          "showscale": false,
          "size": 10
         },
         "name": "c_bus_load_28_23",
         "showlegend": false,
         "type": "scatter",
         "x": [
          -890.9481863736731
         ],
         "y": [
          54.7543178021939
         ]
        },
        {
         "hoverinfo": "skip",
         "line": {
          "color": "black",
          "width": 1
         },
         "showlegend": false,
         "type": "scatter",
         "x": [
          -815,
          -773
         ],
         "y": [
          45,
          56
         ]
        },
        {
         "marker": {
          "color": "DarkOrange",
          "line": {
           "color": "black",
           "width": 1
          },
          "showscale": false,
          "size": 12
         },
         "mode": "markers",
         "name": "cload_30_24",
         "showlegend": false,
         "text": [
          ""
         ],
         "type": "scatter",
         "x": [
          -815
         ],
         "y": [
          45
         ]
        },
        {
         "hoverinfo": "skip",
         "marker": {
          "color": "red",
          "showscale": false,
          "size": 10
         },
         "name": "c_bus_load_30_24",
         "showlegend": false,
         "type": "scatter",
         "x": [
          -787.5105833507037
         ],
         "y": [
          52.19960912243475
         ]
        },
        {
         "hoverinfo": "skip",
         "line": {
          "color": "black",
          "width": 1
         },
         "showlegend": false,
         "type": "scatter",
         "x": [
          -724,
          -686
         ],
         "y": [
          -11,
          7
         ]
        },
        {
         "marker": {
          "color": "DarkOrange",
          "line": {
           "color": "black",
           "width": 1
          },
          "showscale": false,
          "size": 12
         },
         "mode": "markers",
         "name": "cload_31_25",
         "showlegend": false,
         "text": [
          ""
         ],
         "type": "scatter",
         "x": [
          -724
         ],
         "y": [
          -11
         ]
        },
        {
         "hoverinfo": "skip",
         "marker": {
          "color": "red",
          "showscale": false,
          "size": 10
         },
         "name": "c_bus_load_31_25",
         "showlegend": false,
         "type": "scatter",
         "x": [
          -699.5560675834031
         ],
         "y": [
          0.5787048289143302
         ]
        },
        {
         "hoverinfo": "skip",
         "line": {
          "color": "black",
          "width": 1
         },
         "showlegend": false,
         "type": "scatter",
         "x": [
          -34,
          -12
         ],
         "y": [
          525,
          480
         ]
        },
        {
         "marker": {
          "color": "DarkOrange",
          "line": {
           "color": "black",
           "width": 1
          },
          "showscale": false,
          "size": 12
         },
         "mode": "markers",
         "name": "cload_32_26",
         "showlegend": false,
         "text": [
          ""
         ],
         "type": "scatter",
         "x": [
          -34
         ],
         "y": [
          525
         ]
        },
        {
         "hoverinfo": "skip",
         "marker": {
          "color": "red",
          "showscale": false,
          "size": 10
         },
         "name": "c_bus_load_32_26",
         "showlegend": false,
         "type": "scatter",
         "x": [
          -18.588151980074137
         ],
         "y": [
          493.475765413788
         ]
        },
        {
         "hoverinfo": "skip",
         "line": {
          "color": "black",
          "width": 1
         },
         "showlegend": false,
         "type": "scatter",
         "x": [
          26,
          40
         ],
         "y": [
          415,
          373
         ]
        },
        {
         "marker": {
          "color": "DarkOrange",
          "line": {
           "color": "black",
           "width": 1
          },
          "showscale": false,
          "size": 12
         },
         "mode": "markers",
         "name": "cload_33_27",
         "showlegend": false,
         "text": [
          ""
         ],
         "type": "scatter",
         "x": [
          26
         ],
         "y": [
          415
         ]
        },
        {
         "hoverinfo": "skip",
         "marker": {
          "color": "red",
          "showscale": false,
          "size": 10
         },
         "name": "c_bus_load_33_27",
         "showlegend": false,
         "type": "scatter",
         "x": [
          35.25658350974743
         ],
         "y": [
          387.2302494707577
         ]
        },
        {
         "hoverinfo": "skip",
         "line": {
          "color": "black",
          "width": 1
         },
         "showlegend": false,
         "type": "scatter",
         "x": [
          -119,
          -91
         ],
         "y": [
          283,
          257
         ]
        },
        {
         "marker": {
          "color": "DarkOrange",
          "line": {
           "color": "black",
           "width": 1
          },
          "showscale": false,
          "size": 12
         },
         "mode": "markers",
         "name": "cload_34_28",
         "showlegend": false,
         "text": [
          ""
         ],
         "type": "scatter",
         "x": [
          -119
         ],
         "y": [
          283
         ]
        },
        {
         "hoverinfo": "skip",
         "marker": {
          "color": "red",
          "showscale": false,
          "size": 10
         },
         "name": "c_bus_load_34_28",
         "showlegend": false,
         "type": "scatter",
         "x": [
          -101.99190237439448
         ],
         "y": [
          267.20676649050915
         ]
        },
        {
         "hoverinfo": "skip",
         "line": {
          "color": "black",
          "width": 1
         },
         "showlegend": false,
         "type": "scatter",
         "x": [
          106,
          133
         ],
         "y": [
          300,
          272
         ]
        },
        {
         "marker": {
          "color": "DarkOrange",
          "line": {
           "color": "black",
           "width": 1
          },
          "showscale": false,
          "size": 12
         },
         "mode": "markers",
         "name": "cload_35_29",
         "showlegend": false,
         "text": [
          ""
         ],
         "type": "scatter",
         "x": [
          106
         ],
         "y": [
          300
         ]
        },
        {
         "hoverinfo": "skip",
         "marker": {
          "color": "red",
          "showscale": false,
          "size": 10
         },
         "name": "c_bus_load_35_29",
         "showlegend": false,
         "type": "scatter",
         "x": [
          122.58796644123652
         ],
         "y": [
          282.7976644313103
         ]
        },
        {
         "hoverinfo": "skip",
         "line": {
          "color": "black",
          "width": 1
         },
         "showlegend": false,
         "type": "scatter",
         "x": [
          135,
          155
         ],
         "y": [
          549,
          503
         ]
        },
        {
         "marker": {
          "color": "DarkOrange",
          "line": {
           "color": "black",
           "width": 1
          },
          "showscale": false,
          "size": 12
         },
         "mode": "markers",
         "name": "cload_38_30",
         "showlegend": false,
         "text": [
          ""
         ],
         "type": "scatter",
         "x": [
          135
         ],
         "y": [
          549
         ]
        },
        {
         "hoverinfo": "skip",
         "marker": {
          "color": "red",
          "showscale": false,
          "size": 10
         },
         "name": "c_bus_load_38_30",
         "showlegend": false,
         "type": "scatter",
         "x": [
          149.01910832878326
         ],
         "y": [
          516.7560508437986
         ]
        },
        {
         "hoverinfo": "skip",
         "line": {
          "color": "black",
          "width": 1
         },
         "showlegend": false,
         "type": "scatter",
         "x": [
          223,
          226
         ],
         "y": [
          621,
          568
         ]
        },
        {
         "marker": {
          "color": "DarkOrange",
          "line": {
           "color": "black",
           "width": 1
          },
          "showscale": false,
          "size": 12
         },
         "mode": "markers",
         "name": "cload_39_31",
         "showlegend": false,
         "text": [
          ""
         ],
         "type": "scatter",
         "x": [
          223
         ],
         "y": [
          621
         ]
        },
        {
         "hoverinfo": "skip",
         "marker": {
          "color": "red",
          "showscale": false,
          "size": 10
         },
         "name": "c_bus_load_39_31",
         "showlegend": false,
         "type": "scatter",
         "x": [
          225.15230031966016
         ],
         "y": [
          582.9760276860038
         ]
        },
        {
         "hoverinfo": "skip",
         "line": {
          "color": "black",
          "width": 1
         },
         "showlegend": false,
         "type": "scatter",
         "x": [
          334,
          340
         ],
         "y": [
          671,
          615
         ]
        },
        {
         "marker": {
          "color": "DarkOrange",
          "line": {
           "color": "black",
           "width": 1
          },
          "showscale": false,
          "size": 12
         },
         "mode": "markers",
         "name": "cload_40_32",
         "showlegend": false,
         "text": [
          ""
         ],
         "type": "scatter",
         "x": [
          334
         ],
         "y": [
          671
         ]
        },
        {
         "hoverinfo": "skip",
         "marker": {
          "color": "red",
          "showscale": false,
          "size": 10
         },
         "name": "c_bus_load_40_32",
         "showlegend": false,
         "type": "scatter",
         "x": [
          338.40200314548605
         ],
         "y": [
          629.9146373087972
         ]
        },
        {
         "hoverinfo": "skip",
         "line": {
          "color": "black",
          "width": 1
         },
         "showlegend": false,
         "type": "scatter",
         "x": [
          420,
          424
         ],
         "y": [
          627,
          568
         ]
        },
        {
         "marker": {
          "color": "DarkOrange",
          "line": {
           "color": "black",
           "width": 1
          },
          "showscale": false,
          "size": 12
         },
         "mode": "markers",
         "name": "cload_41_33",
         "showlegend": false,
         "text": [
          ""
         ],
         "type": "scatter",
         "x": [
          420
         ],
         "y": [
          627
         ]
        },
        {
         "hoverinfo": "skip",
         "marker": {
          "color": "red",
          "showscale": false,
          "size": 10
         },
         "name": "c_bus_load_41_33",
         "showlegend": false,
         "type": "scatter",
         "x": [
          422.9853799639481
         ],
         "y": [
          582.9656455317652
         ]
        },
        {
         "hoverinfo": "skip",
         "line": {
          "color": "black",
          "width": 1
         },
         "showlegend": false,
         "type": "scatter",
         "x": [
          307,
          326
         ],
         "y": [
          403,
          363
         ]
        },
        {
         "marker": {
          "color": "DarkOrange",
          "line": {
           "color": "black",
           "width": 1
          },
          "showscale": false,
          "size": 12
         },
         "mode": "markers",
         "name": "cload_42_34",
         "showlegend": false,
         "text": [
          ""
         ],
         "type": "scatter",
         "x": [
          307
         ],
         "y": [
          403
         ]
        },
        {
         "hoverinfo": "skip",
         "marker": {
          "color": "red",
          "showscale": false,
          "size": 10
         },
         "name": "c_bus_load_42_34",
         "showlegend": false,
         "type": "scatter",
         "x": [
          319.5641477814757
         ],
         "y": [
          376.54916256531436
         ]
        },
        {
         "hoverinfo": "skip",
         "line": {
          "color": "black",
          "width": 1
         },
         "showlegend": false,
         "type": "scatter",
         "x": [
          364,
          369
         ],
         "y": [
          468,
          421
         ]
        },
        {
         "marker": {
          "color": "DarkOrange",
          "line": {
           "color": "black",
           "width": 1
          },
          "showscale": false,
          "size": 12
         },
         "mode": "markers",
         "name": "cload_43_35",
         "showlegend": false,
         "text": [
          ""
         ],
         "type": "scatter",
         "x": [
          364
         ],
         "y": [
          468
         ]
        },
        {
         "hoverinfo": "skip",
         "marker": {
          "color": "red",
          "showscale": false,
          "size": 10
         },
         "name": "c_bus_load_43_35",
         "showlegend": false,
         "type": "scatter",
         "x": [
          367.41320918109716
         ],
         "y": [
          435.9158336976867
         ]
        },
        {
         "hoverinfo": "skip",
         "line": {
          "color": "black",
          "width": 1
         },
         "showlegend": false,
         "type": "scatter",
         "x": [
          403,
          411
         ],
         "y": [
          371,
          330
         ]
        },
        {
         "marker": {
          "color": "DarkOrange",
          "line": {
           "color": "black",
           "width": 1
          },
          "showscale": false,
          "size": 12
         },
         "mode": "markers",
         "name": "cload_44_36",
         "showlegend": false,
         "text": [
          ""
         ],
         "type": "scatter",
         "x": [
          403
         ],
         "y": [
          371
         ]
        },
        {
         "hoverinfo": "skip",
         "marker": {
          "color": "red",
          "showscale": false,
          "size": 10
         },
         "name": "c_bus_load_44_36",
         "showlegend": false,
         "type": "scatter",
         "x": [
          408.12734460870524
         ],
         "y": [
          344.7223588803855
         ]
        },
        {
         "hoverinfo": "skip",
         "line": {
          "color": "black",
          "width": 1
         },
         "showlegend": false,
         "type": "scatter",
         "x": [
          338,
          350
         ],
         "y": [
          269,
          236
         ]
        },
        {
         "marker": {
          "color": "DarkOrange",
          "line": {
           "color": "black",
           "width": 1
          },
          "showscale": false,
          "size": 12
         },
         "mode": "markers",
         "name": "cload_45_37",
         "showlegend": false,
         "text": [
          ""
         ],
         "type": "scatter",
         "x": [
          338
         ],
         "y": [
          269
         ]
        },
        {
         "hoverinfo": "skip",
         "marker": {
          "color": "red",
          "showscale": false,
          "size": 10
         },
         "name": "c_bus_load_45_37",
         "showlegend": false,
         "type": "scatter",
         "x": [
          344.87385405369946
         ],
         "y": [
          250.09690135232654
         ]
        },
        {
         "hoverinfo": "skip",
         "line": {
          "color": "black",
          "width": 1
         },
         "showlegend": false,
         "type": "scatter",
         "x": [
          472,
          460
         ],
         "y": [
          203,
          182
         ]
        },
        {
         "marker": {
          "color": "DarkOrange",
          "line": {
           "color": "black",
           "width": 1
          },
          "showscale": false,
          "size": 12
         },
         "mode": "markers",
         "name": "cload_46_38",
         "showlegend": false,
         "text": [
          ""
         ],
         "type": "scatter",
         "x": [
          472
         ],
         "y": [
          203
         ]
        },
        {
         "hoverinfo": "skip",
         "marker": {
          "color": "red",
          "showscale": false,
          "size": 10
         },
         "name": "c_bus_load_46_38",
         "showlegend": false,
         "type": "scatter",
         "x": [
          467.4420840753525
         ],
         "y": [
          195.02364713186688
         ]
        },
        {
         "hoverinfo": "skip",
         "line": {
          "color": "black",
          "width": 1
         },
         "showlegend": false,
         "type": "scatter",
         "x": [
          461,
          453
         ],
         "y": [
          279,
          244
         ]
        },
        {
         "marker": {
          "color": "DarkOrange",
          "line": {
           "color": "black",
           "width": 1
          },
          "showscale": false,
          "size": 12
         },
         "mode": "markers",
         "name": "cload_47_39",
         "showlegend": false,
         "text": [
          ""
         ],
         "type": "scatter",
         "x": [
          461
         ],
         "y": [
          279
         ]
        },
        {
         "hoverinfo": "skip",
         "marker": {
          "color": "red",
          "showscale": false,
          "size": 10
         },
         "name": "c_bus_load_47_39",
         "showlegend": false,
         "type": "scatter",
         "x": [
          456.3423720225321
         ],
         "y": [
          258.622877598578
         ]
        },
        {
         "hoverinfo": "skip",
         "line": {
          "color": "black",
          "width": 1
         },
         "showlegend": false,
         "type": "scatter",
         "x": [
          577,
          583
         ],
         "y": [
          243,
          209
         ]
        },
        {
         "marker": {
          "color": "DarkOrange",
          "line": {
           "color": "black",
           "width": 1
          },
          "showscale": false,
          "size": 12
         },
         "mode": "markers",
         "name": "cload_48_40",
         "showlegend": false,
         "text": [
          ""
         ],
         "type": "scatter",
         "x": [
          577
         ],
         "y": [
          243
         ]
        },
        {
         "hoverinfo": "skip",
         "marker": {
          "color": "red",
          "showscale": false,
          "size": 10
         },
         "name": "c_bus_load_48_40",
         "showlegend": false,
         "type": "scatter",
         "x": [
          580.3932199913643
         ],
         "y": [
          223.77175338226905
         ]
        },
        {
         "hoverinfo": "skip",
         "line": {
          "color": "black",
          "width": 1
         },
         "showlegend": false,
         "type": "scatter",
         "x": [
          822,
          776
         ],
         "y": [
          322,
          300
         ]
        },
        {
         "marker": {
          "color": "DarkOrange",
          "line": {
           "color": "black",
           "width": 1
          },
          "showscale": false,
          "size": 12
         },
         "mode": "markers",
         "name": "cload_49_41",
         "showlegend": false,
         "text": [
          ""
         ],
         "type": "scatter",
         "x": [
          822
         ],
         "y": [
          322
         ]
        },
        {
         "hoverinfo": "skip",
         "marker": {
          "color": "red",
          "showscale": false,
          "size": 10
         },
         "name": "c_bus_load_49_41",
         "showlegend": false,
         "type": "scatter",
         "x": [
          789.5320133245347
         ],
         "y": [
          306.47183245956006
         ]
        },
        {
         "hoverinfo": "skip",
         "line": {
          "color": "black",
          "width": 1
         },
         "showlegend": false,
         "type": "scatter",
         "x": [
          738,
          706
         ],
         "y": [
          325,
          300
         ]
        },
        {
         "marker": {
          "color": "DarkOrange",
          "line": {
           "color": "black",
           "width": 1
          },
          "showscale": false,
          "size": 12
         },
         "mode": "markers",
         "name": "cload_50_42",
         "showlegend": false,
         "text": [
          ""
         ],
         "type": "scatter",
         "x": [
          738
         ],
         "y": [
          325
         ]
        },
        {
         "hoverinfo": "skip",
         "marker": {
          "color": "red",
          "showscale": false,
          "size": 10
         },
         "name": "c_bus_load_50_42",
         "showlegend": false,
         "type": "scatter",
         "x": [
          717.8203656058685
         ],
         "y": [
          309.2346606295847
         ]
        },
        {
         "hoverinfo": "skip",
         "line": {
          "color": "black",
          "width": 1
         },
         "showlegend": false,
         "type": "scatter",
         "x": [
          556,
          541
         ],
         "y": [
          474,
          430
         ]
        },
        {
         "marker": {
          "color": "DarkOrange",
          "line": {
           "color": "black",
           "width": 1
          },
          "showscale": false,
          "size": 12
         },
         "mode": "markers",
         "name": "cload_51_43",
         "showlegend": false,
         "text": [
          ""
         ],
         "type": "scatter",
         "x": [
          556
         ],
         "y": [
          474
         ]
        },
        {
         "hoverinfo": "skip",
         "marker": {
          "color": "red",
          "showscale": false,
          "size": 10
         },
         "name": "c_bus_load_51_43",
         "showlegend": false,
         "type": "scatter",
         "x": [
          545.840108916822
         ],
         "y": [
          444.1976528226781
         ]
        },
        {
         "hoverinfo": "skip",
         "line": {
          "color": "black",
          "width": 1
         },
         "showlegend": false,
         "type": "scatter",
         "x": [
          546,
          533
         ],
         "y": [
          621,
          568
         ]
        },
        {
         "marker": {
          "color": "DarkOrange",
          "line": {
           "color": "black",
           "width": 1
          },
          "showscale": false,
          "size": 12
         },
         "mode": "markers",
         "name": "cload_52_44",
         "showlegend": false,
         "text": [
          ""
         ],
         "type": "scatter",
         "x": [
          546
         ],
         "y": [
          621
         ]
        },
        {
         "hoverinfo": "skip",
         "marker": {
          "color": "red",
          "showscale": false,
          "size": 10
         },
         "name": "c_bus_load_52_44",
         "showlegend": false,
         "type": "scatter",
         "x": [
          536.5733229169647
         ],
         "y": [
          582.5681626614715
         ]
        },
        {
         "hoverinfo": "skip",
         "line": {
          "color": "black",
          "width": 1
         },
         "showlegend": false,
         "type": "scatter",
         "x": [
          636,
          625
         ],
         "y": [
          622,
          566
         ]
        },
        {
         "marker": {
          "color": "DarkOrange",
          "line": {
           "color": "black",
           "width": 1
          },
          "showscale": false,
          "size": 12
         },
         "mode": "markers",
         "name": "cload_53_45",
         "showlegend": false,
         "text": [
          ""
         ],
         "type": "scatter",
         "x": [
          636
         ],
         "y": [
          622
         ]
        },
        {
         "hoverinfo": "skip",
         "marker": {
          "color": "red",
          "showscale": false,
          "size": 10
         },
         "name": "c_bus_load_53_45",
         "showlegend": false,
         "type": "scatter",
         "x": [
          627.8911795604639
         ],
         "y": [
          580.7187323078163
         ]
        },
        {
         "hoverinfo": "skip",
         "line": {
          "color": "black",
          "width": 1
         },
         "showlegend": false,
         "type": "scatter",
         "x": [
          825,
          783
         ],
         "y": [
          558,
          515
         ]
        },
        {
         "marker": {
          "color": "DarkOrange",
          "line": {
           "color": "black",
           "width": 1
          },
          "showscale": false,
          "size": 12
         },
         "mode": "markers",
         "name": "cload_54_46",
         "showlegend": false,
         "text": [
          ""
         ],
         "type": "scatter",
         "x": [
          825
         ],
         "y": [
          558
         ]
        },
        {
         "hoverinfo": "skip",
         "marker": {
          "color": "red",
          "showscale": false,
          "size": 10
         },
         "name": "c_bus_load_54_46",
         "showlegend": false,
         "type": "scatter",
         "x": [
          793.4810928581276
         ],
         "y": [
          525.730642688083
         ]
        },
        {
         "hoverinfo": "skip",
         "line": {
          "color": "black",
          "width": 1
         },
         "showlegend": false,
         "type": "scatter",
         "x": [
          785,
          742
         ],
         "y": [
          470,
          430
         ]
        },
        {
         "marker": {
          "color": "DarkOrange",
          "line": {
           "color": "black",
           "width": 1
          },
          "showscale": false,
          "size": 12
         },
         "mode": "markers",
         "name": "cload_55_47",
         "showlegend": false,
         "text": [
          ""
         ],
         "type": "scatter",
         "x": [
          785
         ],
         "y": [
          470
         ]
        },
        {
         "hoverinfo": "skip",
         "marker": {
          "color": "red",
          "showscale": false,
          "size": 10
         },
         "name": "c_bus_load_55_47",
         "showlegend": false,
         "type": "scatter",
         "x": [
          752.9828010724463
         ],
         "y": [
          440.2165591371593
         ]
        },
        {
         "hoverinfo": "skip",
         "line": {
          "color": "black",
          "width": 1
         },
         "showlegend": false,
         "type": "scatter",
         "x": [
          823,
          776
         ],
         "y": [
          394,
          365
         ]
        },
        {
         "marker": {
          "color": "DarkOrange",
          "line": {
           "color": "black",
           "width": 1
          },
          "showscale": false,
          "size": 12
         },
         "mode": "markers",
         "name": "cload_56_48",
         "showlegend": false,
         "text": [
          ""
         ],
         "type": "scatter",
         "x": [
          823
         ],
         "y": [
          394
         ]
        },
        {
         "hoverinfo": "skip",
         "marker": {
          "color": "red",
          "showscale": false,
          "size": 10
         },
         "name": "c_bus_load_56_48",
         "showlegend": false,
         "type": "scatter",
         "x": [
          788.7655401919951
         ],
         "y": [
          372.8766099056991
         ]
        },
        {
         "hoverinfo": "skip",
         "line": {
          "color": "black",
          "width": 1
         },
         "showlegend": false,
         "type": "scatter",
         "x": [
          726,
          706
         ],
         "y": [
          402,
          365
         ]
        },
        {
         "marker": {
          "color": "DarkOrange",
          "line": {
           "color": "black",
           "width": 1
          },
          "showscale": false,
          "size": 12
         },
         "mode": "markers",
         "name": "cload_57_49",
         "showlegend": false,
         "text": [
          ""
         ],
         "type": "scatter",
         "x": [
          726
         ],
         "y": [
          402
         ]
        },
        {
         "hoverinfo": "skip",
         "marker": {
          "color": "red",
          "showscale": false,
          "size": 10
         },
         "name": "c_bus_load_57_49",
         "showlegend": false,
         "type": "scatter",
         "x": [
          713.1327555154821
         ],
         "y": [
          378.1955977036419
         ]
        },
        {
         "hoverinfo": "skip",
         "line": {
          "color": "black",
          "width": 1
         },
         "showlegend": false,
         "type": "scatter",
         "x": [
          1034,
          982
         ],
         "y": [
          549,
          529
         ]
        },
        {
         "marker": {
          "color": "DarkOrange",
          "line": {
           "color": "black",
           "width": 1
          },
          "showscale": false,
          "size": 12
         },
         "mode": "markers",
         "name": "cload_58_50",
         "showlegend": false,
         "text": [
          ""
         ],
         "type": "scatter",
         "x": [
          1034
         ],
         "y": [
          549
         ]
        },
        {
         "hoverinfo": "skip",
         "marker": {
          "color": "red",
          "showscale": false,
          "size": 10
         },
         "name": "c_bus_load_58_50",
         "showlegend": false,
         "type": "scatter",
         "x": [
          996.0001840930458
         ],
         "y": [
          534.384686189633
         ]
        },
        {
         "hoverinfo": "skip",
         "line": {
          "color": "black",
          "width": 1
         },
         "showlegend": false,
         "type": "scatter",
         "x": [
          965,
          908
         ],
         "y": [
          268,
          254
         ]
        },
        {
         "marker": {
          "color": "DarkOrange",
          "line": {
           "color": "black",
           "width": 1
          },
          "showscale": false,
          "size": 12
         },
         "mode": "markers",
         "name": "cload_59_51",
         "showlegend": false,
         "text": [
          ""
         ],
         "type": "scatter",
         "x": [
          965
         ],
         "y": [
          268
         ]
        },
        {
         "hoverinfo": "skip",
         "marker": {
          "color": "red",
          "showscale": false,
          "size": 10
         },
         "name": "c_bus_load_59_51",
         "showlegend": false,
         "type": "scatter",
         "x": [
          922.5670463340017
         ],
         "y": [
          257.5778710294039
         ]
        },
        {
         "hoverinfo": "skip",
         "line": {
          "color": "black",
          "width": 1
         },
         "showlegend": false,
         "type": "scatter",
         "x": [
          895,
          854
         ],
         "y": [
          211,
          185
         ]
        },
        {
         "marker": {
          "color": "DarkOrange",
          "line": {
           "color": "black",
           "width": 1
          },
          "showscale": false,
          "size": 12
         },
         "mode": "markers",
         "name": "cload_61_52",
         "showlegend": false,
         "text": [
          ""
         ],
         "type": "scatter",
         "x": [
          895
         ],
         "y": [
          211
         ]
        },
        {
         "hoverinfo": "skip",
         "marker": {
          "color": "red",
          "showscale": false,
          "size": 10
         },
         "name": "c_bus_load_61_52",
         "showlegend": false,
         "type": "scatter",
         "x": [
          866.6676286767452
         ],
         "y": [
          193.03313038037498
         ]
        },
        {
         "hoverinfo": "skip",
         "line": {
          "color": "black",
          "width": 1
         },
         "showlegend": false,
         "type": "scatter",
         "x": [
          789,
          747
         ],
         "y": [
          95,
          102
         ]
        },
        {
         "marker": {
          "color": "DarkOrange",
          "line": {
           "color": "black",
           "width": 1
          },
          "showscale": false,
          "size": 12
         },
         "mode": "markers",
         "name": "cload_65_53",
         "showlegend": false,
         "text": [
          ""
         ],
         "type": "scatter",
         "x": [
          789
         ],
         "y": [
          95
         ]
        },
        {
         "hoverinfo": "skip",
         "marker": {
          "color": "red",
          "showscale": false,
          "size": 10
         },
         "name": "c_bus_load_65_53",
         "showlegend": false,
         "type": "scatter",
         "x": [
          761.7959088574821
         ],
         "y": [
          99.53401519041964
         ]
        },
        {
         "hoverinfo": "skip",
         "line": {
          "color": "black",
          "width": 1
         },
         "showlegend": false,
         "type": "scatter",
         "x": [
          893,
          841
         ],
         "y": [
          88,
          94
         ]
        },
        {
         "marker": {
          "color": "DarkOrange",
          "line": {
           "color": "black",
           "width": 1
          },
          "showscale": false,
          "size": 12
         },
         "mode": "markers",
         "name": "cload_66_54",
         "showlegend": false,
         "text": [
          ""
         ],
         "type": "scatter",
         "x": [
          893
         ],
         "y": [
          88
         ]
        },
        {
         "hoverinfo": "skip",
         "marker": {
          "color": "red",
          "showscale": false,
          "size": 10
         },
         "name": "c_bus_load_66_54",
         "showlegend": false,
         "type": "scatter",
         "x": [
          855.901134038067
         ],
         "y": [
          92.28063838022304
         ]
        },
        {
         "hoverinfo": "skip",
         "line": {
          "color": "black",
          "width": 1
         },
         "showlegend": false,
         "type": "scatter",
         "x": [
          129,
          160
         ],
         "y": [
          57,
          41
         ]
        },
        {
         "marker": {
          "color": "DarkOrange",
          "line": {
           "color": "black",
           "width": 1
          },
          "showscale": false,
          "size": 12
         },
         "mode": "markers",
         "name": "cload_69_55",
         "showlegend": false,
         "text": [
          ""
         ],
         "type": "scatter",
         "x": [
          129
         ],
         "y": [
          57
         ]
        },
        {
         "hoverinfo": "skip",
         "marker": {
          "color": "red",
          "showscale": false,
          "size": 10
         },
         "name": "c_bus_load_69_55",
         "showlegend": false,
         "type": "scatter",
         "x": [
          146.67069014417706
         ],
         "y": [
          47.879643796553786
         ]
        },
        {
         "hoverinfo": "skip",
         "line": {
          "color": "black",
          "width": 1
         },
         "showlegend": false,
         "type": "scatter",
         "x": [
          32,
          69
         ],
         "y": [
          -153,
          -133
         ]
        },
        {
         "marker": {
          "color": "DarkOrange",
          "line": {
           "color": "black",
           "width": 1
          },
          "showscale": false,
          "size": 12
         },
         "mode": "markers",
         "name": "cload_73_58",
         "showlegend": false,
         "text": [
          ""
         ],
         "type": "scatter",
         "x": [
          32
         ],
         "y": [
          -153
         ]
        },
        {
         "hoverinfo": "skip",
         "marker": {
          "color": "red",
          "showscale": false,
          "size": 10
         },
         "name": "c_bus_load_73_58",
         "showlegend": false,
         "type": "scatter",
         "x": [
          55.80440229635809
         ],
         "y": [
          -140.1327555154821
         ]
        },
        {
         "hoverinfo": "skip",
         "line": {
          "color": "black",
          "width": 1
         },
         "showlegend": false,
         "type": "scatter",
         "x": [
          126,
          160
         ],
         "y": [
          -231,
          -207
         ]
        },
        {
         "marker": {
          "color": "DarkOrange",
          "line": {
           "color": "black",
           "width": 1
          },
          "showscale": false,
          "size": 12
         },
         "mode": "markers",
         "name": "cload_74_59",
         "showlegend": false,
         "text": [
          ""
         ],
         "type": "scatter",
         "x": [
          126
         ],
         "y": [
          -231
         ]
        },
        {
         "hoverinfo": "skip",
         "marker": {
          "color": "red",
          "showscale": false,
          "size": 10
         },
         "name": "c_bus_load_74_59",
         "showlegend": false,
         "type": "scatter",
         "x": [
          147.74548205102857
         ],
         "y": [
          -215.65024796397984
         ]
        },
        {
         "hoverinfo": "skip",
         "line": {
          "color": "black",
          "width": 1
         },
         "showlegend": false,
         "type": "scatter",
         "x": [
          372,
          398
         ],
         "y": [
          -235,
          -207
         ]
        },
        {
         "marker": {
          "color": "DarkOrange",
          "line": {
           "color": "black",
           "width": 1
          },
          "showscale": false,
          "size": 12
         },
         "mode": "markers",
         "name": "cload_75_60",
         "showlegend": false,
         "text": [
          ""
         ],
         "type": "scatter",
         "x": [
          372
         ],
         "y": [
          -235
         ]
        },
        {
         "hoverinfo": "skip",
         "marker": {
          "color": "red",
          "showscale": false,
          "size": 10
         },
         "name": "c_bus_load_75_60",
         "showlegend": false,
         "type": "scatter",
         "x": [
          387.79323350949085
         ],
         "y": [
          -217.9919023743945
         ]
        },
        {
         "hoverinfo": "skip",
         "line": {
          "color": "black",
          "width": 1
         },
         "showlegend": false,
         "type": "scatter",
         "x": [
          433,
          464
         ],
         "y": [
          -278,
          -262
         ]
        },
        {
         "marker": {
          "color": "DarkOrange",
          "line": {
           "color": "black",
           "width": 1
          },
          "showscale": false,
          "size": 12
         },
         "mode": "markers",
         "name": "cload_76_61",
         "showlegend": false,
         "text": [
          ""
         ],
         "type": "scatter",
         "x": [
          433
         ],
         "y": [
          -278
         ]
        },
        {
         "hoverinfo": "skip",
         "marker": {
          "color": "red",
          "showscale": false,
          "size": 10
         },
         "name": "c_bus_load_76_61",
         "showlegend": false,
         "type": "scatter",
         "x": [
          450.67069014417706
         ],
         "y": [
          -268.8796437965538
         ]
        },
        {
         "hoverinfo": "skip",
         "line": {
          "color": "black",
          "width": 1
         },
         "showlegend": false,
         "type": "scatter",
         "x": [
          492,
          514
         ],
         "y": [
          -160,
          -165
         ]
        },
        {
         "marker": {
          "color": "DarkOrange",
          "line": {
           "color": "black",
           "width": 1
          },
          "showscale": false,
          "size": 12
         },
         "mode": "markers",
         "name": "cload_77_62",
         "showlegend": false,
         "text": [
          ""
         ],
         "type": "scatter",
         "x": [
          492
         ],
         "y": [
          -160
         ]
        },
        {
         "hoverinfo": "skip",
         "marker": {
          "color": "red",
          "showscale": false,
          "size": 10
         },
         "name": "c_bus_load_77_62",
         "showlegend": false,
         "type": "scatter",
         "x": [
          499.3730071631281
         ],
         "y": [
          -161.67568344616546
         ]
        },
        {
         "hoverinfo": "skip",
         "line": {
          "color": "black",
          "width": 1
         },
         "showlegend": false,
         "type": "scatter",
         "x": [
          574,
          547
         ],
         "y": [
          -85,
          -97
         ]
        },
        {
         "marker": {
          "color": "DarkOrange",
          "line": {
           "color": "black",
           "width": 1
          },
          "showscale": false,
          "size": 12
         },
         "mode": "markers",
         "name": "cload_78_63",
         "showlegend": false,
         "text": [
          ""
         ],
         "type": "scatter",
         "x": [
          574
         ],
         "y": [
          -85
         ]
        },
        {
         "hoverinfo": "skip",
         "marker": {
          "color": "red",
          "showscale": false,
          "size": 10
         },
         "name": "c_bus_load_78_63",
         "showlegend": false,
         "type": "scatter",
         "x": [
          560.7071732293039
         ],
         "y": [
          -90.90792300919829
         ]
        },
        {
         "hoverinfo": "skip",
         "line": {
          "color": "black",
          "width": 1
         },
         "showlegend": false,
         "type": "scatter",
         "x": [
          637,
          599
         ],
         "y": [
          -198,
          -207
         ]
        },
        {
         "marker": {
          "color": "DarkOrange",
          "line": {
           "color": "black",
           "width": 1
          },
          "showscale": false,
          "size": 12
         },
         "mode": "markers",
         "name": "cload_79_64",
         "showlegend": false,
         "text": [
          ""
         ],
         "type": "scatter",
         "x": [
          637
         ],
         "y": [
          -198
         ]
        },
        {
         "hoverinfo": "skip",
         "marker": {
          "color": "red",
          "showscale": false,
          "size": 10
         },
         "name": "c_bus_load_79_64",
         "showlegend": false,
         "type": "scatter",
         "x": [
          613.5962043123501
         ],
         "y": [
          -203.54300424181181
         ]
        },
        {
         "hoverinfo": "skip",
         "line": {
          "color": "black",
          "width": 1
         },
         "showlegend": false,
         "type": "scatter",
         "x": [
          374,
          393
         ],
         "y": [
          -371,
          -329
         ]
        },
        {
         "marker": {
          "color": "DarkOrange",
          "line": {
           "color": "black",
           "width": 1
          },
          "showscale": false,
          "size": 12
         },
         "mode": "markers",
         "name": "cload_81_65",
         "showlegend": false,
         "text": [
          ""
         ],
         "type": "scatter",
         "x": [
          374
         ],
         "y": [
          -371
         ]
        },
        {
         "hoverinfo": "skip",
         "marker": {
          "color": "red",
          "showscale": false,
          "size": 10
         },
         "name": "c_bus_load_81_65",
         "showlegend": false,
         "type": "scatter",
         "x": [
          386.8174819521683
         ],
         "y": [
          -342.66661884257536
         ]
        },
        {
         "hoverinfo": "skip",
         "line": {
          "color": "black",
          "width": 1
         },
         "showlegend": false,
         "type": "scatter",
         "x": [
          130,
          149
         ],
         "y": [
          -415,
          -377
         ]
        },
        {
         "marker": {
          "color": "DarkOrange",
          "line": {
           "color": "black",
           "width": 1
          },
          "showscale": false,
          "size": 12
         },
         "mode": "markers",
         "name": "cload_82_66",
         "showlegend": false,
         "text": [
          ""
         ],
         "type": "scatter",
         "x": [
          130
         ],
         "y": [
          -415
         ]
        },
        {
         "hoverinfo": "skip",
         "marker": {
          "color": "red",
          "showscale": false,
          "size": 10
         },
         "name": "c_bus_load_82_66",
         "showlegend": false,
         "type": "scatter",
         "x": [
          142.29179606750063
         ],
         "y": [
          -390.41640786499875
         ]
        },
        {
         "hoverinfo": "skip",
         "line": {
          "color": "black",
          "width": 1
         },
         "showlegend": false,
         "type": "scatter",
         "x": [
          48,
          89
         ],
         "y": [
          -448,
          -418
         ]
        },
        {
         "marker": {
          "color": "DarkOrange",
          "line": {
           "color": "black",
           "width": 1
          },
          "showscale": false,
          "size": 12
         },
         "mode": "markers",
         "name": "cload_83_67",
         "showlegend": false,
         "text": [
          ""
         ],
         "type": "scatter",
         "x": [
          48
         ],
         "y": [
          -448
         ]
        },
        {
         "hoverinfo": "skip",
         "marker": {
          "color": "red",
          "showscale": false,
          "size": 10
         },
         "name": "c_bus_load_83_67",
         "showlegend": false,
         "type": "scatter",
         "x": [
          76.89454511512355
         ],
         "y": [
          -426.85764991576326
         ]
        },
        {
         "hoverinfo": "skip",
         "line": {
          "color": "black",
          "width": 1
         },
         "showlegend": false,
         "type": "scatter",
         "x": [
          87,
          112
         ],
         "y": [
          -530,
          -484
         ]
        },
        {
         "marker": {
          "color": "DarkOrange",
          "line": {
           "color": "black",
           "width": 1
          },
          "showscale": false,
          "size": 12
         },
         "mode": "markers",
         "name": "cload_84_68",
         "showlegend": false,
         "text": [
          ""
         ],
         "type": "scatter",
         "x": [
          87
         ],
         "y": [
          -530
         ]
        },
        {
         "hoverinfo": "skip",
         "marker": {
          "color": "red",
          "showscale": false,
          "size": 10
         },
         "name": "c_bus_load_84_68",
         "showlegend": false,
         "type": "scatter",
         "x": [
          104.83730019370206
         ],
         "y": [
          -497.1793676435882
         ]
        },
        {
         "hoverinfo": "skip",
         "line": {
          "color": "black",
          "width": 1
         },
         "showlegend": false,
         "type": "scatter",
         "x": [
          91,
          118
         ],
         "y": [
          -615,
          -565
         ]
        },
        {
         "marker": {
          "color": "DarkOrange",
          "line": {
           "color": "black",
           "width": 1
          },
          "showscale": false,
          "size": 12
         },
         "mode": "markers",
         "name": "cload_85_69",
         "showlegend": false,
         "text": [
          ""
         ],
         "type": "scatter",
         "x": [
          91
         ],
         "y": [
          -615
         ]
        },
        {
         "hoverinfo": "skip",
         "marker": {
          "color": "red",
          "showscale": false,
          "size": 10
         },
         "name": "c_bus_load_85_69",
         "showlegend": false,
         "type": "scatter",
         "x": [
          110.87276627897674
         ],
         "y": [
          -578.1985809648579
         ]
        },
        {
         "hoverinfo": "skip",
         "line": {
          "color": "black",
          "width": 1
         },
         "showlegend": false,
         "type": "scatter",
         "x": [
          190,
          205
         ],
         "y": [
          -530,
          -484
         ]
        },
        {
         "marker": {
          "color": "DarkOrange",
          "line": {
           "color": "black",
           "width": 1
          },
          "showscale": false,
          "size": 12
         },
         "mode": "markers",
         "name": "cload_87_70",
         "showlegend": false,
         "text": [
          ""
         ],
         "type": "scatter",
         "x": [
          190
         ],
         "y": [
          -530
         ]
        },
        {
         "hoverinfo": "skip",
         "marker": {
          "color": "red",
          "showscale": false,
          "size": 10
         },
         "name": "c_bus_load_87_70",
         "showlegend": false,
         "type": "scatter",
         "x": [
          200.34969100253625
         ],
         "y": [
          -498.2609475922222
         ]
        },
        {
         "hoverinfo": "skip",
         "line": {
          "color": "black",
          "width": 1
         },
         "showlegend": false,
         "type": "scatter",
         "x": [
          333,
          321
         ],
         "y": [
          -645,
          -591
         ]
        },
        {
         "marker": {
          "color": "DarkOrange",
          "line": {
           "color": "black",
           "width": 1
          },
          "showscale": false,
          "size": 12
         },
         "mode": "markers",
         "name": "cload_89_71",
         "showlegend": false,
         "text": [
          ""
         ],
         "type": "scatter",
         "x": [
          333
         ],
         "y": [
          -645
         ]
        },
        {
         "hoverinfo": "skip",
         "marker": {
          "color": "red",
          "showscale": false,
          "size": 10
         },
         "name": "c_bus_load_89_71",
         "showlegend": false,
         "type": "scatter",
         "x": [
          324.25395686727984
         ],
         "y": [
          -605.6428059027593
         ]
        },
        {
         "hoverinfo": "skip",
         "line": {
          "color": "black",
          "width": 1
         },
         "showlegend": false,
         "type": "scatter",
         "x": [
          526,
          517
         ],
         "y": [
          -542,
          -489
         ]
        },
        {
         "marker": {
          "color": "DarkOrange",
          "line": {
           "color": "black",
           "width": 1
          },
          "showscale": false,
          "size": 12
         },
         "mode": "markers",
         "name": "cload_91_73",
         "showlegend": false,
         "text": [
          ""
         ],
         "type": "scatter",
         "x": [
          526
         ],
         "y": [
          -542
         ]
        },
        {
         "hoverinfo": "skip",
         "marker": {
          "color": "red",
          "showscale": false,
          "size": 10
         },
         "name": "c_bus_load_91_73",
         "showlegend": false,
         "type": "scatter",
         "x": [
          519.5112204948396
         ],
         "y": [
          -503.78829846961094
         ]
        },
        {
         "hoverinfo": "skip",
         "line": {
          "color": "black",
          "width": 1
         },
         "showlegend": false,
         "type": "scatter",
         "x": [
          660,
          642
         ],
         "y": [
          -532,
          -481
         ]
        },
        {
         "marker": {
          "color": "DarkOrange",
          "line": {
           "color": "black",
           "width": 1
          },
          "showscale": false,
          "size": 12
         },
         "mode": "markers",
         "name": "cload_92_74",
         "showlegend": false,
         "text": [
          ""
         ],
         "type": "scatter",
         "x": [
          660
         ],
         "y": [
          -532
         ]
        },
        {
         "hoverinfo": "skip",
         "marker": {
          "color": "red",
          "showscale": false,
          "size": 10
         },
         "name": "c_bus_load_92_74",
         "showlegend": false,
         "type": "scatter",
         "x": [
          646.992301766027
         ],
         "y": [
          -495.1448550037433
         ]
        },
        {
         "hoverinfo": "skip",
         "line": {
          "color": "black",
          "width": 1
         },
         "showlegend": false,
         "type": "scatter",
         "x": [
          673,
          646
         ],
         "y": [
          -418,
          -377
         ]
        },
        {
         "marker": {
          "color": "DarkOrange",
          "line": {
           "color": "black",
           "width": 1
          },
          "showscale": false,
          "size": 12
         },
         "mode": "markers",
         "name": "cload_93_75",
         "showlegend": false,
         "text": [
          ""
         ],
         "type": "scatter",
         "x": [
          673
         ],
         "y": [
          -418
         ]
        },
        {
         "hoverinfo": "skip",
         "marker": {
          "color": "red",
          "showscale": false,
          "size": 10
         },
         "name": "c_bus_load_93_75",
         "showlegend": false,
         "type": "scatter",
         "x": [
          654.2498585427329
         ],
         "y": [
          -389.5275629722982
         ]
        },
        {
         "hoverinfo": "skip",
         "line": {
          "color": "black",
          "width": 1
         },
         "showlegend": false,
         "type": "scatter",
         "x": [
          562,
          559
         ],
         "y": [
          -426,
          -377
         ]
        },
        {
         "marker": {
          "color": "DarkOrange",
          "line": {
           "color": "black",
           "width": 1
          },
          "showscale": false,
          "size": 12
         },
         "mode": "markers",
         "name": "cload_94_76",
         "showlegend": false,
         "text": [
          ""
         ],
         "type": "scatter",
         "x": [
          562
         ],
         "y": [
          -426
         ]
        },
        {
         "hoverinfo": "skip",
         "marker": {
          "color": "red",
          "showscale": false,
          "size": 10
         },
         "name": "c_bus_load_94_76",
         "showlegend": false,
         "type": "scatter",
         "x": [
          559.9166509491926
         ],
         "y": [
          -391.9719655034783
         ]
        },
        {
         "hoverinfo": "skip",
         "line": {
          "color": "black",
          "width": 1
         },
         "showlegend": false,
         "type": "scatter",
         "x": [
          596,
          583
         ],
         "y": [
          -376,
          -331
         ]
        },
        {
         "marker": {
          "color": "DarkOrange",
          "line": {
           "color": "black",
           "width": 1
          },
          "showscale": false,
          "size": 12
         },
         "mode": "markers",
         "name": "cload_95_77",
         "showlegend": false,
         "text": [
          ""
         ],
         "type": "scatter",
         "x": [
          596
         ],
         "y": [
          -376
         ]
        },
        {
         "hoverinfo": "skip",
         "marker": {
          "color": "red",
          "showscale": false,
          "size": 10
         },
         "name": "c_bus_load_95_77",
         "showlegend": false,
         "type": "scatter",
         "x": [
          587.1630947923117
         ],
         "y": [
          -345.41071274261714
         ]
        },
        {
         "hoverinfo": "skip",
         "line": {
          "color": "black",
          "width": 1
         },
         "showlegend": false,
         "type": "scatter",
         "x": [
          547,
          541
         ],
         "y": [
          -316,
          -280
         ]
        },
        {
         "marker": {
          "color": "DarkOrange",
          "line": {
           "color": "black",
           "width": 1
          },
          "showscale": false,
          "size": 12
         },
         "mode": "markers",
         "name": "cload_96_78",
         "showlegend": false,
         "text": [
          ""
         ],
         "type": "scatter",
         "x": [
          547
         ],
         "y": [
          -316
         ]
        },
        {
         "hoverinfo": "skip",
         "marker": {
          "color": "red",
          "showscale": false,
          "size": 10
         },
         "name": "c_bus_load_96_78",
         "showlegend": false,
         "type": "scatter",
         "x": [
          543.4659848095804
         ],
         "y": [
          -294.7959088574822
         ]
        },
        {
         "hoverinfo": "skip",
         "line": {
          "color": "black",
          "width": 1
         },
         "showlegend": false,
         "type": "scatter",
         "x": [
          735,
          691
         ],
         "y": [
          -266,
          -251
         ]
        },
        {
         "marker": {
          "color": "DarkOrange",
          "line": {
           "color": "black",
           "width": 1
          },
          "showscale": false,
          "size": 12
         },
         "mode": "markers",
         "name": "cload_97_79",
         "showlegend": false,
         "text": [
          ""
         ],
         "type": "scatter",
         "x": [
          735
         ],
         "y": [
          -266
         ]
        },
        {
         "hoverinfo": "skip",
         "marker": {
          "color": "red",
          "showscale": false,
          "size": 10
         },
         "name": "c_bus_load_97_79",
         "showlegend": false,
         "type": "scatter",
         "x": [
          705.1976528226782
         ],
         "y": [
          -255.8401089168221
         ]
        },
        {
         "hoverinfo": "skip",
         "line": {
          "color": "black",
          "width": 1
         },
         "showlegend": false,
         "type": "scatter",
         "x": [
          805,
          760
         ],
         "y": [
          -385,
          -377
         ]
        },
        {
         "marker": {
          "color": "DarkOrange",
          "line": {
           "color": "black",
           "width": 1
          },
          "showscale": false,
          "size": 12
         },
         "mode": "markers",
         "name": "cload_99_81",
         "showlegend": false,
         "text": [
          ""
         ],
         "type": "scatter",
         "x": [
          805
         ],
         "y": [
          -385
         ]
        },
        {
         "hoverinfo": "skip",
         "marker": {
          "color": "red",
          "showscale": false,
          "size": 10
         },
         "name": "c_bus_load_99_81",
         "showlegend": false,
         "type": "scatter",
         "x": [
          774.7684376167886
         ],
         "y": [
          -379.62550002076244
         ]
        },
        {
         "hoverinfo": "skip",
         "line": {
          "color": "black",
          "width": 1
         },
         "showlegend": false,
         "type": "scatter",
         "x": [
          740,
          720
         ],
         "y": [
          -590,
          -537
         ]
        },
        {
         "marker": {
          "color": "DarkOrange",
          "line": {
           "color": "black",
           "width": 1
          },
          "showscale": false,
          "size": 12
         },
         "mode": "markers",
         "name": "cload_100_82",
         "showlegend": false,
         "text": [
          ""
         ],
         "type": "scatter",
         "x": [
          740
         ],
         "y": [
          -590
         ]
        },
        {
         "hoverinfo": "skip",
         "marker": {
          "color": "red",
          "showscale": false,
          "size": 10
         },
         "name": "c_bus_load_100_82",
         "showlegend": false,
         "type": "scatter",
         "x": [
          725.2958587865137
         ],
         "y": [
          -551.0340257842611
         ]
        },
        {
         "hoverinfo": "skip",
         "line": {
          "color": "black",
          "width": 1
         },
         "showlegend": false,
         "type": "scatter",
         "x": [
          607,
          596
         ],
         "y": [
          -592,
          -535
         ]
        },
        {
         "marker": {
          "color": "DarkOrange",
          "line": {
           "color": "black",
           "width": 1
          },
          "showscale": false,
          "size": 12
         },
         "mode": "markers",
         "name": "cload_101_83",
         "showlegend": false,
         "text": [
          ""
         ],
         "type": "scatter",
         "x": [
          607
         ],
         "y": [
          -592
         ]
        },
        {
         "hoverinfo": "skip",
         "marker": {
          "color": "red",
          "showscale": false,
          "size": 10
         },
         "name": "c_bus_load_101_83",
         "showlegend": false,
         "type": "scatter",
         "x": [
          598.842293970517
         ],
         "y": [
          -549.7282505744968
         ]
        },
        {
         "hoverinfo": "skip",
         "line": {
          "color": "black",
          "width": 1
         },
         "showlegend": false,
         "type": "scatter",
         "x": [
          893,
          860
         ],
         "y": [
          -578,
          -537
         ]
        },
        {
         "marker": {
          "color": "DarkOrange",
          "line": {
           "color": "black",
           "width": 1
          },
          "showscale": false,
          "size": 12
         },
         "mode": "markers",
         "name": "cload_102_84",
         "showlegend": false,
         "text": [
          ""
         ],
         "type": "scatter",
         "x": [
          893
         ],
         "y": [
          -578
         ]
        },
        {
         "hoverinfo": "skip",
         "marker": {
          "color": "red",
          "showscale": false,
          "size": 10
         },
         "name": "c_bus_load_102_84",
         "showlegend": false,
         "type": "scatter",
         "x": [
          869.4051410781742
         ],
         "y": [
          -548.6851752789438
         ]
        },
        {
         "hoverinfo": "skip",
         "line": {
          "color": "black",
          "width": 1
         },
         "showlegend": false,
         "type": "scatter",
         "x": [
          918,
          871
         ],
         "y": [
          -386,
          -373
         ]
        },
        {
         "marker": {
          "color": "DarkOrange",
          "line": {
           "color": "black",
           "width": 1
          },
          "showscale": false,
          "size": 12
         },
         "mode": "markers",
         "name": "cload_103_85",
         "showlegend": false,
         "text": [
          ""
         ],
         "type": "scatter",
         "x": [
          918
         ],
         "y": [
          -386
         ]
        },
        {
         "hoverinfo": "skip",
         "marker": {
          "color": "red",
          "showscale": false,
          "size": 10
         },
         "name": "c_bus_load_103_85",
         "showlegend": false,
         "type": "scatter",
         "x": [
          885.4571668038129
         ],
         "y": [
          -376.9987908180759
         ]
        },
        {
         "hoverinfo": "skip",
         "line": {
          "color": "black",
          "width": 1
         },
         "showlegend": false,
         "type": "scatter",
         "x": [
          1015,
          964
         ],
         "y": [
          -382,
          -377
         ]
        },
        {
         "marker": {
          "color": "DarkOrange",
          "line": {
           "color": "black",
           "width": 1
          },
          "showscale": false,
          "size": 12
         },
         "mode": "markers",
         "name": "cload_104_86",
         "showlegend": false,
         "text": [
          ""
         ],
         "type": "scatter",
         "x": [
          1015
         ],
         "y": [
          -382
         ]
        },
        {
         "hoverinfo": "skip",
         "marker": {
          "color": "red",
          "showscale": false,
          "size": 10
         },
         "name": "c_bus_load_104_86",
         "showlegend": false,
         "type": "scatter",
         "x": [
          978.9284278767997
         ],
         "y": [
          -378.46357136047055
         ]
        },
        {
         "hoverinfo": "skip",
         "line": {
          "color": "black",
          "width": 1
         },
         "showlegend": false,
         "type": "scatter",
         "x": [
          1014,
          961
         ],
         "y": [
          -246,
          -245
         ]
        },
        {
         "marker": {
          "color": "DarkOrange",
          "line": {
           "color": "black",
           "width": 1
          },
          "showscale": false,
          "size": 12
         },
         "mode": "markers",
         "name": "cload_105_87",
         "showlegend": false,
         "text": [
          ""
         ],
         "type": "scatter",
         "x": [
          1014
         ],
         "y": [
          -246
         ]
        },
        {
         "hoverinfo": "skip",
         "marker": {
          "color": "red",
          "showscale": false,
          "size": 10
         },
         "name": "c_bus_load_105_87",
         "showlegend": false,
         "type": "scatter",
         "x": [
          975.9973307233529
         ],
         "y": [
          -245.2829685042142
         ]
        },
        {
         "hoverinfo": "skip",
         "line": {
          "color": "black",
          "width": 1
         },
         "showlegend": false,
         "type": "scatter",
         "x": [
          1124,
          1067
         ],
         "y": [
          -377,
          -377
         ]
        },
        {
         "marker": {
          "color": "DarkOrange",
          "line": {
           "color": "black",
           "width": 1
          },
          "showscale": false,
          "size": 12
         },
         "mode": "markers",
         "name": "cload_106_88",
         "showlegend": false,
         "text": [
          ""
         ],
         "type": "scatter",
         "x": [
          1124
         ],
         "y": [
          -377
         ]
        },
        {
         "hoverinfo": "skip",
         "marker": {
          "color": "red",
          "showscale": false,
          "size": 10
         },
         "name": "c_bus_load_106_88",
         "showlegend": false,
         "type": "scatter",
         "x": [
          1082
         ],
         "y": [
          -377
         ]
        },
        {
         "hoverinfo": "skip",
         "line": {
          "color": "black",
          "width": 1
         },
         "showlegend": false,
         "type": "scatter",
         "x": [
          1100,
          1047
         ],
         "y": [
          -468,
          -444
         ]
        },
        {
         "marker": {
          "color": "DarkOrange",
          "line": {
           "color": "black",
           "width": 1
          },
          "showscale": false,
          "size": 12
         },
         "mode": "markers",
         "name": "cload_107_89",
         "showlegend": false,
         "text": [
          ""
         ],
         "type": "scatter",
         "x": [
          1100
         ],
         "y": [
          -468
         ]
        },
        {
         "hoverinfo": "skip",
         "marker": {
          "color": "red",
          "showscale": false,
          "size": 10
         },
         "name": "c_bus_load_107_89",
         "showlegend": false,
         "type": "scatter",
         "x": [
          1060.664312703329
         ],
         "y": [
          -450.1876132996207
         ]
        },
        {
         "hoverinfo": "skip",
         "line": {
          "color": "black",
          "width": 1
         },
         "showlegend": false,
         "type": "scatter",
         "x": [
          1102,
          1053
         ],
         "y": [
          -547,
          -519
         ]
        },
        {
         "marker": {
          "color": "DarkOrange",
          "line": {
           "color": "black",
           "width": 1
          },
          "showscale": false,
          "size": 12
         },
         "mode": "markers",
         "name": "cload_108_90",
         "showlegend": false,
         "text": [
          ""
         ],
         "type": "scatter",
         "x": [
          1102
         ],
         "y": [
          -547
         ]
        },
        {
         "hoverinfo": "skip",
         "marker": {
          "color": "red",
          "showscale": false,
          "size": 10
         },
         "name": "c_bus_load_108_90",
         "showlegend": false,
         "type": "scatter",
         "x": [
          1066.023647131867
         ],
         "y": [
          -526.4420840753525
         ]
        },
        {
         "hoverinfo": "skip",
         "line": {
          "color": "black",
          "width": 1
         },
         "showlegend": false,
         "type": "scatter",
         "x": [
          987,
          953
         ],
         "y": [
          -631,
          -585
         ]
        },
        {
         "marker": {
          "color": "DarkOrange",
          "line": {
           "color": "black",
           "width": 1
          },
          "showscale": false,
          "size": 12
         },
         "mode": "markers",
         "name": "cload_109_91",
         "showlegend": false,
         "text": [
          ""
         ],
         "type": "scatter",
         "x": [
          987
         ],
         "y": [
          -631
         ]
        },
        {
         "hoverinfo": "skip",
         "marker": {
          "color": "red",
          "showscale": false,
          "size": 10
         },
         "name": "c_bus_load_109_91",
         "showlegend": false,
         "type": "scatter",
         "x": [
          961.9158659162571
         ],
         "y": [
          -597.0626421219949
         ]
        },
        {
         "hoverinfo": "skip",
         "line": {
          "color": "black",
          "width": 1
         },
         "showlegend": false,
         "type": "scatter",
         "x": [
          1114,
          1064
         ],
         "y": [
          -617,
          -585
         ]
        },
        {
         "marker": {
          "color": "DarkOrange",
          "line": {
           "color": "black",
           "width": 1
          },
          "showscale": false,
          "size": 12
         },
         "mode": "markers",
         "name": "cload_111_92",
         "showlegend": false,
         "text": [
          ""
         ],
         "type": "scatter",
         "x": [
          1114
         ],
         "y": [
          -617
         ]
        },
        {
         "hoverinfo": "skip",
         "marker": {
          "color": "red",
          "showscale": false,
          "size": 10
         },
         "name": "c_bus_load_111_92",
         "showlegend": false,
         "type": "scatter",
         "x": [
          1076.6340710099228
         ],
         "y": [
          -593.0858054463505
         ]
        },
        {
         "hoverinfo": "skip",
         "line": {
          "color": "black",
          "width": 1
         },
         "showlegend": false,
         "type": "scatter",
         "x": [
          -719,
          -683
         ],
         "y": [
          -83,
          -53
         ]
        },
        {
         "marker": {
          "color": "DarkOrange",
          "line": {
           "color": "black",
           "width": 1
          },
          "showscale": false,
          "size": 12
         },
         "mode": "markers",
         "name": "cload_113_94",
         "showlegend": false,
         "text": [
          ""
         ],
         "type": "scatter",
         "x": [
          -719
         ],
         "y": [
          -83
         ]
        },
        {
         "hoverinfo": "skip",
         "marker": {
          "color": "red",
          "showscale": false,
          "size": 10
         },
         "name": "c_bus_load_113_94",
         "showlegend": false,
         "type": "scatter",
         "x": [
          -694.5233191939607
         ],
         "y": [
          -62.6027659949672
         ]
        },
        {
         "hoverinfo": "skip",
         "line": {
          "color": "black",
          "width": 1
         },
         "showlegend": false,
         "type": "scatter",
         "x": [
          -697,
          -665
         ],
         "y": [
          -159,
          -122
         ]
        },
        {
         "marker": {
          "color": "DarkOrange",
          "line": {
           "color": "black",
           "width": 1
          },
          "showscale": false,
          "size": 12
         },
         "mode": "markers",
         "name": "cload_114_95",
         "showlegend": false,
         "text": [
          ""
         ],
         "type": "scatter",
         "x": [
          -697
         ],
         "y": [
          -159
         ]
        },
        {
         "hoverinfo": "skip",
         "marker": {
          "color": "red",
          "showscale": false,
          "size": 10
         },
         "name": "c_bus_load_114_95",
         "showlegend": false,
         "type": "scatter",
         "x": [
          -674.8122789939738
         ],
         "y": [
          -133.34544758678217
         ]
        },
        {
         "hoverinfo": "skip",
         "line": {
          "color": "black",
          "width": 1
         },
         "showlegend": false,
         "type": "scatter",
         "x": [
          -645,
          -625
         ],
         "y": [
          639,
          592
         ]
        },
        {
         "marker": {
          "color": "DarkOrange",
          "line": {
           "color": "black",
           "width": 1
          },
          "showscale": false,
          "size": 12
         },
         "mode": "markers",
         "name": "cload_116_97",
         "showlegend": false,
         "text": [
          ""
         ],
         "type": "scatter",
         "x": [
          -645
         ],
         "y": [
          639
         ]
        },
        {
         "hoverinfo": "skip",
         "marker": {
          "color": "red",
          "showscale": false,
          "size": 10
         },
         "name": "c_bus_load_116_97",
         "showlegend": false,
         "type": "scatter",
         "x": [
          -630.873327461459
         ],
         "y": [
          605.8023195344286
         ]
        },
        {
         "hoverinfo": "skip",
         "line": {
          "color": "black",
          "width": 1
         },
         "showlegend": false,
         "type": "scatter",
         "x": [
          266,
          299
         ],
         "y": [
          -188,
          -172
         ]
        },
        {
         "marker": {
          "color": "DarkOrange",
          "line": {
           "color": "black",
           "width": 1
          },
          "showscale": false,
          "size": 12
         },
         "mode": "markers",
         "name": "cload_117_98",
         "showlegend": false,
         "text": [
          ""
         ],
         "type": "scatter",
         "x": [
          266
         ],
         "y": [
          -188
         ]
        },
        {
         "hoverinfo": "skip",
         "marker": {
          "color": "red",
          "showscale": false,
          "size": 10
         },
         "name": "c_bus_load_117_98",
         "showlegend": false,
         "type": "scatter",
         "x": [
          285.502788392057
         ],
         "y": [
          -178.54410259779056
         ]
        },
        {
         "hoverinfo": "skip",
         "line": {
          "color": "black",
          "width": 1
         },
         "showlegend": false,
         "type": "scatter",
         "x": [
          -993,
          -940
         ],
         "y": [
          459,
          461
         ]
        },
        {
         "marker": {
          "color": "LightGreen",
          "line": {
           "color": "black",
           "width": 1
          },
          "showscale": false,
          "size": 12
         },
         "mode": "markers",
         "name": "bgen_3_0",
         "showlegend": false,
         "text": [
          ""
         ],
         "type": "scatter",
         "x": [
          -993
         ],
         "y": [
          459
         ]
        },
        {
         "hoverinfo": "skip",
         "marker": {
          "color": "red",
          "showscale": false,
          "size": 10
         },
         "name": "b_bus_gen_3_0",
         "showlegend": false,
         "type": "scatter",
         "x": [
          -954.9893314353502
         ],
         "y": [
          460.43436485149624
         ]
        },
        {
         "hoverinfo": "skip",
         "line": {
          "color": "black",
          "width": 1
         },
         "showlegend": false,
         "type": "scatter",
         "x": [
          -979,
          -940
         ],
         "y": [
          493,
          461
         ]
        },
        {
         "marker": {
          "color": "LightGreen",
          "line": {
           "color": "black",
           "width": 1
          },
          "showscale": false,
          "size": 12
         },
         "mode": "markers",
         "name": "bgen_3_1",
         "showlegend": false,
         "text": [
          ""
         ],
         "type": "scatter",
         "x": [
          -979
         ],
         "y": [
          493
         ]
        },
        {
         "hoverinfo": "skip",
         "marker": {
          "color": "red",
          "showscale": false,
          "size": 10
         },
         "name": "b_bus_gen_3_1",
         "showlegend": false,
         "type": "scatter",
         "x": [
          -951.5961005572389
         ],
         "y": [
          470.5147491751703
         ]
        },
        {
         "hoverinfo": "skip",
         "line": {
          "color": "black",
          "width": 1
         },
         "showlegend": false,
         "type": "scatter",
         "x": [
          -1023,
          -969
         ],
         "y": [
          131,
          131
         ]
        },
        {
         "marker": {
          "color": "LightGreen",
          "line": {
           "color": "black",
           "width": 1
          },
          "showscale": false,
          "size": 12
         },
         "mode": "markers",
         "name": "bgen_7_2",
         "showlegend": false,
         "text": [
          ""
         ],
         "type": "scatter",
         "x": [
          -1023
         ],
         "y": [
          131
         ]
        },
        {
         "hoverinfo": "skip",
         "marker": {
          "color": "red",
          "showscale": false,
          "size": 10
         },
         "name": "b_bus_gen_7_2",
         "showlegend": false,
         "type": "scatter",
         "x": [
          -984
         ],
         "y": [
          131
         ]
        },
        {
         "hoverinfo": "skip",
         "line": {
          "color": "black",
          "width": 1
         },
         "showlegend": false,
         "type": "scatter",
         "x": [
          -1022,
          -969
         ],
         "y": [
          -57,
          -39
         ]
        },
        {
         "marker": {
          "color": "LightGreen",
          "line": {
           "color": "black",
           "width": 1
          },
          "showscale": false,
          "size": 12
         },
         "mode": "markers",
         "name": "bgen_9_3",
         "showlegend": false,
         "text": [
          ""
         ],
         "type": "scatter",
         "x": [
          -1022
         ],
         "y": [
          -57
         ]
        },
        {
         "hoverinfo": "skip",
         "marker": {
          "color": "red",
          "showscale": false,
          "size": 10
         },
         "name": "b_bus_gen_9_3",
         "showlegend": false,
         "type": "scatter",
         "x": [
          -983.2032238308068
         ],
         "y": [
          -43.82373639536835
         ]
        },
        {
         "hoverinfo": "skip",
         "line": {
          "color": "black",
          "width": 1
         },
         "showlegend": false,
         "type": "scatter",
         "x": [
          -890,
          -847
         ],
         "y": [
          481,
          465
         ]
        },
        {
         "marker": {
          "color": "LightGreen",
          "line": {
           "color": "black",
           "width": 1
          },
          "showscale": false,
          "size": 12
         },
         "mode": "markers",
         "name": "bgen_10_4",
         "showlegend": false,
         "text": [
          ""
         ],
         "type": "scatter",
         "x": [
          -890
         ],
         "y": [
          481
         ]
        },
        {
         "hoverinfo": "skip",
         "marker": {
          "color": "red",
          "showscale": false,
          "size": 10
         },
         "name": "b_bus_gen_10_4",
         "showlegend": false,
         "type": "scatter",
         "x": [
          -861.0583277658634
         ],
         "y": [
          470.2310056803213
         ]
        },
        {
         "hoverinfo": "skip",
         "line": {
          "color": "black",
          "width": 1
         },
         "showlegend": false,
         "type": "scatter",
         "x": [
          -884,
          -847
         ],
         "y": [
          501,
          465
         ]
        },
        {
         "marker": {
          "color": "LightGreen",
          "line": {
           "color": "black",
           "width": 1
          },
          "showscale": false,
          "size": 12
         },
         "mode": "markers",
         "name": "bgen_10_5",
         "showlegend": false,
         "text": [
          ""
         ],
         "type": "scatter",
         "x": [
          -884
         ],
         "y": [
          501
         ]
        },
        {
         "hoverinfo": "skip",
         "marker": {
          "color": "red",
          "showscale": false,
          "size": 10
         },
         "name": "b_bus_gen_10_5",
         "showlegend": false,
         "type": "scatter",
         "x": [
          -857.7508889636366
         ],
         "y": [
          475.4603243970518
         ]
        },
        {
         "hoverinfo": "skip",
         "line": {
          "color": "black",
          "width": 1
         },
         "showlegend": false,
         "type": "scatter",
         "x": [
          -741,
          -705
         ],
         "y": [
          539,
          505
         ]
        },
        {
         "marker": {
          "color": "LightGreen",
          "line": {
           "color": "black",
           "width": 1
          },
          "showscale": false,
          "size": 12
         },
         "mode": "markers",
         "name": "bgen_11_6",
         "showlegend": false,
         "text": [
          ""
         ],
         "type": "scatter",
         "x": [
          -741
         ],
         "y": [
          539
         ]
        },
        {
         "hoverinfo": "skip",
         "marker": {
          "color": "red",
          "showscale": false,
          "size": 10
         },
         "name": "b_bus_gen_11_6",
         "showlegend": false,
         "type": "scatter",
         "x": [
          -715.9051972882472
         ],
         "y": [
          515.2993529944557
         ]
        },
        {
         "hoverinfo": "skip",
         "line": {
          "color": "black",
          "width": 1
         },
         "showlegend": false,
         "type": "scatter",
         "x": [
          -493,
          -498
         ],
         "y": [
          409,
          369
         ]
        },
        {
         "marker": {
          "color": "LightGreen",
          "line": {
           "color": "black",
           "width": 1
          },
          "showscale": false,
          "size": 12
         },
         "mode": "markers",
         "name": "bgen_14_7",
         "showlegend": false,
         "text": [
          ""
         ],
         "type": "scatter",
         "x": [
          -493
         ],
         "y": [
          409
         ]
        },
        {
         "hoverinfo": "skip",
         "marker": {
          "color": "red",
          "showscale": false,
          "size": 10
         },
         "name": "b_bus_gen_14_7",
         "showlegend": false,
         "type": "scatter",
         "x": [
          -496.13947898116186
         ],
         "y": [
          383.884168150705
         ]
        },
        {
         "hoverinfo": "skip",
         "line": {
          "color": "black",
          "width": 1
         },
         "showlegend": false,
         "type": "scatter",
         "x": [
          -535,
          -498
         ],
         "y": [
          379,
          369
         ]
        },
        {
         "marker": {
          "color": "LightGreen",
          "line": {
           "color": "black",
           "width": 1
          },
          "showscale": false,
          "size": 12
         },
         "mode": "markers",
         "name": "bgen_14_8",
         "showlegend": false,
         "text": [
          ""
         ],
         "type": "scatter",
         "x": [
          -535
         ],
         "y": [
          379
         ]
        },
        {
         "hoverinfo": "skip",
         "marker": {
          "color": "red",
          "showscale": false,
          "size": 10
         },
         "name": "b_bus_gen_14_8",
         "showlegend": false,
         "type": "scatter",
         "x": [
          -512.480450895424
         ],
         "y": [
          372.91363537714165
         ]
        },
        {
         "hoverinfo": "skip",
         "line": {
          "color": "black",
          "width": 1
         },
         "showlegend": false,
         "type": "scatter",
         "x": [
          -514,
          -498
         ],
         "y": [
          413,
          369
         ]
        },
        {
         "marker": {
          "color": "LightGreen",
          "line": {
           "color": "black",
           "width": 1
          },
          "showscale": false,
          "size": 12
         },
         "mode": "markers",
         "name": "bgen_14_9",
         "showlegend": false,
         "text": [
          ""
         ],
         "type": "scatter",
         "x": [
          -514
         ],
         "y": [
          413
         ]
        },
        {
         "hoverinfo": "skip",
         "marker": {
          "color": "red",
          "showscale": false,
          "size": 10
         },
         "name": "b_bus_gen_14_9",
         "showlegend": false,
         "type": "scatter",
         "x": [
          -503.12614594630054
         ],
         "y": [
          383.09690135232654
         ]
        },
        {
         "hoverinfo": "skip",
         "line": {
          "color": "black",
          "width": 1
         },
         "showlegend": false,
         "type": "scatter",
         "x": [
          -462,
          -427
         ],
         "y": [
          197,
          205
         ]
        },
        {
         "marker": {
          "color": "LightGreen",
          "line": {
           "color": "black",
           "width": 1
          },
          "showscale": false,
          "size": 12
         },
         "mode": "markers",
         "name": "bgen_17_10",
         "showlegend": false,
         "text": [
          ""
         ],
         "type": "scatter",
         "x": [
          -462
         ],
         "y": [
          197
         ]
        },
        {
         "hoverinfo": "skip",
         "marker": {
          "color": "red",
          "showscale": false,
          "size": 10
         },
         "name": "b_bus_gen_17_10",
         "showlegend": false,
         "type": "scatter",
         "x": [
          -441.622877598578
         ],
         "y": [
          201.65762797746788
         ]
        },
        {
         "hoverinfo": "skip",
         "line": {
          "color": "black",
          "width": 1
         },
         "showlegend": false,
         "type": "scatter",
         "x": [
          -315,
          -307
         ],
         "y": [
          353,
          311
         ]
        },
        {
         "marker": {
          "color": "LightGreen",
          "line": {
           "color": "black",
           "width": 1
          },
          "showscale": false,
          "size": 12
         },
         "mode": "markers",
         "name": "bgen_18_11",
         "showlegend": false,
         "text": [
          ""
         ],
         "type": "scatter",
         "x": [
          -315
         ],
         "y": [
          353
         ]
        },
        {
         "hoverinfo": "skip",
         "marker": {
          "color": "red",
          "showscale": false,
          "size": 10
         },
         "name": "b_bus_gen_18_11",
         "showlegend": false,
         "type": "scatter",
         "x": [
          -309.80668161834996
         ],
         "y": [
          325.7350784963371
         ]
        },
        {
         "hoverinfo": "skip",
         "line": {
          "color": "black",
          "width": 1
         },
         "showlegend": false,
         "type": "scatter",
         "x": [
          -491,
          -462
         ],
         "y": [
          -276,
          -236
         ]
        },
        {
         "marker": {
          "color": "LightGreen",
          "line": {
           "color": "black",
           "width": 1
          },
          "showscale": false,
          "size": 12
         },
         "mode": "markers",
         "name": "bgen_24_12",
         "showlegend": false,
         "text": [
          ""
         ],
         "type": "scatter",
         "x": [
          -491
         ],
         "y": [
          -276
         ]
        },
        {
         "hoverinfo": "skip",
         "marker": {
          "color": "red",
          "showscale": false,
          "size": 10
         },
         "name": "b_bus_gen_24_12",
         "showlegend": false,
         "type": "scatter",
         "x": [
          -470.80451357191396
         ],
         "y": [
          -248.14415665091582
         ]
        },
        {
         "hoverinfo": "skip",
         "line": {
          "color": "black",
          "width": 1
         },
         "showlegend": false,
         "type": "scatter",
         "x": [
          -526,
          -493
         ],
         "y": [
          -153,
          -122
         ]
        },
        {
         "marker": {
          "color": "LightGreen",
          "line": {
           "color": "black",
           "width": 1
          },
          "showscale": false,
          "size": 12
         },
         "mode": "markers",
         "name": "bgen_25_13",
         "showlegend": false,
         "text": [
          ""
         ],
         "type": "scatter",
         "x": [
          -526
         ],
         "y": [
          -153
         ]
        },
        {
         "hoverinfo": "skip",
         "marker": {
          "color": "red",
          "showscale": false,
          "size": 10
         },
         "name": "b_bus_gen_25_13",
         "showlegend": false,
         "type": "scatter",
         "x": [
          -503.9327210814098
         ],
         "y": [
          -132.27013192496074
         ]
        },
        {
         "hoverinfo": "skip",
         "line": {
          "color": "black",
          "width": 1
         },
         "showlegend": false,
         "type": "scatter",
         "x": [
          -903,
          -858
         ],
         "y": [
          -133,
          -98
         ]
        },
        {
         "marker": {
          "color": "LightGreen",
          "line": {
           "color": "black",
           "width": 1
          },
          "showscale": false,
          "size": 12
         },
         "mode": "markers",
         "name": "bgen_26_14",
         "showlegend": false,
         "text": [
          ""
         ],
         "type": "scatter",
         "x": [
          -903
         ],
         "y": [
          -133
         ]
        },
        {
         "hoverinfo": "skip",
         "marker": {
          "color": "red",
          "showscale": false,
          "size": 10
         },
         "name": "b_bus_gen_26_14",
         "showlegend": false,
         "type": "scatter",
         "x": [
          -869.8402832606449
         ],
         "y": [
          -107.20910920272381
         ]
        },
        {
         "hoverinfo": "skip",
         "line": {
          "color": "black",
          "width": 1
         },
         "showlegend": false,
         "type": "scatter",
         "x": [
          -885,
          -858
         ],
         "y": [
          -141,
          -98
         ]
        },
        {
         "marker": {
          "color": "LightGreen",
          "line": {
           "color": "black",
           "width": 1
          },
          "showscale": false,
          "size": 12
         },
         "mode": "markers",
         "name": "bgen_26_15",
         "showlegend": false,
         "text": [
          ""
         ],
         "type": "scatter",
         "x": [
          -885
         ],
         "y": [
          -141
         ]
        },
        {
         "hoverinfo": "skip",
         "marker": {
          "color": "red",
          "showscale": false,
          "size": 10
         },
         "name": "b_bus_gen_26_15",
         "showlegend": false,
         "type": "scatter",
         "x": [
          -865.9765219880347
         ],
         "y": [
          -110.70334983279602
         ]
        },
        {
         "hoverinfo": "skip",
         "line": {
          "color": "black",
          "width": 1
         },
         "showlegend": false,
         "type": "scatter",
         "x": [
          7,
          40
         ],
         "y": [
          401,
          373
         ]
        },
        {
         "marker": {
          "color": "LightGreen",
          "line": {
           "color": "black",
           "width": 1
          },
          "showscale": false,
          "size": 12
         },
         "mode": "markers",
         "name": "bgen_33_16",
         "showlegend": false,
         "text": [
          ""
         ],
         "type": "scatter",
         "x": [
          7
         ],
         "y": [
          401
         ]
        },
        {
         "hoverinfo": "skip",
         "marker": {
          "color": "red",
          "showscale": false,
          "size": 10
         },
         "name": "b_bus_gen_33_16",
         "showlegend": false,
         "type": "scatter",
         "x": [
          28.562362969408127
         ],
         "y": [
          382.70466172292646
         ]
        },
        {
         "hoverinfo": "skip",
         "line": {
          "color": "black",
          "width": 1
         },
         "showlegend": false,
         "type": "scatter",
         "x": [
          204,
          226
         ],
         "y": [
          616,
          568
         ]
        },
        {
         "marker": {
          "color": "LightGreen",
          "line": {
           "color": "black",
           "width": 1
          },
          "showscale": false,
          "size": 12
         },
         "mode": "markers",
         "name": "bgen_39_17",
         "showlegend": false,
         "text": [
          ""
         ],
         "type": "scatter",
         "x": [
          204
         ],
         "y": [
          616
         ]
        },
        {
         "hoverinfo": "skip",
         "marker": {
          "color": "red",
          "showscale": false,
          "size": 10
         },
         "name": "b_bus_gen_39_17",
         "showlegend": false,
         "type": "scatter",
         "x": [
          219.7501793426018
         ],
         "y": [
          581.6359723434142
         ]
        },
        {
         "hoverinfo": "skip",
         "line": {
          "color": "black",
          "width": 1
         },
         "showlegend": false,
         "type": "scatter",
         "x": [
          447,
          424
         ],
         "y": [
          612,
          568
         ]
        },
        {
         "marker": {
          "color": "LightGreen",
          "line": {
           "color": "black",
           "width": 1
          },
          "showscale": false,
          "size": 12
         },
         "mode": "markers",
         "name": "bgen_41_18",
         "showlegend": false,
         "text": [
          ""
         ],
         "type": "scatter",
         "x": [
          447
         ],
         "y": [
          612
         ]
        },
        {
         "hoverinfo": "skip",
         "marker": {
          "color": "red",
          "showscale": false,
          "size": 10
         },
         "name": "b_bus_gen_41_18",
         "showlegend": false,
         "type": "scatter",
         "x": [
          430.9488131401553
         ],
         "y": [
          581.2933816594275
         ]
        },
        {
         "hoverinfo": "skip",
         "line": {
          "color": "black",
          "width": 1
         },
         "showlegend": false,
         "type": "scatter",
         "x": [
          437,
          424
         ],
         "y": [
          626,
          568
         ]
        },
        {
         "marker": {
          "color": "LightGreen",
          "line": {
           "color": "black",
           "width": 1
          },
          "showscale": false,
          "size": 12
         },
         "mode": "markers",
         "name": "bgen_41_19",
         "showlegend": false,
         "text": [
          ""
         ],
         "type": "scatter",
         "x": [
          437
         ],
         "y": [
          626
         ]
        },
        {
         "hoverinfo": "skip",
         "marker": {
          "color": "red",
          "showscale": false,
          "size": 10
         },
         "name": "b_bus_gen_41_19",
         "showlegend": false,
         "type": "scatter",
         "x": [
          427.28067185376074
         ],
         "y": [
          582.6368436552401
         ]
        },
        {
         "hoverinfo": "skip",
         "line": {
          "color": "black",
          "width": 1
         },
         "showlegend": false,
         "type": "scatter",
         "x": [
          319,
          350
         ],
         "y": [
          249,
          236
         ]
        },
        {
         "marker": {
          "color": "LightGreen",
          "line": {
           "color": "black",
           "width": 1
          },
          "showscale": false,
          "size": 12
         },
         "mode": "markers",
         "name": "bgen_45_20",
         "showlegend": false,
         "text": [
          ""
         ],
         "type": "scatter",
         "x": [
          319
         ],
         "y": [
          249
         ]
        },
        {
         "hoverinfo": "skip",
         "marker": {
          "color": "red",
          "showscale": false,
          "size": 10
         },
         "name": "b_bus_gen_45_20",
         "showlegend": false,
         "type": "scatter",
         "x": [
          336.167084272572
         ],
         "y": [
          241.80090014376012
         ]
        },
        {
         "hoverinfo": "skip",
         "line": {
          "color": "black",
          "width": 1
         },
         "showlegend": false,
         "type": "scatter",
         "x": [
          599,
          583
         ],
         "y": [
          249,
          209
         ]
        },
        {
         "marker": {
          "color": "LightGreen",
          "line": {
           "color": "black",
           "width": 1
          },
          "showscale": false,
          "size": 12
         },
         "mode": "markers",
         "name": "bgen_48_21",
         "showlegend": false,
         "text": [
          ""
         ],
         "type": "scatter",
         "x": [
          599
         ],
         "y": [
          249
         ]
        },
        {
         "hoverinfo": "skip",
         "marker": {
          "color": "red",
          "showscale": false,
          "size": 10
         },
         "name": "b_bus_gen_48_21",
         "showlegend": false,
         "type": "scatter",
         "x": [
          588.5708601453116
         ],
         "y": [
          222.92715036327888
         ]
        },
        {
         "hoverinfo": "skip",
         "line": {
          "color": "black",
          "width": 1
         },
         "showlegend": false,
         "type": "scatter",
         "x": [
          614,
          583
         ],
         "y": [
          195,
          209
         ]
        },
        {
         "marker": {
          "color": "LightGreen",
          "line": {
           "color": "black",
           "width": 1
          },
          "showscale": false,
          "size": 12
         },
         "mode": "markers",
         "name": "bgen_48_22",
         "showlegend": false,
         "text": [
          ""
         ],
         "type": "scatter",
         "x": [
          614
         ],
         "y": [
          195
         ]
        },
        {
         "hoverinfo": "skip",
         "marker": {
          "color": "red",
          "showscale": false,
          "size": 10
         },
         "name": "b_bus_gen_48_22",
         "showlegend": false,
         "type": "scatter",
         "x": [
          596.6705589948801
         ],
         "y": [
          202.82619916360252
         ]
        },
        {
         "hoverinfo": "skip",
         "line": {
          "color": "black",
          "width": 1
         },
         "showlegend": false,
         "type": "scatter",
         "x": [
          616,
          583
         ],
         "y": [
          237,
          209
         ]
        },
        {
         "marker": {
          "color": "LightGreen",
          "line": {
           "color": "black",
           "width": 1
          },
          "showscale": false,
          "size": 12
         },
         "mode": "markers",
         "name": "bgen_48_23",
         "showlegend": false,
         "text": [
          ""
         ],
         "type": "scatter",
         "x": [
          616
         ],
         "y": [
          237
         ]
        },
        {
         "hoverinfo": "skip",
         "marker": {
          "color": "red",
          "showscale": false,
          "size": 10
         },
         "name": "b_bus_gen_48_23",
         "showlegend": false,
         "type": "scatter",
         "x": [
          594.4376370305919
         ],
         "y": [
          218.70466172292643
         ]
        },
        {
         "hoverinfo": "skip",
         "line": {
          "color": "black",
          "width": 1
         },
         "showlegend": false,
         "type": "scatter",
         "x": [
          624,
          583
         ],
         "y": [
          217,
          209
         ]
        },
        {
         "marker": {
          "color": "LightGreen",
          "line": {
           "color": "black",
           "width": 1
          },
          "showscale": false,
          "size": 12
         },
         "mode": "markers",
         "name": "bgen_48_24",
         "showlegend": false,
         "text": [
          ""
         ],
         "type": "scatter",
         "x": [
          624
         ],
         "y": [
          217
         ]
        },
        {
         "hoverinfo": "skip",
         "marker": {
          "color": "red",
          "showscale": false,
          "size": 10
         },
         "name": "b_bus_gen_48_24",
         "showlegend": false,
         "type": "scatter",
         "x": [
          597.7223588803855
         ],
         "y": [
          211.87265539129473
         ]
        },
        {
         "hoverinfo": "skip",
         "line": {
          "color": "black",
          "width": 1
         },
         "showlegend": false,
         "type": "scatter",
         "x": [
          654,
          625
         ],
         "y": [
          614,
          566
         ]
        },
        {
         "marker": {
          "color": "LightGreen",
          "line": {
           "color": "black",
           "width": 1
          },
          "showscale": false,
          "size": 12
         },
         "mode": "markers",
         "name": "bgen_53_25",
         "showlegend": false,
         "text": [
          ""
         ],
         "type": "scatter",
         "x": [
          654
         ],
         "y": [
          614
         ]
        },
        {
         "hoverinfo": "skip",
         "marker": {
          "color": "red",
          "showscale": false,
          "size": 10
         },
         "name": "b_bus_gen_53_25",
         "showlegend": false,
         "type": "scatter",
         "x": [
          632.7567345988838
         ],
         "y": [
          578.8387331291868
         ]
        },
        {
         "hoverinfo": "skip",
         "line": {
          "color": "black",
          "width": 1
         },
         "showlegend": false,
         "type": "scatter",
         "x": [
          808,
          783
         ],
         "y": [
          569,
          515
         ]
        },
        {
         "marker": {
          "color": "LightGreen",
          "line": {
           "color": "black",
           "width": 1
          },
          "showscale": false,
          "size": 12
         },
         "mode": "markers",
         "name": "bgen_54_26",
         "showlegend": false,
         "text": [
          ""
         ],
         "type": "scatter",
         "x": [
          808
         ],
         "y": [
          569
         ]
        },
        {
         "hoverinfo": "skip",
         "marker": {
          "color": "red",
          "showscale": false,
          "size": 10
         },
         "name": "b_bus_gen_54_26",
         "showlegend": false,
         "type": "scatter",
         "x": [
          789.3018535216655
         ],
         "y": [
          528.6120036067977
         ]
        },
        {
         "hoverinfo": "skip",
         "line": {
          "color": "black",
          "width": 1
         },
         "showlegend": false,
         "type": "scatter",
         "x": [
          767,
          742
         ],
         "y": [
          476,
          430
         ]
        },
        {
         "marker": {
          "color": "LightGreen",
          "line": {
           "color": "black",
           "width": 1
          },
          "showscale": false,
          "size": 12
         },
         "mode": "markers",
         "name": "bgen_55_27",
         "showlegend": false,
         "text": [
          ""
         ],
         "type": "scatter",
         "x": [
          767
         ],
         "y": [
          476
         ]
        },
        {
         "hoverinfo": "skip",
         "marker": {
          "color": "red",
          "showscale": false,
          "size": 10
         },
         "name": "b_bus_gen_55_27",
         "showlegend": false,
         "type": "scatter",
         "x": [
          749.162699806298
         ],
         "y": [
          443.1793676435882
         ]
        },
        {
         "hoverinfo": "skip",
         "line": {
          "color": "black",
          "width": 1
         },
         "showlegend": false,
         "type": "scatter",
         "x": [
          749,
          742
         ],
         "y": [
          480,
          430
         ]
        },
        {
         "marker": {
          "color": "LightGreen",
          "line": {
           "color": "black",
           "width": 1
          },
          "showscale": false,
          "size": 12
         },
         "mode": "markers",
         "name": "bgen_55_28",
         "showlegend": false,
         "text": [
          ""
         ],
         "type": "scatter",
         "x": [
          749
         ],
         "y": [
          480
         ]
        },
        {
         "hoverinfo": "skip",
         "marker": {
          "color": "red",
          "showscale": false,
          "size": 10
         },
         "name": "b_bus_gen_55_28",
         "showlegend": false,
         "type": "scatter",
         "x": [
          744.0797176680161
         ],
         "y": [
          444.85512620011497
         ]
        },
        {
         "hoverinfo": "skip",
         "line": {
          "color": "black",
          "width": 1
         },
         "showlegend": false,
         "type": "scatter",
         "x": [
          789,
          742
         ],
         "y": [
          453,
          430
         ]
        },
        {
         "marker": {
          "color": "LightGreen",
          "line": {
           "color": "black",
           "width": 1
          },
          "showscale": false,
          "size": 12
         },
         "mode": "markers",
         "name": "bgen_55_29",
         "showlegend": false,
         "text": [
          ""
         ],
         "type": "scatter",
         "x": [
          789
         ],
         "y": [
          453
         ]
        },
        {
         "hoverinfo": "skip",
         "marker": {
          "color": "red",
          "showscale": false,
          "size": 10
         },
         "name": "b_bus_gen_55_29",
         "showlegend": false,
         "type": "scatter",
         "x": [
          755.4732508307167
         ],
         "y": [
          436.5932929597124
         ]
        },
        {
         "hoverinfo": "skip",
         "line": {
          "color": "black",
          "width": 1
         },
         "showlegend": false,
         "type": "scatter",
         "x": [
          1012,
          982
         ],
         "y": [
          576,
          529
         ]
        },
        {
         "marker": {
          "color": "LightGreen",
          "line": {
           "color": "black",
           "width": 1
          },
          "showscale": false,
          "size": 12
         },
         "mode": "markers",
         "name": "bgen_58_30",
         "showlegend": false,
         "text": [
          ""
         ],
         "type": "scatter",
         "x": [
          1012
         ],
         "y": [
          576
         ]
        },
        {
         "hoverinfo": "skip",
         "marker": {
          "color": "red",
          "showscale": false,
          "size": 10
         },
         "name": "b_bus_gen_58_30",
         "showlegend": false,
         "type": "scatter",
         "x": [
          990.070531793828
         ],
         "y": [
          541.6438331436639
         ]
        },
        {
         "hoverinfo": "skip",
         "line": {
          "color": "black",
          "width": 1
         },
         "showlegend": false,
         "type": "scatter",
         "x": [
          956,
          908
         ],
         "y": [
          286,
          254
         ]
        },
        {
         "marker": {
          "color": "LightGreen",
          "line": {
           "color": "black",
           "width": 1
          },
          "showscale": false,
          "size": 12
         },
         "mode": "markers",
         "name": "bgen_59_31",
         "showlegend": false,
         "text": [
          ""
         ],
         "type": "scatter",
         "x": [
          956
         ],
         "y": [
          286
         ]
        },
        {
         "hoverinfo": "skip",
         "marker": {
          "color": "red",
          "showscale": false,
          "size": 10
         },
         "name": "b_bus_gen_59_31",
         "showlegend": false,
         "type": "scatter",
         "x": [
          920.4807544150676
         ],
         "y": [
          262.3205029433784
         ]
        },
        {
         "hoverinfo": "skip",
         "line": {
          "color": "black",
          "width": 1
         },
         "showlegend": false,
         "type": "scatter",
         "x": [
          1008,
          950
         ],
         "y": [
          204,
          195
         ]
        },
        {
         "marker": {
          "color": "LightGreen",
          "line": {
           "color": "black",
           "width": 1
          },
          "showscale": false,
          "size": 12
         },
         "mode": "markers",
         "name": "bgen_60_32",
         "showlegend": false,
         "text": [
          ""
         ],
         "type": "scatter",
         "x": [
          1008
         ],
         "y": [
          204
         ]
        },
        {
         "hoverinfo": "skip",
         "marker": {
          "color": "lime",
          "showscale": false,
          "size": 10
         },
         "name": "b_bus_gen_60_32",
         "showlegend": false,
         "type": "scatter",
         "x": [
          964.8226085503877
         ],
         "y": [
          197.30005994747395
         ]
        },
        {
         "hoverinfo": "skip",
         "line": {
          "color": "black",
          "width": 1
         },
         "showlegend": false,
         "type": "scatter",
         "x": [
          903,
          854
         ],
         "y": [
          175,
          185
         ]
        },
        {
         "marker": {
          "color": "LightGreen",
          "line": {
           "color": "black",
           "width": 1
          },
          "showscale": false,
          "size": 12
         },
         "mode": "markers",
         "name": "bgen_61_33",
         "showlegend": false,
         "text": [
          ""
         ],
         "type": "scatter",
         "x": [
          903
         ],
         "y": [
          175
         ]
        },
        {
         "hoverinfo": "skip",
         "marker": {
          "color": "red",
          "showscale": false,
          "size": 10
         },
         "name": "b_bus_gen_61_33",
         "showlegend": false,
         "type": "scatter",
         "x": [
          868.6970608817061
         ],
         "y": [
          182.00059982006
         ]
        },
        {
         "hoverinfo": "skip",
         "line": {
          "color": "black",
          "width": 1
         },
         "showlegend": false,
         "type": "scatter",
         "x": [
          906,
          854
         ],
         "y": [
          194,
          185
         ]
        },
        {
         "marker": {
          "color": "LightGreen",
          "line": {
           "color": "black",
           "width": 1
          },
          "showscale": false,
          "size": 12
         },
         "mode": "markers",
         "name": "bgen_61_34",
         "showlegend": false,
         "text": [
          ""
         ],
         "type": "scatter",
         "x": [
          906
         ],
         "y": [
          194
         ]
        },
        {
         "hoverinfo": "skip",
         "marker": {
          "color": "red",
          "showscale": false,
          "size": 10
         },
         "name": "b_bus_gen_61_34",
         "showlegend": false,
         "type": "scatter",
         "x": [
          868.7802575878317
         ],
         "y": [
          187.55812150558626
         ]
        },
        {
         "hoverinfo": "skip",
         "line": {
          "color": "black",
          "width": 1
         },
         "showlegend": false,
         "type": "scatter",
         "x": [
          835,
          786
         ],
         "y": [
          -2,
          7
         ]
        },
        {
         "marker": {
          "color": "LightGreen",
          "line": {
           "color": "black",
           "width": 1
          },
          "showscale": false,
          "size": 12
         },
         "mode": "markers",
         "name": "bgen_64_35",
         "showlegend": false,
         "text": [
          ""
         ],
         "type": "scatter",
         "x": [
          835
         ],
         "y": [
          -2
         ]
        },
        {
         "hoverinfo": "skip",
         "marker": {
          "color": "red",
          "showscale": false,
          "size": 10
         },
         "name": "b_bus_gen_64_35",
         "showlegend": false,
         "type": "scatter",
         "x": [
          800.7532074934805
         ],
         "y": [
          4.290227195075012
         ]
        },
        {
         "hoverinfo": "skip",
         "line": {
          "color": "black",
          "width": 1
         },
         "showlegend": false,
         "type": "scatter",
         "x": [
          785,
          747
         ],
         "y": [
          119,
          102
         ]
        },
        {
         "marker": {
          "color": "LightGreen",
          "line": {
           "color": "black",
           "width": 1
          },
          "showscale": false,
          "size": 12
         },
         "mode": "markers",
         "name": "bgen_65_36",
         "showlegend": false,
         "text": [
          ""
         ],
         "type": "scatter",
         "x": [
          785
         ],
         "y": [
          119
         ]
        },
        {
         "hoverinfo": "skip",
         "marker": {
          "color": "red",
          "showscale": false,
          "size": 10
         },
         "name": "b_bus_gen_65_36",
         "showlegend": false,
         "type": "scatter",
         "x": [
          760.6922737784238
         ],
         "y": [
          108.12549090087381
         ]
        },
        {
         "hoverinfo": "skip",
         "line": {
          "color": "black",
          "width": 1
         },
         "showlegend": false,
         "type": "scatter",
         "x": [
          500,
          485
         ],
         "y": [
          69,
          51
         ]
        },
        {
         "marker": {
          "color": "LightGreen",
          "line": {
           "color": "black",
           "width": 1
          },
          "showscale": false,
          "size": 12
         },
         "mode": "markers",
         "name": "bgen_68_37",
         "showlegend": false,
         "text": [
          ""
         ],
         "type": "scatter",
         "x": [
          500
         ],
         "y": [
          69
         ]
        },
        {
         "hoverinfo": "skip",
         "marker": {
          "color": "red",
          "showscale": false,
          "size": 10
         },
         "name": "b_bus_gen_68_37",
         "showlegend": false,
         "type": "scatter",
         "x": [
          494.60276599496717
         ],
         "y": [
          62.52331919396064
         ]
        },
        {
         "hoverinfo": "skip",
         "line": {
          "color": "black",
          "width": 1
         },
         "showlegend": false,
         "type": "scatter",
         "x": [
          121,
          160
         ],
         "y": [
          32,
          41
         ]
        },
        {
         "marker": {
          "color": "LightGreen",
          "line": {
           "color": "black",
           "width": 1
          },
          "showscale": false,
          "size": 12
         },
         "mode": "markers",
         "name": "bgen_69_38",
         "showlegend": false,
         "text": [
          ""
         ],
         "type": "scatter",
         "x": [
          121
         ],
         "y": [
          32
         ]
        },
        {
         "hoverinfo": "skip",
         "marker": {
          "color": "red",
          "showscale": false,
          "size": 10
         },
         "name": "b_bus_gen_69_38",
         "showlegend": false,
         "type": "scatter",
         "x": [
          145.3841320645807
         ],
         "y": [
          37.62710739951862
         ]
        },
        {
         "hoverinfo": "skip",
         "line": {
          "color": "black",
          "width": 1
         },
         "showlegend": false,
         "type": "scatter",
         "x": [
          139,
          160
         ],
         "y": [
          14,
          41
         ]
        },
        {
         "marker": {
          "color": "LightGreen",
          "line": {
           "color": "black",
           "width": 1
          },
          "showscale": false,
          "size": 12
         },
         "mode": "markers",
         "name": "bgen_69_39",
         "showlegend": false,
         "text": [
          ""
         ],
         "type": "scatter",
         "x": [
          139
         ],
         "y": [
          14
         ]
        },
        {
         "hoverinfo": "skip",
         "marker": {
          "color": "red",
          "showscale": false,
          "size": 10
         },
         "name": "b_bus_gen_69_39",
         "showlegend": false,
         "type": "scatter",
         "x": [
          150.7908907972762
         ],
         "y": [
          29.159716739355105
         ]
        },
        {
         "hoverinfo": "skip",
         "line": {
          "color": "black",
          "width": 1
         },
         "showlegend": false,
         "type": "scatter",
         "x": [
          364,
          398
         ],
         "y": [
          -210,
          -207
         ]
        },
        {
         "marker": {
          "color": "LightGreen",
          "line": {
           "color": "black",
           "width": 1
          },
          "showscale": false,
          "size": 12
         },
         "mode": "markers",
         "name": "bgen_75_40",
         "showlegend": false,
         "text": [
          ""
         ],
         "type": "scatter",
         "x": [
          364
         ],
         "y": [
          -210
         ]
        },
        {
         "hoverinfo": "skip",
         "marker": {
          "color": "red",
          "showscale": false,
          "size": 10
         },
         "name": "b_bus_gen_75_40",
         "showlegend": false,
         "type": "scatter",
         "x": [
          383.05805224961927
         ],
         "y": [
          -208.31840715444537
         ]
        },
        {
         "hoverinfo": "skip",
         "line": {
          "color": "black",
          "width": 1
         },
         "showlegend": false,
         "type": "scatter",
         "x": [
          479,
          464
         ],
         "y": [
          -293,
          -262
         ]
        },
        {
         "marker": {
          "color": "LightGreen",
          "line": {
           "color": "black",
           "width": 1
          },
          "showscale": false,
          "size": 12
         },
         "mode": "markers",
         "name": "bgen_76_41",
         "showlegend": false,
         "text": [
          ""
         ],
         "type": "scatter",
         "x": [
          479
         ],
         "y": [
          -293
         ]
        },
        {
         "hoverinfo": "skip",
         "marker": {
          "color": "red",
          "showscale": false,
          "size": 10
         },
         "name": "b_bus_gen_76_41",
         "showlegend": false,
         "type": "scatter",
         "x": [
          470.5334139215642
         ],
         "y": [
          -275.5023887712327
         ]
        },
        {
         "hoverinfo": "skip",
         "line": {
          "color": "black",
          "width": 1
         },
         "showlegend": false,
         "type": "scatter",
         "x": [
          462,
          464
         ],
         "y": [
          -308,
          -262
         ]
        },
        {
         "marker": {
          "color": "LightGreen",
          "line": {
           "color": "black",
           "width": 1
          },
          "showscale": false,
          "size": 12
         },
         "mode": "markers",
         "name": "bgen_76_42",
         "showlegend": false,
         "text": [
          ""
         ],
         "type": "scatter",
         "x": [
          462
         ],
         "y": [
          -308
         ]
        },
        {
         "hoverinfo": "skip",
         "marker": {
          "color": "red",
          "showscale": false,
          "size": 10
         },
         "name": "b_bus_gen_76_42",
         "showlegend": false,
         "type": "scatter",
         "x": [
          463.3484416358554
         ],
         "y": [
          -276.9858423753259
         ]
        },
        {
         "hoverinfo": "skip",
         "line": {
          "color": "black",
          "width": 1
         },
         "showlegend": false,
         "type": "scatter",
         "x": [
          622,
          599
         ],
         "y": [
          -236,
          -207
         ]
        },
        {
         "marker": {
          "color": "LightGreen",
          "line": {
           "color": "black",
           "width": 1
          },
          "showscale": false,
          "size": 12
         },
         "mode": "markers",
         "name": "bgen_79_43",
         "showlegend": false,
         "text": [
          ""
         ],
         "type": "scatter",
         "x": [
          622
         ],
         "y": [
          -236
         ]
        },
        {
         "hoverinfo": "skip",
         "marker": {
          "color": "red",
          "showscale": false,
          "size": 10
         },
         "name": "b_bus_gen_79_43",
         "showlegend": false,
         "type": "scatter",
         "x": [
          608.3209206650307
         ],
         "y": [
          -218.75246518634302
         ]
        },
        {
         "hoverinfo": "skip",
         "line": {
          "color": "black",
          "width": 1
         },
         "showlegend": false,
         "type": "scatter",
         "x": [
          640,
          599
         ],
         "y": [
          -221,
          -207
         ]
        },
        {
         "marker": {
          "color": "LightGreen",
          "line": {
           "color": "black",
           "width": 1
          },
          "showscale": false,
          "size": 12
         },
         "mode": "markers",
         "name": "bgen_79_44",
         "showlegend": false,
         "text": [
          ""
         ],
         "type": "scatter",
         "x": [
          640
         ],
         "y": [
          -221
         ]
        },
        {
         "hoverinfo": "skip",
         "marker": {
          "color": "red",
          "showscale": false,
          "size": 10
         },
         "name": "b_bus_gen_79_44",
         "showlegend": false,
         "type": "scatter",
         "x": [
          613.19524784102
         ],
         "y": [
          -211.84715779937267
         ]
        },
        {
         "hoverinfo": "skip",
         "line": {
          "color": "black",
          "width": 1
         },
         "showlegend": false,
         "type": "scatter",
         "x": [
          112,
          149
         ],
         "y": [
          -395,
          -377
         ]
        },
        {
         "marker": {
          "color": "LightGreen",
          "line": {
           "color": "black",
           "width": 1
          },
          "showscale": false,
          "size": 12
         },
         "mode": "markers",
         "name": "bgen_82_45",
         "showlegend": false,
         "text": [
          ""
         ],
         "type": "scatter",
         "x": [
          112
         ],
         "y": [
          -395
         ]
        },
        {
         "hoverinfo": "skip",
         "marker": {
          "color": "red",
          "showscale": false,
          "size": 10
         },
         "name": "b_bus_gen_82_45",
         "showlegend": false,
         "type": "scatter",
         "x": [
          135.51147366881307
         ],
         "y": [
          -383.5619857827396
         ]
        },
        {
         "hoverinfo": "skip",
         "line": {
          "color": "black",
          "width": 1
         },
         "showlegend": false,
         "type": "scatter",
         "x": [
          70,
          112
         ],
         "y": [
          -519,
          -484
         ]
        },
        {
         "marker": {
          "color": "LightGreen",
          "line": {
           "color": "black",
           "width": 1
          },
          "showscale": false,
          "size": 12
         },
         "mode": "markers",
         "name": "bgen_84_46",
         "showlegend": false,
         "text": [
          ""
         ],
         "type": "scatter",
         "x": [
          70
         ],
         "y": [
          -519
         ]
        },
        {
         "hoverinfo": "skip",
         "marker": {
          "color": "red",
          "showscale": false,
          "size": 10
         },
         "name": "b_bus_gen_84_46",
         "showlegend": false,
         "type": "scatter",
         "x": [
          100.47668080603935
         ],
         "y": [
          -493.60276599496717
         ]
        },
        {
         "hoverinfo": "skip",
         "line": {
          "color": "black",
          "width": 1
         },
         "showlegend": false,
         "type": "scatter",
         "x": [
          165,
          181
         ],
         "y": [
          -649,
          -595
         ]
        },
        {
         "marker": {
          "color": "LightGreen",
          "line": {
           "color": "black",
           "width": 1
          },
          "showscale": false,
          "size": 12
         },
         "mode": "markers",
         "name": "bgen_86_47",
         "showlegend": false,
         "text": [
          ""
         ],
         "type": "scatter",
         "x": [
          165
         ],
         "y": [
          -649
         ]
        },
        {
         "hoverinfo": "skip",
         "marker": {
          "color": "red",
          "showscale": false,
          "size": 10
         },
         "name": "b_bus_gen_86_47",
         "showlegend": false,
         "type": "scatter",
         "x": [
          176.7386750546294
         ],
         "y": [
          -609.3819716906258
         ]
        },
        {
         "hoverinfo": "skip",
         "line": {
          "color": "black",
          "width": 1
         },
         "showlegend": false,
         "type": "scatter",
         "x": [
          303,
          313
         ],
         "y": [
          -536,
          -489
         ]
        },
        {
         "marker": {
          "color": "LightGreen",
          "line": {
           "color": "black",
           "width": 1
          },
          "showscale": false,
          "size": 12
         },
         "mode": "markers",
         "name": "bgen_88_48",
         "showlegend": false,
         "text": [
          ""
         ],
         "type": "scatter",
         "x": [
          303
         ],
         "y": [
          -536
         ]
        },
        {
         "hoverinfo": "skip",
         "marker": {
          "color": "red",
          "showscale": false,
          "size": 10
         },
         "name": "b_bus_gen_88_48",
         "showlegend": false,
         "type": "scatter",
         "x": [
          309.8783853330271
         ],
         "y": [
          -503.67158893477256
         ]
        },
        {
         "hoverinfo": "skip",
         "line": {
          "color": "black",
          "width": 1
         },
         "showlegend": false,
         "type": "scatter",
         "x": [
          315,
          321
         ],
         "y": [
          -650,
          -591
         ]
        },
        {
         "marker": {
          "color": "LightGreen",
          "line": {
           "color": "black",
           "width": 1
          },
          "showscale": false,
          "size": 12
         },
         "mode": "markers",
         "name": "bgen_89_49",
         "showlegend": false,
         "text": [
          ""
         ],
         "type": "scatter",
         "x": [
          315
         ],
         "y": [
          -650
         ]
        },
        {
         "hoverinfo": "skip",
         "marker": {
          "color": "red",
          "showscale": false,
          "size": 10
         },
         "name": "b_bus_gen_89_49",
         "showlegend": false,
         "type": "scatter",
         "x": [
          319.4824034685397
         ],
         "y": [
          -605.9230325593594
         ]
        },
        {
         "hoverinfo": "skip",
         "line": {
          "color": "black",
          "width": 1
         },
         "showlegend": false,
         "type": "scatter",
         "x": [
          300,
          321
         ],
         "y": [
          -641,
          -591
         ]
        },
        {
         "marker": {
          "color": "LightGreen",
          "line": {
           "color": "black",
           "width": 1
          },
          "showscale": false,
          "size": 12
         },
         "mode": "markers",
         "name": "bgen_89_50",
         "showlegend": false,
         "text": [
          ""
         ],
         "type": "scatter",
         "x": [
          300
         ],
         "y": [
          -641
         ]
        },
        {
         "hoverinfo": "skip",
         "marker": {
          "color": "red",
          "showscale": false,
          "size": 10
         },
         "name": "b_bus_gen_89_50",
         "showlegend": false,
         "type": "scatter",
         "x": [
          315.1915127346736
         ],
         "y": [
          -604.8297315841104
         ]
        },
        {
         "hoverinfo": "skip",
         "line": {
          "color": "black",
          "width": 1
         },
         "showlegend": false,
         "type": "scatter",
         "x": [
          506,
          517
         ],
         "y": [
          -540,
          -489
         ]
        },
        {
         "marker": {
          "color": "LightGreen",
          "line": {
           "color": "black",
           "width": 1
          },
          "showscale": false,
          "size": 12
         },
         "mode": "markers",
         "name": "bgen_91_51",
         "showlegend": false,
         "text": [
          ""
         ],
         "type": "scatter",
         "x": [
          506
         ],
         "y": [
          -540
         ]
        },
        {
         "hoverinfo": "skip",
         "marker": {
          "color": "red",
          "showscale": false,
          "size": 10
         },
         "name": "b_bus_gen_91_51",
         "showlegend": false,
         "type": "scatter",
         "x": [
          513.8374319162042
         ],
         "y": [
          -503.66281566123496
         ]
        },
        {
         "hoverinfo": "skip",
         "line": {
          "color": "black",
          "width": 1
         },
         "showlegend": false,
         "type": "scatter",
         "x": [
          775,
          760
         ],
         "y": [
          -422,
          -377
         ]
        },
        {
         "marker": {
          "color": "LightGreen",
          "line": {
           "color": "black",
           "width": 1
          },
          "showscale": false,
          "size": 12
         },
         "mode": "markers",
         "name": "bgen_99_52",
         "showlegend": false,
         "text": [
          ""
         ],
         "type": "scatter",
         "x": [
          775
         ],
         "y": [
          -422
         ]
        },
        {
         "hoverinfo": "skip",
         "marker": {
          "color": "red",
          "showscale": false,
          "size": 10
         },
         "name": "b_bus_gen_99_52",
         "showlegend": false,
         "type": "scatter",
         "x": [
          764.7434164902526
         ],
         "y": [
          -391.2302494707577
         ]
        },
        {
         "hoverinfo": "skip",
         "line": {
          "color": "black",
          "width": 1
         },
         "showlegend": false,
         "type": "scatter",
         "x": [
          794,
          760
         ],
         "y": [
          -420,
          -377
         ]
        },
        {
         "marker": {
          "color": "LightGreen",
          "line": {
           "color": "black",
           "width": 1
          },
          "showscale": false,
          "size": 12
         },
         "mode": "markers",
         "name": "bgen_99_53",
         "showlegend": false,
         "text": [
          ""
         ],
         "type": "scatter",
         "x": [
          794
         ],
         "y": [
          -420
         ]
        },
        {
         "hoverinfo": "skip",
         "marker": {
          "color": "red",
          "showscale": false,
          "size": 10
         },
         "name": "b_bus_gen_99_53",
         "showlegend": false,
         "type": "scatter",
         "x": [
          769.3035337604919
         ],
         "y": [
          -388.7662338735633
         ]
        },
        {
         "hoverinfo": "skip",
         "line": {
          "color": "black",
          "width": 1
         },
         "showlegend": false,
         "type": "scatter",
         "x": [
          804,
          760
         ],
         "y": [
          -404,
          -377
         ]
        },
        {
         "marker": {
          "color": "LightGreen",
          "line": {
           "color": "black",
           "width": 1
          },
          "showscale": false,
          "size": 12
         },
         "mode": "markers",
         "name": "bgen_99_54",
         "showlegend": false,
         "text": [
          ""
         ],
         "type": "scatter",
         "x": [
          804
         ],
         "y": [
          -404
         ]
        },
        {
         "hoverinfo": "skip",
         "marker": {
          "color": "red",
          "showscale": false,
          "size": 10
         },
         "name": "b_bus_gen_99_54",
         "showlegend": false,
         "type": "scatter",
         "x": [
          772.78484092973
         ],
         "y": [
          -384.84524329778884
         ]
        },
        {
         "hoverinfo": "skip",
         "line": {
          "color": "black",
          "width": 1
         },
         "showlegend": false,
         "type": "scatter",
         "x": [
          909,
          871
         ],
         "y": [
          -407,
          -373
         ]
        },
        {
         "marker": {
          "color": "LightGreen",
          "line": {
           "color": "black",
           "width": 1
          },
          "showscale": false,
          "size": 12
         },
         "mode": "markers",
         "name": "bgen_103_55",
         "showlegend": false,
         "text": [
          ""
         ],
         "type": "scatter",
         "x": [
          909
         ],
         "y": [
          -407
         ]
        },
        {
         "hoverinfo": "skip",
         "marker": {
          "color": "red",
          "showscale": false,
          "size": 10
         },
         "name": "b_bus_gen_103_55",
         "showlegend": false,
         "type": "scatter",
         "x": [
          882.1786197028765
         ],
         "y": [
          -383.0019228920474
         ]
        },
        {
         "hoverinfo": "skip",
         "line": {
          "color": "black",
          "width": 1
         },
         "showlegend": false,
         "type": "scatter",
         "x": [
          1008,
          964
         ],
         "y": [
          -404,
          -377
         ]
        },
        {
         "marker": {
          "color": "LightGreen",
          "line": {
           "color": "black",
           "width": 1
          },
          "showscale": false,
          "size": 12
         },
         "mode": "markers",
         "name": "bgen_104_56",
         "showlegend": false,
         "text": [
          ""
         ],
         "type": "scatter",
         "x": [
          1008
         ],
         "y": [
          -404
         ]
        },
        {
         "hoverinfo": "skip",
         "marker": {
          "color": "red",
          "showscale": false,
          "size": 10
         },
         "name": "b_bus_gen_104_56",
         "showlegend": false,
         "type": "scatter",
         "x": [
          976.78484092973
         ],
         "y": [
          -384.84524329778884
         ]
        },
        {
         "hoverinfo": "skip",
         "line": {
          "color": "black",
          "width": 1
         },
         "showlegend": false,
         "type": "scatter",
         "x": [
          1121,
          1067
         ],
         "y": [
          -397,
          -377
         ]
        },
        {
         "marker": {
          "color": "LightGreen",
          "line": {
           "color": "black",
           "width": 1
          },
          "showscale": false,
          "size": 12
         },
         "mode": "markers",
         "name": "bgen_106_57",
         "showlegend": false,
         "text": [
          ""
         ],
         "type": "scatter",
         "x": [
          1121
         ],
         "y": [
          -397
         ]
        },
        {
         "hoverinfo": "skip",
         "marker": {
          "color": "red",
          "showscale": false,
          "size": 10
         },
         "name": "b_bus_gen_106_57",
         "showlegend": false,
         "type": "scatter",
         "x": [
          1081.0662314108556
         ],
         "y": [
          -382.2097153373539
         ]
        },
        {
         "hoverinfo": "skip",
         "line": {
          "color": "black",
          "width": 1
         },
         "showlegend": false,
         "type": "scatter",
         "x": [
          895,
          871
         ],
         "y": [
          -652,
          -600
         ]
        },
        {
         "marker": {
          "color": "LightGreen",
          "line": {
           "color": "black",
           "width": 1
          },
          "showscale": false,
          "size": 12
         },
         "mode": "markers",
         "name": "bgen_110_58",
         "showlegend": false,
         "text": [
          ""
         ],
         "type": "scatter",
         "x": [
          895
         ],
         "y": [
          -652
         ]
        },
        {
         "hoverinfo": "skip",
         "marker": {
          "color": "red",
          "showscale": false,
          "size": 10
         },
         "name": "b_bus_gen_110_58",
         "showlegend": false,
         "type": "scatter",
         "x": [
          877.2858726619262
         ],
         "y": [
          -613.6193907675067
         ]
        },
        {
         "hoverinfo": "skip",
         "line": {
          "color": "black",
          "width": 1
         },
         "showlegend": false,
         "type": "scatter",
         "x": [
          1100,
          1064
         ],
         "y": [
          -631,
          -585
         ]
        },
        {
         "marker": {
          "color": "LightGreen",
          "line": {
           "color": "black",
           "width": 1
          },
          "showscale": false,
          "size": 12
         },
         "mode": "markers",
         "name": "bgen_111_59",
         "showlegend": false,
         "text": [
          ""
         ],
         "type": "scatter",
         "x": [
          1100
         ],
         "y": [
          -631
         ]
        },
        {
         "hoverinfo": "skip",
         "marker": {
          "color": "red",
          "showscale": false,
          "size": 10
         },
         "name": "b_bus_gen_111_59",
         "showlegend": false,
         "type": "scatter",
         "x": [
          1073.2446239248716
         ],
         "y": [
          -596.8125750151138
         ]
        },
        {
         "hoverinfo": "skip",
         "line": {
          "color": "black",
          "width": 1
         },
         "showlegend": false,
         "type": "scatter",
         "x": [
          -757,
          -715
         ],
         "y": [
          165,
          178
         ]
        },
        {
         "marker": {
          "color": "LightGreen",
          "line": {
           "color": "black",
           "width": 1
          },
          "showscale": false,
          "size": 12
         },
         "mode": "markers",
         "name": "bgen_112_60",
         "showlegend": false,
         "text": [
          ""
         ],
         "type": "scatter",
         "x": [
          -757
         ],
         "y": [
          165
         ]
        },
        {
         "hoverinfo": "skip",
         "marker": {
          "color": "red",
          "showscale": false,
          "size": 10
         },
         "name": "b_bus_gen_112_60",
         "showlegend": false,
         "type": "scatter",
         "x": [
          -729.3292883603701
         ],
         "y": [
          173.56474407893305
         ]
        },
        {
         "hoverinfo": "skip",
         "line": {
          "color": "black",
          "width": 1
         },
         "showlegend": false,
         "type": "scatter",
         "x": [
          713,
          671
         ],
         "y": [
          -45,
          -42
         ]
        },
        {
         "marker": {
          "color": "LightGreen",
          "line": {
           "color": "black",
           "width": 1
          },
          "showscale": false,
          "size": 12
         },
         "mode": "markers",
         "name": "bgen_115_61",
         "showlegend": false,
         "text": [
          ""
         ],
         "type": "scatter",
         "x": [
          713
         ],
         "y": [
          -45
         ]
        },
        {
         "hoverinfo": "skip",
         "marker": {
          "color": "red",
          "showscale": false,
          "size": 10
         },
         "name": "b_bus_gen_115_61",
         "showlegend": false,
         "type": "scatter",
         "x": [
          685.961880497461
         ],
         "y": [
          -43.06870574981865
         ]
        },
        {
         "marker": {
          "color": "PaleTurquoise",
          "line": {
           "color": "black",
           "width": 1
          },
          "showscale": false,
          "size": 25
         },
         "mode": "markers",
         "name": "zsub_0",
         "showlegend": false,
         "text": [
          "sub_0"
         ],
         "type": "scatter",
         "x": [
          -1067
         ],
         "y": [
          600
         ]
        },
        {
         "hoverinfo": "skip",
         "mode": "text",
         "name": "sub_0",
         "showlegend": false,
         "text": [
          "0"
         ],
         "textposition": "middle center",
         "type": "scatter",
         "x": [
          -1067
         ],
         "y": [
          600
         ]
        },
        {
         "marker": {
          "color": "PaleTurquoise",
          "line": {
           "color": "black",
           "width": 1
          },
          "showscale": false,
          "size": 25
         },
         "mode": "markers",
         "name": "zsub_1",
         "showlegend": false,
         "text": [
          "sub_1"
         ],
         "type": "scatter",
         "x": [
          -940
         ],
         "y": [
          600
         ]
        },
        {
         "hoverinfo": "skip",
         "mode": "text",
         "name": "sub_1",
         "showlegend": false,
         "text": [
          "1"
         ],
         "textposition": "middle center",
         "type": "scatter",
         "x": [
          -940
         ],
         "y": [
          600
         ]
        },
        {
         "marker": {
          "color": "PaleTurquoise",
          "line": {
           "color": "black",
           "width": 1
          },
          "showscale": false,
          "size": 25
         },
         "mode": "markers",
         "name": "zsub_2",
         "showlegend": false,
         "text": [
          "sub_2"
         ],
         "type": "scatter",
         "x": [
          -1006
         ],
         "y": [
          524
         ]
        },
        {
         "hoverinfo": "skip",
         "mode": "text",
         "name": "sub_2",
         "showlegend": false,
         "text": [
          "2"
         ],
         "textposition": "middle center",
         "type": "scatter",
         "x": [
          -1006
         ],
         "y": [
          524
         ]
        },
        {
         "marker": {
          "color": "PaleTurquoise",
          "line": {
           "color": "black",
           "width": 1
          },
          "showscale": false,
          "size": 25
         },
         "mode": "markers",
         "name": "zsub_3",
         "showlegend": false,
         "text": [
          "sub_3"
         ],
         "type": "scatter",
         "x": [
          -940
         ],
         "y": [
          461
         ]
        },
        {
         "hoverinfo": "skip",
         "mode": "text",
         "name": "sub_3",
         "showlegend": false,
         "text": [
          "3"
         ],
         "textposition": "middle center",
         "type": "scatter",
         "x": [
          -940
         ],
         "y": [
          461
         ]
        },
        {
         "marker": {
          "color": "PaleTurquoise",
          "line": {
           "color": "black",
           "width": 1
          },
          "showscale": false,
          "size": 25
         },
         "mode": "markers",
         "name": "zsub_4",
         "showlegend": false,
         "text": [
          "sub_4"
         ],
         "type": "scatter",
         "x": [
          -977
         ],
         "y": [
          348
         ]
        },
        {
         "hoverinfo": "skip",
         "mode": "text",
         "name": "sub_4",
         "showlegend": false,
         "text": [
          "4"
         ],
         "textposition": "middle center",
         "type": "scatter",
         "x": [
          -977
         ],
         "y": [
          348
         ]
        },
        {
         "marker": {
          "color": "PaleTurquoise",
          "line": {
           "color": "black",
           "width": 1
          },
          "showscale": false,
          "size": 25
         },
         "mode": "markers",
         "name": "zsub_5",
         "showlegend": false,
         "text": [
          "sub_5"
         ],
         "type": "scatter",
         "x": [
          -874
         ],
         "y": [
          352
         ]
        },
        {
         "hoverinfo": "skip",
         "mode": "text",
         "name": "sub_5",
         "showlegend": false,
         "text": [
          "5"
         ],
         "textposition": "middle center",
         "type": "scatter",
         "x": [
          -874
         ],
         "y": [
          352
         ]
        },
        {
         "marker": {
          "color": "PaleTurquoise",
          "line": {
           "color": "black",
           "width": 1
          },
          "showscale": false,
          "size": 25
         },
         "mode": "markers",
         "name": "zsub_6",
         "showlegend": false,
         "text": [
          "sub_6"
         ],
         "type": "scatter",
         "x": [
          -792
         ],
         "y": [
          346
         ]
        },
        {
         "hoverinfo": "skip",
         "mode": "text",
         "name": "sub_6",
         "showlegend": false,
         "text": [
          "6"
         ],
         "textposition": "middle center",
         "type": "scatter",
         "x": [
          -792
         ],
         "y": [
          346
         ]
        },
        {
         "marker": {
          "color": "PaleTurquoise",
          "line": {
           "color": "black",
           "width": 1
          },
          "showscale": false,
          "size": 25
         },
         "mode": "markers",
         "name": "zsub_7",
         "showlegend": false,
         "text": [
          "sub_7"
         ],
         "type": "scatter",
         "x": [
          -969
         ],
         "y": [
          131
         ]
        },
        {
         "hoverinfo": "skip",
         "mode": "text",
         "name": "sub_7",
         "showlegend": false,
         "text": [
          "7"
         ],
         "textposition": "middle center",
         "type": "scatter",
         "x": [
          -969
         ],
         "y": [
          131
         ]
        },
        {
         "marker": {
          "color": "PaleTurquoise",
          "line": {
           "color": "black",
           "width": 1
          },
          "showscale": false,
          "size": 25
         },
         "mode": "markers",
         "name": "zsub_8",
         "showlegend": false,
         "text": [
          "sub_8"
         ],
         "type": "scatter",
         "x": [
          -964
         ],
         "y": [
          39
         ]
        },
        {
         "hoverinfo": "skip",
         "mode": "text",
         "name": "sub_8",
         "showlegend": false,
         "text": [
          "8"
         ],
         "textposition": "middle center",
         "type": "scatter",
         "x": [
          -964
         ],
         "y": [
          39
         ]
        },
        {
         "marker": {
          "color": "PaleTurquoise",
          "line": {
           "color": "black",
           "width": 1
          },
          "showscale": false,
          "size": 25
         },
         "mode": "markers",
         "name": "zsub_9",
         "showlegend": false,
         "text": [
          "sub_9"
         ],
         "type": "scatter",
         "x": [
          -969
         ],
         "y": [
          -39
         ]
        },
        {
         "hoverinfo": "skip",
         "mode": "text",
         "name": "sub_9",
         "showlegend": false,
         "text": [
          "9"
         ],
         "textposition": "middle center",
         "type": "scatter",
         "x": [
          -969
         ],
         "y": [
          -39
         ]
        },
        {
         "marker": {
          "color": "PaleTurquoise",
          "line": {
           "color": "black",
           "width": 1
          },
          "showscale": false,
          "size": 25
         },
         "mode": "markers",
         "name": "zsub_10",
         "showlegend": false,
         "text": [
          "sub_10"
         ],
         "type": "scatter",
         "x": [
          -847
         ],
         "y": [
          465
         ]
        },
        {
         "hoverinfo": "skip",
         "mode": "text",
         "name": "sub_10",
         "showlegend": false,
         "text": [
          "10"
         ],
         "textposition": "middle center",
         "type": "scatter",
         "x": [
          -847
         ],
         "y": [
          465
         ]
        },
        {
         "marker": {
          "color": "PaleTurquoise",
          "line": {
           "color": "black",
           "width": 1
          },
          "showscale": false,
          "size": 25
         },
         "mode": "markers",
         "name": "zsub_11",
         "showlegend": false,
         "text": [
          "sub_11"
         ],
         "type": "scatter",
         "x": [
          -705
         ],
         "y": [
          505
         ]
        },
        {
         "hoverinfo": "skip",
         "mode": "text",
         "name": "sub_11",
         "showlegend": false,
         "text": [
          "11"
         ],
         "textposition": "middle center",
         "type": "scatter",
         "x": [
          -705
         ],
         "y": [
          505
         ]
        },
        {
         "marker": {
          "color": "PaleTurquoise",
          "line": {
           "color": "black",
           "width": 1
          },
          "showscale": false,
          "size": 25
         },
         "mode": "markers",
         "name": "zsub_12",
         "showlegend": false,
         "text": [
          "sub_12"
         ],
         "type": "scatter",
         "x": [
          -638
         ],
         "y": [
          363
         ]
        },
        {
         "hoverinfo": "skip",
         "mode": "text",
         "name": "sub_12",
         "showlegend": false,
         "text": [
          "12"
         ],
         "textposition": "middle center",
         "type": "scatter",
         "x": [
          -638
         ],
         "y": [
          363
         ]
        },
        {
         "marker": {
          "color": "PaleTurquoise",
          "line": {
           "color": "black",
           "width": 1
          },
          "showscale": false,
          "size": 25
         },
         "mode": "markers",
         "name": "zsub_13",
         "showlegend": false,
         "text": [
          "sub_13"
         ],
         "type": "scatter",
         "x": [
          -544
         ],
         "y": [
          498
         ]
        },
        {
         "hoverinfo": "skip",
         "mode": "text",
         "name": "sub_13",
         "showlegend": false,
         "text": [
          "13"
         ],
         "textposition": "middle center",
         "type": "scatter",
         "x": [
          -544
         ],
         "y": [
          498
         ]
        },
        {
         "marker": {
          "color": "PaleTurquoise",
          "line": {
           "color": "black",
           "width": 1
          },
          "showscale": false,
          "size": 25
         },
         "mode": "markers",
         "name": "zsub_14",
         "showlegend": false,
         "text": [
          "sub_14"
         ],
         "type": "scatter",
         "x": [
          -498
         ],
         "y": [
          369
         ]
        },
        {
         "hoverinfo": "skip",
         "mode": "text",
         "name": "sub_14",
         "showlegend": false,
         "text": [
          "14"
         ],
         "textposition": "middle center",
         "type": "scatter",
         "x": [
          -498
         ],
         "y": [
          369
         ]
        },
        {
         "marker": {
          "color": "PaleTurquoise",
          "line": {
           "color": "black",
           "width": 1
          },
          "showscale": false,
          "size": 25
         },
         "mode": "markers",
         "name": "zsub_15",
         "showlegend": false,
         "text": [
          "sub_15"
         ],
         "type": "scatter",
         "x": [
          -747
         ],
         "y": [
          268
         ]
        },
        {
         "hoverinfo": "skip",
         "mode": "text",
         "name": "sub_15",
         "showlegend": false,
         "text": [
          "15"
         ],
         "textposition": "middle center",
         "type": "scatter",
         "x": [
          -747
         ],
         "y": [
          268
         ]
        },
        {
         "marker": {
          "color": "PaleTurquoise",
          "line": {
           "color": "black",
           "width": 1
          },
          "showscale": false,
          "size": 25
         },
         "mode": "markers",
         "name": "zsub_16",
         "showlegend": false,
         "text": [
          "sub_16"
         ],
         "type": "scatter",
         "x": [
          -586
         ],
         "y": [
          205
         ]
        },
        {
         "hoverinfo": "skip",
         "mode": "text",
         "name": "sub_16",
         "showlegend": false,
         "text": [
          "16"
         ],
         "textposition": "middle center",
         "type": "scatter",
         "x": [
          -586
         ],
         "y": [
          205
         ]
        },
        {
         "marker": {
          "color": "PaleTurquoise",
          "line": {
           "color": "black",
           "width": 1
          },
          "showscale": false,
          "size": 25
         },
         "mode": "markers",
         "name": "zsub_17",
         "showlegend": false,
         "text": [
          "sub_17"
         ],
         "type": "scatter",
         "x": [
          -427
         ],
         "y": [
          205
         ]
        },
        {
         "hoverinfo": "skip",
         "mode": "text",
         "name": "sub_17",
         "showlegend": false,
         "text": [
          "17"
         ],
         "textposition": "middle center",
         "type": "scatter",
         "x": [
          -427
         ],
         "y": [
          205
         ]
        },
        {
         "marker": {
          "color": "PaleTurquoise",
          "line": {
           "color": "black",
           "width": 1
          },
          "showscale": false,
          "size": 25
         },
         "mode": "markers",
         "name": "zsub_18",
         "showlegend": false,
         "text": [
          "sub_18"
         ],
         "type": "scatter",
         "x": [
          -307
         ],
         "y": [
          311
         ]
        },
        {
         "hoverinfo": "skip",
         "mode": "text",
         "name": "sub_18",
         "showlegend": false,
         "text": [
          "18"
         ],
         "textposition": "middle center",
         "type": "scatter",
         "x": [
          -307
         ],
         "y": [
          311
         ]
        },
        {
         "marker": {
          "color": "PaleTurquoise",
          "line": {
           "color": "black",
           "width": 1
          },
          "showscale": false,
          "size": 25
         },
         "mode": "markers",
         "name": "zsub_19",
         "showlegend": false,
         "text": [
          "sub_19"
         ],
         "type": "scatter",
         "x": [
          -274
         ],
         "y": [
          222
         ]
        },
        {
         "hoverinfo": "skip",
         "mode": "text",
         "name": "sub_19",
         "showlegend": false,
         "text": [
          "19"
         ],
         "textposition": "middle center",
         "type": "scatter",
         "x": [
          -274
         ],
         "y": [
          222
         ]
        },
        {
         "marker": {
          "color": "PaleTurquoise",
          "line": {
           "color": "black",
           "width": 1
          },
          "showscale": false,
          "size": 25
         },
         "mode": "markers",
         "name": "zsub_20",
         "showlegend": false,
         "text": [
          "sub_20"
         ],
         "type": "scatter",
         "x": [
          -285
         ],
         "y": [
          82
         ]
        },
        {
         "hoverinfo": "skip",
         "mode": "text",
         "name": "sub_20",
         "showlegend": false,
         "text": [
          "20"
         ],
         "textposition": "middle center",
         "type": "scatter",
         "x": [
          -285
         ],
         "y": [
          82
         ]
        },
        {
         "marker": {
          "color": "PaleTurquoise",
          "line": {
           "color": "black",
           "width": 1
          },
          "showscale": false,
          "size": 25
         },
         "mode": "markers",
         "name": "zsub_21",
         "showlegend": false,
         "text": [
          "sub_21"
         ],
         "type": "scatter",
         "x": [
          -314
         ],
         "y": [
          0
         ]
        },
        {
         "hoverinfo": "skip",
         "mode": "text",
         "name": "sub_21",
         "showlegend": false,
         "text": [
          "21"
         ],
         "textposition": "middle center",
         "type": "scatter",
         "x": [
          -314
         ],
         "y": [
          0
         ]
        },
        {
         "marker": {
          "color": "PaleTurquoise",
          "line": {
           "color": "black",
           "width": 1
          },
          "showscale": false,
          "size": 25
         },
         "mode": "markers",
         "name": "zsub_22",
         "showlegend": false,
         "text": [
          "sub_22"
         ],
         "type": "scatter",
         "x": [
          -348
         ],
         "y": [
          -115
         ]
        },
        {
         "hoverinfo": "skip",
         "mode": "text",
         "name": "sub_22",
         "showlegend": false,
         "text": [
          "22"
         ],
         "textposition": "middle center",
         "type": "scatter",
         "x": [
          -348
         ],
         "y": [
          -115
         ]
        },
        {
         "marker": {
          "color": "PaleTurquoise",
          "line": {
           "color": "black",
           "width": 1
          },
          "showscale": false,
          "size": 25
         },
         "mode": "markers",
         "name": "zsub_23",
         "showlegend": false,
         "text": [
          "sub_23"
         ],
         "type": "scatter",
         "x": [
          -49
         ],
         "y": [
          43
         ]
        },
        {
         "hoverinfo": "skip",
         "mode": "text",
         "name": "sub_23",
         "showlegend": false,
         "text": [
          "23"
         ],
         "textposition": "middle center",
         "type": "scatter",
         "x": [
          -49
         ],
         "y": [
          43
         ]
        },
        {
         "marker": {
          "color": "PaleTurquoise",
          "line": {
           "color": "black",
           "width": 1
          },
          "showscale": false,
          "size": 25
         },
         "mode": "markers",
         "name": "zsub_24",
         "showlegend": false,
         "text": [
          "sub_24"
         ],
         "type": "scatter",
         "x": [
          -462
         ],
         "y": [
          -236
         ]
        },
        {
         "hoverinfo": "skip",
         "mode": "text",
         "name": "sub_24",
         "showlegend": false,
         "text": [
          "24"
         ],
         "textposition": "middle center",
         "type": "scatter",
         "x": [
          -462
         ],
         "y": [
          -236
         ]
        },
        {
         "marker": {
          "color": "PaleTurquoise",
          "line": {
           "color": "black",
           "width": 1
          },
          "showscale": false,
          "size": 25
         },
         "mode": "markers",
         "name": "zsub_25",
         "showlegend": false,
         "text": [
          "sub_25"
         ],
         "type": "scatter",
         "x": [
          -493
         ],
         "y": [
          -122
         ]
        },
        {
         "hoverinfo": "skip",
         "mode": "text",
         "name": "sub_25",
         "showlegend": false,
         "text": [
          "25"
         ],
         "textposition": "middle center",
         "type": "scatter",
         "x": [
          -493
         ],
         "y": [
          -122
         ]
        },
        {
         "marker": {
          "color": "PaleTurquoise",
          "line": {
           "color": "black",
           "width": 1
          },
          "showscale": false,
          "size": 25
         },
         "mode": "markers",
         "name": "zsub_26",
         "showlegend": false,
         "text": [
          "sub_26"
         ],
         "type": "scatter",
         "x": [
          -858
         ],
         "y": [
          -98
         ]
        },
        {
         "hoverinfo": "skip",
         "mode": "text",
         "name": "sub_26",
         "showlegend": false,
         "text": [
          "26"
         ],
         "textposition": "middle center",
         "type": "scatter",
         "x": [
          -858
         ],
         "y": [
          -98
         ]
        },
        {
         "marker": {
          "color": "PaleTurquoise",
          "line": {
           "color": "black",
           "width": 1
          },
          "showscale": false,
          "size": 25
         },
         "mode": "markers",
         "name": "zsub_27",
         "showlegend": false,
         "text": [
          "sub_27"
         ],
         "type": "scatter",
         "x": [
          -879
         ],
         "y": [
          -22
         ]
        },
        {
         "hoverinfo": "skip",
         "mode": "text",
         "name": "sub_27",
         "showlegend": false,
         "text": [
          "27"
         ],
         "textposition": "middle center",
         "type": "scatter",
         "x": [
          -879
         ],
         "y": [
          -22
         ]
        },
        {
         "marker": {
          "color": "PaleTurquoise",
          "line": {
           "color": "black",
           "width": 1
          },
          "showscale": false,
          "size": 25
         },
         "mode": "markers",
         "name": "zsub_28",
         "showlegend": false,
         "text": [
          "sub_28"
         ],
         "type": "scatter",
         "x": [
          -876
         ],
         "y": [
          56
         ]
        },
        {
         "hoverinfo": "skip",
         "mode": "text",
         "name": "sub_28",
         "showlegend": false,
         "text": [
          "28"
         ],
         "textposition": "middle center",
         "type": "scatter",
         "x": [
          -876
         ],
         "y": [
          56
         ]
        },
        {
         "marker": {
          "color": "PaleTurquoise",
          "line": {
           "color": "black",
           "width": 1
          },
          "showscale": false,
          "size": 25
         },
         "mode": "markers",
         "name": "zsub_29",
         "showlegend": false,
         "text": [
          "sub_29"
         ],
         "type": "scatter",
         "x": [
          -562
         ],
         "y": [
          131
         ]
        },
        {
         "hoverinfo": "skip",
         "mode": "text",
         "name": "sub_29",
         "showlegend": false,
         "text": [
          "29"
         ],
         "textposition": "middle center",
         "type": "scatter",
         "x": [
          -562
         ],
         "y": [
          131
         ]
        },
        {
         "marker": {
          "color": "PaleTurquoise",
          "line": {
           "color": "black",
           "width": 1
          },
          "showscale": false,
          "size": 25
         },
         "mode": "markers",
         "name": "zsub_30",
         "showlegend": false,
         "text": [
          "sub_30"
         ],
         "type": "scatter",
         "x": [
          -773
         ],
         "y": [
          56
         ]
        },
        {
         "hoverinfo": "skip",
         "mode": "text",
         "name": "sub_30",
         "showlegend": false,
         "text": [
          "30"
         ],
         "textposition": "middle center",
         "type": "scatter",
         "x": [
          -773
         ],
         "y": [
          56
         ]
        },
        {
         "marker": {
          "color": "PaleTurquoise",
          "line": {
           "color": "black",
           "width": 1
          },
          "showscale": false,
          "size": 25
         },
         "mode": "markers",
         "name": "zsub_31",
         "showlegend": false,
         "text": [
          "sub_31"
         ],
         "type": "scatter",
         "x": [
          -686
         ],
         "y": [
          7
         ]
        },
        {
         "hoverinfo": "skip",
         "mode": "text",
         "name": "sub_31",
         "showlegend": false,
         "text": [
          "31"
         ],
         "textposition": "middle center",
         "type": "scatter",
         "x": [
          -686
         ],
         "y": [
          7
         ]
        },
        {
         "marker": {
          "color": "PaleTurquoise",
          "line": {
           "color": "black",
           "width": 1
          },
          "showscale": false,
          "size": 25
         },
         "mode": "markers",
         "name": "zsub_32",
         "showlegend": false,
         "text": [
          "sub_32"
         ],
         "type": "scatter",
         "x": [
          -12
         ],
         "y": [
          480
         ]
        },
        {
         "hoverinfo": "skip",
         "mode": "text",
         "name": "sub_32",
         "showlegend": false,
         "text": [
          "32"
         ],
         "textposition": "middle center",
         "type": "scatter",
         "x": [
          -12
         ],
         "y": [
          480
         ]
        },
        {
         "marker": {
          "color": "PaleTurquoise",
          "line": {
           "color": "black",
           "width": 1
          },
          "showscale": false,
          "size": 25
         },
         "mode": "markers",
         "name": "zsub_33",
         "showlegend": false,
         "text": [
          "sub_33"
         ],
         "type": "scatter",
         "x": [
          40
         ],
         "y": [
          373
         ]
        },
        {
         "hoverinfo": "skip",
         "mode": "text",
         "name": "sub_33",
         "showlegend": false,
         "text": [
          "33"
         ],
         "textposition": "middle center",
         "type": "scatter",
         "x": [
          40
         ],
         "y": [
          373
         ]
        },
        {
         "marker": {
          "color": "PaleTurquoise",
          "line": {
           "color": "black",
           "width": 1
          },
          "showscale": false,
          "size": 25
         },
         "mode": "markers",
         "name": "zsub_34",
         "showlegend": false,
         "text": [
          "sub_34"
         ],
         "type": "scatter",
         "x": [
          -91
         ],
         "y": [
          257
         ]
        },
        {
         "hoverinfo": "skip",
         "mode": "text",
         "name": "sub_34",
         "showlegend": false,
         "text": [
          "34"
         ],
         "textposition": "middle center",
         "type": "scatter",
         "x": [
          -91
         ],
         "y": [
          257
         ]
        },
        {
         "marker": {
          "color": "PaleTurquoise",
          "line": {
           "color": "black",
           "width": 1
          },
          "showscale": false,
          "size": 25
         },
         "mode": "markers",
         "name": "zsub_35",
         "showlegend": false,
         "text": [
          "sub_35"
         ],
         "type": "scatter",
         "x": [
          133
         ],
         "y": [
          272
         ]
        },
        {
         "hoverinfo": "skip",
         "mode": "text",
         "name": "sub_35",
         "showlegend": false,
         "text": [
          "35"
         ],
         "textposition": "middle center",
         "type": "scatter",
         "x": [
          133
         ],
         "y": [
          272
         ]
        },
        {
         "marker": {
          "color": "PaleTurquoise",
          "line": {
           "color": "black",
           "width": 1
          },
          "showscale": false,
          "size": 25
         },
         "mode": "markers",
         "name": "zsub_36",
         "showlegend": false,
         "text": [
          "sub_36"
         ],
         "type": "scatter",
         "x": [
          194
         ],
         "y": [
          411
         ]
        },
        {
         "hoverinfo": "skip",
         "mode": "text",
         "name": "sub_36",
         "showlegend": false,
         "text": [
          "36"
         ],
         "textposition": "middle center",
         "type": "scatter",
         "x": [
          194
         ],
         "y": [
          411
         ]
        },
        {
         "marker": {
          "color": "PaleTurquoise",
          "line": {
           "color": "black",
           "width": 1
          },
          "showscale": false,
          "size": 25
         },
         "mode": "markers",
         "name": "zsub_37",
         "showlegend": false,
         "text": [
          "sub_37"
         ],
         "type": "scatter",
         "x": [
          231
         ],
         "y": [
          213
         ]
        },
        {
         "hoverinfo": "skip",
         "mode": "text",
         "name": "sub_37",
         "showlegend": false,
         "text": [
          "37"
         ],
         "textposition": "middle center",
         "type": "scatter",
         "x": [
          231
         ],
         "y": [
          213
         ]
        },
        {
         "marker": {
          "color": "PaleTurquoise",
          "line": {
           "color": "black",
           "width": 1
          },
          "showscale": false,
          "size": 25
         },
         "mode": "markers",
         "name": "zsub_38",
         "showlegend": false,
         "text": [
          "sub_38"
         ],
         "type": "scatter",
         "x": [
          155
         ],
         "y": [
          503
         ]
        },
        {
         "hoverinfo": "skip",
         "mode": "text",
         "name": "sub_38",
         "showlegend": false,
         "text": [
          "38"
         ],
         "textposition": "middle center",
         "type": "scatter",
         "x": [
          155
         ],
         "y": [
          503
         ]
        },
        {
         "marker": {
          "color": "PaleTurquoise",
          "line": {
           "color": "black",
           "width": 1
          },
          "showscale": false,
          "size": 25
         },
         "mode": "markers",
         "name": "zsub_39",
         "showlegend": false,
         "text": [
          "sub_39"
         ],
         "type": "scatter",
         "x": [
          226
         ],
         "y": [
          568
         ]
        },
        {
         "hoverinfo": "skip",
         "mode": "text",
         "name": "sub_39",
         "showlegend": false,
         "text": [
          "39"
         ],
         "textposition": "middle center",
         "type": "scatter",
         "x": [
          226
         ],
         "y": [
          568
         ]
        },
        {
         "marker": {
          "color": "PaleTurquoise",
          "line": {
           "color": "black",
           "width": 1
          },
          "showscale": false,
          "size": 25
         },
         "mode": "markers",
         "name": "zsub_40",
         "showlegend": false,
         "text": [
          "sub_40"
         ],
         "type": "scatter",
         "x": [
          340
         ],
         "y": [
          615
         ]
        },
        {
         "hoverinfo": "skip",
         "mode": "text",
         "name": "sub_40",
         "showlegend": false,
         "text": [
          "40"
         ],
         "textposition": "middle center",
         "type": "scatter",
         "x": [
          340
         ],
         "y": [
          615
         ]
        },
        {
         "marker": {
          "color": "PaleTurquoise",
          "line": {
           "color": "black",
           "width": 1
          },
          "showscale": false,
          "size": 25
         },
         "mode": "markers",
         "name": "zsub_41",
         "showlegend": false,
         "text": [
          "sub_41"
         ],
         "type": "scatter",
         "x": [
          424
         ],
         "y": [
          568
         ]
        },
        {
         "hoverinfo": "skip",
         "mode": "text",
         "name": "sub_41",
         "showlegend": false,
         "text": [
          "41"
         ],
         "textposition": "middle center",
         "type": "scatter",
         "x": [
          424
         ],
         "y": [
          568
         ]
        },
        {
         "marker": {
          "color": "PaleTurquoise",
          "line": {
           "color": "black",
           "width": 1
          },
          "showscale": false,
          "size": 25
         },
         "mode": "markers",
         "name": "zsub_42",
         "showlegend": false,
         "text": [
          "sub_42"
         ],
         "type": "scatter",
         "x": [
          326
         ],
         "y": [
          363
         ]
        },
        {
         "hoverinfo": "skip",
         "mode": "text",
         "name": "sub_42",
         "showlegend": false,
         "text": [
          "42"
         ],
         "textposition": "middle center",
         "type": "scatter",
         "x": [
          326
         ],
         "y": [
          363
         ]
        },
        {
         "marker": {
          "color": "PaleTurquoise",
          "line": {
           "color": "black",
           "width": 1
          },
          "showscale": false,
          "size": 25
         },
         "mode": "markers",
         "name": "zsub_43",
         "showlegend": false,
         "text": [
          "sub_43"
         ],
         "type": "scatter",
         "x": [
          369
         ],
         "y": [
          421
         ]
        },
        {
         "hoverinfo": "skip",
         "mode": "text",
         "name": "sub_43",
         "showlegend": false,
         "text": [
          "43"
         ],
         "textposition": "middle center",
         "type": "scatter",
         "x": [
          369
         ],
         "y": [
          421
         ]
        },
        {
         "marker": {
          "color": "PaleTurquoise",
          "line": {
           "color": "black",
           "width": 1
          },
          "showscale": false,
          "size": 25
         },
         "mode": "markers",
         "name": "zsub_44",
         "showlegend": false,
         "text": [
          "sub_44"
         ],
         "type": "scatter",
         "x": [
          411
         ],
         "y": [
          330
         ]
        },
        {
         "hoverinfo": "skip",
         "mode": "text",
         "name": "sub_44",
         "showlegend": false,
         "text": [
          "44"
         ],
         "textposition": "middle center",
         "type": "scatter",
         "x": [
          411
         ],
         "y": [
          330
         ]
        },
        {
         "marker": {
          "color": "PaleTurquoise",
          "line": {
           "color": "black",
           "width": 1
          },
          "showscale": false,
          "size": 25
         },
         "mode": "markers",
         "name": "zsub_45",
         "showlegend": false,
         "text": [
          "sub_45"
         ],
         "type": "scatter",
         "x": [
          350
         ],
         "y": [
          236
         ]
        },
        {
         "hoverinfo": "skip",
         "mode": "text",
         "name": "sub_45",
         "showlegend": false,
         "text": [
          "45"
         ],
         "textposition": "middle center",
         "type": "scatter",
         "x": [
          350
         ],
         "y": [
          236
         ]
        },
        {
         "marker": {
          "color": "PaleTurquoise",
          "line": {
           "color": "black",
           "width": 1
          },
          "showscale": false,
          "size": 25
         },
         "mode": "markers",
         "name": "zsub_46",
         "showlegend": false,
         "text": [
          "sub_46"
         ],
         "type": "scatter",
         "x": [
          460
         ],
         "y": [
          182
         ]
        },
        {
         "hoverinfo": "skip",
         "mode": "text",
         "name": "sub_46",
         "showlegend": false,
         "text": [
          "46"
         ],
         "textposition": "middle center",
         "type": "scatter",
         "x": [
          460
         ],
         "y": [
          182
         ]
        },
        {
         "marker": {
          "color": "PaleTurquoise",
          "line": {
           "color": "black",
           "width": 1
          },
          "showscale": false,
          "size": 25
         },
         "mode": "markers",
         "name": "zsub_47",
         "showlegend": false,
         "text": [
          "sub_47"
         ],
         "type": "scatter",
         "x": [
          453
         ],
         "y": [
          244
         ]
        },
        {
         "hoverinfo": "skip",
         "mode": "text",
         "name": "sub_47",
         "showlegend": false,
         "text": [
          "47"
         ],
         "textposition": "middle center",
         "type": "scatter",
         "x": [
          453
         ],
         "y": [
          244
         ]
        },
        {
         "marker": {
          "color": "PaleTurquoise",
          "line": {
           "color": "black",
           "width": 1
          },
          "showscale": false,
          "size": 25
         },
         "mode": "markers",
         "name": "zsub_48",
         "showlegend": false,
         "text": [
          "sub_48"
         ],
         "type": "scatter",
         "x": [
          583
         ],
         "y": [
          209
         ]
        },
        {
         "hoverinfo": "skip",
         "mode": "text",
         "name": "sub_48",
         "showlegend": false,
         "text": [
          "48"
         ],
         "textposition": "middle center",
         "type": "scatter",
         "x": [
          583
         ],
         "y": [
          209
         ]
        },
        {
         "marker": {
          "color": "PaleTurquoise",
          "line": {
           "color": "black",
           "width": 1
          },
          "showscale": false,
          "size": 25
         },
         "mode": "markers",
         "name": "zsub_49",
         "showlegend": false,
         "text": [
          "sub_49"
         ],
         "type": "scatter",
         "x": [
          776
         ],
         "y": [
          300
         ]
        },
        {
         "hoverinfo": "skip",
         "mode": "text",
         "name": "sub_49",
         "showlegend": false,
         "text": [
          "49"
         ],
         "textposition": "middle center",
         "type": "scatter",
         "x": [
          776
         ],
         "y": [
          300
         ]
        },
        {
         "marker": {
          "color": "PaleTurquoise",
          "line": {
           "color": "black",
           "width": 1
          },
          "showscale": false,
          "size": 25
         },
         "mode": "markers",
         "name": "zsub_50",
         "showlegend": false,
         "text": [
          "sub_50"
         ],
         "type": "scatter",
         "x": [
          706
         ],
         "y": [
          300
         ]
        },
        {
         "hoverinfo": "skip",
         "mode": "text",
         "name": "sub_50",
         "showlegend": false,
         "text": [
          "50"
         ],
         "textposition": "middle center",
         "type": "scatter",
         "x": [
          706
         ],
         "y": [
          300
         ]
        },
        {
         "marker": {
          "color": "PaleTurquoise",
          "line": {
           "color": "black",
           "width": 1
          },
          "showscale": false,
          "size": 25
         },
         "mode": "markers",
         "name": "zsub_51",
         "showlegend": false,
         "text": [
          "sub_51"
         ],
         "type": "scatter",
         "x": [
          541
         ],
         "y": [
          430
         ]
        },
        {
         "hoverinfo": "skip",
         "mode": "text",
         "name": "sub_51",
         "showlegend": false,
         "text": [
          "51"
         ],
         "textposition": "middle center",
         "type": "scatter",
         "x": [
          541
         ],
         "y": [
          430
         ]
        },
        {
         "marker": {
          "color": "PaleTurquoise",
          "line": {
           "color": "black",
           "width": 1
          },
          "showscale": false,
          "size": 25
         },
         "mode": "markers",
         "name": "zsub_52",
         "showlegend": false,
         "text": [
          "sub_52"
         ],
         "type": "scatter",
         "x": [
          533
         ],
         "y": [
          568
         ]
        },
        {
         "hoverinfo": "skip",
         "mode": "text",
         "name": "sub_52",
         "showlegend": false,
         "text": [
          "52"
         ],
         "textposition": "middle center",
         "type": "scatter",
         "x": [
          533
         ],
         "y": [
          568
         ]
        },
        {
         "marker": {
          "color": "PaleTurquoise",
          "line": {
           "color": "black",
           "width": 1
          },
          "showscale": false,
          "size": 25
         },
         "mode": "markers",
         "name": "zsub_53",
         "showlegend": false,
         "text": [
          "sub_53"
         ],
         "type": "scatter",
         "x": [
          625
         ],
         "y": [
          566
         ]
        },
        {
         "hoverinfo": "skip",
         "mode": "text",
         "name": "sub_53",
         "showlegend": false,
         "text": [
          "53"
         ],
         "textposition": "middle center",
         "type": "scatter",
         "x": [
          625
         ],
         "y": [
          566
         ]
        },
        {
         "marker": {
          "color": "PaleTurquoise",
          "line": {
           "color": "black",
           "width": 1
          },
          "showscale": false,
          "size": 25
         },
         "mode": "markers",
         "name": "zsub_54",
         "showlegend": false,
         "text": [
          "sub_54"
         ],
         "type": "scatter",
         "x": [
          783
         ],
         "y": [
          515
         ]
        },
        {
         "hoverinfo": "skip",
         "mode": "text",
         "name": "sub_54",
         "showlegend": false,
         "text": [
          "54"
         ],
         "textposition": "middle center",
         "type": "scatter",
         "x": [
          783
         ],
         "y": [
          515
         ]
        },
        {
         "marker": {
          "color": "PaleTurquoise",
          "line": {
           "color": "black",
           "width": 1
          },
          "showscale": false,
          "size": 25
         },
         "mode": "markers",
         "name": "zsub_55",
         "showlegend": false,
         "text": [
          "sub_55"
         ],
         "type": "scatter",
         "x": [
          742
         ],
         "y": [
          430
         ]
        },
        {
         "hoverinfo": "skip",
         "mode": "text",
         "name": "sub_55",
         "showlegend": false,
         "text": [
          "55"
         ],
         "textposition": "middle center",
         "type": "scatter",
         "x": [
          742
         ],
         "y": [
          430
         ]
        },
        {
         "marker": {
          "color": "PaleTurquoise",
          "line": {
           "color": "black",
           "width": 1
          },
          "showscale": false,
          "size": 25
         },
         "mode": "markers",
         "name": "zsub_56",
         "showlegend": false,
         "text": [
          "sub_56"
         ],
         "type": "scatter",
         "x": [
          776
         ],
         "y": [
          365
         ]
        },
        {
         "hoverinfo": "skip",
         "mode": "text",
         "name": "sub_56",
         "showlegend": false,
         "text": [
          "56"
         ],
         "textposition": "middle center",
         "type": "scatter",
         "x": [
          776
         ],
         "y": [
          365
         ]
        },
        {
         "marker": {
          "color": "PaleTurquoise",
          "line": {
           "color": "black",
           "width": 1
          },
          "showscale": false,
          "size": 25
         },
         "mode": "markers",
         "name": "zsub_57",
         "showlegend": false,
         "text": [
          "sub_57"
         ],
         "type": "scatter",
         "x": [
          706
         ],
         "y": [
          365
         ]
        },
        {
         "hoverinfo": "skip",
         "mode": "text",
         "name": "sub_57",
         "showlegend": false,
         "text": [
          "57"
         ],
         "textposition": "middle center",
         "type": "scatter",
         "x": [
          706
         ],
         "y": [
          365
         ]
        },
        {
         "marker": {
          "color": "PaleTurquoise",
          "line": {
           "color": "black",
           "width": 1
          },
          "showscale": false,
          "size": 25
         },
         "mode": "markers",
         "name": "zsub_58",
         "showlegend": false,
         "text": [
          "sub_58"
         ],
         "type": "scatter",
         "x": [
          982
         ],
         "y": [
          529
         ]
        },
        {
         "hoverinfo": "skip",
         "mode": "text",
         "name": "sub_58",
         "showlegend": false,
         "text": [
          "58"
         ],
         "textposition": "middle center",
         "type": "scatter",
         "x": [
          982
         ],
         "y": [
          529
         ]
        },
        {
         "marker": {
          "color": "PaleTurquoise",
          "line": {
           "color": "black",
           "width": 1
          },
          "showscale": false,
          "size": 25
         },
         "mode": "markers",
         "name": "zsub_59",
         "showlegend": false,
         "text": [
          "sub_59"
         ],
         "type": "scatter",
         "x": [
          908
         ],
         "y": [
          254
         ]
        },
        {
         "hoverinfo": "skip",
         "mode": "text",
         "name": "sub_59",
         "showlegend": false,
         "text": [
          "59"
         ],
         "textposition": "middle center",
         "type": "scatter",
         "x": [
          908
         ],
         "y": [
          254
         ]
        },
        {
         "marker": {
          "color": "PaleTurquoise",
          "line": {
           "color": "black",
           "width": 1
          },
          "showscale": false,
          "size": 25
         },
         "mode": "markers",
         "name": "zsub_60",
         "showlegend": false,
         "text": [
          "sub_60"
         ],
         "type": "scatter",
         "x": [
          950
         ],
         "y": [
          195
         ]
        },
        {
         "hoverinfo": "skip",
         "mode": "text",
         "name": "sub_60",
         "showlegend": false,
         "text": [
          "60"
         ],
         "textposition": "middle center",
         "type": "scatter",
         "x": [
          950
         ],
         "y": [
          195
         ]
        },
        {
         "marker": {
          "color": "PaleTurquoise",
          "line": {
           "color": "black",
           "width": 1
          },
          "showscale": false,
          "size": 25
         },
         "mode": "markers",
         "name": "zsub_61",
         "showlegend": false,
         "text": [
          "sub_61"
         ],
         "type": "scatter",
         "x": [
          854
         ],
         "y": [
          185
         ]
        },
        {
         "hoverinfo": "skip",
         "mode": "text",
         "name": "sub_61",
         "showlegend": false,
         "text": [
          "61"
         ],
         "textposition": "middle center",
         "type": "scatter",
         "x": [
          854
         ],
         "y": [
          185
         ]
        },
        {
         "marker": {
          "color": "PaleTurquoise",
          "line": {
           "color": "black",
           "width": 1
          },
          "showscale": false,
          "size": 25
         },
         "mode": "markers",
         "name": "zsub_62",
         "showlegend": false,
         "text": [
          "sub_62"
         ],
         "type": "scatter",
         "x": [
          1020
         ],
         "y": [
          355
         ]
        },
        {
         "hoverinfo": "skip",
         "mode": "text",
         "name": "sub_62",
         "showlegend": false,
         "text": [
          "62"
         ],
         "textposition": "middle center",
         "type": "scatter",
         "x": [
          1020
         ],
         "y": [
          355
         ]
        },
        {
         "marker": {
          "color": "PaleTurquoise",
          "line": {
           "color": "black",
           "width": 1
          },
          "showscale": false,
          "size": 25
         },
         "mode": "markers",
         "name": "zsub_63",
         "showlegend": false,
         "text": [
          "sub_63"
         ],
         "type": "scatter",
         "x": [
          1013
         ],
         "y": [
          126
         ]
        },
        {
         "hoverinfo": "skip",
         "mode": "text",
         "name": "sub_63",
         "showlegend": false,
         "text": [
          "63"
         ],
         "textposition": "middle center",
         "type": "scatter",
         "x": [
          1013
         ],
         "y": [
          126
         ]
        },
        {
         "marker": {
          "color": "PaleTurquoise",
          "line": {
           "color": "black",
           "width": 1
          },
          "showscale": false,
          "size": 25
         },
         "mode": "markers",
         "name": "zsub_64",
         "showlegend": false,
         "text": [
          "sub_64"
         ],
         "type": "scatter",
         "x": [
          786
         ],
         "y": [
          7
         ]
        },
        {
         "hoverinfo": "skip",
         "mode": "text",
         "name": "sub_64",
         "showlegend": false,
         "text": [
          "64"
         ],
         "textposition": "middle center",
         "type": "scatter",
         "x": [
          786
         ],
         "y": [
          7
         ]
        },
        {
         "marker": {
          "color": "PaleTurquoise",
          "line": {
           "color": "black",
           "width": 1
          },
          "showscale": false,
          "size": 25
         },
         "mode": "markers",
         "name": "zsub_65",
         "showlegend": false,
         "text": [
          "sub_65"
         ],
         "type": "scatter",
         "x": [
          747
         ],
         "y": [
          102
         ]
        },
        {
         "hoverinfo": "skip",
         "mode": "text",
         "name": "sub_65",
         "showlegend": false,
         "text": [
          "65"
         ],
         "textposition": "middle center",
         "type": "scatter",
         "x": [
          747
         ],
         "y": [
          102
         ]
        },
        {
         "marker": {
          "color": "PaleTurquoise",
          "line": {
           "color": "black",
           "width": 1
          },
          "showscale": false,
          "size": 25
         },
         "mode": "markers",
         "name": "zsub_66",
         "showlegend": false,
         "text": [
          "sub_66"
         ],
         "type": "scatter",
         "x": [
          841
         ],
         "y": [
          94
         ]
        },
        {
         "hoverinfo": "skip",
         "mode": "text",
         "name": "sub_66",
         "showlegend": false,
         "text": [
          "66"
         ],
         "textposition": "middle center",
         "type": "scatter",
         "x": [
          841
         ],
         "y": [
          94
         ]
        },
        {
         "marker": {
          "color": "PaleTurquoise",
          "line": {
           "color": "black",
           "width": 1
          },
          "showscale": false,
          "size": 25
         },
         "mode": "markers",
         "name": "zsub_67",
         "showlegend": false,
         "text": [
          "sub_67"
         ],
         "type": "scatter",
         "x": [
          579
         ],
         "y": [
          25
         ]
        },
        {
         "hoverinfo": "skip",
         "mode": "text",
         "name": "sub_67",
         "showlegend": false,
         "text": [
          "67"
         ],
         "textposition": "middle center",
         "type": "scatter",
         "x": [
          579
         ],
         "y": [
          25
         ]
        },
        {
         "marker": {
          "color": "PaleTurquoise",
          "line": {
           "color": "black",
           "width": 1
          },
          "showscale": false,
          "size": 25
         },
         "mode": "markers",
         "name": "zsub_68",
         "showlegend": false,
         "text": [
          "sub_68"
         ],
         "type": "scatter",
         "x": [
          485
         ],
         "y": [
          51
         ]
        },
        {
         "hoverinfo": "skip",
         "mode": "text",
         "name": "sub_68",
         "showlegend": false,
         "text": [
          "68"
         ],
         "textposition": "middle center",
         "type": "scatter",
         "x": [
          485
         ],
         "y": [
          51
         ]
        },
        {
         "marker": {
          "color": "PaleTurquoise",
          "line": {
           "color": "black",
           "width": 1
          },
          "showscale": false,
          "size": 25
         },
         "mode": "markers",
         "name": "zsub_69",
         "showlegend": false,
         "text": [
          "sub_69"
         ],
         "type": "scatter",
         "x": [
          160
         ],
         "y": [
          41
         ]
        },
        {
         "hoverinfo": "skip",
         "mode": "text",
         "name": "sub_69",
         "showlegend": false,
         "text": [
          "69"
         ],
         "textposition": "middle center",
         "type": "scatter",
         "x": [
          160
         ],
         "y": [
          41
         ]
        },
        {
         "marker": {
          "color": "PaleTurquoise",
          "line": {
           "color": "black",
           "width": 1
          },
          "showscale": false,
          "size": 25
         },
         "mode": "markers",
         "name": "zsub_70",
         "showlegend": false,
         "text": [
          "sub_70"
         ],
         "type": "scatter",
         "x": [
          93
         ],
         "y": [
          124
         ]
        },
        {
         "hoverinfo": "skip",
         "mode": "text",
         "name": "sub_70",
         "showlegend": false,
         "text": [
          "70"
         ],
         "textposition": "middle center",
         "type": "scatter",
         "x": [
          93
         ],
         "y": [
          124
         ]
        },
        {
         "marker": {
          "color": "PaleTurquoise",
          "line": {
           "color": "black",
           "width": 1
          },
          "showscale": false,
          "size": 25
         },
         "mode": "markers",
         "name": "zsub_71",
         "showlegend": false,
         "text": [
          "sub_71"
         ],
         "type": "scatter",
         "x": [
          -3
         ],
         "y": [
          120
         ]
        },
        {
         "hoverinfo": "skip",
         "mode": "text",
         "name": "sub_71",
         "showlegend": false,
         "text": [
          "71"
         ],
         "textposition": "middle center",
         "type": "scatter",
         "x": [
          -3
         ],
         "y": [
          120
         ]
        },
        {
         "marker": {
          "color": "PaleTurquoise",
          "line": {
           "color": "black",
           "width": 1
          },
          "showscale": false,
          "size": 25
         },
         "mode": "markers",
         "name": "zsub_72",
         "showlegend": false,
         "text": [
          "sub_72"
         ],
         "type": "scatter",
         "x": [
          207
         ],
         "y": [
          107
         ]
        },
        {
         "hoverinfo": "skip",
         "mode": "text",
         "name": "sub_72",
         "showlegend": false,
         "text": [
          "72"
         ],
         "textposition": "middle center",
         "type": "scatter",
         "x": [
          207
         ],
         "y": [
          107
         ]
        },
        {
         "marker": {
          "color": "PaleTurquoise",
          "line": {
           "color": "black",
           "width": 1
          },
          "showscale": false,
          "size": 25
         },
         "mode": "markers",
         "name": "zsub_73",
         "showlegend": false,
         "text": [
          "sub_73"
         ],
         "type": "scatter",
         "x": [
          69
         ],
         "y": [
          -133
         ]
        },
        {
         "hoverinfo": "skip",
         "mode": "text",
         "name": "sub_73",
         "showlegend": false,
         "text": [
          "73"
         ],
         "textposition": "middle center",
         "type": "scatter",
         "x": [
          69
         ],
         "y": [
          -133
         ]
        },
        {
         "marker": {
          "color": "PaleTurquoise",
          "line": {
           "color": "black",
           "width": 1
          },
          "showscale": false,
          "size": 25
         },
         "mode": "markers",
         "name": "zsub_74",
         "showlegend": false,
         "text": [
          "sub_74"
         ],
         "type": "scatter",
         "x": [
          160
         ],
         "y": [
          -207
         ]
        },
        {
         "hoverinfo": "skip",
         "mode": "text",
         "name": "sub_74",
         "showlegend": false,
         "text": [
          "74"
         ],
         "textposition": "middle center",
         "type": "scatter",
         "x": [
          160
         ],
         "y": [
          -207
         ]
        },
        {
         "marker": {
          "color": "PaleTurquoise",
          "line": {
           "color": "black",
           "width": 1
          },
          "showscale": false,
          "size": 25
         },
         "mode": "markers",
         "name": "zsub_75",
         "showlegend": false,
         "text": [
          "sub_75"
         ],
         "type": "scatter",
         "x": [
          398
         ],
         "y": [
          -207
         ]
        },
        {
         "hoverinfo": "skip",
         "mode": "text",
         "name": "sub_75",
         "showlegend": false,
         "text": [
          "75"
         ],
         "textposition": "middle center",
         "type": "scatter",
         "x": [
          398
         ],
         "y": [
          -207
         ]
        },
        {
         "marker": {
          "color": "PaleTurquoise",
          "line": {
           "color": "black",
           "width": 1
          },
          "showscale": false,
          "size": 25
         },
         "mode": "markers",
         "name": "zsub_76",
         "showlegend": false,
         "text": [
          "sub_76"
         ],
         "type": "scatter",
         "x": [
          464
         ],
         "y": [
          -262
         ]
        },
        {
         "hoverinfo": "skip",
         "mode": "text",
         "name": "sub_76",
         "showlegend": false,
         "text": [
          "76"
         ],
         "textposition": "middle center",
         "type": "scatter",
         "x": [
          464
         ],
         "y": [
          -262
         ]
        },
        {
         "marker": {
          "color": "PaleTurquoise",
          "line": {
           "color": "black",
           "width": 1
          },
          "showscale": false,
          "size": 25
         },
         "mode": "markers",
         "name": "zsub_77",
         "showlegend": false,
         "text": [
          "sub_77"
         ],
         "type": "scatter",
         "x": [
          514
         ],
         "y": [
          -165
         ]
        },
        {
         "hoverinfo": "skip",
         "mode": "text",
         "name": "sub_77",
         "showlegend": false,
         "text": [
          "77"
         ],
         "textposition": "middle center",
         "type": "scatter",
         "x": [
          514
         ],
         "y": [
          -165
         ]
        },
        {
         "marker": {
          "color": "PaleTurquoise",
          "line": {
           "color": "black",
           "width": 1
          },
          "showscale": false,
          "size": 25
         },
         "mode": "markers",
         "name": "zsub_78",
         "showlegend": false,
         "text": [
          "sub_78"
         ],
         "type": "scatter",
         "x": [
          547
         ],
         "y": [
          -97
         ]
        },
        {
         "hoverinfo": "skip",
         "mode": "text",
         "name": "sub_78",
         "showlegend": false,
         "text": [
          "78"
         ],
         "textposition": "middle center",
         "type": "scatter",
         "x": [
          547
         ],
         "y": [
          -97
         ]
        },
        {
         "marker": {
          "color": "PaleTurquoise",
          "line": {
           "color": "black",
           "width": 1
          },
          "showscale": false,
          "size": 25
         },
         "mode": "markers",
         "name": "zsub_79",
         "showlegend": false,
         "text": [
          "sub_79"
         ],
         "type": "scatter",
         "x": [
          599
         ],
         "y": [
          -207
         ]
        },
        {
         "hoverinfo": "skip",
         "mode": "text",
         "name": "sub_79",
         "showlegend": false,
         "text": [
          "79"
         ],
         "textposition": "middle center",
         "type": "scatter",
         "x": [
          599
         ],
         "y": [
          -207
         ]
        },
        {
         "marker": {
          "color": "PaleTurquoise",
          "line": {
           "color": "black",
           "width": 1
          },
          "showscale": false,
          "size": 25
         },
         "mode": "markers",
         "name": "zsub_80",
         "showlegend": false,
         "text": [
          "sub_80"
         ],
         "type": "scatter",
         "x": [
          621
         ],
         "y": [
          -139
         ]
        },
        {
         "hoverinfo": "skip",
         "mode": "text",
         "name": "sub_80",
         "showlegend": false,
         "text": [
          "80"
         ],
         "textposition": "middle center",
         "type": "scatter",
         "x": [
          621
         ],
         "y": [
          -139
         ]
        },
        {
         "marker": {
          "color": "PaleTurquoise",
          "line": {
           "color": "black",
           "width": 1
          },
          "showscale": false,
          "size": 25
         },
         "mode": "markers",
         "name": "zsub_81",
         "showlegend": false,
         "text": [
          "sub_81"
         ],
         "type": "scatter",
         "x": [
          393
         ],
         "y": [
          -329
         ]
        },
        {
         "hoverinfo": "skip",
         "mode": "text",
         "name": "sub_81",
         "showlegend": false,
         "text": [
          "81"
         ],
         "textposition": "middle center",
         "type": "scatter",
         "x": [
          393
         ],
         "y": [
          -329
         ]
        },
        {
         "marker": {
          "color": "PaleTurquoise",
          "line": {
           "color": "black",
           "width": 1
          },
          "showscale": false,
          "size": 25
         },
         "mode": "markers",
         "name": "zsub_82",
         "showlegend": false,
         "text": [
          "sub_82"
         ],
         "type": "scatter",
         "x": [
          149
         ],
         "y": [
          -377
         ]
        },
        {
         "hoverinfo": "skip",
         "mode": "text",
         "name": "sub_82",
         "showlegend": false,
         "text": [
          "82"
         ],
         "textposition": "middle center",
         "type": "scatter",
         "x": [
          149
         ],
         "y": [
          -377
         ]
        },
        {
         "marker": {
          "color": "PaleTurquoise",
          "line": {
           "color": "black",
           "width": 1
          },
          "showscale": false,
          "size": 25
         },
         "mode": "markers",
         "name": "zsub_83",
         "showlegend": false,
         "text": [
          "sub_83"
         ],
         "type": "scatter",
         "x": [
          89
         ],
         "y": [
          -418
         ]
        },
        {
         "hoverinfo": "skip",
         "mode": "text",
         "name": "sub_83",
         "showlegend": false,
         "text": [
          "83"
         ],
         "textposition": "middle center",
         "type": "scatter",
         "x": [
          89
         ],
         "y": [
          -418
         ]
        },
        {
         "marker": {
          "color": "PaleTurquoise",
          "line": {
           "color": "black",
           "width": 1
          },
          "showscale": false,
          "size": 25
         },
         "mode": "markers",
         "name": "zsub_84",
         "showlegend": false,
         "text": [
          "sub_84"
         ],
         "type": "scatter",
         "x": [
          112
         ],
         "y": [
          -484
         ]
        },
        {
         "hoverinfo": "skip",
         "mode": "text",
         "name": "sub_84",
         "showlegend": false,
         "text": [
          "84"
         ],
         "textposition": "middle center",
         "type": "scatter",
         "x": [
          112
         ],
         "y": [
          -484
         ]
        },
        {
         "marker": {
          "color": "PaleTurquoise",
          "line": {
           "color": "black",
           "width": 1
          },
          "showscale": false,
          "size": 25
         },
         "mode": "markers",
         "name": "zsub_85",
         "showlegend": false,
         "text": [
          "sub_85"
         ],
         "type": "scatter",
         "x": [
          118
         ],
         "y": [
          -565
         ]
        },
        {
         "hoverinfo": "skip",
         "mode": "text",
         "name": "sub_85",
         "showlegend": false,
         "text": [
          "85"
         ],
         "textposition": "middle center",
         "type": "scatter",
         "x": [
          118
         ],
         "y": [
          -565
         ]
        },
        {
         "marker": {
          "color": "PaleTurquoise",
          "line": {
           "color": "black",
           "width": 1
          },
          "showscale": false,
          "size": 25
         },
         "mode": "markers",
         "name": "zsub_86",
         "showlegend": false,
         "text": [
          "sub_86"
         ],
         "type": "scatter",
         "x": [
          181
         ],
         "y": [
          -595
         ]
        },
        {
         "hoverinfo": "skip",
         "mode": "text",
         "name": "sub_86",
         "showlegend": false,
         "text": [
          "86"
         ],
         "textposition": "middle center",
         "type": "scatter",
         "x": [
          181
         ],
         "y": [
          -595
         ]
        },
        {
         "marker": {
          "color": "PaleTurquoise",
          "line": {
           "color": "black",
           "width": 1
          },
          "showscale": false,
          "size": 25
         },
         "mode": "markers",
         "name": "zsub_87",
         "showlegend": false,
         "text": [
          "sub_87"
         ],
         "type": "scatter",
         "x": [
          205
         ],
         "y": [
          -484
         ]
        },
        {
         "hoverinfo": "skip",
         "mode": "text",
         "name": "sub_87",
         "showlegend": false,
         "text": [
          "87"
         ],
         "textposition": "middle center",
         "type": "scatter",
         "x": [
          205
         ],
         "y": [
          -484
         ]
        },
        {
         "marker": {
          "color": "PaleTurquoise",
          "line": {
           "color": "black",
           "width": 1
          },
          "showscale": false,
          "size": 25
         },
         "mode": "markers",
         "name": "zsub_88",
         "showlegend": false,
         "text": [
          "sub_88"
         ],
         "type": "scatter",
         "x": [
          313
         ],
         "y": [
          -489
         ]
        },
        {
         "hoverinfo": "skip",
         "mode": "text",
         "name": "sub_88",
         "showlegend": false,
         "text": [
          "88"
         ],
         "textposition": "middle center",
         "type": "scatter",
         "x": [
          313
         ],
         "y": [
          -489
         ]
        },
        {
         "marker": {
          "color": "PaleTurquoise",
          "line": {
           "color": "black",
           "width": 1
          },
          "showscale": false,
          "size": 25
         },
         "mode": "markers",
         "name": "zsub_89",
         "showlegend": false,
         "text": [
          "sub_89"
         ],
         "type": "scatter",
         "x": [
          321
         ],
         "y": [
          -591
         ]
        },
        {
         "hoverinfo": "skip",
         "mode": "text",
         "name": "sub_89",
         "showlegend": false,
         "text": [
          "89"
         ],
         "textposition": "middle center",
         "type": "scatter",
         "x": [
          321
         ],
         "y": [
          -591
         ]
        },
        {
         "marker": {
          "color": "PaleTurquoise",
          "line": {
           "color": "black",
           "width": 1
          },
          "showscale": false,
          "size": 25
         },
         "mode": "markers",
         "name": "zsub_90",
         "showlegend": false,
         "text": [
          "sub_90"
         ],
         "type": "scatter",
         "x": [
          504
         ],
         "y": [
          -591
         ]
        },
        {
         "hoverinfo": "skip",
         "mode": "text",
         "name": "sub_90",
         "showlegend": false,
         "text": [
          "90"
         ],
         "textposition": "middle center",
         "type": "scatter",
         "x": [
          504
         ],
         "y": [
          -591
         ]
        },
        {
         "marker": {
          "color": "PaleTurquoise",
          "line": {
           "color": "black",
           "width": 1
          },
          "showscale": false,
          "size": 25
         },
         "mode": "markers",
         "name": "zsub_91",
         "showlegend": false,
         "text": [
          "sub_91"
         ],
         "type": "scatter",
         "x": [
          517
         ],
         "y": [
          -489
         ]
        },
        {
         "hoverinfo": "skip",
         "mode": "text",
         "name": "sub_91",
         "showlegend": false,
         "text": [
          "91"
         ],
         "textposition": "middle center",
         "type": "scatter",
         "x": [
          517
         ],
         "y": [
          -489
         ]
        },
        {
         "marker": {
          "color": "PaleTurquoise",
          "line": {
           "color": "black",
           "width": 1
          },
          "showscale": false,
          "size": 25
         },
         "mode": "markers",
         "name": "zsub_92",
         "showlegend": false,
         "text": [
          "sub_92"
         ],
         "type": "scatter",
         "x": [
          642
         ],
         "y": [
          -481
         ]
        },
        {
         "hoverinfo": "skip",
         "mode": "text",
         "name": "sub_92",
         "showlegend": false,
         "text": [
          "92"
         ],
         "textposition": "middle center",
         "type": "scatter",
         "x": [
          642
         ],
         "y": [
          -481
         ]
        },
        {
         "marker": {
          "color": "PaleTurquoise",
          "line": {
           "color": "black",
           "width": 1
          },
          "showscale": false,
          "size": 25
         },
         "mode": "markers",
         "name": "zsub_93",
         "showlegend": false,
         "text": [
          "sub_93"
         ],
         "type": "scatter",
         "x": [
          646
         ],
         "y": [
          -377
         ]
        },
        {
         "hoverinfo": "skip",
         "mode": "text",
         "name": "sub_93",
         "showlegend": false,
         "text": [
          "93"
         ],
         "textposition": "middle center",
         "type": "scatter",
         "x": [
          646
         ],
         "y": [
          -377
         ]
        },
        {
         "marker": {
          "color": "PaleTurquoise",
          "line": {
           "color": "black",
           "width": 1
          },
          "showscale": false,
          "size": 25
         },
         "mode": "markers",
         "name": "zsub_94",
         "showlegend": false,
         "text": [
          "sub_94"
         ],
         "type": "scatter",
         "x": [
          559
         ],
         "y": [
          -377
         ]
        },
        {
         "hoverinfo": "skip",
         "mode": "text",
         "name": "sub_94",
         "showlegend": false,
         "text": [
          "94"
         ],
         "textposition": "middle center",
         "type": "scatter",
         "x": [
          559
         ],
         "y": [
          -377
         ]
        },
        {
         "marker": {
          "color": "PaleTurquoise",
          "line": {
           "color": "black",
           "width": 1
          },
          "showscale": false,
          "size": 25
         },
         "mode": "markers",
         "name": "zsub_95",
         "showlegend": false,
         "text": [
          "sub_95"
         ],
         "type": "scatter",
         "x": [
          583
         ],
         "y": [
          -331
         ]
        },
        {
         "hoverinfo": "skip",
         "mode": "text",
         "name": "sub_95",
         "showlegend": false,
         "text": [
          "95"
         ],
         "textposition": "middle center",
         "type": "scatter",
         "x": [
          583
         ],
         "y": [
          -331
         ]
        },
        {
         "marker": {
          "color": "PaleTurquoise",
          "line": {
           "color": "black",
           "width": 1
          },
          "showscale": false,
          "size": 25
         },
         "mode": "markers",
         "name": "zsub_96",
         "showlegend": false,
         "text": [
          "sub_96"
         ],
         "type": "scatter",
         "x": [
          541
         ],
         "y": [
          -280
         ]
        },
        {
         "hoverinfo": "skip",
         "mode": "text",
         "name": "sub_96",
         "showlegend": false,
         "text": [
          "96"
         ],
         "textposition": "middle center",
         "type": "scatter",
         "x": [
          541
         ],
         "y": [
          -280
         ]
        },
        {
         "marker": {
          "color": "PaleTurquoise",
          "line": {
           "color": "black",
           "width": 1
          },
          "showscale": false,
          "size": 25
         },
         "mode": "markers",
         "name": "zsub_97",
         "showlegend": false,
         "text": [
          "sub_97"
         ],
         "type": "scatter",
         "x": [
          691
         ],
         "y": [
          -251
         ]
        },
        {
         "hoverinfo": "skip",
         "mode": "text",
         "name": "sub_97",
         "showlegend": false,
         "text": [
          "97"
         ],
         "textposition": "middle center",
         "type": "scatter",
         "x": [
          691
         ],
         "y": [
          -251
         ]
        },
        {
         "marker": {
          "color": "PaleTurquoise",
          "line": {
           "color": "black",
           "width": 1
          },
          "showscale": false,
          "size": 25
         },
         "mode": "markers",
         "name": "zsub_98",
         "showlegend": false,
         "text": [
          "sub_98"
         ],
         "type": "scatter",
         "x": [
          776
         ],
         "y": [
          -209
         ]
        },
        {
         "hoverinfo": "skip",
         "mode": "text",
         "name": "sub_98",
         "showlegend": false,
         "text": [
          "98"
         ],
         "textposition": "middle center",
         "type": "scatter",
         "x": [
          776
         ],
         "y": [
          -209
         ]
        },
        {
         "marker": {
          "color": "PaleTurquoise",
          "line": {
           "color": "black",
           "width": 1
          },
          "showscale": false,
          "size": 25
         },
         "mode": "markers",
         "name": "zsub_99",
         "showlegend": false,
         "text": [
          "sub_99"
         ],
         "type": "scatter",
         "x": [
          760
         ],
         "y": [
          -377
         ]
        },
        {
         "hoverinfo": "skip",
         "mode": "text",
         "name": "sub_99",
         "showlegend": false,
         "text": [
          "99"
         ],
         "textposition": "middle center",
         "type": "scatter",
         "x": [
          760
         ],
         "y": [
          -377
         ]
        },
        {
         "marker": {
          "color": "PaleTurquoise",
          "line": {
           "color": "black",
           "width": 1
          },
          "showscale": false,
          "size": 25
         },
         "mode": "markers",
         "name": "zsub_100",
         "showlegend": false,
         "text": [
          "sub_100"
         ],
         "type": "scatter",
         "x": [
          720
         ],
         "y": [
          -537
         ]
        },
        {
         "hoverinfo": "skip",
         "mode": "text",
         "name": "sub_100",
         "showlegend": false,
         "text": [
          "100"
         ],
         "textposition": "middle center",
         "type": "scatter",
         "x": [
          720
         ],
         "y": [
          -537
         ]
        },
        {
         "marker": {
          "color": "PaleTurquoise",
          "line": {
           "color": "black",
           "width": 1
          },
          "showscale": false,
          "size": 25
         },
         "mode": "markers",
         "name": "zsub_101",
         "showlegend": false,
         "text": [
          "sub_101"
         ],
         "type": "scatter",
         "x": [
          596
         ],
         "y": [
          -535
         ]
        },
        {
         "hoverinfo": "skip",
         "mode": "text",
         "name": "sub_101",
         "showlegend": false,
         "text": [
          "101"
         ],
         "textposition": "middle center",
         "type": "scatter",
         "x": [
          596
         ],
         "y": [
          -535
         ]
        },
        {
         "marker": {
          "color": "PaleTurquoise",
          "line": {
           "color": "black",
           "width": 1
          },
          "showscale": false,
          "size": 25
         },
         "mode": "markers",
         "name": "zsub_102",
         "showlegend": false,
         "text": [
          "sub_102"
         ],
         "type": "scatter",
         "x": [
          860
         ],
         "y": [
          -537
         ]
        },
        {
         "hoverinfo": "skip",
         "mode": "text",
         "name": "sub_102",
         "showlegend": false,
         "text": [
          "102"
         ],
         "textposition": "middle center",
         "type": "scatter",
         "x": [
          860
         ],
         "y": [
          -537
         ]
        },
        {
         "marker": {
          "color": "PaleTurquoise",
          "line": {
           "color": "black",
           "width": 1
          },
          "showscale": false,
          "size": 25
         },
         "mode": "markers",
         "name": "zsub_103",
         "showlegend": false,
         "text": [
          "sub_103"
         ],
         "type": "scatter",
         "x": [
          871
         ],
         "y": [
          -373
         ]
        },
        {
         "hoverinfo": "skip",
         "mode": "text",
         "name": "sub_103",
         "showlegend": false,
         "text": [
          "103"
         ],
         "textposition": "middle center",
         "type": "scatter",
         "x": [
          871
         ],
         "y": [
          -373
         ]
        },
        {
         "marker": {
          "color": "PaleTurquoise",
          "line": {
           "color": "black",
           "width": 1
          },
          "showscale": false,
          "size": 25
         },
         "mode": "markers",
         "name": "zsub_104",
         "showlegend": false,
         "text": [
          "sub_104"
         ],
         "type": "scatter",
         "x": [
          964
         ],
         "y": [
          -377
         ]
        },
        {
         "hoverinfo": "skip",
         "mode": "text",
         "name": "sub_104",
         "showlegend": false,
         "text": [
          "104"
         ],
         "textposition": "middle center",
         "type": "scatter",
         "x": [
          964
         ],
         "y": [
          -377
         ]
        },
        {
         "marker": {
          "color": "PaleTurquoise",
          "line": {
           "color": "black",
           "width": 1
          },
          "showscale": false,
          "size": 25
         },
         "mode": "markers",
         "name": "zsub_105",
         "showlegend": false,
         "text": [
          "sub_105"
         ],
         "type": "scatter",
         "x": [
          961
         ],
         "y": [
          -245
         ]
        },
        {
         "hoverinfo": "skip",
         "mode": "text",
         "name": "sub_105",
         "showlegend": false,
         "text": [
          "105"
         ],
         "textposition": "middle center",
         "type": "scatter",
         "x": [
          961
         ],
         "y": [
          -245
         ]
        },
        {
         "marker": {
          "color": "PaleTurquoise",
          "line": {
           "color": "black",
           "width": 1
          },
          "showscale": false,
          "size": 25
         },
         "mode": "markers",
         "name": "zsub_106",
         "showlegend": false,
         "text": [
          "sub_106"
         ],
         "type": "scatter",
         "x": [
          1067
         ],
         "y": [
          -377
         ]
        },
        {
         "hoverinfo": "skip",
         "mode": "text",
         "name": "sub_106",
         "showlegend": false,
         "text": [
          "106"
         ],
         "textposition": "middle center",
         "type": "scatter",
         "x": [
          1067
         ],
         "y": [
          -377
         ]
        },
        {
         "marker": {
          "color": "PaleTurquoise",
          "line": {
           "color": "black",
           "width": 1
          },
          "showscale": false,
          "size": 25
         },
         "mode": "markers",
         "name": "zsub_107",
         "showlegend": false,
         "text": [
          "sub_107"
         ],
         "type": "scatter",
         "x": [
          1047
         ],
         "y": [
          -444
         ]
        },
        {
         "hoverinfo": "skip",
         "mode": "text",
         "name": "sub_107",
         "showlegend": false,
         "text": [
          "107"
         ],
         "textposition": "middle center",
         "type": "scatter",
         "x": [
          1047
         ],
         "y": [
          -444
         ]
        },
        {
         "marker": {
          "color": "PaleTurquoise",
          "line": {
           "color": "black",
           "width": 1
          },
          "showscale": false,
          "size": 25
         },
         "mode": "markers",
         "name": "zsub_108",
         "showlegend": false,
         "text": [
          "sub_108"
         ],
         "type": "scatter",
         "x": [
          1053
         ],
         "y": [
          -519
         ]
        },
        {
         "hoverinfo": "skip",
         "mode": "text",
         "name": "sub_108",
         "showlegend": false,
         "text": [
          "108"
         ],
         "textposition": "middle center",
         "type": "scatter",
         "x": [
          1053
         ],
         "y": [
          -519
         ]
        },
        {
         "marker": {
          "color": "PaleTurquoise",
          "line": {
           "color": "black",
           "width": 1
          },
          "showscale": false,
          "size": 25
         },
         "mode": "markers",
         "name": "zsub_109",
         "showlegend": false,
         "text": [
          "sub_109"
         ],
         "type": "scatter",
         "x": [
          953
         ],
         "y": [
          -585
         ]
        },
        {
         "hoverinfo": "skip",
         "mode": "text",
         "name": "sub_109",
         "showlegend": false,
         "text": [
          "109"
         ],
         "textposition": "middle center",
         "type": "scatter",
         "x": [
          953
         ],
         "y": [
          -585
         ]
        },
        {
         "marker": {
          "color": "PaleTurquoise",
          "line": {
           "color": "black",
           "width": 1
          },
          "showscale": false,
          "size": 25
         },
         "mode": "markers",
         "name": "zsub_110",
         "showlegend": false,
         "text": [
          "sub_110"
         ],
         "type": "scatter",
         "x": [
          871
         ],
         "y": [
          -600
         ]
        },
        {
         "hoverinfo": "skip",
         "mode": "text",
         "name": "sub_110",
         "showlegend": false,
         "text": [
          "110"
         ],
         "textposition": "middle center",
         "type": "scatter",
         "x": [
          871
         ],
         "y": [
          -600
         ]
        },
        {
         "marker": {
          "color": "PaleTurquoise",
          "line": {
           "color": "black",
           "width": 1
          },
          "showscale": false,
          "size": 25
         },
         "mode": "markers",
         "name": "zsub_111",
         "showlegend": false,
         "text": [
          "sub_111"
         ],
         "type": "scatter",
         "x": [
          1064
         ],
         "y": [
          -585
         ]
        },
        {
         "hoverinfo": "skip",
         "mode": "text",
         "name": "sub_111",
         "showlegend": false,
         "text": [
          "111"
         ],
         "textposition": "middle center",
         "type": "scatter",
         "x": [
          1064
         ],
         "y": [
          -585
         ]
        },
        {
         "marker": {
          "color": "PaleTurquoise",
          "line": {
           "color": "black",
           "width": 1
          },
          "showscale": false,
          "size": 25
         },
         "mode": "markers",
         "name": "zsub_112",
         "showlegend": false,
         "text": [
          "sub_112"
         ],
         "type": "scatter",
         "x": [
          -715
         ],
         "y": [
          178
         ]
        },
        {
         "hoverinfo": "skip",
         "mode": "text",
         "name": "sub_112",
         "showlegend": false,
         "text": [
          "112"
         ],
         "textposition": "middle center",
         "type": "scatter",
         "x": [
          -715
         ],
         "y": [
          178
         ]
        },
        {
         "marker": {
          "color": "PaleTurquoise",
          "line": {
           "color": "black",
           "width": 1
          },
          "showscale": false,
          "size": 25
         },
         "mode": "markers",
         "name": "zsub_113",
         "showlegend": false,
         "text": [
          "sub_113"
         ],
         "type": "scatter",
         "x": [
          -683
         ],
         "y": [
          -53
         ]
        },
        {
         "hoverinfo": "skip",
         "mode": "text",
         "name": "sub_113",
         "showlegend": false,
         "text": [
          "113"
         ],
         "textposition": "middle center",
         "type": "scatter",
         "x": [
          -683
         ],
         "y": [
          -53
         ]
        },
        {
         "marker": {
          "color": "PaleTurquoise",
          "line": {
           "color": "black",
           "width": 1
          },
          "showscale": false,
          "size": 25
         },
         "mode": "markers",
         "name": "zsub_114",
         "showlegend": false,
         "text": [
          "sub_114"
         ],
         "type": "scatter",
         "x": [
          -665
         ],
         "y": [
          -122
         ]
        },
        {
         "hoverinfo": "skip",
         "mode": "text",
         "name": "sub_114",
         "showlegend": false,
         "text": [
          "114"
         ],
         "textposition": "middle center",
         "type": "scatter",
         "x": [
          -665
         ],
         "y": [
          -122
         ]
        },
        {
         "marker": {
          "color": "PaleTurquoise",
          "line": {
           "color": "black",
           "width": 1
          },
          "showscale": false,
          "size": 25
         },
         "mode": "markers",
         "name": "zsub_115",
         "showlegend": false,
         "text": [
          "sub_115"
         ],
         "type": "scatter",
         "x": [
          671
         ],
         "y": [
          -42
         ]
        },
        {
         "hoverinfo": "skip",
         "mode": "text",
         "name": "sub_115",
         "showlegend": false,
         "text": [
          "115"
         ],
         "textposition": "middle center",
         "type": "scatter",
         "x": [
          671
         ],
         "y": [
          -42
         ]
        },
        {
         "marker": {
          "color": "PaleTurquoise",
          "line": {
           "color": "black",
           "width": 1
          },
          "showscale": false,
          "size": 25
         },
         "mode": "markers",
         "name": "zsub_116",
         "showlegend": false,
         "text": [
          "sub_116"
         ],
         "type": "scatter",
         "x": [
          -625
         ],
         "y": [
          592
         ]
        },
        {
         "hoverinfo": "skip",
         "mode": "text",
         "name": "sub_116",
         "showlegend": false,
         "text": [
          "116"
         ],
         "textposition": "middle center",
         "type": "scatter",
         "x": [
          -625
         ],
         "y": [
          592
         ]
        },
        {
         "marker": {
          "color": "PaleTurquoise",
          "line": {
           "color": "black",
           "width": 1
          },
          "showscale": false,
          "size": 25
         },
         "mode": "markers",
         "name": "zsub_117",
         "showlegend": false,
         "text": [
          "sub_117"
         ],
         "type": "scatter",
         "x": [
          299
         ],
         "y": [
          -172
         ]
        },
        {
         "hoverinfo": "skip",
         "mode": "text",
         "name": "sub_117",
         "showlegend": false,
         "text": [
          "117"
         ],
         "textposition": "middle center",
         "type": "scatter",
         "x": [
          299
         ],
         "y": [
          -172
         ]
        }
       ],
       "layout": {
        "height": 720,
        "margin": {
         "b": 0,
         "l": 0,
         "pad": 0,
         "r": 0,
         "t": 0
        },
        "plot_bgcolor": "rgba(0,0,0,0)",
        "showlegend": false,
        "template": {
         "data": {
          "bar": [
           {
            "error_x": {
             "color": "#2a3f5f"
            },
            "error_y": {
             "color": "#2a3f5f"
            },
            "marker": {
             "line": {
              "color": "#E5ECF6",
              "width": 0.5
             },
             "pattern": {
              "fillmode": "overlay",
              "size": 10,
              "solidity": 0.2
             }
            },
            "type": "bar"
           }
          ],
          "barpolar": [
           {
            "marker": {
             "line": {
              "color": "#E5ECF6",
              "width": 0.5
             },
             "pattern": {
              "fillmode": "overlay",
              "size": 10,
              "solidity": 0.2
             }
            },
            "type": "barpolar"
           }
          ],
          "carpet": [
           {
            "aaxis": {
             "endlinecolor": "#2a3f5f",
             "gridcolor": "white",
             "linecolor": "white",
             "minorgridcolor": "white",
             "startlinecolor": "#2a3f5f"
            },
            "baxis": {
             "endlinecolor": "#2a3f5f",
             "gridcolor": "white",
             "linecolor": "white",
             "minorgridcolor": "white",
             "startlinecolor": "#2a3f5f"
            },
            "type": "carpet"
           }
          ],
          "choropleth": [
           {
            "colorbar": {
             "outlinewidth": 0,
             "ticks": ""
            },
            "type": "choropleth"
           }
          ],
          "contour": [
           {
            "colorbar": {
             "outlinewidth": 0,
             "ticks": ""
            },
            "colorscale": [
             [
              0,
              "#0d0887"
             ],
             [
              0.1111111111111111,
              "#46039f"
             ],
             [
              0.2222222222222222,
              "#7201a8"
             ],
             [
              0.3333333333333333,
              "#9c179e"
             ],
             [
              0.4444444444444444,
              "#bd3786"
             ],
             [
              0.5555555555555556,
              "#d8576b"
             ],
             [
              0.6666666666666666,
              "#ed7953"
             ],
             [
              0.7777777777777778,
              "#fb9f3a"
             ],
             [
              0.8888888888888888,
              "#fdca26"
             ],
             [
              1,
              "#f0f921"
             ]
            ],
            "type": "contour"
           }
          ],
          "contourcarpet": [
           {
            "colorbar": {
             "outlinewidth": 0,
             "ticks": ""
            },
            "type": "contourcarpet"
           }
          ],
          "heatmap": [
           {
            "colorbar": {
             "outlinewidth": 0,
             "ticks": ""
            },
            "colorscale": [
             [
              0,
              "#0d0887"
             ],
             [
              0.1111111111111111,
              "#46039f"
             ],
             [
              0.2222222222222222,
              "#7201a8"
             ],
             [
              0.3333333333333333,
              "#9c179e"
             ],
             [
              0.4444444444444444,
              "#bd3786"
             ],
             [
              0.5555555555555556,
              "#d8576b"
             ],
             [
              0.6666666666666666,
              "#ed7953"
             ],
             [
              0.7777777777777778,
              "#fb9f3a"
             ],
             [
              0.8888888888888888,
              "#fdca26"
             ],
             [
              1,
              "#f0f921"
             ]
            ],
            "type": "heatmap"
           }
          ],
          "heatmapgl": [
           {
            "colorbar": {
             "outlinewidth": 0,
             "ticks": ""
            },
            "colorscale": [
             [
              0,
              "#0d0887"
             ],
             [
              0.1111111111111111,
              "#46039f"
             ],
             [
              0.2222222222222222,
              "#7201a8"
             ],
             [
              0.3333333333333333,
              "#9c179e"
             ],
             [
              0.4444444444444444,
              "#bd3786"
             ],
             [
              0.5555555555555556,
              "#d8576b"
             ],
             [
              0.6666666666666666,
              "#ed7953"
             ],
             [
              0.7777777777777778,
              "#fb9f3a"
             ],
             [
              0.8888888888888888,
              "#fdca26"
             ],
             [
              1,
              "#f0f921"
             ]
            ],
            "type": "heatmapgl"
           }
          ],
          "histogram": [
           {
            "marker": {
             "pattern": {
              "fillmode": "overlay",
              "size": 10,
              "solidity": 0.2
             }
            },
            "type": "histogram"
           }
          ],
          "histogram2d": [
           {
            "colorbar": {
             "outlinewidth": 0,
             "ticks": ""
            },
            "colorscale": [
             [
              0,
              "#0d0887"
             ],
             [
              0.1111111111111111,
              "#46039f"
             ],
             [
              0.2222222222222222,
              "#7201a8"
             ],
             [
              0.3333333333333333,
              "#9c179e"
             ],
             [
              0.4444444444444444,
              "#bd3786"
             ],
             [
              0.5555555555555556,
              "#d8576b"
             ],
             [
              0.6666666666666666,
              "#ed7953"
             ],
             [
              0.7777777777777778,
              "#fb9f3a"
             ],
             [
              0.8888888888888888,
              "#fdca26"
             ],
             [
              1,
              "#f0f921"
             ]
            ],
            "type": "histogram2d"
           }
          ],
          "histogram2dcontour": [
           {
            "colorbar": {
             "outlinewidth": 0,
             "ticks": ""
            },
            "colorscale": [
             [
              0,
              "#0d0887"
             ],
             [
              0.1111111111111111,
              "#46039f"
             ],
             [
              0.2222222222222222,
              "#7201a8"
             ],
             [
              0.3333333333333333,
              "#9c179e"
             ],
             [
              0.4444444444444444,
              "#bd3786"
             ],
             [
              0.5555555555555556,
              "#d8576b"
             ],
             [
              0.6666666666666666,
              "#ed7953"
             ],
             [
              0.7777777777777778,
              "#fb9f3a"
             ],
             [
              0.8888888888888888,
              "#fdca26"
             ],
             [
              1,
              "#f0f921"
             ]
            ],
            "type": "histogram2dcontour"
           }
          ],
          "mesh3d": [
           {
            "colorbar": {
             "outlinewidth": 0,
             "ticks": ""
            },
            "type": "mesh3d"
           }
          ],
          "parcoords": [
           {
            "line": {
             "colorbar": {
              "outlinewidth": 0,
              "ticks": ""
             }
            },
            "type": "parcoords"
           }
          ],
          "pie": [
           {
            "automargin": true,
            "type": "pie"
           }
          ],
          "scatter": [
           {
            "fillpattern": {
             "fillmode": "overlay",
             "size": 10,
             "solidity": 0.2
            },
            "type": "scatter"
           }
          ],
          "scatter3d": [
           {
            "line": {
             "colorbar": {
              "outlinewidth": 0,
              "ticks": ""
             }
            },
            "marker": {
             "colorbar": {
              "outlinewidth": 0,
              "ticks": ""
             }
            },
            "type": "scatter3d"
           }
          ],
          "scattercarpet": [
           {
            "marker": {
             "colorbar": {
              "outlinewidth": 0,
              "ticks": ""
             }
            },
            "type": "scattercarpet"
           }
          ],
          "scattergeo": [
           {
            "marker": {
             "colorbar": {
              "outlinewidth": 0,
              "ticks": ""
             }
            },
            "type": "scattergeo"
           }
          ],
          "scattergl": [
           {
            "marker": {
             "colorbar": {
              "outlinewidth": 0,
              "ticks": ""
             }
            },
            "type": "scattergl"
           }
          ],
          "scattermapbox": [
           {
            "marker": {
             "colorbar": {
              "outlinewidth": 0,
              "ticks": ""
             }
            },
            "type": "scattermapbox"
           }
          ],
          "scatterpolar": [
           {
            "marker": {
             "colorbar": {
              "outlinewidth": 0,
              "ticks": ""
             }
            },
            "type": "scatterpolar"
           }
          ],
          "scatterpolargl": [
           {
            "marker": {
             "colorbar": {
              "outlinewidth": 0,
              "ticks": ""
             }
            },
            "type": "scatterpolargl"
           }
          ],
          "scatterternary": [
           {
            "marker": {
             "colorbar": {
              "outlinewidth": 0,
              "ticks": ""
             }
            },
            "type": "scatterternary"
           }
          ],
          "surface": [
           {
            "colorbar": {
             "outlinewidth": 0,
             "ticks": ""
            },
            "colorscale": [
             [
              0,
              "#0d0887"
             ],
             [
              0.1111111111111111,
              "#46039f"
             ],
             [
              0.2222222222222222,
              "#7201a8"
             ],
             [
              0.3333333333333333,
              "#9c179e"
             ],
             [
              0.4444444444444444,
              "#bd3786"
             ],
             [
              0.5555555555555556,
              "#d8576b"
             ],
             [
              0.6666666666666666,
              "#ed7953"
             ],
             [
              0.7777777777777778,
              "#fb9f3a"
             ],
             [
              0.8888888888888888,
              "#fdca26"
             ],
             [
              1,
              "#f0f921"
             ]
            ],
            "type": "surface"
           }
          ],
          "table": [
           {
            "cells": {
             "fill": {
              "color": "#EBF0F8"
             },
             "line": {
              "color": "white"
             }
            },
            "header": {
             "fill": {
              "color": "#C8D4E3"
             },
             "line": {
              "color": "white"
             }
            },
            "type": "table"
           }
          ]
         },
         "layout": {
          "annotationdefaults": {
           "arrowcolor": "#2a3f5f",
           "arrowhead": 0,
           "arrowwidth": 1
          },
          "autotypenumbers": "strict",
          "coloraxis": {
           "colorbar": {
            "outlinewidth": 0,
            "ticks": ""
           }
          },
          "colorscale": {
           "diverging": [
            [
             0,
             "#8e0152"
            ],
            [
             0.1,
             "#c51b7d"
            ],
            [
             0.2,
             "#de77ae"
            ],
            [
             0.3,
             "#f1b6da"
            ],
            [
             0.4,
             "#fde0ef"
            ],
            [
             0.5,
             "#f7f7f7"
            ],
            [
             0.6,
             "#e6f5d0"
            ],
            [
             0.7,
             "#b8e186"
            ],
            [
             0.8,
             "#7fbc41"
            ],
            [
             0.9,
             "#4d9221"
            ],
            [
             1,
             "#276419"
            ]
           ],
           "sequential": [
            [
             0,
             "#0d0887"
            ],
            [
             0.1111111111111111,
             "#46039f"
            ],
            [
             0.2222222222222222,
             "#7201a8"
            ],
            [
             0.3333333333333333,
             "#9c179e"
            ],
            [
             0.4444444444444444,
             "#bd3786"
            ],
            [
             0.5555555555555556,
             "#d8576b"
            ],
            [
             0.6666666666666666,
             "#ed7953"
            ],
            [
             0.7777777777777778,
             "#fb9f3a"
            ],
            [
             0.8888888888888888,
             "#fdca26"
            ],
            [
             1,
             "#f0f921"
            ]
           ],
           "sequentialminus": [
            [
             0,
             "#0d0887"
            ],
            [
             0.1111111111111111,
             "#46039f"
            ],
            [
             0.2222222222222222,
             "#7201a8"
            ],
            [
             0.3333333333333333,
             "#9c179e"
            ],
            [
             0.4444444444444444,
             "#bd3786"
            ],
            [
             0.5555555555555556,
             "#d8576b"
            ],
            [
             0.6666666666666666,
             "#ed7953"
            ],
            [
             0.7777777777777778,
             "#fb9f3a"
            ],
            [
             0.8888888888888888,
             "#fdca26"
            ],
            [
             1,
             "#f0f921"
            ]
           ]
          },
          "colorway": [
           "#636efa",
           "#EF553B",
           "#00cc96",
           "#ab63fa",
           "#FFA15A",
           "#19d3f3",
           "#FF6692",
           "#B6E880",
           "#FF97FF",
           "#FECB52"
          ],
          "font": {
           "color": "#2a3f5f"
          },
          "geo": {
           "bgcolor": "white",
           "lakecolor": "white",
           "landcolor": "#E5ECF6",
           "showlakes": true,
           "showland": true,
           "subunitcolor": "white"
          },
          "hoverlabel": {
           "align": "left"
          },
          "hovermode": "closest",
          "mapbox": {
           "style": "light"
          },
          "paper_bgcolor": "white",
          "plot_bgcolor": "#E5ECF6",
          "polar": {
           "angularaxis": {
            "gridcolor": "white",
            "linecolor": "white",
            "ticks": ""
           },
           "bgcolor": "#E5ECF6",
           "radialaxis": {
            "gridcolor": "white",
            "linecolor": "white",
            "ticks": ""
           }
          },
          "scene": {
           "xaxis": {
            "backgroundcolor": "#E5ECF6",
            "gridcolor": "white",
            "gridwidth": 2,
            "linecolor": "white",
            "showbackground": true,
            "ticks": "",
            "zerolinecolor": "white"
           },
           "yaxis": {
            "backgroundcolor": "#E5ECF6",
            "gridcolor": "white",
            "gridwidth": 2,
            "linecolor": "white",
            "showbackground": true,
            "ticks": "",
            "zerolinecolor": "white"
           },
           "zaxis": {
            "backgroundcolor": "#E5ECF6",
            "gridcolor": "white",
            "gridwidth": 2,
            "linecolor": "white",
            "showbackground": true,
            "ticks": "",
            "zerolinecolor": "white"
           }
          },
          "shapedefaults": {
           "line": {
            "color": "#2a3f5f"
           }
          },
          "ternary": {
           "aaxis": {
            "gridcolor": "white",
            "linecolor": "white",
            "ticks": ""
           },
           "baxis": {
            "gridcolor": "white",
            "linecolor": "white",
            "ticks": ""
           },
           "bgcolor": "#E5ECF6",
           "caxis": {
            "gridcolor": "white",
            "linecolor": "white",
            "ticks": ""
           }
          },
          "title": {
           "x": 0.05
          },
          "xaxis": {
           "automargin": true,
           "gridcolor": "white",
           "linecolor": "white",
           "ticks": "",
           "title": {
            "standoff": 15
           },
           "zerolinecolor": "white",
           "zerolinewidth": 2
          },
          "yaxis": {
           "automargin": true,
           "gridcolor": "white",
           "linecolor": "white",
           "ticks": "",
           "title": {
            "standoff": 15
           },
           "zerolinecolor": "white",
           "zerolinewidth": 2
          }
         }
        },
        "width": 1280,
        "xaxis": {
         "visible": false
        },
        "yaxis": {
         "visible": false
        }
       }
      },
      "text/html": [
       "<div>                            <div id=\"f6b1afff-19bb-4783-92cc-369ea822f228\" class=\"plotly-graph-div\" style=\"height:720px; width:1280px;\"></div>            <script type=\"text/javascript\">                require([\"plotly\"], function(Plotly) {                    window.PLOTLYENV=window.PLOTLYENV || {};                                    if (document.getElementById(\"f6b1afff-19bb-4783-92cc-369ea822f228\")) {                    Plotly.newPlot(                        \"f6b1afff-19bb-4783-92cc-369ea822f228\",                        [{\"hoverinfo\":\"skip\",\"line\":{\"color\":\"rgb(8,81,156)\"},\"name\":\"a0_1_0\",\"showlegend\":false,\"x\":[-1067.0,-940.0],\"y\":[600.0,600.0],\"type\":\"scatter\"},{\"hoverinfo\":\"skip\",\"marker\":{\"color\":\"red\",\"showscale\":false,\"size\":10},\"name\":\"a_bus__or_0_1_0\",\"showlegend\":false,\"x\":[-1052.0],\"y\":[600.0],\"type\":\"scatter\"},{\"hoverinfo\":\"skip\",\"marker\":{\"color\":\"red\",\"showscale\":false,\"size\":10},\"name\":\"a_bus__ex_0_1_0\",\"showlegend\":false,\"x\":[-955.0],\"y\":[600.0],\"type\":\"scatter\"},{\"hoverinfo\":\"skip\",\"marker\":{\"color\":\"rgb(8,81,156)\",\"showscale\":false,\"size\":10,\"symbol\":\"triangle-left\"},\"name\":\"a_->_0_1_0\",\"showlegend\":false,\"x\":[-1037.0,-1042.0],\"y\":[600.0,600.0],\"type\":\"scatter\"},{\"hoverinfo\":\"skip\",\"line\":{\"color\":\"rgb(33,113,181)\"},\"name\":\"a0_2_1\",\"showlegend\":false,\"x\":[-1067.0,-1006.0],\"y\":[600.0,524.0],\"type\":\"scatter\"},{\"hoverinfo\":\"skip\",\"marker\":{\"color\":\"red\",\"showscale\":false,\"size\":10},\"name\":\"a_bus__or_0_2_1\",\"showlegend\":false,\"x\":[-1057.6108154585404],\"y\":[588.3019995876896],\"type\":\"scatter\"},{\"hoverinfo\":\"skip\",\"marker\":{\"color\":\"red\",\"showscale\":false,\"size\":10},\"name\":\"a_bus__ex_0_2_1\",\"showlegend\":false,\"x\":[-1015.3891845414597],\"y\":[535.6980004123104],\"type\":\"scatter\"},{\"hoverinfo\":\"skip\",\"marker\":{\"color\":\"rgb(33,113,181)\",\"showscale\":false,\"size\":10,\"symbol\":\"triangle-nw\"},\"name\":\"a_->_0_2_1\",\"showlegend\":false,\"x\":[-1048.2216309170806,-1051.3513590975672],\"y\":[576.6039991753792,580.5033326461493],\"type\":\"scatter\"},{\"hoverinfo\":\"skip\",\"line\":{\"color\":\"rgb(8,81,156)\"},\"name\":\"a10_11_2\",\"showlegend\":false,\"x\":[-847.0,-705.0],\"y\":[465.0,505.0],\"type\":\"scatter\"},{\"hoverinfo\":\"skip\",\"marker\":{\"color\":\"red\",\"showscale\":false,\"size\":10},\"name\":\"a_bus__or_10_11_2\",\"showlegend\":false,\"x\":[-832.5618933723256],\"y\":[469.06707228948574],\"type\":\"scatter\"},{\"hoverinfo\":\"skip\",\"marker\":{\"color\":\"red\",\"showscale\":false,\"size\":10},\"name\":\"a_bus__ex_10_11_2\",\"showlegend\":false,\"x\":[-719.4381066276744],\"y\":[500.93292771051426],\"type\":\"scatter\"},{\"hoverinfo\":\"skip\",\"marker\":{\"color\":\"rgb(8,81,156)\",\"showscale\":false,\"size\":10,\"symbol\":\"triangle-ne\"},\"name\":\"a_->_10_11_2\",\"showlegend\":false,\"x\":[-818.1237867446512,-822.9364889538759],\"y\":[473.13414457897153,471.7784538158096],\"type\":\"scatter\"},{\"hoverinfo\":\"skip\",\"line\":{\"color\":\"rgb(8,48,107)\"},\"name\":\"a69_70_3\",\"showlegend\":false,\"x\":[160.0,93.0],\"y\":[41.0,124.0],\"type\":\"scatter\"},{\"hoverinfo\":\"skip\",\"marker\":{\"color\":\"red\",\"showscale\":false,\"size\":10},\"name\":\"a_bus__or_69_70_3\",\"showlegend\":false,\"x\":[150.57821700915025],\"y\":[52.671761018515355],\"type\":\"scatter\"},{\"hoverinfo\":\"skip\",\"marker\":{\"color\":\"red\",\"showscale\":false,\"size\":10},\"name\":\"a_bus__ex_69_70_3\",\"showlegend\":false,\"x\":[102.42178299084975],\"y\":[112.32823898148465],\"type\":\"scatter\"},{\"hoverinfo\":\"skip\",\"marker\":{\"color\":\"rgb(8,48,107)\",\"showscale\":false,\"size\":10,\"symbol\":\"triangle-se\"},\"name\":\"a_->_69_70_3\",\"showlegend\":false,\"x\":[141.1564340183005,144.29702834858375],\"y\":[64.34352203703071,60.452935030858924],\"type\":\"scatter\"},{\"hoverinfo\":\"skip\",\"line\":{\"color\":\"rgb(8,48,107)\"},\"name\":\"a23_71_4\",\"showlegend\":false,\"x\":[-49.0,-3.0],\"y\":[43.0,120.0],\"type\":\"scatter\"},{\"hoverinfo\":\"skip\",\"marker\":{\"color\":\"red\",\"showscale\":false,\"size\":10},\"name\":\"a_bus__or_23_71_4\",\"showlegend\":false,\"x\":[-41.30717121810869],\"y\":[55.87712643925285],\"type\":\"scatter\"},{\"hoverinfo\":\"skip\",\"marker\":{\"color\":\"red\",\"showscale\":false,\"size\":10},\"name\":\"a_bus__ex_23_71_4\",\"showlegend\":false,\"x\":[-10.692828781891311],\"y\":[107.12287356074715],\"type\":\"scatter\"},{\"hoverinfo\":\"skip\",\"marker\":{\"color\":\"rgb(8,48,107)\",\"showscale\":false,\"size\":10,\"symbol\":\"triangle-ne\"},\"name\":\"a_->_23_71_4\",\"showlegend\":false,\"x\":[-33.61434243621738,-36.17861869684781],\"y\":[68.7542528785057,64.46187739875475],\"type\":\"scatter\"},{\"hoverinfo\":\"skip\",\"line\":{\"color\":\"rgb(8,48,107)\"},\"name\":\"a70_71_5\",\"showlegend\":false,\"x\":[93.0,-3.0],\"y\":[124.0,120.0],\"type\":\"scatter\"},{\"hoverinfo\":\"skip\",\"marker\":{\"color\":\"red\",\"showscale\":false,\"size\":10},\"name\":\"a_bus__or_70_71_5\",\"showlegend\":false,\"x\":[78.01300390361472],\"y\":[123.37554182931729],\"type\":\"scatter\"},{\"hoverinfo\":\"skip\",\"marker\":{\"color\":\"red\",\"showscale\":false,\"size\":10},\"name\":\"a_bus__ex_70_71_5\",\"showlegend\":false,\"x\":[11.98699609638528],\"y\":[120.62445817068271],\"type\":\"scatter\"},{\"hoverinfo\":\"skip\",\"marker\":{\"color\":\"rgb(8,48,107)\",\"showscale\":false,\"size\":10,\"symbol\":\"triangle-right\"},\"name\":\"a_->_70_71_5\",\"showlegend\":false,\"x\":[63.02600780722945,68.02167317269121],\"y\":[122.75108365863457,122.95923638219547],\"type\":\"scatter\"},{\"hoverinfo\":\"skip\",\"line\":{\"color\":\"rgb(253,141,60)\"},\"name\":\"a70_72_6\",\"showlegend\":false,\"x\":[93.0,207.0],\"y\":[124.0,107.0],\"type\":\"scatter\"},{\"hoverinfo\":\"skip\",\"marker\":{\"color\":\"red\",\"showscale\":false,\"size\":10},\"name\":\"a_bus__or_70_72_6\",\"showlegend\":false,\"x\":[107.83594897570713],\"y\":[121.7876216439735],\"type\":\"scatter\"},{\"hoverinfo\":\"skip\",\"marker\":{\"color\":\"red\",\"showscale\":false,\"size\":10},\"name\":\"a_bus__ex_70_72_6\",\"showlegend\":false,\"x\":[192.16405102429286],\"y\":[109.2123783560265],\"type\":\"scatter\"},{\"hoverinfo\":\"skip\",\"marker\":{\"color\":\"rgb(253,141,60)\",\"showscale\":false,\"size\":10,\"symbol\":\"triangle-right\"},\"name\":\"a_->_70_72_6\",\"showlegend\":false,\"x\":[122.67189795141427,117.72658162617856],\"y\":[119.57524328794699,120.31270273995582],\"type\":\"scatter\"},{\"hoverinfo\":\"skip\",\"line\":{\"color\":\"rgb(33,113,181)\"},\"name\":\"a69_73_7\",\"showlegend\":false,\"x\":[160.0,69.0],\"y\":[41.0,-133.0],\"type\":\"scatter\"},{\"hoverinfo\":\"skip\",\"marker\":{\"color\":\"red\",\"showscale\":false,\"size\":10},\"name\":\"a_bus__or_69_73_7\",\"showlegend\":false,\"x\":[153.04845987890144],\"y\":[27.708044164053316],\"type\":\"scatter\"},{\"hoverinfo\":\"skip\",\"marker\":{\"color\":\"red\",\"showscale\":false,\"size\":10},\"name\":\"a_bus__ex_69_73_7\",\"showlegend\":false,\"x\":[75.95154012109856],\"y\":[-119.70804416405332],\"type\":\"scatter\"},{\"hoverinfo\":\"skip\",\"marker\":{\"color\":\"rgb(33,113,181)\",\"showscale\":false,\"size\":10,\"symbol\":\"triangle-sw\"},\"name\":\"a_->_69_73_7\",\"showlegend\":false,\"x\":[146.09691975780288,148.41409979816908],\"y\":[14.416088328106632,18.846740273422192],\"type\":\"scatter\"},{\"hoverinfo\":\"skip\",\"line\":{\"color\":\"rgb(8,81,156)\"},\"name\":\"a69_74_8\",\"showlegend\":false,\"x\":[160.0,160.0],\"y\":[41.0,-207.0],\"type\":\"scatter\"},{\"hoverinfo\":\"skip\",\"marker\":{\"color\":\"red\",\"showscale\":false,\"size\":10},\"name\":\"a_bus__or_69_74_8\",\"showlegend\":false,\"x\":[160.0],\"y\":[26.0],\"type\":\"scatter\"},{\"hoverinfo\":\"skip\",\"marker\":{\"color\":\"red\",\"showscale\":false,\"size\":10},\"name\":\"a_bus__ex_69_74_8\",\"showlegend\":false,\"x\":[160.0],\"y\":[-192.0],\"type\":\"scatter\"},{\"hoverinfo\":\"skip\",\"marker\":{\"color\":\"rgb(8,81,156)\",\"showscale\":false,\"size\":10,\"symbol\":\"triangle-down\"},\"name\":\"a_->_69_74_8\",\"showlegend\":false,\"x\":[160.0,160.0],\"y\":[11.0,16.0],\"type\":\"scatter\"},{\"hoverinfo\":\"skip\",\"line\":{\"color\":\"rgb(8,48,107)\"},\"name\":\"a68_74_9\",\"showlegend\":false,\"x\":[485.0,160.0],\"y\":[51.0,-207.0],\"type\":\"scatter\"},{\"hoverinfo\":\"skip\",\"marker\":{\"color\":\"red\",\"showscale\":false,\"size\":10},\"name\":\"a_bus__or_68_74_9\",\"showlegend\":false,\"x\":[473.2517841257796],\"y\":[41.673724013695775],\"type\":\"scatter\"},{\"hoverinfo\":\"skip\",\"marker\":{\"color\":\"red\",\"showscale\":false,\"size\":10},\"name\":\"a_bus__ex_68_74_9\",\"showlegend\":false,\"x\":[171.74821587422045],\"y\":[-197.6737240136958],\"type\":\"scatter\"},{\"hoverinfo\":\"skip\",\"marker\":{\"color\":\"rgb(8,48,107)\",\"showscale\":false,\"size\":10,\"symbol\":\"triangle-sw\"},\"name\":\"a_->_68_74_9\",\"showlegend\":false,\"x\":[461.5035682515591,465.4196402096326],\"y\":[32.34744802739155,35.45620668949296],\"type\":\"scatter\"},{\"hoverinfo\":\"skip\",\"line\":{\"color\":\"rgb(8,81,156)\"},\"name\":\"a73_74_10\",\"showlegend\":false,\"x\":[69.0,160.0],\"y\":[-133.0,-207.0],\"type\":\"scatter\"},{\"hoverinfo\":\"skip\",\"marker\":{\"color\":\"red\",\"showscale\":false,\"size\":10},\"name\":\"a_bus__or_73_74_10\",\"showlegend\":false,\"x\":[80.63779714158323],\"y\":[-142.46370317007867],\"type\":\"scatter\"},{\"hoverinfo\":\"skip\",\"marker\":{\"color\":\"red\",\"showscale\":false,\"size\":10},\"name\":\"a_bus__ex_73_74_10\",\"showlegend\":false,\"x\":[148.36220285841677],\"y\":[-197.53629682992133],\"type\":\"scatter\"},{\"hoverinfo\":\"skip\",\"marker\":{\"color\":\"rgb(8,81,156)\",\"showscale\":false,\"size\":10,\"symbol\":\"triangle-nw\"},\"name\":\"a_->_73_74_10\",\"showlegend\":false,\"x\":[92.27559428316646,88.39632856930538],\"y\":[-151.92740634015735,-148.7728386167978],\"type\":\"scatter\"},{\"hoverinfo\":\"skip\",\"line\":{\"color\":\"rgb(8,81,156)\"},\"name\":\"a75_76_11\",\"showlegend\":false,\"x\":[398.0,464.0],\"y\":[-207.0,-262.0],\"type\":\"scatter\"},{\"hoverinfo\":\"skip\",\"marker\":{\"color\":\"red\",\"showscale\":false,\"size\":10},\"name\":\"a_bus__or_75_76_11\",\"showlegend\":false,\"x\":[409.5233191939606],\"y\":[-216.6027659949672],\"type\":\"scatter\"},{\"hoverinfo\":\"skip\",\"marker\":{\"color\":\"red\",\"showscale\":false,\"size\":10},\"name\":\"a_bus__ex_75_76_11\",\"showlegend\":false,\"x\":[452.4766808060394],\"y\":[-252.3972340050328],\"type\":\"scatter\"},{\"hoverinfo\":\"skip\",\"marker\":{\"color\":\"rgb(8,81,156)\",\"showscale\":false,\"size\":10,\"symbol\":\"triangle-nw\"},\"name\":\"a_->_75_76_11\",\"showlegend\":false,\"x\":[421.0466383879213,417.2055319899344],\"y\":[-226.2055319899344,-223.004609991612],\"type\":\"scatter\"},{\"hoverinfo\":\"skip\",\"line\":{\"color\":\"rgb(8,81,156)\"},\"name\":\"a68_76_12\",\"showlegend\":false,\"x\":[485.0,464.0],\"y\":[51.0,-262.0],\"type\":\"scatter\"},{\"hoverinfo\":\"skip\",\"marker\":{\"color\":\"red\",\"showscale\":false,\"size\":10},\"name\":\"a_bus__or_68_76_12\",\"showlegend\":false,\"x\":[483.9958676986118],\"y\":[36.03364712692806],\"type\":\"scatter\"},{\"hoverinfo\":\"skip\",\"marker\":{\"color\":\"red\",\"showscale\":false,\"size\":10},\"name\":\"a_bus__ex_68_76_12\",\"showlegend\":false,\"x\":[465.0041323013882],\"y\":[-247.03364712692806],\"type\":\"scatter\"},{\"hoverinfo\":\"skip\",\"marker\":{\"color\":\"rgb(8,81,156)\",\"showscale\":false,\"size\":10,\"symbol\":\"triangle-down\"},\"name\":\"a_->_68_76_12\",\"showlegend\":false,\"x\":[482.9917353972236,483.326446164353],\"y\":[21.06729425385612,26.056078544880098],\"type\":\"scatter\"},{\"hoverinfo\":\"skip\",\"line\":{\"color\":\"rgb(8,81,156)\"},\"name\":\"a1_11_13\",\"showlegend\":false,\"x\":[-940.0,-705.0],\"y\":[600.0,505.0],\"type\":\"scatter\"},{\"hoverinfo\":\"skip\",\"marker\":{\"color\":\"red\",\"showscale\":false,\"size\":10},\"name\":\"a_bus__or_1_11_13\",\"showlegend\":false,\"x\":[-926.0933490144376],\"y\":[594.3781623675386],\"type\":\"scatter\"},{\"hoverinfo\":\"skip\",\"marker\":{\"color\":\"red\",\"showscale\":false,\"size\":10},\"name\":\"a_bus__ex_1_11_13\",\"showlegend\":false,\"x\":[-718.9066509855624],\"y\":[510.62183763246134],\"type\":\"scatter\"},{\"hoverinfo\":\"skip\",\"marker\":{\"color\":\"rgb(8,81,156)\",\"showscale\":false,\"size\":10,\"symbol\":\"triangle-nw\"},\"name\":\"a_->_1_11_13\",\"showlegend\":false,\"x\":[-912.1866980288753,-916.8222483573961],\"y\":[588.7563247350772,590.6302706125643],\"type\":\"scatter\"},{\"hoverinfo\":\"skip\",\"line\":{\"color\":\"rgb(8,48,107)\"},\"name\":\"a74_76_14\",\"showlegend\":false,\"x\":[160.0,464.0],\"y\":[-207.0,-262.0],\"type\":\"scatter\"},{\"hoverinfo\":\"skip\",\"marker\":{\"color\":\"red\",\"showscale\":false,\"size\":10},\"name\":\"a_bus__or_74_76_14\",\"showlegend\":false,\"x\":[174.76037367013132],\"y\":[-209.6704623416356],\"type\":\"scatter\"},{\"hoverinfo\":\"skip\",\"marker\":{\"color\":\"red\",\"showscale\":false,\"size\":10},\"name\":\"a_bus__ex_74_76_14\",\"showlegend\":false,\"x\":[449.23962632986866],\"y\":[-259.3295376583644],\"type\":\"scatter\"},{\"hoverinfo\":\"skip\",\"marker\":{\"color\":\"rgb(8,48,107)\",\"showscale\":false,\"size\":10,\"symbol\":\"triangle-right\"},\"name\":\"a_->_74_76_14\",\"showlegend\":false,\"x\":[189.52074734026266,184.6006227835522],\"y\":[-212.3409246832712,-211.45077056939266],\"type\":\"scatter\"},{\"hoverinfo\":\"skip\",\"line\":{\"color\":\"rgb(33,113,181)\"},\"name\":\"a76_77_15\",\"showlegend\":false,\"x\":[464.0,514.0],\"y\":[-262.0,-165.0],\"type\":\"scatter\"},{\"hoverinfo\":\"skip\",\"marker\":{\"color\":\"red\",\"showscale\":false,\"size\":10},\"name\":\"a_bus__or_76_77_15\",\"showlegend\":false,\"x\":[470.87264032131355],\"y\":[-248.6670777766517],\"type\":\"scatter\"},{\"hoverinfo\":\"skip\",\"marker\":{\"color\":\"red\",\"showscale\":false,\"size\":10},\"name\":\"a_bus__ex_76_77_15\",\"showlegend\":false,\"x\":[507.12735967868645],\"y\":[-178.3329222233483],\"type\":\"scatter\"},{\"hoverinfo\":\"skip\",\"marker\":{\"color\":\"rgb(33,113,181)\",\"showscale\":false,\"size\":10,\"symbol\":\"triangle-ne\"},\"name\":\"a_->_76_77_15\",\"showlegend\":false,\"x\":[477.7452806426271,475.4544005355226],\"y\":[-235.3341555533034,-239.77846296108615],\"type\":\"scatter\"},{\"hoverinfo\":\"skip\",\"line\":{\"color\":\"rgb(8,81,156)\"},\"name\":\"a77_78_16\",\"showlegend\":false,\"x\":[514.0,547.0],\"y\":[-165.0,-97.0],\"type\":\"scatter\"},{\"hoverinfo\":\"skip\",\"marker\":{\"color\":\"red\",\"showscale\":false,\"size\":10},\"name\":\"a_bus__or_77_78_16\",\"showlegend\":false,\"x\":[520.548971295603],\"y\":[-151.50515005754536],\"type\":\"scatter\"},{\"hoverinfo\":\"skip\",\"marker\":{\"color\":\"red\",\"showscale\":false,\"size\":10},\"name\":\"a_bus__ex_77_78_16\",\"showlegend\":false,\"x\":[540.451028704397],\"y\":[-110.49484994245465],\"type\":\"scatter\"},{\"hoverinfo\":\"skip\",\"marker\":{\"color\":\"rgb(8,81,156)\",\"showscale\":false,\"size\":10,\"symbol\":\"triangle-ne\"},\"name\":\"a_->_77_78_16\",\"showlegend\":false,\"x\":[527.097942591206,524.9149521593383],\"y\":[-138.01030011509073,-142.50858342924226],\"type\":\"scatter\"},{\"hoverinfo\":\"skip\",\"line\":{\"color\":\"rgb(33,113,181)\"},\"name\":\"a76_79_17\",\"showlegend\":false,\"x\":[462.86810933805947,597.8681093380594],\"y\":[-259.2217229206914,-204.22172292069135],\"type\":\"scatter\"},{\"hoverinfo\":\"skip\",\"marker\":{\"color\":\"red\",\"showscale\":false,\"size\":10},\"name\":\"a_bus__or_76_79_17\",\"showlegend\":false,\"x\":[476.7594947346027],\"y\":[-253.56226961098858],\"type\":\"scatter\"},{\"hoverinfo\":\"skip\",\"marker\":{\"color\":\"red\",\"showscale\":false,\"size\":10},\"name\":\"a_bus__ex_76_79_17\",\"showlegend\":false,\"x\":[583.9767239415162],\"y\":[-209.88117623039415],\"type\":\"scatter\"},{\"hoverinfo\":\"skip\",\"marker\":{\"color\":\"rgb(33,113,181)\",\"showscale\":false,\"size\":10,\"symbol\":\"triangle-ne\"},\"name\":\"a_->_76_79_17\",\"showlegend\":false,\"x\":[490.6508801311459,486.02041833229816],\"y\":[-247.90281630128578,-249.78930073785338],\"type\":\"scatter\"},{\"hoverinfo\":\"skip\",\"line\":{\"color\":\"rgb(33,113,181)\"},\"name\":\"a76_79_18\",\"showlegend\":false,\"x\":[465.13189066194053,600.1318906619406],\"y\":[-264.7782770793086,-209.77827707930865],\"type\":\"scatter\"},{\"hoverinfo\":\"skip\",\"marker\":{\"color\":\"red\",\"showscale\":false,\"size\":10},\"name\":\"a_bus__or_76_79_18\",\"showlegend\":false,\"x\":[479.02327605848376],\"y\":[-259.11882376960585],\"type\":\"scatter\"},{\"hoverinfo\":\"skip\",\"marker\":{\"color\":\"red\",\"showscale\":false,\"size\":10},\"name\":\"a_bus__ex_76_79_18\",\"showlegend\":false,\"x\":[586.2405052653974],\"y\":[-215.43773038901145],\"type\":\"scatter\"},{\"hoverinfo\":\"skip\",\"marker\":{\"color\":\"rgb(33,113,181)\",\"showscale\":false,\"size\":10,\"symbol\":\"triangle-ne\"},\"name\":\"a_->_76_79_18\",\"showlegend\":false,\"x\":[492.914661455027,488.2841996561792],\"y\":[-253.45937045990306,-255.34585489647066],\"type\":\"scatter\"},{\"hoverinfo\":\"skip\",\"line\":{\"color\":\"rgb(8,81,156)\"},\"name\":\"a78_79_19\",\"showlegend\":false,\"x\":[547.0,599.0],\"y\":[-97.0,-207.0],\"type\":\"scatter\"},{\"hoverinfo\":\"skip\",\"marker\":{\"color\":\"red\",\"showscale\":false,\"size\":10},\"name\":\"a_bus__or_78_79_19\",\"showlegend\":false,\"x\":[553.4106942534013],\"y\":[-110.56108399757956],\"type\":\"scatter\"},{\"hoverinfo\":\"skip\",\"marker\":{\"color\":\"red\",\"showscale\":false,\"size\":10},\"name\":\"a_bus__ex_78_79_19\",\"showlegend\":false,\"x\":[592.5893057465987],\"y\":[-193.43891600242046],\"type\":\"scatter\"},{\"hoverinfo\":\"skip\",\"marker\":{\"color\":\"rgb(8,81,156)\",\"showscale\":false,\"size\":10,\"symbol\":\"triangle-se\"},\"name\":\"a_->_78_79_19\",\"showlegend\":false,\"x\":[559.8213885068026,557.6844904223354],\"y\":[-124.12216799515912,-119.6018066626326],\"type\":\"scatter\"},{\"hoverinfo\":\"skip\",\"line\":{\"color\":\"rgb(8,81,156)\"},\"name\":\"a76_81_20\",\"showlegend\":false,\"x\":[464.0,393.0],\"y\":[-262.0,-329.0],\"type\":\"scatter\"},{\"hoverinfo\":\"skip\",\"marker\":{\"color\":\"red\",\"showscale\":false,\"size\":10},\"name\":\"a_bus__or_76_81_20\",\"showlegend\":false,\"x\":[453.0905424319941],\"y\":[-272.29484024023094],\"type\":\"scatter\"},{\"hoverinfo\":\"skip\",\"marker\":{\"color\":\"red\",\"showscale\":false,\"size\":10},\"name\":\"a_bus__ex_76_81_20\",\"showlegend\":false,\"x\":[403.9094575680059],\"y\":[-318.70515975976906],\"type\":\"scatter\"},{\"hoverinfo\":\"skip\",\"marker\":{\"color\":\"rgb(8,81,156)\",\"showscale\":false,\"size\":10,\"symbol\":\"triangle-sw\"},\"name\":\"a_->_76_81_20\",\"showlegend\":false,\"x\":[442.18108486398813,445.8175707199901],\"y\":[-282.5896804804619,-279.15806706705155],\"type\":\"scatter\"},{\"hoverinfo\":\"skip\",\"line\":{\"color\":\"rgb(8,81,156)\"},\"name\":\"a81_82_21\",\"showlegend\":false,\"x\":[393.0,149.0],\"y\":[-329.0,-377.0],\"type\":\"scatter\"},{\"hoverinfo\":\"skip\",\"marker\":{\"color\":\"red\",\"showscale\":false,\"size\":10},\"name\":\"a_bus__or_81_82_21\",\"showlegend\":false,\"x\":[378.2820831526332],\"y\":[-331.8953279044],\"type\":\"scatter\"},{\"hoverinfo\":\"skip\",\"marker\":{\"color\":\"red\",\"showscale\":false,\"size\":10},\"name\":\"a_bus__ex_81_82_21\",\"showlegend\":false,\"x\":[163.71791684736678],\"y\":[-374.1046720956],\"type\":\"scatter\"},{\"hoverinfo\":\"skip\",\"marker\":{\"color\":\"rgb(8,81,156)\",\"showscale\":false,\"size\":10,\"symbol\":\"triangle-right\"},\"name\":\"a_->_81_82_21\",\"showlegend\":false,\"x\":[363.56416630526644,368.47013858772203],\"y\":[-334.7906558088,-333.82554650733334],\"type\":\"scatter\"},{\"hoverinfo\":\"skip\",\"line\":{\"color\":\"rgb(33,113,181)\"},\"name\":\"a82_83_22\",\"showlegend\":false,\"x\":[149.0,89.0],\"y\":[-377.0,-418.0],\"type\":\"scatter\"},{\"hoverinfo\":\"skip\",\"marker\":{\"color\":\"red\",\"showscale\":false,\"size\":10},\"name\":\"a_bus__or_82_83_22\",\"showlegend\":false,\"x\":[136.6153303774878],\"y\":[-385.46285757538334],\"type\":\"scatter\"},{\"hoverinfo\":\"skip\",\"marker\":{\"color\":\"red\",\"showscale\":false,\"size\":10},\"name\":\"a_bus__ex_82_83_22\",\"showlegend\":false,\"x\":[101.3846696225122],\"y\":[-409.53714242461666],\"type\":\"scatter\"},{\"hoverinfo\":\"skip\",\"marker\":{\"color\":\"rgb(33,113,181)\",\"showscale\":false,\"size\":10,\"symbol\":\"triangle-sw\"},\"name\":\"a_->_82_83_22\",\"showlegend\":false,\"x\":[124.23066075497557,128.35888396247964],\"y\":[-393.9257151507667,-391.1047626256389],\"type\":\"scatter\"},{\"hoverinfo\":\"skip\",\"line\":{\"color\":\"rgb(33,113,181)\"},\"name\":\"a82_84_23\",\"showlegend\":false,\"x\":[149.0,112.0],\"y\":[-377.0,-484.0],\"type\":\"scatter\"},{\"hoverinfo\":\"skip\",\"marker\":{\"color\":\"red\",\"showscale\":false,\"size\":10},\"name\":\"a_bus__or_82_84_23\",\"showlegend\":false,\"x\":[144.09789228909014],\"y\":[-391.17636554236094],\"type\":\"scatter\"},{\"hoverinfo\":\"skip\",\"marker\":{\"color\":\"red\",\"showscale\":false,\"size\":10},\"name\":\"a_bus__ex_82_84_23\",\"showlegend\":false,\"x\":[116.90210771090986],\"y\":[-469.82363445763906],\"type\":\"scatter\"},{\"hoverinfo\":\"skip\",\"marker\":{\"color\":\"rgb(33,113,181)\",\"showscale\":false,\"size\":10,\"symbol\":\"triangle-sw\"},\"name\":\"a_->_82_84_23\",\"showlegend\":false,\"x\":[139.19578457818028,140.8298204818169],\"y\":[-405.3527310847219,-400.6272759039349],\"type\":\"scatter\"},{\"hoverinfo\":\"skip\",\"line\":{\"color\":\"rgb(8,81,156)\"},\"name\":\"a2_11_24\",\"showlegend\":false,\"x\":[-1006.0,-705.0],\"y\":[524.0,505.0],\"type\":\"scatter\"},{\"hoverinfo\":\"skip\",\"marker\":{\"color\":\"red\",\"showscale\":false,\"size\":10},\"name\":\"a_bus__or_2_11_24\",\"showlegend\":false,\"x\":[-991.0297947676064],\"y\":[523.0550368790183],\"type\":\"scatter\"},{\"hoverinfo\":\"skip\",\"marker\":{\"color\":\"red\",\"showscale\":false,\"size\":10},\"name\":\"a_bus__ex_2_11_24\",\"showlegend\":false,\"x\":[-719.9702052323936],\"y\":[505.94496312098164],\"type\":\"scatter\"},{\"hoverinfo\":\"skip\",\"marker\":{\"color\":\"rgb(8,81,156)\",\"showscale\":false,\"size\":10,\"symbol\":\"triangle-left\"},\"name\":\"a_->_2_11_24\",\"showlegend\":false,\"x\":[-976.0595895352128,-981.0496579460107],\"y\":[522.1100737580367,522.4250614650306],\"type\":\"scatter\"},{\"hoverinfo\":\"skip\",\"line\":{\"color\":\"rgb(33,113,181)\"},\"name\":\"a83_84_25\",\"showlegend\":false,\"x\":[89.0,112.0],\"y\":[-418.0,-484.0],\"type\":\"scatter\"},{\"hoverinfo\":\"skip\",\"marker\":{\"color\":\"red\",\"showscale\":false,\"size\":10},\"name\":\"a_bus__or_83_84_25\",\"showlegend\":false,\"x\":[93.93613252444402],\"y\":[-432.1645542005785],\"type\":\"scatter\"},{\"hoverinfo\":\"skip\",\"marker\":{\"color\":\"red\",\"showscale\":false,\"size\":10},\"name\":\"a_bus__ex_83_84_25\",\"showlegend\":false,\"x\":[107.06386747555598],\"y\":[-469.8354457994215],\"type\":\"scatter\"},{\"hoverinfo\":\"skip\",\"marker\":{\"color\":\"rgb(33,113,181)\",\"showscale\":false,\"size\":10,\"symbol\":\"triangle-se\"},\"name\":\"a_->_83_84_25\",\"showlegend\":false,\"x\":[98.87226504888804,97.22688754074004],\"y\":[-446.329108401157,-441.60759033429747],\"type\":\"scatter\"},{\"hoverinfo\":\"skip\",\"line\":{\"color\":\"rgb(33,113,181)\"},\"name\":\"a84_85_26\",\"showlegend\":false,\"x\":[112.0,118.0],\"y\":[-484.0,-565.0],\"type\":\"scatter\"},{\"hoverinfo\":\"skip\",\"marker\":{\"color\":\"red\",\"showscale\":false,\"size\":10},\"name\":\"a_bus__or_84_85_26\",\"showlegend\":false,\"x\":[113.10807528272967],\"y\":[-498.95901631685064],\"type\":\"scatter\"},{\"hoverinfo\":\"skip\",\"marker\":{\"color\":\"red\",\"showscale\":false,\"size\":10},\"name\":\"a_bus__ex_84_85_26\",\"showlegend\":false,\"x\":[116.89192471727033],\"y\":[-550.0409836831494],\"type\":\"scatter\"},{\"hoverinfo\":\"skip\",\"marker\":{\"color\":\"rgb(33,113,181)\",\"showscale\":false,\"size\":10,\"symbol\":\"triangle-down\"},\"name\":\"a_->_84_85_26\",\"showlegend\":false,\"x\":[114.21615056545936,113.8467921378828],\"y\":[-513.9180326337013,-508.9316938614177],\"type\":\"scatter\"},{\"hoverinfo\":\"skip\",\"line\":{\"color\":\"rgb(33,113,181)\"},\"name\":\"a84_87_27\",\"showlegend\":false,\"x\":[112.0,205.0],\"y\":[-484.0,-484.0],\"type\":\"scatter\"},{\"hoverinfo\":\"skip\",\"marker\":{\"color\":\"red\",\"showscale\":false,\"size\":10},\"name\":\"a_bus__or_84_87_27\",\"showlegend\":false,\"x\":[127.0],\"y\":[-484.0],\"type\":\"scatter\"},{\"hoverinfo\":\"skip\",\"marker\":{\"color\":\"red\",\"showscale\":false,\"size\":10},\"name\":\"a_bus__ex_84_87_27\",\"showlegend\":false,\"x\":[190.0],\"y\":[-484.0],\"type\":\"scatter\"},{\"hoverinfo\":\"skip\",\"marker\":{\"color\":\"rgb(33,113,181)\",\"showscale\":false,\"size\":10,\"symbol\":\"triangle-right\"},\"name\":\"a_->_84_87_27\",\"showlegend\":false,\"x\":[142.0,137.0],\"y\":[-484.0,-484.0],\"type\":\"scatter\"},{\"hoverinfo\":\"skip\",\"line\":{\"color\":\"rgb(8,81,156)\"},\"name\":\"a84_88_28\",\"showlegend\":false,\"x\":[112.0,313.0],\"y\":[-484.0,-489.0],\"type\":\"scatter\"},{\"hoverinfo\":\"skip\",\"marker\":{\"color\":\"red\",\"showscale\":false,\"size\":10},\"name\":\"a_bus__or_84_88_28\",\"showlegend\":false,\"x\":[126.99536117852081],\"y\":[-484.37301893478906],\"type\":\"scatter\"},{\"hoverinfo\":\"skip\",\"marker\":{\"color\":\"red\",\"showscale\":false,\"size\":10},\"name\":\"a_bus__ex_84_88_28\",\"showlegend\":false,\"x\":[298.0046388214792],\"y\":[-488.62698106521094],\"type\":\"scatter\"},{\"hoverinfo\":\"skip\",\"marker\":{\"color\":\"rgb(8,81,156)\",\"showscale\":false,\"size\":10,\"symbol\":\"triangle-right\"},\"name\":\"a_->_84_88_28\",\"showlegend\":false,\"x\":[141.99072235704162,136.992268630868],\"y\":[-484.7460378695782,-484.62169822464847],\"type\":\"scatter\"},{\"hoverinfo\":\"skip\",\"line\":{\"color\":\"rgb(8,81,156)\"},\"name\":\"a87_88_29\",\"showlegend\":false,\"x\":[205.0,313.0],\"y\":[-484.0,-489.0],\"type\":\"scatter\"},{\"hoverinfo\":\"skip\",\"marker\":{\"color\":\"red\",\"showscale\":false,\"size\":10},\"name\":\"a_bus__or_87_88_29\",\"showlegend\":false,\"x\":[219.983950691944],\"y\":[-484.69370142092333],\"type\":\"scatter\"},{\"hoverinfo\":\"skip\",\"marker\":{\"color\":\"red\",\"showscale\":false,\"size\":10},\"name\":\"a_bus__ex_87_88_29\",\"showlegend\":false,\"x\":[298.016049308056],\"y\":[-488.30629857907667],\"type\":\"scatter\"},{\"hoverinfo\":\"skip\",\"marker\":{\"color\":\"rgb(8,81,156)\",\"showscale\":false,\"size\":10,\"symbol\":\"triangle-left\"},\"name\":\"a_->_87_88_29\",\"showlegend\":false,\"x\":[234.967901383888,229.97325115324],\"y\":[-485.38740284184667,-485.1561690348722],\"type\":\"scatter\"},{\"hoverinfo\":\"skip\",\"line\":{\"color\":\"rgb(33,113,181)\"},\"name\":\"a88_89_30\",\"showlegend\":false,\"x\":[315.99081513343765,323.99081513343765],\"y\":[-488.7654262640441,-590.7654262640441],\"type\":\"scatter\"},{\"hoverinfo\":\"skip\",\"marker\":{\"color\":\"red\",\"showscale\":false,\"size\":10},\"name\":\"a_bus__or_88_89_30\",\"showlegend\":false,\"x\":[317.1636838132171],\"y\":[-503.71950193123234],\"type\":\"scatter\"},{\"hoverinfo\":\"skip\",\"marker\":{\"color\":\"red\",\"showscale\":false,\"size\":10},\"name\":\"a_bus__ex_88_89_30\",\"showlegend\":false,\"x\":[322.8179464536582],\"y\":[-575.8113505968558],\"type\":\"scatter\"},{\"hoverinfo\":\"skip\",\"marker\":{\"color\":\"rgb(33,113,181)\",\"showscale\":false,\"size\":10,\"symbol\":\"triangle-down\"},\"name\":\"a_->_88_89_30\",\"showlegend\":false,\"x\":[318.3365524929966,317.9455962664034],\"y\":[-518.6735775984207,-513.6888857093579],\"type\":\"scatter\"},{\"hoverinfo\":\"skip\",\"line\":{\"color\":\"rgb(33,113,181)\"},\"name\":\"a88_89_31\",\"showlegend\":false,\"x\":[310.00918486656235,318.00918486656235],\"y\":[-489.2345737359559,-591.2345737359559],\"type\":\"scatter\"},{\"hoverinfo\":\"skip\",\"marker\":{\"color\":\"red\",\"showscale\":false,\"size\":10},\"name\":\"a_bus__or_88_89_31\",\"showlegend\":false,\"x\":[311.1820535463418],\"y\":[-504.18864940314415],\"type\":\"scatter\"},{\"hoverinfo\":\"skip\",\"marker\":{\"color\":\"red\",\"showscale\":false,\"size\":10},\"name\":\"a_bus__ex_88_89_31\",\"showlegend\":false,\"x\":[316.8363161867829],\"y\":[-576.2804980687677],\"type\":\"scatter\"},{\"hoverinfo\":\"skip\",\"marker\":{\"color\":\"rgb(33,113,181)\",\"showscale\":false,\"size\":10,\"symbol\":\"triangle-down\"},\"name\":\"a_->_88_89_31\",\"showlegend\":false,\"x\":[312.3549222261213,311.9639659995281],\"y\":[-519.1427250703325,-514.1580331812697],\"type\":\"scatter\"},{\"hoverinfo\":\"skip\",\"line\":{\"color\":\"rgb(8,81,156)\"},\"name\":\"a89_90_32\",\"showlegend\":false,\"x\":[321.0,504.0],\"y\":[-591.0,-591.0],\"type\":\"scatter\"},{\"hoverinfo\":\"skip\",\"marker\":{\"color\":\"red\",\"showscale\":false,\"size\":10},\"name\":\"a_bus__or_89_90_32\",\"showlegend\":false,\"x\":[336.0],\"y\":[-591.0],\"type\":\"scatter\"},{\"hoverinfo\":\"skip\",\"marker\":{\"color\":\"red\",\"showscale\":false,\"size\":10},\"name\":\"a_bus__ex_89_90_32\",\"showlegend\":false,\"x\":[489.0],\"y\":[-591.0],\"type\":\"scatter\"},{\"hoverinfo\":\"skip\",\"marker\":{\"color\":\"rgb(8,81,156)\",\"showscale\":false,\"size\":10,\"symbol\":\"triangle-left\"},\"name\":\"a_->_89_90_32\",\"showlegend\":false,\"x\":[351.0,346.0],\"y\":[-591.0,-591.0],\"type\":\"scatter\"},{\"hoverinfo\":\"skip\",\"line\":{\"color\":\"rgb(8,48,107)\"},\"name\":\"a88_91_33\",\"showlegend\":false,\"x\":[313.0,517.0],\"y\":[-486.0,-486.0],\"type\":\"scatter\"},{\"hoverinfo\":\"skip\",\"marker\":{\"color\":\"red\",\"showscale\":false,\"size\":10},\"name\":\"a_bus__or_88_91_33\",\"showlegend\":false,\"x\":[328.0],\"y\":[-486.0],\"type\":\"scatter\"},{\"hoverinfo\":\"skip\",\"marker\":{\"color\":\"red\",\"showscale\":false,\"size\":10},\"name\":\"a_bus__ex_88_91_33\",\"showlegend\":false,\"x\":[502.0],\"y\":[-486.0],\"type\":\"scatter\"},{\"hoverinfo\":\"skip\",\"marker\":{\"color\":\"rgb(8,48,107)\",\"showscale\":false,\"size\":10,\"symbol\":\"triangle-left\"},\"name\":\"a_->_88_91_33\",\"showlegend\":false,\"x\":[343.0,338.0],\"y\":[-486.0,-486.0],\"type\":\"scatter\"},{\"hoverinfo\":\"skip\",\"line\":{\"color\":\"rgb(8,48,107)\"},\"name\":\"a88_91_34\",\"showlegend\":false,\"x\":[313.0,517.0],\"y\":[-492.0,-492.0],\"type\":\"scatter\"},{\"hoverinfo\":\"skip\",\"marker\":{\"color\":\"red\",\"showscale\":false,\"size\":10},\"name\":\"a_bus__or_88_91_34\",\"showlegend\":false,\"x\":[328.0],\"y\":[-492.0],\"type\":\"scatter\"},{\"hoverinfo\":\"skip\",\"marker\":{\"color\":\"red\",\"showscale\":false,\"size\":10},\"name\":\"a_bus__ex_88_91_34\",\"showlegend\":false,\"x\":[502.0],\"y\":[-492.0],\"type\":\"scatter\"},{\"hoverinfo\":\"skip\",\"marker\":{\"color\":\"rgb(8,48,107)\",\"showscale\":false,\"size\":10,\"symbol\":\"triangle-left\"},\"name\":\"a_->_88_91_34\",\"showlegend\":false,\"x\":[343.0,338.0],\"y\":[-492.0,-492.0],\"type\":\"scatter\"},{\"hoverinfo\":\"skip\",\"line\":{\"color\":\"rgb(33,113,181)\"},\"name\":\"a6_11_35\",\"showlegend\":false,\"x\":[-792.0,-705.0],\"y\":[346.0,505.0],\"type\":\"scatter\"},{\"hoverinfo\":\"skip\",\"marker\":{\"color\":\"red\",\"showscale\":false,\"size\":10},\"name\":\"a_bus__or_6_11_35\",\"showlegend\":false,\"x\":[-784.7998287691594],\"y\":[359.1589336287777],\"type\":\"scatter\"},{\"hoverinfo\":\"skip\",\"marker\":{\"color\":\"red\",\"showscale\":false,\"size\":10},\"name\":\"a_bus__ex_6_11_35\",\"showlegend\":false,\"x\":[-712.2001712308406],\"y\":[491.8410663712223],\"type\":\"scatter\"},{\"hoverinfo\":\"skip\",\"marker\":{\"color\":\"rgb(33,113,181)\",\"showscale\":false,\"size\":10,\"symbol\":\"triangle-ne\"},\"name\":\"a_->_6_11_35\",\"showlegend\":false,\"x\":[-777.5996575383189,-779.9997146152657],\"y\":[372.31786725755535,367.9315560479628],\"type\":\"scatter\"},{\"hoverinfo\":\"skip\",\"line\":{\"color\":\"rgb(8,81,156)\"},\"name\":\"a90_91_36\",\"showlegend\":false,\"x\":[504.0,517.0],\"y\":[-591.0,-489.0],\"type\":\"scatter\"},{\"hoverinfo\":\"skip\",\"marker\":{\"color\":\"red\",\"showscale\":false,\"size\":10},\"name\":\"a_bus__or_90_91_36\",\"showlegend\":false,\"x\":[505.8964242288488],\"y\":[-576.1203637428788],\"type\":\"scatter\"},{\"hoverinfo\":\"skip\",\"marker\":{\"color\":\"red\",\"showscale\":false,\"size\":10},\"name\":\"a_bus__ex_90_91_36\",\"showlegend\":false,\"x\":[515.1035757711512],\"y\":[-503.8796362571212],\"type\":\"scatter\"},{\"hoverinfo\":\"skip\",\"marker\":{\"color\":\"rgb(8,81,156)\",\"showscale\":false,\"size\":10,\"symbol\":\"triangle-down\"},\"name\":\"a_->_90_91_36\",\"showlegend\":false,\"x\":[507.7928484576976,507.1607070480813],\"y\":[-561.2407274857577,-566.2006062381314],\"type\":\"scatter\"},{\"hoverinfo\":\"skip\",\"line\":{\"color\":\"rgb(33,113,181)\"},\"name\":\"a91_92_37\",\"showlegend\":false,\"x\":[517.0,642.0],\"y\":[-489.0,-481.0],\"type\":\"scatter\"},{\"hoverinfo\":\"skip\",\"marker\":{\"color\":\"red\",\"showscale\":false,\"size\":10},\"name\":\"a_bus__or_91_92_37\",\"showlegend\":false,\"x\":[531.9693740508677],\"y\":[-488.0419600607445],\"type\":\"scatter\"},{\"hoverinfo\":\"skip\",\"marker\":{\"color\":\"red\",\"showscale\":false,\"size\":10},\"name\":\"a_bus__ex_91_92_37\",\"showlegend\":false,\"x\":[627.0306259491323],\"y\":[-481.9580399392555],\"type\":\"scatter\"},{\"hoverinfo\":\"skip\",\"marker\":{\"color\":\"rgb(33,113,181)\",\"showscale\":false,\"size\":10,\"symbol\":\"triangle-left\"},\"name\":\"a_->_91_92_37\",\"showlegend\":false,\"x\":[546.9387481017354,541.9489567514462],\"y\":[-487.0839201214889,-487.40326676790744],\"type\":\"scatter\"},{\"hoverinfo\":\"skip\",\"line\":{\"color\":\"rgb(33,113,181)\"},\"name\":\"a91_93_38\",\"showlegend\":false,\"x\":[517.0,646.0],\"y\":[-489.0,-377.0],\"type\":\"scatter\"},{\"hoverinfo\":\"skip\",\"marker\":{\"color\":\"red\",\"showscale\":false,\"size\":10},\"name\":\"a_bus__or_91_93_38\",\"showlegend\":false,\"x\":[528.3266406048211],\"y\":[-479.1660174593801],\"type\":\"scatter\"},{\"hoverinfo\":\"skip\",\"marker\":{\"color\":\"red\",\"showscale\":false,\"size\":10},\"name\":\"a_bus__ex_91_93_38\",\"showlegend\":false,\"x\":[634.6733593951789],\"y\":[-386.8339825406199],\"type\":\"scatter\"},{\"hoverinfo\":\"skip\",\"marker\":{\"color\":\"rgb(33,113,181)\",\"showscale\":false,\"size\":10,\"symbol\":\"triangle-sw\"},\"name\":\"a_->_91_93_38\",\"showlegend\":false,\"x\":[539.6532812096423,535.8777343413685],\"y\":[-469.3320349187602,-472.61002909896683],\"type\":\"scatter\"},{\"hoverinfo\":\"skip\",\"line\":{\"color\":\"rgb(66,146,198)\"},\"name\":\"a92_93_39\",\"showlegend\":false,\"x\":[642.0,646.0],\"y\":[-481.0,-377.0],\"type\":\"scatter\"},{\"hoverinfo\":\"skip\",\"marker\":{\"color\":\"red\",\"showscale\":false,\"size\":10},\"name\":\"a_bus__or_92_93_39\",\"showlegend\":false,\"x\":[642.576496831518],\"y\":[-466.0110823805303],\"type\":\"scatter\"},{\"hoverinfo\":\"skip\",\"marker\":{\"color\":\"red\",\"showscale\":false,\"size\":10},\"name\":\"a_bus__ex_92_93_39\",\"showlegend\":false,\"x\":[645.423503168482],\"y\":[-391.9889176194697],\"type\":\"scatter\"},{\"hoverinfo\":\"skip\",\"marker\":{\"color\":\"rgb(66,146,198)\",\"showscale\":false,\"size\":10,\"symbol\":\"triangle-down\"},\"name\":\"a_->_92_93_39\",\"showlegend\":false,\"x\":[643.1529936630361,642.9608280525301],\"y\":[-451.02216476106054,-456.0184706342171],\"type\":\"scatter\"},{\"hoverinfo\":\"skip\",\"line\":{\"color\":\"rgb(8,81,156)\"},\"name\":\"a93_94_40\",\"showlegend\":false,\"x\":[646.0,559.0],\"y\":[-377.0,-377.0],\"type\":\"scatter\"},{\"hoverinfo\":\"skip\",\"marker\":{\"color\":\"red\",\"showscale\":false,\"size\":10},\"name\":\"a_bus__or_93_94_40\",\"showlegend\":false,\"x\":[631.0],\"y\":[-377.0],\"type\":\"scatter\"},{\"hoverinfo\":\"skip\",\"marker\":{\"color\":\"red\",\"showscale\":false,\"size\":10},\"name\":\"a_bus__ex_93_94_40\",\"showlegend\":false,\"x\":[574.0],\"y\":[-377.0],\"type\":\"scatter\"},{\"hoverinfo\":\"skip\",\"marker\":{\"color\":\"rgb(8,81,156)\",\"showscale\":false,\"size\":10,\"symbol\":\"triangle-left\"},\"name\":\"a_->_93_94_40\",\"showlegend\":false,\"x\":[616.0,621.0],\"y\":[-377.0,-377.0],\"type\":\"scatter\"},{\"hoverinfo\":\"skip\",\"line\":{\"color\":\"rgb(8,81,156)\"},\"name\":\"a79_95_41\",\"showlegend\":false,\"x\":[599.0,583.0],\"y\":[-207.0,-331.0],\"type\":\"scatter\"},{\"hoverinfo\":\"skip\",\"marker\":{\"color\":\"red\",\"showscale\":false,\"size\":10},\"name\":\"a_bus__or_79_95_41\",\"showlegend\":false,\"x\":[597.080429935547],\"y\":[-221.87666799951037],\"type\":\"scatter\"},{\"hoverinfo\":\"skip\",\"marker\":{\"color\":\"red\",\"showscale\":false,\"size\":10},\"name\":\"a_bus__ex_79_95_41\",\"showlegend\":false,\"x\":[584.919570064453],\"y\":[-316.1233320004896],\"type\":\"scatter\"},{\"hoverinfo\":\"skip\",\"marker\":{\"color\":\"rgb(8,81,156)\",\"showscale\":false,\"size\":10,\"symbol\":\"triangle-down\"},\"name\":\"a_->_79_95_41\",\"showlegend\":false,\"x\":[595.1608598710941,595.8007165592451],\"y\":[-236.75333599902075,-231.79444666585061],\"type\":\"scatter\"},{\"hoverinfo\":\"skip\",\"line\":{\"color\":\"rgb(8,48,107)\"},\"name\":\"a81_95_42\",\"showlegend\":false,\"x\":[393.0,583.0],\"y\":[-329.0,-331.0],\"type\":\"scatter\"},{\"hoverinfo\":\"skip\",\"marker\":{\"color\":\"red\",\"showscale\":false,\"size\":10},\"name\":\"a_bus__or_81_95_42\",\"showlegend\":false,\"x\":[407.9991690441231],\"y\":[-329.15788598993817],\"type\":\"scatter\"},{\"hoverinfo\":\"skip\",\"marker\":{\"color\":\"red\",\"showscale\":false,\"size\":10},\"name\":\"a_bus__ex_81_95_42\",\"showlegend\":false,\"x\":[568.0008309558768],\"y\":[-330.84211401006183],\"type\":\"scatter\"},{\"hoverinfo\":\"skip\",\"marker\":{\"color\":\"rgb(8,48,107)\",\"showscale\":false,\"size\":10,\"symbol\":\"triangle-right\"},\"name\":\"a_->_81_95_42\",\"showlegend\":false,\"x\":[422.9983380882462,417.99861507353853],\"y\":[-329.3157719798763,-329.26314331656357],\"type\":\"scatter\"},{\"hoverinfo\":\"skip\",\"line\":{\"color\":\"rgb(8,48,107)\"},\"name\":\"a93_95_43\",\"showlegend\":false,\"x\":[646.0,583.0],\"y\":[-377.0,-331.0],\"type\":\"scatter\"},{\"hoverinfo\":\"skip\",\"marker\":{\"color\":\"red\",\"showscale\":false,\"size\":10},\"name\":\"a_bus__or_93_95_43\",\"showlegend\":false,\"x\":[633.8856109378128],\"y\":[-368.1545730657046],\"type\":\"scatter\"},{\"hoverinfo\":\"skip\",\"marker\":{\"color\":\"red\",\"showscale\":false,\"size\":10},\"name\":\"a_bus__ex_93_95_43\",\"showlegend\":false,\"x\":[595.1143890621872],\"y\":[-339.8454269342954],\"type\":\"scatter\"},{\"hoverinfo\":\"skip\",\"marker\":{\"color\":\"rgb(8,48,107)\",\"showscale\":false,\"size\":10,\"symbol\":\"triangle-se\"},\"name\":\"a_->_93_95_43\",\"showlegend\":false,\"x\":[621.7712218756255,625.8093515630213],\"y\":[-359.30914613140914,-362.2576217761743],\"type\":\"scatter\"},{\"hoverinfo\":\"skip\",\"line\":{\"color\":\"rgb(8,81,156)\"},\"name\":\"a79_96_44\",\"showlegend\":false,\"x\":[599.0,541.0],\"y\":[-207.0,-280.0],\"type\":\"scatter\"},{\"hoverinfo\":\"skip\",\"marker\":{\"color\":\"red\",\"showscale\":false,\"size\":10},\"name\":\"a_bus__or_79_96_44\",\"showlegend\":false,\"x\":[589.6688662871443],\"y\":[-218.74435794893907],\"type\":\"scatter\"},{\"hoverinfo\":\"skip\",\"marker\":{\"color\":\"red\",\"showscale\":false,\"size\":10},\"name\":\"a_bus__ex_79_96_44\",\"showlegend\":false,\"x\":[550.3311337128557],\"y\":[-268.25564205106093],\"type\":\"scatter\"},{\"hoverinfo\":\"skip\",\"marker\":{\"color\":\"rgb(8,81,156)\",\"showscale\":false,\"size\":10,\"symbol\":\"triangle-sw\"},\"name\":\"a_->_79_96_44\",\"showlegend\":false,\"x\":[580.3377325742887,583.4481104785739],\"y\":[-230.4887158978781,-226.57392991489843],\"type\":\"scatter\"},{\"hoverinfo\":\"skip\",\"line\":{\"color\":\"rgb(8,48,107)\"},\"name\":\"a79_97_45\",\"showlegend\":false,\"x\":[599.0,691.0],\"y\":[-207.0,-251.0],\"type\":\"scatter\"},{\"hoverinfo\":\"skip\",\"marker\":{\"color\":\"red\",\"showscale\":false,\"size\":10},\"name\":\"a_bus__or_79_97_45\",\"showlegend\":false,\"x\":[612.5320133245347],\"y\":[-213.47183245956006],\"type\":\"scatter\"},{\"hoverinfo\":\"skip\",\"marker\":{\"color\":\"red\",\"showscale\":false,\"size\":10},\"name\":\"a_bus__ex_79_97_45\",\"showlegend\":false,\"x\":[677.4679866754653],\"y\":[-244.52816754043994],\"type\":\"scatter\"},{\"hoverinfo\":\"skip\",\"marker\":{\"color\":\"rgb(8,48,107)\",\"showscale\":false,\"size\":10,\"symbol\":\"triangle-se\"},\"name\":\"a_->_79_97_45\",\"showlegend\":false,\"x\":[626.0640266490694,621.5533555408912],\"y\":[-219.94366491912015,-217.78638743260012],\"type\":\"scatter\"},{\"hoverinfo\":\"skip\",\"line\":{\"color\":\"rgb(8,81,156)\"},\"name\":\"a10_12_46\",\"showlegend\":false,\"x\":[-847.0,-638.0],\"y\":[465.0,363.0],\"type\":\"scatter\"},{\"hoverinfo\":\"skip\",\"marker\":{\"color\":\"red\",\"showscale\":false,\"size\":10},\"name\":\"a_bus__or_10_12_46\",\"showlegend\":false,\"x\":[-833.5197133238487],\"y\":[458.4211041102037],\"type\":\"scatter\"},{\"hoverinfo\":\"skip\",\"marker\":{\"color\":\"red\",\"showscale\":false,\"size\":10},\"name\":\"a_bus__ex_10_12_46\",\"showlegend\":false,\"x\":[-651.4802866761513],\"y\":[369.5788958897963],\"type\":\"scatter\"},{\"hoverinfo\":\"skip\",\"marker\":{\"color\":\"rgb(8,81,156)\",\"showscale\":false,\"size\":10,\"symbol\":\"triangle-se\"},\"name\":\"a_->_10_12_46\",\"showlegend\":false,\"x\":[-820.0394266476974,-824.5328555397479],\"y\":[451.84220822040743,454.03517351700617],\"type\":\"scatter\"},{\"hoverinfo\":\"skip\",\"line\":{\"color\":\"rgb(8,48,107)\"},\"name\":\"a79_98_47\",\"showlegend\":false,\"x\":[599.0,776.0],\"y\":[-207.0,-209.0],\"type\":\"scatter\"},{\"hoverinfo\":\"skip\",\"marker\":{\"color\":\"red\",\"showscale\":false,\"size\":10},\"name\":\"a_bus__or_79_98_47\",\"showlegend\":false,\"x\":[613.9990425124464],\"y\":[-207.16948070635533],\"type\":\"scatter\"},{\"hoverinfo\":\"skip\",\"marker\":{\"color\":\"red\",\"showscale\":false,\"size\":10},\"name\":\"a_bus__ex_79_98_47\",\"showlegend\":false,\"x\":[761.0009574875536],\"y\":[-208.83051929364467],\"type\":\"scatter\"},{\"hoverinfo\":\"skip\",\"marker\":{\"color\":\"rgb(8,48,107)\",\"showscale\":false,\"size\":10,\"symbol\":\"triangle-right\"},\"name\":\"a_->_79_98_47\",\"showlegend\":false,\"x\":[628.9980850248928,623.9984041874106],\"y\":[-207.33896141271063,-207.28246784392553],\"type\":\"scatter\"},{\"hoverinfo\":\"skip\",\"line\":{\"color\":\"rgb(66,146,198)\"},\"name\":\"a91_99_48\",\"showlegend\":false,\"x\":[517.0,760.0],\"y\":[-489.0,-377.0],\"type\":\"scatter\"},{\"hoverinfo\":\"skip\",\"marker\":{\"color\":\"red\",\"showscale\":false,\"size\":10},\"name\":\"a_bus__or_91_99_48\",\"showlegend\":false,\"x\":[530.6226704943444],\"y\":[-482.7212382906725],\"type\":\"scatter\"},{\"hoverinfo\":\"skip\",\"marker\":{\"color\":\"red\",\"showscale\":false,\"size\":10},\"name\":\"a_bus__ex_91_99_48\",\"showlegend\":false,\"x\":[746.3773295056556],\"y\":[-383.2787617093275],\"type\":\"scatter\"},{\"hoverinfo\":\"skip\",\"marker\":{\"color\":\"rgb(66,146,198)\",\"showscale\":false,\"size\":10,\"symbol\":\"triangle-sw\"},\"name\":\"a_->_91_99_48\",\"showlegend\":false,\"x\":[544.2453409886889,539.7044508239075],\"y\":[-476.442476581345,-478.53539715112083],\"type\":\"scatter\"},{\"hoverinfo\":\"skip\",\"line\":{\"color\":\"rgb(33,113,181)\"},\"name\":\"a93_99_49\",\"showlegend\":false,\"x\":[646.0,760.0],\"y\":[-377.0,-377.0],\"type\":\"scatter\"},{\"hoverinfo\":\"skip\",\"marker\":{\"color\":\"red\",\"showscale\":false,\"size\":10},\"name\":\"a_bus__or_93_99_49\",\"showlegend\":false,\"x\":[661.0],\"y\":[-377.0],\"type\":\"scatter\"},{\"hoverinfo\":\"skip\",\"marker\":{\"color\":\"red\",\"showscale\":false,\"size\":10},\"name\":\"a_bus__ex_93_99_49\",\"showlegend\":false,\"x\":[745.0],\"y\":[-377.0],\"type\":\"scatter\"},{\"hoverinfo\":\"skip\",\"marker\":{\"color\":\"rgb(33,113,181)\",\"showscale\":false,\"size\":10,\"symbol\":\"triangle-left\"},\"name\":\"a_->_93_99_49\",\"showlegend\":false,\"x\":[676.0,671.0],\"y\":[-377.0,-377.0],\"type\":\"scatter\"},{\"hoverinfo\":\"skip\",\"line\":{\"color\":\"rgb(8,48,107)\"},\"name\":\"a94_95_50\",\"showlegend\":false,\"x\":[559.0,583.0],\"y\":[-377.0,-331.0],\"type\":\"scatter\"},{\"hoverinfo\":\"skip\",\"marker\":{\"color\":\"red\",\"showscale\":false,\"size\":10},\"name\":\"a_bus__or_94_95_50\",\"showlegend\":false,\"x\":[565.9384901004253],\"y\":[-363.7012273075182],\"type\":\"scatter\"},{\"hoverinfo\":\"skip\",\"marker\":{\"color\":\"red\",\"showscale\":false,\"size\":10},\"name\":\"a_bus__ex_94_95_50\",\"showlegend\":false,\"x\":[576.0615098995747],\"y\":[-344.2987726924818],\"type\":\"scatter\"},{\"hoverinfo\":\"skip\",\"marker\":{\"color\":\"rgb(8,48,107)\",\"showscale\":false,\"size\":10,\"symbol\":\"triangle-sw\"},\"name\":\"a_->_94_95_50\",\"showlegend\":false,\"x\":[572.8769802008505,570.5641501673755],\"y\":[-350.40245461503633,-354.8353788458636],\"type\":\"scatter\"},{\"hoverinfo\":\"skip\",\"line\":{\"color\":\"rgb(8,81,156)\"},\"name\":\"a95_96_51\",\"showlegend\":false,\"x\":[583.0,541.0],\"y\":[-331.0,-280.0],\"type\":\"scatter\"},{\"hoverinfo\":\"skip\",\"marker\":{\"color\":\"red\",\"showscale\":false,\"size\":10},\"name\":\"a_bus__or_95_96_51\",\"showlegend\":false,\"x\":[573.4643912070835],\"y\":[-319.42104646574427],\"type\":\"scatter\"},{\"hoverinfo\":\"skip\",\"marker\":{\"color\":\"red\",\"showscale\":false,\"size\":10},\"name\":\"a_bus__ex_95_96_51\",\"showlegend\":false,\"x\":[550.5356087929165],\"y\":[-291.57895353425573],\"type\":\"scatter\"},{\"hoverinfo\":\"skip\",\"marker\":{\"color\":\"rgb(8,81,156)\",\"showscale\":false,\"size\":10,\"symbol\":\"triangle-se\"},\"name\":\"a_->_95_96_51\",\"showlegend\":false,\"x\":[563.928782414167,567.1073186784726],\"y\":[-307.84209293148854,-311.7017441095738],\"type\":\"scatter\"},{\"hoverinfo\":\"skip\",\"line\":{\"color\":\"rgb(8,48,107)\"},\"name\":\"a97_99_52\",\"showlegend\":false,\"x\":[691.0,760.0],\"y\":[-251.0,-377.0],\"type\":\"scatter\"},{\"hoverinfo\":\"skip\",\"marker\":{\"color\":\"red\",\"showscale\":false,\"size\":10},\"name\":\"a_bus__or_97_99_52\",\"showlegend\":false,\"x\":[698.2047193429837],\"y\":[-264.1564440176225],\"type\":\"scatter\"},{\"hoverinfo\":\"skip\",\"marker\":{\"color\":\"red\",\"showscale\":false,\"size\":10},\"name\":\"a_bus__ex_97_99_52\",\"showlegend\":false,\"x\":[752.7952806570163],\"y\":[-363.8435559823775],\"type\":\"scatter\"},{\"hoverinfo\":\"skip\",\"marker\":{\"color\":\"rgb(8,48,107)\",\"showscale\":false,\"size\":10,\"symbol\":\"triangle-nw\"},\"name\":\"a_->_97_99_52\",\"showlegend\":false,\"x\":[705.4094386859675,703.0078655716396],\"y\":[-277.31288803524507,-272.92740669603756],\"type\":\"scatter\"},{\"hoverinfo\":\"skip\",\"line\":{\"color\":\"rgb(8,48,107)\"},\"name\":\"a98_99_53\",\"showlegend\":false,\"x\":[776.0,760.0],\"y\":[-209.0,-377.0],\"type\":\"scatter\"},{\"hoverinfo\":\"skip\",\"marker\":{\"color\":\"red\",\"showscale\":false,\"size\":10},\"name\":\"a_bus__or_98_99_53\",\"showlegend\":false,\"x\":[774.57786361058],\"y\":[-223.93243208890928],\"type\":\"scatter\"},{\"hoverinfo\":\"skip\",\"marker\":{\"color\":\"red\",\"showscale\":false,\"size\":10},\"name\":\"a_bus__ex_98_99_53\",\"showlegend\":false,\"x\":[761.42213638942],\"y\":[-362.0675679110907],\"type\":\"scatter\"},{\"hoverinfo\":\"skip\",\"marker\":{\"color\":\"rgb(8,48,107)\",\"showscale\":false,\"size\":10,\"symbol\":\"triangle-down\"},\"name\":\"a_->_98_99_53\",\"showlegend\":false,\"x\":[773.1557272211601,773.6297726843001],\"y\":[-238.86486417781856,-233.8873868148488],\"type\":\"scatter\"},{\"hoverinfo\":\"skip\",\"line\":{\"color\":\"rgb(66,146,198)\"},\"name\":\"a99_100_54\",\"showlegend\":false,\"x\":[760.0,720.0],\"y\":[-377.0,-537.0],\"type\":\"scatter\"},{\"hoverinfo\":\"skip\",\"marker\":{\"color\":\"red\",\"showscale\":false,\"size\":10},\"name\":\"a_bus__or_99_100_54\",\"showlegend\":false,\"x\":[756.361965624455],\"y\":[-391.55213750217996],\"type\":\"scatter\"},{\"hoverinfo\":\"skip\",\"marker\":{\"color\":\"red\",\"showscale\":false,\"size\":10},\"name\":\"a_bus__ex_99_100_54\",\"showlegend\":false,\"x\":[723.638034375545],\"y\":[-522.44786249782],\"type\":\"scatter\"},{\"hoverinfo\":\"skip\",\"marker\":{\"color\":\"rgb(66,146,198)\",\"showscale\":false,\"size\":10,\"symbol\":\"triangle-down\"},\"name\":\"a_->_99_100_54\",\"showlegend\":false,\"x\":[752.7239312489099,753.9366093740916],\"y\":[-406.10427500436,-401.2535625036333],\"type\":\"scatter\"},{\"hoverinfo\":\"skip\",\"line\":{\"color\":\"rgb(33,113,181)\"},\"name\":\"a91_101_55\",\"showlegend\":false,\"x\":[517.0,596.0],\"y\":[-489.0,-535.0],\"type\":\"scatter\"},{\"hoverinfo\":\"skip\",\"marker\":{\"color\":\"red\",\"showscale\":false,\"size\":10},\"name\":\"a_bus__or_91_101_55\",\"showlegend\":false,\"x\":[529.9626307276385],\"y\":[-496.54786093001735],\"type\":\"scatter\"},{\"hoverinfo\":\"skip\",\"marker\":{\"color\":\"red\",\"showscale\":false,\"size\":10},\"name\":\"a_bus__ex_91_101_55\",\"showlegend\":false,\"x\":[583.0373692723615],\"y\":[-527.4521390699826],\"type\":\"scatter\"},{\"hoverinfo\":\"skip\",\"marker\":{\"color\":\"rgb(33,113,181)\",\"showscale\":false,\"size\":10,\"symbol\":\"triangle-nw\"},\"name\":\"a_->_91_101_55\",\"showlegend\":false,\"x\":[542.925261455277,538.6043845460641],\"y\":[-504.0957218600347,-501.5797682166956],\"type\":\"scatter\"},{\"hoverinfo\":\"skip\",\"line\":{\"color\":\"rgb(66,146,198)\"},\"name\":\"a100_101_56\",\"showlegend\":false,\"x\":[720.0,596.0],\"y\":[-537.0,-535.0],\"type\":\"scatter\"},{\"hoverinfo\":\"skip\",\"marker\":{\"color\":\"red\",\"showscale\":false,\"size\":10},\"name\":\"a_bus__or_100_101_56\",\"showlegend\":false,\"x\":[705.0019507120181],\"y\":[-536.7580959792261],\"type\":\"scatter\"},{\"hoverinfo\":\"skip\",\"marker\":{\"color\":\"red\",\"showscale\":false,\"size\":10},\"name\":\"a_bus__ex_100_101_56\",\"showlegend\":false,\"x\":[610.9980492879819],\"y\":[-535.2419040207739],\"type\":\"scatter\"},{\"hoverinfo\":\"skip\",\"marker\":{\"color\":\"rgb(66,146,198)\",\"showscale\":false,\"size\":10,\"symbol\":\"triangle-left\"},\"name\":\"a_->_100_101_56\",\"showlegend\":false,\"x\":[690.0039014240363,695.0032511866968],\"y\":[-536.5161919584523,-536.5968266320435],\"type\":\"scatter\"},{\"hoverinfo\":\"skip\",\"line\":{\"color\":\"rgb(8,48,107)\"},\"name\":\"a11_13_57\",\"showlegend\":false,\"x\":[-705.0,-544.0],\"y\":[505.0,498.0],\"type\":\"scatter\"},{\"hoverinfo\":\"skip\",\"marker\":{\"color\":\"red\",\"showscale\":false,\"size\":10},\"name\":\"a_bus__or_11_13_57\",\"showlegend\":false,\"x\":[-690.0141576246741],\"y\":[504.3484416358554],\"type\":\"scatter\"},{\"hoverinfo\":\"skip\",\"marker\":{\"color\":\"red\",\"showscale\":false,\"size\":10},\"name\":\"a_bus__ex_11_13_57\",\"showlegend\":false,\"x\":[-558.9858423753259],\"y\":[498.6515583641446],\"type\":\"scatter\"},{\"hoverinfo\":\"skip\",\"marker\":{\"color\":\"rgb(8,48,107)\",\"showscale\":false,\"size\":10,\"symbol\":\"triangle-right\"},\"name\":\"a_->_11_13_57\",\"showlegend\":false,\"x\":[-675.0283152493482,-680.0235960411235],\"y\":[503.6968832717108,503.91406939309235],\"type\":\"scatter\"},{\"hoverinfo\":\"skip\",\"line\":{\"color\":\"rgb(8,48,107)\"},\"name\":\"a99_102_58\",\"showlegend\":false,\"x\":[760.0,860.0],\"y\":[-377.0,-537.0],\"type\":\"scatter\"},{\"hoverinfo\":\"skip\",\"marker\":{\"color\":\"red\",\"showscale\":false,\"size\":10},\"name\":\"a_bus__or_99_102_58\",\"showlegend\":false,\"x\":[767.9499841000477],\"y\":[-389.7199745600763],\"type\":\"scatter\"},{\"hoverinfo\":\"skip\",\"marker\":{\"color\":\"red\",\"showscale\":false,\"size\":10},\"name\":\"a_bus__ex_99_102_58\",\"showlegend\":false,\"x\":[852.0500158999523],\"y\":[-524.2800254399236],\"type\":\"scatter\"},{\"hoverinfo\":\"skip\",\"marker\":{\"color\":\"rgb(8,48,107)\",\"showscale\":false,\"size\":10,\"symbol\":\"triangle-nw\"},\"name\":\"a_->_99_102_58\",\"showlegend\":false,\"x\":[775.8999682000954,773.2499735000795],\"y\":[-402.4399491201527,-398.1999576001272],\"type\":\"scatter\"},{\"hoverinfo\":\"skip\",\"line\":{\"color\":\"rgb(8,81,156)\"},\"name\":\"a99_103_59\",\"showlegend\":false,\"x\":[760.0,871.0],\"y\":[-377.0,-373.0],\"type\":\"scatter\"},{\"hoverinfo\":\"skip\",\"marker\":{\"color\":\"red\",\"showscale\":false,\"size\":10},\"name\":\"a_bus__or_99_103_59\",\"showlegend\":false,\"x\":[774.9902700062736],\"y\":[-376.459810089864],\"type\":\"scatter\"},{\"hoverinfo\":\"skip\",\"marker\":{\"color\":\"red\",\"showscale\":false,\"size\":10},\"name\":\"a_bus__ex_99_103_59\",\"showlegend\":false,\"x\":[856.0097299937264],\"y\":[-373.540189910136],\"type\":\"scatter\"},{\"hoverinfo\":\"skip\",\"marker\":{\"color\":\"rgb(8,81,156)\",\"showscale\":false,\"size\":10,\"symbol\":\"triangle-left\"},\"name\":\"a_->_99_103_59\",\"showlegend\":false,\"x\":[789.9805400125472,784.9837833437894],\"y\":[-375.919620179728,-376.0996834831067],\"type\":\"scatter\"},{\"hoverinfo\":\"skip\",\"line\":{\"color\":\"rgb(33,113,181)\"},\"name\":\"a102_103_60\",\"showlegend\":false,\"x\":[860.0,871.0],\"y\":[-537.0,-373.0],\"type\":\"scatter\"},{\"hoverinfo\":\"skip\",\"marker\":{\"color\":\"red\",\"showscale\":false,\"size\":10},\"name\":\"a_bus__or_102_103_60\",\"showlegend\":false,\"x\":[861.0038420474734],\"y\":[-522.0336276558504],\"type\":\"scatter\"},{\"hoverinfo\":\"skip\",\"marker\":{\"color\":\"red\",\"showscale\":false,\"size\":10},\"name\":\"a_bus__ex_102_103_60\",\"showlegend\":false,\"x\":[869.9961579525266],\"y\":[-387.96637234414953],\"type\":\"scatter\"},{\"hoverinfo\":\"skip\",\"marker\":{\"color\":\"rgb(33,113,181)\",\"showscale\":false,\"size\":10,\"symbol\":\"triangle-down\"},\"name\":\"a_->_102_103_60\",\"showlegend\":false,\"x\":[862.007684094947,861.6730700791225],\"y\":[-507.06725531170093,-512.0560460930841],\"type\":\"scatter\"},{\"hoverinfo\":\"skip\",\"line\":{\"color\":\"rgb(8,48,107)\"},\"name\":\"a102_104_61\",\"showlegend\":false,\"x\":[860.0,964.0],\"y\":[-537.0,-377.0],\"type\":\"scatter\"},{\"hoverinfo\":\"skip\",\"marker\":{\"color\":\"red\",\"showscale\":false,\"size\":10},\"name\":\"a_bus__or_102_104_61\",\"showlegend\":false,\"x\":[868.1748252589313],\"y\":[-524.4233457554905],\"type\":\"scatter\"},{\"hoverinfo\":\"skip\",\"marker\":{\"color\":\"red\",\"showscale\":false,\"size\":10},\"name\":\"a_bus__ex_102_104_61\",\"showlegend\":false,\"x\":[955.8251747410687],\"y\":[-389.57665424450954],\"type\":\"scatter\"},{\"hoverinfo\":\"skip\",\"marker\":{\"color\":\"rgb(8,48,107)\",\"showscale\":false,\"size\":10,\"symbol\":\"triangle-sw\"},\"name\":\"a_->_102_104_61\",\"showlegend\":false,\"x\":[876.3496505178624,873.6247087648853],\"y\":[-511.84669151098086,-516.0389095924841],\"type\":\"scatter\"},{\"hoverinfo\":\"skip\",\"line\":{\"color\":\"rgb(8,48,107)\"},\"name\":\"a99_105_62\",\"showlegend\":false,\"x\":[760.0,961.0],\"y\":[-377.0,-245.0],\"type\":\"scatter\"},{\"hoverinfo\":\"skip\",\"marker\":{\"color\":\"red\",\"showscale\":false,\"size\":10},\"name\":\"a_bus__or_99_105_62\",\"showlegend\":false,\"x\":[772.5380355171912],\"y\":[-368.76606622751615],\"type\":\"scatter\"},{\"hoverinfo\":\"skip\",\"marker\":{\"color\":\"red\",\"showscale\":false,\"size\":10},\"name\":\"a_bus__ex_99_105_62\",\"showlegend\":false,\"x\":[948.4619644828088],\"y\":[-253.23393377248382],\"type\":\"scatter\"},{\"hoverinfo\":\"skip\",\"marker\":{\"color\":\"rgb(8,48,107)\",\"showscale\":false,\"size\":10,\"symbol\":\"triangle-sw\"},\"name\":\"a_->_99_105_62\",\"showlegend\":false,\"x\":[785.0760710343826,780.8967258619855],\"y\":[-360.53213245503235,-363.2767770458603],\"type\":\"scatter\"},{\"hoverinfo\":\"skip\",\"line\":{\"color\":\"rgb(33,113,181)\"},\"name\":\"a103_104_63\",\"showlegend\":false,\"x\":[871.0,964.0],\"y\":[-373.0,-377.0],\"type\":\"scatter\"},{\"hoverinfo\":\"skip\",\"marker\":{\"color\":\"red\",\"showscale\":false,\"size\":10},\"name\":\"a_bus__or_103_104_63\",\"showlegend\":false,\"x\":[885.9861447840194],\"y\":[-373.6445653670546],\"type\":\"scatter\"},{\"hoverinfo\":\"skip\",\"marker\":{\"color\":\"red\",\"showscale\":false,\"size\":10},\"name\":\"a_bus__ex_103_104_63\",\"showlegend\":false,\"x\":[949.0138552159806],\"y\":[-376.3554346329454],\"type\":\"scatter\"},{\"hoverinfo\":\"skip\",\"marker\":{\"color\":\"rgb(33,113,181)\",\"showscale\":false,\"size\":10,\"symbol\":\"triangle-right\"},\"name\":\"a_->_103_104_63\",\"showlegend\":false,\"x\":[900.972289568039,895.9769079733658],\"y\":[-374.2891307341092,-374.0742756117577],\"type\":\"scatter\"},{\"hoverinfo\":\"skip\",\"line\":{\"color\":\"rgb(8,81,156)\"},\"name\":\"a104_105_64\",\"showlegend\":false,\"x\":[964.0,961.0],\"y\":[-377.0,-245.0],\"type\":\"scatter\"},{\"hoverinfo\":\"skip\",\"marker\":{\"color\":\"red\",\"showscale\":false,\"size\":10},\"name\":\"a_bus__or_104_105_64\",\"showlegend\":false,\"x\":[963.6591789197006],\"y\":[-362.00387246682584],\"type\":\"scatter\"},{\"hoverinfo\":\"skip\",\"marker\":{\"color\":\"red\",\"showscale\":false,\"size\":10},\"name\":\"a_bus__ex_104_105_64\",\"showlegend\":false,\"x\":[961.3408210802994],\"y\":[-259.99612753317416],\"type\":\"scatter\"},{\"hoverinfo\":\"skip\",\"marker\":{\"color\":\"rgb(8,81,156)\",\"showscale\":false,\"size\":10,\"symbol\":\"triangle-up\"},\"name\":\"a_->_104_105_64\",\"showlegend\":false,\"x\":[963.3183578394012,963.4319648661676],\"y\":[-347.00774493365174,-352.00645411137646],\"type\":\"scatter\"},{\"hoverinfo\":\"skip\",\"line\":{\"color\":\"rgb(8,48,107)\"},\"name\":\"a104_106_65\",\"showlegend\":false,\"x\":[964.0,1067.0],\"y\":[-377.0,-377.0],\"type\":\"scatter\"},{\"hoverinfo\":\"skip\",\"marker\":{\"color\":\"red\",\"showscale\":false,\"size\":10},\"name\":\"a_bus__or_104_106_65\",\"showlegend\":false,\"x\":[979.0],\"y\":[-377.0],\"type\":\"scatter\"},{\"hoverinfo\":\"skip\",\"marker\":{\"color\":\"red\",\"showscale\":false,\"size\":10},\"name\":\"a_bus__ex_104_106_65\",\"showlegend\":false,\"x\":[1052.0],\"y\":[-377.0],\"type\":\"scatter\"},{\"hoverinfo\":\"skip\",\"marker\":{\"color\":\"rgb(8,48,107)\",\"showscale\":false,\"size\":10,\"symbol\":\"triangle-left\"},\"name\":\"a_->_104_106_65\",\"showlegend\":false,\"x\":[994.0,989.0],\"y\":[-377.0,-377.0],\"type\":\"scatter\"},{\"hoverinfo\":\"skip\",\"line\":{\"color\":\"rgb(8,48,107)\"},\"name\":\"a104_107_66\",\"showlegend\":false,\"x\":[964.0,1047.0],\"y\":[-377.0,-444.0],\"type\":\"scatter\"},{\"hoverinfo\":\"skip\",\"marker\":{\"color\":\"red\",\"showscale\":false,\"size\":10},\"name\":\"a_bus__or_104_107_66\",\"showlegend\":false,\"x\":[975.6717610185153],\"y\":[-386.42178299084975],\"type\":\"scatter\"},{\"hoverinfo\":\"skip\",\"marker\":{\"color\":\"red\",\"showscale\":false,\"size\":10},\"name\":\"a_bus__ex_104_107_66\",\"showlegend\":false,\"x\":[1035.3282389814847],\"y\":[-434.57821700915025],\"type\":\"scatter\"},{\"hoverinfo\":\"skip\",\"marker\":{\"color\":\"rgb(8,48,107)\",\"showscale\":false,\"size\":10,\"symbol\":\"triangle-se\"},\"name\":\"a_->_104_107_66\",\"showlegend\":false,\"x\":[987.3435220370308,983.452935030859],\"y\":[-395.8435659816995,-392.70297165141625],\"type\":\"scatter\"},{\"hoverinfo\":\"skip\",\"line\":{\"color\":\"rgb(8,81,156)\"},\"name\":\"a105_106_67\",\"showlegend\":false,\"x\":[961.0,1067.0],\"y\":[-245.0,-377.0],\"type\":\"scatter\"},{\"hoverinfo\":\"skip\",\"marker\":{\"color\":\"red\",\"showscale\":false,\"size\":10},\"name\":\"a_bus__or_105_106_67\",\"showlegend\":false,\"x\":[970.392020488083],\"y\":[-256.6957236266693],\"type\":\"scatter\"},{\"hoverinfo\":\"skip\",\"marker\":{\"color\":\"red\",\"showscale\":false,\"size\":10},\"name\":\"a_bus__ex_105_106_67\",\"showlegend\":false,\"x\":[1057.6079795119172],\"y\":[-365.3042763733307],\"type\":\"scatter\"},{\"hoverinfo\":\"skip\",\"marker\":{\"color\":\"rgb(8,81,156)\",\"showscale\":false,\"size\":10,\"symbol\":\"triangle-nw\"},\"name\":\"a_->_105_106_67\",\"showlegend\":false,\"x\":[979.7840409761658,976.6533674801382],\"y\":[-268.39144725333864,-264.4928727111155],\"type\":\"scatter\"},{\"hoverinfo\":\"skip\",\"line\":{\"color\":\"rgb(8,48,107)\"},\"name\":\"a12_14_68\",\"showlegend\":false,\"x\":[-638.0,-498.0],\"y\":[363.0,369.0],\"type\":\"scatter\"},{\"hoverinfo\":\"skip\",\"marker\":{\"color\":\"red\",\"showscale\":false,\"size\":10},\"name\":\"a_bus__or_12_14_68\",\"showlegend\":false,\"x\":[-623.0137565627349],\"y\":[363.6422675758828],\"type\":\"scatter\"},{\"hoverinfo\":\"skip\",\"marker\":{\"color\":\"red\",\"showscale\":false,\"size\":10},\"name\":\"a_bus__ex_12_14_68\",\"showlegend\":false,\"x\":[-512.9862434372651],\"y\":[368.3577324241172],\"type\":\"scatter\"},{\"hoverinfo\":\"skip\",\"marker\":{\"color\":\"rgb(8,48,107)\",\"showscale\":false,\"size\":10,\"symbol\":\"triangle-left\"},\"name\":\"a_->_12_14_68\",\"showlegend\":false,\"x\":[-608.0275131254699,-613.0229276045583],\"y\":[364.28453515176557,364.07044595980466],\"type\":\"scatter\"},{\"hoverinfo\":\"skip\",\"line\":{\"color\":\"rgb(8,48,107)\"},\"name\":\"a107_108_69\",\"showlegend\":false,\"x\":[1047.0,1053.0],\"y\":[-444.0,-519.0],\"type\":\"scatter\"},{\"hoverinfo\":\"skip\",\"marker\":{\"color\":\"red\",\"showscale\":false,\"size\":10},\"name\":\"a_bus__or_107_108_69\",\"showlegend\":false,\"x\":[1048.1961783342433],\"y\":[-458.9522291780419],\"type\":\"scatter\"},{\"hoverinfo\":\"skip\",\"marker\":{\"color\":\"red\",\"showscale\":false,\"size\":10},\"name\":\"a_bus__ex_107_108_69\",\"showlegend\":false,\"x\":[1051.8038216657567],\"y\":[-504.0477708219581],\"type\":\"scatter\"},{\"hoverinfo\":\"skip\",\"marker\":{\"color\":\"rgb(8,48,107)\",\"showscale\":false,\"size\":10,\"symbol\":\"triangle-down\"},\"name\":\"a_->_107_108_69\",\"showlegend\":false,\"x\":[1049.3923566684866,1048.9936305570723],\"y\":[-473.90445835608375,-468.92038196340314],\"type\":\"scatter\"},{\"hoverinfo\":\"skip\",\"line\":{\"color\":\"rgb(8,48,107)\"},\"name\":\"a102_109_70\",\"showlegend\":false,\"x\":[860.0,953.0],\"y\":[-537.0,-585.0],\"type\":\"scatter\"},{\"hoverinfo\":\"skip\",\"marker\":{\"color\":\"red\",\"showscale\":false,\"size\":10},\"name\":\"a_bus__or_102_109_70\",\"showlegend\":false,\"x\":[873.329309855823],\"y\":[-543.8796437965538],\"type\":\"scatter\"},{\"hoverinfo\":\"skip\",\"marker\":{\"color\":\"red\",\"showscale\":false,\"size\":10},\"name\":\"a_bus__ex_102_109_70\",\"showlegend\":false,\"x\":[939.670690144177],\"y\":[-578.1203562034462],\"type\":\"scatter\"},{\"hoverinfo\":\"skip\",\"marker\":{\"color\":\"rgb(8,48,107)\",\"showscale\":false,\"size\":10,\"symbol\":\"triangle-se\"},\"name\":\"a_->_102_109_70\",\"showlegend\":false,\"x\":[886.6586197116459,882.2155164263716],\"y\":[-550.7592875931076,-548.4660729942564],\"type\":\"scatter\"},{\"hoverinfo\":\"skip\",\"line\":{\"color\":\"rgb(8,48,107)\"},\"name\":\"a108_109_71\",\"showlegend\":false,\"x\":[1053.0,953.0],\"y\":[-519.0,-585.0],\"type\":\"scatter\"},{\"hoverinfo\":\"skip\",\"marker\":{\"color\":\"red\",\"showscale\":false,\"size\":10},\"name\":\"a_bus__or_108_109_71\",\"showlegend\":false,\"x\":[1040.480858901574],\"y\":[-527.2626331249611],\"type\":\"scatter\"},{\"hoverinfo\":\"skip\",\"marker\":{\"color\":\"red\",\"showscale\":false,\"size\":10},\"name\":\"a_bus__ex_108_109_71\",\"showlegend\":false,\"x\":[965.5191410984258],\"y\":[-576.7373668750389],\"type\":\"scatter\"},{\"hoverinfo\":\"skip\",\"marker\":{\"color\":\"rgb(8,48,107)\",\"showscale\":false,\"size\":10,\"symbol\":\"triangle-sw\"},\"name\":\"a_->_108_109_71\",\"showlegend\":false,\"x\":[1027.9617178031483,1032.134764835957],\"y\":[-535.5252662499221,-532.7710552082684],\"type\":\"scatter\"},{\"hoverinfo\":\"skip\",\"line\":{\"color\":\"rgb(8,48,107)\"},\"name\":\"a109_110_72\",\"showlegend\":false,\"x\":[953.0,871.0],\"y\":[-585.0,-600.0],\"type\":\"scatter\"},{\"hoverinfo\":\"skip\",\"marker\":{\"color\":\"red\",\"showscale\":false,\"size\":10},\"name\":\"a_bus__or_109_110_72\",\"showlegend\":false,\"x\":[938.2448388993917],\"y\":[-587.6991148354772],\"type\":\"scatter\"},{\"hoverinfo\":\"skip\",\"marker\":{\"color\":\"red\",\"showscale\":false,\"size\":10},\"name\":\"a_bus__ex_109_110_72\",\"showlegend\":false,\"x\":[885.7551611006083],\"y\":[-597.3008851645228],\"type\":\"scatter\"},{\"hoverinfo\":\"skip\",\"marker\":{\"color\":\"rgb(8,48,107)\",\"showscale\":false,\"size\":10,\"symbol\":\"triangle-left\"},\"name\":\"a_->_109_110_72\",\"showlegend\":false,\"x\":[923.4896777987833,928.4080648323194],\"y\":[-590.3982296709544,-589.4985247257953],\"type\":\"scatter\"},{\"hoverinfo\":\"skip\",\"line\":{\"color\":\"rgb(8,81,156)\"},\"name\":\"a109_111_73\",\"showlegend\":false,\"x\":[953.0,1064.0],\"y\":[-585.0,-585.0],\"type\":\"scatter\"},{\"hoverinfo\":\"skip\",\"marker\":{\"color\":\"red\",\"showscale\":false,\"size\":10},\"name\":\"a_bus__or_109_111_73\",\"showlegend\":false,\"x\":[968.0],\"y\":[-585.0],\"type\":\"scatter\"},{\"hoverinfo\":\"skip\",\"marker\":{\"color\":\"red\",\"showscale\":false,\"size\":10},\"name\":\"a_bus__ex_109_111_73\",\"showlegend\":false,\"x\":[1049.0],\"y\":[-585.0],\"type\":\"scatter\"},{\"hoverinfo\":\"skip\",\"marker\":{\"color\":\"rgb(8,81,156)\",\"showscale\":false,\"size\":10,\"symbol\":\"triangle-left\"},\"name\":\"a_->_109_111_73\",\"showlegend\":false,\"x\":[983.0,978.0],\"y\":[-585.0,-585.0],\"type\":\"scatter\"},{\"hoverinfo\":\"skip\",\"line\":{\"color\":\"rgb(8,81,156)\"},\"name\":\"a16_112_74\",\"showlegend\":false,\"x\":[-586.0,-715.0],\"y\":[205.0,178.0],\"type\":\"scatter\"},{\"hoverinfo\":\"skip\",\"marker\":{\"color\":\"red\",\"showscale\":false,\"size\":10},\"name\":\"a_bus__or_16_112_74\",\"showlegend\":false,\"x\":[-600.681859378793],\"y\":[201.9270526881596],\"type\":\"scatter\"},{\"hoverinfo\":\"skip\",\"marker\":{\"color\":\"red\",\"showscale\":false,\"size\":10},\"name\":\"a_bus__ex_16_112_74\",\"showlegend\":false,\"x\":[-700.318140621207],\"y\":[181.0729473118404],\"type\":\"scatter\"},{\"hoverinfo\":\"skip\",\"marker\":{\"color\":\"rgb(8,81,156)\",\"showscale\":false,\"size\":10,\"symbol\":\"triangle-left\"},\"name\":\"a_->_16_112_74\",\"showlegend\":false,\"x\":[-615.3637187575861,-610.4697656313217],\"y\":[198.85410537631918,199.87842114693265],\"type\":\"scatter\"},{\"hoverinfo\":\"skip\",\"line\":{\"color\":\"rgb(8,48,107)\"},\"name\":\"a31_112_75\",\"showlegend\":false,\"x\":[-686.0,-715.0],\"y\":[7.0,178.0],\"type\":\"scatter\"},{\"hoverinfo\":\"skip\",\"marker\":{\"color\":\"red\",\"showscale\":false,\"size\":10},\"name\":\"a_bus__or_31_112_75\",\"showlegend\":false,\"x\":[-688.5080483439477],\"y\":[21.788836786726037],\"type\":\"scatter\"},{\"hoverinfo\":\"skip\",\"marker\":{\"color\":\"red\",\"showscale\":false,\"size\":10},\"name\":\"a_bus__ex_31_112_75\",\"showlegend\":false,\"x\":[-712.4919516560523],\"y\":[163.21116321327398],\"type\":\"scatter\"},{\"hoverinfo\":\"skip\",\"marker\":{\"color\":\"rgb(8,48,107)\",\"showscale\":false,\"size\":10,\"symbol\":\"triangle-down\"},\"name\":\"a_->_31_112_75\",\"showlegend\":false,\"x\":[-691.0160966878955,-690.1800805732462],\"y\":[36.577673573452074,31.64806131121006],\"type\":\"scatter\"},{\"hoverinfo\":\"skip\",\"line\":{\"color\":\"rgb(8,48,107)\"},\"name\":\"a31_113_76\",\"showlegend\":false,\"x\":[-686.0,-683.0],\"y\":[7.0,-53.0],\"type\":\"scatter\"},{\"hoverinfo\":\"skip\",\"marker\":{\"color\":\"red\",\"showscale\":false,\"size\":10},\"name\":\"a_bus__or_31_113_76\",\"showlegend\":false,\"x\":[-685.2509357458416],\"y\":[-7.98128508316767],\"type\":\"scatter\"},{\"hoverinfo\":\"skip\",\"marker\":{\"color\":\"red\",\"showscale\":false,\"size\":10},\"name\":\"a_bus__ex_31_113_76\",\"showlegend\":false,\"x\":[-683.7490642541584],\"y\":[-38.01871491683233],\"type\":\"scatter\"},{\"hoverinfo\":\"skip\",\"marker\":{\"color\":\"rgb(8,48,107)\",\"showscale\":false,\"size\":10,\"symbol\":\"triangle-up\"},\"name\":\"a_->_31_113_76\",\"showlegend\":false,\"x\":[-684.5018714916832,-684.7515595764027],\"y\":[-22.96257016633534,-17.968808471946115],\"type\":\"scatter\"},{\"hoverinfo\":\"skip\",\"line\":{\"color\":\"rgb(8,81,156)\"},\"name\":\"a26_114_77\",\"showlegend\":false,\"x\":[-858.0,-665.0],\"y\":[-98.0,-122.0],\"type\":\"scatter\"},{\"hoverinfo\":\"skip\",\"marker\":{\"color\":\"red\",\"showscale\":false,\"size\":10},\"name\":\"a_bus__or_26_114_77\",\"showlegend\":false,\"x\":[-843.1146483196937],\"y\":[-99.85102818822462],\"type\":\"scatter\"},{\"hoverinfo\":\"skip\",\"marker\":{\"color\":\"red\",\"showscale\":false,\"size\":10},\"name\":\"a_bus__ex_26_114_77\",\"showlegend\":false,\"x\":[-679.8853516803063],\"y\":[-120.14897181177538],\"type\":\"scatter\"},{\"hoverinfo\":\"skip\",\"marker\":{\"color\":\"rgb(8,81,156)\",\"showscale\":false,\"size\":10,\"symbol\":\"triangle-right\"},\"name\":\"a_->_26_114_77\",\"showlegend\":false,\"x\":[-828.2292966393875,-833.1910805328229],\"y\":[-101.70205637644924,-101.08504698037436],\"type\":\"scatter\"},{\"hoverinfo\":\"skip\",\"line\":{\"color\":\"rgb(8,48,107)\"},\"name\":\"a113_114_78\",\"showlegend\":false,\"x\":[-683.0,-665.0],\"y\":[-53.0,-122.0],\"type\":\"scatter\"},{\"hoverinfo\":\"skip\",\"marker\":{\"color\":\"red\",\"showscale\":false,\"size\":10},\"name\":\"a_bus__or_113_114_78\",\"showlegend\":false,\"x\":[-679.2136715427949],\"y\":[-67.51425908595266],\"type\":\"scatter\"},{\"hoverinfo\":\"skip\",\"marker\":{\"color\":\"red\",\"showscale\":false,\"size\":10},\"name\":\"a_bus__ex_113_114_78\",\"showlegend\":false,\"x\":[-668.7863284572051],\"y\":[-107.48574091404734],\"type\":\"scatter\"},{\"hoverinfo\":\"skip\",\"marker\":{\"color\":\"rgb(8,48,107)\",\"showscale\":false,\"size\":10,\"symbol\":\"triangle-nw\"},\"name\":\"a_->_113_114_78\",\"showlegend\":false,\"x\":[-675.42734308559,-676.689452571325],\"y\":[-82.02851817190532,-77.1904318099211],\"type\":\"scatter\"},{\"hoverinfo\":\"skip\",\"line\":{\"color\":\"rgb(8,48,107)\"},\"name\":\"a13_14_79\",\"showlegend\":false,\"x\":[-544.0,-498.0],\"y\":[498.0,369.0],\"type\":\"scatter\"},{\"hoverinfo\":\"skip\",\"marker\":{\"color\":\"red\",\"showscale\":false,\"size\":10},\"name\":\"a_bus__or_13_14_79\",\"showlegend\":false,\"x\":[-538.9618928298656],\"y\":[483.8713951098405],\"type\":\"scatter\"},{\"hoverinfo\":\"skip\",\"marker\":{\"color\":\"red\",\"showscale\":false,\"size\":10},\"name\":\"a_bus__ex_13_14_79\",\"showlegend\":false,\"x\":[-503.0381071701344],\"y\":[383.1286048901595],\"type\":\"scatter\"},{\"hoverinfo\":\"skip\",\"marker\":{\"color\":\"rgb(8,48,107)\",\"showscale\":false,\"size\":10,\"symbol\":\"triangle-nw\"},\"name\":\"a_->_13_14_79\",\"showlegend\":false,\"x\":[-533.9237856597312,-535.6031547164426],\"y\":[469.74279021968096,474.45232518306744],\"type\":\"scatter\"},{\"hoverinfo\":\"skip\",\"line\":{\"color\":\"rgb(8,81,156)\"},\"name\":\"a11_116_80\",\"showlegend\":false,\"x\":[-705.0,-625.0],\"y\":[505.0,592.0],\"type\":\"scatter\"},{\"hoverinfo\":\"skip\",\"marker\":{\"color\":\"red\",\"showscale\":false,\"size\":10},\"name\":\"a_bus__or_11_116_80\",\"showlegend\":false,\"x\":[-694.8469017835329],\"y\":[516.041494310408],\"type\":\"scatter\"},{\"hoverinfo\":\"skip\",\"marker\":{\"color\":\"red\",\"showscale\":false,\"size\":10},\"name\":\"a_bus__ex_11_116_80\",\"showlegend\":false,\"x\":[-635.1530982164671],\"y\":[580.958505689592],\"type\":\"scatter\"},{\"hoverinfo\":\"skip\",\"marker\":{\"color\":\"rgb(8,81,156)\",\"showscale\":false,\"size\":10,\"symbol\":\"triangle-ne\"},\"name\":\"a_->_11_116_80\",\"showlegend\":false,\"x\":[-684.6938035670657,-688.0781696392214],\"y\":[527.082988620816,523.4024905173467],\"type\":\"scatter\"},{\"hoverinfo\":\"skip\",\"line\":{\"color\":\"rgb(8,81,156)\"},\"name\":\"a74_117_81\",\"showlegend\":false,\"x\":[160.0,299.0],\"y\":[-207.0,-172.0],\"type\":\"scatter\"},{\"hoverinfo\":\"skip\",\"marker\":{\"color\":\"red\",\"showscale\":false,\"size\":10},\"name\":\"a_bus__or_74_117_81\",\"showlegend\":false,\"x\":[174.54596095295108],\"y\":[-203.33734796148713],\"type\":\"scatter\"},{\"hoverinfo\":\"skip\",\"marker\":{\"color\":\"red\",\"showscale\":false,\"size\":10},\"name\":\"a_bus__ex_74_117_81\",\"showlegend\":false,\"x\":[284.4540390470489],\"y\":[-175.66265203851287],\"type\":\"scatter\"},{\"hoverinfo\":\"skip\",\"marker\":{\"color\":\"rgb(8,81,156)\",\"showscale\":false,\"size\":10,\"symbol\":\"triangle-right\"},\"name\":\"a_->_74_117_81\",\"showlegend\":false,\"x\":[189.09192190590215,184.24326825491846],\"y\":[-199.67469592297428,-200.8955799358119],\"type\":\"scatter\"},{\"hoverinfo\":\"skip\",\"line\":{\"color\":\"rgb(8,81,156)\"},\"name\":\"a75_117_82\",\"showlegend\":false,\"x\":[398.0,299.0],\"y\":[-207.0,-172.0],\"type\":\"scatter\"},{\"hoverinfo\":\"skip\",\"marker\":{\"color\":\"red\",\"showscale\":false,\"size\":10},\"name\":\"a_bus__or_75_117_82\",\"showlegend\":false,\"x\":[383.8577842129304],\"y\":[-202.0002267419451],\"type\":\"scatter\"},{\"hoverinfo\":\"skip\",\"marker\":{\"color\":\"red\",\"showscale\":false,\"size\":10},\"name\":\"a_bus__ex_75_117_82\",\"showlegend\":false,\"x\":[313.1422157870696],\"y\":[-176.9997732580549],\"type\":\"scatter\"},{\"hoverinfo\":\"skip\",\"marker\":{\"color\":\"rgb(8,81,156)\",\"showscale\":false,\"size\":10,\"symbol\":\"triangle-se\"},\"name\":\"a_->_75_117_82\",\"showlegend\":false,\"x\":[369.7155684258609,374.4296403548841],\"y\":[-197.00045348389023,-198.6670445699085],\"type\":\"scatter\"},{\"hoverinfo\":\"skip\",\"line\":{\"color\":\"rgb(8,81,156)\"},\"name\":\"a11_15_83\",\"showlegend\":false,\"x\":[-705.0,-747.0],\"y\":[505.0,268.0],\"type\":\"scatter\"},{\"hoverinfo\":\"skip\",\"marker\":{\"color\":\"red\",\"showscale\":false,\"size\":10},\"name\":\"a_bus__or_11_15_83\",\"showlegend\":false,\"x\":[-707.6174448522866],\"y\":[490.23013261924],\"type\":\"scatter\"},{\"hoverinfo\":\"skip\",\"marker\":{\"color\":\"red\",\"showscale\":false,\"size\":10},\"name\":\"a_bus__ex_11_15_83\",\"showlegend\":false,\"x\":[-744.3825551477134],\"y\":[282.76986738076],\"type\":\"scatter\"},{\"hoverinfo\":\"skip\",\"marker\":{\"color\":\"rgb(8,81,156)\",\"showscale\":false,\"size\":10,\"symbol\":\"triangle-down\"},\"name\":\"a_->_11_15_83\",\"showlegend\":false,\"x\":[-710.2348897045732,-709.3624080871443],\"y\":[475.46026523847996,480.38355436539996],\"type\":\"scatter\"},{\"hoverinfo\":\"skip\",\"line\":{\"color\":\"rgb(33,113,181)\"},\"name\":\"a14_16_84\",\"showlegend\":false,\"x\":[-498.0,-586.0],\"y\":[369.0,205.0],\"type\":\"scatter\"},{\"hoverinfo\":\"skip\",\"marker\":{\"color\":\"red\",\"showscale\":false,\"size\":10},\"name\":\"a_bus__or_14_16_84\",\"showlegend\":false,\"x\":[-505.09226557221893],\"y\":[355.7825959790465],\"type\":\"scatter\"},{\"hoverinfo\":\"skip\",\"marker\":{\"color\":\"red\",\"showscale\":false,\"size\":10},\"name\":\"a_bus__ex_14_16_84\",\"showlegend\":false,\"x\":[-578.9077344277811],\"y\":[218.2174040209535],\"type\":\"scatter\"},{\"hoverinfo\":\"skip\",\"marker\":{\"color\":\"rgb(33,113,181)\",\"showscale\":false,\"size\":10,\"symbol\":\"triangle-ne\"},\"name\":\"a_->_14_16_84\",\"showlegend\":false,\"x\":[-512.1845311444379,-509.82044262036493],\"y\":[342.56519195809295,346.9709932984108],\"type\":\"scatter\"},{\"hoverinfo\":\"skip\",\"line\":{\"color\":\"rgb(8,81,156)\"},\"name\":\"a3_4_85\",\"showlegend\":false,\"x\":[-940.0,-977.0],\"y\":[461.0,348.0],\"type\":\"scatter\"},{\"hoverinfo\":\"skip\",\"marker\":{\"color\":\"red\",\"showscale\":false,\"size\":10},\"name\":\"a_bus__or_3_4_85\",\"showlegend\":false,\"x\":[-944.6676576425608],\"y\":[446.74472125380066],\"type\":\"scatter\"},{\"hoverinfo\":\"skip\",\"marker\":{\"color\":\"red\",\"showscale\":false,\"size\":10},\"name\":\"a_bus__ex_3_4_85\",\"showlegend\":false,\"x\":[-972.3323423574392],\"y\":[362.25527874619934],\"type\":\"scatter\"},{\"hoverinfo\":\"skip\",\"marker\":{\"color\":\"rgb(8,81,156)\",\"showscale\":false,\"size\":10,\"symbol\":\"triangle-ne\"},\"name\":\"a_->_3_4_85\",\"showlegend\":false,\"x\":[-949.3353152851216,-947.7794294042681],\"y\":[432.4894425076013,437.24120208966775],\"type\":\"scatter\"},{\"hoverinfo\":\"skip\",\"line\":{\"color\":\"rgb(8,81,156)\"},\"name\":\"a15_16_86\",\"showlegend\":false,\"x\":[-747.0,-586.0],\"y\":[268.0,205.0],\"type\":\"scatter\"},{\"hoverinfo\":\"skip\",\"marker\":{\"color\":\"red\",\"showscale\":false,\"size\":10},\"name\":\"a_bus__or_15_16_86\",\"showlegend\":false,\"x\":[-733.0313583044137],\"y\":[262.5340097712923],\"type\":\"scatter\"},{\"hoverinfo\":\"skip\",\"marker\":{\"color\":\"red\",\"showscale\":false,\"size\":10},\"name\":\"a_bus__ex_15_16_86\",\"showlegend\":false,\"x\":[-599.9686416955863],\"y\":[210.46599022870768],\"type\":\"scatter\"},{\"hoverinfo\":\"skip\",\"marker\":{\"color\":\"rgb(8,81,156)\",\"showscale\":false,\"size\":10,\"symbol\":\"triangle-nw\"},\"name\":\"a_->_15_16_86\",\"showlegend\":false,\"x\":[-719.0627166088274,-723.7189305073562],\"y\":[257.06801954258464,258.8900162854872],\"type\":\"scatter\"},{\"hoverinfo\":\"skip\",\"line\":{\"color\":\"rgb(33,113,181)\"},\"name\":\"a16_17_87\",\"showlegend\":false,\"x\":[-586.0,-427.0],\"y\":[205.0,205.0],\"type\":\"scatter\"},{\"hoverinfo\":\"skip\",\"marker\":{\"color\":\"red\",\"showscale\":false,\"size\":10},\"name\":\"a_bus__or_16_17_87\",\"showlegend\":false,\"x\":[-571.0],\"y\":[205.0],\"type\":\"scatter\"},{\"hoverinfo\":\"skip\",\"marker\":{\"color\":\"red\",\"showscale\":false,\"size\":10},\"name\":\"a_bus__ex_16_17_87\",\"showlegend\":false,\"x\":[-442.0],\"y\":[205.0],\"type\":\"scatter\"},{\"hoverinfo\":\"skip\",\"marker\":{\"color\":\"rgb(33,113,181)\",\"showscale\":false,\"size\":10,\"symbol\":\"triangle-right\"},\"name\":\"a_->_16_17_87\",\"showlegend\":false,\"x\":[-556.0,-561.0],\"y\":[205.0,205.0],\"type\":\"scatter\"},{\"hoverinfo\":\"skip\",\"line\":{\"color\":\"rgb(8,48,107)\"},\"name\":\"a17_18_88\",\"showlegend\":false,\"x\":[-427.0,-307.0],\"y\":[205.0,311.0],\"type\":\"scatter\"},{\"hoverinfo\":\"skip\",\"marker\":{\"color\":\"red\",\"showscale\":false,\"size\":10},\"name\":\"a_bus__or_17_18_88\",\"showlegend\":false,\"x\":[-415.7579018232717],\"y\":[214.93052005610997],\"type\":\"scatter\"},{\"hoverinfo\":\"skip\",\"marker\":{\"color\":\"red\",\"showscale\":false,\"size\":10},\"name\":\"a_bus__ex_17_18_88\",\"showlegend\":false,\"x\":[-318.2420981767283],\"y\":[301.06947994389003],\"type\":\"scatter\"},{\"hoverinfo\":\"skip\",\"marker\":{\"color\":\"rgb(8,48,107)\",\"showscale\":false,\"size\":10,\"symbol\":\"triangle-ne\"},\"name\":\"a_->_17_18_88\",\"showlegend\":false,\"x\":[-404.5158036465434,-408.26316970545287],\"y\":[224.86104011221997,221.5508667601833],\"type\":\"scatter\"},{\"hoverinfo\":\"skip\",\"line\":{\"color\":\"rgb(8,81,156)\"},\"name\":\"a18_19_89\",\"showlegend\":false,\"x\":[-307.0,-274.0],\"y\":[311.0,222.0],\"type\":\"scatter\"},{\"hoverinfo\":\"skip\",\"marker\":{\"color\":\"red\",\"showscale\":false,\"size\":10},\"name\":\"a_bus__or_18_19_89\",\"showlegend\":false,\"x\":[-301.78513820184975],\"y\":[296.9356757565039],\"type\":\"scatter\"},{\"hoverinfo\":\"skip\",\"marker\":{\"color\":\"red\",\"showscale\":false,\"size\":10},\"name\":\"a_bus__ex_18_19_89\",\"showlegend\":false,\"x\":[-279.21486179815025],\"y\":[236.06432424349615],\"type\":\"scatter\"},{\"hoverinfo\":\"skip\",\"marker\":{\"color\":\"rgb(8,81,156)\",\"showscale\":false,\"size\":10,\"symbol\":\"triangle-se\"},\"name\":\"a_->_18_19_89\",\"showlegend\":false,\"x\":[-296.5702764036995,-298.30856366974956],\"y\":[282.87135151300777,287.5594595941731],\"type\":\"scatter\"},{\"hoverinfo\":\"skip\",\"line\":{\"color\":\"rgb(8,81,156)\"},\"name\":\"a14_18_90\",\"showlegend\":false,\"x\":[-498.0,-307.0],\"y\":[369.0,311.0],\"type\":\"scatter\"},{\"hoverinfo\":\"skip\",\"marker\":{\"color\":\"red\",\"showscale\":false,\"size\":10},\"name\":\"a_bus__or_14_18_90\",\"showlegend\":false,\"x\":[-483.647164389082],\"y\":[364.6415473013966],\"type\":\"scatter\"},{\"hoverinfo\":\"skip\",\"marker\":{\"color\":\"red\",\"showscale\":false,\"size\":10},\"name\":\"a_bus__ex_14_18_90\",\"showlegend\":false,\"x\":[-321.352835610918],\"y\":[315.3584526986034],\"type\":\"scatter\"},{\"hoverinfo\":\"skip\",\"marker\":{\"color\":\"rgb(8,81,156)\",\"showscale\":false,\"size\":10,\"symbol\":\"triangle-se\"},\"name\":\"a_->_14_18_90\",\"showlegend\":false,\"x\":[-469.2943287781639,-474.0786073151366],\"y\":[360.28309460279326,361.7359121689944],\"type\":\"scatter\"},{\"hoverinfo\":\"skip\",\"line\":{\"color\":\"rgb(33,113,181)\"},\"name\":\"a19_20_91\",\"showlegend\":false,\"x\":[-274.0,-285.0],\"y\":[222.0,82.0],\"type\":\"scatter\"},{\"hoverinfo\":\"skip\",\"marker\":{\"color\":\"red\",\"showscale\":false,\"size\":10},\"name\":\"a_bus__or_19_20_91\",\"showlegend\":false,\"x\":[-275.1749502490851],\"y\":[207.04608773891678],\"type\":\"scatter\"},{\"hoverinfo\":\"skip\",\"marker\":{\"color\":\"red\",\"showscale\":false,\"size\":10},\"name\":\"a_bus__ex_19_20_91\",\"showlegend\":false,\"x\":[-283.8250497509149],\"y\":[96.95391226108322],\"type\":\"scatter\"},{\"hoverinfo\":\"skip\",\"marker\":{\"color\":\"rgb(33,113,181)\",\"showscale\":false,\"size\":10,\"symbol\":\"triangle-up\"},\"name\":\"a_->_19_20_91\",\"showlegend\":false,\"x\":[-276.3499004981702,-275.95825041514183],\"y\":[192.09217547783356,197.07681289819465],\"type\":\"scatter\"},{\"hoverinfo\":\"skip\",\"line\":{\"color\":\"rgb(66,146,198)\"},\"name\":\"a20_21_92\",\"showlegend\":false,\"x\":[-285.0,-314.0],\"y\":[82.0,0.0],\"type\":\"scatter\"},{\"hoverinfo\":\"skip\",\"marker\":{\"color\":\"red\",\"showscale\":false,\"size\":10},\"name\":\"a_bus__or_20_21_92\",\"showlegend\":false,\"x\":[-290.0013217023757],\"y\":[67.85833173811004],\"type\":\"scatter\"},{\"hoverinfo\":\"skip\",\"marker\":{\"color\":\"red\",\"showscale\":false,\"size\":10},\"name\":\"a_bus__ex_20_21_92\",\"showlegend\":false,\"x\":[-308.9986782976243],\"y\":[14.141668261889956],\"type\":\"scatter\"},{\"hoverinfo\":\"skip\",\"marker\":{\"color\":\"rgb(66,146,198)\",\"showscale\":false,\"size\":10,\"symbol\":\"triangle-ne\"},\"name\":\"a_->_20_21_92\",\"showlegend\":false,\"x\":[-295.00264340475144,-293.3355361706262],\"y\":[53.71666347622009,58.430552896850074],\"type\":\"scatter\"},{\"hoverinfo\":\"skip\",\"line\":{\"color\":\"rgb(253,141,60)\"},\"name\":\"a21_22_93\",\"showlegend\":false,\"x\":[-314.0,-348.0],\"y\":[0.0,-115.0],\"type\":\"scatter\"},{\"hoverinfo\":\"skip\",\"marker\":{\"color\":\"red\",\"showscale\":false,\"size\":10},\"name\":\"a_bus__or_21_22_93\",\"showlegend\":false,\"x\":[-318.25280659711177],\"y\":[-14.384492901995634],\"type\":\"scatter\"},{\"hoverinfo\":\"skip\",\"marker\":{\"color\":\"red\",\"showscale\":false,\"size\":10},\"name\":\"a_bus__ex_21_22_93\",\"showlegend\":false,\"x\":[-343.74719340288823],\"y\":[-100.61550709800437],\"type\":\"scatter\"},{\"hoverinfo\":\"skip\",\"marker\":{\"color\":\"rgb(253,141,60)\",\"showscale\":false,\"size\":10,\"symbol\":\"triangle-ne\"},\"name\":\"a_->_21_22_93\",\"showlegend\":false,\"x\":[-322.50561319422354,-321.08801099518627],\"y\":[-28.768985803991264,-23.974154836659388],\"type\":\"scatter\"},{\"hoverinfo\":\"skip\",\"line\":{\"color\":\"rgb(8,48,107)\"},\"name\":\"a22_23_94\",\"showlegend\":false,\"x\":[-348.0,-49.0],\"y\":[-115.0,43.0],\"type\":\"scatter\"},{\"hoverinfo\":\"skip\",\"marker\":{\"color\":\"red\",\"showscale\":false,\"size\":10},\"name\":\"a_bus__or_22_23_94\",\"showlegend\":false,\"x\":[-334.7377906176857],\"y\":[-107.99187597857639],\"type\":\"scatter\"},{\"hoverinfo\":\"skip\",\"marker\":{\"color\":\"red\",\"showscale\":false,\"size\":10},\"name\":\"a_bus__ex_22_23_94\",\"showlegend\":false,\"x\":[-62.262209382314296],\"y\":[35.99187597857639],\"type\":\"scatter\"},{\"hoverinfo\":\"skip\",\"marker\":{\"color\":\"rgb(8,48,107)\",\"showscale\":false,\"size\":10,\"symbol\":\"triangle-ne\"},\"name\":\"a_->_22_23_94\",\"showlegend\":false,\"x\":[-321.4755812353714,-325.89631769614283],\"y\":[-100.98375195715278,-103.31979329762731],\"type\":\"scatter\"},{\"hoverinfo\":\"skip\",\"line\":{\"color\":\"rgb(33,113,181)\"},\"name\":\"a22_24_95\",\"showlegend\":false,\"x\":[-348.0,-462.0],\"y\":[-115.0,-236.0],\"type\":\"scatter\"},{\"hoverinfo\":\"skip\",\"marker\":{\"color\":\"red\",\"showscale\":false,\"size\":10},\"name\":\"a_bus__or_22_24_95\",\"showlegend\":false,\"x\":[-358.2860980808066],\"y\":[-125.91770059454035],\"type\":\"scatter\"},{\"hoverinfo\":\"skip\",\"marker\":{\"color\":\"red\",\"showscale\":false,\"size\":10},\"name\":\"a_bus__ex_22_24_95\",\"showlegend\":false,\"x\":[-451.7139019191934],\"y\":[-225.08229940545965],\"type\":\"scatter\"},{\"hoverinfo\":\"skip\",\"marker\":{\"color\":\"rgb(33,113,181)\",\"showscale\":false,\"size\":10,\"symbol\":\"triangle-ne\"},\"name\":\"a_->_22_24_95\",\"showlegend\":false,\"x\":[-368.5721961616132,-365.1434968013443],\"y\":[-136.83540118908067,-133.19616765756723],\"type\":\"scatter\"},{\"hoverinfo\":\"skip\",\"line\":{\"color\":\"rgb(33,113,181)\"},\"name\":\"a2_4_96\",\"showlegend\":false,\"x\":[-1006.0,-977.0],\"y\":[524.0,348.0],\"type\":\"scatter\"},{\"hoverinfo\":\"skip\",\"marker\":{\"color\":\"red\",\"showscale\":false,\"size\":10},\"name\":\"a_bus__or_2_4_96\",\"showlegend\":false,\"x\":[-1003.5612928982756],\"y\":[509.1995706929833],\"type\":\"scatter\"},{\"hoverinfo\":\"skip\",\"marker\":{\"color\":\"red\",\"showscale\":false,\"size\":10},\"name\":\"a_bus__ex_2_4_96\",\"showlegend\":false,\"x\":[-979.4387071017244],\"y\":[362.8004293070167],\"type\":\"scatter\"},{\"hoverinfo\":\"skip\",\"marker\":{\"color\":\"rgb(33,113,181)\",\"showscale\":false,\"size\":10,\"symbol\":\"triangle-up\"},\"name\":\"a_->_2_4_96\",\"showlegend\":false,\"x\":[-1001.1225857965513,-1001.9354881637928],\"y\":[494.3991413859666,499.3326178216388],\"type\":\"scatter\"},{\"hoverinfo\":\"skip\",\"line\":{\"color\":\"rgb(33,113,181)\"},\"name\":\"a24_26_97\",\"showlegend\":false,\"x\":[-462.0,-858.0],\"y\":[-236.0,-98.0],\"type\":\"scatter\"},{\"hoverinfo\":\"skip\",\"marker\":{\"color\":\"red\",\"showscale\":false,\"size\":10},\"name\":\"a_bus__or_24_26_97\",\"showlegend\":false,\"x\":[-476.1645542005785],\"y\":[-231.06386747555598],\"type\":\"scatter\"},{\"hoverinfo\":\"skip\",\"marker\":{\"color\":\"red\",\"showscale\":false,\"size\":10},\"name\":\"a_bus__ex_24_26_97\",\"showlegend\":false,\"x\":[-843.8354457994214],\"y\":[-102.93613252444402],\"type\":\"scatter\"},{\"hoverinfo\":\"skip\",\"marker\":{\"color\":\"rgb(33,113,181)\",\"showscale\":false,\"size\":10,\"symbol\":\"triangle-nw\"},\"name\":\"a_->_24_26_97\",\"showlegend\":false,\"x\":[-490.329108401157,-485.60759033429747],\"y\":[-226.12773495111196,-227.77311245925998],\"type\":\"scatter\"},{\"hoverinfo\":\"skip\",\"line\":{\"color\":\"rgb(8,81,156)\"},\"name\":\"a26_27_98\",\"showlegend\":false,\"x\":[-858.0,-879.0],\"y\":[-98.0,-22.0],\"type\":\"scatter\"},{\"hoverinfo\":\"skip\",\"marker\":{\"color\":\"red\",\"showscale\":false,\"size\":10},\"name\":\"a_bus__or_26_27_98\",\"showlegend\":false,\"x\":[-861.9950306915964],\"y\":[-83.54179368755575],\"type\":\"scatter\"},{\"hoverinfo\":\"skip\",\"marker\":{\"color\":\"red\",\"showscale\":false,\"size\":10},\"name\":\"a_bus__ex_26_27_98\",\"showlegend\":false,\"x\":[-875.0049693084036],\"y\":[-36.45820631244424],\"type\":\"scatter\"},{\"hoverinfo\":\"skip\",\"marker\":{\"color\":\"rgb(8,81,156)\",\"showscale\":false,\"size\":10,\"symbol\":\"triangle-nw\"},\"name\":\"a_->_26_27_98\",\"showlegend\":false,\"x\":[-865.9900613831928,-864.658384485994],\"y\":[-69.0835873751115,-73.90298947925959],\"type\":\"scatter\"},{\"hoverinfo\":\"skip\",\"line\":{\"color\":\"rgb(8,81,156)\"},\"name\":\"a27_28_99\",\"showlegend\":false,\"x\":[-879.0,-876.0],\"y\":[-22.0,56.0],\"type\":\"scatter\"},{\"hoverinfo\":\"skip\",\"marker\":{\"color\":\"red\",\"showscale\":false,\"size\":10},\"name\":\"a_bus__or_27_28_99\",\"showlegend\":false,\"x\":[-878.423503168482],\"y\":[-7.011082380530285],\"type\":\"scatter\"},{\"hoverinfo\":\"skip\",\"marker\":{\"color\":\"red\",\"showscale\":false,\"size\":10},\"name\":\"a_bus__ex_27_28_99\",\"showlegend\":false,\"x\":[-876.576496831518],\"y\":[41.01108238053028],\"type\":\"scatter\"},{\"hoverinfo\":\"skip\",\"marker\":{\"color\":\"rgb(8,81,156)\",\"showscale\":false,\"size\":10,\"symbol\":\"triangle-up\"},\"name\":\"a_->_27_28_99\",\"showlegend\":false,\"x\":[-877.8470063369639,-878.0391719474699],\"y\":[7.97783523893943,2.9815293657828583],\"type\":\"scatter\"},{\"hoverinfo\":\"skip\",\"line\":{\"color\":\"rgb(8,81,156)\"},\"name\":\"a7_29_100\",\"showlegend\":false,\"x\":[-969.0,-562.0],\"y\":[131.0,131.0],\"type\":\"scatter\"},{\"hoverinfo\":\"skip\",\"marker\":{\"color\":\"red\",\"showscale\":false,\"size\":10},\"name\":\"a_bus__or_7_29_100\",\"showlegend\":false,\"x\":[-954.0],\"y\":[131.0],\"type\":\"scatter\"},{\"hoverinfo\":\"skip\",\"marker\":{\"color\":\"red\",\"showscale\":false,\"size\":10},\"name\":\"a_bus__ex_7_29_100\",\"showlegend\":false,\"x\":[-577.0],\"y\":[131.0],\"type\":\"scatter\"},{\"hoverinfo\":\"skip\",\"marker\":{\"color\":\"rgb(8,81,156)\",\"showscale\":false,\"size\":10,\"symbol\":\"triangle-right\"},\"name\":\"a_->_7_29_100\",\"showlegend\":false,\"x\":[-939.0,-944.0],\"y\":[131.0,131.0],\"type\":\"scatter\"},{\"hoverinfo\":\"skip\",\"line\":{\"color\":\"rgb(66,146,198)\"},\"name\":\"a25_29_101\",\"showlegend\":false,\"x\":[-493.0,-562.0],\"y\":[-122.0,131.0],\"type\":\"scatter\"},{\"hoverinfo\":\"skip\",\"marker\":{\"color\":\"red\",\"showscale\":false,\"size\":10},\"name\":\"a_bus__or_25_29_101\",\"showlegend\":false,\"x\":[-496.9467610868816],\"y\":[-107.52854268143402],\"type\":\"scatter\"},{\"hoverinfo\":\"skip\",\"marker\":{\"color\":\"red\",\"showscale\":false,\"size\":10},\"name\":\"a_bus__ex_25_29_101\",\"showlegend\":false,\"x\":[-558.0532389131183],\"y\":[116.52854268143402],\"type\":\"scatter\"},{\"hoverinfo\":\"skip\",\"marker\":{\"color\":\"rgb(66,146,198)\",\"showscale\":false,\"size\":10,\"symbol\":\"triangle-nw\"},\"name\":\"a_->_25_29_101\",\"showlegend\":false,\"x\":[-500.89352217376324,-499.5779351448027],\"y\":[-93.05708536286804,-97.8809044690567],\"type\":\"scatter\"},{\"hoverinfo\":\"skip\",\"line\":{\"color\":\"rgb(8,81,156)\"},\"name\":\"a16_30_102\",\"showlegend\":false,\"x\":[-586.0,-773.0],\"y\":[205.0,56.0],\"type\":\"scatter\"},{\"hoverinfo\":\"skip\",\"marker\":{\"color\":\"red\",\"showscale\":false,\"size\":10},\"name\":\"a_bus__or_16_30_102\",\"showlegend\":false,\"x\":[-597.7313710023101],\"y\":[195.65254396072615],\"type\":\"scatter\"},{\"hoverinfo\":\"skip\",\"marker\":{\"color\":\"red\",\"showscale\":false,\"size\":10},\"name\":\"a_bus__ex_16_30_102\",\"showlegend\":false,\"x\":[-761.2686289976899],\"y\":[65.34745603927385],\"type\":\"scatter\"},{\"hoverinfo\":\"skip\",\"marker\":{\"color\":\"rgb(8,81,156)\",\"showscale\":false,\"size\":10,\"symbol\":\"triangle-sw\"},\"name\":\"a_->_16_30_102\",\"showlegend\":false,\"x\":[-609.4627420046203,-605.5522850038502],\"y\":[186.3050879214523,189.42090660121025],\"type\":\"scatter\"},{\"hoverinfo\":\"skip\",\"line\":{\"color\":\"rgb(8,48,107)\"},\"name\":\"a28_30_103\",\"showlegend\":false,\"x\":[-876.0,-773.0],\"y\":[56.0,56.0],\"type\":\"scatter\"},{\"hoverinfo\":\"skip\",\"marker\":{\"color\":\"red\",\"showscale\":false,\"size\":10},\"name\":\"a_bus__or_28_30_103\",\"showlegend\":false,\"x\":[-861.0],\"y\":[56.0],\"type\":\"scatter\"},{\"hoverinfo\":\"skip\",\"marker\":{\"color\":\"red\",\"showscale\":false,\"size\":10},\"name\":\"a_bus__ex_28_30_103\",\"showlegend\":false,\"x\":[-788.0],\"y\":[56.0],\"type\":\"scatter\"},{\"hoverinfo\":\"skip\",\"marker\":{\"color\":\"rgb(8,48,107)\",\"showscale\":false,\"size\":10,\"symbol\":\"triangle-left\"},\"name\":\"a_->_28_30_103\",\"showlegend\":false,\"x\":[-846.0,-851.0],\"y\":[56.0,56.0],\"type\":\"scatter\"},{\"hoverinfo\":\"skip\",\"line\":{\"color\":\"rgb(8,81,156)\"},\"name\":\"a22_31_104\",\"showlegend\":false,\"x\":[-348.0,-686.0],\"y\":[-115.0,7.0],\"type\":\"scatter\"},{\"hoverinfo\":\"skip\",\"marker\":{\"color\":\"red\",\"showscale\":false,\"size\":10},\"name\":\"a_bus__or_22_31_104\",\"showlegend\":false,\"x\":[-362.1090491731626],\"y\":[-109.90738461797089],\"type\":\"scatter\"},{\"hoverinfo\":\"skip\",\"marker\":{\"color\":\"red\",\"showscale\":false,\"size\":10},\"name\":\"a_bus__ex_22_31_104\",\"showlegend\":false,\"x\":[-671.8909508268374],\"y\":[1.9073846179708926],\"type\":\"scatter\"},{\"hoverinfo\":\"skip\",\"marker\":{\"color\":\"rgb(8,81,156)\",\"showscale\":false,\"size\":10,\"symbol\":\"triangle-nw\"},\"name\":\"a_->_22_31_104\",\"showlegend\":false,\"x\":[-376.2180983463252,-371.515081955271],\"y\":[-104.81476923594178,-106.51230769661815],\"type\":\"scatter\"},{\"hoverinfo\":\"skip\",\"line\":{\"color\":\"rgb(33,113,181)\"},\"name\":\"a30_31_105\",\"showlegend\":false,\"x\":[-773.0,-686.0],\"y\":[56.0,7.0],\"type\":\"scatter\"},{\"hoverinfo\":\"skip\",\"marker\":{\"color\":\"red\",\"showscale\":false,\"size\":10},\"name\":\"a_bus__or_30_31_105\",\"showlegend\":false,\"x\":[-759.9303808458508],\"y\":[48.63895013157114],\"type\":\"scatter\"},{\"hoverinfo\":\"skip\",\"marker\":{\"color\":\"red\",\"showscale\":false,\"size\":10},\"name\":\"a_bus__ex_30_31_105\",\"showlegend\":false,\"x\":[-699.0696191541492],\"y\":[14.361049868428857],\"type\":\"scatter\"},{\"hoverinfo\":\"skip\",\"marker\":{\"color\":\"rgb(33,113,181)\",\"showscale\":false,\"size\":10,\"symbol\":\"triangle-nw\"},\"name\":\"a_->_30_31_105\",\"showlegend\":false,\"x\":[-746.8607616917017,-751.2173014097514],\"y\":[41.277900263142286,43.731583552618574],\"type\":\"scatter\"},{\"hoverinfo\":\"skip\",\"line\":{\"color\":\"rgb(8,81,156)\"},\"name\":\"a26_31_106\",\"showlegend\":false,\"x\":[-858.0,-686.0],\"y\":[-98.0,7.0],\"type\":\"scatter\"},{\"hoverinfo\":\"skip\",\"marker\":{\"color\":\"red\",\"showscale\":false,\"size\":10},\"name\":\"a_bus__or_26_31_106\",\"showlegend\":false,\"x\":[-845.1970939544527],\"y\":[-90.18427247219498],\"type\":\"scatter\"},{\"hoverinfo\":\"skip\",\"marker\":{\"color\":\"red\",\"showscale\":false,\"size\":10},\"name\":\"a_bus__ex_26_31_106\",\"showlegend\":false,\"x\":[-698.8029060455473],\"y\":[-0.81572752780502],\"type\":\"scatter\"},{\"hoverinfo\":\"skip\",\"marker\":{\"color\":\"rgb(8,81,156)\",\"showscale\":false,\"size\":10,\"symbol\":\"triangle-ne\"},\"name\":\"a_->_26_31_106\",\"showlegend\":false,\"x\":[-832.3941879089055,-836.6618232574212],\"y\":[-82.36854494438997,-84.9737874536583],\"type\":\"scatter\"},{\"hoverinfo\":\"skip\",\"line\":{\"color\":\"rgb(33,113,181)\"},\"name\":\"a4_5_107\",\"showlegend\":false,\"x\":[-977.0,-874.0],\"y\":[348.0,352.0],\"type\":\"scatter\"},{\"hoverinfo\":\"skip\",\"marker\":{\"color\":\"red\",\"showscale\":false,\"size\":10},\"name\":\"a_bus__or_4_5_107\",\"showlegend\":false,\"x\":[-962.0112983727546],\"y\":[348.5820855000872],\"type\":\"scatter\"},{\"hoverinfo\":\"skip\",\"marker\":{\"color\":\"red\",\"showscale\":false,\"size\":10},\"name\":\"a_bus__ex_4_5_107\",\"showlegend\":false,\"x\":[-888.9887016272454],\"y\":[351.4179144999128],\"type\":\"scatter\"},{\"hoverinfo\":\"skip\",\"marker\":{\"color\":\"rgb(33,113,181)\",\"showscale\":false,\"size\":10,\"symbol\":\"triangle-right\"},\"name\":\"a_->_4_5_107\",\"showlegend\":false,\"x\":[-947.0225967455093,-952.0188306212577],\"y\":[349.1641710001744,348.97014250014536],\"type\":\"scatter\"},{\"hoverinfo\":\"skip\",\"line\":{\"color\":\"rgb(8,48,107)\"},\"name\":\"a14_32_108\",\"showlegend\":false,\"x\":[-498.0,-12.0],\"y\":[369.0,480.0],\"type\":\"scatter\"},{\"hoverinfo\":\"skip\",\"marker\":{\"color\":\"red\",\"showscale\":false,\"size\":10},\"name\":\"a_bus__or_14_32_108\",\"showlegend\":false,\"x\":[-483.3765623701686],\"y\":[372.33992094014667],\"type\":\"scatter\"},{\"hoverinfo\":\"skip\",\"marker\":{\"color\":\"red\",\"showscale\":false,\"size\":10},\"name\":\"a_bus__ex_14_32_108\",\"showlegend\":false,\"x\":[-26.62343762983142],\"y\":[476.66007905985333],\"type\":\"scatter\"},{\"hoverinfo\":\"skip\",\"marker\":{\"color\":\"rgb(8,48,107)\",\"showscale\":false,\"size\":10,\"symbol\":\"triangle-right\"},\"name\":\"a_->_14_32_108\",\"showlegend\":false,\"x\":[-468.75312474033717,-473.62760395028096],\"y\":[375.67984188029334,374.56653490024445],\"type\":\"scatter\"},{\"hoverinfo\":\"skip\",\"line\":{\"color\":\"rgb(8,48,107)\"},\"name\":\"a18_33_109\",\"showlegend\":false,\"x\":[-307.0,40.0],\"y\":[311.0,373.0],\"type\":\"scatter\"},{\"hoverinfo\":\"skip\",\"marker\":{\"color\":\"red\",\"showscale\":false,\"size\":10},\"name\":\"a_bus__or_18_33_109\",\"showlegend\":false,\"x\":[-292.2338494429732],\"y\":[313.6383323761835],\"type\":\"scatter\"},{\"hoverinfo\":\"skip\",\"marker\":{\"color\":\"red\",\"showscale\":false,\"size\":10},\"name\":\"a_bus__ex_18_33_109\",\"showlegend\":false,\"x\":[25.233849442973224],\"y\":[370.3616676238165],\"type\":\"scatter\"},{\"hoverinfo\":\"skip\",\"marker\":{\"color\":\"rgb(8,48,107)\",\"showscale\":false,\"size\":10,\"symbol\":\"triangle-right\"},\"name\":\"a_->_18_33_109\",\"showlegend\":false,\"x\":[-277.46769888594645,-282.389749071622],\"y\":[316.27666475236697,315.39722062697246],\"type\":\"scatter\"},{\"hoverinfo\":\"skip\",\"line\":{\"color\":\"rgb(33,113,181)\"},\"name\":\"a34_35_110\",\"showlegend\":false,\"x\":[-91.0,133.0],\"y\":[257.0,272.0],\"type\":\"scatter\"},{\"hoverinfo\":\"skip\",\"marker\":{\"color\":\"red\",\"showscale\":false,\"size\":10},\"name\":\"a_bus__or_34_35_110\",\"showlegend\":false,\"x\":[-76.0335189291625],\"y\":[258.002219714565],\"type\":\"scatter\"},{\"hoverinfo\":\"skip\",\"marker\":{\"color\":\"red\",\"showscale\":false,\"size\":10},\"name\":\"a_bus__ex_34_35_110\",\"showlegend\":false,\"x\":[118.0335189291625],\"y\":[270.997780285435],\"type\":\"scatter\"},{\"hoverinfo\":\"skip\",\"marker\":{\"color\":\"rgb(33,113,181)\",\"showscale\":false,\"size\":10,\"symbol\":\"triangle-right\"},\"name\":\"a_->_34_35_110\",\"showlegend\":false,\"x\":[-61.067037858324994,-66.0558648819375],\"y\":[259.00443942913006,258.6703661909417],\"type\":\"scatter\"},{\"hoverinfo\":\"skip\",\"line\":{\"color\":\"rgb(33,113,181)\"},\"name\":\"a34_36_111\",\"showlegend\":false,\"x\":[-91.0,194.0],\"y\":[257.0,411.0],\"type\":\"scatter\"},{\"hoverinfo\":\"skip\",\"marker\":{\"color\":\"red\",\"showscale\":false,\"size\":10},\"name\":\"a_bus__or_34_36_111\",\"showlegend\":false,\"x\":[-77.80335542854827],\"y\":[264.13081847018793],\"type\":\"scatter\"},{\"hoverinfo\":\"skip\",\"marker\":{\"color\":\"red\",\"showscale\":false,\"size\":10},\"name\":\"a_bus__ex_34_36_111\",\"showlegend\":false,\"x\":[180.80335542854826],\"y\":[403.86918152981207],\"type\":\"scatter\"},{\"hoverinfo\":\"skip\",\"marker\":{\"color\":\"rgb(33,113,181)\",\"showscale\":false,\"size\":10,\"symbol\":\"triangle-sw\"},\"name\":\"a_->_34_36_111\",\"showlegend\":false,\"x\":[-64.60671085709654,-69.00559238091378],\"y\":[271.26163694037587,268.88469745031324],\"type\":\"scatter\"},{\"hoverinfo\":\"skip\",\"line\":{\"color\":\"rgb(8,48,107)\"},\"name\":\"a32_36_112\",\"showlegend\":false,\"x\":[-12.0,194.0],\"y\":[480.0,411.0],\"type\":\"scatter\"},{\"hoverinfo\":\"skip\",\"marker\":{\"color\":\"red\",\"showscale\":false,\"size\":10},\"name\":\"a_bus__or_32_36_112\",\"showlegend\":false,\"x\":[2.223329866313412],\"y\":[475.2358749476911],\"type\":\"scatter\"},{\"hoverinfo\":\"skip\",\"marker\":{\"color\":\"red\",\"showscale\":false,\"size\":10},\"name\":\"a_bus__ex_32_36_112\",\"showlegend\":false,\"x\":[179.7766701336866],\"y\":[415.7641250523089],\"type\":\"scatter\"},{\"hoverinfo\":\"skip\",\"marker\":{\"color\":\"rgb(8,48,107)\",\"showscale\":false,\"size\":10,\"symbol\":\"triangle-nw\"},\"name\":\"a_->_32_36_112\",\"showlegend\":false,\"x\":[16.446659732626824,11.70554977718902],\"y\":[470.4717498953823,472.05979157948525],\"type\":\"scatter\"},{\"hoverinfo\":\"skip\",\"line\":{\"color\":\"rgb(8,81,156)\"},\"name\":\"a33_35_113\",\"showlegend\":false,\"x\":[40.0,133.0],\"y\":[373.0,272.0],\"type\":\"scatter\"},{\"hoverinfo\":\"skip\",\"marker\":{\"color\":\"red\",\"showscale\":false,\"size\":10},\"name\":\"a_bus__or_33_35_113\",\"showlegend\":false,\"x\":[50.16058071817275],\"y\":[361.96539083295215],\"type\":\"scatter\"},{\"hoverinfo\":\"skip\",\"marker\":{\"color\":\"red\",\"showscale\":false,\"size\":10},\"name\":\"a_bus__ex_33_35_113\",\"showlegend\":false,\"x\":[122.83941928182725],\"y\":[283.03460916704785],\"type\":\"scatter\"},{\"hoverinfo\":\"skip\",\"marker\":{\"color\":\"rgb(8,81,156)\",\"showscale\":false,\"size\":10,\"symbol\":\"triangle-se\"},\"name\":\"a_->_33_35_113\",\"showlegend\":false,\"x\":[60.32116143634551,56.93430119695459],\"y\":[350.9307816659043,354.6089847215869],\"type\":\"scatter\"},{\"hoverinfo\":\"skip\",\"line\":{\"color\":\"rgb(66,146,198)\"},\"name\":\"a33_36_114\",\"showlegend\":false,\"x\":[40.0,194.0],\"y\":[373.0,411.0],\"type\":\"scatter\"},{\"hoverinfo\":\"skip\",\"marker\":{\"color\":\"red\",\"showscale\":false,\"size\":10},\"name\":\"a_bus__or_33_36_114\",\"showlegend\":false,\"x\":[54.5631948922274],\"y\":[376.5935156227574],\"type\":\"scatter\"},{\"hoverinfo\":\"skip\",\"marker\":{\"color\":\"red\",\"showscale\":false,\"size\":10},\"name\":\"a_bus__ex_33_36_114\",\"showlegend\":false,\"x\":[179.43680510777259],\"y\":[407.4064843772426],\"type\":\"scatter\"},{\"hoverinfo\":\"skip\",\"marker\":{\"color\":\"rgb(66,146,198)\",\"showscale\":false,\"size\":10,\"symbol\":\"triangle-left\"},\"name\":\"a_->_33_36_114\",\"showlegend\":false,\"x\":[69.12638978445482,64.27199148704568],\"y\":[380.1870312455148,378.98919270459567],\"type\":\"scatter\"},{\"hoverinfo\":\"skip\",\"line\":{\"color\":\"rgb(8,48,107)\"},\"name\":\"a36_38_115\",\"showlegend\":false,\"x\":[194.0,155.0],\"y\":[411.0,503.0],\"type\":\"scatter\"},{\"hoverinfo\":\"skip\",\"marker\":{\"color\":\"red\",\"showscale\":false,\"size\":10},\"name\":\"a_bus__or_36_38_115\",\"showlegend\":false,\"x\":[188.14560755788446],\"y\":[424.8103616583238],\"type\":\"scatter\"},{\"hoverinfo\":\"skip\",\"marker\":{\"color\":\"red\",\"showscale\":false,\"size\":10},\"name\":\"a_bus__ex_36_38_115\",\"showlegend\":false,\"x\":[160.85439244211554],\"y\":[489.1896383416762],\"type\":\"scatter\"},{\"hoverinfo\":\"skip\",\"marker\":{\"color\":\"rgb(8,48,107)\",\"showscale\":false,\"size\":10,\"symbol\":\"triangle-se\"},\"name\":\"a_->_36_38_115\",\"showlegend\":false,\"x\":[182.29121511576895,184.2426792631408],\"y\":[438.6207233166476,434.01726943053967],\"type\":\"scatter\"},{\"hoverinfo\":\"skip\",\"line\":{\"color\":\"rgb(8,48,107)\"},\"name\":\"a36_39_116\",\"showlegend\":false,\"x\":[194.0,226.0],\"y\":[411.0,568.0],\"type\":\"scatter\"},{\"hoverinfo\":\"skip\",\"marker\":{\"color\":\"red\",\"showscale\":false,\"size\":10},\"name\":\"a_bus__or_36_39_116\",\"showlegend\":false,\"x\":[196.99573178240087],\"y\":[425.69780905740424],\"type\":\"scatter\"},{\"hoverinfo\":\"skip\",\"marker\":{\"color\":\"red\",\"showscale\":false,\"size\":10},\"name\":\"a_bus__ex_36_39_116\",\"showlegend\":false,\"x\":[223.00426821759913],\"y\":[553.3021909425958],\"type\":\"scatter\"},{\"hoverinfo\":\"skip\",\"marker\":{\"color\":\"rgb(8,48,107)\",\"showscale\":false,\"size\":10,\"symbol\":\"triangle-down\"},\"name\":\"a_->_36_39_116\",\"showlegend\":false,\"x\":[199.99146356480173,198.99288630400144],\"y\":[440.3956181148084,435.496348429007],\"type\":\"scatter\"},{\"hoverinfo\":\"skip\",\"line\":{\"color\":\"rgb(8,81,156)\"},\"name\":\"a29_37_117\",\"showlegend\":false,\"x\":[-562.0,231.0],\"y\":[131.0,213.0],\"type\":\"scatter\"},{\"hoverinfo\":\"skip\",\"marker\":{\"color\":\"red\",\"showscale\":false,\"size\":10},\"name\":\"a_bus__or_29_37_117\",\"showlegend\":false,\"x\":[-547.0795566998685],\"y\":[132.54284533494425],\"type\":\"scatter\"},{\"hoverinfo\":\"skip\",\"marker\":{\"color\":\"red\",\"showscale\":false,\"size\":10},\"name\":\"a_bus__ex_29_37_117\",\"showlegend\":false,\"x\":[216.07955669986845],\"y\":[211.45715466505575],\"type\":\"scatter\"},{\"hoverinfo\":\"skip\",\"marker\":{\"color\":\"rgb(8,81,156)\",\"showscale\":false,\"size\":10,\"symbol\":\"triangle-right\"},\"name\":\"a_->_29_37_117\",\"showlegend\":false,\"x\":[-532.1591133997368,-537.1325944997807],\"y\":[134.0856906698885,133.57140889157375],\"type\":\"scatter\"},{\"hoverinfo\":\"skip\",\"line\":{\"color\":\"rgb(33,113,181)\"},\"name\":\"a5_6_118\",\"showlegend\":false,\"x\":[-874.0,-792.0],\"y\":[352.0,346.0],\"type\":\"scatter\"},{\"hoverinfo\":\"skip\",\"marker\":{\"color\":\"red\",\"showscale\":false,\"size\":10},\"name\":\"a_bus__or_5_6_118\",\"showlegend\":false,\"x\":[-859.0399941461266],\"y\":[350.90536542532635],\"type\":\"scatter\"},{\"hoverinfo\":\"skip\",\"marker\":{\"color\":\"red\",\"showscale\":false,\"size\":10},\"name\":\"a_bus__ex_5_6_118\",\"showlegend\":false,\"x\":[-806.9600058538734],\"y\":[347.09463457467365],\"type\":\"scatter\"},{\"hoverinfo\":\"skip\",\"marker\":{\"color\":\"rgb(33,113,181)\",\"showscale\":false,\"size\":10,\"symbol\":\"triangle-right\"},\"name\":\"a_->_5_6_118\",\"showlegend\":false,\"x\":[-844.0799882922531,-849.0666569102109],\"y\":[349.8107308506527,350.17560904221057],\"type\":\"scatter\"},{\"hoverinfo\":\"skip\",\"line\":{\"color\":\"rgb(8,81,156)\"},\"name\":\"a38_39_119\",\"showlegend\":false,\"x\":[155.0,226.0],\"y\":[503.0,568.0],\"type\":\"scatter\"},{\"hoverinfo\":\"skip\",\"marker\":{\"color\":\"red\",\"showscale\":false,\"size\":10},\"name\":\"a_bus__or_38_39_119\",\"showlegend\":false,\"x\":[166.06377817779492],\"y\":[513.1288110078405],\"type\":\"scatter\"},{\"hoverinfo\":\"skip\",\"marker\":{\"color\":\"red\",\"showscale\":false,\"size\":10},\"name\":\"a_bus__ex_38_39_119\",\"showlegend\":false,\"x\":[214.93622182220508],\"y\":[557.8711889921595],\"type\":\"scatter\"},{\"hoverinfo\":\"skip\",\"marker\":{\"color\":\"rgb(8,81,156)\",\"showscale\":false,\"size\":10,\"symbol\":\"triangle-sw\"},\"name\":\"a_->_38_39_119\",\"showlegend\":false,\"x\":[177.12755635558983,173.43963029632485],\"y\":[523.2576220156809,519.881351679734],\"type\":\"scatter\"},{\"hoverinfo\":\"skip\",\"line\":{\"color\":\"rgb(8,81,156)\"},\"name\":\"a39_40_120\",\"showlegend\":false,\"x\":[226.0,340.0],\"y\":[568.0,615.0],\"type\":\"scatter\"},{\"hoverinfo\":\"skip\",\"marker\":{\"color\":\"red\",\"showscale\":false,\"size\":10},\"name\":\"a_bus__or_39_40_120\",\"showlegend\":false,\"x\":[239.86765083059692],\"y\":[573.7173648161233],\"type\":\"scatter\"},{\"hoverinfo\":\"skip\",\"marker\":{\"color\":\"red\",\"showscale\":false,\"size\":10},\"name\":\"a_bus__ex_39_40_120\",\"showlegend\":false,\"x\":[326.1323491694031],\"y\":[609.2826351838767],\"type\":\"scatter\"},{\"hoverinfo\":\"skip\",\"marker\":{\"color\":\"rgb(8,81,156)\",\"showscale\":false,\"size\":10,\"symbol\":\"triangle-sw\"},\"name\":\"a_->_39_40_120\",\"showlegend\":false,\"x\":[253.73530166119383,249.1127513843282],\"y\":[579.4347296322467,577.5289413602055],\"type\":\"scatter\"},{\"hoverinfo\":\"skip\",\"line\":{\"color\":\"rgb(8,81,156)\"},\"name\":\"a39_41_121\",\"showlegend\":false,\"x\":[226.0,424.0],\"y\":[568.0,568.0],\"type\":\"scatter\"},{\"hoverinfo\":\"skip\",\"marker\":{\"color\":\"red\",\"showscale\":false,\"size\":10},\"name\":\"a_bus__or_39_41_121\",\"showlegend\":false,\"x\":[241.0],\"y\":[568.0],\"type\":\"scatter\"},{\"hoverinfo\":\"skip\",\"marker\":{\"color\":\"red\",\"showscale\":false,\"size\":10},\"name\":\"a_bus__ex_39_41_121\",\"showlegend\":false,\"x\":[409.0],\"y\":[568.0],\"type\":\"scatter\"},{\"hoverinfo\":\"skip\",\"marker\":{\"color\":\"rgb(8,81,156)\",\"showscale\":false,\"size\":10,\"symbol\":\"triangle-left\"},\"name\":\"a_->_39_41_121\",\"showlegend\":false,\"x\":[256.0,251.0],\"y\":[568.0,568.0],\"type\":\"scatter\"},{\"hoverinfo\":\"skip\",\"line\":{\"color\":\"rgb(8,81,156)\"},\"name\":\"a40_41_122\",\"showlegend\":false,\"x\":[340.0,424.0],\"y\":[615.0,568.0],\"type\":\"scatter\"},{\"hoverinfo\":\"skip\",\"marker\":{\"color\":\"red\",\"showscale\":false,\"size\":10},\"name\":\"a_bus__or_40_41_122\",\"showlegend\":false,\"x\":[353.0902467575173],\"y\":[607.6756952666273],\"type\":\"scatter\"},{\"hoverinfo\":\"skip\",\"marker\":{\"color\":\"red\",\"showscale\":false,\"size\":10},\"name\":\"a_bus__ex_40_41_122\",\"showlegend\":false,\"x\":[410.9097532424827],\"y\":[575.3243047333727],\"type\":\"scatter\"},{\"hoverinfo\":\"skip\",\"marker\":{\"color\":\"rgb(8,81,156)\",\"showscale\":false,\"size\":10,\"symbol\":\"triangle-nw\"},\"name\":\"a_->_40_41_122\",\"showlegend\":false,\"x\":[366.18049351503464,361.81707792919553],\"y\":[600.3513905332544,602.7928254443786],\"type\":\"scatter\"},{\"hoverinfo\":\"skip\",\"line\":{\"color\":\"rgb(8,81,156)\"},\"name\":\"a42_43_123\",\"showlegend\":false,\"x\":[326.0,369.0],\"y\":[363.0,421.0],\"type\":\"scatter\"},{\"hoverinfo\":\"skip\",\"marker\":{\"color\":\"red\",\"showscale\":false,\"size\":10},\"name\":\"a_bus__or_42_43_123\",\"showlegend\":false,\"x\":[334.93338090848965],\"y\":[375.04967657424186],\"type\":\"scatter\"},{\"hoverinfo\":\"skip\",\"marker\":{\"color\":\"red\",\"showscale\":false,\"size\":10},\"name\":\"a_bus__ex_42_43_123\",\"showlegend\":false,\"x\":[360.06661909151035],\"y\":[408.95032342575814],\"type\":\"scatter\"},{\"hoverinfo\":\"skip\",\"marker\":{\"color\":\"rgb(8,81,156)\",\"showscale\":false,\"size\":10,\"symbol\":\"triangle-ne\"},\"name\":\"a_->_42_43_123\",\"showlegend\":false,\"x\":[343.86676181697925,340.88896818081605],\"y\":[387.09935314848366,383.08279429040306],\"type\":\"scatter\"},{\"hoverinfo\":\"skip\",\"line\":{\"color\":\"rgb(8,81,156)\"},\"name\":\"a33_42_124\",\"showlegend\":false,\"x\":[40.0,326.0],\"y\":[373.0,363.0],\"type\":\"scatter\"},{\"hoverinfo\":\"skip\",\"marker\":{\"color\":\"red\",\"showscale\":false,\"size\":10},\"name\":\"a_bus__or_33_42_124\",\"showlegend\":false,\"x\":[54.99083924625381],\"y\":[372.4758447815995],\"type\":\"scatter\"},{\"hoverinfo\":\"skip\",\"marker\":{\"color\":\"red\",\"showscale\":false,\"size\":10},\"name\":\"a_bus__ex_33_42_124\",\"showlegend\":false,\"x\":[311.0091607537462],\"y\":[363.5241552184005],\"type\":\"scatter\"},{\"hoverinfo\":\"skip\",\"marker\":{\"color\":\"rgb(8,81,156)\",\"showscale\":false,\"size\":10,\"symbol\":\"triangle-right\"},\"name\":\"a_->_33_42_124\",\"showlegend\":false,\"x\":[69.98167849250763,64.98473207708969],\"y\":[371.95168956319907,372.12640796933255],\"type\":\"scatter\"},{\"hoverinfo\":\"skip\",\"line\":{\"color\":\"rgb(8,81,156)\"},\"name\":\"a43_44_125\",\"showlegend\":false,\"x\":[369.0,411.0],\"y\":[421.0,330.0],\"type\":\"scatter\"},{\"hoverinfo\":\"skip\",\"marker\":{\"color\":\"red\",\"showscale\":false,\"size\":10},\"name\":\"a_bus__or_43_44_125\",\"showlegend\":false,\"x\":[375.2858726619262],\"y\":[407.3806092324932],\"type\":\"scatter\"},{\"hoverinfo\":\"skip\",\"marker\":{\"color\":\"red\",\"showscale\":false,\"size\":10},\"name\":\"a_bus__ex_43_44_125\",\"showlegend\":false,\"x\":[404.7141273380738],\"y\":[343.6193907675068],\"type\":\"scatter\"},{\"hoverinfo\":\"skip\",\"marker\":{\"color\":\"rgb(8,81,156)\",\"showscale\":false,\"size\":10,\"symbol\":\"triangle-se\"},\"name\":\"a_->_43_44_125\",\"showlegend\":false,\"x\":[381.57174532385244,379.4764544365437],\"y\":[393.7612184649864,398.3010153874887],\"type\":\"scatter\"},{\"hoverinfo\":\"skip\",\"line\":{\"color\":\"rgb(8,81,156)\"},\"name\":\"a44_45_126\",\"showlegend\":false,\"x\":[411.0,350.0],\"y\":[330.0,236.0],\"type\":\"scatter\"},{\"hoverinfo\":\"skip\",\"marker\":{\"color\":\"red\",\"showscale\":false,\"size\":10},\"name\":\"a_bus__or_44_45_126\",\"showlegend\":false,\"x\":[402.8345871683182],\"y\":[317.41723268560503],\"type\":\"scatter\"},{\"hoverinfo\":\"skip\",\"marker\":{\"color\":\"red\",\"showscale\":false,\"size\":10},\"name\":\"a_bus__ex_44_45_126\",\"showlegend\":false,\"x\":[358.1654128316818],\"y\":[248.58276731439494],\"type\":\"scatter\"},{\"hoverinfo\":\"skip\",\"marker\":{\"color\":\"rgb(8,81,156)\",\"showscale\":false,\"size\":10,\"symbol\":\"triangle-ne\"},\"name\":\"a_->_44_45_126\",\"showlegend\":false,\"x\":[394.6691743366364,397.39097861386364],\"y\":[304.83446537121006,309.02872114267507],\"type\":\"scatter\"},{\"hoverinfo\":\"skip\",\"line\":{\"color\":\"rgb(8,81,156)\"},\"name\":\"a45_46_127\",\"showlegend\":false,\"x\":[350.0,460.0],\"y\":[236.0,182.0],\"type\":\"scatter\"},{\"hoverinfo\":\"skip\",\"marker\":{\"color\":\"red\",\"showscale\":false,\"size\":10},\"name\":\"a_bus__or_45_46_127\",\"showlegend\":false,\"x\":[363.4650141584266],\"y\":[229.3899021404088],\"type\":\"scatter\"},{\"hoverinfo\":\"skip\",\"marker\":{\"color\":\"red\",\"showscale\":false,\"size\":10},\"name\":\"a_bus__ex_45_46_127\",\"showlegend\":false,\"x\":[446.5349858415734],\"y\":[188.6100978595912],\"type\":\"scatter\"},{\"hoverinfo\":\"skip\",\"marker\":{\"color\":\"rgb(8,81,156)\",\"showscale\":false,\"size\":10,\"symbol\":\"triangle-nw\"},\"name\":\"a_->_45_46_127\",\"showlegend\":false,\"x\":[376.9300283168531,372.44169026404427],\"y\":[222.77980428081756,224.98317023401464],\"type\":\"scatter\"},{\"hoverinfo\":\"skip\",\"line\":{\"color\":\"rgb(8,81,156)\"},\"name\":\"a45_47_128\",\"showlegend\":false,\"x\":[350.0,453.0],\"y\":[236.0,244.0],\"type\":\"scatter\"},{\"hoverinfo\":\"skip\",\"marker\":{\"color\":\"red\",\"showscale\":false,\"size\":10},\"name\":\"a_bus__or_45_47_128\",\"showlegend\":false,\"x\":[364.95495908007956],\"y\":[237.161550219812],\"type\":\"scatter\"},{\"hoverinfo\":\"skip\",\"marker\":{\"color\":\"red\",\"showscale\":false,\"size\":10},\"name\":\"a_bus__ex_45_47_128\",\"showlegend\":false,\"x\":[438.04504091992044],\"y\":[242.838449780188],\"type\":\"scatter\"},{\"hoverinfo\":\"skip\",\"marker\":{\"color\":\"rgb(8,81,156)\",\"showscale\":false,\"size\":10,\"symbol\":\"triangle-left\"},\"name\":\"a_->_45_47_128\",\"showlegend\":false,\"x\":[379.9099181601592,374.92493180013264],\"y\":[238.32310043962403,237.93591703302002],\"type\":\"scatter\"},{\"hoverinfo\":\"skip\",\"line\":{\"color\":\"rgb(66,146,198)\"},\"name\":\"a7_8_129\",\"showlegend\":false,\"x\":[-969.0,-964.0],\"y\":[131.0,39.0],\"type\":\"scatter\"},{\"hoverinfo\":\"skip\",\"marker\":{\"color\":\"red\",\"showscale\":false,\"size\":10},\"name\":\"a_bus__or_7_8_129\",\"showlegend\":false,\"x\":[-968.1859838963591],\"y\":[116.02210369300771],\"type\":\"scatter\"},{\"hoverinfo\":\"skip\",\"marker\":{\"color\":\"red\",\"showscale\":false,\"size\":10},\"name\":\"a_bus__ex_7_8_129\",\"showlegend\":false,\"x\":[-964.8140161036409],\"y\":[53.97789630699229],\"type\":\"scatter\"},{\"hoverinfo\":\"skip\",\"marker\":{\"color\":\"rgb(66,146,198)\",\"showscale\":false,\"size\":10,\"symbol\":\"triangle-up\"},\"name\":\"a_->_7_8_129\",\"showlegend\":false,\"x\":[-967.3719677927182,-967.6433064939318],\"y\":[101.04420738601542,106.03683948834617],\"type\":\"scatter\"},{\"hoverinfo\":\"skip\",\"line\":{\"color\":\"rgb(8,48,107)\"},\"name\":\"a46_48_130\",\"showlegend\":false,\"x\":[460.0,583.0],\"y\":[182.0,209.0],\"type\":\"scatter\"},{\"hoverinfo\":\"skip\",\"marker\":{\"color\":\"red\",\"showscale\":false,\"size\":10},\"name\":\"a_bus__or_46_48_130\",\"showlegend\":false,\"x\":[474.65116514757824],\"y\":[185.21610942263914],\"type\":\"scatter\"},{\"hoverinfo\":\"skip\",\"marker\":{\"color\":\"red\",\"showscale\":false,\"size\":10},\"name\":\"a_bus__ex_46_48_130\",\"showlegend\":false,\"x\":[568.3488348524218],\"y\":[205.78389057736086],\"type\":\"scatter\"},{\"hoverinfo\":\"skip\",\"marker\":{\"color\":\"rgb(8,48,107)\",\"showscale\":false,\"size\":10,\"symbol\":\"triangle-left\"},\"name\":\"a_->_46_48_130\",\"showlegend\":false,\"x\":[489.3023302951565,484.4186085792971],\"y\":[188.43221884527824,187.3601823710652],\"type\":\"scatter\"},{\"hoverinfo\":\"skip\",\"line\":{\"color\":\"rgb(33,113,181)\"},\"name\":\"a41_48_131\",\"showlegend\":false,\"x\":[426.7430077542851,585.7430077542851],\"y\":[569.2148697296137,210.21486972961375],\"type\":\"scatter\"},{\"hoverinfo\":\"skip\",\"marker\":{\"color\":\"red\",\"showscale\":false,\"size\":10},\"name\":\"a_bus__or_41_48_131\",\"showlegend\":false,\"x\":[432.81735640235377],\"y\":[555.4998309581882],\"type\":\"scatter\"},{\"hoverinfo\":\"skip\",\"marker\":{\"color\":\"red\",\"showscale\":false,\"size\":10},\"name\":\"a_bus__ex_41_48_131\",\"showlegend\":false,\"x\":[579.6686591062164],\"y\":[223.9299085010393],\"type\":\"scatter\"},{\"hoverinfo\":\"skip\",\"marker\":{\"color\":\"rgb(33,113,181)\",\"showscale\":false,\"size\":10,\"symbol\":\"triangle-se\"},\"name\":\"a_->_41_48_131\",\"showlegend\":false,\"x\":[438.8917050504225,436.8669221677329],\"y\":[541.7847921867627,546.3564717772379],\"type\":\"scatter\"},{\"hoverinfo\":\"skip\",\"line\":{\"color\":\"rgb(33,113,181)\"},\"name\":\"a41_48_132\",\"showlegend\":false,\"x\":[421.2569922457149,580.2569922457149],\"y\":[566.7851302703863,207.78513027038625],\"type\":\"scatter\"},{\"hoverinfo\":\"skip\",\"marker\":{\"color\":\"red\",\"showscale\":false,\"size\":10},\"name\":\"a_bus__or_41_48_132\",\"showlegend\":false,\"x\":[427.3313408937836],\"y\":[553.0700914989608],\"type\":\"scatter\"},{\"hoverinfo\":\"skip\",\"marker\":{\"color\":\"red\",\"showscale\":false,\"size\":10},\"name\":\"a_bus__ex_41_48_132\",\"showlegend\":false,\"x\":[574.1826435976461],\"y\":[221.5001690418118],\"type\":\"scatter\"},{\"hoverinfo\":\"skip\",\"marker\":{\"color\":\"rgb(33,113,181)\",\"showscale\":false,\"size\":10,\"symbol\":\"triangle-se\"},\"name\":\"a_->_41_48_132\",\"showlegend\":false,\"x\":[433.4056895418523,431.38090665916275],\"y\":[539.3550527275353,543.9267323180104],\"type\":\"scatter\"},{\"hoverinfo\":\"skip\",\"line\":{\"color\":\"rgb(8,81,156)\"},\"name\":\"a44_48_133\",\"showlegend\":false,\"x\":[411.0,583.0],\"y\":[330.0,209.0],\"type\":\"scatter\"},{\"hoverinfo\":\"skip\",\"marker\":{\"color\":\"red\",\"showscale\":false,\"size\":10},\"name\":\"a_bus__or_44_48_133\",\"showlegend\":false,\"x\":[423.2683394866292],\"y\":[321.36936582626663],\"type\":\"scatter\"},{\"hoverinfo\":\"skip\",\"marker\":{\"color\":\"red\",\"showscale\":false,\"size\":10},\"name\":\"a_bus__ex_44_48_133\",\"showlegend\":false,\"x\":[570.7316605133708],\"y\":[217.63063417373334],\"type\":\"scatter\"},{\"hoverinfo\":\"skip\",\"marker\":{\"color\":\"rgb(8,81,156)\",\"showscale\":false,\"size\":10,\"symbol\":\"triangle-nw\"},\"name\":\"a_->_44_48_133\",\"showlegend\":false,\"x\":[435.53667897325846,431.4472324777154],\"y\":[312.73873165253326,315.6156097104444],\"type\":\"scatter\"},{\"hoverinfo\":\"skip\",\"line\":{\"color\":\"rgb(8,81,156)\"},\"name\":\"a47_48_134\",\"showlegend\":false,\"x\":[453.0,583.0],\"y\":[244.0,209.0],\"type\":\"scatter\"},{\"hoverinfo\":\"skip\",\"marker\":{\"color\":\"red\",\"showscale\":false,\"size\":10},\"name\":\"a_bus__or_47_48_134\",\"showlegend\":false,\"x\":[467.48423637781],\"y\":[240.1003978982819],\"type\":\"scatter\"},{\"hoverinfo\":\"skip\",\"marker\":{\"color\":\"red\",\"showscale\":false,\"size\":10},\"name\":\"a_bus__ex_47_48_134\",\"showlegend\":false,\"x\":[568.51576362219],\"y\":[212.8996021017181],\"type\":\"scatter\"},{\"hoverinfo\":\"skip\",\"marker\":{\"color\":\"rgb(8,81,156)\",\"showscale\":false,\"size\":10,\"symbol\":\"triangle-nw\"},\"name\":\"a_->_47_48_134\",\"showlegend\":false,\"x\":[481.96847275562004,477.1403939630167],\"y\":[236.20079579656382,237.50066316380318],\"type\":\"scatter\"},{\"hoverinfo\":\"skip\",\"line\":{\"color\":\"rgb(253,141,60)\"},\"name\":\"a48_49_135\",\"showlegend\":false,\"x\":[583.0,776.0],\"y\":[209.0,300.0],\"type\":\"scatter\"},{\"hoverinfo\":\"skip\",\"marker\":{\"color\":\"red\",\"showscale\":false,\"size\":10},\"name\":\"a_bus__or_48_49_135\",\"showlegend\":false,\"x\":[596.5674972714031],\"y\":[215.39711011242326],\"type\":\"scatter\"},{\"hoverinfo\":\"skip\",\"marker\":{\"color\":\"red\",\"showscale\":false,\"size\":10},\"name\":\"a_bus__ex_48_49_135\",\"showlegend\":false,\"x\":[762.4325027285969],\"y\":[293.60288988757674],\"type\":\"scatter\"},{\"hoverinfo\":\"skip\",\"marker\":{\"color\":\"rgb(253,141,60)\",\"showscale\":false,\"size\":10,\"symbol\":\"triangle-ne\"},\"name\":\"a_->_48_49_135\",\"showlegend\":false,\"x\":[610.1349945428063,605.6124954523386],\"y\":[221.79422022484653,219.6618501873721],\"type\":\"scatter\"},{\"hoverinfo\":\"skip\",\"line\":{\"color\":\"rgb(253,141,60)\"},\"name\":\"a48_50_136\",\"showlegend\":false,\"x\":[583.0,706.0],\"y\":[209.0,300.0],\"type\":\"scatter\"},{\"hoverinfo\":\"skip\",\"marker\":{\"color\":\"red\",\"showscale\":false,\"size\":10},\"name\":\"a_bus__or_48_50_136\",\"showlegend\":false,\"x\":[595.0585659695589],\"y\":[217.9213780750395],\"type\":\"scatter\"},{\"hoverinfo\":\"skip\",\"marker\":{\"color\":\"red\",\"showscale\":false,\"size\":10},\"name\":\"a_bus__ex_48_50_136\",\"showlegend\":false,\"x\":[693.9414340304411],\"y\":[291.0786219249605],\"type\":\"scatter\"},{\"hoverinfo\":\"skip\",\"marker\":{\"color\":\"rgb(253,141,60)\",\"showscale\":false,\"size\":10,\"symbol\":\"triangle-ne\"},\"name\":\"a_->_48_50_136\",\"showlegend\":false,\"x\":[607.1171319391178,603.0976099492649],\"y\":[226.84275615007905,223.8689634583992],\"type\":\"scatter\"},{\"hoverinfo\":\"skip\",\"line\":{\"color\":\"rgb(33,113,181)\"},\"name\":\"a50_51_137\",\"showlegend\":false,\"x\":[706.0,541.0],\"y\":[300.0,430.0],\"type\":\"scatter\"},{\"hoverinfo\":\"skip\",\"marker\":{\"color\":\"red\",\"showscale\":false,\"size\":10},\"name\":\"a_bus__or_50_51_137\",\"showlegend\":false,\"x\":[694.2176249165869],\"y\":[309.2830833990527],\"type\":\"scatter\"},{\"hoverinfo\":\"skip\",\"marker\":{\"color\":\"red\",\"showscale\":false,\"size\":10},\"name\":\"a_bus__ex_50_51_137\",\"showlegend\":false,\"x\":[552.7823750834131],\"y\":[420.7169166009473],\"type\":\"scatter\"},{\"hoverinfo\":\"skip\",\"marker\":{\"color\":\"rgb(33,113,181)\",\"showscale\":false,\"size\":10,\"symbol\":\"triangle-nw\"},\"name\":\"a_->_50_51_137\",\"showlegend\":false,\"x\":[682.4352498331739,686.3627081943116],\"y\":[318.56616679810537,315.4718056650878],\"type\":\"scatter\"},{\"hoverinfo\":\"skip\",\"line\":{\"color\":\"rgb(33,113,181)\"},\"name\":\"a51_52_138\",\"showlegend\":false,\"x\":[541.0,533.0],\"y\":[430.0,568.0],\"type\":\"scatter\"},{\"hoverinfo\":\"skip\",\"marker\":{\"color\":\"red\",\"showscale\":false,\"size\":10},\"name\":\"a_bus__or_51_52_138\",\"showlegend\":false,\"x\":[540.1318922572848],\"y\":[444.9748585618375],\"type\":\"scatter\"},{\"hoverinfo\":\"skip\",\"marker\":{\"color\":\"red\",\"showscale\":false,\"size\":10},\"name\":\"a_bus__ex_51_52_138\",\"showlegend\":false,\"x\":[533.8681077427152],\"y\":[553.0251414381624],\"type\":\"scatter\"},{\"hoverinfo\":\"skip\",\"marker\":{\"color\":\"rgb(33,113,181)\",\"showscale\":false,\"size\":10,\"symbol\":\"triangle-up\"},\"name\":\"a_->_51_52_138\",\"showlegend\":false,\"x\":[539.2637845145696,539.5531537621413],\"y\":[459.949717123675,454.95809760306247],\"type\":\"scatter\"},{\"hoverinfo\":\"skip\",\"line\":{\"color\":\"rgb(8,81,156)\"},\"name\":\"a52_53_139\",\"showlegend\":false,\"x\":[533.0,625.0],\"y\":[568.0,566.0],\"type\":\"scatter\"},{\"hoverinfo\":\"skip\",\"marker\":{\"color\":\"red\",\"showscale\":false,\"size\":10},\"name\":\"a_bus__or_52_53_139\",\"showlegend\":false,\"x\":[547.9964568323587],\"y\":[567.6739900688617],\"type\":\"scatter\"},{\"hoverinfo\":\"skip\",\"marker\":{\"color\":\"red\",\"showscale\":false,\"size\":10},\"name\":\"a_bus__ex_52_53_139\",\"showlegend\":false,\"x\":[610.0035431676413],\"y\":[566.3260099311383],\"type\":\"scatter\"},{\"hoverinfo\":\"skip\",\"marker\":{\"color\":\"rgb(8,81,156)\",\"showscale\":false,\"size\":10,\"symbol\":\"triangle-left\"},\"name\":\"a_->_52_53_139\",\"showlegend\":false,\"x\":[562.9929136647174,557.9940947205979],\"y\":[567.3479801377234,567.4566501147696],\"type\":\"scatter\"},{\"hoverinfo\":\"skip\",\"line\":{\"color\":\"rgb(8,48,107)\"},\"name\":\"a8_9_140\",\"showlegend\":false,\"x\":[-964.0,-969.0],\"y\":[39.0,-39.0],\"type\":\"scatter\"},{\"hoverinfo\":\"skip\",\"marker\":{\"color\":\"red\",\"showscale\":false,\"size\":10},\"name\":\"a_bus__or_8_9_140\",\"showlegend\":false,\"x\":[-964.9595689816501],\"y\":[24.030723886257732],\"type\":\"scatter\"},{\"hoverinfo\":\"skip\",\"marker\":{\"color\":\"red\",\"showscale\":false,\"size\":10},\"name\":\"a_bus__ex_8_9_140\",\"showlegend\":false,\"x\":[-968.0404310183499],\"y\":[-24.030723886257732],\"type\":\"scatter\"},{\"hoverinfo\":\"skip\",\"marker\":{\"color\":\"rgb(8,48,107)\",\"showscale\":false,\"size\":10,\"symbol\":\"triangle-up\"},\"name\":\"a_->_8_9_140\",\"showlegend\":false,\"x\":[-965.9191379633003,-965.5992816360836],\"y\":[9.061447772515459,14.051206477096216],\"type\":\"scatter\"},{\"hoverinfo\":\"skip\",\"line\":{\"color\":\"rgb(33,113,181)\"},\"name\":\"a48_53_141\",\"showlegend\":false,\"x\":[580.0205481870314,622.0205481870314],\"y\":[209.3505237427022,566.3505237427022],\"type\":\"scatter\"},{\"hoverinfo\":\"skip\",\"marker\":{\"color\":\"red\",\"showscale\":false,\"size\":10},\"name\":\"a_bus__or_48_53_141\",\"showlegend\":false,\"x\":[581.7731669005424],\"y\":[224.24778280754535],\"type\":\"scatter\"},{\"hoverinfo\":\"skip\",\"marker\":{\"color\":\"red\",\"showscale\":false,\"size\":10},\"name\":\"a_bus__ex_48_53_141\",\"showlegend\":false,\"x\":[620.2679294735204],\"y\":[551.453264677859],\"type\":\"scatter\"},{\"hoverinfo\":\"skip\",\"marker\":{\"color\":\"rgb(33,113,181)\",\"showscale\":false,\"size\":10,\"symbol\":\"triangle-up\"},\"name\":\"a_->_48_53_141\",\"showlegend\":false,\"x\":[583.5257856140532,582.9415793762163],\"y\":[239.14504187238848,234.1792888507741],\"type\":\"scatter\"},{\"hoverinfo\":\"skip\",\"line\":{\"color\":\"rgb(33,113,181)\"},\"name\":\"a48_53_142\",\"showlegend\":false,\"x\":[585.9794518129686,627.9794518129686],\"y\":[208.6494762572978,565.6494762572978],\"type\":\"scatter\"},{\"hoverinfo\":\"skip\",\"marker\":{\"color\":\"red\",\"showscale\":false,\"size\":10},\"name\":\"a_bus__or_48_53_142\",\"showlegend\":false,\"x\":[587.7320705264796],\"y\":[223.54673532214096],\"type\":\"scatter\"},{\"hoverinfo\":\"skip\",\"marker\":{\"color\":\"red\",\"showscale\":false,\"size\":10},\"name\":\"a_bus__ex_48_53_142\",\"showlegend\":false,\"x\":[626.2268330994576],\"y\":[550.7522171924546],\"type\":\"scatter\"},{\"hoverinfo\":\"skip\",\"marker\":{\"color\":\"rgb(33,113,181)\",\"showscale\":false,\"size\":10,\"symbol\":\"triangle-up\"},\"name\":\"a_->_48_53_142\",\"showlegend\":false,\"x\":[589.4846892399904,588.9004830021535],\"y\":[238.4439943869841,233.4782413653697],\"type\":\"scatter\"},{\"hoverinfo\":\"skip\",\"line\":{\"color\":\"rgb(8,48,107)\"},\"name\":\"a53_54_143\",\"showlegend\":false,\"x\":[625.0,783.0],\"y\":[566.0,515.0],\"type\":\"scatter\"},{\"hoverinfo\":\"skip\",\"marker\":{\"color\":\"red\",\"showscale\":false,\"size\":10},\"name\":\"a_bus__or_53_54_143\",\"showlegend\":false,\"x\":[639.2747774983827],\"y\":[561.3923186555853],\"type\":\"scatter\"},{\"hoverinfo\":\"skip\",\"marker\":{\"color\":\"red\",\"showscale\":false,\"size\":10},\"name\":\"a_bus__ex_53_54_143\",\"showlegend\":false,\"x\":[768.7252225016173],\"y\":[519.6076813444147],\"type\":\"scatter\"},{\"hoverinfo\":\"skip\",\"marker\":{\"color\":\"rgb(8,48,107)\",\"showscale\":false,\"size\":10,\"symbol\":\"triangle-se\"},\"name\":\"a_->_53_54_143\",\"showlegend\":false,\"x\":[653.5495549967654,648.7912958306379],\"y\":[556.7846373111706,558.3205310926422],\"type\":\"scatter\"},{\"hoverinfo\":\"skip\",\"line\":{\"color\":\"rgb(8,48,107)\"},\"name\":\"a53_55_144\",\"showlegend\":false,\"x\":[625.0,742.0],\"y\":[566.0,430.0],\"type\":\"scatter\"},{\"hoverinfo\":\"skip\",\"marker\":{\"color\":\"red\",\"showscale\":false,\"size\":10},\"name\":\"a_bus__or_53_55_144\",\"showlegend\":false,\"x\":[634.7825114313879],\"y\":[554.6288756011218],\"type\":\"scatter\"},{\"hoverinfo\":\"skip\",\"marker\":{\"color\":\"red\",\"showscale\":false,\"size\":10},\"name\":\"a_bus__ex_53_55_144\",\"showlegend\":false,\"x\":[732.2174885686121],\"y\":[441.3711243988783],\"type\":\"scatter\"},{\"hoverinfo\":\"skip\",\"marker\":{\"color\":\"rgb(8,48,107)\",\"showscale\":false,\"size\":10,\"symbol\":\"triangle-se\"},\"name\":\"a_->_53_55_144\",\"showlegend\":false,\"x\":[644.5650228627758,641.3041857189799],\"y\":[543.2577512022435,547.0481260018696],\"type\":\"scatter\"},{\"hoverinfo\":\"skip\",\"line\":{\"color\":\"rgb(8,81,156)\"},\"name\":\"a54_55_145\",\"showlegend\":false,\"x\":[783.0,742.0],\"y\":[515.0,430.0],\"type\":\"scatter\"},{\"hoverinfo\":\"skip\",\"marker\":{\"color\":\"red\",\"showscale\":false,\"size\":10},\"name\":\"a_bus__or_54_55_145\",\"showlegend\":false,\"x\":[776.4832093388695],\"y\":[501.4895803366808],\"type\":\"scatter\"},{\"hoverinfo\":\"skip\",\"marker\":{\"color\":\"red\",\"showscale\":false,\"size\":10},\"name\":\"a_bus__ex_54_55_145\",\"showlegend\":false,\"x\":[748.5167906611305],\"y\":[443.5104196633192],\"type\":\"scatter\"},{\"hoverinfo\":\"skip\",\"marker\":{\"color\":\"rgb(8,81,156)\",\"showscale\":false,\"size\":10,\"symbol\":\"triangle-ne\"},\"name\":\"a_->_54_55_145\",\"showlegend\":false,\"x\":[769.9664186777391,772.1386822314493],\"y\":[487.97916067336155,492.48263389446794],\"type\":\"scatter\"},{\"hoverinfo\":\"skip\",\"line\":{\"color\":\"rgb(66,146,198)\"},\"name\":\"a55_56_146\",\"showlegend\":false,\"x\":[742.0,776.0],\"y\":[430.0,365.0],\"type\":\"scatter\"},{\"hoverinfo\":\"skip\",\"marker\":{\"color\":\"red\",\"showscale\":false,\"size\":10},\"name\":\"a_bus__or_55_56_146\",\"showlegend\":false,\"x\":[748.9524629005],\"y\":[416.7085268078677],\"type\":\"scatter\"},{\"hoverinfo\":\"skip\",\"marker\":{\"color\":\"red\",\"showscale\":false,\"size\":10},\"name\":\"a_bus__ex_55_56_146\",\"showlegend\":false,\"x\":[769.0475370995],\"y\":[378.2914731921323],\"type\":\"scatter\"},{\"hoverinfo\":\"skip\",\"marker\":{\"color\":\"rgb(66,146,198)\",\"showscale\":false,\"size\":10,\"symbol\":\"triangle-nw\"},\"name\":\"a_->_55_56_146\",\"showlegend\":false,\"x\":[755.904925801,753.5874381675],\"y\":[403.4170536157354,407.8475446797795],\"type\":\"scatter\"},{\"hoverinfo\":\"skip\",\"line\":{\"color\":\"rgb(253,141,60)\"},\"name\":\"a49_56_147\",\"showlegend\":false,\"x\":[776.0,776.0],\"y\":[300.0,365.0],\"type\":\"scatter\"},{\"hoverinfo\":\"skip\",\"marker\":{\"color\":\"red\",\"showscale\":false,\"size\":10},\"name\":\"a_bus__or_49_56_147\",\"showlegend\":false,\"x\":[776.0],\"y\":[315.0],\"type\":\"scatter\"},{\"hoverinfo\":\"skip\",\"marker\":{\"color\":\"red\",\"showscale\":false,\"size\":10},\"name\":\"a_bus__ex_49_56_147\",\"showlegend\":false,\"x\":[776.0],\"y\":[350.0],\"type\":\"scatter\"},{\"hoverinfo\":\"skip\",\"marker\":{\"color\":\"rgb(253,141,60)\",\"showscale\":false,\"size\":10,\"symbol\":\"triangle-up\"},\"name\":\"a_->_49_56_147\",\"showlegend\":false,\"x\":[776.0,776.0],\"y\":[330.0,325.0],\"type\":\"scatter\"},{\"hoverinfo\":\"skip\",\"line\":{\"color\":\"rgb(33,113,181)\"},\"name\":\"a55_57_148\",\"showlegend\":false,\"x\":[742.0,706.0],\"y\":[430.0,365.0],\"type\":\"scatter\"},{\"hoverinfo\":\"skip\",\"marker\":{\"color\":\"red\",\"showscale\":false,\"size\":10},\"name\":\"a_bus__or_55_57_148\",\"showlegend\":false,\"x\":[734.7325025802135],\"y\":[416.87812965871876],\"type\":\"scatter\"},{\"hoverinfo\":\"skip\",\"marker\":{\"color\":\"red\",\"showscale\":false,\"size\":10},\"name\":\"a_bus__ex_55_57_148\",\"showlegend\":false,\"x\":[713.2674974197865],\"y\":[378.12187034128124],\"type\":\"scatter\"},{\"hoverinfo\":\"skip\",\"marker\":{\"color\":\"rgb(33,113,181)\",\"showscale\":false,\"size\":10,\"symbol\":\"triangle-ne\"},\"name\":\"a_->_55_57_148\",\"showlegend\":false,\"x\":[727.4650051604269,729.8875043003558],\"y\":[403.7562593174375,408.1302160978646],\"type\":\"scatter\"},{\"hoverinfo\":\"skip\",\"line\":{\"color\":\"rgb(66,146,198)\"},\"name\":\"a50_57_149\",\"showlegend\":false,\"x\":[706.0,706.0],\"y\":[300.0,365.0],\"type\":\"scatter\"},{\"hoverinfo\":\"skip\",\"marker\":{\"color\":\"red\",\"showscale\":false,\"size\":10},\"name\":\"a_bus__or_50_57_149\",\"showlegend\":false,\"x\":[706.0],\"y\":[315.0],\"type\":\"scatter\"},{\"hoverinfo\":\"skip\",\"marker\":{\"color\":\"red\",\"showscale\":false,\"size\":10},\"name\":\"a_bus__ex_50_57_149\",\"showlegend\":false,\"x\":[706.0],\"y\":[350.0],\"type\":\"scatter\"},{\"hoverinfo\":\"skip\",\"marker\":{\"color\":\"rgb(66,146,198)\",\"showscale\":false,\"size\":10,\"symbol\":\"triangle-up\"},\"name\":\"a_->_50_57_149\",\"showlegend\":false,\"x\":[706.0,706.0],\"y\":[330.0,325.0],\"type\":\"scatter\"},{\"hoverinfo\":\"skip\",\"line\":{\"color\":\"rgb(8,81,156)\"},\"name\":\"a53_58_150\",\"showlegend\":false,\"x\":[625.0,982.0],\"y\":[566.0,529.0],\"type\":\"scatter\"},{\"hoverinfo\":\"skip\",\"marker\":{\"color\":\"red\",\"showscale\":false,\"size\":10},\"name\":\"a_bus__or_53_58_150\",\"showlegend\":false,\"x\":[639.9200816258395],\"y\":[564.4536610079662],\"type\":\"scatter\"},{\"hoverinfo\":\"skip\",\"marker\":{\"color\":\"red\",\"showscale\":false,\"size\":10},\"name\":\"a_bus__ex_53_58_150\",\"showlegend\":false,\"x\":[967.0799183741605],\"y\":[530.5463389920338],\"type\":\"scatter\"},{\"hoverinfo\":\"skip\",\"marker\":{\"color\":\"rgb(8,81,156)\",\"showscale\":false,\"size\":10,\"symbol\":\"triangle-left\"},\"name\":\"a_->_53_58_150\",\"showlegend\":false,\"x\":[654.8401632516791,649.8668027097326],\"y\":[562.9073220159324,563.4227683466104],\"type\":\"scatter\"},{\"hoverinfo\":\"skip\",\"line\":{\"color\":\"rgb(33,113,181)\"},\"name\":\"a3_10_151\",\"showlegend\":false,\"x\":[-940.0,-847.0],\"y\":[461.0,465.0],\"type\":\"scatter\"},{\"hoverinfo\":\"skip\",\"marker\":{\"color\":\"red\",\"showscale\":false,\"size\":10},\"name\":\"a_bus__or_3_10_151\",\"showlegend\":false,\"x\":[-925.0138552159806],\"y\":[461.6445653670546],\"type\":\"scatter\"},{\"hoverinfo\":\"skip\",\"marker\":{\"color\":\"red\",\"showscale\":false,\"size\":10},\"name\":\"a_bus__ex_3_10_151\",\"showlegend\":false,\"x\":[-861.9861447840194],\"y\":[464.3554346329454],\"type\":\"scatter\"},{\"hoverinfo\":\"skip\",\"marker\":{\"color\":\"rgb(33,113,181)\",\"showscale\":false,\"size\":10,\"symbol\":\"triangle-right\"},\"name\":\"a_->_3_10_151\",\"showlegend\":false,\"x\":[-910.027710431961,-915.0230920266342],\"y\":[462.2891307341092,462.0742756117577],\"type\":\"scatter\"},{\"hoverinfo\":\"skip\",\"line\":{\"color\":\"rgb(8,81,156)\"},\"name\":\"a55_58_152\",\"showlegend\":false,\"x\":[740.8560072311413,980.8560072311413],\"y\":[432.77331580329377,531.7733158032938],\"type\":\"scatter\"},{\"hoverinfo\":\"skip\",\"marker\":{\"color\":\"red\",\"showscale\":false,\"size\":10},\"name\":\"a_bus__or_55_58_152\",\"showlegend\":false,\"x\":[754.7225862476103],\"y\":[438.4932796475872],\"type\":\"scatter\"},{\"hoverinfo\":\"skip\",\"marker\":{\"color\":\"red\",\"showscale\":false,\"size\":10},\"name\":\"a_bus__ex_55_58_152\",\"showlegend\":false,\"x\":[966.9894282146724],\"y\":[526.0533519590005],\"type\":\"scatter\"},{\"hoverinfo\":\"skip\",\"marker\":{\"color\":\"rgb(8,81,156)\",\"showscale\":false,\"size\":10,\"symbol\":\"triangle-sw\"},\"name\":\"a_->_55_58_152\",\"showlegend\":false,\"x\":[768.5891652640792,763.9669722585895],\"y\":[444.21324349188063,442.30658887711616],\"type\":\"scatter\"},{\"hoverinfo\":\"skip\",\"line\":{\"color\":\"rgb(8,81,156)\"},\"name\":\"a55_58_153\",\"showlegend\":false,\"x\":[743.1439927688587,983.1439927688587],\"y\":[427.22668419670623,526.2266841967062],\"type\":\"scatter\"},{\"hoverinfo\":\"skip\",\"marker\":{\"color\":\"red\",\"showscale\":false,\"size\":10},\"name\":\"a_bus__or_55_58_153\",\"showlegend\":false,\"x\":[757.0105717853276],\"y\":[432.94664804099966],\"type\":\"scatter\"},{\"hoverinfo\":\"skip\",\"marker\":{\"color\":\"red\",\"showscale\":false,\"size\":10},\"name\":\"a_bus__ex_55_58_153\",\"showlegend\":false,\"x\":[969.2774137523897],\"y\":[520.5067203524128],\"type\":\"scatter\"},{\"hoverinfo\":\"skip\",\"marker\":{\"color\":\"rgb(8,81,156)\",\"showscale\":false,\"size\":10,\"symbol\":\"triangle-sw\"},\"name\":\"a_->_55_58_153\",\"showlegend\":false,\"x\":[770.8771508017965,766.2549577963068],\"y\":[438.6666118852931,436.7599572705286],\"type\":\"scatter\"},{\"hoverinfo\":\"skip\",\"line\":{\"color\":\"rgb(33,113,181)\"},\"name\":\"a54_58_154\",\"showlegend\":false,\"x\":[783.0,982.0],\"y\":[515.0,529.0],\"type\":\"scatter\"},{\"hoverinfo\":\"skip\",\"marker\":{\"color\":\"red\",\"showscale\":false,\"size\":10},\"name\":\"a_bus__or_54_58_154\",\"showlegend\":false,\"x\":[797.963016950872],\"y\":[516.0526745593578],\"type\":\"scatter\"},{\"hoverinfo\":\"skip\",\"marker\":{\"color\":\"red\",\"showscale\":false,\"size\":10},\"name\":\"a_bus__ex_54_58_154\",\"showlegend\":false,\"x\":[967.036983049128],\"y\":[527.9473254406422],\"type\":\"scatter\"},{\"hoverinfo\":\"skip\",\"marker\":{\"color\":\"rgb(33,113,181)\",\"showscale\":false,\"size\":10,\"symbol\":\"triangle-left\"},\"name\":\"a_->_54_58_154\",\"showlegend\":false,\"x\":[812.9260339017438,807.9383615847865],\"y\":[517.1053491187156,516.7544575989297],\"type\":\"scatter\"},{\"hoverinfo\":\"skip\",\"line\":{\"color\":\"rgb(8,48,107)\"},\"name\":\"a58_59_155\",\"showlegend\":false,\"x\":[982.0,908.0],\"y\":[529.0,254.0],\"type\":\"scatter\"},{\"hoverinfo\":\"skip\",\"marker\":{\"color\":\"red\",\"showscale\":false,\"size\":10},\"name\":\"a_bus__or_58_59_155\",\"showlegend\":false,\"x\":[978.1022868511421],\"y\":[514.5152551900553],\"type\":\"scatter\"},{\"hoverinfo\":\"skip\",\"marker\":{\"color\":\"red\",\"showscale\":false,\"size\":10},\"name\":\"a_bus__ex_58_59_155\",\"showlegend\":false,\"x\":[911.8977131488579],\"y\":[268.48474480994474],\"type\":\"scatter\"},{\"hoverinfo\":\"skip\",\"marker\":{\"color\":\"rgb(8,48,107)\",\"showscale\":false,\"size\":10,\"symbol\":\"triangle-ne\"},\"name\":\"a_->_58_59_155\",\"showlegend\":false,\"x\":[974.2045737022843,975.5038114185702],\"y\":[500.0305103801105,504.8587586500921],\"type\":\"scatter\"},{\"hoverinfo\":\"skip\",\"line\":{\"color\":\"rgb(8,81,156)\"},\"name\":\"a58_60_156\",\"showlegend\":false,\"x\":[982.0,950.0],\"y\":[529.0,195.0],\"type\":\"scatter\"},{\"hoverinfo\":\"skip\",\"marker\":{\"color\":\"red\",\"showscale\":false,\"size\":10},\"name\":\"a_bus__or_58_60_156\",\"showlegend\":false,\"x\":[980.5694250528759],\"y\":[514.0683739893922],\"type\":\"scatter\"},{\"hoverinfo\":\"skip\",\"marker\":{\"color\":\"red\",\"showscale\":false,\"size\":10},\"name\":\"a_bus__ex_58_60_156\",\"showlegend\":false,\"x\":[951.4305749471241],\"y\":[209.93162601060786],\"type\":\"scatter\"},{\"hoverinfo\":\"skip\",\"marker\":{\"color\":\"rgb(8,81,156)\",\"showscale\":false,\"size\":10,\"symbol\":\"triangle-up\"},\"name\":\"a_->_58_60_156\",\"showlegend\":false,\"x\":[979.1388501057518,979.6157084214598],\"y\":[499.1367479787843,504.1139566489869],\"type\":\"scatter\"},{\"hoverinfo\":\"skip\",\"line\":{\"color\":\"rgb(8,48,107)\"},\"name\":\"a59_60_157\",\"showlegend\":false,\"x\":[908.0,950.0],\"y\":[254.0,195.0],\"type\":\"scatter\"},{\"hoverinfo\":\"skip\",\"marker\":{\"color\":\"red\",\"showscale\":false,\"size\":10},\"name\":\"a_bus__or_59_60_157\",\"showlegend\":false,\"x\":[916.6989694008427],\"y\":[241.78001917500674],\"type\":\"scatter\"},{\"hoverinfo\":\"skip\",\"marker\":{\"color\":\"red\",\"showscale\":false,\"size\":10},\"name\":\"a_bus__ex_59_60_157\",\"showlegend\":false,\"x\":[941.3010305991573],\"y\":[207.21998082499326],\"type\":\"scatter\"},{\"hoverinfo\":\"skip\",\"marker\":{\"color\":\"rgb(8,48,107)\",\"showscale\":false,\"size\":10,\"symbol\":\"triangle-nw\"},\"name\":\"a_->_59_60_157\",\"showlegend\":false,\"x\":[925.3979388016853,922.4982823347377],\"y\":[229.56003835001349,233.6333652916779],\"type\":\"scatter\"},{\"hoverinfo\":\"skip\",\"line\":{\"color\":\"rgb(33,113,181)\"},\"name\":\"a59_61_158\",\"showlegend\":false,\"x\":[908.0,854.0],\"y\":[254.0,185.0],\"type\":\"scatter\"},{\"hoverinfo\":\"skip\",\"marker\":{\"color\":\"red\",\"showscale\":false,\"size\":10},\"name\":\"a_bus__or_59_61_158\",\"showlegend\":false,\"x\":[898.7553760751283],\"y\":[242.1874249848862],\"type\":\"scatter\"},{\"hoverinfo\":\"skip\",\"marker\":{\"color\":\"red\",\"showscale\":false,\"size\":10},\"name\":\"a_bus__ex_59_61_158\",\"showlegend\":false,\"x\":[863.2446239248717],\"y\":[196.8125750151138],\"type\":\"scatter\"},{\"hoverinfo\":\"skip\",\"marker\":{\"color\":\"rgb(33,113,181)\",\"showscale\":false,\"size\":10,\"symbol\":\"triangle-ne\"},\"name\":\"a_->_59_61_158\",\"showlegend\":false,\"x\":[889.5107521502567,892.5922934585473],\"y\":[230.3748499697724,234.31237497481035],\"type\":\"scatter\"},{\"hoverinfo\":\"skip\",\"line\":{\"color\":\"rgb(8,81,156)\"},\"name\":\"a60_61_159\",\"showlegend\":false,\"x\":[950.0,854.0],\"y\":[195.0,185.0],\"type\":\"scatter\"},{\"hoverinfo\":\"skip\",\"marker\":{\"color\":\"red\",\"showscale\":false,\"size\":10},\"name\":\"a_bus__or_60_61_159\",\"showlegend\":false,\"x\":[935.0807238666383],\"y\":[193.44590873610815],\"type\":\"scatter\"},{\"hoverinfo\":\"skip\",\"marker\":{\"color\":\"red\",\"showscale\":false,\"size\":10},\"name\":\"a_bus__ex_60_61_159\",\"showlegend\":false,\"x\":[868.9192761333617],\"y\":[186.55409126389185],\"type\":\"scatter\"},{\"hoverinfo\":\"skip\",\"marker\":{\"color\":\"rgb(8,81,156)\",\"showscale\":false,\"size\":10,\"symbol\":\"triangle-right\"},\"name\":\"a_->_60_61_159\",\"showlegend\":false,\"x\":[920.1614477332766,925.1345397777305],\"y\":[191.8918174722163,192.4098478935136],\"type\":\"scatter\"},{\"hoverinfo\":\"skip\",\"line\":{\"color\":\"rgb(66,146,198)\"},\"name\":\"a62_63_160\",\"showlegend\":false,\"x\":[1020.0,1013.0],\"y\":[355.0,126.0],\"type\":\"scatter\"},{\"hoverinfo\":\"skip\",\"marker\":{\"color\":\"red\",\"showscale\":false,\"size\":10},\"name\":\"a_bus__or_62_63_160\",\"showlegend\":false,\"x\":[1019.5416987806906],\"y\":[340.0070029683062],\"type\":\"scatter\"},{\"hoverinfo\":\"skip\",\"marker\":{\"color\":\"red\",\"showscale\":false,\"size\":10},\"name\":\"a_bus__ex_62_63_160\",\"showlegend\":false,\"x\":[1013.4583012193094],\"y\":[140.99299703169382],\"type\":\"scatter\"},{\"hoverinfo\":\"skip\",\"marker\":{\"color\":\"rgb(66,146,198)\",\"showscale\":false,\"size\":10,\"symbol\":\"triangle-up\"},\"name\":\"a_->_62_63_160\",\"showlegend\":false,\"x\":[1019.0833975613812,1019.2361646344843],\"y\":[325.01400593661236,330.01167161384365],\"type\":\"scatter\"},{\"hoverinfo\":\"skip\",\"line\":{\"color\":\"rgb(8,81,156)\"},\"name\":\"a37_64_161\",\"showlegend\":false,\"x\":[231.0,786.0],\"y\":[213.0,7.0],\"type\":\"scatter\"},{\"hoverinfo\":\"skip\",\"marker\":{\"color\":\"red\",\"showscale\":false,\"size\":10},\"name\":\"a_bus__or_37_64_161\",\"showlegend\":false,\"x\":[245.06256018845139],\"y\":[207.7803830651874],\"type\":\"scatter\"},{\"hoverinfo\":\"skip\",\"marker\":{\"color\":\"red\",\"showscale\":false,\"size\":10},\"name\":\"a_bus__ex_37_64_161\",\"showlegend\":false,\"x\":[771.9374398115486],\"y\":[12.219616934812585],\"type\":\"scatter\"},{\"hoverinfo\":\"skip\",\"marker\":{\"color\":\"rgb(8,81,156)\",\"showscale\":false,\"size\":10,\"symbol\":\"triangle-se\"},\"name\":\"a_->_37_64_161\",\"showlegend\":false,\"x\":[259.12512037690277,254.43760031408564],\"y\":[202.56076613037484,204.30063844197903],\"type\":\"scatter\"},{\"hoverinfo\":\"skip\",\"line\":{\"color\":\"rgb(33,113,181)\"},\"name\":\"a4_10_162\",\"showlegend\":false,\"x\":[-977.0,-847.0],\"y\":[348.0,465.0],\"type\":\"scatter\"},{\"hoverinfo\":\"skip\",\"marker\":{\"color\":\"red\",\"showscale\":false,\"size\":10},\"name\":\"a_bus__or_4_10_162\",\"showlegend\":false,\"x\":[-965.8505878062925],\"y\":[358.0344709743367],\"type\":\"scatter\"},{\"hoverinfo\":\"skip\",\"marker\":{\"color\":\"red\",\"showscale\":false,\"size\":10},\"name\":\"a_bus__ex_4_10_162\",\"showlegend\":false,\"x\":[-858.1494121937075],\"y\":[454.9655290256633],\"type\":\"scatter\"},{\"hoverinfo\":\"skip\",\"marker\":{\"color\":\"rgb(33,113,181)\",\"showscale\":false,\"size\":10,\"symbol\":\"triangle-ne\"},\"name\":\"a_->_4_10_162\",\"showlegend\":false,\"x\":[-954.701175612585,-958.4176463438208],\"y\":[368.0689419486735,364.72411829056125],\"type\":\"scatter\"},{\"hoverinfo\":\"skip\",\"line\":{\"color\":\"rgb(8,81,156)\"},\"name\":\"a63_64_163\",\"showlegend\":false,\"x\":[1013.0,786.0],\"y\":[126.0,7.0],\"type\":\"scatter\"},{\"hoverinfo\":\"skip\",\"marker\":{\"color\":\"red\",\"showscale\":false,\"size\":10},\"name\":\"a_bus__or_63_64_163\",\"showlegend\":false,\"x\":[999.7148187059594],\"y\":[119.0355217004809],\"type\":\"scatter\"},{\"hoverinfo\":\"skip\",\"marker\":{\"color\":\"red\",\"showscale\":false,\"size\":10},\"name\":\"a_bus__ex_63_64_163\",\"showlegend\":false,\"x\":[799.2851812940406],\"y\":[13.964478299519104],\"type\":\"scatter\"},{\"hoverinfo\":\"skip\",\"marker\":{\"color\":\"rgb(8,81,156)\",\"showscale\":false,\"size\":10,\"symbol\":\"triangle-ne\"},\"name\":\"a_->_63_64_163\",\"showlegend\":false,\"x\":[986.4296374119187,990.858031176599],\"y\":[112.0710434009618,114.39253616746817],\"type\":\"scatter\"},{\"hoverinfo\":\"skip\",\"line\":{\"color\":\"rgb(8,81,156)\"},\"name\":\"a48_65_164\",\"showlegend\":false,\"x\":[584.6392706429904,748.6392706429904],\"y\":[211.51252696682639,104.5125269668264],\"type\":\"scatter\"},{\"hoverinfo\":\"skip\",\"marker\":{\"color\":\"red\",\"showscale\":false,\"size\":10},\"name\":\"a_bus__or_48_65_164\",\"showlegend\":false,\"x\":[597.2019054771224],\"y\":[203.31617375187443],\"type\":\"scatter\"},{\"hoverinfo\":\"skip\",\"marker\":{\"color\":\"red\",\"showscale\":false,\"size\":10},\"name\":\"a_bus__ex_48_65_164\",\"showlegend\":false,\"x\":[736.0766358088583],\"y\":[112.70888018177837],\"type\":\"scatter\"},{\"hoverinfo\":\"skip\",\"marker\":{\"color\":\"rgb(8,81,156)\",\"showscale\":false,\"size\":10,\"symbol\":\"triangle-nw\"},\"name\":\"a_->_48_65_164\",\"showlegend\":false,\"x\":[609.7645403112543,605.5769953665437],\"y\":[195.11982053692245,197.85193827523977],\"type\":\"scatter\"},{\"hoverinfo\":\"skip\",\"line\":{\"color\":\"rgb(8,81,156)\"},\"name\":\"a48_65_165\",\"showlegend\":false,\"x\":[581.3607293570096,745.3607293570096],\"y\":[206.48747303317361,99.4874730331736],\"type\":\"scatter\"},{\"hoverinfo\":\"skip\",\"marker\":{\"color\":\"red\",\"showscale\":false,\"size\":10},\"name\":\"a_bus__or_48_65_165\",\"showlegend\":false,\"x\":[593.9233641911417],\"y\":[198.29111981822166],\"type\":\"scatter\"},{\"hoverinfo\":\"skip\",\"marker\":{\"color\":\"red\",\"showscale\":false,\"size\":10},\"name\":\"a_bus__ex_48_65_165\",\"showlegend\":false,\"x\":[732.7980945228776],\"y\":[107.68382624812557],\"type\":\"scatter\"},{\"hoverinfo\":\"skip\",\"marker\":{\"color\":\"rgb(8,81,156)\",\"showscale\":false,\"size\":10,\"symbol\":\"triangle-nw\"},\"name\":\"a_->_48_65_165\",\"showlegend\":false,\"x\":[606.4859990252736,602.2984540805629],\"y\":[190.09476660326968,192.826884341587],\"type\":\"scatter\"},{\"hoverinfo\":\"skip\",\"line\":{\"color\":\"rgb(66,146,198)\"},\"name\":\"a61_65_166\",\"showlegend\":false,\"x\":[854.0,747.0],\"y\":[185.0,102.0],\"type\":\"scatter\"},{\"hoverinfo\":\"skip\",\"marker\":{\"color\":\"red\",\"showscale\":false,\"size\":10},\"name\":\"a_bus__or_61_65_166\",\"showlegend\":false,\"x\":[842.1477977848095],\"y\":[175.80623566485227],\"type\":\"scatter\"},{\"hoverinfo\":\"skip\",\"marker\":{\"color\":\"red\",\"showscale\":false,\"size\":10},\"name\":\"a_bus__ex_61_65_166\",\"showlegend\":false,\"x\":[758.8522022151905],\"y\":[111.19376433514773],\"type\":\"scatter\"},{\"hoverinfo\":\"skip\",\"marker\":{\"color\":\"rgb(66,146,198)\",\"showscale\":false,\"size\":10,\"symbol\":\"triangle-ne\"},\"name\":\"a_->_61_65_166\",\"showlegend\":false,\"x\":[830.2955955696191,834.2463296413492],\"y\":[166.61247132970453,169.67705944142045],\"type\":\"scatter\"},{\"hoverinfo\":\"skip\",\"line\":{\"color\":\"rgb(33,113,181)\"},\"name\":\"a61_66_167\",\"showlegend\":false,\"x\":[854.0,841.0],\"y\":[185.0,94.0],\"type\":\"scatter\"},{\"hoverinfo\":\"skip\",\"marker\":{\"color\":\"red\",\"showscale\":false,\"size\":10},\"name\":\"a_bus__or_61_66_167\",\"showlegend\":false,\"x\":[851.8786796564403],\"y\":[170.1507575950825],\"type\":\"scatter\"},{\"hoverinfo\":\"skip\",\"marker\":{\"color\":\"red\",\"showscale\":false,\"size\":10},\"name\":\"a_bus__ex_61_66_167\",\"showlegend\":false,\"x\":[843.1213203435597],\"y\":[108.8492424049175],\"type\":\"scatter\"},{\"hoverinfo\":\"skip\",\"marker\":{\"color\":\"rgb(33,113,181)\",\"showscale\":false,\"size\":10,\"symbol\":\"triangle-up\"},\"name\":\"a_->_61_66_167\",\"showlegend\":false,\"x\":[849.7573593128807,850.4644660940672],\"y\":[155.301515190165,160.25126265847084],\"type\":\"scatter\"},{\"hoverinfo\":\"skip\",\"line\":{\"color\":\"rgb(33,113,181)\"},\"name\":\"a65_66_168\",\"showlegend\":false,\"x\":[747.0,841.0],\"y\":[102.0,94.0],\"type\":\"scatter\"},{\"hoverinfo\":\"skip\",\"marker\":{\"color\":\"red\",\"showscale\":false,\"size\":10},\"name\":\"a_bus__or_65_66_168\",\"showlegend\":false,\"x\":[761.9459701080897],\"y\":[100.72800254399237],\"type\":\"scatter\"},{\"hoverinfo\":\"skip\",\"marker\":{\"color\":\"red\",\"showscale\":false,\"size\":10},\"name\":\"a_bus__ex_65_66_168\",\"showlegend\":false,\"x\":[826.0540298919103],\"y\":[95.27199745600763],\"type\":\"scatter\"},{\"hoverinfo\":\"skip\",\"marker\":{\"color\":\"rgb(33,113,181)\",\"showscale\":false,\"size\":10,\"symbol\":\"triangle-right\"},\"name\":\"a_->_65_66_168\",\"showlegend\":false,\"x\":[776.8919402161794,771.9099501801495],\"y\":[99.45600508798475,99.88000423998729],\"type\":\"scatter\"},{\"hoverinfo\":\"skip\",\"line\":{\"color\":\"rgb(8,81,156)\"},\"name\":\"a46_68_169\",\"showlegend\":false,\"x\":[460.0,485.0],\"y\":[182.0,51.0],\"type\":\"scatter\"},{\"hoverinfo\":\"skip\",\"marker\":{\"color\":\"red\",\"showscale\":false,\"size\":10},\"name\":\"a_bus__or_46_68_169\",\"showlegend\":false,\"x\":[462.8118498348923],\"y\":[167.2659068651642],\"type\":\"scatter\"},{\"hoverinfo\":\"skip\",\"marker\":{\"color\":\"red\",\"showscale\":false,\"size\":10},\"name\":\"a_bus__ex_46_68_169\",\"showlegend\":false,\"x\":[482.1881501651077],\"y\":[65.73409313483582],\"type\":\"scatter\"},{\"hoverinfo\":\"skip\",\"marker\":{\"color\":\"rgb(8,81,156)\",\"showscale\":false,\"size\":10,\"symbol\":\"triangle-up\"},\"name\":\"a_->_46_68_169\",\"showlegend\":false,\"x\":[465.6236996697847,464.6864163914872],\"y\":[152.53181373032834,157.44317810860696],\"type\":\"scatter\"},{\"hoverinfo\":\"skip\",\"line\":{\"color\":\"rgb(8,48,107)\"},\"name\":\"a48_68_170\",\"showlegend\":false,\"x\":[583.0,485.0],\"y\":[209.0,51.0],\"type\":\"scatter\"},{\"hoverinfo\":\"skip\",\"marker\":{\"color\":\"red\",\"showscale\":false,\"size\":10},\"name\":\"a_bus__or_48_68_170\",\"showlegend\":false,\"x\":[575.0935740441391],\"y\":[196.25290509157128],\"type\":\"scatter\"},{\"hoverinfo\":\"skip\",\"marker\":{\"color\":\"red\",\"showscale\":false,\"size\":10},\"name\":\"a_bus__ex_48_68_170\",\"showlegend\":false,\"x\":[492.90642595586087],\"y\":[63.747094908428735],\"type\":\"scatter\"},{\"hoverinfo\":\"skip\",\"marker\":{\"color\":\"rgb(8,48,107)\",\"showscale\":false,\"size\":10,\"symbol\":\"triangle-ne\"},\"name\":\"a_->_48_68_170\",\"showlegend\":false,\"x\":[567.1871480882783,569.8226234068985],\"y\":[183.50581018314253,187.75484181928545],\"type\":\"scatter\"},{\"hoverinfo\":\"skip\",\"line\":{\"color\":\"rgb(8,48,107)\"},\"name\":\"a68_69_171\",\"showlegend\":false,\"x\":[485.0,160.0],\"y\":[51.0,41.0],\"type\":\"scatter\"},{\"hoverinfo\":\"skip\",\"marker\":{\"color\":\"red\",\"showscale\":false,\"size\":10},\"name\":\"a_bus__or_68_69_171\",\"showlegend\":false,\"x\":[470.0070955538502],\"y\":[50.53867986319539],\"type\":\"scatter\"},{\"hoverinfo\":\"skip\",\"marker\":{\"color\":\"red\",\"showscale\":false,\"size\":10},\"name\":\"a_bus__ex_68_69_171\",\"showlegend\":false,\"x\":[174.9929044461498],\"y\":[41.46132013680461],\"type\":\"scatter\"},{\"hoverinfo\":\"skip\",\"marker\":{\"color\":\"rgb(8,48,107)\",\"showscale\":false,\"size\":10,\"symbol\":\"triangle-right\"},\"name\":\"a_->_68_69_171\",\"showlegend\":false,\"x\":[455.0141911077004,460.0118259230837],\"y\":[50.07735972639078,50.231133105325654],\"type\":\"scatter\"},{\"hoverinfo\":\"skip\",\"line\":{\"color\":\"rgb(8,48,107)\"},\"name\":\"a23_69_172\",\"showlegend\":false,\"x\":[-49.0,160.0],\"y\":[43.0,41.0],\"type\":\"scatter\"},{\"hoverinfo\":\"skip\",\"marker\":{\"color\":\"red\",\"showscale\":false,\"size\":10},\"name\":\"a_bus__or_23_69_172\",\"showlegend\":false,\"x\":[-34.00068675029795],\"y\":[42.85646590191673],\"type\":\"scatter\"},{\"hoverinfo\":\"skip\",\"marker\":{\"color\":\"red\",\"showscale\":false,\"size\":10},\"name\":\"a_bus__ex_23_69_172\",\"showlegend\":false,\"x\":[145.00068675029794],\"y\":[41.14353409808327],\"type\":\"scatter\"},{\"hoverinfo\":\"skip\",\"marker\":{\"color\":\"rgb(8,48,107)\",\"showscale\":false,\"size\":10,\"symbol\":\"triangle-right\"},\"name\":\"a_->_23_69_172\",\"showlegend\":false,\"x\":[-19.001373500595903,-24.00114458382992],\"y\":[42.71293180383345,42.76077650319454],\"type\":\"scatter\"},{\"hoverinfo\":\"skip\",\"line\":{\"color\":\"rgb(33,113,181)\"},\"name\":\"a7_4_173\",\"showlegend\":false,\"x\":[-969.0,-977.0],\"y\":[131.0,348.0],\"type\":\"scatter\"},{\"hoverinfo\":\"skip\",\"marker\":{\"color\":\"red\",\"showscale\":false,\"size\":10},\"name\":\"a_bus__or_7_4_173\",\"showlegend\":false,\"x\":[-969.5526199784506],\"y\":[145.98981691547357],\"type\":\"scatter\"},{\"hoverinfo\":\"skip\",\"marker\":{\"color\":\"red\",\"showscale\":false,\"size\":10},\"name\":\"a_bus__ex_7_4_173\",\"showlegend\":false,\"x\":[-976.4473800215494],\"y\":[333.01018308452643],\"type\":\"scatter\"},{\"hoverinfo\":\"skip\",\"marker\":{\"color\":\"rgb(33,113,181)\",\"showscale\":false,\"size\":10,\"symbol\":\"triangle-up\"},\"name\":\"a_->_7_4_173\",\"showlegend\":false,\"x\":[-970.1052399569012,-969.9210332974177],\"y\":[160.9796338309471,155.98302819245592],\"type\":\"scatter\"},{\"hoverinfo\":\"skip\",\"line\":{\"color\":\"rgb(66,146,198)\"},\"name\":\"a25_24_174\",\"showlegend\":false,\"x\":[-493.0,-462.0],\"y\":[-122.0,-236.0],\"type\":\"scatter\"},{\"hoverinfo\":\"skip\",\"marker\":{\"color\":\"red\",\"showscale\":false,\"size\":10},\"name\":\"a_bus__or_25_24_174\",\"showlegend\":false,\"x\":[-489.06398347017034],\"y\":[-136.4743833677607],\"type\":\"scatter\"},{\"hoverinfo\":\"skip\",\"marker\":{\"color\":\"red\",\"showscale\":false,\"size\":10},\"name\":\"a_bus__ex_25_24_174\",\"showlegend\":false,\"x\":[-465.93601652982966],\"y\":[-221.5256166322393],\"type\":\"scatter\"},{\"hoverinfo\":\"skip\",\"marker\":{\"color\":\"rgb(66,146,198)\",\"showscale\":false,\"size\":10,\"symbol\":\"triangle-se\"},\"name\":\"a_->_25_24_174\",\"showlegend\":false,\"x\":[-485.1279669403407,-486.4399724502839],\"y\":[-150.9487667355214,-146.12397227960116],\"type\":\"scatter\"},{\"hoverinfo\":\"skip\",\"line\":{\"color\":\"rgb(8,81,156)\"},\"name\":\"a80_79_175\",\"showlegend\":false,\"x\":[621.0,599.0],\"y\":[-139.0,-207.0],\"type\":\"scatter\"},{\"hoverinfo\":\"skip\",\"marker\":{\"color\":\"red\",\"showscale\":false,\"size\":10},\"name\":\"a_bus__or_80_79_175\",\"showlegend\":false,\"x\":[616.38269571878],\"y\":[-153.27166777831616],\"type\":\"scatter\"},{\"hoverinfo\":\"skip\",\"marker\":{\"color\":\"red\",\"showscale\":false,\"size\":10},\"name\":\"a_bus__ex_80_79_175\",\"showlegend\":false,\"x\":[603.61730428122],\"y\":[-192.72833222168384],\"type\":\"scatter\"},{\"hoverinfo\":\"skip\",\"marker\":{\"color\":\"rgb(8,81,156)\",\"showscale\":false,\"size\":10,\"symbol\":\"triangle-sw\"},\"name\":\"a_->_80_79_175\",\"showlegend\":false,\"x\":[611.7653914375601,613.3044928646334],\"y\":[-167.54333555663234,-162.7861129638603],\"type\":\"scatter\"},{\"hoverinfo\":\"skip\",\"line\":{\"color\":\"rgb(8,48,107)\"},\"name\":\"a86_85_176\",\"showlegend\":false,\"x\":[181.0,118.0],\"y\":[-595.0,-565.0],\"type\":\"scatter\"},{\"hoverinfo\":\"skip\",\"marker\":{\"color\":\"red\",\"showscale\":false,\"size\":10},\"name\":\"a_bus__or_86_85_176\",\"showlegend\":false,\"x\":[167.45709221764105],\"y\":[-588.5509962941148],\"type\":\"scatter\"},{\"hoverinfo\":\"skip\",\"marker\":{\"color\":\"red\",\"showscale\":false,\"size\":10},\"name\":\"a_bus__ex_86_85_176\",\"showlegend\":false,\"x\":[131.54290778235895],\"y\":[-571.4490037058852],\"type\":\"scatter\"},{\"hoverinfo\":\"skip\",\"marker\":{\"color\":\"rgb(8,48,107)\",\"showscale\":false,\"size\":10,\"symbol\":\"triangle-nw\"},\"name\":\"a_->_86_85_176\",\"showlegend\":false,\"x\":[153.9141844352821,158.42848702940174],\"y\":[-582.1019925882296,-584.2516604901913],\"type\":\"scatter\"},{\"hoverinfo\":\"skip\",\"line\":{\"color\":\"rgb(66,146,198)\"},\"name\":\"a115_67_177\",\"showlegend\":false,\"x\":[671.0,579.0],\"y\":[-42.0,25.0],\"type\":\"scatter\"},{\"hoverinfo\":\"skip\",\"marker\":{\"color\":\"red\",\"showscale\":false,\"size\":10},\"name\":\"a_bus__or_115_67_177\",\"showlegend\":false,\"x\":[658.8746606036162],\"y\":[-33.16958978741619],\"type\":\"scatter\"},{\"hoverinfo\":\"skip\",\"marker\":{\"color\":\"red\",\"showscale\":false,\"size\":10},\"name\":\"a_bus__ex_115_67_177\",\"showlegend\":false,\"x\":[591.1253393963838],\"y\":[16.169589787416193],\"type\":\"scatter\"},{\"hoverinfo\":\"skip\",\"marker\":{\"color\":\"rgb(66,146,198)\",\"showscale\":false,\"size\":10,\"symbol\":\"triangle-nw\"},\"name\":\"a_->_115_67_177\",\"showlegend\":false,\"x\":[646.7493212072326,650.7911010060271],\"y\":[-24.339179574832382,-27.282649645693652],\"type\":\"scatter\"},{\"hoverinfo\":\"skip\",\"line\":{\"color\":\"rgb(66,146,198)\"},\"name\":\"a29_16_178\",\"showlegend\":false,\"x\":[-562.0,-586.0],\"y\":[131.0,205.0],\"type\":\"scatter\"},{\"hoverinfo\":\"skip\",\"marker\":{\"color\":\"red\",\"showscale\":false,\"size\":10},\"name\":\"a_bus__or_29_16_178\",\"showlegend\":false,\"x\":[-566.6275704705615],\"y\":[145.26834228423144],\"type\":\"scatter\"},{\"hoverinfo\":\"skip\",\"marker\":{\"color\":\"red\",\"showscale\":false,\"size\":10},\"name\":\"a_bus__ex_29_16_178\",\"showlegend\":false,\"x\":[-581.3724295294385],\"y\":[190.73165771576856],\"type\":\"scatter\"},{\"hoverinfo\":\"skip\",\"marker\":{\"color\":\"rgb(66,146,198)\",\"showscale\":false,\"size\":10,\"symbol\":\"triangle-nw\"},\"name\":\"a_->_29_16_178\",\"showlegend\":false,\"x\":[-571.255140941123,-569.7126174509359],\"y\":[159.5366845684629,154.78057047371908],\"type\":\"scatter\"},{\"hoverinfo\":\"skip\",\"line\":{\"color\":\"rgb(253,141,60)\"},\"name\":\"a37_36_179\",\"showlegend\":false,\"x\":[231.0,194.0],\"y\":[213.0,411.0],\"type\":\"scatter\"},{\"hoverinfo\":\"skip\",\"marker\":{\"color\":\"red\",\"showscale\":false,\"size\":10},\"name\":\"a_bus__or_37_36_179\",\"showlegend\":false,\"x\":[228.24466491300984],\"y\":[227.7447661411906],\"type\":\"scatter\"},{\"hoverinfo\":\"skip\",\"marker\":{\"color\":\"red\",\"showscale\":false,\"size\":10},\"name\":\"a_bus__ex_37_36_179\",\"showlegend\":false,\"x\":[196.75533508699016],\"y\":[396.2552338588094],\"type\":\"scatter\"},{\"hoverinfo\":\"skip\",\"marker\":{\"color\":\"rgb(253,141,60)\",\"showscale\":false,\"size\":10,\"symbol\":\"triangle-up\"},\"name\":\"a_->_37_36_179\",\"showlegend\":false,\"x\":[225.48932982601966,226.40777485501638],\"y\":[242.4895322823812,237.57461023531766],\"type\":\"scatter\"},{\"hoverinfo\":\"skip\",\"line\":{\"color\":\"rgb(66,146,198)\"},\"name\":\"a62_58_180\",\"showlegend\":false,\"x\":[1020.0,982.0],\"y\":[355.0,529.0],\"type\":\"scatter\"},{\"hoverinfo\":\"skip\",\"marker\":{\"color\":\"red\",\"showscale\":false,\"size\":10},\"name\":\"a_bus__or_62_58_180\",\"showlegend\":false,\"x\":[1016.7995704891024],\"y\":[369.6545982867418],\"type\":\"scatter\"},{\"hoverinfo\":\"skip\",\"marker\":{\"color\":\"red\",\"showscale\":false,\"size\":10},\"name\":\"a_bus__ex_62_58_180\",\"showlegend\":false,\"x\":[985.2004295108976],\"y\":[514.3454017132582],\"type\":\"scatter\"},{\"hoverinfo\":\"skip\",\"marker\":{\"color\":\"rgb(66,146,198)\",\"showscale\":false,\"size\":10,\"symbol\":\"triangle-up\"},\"name\":\"a_->_62_58_180\",\"showlegend\":false,\"x\":[1013.5991409782048,1014.6659508151706],\"y\":[384.3091965734836,379.42433047790297],\"type\":\"scatter\"},{\"hoverinfo\":\"skip\",\"line\":{\"color\":\"rgb(8,48,107)\"},\"name\":\"a63_60_181\",\"showlegend\":false,\"x\":[1013.0,950.0],\"y\":[126.0,195.0],\"type\":\"scatter\"},{\"hoverinfo\":\"skip\",\"marker\":{\"color\":\"red\",\"showscale\":false,\"size\":10},\"name\":\"a_bus__or_63_60_181\",\"showlegend\":false,\"x\":[1002.88595953968],\"y\":[137.0772824089219],\"type\":\"scatter\"},{\"hoverinfo\":\"skip\",\"marker\":{\"color\":\"lime\",\"showscale\":false,\"size\":10},\"name\":\"a_bus__ex_63_60_181\",\"showlegend\":false,\"x\":[960.11404046032],\"y\":[183.9227175910781],\"type\":\"scatter\"},{\"hoverinfo\":\"skip\",\"marker\":{\"color\":\"rgb(8,48,107)\",\"showscale\":false,\"size\":10,\"symbol\":\"triangle-se\"},\"name\":\"a_->_63_60_181\",\"showlegend\":false,\"x\":[992.77191907936,996.1432658994667],\"y\":[148.15456481784378,144.46213734820316],\"type\":\"scatter\"},{\"hoverinfo\":\"skip\",\"line\":{\"color\":\"rgb(253,141,60)\"},\"name\":\"a64_65_182\",\"showlegend\":false,\"x\":[786.0,747.0],\"y\":[7.0,102.0],\"type\":\"scatter\"},{\"hoverinfo\":\"skip\",\"marker\":{\"color\":\"red\",\"showscale\":false,\"size\":10},\"name\":\"a_bus__or_64_65_182\",\"showlegend\":false,\"x\":[780.3034490956742],\"y\":[20.87621374130654],\"type\":\"scatter\"},{\"hoverinfo\":\"skip\",\"marker\":{\"color\":\"red\",\"showscale\":false,\"size\":10},\"name\":\"a_bus__ex_64_65_182\",\"showlegend\":false,\"x\":[752.6965509043258],\"y\":[88.12378625869346],\"type\":\"scatter\"},{\"hoverinfo\":\"skip\",\"marker\":{\"color\":\"rgb(253,141,60)\",\"showscale\":false,\"size\":10,\"symbol\":\"triangle-nw\"},\"name\":\"a_->_64_65_182\",\"showlegend\":false,\"x\":[774.6068981913484,776.5057484927903],\"y\":[34.75242748261308,30.127022902177565],\"type\":\"scatter\"},{\"hoverinfo\":\"skip\",\"line\":{\"color\":\"rgb(8,48,107)\"},\"name\":\"a64_67_183\",\"showlegend\":false,\"x\":[786.0,579.0],\"y\":[7.0,25.0],\"type\":\"scatter\"},{\"hoverinfo\":\"skip\",\"marker\":{\"color\":\"red\",\"showscale\":false,\"size\":10},\"name\":\"a_bus__or_64_67_183\",\"showlegend\":false,\"x\":[771.0563911770647],\"y\":[8.29944424547263],\"type\":\"scatter\"},{\"hoverinfo\":\"skip\",\"marker\":{\"color\":\"red\",\"showscale\":false,\"size\":10},\"name\":\"a_bus__ex_64_67_183\",\"showlegend\":false,\"x\":[593.9436088229353],\"y\":[23.70055575452737],\"type\":\"scatter\"},{\"hoverinfo\":\"skip\",\"marker\":{\"color\":\"rgb(8,48,107)\",\"showscale\":false,\"size\":10,\"symbol\":\"triangle-left\"},\"name\":\"a_->_64_67_183\",\"showlegend\":false,\"x\":[756.1127823541295,761.0939852951079],\"y\":[9.59888849094526,9.16574040912105],\"type\":\"scatter\"},{\"hoverinfo\":\"skip\",\"line\":{\"color\":\"rgb(66,146,198)\"},\"name\":\"a67_68_184\",\"showlegend\":false,\"x\":[579.0,485.0],\"y\":[25.0,51.0],\"type\":\"scatter\"},{\"hoverinfo\":\"skip\",\"marker\":{\"color\":\"red\",\"showscale\":false,\"size\":10},\"name\":\"a_bus__or_67_68_184\",\"showlegend\":false,\"x\":[564.5428331961871],\"y\":[28.998790818075925],\"type\":\"scatter\"},{\"hoverinfo\":\"skip\",\"marker\":{\"color\":\"red\",\"showscale\":false,\"size\":10},\"name\":\"a_bus__ex_67_68_184\",\"showlegend\":false,\"x\":[499.457166803813],\"y\":[47.001209181924075],\"type\":\"scatter\"},{\"hoverinfo\":\"skip\",\"marker\":{\"color\":\"rgb(66,146,198)\",\"showscale\":false,\"size\":10,\"symbol\":\"triangle-nw\"},\"name\":\"a_->_67_68_184\",\"showlegend\":false,\"x\":[550.085666392374,554.904721993645],\"y\":[32.99758163615186,31.66465136345988],\"type\":\"scatter\"},{\"hoverinfo\":\"skip\",\"line\":{\"color\":\"rgb(8,81,156)\"},\"name\":\"a80_67_185\",\"showlegend\":false,\"x\":[621.0,579.0],\"y\":[-139.0,25.0],\"type\":\"scatter\"},{\"hoverinfo\":\"skip\",\"marker\":{\"color\":\"red\",\"showscale\":false,\"size\":10},\"name\":\"a_bus__or_80_67_185\",\"showlegend\":false,\"x\":[617.2786333915143],\"y\":[-124.46894943353207],\"type\":\"scatter\"},{\"hoverinfo\":\"skip\",\"marker\":{\"color\":\"red\",\"showscale\":false,\"size\":10},\"name\":\"a_bus__ex_80_67_185\",\"showlegend\":false,\"x\":[582.7213666084857],\"y\":[10.468949433532076],\"type\":\"scatter\"},{\"hoverinfo\":\"skip\",\"marker\":{\"color\":\"rgb(8,81,156)\",\"showscale\":false,\"size\":10,\"symbol\":\"triangle-down\"},\"name\":\"a_->_80_67_185\",\"showlegend\":false,\"x\":[613.5572667830286,614.7977223191905],\"y\":[-109.93789886706416,-114.78158238922013],\"type\":\"scatter\"},{\"hoverinfo\":\"skip\",\"line\":{\"color\":\"black\",\"width\":1},\"showlegend\":false,\"x\":[-1113.0,-1067.0],\"y\":[629.0,600.0],\"type\":\"scatter\"},{\"marker\":{\"color\":\"DarkOrange\",\"line\":{\"color\":\"black\",\"width\":1},\"showscale\":false,\"size\":12},\"mode\":\"markers\",\"name\":\"cload_0_0\",\"showlegend\":false,\"text\":[\"\"],\"x\":[-1113.0],\"y\":[629.0],\"type\":\"scatter\"},{\"hoverinfo\":\"skip\",\"marker\":{\"color\":\"red\",\"showscale\":false,\"size\":10},\"name\":\"c_bus_load_0_0\",\"showlegend\":false,\"x\":[-1079.6888840389347],\"y\":[607.9995138506328],\"type\":\"scatter\"},{\"hoverinfo\":\"skip\",\"line\":{\"color\":\"black\",\"width\":1},\"showlegend\":false,\"x\":[-974.0,-940.0],\"y\":[640.0,600.0],\"type\":\"scatter\"},{\"marker\":{\"color\":\"DarkOrange\",\"line\":{\"color\":\"black\",\"width\":1},\"showscale\":false,\"size\":12},\"mode\":\"markers\",\"name\":\"cload_1_1\",\"showlegend\":false,\"text\":[\"\"],\"x\":[-974.0],\"y\":[640.0],\"type\":\"scatter\"},{\"hoverinfo\":\"skip\",\"marker\":{\"color\":\"red\",\"showscale\":false,\"size\":10},\"name\":\"c_bus_load_1_1\",\"showlegend\":false,\"x\":[-949.7147263014331],\"y\":[611.4290897663919],\"type\":\"scatter\"},{\"hoverinfo\":\"skip\",\"line\":{\"color\":\"black\",\"width\":1},\"showlegend\":false,\"x\":[-1056.0,-1006.0],\"y\":[546.0,524.0],\"type\":\"scatter\"},{\"marker\":{\"color\":\"DarkOrange\",\"line\":{\"color\":\"black\",\"width\":1},\"showscale\":false,\"size\":12},\"mode\":\"markers\",\"name\":\"cload_2_2\",\"showlegend\":false,\"text\":[\"\"],\"x\":[-1056.0],\"y\":[546.0],\"type\":\"scatter\"},{\"hoverinfo\":\"skip\",\"marker\":{\"color\":\"red\",\"showscale\":false,\"size\":10},\"name\":\"c_bus_load_2_2\",\"showlegend\":false,\"x\":[-1019.7297254863415],\"y\":[530.0410792139902],\"type\":\"scatter\"},{\"hoverinfo\":\"skip\",\"line\":{\"color\":\"black\",\"width\":1},\"showlegend\":false,\"x\":[-993.0,-940.0],\"y\":[478.0,461.0],\"type\":\"scatter\"},{\"marker\":{\"color\":\"DarkOrange\",\"line\":{\"color\":\"black\",\"width\":1},\"showscale\":false,\"size\":12},\"mode\":\"markers\",\"name\":\"cload_3_3\",\"showlegend\":false,\"text\":[\"\"],\"x\":[-993.0],\"y\":[478.0],\"type\":\"scatter\"},{\"hoverinfo\":\"skip\",\"marker\":{\"color\":\"red\",\"showscale\":false,\"size\":10},\"name\":\"c_bus_load_3_3\",\"showlegend\":false,\"x\":[-954.2832297479796],\"y\":[465.5814133153897],\"type\":\"scatter\"},{\"hoverinfo\":\"skip\",\"line\":{\"color\":\"black\",\"width\":1},\"showlegend\":false,\"x\":[-922.0,-874.0],\"y\":[358.0,352.0],\"type\":\"scatter\"},{\"marker\":{\"color\":\"DarkOrange\",\"line\":{\"color\":\"black\",\"width\":1},\"showscale\":false,\"size\":12},\"mode\":\"markers\",\"name\":\"cload_5_4\",\"showlegend\":false,\"text\":[\"\"],\"x\":[-922.0],\"y\":[358.0],\"type\":\"scatter\"},{\"hoverinfo\":\"skip\",\"marker\":{\"color\":\"red\",\"showscale\":false,\"size\":10},\"name\":\"c_bus_load_5_4\",\"showlegend\":false,\"x\":[-888.884168150705],\"y\":[353.86052101883814],\"type\":\"scatter\"},{\"hoverinfo\":\"skip\",\"line\":{\"color\":\"black\",\"width\":1},\"showlegend\":false,\"x\":[-832.0,-792.0],\"y\":[363.0,346.0],\"type\":\"scatter\"},{\"marker\":{\"color\":\"DarkOrange\",\"line\":{\"color\":\"black\",\"width\":1},\"showscale\":false,\"size\":12},\"mode\":\"markers\",\"name\":\"cload_6_5\",\"showlegend\":false,\"text\":[\"\"],\"x\":[-832.0],\"y\":[363.0],\"type\":\"scatter\"},{\"hoverinfo\":\"skip\",\"marker\":{\"color\":\"red\",\"showscale\":false,\"size\":10},\"name\":\"c_bus_load_6_5\",\"showlegend\":false,\"x\":[-805.8049637768771],\"y\":[351.8671096051728],\"type\":\"scatter\"},{\"hoverinfo\":\"skip\",\"line\":{\"color\":\"black\",\"width\":1},\"showlegend\":false,\"x\":[-866.0,-847.0],\"y\":[509.0,465.0],\"type\":\"scatter\"},{\"marker\":{\"color\":\"DarkOrange\",\"line\":{\"color\":\"black\",\"width\":1},\"showscale\":false,\"size\":12},\"mode\":\"markers\",\"name\":\"cload_10_7\",\"showlegend\":false,\"text\":[\"\"],\"x\":[-866.0],\"y\":[509.0],\"type\":\"scatter\"},{\"hoverinfo\":\"skip\",\"marker\":{\"color\":\"red\",\"showscale\":false,\"size\":10},\"name\":\"c_bus_load_10_7\",\"showlegend\":false,\"x\":[-852.9465402444957],\"y\":[478.77093530304285],\"type\":\"scatter\"},{\"hoverinfo\":\"skip\",\"line\":{\"color\":\"black\",\"width\":1},\"showlegend\":false,\"x\":[-723.0,-705.0],\"y\":[551.0,505.0],\"type\":\"scatter\"},{\"marker\":{\"color\":\"DarkOrange\",\"line\":{\"color\":\"black\",\"width\":1},\"showscale\":false,\"size\":12},\"mode\":\"markers\",\"name\":\"cload_11_8\",\"showlegend\":false,\"text\":[\"\"],\"x\":[-723.0],\"y\":[551.0],\"type\":\"scatter\"},{\"hoverinfo\":\"skip\",\"marker\":{\"color\":\"red\",\"showscale\":false,\"size\":10},\"name\":\"c_bus_load_11_8\",\"showlegend\":false,\"x\":[-710.4659902287077],\"y\":[518.9686416955863],\"type\":\"scatter\"},{\"hoverinfo\":\"skip\",\"line\":{\"color\":\"black\",\"width\":1},\"showlegend\":false,\"x\":[-671.0,-638.0],\"y\":[390.0,363.0],\"type\":\"scatter\"},{\"marker\":{\"color\":\"DarkOrange\",\"line\":{\"color\":\"black\",\"width\":1},\"showscale\":false,\"size\":12},\"mode\":\"markers\",\"name\":\"cload_12_9\",\"showlegend\":false,\"text\":[\"\"],\"x\":[-671.0],\"y\":[390.0],\"type\":\"scatter\"},{\"hoverinfo\":\"skip\",\"marker\":{\"color\":\"red\",\"showscale\":false,\"size\":10},\"name\":\"c_bus_load_12_9\",\"showlegend\":false,\"x\":[-649.6093594880498],\"y\":[372.49856685385896],\"type\":\"scatter\"},{\"hoverinfo\":\"skip\",\"line\":{\"color\":\"black\",\"width\":1},\"showlegend\":false,\"x\":[-559.0,-544.0],\"y\":[543.0,498.0],\"type\":\"scatter\"},{\"marker\":{\"color\":\"DarkOrange\",\"line\":{\"color\":\"black\",\"width\":1},\"showscale\":false,\"size\":12},\"mode\":\"markers\",\"name\":\"cload_13_10\",\"showlegend\":false,\"text\":[\"\"],\"x\":[-559.0],\"y\":[543.0],\"type\":\"scatter\"},{\"hoverinfo\":\"skip\",\"marker\":{\"color\":\"red\",\"showscale\":false,\"size\":10},\"name\":\"c_bus_load_13_10\",\"showlegend\":false,\"x\":[-548.7434164902526],\"y\":[512.2302494707577],\"type\":\"scatter\"},{\"hoverinfo\":\"skip\",\"line\":{\"color\":\"black\",\"width\":1},\"showlegend\":false,\"x\":[-531.0,-498.0],\"y\":[401.0,369.0],\"type\":\"scatter\"},{\"marker\":{\"color\":\"DarkOrange\",\"line\":{\"color\":\"black\",\"width\":1},\"showscale\":false,\"size\":12},\"mode\":\"markers\",\"name\":\"cload_14_11\",\"showlegend\":false,\"text\":[\"\"],\"x\":[-531.0],\"y\":[401.0],\"type\":\"scatter\"},{\"hoverinfo\":\"skip\",\"marker\":{\"color\":\"red\",\"showscale\":false,\"size\":10},\"name\":\"c_bus_load_14_11\",\"showlegend\":false,\"x\":[-508.7685059017658],\"y\":[379.44218754110625],\"type\":\"scatter\"},{\"hoverinfo\":\"skip\",\"line\":{\"color\":\"black\",\"width\":1},\"showlegend\":false,\"x\":[-791.0,-747.0],\"y\":[274.0,268.0],\"type\":\"scatter\"},{\"marker\":{\"color\":\"DarkOrange\",\"line\":{\"color\":\"black\",\"width\":1},\"showscale\":false,\"size\":12},\"mode\":\"markers\",\"name\":\"cload_15_12\",\"showlegend\":false,\"text\":[\"\"],\"x\":[-791.0],\"y\":[274.0],\"type\":\"scatter\"},{\"hoverinfo\":\"skip\",\"marker\":{\"color\":\"red\",\"showscale\":false,\"size\":10},\"name\":\"c_bus_load_15_12\",\"showlegend\":false,\"x\":[-761.8624525206645],\"y\":[270.0266980709997],\"type\":\"scatter\"},{\"hoverinfo\":\"skip\",\"line\":{\"color\":\"black\",\"width\":1},\"showlegend\":false,\"x\":[-623.0,-586.0],\"y\":[210.0,205.0],\"type\":\"scatter\"},{\"marker\":{\"color\":\"DarkOrange\",\"line\":{\"color\":\"black\",\"width\":1},\"showscale\":false,\"size\":12},\"mode\":\"markers\",\"name\":\"cload_16_13\",\"showlegend\":false,\"text\":[\"\"],\"x\":[-623.0],\"y\":[210.0],\"type\":\"scatter\"},{\"hoverinfo\":\"skip\",\"marker\":{\"color\":\"red\",\"showscale\":false,\"size\":10},\"name\":\"c_bus_load_16_13\",\"showlegend\":false,\"x\":[-600.8648864561549],\"y\":[207.00876844002093],\"type\":\"scatter\"},{\"hoverinfo\":\"skip\",\"line\":{\"color\":\"black\",\"width\":1},\"showlegend\":false,\"x\":[-457.0,-427.0],\"y\":[226.0,205.0],\"type\":\"scatter\"},{\"marker\":{\"color\":\"DarkOrange\",\"line\":{\"color\":\"black\",\"width\":1},\"showscale\":false,\"size\":12},\"mode\":\"markers\",\"name\":\"cload_17_14\",\"showlegend\":false,\"text\":[\"\"],\"x\":[-457.0],\"y\":[226.0],\"type\":\"scatter\"},{\"hoverinfo\":\"skip\",\"marker\":{\"color\":\"red\",\"showscale\":false,\"size\":10},\"name\":\"c_bus_load_17_14\",\"showlegend\":false,\"x\":[-439.2884788077856],\"y\":[213.60193516544993],\"type\":\"scatter\"},{\"hoverinfo\":\"skip\",\"line\":{\"color\":\"black\",\"width\":1},\"showlegend\":false,\"x\":[-336.0,-307.0],\"y\":[340.0,311.0],\"type\":\"scatter\"},{\"marker\":{\"color\":\"DarkOrange\",\"line\":{\"color\":\"black\",\"width\":1},\"showscale\":false,\"size\":12},\"mode\":\"markers\",\"name\":\"cload_18_15\",\"showlegend\":false,\"text\":[\"\"],\"x\":[-336.0],\"y\":[340.0],\"type\":\"scatter\"},{\"hoverinfo\":\"skip\",\"marker\":{\"color\":\"red\",\"showscale\":false,\"size\":10},\"name\":\"c_bus_load_18_15\",\"showlegend\":false,\"x\":[-317.6066017177982],\"y\":[321.6066017177982],\"type\":\"scatter\"},{\"hoverinfo\":\"skip\",\"line\":{\"color\":\"black\",\"width\":1},\"showlegend\":false,\"x\":[-303.0,-274.0],\"y\":[237.0,222.0],\"type\":\"scatter\"},{\"marker\":{\"color\":\"DarkOrange\",\"line\":{\"color\":\"black\",\"width\":1},\"showscale\":false,\"size\":12},\"mode\":\"markers\",\"name\":\"cload_19_16\",\"showlegend\":false,\"text\":[\"\"],\"x\":[-303.0],\"y\":[237.0],\"type\":\"scatter\"},{\"hoverinfo\":\"skip\",\"marker\":{\"color\":\"red\",\"showscale\":false,\"size\":10},\"name\":\"c_bus_load_19_16\",\"showlegend\":false,\"x\":[-287.3232646473392],\"y\":[228.8913437831065],\"type\":\"scatter\"},{\"hoverinfo\":\"skip\",\"line\":{\"color\":\"black\",\"width\":1},\"showlegend\":false,\"x\":[-319.0,-285.0],\"y\":[76.0,82.0],\"type\":\"scatter\"},{\"marker\":{\"color\":\"DarkOrange\",\"line\":{\"color\":\"black\",\"width\":1},\"showscale\":false,\"size\":12},\"mode\":\"markers\",\"name\":\"cload_20_17\",\"showlegend\":false,\"text\":[\"\"],\"x\":[-319.0],\"y\":[76.0],\"type\":\"scatter\"},{\"hoverinfo\":\"skip\",\"marker\":{\"color\":\"red\",\"showscale\":false,\"size\":10},\"name\":\"c_bus_load_20_17\",\"showlegend\":false,\"x\":[-299.771753382269],\"y\":[79.39321999136429],\"type\":\"scatter\"},{\"hoverinfo\":\"skip\",\"line\":{\"color\":\"black\",\"width\":1},\"showlegend\":false,\"x\":[-346.0,-314.0],\"y\":[-20.0,0.0],\"type\":\"scatter\"},{\"marker\":{\"color\":\"DarkOrange\",\"line\":{\"color\":\"black\",\"width\":1},\"showscale\":false,\"size\":12},\"mode\":\"markers\",\"name\":\"cload_21_18\",\"showlegend\":false,\"text\":[\"\"],\"x\":[-346.0],\"y\":[-20.0],\"type\":\"scatter\"},{\"hoverinfo\":\"skip\",\"marker\":{\"color\":\"red\",\"showscale\":false,\"size\":10},\"name\":\"c_bus_load_21_18\",\"showlegend\":false,\"x\":[-326.7199745600763],\"y\":[-7.9499841000477005],\"type\":\"scatter\"},{\"hoverinfo\":\"skip\",\"line\":{\"color\":\"black\",\"width\":1},\"showlegend\":false,\"x\":[-383.0,-348.0],\"y\":[-139.0,-115.0],\"type\":\"scatter\"},{\"marker\":{\"color\":\"DarkOrange\",\"line\":{\"color\":\"black\",\"width\":1},\"showscale\":false,\"size\":12},\"mode\":\"markers\",\"name\":\"cload_22_19\",\"showlegend\":false,\"text\":[\"\"],\"x\":[-383.0],\"y\":[-139.0],\"type\":\"scatter\"},{\"hoverinfo\":\"skip\",\"marker\":{\"color\":\"red\",\"showscale\":false,\"size\":10},\"name\":\"c_bus_load_22_19\",\"showlegend\":false,\"x\":[-360.3709327776897],\"y\":[-123.48292533327292],\"type\":\"scatter\"},{\"hoverinfo\":\"skip\",\"line\":{\"color\":\"black\",\"width\":1},\"showlegend\":false,\"x\":[-907.0,-858.0],\"y\":[-115.0,-98.0],\"type\":\"scatter\"},{\"marker\":{\"color\":\"DarkOrange\",\"line\":{\"color\":\"black\",\"width\":1},\"showscale\":false,\"size\":12},\"mode\":\"markers\",\"name\":\"cload_26_21\",\"showlegend\":false,\"text\":[\"\"],\"x\":[-907.0],\"y\":[-115.0],\"type\":\"scatter\"},{\"hoverinfo\":\"skip\",\"marker\":{\"color\":\"red\",\"showscale\":false,\"size\":10},\"name\":\"c_bus_load_26_21\",\"showlegend\":false,\"x\":[-872.1713491787644],\"y\":[-102.91659053140808],\"type\":\"scatter\"},{\"hoverinfo\":\"skip\",\"line\":{\"color\":\"black\",\"width\":1},\"showlegend\":false,\"x\":[-925.0,-879.0],\"y\":[-41.0,-22.0],\"type\":\"scatter\"},{\"marker\":{\"color\":\"DarkOrange\",\"line\":{\"color\":\"black\",\"width\":1},\"showscale\":false,\"size\":12},\"mode\":\"markers\",\"name\":\"cload_27_22\",\"showlegend\":false,\"text\":[\"\"],\"x\":[-925.0],\"y\":[-41.0],\"type\":\"scatter\"},{\"hoverinfo\":\"skip\",\"marker\":{\"color\":\"red\",\"showscale\":false,\"size\":10},\"name\":\"c_bus_load_27_22\",\"showlegend\":false,\"x\":[-892.8639213973504],\"y\":[-27.72640231629689],\"type\":\"scatter\"},{\"hoverinfo\":\"skip\",\"line\":{\"color\":\"black\",\"width\":1},\"showlegend\":false,\"x\":[-924.0,-876.0],\"y\":[52.0,56.0],\"type\":\"scatter\"},{\"marker\":{\"color\":\"DarkOrange\",\"line\":{\"color\":\"black\",\"width\":1},\"showscale\":false,\"size\":12},\"mode\":\"markers\",\"name\":\"cload_28_23\",\"showlegend\":false,\"text\":[\"\"],\"x\":[-924.0],\"y\":[52.0],\"type\":\"scatter\"},{\"hoverinfo\":\"skip\",\"marker\":{\"color\":\"red\",\"showscale\":false,\"size\":10},\"name\":\"c_bus_load_28_23\",\"showlegend\":false,\"x\":[-890.9481863736731],\"y\":[54.7543178021939],\"type\":\"scatter\"},{\"hoverinfo\":\"skip\",\"line\":{\"color\":\"black\",\"width\":1},\"showlegend\":false,\"x\":[-815.0,-773.0],\"y\":[45.0,56.0],\"type\":\"scatter\"},{\"marker\":{\"color\":\"DarkOrange\",\"line\":{\"color\":\"black\",\"width\":1},\"showscale\":false,\"size\":12},\"mode\":\"markers\",\"name\":\"cload_30_24\",\"showlegend\":false,\"text\":[\"\"],\"x\":[-815.0],\"y\":[45.0],\"type\":\"scatter\"},{\"hoverinfo\":\"skip\",\"marker\":{\"color\":\"red\",\"showscale\":false,\"size\":10},\"name\":\"c_bus_load_30_24\",\"showlegend\":false,\"x\":[-787.5105833507037],\"y\":[52.19960912243475],\"type\":\"scatter\"},{\"hoverinfo\":\"skip\",\"line\":{\"color\":\"black\",\"width\":1},\"showlegend\":false,\"x\":[-724.0,-686.0],\"y\":[-11.0,7.0],\"type\":\"scatter\"},{\"marker\":{\"color\":\"DarkOrange\",\"line\":{\"color\":\"black\",\"width\":1},\"showscale\":false,\"size\":12},\"mode\":\"markers\",\"name\":\"cload_31_25\",\"showlegend\":false,\"text\":[\"\"],\"x\":[-724.0],\"y\":[-11.0],\"type\":\"scatter\"},{\"hoverinfo\":\"skip\",\"marker\":{\"color\":\"red\",\"showscale\":false,\"size\":10},\"name\":\"c_bus_load_31_25\",\"showlegend\":false,\"x\":[-699.5560675834031],\"y\":[0.5787048289143302],\"type\":\"scatter\"},{\"hoverinfo\":\"skip\",\"line\":{\"color\":\"black\",\"width\":1},\"showlegend\":false,\"x\":[-34.0,-12.0],\"y\":[525.0,480.0],\"type\":\"scatter\"},{\"marker\":{\"color\":\"DarkOrange\",\"line\":{\"color\":\"black\",\"width\":1},\"showscale\":false,\"size\":12},\"mode\":\"markers\",\"name\":\"cload_32_26\",\"showlegend\":false,\"text\":[\"\"],\"x\":[-34.0],\"y\":[525.0],\"type\":\"scatter\"},{\"hoverinfo\":\"skip\",\"marker\":{\"color\":\"red\",\"showscale\":false,\"size\":10},\"name\":\"c_bus_load_32_26\",\"showlegend\":false,\"x\":[-18.588151980074137],\"y\":[493.475765413788],\"type\":\"scatter\"},{\"hoverinfo\":\"skip\",\"line\":{\"color\":\"black\",\"width\":1},\"showlegend\":false,\"x\":[26.0,40.0],\"y\":[415.0,373.0],\"type\":\"scatter\"},{\"marker\":{\"color\":\"DarkOrange\",\"line\":{\"color\":\"black\",\"width\":1},\"showscale\":false,\"size\":12},\"mode\":\"markers\",\"name\":\"cload_33_27\",\"showlegend\":false,\"text\":[\"\"],\"x\":[26.0],\"y\":[415.0],\"type\":\"scatter\"},{\"hoverinfo\":\"skip\",\"marker\":{\"color\":\"red\",\"showscale\":false,\"size\":10},\"name\":\"c_bus_load_33_27\",\"showlegend\":false,\"x\":[35.25658350974743],\"y\":[387.2302494707577],\"type\":\"scatter\"},{\"hoverinfo\":\"skip\",\"line\":{\"color\":\"black\",\"width\":1},\"showlegend\":false,\"x\":[-119.0,-91.0],\"y\":[283.0,257.0],\"type\":\"scatter\"},{\"marker\":{\"color\":\"DarkOrange\",\"line\":{\"color\":\"black\",\"width\":1},\"showscale\":false,\"size\":12},\"mode\":\"markers\",\"name\":\"cload_34_28\",\"showlegend\":false,\"text\":[\"\"],\"x\":[-119.0],\"y\":[283.0],\"type\":\"scatter\"},{\"hoverinfo\":\"skip\",\"marker\":{\"color\":\"red\",\"showscale\":false,\"size\":10},\"name\":\"c_bus_load_34_28\",\"showlegend\":false,\"x\":[-101.99190237439448],\"y\":[267.20676649050915],\"type\":\"scatter\"},{\"hoverinfo\":\"skip\",\"line\":{\"color\":\"black\",\"width\":1},\"showlegend\":false,\"x\":[106.0,133.0],\"y\":[300.0,272.0],\"type\":\"scatter\"},{\"marker\":{\"color\":\"DarkOrange\",\"line\":{\"color\":\"black\",\"width\":1},\"showscale\":false,\"size\":12},\"mode\":\"markers\",\"name\":\"cload_35_29\",\"showlegend\":false,\"text\":[\"\"],\"x\":[106.0],\"y\":[300.0],\"type\":\"scatter\"},{\"hoverinfo\":\"skip\",\"marker\":{\"color\":\"red\",\"showscale\":false,\"size\":10},\"name\":\"c_bus_load_35_29\",\"showlegend\":false,\"x\":[122.58796644123652],\"y\":[282.7976644313103],\"type\":\"scatter\"},{\"hoverinfo\":\"skip\",\"line\":{\"color\":\"black\",\"width\":1},\"showlegend\":false,\"x\":[135.0,155.0],\"y\":[549.0,503.0],\"type\":\"scatter\"},{\"marker\":{\"color\":\"DarkOrange\",\"line\":{\"color\":\"black\",\"width\":1},\"showscale\":false,\"size\":12},\"mode\":\"markers\",\"name\":\"cload_38_30\",\"showlegend\":false,\"text\":[\"\"],\"x\":[135.0],\"y\":[549.0],\"type\":\"scatter\"},{\"hoverinfo\":\"skip\",\"marker\":{\"color\":\"red\",\"showscale\":false,\"size\":10},\"name\":\"c_bus_load_38_30\",\"showlegend\":false,\"x\":[149.01910832878326],\"y\":[516.7560508437986],\"type\":\"scatter\"},{\"hoverinfo\":\"skip\",\"line\":{\"color\":\"black\",\"width\":1},\"showlegend\":false,\"x\":[223.0,226.0],\"y\":[621.0,568.0],\"type\":\"scatter\"},{\"marker\":{\"color\":\"DarkOrange\",\"line\":{\"color\":\"black\",\"width\":1},\"showscale\":false,\"size\":12},\"mode\":\"markers\",\"name\":\"cload_39_31\",\"showlegend\":false,\"text\":[\"\"],\"x\":[223.0],\"y\":[621.0],\"type\":\"scatter\"},{\"hoverinfo\":\"skip\",\"marker\":{\"color\":\"red\",\"showscale\":false,\"size\":10},\"name\":\"c_bus_load_39_31\",\"showlegend\":false,\"x\":[225.15230031966016],\"y\":[582.9760276860038],\"type\":\"scatter\"},{\"hoverinfo\":\"skip\",\"line\":{\"color\":\"black\",\"width\":1},\"showlegend\":false,\"x\":[334.0,340.0],\"y\":[671.0,615.0],\"type\":\"scatter\"},{\"marker\":{\"color\":\"DarkOrange\",\"line\":{\"color\":\"black\",\"width\":1},\"showscale\":false,\"size\":12},\"mode\":\"markers\",\"name\":\"cload_40_32\",\"showlegend\":false,\"text\":[\"\"],\"x\":[334.0],\"y\":[671.0],\"type\":\"scatter\"},{\"hoverinfo\":\"skip\",\"marker\":{\"color\":\"red\",\"showscale\":false,\"size\":10},\"name\":\"c_bus_load_40_32\",\"showlegend\":false,\"x\":[338.40200314548605],\"y\":[629.9146373087972],\"type\":\"scatter\"},{\"hoverinfo\":\"skip\",\"line\":{\"color\":\"black\",\"width\":1},\"showlegend\":false,\"x\":[420.0,424.0],\"y\":[627.0,568.0],\"type\":\"scatter\"},{\"marker\":{\"color\":\"DarkOrange\",\"line\":{\"color\":\"black\",\"width\":1},\"showscale\":false,\"size\":12},\"mode\":\"markers\",\"name\":\"cload_41_33\",\"showlegend\":false,\"text\":[\"\"],\"x\":[420.0],\"y\":[627.0],\"type\":\"scatter\"},{\"hoverinfo\":\"skip\",\"marker\":{\"color\":\"red\",\"showscale\":false,\"size\":10},\"name\":\"c_bus_load_41_33\",\"showlegend\":false,\"x\":[422.9853799639481],\"y\":[582.9656455317652],\"type\":\"scatter\"},{\"hoverinfo\":\"skip\",\"line\":{\"color\":\"black\",\"width\":1},\"showlegend\":false,\"x\":[307.0,326.0],\"y\":[403.0,363.0],\"type\":\"scatter\"},{\"marker\":{\"color\":\"DarkOrange\",\"line\":{\"color\":\"black\",\"width\":1},\"showscale\":false,\"size\":12},\"mode\":\"markers\",\"name\":\"cload_42_34\",\"showlegend\":false,\"text\":[\"\"],\"x\":[307.0],\"y\":[403.0],\"type\":\"scatter\"},{\"hoverinfo\":\"skip\",\"marker\":{\"color\":\"red\",\"showscale\":false,\"size\":10},\"name\":\"c_bus_load_42_34\",\"showlegend\":false,\"x\":[319.5641477814757],\"y\":[376.54916256531436],\"type\":\"scatter\"},{\"hoverinfo\":\"skip\",\"line\":{\"color\":\"black\",\"width\":1},\"showlegend\":false,\"x\":[364.0,369.0],\"y\":[468.0,421.0],\"type\":\"scatter\"},{\"marker\":{\"color\":\"DarkOrange\",\"line\":{\"color\":\"black\",\"width\":1},\"showscale\":false,\"size\":12},\"mode\":\"markers\",\"name\":\"cload_43_35\",\"showlegend\":false,\"text\":[\"\"],\"x\":[364.0],\"y\":[468.0],\"type\":\"scatter\"},{\"hoverinfo\":\"skip\",\"marker\":{\"color\":\"red\",\"showscale\":false,\"size\":10},\"name\":\"c_bus_load_43_35\",\"showlegend\":false,\"x\":[367.41320918109716],\"y\":[435.9158336976867],\"type\":\"scatter\"},{\"hoverinfo\":\"skip\",\"line\":{\"color\":\"black\",\"width\":1},\"showlegend\":false,\"x\":[403.0,411.0],\"y\":[371.0,330.0],\"type\":\"scatter\"},{\"marker\":{\"color\":\"DarkOrange\",\"line\":{\"color\":\"black\",\"width\":1},\"showscale\":false,\"size\":12},\"mode\":\"markers\",\"name\":\"cload_44_36\",\"showlegend\":false,\"text\":[\"\"],\"x\":[403.0],\"y\":[371.0],\"type\":\"scatter\"},{\"hoverinfo\":\"skip\",\"marker\":{\"color\":\"red\",\"showscale\":false,\"size\":10},\"name\":\"c_bus_load_44_36\",\"showlegend\":false,\"x\":[408.12734460870524],\"y\":[344.7223588803855],\"type\":\"scatter\"},{\"hoverinfo\":\"skip\",\"line\":{\"color\":\"black\",\"width\":1},\"showlegend\":false,\"x\":[338.0,350.0],\"y\":[269.0,236.0],\"type\":\"scatter\"},{\"marker\":{\"color\":\"DarkOrange\",\"line\":{\"color\":\"black\",\"width\":1},\"showscale\":false,\"size\":12},\"mode\":\"markers\",\"name\":\"cload_45_37\",\"showlegend\":false,\"text\":[\"\"],\"x\":[338.0],\"y\":[269.0],\"type\":\"scatter\"},{\"hoverinfo\":\"skip\",\"marker\":{\"color\":\"red\",\"showscale\":false,\"size\":10},\"name\":\"c_bus_load_45_37\",\"showlegend\":false,\"x\":[344.87385405369946],\"y\":[250.09690135232654],\"type\":\"scatter\"},{\"hoverinfo\":\"skip\",\"line\":{\"color\":\"black\",\"width\":1},\"showlegend\":false,\"x\":[472.0,460.0],\"y\":[203.0,182.0],\"type\":\"scatter\"},{\"marker\":{\"color\":\"DarkOrange\",\"line\":{\"color\":\"black\",\"width\":1},\"showscale\":false,\"size\":12},\"mode\":\"markers\",\"name\":\"cload_46_38\",\"showlegend\":false,\"text\":[\"\"],\"x\":[472.0],\"y\":[203.0],\"type\":\"scatter\"},{\"hoverinfo\":\"skip\",\"marker\":{\"color\":\"red\",\"showscale\":false,\"size\":10},\"name\":\"c_bus_load_46_38\",\"showlegend\":false,\"x\":[467.4420840753525],\"y\":[195.02364713186688],\"type\":\"scatter\"},{\"hoverinfo\":\"skip\",\"line\":{\"color\":\"black\",\"width\":1},\"showlegend\":false,\"x\":[461.0,453.0],\"y\":[279.0,244.0],\"type\":\"scatter\"},{\"marker\":{\"color\":\"DarkOrange\",\"line\":{\"color\":\"black\",\"width\":1},\"showscale\":false,\"size\":12},\"mode\":\"markers\",\"name\":\"cload_47_39\",\"showlegend\":false,\"text\":[\"\"],\"x\":[461.0],\"y\":[279.0],\"type\":\"scatter\"},{\"hoverinfo\":\"skip\",\"marker\":{\"color\":\"red\",\"showscale\":false,\"size\":10},\"name\":\"c_bus_load_47_39\",\"showlegend\":false,\"x\":[456.3423720225321],\"y\":[258.622877598578],\"type\":\"scatter\"},{\"hoverinfo\":\"skip\",\"line\":{\"color\":\"black\",\"width\":1},\"showlegend\":false,\"x\":[577.0,583.0],\"y\":[243.0,209.0],\"type\":\"scatter\"},{\"marker\":{\"color\":\"DarkOrange\",\"line\":{\"color\":\"black\",\"width\":1},\"showscale\":false,\"size\":12},\"mode\":\"markers\",\"name\":\"cload_48_40\",\"showlegend\":false,\"text\":[\"\"],\"x\":[577.0],\"y\":[243.0],\"type\":\"scatter\"},{\"hoverinfo\":\"skip\",\"marker\":{\"color\":\"red\",\"showscale\":false,\"size\":10},\"name\":\"c_bus_load_48_40\",\"showlegend\":false,\"x\":[580.3932199913643],\"y\":[223.77175338226905],\"type\":\"scatter\"},{\"hoverinfo\":\"skip\",\"line\":{\"color\":\"black\",\"width\":1},\"showlegend\":false,\"x\":[822.0,776.0],\"y\":[322.0,300.0],\"type\":\"scatter\"},{\"marker\":{\"color\":\"DarkOrange\",\"line\":{\"color\":\"black\",\"width\":1},\"showscale\":false,\"size\":12},\"mode\":\"markers\",\"name\":\"cload_49_41\",\"showlegend\":false,\"text\":[\"\"],\"x\":[822.0],\"y\":[322.0],\"type\":\"scatter\"},{\"hoverinfo\":\"skip\",\"marker\":{\"color\":\"red\",\"showscale\":false,\"size\":10},\"name\":\"c_bus_load_49_41\",\"showlegend\":false,\"x\":[789.5320133245347],\"y\":[306.47183245956006],\"type\":\"scatter\"},{\"hoverinfo\":\"skip\",\"line\":{\"color\":\"black\",\"width\":1},\"showlegend\":false,\"x\":[738.0,706.0],\"y\":[325.0,300.0],\"type\":\"scatter\"},{\"marker\":{\"color\":\"DarkOrange\",\"line\":{\"color\":\"black\",\"width\":1},\"showscale\":false,\"size\":12},\"mode\":\"markers\",\"name\":\"cload_50_42\",\"showlegend\":false,\"text\":[\"\"],\"x\":[738.0],\"y\":[325.0],\"type\":\"scatter\"},{\"hoverinfo\":\"skip\",\"marker\":{\"color\":\"red\",\"showscale\":false,\"size\":10},\"name\":\"c_bus_load_50_42\",\"showlegend\":false,\"x\":[717.8203656058685],\"y\":[309.2346606295847],\"type\":\"scatter\"},{\"hoverinfo\":\"skip\",\"line\":{\"color\":\"black\",\"width\":1},\"showlegend\":false,\"x\":[556.0,541.0],\"y\":[474.0,430.0],\"type\":\"scatter\"},{\"marker\":{\"color\":\"DarkOrange\",\"line\":{\"color\":\"black\",\"width\":1},\"showscale\":false,\"size\":12},\"mode\":\"markers\",\"name\":\"cload_51_43\",\"showlegend\":false,\"text\":[\"\"],\"x\":[556.0],\"y\":[474.0],\"type\":\"scatter\"},{\"hoverinfo\":\"skip\",\"marker\":{\"color\":\"red\",\"showscale\":false,\"size\":10},\"name\":\"c_bus_load_51_43\",\"showlegend\":false,\"x\":[545.840108916822],\"y\":[444.1976528226781],\"type\":\"scatter\"},{\"hoverinfo\":\"skip\",\"line\":{\"color\":\"black\",\"width\":1},\"showlegend\":false,\"x\":[546.0,533.0],\"y\":[621.0,568.0],\"type\":\"scatter\"},{\"marker\":{\"color\":\"DarkOrange\",\"line\":{\"color\":\"black\",\"width\":1},\"showscale\":false,\"size\":12},\"mode\":\"markers\",\"name\":\"cload_52_44\",\"showlegend\":false,\"text\":[\"\"],\"x\":[546.0],\"y\":[621.0],\"type\":\"scatter\"},{\"hoverinfo\":\"skip\",\"marker\":{\"color\":\"red\",\"showscale\":false,\"size\":10},\"name\":\"c_bus_load_52_44\",\"showlegend\":false,\"x\":[536.5733229169647],\"y\":[582.5681626614715],\"type\":\"scatter\"},{\"hoverinfo\":\"skip\",\"line\":{\"color\":\"black\",\"width\":1},\"showlegend\":false,\"x\":[636.0,625.0],\"y\":[622.0,566.0],\"type\":\"scatter\"},{\"marker\":{\"color\":\"DarkOrange\",\"line\":{\"color\":\"black\",\"width\":1},\"showscale\":false,\"size\":12},\"mode\":\"markers\",\"name\":\"cload_53_45\",\"showlegend\":false,\"text\":[\"\"],\"x\":[636.0],\"y\":[622.0],\"type\":\"scatter\"},{\"hoverinfo\":\"skip\",\"marker\":{\"color\":\"red\",\"showscale\":false,\"size\":10},\"name\":\"c_bus_load_53_45\",\"showlegend\":false,\"x\":[627.8911795604639],\"y\":[580.7187323078163],\"type\":\"scatter\"},{\"hoverinfo\":\"skip\",\"line\":{\"color\":\"black\",\"width\":1},\"showlegend\":false,\"x\":[825.0,783.0],\"y\":[558.0,515.0],\"type\":\"scatter\"},{\"marker\":{\"color\":\"DarkOrange\",\"line\":{\"color\":\"black\",\"width\":1},\"showscale\":false,\"size\":12},\"mode\":\"markers\",\"name\":\"cload_54_46\",\"showlegend\":false,\"text\":[\"\"],\"x\":[825.0],\"y\":[558.0],\"type\":\"scatter\"},{\"hoverinfo\":\"skip\",\"marker\":{\"color\":\"red\",\"showscale\":false,\"size\":10},\"name\":\"c_bus_load_54_46\",\"showlegend\":false,\"x\":[793.4810928581276],\"y\":[525.730642688083],\"type\":\"scatter\"},{\"hoverinfo\":\"skip\",\"line\":{\"color\":\"black\",\"width\":1},\"showlegend\":false,\"x\":[785.0,742.0],\"y\":[470.0,430.0],\"type\":\"scatter\"},{\"marker\":{\"color\":\"DarkOrange\",\"line\":{\"color\":\"black\",\"width\":1},\"showscale\":false,\"size\":12},\"mode\":\"markers\",\"name\":\"cload_55_47\",\"showlegend\":false,\"text\":[\"\"],\"x\":[785.0],\"y\":[470.0],\"type\":\"scatter\"},{\"hoverinfo\":\"skip\",\"marker\":{\"color\":\"red\",\"showscale\":false,\"size\":10},\"name\":\"c_bus_load_55_47\",\"showlegend\":false,\"x\":[752.9828010724463],\"y\":[440.2165591371593],\"type\":\"scatter\"},{\"hoverinfo\":\"skip\",\"line\":{\"color\":\"black\",\"width\":1},\"showlegend\":false,\"x\":[823.0,776.0],\"y\":[394.0,365.0],\"type\":\"scatter\"},{\"marker\":{\"color\":\"DarkOrange\",\"line\":{\"color\":\"black\",\"width\":1},\"showscale\":false,\"size\":12},\"mode\":\"markers\",\"name\":\"cload_56_48\",\"showlegend\":false,\"text\":[\"\"],\"x\":[823.0],\"y\":[394.0],\"type\":\"scatter\"},{\"hoverinfo\":\"skip\",\"marker\":{\"color\":\"red\",\"showscale\":false,\"size\":10},\"name\":\"c_bus_load_56_48\",\"showlegend\":false,\"x\":[788.7655401919951],\"y\":[372.8766099056991],\"type\":\"scatter\"},{\"hoverinfo\":\"skip\",\"line\":{\"color\":\"black\",\"width\":1},\"showlegend\":false,\"x\":[726.0,706.0],\"y\":[402.0,365.0],\"type\":\"scatter\"},{\"marker\":{\"color\":\"DarkOrange\",\"line\":{\"color\":\"black\",\"width\":1},\"showscale\":false,\"size\":12},\"mode\":\"markers\",\"name\":\"cload_57_49\",\"showlegend\":false,\"text\":[\"\"],\"x\":[726.0],\"y\":[402.0],\"type\":\"scatter\"},{\"hoverinfo\":\"skip\",\"marker\":{\"color\":\"red\",\"showscale\":false,\"size\":10},\"name\":\"c_bus_load_57_49\",\"showlegend\":false,\"x\":[713.1327555154821],\"y\":[378.1955977036419],\"type\":\"scatter\"},{\"hoverinfo\":\"skip\",\"line\":{\"color\":\"black\",\"width\":1},\"showlegend\":false,\"x\":[1034.0,982.0],\"y\":[549.0,529.0],\"type\":\"scatter\"},{\"marker\":{\"color\":\"DarkOrange\",\"line\":{\"color\":\"black\",\"width\":1},\"showscale\":false,\"size\":12},\"mode\":\"markers\",\"name\":\"cload_58_50\",\"showlegend\":false,\"text\":[\"\"],\"x\":[1034.0],\"y\":[549.0],\"type\":\"scatter\"},{\"hoverinfo\":\"skip\",\"marker\":{\"color\":\"red\",\"showscale\":false,\"size\":10},\"name\":\"c_bus_load_58_50\",\"showlegend\":false,\"x\":[996.0001840930458],\"y\":[534.384686189633],\"type\":\"scatter\"},{\"hoverinfo\":\"skip\",\"line\":{\"color\":\"black\",\"width\":1},\"showlegend\":false,\"x\":[965.0,908.0],\"y\":[268.0,254.0],\"type\":\"scatter\"},{\"marker\":{\"color\":\"DarkOrange\",\"line\":{\"color\":\"black\",\"width\":1},\"showscale\":false,\"size\":12},\"mode\":\"markers\",\"name\":\"cload_59_51\",\"showlegend\":false,\"text\":[\"\"],\"x\":[965.0],\"y\":[268.0],\"type\":\"scatter\"},{\"hoverinfo\":\"skip\",\"marker\":{\"color\":\"red\",\"showscale\":false,\"size\":10},\"name\":\"c_bus_load_59_51\",\"showlegend\":false,\"x\":[922.5670463340017],\"y\":[257.5778710294039],\"type\":\"scatter\"},{\"hoverinfo\":\"skip\",\"line\":{\"color\":\"black\",\"width\":1},\"showlegend\":false,\"x\":[895.0,854.0],\"y\":[211.0,185.0],\"type\":\"scatter\"},{\"marker\":{\"color\":\"DarkOrange\",\"line\":{\"color\":\"black\",\"width\":1},\"showscale\":false,\"size\":12},\"mode\":\"markers\",\"name\":\"cload_61_52\",\"showlegend\":false,\"text\":[\"\"],\"x\":[895.0],\"y\":[211.0],\"type\":\"scatter\"},{\"hoverinfo\":\"skip\",\"marker\":{\"color\":\"red\",\"showscale\":false,\"size\":10},\"name\":\"c_bus_load_61_52\",\"showlegend\":false,\"x\":[866.6676286767452],\"y\":[193.03313038037498],\"type\":\"scatter\"},{\"hoverinfo\":\"skip\",\"line\":{\"color\":\"black\",\"width\":1},\"showlegend\":false,\"x\":[789.0,747.0],\"y\":[95.0,102.0],\"type\":\"scatter\"},{\"marker\":{\"color\":\"DarkOrange\",\"line\":{\"color\":\"black\",\"width\":1},\"showscale\":false,\"size\":12},\"mode\":\"markers\",\"name\":\"cload_65_53\",\"showlegend\":false,\"text\":[\"\"],\"x\":[789.0],\"y\":[95.0],\"type\":\"scatter\"},{\"hoverinfo\":\"skip\",\"marker\":{\"color\":\"red\",\"showscale\":false,\"size\":10},\"name\":\"c_bus_load_65_53\",\"showlegend\":false,\"x\":[761.7959088574821],\"y\":[99.53401519041964],\"type\":\"scatter\"},{\"hoverinfo\":\"skip\",\"line\":{\"color\":\"black\",\"width\":1},\"showlegend\":false,\"x\":[893.0,841.0],\"y\":[88.0,94.0],\"type\":\"scatter\"},{\"marker\":{\"color\":\"DarkOrange\",\"line\":{\"color\":\"black\",\"width\":1},\"showscale\":false,\"size\":12},\"mode\":\"markers\",\"name\":\"cload_66_54\",\"showlegend\":false,\"text\":[\"\"],\"x\":[893.0],\"y\":[88.0],\"type\":\"scatter\"},{\"hoverinfo\":\"skip\",\"marker\":{\"color\":\"red\",\"showscale\":false,\"size\":10},\"name\":\"c_bus_load_66_54\",\"showlegend\":false,\"x\":[855.901134038067],\"y\":[92.28063838022304],\"type\":\"scatter\"},{\"hoverinfo\":\"skip\",\"line\":{\"color\":\"black\",\"width\":1},\"showlegend\":false,\"x\":[129.0,160.0],\"y\":[57.0,41.0],\"type\":\"scatter\"},{\"marker\":{\"color\":\"DarkOrange\",\"line\":{\"color\":\"black\",\"width\":1},\"showscale\":false,\"size\":12},\"mode\":\"markers\",\"name\":\"cload_69_55\",\"showlegend\":false,\"text\":[\"\"],\"x\":[129.0],\"y\":[57.0],\"type\":\"scatter\"},{\"hoverinfo\":\"skip\",\"marker\":{\"color\":\"red\",\"showscale\":false,\"size\":10},\"name\":\"c_bus_load_69_55\",\"showlegend\":false,\"x\":[146.67069014417706],\"y\":[47.879643796553786],\"type\":\"scatter\"},{\"hoverinfo\":\"skip\",\"line\":{\"color\":\"black\",\"width\":1},\"showlegend\":false,\"x\":[32.0,69.0],\"y\":[-153.0,-133.0],\"type\":\"scatter\"},{\"marker\":{\"color\":\"DarkOrange\",\"line\":{\"color\":\"black\",\"width\":1},\"showscale\":false,\"size\":12},\"mode\":\"markers\",\"name\":\"cload_73_58\",\"showlegend\":false,\"text\":[\"\"],\"x\":[32.0],\"y\":[-153.0],\"type\":\"scatter\"},{\"hoverinfo\":\"skip\",\"marker\":{\"color\":\"red\",\"showscale\":false,\"size\":10},\"name\":\"c_bus_load_73_58\",\"showlegend\":false,\"x\":[55.80440229635809],\"y\":[-140.1327555154821],\"type\":\"scatter\"},{\"hoverinfo\":\"skip\",\"line\":{\"color\":\"black\",\"width\":1},\"showlegend\":false,\"x\":[126.0,160.0],\"y\":[-231.0,-207.0],\"type\":\"scatter\"},{\"marker\":{\"color\":\"DarkOrange\",\"line\":{\"color\":\"black\",\"width\":1},\"showscale\":false,\"size\":12},\"mode\":\"markers\",\"name\":\"cload_74_59\",\"showlegend\":false,\"text\":[\"\"],\"x\":[126.0],\"y\":[-231.0],\"type\":\"scatter\"},{\"hoverinfo\":\"skip\",\"marker\":{\"color\":\"red\",\"showscale\":false,\"size\":10},\"name\":\"c_bus_load_74_59\",\"showlegend\":false,\"x\":[147.74548205102857],\"y\":[-215.65024796397984],\"type\":\"scatter\"},{\"hoverinfo\":\"skip\",\"line\":{\"color\":\"black\",\"width\":1},\"showlegend\":false,\"x\":[372.0,398.0],\"y\":[-235.0,-207.0],\"type\":\"scatter\"},{\"marker\":{\"color\":\"DarkOrange\",\"line\":{\"color\":\"black\",\"width\":1},\"showscale\":false,\"size\":12},\"mode\":\"markers\",\"name\":\"cload_75_60\",\"showlegend\":false,\"text\":[\"\"],\"x\":[372.0],\"y\":[-235.0],\"type\":\"scatter\"},{\"hoverinfo\":\"skip\",\"marker\":{\"color\":\"red\",\"showscale\":false,\"size\":10},\"name\":\"c_bus_load_75_60\",\"showlegend\":false,\"x\":[387.79323350949085],\"y\":[-217.9919023743945],\"type\":\"scatter\"},{\"hoverinfo\":\"skip\",\"line\":{\"color\":\"black\",\"width\":1},\"showlegend\":false,\"x\":[433.0,464.0],\"y\":[-278.0,-262.0],\"type\":\"scatter\"},{\"marker\":{\"color\":\"DarkOrange\",\"line\":{\"color\":\"black\",\"width\":1},\"showscale\":false,\"size\":12},\"mode\":\"markers\",\"name\":\"cload_76_61\",\"showlegend\":false,\"text\":[\"\"],\"x\":[433.0],\"y\":[-278.0],\"type\":\"scatter\"},{\"hoverinfo\":\"skip\",\"marker\":{\"color\":\"red\",\"showscale\":false,\"size\":10},\"name\":\"c_bus_load_76_61\",\"showlegend\":false,\"x\":[450.67069014417706],\"y\":[-268.8796437965538],\"type\":\"scatter\"},{\"hoverinfo\":\"skip\",\"line\":{\"color\":\"black\",\"width\":1},\"showlegend\":false,\"x\":[492.0,514.0],\"y\":[-160.0,-165.0],\"type\":\"scatter\"},{\"marker\":{\"color\":\"DarkOrange\",\"line\":{\"color\":\"black\",\"width\":1},\"showscale\":false,\"size\":12},\"mode\":\"markers\",\"name\":\"cload_77_62\",\"showlegend\":false,\"text\":[\"\"],\"x\":[492.0],\"y\":[-160.0],\"type\":\"scatter\"},{\"hoverinfo\":\"skip\",\"marker\":{\"color\":\"red\",\"showscale\":false,\"size\":10},\"name\":\"c_bus_load_77_62\",\"showlegend\":false,\"x\":[499.3730071631281],\"y\":[-161.67568344616546],\"type\":\"scatter\"},{\"hoverinfo\":\"skip\",\"line\":{\"color\":\"black\",\"width\":1},\"showlegend\":false,\"x\":[574.0,547.0],\"y\":[-85.0,-97.0],\"type\":\"scatter\"},{\"marker\":{\"color\":\"DarkOrange\",\"line\":{\"color\":\"black\",\"width\":1},\"showscale\":false,\"size\":12},\"mode\":\"markers\",\"name\":\"cload_78_63\",\"showlegend\":false,\"text\":[\"\"],\"x\":[574.0],\"y\":[-85.0],\"type\":\"scatter\"},{\"hoverinfo\":\"skip\",\"marker\":{\"color\":\"red\",\"showscale\":false,\"size\":10},\"name\":\"c_bus_load_78_63\",\"showlegend\":false,\"x\":[560.7071732293039],\"y\":[-90.90792300919829],\"type\":\"scatter\"},{\"hoverinfo\":\"skip\",\"line\":{\"color\":\"black\",\"width\":1},\"showlegend\":false,\"x\":[637.0,599.0],\"y\":[-198.0,-207.0],\"type\":\"scatter\"},{\"marker\":{\"color\":\"DarkOrange\",\"line\":{\"color\":\"black\",\"width\":1},\"showscale\":false,\"size\":12},\"mode\":\"markers\",\"name\":\"cload_79_64\",\"showlegend\":false,\"text\":[\"\"],\"x\":[637.0],\"y\":[-198.0],\"type\":\"scatter\"},{\"hoverinfo\":\"skip\",\"marker\":{\"color\":\"red\",\"showscale\":false,\"size\":10},\"name\":\"c_bus_load_79_64\",\"showlegend\":false,\"x\":[613.5962043123501],\"y\":[-203.54300424181181],\"type\":\"scatter\"},{\"hoverinfo\":\"skip\",\"line\":{\"color\":\"black\",\"width\":1},\"showlegend\":false,\"x\":[374.0,393.0],\"y\":[-371.0,-329.0],\"type\":\"scatter\"},{\"marker\":{\"color\":\"DarkOrange\",\"line\":{\"color\":\"black\",\"width\":1},\"showscale\":false,\"size\":12},\"mode\":\"markers\",\"name\":\"cload_81_65\",\"showlegend\":false,\"text\":[\"\"],\"x\":[374.0],\"y\":[-371.0],\"type\":\"scatter\"},{\"hoverinfo\":\"skip\",\"marker\":{\"color\":\"red\",\"showscale\":false,\"size\":10},\"name\":\"c_bus_load_81_65\",\"showlegend\":false,\"x\":[386.8174819521683],\"y\":[-342.66661884257536],\"type\":\"scatter\"},{\"hoverinfo\":\"skip\",\"line\":{\"color\":\"black\",\"width\":1},\"showlegend\":false,\"x\":[130.0,149.0],\"y\":[-415.0,-377.0],\"type\":\"scatter\"},{\"marker\":{\"color\":\"DarkOrange\",\"line\":{\"color\":\"black\",\"width\":1},\"showscale\":false,\"size\":12},\"mode\":\"markers\",\"name\":\"cload_82_66\",\"showlegend\":false,\"text\":[\"\"],\"x\":[130.0],\"y\":[-415.0],\"type\":\"scatter\"},{\"hoverinfo\":\"skip\",\"marker\":{\"color\":\"red\",\"showscale\":false,\"size\":10},\"name\":\"c_bus_load_82_66\",\"showlegend\":false,\"x\":[142.29179606750063],\"y\":[-390.41640786499875],\"type\":\"scatter\"},{\"hoverinfo\":\"skip\",\"line\":{\"color\":\"black\",\"width\":1},\"showlegend\":false,\"x\":[48.0,89.0],\"y\":[-448.0,-418.0],\"type\":\"scatter\"},{\"marker\":{\"color\":\"DarkOrange\",\"line\":{\"color\":\"black\",\"width\":1},\"showscale\":false,\"size\":12},\"mode\":\"markers\",\"name\":\"cload_83_67\",\"showlegend\":false,\"text\":[\"\"],\"x\":[48.0],\"y\":[-448.0],\"type\":\"scatter\"},{\"hoverinfo\":\"skip\",\"marker\":{\"color\":\"red\",\"showscale\":false,\"size\":10},\"name\":\"c_bus_load_83_67\",\"showlegend\":false,\"x\":[76.89454511512355],\"y\":[-426.85764991576326],\"type\":\"scatter\"},{\"hoverinfo\":\"skip\",\"line\":{\"color\":\"black\",\"width\":1},\"showlegend\":false,\"x\":[87.0,112.0],\"y\":[-530.0,-484.0],\"type\":\"scatter\"},{\"marker\":{\"color\":\"DarkOrange\",\"line\":{\"color\":\"black\",\"width\":1},\"showscale\":false,\"size\":12},\"mode\":\"markers\",\"name\":\"cload_84_68\",\"showlegend\":false,\"text\":[\"\"],\"x\":[87.0],\"y\":[-530.0],\"type\":\"scatter\"},{\"hoverinfo\":\"skip\",\"marker\":{\"color\":\"red\",\"showscale\":false,\"size\":10},\"name\":\"c_bus_load_84_68\",\"showlegend\":false,\"x\":[104.83730019370206],\"y\":[-497.1793676435882],\"type\":\"scatter\"},{\"hoverinfo\":\"skip\",\"line\":{\"color\":\"black\",\"width\":1},\"showlegend\":false,\"x\":[91.0,118.0],\"y\":[-615.0,-565.0],\"type\":\"scatter\"},{\"marker\":{\"color\":\"DarkOrange\",\"line\":{\"color\":\"black\",\"width\":1},\"showscale\":false,\"size\":12},\"mode\":\"markers\",\"name\":\"cload_85_69\",\"showlegend\":false,\"text\":[\"\"],\"x\":[91.0],\"y\":[-615.0],\"type\":\"scatter\"},{\"hoverinfo\":\"skip\",\"marker\":{\"color\":\"red\",\"showscale\":false,\"size\":10},\"name\":\"c_bus_load_85_69\",\"showlegend\":false,\"x\":[110.87276627897674],\"y\":[-578.1985809648579],\"type\":\"scatter\"},{\"hoverinfo\":\"skip\",\"line\":{\"color\":\"black\",\"width\":1},\"showlegend\":false,\"x\":[190.0,205.0],\"y\":[-530.0,-484.0],\"type\":\"scatter\"},{\"marker\":{\"color\":\"DarkOrange\",\"line\":{\"color\":\"black\",\"width\":1},\"showscale\":false,\"size\":12},\"mode\":\"markers\",\"name\":\"cload_87_70\",\"showlegend\":false,\"text\":[\"\"],\"x\":[190.0],\"y\":[-530.0],\"type\":\"scatter\"},{\"hoverinfo\":\"skip\",\"marker\":{\"color\":\"red\",\"showscale\":false,\"size\":10},\"name\":\"c_bus_load_87_70\",\"showlegend\":false,\"x\":[200.34969100253625],\"y\":[-498.2609475922222],\"type\":\"scatter\"},{\"hoverinfo\":\"skip\",\"line\":{\"color\":\"black\",\"width\":1},\"showlegend\":false,\"x\":[333.0,321.0],\"y\":[-645.0,-591.0],\"type\":\"scatter\"},{\"marker\":{\"color\":\"DarkOrange\",\"line\":{\"color\":\"black\",\"width\":1},\"showscale\":false,\"size\":12},\"mode\":\"markers\",\"name\":\"cload_89_71\",\"showlegend\":false,\"text\":[\"\"],\"x\":[333.0],\"y\":[-645.0],\"type\":\"scatter\"},{\"hoverinfo\":\"skip\",\"marker\":{\"color\":\"red\",\"showscale\":false,\"size\":10},\"name\":\"c_bus_load_89_71\",\"showlegend\":false,\"x\":[324.25395686727984],\"y\":[-605.6428059027593],\"type\":\"scatter\"},{\"hoverinfo\":\"skip\",\"line\":{\"color\":\"black\",\"width\":1},\"showlegend\":false,\"x\":[526.0,517.0],\"y\":[-542.0,-489.0],\"type\":\"scatter\"},{\"marker\":{\"color\":\"DarkOrange\",\"line\":{\"color\":\"black\",\"width\":1},\"showscale\":false,\"size\":12},\"mode\":\"markers\",\"name\":\"cload_91_73\",\"showlegend\":false,\"text\":[\"\"],\"x\":[526.0],\"y\":[-542.0],\"type\":\"scatter\"},{\"hoverinfo\":\"skip\",\"marker\":{\"color\":\"red\",\"showscale\":false,\"size\":10},\"name\":\"c_bus_load_91_73\",\"showlegend\":false,\"x\":[519.5112204948396],\"y\":[-503.78829846961094],\"type\":\"scatter\"},{\"hoverinfo\":\"skip\",\"line\":{\"color\":\"black\",\"width\":1},\"showlegend\":false,\"x\":[660.0,642.0],\"y\":[-532.0,-481.0],\"type\":\"scatter\"},{\"marker\":{\"color\":\"DarkOrange\",\"line\":{\"color\":\"black\",\"width\":1},\"showscale\":false,\"size\":12},\"mode\":\"markers\",\"name\":\"cload_92_74\",\"showlegend\":false,\"text\":[\"\"],\"x\":[660.0],\"y\":[-532.0],\"type\":\"scatter\"},{\"hoverinfo\":\"skip\",\"marker\":{\"color\":\"red\",\"showscale\":false,\"size\":10},\"name\":\"c_bus_load_92_74\",\"showlegend\":false,\"x\":[646.992301766027],\"y\":[-495.1448550037433],\"type\":\"scatter\"},{\"hoverinfo\":\"skip\",\"line\":{\"color\":\"black\",\"width\":1},\"showlegend\":false,\"x\":[673.0,646.0],\"y\":[-418.0,-377.0],\"type\":\"scatter\"},{\"marker\":{\"color\":\"DarkOrange\",\"line\":{\"color\":\"black\",\"width\":1},\"showscale\":false,\"size\":12},\"mode\":\"markers\",\"name\":\"cload_93_75\",\"showlegend\":false,\"text\":[\"\"],\"x\":[673.0],\"y\":[-418.0],\"type\":\"scatter\"},{\"hoverinfo\":\"skip\",\"marker\":{\"color\":\"red\",\"showscale\":false,\"size\":10},\"name\":\"c_bus_load_93_75\",\"showlegend\":false,\"x\":[654.2498585427329],\"y\":[-389.5275629722982],\"type\":\"scatter\"},{\"hoverinfo\":\"skip\",\"line\":{\"color\":\"black\",\"width\":1},\"showlegend\":false,\"x\":[562.0,559.0],\"y\":[-426.0,-377.0],\"type\":\"scatter\"},{\"marker\":{\"color\":\"DarkOrange\",\"line\":{\"color\":\"black\",\"width\":1},\"showscale\":false,\"size\":12},\"mode\":\"markers\",\"name\":\"cload_94_76\",\"showlegend\":false,\"text\":[\"\"],\"x\":[562.0],\"y\":[-426.0],\"type\":\"scatter\"},{\"hoverinfo\":\"skip\",\"marker\":{\"color\":\"red\",\"showscale\":false,\"size\":10},\"name\":\"c_bus_load_94_76\",\"showlegend\":false,\"x\":[559.9166509491926],\"y\":[-391.9719655034783],\"type\":\"scatter\"},{\"hoverinfo\":\"skip\",\"line\":{\"color\":\"black\",\"width\":1},\"showlegend\":false,\"x\":[596.0,583.0],\"y\":[-376.0,-331.0],\"type\":\"scatter\"},{\"marker\":{\"color\":\"DarkOrange\",\"line\":{\"color\":\"black\",\"width\":1},\"showscale\":false,\"size\":12},\"mode\":\"markers\",\"name\":\"cload_95_77\",\"showlegend\":false,\"text\":[\"\"],\"x\":[596.0],\"y\":[-376.0],\"type\":\"scatter\"},{\"hoverinfo\":\"skip\",\"marker\":{\"color\":\"red\",\"showscale\":false,\"size\":10},\"name\":\"c_bus_load_95_77\",\"showlegend\":false,\"x\":[587.1630947923117],\"y\":[-345.41071274261714],\"type\":\"scatter\"},{\"hoverinfo\":\"skip\",\"line\":{\"color\":\"black\",\"width\":1},\"showlegend\":false,\"x\":[547.0,541.0],\"y\":[-316.0,-280.0],\"type\":\"scatter\"},{\"marker\":{\"color\":\"DarkOrange\",\"line\":{\"color\":\"black\",\"width\":1},\"showscale\":false,\"size\":12},\"mode\":\"markers\",\"name\":\"cload_96_78\",\"showlegend\":false,\"text\":[\"\"],\"x\":[547.0],\"y\":[-316.0],\"type\":\"scatter\"},{\"hoverinfo\":\"skip\",\"marker\":{\"color\":\"red\",\"showscale\":false,\"size\":10},\"name\":\"c_bus_load_96_78\",\"showlegend\":false,\"x\":[543.4659848095804],\"y\":[-294.7959088574822],\"type\":\"scatter\"},{\"hoverinfo\":\"skip\",\"line\":{\"color\":\"black\",\"width\":1},\"showlegend\":false,\"x\":[735.0,691.0],\"y\":[-266.0,-251.0],\"type\":\"scatter\"},{\"marker\":{\"color\":\"DarkOrange\",\"line\":{\"color\":\"black\",\"width\":1},\"showscale\":false,\"size\":12},\"mode\":\"markers\",\"name\":\"cload_97_79\",\"showlegend\":false,\"text\":[\"\"],\"x\":[735.0],\"y\":[-266.0],\"type\":\"scatter\"},{\"hoverinfo\":\"skip\",\"marker\":{\"color\":\"red\",\"showscale\":false,\"size\":10},\"name\":\"c_bus_load_97_79\",\"showlegend\":false,\"x\":[705.1976528226782],\"y\":[-255.8401089168221],\"type\":\"scatter\"},{\"hoverinfo\":\"skip\",\"line\":{\"color\":\"black\",\"width\":1},\"showlegend\":false,\"x\":[805.0,760.0],\"y\":[-385.0,-377.0],\"type\":\"scatter\"},{\"marker\":{\"color\":\"DarkOrange\",\"line\":{\"color\":\"black\",\"width\":1},\"showscale\":false,\"size\":12},\"mode\":\"markers\",\"name\":\"cload_99_81\",\"showlegend\":false,\"text\":[\"\"],\"x\":[805.0],\"y\":[-385.0],\"type\":\"scatter\"},{\"hoverinfo\":\"skip\",\"marker\":{\"color\":\"red\",\"showscale\":false,\"size\":10},\"name\":\"c_bus_load_99_81\",\"showlegend\":false,\"x\":[774.7684376167886],\"y\":[-379.62550002076244],\"type\":\"scatter\"},{\"hoverinfo\":\"skip\",\"line\":{\"color\":\"black\",\"width\":1},\"showlegend\":false,\"x\":[740.0,720.0],\"y\":[-590.0,-537.0],\"type\":\"scatter\"},{\"marker\":{\"color\":\"DarkOrange\",\"line\":{\"color\":\"black\",\"width\":1},\"showscale\":false,\"size\":12},\"mode\":\"markers\",\"name\":\"cload_100_82\",\"showlegend\":false,\"text\":[\"\"],\"x\":[740.0],\"y\":[-590.0],\"type\":\"scatter\"},{\"hoverinfo\":\"skip\",\"marker\":{\"color\":\"red\",\"showscale\":false,\"size\":10},\"name\":\"c_bus_load_100_82\",\"showlegend\":false,\"x\":[725.2958587865137],\"y\":[-551.0340257842611],\"type\":\"scatter\"},{\"hoverinfo\":\"skip\",\"line\":{\"color\":\"black\",\"width\":1},\"showlegend\":false,\"x\":[607.0,596.0],\"y\":[-592.0,-535.0],\"type\":\"scatter\"},{\"marker\":{\"color\":\"DarkOrange\",\"line\":{\"color\":\"black\",\"width\":1},\"showscale\":false,\"size\":12},\"mode\":\"markers\",\"name\":\"cload_101_83\",\"showlegend\":false,\"text\":[\"\"],\"x\":[607.0],\"y\":[-592.0],\"type\":\"scatter\"},{\"hoverinfo\":\"skip\",\"marker\":{\"color\":\"red\",\"showscale\":false,\"size\":10},\"name\":\"c_bus_load_101_83\",\"showlegend\":false,\"x\":[598.842293970517],\"y\":[-549.7282505744968],\"type\":\"scatter\"},{\"hoverinfo\":\"skip\",\"line\":{\"color\":\"black\",\"width\":1},\"showlegend\":false,\"x\":[893.0,860.0],\"y\":[-578.0,-537.0],\"type\":\"scatter\"},{\"marker\":{\"color\":\"DarkOrange\",\"line\":{\"color\":\"black\",\"width\":1},\"showscale\":false,\"size\":12},\"mode\":\"markers\",\"name\":\"cload_102_84\",\"showlegend\":false,\"text\":[\"\"],\"x\":[893.0],\"y\":[-578.0],\"type\":\"scatter\"},{\"hoverinfo\":\"skip\",\"marker\":{\"color\":\"red\",\"showscale\":false,\"size\":10},\"name\":\"c_bus_load_102_84\",\"showlegend\":false,\"x\":[869.4051410781742],\"y\":[-548.6851752789438],\"type\":\"scatter\"},{\"hoverinfo\":\"skip\",\"line\":{\"color\":\"black\",\"width\":1},\"showlegend\":false,\"x\":[918.0,871.0],\"y\":[-386.0,-373.0],\"type\":\"scatter\"},{\"marker\":{\"color\":\"DarkOrange\",\"line\":{\"color\":\"black\",\"width\":1},\"showscale\":false,\"size\":12},\"mode\":\"markers\",\"name\":\"cload_103_85\",\"showlegend\":false,\"text\":[\"\"],\"x\":[918.0],\"y\":[-386.0],\"type\":\"scatter\"},{\"hoverinfo\":\"skip\",\"marker\":{\"color\":\"red\",\"showscale\":false,\"size\":10},\"name\":\"c_bus_load_103_85\",\"showlegend\":false,\"x\":[885.4571668038129],\"y\":[-376.9987908180759],\"type\":\"scatter\"},{\"hoverinfo\":\"skip\",\"line\":{\"color\":\"black\",\"width\":1},\"showlegend\":false,\"x\":[1015.0,964.0],\"y\":[-382.0,-377.0],\"type\":\"scatter\"},{\"marker\":{\"color\":\"DarkOrange\",\"line\":{\"color\":\"black\",\"width\":1},\"showscale\":false,\"size\":12},\"mode\":\"markers\",\"name\":\"cload_104_86\",\"showlegend\":false,\"text\":[\"\"],\"x\":[1015.0],\"y\":[-382.0],\"type\":\"scatter\"},{\"hoverinfo\":\"skip\",\"marker\":{\"color\":\"red\",\"showscale\":false,\"size\":10},\"name\":\"c_bus_load_104_86\",\"showlegend\":false,\"x\":[978.9284278767997],\"y\":[-378.46357136047055],\"type\":\"scatter\"},{\"hoverinfo\":\"skip\",\"line\":{\"color\":\"black\",\"width\":1},\"showlegend\":false,\"x\":[1014.0,961.0],\"y\":[-246.0,-245.0],\"type\":\"scatter\"},{\"marker\":{\"color\":\"DarkOrange\",\"line\":{\"color\":\"black\",\"width\":1},\"showscale\":false,\"size\":12},\"mode\":\"markers\",\"name\":\"cload_105_87\",\"showlegend\":false,\"text\":[\"\"],\"x\":[1014.0],\"y\":[-246.0],\"type\":\"scatter\"},{\"hoverinfo\":\"skip\",\"marker\":{\"color\":\"red\",\"showscale\":false,\"size\":10},\"name\":\"c_bus_load_105_87\",\"showlegend\":false,\"x\":[975.9973307233529],\"y\":[-245.2829685042142],\"type\":\"scatter\"},{\"hoverinfo\":\"skip\",\"line\":{\"color\":\"black\",\"width\":1},\"showlegend\":false,\"x\":[1124.0,1067.0],\"y\":[-377.0,-377.0],\"type\":\"scatter\"},{\"marker\":{\"color\":\"DarkOrange\",\"line\":{\"color\":\"black\",\"width\":1},\"showscale\":false,\"size\":12},\"mode\":\"markers\",\"name\":\"cload_106_88\",\"showlegend\":false,\"text\":[\"\"],\"x\":[1124.0],\"y\":[-377.0],\"type\":\"scatter\"},{\"hoverinfo\":\"skip\",\"marker\":{\"color\":\"red\",\"showscale\":false,\"size\":10},\"name\":\"c_bus_load_106_88\",\"showlegend\":false,\"x\":[1082.0],\"y\":[-377.0],\"type\":\"scatter\"},{\"hoverinfo\":\"skip\",\"line\":{\"color\":\"black\",\"width\":1},\"showlegend\":false,\"x\":[1100.0,1047.0],\"y\":[-468.0,-444.0],\"type\":\"scatter\"},{\"marker\":{\"color\":\"DarkOrange\",\"line\":{\"color\":\"black\",\"width\":1},\"showscale\":false,\"size\":12},\"mode\":\"markers\",\"name\":\"cload_107_89\",\"showlegend\":false,\"text\":[\"\"],\"x\":[1100.0],\"y\":[-468.0],\"type\":\"scatter\"},{\"hoverinfo\":\"skip\",\"marker\":{\"color\":\"red\",\"showscale\":false,\"size\":10},\"name\":\"c_bus_load_107_89\",\"showlegend\":false,\"x\":[1060.664312703329],\"y\":[-450.1876132996207],\"type\":\"scatter\"},{\"hoverinfo\":\"skip\",\"line\":{\"color\":\"black\",\"width\":1},\"showlegend\":false,\"x\":[1102.0,1053.0],\"y\":[-547.0,-519.0],\"type\":\"scatter\"},{\"marker\":{\"color\":\"DarkOrange\",\"line\":{\"color\":\"black\",\"width\":1},\"showscale\":false,\"size\":12},\"mode\":\"markers\",\"name\":\"cload_108_90\",\"showlegend\":false,\"text\":[\"\"],\"x\":[1102.0],\"y\":[-547.0],\"type\":\"scatter\"},{\"hoverinfo\":\"skip\",\"marker\":{\"color\":\"red\",\"showscale\":false,\"size\":10},\"name\":\"c_bus_load_108_90\",\"showlegend\":false,\"x\":[1066.023647131867],\"y\":[-526.4420840753525],\"type\":\"scatter\"},{\"hoverinfo\":\"skip\",\"line\":{\"color\":\"black\",\"width\":1},\"showlegend\":false,\"x\":[987.0,953.0],\"y\":[-631.0,-585.0],\"type\":\"scatter\"},{\"marker\":{\"color\":\"DarkOrange\",\"line\":{\"color\":\"black\",\"width\":1},\"showscale\":false,\"size\":12},\"mode\":\"markers\",\"name\":\"cload_109_91\",\"showlegend\":false,\"text\":[\"\"],\"x\":[987.0],\"y\":[-631.0],\"type\":\"scatter\"},{\"hoverinfo\":\"skip\",\"marker\":{\"color\":\"red\",\"showscale\":false,\"size\":10},\"name\":\"c_bus_load_109_91\",\"showlegend\":false,\"x\":[961.9158659162571],\"y\":[-597.0626421219949],\"type\":\"scatter\"},{\"hoverinfo\":\"skip\",\"line\":{\"color\":\"black\",\"width\":1},\"showlegend\":false,\"x\":[1114.0,1064.0],\"y\":[-617.0,-585.0],\"type\":\"scatter\"},{\"marker\":{\"color\":\"DarkOrange\",\"line\":{\"color\":\"black\",\"width\":1},\"showscale\":false,\"size\":12},\"mode\":\"markers\",\"name\":\"cload_111_92\",\"showlegend\":false,\"text\":[\"\"],\"x\":[1114.0],\"y\":[-617.0],\"type\":\"scatter\"},{\"hoverinfo\":\"skip\",\"marker\":{\"color\":\"red\",\"showscale\":false,\"size\":10},\"name\":\"c_bus_load_111_92\",\"showlegend\":false,\"x\":[1076.6340710099228],\"y\":[-593.0858054463505],\"type\":\"scatter\"},{\"hoverinfo\":\"skip\",\"line\":{\"color\":\"black\",\"width\":1},\"showlegend\":false,\"x\":[-719.0,-683.0],\"y\":[-83.0,-53.0],\"type\":\"scatter\"},{\"marker\":{\"color\":\"DarkOrange\",\"line\":{\"color\":\"black\",\"width\":1},\"showscale\":false,\"size\":12},\"mode\":\"markers\",\"name\":\"cload_113_94\",\"showlegend\":false,\"text\":[\"\"],\"x\":[-719.0],\"y\":[-83.0],\"type\":\"scatter\"},{\"hoverinfo\":\"skip\",\"marker\":{\"color\":\"red\",\"showscale\":false,\"size\":10},\"name\":\"c_bus_load_113_94\",\"showlegend\":false,\"x\":[-694.5233191939607],\"y\":[-62.6027659949672],\"type\":\"scatter\"},{\"hoverinfo\":\"skip\",\"line\":{\"color\":\"black\",\"width\":1},\"showlegend\":false,\"x\":[-697.0,-665.0],\"y\":[-159.0,-122.0],\"type\":\"scatter\"},{\"marker\":{\"color\":\"DarkOrange\",\"line\":{\"color\":\"black\",\"width\":1},\"showscale\":false,\"size\":12},\"mode\":\"markers\",\"name\":\"cload_114_95\",\"showlegend\":false,\"text\":[\"\"],\"x\":[-697.0],\"y\":[-159.0],\"type\":\"scatter\"},{\"hoverinfo\":\"skip\",\"marker\":{\"color\":\"red\",\"showscale\":false,\"size\":10},\"name\":\"c_bus_load_114_95\",\"showlegend\":false,\"x\":[-674.8122789939738],\"y\":[-133.34544758678217],\"type\":\"scatter\"},{\"hoverinfo\":\"skip\",\"line\":{\"color\":\"black\",\"width\":1},\"showlegend\":false,\"x\":[-645.0,-625.0],\"y\":[639.0,592.0],\"type\":\"scatter\"},{\"marker\":{\"color\":\"DarkOrange\",\"line\":{\"color\":\"black\",\"width\":1},\"showscale\":false,\"size\":12},\"mode\":\"markers\",\"name\":\"cload_116_97\",\"showlegend\":false,\"text\":[\"\"],\"x\":[-645.0],\"y\":[639.0],\"type\":\"scatter\"},{\"hoverinfo\":\"skip\",\"marker\":{\"color\":\"red\",\"showscale\":false,\"size\":10},\"name\":\"c_bus_load_116_97\",\"showlegend\":false,\"x\":[-630.873327461459],\"y\":[605.8023195344286],\"type\":\"scatter\"},{\"hoverinfo\":\"skip\",\"line\":{\"color\":\"black\",\"width\":1},\"showlegend\":false,\"x\":[266.0,299.0],\"y\":[-188.0,-172.0],\"type\":\"scatter\"},{\"marker\":{\"color\":\"DarkOrange\",\"line\":{\"color\":\"black\",\"width\":1},\"showscale\":false,\"size\":12},\"mode\":\"markers\",\"name\":\"cload_117_98\",\"showlegend\":false,\"text\":[\"\"],\"x\":[266.0],\"y\":[-188.0],\"type\":\"scatter\"},{\"hoverinfo\":\"skip\",\"marker\":{\"color\":\"red\",\"showscale\":false,\"size\":10},\"name\":\"c_bus_load_117_98\",\"showlegend\":false,\"x\":[285.502788392057],\"y\":[-178.54410259779056],\"type\":\"scatter\"},{\"hoverinfo\":\"skip\",\"line\":{\"color\":\"black\",\"width\":1},\"showlegend\":false,\"x\":[-993.0,-940.0],\"y\":[459.0,461.0],\"type\":\"scatter\"},{\"marker\":{\"color\":\"LightGreen\",\"line\":{\"color\":\"black\",\"width\":1},\"showscale\":false,\"size\":12},\"mode\":\"markers\",\"name\":\"bgen_3_0\",\"showlegend\":false,\"text\":[\"\"],\"x\":[-993.0],\"y\":[459.0],\"type\":\"scatter\"},{\"hoverinfo\":\"skip\",\"marker\":{\"color\":\"red\",\"showscale\":false,\"size\":10},\"name\":\"b_bus_gen_3_0\",\"showlegend\":false,\"x\":[-954.9893314353502],\"y\":[460.43436485149624],\"type\":\"scatter\"},{\"hoverinfo\":\"skip\",\"line\":{\"color\":\"black\",\"width\":1},\"showlegend\":false,\"x\":[-979.0,-940.0],\"y\":[493.0,461.0],\"type\":\"scatter\"},{\"marker\":{\"color\":\"LightGreen\",\"line\":{\"color\":\"black\",\"width\":1},\"showscale\":false,\"size\":12},\"mode\":\"markers\",\"name\":\"bgen_3_1\",\"showlegend\":false,\"text\":[\"\"],\"x\":[-979.0],\"y\":[493.0],\"type\":\"scatter\"},{\"hoverinfo\":\"skip\",\"marker\":{\"color\":\"red\",\"showscale\":false,\"size\":10},\"name\":\"b_bus_gen_3_1\",\"showlegend\":false,\"x\":[-951.5961005572389],\"y\":[470.5147491751703],\"type\":\"scatter\"},{\"hoverinfo\":\"skip\",\"line\":{\"color\":\"black\",\"width\":1},\"showlegend\":false,\"x\":[-1023.0,-969.0],\"y\":[131.0,131.0],\"type\":\"scatter\"},{\"marker\":{\"color\":\"LightGreen\",\"line\":{\"color\":\"black\",\"width\":1},\"showscale\":false,\"size\":12},\"mode\":\"markers\",\"name\":\"bgen_7_2\",\"showlegend\":false,\"text\":[\"\"],\"x\":[-1023.0],\"y\":[131.0],\"type\":\"scatter\"},{\"hoverinfo\":\"skip\",\"marker\":{\"color\":\"red\",\"showscale\":false,\"size\":10},\"name\":\"b_bus_gen_7_2\",\"showlegend\":false,\"x\":[-984.0],\"y\":[131.0],\"type\":\"scatter\"},{\"hoverinfo\":\"skip\",\"line\":{\"color\":\"black\",\"width\":1},\"showlegend\":false,\"x\":[-1022.0,-969.0],\"y\":[-57.0,-39.0],\"type\":\"scatter\"},{\"marker\":{\"color\":\"LightGreen\",\"line\":{\"color\":\"black\",\"width\":1},\"showscale\":false,\"size\":12},\"mode\":\"markers\",\"name\":\"bgen_9_3\",\"showlegend\":false,\"text\":[\"\"],\"x\":[-1022.0],\"y\":[-57.0],\"type\":\"scatter\"},{\"hoverinfo\":\"skip\",\"marker\":{\"color\":\"red\",\"showscale\":false,\"size\":10},\"name\":\"b_bus_gen_9_3\",\"showlegend\":false,\"x\":[-983.2032238308068],\"y\":[-43.82373639536835],\"type\":\"scatter\"},{\"hoverinfo\":\"skip\",\"line\":{\"color\":\"black\",\"width\":1},\"showlegend\":false,\"x\":[-890.0,-847.0],\"y\":[481.0,465.0],\"type\":\"scatter\"},{\"marker\":{\"color\":\"LightGreen\",\"line\":{\"color\":\"black\",\"width\":1},\"showscale\":false,\"size\":12},\"mode\":\"markers\",\"name\":\"bgen_10_4\",\"showlegend\":false,\"text\":[\"\"],\"x\":[-890.0],\"y\":[481.0],\"type\":\"scatter\"},{\"hoverinfo\":\"skip\",\"marker\":{\"color\":\"red\",\"showscale\":false,\"size\":10},\"name\":\"b_bus_gen_10_4\",\"showlegend\":false,\"x\":[-861.0583277658634],\"y\":[470.2310056803213],\"type\":\"scatter\"},{\"hoverinfo\":\"skip\",\"line\":{\"color\":\"black\",\"width\":1},\"showlegend\":false,\"x\":[-884.0,-847.0],\"y\":[501.0,465.0],\"type\":\"scatter\"},{\"marker\":{\"color\":\"LightGreen\",\"line\":{\"color\":\"black\",\"width\":1},\"showscale\":false,\"size\":12},\"mode\":\"markers\",\"name\":\"bgen_10_5\",\"showlegend\":false,\"text\":[\"\"],\"x\":[-884.0],\"y\":[501.0],\"type\":\"scatter\"},{\"hoverinfo\":\"skip\",\"marker\":{\"color\":\"red\",\"showscale\":false,\"size\":10},\"name\":\"b_bus_gen_10_5\",\"showlegend\":false,\"x\":[-857.7508889636366],\"y\":[475.4603243970518],\"type\":\"scatter\"},{\"hoverinfo\":\"skip\",\"line\":{\"color\":\"black\",\"width\":1},\"showlegend\":false,\"x\":[-741.0,-705.0],\"y\":[539.0,505.0],\"type\":\"scatter\"},{\"marker\":{\"color\":\"LightGreen\",\"line\":{\"color\":\"black\",\"width\":1},\"showscale\":false,\"size\":12},\"mode\":\"markers\",\"name\":\"bgen_11_6\",\"showlegend\":false,\"text\":[\"\"],\"x\":[-741.0],\"y\":[539.0],\"type\":\"scatter\"},{\"hoverinfo\":\"skip\",\"marker\":{\"color\":\"red\",\"showscale\":false,\"size\":10},\"name\":\"b_bus_gen_11_6\",\"showlegend\":false,\"x\":[-715.9051972882472],\"y\":[515.2993529944557],\"type\":\"scatter\"},{\"hoverinfo\":\"skip\",\"line\":{\"color\":\"black\",\"width\":1},\"showlegend\":false,\"x\":[-493.0,-498.0],\"y\":[409.0,369.0],\"type\":\"scatter\"},{\"marker\":{\"color\":\"LightGreen\",\"line\":{\"color\":\"black\",\"width\":1},\"showscale\":false,\"size\":12},\"mode\":\"markers\",\"name\":\"bgen_14_7\",\"showlegend\":false,\"text\":[\"\"],\"x\":[-493.0],\"y\":[409.0],\"type\":\"scatter\"},{\"hoverinfo\":\"skip\",\"marker\":{\"color\":\"red\",\"showscale\":false,\"size\":10},\"name\":\"b_bus_gen_14_7\",\"showlegend\":false,\"x\":[-496.13947898116186],\"y\":[383.884168150705],\"type\":\"scatter\"},{\"hoverinfo\":\"skip\",\"line\":{\"color\":\"black\",\"width\":1},\"showlegend\":false,\"x\":[-535.0,-498.0],\"y\":[379.0,369.0],\"type\":\"scatter\"},{\"marker\":{\"color\":\"LightGreen\",\"line\":{\"color\":\"black\",\"width\":1},\"showscale\":false,\"size\":12},\"mode\":\"markers\",\"name\":\"bgen_14_8\",\"showlegend\":false,\"text\":[\"\"],\"x\":[-535.0],\"y\":[379.0],\"type\":\"scatter\"},{\"hoverinfo\":\"skip\",\"marker\":{\"color\":\"red\",\"showscale\":false,\"size\":10},\"name\":\"b_bus_gen_14_8\",\"showlegend\":false,\"x\":[-512.480450895424],\"y\":[372.91363537714165],\"type\":\"scatter\"},{\"hoverinfo\":\"skip\",\"line\":{\"color\":\"black\",\"width\":1},\"showlegend\":false,\"x\":[-514.0,-498.0],\"y\":[413.0,369.0],\"type\":\"scatter\"},{\"marker\":{\"color\":\"LightGreen\",\"line\":{\"color\":\"black\",\"width\":1},\"showscale\":false,\"size\":12},\"mode\":\"markers\",\"name\":\"bgen_14_9\",\"showlegend\":false,\"text\":[\"\"],\"x\":[-514.0],\"y\":[413.0],\"type\":\"scatter\"},{\"hoverinfo\":\"skip\",\"marker\":{\"color\":\"red\",\"showscale\":false,\"size\":10},\"name\":\"b_bus_gen_14_9\",\"showlegend\":false,\"x\":[-503.12614594630054],\"y\":[383.09690135232654],\"type\":\"scatter\"},{\"hoverinfo\":\"skip\",\"line\":{\"color\":\"black\",\"width\":1},\"showlegend\":false,\"x\":[-462.0,-427.0],\"y\":[197.0,205.0],\"type\":\"scatter\"},{\"marker\":{\"color\":\"LightGreen\",\"line\":{\"color\":\"black\",\"width\":1},\"showscale\":false,\"size\":12},\"mode\":\"markers\",\"name\":\"bgen_17_10\",\"showlegend\":false,\"text\":[\"\"],\"x\":[-462.0],\"y\":[197.0],\"type\":\"scatter\"},{\"hoverinfo\":\"skip\",\"marker\":{\"color\":\"red\",\"showscale\":false,\"size\":10},\"name\":\"b_bus_gen_17_10\",\"showlegend\":false,\"x\":[-441.622877598578],\"y\":[201.65762797746788],\"type\":\"scatter\"},{\"hoverinfo\":\"skip\",\"line\":{\"color\":\"black\",\"width\":1},\"showlegend\":false,\"x\":[-315.0,-307.0],\"y\":[353.0,311.0],\"type\":\"scatter\"},{\"marker\":{\"color\":\"LightGreen\",\"line\":{\"color\":\"black\",\"width\":1},\"showscale\":false,\"size\":12},\"mode\":\"markers\",\"name\":\"bgen_18_11\",\"showlegend\":false,\"text\":[\"\"],\"x\":[-315.0],\"y\":[353.0],\"type\":\"scatter\"},{\"hoverinfo\":\"skip\",\"marker\":{\"color\":\"red\",\"showscale\":false,\"size\":10},\"name\":\"b_bus_gen_18_11\",\"showlegend\":false,\"x\":[-309.80668161834996],\"y\":[325.7350784963371],\"type\":\"scatter\"},{\"hoverinfo\":\"skip\",\"line\":{\"color\":\"black\",\"width\":1},\"showlegend\":false,\"x\":[-491.0,-462.0],\"y\":[-276.0,-236.0],\"type\":\"scatter\"},{\"marker\":{\"color\":\"LightGreen\",\"line\":{\"color\":\"black\",\"width\":1},\"showscale\":false,\"size\":12},\"mode\":\"markers\",\"name\":\"bgen_24_12\",\"showlegend\":false,\"text\":[\"\"],\"x\":[-491.0],\"y\":[-276.0],\"type\":\"scatter\"},{\"hoverinfo\":\"skip\",\"marker\":{\"color\":\"red\",\"showscale\":false,\"size\":10},\"name\":\"b_bus_gen_24_12\",\"showlegend\":false,\"x\":[-470.80451357191396],\"y\":[-248.14415665091582],\"type\":\"scatter\"},{\"hoverinfo\":\"skip\",\"line\":{\"color\":\"black\",\"width\":1},\"showlegend\":false,\"x\":[-526.0,-493.0],\"y\":[-153.0,-122.0],\"type\":\"scatter\"},{\"marker\":{\"color\":\"LightGreen\",\"line\":{\"color\":\"black\",\"width\":1},\"showscale\":false,\"size\":12},\"mode\":\"markers\",\"name\":\"bgen_25_13\",\"showlegend\":false,\"text\":[\"\"],\"x\":[-526.0],\"y\":[-153.0],\"type\":\"scatter\"},{\"hoverinfo\":\"skip\",\"marker\":{\"color\":\"red\",\"showscale\":false,\"size\":10},\"name\":\"b_bus_gen_25_13\",\"showlegend\":false,\"x\":[-503.9327210814098],\"y\":[-132.27013192496074],\"type\":\"scatter\"},{\"hoverinfo\":\"skip\",\"line\":{\"color\":\"black\",\"width\":1},\"showlegend\":false,\"x\":[-903.0,-858.0],\"y\":[-133.0,-98.0],\"type\":\"scatter\"},{\"marker\":{\"color\":\"LightGreen\",\"line\":{\"color\":\"black\",\"width\":1},\"showscale\":false,\"size\":12},\"mode\":\"markers\",\"name\":\"bgen_26_14\",\"showlegend\":false,\"text\":[\"\"],\"x\":[-903.0],\"y\":[-133.0],\"type\":\"scatter\"},{\"hoverinfo\":\"skip\",\"marker\":{\"color\":\"red\",\"showscale\":false,\"size\":10},\"name\":\"b_bus_gen_26_14\",\"showlegend\":false,\"x\":[-869.8402832606449],\"y\":[-107.20910920272381],\"type\":\"scatter\"},{\"hoverinfo\":\"skip\",\"line\":{\"color\":\"black\",\"width\":1},\"showlegend\":false,\"x\":[-885.0,-858.0],\"y\":[-141.0,-98.0],\"type\":\"scatter\"},{\"marker\":{\"color\":\"LightGreen\",\"line\":{\"color\":\"black\",\"width\":1},\"showscale\":false,\"size\":12},\"mode\":\"markers\",\"name\":\"bgen_26_15\",\"showlegend\":false,\"text\":[\"\"],\"x\":[-885.0],\"y\":[-141.0],\"type\":\"scatter\"},{\"hoverinfo\":\"skip\",\"marker\":{\"color\":\"red\",\"showscale\":false,\"size\":10},\"name\":\"b_bus_gen_26_15\",\"showlegend\":false,\"x\":[-865.9765219880347],\"y\":[-110.70334983279602],\"type\":\"scatter\"},{\"hoverinfo\":\"skip\",\"line\":{\"color\":\"black\",\"width\":1},\"showlegend\":false,\"x\":[7.0,40.0],\"y\":[401.0,373.0],\"type\":\"scatter\"},{\"marker\":{\"color\":\"LightGreen\",\"line\":{\"color\":\"black\",\"width\":1},\"showscale\":false,\"size\":12},\"mode\":\"markers\",\"name\":\"bgen_33_16\",\"showlegend\":false,\"text\":[\"\"],\"x\":[7.0],\"y\":[401.0],\"type\":\"scatter\"},{\"hoverinfo\":\"skip\",\"marker\":{\"color\":\"red\",\"showscale\":false,\"size\":10},\"name\":\"b_bus_gen_33_16\",\"showlegend\":false,\"x\":[28.562362969408127],\"y\":[382.70466172292646],\"type\":\"scatter\"},{\"hoverinfo\":\"skip\",\"line\":{\"color\":\"black\",\"width\":1},\"showlegend\":false,\"x\":[204.0,226.0],\"y\":[616.0,568.0],\"type\":\"scatter\"},{\"marker\":{\"color\":\"LightGreen\",\"line\":{\"color\":\"black\",\"width\":1},\"showscale\":false,\"size\":12},\"mode\":\"markers\",\"name\":\"bgen_39_17\",\"showlegend\":false,\"text\":[\"\"],\"x\":[204.0],\"y\":[616.0],\"type\":\"scatter\"},{\"hoverinfo\":\"skip\",\"marker\":{\"color\":\"red\",\"showscale\":false,\"size\":10},\"name\":\"b_bus_gen_39_17\",\"showlegend\":false,\"x\":[219.7501793426018],\"y\":[581.6359723434142],\"type\":\"scatter\"},{\"hoverinfo\":\"skip\",\"line\":{\"color\":\"black\",\"width\":1},\"showlegend\":false,\"x\":[447.0,424.0],\"y\":[612.0,568.0],\"type\":\"scatter\"},{\"marker\":{\"color\":\"LightGreen\",\"line\":{\"color\":\"black\",\"width\":1},\"showscale\":false,\"size\":12},\"mode\":\"markers\",\"name\":\"bgen_41_18\",\"showlegend\":false,\"text\":[\"\"],\"x\":[447.0],\"y\":[612.0],\"type\":\"scatter\"},{\"hoverinfo\":\"skip\",\"marker\":{\"color\":\"red\",\"showscale\":false,\"size\":10},\"name\":\"b_bus_gen_41_18\",\"showlegend\":false,\"x\":[430.9488131401553],\"y\":[581.2933816594275],\"type\":\"scatter\"},{\"hoverinfo\":\"skip\",\"line\":{\"color\":\"black\",\"width\":1},\"showlegend\":false,\"x\":[437.0,424.0],\"y\":[626.0,568.0],\"type\":\"scatter\"},{\"marker\":{\"color\":\"LightGreen\",\"line\":{\"color\":\"black\",\"width\":1},\"showscale\":false,\"size\":12},\"mode\":\"markers\",\"name\":\"bgen_41_19\",\"showlegend\":false,\"text\":[\"\"],\"x\":[437.0],\"y\":[626.0],\"type\":\"scatter\"},{\"hoverinfo\":\"skip\",\"marker\":{\"color\":\"red\",\"showscale\":false,\"size\":10},\"name\":\"b_bus_gen_41_19\",\"showlegend\":false,\"x\":[427.28067185376074],\"y\":[582.6368436552401],\"type\":\"scatter\"},{\"hoverinfo\":\"skip\",\"line\":{\"color\":\"black\",\"width\":1},\"showlegend\":false,\"x\":[319.0,350.0],\"y\":[249.0,236.0],\"type\":\"scatter\"},{\"marker\":{\"color\":\"LightGreen\",\"line\":{\"color\":\"black\",\"width\":1},\"showscale\":false,\"size\":12},\"mode\":\"markers\",\"name\":\"bgen_45_20\",\"showlegend\":false,\"text\":[\"\"],\"x\":[319.0],\"y\":[249.0],\"type\":\"scatter\"},{\"hoverinfo\":\"skip\",\"marker\":{\"color\":\"red\",\"showscale\":false,\"size\":10},\"name\":\"b_bus_gen_45_20\",\"showlegend\":false,\"x\":[336.167084272572],\"y\":[241.80090014376012],\"type\":\"scatter\"},{\"hoverinfo\":\"skip\",\"line\":{\"color\":\"black\",\"width\":1},\"showlegend\":false,\"x\":[599.0,583.0],\"y\":[249.0,209.0],\"type\":\"scatter\"},{\"marker\":{\"color\":\"LightGreen\",\"line\":{\"color\":\"black\",\"width\":1},\"showscale\":false,\"size\":12},\"mode\":\"markers\",\"name\":\"bgen_48_21\",\"showlegend\":false,\"text\":[\"\"],\"x\":[599.0],\"y\":[249.0],\"type\":\"scatter\"},{\"hoverinfo\":\"skip\",\"marker\":{\"color\":\"red\",\"showscale\":false,\"size\":10},\"name\":\"b_bus_gen_48_21\",\"showlegend\":false,\"x\":[588.5708601453116],\"y\":[222.92715036327888],\"type\":\"scatter\"},{\"hoverinfo\":\"skip\",\"line\":{\"color\":\"black\",\"width\":1},\"showlegend\":false,\"x\":[614.0,583.0],\"y\":[195.0,209.0],\"type\":\"scatter\"},{\"marker\":{\"color\":\"LightGreen\",\"line\":{\"color\":\"black\",\"width\":1},\"showscale\":false,\"size\":12},\"mode\":\"markers\",\"name\":\"bgen_48_22\",\"showlegend\":false,\"text\":[\"\"],\"x\":[614.0],\"y\":[195.0],\"type\":\"scatter\"},{\"hoverinfo\":\"skip\",\"marker\":{\"color\":\"red\",\"showscale\":false,\"size\":10},\"name\":\"b_bus_gen_48_22\",\"showlegend\":false,\"x\":[596.6705589948801],\"y\":[202.82619916360252],\"type\":\"scatter\"},{\"hoverinfo\":\"skip\",\"line\":{\"color\":\"black\",\"width\":1},\"showlegend\":false,\"x\":[616.0,583.0],\"y\":[237.0,209.0],\"type\":\"scatter\"},{\"marker\":{\"color\":\"LightGreen\",\"line\":{\"color\":\"black\",\"width\":1},\"showscale\":false,\"size\":12},\"mode\":\"markers\",\"name\":\"bgen_48_23\",\"showlegend\":false,\"text\":[\"\"],\"x\":[616.0],\"y\":[237.0],\"type\":\"scatter\"},{\"hoverinfo\":\"skip\",\"marker\":{\"color\":\"red\",\"showscale\":false,\"size\":10},\"name\":\"b_bus_gen_48_23\",\"showlegend\":false,\"x\":[594.4376370305919],\"y\":[218.70466172292643],\"type\":\"scatter\"},{\"hoverinfo\":\"skip\",\"line\":{\"color\":\"black\",\"width\":1},\"showlegend\":false,\"x\":[624.0,583.0],\"y\":[217.0,209.0],\"type\":\"scatter\"},{\"marker\":{\"color\":\"LightGreen\",\"line\":{\"color\":\"black\",\"width\":1},\"showscale\":false,\"size\":12},\"mode\":\"markers\",\"name\":\"bgen_48_24\",\"showlegend\":false,\"text\":[\"\"],\"x\":[624.0],\"y\":[217.0],\"type\":\"scatter\"},{\"hoverinfo\":\"skip\",\"marker\":{\"color\":\"red\",\"showscale\":false,\"size\":10},\"name\":\"b_bus_gen_48_24\",\"showlegend\":false,\"x\":[597.7223588803855],\"y\":[211.87265539129473],\"type\":\"scatter\"},{\"hoverinfo\":\"skip\",\"line\":{\"color\":\"black\",\"width\":1},\"showlegend\":false,\"x\":[654.0,625.0],\"y\":[614.0,566.0],\"type\":\"scatter\"},{\"marker\":{\"color\":\"LightGreen\",\"line\":{\"color\":\"black\",\"width\":1},\"showscale\":false,\"size\":12},\"mode\":\"markers\",\"name\":\"bgen_53_25\",\"showlegend\":false,\"text\":[\"\"],\"x\":[654.0],\"y\":[614.0],\"type\":\"scatter\"},{\"hoverinfo\":\"skip\",\"marker\":{\"color\":\"red\",\"showscale\":false,\"size\":10},\"name\":\"b_bus_gen_53_25\",\"showlegend\":false,\"x\":[632.7567345988838],\"y\":[578.8387331291868],\"type\":\"scatter\"},{\"hoverinfo\":\"skip\",\"line\":{\"color\":\"black\",\"width\":1},\"showlegend\":false,\"x\":[808.0,783.0],\"y\":[569.0,515.0],\"type\":\"scatter\"},{\"marker\":{\"color\":\"LightGreen\",\"line\":{\"color\":\"black\",\"width\":1},\"showscale\":false,\"size\":12},\"mode\":\"markers\",\"name\":\"bgen_54_26\",\"showlegend\":false,\"text\":[\"\"],\"x\":[808.0],\"y\":[569.0],\"type\":\"scatter\"},{\"hoverinfo\":\"skip\",\"marker\":{\"color\":\"red\",\"showscale\":false,\"size\":10},\"name\":\"b_bus_gen_54_26\",\"showlegend\":false,\"x\":[789.3018535216655],\"y\":[528.6120036067977],\"type\":\"scatter\"},{\"hoverinfo\":\"skip\",\"line\":{\"color\":\"black\",\"width\":1},\"showlegend\":false,\"x\":[767.0,742.0],\"y\":[476.0,430.0],\"type\":\"scatter\"},{\"marker\":{\"color\":\"LightGreen\",\"line\":{\"color\":\"black\",\"width\":1},\"showscale\":false,\"size\":12},\"mode\":\"markers\",\"name\":\"bgen_55_27\",\"showlegend\":false,\"text\":[\"\"],\"x\":[767.0],\"y\":[476.0],\"type\":\"scatter\"},{\"hoverinfo\":\"skip\",\"marker\":{\"color\":\"red\",\"showscale\":false,\"size\":10},\"name\":\"b_bus_gen_55_27\",\"showlegend\":false,\"x\":[749.162699806298],\"y\":[443.1793676435882],\"type\":\"scatter\"},{\"hoverinfo\":\"skip\",\"line\":{\"color\":\"black\",\"width\":1},\"showlegend\":false,\"x\":[749.0,742.0],\"y\":[480.0,430.0],\"type\":\"scatter\"},{\"marker\":{\"color\":\"LightGreen\",\"line\":{\"color\":\"black\",\"width\":1},\"showscale\":false,\"size\":12},\"mode\":\"markers\",\"name\":\"bgen_55_28\",\"showlegend\":false,\"text\":[\"\"],\"x\":[749.0],\"y\":[480.0],\"type\":\"scatter\"},{\"hoverinfo\":\"skip\",\"marker\":{\"color\":\"red\",\"showscale\":false,\"size\":10},\"name\":\"b_bus_gen_55_28\",\"showlegend\":false,\"x\":[744.0797176680161],\"y\":[444.85512620011497],\"type\":\"scatter\"},{\"hoverinfo\":\"skip\",\"line\":{\"color\":\"black\",\"width\":1},\"showlegend\":false,\"x\":[789.0,742.0],\"y\":[453.0,430.0],\"type\":\"scatter\"},{\"marker\":{\"color\":\"LightGreen\",\"line\":{\"color\":\"black\",\"width\":1},\"showscale\":false,\"size\":12},\"mode\":\"markers\",\"name\":\"bgen_55_29\",\"showlegend\":false,\"text\":[\"\"],\"x\":[789.0],\"y\":[453.0],\"type\":\"scatter\"},{\"hoverinfo\":\"skip\",\"marker\":{\"color\":\"red\",\"showscale\":false,\"size\":10},\"name\":\"b_bus_gen_55_29\",\"showlegend\":false,\"x\":[755.4732508307167],\"y\":[436.5932929597124],\"type\":\"scatter\"},{\"hoverinfo\":\"skip\",\"line\":{\"color\":\"black\",\"width\":1},\"showlegend\":false,\"x\":[1012.0,982.0],\"y\":[576.0,529.0],\"type\":\"scatter\"},{\"marker\":{\"color\":\"LightGreen\",\"line\":{\"color\":\"black\",\"width\":1},\"showscale\":false,\"size\":12},\"mode\":\"markers\",\"name\":\"bgen_58_30\",\"showlegend\":false,\"text\":[\"\"],\"x\":[1012.0],\"y\":[576.0],\"type\":\"scatter\"},{\"hoverinfo\":\"skip\",\"marker\":{\"color\":\"red\",\"showscale\":false,\"size\":10},\"name\":\"b_bus_gen_58_30\",\"showlegend\":false,\"x\":[990.070531793828],\"y\":[541.6438331436639],\"type\":\"scatter\"},{\"hoverinfo\":\"skip\",\"line\":{\"color\":\"black\",\"width\":1},\"showlegend\":false,\"x\":[956.0,908.0],\"y\":[286.0,254.0],\"type\":\"scatter\"},{\"marker\":{\"color\":\"LightGreen\",\"line\":{\"color\":\"black\",\"width\":1},\"showscale\":false,\"size\":12},\"mode\":\"markers\",\"name\":\"bgen_59_31\",\"showlegend\":false,\"text\":[\"\"],\"x\":[956.0],\"y\":[286.0],\"type\":\"scatter\"},{\"hoverinfo\":\"skip\",\"marker\":{\"color\":\"red\",\"showscale\":false,\"size\":10},\"name\":\"b_bus_gen_59_31\",\"showlegend\":false,\"x\":[920.4807544150676],\"y\":[262.3205029433784],\"type\":\"scatter\"},{\"hoverinfo\":\"skip\",\"line\":{\"color\":\"black\",\"width\":1},\"showlegend\":false,\"x\":[1008.0,950.0],\"y\":[204.0,195.0],\"type\":\"scatter\"},{\"marker\":{\"color\":\"LightGreen\",\"line\":{\"color\":\"black\",\"width\":1},\"showscale\":false,\"size\":12},\"mode\":\"markers\",\"name\":\"bgen_60_32\",\"showlegend\":false,\"text\":[\"\"],\"x\":[1008.0],\"y\":[204.0],\"type\":\"scatter\"},{\"hoverinfo\":\"skip\",\"marker\":{\"color\":\"lime\",\"showscale\":false,\"size\":10},\"name\":\"b_bus_gen_60_32\",\"showlegend\":false,\"x\":[964.8226085503877],\"y\":[197.30005994747395],\"type\":\"scatter\"},{\"hoverinfo\":\"skip\",\"line\":{\"color\":\"black\",\"width\":1},\"showlegend\":false,\"x\":[903.0,854.0],\"y\":[175.0,185.0],\"type\":\"scatter\"},{\"marker\":{\"color\":\"LightGreen\",\"line\":{\"color\":\"black\",\"width\":1},\"showscale\":false,\"size\":12},\"mode\":\"markers\",\"name\":\"bgen_61_33\",\"showlegend\":false,\"text\":[\"\"],\"x\":[903.0],\"y\":[175.0],\"type\":\"scatter\"},{\"hoverinfo\":\"skip\",\"marker\":{\"color\":\"red\",\"showscale\":false,\"size\":10},\"name\":\"b_bus_gen_61_33\",\"showlegend\":false,\"x\":[868.6970608817061],\"y\":[182.00059982006],\"type\":\"scatter\"},{\"hoverinfo\":\"skip\",\"line\":{\"color\":\"black\",\"width\":1},\"showlegend\":false,\"x\":[906.0,854.0],\"y\":[194.0,185.0],\"type\":\"scatter\"},{\"marker\":{\"color\":\"LightGreen\",\"line\":{\"color\":\"black\",\"width\":1},\"showscale\":false,\"size\":12},\"mode\":\"markers\",\"name\":\"bgen_61_34\",\"showlegend\":false,\"text\":[\"\"],\"x\":[906.0],\"y\":[194.0],\"type\":\"scatter\"},{\"hoverinfo\":\"skip\",\"marker\":{\"color\":\"red\",\"showscale\":false,\"size\":10},\"name\":\"b_bus_gen_61_34\",\"showlegend\":false,\"x\":[868.7802575878317],\"y\":[187.55812150558626],\"type\":\"scatter\"},{\"hoverinfo\":\"skip\",\"line\":{\"color\":\"black\",\"width\":1},\"showlegend\":false,\"x\":[835.0,786.0],\"y\":[-2.0,7.0],\"type\":\"scatter\"},{\"marker\":{\"color\":\"LightGreen\",\"line\":{\"color\":\"black\",\"width\":1},\"showscale\":false,\"size\":12},\"mode\":\"markers\",\"name\":\"bgen_64_35\",\"showlegend\":false,\"text\":[\"\"],\"x\":[835.0],\"y\":[-2.0],\"type\":\"scatter\"},{\"hoverinfo\":\"skip\",\"marker\":{\"color\":\"red\",\"showscale\":false,\"size\":10},\"name\":\"b_bus_gen_64_35\",\"showlegend\":false,\"x\":[800.7532074934805],\"y\":[4.290227195075012],\"type\":\"scatter\"},{\"hoverinfo\":\"skip\",\"line\":{\"color\":\"black\",\"width\":1},\"showlegend\":false,\"x\":[785.0,747.0],\"y\":[119.0,102.0],\"type\":\"scatter\"},{\"marker\":{\"color\":\"LightGreen\",\"line\":{\"color\":\"black\",\"width\":1},\"showscale\":false,\"size\":12},\"mode\":\"markers\",\"name\":\"bgen_65_36\",\"showlegend\":false,\"text\":[\"\"],\"x\":[785.0],\"y\":[119.0],\"type\":\"scatter\"},{\"hoverinfo\":\"skip\",\"marker\":{\"color\":\"red\",\"showscale\":false,\"size\":10},\"name\":\"b_bus_gen_65_36\",\"showlegend\":false,\"x\":[760.6922737784238],\"y\":[108.12549090087381],\"type\":\"scatter\"},{\"hoverinfo\":\"skip\",\"line\":{\"color\":\"black\",\"width\":1},\"showlegend\":false,\"x\":[500.0,485.0],\"y\":[69.0,51.0],\"type\":\"scatter\"},{\"marker\":{\"color\":\"LightGreen\",\"line\":{\"color\":\"black\",\"width\":1},\"showscale\":false,\"size\":12},\"mode\":\"markers\",\"name\":\"bgen_68_37\",\"showlegend\":false,\"text\":[\"\"],\"x\":[500.0],\"y\":[69.0],\"type\":\"scatter\"},{\"hoverinfo\":\"skip\",\"marker\":{\"color\":\"red\",\"showscale\":false,\"size\":10},\"name\":\"b_bus_gen_68_37\",\"showlegend\":false,\"x\":[494.60276599496717],\"y\":[62.52331919396064],\"type\":\"scatter\"},{\"hoverinfo\":\"skip\",\"line\":{\"color\":\"black\",\"width\":1},\"showlegend\":false,\"x\":[121.0,160.0],\"y\":[32.0,41.0],\"type\":\"scatter\"},{\"marker\":{\"color\":\"LightGreen\",\"line\":{\"color\":\"black\",\"width\":1},\"showscale\":false,\"size\":12},\"mode\":\"markers\",\"name\":\"bgen_69_38\",\"showlegend\":false,\"text\":[\"\"],\"x\":[121.0],\"y\":[32.0],\"type\":\"scatter\"},{\"hoverinfo\":\"skip\",\"marker\":{\"color\":\"red\",\"showscale\":false,\"size\":10},\"name\":\"b_bus_gen_69_38\",\"showlegend\":false,\"x\":[145.3841320645807],\"y\":[37.62710739951862],\"type\":\"scatter\"},{\"hoverinfo\":\"skip\",\"line\":{\"color\":\"black\",\"width\":1},\"showlegend\":false,\"x\":[139.0,160.0],\"y\":[14.0,41.0],\"type\":\"scatter\"},{\"marker\":{\"color\":\"LightGreen\",\"line\":{\"color\":\"black\",\"width\":1},\"showscale\":false,\"size\":12},\"mode\":\"markers\",\"name\":\"bgen_69_39\",\"showlegend\":false,\"text\":[\"\"],\"x\":[139.0],\"y\":[14.0],\"type\":\"scatter\"},{\"hoverinfo\":\"skip\",\"marker\":{\"color\":\"red\",\"showscale\":false,\"size\":10},\"name\":\"b_bus_gen_69_39\",\"showlegend\":false,\"x\":[150.7908907972762],\"y\":[29.159716739355105],\"type\":\"scatter\"},{\"hoverinfo\":\"skip\",\"line\":{\"color\":\"black\",\"width\":1},\"showlegend\":false,\"x\":[364.0,398.0],\"y\":[-210.0,-207.0],\"type\":\"scatter\"},{\"marker\":{\"color\":\"LightGreen\",\"line\":{\"color\":\"black\",\"width\":1},\"showscale\":false,\"size\":12},\"mode\":\"markers\",\"name\":\"bgen_75_40\",\"showlegend\":false,\"text\":[\"\"],\"x\":[364.0],\"y\":[-210.0],\"type\":\"scatter\"},{\"hoverinfo\":\"skip\",\"marker\":{\"color\":\"red\",\"showscale\":false,\"size\":10},\"name\":\"b_bus_gen_75_40\",\"showlegend\":false,\"x\":[383.05805224961927],\"y\":[-208.31840715444537],\"type\":\"scatter\"},{\"hoverinfo\":\"skip\",\"line\":{\"color\":\"black\",\"width\":1},\"showlegend\":false,\"x\":[479.0,464.0],\"y\":[-293.0,-262.0],\"type\":\"scatter\"},{\"marker\":{\"color\":\"LightGreen\",\"line\":{\"color\":\"black\",\"width\":1},\"showscale\":false,\"size\":12},\"mode\":\"markers\",\"name\":\"bgen_76_41\",\"showlegend\":false,\"text\":[\"\"],\"x\":[479.0],\"y\":[-293.0],\"type\":\"scatter\"},{\"hoverinfo\":\"skip\",\"marker\":{\"color\":\"red\",\"showscale\":false,\"size\":10},\"name\":\"b_bus_gen_76_41\",\"showlegend\":false,\"x\":[470.5334139215642],\"y\":[-275.5023887712327],\"type\":\"scatter\"},{\"hoverinfo\":\"skip\",\"line\":{\"color\":\"black\",\"width\":1},\"showlegend\":false,\"x\":[462.0,464.0],\"y\":[-308.0,-262.0],\"type\":\"scatter\"},{\"marker\":{\"color\":\"LightGreen\",\"line\":{\"color\":\"black\",\"width\":1},\"showscale\":false,\"size\":12},\"mode\":\"markers\",\"name\":\"bgen_76_42\",\"showlegend\":false,\"text\":[\"\"],\"x\":[462.0],\"y\":[-308.0],\"type\":\"scatter\"},{\"hoverinfo\":\"skip\",\"marker\":{\"color\":\"red\",\"showscale\":false,\"size\":10},\"name\":\"b_bus_gen_76_42\",\"showlegend\":false,\"x\":[463.3484416358554],\"y\":[-276.9858423753259],\"type\":\"scatter\"},{\"hoverinfo\":\"skip\",\"line\":{\"color\":\"black\",\"width\":1},\"showlegend\":false,\"x\":[622.0,599.0],\"y\":[-236.0,-207.0],\"type\":\"scatter\"},{\"marker\":{\"color\":\"LightGreen\",\"line\":{\"color\":\"black\",\"width\":1},\"showscale\":false,\"size\":12},\"mode\":\"markers\",\"name\":\"bgen_79_43\",\"showlegend\":false,\"text\":[\"\"],\"x\":[622.0],\"y\":[-236.0],\"type\":\"scatter\"},{\"hoverinfo\":\"skip\",\"marker\":{\"color\":\"red\",\"showscale\":false,\"size\":10},\"name\":\"b_bus_gen_79_43\",\"showlegend\":false,\"x\":[608.3209206650307],\"y\":[-218.75246518634302],\"type\":\"scatter\"},{\"hoverinfo\":\"skip\",\"line\":{\"color\":\"black\",\"width\":1},\"showlegend\":false,\"x\":[640.0,599.0],\"y\":[-221.0,-207.0],\"type\":\"scatter\"},{\"marker\":{\"color\":\"LightGreen\",\"line\":{\"color\":\"black\",\"width\":1},\"showscale\":false,\"size\":12},\"mode\":\"markers\",\"name\":\"bgen_79_44\",\"showlegend\":false,\"text\":[\"\"],\"x\":[640.0],\"y\":[-221.0],\"type\":\"scatter\"},{\"hoverinfo\":\"skip\",\"marker\":{\"color\":\"red\",\"showscale\":false,\"size\":10},\"name\":\"b_bus_gen_79_44\",\"showlegend\":false,\"x\":[613.19524784102],\"y\":[-211.84715779937267],\"type\":\"scatter\"},{\"hoverinfo\":\"skip\",\"line\":{\"color\":\"black\",\"width\":1},\"showlegend\":false,\"x\":[112.0,149.0],\"y\":[-395.0,-377.0],\"type\":\"scatter\"},{\"marker\":{\"color\":\"LightGreen\",\"line\":{\"color\":\"black\",\"width\":1},\"showscale\":false,\"size\":12},\"mode\":\"markers\",\"name\":\"bgen_82_45\",\"showlegend\":false,\"text\":[\"\"],\"x\":[112.0],\"y\":[-395.0],\"type\":\"scatter\"},{\"hoverinfo\":\"skip\",\"marker\":{\"color\":\"red\",\"showscale\":false,\"size\":10},\"name\":\"b_bus_gen_82_45\",\"showlegend\":false,\"x\":[135.51147366881307],\"y\":[-383.5619857827396],\"type\":\"scatter\"},{\"hoverinfo\":\"skip\",\"line\":{\"color\":\"black\",\"width\":1},\"showlegend\":false,\"x\":[70.0,112.0],\"y\":[-519.0,-484.0],\"type\":\"scatter\"},{\"marker\":{\"color\":\"LightGreen\",\"line\":{\"color\":\"black\",\"width\":1},\"showscale\":false,\"size\":12},\"mode\":\"markers\",\"name\":\"bgen_84_46\",\"showlegend\":false,\"text\":[\"\"],\"x\":[70.0],\"y\":[-519.0],\"type\":\"scatter\"},{\"hoverinfo\":\"skip\",\"marker\":{\"color\":\"red\",\"showscale\":false,\"size\":10},\"name\":\"b_bus_gen_84_46\",\"showlegend\":false,\"x\":[100.47668080603935],\"y\":[-493.60276599496717],\"type\":\"scatter\"},{\"hoverinfo\":\"skip\",\"line\":{\"color\":\"black\",\"width\":1},\"showlegend\":false,\"x\":[165.0,181.0],\"y\":[-649.0,-595.0],\"type\":\"scatter\"},{\"marker\":{\"color\":\"LightGreen\",\"line\":{\"color\":\"black\",\"width\":1},\"showscale\":false,\"size\":12},\"mode\":\"markers\",\"name\":\"bgen_86_47\",\"showlegend\":false,\"text\":[\"\"],\"x\":[165.0],\"y\":[-649.0],\"type\":\"scatter\"},{\"hoverinfo\":\"skip\",\"marker\":{\"color\":\"red\",\"showscale\":false,\"size\":10},\"name\":\"b_bus_gen_86_47\",\"showlegend\":false,\"x\":[176.7386750546294],\"y\":[-609.3819716906258],\"type\":\"scatter\"},{\"hoverinfo\":\"skip\",\"line\":{\"color\":\"black\",\"width\":1},\"showlegend\":false,\"x\":[303.0,313.0],\"y\":[-536.0,-489.0],\"type\":\"scatter\"},{\"marker\":{\"color\":\"LightGreen\",\"line\":{\"color\":\"black\",\"width\":1},\"showscale\":false,\"size\":12},\"mode\":\"markers\",\"name\":\"bgen_88_48\",\"showlegend\":false,\"text\":[\"\"],\"x\":[303.0],\"y\":[-536.0],\"type\":\"scatter\"},{\"hoverinfo\":\"skip\",\"marker\":{\"color\":\"red\",\"showscale\":false,\"size\":10},\"name\":\"b_bus_gen_88_48\",\"showlegend\":false,\"x\":[309.8783853330271],\"y\":[-503.67158893477256],\"type\":\"scatter\"},{\"hoverinfo\":\"skip\",\"line\":{\"color\":\"black\",\"width\":1},\"showlegend\":false,\"x\":[315.0,321.0],\"y\":[-650.0,-591.0],\"type\":\"scatter\"},{\"marker\":{\"color\":\"LightGreen\",\"line\":{\"color\":\"black\",\"width\":1},\"showscale\":false,\"size\":12},\"mode\":\"markers\",\"name\":\"bgen_89_49\",\"showlegend\":false,\"text\":[\"\"],\"x\":[315.0],\"y\":[-650.0],\"type\":\"scatter\"},{\"hoverinfo\":\"skip\",\"marker\":{\"color\":\"red\",\"showscale\":false,\"size\":10},\"name\":\"b_bus_gen_89_49\",\"showlegend\":false,\"x\":[319.4824034685397],\"y\":[-605.9230325593594],\"type\":\"scatter\"},{\"hoverinfo\":\"skip\",\"line\":{\"color\":\"black\",\"width\":1},\"showlegend\":false,\"x\":[300.0,321.0],\"y\":[-641.0,-591.0],\"type\":\"scatter\"},{\"marker\":{\"color\":\"LightGreen\",\"line\":{\"color\":\"black\",\"width\":1},\"showscale\":false,\"size\":12},\"mode\":\"markers\",\"name\":\"bgen_89_50\",\"showlegend\":false,\"text\":[\"\"],\"x\":[300.0],\"y\":[-641.0],\"type\":\"scatter\"},{\"hoverinfo\":\"skip\",\"marker\":{\"color\":\"red\",\"showscale\":false,\"size\":10},\"name\":\"b_bus_gen_89_50\",\"showlegend\":false,\"x\":[315.1915127346736],\"y\":[-604.8297315841104],\"type\":\"scatter\"},{\"hoverinfo\":\"skip\",\"line\":{\"color\":\"black\",\"width\":1},\"showlegend\":false,\"x\":[506.0,517.0],\"y\":[-540.0,-489.0],\"type\":\"scatter\"},{\"marker\":{\"color\":\"LightGreen\",\"line\":{\"color\":\"black\",\"width\":1},\"showscale\":false,\"size\":12},\"mode\":\"markers\",\"name\":\"bgen_91_51\",\"showlegend\":false,\"text\":[\"\"],\"x\":[506.0],\"y\":[-540.0],\"type\":\"scatter\"},{\"hoverinfo\":\"skip\",\"marker\":{\"color\":\"red\",\"showscale\":false,\"size\":10},\"name\":\"b_bus_gen_91_51\",\"showlegend\":false,\"x\":[513.8374319162042],\"y\":[-503.66281566123496],\"type\":\"scatter\"},{\"hoverinfo\":\"skip\",\"line\":{\"color\":\"black\",\"width\":1},\"showlegend\":false,\"x\":[775.0,760.0],\"y\":[-422.0,-377.0],\"type\":\"scatter\"},{\"marker\":{\"color\":\"LightGreen\",\"line\":{\"color\":\"black\",\"width\":1},\"showscale\":false,\"size\":12},\"mode\":\"markers\",\"name\":\"bgen_99_52\",\"showlegend\":false,\"text\":[\"\"],\"x\":[775.0],\"y\":[-422.0],\"type\":\"scatter\"},{\"hoverinfo\":\"skip\",\"marker\":{\"color\":\"red\",\"showscale\":false,\"size\":10},\"name\":\"b_bus_gen_99_52\",\"showlegend\":false,\"x\":[764.7434164902526],\"y\":[-391.2302494707577],\"type\":\"scatter\"},{\"hoverinfo\":\"skip\",\"line\":{\"color\":\"black\",\"width\":1},\"showlegend\":false,\"x\":[794.0,760.0],\"y\":[-420.0,-377.0],\"type\":\"scatter\"},{\"marker\":{\"color\":\"LightGreen\",\"line\":{\"color\":\"black\",\"width\":1},\"showscale\":false,\"size\":12},\"mode\":\"markers\",\"name\":\"bgen_99_53\",\"showlegend\":false,\"text\":[\"\"],\"x\":[794.0],\"y\":[-420.0],\"type\":\"scatter\"},{\"hoverinfo\":\"skip\",\"marker\":{\"color\":\"red\",\"showscale\":false,\"size\":10},\"name\":\"b_bus_gen_99_53\",\"showlegend\":false,\"x\":[769.3035337604919],\"y\":[-388.7662338735633],\"type\":\"scatter\"},{\"hoverinfo\":\"skip\",\"line\":{\"color\":\"black\",\"width\":1},\"showlegend\":false,\"x\":[804.0,760.0],\"y\":[-404.0,-377.0],\"type\":\"scatter\"},{\"marker\":{\"color\":\"LightGreen\",\"line\":{\"color\":\"black\",\"width\":1},\"showscale\":false,\"size\":12},\"mode\":\"markers\",\"name\":\"bgen_99_54\",\"showlegend\":false,\"text\":[\"\"],\"x\":[804.0],\"y\":[-404.0],\"type\":\"scatter\"},{\"hoverinfo\":\"skip\",\"marker\":{\"color\":\"red\",\"showscale\":false,\"size\":10},\"name\":\"b_bus_gen_99_54\",\"showlegend\":false,\"x\":[772.78484092973],\"y\":[-384.84524329778884],\"type\":\"scatter\"},{\"hoverinfo\":\"skip\",\"line\":{\"color\":\"black\",\"width\":1},\"showlegend\":false,\"x\":[909.0,871.0],\"y\":[-407.0,-373.0],\"type\":\"scatter\"},{\"marker\":{\"color\":\"LightGreen\",\"line\":{\"color\":\"black\",\"width\":1},\"showscale\":false,\"size\":12},\"mode\":\"markers\",\"name\":\"bgen_103_55\",\"showlegend\":false,\"text\":[\"\"],\"x\":[909.0],\"y\":[-407.0],\"type\":\"scatter\"},{\"hoverinfo\":\"skip\",\"marker\":{\"color\":\"red\",\"showscale\":false,\"size\":10},\"name\":\"b_bus_gen_103_55\",\"showlegend\":false,\"x\":[882.1786197028765],\"y\":[-383.0019228920474],\"type\":\"scatter\"},{\"hoverinfo\":\"skip\",\"line\":{\"color\":\"black\",\"width\":1},\"showlegend\":false,\"x\":[1008.0,964.0],\"y\":[-404.0,-377.0],\"type\":\"scatter\"},{\"marker\":{\"color\":\"LightGreen\",\"line\":{\"color\":\"black\",\"width\":1},\"showscale\":false,\"size\":12},\"mode\":\"markers\",\"name\":\"bgen_104_56\",\"showlegend\":false,\"text\":[\"\"],\"x\":[1008.0],\"y\":[-404.0],\"type\":\"scatter\"},{\"hoverinfo\":\"skip\",\"marker\":{\"color\":\"red\",\"showscale\":false,\"size\":10},\"name\":\"b_bus_gen_104_56\",\"showlegend\":false,\"x\":[976.78484092973],\"y\":[-384.84524329778884],\"type\":\"scatter\"},{\"hoverinfo\":\"skip\",\"line\":{\"color\":\"black\",\"width\":1},\"showlegend\":false,\"x\":[1121.0,1067.0],\"y\":[-397.0,-377.0],\"type\":\"scatter\"},{\"marker\":{\"color\":\"LightGreen\",\"line\":{\"color\":\"black\",\"width\":1},\"showscale\":false,\"size\":12},\"mode\":\"markers\",\"name\":\"bgen_106_57\",\"showlegend\":false,\"text\":[\"\"],\"x\":[1121.0],\"y\":[-397.0],\"type\":\"scatter\"},{\"hoverinfo\":\"skip\",\"marker\":{\"color\":\"red\",\"showscale\":false,\"size\":10},\"name\":\"b_bus_gen_106_57\",\"showlegend\":false,\"x\":[1081.0662314108556],\"y\":[-382.2097153373539],\"type\":\"scatter\"},{\"hoverinfo\":\"skip\",\"line\":{\"color\":\"black\",\"width\":1},\"showlegend\":false,\"x\":[895.0,871.0],\"y\":[-652.0,-600.0],\"type\":\"scatter\"},{\"marker\":{\"color\":\"LightGreen\",\"line\":{\"color\":\"black\",\"width\":1},\"showscale\":false,\"size\":12},\"mode\":\"markers\",\"name\":\"bgen_110_58\",\"showlegend\":false,\"text\":[\"\"],\"x\":[895.0],\"y\":[-652.0],\"type\":\"scatter\"},{\"hoverinfo\":\"skip\",\"marker\":{\"color\":\"red\",\"showscale\":false,\"size\":10},\"name\":\"b_bus_gen_110_58\",\"showlegend\":false,\"x\":[877.2858726619262],\"y\":[-613.6193907675067],\"type\":\"scatter\"},{\"hoverinfo\":\"skip\",\"line\":{\"color\":\"black\",\"width\":1},\"showlegend\":false,\"x\":[1100.0,1064.0],\"y\":[-631.0,-585.0],\"type\":\"scatter\"},{\"marker\":{\"color\":\"LightGreen\",\"line\":{\"color\":\"black\",\"width\":1},\"showscale\":false,\"size\":12},\"mode\":\"markers\",\"name\":\"bgen_111_59\",\"showlegend\":false,\"text\":[\"\"],\"x\":[1100.0],\"y\":[-631.0],\"type\":\"scatter\"},{\"hoverinfo\":\"skip\",\"marker\":{\"color\":\"red\",\"showscale\":false,\"size\":10},\"name\":\"b_bus_gen_111_59\",\"showlegend\":false,\"x\":[1073.2446239248716],\"y\":[-596.8125750151138],\"type\":\"scatter\"},{\"hoverinfo\":\"skip\",\"line\":{\"color\":\"black\",\"width\":1},\"showlegend\":false,\"x\":[-757.0,-715.0],\"y\":[165.0,178.0],\"type\":\"scatter\"},{\"marker\":{\"color\":\"LightGreen\",\"line\":{\"color\":\"black\",\"width\":1},\"showscale\":false,\"size\":12},\"mode\":\"markers\",\"name\":\"bgen_112_60\",\"showlegend\":false,\"text\":[\"\"],\"x\":[-757.0],\"y\":[165.0],\"type\":\"scatter\"},{\"hoverinfo\":\"skip\",\"marker\":{\"color\":\"red\",\"showscale\":false,\"size\":10},\"name\":\"b_bus_gen_112_60\",\"showlegend\":false,\"x\":[-729.3292883603701],\"y\":[173.56474407893305],\"type\":\"scatter\"},{\"hoverinfo\":\"skip\",\"line\":{\"color\":\"black\",\"width\":1},\"showlegend\":false,\"x\":[713.0,671.0],\"y\":[-45.0,-42.0],\"type\":\"scatter\"},{\"marker\":{\"color\":\"LightGreen\",\"line\":{\"color\":\"black\",\"width\":1},\"showscale\":false,\"size\":12},\"mode\":\"markers\",\"name\":\"bgen_115_61\",\"showlegend\":false,\"text\":[\"\"],\"x\":[713.0],\"y\":[-45.0],\"type\":\"scatter\"},{\"hoverinfo\":\"skip\",\"marker\":{\"color\":\"red\",\"showscale\":false,\"size\":10},\"name\":\"b_bus_gen_115_61\",\"showlegend\":false,\"x\":[685.961880497461],\"y\":[-43.06870574981865],\"type\":\"scatter\"},{\"marker\":{\"color\":\"PaleTurquoise\",\"line\":{\"color\":\"black\",\"width\":1},\"showscale\":false,\"size\":25},\"mode\":\"markers\",\"name\":\"zsub_0\",\"showlegend\":false,\"text\":[\"sub_0\"],\"x\":[-1067.0],\"y\":[600.0],\"type\":\"scatter\"},{\"hoverinfo\":\"skip\",\"mode\":\"text\",\"name\":\"sub_0\",\"showlegend\":false,\"text\":[\"0\"],\"textposition\":\"middle center\",\"x\":[-1067.0],\"y\":[600.0],\"type\":\"scatter\"},{\"marker\":{\"color\":\"PaleTurquoise\",\"line\":{\"color\":\"black\",\"width\":1},\"showscale\":false,\"size\":25},\"mode\":\"markers\",\"name\":\"zsub_1\",\"showlegend\":false,\"text\":[\"sub_1\"],\"x\":[-940.0],\"y\":[600.0],\"type\":\"scatter\"},{\"hoverinfo\":\"skip\",\"mode\":\"text\",\"name\":\"sub_1\",\"showlegend\":false,\"text\":[\"1\"],\"textposition\":\"middle center\",\"x\":[-940.0],\"y\":[600.0],\"type\":\"scatter\"},{\"marker\":{\"color\":\"PaleTurquoise\",\"line\":{\"color\":\"black\",\"width\":1},\"showscale\":false,\"size\":25},\"mode\":\"markers\",\"name\":\"zsub_2\",\"showlegend\":false,\"text\":[\"sub_2\"],\"x\":[-1006.0],\"y\":[524.0],\"type\":\"scatter\"},{\"hoverinfo\":\"skip\",\"mode\":\"text\",\"name\":\"sub_2\",\"showlegend\":false,\"text\":[\"2\"],\"textposition\":\"middle center\",\"x\":[-1006.0],\"y\":[524.0],\"type\":\"scatter\"},{\"marker\":{\"color\":\"PaleTurquoise\",\"line\":{\"color\":\"black\",\"width\":1},\"showscale\":false,\"size\":25},\"mode\":\"markers\",\"name\":\"zsub_3\",\"showlegend\":false,\"text\":[\"sub_3\"],\"x\":[-940.0],\"y\":[461.0],\"type\":\"scatter\"},{\"hoverinfo\":\"skip\",\"mode\":\"text\",\"name\":\"sub_3\",\"showlegend\":false,\"text\":[\"3\"],\"textposition\":\"middle center\",\"x\":[-940.0],\"y\":[461.0],\"type\":\"scatter\"},{\"marker\":{\"color\":\"PaleTurquoise\",\"line\":{\"color\":\"black\",\"width\":1},\"showscale\":false,\"size\":25},\"mode\":\"markers\",\"name\":\"zsub_4\",\"showlegend\":false,\"text\":[\"sub_4\"],\"x\":[-977.0],\"y\":[348.0],\"type\":\"scatter\"},{\"hoverinfo\":\"skip\",\"mode\":\"text\",\"name\":\"sub_4\",\"showlegend\":false,\"text\":[\"4\"],\"textposition\":\"middle center\",\"x\":[-977.0],\"y\":[348.0],\"type\":\"scatter\"},{\"marker\":{\"color\":\"PaleTurquoise\",\"line\":{\"color\":\"black\",\"width\":1},\"showscale\":false,\"size\":25},\"mode\":\"markers\",\"name\":\"zsub_5\",\"showlegend\":false,\"text\":[\"sub_5\"],\"x\":[-874.0],\"y\":[352.0],\"type\":\"scatter\"},{\"hoverinfo\":\"skip\",\"mode\":\"text\",\"name\":\"sub_5\",\"showlegend\":false,\"text\":[\"5\"],\"textposition\":\"middle center\",\"x\":[-874.0],\"y\":[352.0],\"type\":\"scatter\"},{\"marker\":{\"color\":\"PaleTurquoise\",\"line\":{\"color\":\"black\",\"width\":1},\"showscale\":false,\"size\":25},\"mode\":\"markers\",\"name\":\"zsub_6\",\"showlegend\":false,\"text\":[\"sub_6\"],\"x\":[-792.0],\"y\":[346.0],\"type\":\"scatter\"},{\"hoverinfo\":\"skip\",\"mode\":\"text\",\"name\":\"sub_6\",\"showlegend\":false,\"text\":[\"6\"],\"textposition\":\"middle center\",\"x\":[-792.0],\"y\":[346.0],\"type\":\"scatter\"},{\"marker\":{\"color\":\"PaleTurquoise\",\"line\":{\"color\":\"black\",\"width\":1},\"showscale\":false,\"size\":25},\"mode\":\"markers\",\"name\":\"zsub_7\",\"showlegend\":false,\"text\":[\"sub_7\"],\"x\":[-969.0],\"y\":[131.0],\"type\":\"scatter\"},{\"hoverinfo\":\"skip\",\"mode\":\"text\",\"name\":\"sub_7\",\"showlegend\":false,\"text\":[\"7\"],\"textposition\":\"middle center\",\"x\":[-969.0],\"y\":[131.0],\"type\":\"scatter\"},{\"marker\":{\"color\":\"PaleTurquoise\",\"line\":{\"color\":\"black\",\"width\":1},\"showscale\":false,\"size\":25},\"mode\":\"markers\",\"name\":\"zsub_8\",\"showlegend\":false,\"text\":[\"sub_8\"],\"x\":[-964.0],\"y\":[39.0],\"type\":\"scatter\"},{\"hoverinfo\":\"skip\",\"mode\":\"text\",\"name\":\"sub_8\",\"showlegend\":false,\"text\":[\"8\"],\"textposition\":\"middle center\",\"x\":[-964.0],\"y\":[39.0],\"type\":\"scatter\"},{\"marker\":{\"color\":\"PaleTurquoise\",\"line\":{\"color\":\"black\",\"width\":1},\"showscale\":false,\"size\":25},\"mode\":\"markers\",\"name\":\"zsub_9\",\"showlegend\":false,\"text\":[\"sub_9\"],\"x\":[-969.0],\"y\":[-39.0],\"type\":\"scatter\"},{\"hoverinfo\":\"skip\",\"mode\":\"text\",\"name\":\"sub_9\",\"showlegend\":false,\"text\":[\"9\"],\"textposition\":\"middle center\",\"x\":[-969.0],\"y\":[-39.0],\"type\":\"scatter\"},{\"marker\":{\"color\":\"PaleTurquoise\",\"line\":{\"color\":\"black\",\"width\":1},\"showscale\":false,\"size\":25},\"mode\":\"markers\",\"name\":\"zsub_10\",\"showlegend\":false,\"text\":[\"sub_10\"],\"x\":[-847.0],\"y\":[465.0],\"type\":\"scatter\"},{\"hoverinfo\":\"skip\",\"mode\":\"text\",\"name\":\"sub_10\",\"showlegend\":false,\"text\":[\"10\"],\"textposition\":\"middle center\",\"x\":[-847.0],\"y\":[465.0],\"type\":\"scatter\"},{\"marker\":{\"color\":\"PaleTurquoise\",\"line\":{\"color\":\"black\",\"width\":1},\"showscale\":false,\"size\":25},\"mode\":\"markers\",\"name\":\"zsub_11\",\"showlegend\":false,\"text\":[\"sub_11\"],\"x\":[-705.0],\"y\":[505.0],\"type\":\"scatter\"},{\"hoverinfo\":\"skip\",\"mode\":\"text\",\"name\":\"sub_11\",\"showlegend\":false,\"text\":[\"11\"],\"textposition\":\"middle center\",\"x\":[-705.0],\"y\":[505.0],\"type\":\"scatter\"},{\"marker\":{\"color\":\"PaleTurquoise\",\"line\":{\"color\":\"black\",\"width\":1},\"showscale\":false,\"size\":25},\"mode\":\"markers\",\"name\":\"zsub_12\",\"showlegend\":false,\"text\":[\"sub_12\"],\"x\":[-638.0],\"y\":[363.0],\"type\":\"scatter\"},{\"hoverinfo\":\"skip\",\"mode\":\"text\",\"name\":\"sub_12\",\"showlegend\":false,\"text\":[\"12\"],\"textposition\":\"middle center\",\"x\":[-638.0],\"y\":[363.0],\"type\":\"scatter\"},{\"marker\":{\"color\":\"PaleTurquoise\",\"line\":{\"color\":\"black\",\"width\":1},\"showscale\":false,\"size\":25},\"mode\":\"markers\",\"name\":\"zsub_13\",\"showlegend\":false,\"text\":[\"sub_13\"],\"x\":[-544.0],\"y\":[498.0],\"type\":\"scatter\"},{\"hoverinfo\":\"skip\",\"mode\":\"text\",\"name\":\"sub_13\",\"showlegend\":false,\"text\":[\"13\"],\"textposition\":\"middle center\",\"x\":[-544.0],\"y\":[498.0],\"type\":\"scatter\"},{\"marker\":{\"color\":\"PaleTurquoise\",\"line\":{\"color\":\"black\",\"width\":1},\"showscale\":false,\"size\":25},\"mode\":\"markers\",\"name\":\"zsub_14\",\"showlegend\":false,\"text\":[\"sub_14\"],\"x\":[-498.0],\"y\":[369.0],\"type\":\"scatter\"},{\"hoverinfo\":\"skip\",\"mode\":\"text\",\"name\":\"sub_14\",\"showlegend\":false,\"text\":[\"14\"],\"textposition\":\"middle center\",\"x\":[-498.0],\"y\":[369.0],\"type\":\"scatter\"},{\"marker\":{\"color\":\"PaleTurquoise\",\"line\":{\"color\":\"black\",\"width\":1},\"showscale\":false,\"size\":25},\"mode\":\"markers\",\"name\":\"zsub_15\",\"showlegend\":false,\"text\":[\"sub_15\"],\"x\":[-747.0],\"y\":[268.0],\"type\":\"scatter\"},{\"hoverinfo\":\"skip\",\"mode\":\"text\",\"name\":\"sub_15\",\"showlegend\":false,\"text\":[\"15\"],\"textposition\":\"middle center\",\"x\":[-747.0],\"y\":[268.0],\"type\":\"scatter\"},{\"marker\":{\"color\":\"PaleTurquoise\",\"line\":{\"color\":\"black\",\"width\":1},\"showscale\":false,\"size\":25},\"mode\":\"markers\",\"name\":\"zsub_16\",\"showlegend\":false,\"text\":[\"sub_16\"],\"x\":[-586.0],\"y\":[205.0],\"type\":\"scatter\"},{\"hoverinfo\":\"skip\",\"mode\":\"text\",\"name\":\"sub_16\",\"showlegend\":false,\"text\":[\"16\"],\"textposition\":\"middle center\",\"x\":[-586.0],\"y\":[205.0],\"type\":\"scatter\"},{\"marker\":{\"color\":\"PaleTurquoise\",\"line\":{\"color\":\"black\",\"width\":1},\"showscale\":false,\"size\":25},\"mode\":\"markers\",\"name\":\"zsub_17\",\"showlegend\":false,\"text\":[\"sub_17\"],\"x\":[-427.0],\"y\":[205.0],\"type\":\"scatter\"},{\"hoverinfo\":\"skip\",\"mode\":\"text\",\"name\":\"sub_17\",\"showlegend\":false,\"text\":[\"17\"],\"textposition\":\"middle center\",\"x\":[-427.0],\"y\":[205.0],\"type\":\"scatter\"},{\"marker\":{\"color\":\"PaleTurquoise\",\"line\":{\"color\":\"black\",\"width\":1},\"showscale\":false,\"size\":25},\"mode\":\"markers\",\"name\":\"zsub_18\",\"showlegend\":false,\"text\":[\"sub_18\"],\"x\":[-307.0],\"y\":[311.0],\"type\":\"scatter\"},{\"hoverinfo\":\"skip\",\"mode\":\"text\",\"name\":\"sub_18\",\"showlegend\":false,\"text\":[\"18\"],\"textposition\":\"middle center\",\"x\":[-307.0],\"y\":[311.0],\"type\":\"scatter\"},{\"marker\":{\"color\":\"PaleTurquoise\",\"line\":{\"color\":\"black\",\"width\":1},\"showscale\":false,\"size\":25},\"mode\":\"markers\",\"name\":\"zsub_19\",\"showlegend\":false,\"text\":[\"sub_19\"],\"x\":[-274.0],\"y\":[222.0],\"type\":\"scatter\"},{\"hoverinfo\":\"skip\",\"mode\":\"text\",\"name\":\"sub_19\",\"showlegend\":false,\"text\":[\"19\"],\"textposition\":\"middle center\",\"x\":[-274.0],\"y\":[222.0],\"type\":\"scatter\"},{\"marker\":{\"color\":\"PaleTurquoise\",\"line\":{\"color\":\"black\",\"width\":1},\"showscale\":false,\"size\":25},\"mode\":\"markers\",\"name\":\"zsub_20\",\"showlegend\":false,\"text\":[\"sub_20\"],\"x\":[-285.0],\"y\":[82.0],\"type\":\"scatter\"},{\"hoverinfo\":\"skip\",\"mode\":\"text\",\"name\":\"sub_20\",\"showlegend\":false,\"text\":[\"20\"],\"textposition\":\"middle center\",\"x\":[-285.0],\"y\":[82.0],\"type\":\"scatter\"},{\"marker\":{\"color\":\"PaleTurquoise\",\"line\":{\"color\":\"black\",\"width\":1},\"showscale\":false,\"size\":25},\"mode\":\"markers\",\"name\":\"zsub_21\",\"showlegend\":false,\"text\":[\"sub_21\"],\"x\":[-314.0],\"y\":[0.0],\"type\":\"scatter\"},{\"hoverinfo\":\"skip\",\"mode\":\"text\",\"name\":\"sub_21\",\"showlegend\":false,\"text\":[\"21\"],\"textposition\":\"middle center\",\"x\":[-314.0],\"y\":[0.0],\"type\":\"scatter\"},{\"marker\":{\"color\":\"PaleTurquoise\",\"line\":{\"color\":\"black\",\"width\":1},\"showscale\":false,\"size\":25},\"mode\":\"markers\",\"name\":\"zsub_22\",\"showlegend\":false,\"text\":[\"sub_22\"],\"x\":[-348.0],\"y\":[-115.0],\"type\":\"scatter\"},{\"hoverinfo\":\"skip\",\"mode\":\"text\",\"name\":\"sub_22\",\"showlegend\":false,\"text\":[\"22\"],\"textposition\":\"middle center\",\"x\":[-348.0],\"y\":[-115.0],\"type\":\"scatter\"},{\"marker\":{\"color\":\"PaleTurquoise\",\"line\":{\"color\":\"black\",\"width\":1},\"showscale\":false,\"size\":25},\"mode\":\"markers\",\"name\":\"zsub_23\",\"showlegend\":false,\"text\":[\"sub_23\"],\"x\":[-49.0],\"y\":[43.0],\"type\":\"scatter\"},{\"hoverinfo\":\"skip\",\"mode\":\"text\",\"name\":\"sub_23\",\"showlegend\":false,\"text\":[\"23\"],\"textposition\":\"middle center\",\"x\":[-49.0],\"y\":[43.0],\"type\":\"scatter\"},{\"marker\":{\"color\":\"PaleTurquoise\",\"line\":{\"color\":\"black\",\"width\":1},\"showscale\":false,\"size\":25},\"mode\":\"markers\",\"name\":\"zsub_24\",\"showlegend\":false,\"text\":[\"sub_24\"],\"x\":[-462.0],\"y\":[-236.0],\"type\":\"scatter\"},{\"hoverinfo\":\"skip\",\"mode\":\"text\",\"name\":\"sub_24\",\"showlegend\":false,\"text\":[\"24\"],\"textposition\":\"middle center\",\"x\":[-462.0],\"y\":[-236.0],\"type\":\"scatter\"},{\"marker\":{\"color\":\"PaleTurquoise\",\"line\":{\"color\":\"black\",\"width\":1},\"showscale\":false,\"size\":25},\"mode\":\"markers\",\"name\":\"zsub_25\",\"showlegend\":false,\"text\":[\"sub_25\"],\"x\":[-493.0],\"y\":[-122.0],\"type\":\"scatter\"},{\"hoverinfo\":\"skip\",\"mode\":\"text\",\"name\":\"sub_25\",\"showlegend\":false,\"text\":[\"25\"],\"textposition\":\"middle center\",\"x\":[-493.0],\"y\":[-122.0],\"type\":\"scatter\"},{\"marker\":{\"color\":\"PaleTurquoise\",\"line\":{\"color\":\"black\",\"width\":1},\"showscale\":false,\"size\":25},\"mode\":\"markers\",\"name\":\"zsub_26\",\"showlegend\":false,\"text\":[\"sub_26\"],\"x\":[-858.0],\"y\":[-98.0],\"type\":\"scatter\"},{\"hoverinfo\":\"skip\",\"mode\":\"text\",\"name\":\"sub_26\",\"showlegend\":false,\"text\":[\"26\"],\"textposition\":\"middle center\",\"x\":[-858.0],\"y\":[-98.0],\"type\":\"scatter\"},{\"marker\":{\"color\":\"PaleTurquoise\",\"line\":{\"color\":\"black\",\"width\":1},\"showscale\":false,\"size\":25},\"mode\":\"markers\",\"name\":\"zsub_27\",\"showlegend\":false,\"text\":[\"sub_27\"],\"x\":[-879.0],\"y\":[-22.0],\"type\":\"scatter\"},{\"hoverinfo\":\"skip\",\"mode\":\"text\",\"name\":\"sub_27\",\"showlegend\":false,\"text\":[\"27\"],\"textposition\":\"middle center\",\"x\":[-879.0],\"y\":[-22.0],\"type\":\"scatter\"},{\"marker\":{\"color\":\"PaleTurquoise\",\"line\":{\"color\":\"black\",\"width\":1},\"showscale\":false,\"size\":25},\"mode\":\"markers\",\"name\":\"zsub_28\",\"showlegend\":false,\"text\":[\"sub_28\"],\"x\":[-876.0],\"y\":[56.0],\"type\":\"scatter\"},{\"hoverinfo\":\"skip\",\"mode\":\"text\",\"name\":\"sub_28\",\"showlegend\":false,\"text\":[\"28\"],\"textposition\":\"middle center\",\"x\":[-876.0],\"y\":[56.0],\"type\":\"scatter\"},{\"marker\":{\"color\":\"PaleTurquoise\",\"line\":{\"color\":\"black\",\"width\":1},\"showscale\":false,\"size\":25},\"mode\":\"markers\",\"name\":\"zsub_29\",\"showlegend\":false,\"text\":[\"sub_29\"],\"x\":[-562.0],\"y\":[131.0],\"type\":\"scatter\"},{\"hoverinfo\":\"skip\",\"mode\":\"text\",\"name\":\"sub_29\",\"showlegend\":false,\"text\":[\"29\"],\"textposition\":\"middle center\",\"x\":[-562.0],\"y\":[131.0],\"type\":\"scatter\"},{\"marker\":{\"color\":\"PaleTurquoise\",\"line\":{\"color\":\"black\",\"width\":1},\"showscale\":false,\"size\":25},\"mode\":\"markers\",\"name\":\"zsub_30\",\"showlegend\":false,\"text\":[\"sub_30\"],\"x\":[-773.0],\"y\":[56.0],\"type\":\"scatter\"},{\"hoverinfo\":\"skip\",\"mode\":\"text\",\"name\":\"sub_30\",\"showlegend\":false,\"text\":[\"30\"],\"textposition\":\"middle center\",\"x\":[-773.0],\"y\":[56.0],\"type\":\"scatter\"},{\"marker\":{\"color\":\"PaleTurquoise\",\"line\":{\"color\":\"black\",\"width\":1},\"showscale\":false,\"size\":25},\"mode\":\"markers\",\"name\":\"zsub_31\",\"showlegend\":false,\"text\":[\"sub_31\"],\"x\":[-686.0],\"y\":[7.0],\"type\":\"scatter\"},{\"hoverinfo\":\"skip\",\"mode\":\"text\",\"name\":\"sub_31\",\"showlegend\":false,\"text\":[\"31\"],\"textposition\":\"middle center\",\"x\":[-686.0],\"y\":[7.0],\"type\":\"scatter\"},{\"marker\":{\"color\":\"PaleTurquoise\",\"line\":{\"color\":\"black\",\"width\":1},\"showscale\":false,\"size\":25},\"mode\":\"markers\",\"name\":\"zsub_32\",\"showlegend\":false,\"text\":[\"sub_32\"],\"x\":[-12.0],\"y\":[480.0],\"type\":\"scatter\"},{\"hoverinfo\":\"skip\",\"mode\":\"text\",\"name\":\"sub_32\",\"showlegend\":false,\"text\":[\"32\"],\"textposition\":\"middle center\",\"x\":[-12.0],\"y\":[480.0],\"type\":\"scatter\"},{\"marker\":{\"color\":\"PaleTurquoise\",\"line\":{\"color\":\"black\",\"width\":1},\"showscale\":false,\"size\":25},\"mode\":\"markers\",\"name\":\"zsub_33\",\"showlegend\":false,\"text\":[\"sub_33\"],\"x\":[40.0],\"y\":[373.0],\"type\":\"scatter\"},{\"hoverinfo\":\"skip\",\"mode\":\"text\",\"name\":\"sub_33\",\"showlegend\":false,\"text\":[\"33\"],\"textposition\":\"middle center\",\"x\":[40.0],\"y\":[373.0],\"type\":\"scatter\"},{\"marker\":{\"color\":\"PaleTurquoise\",\"line\":{\"color\":\"black\",\"width\":1},\"showscale\":false,\"size\":25},\"mode\":\"markers\",\"name\":\"zsub_34\",\"showlegend\":false,\"text\":[\"sub_34\"],\"x\":[-91.0],\"y\":[257.0],\"type\":\"scatter\"},{\"hoverinfo\":\"skip\",\"mode\":\"text\",\"name\":\"sub_34\",\"showlegend\":false,\"text\":[\"34\"],\"textposition\":\"middle center\",\"x\":[-91.0],\"y\":[257.0],\"type\":\"scatter\"},{\"marker\":{\"color\":\"PaleTurquoise\",\"line\":{\"color\":\"black\",\"width\":1},\"showscale\":false,\"size\":25},\"mode\":\"markers\",\"name\":\"zsub_35\",\"showlegend\":false,\"text\":[\"sub_35\"],\"x\":[133.0],\"y\":[272.0],\"type\":\"scatter\"},{\"hoverinfo\":\"skip\",\"mode\":\"text\",\"name\":\"sub_35\",\"showlegend\":false,\"text\":[\"35\"],\"textposition\":\"middle center\",\"x\":[133.0],\"y\":[272.0],\"type\":\"scatter\"},{\"marker\":{\"color\":\"PaleTurquoise\",\"line\":{\"color\":\"black\",\"width\":1},\"showscale\":false,\"size\":25},\"mode\":\"markers\",\"name\":\"zsub_36\",\"showlegend\":false,\"text\":[\"sub_36\"],\"x\":[194.0],\"y\":[411.0],\"type\":\"scatter\"},{\"hoverinfo\":\"skip\",\"mode\":\"text\",\"name\":\"sub_36\",\"showlegend\":false,\"text\":[\"36\"],\"textposition\":\"middle center\",\"x\":[194.0],\"y\":[411.0],\"type\":\"scatter\"},{\"marker\":{\"color\":\"PaleTurquoise\",\"line\":{\"color\":\"black\",\"width\":1},\"showscale\":false,\"size\":25},\"mode\":\"markers\",\"name\":\"zsub_37\",\"showlegend\":false,\"text\":[\"sub_37\"],\"x\":[231.0],\"y\":[213.0],\"type\":\"scatter\"},{\"hoverinfo\":\"skip\",\"mode\":\"text\",\"name\":\"sub_37\",\"showlegend\":false,\"text\":[\"37\"],\"textposition\":\"middle center\",\"x\":[231.0],\"y\":[213.0],\"type\":\"scatter\"},{\"marker\":{\"color\":\"PaleTurquoise\",\"line\":{\"color\":\"black\",\"width\":1},\"showscale\":false,\"size\":25},\"mode\":\"markers\",\"name\":\"zsub_38\",\"showlegend\":false,\"text\":[\"sub_38\"],\"x\":[155.0],\"y\":[503.0],\"type\":\"scatter\"},{\"hoverinfo\":\"skip\",\"mode\":\"text\",\"name\":\"sub_38\",\"showlegend\":false,\"text\":[\"38\"],\"textposition\":\"middle center\",\"x\":[155.0],\"y\":[503.0],\"type\":\"scatter\"},{\"marker\":{\"color\":\"PaleTurquoise\",\"line\":{\"color\":\"black\",\"width\":1},\"showscale\":false,\"size\":25},\"mode\":\"markers\",\"name\":\"zsub_39\",\"showlegend\":false,\"text\":[\"sub_39\"],\"x\":[226.0],\"y\":[568.0],\"type\":\"scatter\"},{\"hoverinfo\":\"skip\",\"mode\":\"text\",\"name\":\"sub_39\",\"showlegend\":false,\"text\":[\"39\"],\"textposition\":\"middle center\",\"x\":[226.0],\"y\":[568.0],\"type\":\"scatter\"},{\"marker\":{\"color\":\"PaleTurquoise\",\"line\":{\"color\":\"black\",\"width\":1},\"showscale\":false,\"size\":25},\"mode\":\"markers\",\"name\":\"zsub_40\",\"showlegend\":false,\"text\":[\"sub_40\"],\"x\":[340.0],\"y\":[615.0],\"type\":\"scatter\"},{\"hoverinfo\":\"skip\",\"mode\":\"text\",\"name\":\"sub_40\",\"showlegend\":false,\"text\":[\"40\"],\"textposition\":\"middle center\",\"x\":[340.0],\"y\":[615.0],\"type\":\"scatter\"},{\"marker\":{\"color\":\"PaleTurquoise\",\"line\":{\"color\":\"black\",\"width\":1},\"showscale\":false,\"size\":25},\"mode\":\"markers\",\"name\":\"zsub_41\",\"showlegend\":false,\"text\":[\"sub_41\"],\"x\":[424.0],\"y\":[568.0],\"type\":\"scatter\"},{\"hoverinfo\":\"skip\",\"mode\":\"text\",\"name\":\"sub_41\",\"showlegend\":false,\"text\":[\"41\"],\"textposition\":\"middle center\",\"x\":[424.0],\"y\":[568.0],\"type\":\"scatter\"},{\"marker\":{\"color\":\"PaleTurquoise\",\"line\":{\"color\":\"black\",\"width\":1},\"showscale\":false,\"size\":25},\"mode\":\"markers\",\"name\":\"zsub_42\",\"showlegend\":false,\"text\":[\"sub_42\"],\"x\":[326.0],\"y\":[363.0],\"type\":\"scatter\"},{\"hoverinfo\":\"skip\",\"mode\":\"text\",\"name\":\"sub_42\",\"showlegend\":false,\"text\":[\"42\"],\"textposition\":\"middle center\",\"x\":[326.0],\"y\":[363.0],\"type\":\"scatter\"},{\"marker\":{\"color\":\"PaleTurquoise\",\"line\":{\"color\":\"black\",\"width\":1},\"showscale\":false,\"size\":25},\"mode\":\"markers\",\"name\":\"zsub_43\",\"showlegend\":false,\"text\":[\"sub_43\"],\"x\":[369.0],\"y\":[421.0],\"type\":\"scatter\"},{\"hoverinfo\":\"skip\",\"mode\":\"text\",\"name\":\"sub_43\",\"showlegend\":false,\"text\":[\"43\"],\"textposition\":\"middle center\",\"x\":[369.0],\"y\":[421.0],\"type\":\"scatter\"},{\"marker\":{\"color\":\"PaleTurquoise\",\"line\":{\"color\":\"black\",\"width\":1},\"showscale\":false,\"size\":25},\"mode\":\"markers\",\"name\":\"zsub_44\",\"showlegend\":false,\"text\":[\"sub_44\"],\"x\":[411.0],\"y\":[330.0],\"type\":\"scatter\"},{\"hoverinfo\":\"skip\",\"mode\":\"text\",\"name\":\"sub_44\",\"showlegend\":false,\"text\":[\"44\"],\"textposition\":\"middle center\",\"x\":[411.0],\"y\":[330.0],\"type\":\"scatter\"},{\"marker\":{\"color\":\"PaleTurquoise\",\"line\":{\"color\":\"black\",\"width\":1},\"showscale\":false,\"size\":25},\"mode\":\"markers\",\"name\":\"zsub_45\",\"showlegend\":false,\"text\":[\"sub_45\"],\"x\":[350.0],\"y\":[236.0],\"type\":\"scatter\"},{\"hoverinfo\":\"skip\",\"mode\":\"text\",\"name\":\"sub_45\",\"showlegend\":false,\"text\":[\"45\"],\"textposition\":\"middle center\",\"x\":[350.0],\"y\":[236.0],\"type\":\"scatter\"},{\"marker\":{\"color\":\"PaleTurquoise\",\"line\":{\"color\":\"black\",\"width\":1},\"showscale\":false,\"size\":25},\"mode\":\"markers\",\"name\":\"zsub_46\",\"showlegend\":false,\"text\":[\"sub_46\"],\"x\":[460.0],\"y\":[182.0],\"type\":\"scatter\"},{\"hoverinfo\":\"skip\",\"mode\":\"text\",\"name\":\"sub_46\",\"showlegend\":false,\"text\":[\"46\"],\"textposition\":\"middle center\",\"x\":[460.0],\"y\":[182.0],\"type\":\"scatter\"},{\"marker\":{\"color\":\"PaleTurquoise\",\"line\":{\"color\":\"black\",\"width\":1},\"showscale\":false,\"size\":25},\"mode\":\"markers\",\"name\":\"zsub_47\",\"showlegend\":false,\"text\":[\"sub_47\"],\"x\":[453.0],\"y\":[244.0],\"type\":\"scatter\"},{\"hoverinfo\":\"skip\",\"mode\":\"text\",\"name\":\"sub_47\",\"showlegend\":false,\"text\":[\"47\"],\"textposition\":\"middle center\",\"x\":[453.0],\"y\":[244.0],\"type\":\"scatter\"},{\"marker\":{\"color\":\"PaleTurquoise\",\"line\":{\"color\":\"black\",\"width\":1},\"showscale\":false,\"size\":25},\"mode\":\"markers\",\"name\":\"zsub_48\",\"showlegend\":false,\"text\":[\"sub_48\"],\"x\":[583.0],\"y\":[209.0],\"type\":\"scatter\"},{\"hoverinfo\":\"skip\",\"mode\":\"text\",\"name\":\"sub_48\",\"showlegend\":false,\"text\":[\"48\"],\"textposition\":\"middle center\",\"x\":[583.0],\"y\":[209.0],\"type\":\"scatter\"},{\"marker\":{\"color\":\"PaleTurquoise\",\"line\":{\"color\":\"black\",\"width\":1},\"showscale\":false,\"size\":25},\"mode\":\"markers\",\"name\":\"zsub_49\",\"showlegend\":false,\"text\":[\"sub_49\"],\"x\":[776.0],\"y\":[300.0],\"type\":\"scatter\"},{\"hoverinfo\":\"skip\",\"mode\":\"text\",\"name\":\"sub_49\",\"showlegend\":false,\"text\":[\"49\"],\"textposition\":\"middle center\",\"x\":[776.0],\"y\":[300.0],\"type\":\"scatter\"},{\"marker\":{\"color\":\"PaleTurquoise\",\"line\":{\"color\":\"black\",\"width\":1},\"showscale\":false,\"size\":25},\"mode\":\"markers\",\"name\":\"zsub_50\",\"showlegend\":false,\"text\":[\"sub_50\"],\"x\":[706.0],\"y\":[300.0],\"type\":\"scatter\"},{\"hoverinfo\":\"skip\",\"mode\":\"text\",\"name\":\"sub_50\",\"showlegend\":false,\"text\":[\"50\"],\"textposition\":\"middle center\",\"x\":[706.0],\"y\":[300.0],\"type\":\"scatter\"},{\"marker\":{\"color\":\"PaleTurquoise\",\"line\":{\"color\":\"black\",\"width\":1},\"showscale\":false,\"size\":25},\"mode\":\"markers\",\"name\":\"zsub_51\",\"showlegend\":false,\"text\":[\"sub_51\"],\"x\":[541.0],\"y\":[430.0],\"type\":\"scatter\"},{\"hoverinfo\":\"skip\",\"mode\":\"text\",\"name\":\"sub_51\",\"showlegend\":false,\"text\":[\"51\"],\"textposition\":\"middle center\",\"x\":[541.0],\"y\":[430.0],\"type\":\"scatter\"},{\"marker\":{\"color\":\"PaleTurquoise\",\"line\":{\"color\":\"black\",\"width\":1},\"showscale\":false,\"size\":25},\"mode\":\"markers\",\"name\":\"zsub_52\",\"showlegend\":false,\"text\":[\"sub_52\"],\"x\":[533.0],\"y\":[568.0],\"type\":\"scatter\"},{\"hoverinfo\":\"skip\",\"mode\":\"text\",\"name\":\"sub_52\",\"showlegend\":false,\"text\":[\"52\"],\"textposition\":\"middle center\",\"x\":[533.0],\"y\":[568.0],\"type\":\"scatter\"},{\"marker\":{\"color\":\"PaleTurquoise\",\"line\":{\"color\":\"black\",\"width\":1},\"showscale\":false,\"size\":25},\"mode\":\"markers\",\"name\":\"zsub_53\",\"showlegend\":false,\"text\":[\"sub_53\"],\"x\":[625.0],\"y\":[566.0],\"type\":\"scatter\"},{\"hoverinfo\":\"skip\",\"mode\":\"text\",\"name\":\"sub_53\",\"showlegend\":false,\"text\":[\"53\"],\"textposition\":\"middle center\",\"x\":[625.0],\"y\":[566.0],\"type\":\"scatter\"},{\"marker\":{\"color\":\"PaleTurquoise\",\"line\":{\"color\":\"black\",\"width\":1},\"showscale\":false,\"size\":25},\"mode\":\"markers\",\"name\":\"zsub_54\",\"showlegend\":false,\"text\":[\"sub_54\"],\"x\":[783.0],\"y\":[515.0],\"type\":\"scatter\"},{\"hoverinfo\":\"skip\",\"mode\":\"text\",\"name\":\"sub_54\",\"showlegend\":false,\"text\":[\"54\"],\"textposition\":\"middle center\",\"x\":[783.0],\"y\":[515.0],\"type\":\"scatter\"},{\"marker\":{\"color\":\"PaleTurquoise\",\"line\":{\"color\":\"black\",\"width\":1},\"showscale\":false,\"size\":25},\"mode\":\"markers\",\"name\":\"zsub_55\",\"showlegend\":false,\"text\":[\"sub_55\"],\"x\":[742.0],\"y\":[430.0],\"type\":\"scatter\"},{\"hoverinfo\":\"skip\",\"mode\":\"text\",\"name\":\"sub_55\",\"showlegend\":false,\"text\":[\"55\"],\"textposition\":\"middle center\",\"x\":[742.0],\"y\":[430.0],\"type\":\"scatter\"},{\"marker\":{\"color\":\"PaleTurquoise\",\"line\":{\"color\":\"black\",\"width\":1},\"showscale\":false,\"size\":25},\"mode\":\"markers\",\"name\":\"zsub_56\",\"showlegend\":false,\"text\":[\"sub_56\"],\"x\":[776.0],\"y\":[365.0],\"type\":\"scatter\"},{\"hoverinfo\":\"skip\",\"mode\":\"text\",\"name\":\"sub_56\",\"showlegend\":false,\"text\":[\"56\"],\"textposition\":\"middle center\",\"x\":[776.0],\"y\":[365.0],\"type\":\"scatter\"},{\"marker\":{\"color\":\"PaleTurquoise\",\"line\":{\"color\":\"black\",\"width\":1},\"showscale\":false,\"size\":25},\"mode\":\"markers\",\"name\":\"zsub_57\",\"showlegend\":false,\"text\":[\"sub_57\"],\"x\":[706.0],\"y\":[365.0],\"type\":\"scatter\"},{\"hoverinfo\":\"skip\",\"mode\":\"text\",\"name\":\"sub_57\",\"showlegend\":false,\"text\":[\"57\"],\"textposition\":\"middle center\",\"x\":[706.0],\"y\":[365.0],\"type\":\"scatter\"},{\"marker\":{\"color\":\"PaleTurquoise\",\"line\":{\"color\":\"black\",\"width\":1},\"showscale\":false,\"size\":25},\"mode\":\"markers\",\"name\":\"zsub_58\",\"showlegend\":false,\"text\":[\"sub_58\"],\"x\":[982.0],\"y\":[529.0],\"type\":\"scatter\"},{\"hoverinfo\":\"skip\",\"mode\":\"text\",\"name\":\"sub_58\",\"showlegend\":false,\"text\":[\"58\"],\"textposition\":\"middle center\",\"x\":[982.0],\"y\":[529.0],\"type\":\"scatter\"},{\"marker\":{\"color\":\"PaleTurquoise\",\"line\":{\"color\":\"black\",\"width\":1},\"showscale\":false,\"size\":25},\"mode\":\"markers\",\"name\":\"zsub_59\",\"showlegend\":false,\"text\":[\"sub_59\"],\"x\":[908.0],\"y\":[254.0],\"type\":\"scatter\"},{\"hoverinfo\":\"skip\",\"mode\":\"text\",\"name\":\"sub_59\",\"showlegend\":false,\"text\":[\"59\"],\"textposition\":\"middle center\",\"x\":[908.0],\"y\":[254.0],\"type\":\"scatter\"},{\"marker\":{\"color\":\"PaleTurquoise\",\"line\":{\"color\":\"black\",\"width\":1},\"showscale\":false,\"size\":25},\"mode\":\"markers\",\"name\":\"zsub_60\",\"showlegend\":false,\"text\":[\"sub_60\"],\"x\":[950.0],\"y\":[195.0],\"type\":\"scatter\"},{\"hoverinfo\":\"skip\",\"mode\":\"text\",\"name\":\"sub_60\",\"showlegend\":false,\"text\":[\"60\"],\"textposition\":\"middle center\",\"x\":[950.0],\"y\":[195.0],\"type\":\"scatter\"},{\"marker\":{\"color\":\"PaleTurquoise\",\"line\":{\"color\":\"black\",\"width\":1},\"showscale\":false,\"size\":25},\"mode\":\"markers\",\"name\":\"zsub_61\",\"showlegend\":false,\"text\":[\"sub_61\"],\"x\":[854.0],\"y\":[185.0],\"type\":\"scatter\"},{\"hoverinfo\":\"skip\",\"mode\":\"text\",\"name\":\"sub_61\",\"showlegend\":false,\"text\":[\"61\"],\"textposition\":\"middle center\",\"x\":[854.0],\"y\":[185.0],\"type\":\"scatter\"},{\"marker\":{\"color\":\"PaleTurquoise\",\"line\":{\"color\":\"black\",\"width\":1},\"showscale\":false,\"size\":25},\"mode\":\"markers\",\"name\":\"zsub_62\",\"showlegend\":false,\"text\":[\"sub_62\"],\"x\":[1020.0],\"y\":[355.0],\"type\":\"scatter\"},{\"hoverinfo\":\"skip\",\"mode\":\"text\",\"name\":\"sub_62\",\"showlegend\":false,\"text\":[\"62\"],\"textposition\":\"middle center\",\"x\":[1020.0],\"y\":[355.0],\"type\":\"scatter\"},{\"marker\":{\"color\":\"PaleTurquoise\",\"line\":{\"color\":\"black\",\"width\":1},\"showscale\":false,\"size\":25},\"mode\":\"markers\",\"name\":\"zsub_63\",\"showlegend\":false,\"text\":[\"sub_63\"],\"x\":[1013.0],\"y\":[126.0],\"type\":\"scatter\"},{\"hoverinfo\":\"skip\",\"mode\":\"text\",\"name\":\"sub_63\",\"showlegend\":false,\"text\":[\"63\"],\"textposition\":\"middle center\",\"x\":[1013.0],\"y\":[126.0],\"type\":\"scatter\"},{\"marker\":{\"color\":\"PaleTurquoise\",\"line\":{\"color\":\"black\",\"width\":1},\"showscale\":false,\"size\":25},\"mode\":\"markers\",\"name\":\"zsub_64\",\"showlegend\":false,\"text\":[\"sub_64\"],\"x\":[786.0],\"y\":[7.0],\"type\":\"scatter\"},{\"hoverinfo\":\"skip\",\"mode\":\"text\",\"name\":\"sub_64\",\"showlegend\":false,\"text\":[\"64\"],\"textposition\":\"middle center\",\"x\":[786.0],\"y\":[7.0],\"type\":\"scatter\"},{\"marker\":{\"color\":\"PaleTurquoise\",\"line\":{\"color\":\"black\",\"width\":1},\"showscale\":false,\"size\":25},\"mode\":\"markers\",\"name\":\"zsub_65\",\"showlegend\":false,\"text\":[\"sub_65\"],\"x\":[747.0],\"y\":[102.0],\"type\":\"scatter\"},{\"hoverinfo\":\"skip\",\"mode\":\"text\",\"name\":\"sub_65\",\"showlegend\":false,\"text\":[\"65\"],\"textposition\":\"middle center\",\"x\":[747.0],\"y\":[102.0],\"type\":\"scatter\"},{\"marker\":{\"color\":\"PaleTurquoise\",\"line\":{\"color\":\"black\",\"width\":1},\"showscale\":false,\"size\":25},\"mode\":\"markers\",\"name\":\"zsub_66\",\"showlegend\":false,\"text\":[\"sub_66\"],\"x\":[841.0],\"y\":[94.0],\"type\":\"scatter\"},{\"hoverinfo\":\"skip\",\"mode\":\"text\",\"name\":\"sub_66\",\"showlegend\":false,\"text\":[\"66\"],\"textposition\":\"middle center\",\"x\":[841.0],\"y\":[94.0],\"type\":\"scatter\"},{\"marker\":{\"color\":\"PaleTurquoise\",\"line\":{\"color\":\"black\",\"width\":1},\"showscale\":false,\"size\":25},\"mode\":\"markers\",\"name\":\"zsub_67\",\"showlegend\":false,\"text\":[\"sub_67\"],\"x\":[579.0],\"y\":[25.0],\"type\":\"scatter\"},{\"hoverinfo\":\"skip\",\"mode\":\"text\",\"name\":\"sub_67\",\"showlegend\":false,\"text\":[\"67\"],\"textposition\":\"middle center\",\"x\":[579.0],\"y\":[25.0],\"type\":\"scatter\"},{\"marker\":{\"color\":\"PaleTurquoise\",\"line\":{\"color\":\"black\",\"width\":1},\"showscale\":false,\"size\":25},\"mode\":\"markers\",\"name\":\"zsub_68\",\"showlegend\":false,\"text\":[\"sub_68\"],\"x\":[485.0],\"y\":[51.0],\"type\":\"scatter\"},{\"hoverinfo\":\"skip\",\"mode\":\"text\",\"name\":\"sub_68\",\"showlegend\":false,\"text\":[\"68\"],\"textposition\":\"middle center\",\"x\":[485.0],\"y\":[51.0],\"type\":\"scatter\"},{\"marker\":{\"color\":\"PaleTurquoise\",\"line\":{\"color\":\"black\",\"width\":1},\"showscale\":false,\"size\":25},\"mode\":\"markers\",\"name\":\"zsub_69\",\"showlegend\":false,\"text\":[\"sub_69\"],\"x\":[160.0],\"y\":[41.0],\"type\":\"scatter\"},{\"hoverinfo\":\"skip\",\"mode\":\"text\",\"name\":\"sub_69\",\"showlegend\":false,\"text\":[\"69\"],\"textposition\":\"middle center\",\"x\":[160.0],\"y\":[41.0],\"type\":\"scatter\"},{\"marker\":{\"color\":\"PaleTurquoise\",\"line\":{\"color\":\"black\",\"width\":1},\"showscale\":false,\"size\":25},\"mode\":\"markers\",\"name\":\"zsub_70\",\"showlegend\":false,\"text\":[\"sub_70\"],\"x\":[93.0],\"y\":[124.0],\"type\":\"scatter\"},{\"hoverinfo\":\"skip\",\"mode\":\"text\",\"name\":\"sub_70\",\"showlegend\":false,\"text\":[\"70\"],\"textposition\":\"middle center\",\"x\":[93.0],\"y\":[124.0],\"type\":\"scatter\"},{\"marker\":{\"color\":\"PaleTurquoise\",\"line\":{\"color\":\"black\",\"width\":1},\"showscale\":false,\"size\":25},\"mode\":\"markers\",\"name\":\"zsub_71\",\"showlegend\":false,\"text\":[\"sub_71\"],\"x\":[-3.0],\"y\":[120.0],\"type\":\"scatter\"},{\"hoverinfo\":\"skip\",\"mode\":\"text\",\"name\":\"sub_71\",\"showlegend\":false,\"text\":[\"71\"],\"textposition\":\"middle center\",\"x\":[-3.0],\"y\":[120.0],\"type\":\"scatter\"},{\"marker\":{\"color\":\"PaleTurquoise\",\"line\":{\"color\":\"black\",\"width\":1},\"showscale\":false,\"size\":25},\"mode\":\"markers\",\"name\":\"zsub_72\",\"showlegend\":false,\"text\":[\"sub_72\"],\"x\":[207.0],\"y\":[107.0],\"type\":\"scatter\"},{\"hoverinfo\":\"skip\",\"mode\":\"text\",\"name\":\"sub_72\",\"showlegend\":false,\"text\":[\"72\"],\"textposition\":\"middle center\",\"x\":[207.0],\"y\":[107.0],\"type\":\"scatter\"},{\"marker\":{\"color\":\"PaleTurquoise\",\"line\":{\"color\":\"black\",\"width\":1},\"showscale\":false,\"size\":25},\"mode\":\"markers\",\"name\":\"zsub_73\",\"showlegend\":false,\"text\":[\"sub_73\"],\"x\":[69.0],\"y\":[-133.0],\"type\":\"scatter\"},{\"hoverinfo\":\"skip\",\"mode\":\"text\",\"name\":\"sub_73\",\"showlegend\":false,\"text\":[\"73\"],\"textposition\":\"middle center\",\"x\":[69.0],\"y\":[-133.0],\"type\":\"scatter\"},{\"marker\":{\"color\":\"PaleTurquoise\",\"line\":{\"color\":\"black\",\"width\":1},\"showscale\":false,\"size\":25},\"mode\":\"markers\",\"name\":\"zsub_74\",\"showlegend\":false,\"text\":[\"sub_74\"],\"x\":[160.0],\"y\":[-207.0],\"type\":\"scatter\"},{\"hoverinfo\":\"skip\",\"mode\":\"text\",\"name\":\"sub_74\",\"showlegend\":false,\"text\":[\"74\"],\"textposition\":\"middle center\",\"x\":[160.0],\"y\":[-207.0],\"type\":\"scatter\"},{\"marker\":{\"color\":\"PaleTurquoise\",\"line\":{\"color\":\"black\",\"width\":1},\"showscale\":false,\"size\":25},\"mode\":\"markers\",\"name\":\"zsub_75\",\"showlegend\":false,\"text\":[\"sub_75\"],\"x\":[398.0],\"y\":[-207.0],\"type\":\"scatter\"},{\"hoverinfo\":\"skip\",\"mode\":\"text\",\"name\":\"sub_75\",\"showlegend\":false,\"text\":[\"75\"],\"textposition\":\"middle center\",\"x\":[398.0],\"y\":[-207.0],\"type\":\"scatter\"},{\"marker\":{\"color\":\"PaleTurquoise\",\"line\":{\"color\":\"black\",\"width\":1},\"showscale\":false,\"size\":25},\"mode\":\"markers\",\"name\":\"zsub_76\",\"showlegend\":false,\"text\":[\"sub_76\"],\"x\":[464.0],\"y\":[-262.0],\"type\":\"scatter\"},{\"hoverinfo\":\"skip\",\"mode\":\"text\",\"name\":\"sub_76\",\"showlegend\":false,\"text\":[\"76\"],\"textposition\":\"middle center\",\"x\":[464.0],\"y\":[-262.0],\"type\":\"scatter\"},{\"marker\":{\"color\":\"PaleTurquoise\",\"line\":{\"color\":\"black\",\"width\":1},\"showscale\":false,\"size\":25},\"mode\":\"markers\",\"name\":\"zsub_77\",\"showlegend\":false,\"text\":[\"sub_77\"],\"x\":[514.0],\"y\":[-165.0],\"type\":\"scatter\"},{\"hoverinfo\":\"skip\",\"mode\":\"text\",\"name\":\"sub_77\",\"showlegend\":false,\"text\":[\"77\"],\"textposition\":\"middle center\",\"x\":[514.0],\"y\":[-165.0],\"type\":\"scatter\"},{\"marker\":{\"color\":\"PaleTurquoise\",\"line\":{\"color\":\"black\",\"width\":1},\"showscale\":false,\"size\":25},\"mode\":\"markers\",\"name\":\"zsub_78\",\"showlegend\":false,\"text\":[\"sub_78\"],\"x\":[547.0],\"y\":[-97.0],\"type\":\"scatter\"},{\"hoverinfo\":\"skip\",\"mode\":\"text\",\"name\":\"sub_78\",\"showlegend\":false,\"text\":[\"78\"],\"textposition\":\"middle center\",\"x\":[547.0],\"y\":[-97.0],\"type\":\"scatter\"},{\"marker\":{\"color\":\"PaleTurquoise\",\"line\":{\"color\":\"black\",\"width\":1},\"showscale\":false,\"size\":25},\"mode\":\"markers\",\"name\":\"zsub_79\",\"showlegend\":false,\"text\":[\"sub_79\"],\"x\":[599.0],\"y\":[-207.0],\"type\":\"scatter\"},{\"hoverinfo\":\"skip\",\"mode\":\"text\",\"name\":\"sub_79\",\"showlegend\":false,\"text\":[\"79\"],\"textposition\":\"middle center\",\"x\":[599.0],\"y\":[-207.0],\"type\":\"scatter\"},{\"marker\":{\"color\":\"PaleTurquoise\",\"line\":{\"color\":\"black\",\"width\":1},\"showscale\":false,\"size\":25},\"mode\":\"markers\",\"name\":\"zsub_80\",\"showlegend\":false,\"text\":[\"sub_80\"],\"x\":[621.0],\"y\":[-139.0],\"type\":\"scatter\"},{\"hoverinfo\":\"skip\",\"mode\":\"text\",\"name\":\"sub_80\",\"showlegend\":false,\"text\":[\"80\"],\"textposition\":\"middle center\",\"x\":[621.0],\"y\":[-139.0],\"type\":\"scatter\"},{\"marker\":{\"color\":\"PaleTurquoise\",\"line\":{\"color\":\"black\",\"width\":1},\"showscale\":false,\"size\":25},\"mode\":\"markers\",\"name\":\"zsub_81\",\"showlegend\":false,\"text\":[\"sub_81\"],\"x\":[393.0],\"y\":[-329.0],\"type\":\"scatter\"},{\"hoverinfo\":\"skip\",\"mode\":\"text\",\"name\":\"sub_81\",\"showlegend\":false,\"text\":[\"81\"],\"textposition\":\"middle center\",\"x\":[393.0],\"y\":[-329.0],\"type\":\"scatter\"},{\"marker\":{\"color\":\"PaleTurquoise\",\"line\":{\"color\":\"black\",\"width\":1},\"showscale\":false,\"size\":25},\"mode\":\"markers\",\"name\":\"zsub_82\",\"showlegend\":false,\"text\":[\"sub_82\"],\"x\":[149.0],\"y\":[-377.0],\"type\":\"scatter\"},{\"hoverinfo\":\"skip\",\"mode\":\"text\",\"name\":\"sub_82\",\"showlegend\":false,\"text\":[\"82\"],\"textposition\":\"middle center\",\"x\":[149.0],\"y\":[-377.0],\"type\":\"scatter\"},{\"marker\":{\"color\":\"PaleTurquoise\",\"line\":{\"color\":\"black\",\"width\":1},\"showscale\":false,\"size\":25},\"mode\":\"markers\",\"name\":\"zsub_83\",\"showlegend\":false,\"text\":[\"sub_83\"],\"x\":[89.0],\"y\":[-418.0],\"type\":\"scatter\"},{\"hoverinfo\":\"skip\",\"mode\":\"text\",\"name\":\"sub_83\",\"showlegend\":false,\"text\":[\"83\"],\"textposition\":\"middle center\",\"x\":[89.0],\"y\":[-418.0],\"type\":\"scatter\"},{\"marker\":{\"color\":\"PaleTurquoise\",\"line\":{\"color\":\"black\",\"width\":1},\"showscale\":false,\"size\":25},\"mode\":\"markers\",\"name\":\"zsub_84\",\"showlegend\":false,\"text\":[\"sub_84\"],\"x\":[112.0],\"y\":[-484.0],\"type\":\"scatter\"},{\"hoverinfo\":\"skip\",\"mode\":\"text\",\"name\":\"sub_84\",\"showlegend\":false,\"text\":[\"84\"],\"textposition\":\"middle center\",\"x\":[112.0],\"y\":[-484.0],\"type\":\"scatter\"},{\"marker\":{\"color\":\"PaleTurquoise\",\"line\":{\"color\":\"black\",\"width\":1},\"showscale\":false,\"size\":25},\"mode\":\"markers\",\"name\":\"zsub_85\",\"showlegend\":false,\"text\":[\"sub_85\"],\"x\":[118.0],\"y\":[-565.0],\"type\":\"scatter\"},{\"hoverinfo\":\"skip\",\"mode\":\"text\",\"name\":\"sub_85\",\"showlegend\":false,\"text\":[\"85\"],\"textposition\":\"middle center\",\"x\":[118.0],\"y\":[-565.0],\"type\":\"scatter\"},{\"marker\":{\"color\":\"PaleTurquoise\",\"line\":{\"color\":\"black\",\"width\":1},\"showscale\":false,\"size\":25},\"mode\":\"markers\",\"name\":\"zsub_86\",\"showlegend\":false,\"text\":[\"sub_86\"],\"x\":[181.0],\"y\":[-595.0],\"type\":\"scatter\"},{\"hoverinfo\":\"skip\",\"mode\":\"text\",\"name\":\"sub_86\",\"showlegend\":false,\"text\":[\"86\"],\"textposition\":\"middle center\",\"x\":[181.0],\"y\":[-595.0],\"type\":\"scatter\"},{\"marker\":{\"color\":\"PaleTurquoise\",\"line\":{\"color\":\"black\",\"width\":1},\"showscale\":false,\"size\":25},\"mode\":\"markers\",\"name\":\"zsub_87\",\"showlegend\":false,\"text\":[\"sub_87\"],\"x\":[205.0],\"y\":[-484.0],\"type\":\"scatter\"},{\"hoverinfo\":\"skip\",\"mode\":\"text\",\"name\":\"sub_87\",\"showlegend\":false,\"text\":[\"87\"],\"textposition\":\"middle center\",\"x\":[205.0],\"y\":[-484.0],\"type\":\"scatter\"},{\"marker\":{\"color\":\"PaleTurquoise\",\"line\":{\"color\":\"black\",\"width\":1},\"showscale\":false,\"size\":25},\"mode\":\"markers\",\"name\":\"zsub_88\",\"showlegend\":false,\"text\":[\"sub_88\"],\"x\":[313.0],\"y\":[-489.0],\"type\":\"scatter\"},{\"hoverinfo\":\"skip\",\"mode\":\"text\",\"name\":\"sub_88\",\"showlegend\":false,\"text\":[\"88\"],\"textposition\":\"middle center\",\"x\":[313.0],\"y\":[-489.0],\"type\":\"scatter\"},{\"marker\":{\"color\":\"PaleTurquoise\",\"line\":{\"color\":\"black\",\"width\":1},\"showscale\":false,\"size\":25},\"mode\":\"markers\",\"name\":\"zsub_89\",\"showlegend\":false,\"text\":[\"sub_89\"],\"x\":[321.0],\"y\":[-591.0],\"type\":\"scatter\"},{\"hoverinfo\":\"skip\",\"mode\":\"text\",\"name\":\"sub_89\",\"showlegend\":false,\"text\":[\"89\"],\"textposition\":\"middle center\",\"x\":[321.0],\"y\":[-591.0],\"type\":\"scatter\"},{\"marker\":{\"color\":\"PaleTurquoise\",\"line\":{\"color\":\"black\",\"width\":1},\"showscale\":false,\"size\":25},\"mode\":\"markers\",\"name\":\"zsub_90\",\"showlegend\":false,\"text\":[\"sub_90\"],\"x\":[504.0],\"y\":[-591.0],\"type\":\"scatter\"},{\"hoverinfo\":\"skip\",\"mode\":\"text\",\"name\":\"sub_90\",\"showlegend\":false,\"text\":[\"90\"],\"textposition\":\"middle center\",\"x\":[504.0],\"y\":[-591.0],\"type\":\"scatter\"},{\"marker\":{\"color\":\"PaleTurquoise\",\"line\":{\"color\":\"black\",\"width\":1},\"showscale\":false,\"size\":25},\"mode\":\"markers\",\"name\":\"zsub_91\",\"showlegend\":false,\"text\":[\"sub_91\"],\"x\":[517.0],\"y\":[-489.0],\"type\":\"scatter\"},{\"hoverinfo\":\"skip\",\"mode\":\"text\",\"name\":\"sub_91\",\"showlegend\":false,\"text\":[\"91\"],\"textposition\":\"middle center\",\"x\":[517.0],\"y\":[-489.0],\"type\":\"scatter\"},{\"marker\":{\"color\":\"PaleTurquoise\",\"line\":{\"color\":\"black\",\"width\":1},\"showscale\":false,\"size\":25},\"mode\":\"markers\",\"name\":\"zsub_92\",\"showlegend\":false,\"text\":[\"sub_92\"],\"x\":[642.0],\"y\":[-481.0],\"type\":\"scatter\"},{\"hoverinfo\":\"skip\",\"mode\":\"text\",\"name\":\"sub_92\",\"showlegend\":false,\"text\":[\"92\"],\"textposition\":\"middle center\",\"x\":[642.0],\"y\":[-481.0],\"type\":\"scatter\"},{\"marker\":{\"color\":\"PaleTurquoise\",\"line\":{\"color\":\"black\",\"width\":1},\"showscale\":false,\"size\":25},\"mode\":\"markers\",\"name\":\"zsub_93\",\"showlegend\":false,\"text\":[\"sub_93\"],\"x\":[646.0],\"y\":[-377.0],\"type\":\"scatter\"},{\"hoverinfo\":\"skip\",\"mode\":\"text\",\"name\":\"sub_93\",\"showlegend\":false,\"text\":[\"93\"],\"textposition\":\"middle center\",\"x\":[646.0],\"y\":[-377.0],\"type\":\"scatter\"},{\"marker\":{\"color\":\"PaleTurquoise\",\"line\":{\"color\":\"black\",\"width\":1},\"showscale\":false,\"size\":25},\"mode\":\"markers\",\"name\":\"zsub_94\",\"showlegend\":false,\"text\":[\"sub_94\"],\"x\":[559.0],\"y\":[-377.0],\"type\":\"scatter\"},{\"hoverinfo\":\"skip\",\"mode\":\"text\",\"name\":\"sub_94\",\"showlegend\":false,\"text\":[\"94\"],\"textposition\":\"middle center\",\"x\":[559.0],\"y\":[-377.0],\"type\":\"scatter\"},{\"marker\":{\"color\":\"PaleTurquoise\",\"line\":{\"color\":\"black\",\"width\":1},\"showscale\":false,\"size\":25},\"mode\":\"markers\",\"name\":\"zsub_95\",\"showlegend\":false,\"text\":[\"sub_95\"],\"x\":[583.0],\"y\":[-331.0],\"type\":\"scatter\"},{\"hoverinfo\":\"skip\",\"mode\":\"text\",\"name\":\"sub_95\",\"showlegend\":false,\"text\":[\"95\"],\"textposition\":\"middle center\",\"x\":[583.0],\"y\":[-331.0],\"type\":\"scatter\"},{\"marker\":{\"color\":\"PaleTurquoise\",\"line\":{\"color\":\"black\",\"width\":1},\"showscale\":false,\"size\":25},\"mode\":\"markers\",\"name\":\"zsub_96\",\"showlegend\":false,\"text\":[\"sub_96\"],\"x\":[541.0],\"y\":[-280.0],\"type\":\"scatter\"},{\"hoverinfo\":\"skip\",\"mode\":\"text\",\"name\":\"sub_96\",\"showlegend\":false,\"text\":[\"96\"],\"textposition\":\"middle center\",\"x\":[541.0],\"y\":[-280.0],\"type\":\"scatter\"},{\"marker\":{\"color\":\"PaleTurquoise\",\"line\":{\"color\":\"black\",\"width\":1},\"showscale\":false,\"size\":25},\"mode\":\"markers\",\"name\":\"zsub_97\",\"showlegend\":false,\"text\":[\"sub_97\"],\"x\":[691.0],\"y\":[-251.0],\"type\":\"scatter\"},{\"hoverinfo\":\"skip\",\"mode\":\"text\",\"name\":\"sub_97\",\"showlegend\":false,\"text\":[\"97\"],\"textposition\":\"middle center\",\"x\":[691.0],\"y\":[-251.0],\"type\":\"scatter\"},{\"marker\":{\"color\":\"PaleTurquoise\",\"line\":{\"color\":\"black\",\"width\":1},\"showscale\":false,\"size\":25},\"mode\":\"markers\",\"name\":\"zsub_98\",\"showlegend\":false,\"text\":[\"sub_98\"],\"x\":[776.0],\"y\":[-209.0],\"type\":\"scatter\"},{\"hoverinfo\":\"skip\",\"mode\":\"text\",\"name\":\"sub_98\",\"showlegend\":false,\"text\":[\"98\"],\"textposition\":\"middle center\",\"x\":[776.0],\"y\":[-209.0],\"type\":\"scatter\"},{\"marker\":{\"color\":\"PaleTurquoise\",\"line\":{\"color\":\"black\",\"width\":1},\"showscale\":false,\"size\":25},\"mode\":\"markers\",\"name\":\"zsub_99\",\"showlegend\":false,\"text\":[\"sub_99\"],\"x\":[760.0],\"y\":[-377.0],\"type\":\"scatter\"},{\"hoverinfo\":\"skip\",\"mode\":\"text\",\"name\":\"sub_99\",\"showlegend\":false,\"text\":[\"99\"],\"textposition\":\"middle center\",\"x\":[760.0],\"y\":[-377.0],\"type\":\"scatter\"},{\"marker\":{\"color\":\"PaleTurquoise\",\"line\":{\"color\":\"black\",\"width\":1},\"showscale\":false,\"size\":25},\"mode\":\"markers\",\"name\":\"zsub_100\",\"showlegend\":false,\"text\":[\"sub_100\"],\"x\":[720.0],\"y\":[-537.0],\"type\":\"scatter\"},{\"hoverinfo\":\"skip\",\"mode\":\"text\",\"name\":\"sub_100\",\"showlegend\":false,\"text\":[\"100\"],\"textposition\":\"middle center\",\"x\":[720.0],\"y\":[-537.0],\"type\":\"scatter\"},{\"marker\":{\"color\":\"PaleTurquoise\",\"line\":{\"color\":\"black\",\"width\":1},\"showscale\":false,\"size\":25},\"mode\":\"markers\",\"name\":\"zsub_101\",\"showlegend\":false,\"text\":[\"sub_101\"],\"x\":[596.0],\"y\":[-535.0],\"type\":\"scatter\"},{\"hoverinfo\":\"skip\",\"mode\":\"text\",\"name\":\"sub_101\",\"showlegend\":false,\"text\":[\"101\"],\"textposition\":\"middle center\",\"x\":[596.0],\"y\":[-535.0],\"type\":\"scatter\"},{\"marker\":{\"color\":\"PaleTurquoise\",\"line\":{\"color\":\"black\",\"width\":1},\"showscale\":false,\"size\":25},\"mode\":\"markers\",\"name\":\"zsub_102\",\"showlegend\":false,\"text\":[\"sub_102\"],\"x\":[860.0],\"y\":[-537.0],\"type\":\"scatter\"},{\"hoverinfo\":\"skip\",\"mode\":\"text\",\"name\":\"sub_102\",\"showlegend\":false,\"text\":[\"102\"],\"textposition\":\"middle center\",\"x\":[860.0],\"y\":[-537.0],\"type\":\"scatter\"},{\"marker\":{\"color\":\"PaleTurquoise\",\"line\":{\"color\":\"black\",\"width\":1},\"showscale\":false,\"size\":25},\"mode\":\"markers\",\"name\":\"zsub_103\",\"showlegend\":false,\"text\":[\"sub_103\"],\"x\":[871.0],\"y\":[-373.0],\"type\":\"scatter\"},{\"hoverinfo\":\"skip\",\"mode\":\"text\",\"name\":\"sub_103\",\"showlegend\":false,\"text\":[\"103\"],\"textposition\":\"middle center\",\"x\":[871.0],\"y\":[-373.0],\"type\":\"scatter\"},{\"marker\":{\"color\":\"PaleTurquoise\",\"line\":{\"color\":\"black\",\"width\":1},\"showscale\":false,\"size\":25},\"mode\":\"markers\",\"name\":\"zsub_104\",\"showlegend\":false,\"text\":[\"sub_104\"],\"x\":[964.0],\"y\":[-377.0],\"type\":\"scatter\"},{\"hoverinfo\":\"skip\",\"mode\":\"text\",\"name\":\"sub_104\",\"showlegend\":false,\"text\":[\"104\"],\"textposition\":\"middle center\",\"x\":[964.0],\"y\":[-377.0],\"type\":\"scatter\"},{\"marker\":{\"color\":\"PaleTurquoise\",\"line\":{\"color\":\"black\",\"width\":1},\"showscale\":false,\"size\":25},\"mode\":\"markers\",\"name\":\"zsub_105\",\"showlegend\":false,\"text\":[\"sub_105\"],\"x\":[961.0],\"y\":[-245.0],\"type\":\"scatter\"},{\"hoverinfo\":\"skip\",\"mode\":\"text\",\"name\":\"sub_105\",\"showlegend\":false,\"text\":[\"105\"],\"textposition\":\"middle center\",\"x\":[961.0],\"y\":[-245.0],\"type\":\"scatter\"},{\"marker\":{\"color\":\"PaleTurquoise\",\"line\":{\"color\":\"black\",\"width\":1},\"showscale\":false,\"size\":25},\"mode\":\"markers\",\"name\":\"zsub_106\",\"showlegend\":false,\"text\":[\"sub_106\"],\"x\":[1067.0],\"y\":[-377.0],\"type\":\"scatter\"},{\"hoverinfo\":\"skip\",\"mode\":\"text\",\"name\":\"sub_106\",\"showlegend\":false,\"text\":[\"106\"],\"textposition\":\"middle center\",\"x\":[1067.0],\"y\":[-377.0],\"type\":\"scatter\"},{\"marker\":{\"color\":\"PaleTurquoise\",\"line\":{\"color\":\"black\",\"width\":1},\"showscale\":false,\"size\":25},\"mode\":\"markers\",\"name\":\"zsub_107\",\"showlegend\":false,\"text\":[\"sub_107\"],\"x\":[1047.0],\"y\":[-444.0],\"type\":\"scatter\"},{\"hoverinfo\":\"skip\",\"mode\":\"text\",\"name\":\"sub_107\",\"showlegend\":false,\"text\":[\"107\"],\"textposition\":\"middle center\",\"x\":[1047.0],\"y\":[-444.0],\"type\":\"scatter\"},{\"marker\":{\"color\":\"PaleTurquoise\",\"line\":{\"color\":\"black\",\"width\":1},\"showscale\":false,\"size\":25},\"mode\":\"markers\",\"name\":\"zsub_108\",\"showlegend\":false,\"text\":[\"sub_108\"],\"x\":[1053.0],\"y\":[-519.0],\"type\":\"scatter\"},{\"hoverinfo\":\"skip\",\"mode\":\"text\",\"name\":\"sub_108\",\"showlegend\":false,\"text\":[\"108\"],\"textposition\":\"middle center\",\"x\":[1053.0],\"y\":[-519.0],\"type\":\"scatter\"},{\"marker\":{\"color\":\"PaleTurquoise\",\"line\":{\"color\":\"black\",\"width\":1},\"showscale\":false,\"size\":25},\"mode\":\"markers\",\"name\":\"zsub_109\",\"showlegend\":false,\"text\":[\"sub_109\"],\"x\":[953.0],\"y\":[-585.0],\"type\":\"scatter\"},{\"hoverinfo\":\"skip\",\"mode\":\"text\",\"name\":\"sub_109\",\"showlegend\":false,\"text\":[\"109\"],\"textposition\":\"middle center\",\"x\":[953.0],\"y\":[-585.0],\"type\":\"scatter\"},{\"marker\":{\"color\":\"PaleTurquoise\",\"line\":{\"color\":\"black\",\"width\":1},\"showscale\":false,\"size\":25},\"mode\":\"markers\",\"name\":\"zsub_110\",\"showlegend\":false,\"text\":[\"sub_110\"],\"x\":[871.0],\"y\":[-600.0],\"type\":\"scatter\"},{\"hoverinfo\":\"skip\",\"mode\":\"text\",\"name\":\"sub_110\",\"showlegend\":false,\"text\":[\"110\"],\"textposition\":\"middle center\",\"x\":[871.0],\"y\":[-600.0],\"type\":\"scatter\"},{\"marker\":{\"color\":\"PaleTurquoise\",\"line\":{\"color\":\"black\",\"width\":1},\"showscale\":false,\"size\":25},\"mode\":\"markers\",\"name\":\"zsub_111\",\"showlegend\":false,\"text\":[\"sub_111\"],\"x\":[1064.0],\"y\":[-585.0],\"type\":\"scatter\"},{\"hoverinfo\":\"skip\",\"mode\":\"text\",\"name\":\"sub_111\",\"showlegend\":false,\"text\":[\"111\"],\"textposition\":\"middle center\",\"x\":[1064.0],\"y\":[-585.0],\"type\":\"scatter\"},{\"marker\":{\"color\":\"PaleTurquoise\",\"line\":{\"color\":\"black\",\"width\":1},\"showscale\":false,\"size\":25},\"mode\":\"markers\",\"name\":\"zsub_112\",\"showlegend\":false,\"text\":[\"sub_112\"],\"x\":[-715.0],\"y\":[178.0],\"type\":\"scatter\"},{\"hoverinfo\":\"skip\",\"mode\":\"text\",\"name\":\"sub_112\",\"showlegend\":false,\"text\":[\"112\"],\"textposition\":\"middle center\",\"x\":[-715.0],\"y\":[178.0],\"type\":\"scatter\"},{\"marker\":{\"color\":\"PaleTurquoise\",\"line\":{\"color\":\"black\",\"width\":1},\"showscale\":false,\"size\":25},\"mode\":\"markers\",\"name\":\"zsub_113\",\"showlegend\":false,\"text\":[\"sub_113\"],\"x\":[-683.0],\"y\":[-53.0],\"type\":\"scatter\"},{\"hoverinfo\":\"skip\",\"mode\":\"text\",\"name\":\"sub_113\",\"showlegend\":false,\"text\":[\"113\"],\"textposition\":\"middle center\",\"x\":[-683.0],\"y\":[-53.0],\"type\":\"scatter\"},{\"marker\":{\"color\":\"PaleTurquoise\",\"line\":{\"color\":\"black\",\"width\":1},\"showscale\":false,\"size\":25},\"mode\":\"markers\",\"name\":\"zsub_114\",\"showlegend\":false,\"text\":[\"sub_114\"],\"x\":[-665.0],\"y\":[-122.0],\"type\":\"scatter\"},{\"hoverinfo\":\"skip\",\"mode\":\"text\",\"name\":\"sub_114\",\"showlegend\":false,\"text\":[\"114\"],\"textposition\":\"middle center\",\"x\":[-665.0],\"y\":[-122.0],\"type\":\"scatter\"},{\"marker\":{\"color\":\"PaleTurquoise\",\"line\":{\"color\":\"black\",\"width\":1},\"showscale\":false,\"size\":25},\"mode\":\"markers\",\"name\":\"zsub_115\",\"showlegend\":false,\"text\":[\"sub_115\"],\"x\":[671.0],\"y\":[-42.0],\"type\":\"scatter\"},{\"hoverinfo\":\"skip\",\"mode\":\"text\",\"name\":\"sub_115\",\"showlegend\":false,\"text\":[\"115\"],\"textposition\":\"middle center\",\"x\":[671.0],\"y\":[-42.0],\"type\":\"scatter\"},{\"marker\":{\"color\":\"PaleTurquoise\",\"line\":{\"color\":\"black\",\"width\":1},\"showscale\":false,\"size\":25},\"mode\":\"markers\",\"name\":\"zsub_116\",\"showlegend\":false,\"text\":[\"sub_116\"],\"x\":[-625.0],\"y\":[592.0],\"type\":\"scatter\"},{\"hoverinfo\":\"skip\",\"mode\":\"text\",\"name\":\"sub_116\",\"showlegend\":false,\"text\":[\"116\"],\"textposition\":\"middle center\",\"x\":[-625.0],\"y\":[592.0],\"type\":\"scatter\"},{\"marker\":{\"color\":\"PaleTurquoise\",\"line\":{\"color\":\"black\",\"width\":1},\"showscale\":false,\"size\":25},\"mode\":\"markers\",\"name\":\"zsub_117\",\"showlegend\":false,\"text\":[\"sub_117\"],\"x\":[299.0],\"y\":[-172.0],\"type\":\"scatter\"},{\"hoverinfo\":\"skip\",\"mode\":\"text\",\"name\":\"sub_117\",\"showlegend\":false,\"text\":[\"117\"],\"textposition\":\"middle center\",\"x\":[299.0],\"y\":[-172.0],\"type\":\"scatter\"}],                        {\"template\":{\"data\":{\"histogram2dcontour\":[{\"type\":\"histogram2dcontour\",\"colorbar\":{\"outlinewidth\":0,\"ticks\":\"\"},\"colorscale\":[[0.0,\"#0d0887\"],[0.1111111111111111,\"#46039f\"],[0.2222222222222222,\"#7201a8\"],[0.3333333333333333,\"#9c179e\"],[0.4444444444444444,\"#bd3786\"],[0.5555555555555556,\"#d8576b\"],[0.6666666666666666,\"#ed7953\"],[0.7777777777777778,\"#fb9f3a\"],[0.8888888888888888,\"#fdca26\"],[1.0,\"#f0f921\"]]}],\"choropleth\":[{\"type\":\"choropleth\",\"colorbar\":{\"outlinewidth\":0,\"ticks\":\"\"}}],\"histogram2d\":[{\"type\":\"histogram2d\",\"colorbar\":{\"outlinewidth\":0,\"ticks\":\"\"},\"colorscale\":[[0.0,\"#0d0887\"],[0.1111111111111111,\"#46039f\"],[0.2222222222222222,\"#7201a8\"],[0.3333333333333333,\"#9c179e\"],[0.4444444444444444,\"#bd3786\"],[0.5555555555555556,\"#d8576b\"],[0.6666666666666666,\"#ed7953\"],[0.7777777777777778,\"#fb9f3a\"],[0.8888888888888888,\"#fdca26\"],[1.0,\"#f0f921\"]]}],\"heatmap\":[{\"type\":\"heatmap\",\"colorbar\":{\"outlinewidth\":0,\"ticks\":\"\"},\"colorscale\":[[0.0,\"#0d0887\"],[0.1111111111111111,\"#46039f\"],[0.2222222222222222,\"#7201a8\"],[0.3333333333333333,\"#9c179e\"],[0.4444444444444444,\"#bd3786\"],[0.5555555555555556,\"#d8576b\"],[0.6666666666666666,\"#ed7953\"],[0.7777777777777778,\"#fb9f3a\"],[0.8888888888888888,\"#fdca26\"],[1.0,\"#f0f921\"]]}],\"heatmapgl\":[{\"type\":\"heatmapgl\",\"colorbar\":{\"outlinewidth\":0,\"ticks\":\"\"},\"colorscale\":[[0.0,\"#0d0887\"],[0.1111111111111111,\"#46039f\"],[0.2222222222222222,\"#7201a8\"],[0.3333333333333333,\"#9c179e\"],[0.4444444444444444,\"#bd3786\"],[0.5555555555555556,\"#d8576b\"],[0.6666666666666666,\"#ed7953\"],[0.7777777777777778,\"#fb9f3a\"],[0.8888888888888888,\"#fdca26\"],[1.0,\"#f0f921\"]]}],\"contourcarpet\":[{\"type\":\"contourcarpet\",\"colorbar\":{\"outlinewidth\":0,\"ticks\":\"\"}}],\"contour\":[{\"type\":\"contour\",\"colorbar\":{\"outlinewidth\":0,\"ticks\":\"\"},\"colorscale\":[[0.0,\"#0d0887\"],[0.1111111111111111,\"#46039f\"],[0.2222222222222222,\"#7201a8\"],[0.3333333333333333,\"#9c179e\"],[0.4444444444444444,\"#bd3786\"],[0.5555555555555556,\"#d8576b\"],[0.6666666666666666,\"#ed7953\"],[0.7777777777777778,\"#fb9f3a\"],[0.8888888888888888,\"#fdca26\"],[1.0,\"#f0f921\"]]}],\"surface\":[{\"type\":\"surface\",\"colorbar\":{\"outlinewidth\":0,\"ticks\":\"\"},\"colorscale\":[[0.0,\"#0d0887\"],[0.1111111111111111,\"#46039f\"],[0.2222222222222222,\"#7201a8\"],[0.3333333333333333,\"#9c179e\"],[0.4444444444444444,\"#bd3786\"],[0.5555555555555556,\"#d8576b\"],[0.6666666666666666,\"#ed7953\"],[0.7777777777777778,\"#fb9f3a\"],[0.8888888888888888,\"#fdca26\"],[1.0,\"#f0f921\"]]}],\"mesh3d\":[{\"type\":\"mesh3d\",\"colorbar\":{\"outlinewidth\":0,\"ticks\":\"\"}}],\"scatter\":[{\"fillpattern\":{\"fillmode\":\"overlay\",\"size\":10,\"solidity\":0.2},\"type\":\"scatter\"}],\"parcoords\":[{\"type\":\"parcoords\",\"line\":{\"colorbar\":{\"outlinewidth\":0,\"ticks\":\"\"}}}],\"scatterpolargl\":[{\"type\":\"scatterpolargl\",\"marker\":{\"colorbar\":{\"outlinewidth\":0,\"ticks\":\"\"}}}],\"bar\":[{\"error_x\":{\"color\":\"#2a3f5f\"},\"error_y\":{\"color\":\"#2a3f5f\"},\"marker\":{\"line\":{\"color\":\"#E5ECF6\",\"width\":0.5},\"pattern\":{\"fillmode\":\"overlay\",\"size\":10,\"solidity\":0.2}},\"type\":\"bar\"}],\"scattergeo\":[{\"type\":\"scattergeo\",\"marker\":{\"colorbar\":{\"outlinewidth\":0,\"ticks\":\"\"}}}],\"scatterpolar\":[{\"type\":\"scatterpolar\",\"marker\":{\"colorbar\":{\"outlinewidth\":0,\"ticks\":\"\"}}}],\"histogram\":[{\"marker\":{\"pattern\":{\"fillmode\":\"overlay\",\"size\":10,\"solidity\":0.2}},\"type\":\"histogram\"}],\"scattergl\":[{\"type\":\"scattergl\",\"marker\":{\"colorbar\":{\"outlinewidth\":0,\"ticks\":\"\"}}}],\"scatter3d\":[{\"type\":\"scatter3d\",\"line\":{\"colorbar\":{\"outlinewidth\":0,\"ticks\":\"\"}},\"marker\":{\"colorbar\":{\"outlinewidth\":0,\"ticks\":\"\"}}}],\"scattermapbox\":[{\"type\":\"scattermapbox\",\"marker\":{\"colorbar\":{\"outlinewidth\":0,\"ticks\":\"\"}}}],\"scatterternary\":[{\"type\":\"scatterternary\",\"marker\":{\"colorbar\":{\"outlinewidth\":0,\"ticks\":\"\"}}}],\"scattercarpet\":[{\"type\":\"scattercarpet\",\"marker\":{\"colorbar\":{\"outlinewidth\":0,\"ticks\":\"\"}}}],\"carpet\":[{\"aaxis\":{\"endlinecolor\":\"#2a3f5f\",\"gridcolor\":\"white\",\"linecolor\":\"white\",\"minorgridcolor\":\"white\",\"startlinecolor\":\"#2a3f5f\"},\"baxis\":{\"endlinecolor\":\"#2a3f5f\",\"gridcolor\":\"white\",\"linecolor\":\"white\",\"minorgridcolor\":\"white\",\"startlinecolor\":\"#2a3f5f\"},\"type\":\"carpet\"}],\"table\":[{\"cells\":{\"fill\":{\"color\":\"#EBF0F8\"},\"line\":{\"color\":\"white\"}},\"header\":{\"fill\":{\"color\":\"#C8D4E3\"},\"line\":{\"color\":\"white\"}},\"type\":\"table\"}],\"barpolar\":[{\"marker\":{\"line\":{\"color\":\"#E5ECF6\",\"width\":0.5},\"pattern\":{\"fillmode\":\"overlay\",\"size\":10,\"solidity\":0.2}},\"type\":\"barpolar\"}],\"pie\":[{\"automargin\":true,\"type\":\"pie\"}]},\"layout\":{\"autotypenumbers\":\"strict\",\"colorway\":[\"#636efa\",\"#EF553B\",\"#00cc96\",\"#ab63fa\",\"#FFA15A\",\"#19d3f3\",\"#FF6692\",\"#B6E880\",\"#FF97FF\",\"#FECB52\"],\"font\":{\"color\":\"#2a3f5f\"},\"hovermode\":\"closest\",\"hoverlabel\":{\"align\":\"left\"},\"paper_bgcolor\":\"white\",\"plot_bgcolor\":\"#E5ECF6\",\"polar\":{\"bgcolor\":\"#E5ECF6\",\"angularaxis\":{\"gridcolor\":\"white\",\"linecolor\":\"white\",\"ticks\":\"\"},\"radialaxis\":{\"gridcolor\":\"white\",\"linecolor\":\"white\",\"ticks\":\"\"}},\"ternary\":{\"bgcolor\":\"#E5ECF6\",\"aaxis\":{\"gridcolor\":\"white\",\"linecolor\":\"white\",\"ticks\":\"\"},\"baxis\":{\"gridcolor\":\"white\",\"linecolor\":\"white\",\"ticks\":\"\"},\"caxis\":{\"gridcolor\":\"white\",\"linecolor\":\"white\",\"ticks\":\"\"}},\"coloraxis\":{\"colorbar\":{\"outlinewidth\":0,\"ticks\":\"\"}},\"colorscale\":{\"sequential\":[[0.0,\"#0d0887\"],[0.1111111111111111,\"#46039f\"],[0.2222222222222222,\"#7201a8\"],[0.3333333333333333,\"#9c179e\"],[0.4444444444444444,\"#bd3786\"],[0.5555555555555556,\"#d8576b\"],[0.6666666666666666,\"#ed7953\"],[0.7777777777777778,\"#fb9f3a\"],[0.8888888888888888,\"#fdca26\"],[1.0,\"#f0f921\"]],\"sequentialminus\":[[0.0,\"#0d0887\"],[0.1111111111111111,\"#46039f\"],[0.2222222222222222,\"#7201a8\"],[0.3333333333333333,\"#9c179e\"],[0.4444444444444444,\"#bd3786\"],[0.5555555555555556,\"#d8576b\"],[0.6666666666666666,\"#ed7953\"],[0.7777777777777778,\"#fb9f3a\"],[0.8888888888888888,\"#fdca26\"],[1.0,\"#f0f921\"]],\"diverging\":[[0,\"#8e0152\"],[0.1,\"#c51b7d\"],[0.2,\"#de77ae\"],[0.3,\"#f1b6da\"],[0.4,\"#fde0ef\"],[0.5,\"#f7f7f7\"],[0.6,\"#e6f5d0\"],[0.7,\"#b8e186\"],[0.8,\"#7fbc41\"],[0.9,\"#4d9221\"],[1,\"#276419\"]]},\"xaxis\":{\"gridcolor\":\"white\",\"linecolor\":\"white\",\"ticks\":\"\",\"title\":{\"standoff\":15},\"zerolinecolor\":\"white\",\"automargin\":true,\"zerolinewidth\":2},\"yaxis\":{\"gridcolor\":\"white\",\"linecolor\":\"white\",\"ticks\":\"\",\"title\":{\"standoff\":15},\"zerolinecolor\":\"white\",\"automargin\":true,\"zerolinewidth\":2},\"scene\":{\"xaxis\":{\"backgroundcolor\":\"#E5ECF6\",\"gridcolor\":\"white\",\"linecolor\":\"white\",\"showbackground\":true,\"ticks\":\"\",\"zerolinecolor\":\"white\",\"gridwidth\":2},\"yaxis\":{\"backgroundcolor\":\"#E5ECF6\",\"gridcolor\":\"white\",\"linecolor\":\"white\",\"showbackground\":true,\"ticks\":\"\",\"zerolinecolor\":\"white\",\"gridwidth\":2},\"zaxis\":{\"backgroundcolor\":\"#E5ECF6\",\"gridcolor\":\"white\",\"linecolor\":\"white\",\"showbackground\":true,\"ticks\":\"\",\"zerolinecolor\":\"white\",\"gridwidth\":2}},\"shapedefaults\":{\"line\":{\"color\":\"#2a3f5f\"}},\"annotationdefaults\":{\"arrowcolor\":\"#2a3f5f\",\"arrowhead\":0,\"arrowwidth\":1},\"geo\":{\"bgcolor\":\"white\",\"landcolor\":\"#E5ECF6\",\"subunitcolor\":\"white\",\"showland\":true,\"showlakes\":true,\"lakecolor\":\"white\"},\"title\":{\"x\":0.05},\"mapbox\":{\"style\":\"light\"}}},\"xaxis\":{\"visible\":false},\"yaxis\":{\"visible\":false},\"margin\":{\"l\":0,\"r\":0,\"b\":0,\"t\":0,\"pad\":0},\"width\":1280,\"height\":720,\"plot_bgcolor\":\"rgba(0,0,0,0)\",\"showlegend\":false},                        {\"responsive\": true}                    ).then(function(){\n",
       "                            \n",
       "var gd = document.getElementById('f6b1afff-19bb-4783-92cc-369ea822f228');\n",
       "var x = new MutationObserver(function (mutations, observer) {{\n",
       "        var display = window.getComputedStyle(gd).display;\n",
       "        if (!display || display === 'none') {{\n",
       "            console.log([gd, 'removed!']);\n",
       "            Plotly.purge(gd);\n",
       "            observer.disconnect();\n",
       "        }}\n",
       "}});\n",
       "\n",
       "// Listen for the removal of the full notebook cells\n",
       "var notebookContainer = gd.closest('#notebook-container');\n",
       "if (notebookContainer) {{\n",
       "    x.observe(notebookContainer, {childList: true});\n",
       "}}\n",
       "\n",
       "// Listen for the clearing of the current output cell\n",
       "var outputEl = gd.closest('.output');\n",
       "if (outputEl) {{\n",
       "    x.observe(outputEl, {childList: true});\n",
       "}}\n",
       "\n",
       "                        })                };                });            </script>        </div>"
      ]
     },
     "metadata": {},
     "output_type": "display_data"
    }
   ],
   "source": [
    "from grid2op.PlotGrid import PlotPlotly #PlotMatplot\n",
    "plot_helper = PlotPlotly(env.observation_space)\n",
    "obs_simu, reward, done, _=obs.simulate(action=action)\n",
    "fig = plot_helper.plot_obs(obs_simu,line_info=None,\n",
    "                                  load_info=None,  # i don't plot anything concerning the load\n",
    "                                  gen_info=None)\n",
    "fig.show()"
   ]
  },
  {
   "cell_type": "markdown",
   "metadata": {},
   "source": [
    "print(action)"
   ]
  }
 ],
 "metadata": {
  "kernelspec": {
   "display_name": "Python 3 (ipykernel)",
   "language": "python",
   "name": "python3"
  },
  "language_info": {
   "codemirror_mode": {
    "name": "ipython",
    "version": 3
   },
   "file_extension": ".py",
   "mimetype": "text/x-python",
   "name": "python",
   "nbconvert_exporter": "python",
   "pygments_lexer": "ipython3",
   "version": "3.8.10"
  }
 },
 "nbformat": 4,
 "nbformat_minor": 4
}
