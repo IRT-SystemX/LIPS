{
 "cells": [
  {
   "cell_type": "markdown",
   "id": "12c5aeb5",
   "metadata": {},
   "source": [
    "# Initial step: load the dataset (Benchmark3)\n",
    "\n",
    "A common dataset generated in the context of second benchmark will be used to evaluate the augmented simulators. This initial step aims at loading it once and for all."
   ]
  },
  {
   "cell_type": "code",
   "execution_count": 1,
   "id": "b1650b84",
   "metadata": {},
   "outputs": [],
   "source": [
    "import os\n",
    "from pprint import pprint\n",
    "from lips.neurips_benchmark import NeuripsBenchmark3\n",
    "path_benchmark = os.path.join(\"reference_data\")\n",
    "neurips_benchmark3 = NeuripsBenchmark3(path_benchmark=path_benchmark,\n",
    "                                       load_data_set=True)"
   ]
  },
  {
   "cell_type": "markdown",
   "id": "2136be48",
   "metadata": {},
   "source": [
    "# Training an augmented simulator \n",
    "In this benchmark the augmented simulators will predict all the power flow related variables (active $p$ and reactive $q$ powers, voltages $v$ and currents $a$) alongside the voltage angles ($\\theta$) contrary to the first and second benchmarks which were concentrated only on power flow variables.\n",
    "\n",
    "## Fully connected architecture\n",
    "In this section we explain how to tune an available model. We take the example of the `FullyConnectedAS` that is an available fully connected neural network.\n",
    "\n",
    "The first step is to create the class you want to use, with the meta parameters you want to test. For this example: "
   ]
  },
  {
   "cell_type": "code",
   "execution_count": 2,
   "id": "9fd0d8eb",
   "metadata": {},
   "outputs": [],
   "source": [
    "path_save = os.path.join(\"trained_models\")\n",
    "if not os.path.exists(path_save):\n",
    "    os.mkdir(path_save)\n",
    "\n",
    "from tensorflow.keras.layers import Dense\n",
    "from lips.augmented_simulators import FullyConnectedAS\n",
    "\n",
    "# the three lines bellow might be familiar to the tensorflow users. They tell tensorflow to not take all\n",
    "# the GPU video RAM for the model.\n",
    "import tensorflow as tf\n",
    "physical_devices = tf.config.list_physical_devices('GPU') \n",
    "for el in physical_devices:\n",
    "    tf.config.experimental.set_memory_growth(el, True)\n",
    "\n",
    "simulator_FC = FullyConnectedAS(name=\"test_FullyConnectedAS_benchmark3\",\n",
    "                                # `attr_x` represents the variables of the dataset you want to use to predict \n",
    "                                # the output.\n",
    "                                attr_x=(\"prod_p\", \"prod_v\", \"load_p\", \"load_q\", \"line_status\", \"topo_vect\"),\n",
    "                                # `attr_y` represents the variables of the dataset you want to predict\n",
    "                                # flow variables alongside the angles are added\n",
    "                                attr_y=(\"a_or\", \"a_ex\", \"p_or\", \"p_ex\", \"q_ex\", \"q_or\", \"v_or\", \"v_ex\", \"load_v\", \"prod_q\", \"theta_or\", \"theta_ex\"),\n",
    "                                # `sizes_layer` represents the size of each hidden layer in the neural network. The number\n",
    "                                # of layers is determined by the length of this list, for example\n",
    "                                sizes_layer=(300, 300, 300, 300),\n",
    "                                # `lr` is the learning rate\n",
    "                                lr=3e-4, \n",
    "                                # `layer` is the type of keras layer you want to use. We don't recommend to \n",
    "                                # change it\n",
    "                                layer=Dense,\n",
    "                                # `layer_act` is the activation function you want to use after each layer\n",
    "                                layer_act=\"relu\",\n",
    "                                # `loss` is the training loss\n",
    "                                loss=\"mse\",  # loss used to train the model\n",
    "                                # `batch_size` is the size of the batch for training\n",
    "                                batch_size=128)"
   ]
  },
  {
   "cell_type": "code",
   "execution_count": null,
   "id": "0394531b",
   "metadata": {},
   "outputs": [],
   "source": [
    "simulator_FC.train(nb_iter=200,\n",
    "                   train_dataset=neurips_benchmark3.train_dataset,\n",
    "                   val_dataset=neurips_benchmark3.val_dataset)"
   ]
  },
  {
   "cell_type": "markdown",
   "id": "1ff82345",
   "metadata": {},
   "source": [
    "save it"
   ]
  },
  {
   "cell_type": "code",
   "execution_count": 8,
   "id": "754b3247",
   "metadata": {},
   "outputs": [],
   "source": [
    "simulator_FC.save(path_save)\n",
    "simulator_FC.save_metadata(path_save)"
   ]
  },
  {
   "cell_type": "markdown",
   "id": "b74b9026",
   "metadata": {},
   "source": [
    "load it"
   ]
  },
  {
   "cell_type": "code",
   "execution_count": 4,
   "id": "8e0cecf0",
   "metadata": {},
   "outputs": [],
   "source": [
    "path_trained_models = os.path.join(\"trained_models\")\n",
    "from tensorflow.keras.layers import Dense\n",
    "from lips.augmented_simulators import FullyConnectedAS\n",
    "\n",
    "# recreate the baseline\n",
    "simulator_FC = FullyConnectedAS(name=\"test_FullyConnectedAS_benchmark3\",\n",
    "                                attr_x=(\"prod_p\", \"prod_v\", \"load_p\", \"load_q\", \"line_status\", \"topo_vect\"),\n",
    "                                attr_y=(\"a_or\", \"a_ex\", \"p_or\", \"p_ex\", \"q_ex\", \"q_or\", \"v_or\", \"v_ex\", \"load_v\", \"prod_q\", \"theta_or\", \"theta_ex\"),\n",
    "                                sizes_layer=(300, 300, 300, 300),\n",
    "                                lr=3e-4, \n",
    "                                layer=Dense,\n",
    "                                layer_act=\"relu\",\n",
    "                                loss=\"mse\",  # loss used to train the model\n",
    "                                batch_size=128)\n",
    "# TODO create a wrapper for these 3 calls\n",
    "simulator_FC.load_metadata(path_trained_models)\n",
    "simulator_FC.init()\n",
    "simulator_FC.restore(path_trained_models)"
   ]
  },
  {
   "cell_type": "markdown",
   "id": "c817dae3",
   "metadata": {},
   "source": [
    "# Evaluate the augmented simulator "
   ]
  },
  {
   "cell_type": "code",
   "execution_count": 5,
   "id": "737e4c08",
   "metadata": {},
   "outputs": [
    {
     "name": "stdout",
     "output_type": "stream",
     "text": [
      "A log file including some verifications is created at root directory with the name logs.log\n"
     ]
    },
    {
     "name": "stderr",
     "output_type": "stream",
     "text": [
      "C:\\Users\\Milad\\Anaconda3\\envs\\RTE\\lib\\site-packages\\lightsim2grid\\_aux_add_trafo.py:33: UserWarning: There were some Nan in the pp_net.trafo[\"tap_neutral\"], they have been replaced by 0\n",
      "  warnings.warn(\"There were some Nan in the pp_net.trafo[\\\"tap_neutral\\\"], they have been replaced by 0\")\n",
      "C:\\Users\\Milad\\Anaconda3\\envs\\RTE\\lib\\site-packages\\lightsim2grid\\_aux_add_trafo.py:41: UserWarning: There were some Nan in the pp_net.trafo[\"tap_step_percent\"], they have been replaced by 0\n",
      "  warnings.warn(\"There were some Nan in the pp_net.trafo[\\\"tap_step_percent\\\"], they have been replaced by 0\")\n",
      "C:\\Users\\Milad\\Anaconda3\\envs\\RTE\\lib\\site-packages\\lightsim2grid\\_aux_add_trafo.py:46: UserWarning: There were some Nan in the pp_net.trafo[\"tap_pos\"], they have been replaced by 0\n",
      "  warnings.warn(\"There were some Nan in the pp_net.trafo[\\\"tap_pos\\\"], they have been replaced by 0\")\n"
     ]
    }
   ],
   "source": [
    "fc_metrics_per_dataset = neurips_benchmark3.evaluate_augmented_simulator(simulator_FC)"
   ]
  },
  {
   "cell_type": "markdown",
   "id": "898bfb6f",
   "metadata": {},
   "source": [
    "### ML Metrics "
   ]
  },
  {
   "cell_type": "code",
   "execution_count": 6,
   "id": "89f38bda",
   "metadata": {},
   "outputs": [
    {
     "name": "stdout",
     "output_type": "stream",
     "text": [
      "MAPE90\n",
      "{'a_ex': 0.0046131610388728175,\n",
      " 'a_or': 0.004655354222528099,\n",
      " 'p_ex': 0.0048669815008974115,\n",
      " 'p_or': 0.004879239027941079,\n",
      " 'q_ex': 0.011658575615409646,\n",
      " 'q_or': 0.014196010036352022,\n",
      " 'theta_ex': 0.005861496950132016,\n",
      " 'theta_or': nan,\n",
      " 'v_ex': 0.002042967575485692,\n",
      " 'v_or': 0.0020739696860987236}\n",
      "MAPE\n",
      "{'a_ex': 0.011037891579993783,\n",
      " 'a_or': 0.011327840291289895,\n",
      " 'load_v': 0.00017017968059885124,\n",
      " 'p_ex': 0.011662545965693018,\n",
      " 'p_or': 0.011347553230500561,\n",
      " 'prod_q': 0.004511574900593358,\n",
      " 'q_ex': 0.01371789179777086,\n",
      " 'q_or': 0.013702970997601588,\n",
      " 'theta_ex': 0.006171133177098264,\n",
      " 'theta_or': nan,\n",
      " 'v_ex': 0.0019030298835292323,\n",
      " 'v_or': 0.0019296426453516862}\n",
      "MAE\n",
      "{'a_ex': 2.4643282890319824,\n",
      " 'a_or': 1.6474065780639648,\n",
      " 'load_v': 0.007322449702769518,\n",
      " 'p_ex': 0.1342732012271881,\n",
      " 'p_or': 0.13087570667266846,\n",
      " 'prod_q': 0.10046952217817307,\n",
      " 'q_ex': 0.0640152245759964,\n",
      " 'q_or': 0.0628996342420578,\n",
      " 'theta_ex': 0.04626755672660863,\n",
      " 'theta_or': 0.04391781957267136,\n",
      " 'v_ex': 0.15075810253620148,\n",
      " 'v_or': 0.18725822865962982}\n",
      "NRMSE\n",
      "{'a_ex': 0.00253274105489254,\n",
      " 'a_or': 0.0025515002198517323,\n",
      " 'load_v': 0.002371380804106593,\n",
      " 'p_ex': 0.0019904132932424545,\n",
      " 'p_or': 0.001940511749126017,\n",
      " 'prod_q': 0.0020412281155586243,\n",
      " 'q_ex': 0.002021509688347578,\n",
      " 'q_or': 0.0023251797538250685,\n",
      " 'theta_ex': 0.0014405224404251938,\n",
      " 'theta_or': 0.0015220051796428504,\n",
      " 'v_ex': 0.002640392165631056,\n",
      " 'v_or': 0.002729004016146064}\n"
     ]
    }
   ],
   "source": [
    "ML_metrics = 0\n",
    "print(\"MAPE90\")\n",
    "pprint(fc_metrics_per_dataset[\"test\"][ML_metrics][\"mape90\"])\n",
    "print(\"MAPE\")\n",
    "pprint(fc_metrics_per_dataset[\"test\"][ML_metrics][\"mape_avg\"])\n",
    "print(\"MAE\")\n",
    "pprint(fc_metrics_per_dataset[\"test\"][ML_metrics][\"MAE_avg\"])\n",
    "print(\"NRMSE\")\n",
    "pprint(fc_metrics_per_dataset[\"test\"][ML_metrics][\"NRMSE_avg\"])"
   ]
  },
  {
   "cell_type": "markdown",
   "id": "f1849099",
   "metadata": {},
   "source": [
    "### OOD Generalization "
   ]
  },
  {
   "cell_type": "code",
   "execution_count": 7,
   "id": "83072b66",
   "metadata": {},
   "outputs": [
    {
     "name": "stdout",
     "output_type": "stream",
     "text": [
      "MAPE90\n",
      "{'a_ex': 0.20107159106043712,\n",
      " 'a_or': 0.2010885507612319,\n",
      " 'p_ex': 0.23931476475031105,\n",
      " 'p_or': 0.241871617038327,\n",
      " 'q_ex': 0.34331784958160283,\n",
      " 'q_or': 0.36442009321746427,\n",
      " 'theta_ex': 0.15957073813573144,\n",
      " 'theta_or': nan,\n",
      " 'v_ex': 0.03118037104864476,\n",
      " 'v_or': 0.030783094899299146}\n",
      "MAPE\n",
      "{'a_ex': 0.21175651492018047,\n",
      " 'a_or': 0.2150390137056632,\n",
      " 'p_ex': 0.2739599888702738,\n",
      " 'p_or': 0.2756300244671787,\n",
      " 'q_ex': 0.2712641773304669,\n",
      " 'q_or': 0.2659483474492036,\n",
      " 'theta_ex': 0.1304486416400271,\n",
      " 'theta_or': nan,\n",
      " 'v_ex': 0.027558933854545786,\n",
      " 'v_or': 0.027649661776876232}\n",
      "MAE\n",
      "{'a_ex': 65.6705551147461,\n",
      " 'a_or': 45.574684143066406,\n",
      " 'p_ex': 3.94745135307312,\n",
      " 'p_or': 4.019582748413086,\n",
      " 'q_ex': 1.6291145086288452,\n",
      " 'q_or': 1.5206332206726074,\n",
      " 'theta_ex': 1.7184120090077706,\n",
      " 'theta_or': 1.6142652562770508,\n",
      " 'v_ex': 2.8946361541748047,\n",
      " 'v_or': 3.7403595447540283}\n",
      "NRMSE\n",
      "{'a_ex': 0.056359924376010895,\n",
      " 'a_or': 0.056323640048503876,\n",
      " 'p_ex': 0.050281137228012085,\n",
      " 'p_or': 0.05012497305870056,\n",
      " 'q_ex': 0.04576147347688675,\n",
      " 'q_or': 0.045869551599025726,\n",
      " 'theta_ex': 0.043334392142782986,\n",
      " 'theta_or': 0.04193623235744974,\n",
      " 'v_ex': 0.07286673039197922,\n",
      " 'v_or': 0.07425205409526825}\n"
     ]
    }
   ],
   "source": [
    "print(\"MAPE90\")\n",
    "pprint(fc_metrics_per_dataset[\"test_ood_topo\"][ML_metrics][\"mape90\"])\n",
    "print(\"MAPE\")\n",
    "pprint(fc_metrics_per_dataset[\"test_ood_topo\"][ML_metrics][\"mape_avg\"])\n",
    "print(\"MAE\")\n",
    "pprint(fc_metrics_per_dataset[\"test_ood_topo\"][ML_metrics][\"MAE_avg\"])\n",
    "print(\"NRMSE\")\n",
    "pprint(fc_metrics_per_dataset[\"test_ood_topo\"][ML_metrics][\"NRMSE_avg\"])"
   ]
  },
  {
   "cell_type": "markdown",
   "id": "b1b1204e",
   "metadata": {},
   "source": [
    "### Physics compliance "
   ]
  },
  {
   "cell_type": "code",
   "execution_count": 9,
   "id": "4f91f641",
   "metadata": {},
   "outputs": [
    {
     "name": "stdout",
     "output_type": "stream",
     "text": [
      "current pos\n",
      "0.032385\n",
      "0.031465\n",
      "voltage pos\n",
      "0.02777\n",
      "0.026965\n",
      "loss\n",
      "0.22728\n",
      "line_status\n",
      "{'a_ex_not_null': 11860.0,\n",
      " 'a_or_not_null': 11860.0,\n",
      " 'a_violations': 1.0,\n",
      " 'p_ex_not_null': 11860.0,\n",
      " 'p_or_not_null': 11860,\n",
      " 'p_violations': 1.0,\n",
      " 'q_ex_not_null': 11860.0,\n",
      " 'q_or_not_null': 11860.0,\n",
      " 'q_violations': 1.0}\n",
      "KCL\n",
      "Violation percentage:  93.27297297297298\n"
     ]
    }
   ],
   "source": [
    "print(\"current pos\")\n",
    "pprint(fc_metrics_per_dataset[\"test\"][1][\"BasicVerifications\"][\"currents\"][\"a_or\"][\"Violation_proportion\"])\n",
    "pprint(fc_metrics_per_dataset[\"test\"][1][\"BasicVerifications\"][\"currents\"][\"a_ex\"][\"Violation_proportion\"])\n",
    "print(\"voltage pos\")\n",
    "pprint(fc_metrics_per_dataset[\"test\"][1][\"BasicVerifications\"][\"voltages\"][\"v_or\"][\"Violation_proportion\"])\n",
    "pprint(fc_metrics_per_dataset[\"test\"][1][\"BasicVerifications\"][\"voltages\"][\"v_ex\"][\"Violation_proportion\"])\n",
    "\n",
    "print(\"loss\")\n",
    "pprint(fc_metrics_per_dataset[\"test\"][1][\"BasicVerifications\"][\"loss\"][\"violation_proportion\"])\n",
    "print(\"line_status\")\n",
    "pprint(fc_metrics_per_dataset[\"test\"][1][\"BasicVerifications\"][\"line_status\"])\n",
    "print(\"KCL\")\n",
    "print(\"Violation percentage: \", fc_metrics_per_dataset[\"test\"][1][\"KCL\"][\"violation_percentage\"])"
   ]
  },
  {
   "cell_type": "code",
   "execution_count": 10,
   "id": "6eea949d",
   "metadata": {},
   "outputs": [
    {
     "name": "stdout",
     "output_type": "stream",
     "text": [
      "current pos\n",
      "0.02754\n",
      "0.02741\n",
      "voltage pos\n",
      "0.01226\n",
      "0.012315\n",
      "loss\n",
      "0.362545\n",
      "line_status\n",
      "{'a_ex_not_null': 21843.0,\n",
      " 'a_or_not_null': 21843.0,\n",
      " 'a_violations': 1.0,\n",
      " 'p_ex_not_null': 21843.0,\n",
      " 'p_or_not_null': 21843,\n",
      " 'p_violations': 1.0,\n",
      " 'q_ex_not_null': 21843.0,\n",
      " 'q_or_not_null': 21843.0,\n",
      " 'q_violations': 1.0}\n",
      "KCL\n",
      "Violation percentage:  99.11331916448944\n"
     ]
    }
   ],
   "source": [
    "print(\"current pos\")\n",
    "pprint(fc_metrics_per_dataset[\"test_ood_topo\"][1][\"BasicVerifications\"][\"currents\"][\"a_or\"][\"Violation_proportion\"])\n",
    "pprint(fc_metrics_per_dataset[\"test_ood_topo\"][1][\"BasicVerifications\"][\"currents\"][\"a_ex\"][\"Violation_proportion\"])\n",
    "print(\"voltage pos\")\n",
    "pprint(fc_metrics_per_dataset[\"test_ood_topo\"][1][\"BasicVerifications\"][\"voltages\"][\"v_or\"][\"Violation_proportion\"])\n",
    "pprint(fc_metrics_per_dataset[\"test_ood_topo\"][1][\"BasicVerifications\"][\"voltages\"][\"v_ex\"][\"Violation_proportion\"])\n",
    "\n",
    "print(\"loss\")\n",
    "pprint(fc_metrics_per_dataset[\"test_ood_topo\"][1][\"BasicVerifications\"][\"loss\"][\"violation_proportion\"])\n",
    "print(\"line_status\")\n",
    "pprint(fc_metrics_per_dataset[\"test_ood_topo\"][1][\"BasicVerifications\"][\"line_status\"])\n",
    "#pprint(dc_metrics_per_dataset[\"test_ood_topo\"][1])\n",
    "print(\"KCL\")\n",
    "print(\"Violation percentage: \", fc_metrics_per_dataset[\"test_ood_topo\"][1][\"KCL\"][\"violation_percentage\"])"
   ]
  },
  {
   "cell_type": "markdown",
   "id": "eeea4e2d",
   "metadata": {},
   "source": [
    "# LeapNets "
   ]
  },
  {
   "cell_type": "code",
   "execution_count": 8,
   "id": "029b975b",
   "metadata": {},
   "outputs": [],
   "source": [
    "path_save = os.path.join(\"trained_models\")\n",
    "if not os.path.exists(path_save):\n",
    "    os.mkdir(path_save)\n",
    "\n",
    "from tensorflow.keras.layers import Dense\n",
    "from lips.augmented_simulators import LeapNetAS"
   ]
  },
  {
   "cell_type": "code",
   "execution_count": 10,
   "id": "9207c49c",
   "metadata": {},
   "outputs": [],
   "source": [
    "leapNet = LeapNetAS(name=\"test_leapNetAS_benchmark3\",\n",
    "                    # `attr_x` represents the variables of the dataset you want to use to predict \n",
    "                    # the output.\n",
    "                    attr_x=(\"prod_p\", \"prod_v\", \"load_p\", \"load_q\"),\n",
    "                    # `attr_y` represents the variables of the dataset you want to predict\n",
    "                    # all the powerflow variables alongside the voltage angles\n",
    "                    attr_y=(\"a_or\", \"a_ex\", \"p_or\", \"p_ex\", \"q_ex\", \"q_or\", \"v_or\", \"v_ex\", \"theta_or\", \"theta_ex\"),\n",
    "                    # `lr` is the learning rate\n",
    "                    lr=3e-4, \n",
    "                    # `layer` is the type of keras layer you want to use. We don't recommend to \n",
    "                    # change it\n",
    "                    layer=Dense,\n",
    "                    # `layer_act` is the activation function you want to use after each layer\n",
    "                    layer_act=\"relu\",\n",
    "                    # `loss` is the training loss\n",
    "                    loss=\"mse\",  # loss used to train the model\n",
    "                    # `batch_size` is the size of the batch for training\n",
    "                    batch_size=128,\n",
    "                    # the method used to encode the topology vector\n",
    "                    topo_vect_to_tau=\"all\")"
   ]
  },
  {
   "cell_type": "code",
   "execution_count": 11,
   "id": "f76e8ec0",
   "metadata": {},
   "outputs": [
    {
     "name": "stdout",
     "output_type": "stream",
     "text": [
      "Epoch 1/200\n",
      "782/782 [==============================] - 11s 10ms/step - loss: 15.2575 - a_or_hat_loss: 1.9806 - a_ex_hat_loss: 1.9804 - p_or_hat_loss: 2.2710 - p_ex_hat_loss: 2.1339 - q_ex_hat_loss: 3.3783 - q_or_hat_loss: 2.2194 - v_or_hat_loss: 0.2185 - v_ex_hat_loss: 0.2079 - theta_or_hat_loss: 0.4250 - theta_ex_hat_loss: 0.4427 - val_loss: 0.5841 - val_a_or_hat_loss: 0.0905 - val_a_ex_hat_loss: 0.0923 - val_p_or_hat_loss: 0.0671 - val_p_ex_hat_loss: 0.0705 - val_q_ex_hat_loss: 0.1170 - val_q_or_hat_loss: 0.0767 - val_v_or_hat_loss: 0.0017 - val_v_ex_hat_loss: 0.0018 - val_theta_or_hat_loss: 0.0315 - val_theta_ex_hat_loss: 0.0350\n",
      "Epoch 2/200\n",
      "782/782 [==============================] - 6s 7ms/step - loss: 0.4266 - a_or_hat_loss: 0.0680 - a_ex_hat_loss: 0.0679 - p_or_hat_loss: 0.0486 - p_ex_hat_loss: 0.0509 - q_ex_hat_loss: 0.0834 - q_or_hat_loss: 0.0543 - v_or_hat_loss: 0.0013 - v_ex_hat_loss: 0.0014 - theta_or_hat_loss: 0.0243 - theta_ex_hat_loss: 0.0265 - val_loss: 0.2500 - val_a_or_hat_loss: 0.0450 - val_a_ex_hat_loss: 0.0424 - val_p_or_hat_loss: 0.0283 - val_p_ex_hat_loss: 0.0312 - val_q_ex_hat_loss: 0.0449 - val_q_or_hat_loss: 0.0309 - val_v_or_hat_loss: 6.3528e-04 - val_v_ex_hat_loss: 7.2960e-04 - val_theta_or_hat_loss: 0.0122 - val_theta_ex_hat_loss: 0.0138\n",
      "Epoch 3/200\n",
      "782/782 [==============================] - 6s 8ms/step - loss: 0.1903 - a_or_hat_loss: 0.0331 - a_ex_hat_loss: 0.0321 - p_or_hat_loss: 0.0214 - p_ex_hat_loss: 0.0243 - q_ex_hat_loss: 0.0346 - q_or_hat_loss: 0.0226 - v_or_hat_loss: 5.0240e-04 - v_ex_hat_loss: 5.6899e-04 - theta_or_hat_loss: 0.0096 - theta_ex_hat_loss: 0.0115 - val_loss: 0.1545 - val_a_or_hat_loss: 0.0286 - val_a_ex_hat_loss: 0.0270 - val_p_or_hat_loss: 0.0161 - val_p_ex_hat_loss: 0.0208 - val_q_ex_hat_loss: 0.0273 - val_q_or_hat_loss: 0.0182 - val_v_or_hat_loss: 3.3874e-04 - val_v_ex_hat_loss: 3.6993e-04 - val_theta_or_hat_loss: 0.0072 - val_theta_ex_hat_loss: 0.0085\n",
      "Epoch 4/200\n",
      "782/782 [==============================] - 6s 7ms/step - loss: 0.1216 - a_or_hat_loss: 0.0208 - a_ex_hat_loss: 0.0210 - p_or_hat_loss: 0.0131 - p_ex_hat_loss: 0.0162 - q_ex_hat_loss: 0.0217 - q_or_hat_loss: 0.0148 - v_or_hat_loss: 2.8547e-04 - v_ex_hat_loss: 3.4659e-04 - theta_or_hat_loss: 0.0060 - theta_ex_hat_loss: 0.0074 - val_loss: 0.1123 - val_a_or_hat_loss: 0.0212 - val_a_ex_hat_loss: 0.0196 - val_p_or_hat_loss: 0.0105 - val_p_ex_hat_loss: 0.0142 - val_q_ex_hat_loss: 0.0198 - val_q_or_hat_loss: 0.0144 - val_v_or_hat_loss: 2.3870e-04 - val_v_ex_hat_loss: 2.7801e-04 - val_theta_or_hat_loss: 0.0053 - val_theta_ex_hat_loss: 0.0067\n",
      "Epoch 5/200\n",
      "782/782 [==============================] - 6s 8ms/step - loss: 0.0887 - a_or_hat_loss: 0.0151 - a_ex_hat_loss: 0.0152 - p_or_hat_loss: 0.0091 - p_ex_hat_loss: 0.0111 - q_ex_hat_loss: 0.0159 - q_or_hat_loss: 0.0117 - v_or_hat_loss: 1.9828e-04 - v_ex_hat_loss: 2.4532e-04 - theta_or_hat_loss: 0.0045 - theta_ex_hat_loss: 0.0057 - val_loss: 0.0909 - val_a_or_hat_loss: 0.0161 - val_a_ex_hat_loss: 0.0152 - val_p_or_hat_loss: 0.0087 - val_p_ex_hat_loss: 0.0113 - val_q_ex_hat_loss: 0.0161 - val_q_or_hat_loss: 0.0133 - val_v_or_hat_loss: 1.9894e-04 - val_v_ex_hat_loss: 2.3824e-04 - val_theta_or_hat_loss: 0.0044 - val_theta_ex_hat_loss: 0.0053\n",
      "Epoch 6/200\n",
      "782/782 [==============================] - 6s 7ms/step - loss: 0.0707 - a_or_hat_loss: 0.0120 - a_ex_hat_loss: 0.0121 - p_or_hat_loss: 0.0072 - p_ex_hat_loss: 0.0082 - q_ex_hat_loss: 0.0127 - q_or_hat_loss: 0.0098 - v_or_hat_loss: 1.5759e-04 - v_ex_hat_loss: 1.9165e-04 - theta_or_hat_loss: 0.0037 - theta_ex_hat_loss: 0.0046 - val_loss: 0.0746 - val_a_or_hat_loss: 0.0143 - val_a_ex_hat_loss: 0.0131 - val_p_or_hat_loss: 0.0071 - val_p_ex_hat_loss: 0.0083 - val_q_ex_hat_loss: 0.0132 - val_q_or_hat_loss: 0.0102 - val_v_or_hat_loss: 1.4393e-04 - val_v_ex_hat_loss: 1.5542e-04 - val_theta_or_hat_loss: 0.0037 - val_theta_ex_hat_loss: 0.0044\n",
      "Epoch 7/200\n",
      "782/782 [==============================] - 6s 8ms/step - loss: 0.0590 - a_or_hat_loss: 0.0101 - a_ex_hat_loss: 0.0102 - p_or_hat_loss: 0.0060 - p_ex_hat_loss: 0.0064 - q_ex_hat_loss: 0.0106 - q_or_hat_loss: 0.0084 - v_or_hat_loss: 1.2648e-04 - v_ex_hat_loss: 1.5362e-04 - theta_or_hat_loss: 0.0031 - theta_ex_hat_loss: 0.0038 - val_loss: 0.0624 - val_a_or_hat_loss: 0.0111 - val_a_ex_hat_loss: 0.0109 - val_p_or_hat_loss: 0.0064 - val_p_ex_hat_loss: 0.0063 - val_q_ex_hat_loss: 0.0113 - val_q_or_hat_loss: 0.0090 - val_v_or_hat_loss: 1.2440e-04 - val_v_ex_hat_loss: 1.1686e-04 - val_theta_or_hat_loss: 0.0033 - val_theta_ex_hat_loss: 0.0038\n",
      "Epoch 8/200\n",
      "782/782 [==============================] - 7s 9ms/step - loss: 0.0513 - a_or_hat_loss: 0.0087 - a_ex_hat_loss: 0.0088 - p_or_hat_loss: 0.0051 - p_ex_hat_loss: 0.0052 - q_ex_hat_loss: 0.0094 - q_or_hat_loss: 0.0077 - v_or_hat_loss: 1.1292e-04 - v_ex_hat_loss: 1.3200e-04 - theta_or_hat_loss: 0.0028 - theta_ex_hat_loss: 0.0033 - val_loss: 0.0546 - val_a_or_hat_loss: 0.0097 - val_a_ex_hat_loss: 0.0090 - val_p_or_hat_loss: 0.0050 - val_p_ex_hat_loss: 0.0055 - val_q_ex_hat_loss: 0.0104 - val_q_or_hat_loss: 0.0084 - val_v_or_hat_loss: 1.2136e-04 - val_v_ex_hat_loss: 1.0650e-04 - val_theta_or_hat_loss: 0.0029 - val_theta_ex_hat_loss: 0.0035\n",
      "Epoch 9/200\n",
      "782/782 [==============================] - 6s 8ms/step - loss: 0.0447 - a_or_hat_loss: 0.0075 - a_ex_hat_loss: 0.0077 - p_or_hat_loss: 0.0042 - p_ex_hat_loss: 0.0044 - q_ex_hat_loss: 0.0084 - q_or_hat_loss: 0.0070 - v_or_hat_loss: 9.9973e-05 - v_ex_hat_loss: 1.1370e-04 - theta_or_hat_loss: 0.0025 - theta_ex_hat_loss: 0.0030 - val_loss: 0.0500 - val_a_or_hat_loss: 0.0087 - val_a_ex_hat_loss: 0.0088 - val_p_or_hat_loss: 0.0044 - val_p_ex_hat_loss: 0.0050 - val_q_ex_hat_loss: 0.0093 - val_q_or_hat_loss: 0.0079 - val_v_or_hat_loss: 9.7943e-05 - val_v_ex_hat_loss: 1.1220e-04 - val_theta_or_hat_loss: 0.0025 - val_theta_ex_hat_loss: 0.0031\n",
      "Epoch 10/200\n",
      "782/782 [==============================] - 7s 8ms/step - loss: 0.0398 - a_or_hat_loss: 0.0065 - a_ex_hat_loss: 0.0068 - p_or_hat_loss: 0.0035 - p_ex_hat_loss: 0.0038 - q_ex_hat_loss: 0.0075 - q_or_hat_loss: 0.0064 - v_or_hat_loss: 9.4831e-05 - v_ex_hat_loss: 1.0856e-04 - theta_or_hat_loss: 0.0022 - theta_ex_hat_loss: 0.0028 - val_loss: 0.0446 - val_a_or_hat_loss: 0.0078 - val_a_ex_hat_loss: 0.0075 - val_p_or_hat_loss: 0.0037 - val_p_ex_hat_loss: 0.0043 - val_q_ex_hat_loss: 0.0081 - val_q_or_hat_loss: 0.0079 - val_v_or_hat_loss: 8.3286e-05 - val_v_ex_hat_loss: 8.5110e-05 - val_theta_or_hat_loss: 0.0023 - val_theta_ex_hat_loss: 0.0029\n",
      "Epoch 11/200\n",
      "782/782 [==============================] - 6s 8ms/step - loss: 0.0364 - a_or_hat_loss: 0.0059 - a_ex_hat_loss: 0.0063 - p_or_hat_loss: 0.0031 - p_ex_hat_loss: 0.0034 - q_ex_hat_loss: 0.0069 - q_or_hat_loss: 0.0060 - v_or_hat_loss: 8.2855e-05 - v_ex_hat_loss: 9.0654e-05 - theta_or_hat_loss: 0.0020 - theta_ex_hat_loss: 0.0025 - val_loss: 0.0442 - val_a_or_hat_loss: 0.0073 - val_a_ex_hat_loss: 0.0071 - val_p_or_hat_loss: 0.0043 - val_p_ex_hat_loss: 0.0048 - val_q_ex_hat_loss: 0.0088 - val_q_or_hat_loss: 0.0071 - val_v_or_hat_loss: 7.2721e-05 - val_v_ex_hat_loss: 9.2655e-05 - val_theta_or_hat_loss: 0.0021 - val_theta_ex_hat_loss: 0.0026\n",
      "Epoch 12/200\n",
      "782/782 [==============================] - 6s 8ms/step - loss: 0.0334 - a_or_hat_loss: 0.0054 - a_ex_hat_loss: 0.0058 - p_or_hat_loss: 0.0029 - p_ex_hat_loss: 0.0030 - q_ex_hat_loss: 0.0064 - q_or_hat_loss: 0.0056 - v_or_hat_loss: 7.8466e-05 - v_ex_hat_loss: 8.7404e-05 - theta_or_hat_loss: 0.0018 - theta_ex_hat_loss: 0.0023 - val_loss: 0.0387 - val_a_or_hat_loss: 0.0062 - val_a_ex_hat_loss: 0.0065 - val_p_or_hat_loss: 0.0029 - val_p_ex_hat_loss: 0.0032 - val_q_ex_hat_loss: 0.0076 - val_q_or_hat_loss: 0.0068 - val_v_or_hat_loss: 7.9240e-05 - val_v_ex_hat_loss: 8.0854e-05 - val_theta_or_hat_loss: 0.0025 - val_theta_ex_hat_loss: 0.0028\n",
      "Epoch 13/200\n",
      "782/782 [==============================] - 7s 9ms/step - loss: 0.0311 - a_or_hat_loss: 0.0051 - a_ex_hat_loss: 0.0054 - p_or_hat_loss: 0.0027 - p_ex_hat_loss: 0.0028 - q_ex_hat_loss: 0.0059 - q_or_hat_loss: 0.0052 - v_or_hat_loss: 7.2949e-05 - v_ex_hat_loss: 7.8931e-05 - theta_or_hat_loss: 0.0018 - theta_ex_hat_loss: 0.0021 - val_loss: 0.0373 - val_a_or_hat_loss: 0.0060 - val_a_ex_hat_loss: 0.0062 - val_p_or_hat_loss: 0.0032 - val_p_ex_hat_loss: 0.0030 - val_q_ex_hat_loss: 0.0083 - val_q_or_hat_loss: 0.0062 - val_v_or_hat_loss: 1.1074e-04 - val_v_ex_hat_loss: 9.9610e-05 - val_theta_or_hat_loss: 0.0019 - val_theta_ex_hat_loss: 0.0022\n"
     ]
    },
    {
     "name": "stdout",
     "output_type": "stream",
     "text": [
      "Epoch 14/200\n",
      "782/782 [==============================] - 6s 8ms/step - loss: 0.0291 - a_or_hat_loss: 0.0047 - a_ex_hat_loss: 0.0050 - p_or_hat_loss: 0.0025 - p_ex_hat_loss: 0.0026 - q_ex_hat_loss: 0.0056 - q_or_hat_loss: 0.0050 - v_or_hat_loss: 6.2694e-05 - v_ex_hat_loss: 7.0395e-05 - theta_or_hat_loss: 0.0016 - theta_ex_hat_loss: 0.0019 - val_loss: 0.0333 - val_a_or_hat_loss: 0.0059 - val_a_ex_hat_loss: 0.0057 - val_p_or_hat_loss: 0.0028 - val_p_ex_hat_loss: 0.0029 - val_q_ex_hat_loss: 0.0063 - val_q_or_hat_loss: 0.0055 - val_v_or_hat_loss: 5.1563e-05 - val_v_ex_hat_loss: 5.8786e-05 - val_theta_or_hat_loss: 0.0018 - val_theta_ex_hat_loss: 0.0022\n",
      "Epoch 15/200\n",
      "782/782 [==============================] - 6s 8ms/step - loss: 0.0273 - a_or_hat_loss: 0.0045 - a_ex_hat_loss: 0.0048 - p_or_hat_loss: 0.0023 - p_ex_hat_loss: 0.0024 - q_ex_hat_loss: 0.0052 - q_or_hat_loss: 0.0046 - v_or_hat_loss: 5.9047e-05 - v_ex_hat_loss: 6.7455e-05 - theta_or_hat_loss: 0.0015 - theta_ex_hat_loss: 0.0018 - val_loss: 0.0318 - val_a_or_hat_loss: 0.0054 - val_a_ex_hat_loss: 0.0057 - val_p_or_hat_loss: 0.0028 - val_p_ex_hat_loss: 0.0028 - val_q_ex_hat_loss: 0.0058 - val_q_or_hat_loss: 0.0055 - val_v_or_hat_loss: 6.5343e-05 - val_v_ex_hat_loss: 8.2605e-05 - val_theta_or_hat_loss: 0.0017 - val_theta_ex_hat_loss: 0.0021\n",
      "Epoch 16/200\n",
      "782/782 [==============================] - 6s 8ms/step - loss: 0.0257 - a_or_hat_loss: 0.0042 - a_ex_hat_loss: 0.0045 - p_or_hat_loss: 0.0022 - p_ex_hat_loss: 0.0022 - q_ex_hat_loss: 0.0049 - q_or_hat_loss: 0.0044 - v_or_hat_loss: 5.7383e-05 - v_ex_hat_loss: 6.1731e-05 - theta_or_hat_loss: 0.0014 - theta_ex_hat_loss: 0.0017 - val_loss: 0.0305 - val_a_or_hat_loss: 0.0050 - val_a_ex_hat_loss: 0.0054 - val_p_or_hat_loss: 0.0024 - val_p_ex_hat_loss: 0.0026 - val_q_ex_hat_loss: 0.0059 - val_q_or_hat_loss: 0.0056 - val_v_or_hat_loss: 5.9384e-05 - val_v_ex_hat_loss: 7.0534e-05 - val_theta_or_hat_loss: 0.0015 - val_theta_ex_hat_loss: 0.0020\n",
      "Epoch 17/200\n",
      "782/782 [==============================] - 6s 8ms/step - loss: 0.0247 - a_or_hat_loss: 0.0040 - a_ex_hat_loss: 0.0043 - p_or_hat_loss: 0.0021 - p_ex_hat_loss: 0.0022 - q_ex_hat_loss: 0.0046 - q_or_hat_loss: 0.0043 - v_or_hat_loss: 5.5849e-05 - v_ex_hat_loss: 5.9061e-05 - theta_or_hat_loss: 0.0014 - theta_ex_hat_loss: 0.0017 - val_loss: 0.0294 - val_a_or_hat_loss: 0.0049 - val_a_ex_hat_loss: 0.0049 - val_p_or_hat_loss: 0.0024 - val_p_ex_hat_loss: 0.0027 - val_q_ex_hat_loss: 0.0062 - val_q_or_hat_loss: 0.0049 - val_v_or_hat_loss: 3.9966e-05 - val_v_ex_hat_loss: 4.8435e-05 - val_theta_or_hat_loss: 0.0015 - val_theta_ex_hat_loss: 0.0019\n",
      "Epoch 18/200\n",
      "782/782 [==============================] - 6s 7ms/step - loss: 0.0229 - a_or_hat_loss: 0.0038 - a_ex_hat_loss: 0.0041 - p_or_hat_loss: 0.0019 - p_ex_hat_loss: 0.0020 - q_ex_hat_loss: 0.0043 - q_or_hat_loss: 0.0039 - v_or_hat_loss: 4.6379e-05 - v_ex_hat_loss: 5.3749e-05 - theta_or_hat_loss: 0.0013 - theta_ex_hat_loss: 0.0015 - val_loss: 0.0295 - val_a_or_hat_loss: 0.0047 - val_a_ex_hat_loss: 0.0051 - val_p_or_hat_loss: 0.0022 - val_p_ex_hat_loss: 0.0030 - val_q_ex_hat_loss: 0.0057 - val_q_or_hat_loss: 0.0052 - val_v_or_hat_loss: 4.7160e-05 - val_v_ex_hat_loss: 5.7896e-05 - val_theta_or_hat_loss: 0.0016 - val_theta_ex_hat_loss: 0.0020\n",
      "Epoch 19/200\n",
      "782/782 [==============================] - 5s 7ms/step - loss: 0.0226 - a_or_hat_loss: 0.0037 - a_ex_hat_loss: 0.0040 - p_or_hat_loss: 0.0019 - p_ex_hat_loss: 0.0020 - q_ex_hat_loss: 0.0042 - q_or_hat_loss: 0.0038 - v_or_hat_loss: 5.0247e-05 - v_ex_hat_loss: 5.7748e-05 - theta_or_hat_loss: 0.0013 - theta_ex_hat_loss: 0.0016 - val_loss: 0.0254 - val_a_or_hat_loss: 0.0044 - val_a_ex_hat_loss: 0.0045 - val_p_or_hat_loss: 0.0021 - val_p_ex_hat_loss: 0.0021 - val_q_ex_hat_loss: 0.0047 - val_q_or_hat_loss: 0.0044 - val_v_or_hat_loss: 4.4075e-05 - val_v_ex_hat_loss: 4.5471e-05 - val_theta_or_hat_loss: 0.0014 - val_theta_ex_hat_loss: 0.0017\n",
      "Epoch 20/200\n",
      "782/782 [==============================] - 5s 7ms/step - loss: 0.0211 - a_or_hat_loss: 0.0035 - a_ex_hat_loss: 0.0038 - p_or_hat_loss: 0.0018 - p_ex_hat_loss: 0.0018 - q_ex_hat_loss: 0.0039 - q_or_hat_loss: 0.0036 - v_or_hat_loss: 5.1448e-05 - v_ex_hat_loss: 5.4268e-05 - theta_or_hat_loss: 0.0012 - theta_ex_hat_loss: 0.0014 - val_loss: 0.0260 - val_a_or_hat_loss: 0.0046 - val_a_ex_hat_loss: 0.0048 - val_p_or_hat_loss: 0.0020 - val_p_ex_hat_loss: 0.0027 - val_q_ex_hat_loss: 0.0047 - val_q_or_hat_loss: 0.0042 - val_v_or_hat_loss: 7.4725e-05 - val_v_ex_hat_loss: 6.5019e-05 - val_theta_or_hat_loss: 0.0014 - val_theta_ex_hat_loss: 0.0015\n",
      "Epoch 21/200\n",
      "782/782 [==============================] - 5s 7ms/step - loss: 0.0202 - a_or_hat_loss: 0.0034 - a_ex_hat_loss: 0.0036 - p_or_hat_loss: 0.0017 - p_ex_hat_loss: 0.0017 - q_ex_hat_loss: 0.0037 - q_or_hat_loss: 0.0035 - v_or_hat_loss: 4.6753e-05 - v_ex_hat_loss: 5.2250e-05 - theta_or_hat_loss: 0.0011 - theta_ex_hat_loss: 0.0013 - val_loss: 0.0235 - val_a_or_hat_loss: 0.0041 - val_a_ex_hat_loss: 0.0044 - val_p_or_hat_loss: 0.0019 - val_p_ex_hat_loss: 0.0019 - val_q_ex_hat_loss: 0.0044 - val_q_or_hat_loss: 0.0040 - val_v_or_hat_loss: 4.0703e-05 - val_v_ex_hat_loss: 3.7930e-05 - val_theta_or_hat_loss: 0.0012 - val_theta_ex_hat_loss: 0.0015\n",
      "Epoch 22/200\n",
      "782/782 [==============================] - 5s 7ms/step - loss: 0.0193 - a_or_hat_loss: 0.0033 - a_ex_hat_loss: 0.0035 - p_or_hat_loss: 0.0016 - p_ex_hat_loss: 0.0016 - q_ex_hat_loss: 0.0035 - q_or_hat_loss: 0.0033 - v_or_hat_loss: 3.9952e-05 - v_ex_hat_loss: 4.2741e-05 - theta_or_hat_loss: 0.0011 - theta_ex_hat_loss: 0.0013 - val_loss: 0.0240 - val_a_or_hat_loss: 0.0042 - val_a_ex_hat_loss: 0.0043 - val_p_or_hat_loss: 0.0021 - val_p_ex_hat_loss: 0.0023 - val_q_ex_hat_loss: 0.0044 - val_q_or_hat_loss: 0.0038 - val_v_or_hat_loss: 4.5405e-05 - val_v_ex_hat_loss: 4.2056e-05 - val_theta_or_hat_loss: 0.0013 - val_theta_ex_hat_loss: 0.0016\n",
      "Epoch 23/200\n",
      "782/782 [==============================] - 6s 7ms/step - loss: 0.0189 - a_or_hat_loss: 0.0033 - a_ex_hat_loss: 0.0034 - p_or_hat_loss: 0.0016 - p_ex_hat_loss: 0.0016 - q_ex_hat_loss: 0.0035 - q_or_hat_loss: 0.0032 - v_or_hat_loss: 4.0823e-05 - v_ex_hat_loss: 4.4662e-05 - theta_or_hat_loss: 0.0010 - theta_ex_hat_loss: 0.0013 - val_loss: 0.0282 - val_a_or_hat_loss: 0.0042 - val_a_ex_hat_loss: 0.0042 - val_p_or_hat_loss: 0.0028 - val_p_ex_hat_loss: 0.0027 - val_q_ex_hat_loss: 0.0060 - val_q_or_hat_loss: 0.0041 - val_v_or_hat_loss: 4.2344e-05 - val_v_ex_hat_loss: 8.2957e-05 - val_theta_or_hat_loss: 0.0019 - val_theta_ex_hat_loss: 0.0022\n",
      "Epoch 24/200\n",
      "782/782 [==============================] - 6s 8ms/step - loss: 0.0182 - a_or_hat_loss: 0.0031 - a_ex_hat_loss: 0.0033 - p_or_hat_loss: 0.0015 - p_ex_hat_loss: 0.0015 - q_ex_hat_loss: 0.0034 - q_or_hat_loss: 0.0031 - v_or_hat_loss: 4.3621e-05 - v_ex_hat_loss: 4.8204e-05 - theta_or_hat_loss: 0.0010 - theta_ex_hat_loss: 0.0013 - val_loss: 0.0223 - val_a_or_hat_loss: 0.0038 - val_a_ex_hat_loss: 0.0039 - val_p_or_hat_loss: 0.0024 - val_p_ex_hat_loss: 0.0020 - val_q_ex_hat_loss: 0.0038 - val_q_or_hat_loss: 0.0037 - val_v_or_hat_loss: 4.5281e-05 - val_v_ex_hat_loss: 6.4529e-05 - val_theta_or_hat_loss: 0.0012 - val_theta_ex_hat_loss: 0.0015\n",
      "Epoch 25/200\n",
      "782/782 [==============================] - 5s 7ms/step - loss: 0.0173 - a_or_hat_loss: 0.0030 - a_ex_hat_loss: 0.0031 - p_or_hat_loss: 0.0014 - p_ex_hat_loss: 0.0014 - q_ex_hat_loss: 0.0031 - q_or_hat_loss: 0.0029 - v_or_hat_loss: 3.5388e-05 - v_ex_hat_loss: 4.0276e-05 - theta_or_hat_loss: 9.5408e-04 - theta_ex_hat_loss: 0.0011 - val_loss: 0.0205 - val_a_or_hat_loss: 0.0037 - val_a_ex_hat_loss: 0.0037 - val_p_or_hat_loss: 0.0015 - val_p_ex_hat_loss: 0.0016 - val_q_ex_hat_loss: 0.0037 - val_q_or_hat_loss: 0.0037 - val_v_or_hat_loss: 3.5591e-05 - val_v_ex_hat_loss: 3.4389e-05 - val_theta_or_hat_loss: 0.0010 - val_theta_ex_hat_loss: 0.0014\n",
      "Epoch 26/200\n",
      "782/782 [==============================] - 6s 8ms/step - loss: 0.0167 - a_or_hat_loss: 0.0029 - a_ex_hat_loss: 0.0030 - p_or_hat_loss: 0.0014 - p_ex_hat_loss: 0.0014 - q_ex_hat_loss: 0.0031 - q_or_hat_loss: 0.0028 - v_or_hat_loss: 3.9371e-05 - v_ex_hat_loss: 4.0399e-05 - theta_or_hat_loss: 9.2900e-04 - theta_ex_hat_loss: 0.0011 - val_loss: 0.0194 - val_a_or_hat_loss: 0.0036 - val_a_ex_hat_loss: 0.0035 - val_p_or_hat_loss: 0.0016 - val_p_ex_hat_loss: 0.0016 - val_q_ex_hat_loss: 0.0034 - val_q_or_hat_loss: 0.0032 - val_v_or_hat_loss: 3.1320e-05 - val_v_ex_hat_loss: 4.0300e-05 - val_theta_or_hat_loss: 0.0010 - val_theta_ex_hat_loss: 0.0012\n",
      "Epoch 27/200\n",
      "782/782 [==============================] - 6s 8ms/step - loss: 0.0163 - a_or_hat_loss: 0.0029 - a_ex_hat_loss: 0.0030 - p_or_hat_loss: 0.0014 - p_ex_hat_loss: 0.0014 - q_ex_hat_loss: 0.0029 - q_or_hat_loss: 0.0027 - v_or_hat_loss: 3.8447e-05 - v_ex_hat_loss: 3.8830e-05 - theta_or_hat_loss: 8.9446e-04 - theta_ex_hat_loss: 0.0011 - val_loss: 0.0197 - val_a_or_hat_loss: 0.0036 - val_a_ex_hat_loss: 0.0036 - val_p_or_hat_loss: 0.0017 - val_p_ex_hat_loss: 0.0016 - val_q_ex_hat_loss: 0.0037 - val_q_or_hat_loss: 0.0031 - val_v_or_hat_loss: 3.4467e-05 - val_v_ex_hat_loss: 4.3409e-05 - val_theta_or_hat_loss: 0.0010 - val_theta_ex_hat_loss: 0.0013\n",
      "Epoch 28/200\n",
      "782/782 [==============================] - 6s 8ms/step - loss: 0.0157 - a_or_hat_loss: 0.0028 - a_ex_hat_loss: 0.0029 - p_or_hat_loss: 0.0013 - p_ex_hat_loss: 0.0013 - q_ex_hat_loss: 0.0029 - q_or_hat_loss: 0.0026 - v_or_hat_loss: 3.5618e-05 - v_ex_hat_loss: 3.6606e-05 - theta_or_hat_loss: 8.8015e-04 - theta_ex_hat_loss: 0.0010 - val_loss: 0.0190 - val_a_or_hat_loss: 0.0035 - val_a_ex_hat_loss: 0.0034 - val_p_or_hat_loss: 0.0016 - val_p_ex_hat_loss: 0.0015 - val_q_ex_hat_loss: 0.0034 - val_q_or_hat_loss: 0.0033 - val_v_or_hat_loss: 3.0416e-05 - val_v_ex_hat_loss: 3.6259e-05 - val_theta_or_hat_loss: 0.0011 - val_theta_ex_hat_loss: 0.0012\n",
      "Epoch 29/200\n",
      "782/782 [==============================] - 5s 7ms/step - loss: 0.0152 - a_or_hat_loss: 0.0027 - a_ex_hat_loss: 0.0028 - p_or_hat_loss: 0.0013 - p_ex_hat_loss: 0.0012 - q_ex_hat_loss: 0.0028 - q_or_hat_loss: 0.0026 - v_or_hat_loss: 3.0013e-05 - v_ex_hat_loss: 3.3551e-05 - theta_or_hat_loss: 8.3378e-04 - theta_ex_hat_loss: 9.6865e-04 - val_loss: 0.0182 - val_a_or_hat_loss: 0.0034 - val_a_ex_hat_loss: 0.0032 - val_p_or_hat_loss: 0.0014 - val_p_ex_hat_loss: 0.0016 - val_q_ex_hat_loss: 0.0033 - val_q_or_hat_loss: 0.0029 - val_v_or_hat_loss: 4.8548e-05 - val_v_ex_hat_loss: 4.0727e-05 - val_theta_or_hat_loss: 0.0010 - val_theta_ex_hat_loss: 0.0013\n",
      "Epoch 30/200\n",
      "782/782 [==============================] - 6s 7ms/step - loss: 0.0149 - a_or_hat_loss: 0.0027 - a_ex_hat_loss: 0.0027 - p_or_hat_loss: 0.0013 - p_ex_hat_loss: 0.0012 - q_ex_hat_loss: 0.0027 - q_or_hat_loss: 0.0025 - v_or_hat_loss: 3.4034e-05 - v_ex_hat_loss: 3.5024e-05 - theta_or_hat_loss: 8.1270e-04 - theta_ex_hat_loss: 9.7761e-04 - val_loss: 0.0183 - val_a_or_hat_loss: 0.0037 - val_a_ex_hat_loss: 0.0036 - val_p_or_hat_loss: 0.0013 - val_p_ex_hat_loss: 0.0016 - val_q_ex_hat_loss: 0.0030 - val_q_or_hat_loss: 0.0028 - val_v_or_hat_loss: 2.3197e-05 - val_v_ex_hat_loss: 3.2259e-05 - val_theta_or_hat_loss: 9.8662e-04 - val_theta_ex_hat_loss: 0.0013\n",
      "Epoch 31/200\n",
      "782/782 [==============================] - 5s 7ms/step - loss: 0.0145 - a_or_hat_loss: 0.0026 - a_ex_hat_loss: 0.0026 - p_or_hat_loss: 0.0012 - p_ex_hat_loss: 0.0012 - q_ex_hat_loss: 0.0026 - q_or_hat_loss: 0.0024 - v_or_hat_loss: 3.1437e-05 - v_ex_hat_loss: 3.5071e-05 - theta_or_hat_loss: 7.8819e-04 - theta_ex_hat_loss: 9.3709e-04 - val_loss: 0.0176 - val_a_or_hat_loss: 0.0034 - val_a_ex_hat_loss: 0.0032 - val_p_or_hat_loss: 0.0015 - val_p_ex_hat_loss: 0.0015 - val_q_ex_hat_loss: 0.0028 - val_q_or_hat_loss: 0.0031 - val_v_or_hat_loss: 2.8039e-05 - val_v_ex_hat_loss: 2.8011e-05 - val_theta_or_hat_loss: 9.4674e-04 - val_theta_ex_hat_loss: 0.0011\n",
      "Epoch 32/200\n",
      "782/782 [==============================] - 5s 7ms/step - loss: 0.0140 - a_or_hat_loss: 0.0026 - a_ex_hat_loss: 0.0026 - p_or_hat_loss: 0.0011 - p_ex_hat_loss: 0.0011 - q_ex_hat_loss: 0.0025 - q_or_hat_loss: 0.0023 - v_or_hat_loss: 2.9715e-05 - v_ex_hat_loss: 3.0497e-05 - theta_or_hat_loss: 7.5885e-04 - theta_ex_hat_loss: 9.0641e-04 - val_loss: 0.0168 - val_a_or_hat_loss: 0.0032 - val_a_ex_hat_loss: 0.0033 - val_p_or_hat_loss: 0.0016 - val_p_ex_hat_loss: 0.0015 - val_q_ex_hat_loss: 0.0027 - val_q_or_hat_loss: 0.0026 - val_v_or_hat_loss: 3.4019e-05 - val_v_ex_hat_loss: 4.3467e-05 - val_theta_or_hat_loss: 8.3119e-04 - val_theta_ex_hat_loss: 0.0010\n",
      "Epoch 33/200\n",
      "782/782 [==============================] - 5s 7ms/step - loss: 0.0138 - a_or_hat_loss: 0.0025 - a_ex_hat_loss: 0.0025 - p_or_hat_loss: 0.0011 - p_ex_hat_loss: 0.0011 - q_ex_hat_loss: 0.0025 - q_or_hat_loss: 0.0023 - v_or_hat_loss: 2.9253e-05 - v_ex_hat_loss: 3.0363e-05 - theta_or_hat_loss: 7.4020e-04 - theta_ex_hat_loss: 9.0085e-04 - val_loss: 0.0163 - val_a_or_hat_loss: 0.0031 - val_a_ex_hat_loss: 0.0029 - val_p_or_hat_loss: 0.0014 - val_p_ex_hat_loss: 0.0012 - val_q_ex_hat_loss: 0.0030 - val_q_or_hat_loss: 0.0027 - val_v_or_hat_loss: 2.5693e-05 - val_v_ex_hat_loss: 2.3636e-05 - val_theta_or_hat_loss: 8.4088e-04 - val_theta_ex_hat_loss: 0.0010\n",
      "Epoch 34/200\n",
      "782/782 [==============================] - 6s 7ms/step - loss: 0.0131 - a_or_hat_loss: 0.0024 - a_ex_hat_loss: 0.0024 - p_or_hat_loss: 0.0011 - p_ex_hat_loss: 0.0010 - q_ex_hat_loss: 0.0023 - q_or_hat_loss: 0.0022 - v_or_hat_loss: 2.7381e-05 - v_ex_hat_loss: 2.8528e-05 - theta_or_hat_loss: 6.8827e-04 - theta_ex_hat_loss: 8.3955e-04 - val_loss: 0.0157 - val_a_or_hat_loss: 0.0032 - val_a_ex_hat_loss: 0.0028 - val_p_or_hat_loss: 0.0013 - val_p_ex_hat_loss: 0.0012 - val_q_ex_hat_loss: 0.0028 - val_q_or_hat_loss: 0.0026 - val_v_or_hat_loss: 2.1890e-05 - val_v_ex_hat_loss: 3.3748e-05 - val_theta_or_hat_loss: 7.7178e-04 - val_theta_ex_hat_loss: 9.7677e-04\n",
      "Epoch 35/200\n",
      "782/782 [==============================] - 6s 7ms/step - loss: 0.0131 - a_or_hat_loss: 0.0024 - a_ex_hat_loss: 0.0024 - p_or_hat_loss: 0.0011 - p_ex_hat_loss: 0.0011 - q_ex_hat_loss: 0.0023 - q_or_hat_loss: 0.0021 - v_or_hat_loss: 2.7338e-05 - v_ex_hat_loss: 2.9412e-05 - theta_or_hat_loss: 6.9495e-04 - theta_ex_hat_loss: 8.4590e-04 - val_loss: 0.0154 - val_a_or_hat_loss: 0.0030 - val_a_ex_hat_loss: 0.0028 - val_p_or_hat_loss: 0.0013 - val_p_ex_hat_loss: 0.0013 - val_q_ex_hat_loss: 0.0026 - val_q_or_hat_loss: 0.0026 - val_v_or_hat_loss: 2.0511e-05 - val_v_ex_hat_loss: 2.2989e-05 - val_theta_or_hat_loss: 7.7790e-04 - val_theta_ex_hat_loss: 0.0010\n",
      "Epoch 36/200\n",
      "782/782 [==============================] - 6s 7ms/step - loss: 0.0126 - a_or_hat_loss: 0.0024 - a_ex_hat_loss: 0.0023 - p_or_hat_loss: 0.0010 - p_ex_hat_loss: 0.0010 - q_ex_hat_loss: 0.0022 - q_or_hat_loss: 0.0021 - v_or_hat_loss: 2.8024e-05 - v_ex_hat_loss: 2.8739e-05 - theta_or_hat_loss: 6.5275e-04 - theta_ex_hat_loss: 8.0380e-04 - val_loss: 0.0157 - val_a_or_hat_loss: 0.0032 - val_a_ex_hat_loss: 0.0029 - val_p_or_hat_loss: 0.0013 - val_p_ex_hat_loss: 0.0013 - val_q_ex_hat_loss: 0.0027 - val_q_or_hat_loss: 0.0023 - val_v_or_hat_loss: 1.8236e-05 - val_v_ex_hat_loss: 2.2443e-05 - val_theta_or_hat_loss: 8.2694e-04 - val_theta_ex_hat_loss: 0.0011\n",
      "Epoch 37/200\n",
      "782/782 [==============================] - 5s 7ms/step - loss: 0.0123 - a_or_hat_loss: 0.0023 - a_ex_hat_loss: 0.0023 - p_or_hat_loss: 0.0010 - p_ex_hat_loss: 0.0010 - q_ex_hat_loss: 0.0022 - q_or_hat_loss: 0.0020 - v_or_hat_loss: 2.6674e-05 - v_ex_hat_loss: 2.6501e-05 - theta_or_hat_loss: 6.3110e-04 - theta_ex_hat_loss: 7.6168e-04 - val_loss: 0.0150 - val_a_or_hat_loss: 0.0030 - val_a_ex_hat_loss: 0.0027 - val_p_or_hat_loss: 0.0013 - val_p_ex_hat_loss: 0.0013 - val_q_ex_hat_loss: 0.0026 - val_q_or_hat_loss: 0.0023 - val_v_or_hat_loss: 2.0654e-05 - val_v_ex_hat_loss: 2.6892e-05 - val_theta_or_hat_loss: 7.3293e-04 - val_theta_ex_hat_loss: 9.9654e-04\n",
      "Epoch 38/200\n"
     ]
    },
    {
     "name": "stdout",
     "output_type": "stream",
     "text": [
      "782/782 [==============================] - 6s 7ms/step - loss: 0.0123 - a_or_hat_loss: 0.0023 - a_ex_hat_loss: 0.0023 - p_or_hat_loss: 0.0010 - p_ex_hat_loss: 0.0010 - q_ex_hat_loss: 0.0022 - q_or_hat_loss: 0.0020 - v_or_hat_loss: 2.6928e-05 - v_ex_hat_loss: 2.9691e-05 - theta_or_hat_loss: 6.4119e-04 - theta_ex_hat_loss: 7.6925e-04 - val_loss: 0.0144 - val_a_or_hat_loss: 0.0029 - val_a_ex_hat_loss: 0.0027 - val_p_or_hat_loss: 0.0012 - val_p_ex_hat_loss: 0.0011 - val_q_ex_hat_loss: 0.0025 - val_q_or_hat_loss: 0.0024 - val_v_or_hat_loss: 1.7303e-05 - val_v_ex_hat_loss: 1.8996e-05 - val_theta_or_hat_loss: 7.4104e-04 - val_theta_ex_hat_loss: 8.6445e-04\n",
      "Epoch 39/200\n",
      "782/782 [==============================] - 5s 7ms/step - loss: 0.0120 - a_or_hat_loss: 0.0023 - a_ex_hat_loss: 0.0022 - p_or_hat_loss: 9.8437e-04 - p_ex_hat_loss: 9.9172e-04 - q_ex_hat_loss: 0.0021 - q_or_hat_loss: 0.0019 - v_or_hat_loss: 2.2505e-05 - v_ex_hat_loss: 2.4207e-05 - theta_or_hat_loss: 6.2540e-04 - theta_ex_hat_loss: 7.6871e-04 - val_loss: 0.0153 - val_a_or_hat_loss: 0.0030 - val_a_ex_hat_loss: 0.0027 - val_p_or_hat_loss: 0.0014 - val_p_ex_hat_loss: 0.0013 - val_q_ex_hat_loss: 0.0024 - val_q_or_hat_loss: 0.0028 - val_v_or_hat_loss: 4.3846e-05 - val_v_ex_hat_loss: 3.2903e-05 - val_theta_or_hat_loss: 7.2225e-04 - val_theta_ex_hat_loss: 8.7026e-04\n",
      "Epoch 40/200\n",
      "782/782 [==============================] - 6s 7ms/step - loss: 0.0118 - a_or_hat_loss: 0.0022 - a_ex_hat_loss: 0.0022 - p_or_hat_loss: 9.7614e-04 - p_ex_hat_loss: 9.8916e-04 - q_ex_hat_loss: 0.0021 - q_or_hat_loss: 0.0020 - v_or_hat_loss: 2.6746e-05 - v_ex_hat_loss: 2.6709e-05 - theta_or_hat_loss: 6.1654e-04 - theta_ex_hat_loss: 7.4562e-04 - val_loss: 0.0137 - val_a_or_hat_loss: 0.0031 - val_a_ex_hat_loss: 0.0026 - val_p_or_hat_loss: 0.0010 - val_p_ex_hat_loss: 0.0011 - val_q_ex_hat_loss: 0.0022 - val_q_or_hat_loss: 0.0021 - val_v_or_hat_loss: 1.9375e-05 - val_v_ex_hat_loss: 2.6878e-05 - val_theta_or_hat_loss: 6.8134e-04 - val_theta_ex_hat_loss: 8.4634e-04\n",
      "Epoch 41/200\n",
      "782/782 [==============================] - 5s 7ms/step - loss: 0.0114 - a_or_hat_loss: 0.0022 - a_ex_hat_loss: 0.0021 - p_or_hat_loss: 9.3315e-04 - p_ex_hat_loss: 9.2777e-04 - q_ex_hat_loss: 0.0020 - q_or_hat_loss: 0.0019 - v_or_hat_loss: 2.3700e-05 - v_ex_hat_loss: 2.5076e-05 - theta_or_hat_loss: 5.9180e-04 - theta_ex_hat_loss: 7.2711e-04 - val_loss: 0.0141 - val_a_or_hat_loss: 0.0029 - val_a_ex_hat_loss: 0.0025 - val_p_or_hat_loss: 0.0011 - val_p_ex_hat_loss: 0.0010 - val_q_ex_hat_loss: 0.0027 - val_q_or_hat_loss: 0.0023 - val_v_or_hat_loss: 4.0315e-05 - val_v_ex_hat_loss: 5.0223e-05 - val_theta_or_hat_loss: 7.0660e-04 - val_theta_ex_hat_loss: 7.9346e-04\n",
      "Epoch 42/200\n",
      "782/782 [==============================] - 5s 7ms/step - loss: 0.0112 - a_or_hat_loss: 0.0021 - a_ex_hat_loss: 0.0021 - p_or_hat_loss: 9.2394e-04 - p_ex_hat_loss: 9.3556e-04 - q_ex_hat_loss: 0.0020 - q_or_hat_loss: 0.0019 - v_or_hat_loss: 2.1810e-05 - v_ex_hat_loss: 2.2808e-05 - theta_or_hat_loss: 5.8962e-04 - theta_ex_hat_loss: 7.0474e-04 - val_loss: 0.0132 - val_a_or_hat_loss: 0.0027 - val_a_ex_hat_loss: 0.0025 - val_p_or_hat_loss: 0.0011 - val_p_ex_hat_loss: 0.0010 - val_q_ex_hat_loss: 0.0022 - val_q_or_hat_loss: 0.0022 - val_v_or_hat_loss: 1.9760e-05 - val_v_ex_hat_loss: 1.7673e-05 - val_theta_or_hat_loss: 6.7945e-04 - val_theta_ex_hat_loss: 8.1567e-04\n",
      "Epoch 43/200\n",
      "782/782 [==============================] - 5s 7ms/step - loss: 0.0111 - a_or_hat_loss: 0.0021 - a_ex_hat_loss: 0.0021 - p_or_hat_loss: 9.2364e-04 - p_ex_hat_loss: 9.5000e-04 - q_ex_hat_loss: 0.0020 - q_or_hat_loss: 0.0018 - v_or_hat_loss: 2.3869e-05 - v_ex_hat_loss: 2.3816e-05 - theta_or_hat_loss: 5.6791e-04 - theta_ex_hat_loss: 6.9130e-04 - val_loss: 0.0131 - val_a_or_hat_loss: 0.0027 - val_a_ex_hat_loss: 0.0025 - val_p_or_hat_loss: 9.9996e-04 - val_p_ex_hat_loss: 0.0010 - val_q_ex_hat_loss: 0.0024 - val_q_or_hat_loss: 0.0019 - val_v_or_hat_loss: 1.5357e-05 - val_v_ex_hat_loss: 1.9983e-05 - val_theta_or_hat_loss: 6.4689e-04 - val_theta_ex_hat_loss: 9.3895e-04\n",
      "Epoch 44/200\n",
      "782/782 [==============================] - 5s 7ms/step - loss: 0.0108 - a_or_hat_loss: 0.0021 - a_ex_hat_loss: 0.0020 - p_or_hat_loss: 8.7362e-04 - p_ex_hat_loss: 8.8235e-04 - q_ex_hat_loss: 0.0019 - q_or_hat_loss: 0.0018 - v_or_hat_loss: 2.0049e-05 - v_ex_hat_loss: 2.0545e-05 - theta_or_hat_loss: 5.4424e-04 - theta_ex_hat_loss: 6.7570e-04 - val_loss: 0.0135 - val_a_or_hat_loss: 0.0028 - val_a_ex_hat_loss: 0.0027 - val_p_or_hat_loss: 0.0011 - val_p_ex_hat_loss: 0.0012 - val_q_ex_hat_loss: 0.0023 - val_q_or_hat_loss: 0.0020 - val_v_or_hat_loss: 1.4280e-05 - val_v_ex_hat_loss: 1.8914e-05 - val_theta_or_hat_loss: 6.2865e-04 - val_theta_ex_hat_loss: 7.8234e-04\n",
      "Epoch 45/200\n",
      "782/782 [==============================] - 6s 7ms/step - loss: 0.0107 - a_or_hat_loss: 0.0020 - a_ex_hat_loss: 0.0020 - p_or_hat_loss: 8.7699e-04 - p_ex_hat_loss: 8.9808e-04 - q_ex_hat_loss: 0.0019 - q_or_hat_loss: 0.0017 - v_or_hat_loss: 2.1391e-05 - v_ex_hat_loss: 2.2403e-05 - theta_or_hat_loss: 5.3310e-04 - theta_ex_hat_loss: 6.5824e-04 - val_loss: 0.0127 - val_a_or_hat_loss: 0.0027 - val_a_ex_hat_loss: 0.0025 - val_p_or_hat_loss: 9.2389e-04 - val_p_ex_hat_loss: 9.8877e-04 - val_q_ex_hat_loss: 0.0020 - val_q_or_hat_loss: 0.0021 - val_v_or_hat_loss: 2.4685e-05 - val_v_ex_hat_loss: 2.1096e-05 - val_theta_or_hat_loss: 6.4368e-04 - val_theta_ex_hat_loss: 7.7008e-04\n",
      "Epoch 46/200\n",
      "782/782 [==============================] - 6s 7ms/step - loss: 0.0103 - a_or_hat_loss: 0.0020 - a_ex_hat_loss: 0.0019 - p_or_hat_loss: 8.2252e-04 - p_ex_hat_loss: 8.7284e-04 - q_ex_hat_loss: 0.0018 - q_or_hat_loss: 0.0017 - v_or_hat_loss: 2.2312e-05 - v_ex_hat_loss: 2.2061e-05 - theta_or_hat_loss: 5.1888e-04 - theta_ex_hat_loss: 6.4727e-04 - val_loss: 0.0125 - val_a_or_hat_loss: 0.0025 - val_a_ex_hat_loss: 0.0023 - val_p_or_hat_loss: 0.0010 - val_p_ex_hat_loss: 0.0011 - val_q_ex_hat_loss: 0.0022 - val_q_or_hat_loss: 0.0019 - val_v_or_hat_loss: 2.1297e-05 - val_v_ex_hat_loss: 2.7478e-05 - val_theta_or_hat_loss: 6.2004e-04 - val_theta_ex_hat_loss: 7.7404e-04\n",
      "Epoch 47/200\n",
      "782/782 [==============================] - 6s 8ms/step - loss: 0.0101 - a_or_hat_loss: 0.0019 - a_ex_hat_loss: 0.0019 - p_or_hat_loss: 8.2286e-04 - p_ex_hat_loss: 8.4024e-04 - q_ex_hat_loss: 0.0018 - q_or_hat_loss: 0.0016 - v_or_hat_loss: 1.8401e-05 - v_ex_hat_loss: 1.9055e-05 - theta_or_hat_loss: 5.0445e-04 - theta_ex_hat_loss: 6.2939e-04 - val_loss: 0.0147 - val_a_or_hat_loss: 0.0030 - val_a_ex_hat_loss: 0.0030 - val_p_or_hat_loss: 0.0010 - val_p_ex_hat_loss: 0.0013 - val_q_ex_hat_loss: 0.0023 - val_q_or_hat_loss: 0.0025 - val_v_or_hat_loss: 3.5480e-05 - val_v_ex_hat_loss: 2.5141e-05 - val_theta_or_hat_loss: 7.0438e-04 - val_theta_ex_hat_loss: 8.3993e-04\n",
      "Epoch 48/200\n",
      "782/782 [==============================] - 6s 7ms/step - loss: 0.0102 - a_or_hat_loss: 0.0019 - a_ex_hat_loss: 0.0019 - p_or_hat_loss: 8.4606e-04 - p_ex_hat_loss: 8.6553e-04 - q_ex_hat_loss: 0.0018 - q_or_hat_loss: 0.0017 - v_or_hat_loss: 1.9525e-05 - v_ex_hat_loss: 1.9919e-05 - theta_or_hat_loss: 5.1269e-04 - theta_ex_hat_loss: 6.2718e-04 - val_loss: 0.0130 - val_a_or_hat_loss: 0.0026 - val_a_ex_hat_loss: 0.0022 - val_p_or_hat_loss: 0.0012 - val_p_ex_hat_loss: 0.0012 - val_q_ex_hat_loss: 0.0022 - val_q_or_hat_loss: 0.0020 - val_v_or_hat_loss: 2.1765e-05 - val_v_ex_hat_loss: 4.7285e-05 - val_theta_or_hat_loss: 5.9122e-04 - val_theta_ex_hat_loss: 8.7077e-04\n",
      "Epoch 49/200\n",
      "782/782 [==============================] - 5s 7ms/step - loss: 0.0099 - a_or_hat_loss: 0.0019 - a_ex_hat_loss: 0.0018 - p_or_hat_loss: 8.1327e-04 - p_ex_hat_loss: 8.5697e-04 - q_ex_hat_loss: 0.0017 - q_or_hat_loss: 0.0016 - v_or_hat_loss: 1.7590e-05 - v_ex_hat_loss: 1.9821e-05 - theta_or_hat_loss: 4.9372e-04 - theta_ex_hat_loss: 6.2315e-04 - val_loss: 0.0123 - val_a_or_hat_loss: 0.0025 - val_a_ex_hat_loss: 0.0023 - val_p_or_hat_loss: 9.0869e-04 - val_p_ex_hat_loss: 9.8027e-04 - val_q_ex_hat_loss: 0.0019 - val_q_or_hat_loss: 0.0023 - val_v_or_hat_loss: 2.0649e-05 - val_v_ex_hat_loss: 1.4925e-05 - val_theta_or_hat_loss: 6.3231e-04 - val_theta_ex_hat_loss: 8.1925e-04\n",
      "Epoch 50/200\n",
      "782/782 [==============================] - 6s 8ms/step - loss: 0.0097 - a_or_hat_loss: 0.0019 - a_ex_hat_loss: 0.0018 - p_or_hat_loss: 7.6889e-04 - p_ex_hat_loss: 8.0315e-04 - q_ex_hat_loss: 0.0017 - q_or_hat_loss: 0.0016 - v_or_hat_loss: 2.0626e-05 - v_ex_hat_loss: 2.0689e-05 - theta_or_hat_loss: 4.8839e-04 - theta_ex_hat_loss: 6.1001e-04 - val_loss: 0.0127 - val_a_or_hat_loss: 0.0024 - val_a_ex_hat_loss: 0.0023 - val_p_or_hat_loss: 9.7549e-04 - val_p_ex_hat_loss: 9.7471e-04 - val_q_ex_hat_loss: 0.0026 - val_q_or_hat_loss: 0.0021 - val_v_or_hat_loss: 1.9576e-05 - val_v_ex_hat_loss: 2.3839e-05 - val_theta_or_hat_loss: 6.1273e-04 - val_theta_ex_hat_loss: 7.3279e-04\n",
      "Epoch 51/200\n",
      "782/782 [==============================] - 5s 7ms/step - loss: 0.0097 - a_or_hat_loss: 0.0019 - a_ex_hat_loss: 0.0018 - p_or_hat_loss: 7.9930e-04 - p_ex_hat_loss: 8.4016e-04 - q_ex_hat_loss: 0.0017 - q_or_hat_loss: 0.0016 - v_or_hat_loss: 1.9955e-05 - v_ex_hat_loss: 1.9823e-05 - theta_or_hat_loss: 4.8210e-04 - theta_ex_hat_loss: 5.9251e-04 - val_loss: 0.0122 - val_a_or_hat_loss: 0.0026 - val_a_ex_hat_loss: 0.0022 - val_p_or_hat_loss: 9.6421e-04 - val_p_ex_hat_loss: 9.6068e-04 - val_q_ex_hat_loss: 0.0022 - val_q_or_hat_loss: 0.0021 - val_v_or_hat_loss: 1.5911e-05 - val_v_ex_hat_loss: 1.4193e-05 - val_theta_or_hat_loss: 5.1933e-04 - val_theta_ex_hat_loss: 6.9871e-04\n",
      "Epoch 52/200\n",
      "782/782 [==============================] - 5s 7ms/step - loss: 0.0095 - a_or_hat_loss: 0.0018 - a_ex_hat_loss: 0.0017 - p_or_hat_loss: 7.6726e-04 - p_ex_hat_loss: 8.0767e-04 - q_ex_hat_loss: 0.0017 - q_or_hat_loss: 0.0015 - v_or_hat_loss: 1.8663e-05 - v_ex_hat_loss: 1.9072e-05 - theta_or_hat_loss: 4.6594e-04 - theta_ex_hat_loss: 5.9099e-04 - val_loss: 0.0117 - val_a_or_hat_loss: 0.0024 - val_a_ex_hat_loss: 0.0022 - val_p_or_hat_loss: 9.0415e-04 - val_p_ex_hat_loss: 9.6548e-04 - val_q_ex_hat_loss: 0.0020 - val_q_or_hat_loss: 0.0020 - val_v_or_hat_loss: 9.3121e-06 - val_v_ex_hat_loss: 1.0445e-05 - val_theta_or_hat_loss: 5.2031e-04 - val_theta_ex_hat_loss: 6.8604e-04\n",
      "Epoch 53/200\n",
      "782/782 [==============================] - 5s 7ms/step - loss: 0.0095 - a_or_hat_loss: 0.0018 - a_ex_hat_loss: 0.0017 - p_or_hat_loss: 7.8178e-04 - p_ex_hat_loss: 8.1766e-04 - q_ex_hat_loss: 0.0017 - q_or_hat_loss: 0.0015 - v_or_hat_loss: 2.0493e-05 - v_ex_hat_loss: 1.9806e-05 - theta_or_hat_loss: 4.5607e-04 - theta_ex_hat_loss: 5.9087e-04 - val_loss: 0.0117 - val_a_or_hat_loss: 0.0026 - val_a_ex_hat_loss: 0.0021 - val_p_or_hat_loss: 0.0013 - val_p_ex_hat_loss: 9.2580e-04 - val_q_ex_hat_loss: 0.0018 - val_q_or_hat_loss: 0.0018 - val_v_or_hat_loss: 1.1335e-05 - val_v_ex_hat_loss: 1.7502e-05 - val_theta_or_hat_loss: 5.0395e-04 - val_theta_ex_hat_loss: 6.9378e-04\n",
      "Epoch 54/200\n",
      "782/782 [==============================] - 5s 7ms/step - loss: 0.0091 - a_or_hat_loss: 0.0018 - a_ex_hat_loss: 0.0017 - p_or_hat_loss: 7.2658e-04 - p_ex_hat_loss: 7.6178e-04 - q_ex_hat_loss: 0.0016 - q_or_hat_loss: 0.0015 - v_or_hat_loss: 1.7370e-05 - v_ex_hat_loss: 1.7808e-05 - theta_or_hat_loss: 4.3895e-04 - theta_ex_hat_loss: 5.5202e-04 - val_loss: 0.0113 - val_a_or_hat_loss: 0.0023 - val_a_ex_hat_loss: 0.0020 - val_p_or_hat_loss: 8.8932e-04 - val_p_ex_hat_loss: 0.0011 - val_q_ex_hat_loss: 0.0021 - val_q_or_hat_loss: 0.0016 - val_v_or_hat_loss: 1.2255e-05 - val_v_ex_hat_loss: 2.9623e-05 - val_theta_or_hat_loss: 5.8085e-04 - val_theta_ex_hat_loss: 6.5693e-04\n",
      "Epoch 55/200\n",
      "782/782 [==============================] - 6s 8ms/step - loss: 0.0090 - a_or_hat_loss: 0.0018 - a_ex_hat_loss: 0.0017 - p_or_hat_loss: 7.4505e-04 - p_ex_hat_loss: 7.8452e-04 - q_ex_hat_loss: 0.0016 - q_or_hat_loss: 0.0014 - v_or_hat_loss: 1.6658e-05 - v_ex_hat_loss: 1.6639e-05 - theta_or_hat_loss: 4.3607e-04 - theta_ex_hat_loss: 5.5329e-04 - val_loss: 0.0110 - val_a_or_hat_loss: 0.0023 - val_a_ex_hat_loss: 0.0020 - val_p_or_hat_loss: 8.5539e-04 - val_p_ex_hat_loss: 9.3046e-04 - val_q_ex_hat_loss: 0.0019 - val_q_or_hat_loss: 0.0018 - val_v_or_hat_loss: 1.1284e-05 - val_v_ex_hat_loss: 2.0936e-05 - val_theta_or_hat_loss: 5.2461e-04 - val_theta_ex_hat_loss: 6.6170e-04\n",
      "Epoch 56/200\n",
      "782/782 [==============================] - 6s 8ms/step - loss: 0.0090 - a_or_hat_loss: 0.0018 - a_ex_hat_loss: 0.0017 - p_or_hat_loss: 7.2458e-04 - p_ex_hat_loss: 7.6356e-04 - q_ex_hat_loss: 0.0016 - q_or_hat_loss: 0.0014 - v_or_hat_loss: 1.8173e-05 - v_ex_hat_loss: 1.9843e-05 - theta_or_hat_loss: 4.3157e-04 - theta_ex_hat_loss: 5.4686e-04 - val_loss: 0.0116 - val_a_or_hat_loss: 0.0023 - val_a_ex_hat_loss: 0.0022 - val_p_or_hat_loss: 9.2528e-04 - val_p_ex_hat_loss: 8.6684e-04 - val_q_ex_hat_loss: 0.0021 - val_q_or_hat_loss: 0.0020 - val_v_or_hat_loss: 1.1857e-05 - val_v_ex_hat_loss: 1.3070e-05 - val_theta_or_hat_loss: 5.8286e-04 - val_theta_ex_hat_loss: 6.9447e-04\n",
      "Epoch 57/200\n",
      "782/782 [==============================] - 6s 7ms/step - loss: 0.0088 - a_or_hat_loss: 0.0017 - a_ex_hat_loss: 0.0016 - p_or_hat_loss: 7.2362e-04 - p_ex_hat_loss: 7.5884e-04 - q_ex_hat_loss: 0.0016 - q_or_hat_loss: 0.0014 - v_or_hat_loss: 1.7986e-05 - v_ex_hat_loss: 1.8960e-05 - theta_or_hat_loss: 4.3213e-04 - theta_ex_hat_loss: 5.3651e-04 - val_loss: 0.0106 - val_a_or_hat_loss: 0.0023 - val_a_ex_hat_loss: 0.0019 - val_p_or_hat_loss: 9.8056e-04 - val_p_ex_hat_loss: 8.1582e-04 - val_q_ex_hat_loss: 0.0018 - val_q_or_hat_loss: 0.0016 - val_v_or_hat_loss: 9.9217e-06 - val_v_ex_hat_loss: 1.3074e-05 - val_theta_or_hat_loss: 4.6198e-04 - val_theta_ex_hat_loss: 6.3459e-04\n",
      "Epoch 58/200\n",
      "782/782 [==============================] - 6s 8ms/step - loss: 0.0087 - a_or_hat_loss: 0.0017 - a_ex_hat_loss: 0.0016 - p_or_hat_loss: 6.9333e-04 - p_ex_hat_loss: 7.2213e-04 - q_ex_hat_loss: 0.0015 - q_or_hat_loss: 0.0014 - v_or_hat_loss: 1.4750e-05 - v_ex_hat_loss: 1.5135e-05 - theta_or_hat_loss: 4.2681e-04 - theta_ex_hat_loss: 5.3184e-04 - val_loss: 0.0110 - val_a_or_hat_loss: 0.0023 - val_a_ex_hat_loss: 0.0020 - val_p_or_hat_loss: 9.4348e-04 - val_p_ex_hat_loss: 8.0986e-04 - val_q_ex_hat_loss: 0.0021 - val_q_or_hat_loss: 0.0016 - val_v_or_hat_loss: 2.6526e-05 - val_v_ex_hat_loss: 2.2956e-05 - val_theta_or_hat_loss: 5.5097e-04 - val_theta_ex_hat_loss: 7.0829e-04\n",
      "Epoch 59/200\n",
      "782/782 [==============================] - 6s 7ms/step - loss: 0.0087 - a_or_hat_loss: 0.0017 - a_ex_hat_loss: 0.0016 - p_or_hat_loss: 6.8568e-04 - p_ex_hat_loss: 7.1781e-04 - q_ex_hat_loss: 0.0016 - q_or_hat_loss: 0.0014 - v_or_hat_loss: 1.8302e-05 - v_ex_hat_loss: 1.9014e-05 - theta_or_hat_loss: 4.2297e-04 - theta_ex_hat_loss: 5.2537e-04 - val_loss: 0.0100 - val_a_or_hat_loss: 0.0022 - val_a_ex_hat_loss: 0.0019 - val_p_or_hat_loss: 7.4544e-04 - val_p_ex_hat_loss: 7.4457e-04 - val_q_ex_hat_loss: 0.0017 - val_q_or_hat_loss: 0.0017 - val_v_or_hat_loss: 1.3955e-05 - val_v_ex_hat_loss: 1.4892e-05 - val_theta_or_hat_loss: 5.1491e-04 - val_theta_ex_hat_loss: 5.9552e-04\n",
      "Epoch 60/200\n",
      "782/782 [==============================] - 5s 7ms/step - loss: 0.0083 - a_or_hat_loss: 0.0017 - a_ex_hat_loss: 0.0016 - p_or_hat_loss: 6.5175e-04 - p_ex_hat_loss: 6.9960e-04 - q_ex_hat_loss: 0.0015 - q_or_hat_loss: 0.0013 - v_or_hat_loss: 1.3812e-05 - v_ex_hat_loss: 1.5455e-05 - theta_or_hat_loss: 3.8755e-04 - theta_ex_hat_loss: 4.9224e-04 - val_loss: 0.0109 - val_a_or_hat_loss: 0.0023 - val_a_ex_hat_loss: 0.0020 - val_p_or_hat_loss: 8.7584e-04 - val_p_ex_hat_loss: 8.0282e-04 - val_q_ex_hat_loss: 0.0022 - val_q_or_hat_loss: 0.0015 - val_v_or_hat_loss: 1.7477e-05 - val_v_ex_hat_loss: 2.2406e-05 - val_theta_or_hat_loss: 5.1127e-04 - val_theta_ex_hat_loss: 6.3980e-04\n",
      "Epoch 61/200\n",
      "782/782 [==============================] - 6s 7ms/step - loss: 0.0084 - a_or_hat_loss: 0.0017 - a_ex_hat_loss: 0.0016 - p_or_hat_loss: 6.7576e-04 - p_ex_hat_loss: 6.9268e-04 - q_ex_hat_loss: 0.0015 - q_or_hat_loss: 0.0013 - v_or_hat_loss: 1.5194e-05 - v_ex_hat_loss: 1.5825e-05 - theta_or_hat_loss: 4.0159e-04 - theta_ex_hat_loss: 5.0769e-04 - val_loss: 0.0104 - val_a_or_hat_loss: 0.0022 - val_a_ex_hat_loss: 0.0019 - val_p_or_hat_loss: 7.3831e-04 - val_p_ex_hat_loss: 8.5741e-04 - val_q_ex_hat_loss: 0.0016 - val_q_or_hat_loss: 0.0017 - val_v_or_hat_loss: 1.6206e-05 - val_v_ex_hat_loss: 3.0045e-05 - val_theta_or_hat_loss: 6.5572e-04 - val_theta_ex_hat_loss: 7.6539e-04\n"
     ]
    },
    {
     "name": "stdout",
     "output_type": "stream",
     "text": [
      "Epoch 62/200\n",
      "782/782 [==============================] - 5s 7ms/step - loss: 0.0084 - a_or_hat_loss: 0.0017 - a_ex_hat_loss: 0.0016 - p_or_hat_loss: 6.8994e-04 - p_ex_hat_loss: 7.2735e-04 - q_ex_hat_loss: 0.0015 - q_or_hat_loss: 0.0013 - v_or_hat_loss: 1.6117e-05 - v_ex_hat_loss: 1.6646e-05 - theta_or_hat_loss: 4.0228e-04 - theta_ex_hat_loss: 4.9868e-04 - val_loss: 0.0099 - val_a_or_hat_loss: 0.0021 - val_a_ex_hat_loss: 0.0019 - val_p_or_hat_loss: 7.3359e-04 - val_p_ex_hat_loss: 8.4647e-04 - val_q_ex_hat_loss: 0.0018 - val_q_or_hat_loss: 0.0015 - val_v_or_hat_loss: 8.4894e-06 - val_v_ex_hat_loss: 9.9428e-06 - val_theta_or_hat_loss: 4.7504e-04 - val_theta_ex_hat_loss: 6.1340e-04\n",
      "Epoch 63/200\n",
      "782/782 [==============================] - 5s 7ms/step - loss: 0.0082 - a_or_hat_loss: 0.0016 - a_ex_hat_loss: 0.0015 - p_or_hat_loss: 6.6103e-04 - p_ex_hat_loss: 6.9843e-04 - q_ex_hat_loss: 0.0015 - q_or_hat_loss: 0.0013 - v_or_hat_loss: 1.5598e-05 - v_ex_hat_loss: 1.5683e-05 - theta_or_hat_loss: 3.8798e-04 - theta_ex_hat_loss: 4.8816e-04 - val_loss: 0.0098 - val_a_or_hat_loss: 0.0021 - val_a_ex_hat_loss: 0.0018 - val_p_or_hat_loss: 8.0633e-04 - val_p_ex_hat_loss: 7.7814e-04 - val_q_ex_hat_loss: 0.0018 - val_q_or_hat_loss: 0.0015 - val_v_or_hat_loss: 1.7318e-05 - val_v_ex_hat_loss: 1.4644e-05 - val_theta_or_hat_loss: 4.3982e-04 - val_theta_ex_hat_loss: 5.6023e-04\n",
      "Epoch 64/200\n",
      "782/782 [==============================] - 5s 7ms/step - loss: 0.0081 - a_or_hat_loss: 0.0016 - a_ex_hat_loss: 0.0015 - p_or_hat_loss: 6.4907e-04 - p_ex_hat_loss: 6.8946e-04 - q_ex_hat_loss: 0.0014 - q_or_hat_loss: 0.0013 - v_or_hat_loss: 1.6141e-05 - v_ex_hat_loss: 1.6242e-05 - theta_or_hat_loss: 3.8213e-04 - theta_ex_hat_loss: 4.8280e-04 - val_loss: 0.0115 - val_a_or_hat_loss: 0.0024 - val_a_ex_hat_loss: 0.0020 - val_p_or_hat_loss: 0.0010 - val_p_ex_hat_loss: 9.8335e-04 - val_q_ex_hat_loss: 0.0019 - val_q_or_hat_loss: 0.0017 - val_v_or_hat_loss: 1.0393e-05 - val_v_ex_hat_loss: 1.1788e-05 - val_theta_or_hat_loss: 5.7589e-04 - val_theta_ex_hat_loss: 8.5122e-04\n",
      "Epoch 65/200\n",
      "782/782 [==============================] - 5s 7ms/step - loss: 0.0081 - a_or_hat_loss: 0.0016 - a_ex_hat_loss: 0.0015 - p_or_hat_loss: 6.4240e-04 - p_ex_hat_loss: 6.8163e-04 - q_ex_hat_loss: 0.0014 - q_or_hat_loss: 0.0013 - v_or_hat_loss: 1.4494e-05 - v_ex_hat_loss: 1.5141e-05 - theta_or_hat_loss: 3.8571e-04 - theta_ex_hat_loss: 5.1225e-04 - val_loss: 0.0099 - val_a_or_hat_loss: 0.0022 - val_a_ex_hat_loss: 0.0019 - val_p_or_hat_loss: 7.7553e-04 - val_p_ex_hat_loss: 7.6119e-04 - val_q_ex_hat_loss: 0.0018 - val_q_or_hat_loss: 0.0015 - val_v_or_hat_loss: 1.7286e-05 - val_v_ex_hat_loss: 2.1130e-05 - val_theta_or_hat_loss: 4.5908e-04 - val_theta_ex_hat_loss: 5.3471e-04\n",
      "Epoch 66/200\n",
      "782/782 [==============================] - 6s 7ms/step - loss: 0.0078 - a_or_hat_loss: 0.0016 - a_ex_hat_loss: 0.0015 - p_or_hat_loss: 6.1456e-04 - p_ex_hat_loss: 6.4804e-04 - q_ex_hat_loss: 0.0014 - q_or_hat_loss: 0.0012 - v_or_hat_loss: 1.4840e-05 - v_ex_hat_loss: 1.4949e-05 - theta_or_hat_loss: 3.6655e-04 - theta_ex_hat_loss: 4.5768e-04 - val_loss: 0.0101 - val_a_or_hat_loss: 0.0021 - val_a_ex_hat_loss: 0.0019 - val_p_or_hat_loss: 7.0611e-04 - val_p_ex_hat_loss: 7.6160e-04 - val_q_ex_hat_loss: 0.0018 - val_q_or_hat_loss: 0.0017 - val_v_or_hat_loss: 1.3231e-05 - val_v_ex_hat_loss: 1.3871e-05 - val_theta_or_hat_loss: 5.6322e-04 - val_theta_ex_hat_loss: 5.8815e-04\n",
      "Epoch 67/200\n",
      "782/782 [==============================] - 5s 7ms/step - loss: 0.0078 - a_or_hat_loss: 0.0016 - a_ex_hat_loss: 0.0015 - p_or_hat_loss: 6.2936e-04 - p_ex_hat_loss: 6.6970e-04 - q_ex_hat_loss: 0.0014 - q_or_hat_loss: 0.0012 - v_or_hat_loss: 1.5024e-05 - v_ex_hat_loss: 1.5660e-05 - theta_or_hat_loss: 3.6179e-04 - theta_ex_hat_loss: 4.5440e-04 - val_loss: 0.0115 - val_a_or_hat_loss: 0.0022 - val_a_ex_hat_loss: 0.0022 - val_p_or_hat_loss: 0.0010 - val_p_ex_hat_loss: 9.8786e-04 - val_q_ex_hat_loss: 0.0021 - val_q_or_hat_loss: 0.0016 - val_v_or_hat_loss: 2.9724e-05 - val_v_ex_hat_loss: 2.4083e-05 - val_theta_or_hat_loss: 5.7727e-04 - val_theta_ex_hat_loss: 6.9633e-04\n",
      "Epoch 68/200\n",
      "782/782 [==============================] - 6s 7ms/step - loss: 0.0078 - a_or_hat_loss: 0.0016 - a_ex_hat_loss: 0.0015 - p_or_hat_loss: 6.2549e-04 - p_ex_hat_loss: 6.4999e-04 - q_ex_hat_loss: 0.0014 - q_or_hat_loss: 0.0012 - v_or_hat_loss: 1.4475e-05 - v_ex_hat_loss: 1.5825e-05 - theta_or_hat_loss: 3.7176e-04 - theta_ex_hat_loss: 4.7202e-04 - val_loss: 0.0095 - val_a_or_hat_loss: 0.0020 - val_a_ex_hat_loss: 0.0017 - val_p_or_hat_loss: 7.7607e-04 - val_p_ex_hat_loss: 8.0102e-04 - val_q_ex_hat_loss: 0.0017 - val_q_or_hat_loss: 0.0015 - val_v_or_hat_loss: 8.8800e-06 - val_v_ex_hat_loss: 1.0998e-05 - val_theta_or_hat_loss: 4.9453e-04 - val_theta_ex_hat_loss: 5.8971e-04\n",
      "Epoch 69/200\n",
      "782/782 [==============================] - 6s 8ms/step - loss: 0.0077 - a_or_hat_loss: 0.0016 - a_ex_hat_loss: 0.0014 - p_or_hat_loss: 6.1620e-04 - p_ex_hat_loss: 6.5630e-04 - q_ex_hat_loss: 0.0014 - q_or_hat_loss: 0.0012 - v_or_hat_loss: 1.3638e-05 - v_ex_hat_loss: 1.4356e-05 - theta_or_hat_loss: 3.5453e-04 - theta_ex_hat_loss: 4.4948e-04 - val_loss: 0.0101 - val_a_or_hat_loss: 0.0022 - val_a_ex_hat_loss: 0.0018 - val_p_or_hat_loss: 9.3543e-04 - val_p_ex_hat_loss: 9.2574e-04 - val_q_ex_hat_loss: 0.0018 - val_q_or_hat_loss: 0.0014 - val_v_or_hat_loss: 3.2282e-05 - val_v_ex_hat_loss: 3.0869e-05 - val_theta_or_hat_loss: 4.0640e-04 - val_theta_ex_hat_loss: 5.5727e-04\n",
      "Epoch 70/200\n",
      "782/782 [==============================] - 6s 7ms/step - loss: 0.0076 - a_or_hat_loss: 0.0016 - a_ex_hat_loss: 0.0014 - p_or_hat_loss: 6.2848e-04 - p_ex_hat_loss: 6.5640e-04 - q_ex_hat_loss: 0.0013 - q_or_hat_loss: 0.0012 - v_or_hat_loss: 1.3659e-05 - v_ex_hat_loss: 1.4273e-05 - theta_or_hat_loss: 3.4481e-04 - theta_ex_hat_loss: 4.4632e-04 - val_loss: 0.0097 - val_a_or_hat_loss: 0.0020 - val_a_ex_hat_loss: 0.0017 - val_p_or_hat_loss: 6.8137e-04 - val_p_ex_hat_loss: 6.9785e-04 - val_q_ex_hat_loss: 0.0019 - val_q_or_hat_loss: 0.0016 - val_v_or_hat_loss: 1.3675e-05 - val_v_ex_hat_loss: 1.2112e-05 - val_theta_or_hat_loss: 4.0799e-04 - val_theta_ex_hat_loss: 6.4623e-04\n",
      "Epoch 71/200\n",
      "782/782 [==============================] - 6s 7ms/step - loss: 0.0075 - a_or_hat_loss: 0.0015 - a_ex_hat_loss: 0.0014 - p_or_hat_loss: 5.9818e-04 - p_ex_hat_loss: 6.3489e-04 - q_ex_hat_loss: 0.0013 - q_or_hat_loss: 0.0012 - v_or_hat_loss: 1.3984e-05 - v_ex_hat_loss: 1.4180e-05 - theta_or_hat_loss: 3.3966e-04 - theta_ex_hat_loss: 4.3550e-04 - val_loss: 0.0090 - val_a_or_hat_loss: 0.0020 - val_a_ex_hat_loss: 0.0018 - val_p_or_hat_loss: 8.0771e-04 - val_p_ex_hat_loss: 7.7207e-04 - val_q_ex_hat_loss: 0.0016 - val_q_or_hat_loss: 0.0012 - val_v_or_hat_loss: 7.2986e-06 - val_v_ex_hat_loss: 1.1463e-05 - val_theta_or_hat_loss: 4.1402e-04 - val_theta_ex_hat_loss: 4.9040e-04\n",
      "Epoch 72/200\n",
      "782/782 [==============================] - 6s 7ms/step - loss: 0.0074 - a_or_hat_loss: 0.0015 - a_ex_hat_loss: 0.0014 - p_or_hat_loss: 5.8455e-04 - p_ex_hat_loss: 6.2067e-04 - q_ex_hat_loss: 0.0013 - q_or_hat_loss: 0.0011 - v_or_hat_loss: 1.1894e-05 - v_ex_hat_loss: 1.2608e-05 - theta_or_hat_loss: 3.4358e-04 - theta_ex_hat_loss: 4.3753e-04 - val_loss: 0.0090 - val_a_or_hat_loss: 0.0019 - val_a_ex_hat_loss: 0.0017 - val_p_or_hat_loss: 7.0668e-04 - val_p_ex_hat_loss: 7.9992e-04 - val_q_ex_hat_loss: 0.0017 - val_q_or_hat_loss: 0.0013 - val_v_or_hat_loss: 1.2813e-05 - val_v_ex_hat_loss: 1.1470e-05 - val_theta_or_hat_loss: 4.0002e-04 - val_theta_ex_hat_loss: 5.2392e-04\n",
      "Epoch 73/200\n",
      "782/782 [==============================] - 5s 7ms/step - loss: 0.0074 - a_or_hat_loss: 0.0015 - a_ex_hat_loss: 0.0014 - p_or_hat_loss: 5.8874e-04 - p_ex_hat_loss: 6.3031e-04 - q_ex_hat_loss: 0.0013 - q_or_hat_loss: 0.0011 - v_or_hat_loss: 1.3955e-05 - v_ex_hat_loss: 1.3665e-05 - theta_or_hat_loss: 3.3692e-04 - theta_ex_hat_loss: 4.3804e-04 - val_loss: 0.0089 - val_a_or_hat_loss: 0.0020 - val_a_ex_hat_loss: 0.0017 - val_p_or_hat_loss: 6.8902e-04 - val_p_ex_hat_loss: 7.5788e-04 - val_q_ex_hat_loss: 0.0016 - val_q_or_hat_loss: 0.0013 - val_v_or_hat_loss: 9.9033e-06 - val_v_ex_hat_loss: 1.1217e-05 - val_theta_or_hat_loss: 3.7307e-04 - val_theta_ex_hat_loss: 5.0816e-04\n"
     ]
    },
    {
     "name": "stdout",
     "output_type": "stream",
     "text": [
      "Epoch 74/200\n",
      "782/782 [==============================] - 5s 7ms/step - loss: 0.0072 - a_or_hat_loss: 0.0015 - a_ex_hat_loss: 0.0014 - p_or_hat_loss: 5.7561e-04 - p_ex_hat_loss: 6.0868e-04 - q_ex_hat_loss: 0.0013 - q_or_hat_loss: 0.0011 - v_or_hat_loss: 1.2746e-05 - v_ex_hat_loss: 1.3805e-05 - theta_or_hat_loss: 3.2760e-04 - theta_ex_hat_loss: 4.2368e-04 - val_loss: 0.0093 - val_a_or_hat_loss: 0.0021 - val_a_ex_hat_loss: 0.0017 - val_p_or_hat_loss: 7.3307e-04 - val_p_ex_hat_loss: 9.6303e-04 - val_q_ex_hat_loss: 0.0015 - val_q_or_hat_loss: 0.0013 - val_v_or_hat_loss: 1.9399e-05 - val_v_ex_hat_loss: 2.0548e-05 - val_theta_or_hat_loss: 4.1021e-04 - val_theta_ex_hat_loss: 5.5679e-04\n",
      "Epoch 75/200\n",
      "782/782 [==============================] - 5s 7ms/step - loss: 0.0072 - a_or_hat_loss: 0.0015 - a_ex_hat_loss: 0.0013 - p_or_hat_loss: 5.7565e-04 - p_ex_hat_loss: 5.9638e-04 - q_ex_hat_loss: 0.0013 - q_or_hat_loss: 0.0011 - v_or_hat_loss: 1.2922e-05 - v_ex_hat_loss: 1.3505e-05 - theta_or_hat_loss: 3.1605e-04 - theta_ex_hat_loss: 4.0993e-04 - val_loss: 0.0093 - val_a_or_hat_loss: 0.0019 - val_a_ex_hat_loss: 0.0018 - val_p_or_hat_loss: 7.4647e-04 - val_p_ex_hat_loss: 6.7031e-04 - val_q_ex_hat_loss: 0.0017 - val_q_or_hat_loss: 0.0015 - val_v_or_hat_loss: 1.4034e-05 - val_v_ex_hat_loss: 1.2843e-05 - val_theta_or_hat_loss: 4.4279e-04 - val_theta_ex_hat_loss: 5.2739e-04\n",
      "Epoch 76/200\n",
      "782/782 [==============================] - 5s 7ms/step - loss: 0.0072 - a_or_hat_loss: 0.0015 - a_ex_hat_loss: 0.0014 - p_or_hat_loss: 5.9556e-04 - p_ex_hat_loss: 5.9924e-04 - q_ex_hat_loss: 0.0013 - q_or_hat_loss: 0.0011 - v_or_hat_loss: 1.4719e-05 - v_ex_hat_loss: 1.4377e-05 - theta_or_hat_loss: 3.3308e-04 - theta_ex_hat_loss: 4.2838e-04 - val_loss: 0.0087 - val_a_or_hat_loss: 0.0020 - val_a_ex_hat_loss: 0.0016 - val_p_or_hat_loss: 6.1282e-04 - val_p_ex_hat_loss: 7.5985e-04 - val_q_ex_hat_loss: 0.0016 - val_q_or_hat_loss: 0.0013 - val_v_or_hat_loss: 6.4686e-06 - val_v_ex_hat_loss: 7.8608e-06 - val_theta_or_hat_loss: 3.8080e-04 - val_theta_ex_hat_loss: 4.9585e-04\n",
      "Epoch 77/200\n",
      "782/782 [==============================] - 6s 7ms/step - loss: 0.0070 - a_or_hat_loss: 0.0015 - a_ex_hat_loss: 0.0013 - p_or_hat_loss: 5.5615e-04 - p_ex_hat_loss: 5.8506e-04 - q_ex_hat_loss: 0.0012 - q_or_hat_loss: 0.0011 - v_or_hat_loss: 1.1798e-05 - v_ex_hat_loss: 1.2620e-05 - theta_or_hat_loss: 3.1589e-04 - theta_ex_hat_loss: 4.0392e-04 - val_loss: 0.0083 - val_a_or_hat_loss: 0.0019 - val_a_ex_hat_loss: 0.0015 - val_p_or_hat_loss: 6.6646e-04 - val_p_ex_hat_loss: 6.3636e-04 - val_q_ex_hat_loss: 0.0015 - val_q_or_hat_loss: 0.0012 - val_v_or_hat_loss: 7.1758e-06 - val_v_ex_hat_loss: 9.3059e-06 - val_theta_or_hat_loss: 3.7904e-04 - val_theta_ex_hat_loss: 5.2512e-04\n",
      "Epoch 78/200\n",
      "782/782 [==============================] - 6s 7ms/step - loss: 0.0069 - a_or_hat_loss: 0.0015 - a_ex_hat_loss: 0.0013 - p_or_hat_loss: 5.5498e-04 - p_ex_hat_loss: 5.7921e-04 - q_ex_hat_loss: 0.0012 - q_or_hat_loss: 0.0010 - v_or_hat_loss: 1.0445e-05 - v_ex_hat_loss: 1.1087e-05 - theta_or_hat_loss: 3.1305e-04 - theta_ex_hat_loss: 4.0115e-04 - val_loss: 0.0086 - val_a_or_hat_loss: 0.0018 - val_a_ex_hat_loss: 0.0016 - val_p_or_hat_loss: 7.4708e-04 - val_p_ex_hat_loss: 8.7150e-04 - val_q_ex_hat_loss: 0.0015 - val_q_or_hat_loss: 0.0012 - val_v_or_hat_loss: 1.0262e-05 - val_v_ex_hat_loss: 1.2500e-05 - val_theta_or_hat_loss: 3.6139e-04 - val_theta_ex_hat_loss: 5.0649e-04\n",
      "Epoch 79/200\n",
      "782/782 [==============================] - 6s 7ms/step - loss: 0.0070 - a_or_hat_loss: 0.0014 - a_ex_hat_loss: 0.0013 - p_or_hat_loss: 5.6773e-04 - p_ex_hat_loss: 5.9029e-04 - q_ex_hat_loss: 0.0012 - q_or_hat_loss: 0.0011 - v_or_hat_loss: 1.2797e-05 - v_ex_hat_loss: 1.2835e-05 - theta_or_hat_loss: 3.3463e-04 - theta_ex_hat_loss: 4.1711e-04 - val_loss: 0.0082 - val_a_or_hat_loss: 0.0018 - val_a_ex_hat_loss: 0.0015 - val_p_or_hat_loss: 6.1071e-04 - val_p_ex_hat_loss: 6.2095e-04 - val_q_ex_hat_loss: 0.0015 - val_q_or_hat_loss: 0.0012 - val_v_or_hat_loss: 9.1899e-06 - val_v_ex_hat_loss: 8.4257e-06 - val_theta_or_hat_loss: 4.0640e-04 - val_theta_ex_hat_loss: 4.8138e-04\n",
      "Epoch 80/200\n",
      "782/782 [==============================] - 5s 7ms/step - loss: 0.0068 - a_or_hat_loss: 0.0014 - a_ex_hat_loss: 0.0013 - p_or_hat_loss: 5.4241e-04 - p_ex_hat_loss: 5.6828e-04 - q_ex_hat_loss: 0.0012 - q_or_hat_loss: 0.0010 - v_or_hat_loss: 1.2515e-05 - v_ex_hat_loss: 1.3301e-05 - theta_or_hat_loss: 3.0778e-04 - theta_ex_hat_loss: 4.0164e-04 - val_loss: 0.0081 - val_a_or_hat_loss: 0.0018 - val_a_ex_hat_loss: 0.0015 - val_p_or_hat_loss: 6.7493e-04 - val_p_ex_hat_loss: 6.0221e-04 - val_q_ex_hat_loss: 0.0013 - val_q_or_hat_loss: 0.0012 - val_v_or_hat_loss: 1.0506e-05 - val_v_ex_hat_loss: 8.2555e-06 - val_theta_or_hat_loss: 3.2953e-04 - val_theta_ex_hat_loss: 5.7181e-04\n",
      "Epoch 81/200\n",
      "782/782 [==============================] - 6s 8ms/step - loss: 0.0066 - a_or_hat_loss: 0.0014 - a_ex_hat_loss: 0.0013 - p_or_hat_loss: 5.1500e-04 - p_ex_hat_loss: 5.3091e-04 - q_ex_hat_loss: 0.0012 - q_or_hat_loss: 0.0010 - v_or_hat_loss: 9.7598e-06 - v_ex_hat_loss: 1.0258e-05 - theta_or_hat_loss: 2.8756e-04 - theta_ex_hat_loss: 3.8413e-04 - val_loss: 0.0089 - val_a_or_hat_loss: 0.0019 - val_a_ex_hat_loss: 0.0015 - val_p_or_hat_loss: 7.3247e-04 - val_p_ex_hat_loss: 9.3066e-04 - val_q_ex_hat_loss: 0.0014 - val_q_or_hat_loss: 0.0015 - val_v_or_hat_loss: 9.0915e-06 - val_v_ex_hat_loss: 1.6639e-05 - val_theta_or_hat_loss: 3.4389e-04 - val_theta_ex_hat_loss: 4.7358e-04\n",
      "Epoch 82/200\n",
      "782/782 [==============================] - 6s 8ms/step - loss: 0.0067 - a_or_hat_loss: 0.0014 - a_ex_hat_loss: 0.0013 - p_or_hat_loss: 5.3654e-04 - p_ex_hat_loss: 5.6193e-04 - q_ex_hat_loss: 0.0012 - q_or_hat_loss: 0.0010 - v_or_hat_loss: 1.1662e-05 - v_ex_hat_loss: 1.2337e-05 - theta_or_hat_loss: 3.0001e-04 - theta_ex_hat_loss: 3.9924e-04 - val_loss: 0.0085 - val_a_or_hat_loss: 0.0018 - val_a_ex_hat_loss: 0.0016 - val_p_or_hat_loss: 8.9176e-04 - val_p_ex_hat_loss: 7.6404e-04 - val_q_ex_hat_loss: 0.0014 - val_q_or_hat_loss: 0.0012 - val_v_or_hat_loss: 1.3916e-05 - val_v_ex_hat_loss: 1.2454e-05 - val_theta_or_hat_loss: 4.2241e-04 - val_theta_ex_hat_loss: 4.9220e-04\n",
      "Epoch 83/200\n",
      "782/782 [==============================] - 6s 8ms/step - loss: 0.0066 - a_or_hat_loss: 0.0014 - a_ex_hat_loss: 0.0012 - p_or_hat_loss: 5.3551e-04 - p_ex_hat_loss: 5.4894e-04 - q_ex_hat_loss: 0.0012 - q_or_hat_loss: 0.0010 - v_or_hat_loss: 1.0843e-05 - v_ex_hat_loss: 1.1824e-05 - theta_or_hat_loss: 2.9809e-04 - theta_ex_hat_loss: 3.9026e-04 - val_loss: 0.0088 - val_a_or_hat_loss: 0.0019 - val_a_ex_hat_loss: 0.0016 - val_p_or_hat_loss: 8.3877e-04 - val_p_ex_hat_loss: 7.3571e-04 - val_q_ex_hat_loss: 0.0014 - val_q_or_hat_loss: 0.0015 - val_v_or_hat_loss: 2.4622e-05 - val_v_ex_hat_loss: 2.7894e-05 - val_theta_or_hat_loss: 3.6998e-04 - val_theta_ex_hat_loss: 5.0537e-04\n",
      "Epoch 84/200\n",
      "782/782 [==============================] - 6s 8ms/step - loss: 0.0068 - a_or_hat_loss: 0.0014 - a_ex_hat_loss: 0.0013 - p_or_hat_loss: 5.6086e-04 - p_ex_hat_loss: 5.7623e-04 - q_ex_hat_loss: 0.0012 - q_or_hat_loss: 0.0011 - v_or_hat_loss: 1.1777e-05 - v_ex_hat_loss: 1.2160e-05 - theta_or_hat_loss: 3.0254e-04 - theta_ex_hat_loss: 3.9962e-04 - val_loss: 0.0093 - val_a_or_hat_loss: 0.0019 - val_a_ex_hat_loss: 0.0016 - val_p_or_hat_loss: 7.2567e-04 - val_p_ex_hat_loss: 7.7179e-04 - val_q_ex_hat_loss: 0.0018 - val_q_or_hat_loss: 0.0015 - val_v_or_hat_loss: 3.8763e-05 - val_v_ex_hat_loss: 3.6839e-05 - val_theta_or_hat_loss: 4.4588e-04 - val_theta_ex_hat_loss: 4.6375e-04\n",
      "Epoch 85/200\n",
      "782/782 [==============================] - 5s 7ms/step - loss: 0.0066 - a_or_hat_loss: 0.0014 - a_ex_hat_loss: 0.0012 - p_or_hat_loss: 5.2792e-04 - p_ex_hat_loss: 5.2801e-04 - q_ex_hat_loss: 0.0012 - q_or_hat_loss: 0.0010 - v_or_hat_loss: 1.2589e-05 - v_ex_hat_loss: 1.3276e-05 - theta_or_hat_loss: 2.9129e-04 - theta_ex_hat_loss: 3.8365e-04 - val_loss: 0.0087 - val_a_or_hat_loss: 0.0019 - val_a_ex_hat_loss: 0.0015 - val_p_or_hat_loss: 6.7742e-04 - val_p_ex_hat_loss: 7.3653e-04 - val_q_ex_hat_loss: 0.0014 - val_q_or_hat_loss: 0.0015 - val_v_or_hat_loss: 2.1873e-05 - val_v_ex_hat_loss: 2.4130e-05 - val_theta_or_hat_loss: 3.8645e-04 - val_theta_ex_hat_loss: 4.8605e-04\n"
     ]
    },
    {
     "name": "stdout",
     "output_type": "stream",
     "text": [
      "Epoch 86/200\n",
      "782/782 [==============================] - 5s 7ms/step - loss: 0.0064 - a_or_hat_loss: 0.0014 - a_ex_hat_loss: 0.0012 - p_or_hat_loss: 5.1527e-04 - p_ex_hat_loss: 5.2152e-04 - q_ex_hat_loss: 0.0012 - q_or_hat_loss: 9.8261e-04 - v_or_hat_loss: 1.1000e-05 - v_ex_hat_loss: 1.1630e-05 - theta_or_hat_loss: 2.7613e-04 - theta_ex_hat_loss: 3.6330e-04 - val_loss: 0.0081 - val_a_or_hat_loss: 0.0017 - val_a_ex_hat_loss: 0.0015 - val_p_or_hat_loss: 6.4505e-04 - val_p_ex_hat_loss: 6.4176e-04 - val_q_ex_hat_loss: 0.0013 - val_q_or_hat_loss: 0.0013 - val_v_or_hat_loss: 5.1290e-05 - val_v_ex_hat_loss: 4.7774e-05 - val_theta_or_hat_loss: 3.3022e-04 - val_theta_ex_hat_loss: 4.4425e-04\n",
      "Epoch 87/200\n",
      "782/782 [==============================] - 5s 7ms/step - loss: 0.0064 - a_or_hat_loss: 0.0014 - a_ex_hat_loss: 0.0012 - p_or_hat_loss: 5.1523e-04 - p_ex_hat_loss: 5.1517e-04 - q_ex_hat_loss: 0.0011 - q_or_hat_loss: 9.7809e-04 - v_or_hat_loss: 1.1384e-05 - v_ex_hat_loss: 1.2016e-05 - theta_or_hat_loss: 2.7428e-04 - theta_ex_hat_loss: 3.6590e-04 - val_loss: 0.0076 - val_a_or_hat_loss: 0.0017 - val_a_ex_hat_loss: 0.0015 - val_p_or_hat_loss: 5.6989e-04 - val_p_ex_hat_loss: 5.4979e-04 - val_q_ex_hat_loss: 0.0013 - val_q_or_hat_loss: 0.0012 - val_v_or_hat_loss: 7.2820e-06 - val_v_ex_hat_loss: 8.9707e-06 - val_theta_or_hat_loss: 3.6924e-04 - val_theta_ex_hat_loss: 4.4587e-04\n",
      "Epoch 88/200\n",
      "782/782 [==============================] - 5s 7ms/step - loss: 0.0064 - a_or_hat_loss: 0.0014 - a_ex_hat_loss: 0.0012 - p_or_hat_loss: 5.0549e-04 - p_ex_hat_loss: 5.0651e-04 - q_ex_hat_loss: 0.0011 - q_or_hat_loss: 9.7686e-04 - v_or_hat_loss: 1.1137e-05 - v_ex_hat_loss: 1.1851e-05 - theta_or_hat_loss: 2.8563e-04 - theta_ex_hat_loss: 3.6908e-04 - val_loss: 0.0078 - val_a_or_hat_loss: 0.0017 - val_a_ex_hat_loss: 0.0014 - val_p_or_hat_loss: 6.1276e-04 - val_p_ex_hat_loss: 7.0740e-04 - val_q_ex_hat_loss: 0.0012 - val_q_or_hat_loss: 0.0012 - val_v_or_hat_loss: 7.1035e-06 - val_v_ex_hat_loss: 8.1292e-06 - val_theta_or_hat_loss: 3.8569e-04 - val_theta_ex_hat_loss: 4.5810e-04\n",
      "Epoch 89/200\n",
      "782/782 [==============================] - 5s 7ms/step - loss: 0.0062 - a_or_hat_loss: 0.0013 - a_ex_hat_loss: 0.0012 - p_or_hat_loss: 4.9549e-04 - p_ex_hat_loss: 4.9896e-04 - q_ex_hat_loss: 0.0011 - q_or_hat_loss: 9.5060e-04 - v_or_hat_loss: 1.0608e-05 - v_ex_hat_loss: 1.0800e-05 - theta_or_hat_loss: 2.7211e-04 - theta_ex_hat_loss: 3.6741e-04 - val_loss: 0.0076 - val_a_or_hat_loss: 0.0017 - val_a_ex_hat_loss: 0.0015 - val_p_or_hat_loss: 6.2224e-04 - val_p_ex_hat_loss: 6.1535e-04 - val_q_ex_hat_loss: 0.0012 - val_q_or_hat_loss: 0.0013 - val_v_or_hat_loss: 1.0197e-05 - val_v_ex_hat_loss: 1.2938e-05 - val_theta_or_hat_loss: 3.1246e-04 - val_theta_ex_hat_loss: 4.0255e-04\n",
      "Epoch 90/200\n",
      "782/782 [==============================] - 6s 7ms/step - loss: 0.0062 - a_or_hat_loss: 0.0013 - a_ex_hat_loss: 0.0012 - p_or_hat_loss: 4.7456e-04 - p_ex_hat_loss: 4.9950e-04 - q_ex_hat_loss: 0.0011 - q_or_hat_loss: 9.2952e-04 - v_or_hat_loss: 1.0193e-05 - v_ex_hat_loss: 1.0813e-05 - theta_or_hat_loss: 2.7221e-04 - theta_ex_hat_loss: 3.6464e-04 - val_loss: 0.0092 - val_a_or_hat_loss: 0.0019 - val_a_ex_hat_loss: 0.0017 - val_p_or_hat_loss: 7.1812e-04 - val_p_ex_hat_loss: 8.6946e-04 - val_q_ex_hat_loss: 0.0016 - val_q_or_hat_loss: 0.0012 - val_v_or_hat_loss: 2.4532e-05 - val_v_ex_hat_loss: 3.3586e-05 - val_theta_or_hat_loss: 5.5779e-04 - val_theta_ex_hat_loss: 6.0001e-04\n",
      "Epoch 91/200\n",
      "782/782 [==============================] - 6s 7ms/step - loss: 0.0063 - a_or_hat_loss: 0.0013 - a_ex_hat_loss: 0.0012 - p_or_hat_loss: 5.1463e-04 - p_ex_hat_loss: 5.2280e-04 - q_ex_hat_loss: 0.0011 - q_or_hat_loss: 9.5148e-04 - v_or_hat_loss: 1.1570e-05 - v_ex_hat_loss: 1.2188e-05 - theta_or_hat_loss: 2.7601e-04 - theta_ex_hat_loss: 3.6437e-04 - val_loss: 0.0078 - val_a_or_hat_loss: 0.0018 - val_a_ex_hat_loss: 0.0014 - val_p_or_hat_loss: 6.9203e-04 - val_p_ex_hat_loss: 6.6180e-04 - val_q_ex_hat_loss: 0.0013 - val_q_or_hat_loss: 0.0011 - val_v_or_hat_loss: 1.2276e-05 - val_v_ex_hat_loss: 1.1523e-05 - val_theta_or_hat_loss: 3.2850e-04 - val_theta_ex_hat_loss: 4.8028e-04\n",
      "Epoch 92/200\n",
      "782/782 [==============================] - 6s 7ms/step - loss: 0.0061 - a_or_hat_loss: 0.0013 - a_ex_hat_loss: 0.0012 - p_or_hat_loss: 4.8433e-04 - p_ex_hat_loss: 4.9492e-04 - q_ex_hat_loss: 0.0011 - q_or_hat_loss: 9.4380e-04 - v_or_hat_loss: 1.1655e-05 - v_ex_hat_loss: 1.2253e-05 - theta_or_hat_loss: 2.6588e-04 - theta_ex_hat_loss: 3.4670e-04 - val_loss: 0.0071 - val_a_or_hat_loss: 0.0016 - val_a_ex_hat_loss: 0.0014 - val_p_or_hat_loss: 5.3709e-04 - val_p_ex_hat_loss: 4.9956e-04 - val_q_ex_hat_loss: 0.0012 - val_q_or_hat_loss: 0.0011 - val_v_or_hat_loss: 4.7863e-06 - val_v_ex_hat_loss: 9.0255e-06 - val_theta_or_hat_loss: 3.0621e-04 - val_theta_ex_hat_loss: 4.0455e-04\n",
      "Epoch 93/200\n",
      "782/782 [==============================] - 6s 7ms/step - loss: 0.0060 - a_or_hat_loss: 0.0013 - a_ex_hat_loss: 0.0012 - p_or_hat_loss: 4.6720e-04 - p_ex_hat_loss: 4.7707e-04 - q_ex_hat_loss: 0.0011 - q_or_hat_loss: 9.0944e-04 - v_or_hat_loss: 9.5504e-06 - v_ex_hat_loss: 1.0469e-05 - theta_or_hat_loss: 2.6105e-04 - theta_ex_hat_loss: 3.4645e-04 - val_loss: 0.0076 - val_a_or_hat_loss: 0.0018 - val_a_ex_hat_loss: 0.0014 - val_p_or_hat_loss: 7.1392e-04 - val_p_ex_hat_loss: 6.1542e-04 - val_q_ex_hat_loss: 0.0013 - val_q_or_hat_loss: 0.0010 - val_v_or_hat_loss: 7.6620e-06 - val_v_ex_hat_loss: 7.9687e-06 - val_theta_or_hat_loss: 3.0772e-04 - val_theta_ex_hat_loss: 4.3789e-04\n",
      "Epoch 94/200\n",
      "782/782 [==============================] - 6s 7ms/step - loss: 0.0061 - a_or_hat_loss: 0.0013 - a_ex_hat_loss: 0.0012 - p_or_hat_loss: 4.8236e-04 - p_ex_hat_loss: 4.8732e-04 - q_ex_hat_loss: 0.0011 - q_or_hat_loss: 9.1903e-04 - v_or_hat_loss: 9.4674e-06 - v_ex_hat_loss: 1.0119e-05 - theta_or_hat_loss: 2.6987e-04 - theta_ex_hat_loss: 3.6631e-04 - val_loss: 0.0077 - val_a_or_hat_loss: 0.0018 - val_a_ex_hat_loss: 0.0014 - val_p_or_hat_loss: 6.5919e-04 - val_p_ex_hat_loss: 5.5253e-04 - val_q_ex_hat_loss: 0.0015 - val_q_or_hat_loss: 0.0011 - val_v_or_hat_loss: 6.6500e-06 - val_v_ex_hat_loss: 8.6265e-06 - val_theta_or_hat_loss: 3.2819e-04 - val_theta_ex_hat_loss: 4.1053e-04\n",
      "Epoch 95/200\n",
      "782/782 [==============================] - 5s 7ms/step - loss: 0.0061 - a_or_hat_loss: 0.0013 - a_ex_hat_loss: 0.0012 - p_or_hat_loss: 4.8854e-04 - p_ex_hat_loss: 4.9407e-04 - q_ex_hat_loss: 0.0011 - q_or_hat_loss: 9.2293e-04 - v_or_hat_loss: 1.0371e-05 - v_ex_hat_loss: 1.1161e-05 - theta_or_hat_loss: 2.6189e-04 - theta_ex_hat_loss: 3.5696e-04 - val_loss: 0.0079 - val_a_or_hat_loss: 0.0017 - val_a_ex_hat_loss: 0.0015 - val_p_or_hat_loss: 4.9836e-04 - val_p_ex_hat_loss: 5.9709e-04 - val_q_ex_hat_loss: 0.0014 - val_q_or_hat_loss: 0.0013 - val_v_or_hat_loss: 7.3740e-06 - val_v_ex_hat_loss: 7.3387e-06 - val_theta_or_hat_loss: 3.2929e-04 - val_theta_ex_hat_loss: 5.1665e-04\n",
      "Epoch 96/200\n",
      "782/782 [==============================] - 5s 7ms/step - loss: 0.0060 - a_or_hat_loss: 0.0013 - a_ex_hat_loss: 0.0012 - p_or_hat_loss: 4.8675e-04 - p_ex_hat_loss: 4.9208e-04 - q_ex_hat_loss: 0.0011 - q_or_hat_loss: 9.1508e-04 - v_or_hat_loss: 1.0234e-05 - v_ex_hat_loss: 1.0736e-05 - theta_or_hat_loss: 2.5619e-04 - theta_ex_hat_loss: 3.4430e-04 - val_loss: 0.0077 - val_a_or_hat_loss: 0.0016 - val_a_ex_hat_loss: 0.0014 - val_p_or_hat_loss: 6.6331e-04 - val_p_ex_hat_loss: 5.5716e-04 - val_q_ex_hat_loss: 0.0014 - val_q_or_hat_loss: 0.0012 - val_v_or_hat_loss: 1.3050e-05 - val_v_ex_hat_loss: 1.3462e-05 - val_theta_or_hat_loss: 3.3847e-04 - val_theta_ex_hat_loss: 5.0338e-04\n",
      "Epoch 97/200\n",
      "782/782 [==============================] - 5s 7ms/step - loss: 0.0059 - a_or_hat_loss: 0.0013 - a_ex_hat_loss: 0.0011 - p_or_hat_loss: 4.7092e-04 - p_ex_hat_loss: 4.7495e-04 - q_ex_hat_loss: 0.0011 - q_or_hat_loss: 9.0182e-04 - v_or_hat_loss: 1.0821e-05 - v_ex_hat_loss: 1.1375e-05 - theta_or_hat_loss: 2.5397e-04 - theta_ex_hat_loss: 3.4817e-04 - val_loss: 0.0078 - val_a_or_hat_loss: 0.0017 - val_a_ex_hat_loss: 0.0014 - val_p_or_hat_loss: 7.6251e-04 - val_p_ex_hat_loss: 7.6261e-04 - val_q_ex_hat_loss: 0.0013 - val_q_or_hat_loss: 0.0011 - val_v_or_hat_loss: 4.9642e-06 - val_v_ex_hat_loss: 6.6526e-06 - val_theta_or_hat_loss: 3.2540e-04 - val_theta_ex_hat_loss: 4.5011e-04\n"
     ]
    },
    {
     "name": "stdout",
     "output_type": "stream",
     "text": [
      "Epoch 98/200\n",
      "782/782 [==============================] - 5s 7ms/step - loss: 0.0059 - a_or_hat_loss: 0.0013 - a_ex_hat_loss: 0.0011 - p_or_hat_loss: 4.8641e-04 - p_ex_hat_loss: 5.1429e-04 - q_ex_hat_loss: 0.0011 - q_or_hat_loss: 8.8505e-04 - v_or_hat_loss: 9.8690e-06 - v_ex_hat_loss: 1.0383e-05 - theta_or_hat_loss: 2.5881e-04 - theta_ex_hat_loss: 3.4151e-04 - val_loss: 0.0086 - val_a_or_hat_loss: 0.0017 - val_a_ex_hat_loss: 0.0014 - val_p_or_hat_loss: 9.3448e-04 - val_p_ex_hat_loss: 9.1302e-04 - val_q_ex_hat_loss: 0.0014 - val_q_or_hat_loss: 0.0012 - val_v_or_hat_loss: 8.1771e-06 - val_v_ex_hat_loss: 1.0487e-05 - val_theta_or_hat_loss: 4.2972e-04 - val_theta_ex_hat_loss: 5.4973e-04\n",
      "Epoch 99/200\n",
      "782/782 [==============================] - 5s 7ms/step - loss: 0.0061 - a_or_hat_loss: 0.0013 - a_ex_hat_loss: 0.0012 - p_or_hat_loss: 5.0266e-04 - p_ex_hat_loss: 5.0641e-04 - q_ex_hat_loss: 0.0011 - q_or_hat_loss: 9.2643e-04 - v_or_hat_loss: 1.0256e-05 - v_ex_hat_loss: 1.1027e-05 - theta_or_hat_loss: 2.7219e-04 - theta_ex_hat_loss: 3.6163e-04 - val_loss: 0.0070 - val_a_or_hat_loss: 0.0016 - val_a_ex_hat_loss: 0.0013 - val_p_or_hat_loss: 5.3997e-04 - val_p_ex_hat_loss: 5.6857e-04 - val_q_ex_hat_loss: 0.0011 - val_q_or_hat_loss: 0.0011 - val_v_or_hat_loss: 7.2749e-06 - val_v_ex_hat_loss: 7.8808e-06 - val_theta_or_hat_loss: 3.7711e-04 - val_theta_ex_hat_loss: 4.3433e-04\n",
      "Epoch 100/200\n",
      "782/782 [==============================] - 6s 7ms/step - loss: 0.0057 - a_or_hat_loss: 0.0012 - a_ex_hat_loss: 0.0011 - p_or_hat_loss: 4.4603e-04 - p_ex_hat_loss: 4.5884e-04 - q_ex_hat_loss: 0.0010 - q_or_hat_loss: 8.4456e-04 - v_or_hat_loss: 8.4666e-06 - v_ex_hat_loss: 9.1285e-06 - theta_or_hat_loss: 2.4204e-04 - theta_ex_hat_loss: 3.1891e-04 - val_loss: 0.0074 - val_a_or_hat_loss: 0.0016 - val_a_ex_hat_loss: 0.0014 - val_p_or_hat_loss: 5.1262e-04 - val_p_ex_hat_loss: 5.3245e-04 - val_q_ex_hat_loss: 0.0014 - val_q_or_hat_loss: 0.0011 - val_v_or_hat_loss: 1.8710e-05 - val_v_ex_hat_loss: 1.9826e-05 - val_theta_or_hat_loss: 3.2682e-04 - val_theta_ex_hat_loss: 4.8470e-04\n",
      "Epoch 101/200\n",
      "782/782 [==============================] - 6s 7ms/step - loss: 0.0058 - a_or_hat_loss: 0.0012 - a_ex_hat_loss: 0.0011 - p_or_hat_loss: 4.5513e-04 - p_ex_hat_loss: 4.6141e-04 - q_ex_hat_loss: 0.0010 - q_or_hat_loss: 8.8112e-04 - v_or_hat_loss: 1.0081e-05 - v_ex_hat_loss: 1.1118e-05 - theta_or_hat_loss: 2.5480e-04 - theta_ex_hat_loss: 3.4085e-04 - val_loss: 0.0072 - val_a_or_hat_loss: 0.0016 - val_a_ex_hat_loss: 0.0014 - val_p_or_hat_loss: 6.4107e-04 - val_p_ex_hat_loss: 5.0974e-04 - val_q_ex_hat_loss: 0.0014 - val_q_or_hat_loss: 9.7123e-04 - val_v_or_hat_loss: 1.0993e-05 - val_v_ex_hat_loss: 1.4580e-05 - val_theta_or_hat_loss: 2.7639e-04 - val_theta_ex_hat_loss: 4.1227e-04\n",
      "Epoch 102/200\n",
      "782/782 [==============================] - 5s 7ms/step - loss: 0.0056 - a_or_hat_loss: 0.0012 - a_ex_hat_loss: 0.0011 - p_or_hat_loss: 4.3904e-04 - p_ex_hat_loss: 4.5261e-04 - q_ex_hat_loss: 0.0010 - q_or_hat_loss: 8.4633e-04 - v_or_hat_loss: 7.5368e-06 - v_ex_hat_loss: 8.5359e-06 - theta_or_hat_loss: 2.3776e-04 - theta_ex_hat_loss: 3.2370e-04 - val_loss: 0.0075 - val_a_or_hat_loss: 0.0016 - val_a_ex_hat_loss: 0.0013 - val_p_or_hat_loss: 5.1317e-04 - val_p_ex_hat_loss: 6.1152e-04 - val_q_ex_hat_loss: 0.0015 - val_q_or_hat_loss: 0.0011 - val_v_or_hat_loss: 1.2482e-05 - val_v_ex_hat_loss: 1.5530e-05 - val_theta_or_hat_loss: 2.9552e-04 - val_theta_ex_hat_loss: 4.2981e-04\n",
      "Epoch 103/200\n",
      "782/782 [==============================] - 5s 7ms/step - loss: 0.0057 - a_or_hat_loss: 0.0012 - a_ex_hat_loss: 0.0011 - p_or_hat_loss: 4.4067e-04 - p_ex_hat_loss: 4.6648e-04 - q_ex_hat_loss: 0.0010 - q_or_hat_loss: 8.4727e-04 - v_or_hat_loss: 8.6932e-06 - v_ex_hat_loss: 9.5898e-06 - theta_or_hat_loss: 2.4441e-04 - theta_ex_hat_loss: 3.2122e-04 - val_loss: 0.0075 - val_a_or_hat_loss: 0.0017 - val_a_ex_hat_loss: 0.0015 - val_p_or_hat_loss: 5.7092e-04 - val_p_ex_hat_loss: 5.8147e-04 - val_q_ex_hat_loss: 0.0013 - val_q_or_hat_loss: 0.0011 - val_v_or_hat_loss: 1.7671e-05 - val_v_ex_hat_loss: 1.9598e-05 - val_theta_or_hat_loss: 3.6637e-04 - val_theta_ex_hat_loss: 3.9307e-04\n",
      "Epoch 104/200\n",
      "782/782 [==============================] - 6s 8ms/step - loss: 0.0058 - a_or_hat_loss: 0.0012 - a_ex_hat_loss: 0.0011 - p_or_hat_loss: 4.7003e-04 - p_ex_hat_loss: 4.8312e-04 - q_ex_hat_loss: 0.0010 - q_or_hat_loss: 8.6576e-04 - v_or_hat_loss: 1.0925e-05 - v_ex_hat_loss: 1.1891e-05 - theta_or_hat_loss: 2.5105e-04 - theta_ex_hat_loss: 3.2969e-04 - val_loss: 0.0071 - val_a_or_hat_loss: 0.0016 - val_a_ex_hat_loss: 0.0013 - val_p_or_hat_loss: 5.5737e-04 - val_p_ex_hat_loss: 6.1074e-04 - val_q_ex_hat_loss: 0.0013 - val_q_or_hat_loss: 0.0010 - val_v_or_hat_loss: 9.2706e-06 - val_v_ex_hat_loss: 9.8251e-06 - val_theta_or_hat_loss: 2.7616e-04 - val_theta_ex_hat_loss: 4.2070e-04\n",
      "Epoch 105/200\n",
      "782/782 [==============================] - 5s 7ms/step - loss: 0.0057 - a_or_hat_loss: 0.0012 - a_ex_hat_loss: 0.0011 - p_or_hat_loss: 4.5292e-04 - p_ex_hat_loss: 4.7024e-04 - q_ex_hat_loss: 9.9686e-04 - q_or_hat_loss: 8.3891e-04 - v_or_hat_loss: 9.1262e-06 - v_ex_hat_loss: 9.5947e-06 - theta_or_hat_loss: 2.4881e-04 - theta_ex_hat_loss: 3.3350e-04 - val_loss: 0.0070 - val_a_or_hat_loss: 0.0015 - val_a_ex_hat_loss: 0.0013 - val_p_or_hat_loss: 5.6030e-04 - val_p_ex_hat_loss: 5.3919e-04 - val_q_ex_hat_loss: 0.0013 - val_q_or_hat_loss: 9.5382e-04 - val_v_or_hat_loss: 9.6852e-06 - val_v_ex_hat_loss: 1.1022e-05 - val_theta_or_hat_loss: 3.4909e-04 - val_theta_ex_hat_loss: 4.0994e-04\n",
      "Epoch 106/200\n",
      "782/782 [==============================] - 5s 7ms/step - loss: 0.0054 - a_or_hat_loss: 0.0012 - a_ex_hat_loss: 0.0011 - p_or_hat_loss: 4.1207e-04 - p_ex_hat_loss: 4.3747e-04 - q_ex_hat_loss: 9.6050e-04 - q_or_hat_loss: 8.1008e-04 - v_or_hat_loss: 8.4613e-06 - v_ex_hat_loss: 9.1746e-06 - theta_or_hat_loss: 2.3850e-04 - theta_ex_hat_loss: 3.1145e-04 - val_loss: 0.0068 - val_a_or_hat_loss: 0.0015 - val_a_ex_hat_loss: 0.0013 - val_p_or_hat_loss: 5.2794e-04 - val_p_ex_hat_loss: 5.1676e-04 - val_q_ex_hat_loss: 0.0012 - val_q_or_hat_loss: 0.0010 - val_v_or_hat_loss: 8.5523e-06 - val_v_ex_hat_loss: 8.4138e-06 - val_theta_or_hat_loss: 3.0177e-04 - val_theta_ex_hat_loss: 4.1223e-04\n",
      "Epoch 107/200\n",
      "782/782 [==============================] - 5s 7ms/step - loss: 0.0054 - a_or_hat_loss: 0.0012 - a_ex_hat_loss: 0.0011 - p_or_hat_loss: 4.3082e-04 - p_ex_hat_loss: 4.5071e-04 - q_ex_hat_loss: 9.6767e-04 - q_or_hat_loss: 8.0526e-04 - v_or_hat_loss: 8.4916e-06 - v_ex_hat_loss: 9.4912e-06 - theta_or_hat_loss: 2.3443e-04 - theta_ex_hat_loss: 3.1488e-04 - val_loss: 0.0071 - val_a_or_hat_loss: 0.0016 - val_a_ex_hat_loss: 0.0014 - val_p_or_hat_loss: 5.3508e-04 - val_p_ex_hat_loss: 7.0666e-04 - val_q_ex_hat_loss: 0.0012 - val_q_or_hat_loss: 9.4969e-04 - val_v_or_hat_loss: 2.1731e-05 - val_v_ex_hat_loss: 1.9333e-05 - val_theta_or_hat_loss: 2.9194e-04 - val_theta_ex_hat_loss: 4.3627e-04\n",
      "Epoch 108/200\n",
      "782/782 [==============================] - 5s 7ms/step - loss: 0.0054 - a_or_hat_loss: 0.0011 - a_ex_hat_loss: 0.0010 - p_or_hat_loss: 4.3621e-04 - p_ex_hat_loss: 4.4330e-04 - q_ex_hat_loss: 9.6013e-04 - q_or_hat_loss: 8.0746e-04 - v_or_hat_loss: 8.8776e-06 - v_ex_hat_loss: 9.5087e-06 - theta_or_hat_loss: 2.3784e-04 - theta_ex_hat_loss: 3.2149e-04 - val_loss: 0.0066 - val_a_or_hat_loss: 0.0015 - val_a_ex_hat_loss: 0.0012 - val_p_or_hat_loss: 4.9231e-04 - val_p_ex_hat_loss: 5.0505e-04 - val_q_ex_hat_loss: 0.0011 - val_q_or_hat_loss: 0.0011 - val_v_or_hat_loss: 1.0348e-05 - val_v_ex_hat_loss: 7.9598e-06 - val_theta_or_hat_loss: 2.5980e-04 - val_theta_ex_hat_loss: 3.4662e-04\n",
      "Epoch 109/200\n",
      "782/782 [==============================] - 5s 7ms/step - loss: 0.0053 - a_or_hat_loss: 0.0011 - a_ex_hat_loss: 0.0010 - p_or_hat_loss: 4.1127e-04 - p_ex_hat_loss: 4.3715e-04 - q_ex_hat_loss: 9.3004e-04 - q_or_hat_loss: 7.9888e-04 - v_or_hat_loss: 7.9971e-06 - v_ex_hat_loss: 8.9750e-06 - theta_or_hat_loss: 2.2186e-04 - theta_ex_hat_loss: 3.0077e-04 - val_loss: 0.0072 - val_a_or_hat_loss: 0.0017 - val_a_ex_hat_loss: 0.0013 - val_p_or_hat_loss: 5.7311e-04 - val_p_ex_hat_loss: 5.8148e-04 - val_q_ex_hat_loss: 0.0012 - val_q_or_hat_loss: 9.9206e-04 - val_v_or_hat_loss: 1.7906e-05 - val_v_ex_hat_loss: 1.6630e-05 - val_theta_or_hat_loss: 3.5806e-04 - val_theta_ex_hat_loss: 4.3374e-04\n"
     ]
    },
    {
     "name": "stdout",
     "output_type": "stream",
     "text": [
      "Epoch 110/200\n",
      "782/782 [==============================] - 5s 7ms/step - loss: 0.0055 - a_or_hat_loss: 0.0012 - a_ex_hat_loss: 0.0010 - p_or_hat_loss: 4.2880e-04 - p_ex_hat_loss: 4.4065e-04 - q_ex_hat_loss: 9.8346e-04 - q_or_hat_loss: 8.4847e-04 - v_or_hat_loss: 8.6966e-06 - v_ex_hat_loss: 9.3410e-06 - theta_or_hat_loss: 2.3239e-04 - theta_ex_hat_loss: 3.1221e-04 - val_loss: 0.0066 - val_a_or_hat_loss: 0.0015 - val_a_ex_hat_loss: 0.0013 - val_p_or_hat_loss: 5.1373e-04 - val_p_ex_hat_loss: 4.7671e-04 - val_q_ex_hat_loss: 0.0012 - val_q_or_hat_loss: 0.0010 - val_v_or_hat_loss: 5.6411e-06 - val_v_ex_hat_loss: 7.3889e-06 - val_theta_or_hat_loss: 2.6922e-04 - val_theta_ex_hat_loss: 3.4835e-04\n",
      "Epoch 111/200\n",
      "782/782 [==============================] - 5s 7ms/step - loss: 0.0053 - a_or_hat_loss: 0.0011 - a_ex_hat_loss: 0.0010 - p_or_hat_loss: 4.1814e-04 - p_ex_hat_loss: 4.3767e-04 - q_ex_hat_loss: 9.2893e-04 - q_or_hat_loss: 7.9122e-04 - v_or_hat_loss: 9.0114e-06 - v_ex_hat_loss: 1.0139e-05 - theta_or_hat_loss: 2.2486e-04 - theta_ex_hat_loss: 3.0036e-04 - val_loss: 0.0065 - val_a_or_hat_loss: 0.0015 - val_a_ex_hat_loss: 0.0013 - val_p_or_hat_loss: 5.6003e-04 - val_p_ex_hat_loss: 5.0703e-04 - val_q_ex_hat_loss: 0.0011 - val_q_or_hat_loss: 8.9565e-04 - val_v_or_hat_loss: 7.6567e-06 - val_v_ex_hat_loss: 8.7144e-06 - val_theta_or_hat_loss: 2.8612e-04 - val_theta_ex_hat_loss: 3.9040e-04\n",
      "Epoch 112/200\n",
      "782/782 [==============================] - 6s 7ms/step - loss: 0.0053 - a_or_hat_loss: 0.0011 - a_ex_hat_loss: 0.0010 - p_or_hat_loss: 4.2166e-04 - p_ex_hat_loss: 4.4680e-04 - q_ex_hat_loss: 9.3341e-04 - q_or_hat_loss: 8.0599e-04 - v_or_hat_loss: 8.0143e-06 - v_ex_hat_loss: 8.8975e-06 - theta_or_hat_loss: 2.2873e-04 - theta_ex_hat_loss: 2.9953e-04 - val_loss: 0.0065 - val_a_or_hat_loss: 0.0014 - val_a_ex_hat_loss: 0.0013 - val_p_or_hat_loss: 5.0996e-04 - val_p_ex_hat_loss: 5.2162e-04 - val_q_ex_hat_loss: 0.0011 - val_q_or_hat_loss: 9.4858e-04 - val_v_or_hat_loss: 1.1742e-05 - val_v_ex_hat_loss: 1.3746e-05 - val_theta_or_hat_loss: 2.8515e-04 - val_theta_ex_hat_loss: 3.5521e-04\n",
      "Epoch 113/200\n",
      "782/782 [==============================] - 6s 8ms/step - loss: 0.0053 - a_or_hat_loss: 0.0011 - a_ex_hat_loss: 0.0010 - p_or_hat_loss: 4.1175e-04 - p_ex_hat_loss: 4.3917e-04 - q_ex_hat_loss: 9.2644e-04 - q_or_hat_loss: 7.8215e-04 - v_or_hat_loss: 8.1442e-06 - v_ex_hat_loss: 9.2792e-06 - theta_or_hat_loss: 2.3148e-04 - theta_ex_hat_loss: 3.0590e-04 - val_loss: 0.0072 - val_a_or_hat_loss: 0.0015 - val_a_ex_hat_loss: 0.0013 - val_p_or_hat_loss: 5.5006e-04 - val_p_ex_hat_loss: 5.8946e-04 - val_q_ex_hat_loss: 0.0013 - val_q_or_hat_loss: 0.0013 - val_v_or_hat_loss: 1.8523e-05 - val_v_ex_hat_loss: 1.8695e-05 - val_theta_or_hat_loss: 3.4084e-04 - val_theta_ex_hat_loss: 4.4323e-04\n",
      "Epoch 114/200\n",
      "782/782 [==============================] - 7s 9ms/step - loss: 0.0052 - a_or_hat_loss: 0.0011 - a_ex_hat_loss: 0.0010 - p_or_hat_loss: 4.2399e-04 - p_ex_hat_loss: 4.3941e-04 - q_ex_hat_loss: 9.1866e-04 - q_or_hat_loss: 7.8444e-04 - v_or_hat_loss: 8.8878e-06 - v_ex_hat_loss: 9.6178e-06 - theta_or_hat_loss: 2.2483e-04 - theta_ex_hat_loss: 2.9788e-04 - val_loss: 0.0066 - val_a_or_hat_loss: 0.0014 - val_a_ex_hat_loss: 0.0012 - val_p_or_hat_loss: 4.9849e-04 - val_p_ex_hat_loss: 6.5697e-04 - val_q_ex_hat_loss: 0.0012 - val_q_or_hat_loss: 9.1484e-04 - val_v_or_hat_loss: 4.6176e-06 - val_v_ex_hat_loss: 6.6309e-06 - val_theta_or_hat_loss: 2.7073e-04 - val_theta_ex_hat_loss: 3.8079e-04\n",
      "Epoch 115/200\n",
      "782/782 [==============================] - 7s 9ms/step - loss: 0.0053 - a_or_hat_loss: 0.0011 - a_ex_hat_loss: 0.0010 - p_or_hat_loss: 4.2058e-04 - p_ex_hat_loss: 4.4070e-04 - q_ex_hat_loss: 9.4121e-04 - q_or_hat_loss: 7.8351e-04 - v_or_hat_loss: 9.4834e-06 - v_ex_hat_loss: 1.0321e-05 - theta_or_hat_loss: 2.2736e-04 - theta_ex_hat_loss: 3.0931e-04 - val_loss: 0.0065 - val_a_or_hat_loss: 0.0014 - val_a_ex_hat_loss: 0.0013 - val_p_or_hat_loss: 5.0308e-04 - val_p_ex_hat_loss: 4.8987e-04 - val_q_ex_hat_loss: 0.0013 - val_q_or_hat_loss: 9.0643e-04 - val_v_or_hat_loss: 8.1332e-06 - val_v_ex_hat_loss: 7.3200e-06 - val_theta_or_hat_loss: 2.6102e-04 - val_theta_ex_hat_loss: 3.7674e-04\n",
      "Epoch 116/200\n",
      "782/782 [==============================] - 6s 8ms/step - loss: 0.0054 - a_or_hat_loss: 0.0011 - a_ex_hat_loss: 0.0010 - p_or_hat_loss: 4.3093e-04 - p_ex_hat_loss: 4.4170e-04 - q_ex_hat_loss: 9.9129e-04 - q_or_hat_loss: 8.0805e-04 - v_or_hat_loss: 1.2161e-05 - v_ex_hat_loss: 1.2493e-05 - theta_or_hat_loss: 2.2722e-04 - theta_ex_hat_loss: 3.0158e-04 - val_loss: 0.0061 - val_a_or_hat_loss: 0.0014 - val_a_ex_hat_loss: 0.0012 - val_p_or_hat_loss: 4.5216e-04 - val_p_ex_hat_loss: 4.4697e-04 - val_q_ex_hat_loss: 0.0011 - val_q_or_hat_loss: 8.4130e-04 - val_v_or_hat_loss: 6.0613e-06 - val_v_ex_hat_loss: 7.1748e-06 - val_theta_or_hat_loss: 2.3622e-04 - val_theta_ex_hat_loss: 3.8033e-04\n",
      "Epoch 117/200\n",
      "782/782 [==============================] - 6s 7ms/step - loss: 0.0049 - a_or_hat_loss: 0.0011 - a_ex_hat_loss: 9.8906e-04 - p_or_hat_loss: 3.7414e-04 - p_ex_hat_loss: 3.9903e-04 - q_ex_hat_loss: 8.5612e-04 - q_or_hat_loss: 7.3813e-04 - v_or_hat_loss: 7.1460e-06 - v_ex_hat_loss: 7.9224e-06 - theta_or_hat_loss: 2.0804e-04 - theta_ex_hat_loss: 2.8502e-04 - val_loss: 0.0063 - val_a_or_hat_loss: 0.0015 - val_a_ex_hat_loss: 0.0013 - val_p_or_hat_loss: 4.9073e-04 - val_p_ex_hat_loss: 5.3229e-04 - val_q_ex_hat_loss: 0.0010 - val_q_or_hat_loss: 9.2964e-04 - val_v_or_hat_loss: 5.0570e-06 - val_v_ex_hat_loss: 6.9216e-06 - val_theta_or_hat_loss: 2.4226e-04 - val_theta_ex_hat_loss: 3.3210e-04\n",
      "Epoch 118/200\n",
      "782/782 [==============================] - 6s 8ms/step - loss: 0.0051 - a_or_hat_loss: 0.0011 - a_ex_hat_loss: 9.9589e-04 - p_or_hat_loss: 3.9560e-04 - p_ex_hat_loss: 4.2525e-04 - q_ex_hat_loss: 8.8285e-04 - q_or_hat_loss: 7.4401e-04 - v_or_hat_loss: 7.5127e-06 - v_ex_hat_loss: 8.3658e-06 - theta_or_hat_loss: 2.2308e-04 - theta_ex_hat_loss: 2.9749e-04 - val_loss: 0.0065 - val_a_or_hat_loss: 0.0015 - val_a_ex_hat_loss: 0.0012 - val_p_or_hat_loss: 4.7327e-04 - val_p_ex_hat_loss: 4.7961e-04 - val_q_ex_hat_loss: 0.0012 - val_q_or_hat_loss: 9.2471e-04 - val_v_or_hat_loss: 8.5908e-06 - val_v_ex_hat_loss: 1.0155e-05 - val_theta_or_hat_loss: 3.3293e-04 - val_theta_ex_hat_loss: 4.0301e-04\n",
      "Epoch 119/200\n",
      "782/782 [==============================] - 6s 8ms/step - loss: 0.0051 - a_or_hat_loss: 0.0011 - a_ex_hat_loss: 0.0010 - p_or_hat_loss: 4.1022e-04 - p_ex_hat_loss: 4.3238e-04 - q_ex_hat_loss: 9.0641e-04 - q_or_hat_loss: 7.4874e-04 - v_or_hat_loss: 8.9838e-06 - v_ex_hat_loss: 9.5344e-06 - theta_or_hat_loss: 2.2125e-04 - theta_ex_hat_loss: 2.9270e-04 - val_loss: 0.0061 - val_a_or_hat_loss: 0.0014 - val_a_ex_hat_loss: 0.0012 - val_p_or_hat_loss: 4.5904e-04 - val_p_ex_hat_loss: 4.3834e-04 - val_q_ex_hat_loss: 0.0011 - val_q_or_hat_loss: 8.5746e-04 - val_v_or_hat_loss: 4.0836e-06 - val_v_ex_hat_loss: 4.8776e-06 - val_theta_or_hat_loss: 2.3562e-04 - val_theta_ex_hat_loss: 3.1772e-04\n",
      "Epoch 120/200\n",
      "782/782 [==============================] - 6s 8ms/step - loss: 0.0050 - a_or_hat_loss: 0.0011 - a_ex_hat_loss: 9.8971e-04 - p_or_hat_loss: 3.9567e-04 - p_ex_hat_loss: 4.1454e-04 - q_ex_hat_loss: 8.8678e-04 - q_or_hat_loss: 7.4251e-04 - v_or_hat_loss: 8.2287e-06 - v_ex_hat_loss: 9.0056e-06 - theta_or_hat_loss: 2.1428e-04 - theta_ex_hat_loss: 2.8382e-04 - val_loss: 0.0076 - val_a_or_hat_loss: 0.0015 - val_a_ex_hat_loss: 0.0013 - val_p_or_hat_loss: 5.1098e-04 - val_p_ex_hat_loss: 5.6679e-04 - val_q_ex_hat_loss: 0.0017 - val_q_or_hat_loss: 0.0013 - val_v_or_hat_loss: 1.4778e-05 - val_v_ex_hat_loss: 1.3812e-05 - val_theta_or_hat_loss: 2.3838e-04 - val_theta_ex_hat_loss: 3.8245e-04\n",
      "Epoch 121/200\n",
      "782/782 [==============================] - 6s 8ms/step - loss: 0.0051 - a_or_hat_loss: 0.0011 - a_ex_hat_loss: 9.8680e-04 - p_or_hat_loss: 3.9820e-04 - p_ex_hat_loss: 4.1628e-04 - q_ex_hat_loss: 9.0477e-04 - q_or_hat_loss: 7.5951e-04 - v_or_hat_loss: 8.3287e-06 - v_ex_hat_loss: 8.7782e-06 - theta_or_hat_loss: 2.2056e-04 - theta_ex_hat_loss: 2.9904e-04 - val_loss: 0.0064 - val_a_or_hat_loss: 0.0014 - val_a_ex_hat_loss: 0.0012 - val_p_or_hat_loss: 4.8687e-04 - val_p_ex_hat_loss: 5.9697e-04 - val_q_ex_hat_loss: 0.0011 - val_q_or_hat_loss: 9.3925e-04 - val_v_or_hat_loss: 6.3796e-06 - val_v_ex_hat_loss: 7.1500e-06 - val_theta_or_hat_loss: 3.0287e-04 - val_theta_ex_hat_loss: 3.7348e-04\n"
     ]
    },
    {
     "name": "stdout",
     "output_type": "stream",
     "text": [
      "Epoch 122/200\n",
      "782/782 [==============================] - 6s 8ms/step - loss: 0.0051 - a_or_hat_loss: 0.0011 - a_ex_hat_loss: 0.0010 - p_or_hat_loss: 4.0733e-04 - p_ex_hat_loss: 4.3350e-04 - q_ex_hat_loss: 8.8541e-04 - q_or_hat_loss: 7.5242e-04 - v_or_hat_loss: 7.9289e-06 - v_ex_hat_loss: 8.5827e-06 - theta_or_hat_loss: 2.1996e-04 - theta_ex_hat_loss: 2.9323e-04 - val_loss: 0.0061 - val_a_or_hat_loss: 0.0013 - val_a_ex_hat_loss: 0.0013 - val_p_or_hat_loss: 3.9297e-04 - val_p_ex_hat_loss: 4.3785e-04 - val_q_ex_hat_loss: 0.0011 - val_q_or_hat_loss: 0.0010 - val_v_or_hat_loss: 7.5284e-06 - val_v_ex_hat_loss: 7.0780e-06 - val_theta_or_hat_loss: 2.5107e-04 - val_theta_ex_hat_loss: 3.6100e-04\n",
      "Epoch 123/200\n",
      "782/782 [==============================] - 6s 8ms/step - loss: 0.0049 - a_or_hat_loss: 0.0010 - a_ex_hat_loss: 9.7646e-04 - p_or_hat_loss: 3.7682e-04 - p_ex_hat_loss: 3.9485e-04 - q_ex_hat_loss: 8.3967e-04 - q_or_hat_loss: 7.3540e-04 - v_or_hat_loss: 7.0951e-06 - v_ex_hat_loss: 7.6603e-06 - theta_or_hat_loss: 2.0219e-04 - theta_ex_hat_loss: 2.7385e-04 - val_loss: 0.0063 - val_a_or_hat_loss: 0.0014 - val_a_ex_hat_loss: 0.0011 - val_p_or_hat_loss: 6.1800e-04 - val_p_ex_hat_loss: 6.3912e-04 - val_q_ex_hat_loss: 9.7211e-04 - val_q_or_hat_loss: 8.1941e-04 - val_v_or_hat_loss: 4.7808e-06 - val_v_ex_hat_loss: 6.0957e-06 - val_theta_or_hat_loss: 3.4769e-04 - val_theta_ex_hat_loss: 3.6551e-04\n",
      "Epoch 124/200\n",
      "782/782 [==============================] - 5s 7ms/step - loss: 0.0049 - a_or_hat_loss: 0.0011 - a_ex_hat_loss: 9.7092e-04 - p_or_hat_loss: 3.8948e-04 - p_ex_hat_loss: 4.0603e-04 - q_ex_hat_loss: 8.7073e-04 - q_or_hat_loss: 7.1422e-04 - v_or_hat_loss: 8.3235e-06 - v_ex_hat_loss: 8.6654e-06 - theta_or_hat_loss: 2.0460e-04 - theta_ex_hat_loss: 2.7565e-04 - val_loss: 0.0059 - val_a_or_hat_loss: 0.0014 - val_a_ex_hat_loss: 0.0012 - val_p_or_hat_loss: 4.3691e-04 - val_p_ex_hat_loss: 4.6545e-04 - val_q_ex_hat_loss: 0.0010 - val_q_or_hat_loss: 8.8913e-04 - val_v_or_hat_loss: 7.8736e-06 - val_v_ex_hat_loss: 9.1302e-06 - val_theta_or_hat_loss: 2.6623e-04 - val_theta_ex_hat_loss: 3.2209e-04\n",
      "Epoch 125/200\n",
      "782/782 [==============================] - 5s 7ms/step - loss: 0.0047 - a_or_hat_loss: 0.0010 - a_ex_hat_loss: 9.5110e-04 - p_or_hat_loss: 3.5665e-04 - p_ex_hat_loss: 3.8288e-04 - q_ex_hat_loss: 8.2321e-04 - q_or_hat_loss: 6.9695e-04 - v_or_hat_loss: 6.1483e-06 - v_ex_hat_loss: 6.9368e-06 - theta_or_hat_loss: 2.0445e-04 - theta_ex_hat_loss: 2.7867e-04 - val_loss: 0.0061 - val_a_or_hat_loss: 0.0013 - val_a_ex_hat_loss: 0.0012 - val_p_or_hat_loss: 4.8176e-04 - val_p_ex_hat_loss: 4.7775e-04 - val_q_ex_hat_loss: 0.0010 - val_q_or_hat_loss: 8.5608e-04 - val_v_or_hat_loss: 8.6375e-06 - val_v_ex_hat_loss: 5.6088e-06 - val_theta_or_hat_loss: 2.6886e-04 - val_theta_ex_hat_loss: 4.1055e-04\n",
      "Epoch 126/200\n",
      "782/782 [==============================] - 6s 8ms/step - loss: 0.0048 - a_or_hat_loss: 0.0010 - a_ex_hat_loss: 9.5993e-04 - p_or_hat_loss: 3.7095e-04 - p_ex_hat_loss: 3.9654e-04 - q_ex_hat_loss: 8.4821e-04 - q_or_hat_loss: 7.1031e-04 - v_or_hat_loss: 7.4733e-06 - v_ex_hat_loss: 7.6691e-06 - theta_or_hat_loss: 2.0354e-04 - theta_ex_hat_loss: 2.8221e-04 - val_loss: 0.0056 - val_a_or_hat_loss: 0.0013 - val_a_ex_hat_loss: 0.0011 - val_p_or_hat_loss: 4.5114e-04 - val_p_ex_hat_loss: 4.1856e-04 - val_q_ex_hat_loss: 9.3099e-04 - val_q_or_hat_loss: 7.9777e-04 - val_v_or_hat_loss: 7.1159e-06 - val_v_ex_hat_loss: 6.5809e-06 - val_theta_or_hat_loss: 2.1052e-04 - val_theta_ex_hat_loss: 3.1911e-04\n",
      "Epoch 127/200\n",
      "782/782 [==============================] - 5s 7ms/step - loss: 0.0047 - a_or_hat_loss: 0.0010 - a_ex_hat_loss: 9.5083e-04 - p_or_hat_loss: 3.6784e-04 - p_ex_hat_loss: 3.8235e-04 - q_ex_hat_loss: 8.2325e-04 - q_or_hat_loss: 6.9775e-04 - v_or_hat_loss: 7.7241e-06 - v_ex_hat_loss: 8.3025e-06 - theta_or_hat_loss: 1.9711e-04 - theta_ex_hat_loss: 2.6777e-04 - val_loss: 0.0060 - val_a_or_hat_loss: 0.0013 - val_a_ex_hat_loss: 0.0011 - val_p_or_hat_loss: 4.8104e-04 - val_p_ex_hat_loss: 5.4459e-04 - val_q_ex_hat_loss: 0.0011 - val_q_or_hat_loss: 8.5973e-04 - val_v_or_hat_loss: 3.4905e-06 - val_v_ex_hat_loss: 5.7253e-06 - val_theta_or_hat_loss: 2.1517e-04 - val_theta_ex_hat_loss: 3.3531e-04\n",
      "Epoch 128/200\n",
      "782/782 [==============================] - 5s 7ms/step - loss: 0.0048 - a_or_hat_loss: 0.0010 - a_ex_hat_loss: 9.5348e-04 - p_or_hat_loss: 3.6694e-04 - p_ex_hat_loss: 3.9029e-04 - q_ex_hat_loss: 8.4667e-04 - q_or_hat_loss: 7.0494e-04 - v_or_hat_loss: 7.3370e-06 - v_ex_hat_loss: 7.7779e-06 - theta_or_hat_loss: 1.9794e-04 - theta_ex_hat_loss: 2.6731e-04 - val_loss: 0.0064 - val_a_or_hat_loss: 0.0014 - val_a_ex_hat_loss: 0.0012 - val_p_or_hat_loss: 4.5247e-04 - val_p_ex_hat_loss: 5.4122e-04 - val_q_ex_hat_loss: 0.0012 - val_q_or_hat_loss: 9.1117e-04 - val_v_or_hat_loss: 9.5298e-06 - val_v_ex_hat_loss: 8.5949e-06 - val_theta_or_hat_loss: 2.9299e-04 - val_theta_ex_hat_loss: 3.3867e-04\n",
      "Epoch 129/200\n",
      "782/782 [==============================] - 5s 7ms/step - loss: 0.0046 - a_or_hat_loss: 0.0010 - a_ex_hat_loss: 9.2422e-04 - p_or_hat_loss: 3.6035e-04 - p_ex_hat_loss: 3.8142e-04 - q_ex_hat_loss: 8.1835e-04 - q_or_hat_loss: 6.7400e-04 - v_or_hat_loss: 7.4159e-06 - v_ex_hat_loss: 8.0835e-06 - theta_or_hat_loss: 1.8880e-04 - theta_ex_hat_loss: 2.5033e-04 - val_loss: 0.0057 - val_a_or_hat_loss: 0.0013 - val_a_ex_hat_loss: 0.0011 - val_p_or_hat_loss: 4.4445e-04 - val_p_ex_hat_loss: 4.8356e-04 - val_q_ex_hat_loss: 0.0010 - val_q_or_hat_loss: 7.6922e-04 - val_v_or_hat_loss: 3.5520e-06 - val_v_ex_hat_loss: 5.4687e-06 - val_theta_or_hat_loss: 2.0902e-04 - val_theta_ex_hat_loss: 3.1316e-04\n",
      "Epoch 130/200\n",
      "782/782 [==============================] - 6s 7ms/step - loss: 0.0046 - a_or_hat_loss: 0.0010 - a_ex_hat_loss: 9.2992e-04 - p_or_hat_loss: 3.5472e-04 - p_ex_hat_loss: 3.7640e-04 - q_ex_hat_loss: 7.9347e-04 - q_or_hat_loss: 6.9047e-04 - v_or_hat_loss: 6.3585e-06 - v_ex_hat_loss: 6.8906e-06 - theta_or_hat_loss: 1.9133e-04 - theta_ex_hat_loss: 2.6471e-04 - val_loss: 0.0055 - val_a_or_hat_loss: 0.0013 - val_a_ex_hat_loss: 0.0011 - val_p_or_hat_loss: 3.9205e-04 - val_p_ex_hat_loss: 3.9115e-04 - val_q_ex_hat_loss: 9.5248e-04 - val_q_or_hat_loss: 8.4973e-04 - val_v_or_hat_loss: 3.5845e-06 - val_v_ex_hat_loss: 5.0626e-06 - val_theta_or_hat_loss: 2.1468e-04 - val_theta_ex_hat_loss: 3.1304e-04\n",
      "Epoch 131/200\n",
      "782/782 [==============================] - 6s 7ms/step - loss: 0.0046 - a_or_hat_loss: 0.0010 - a_ex_hat_loss: 9.2169e-04 - p_or_hat_loss: 3.5060e-04 - p_ex_hat_loss: 3.7822e-04 - q_ex_hat_loss: 7.9056e-04 - q_or_hat_loss: 6.7223e-04 - v_or_hat_loss: 6.5597e-06 - v_ex_hat_loss: 7.3348e-06 - theta_or_hat_loss: 1.8748e-04 - theta_ex_hat_loss: 2.5707e-04 - val_loss: 0.0056 - val_a_or_hat_loss: 0.0013 - val_a_ex_hat_loss: 0.0011 - val_p_or_hat_loss: 3.9401e-04 - val_p_ex_hat_loss: 3.7902e-04 - val_q_ex_hat_loss: 9.6350e-04 - val_q_or_hat_loss: 7.8759e-04 - val_v_or_hat_loss: 4.2165e-06 - val_v_ex_hat_loss: 4.7836e-06 - val_theta_or_hat_loss: 2.3928e-04 - val_theta_ex_hat_loss: 3.6712e-04\n",
      "Epoch 132/200\n",
      "782/782 [==============================] - 6s 8ms/step - loss: 0.0047 - a_or_hat_loss: 0.0010 - a_ex_hat_loss: 9.3696e-04 - p_or_hat_loss: 3.6268e-04 - p_ex_hat_loss: 3.8254e-04 - q_ex_hat_loss: 8.2914e-04 - q_or_hat_loss: 7.0423e-04 - v_or_hat_loss: 8.0320e-06 - v_ex_hat_loss: 8.2940e-06 - theta_or_hat_loss: 1.9882e-04 - theta_ex_hat_loss: 2.7073e-04 - val_loss: 0.0057 - val_a_or_hat_loss: 0.0013 - val_a_ex_hat_loss: 0.0011 - val_p_or_hat_loss: 4.1922e-04 - val_p_ex_hat_loss: 4.4948e-04 - val_q_ex_hat_loss: 0.0010 - val_q_or_hat_loss: 8.4610e-04 - val_v_or_hat_loss: 5.9477e-06 - val_v_ex_hat_loss: 6.5021e-06 - val_theta_or_hat_loss: 2.0506e-04 - val_theta_ex_hat_loss: 2.9626e-04\n",
      "Epoch 133/200\n",
      "782/782 [==============================] - 6s 7ms/step - loss: 0.0046 - a_or_hat_loss: 9.9256e-04 - a_ex_hat_loss: 9.1985e-04 - p_or_hat_loss: 3.5407e-04 - p_ex_hat_loss: 3.7788e-04 - q_ex_hat_loss: 8.0686e-04 - q_or_hat_loss: 6.6291e-04 - v_or_hat_loss: 6.5856e-06 - v_ex_hat_loss: 7.1190e-06 - theta_or_hat_loss: 1.9891e-04 - theta_ex_hat_loss: 2.5789e-04 - val_loss: 0.0057 - val_a_or_hat_loss: 0.0013 - val_a_ex_hat_loss: 0.0011 - val_p_or_hat_loss: 4.6733e-04 - val_p_ex_hat_loss: 5.1943e-04 - val_q_ex_hat_loss: 9.9614e-04 - val_q_or_hat_loss: 7.8915e-04 - val_v_or_hat_loss: 4.7923e-06 - val_v_ex_hat_loss: 5.0729e-06 - val_theta_or_hat_loss: 2.0381e-04 - val_theta_ex_hat_loss: 3.1075e-04\n"
     ]
    },
    {
     "name": "stdout",
     "output_type": "stream",
     "text": [
      "Epoch 134/200\n",
      "782/782 [==============================] - 5s 7ms/step - loss: 0.0045 - a_or_hat_loss: 9.7998e-04 - a_ex_hat_loss: 9.0785e-04 - p_or_hat_loss: 3.5368e-04 - p_ex_hat_loss: 3.7120e-04 - q_ex_hat_loss: 7.8560e-04 - q_or_hat_loss: 6.6194e-04 - v_or_hat_loss: 6.2361e-06 - v_ex_hat_loss: 6.7704e-06 - theta_or_hat_loss: 1.9391e-04 - theta_ex_hat_loss: 2.6180e-04 - val_loss: 0.0057 - val_a_or_hat_loss: 0.0013 - val_a_ex_hat_loss: 0.0011 - val_p_or_hat_loss: 4.4168e-04 - val_p_ex_hat_loss: 5.3032e-04 - val_q_ex_hat_loss: 9.9143e-04 - val_q_or_hat_loss: 7.7250e-04 - val_v_or_hat_loss: 5.4828e-06 - val_v_ex_hat_loss: 6.9120e-06 - val_theta_or_hat_loss: 2.1768e-04 - val_theta_ex_hat_loss: 3.0456e-04\n",
      "Epoch 135/200\n",
      "782/782 [==============================] - 5s 7ms/step - loss: 0.0045 - a_or_hat_loss: 9.8643e-04 - a_ex_hat_loss: 9.1662e-04 - p_or_hat_loss: 3.4777e-04 - p_ex_hat_loss: 3.7146e-04 - q_ex_hat_loss: 7.8949e-04 - q_or_hat_loss: 6.7258e-04 - v_or_hat_loss: 6.7852e-06 - v_ex_hat_loss: 7.4824e-06 - theta_or_hat_loss: 1.8441e-04 - theta_ex_hat_loss: 2.5025e-04 - val_loss: 0.0063 - val_a_or_hat_loss: 0.0014 - val_a_ex_hat_loss: 0.0012 - val_p_or_hat_loss: 7.0982e-04 - val_p_ex_hat_loss: 6.0038e-04 - val_q_ex_hat_loss: 9.5343e-04 - val_q_or_hat_loss: 7.8065e-04 - val_v_or_hat_loss: 1.0095e-05 - val_v_ex_hat_loss: 1.0668e-05 - val_theta_or_hat_loss: 2.9575e-04 - val_theta_ex_hat_loss: 3.3641e-04\n",
      "Epoch 136/200\n",
      "782/782 [==============================] - 6s 7ms/step - loss: 0.0047 - a_or_hat_loss: 0.0010 - a_ex_hat_loss: 9.3650e-04 - p_or_hat_loss: 3.7915e-04 - p_ex_hat_loss: 3.9643e-04 - q_ex_hat_loss: 8.2074e-04 - q_or_hat_loss: 6.8456e-04 - v_or_hat_loss: 7.1705e-06 - v_ex_hat_loss: 7.7858e-06 - theta_or_hat_loss: 2.0145e-04 - theta_ex_hat_loss: 2.6417e-04 - val_loss: 0.0058 - val_a_or_hat_loss: 0.0014 - val_a_ex_hat_loss: 0.0011 - val_p_or_hat_loss: 4.0908e-04 - val_p_ex_hat_loss: 4.4084e-04 - val_q_ex_hat_loss: 9.8536e-04 - val_q_or_hat_loss: 8.1584e-04 - val_v_or_hat_loss: 7.0978e-06 - val_v_ex_hat_loss: 8.2434e-06 - val_theta_or_hat_loss: 2.1982e-04 - val_theta_ex_hat_loss: 3.7597e-04\n",
      "Epoch 137/200\n",
      "782/782 [==============================] - 6s 7ms/step - loss: 0.0044 - a_or_hat_loss: 9.6160e-04 - a_ex_hat_loss: 9.0199e-04 - p_or_hat_loss: 3.4099e-04 - p_ex_hat_loss: 3.7021e-04 - q_ex_hat_loss: 7.5982e-04 - q_or_hat_loss: 6.4677e-04 - v_or_hat_loss: 6.2834e-06 - v_ex_hat_loss: 6.8559e-06 - theta_or_hat_loss: 1.8392e-04 - theta_ex_hat_loss: 2.5147e-04 - val_loss: 0.0060 - val_a_or_hat_loss: 0.0014 - val_a_ex_hat_loss: 0.0012 - val_p_or_hat_loss: 5.0636e-04 - val_p_ex_hat_loss: 5.1397e-04 - val_q_ex_hat_loss: 9.8913e-04 - val_q_or_hat_loss: 8.2543e-04 - val_v_or_hat_loss: 1.0430e-05 - val_v_ex_hat_loss: 1.3305e-05 - val_theta_or_hat_loss: 2.3853e-04 - val_theta_ex_hat_loss: 2.8337e-04\n",
      "Epoch 138/200\n",
      "782/782 [==============================] - 7s 9ms/step - loss: 0.0044 - a_or_hat_loss: 9.4739e-04 - a_ex_hat_loss: 8.9412e-04 - p_or_hat_loss: 3.4317e-04 - p_ex_hat_loss: 3.6680e-04 - q_ex_hat_loss: 7.6574e-04 - q_or_hat_loss: 6.3728e-04 - v_or_hat_loss: 6.9062e-06 - v_ex_hat_loss: 7.2541e-06 - theta_or_hat_loss: 1.8079e-04 - theta_ex_hat_loss: 2.4686e-04 - val_loss: 0.0053 - val_a_or_hat_loss: 0.0012 - val_a_ex_hat_loss: 0.0011 - val_p_or_hat_loss: 4.6709e-04 - val_p_ex_hat_loss: 4.5688e-04 - val_q_ex_hat_loss: 8.1400e-04 - val_q_or_hat_loss: 7.4377e-04 - val_v_or_hat_loss: 3.3535e-06 - val_v_ex_hat_loss: 5.1387e-06 - val_theta_or_hat_loss: 2.5049e-04 - val_theta_ex_hat_loss: 3.0022e-04\n",
      "Epoch 139/200\n",
      "782/782 [==============================] - 6s 8ms/step - loss: 0.0045 - a_or_hat_loss: 9.6143e-04 - a_ex_hat_loss: 8.9958e-04 - p_or_hat_loss: 3.6077e-04 - p_ex_hat_loss: 3.7610e-04 - q_ex_hat_loss: 7.7947e-04 - q_or_hat_loss: 6.5658e-04 - v_or_hat_loss: 6.7960e-06 - v_ex_hat_loss: 7.3781e-06 - theta_or_hat_loss: 2.0790e-04 - theta_ex_hat_loss: 2.7133e-04 - val_loss: 0.0059 - val_a_or_hat_loss: 0.0013 - val_a_ex_hat_loss: 0.0012 - val_p_or_hat_loss: 4.9381e-04 - val_p_ex_hat_loss: 5.4219e-04 - val_q_ex_hat_loss: 9.6896e-04 - val_q_or_hat_loss: 8.5853e-04 - val_v_or_hat_loss: 6.1506e-06 - val_v_ex_hat_loss: 6.8228e-06 - val_theta_or_hat_loss: 2.3657e-04 - val_theta_ex_hat_loss: 3.0153e-04\n",
      "Epoch 140/200\n",
      "782/782 [==============================] - 6s 8ms/step - loss: 0.0044 - a_or_hat_loss: 9.4327e-04 - a_ex_hat_loss: 8.8408e-04 - p_or_hat_loss: 3.3942e-04 - p_ex_hat_loss: 3.6106e-04 - q_ex_hat_loss: 7.6240e-04 - q_or_hat_loss: 6.4514e-04 - v_or_hat_loss: 6.7378e-06 - v_ex_hat_loss: 7.2025e-06 - theta_or_hat_loss: 1.8115e-04 - theta_ex_hat_loss: 2.4476e-04 - val_loss: 0.0061 - val_a_or_hat_loss: 0.0014 - val_a_ex_hat_loss: 0.0011 - val_p_or_hat_loss: 4.2143e-04 - val_p_ex_hat_loss: 4.2146e-04 - val_q_ex_hat_loss: 0.0013 - val_q_or_hat_loss: 9.5339e-04 - val_v_or_hat_loss: 1.1113e-05 - val_v_ex_hat_loss: 1.2731e-05 - val_theta_or_hat_loss: 2.1665e-04 - val_theta_ex_hat_loss: 3.0813e-04\n",
      "Epoch 141/200\n",
      "782/782 [==============================] - 6s 7ms/step - loss: 0.0044 - a_or_hat_loss: 9.5469e-04 - a_ex_hat_loss: 8.8136e-04 - p_or_hat_loss: 3.3477e-04 - p_ex_hat_loss: 3.5873e-04 - q_ex_hat_loss: 7.6299e-04 - q_or_hat_loss: 6.4997e-04 - v_or_hat_loss: 6.0546e-06 - v_ex_hat_loss: 6.6244e-06 - theta_or_hat_loss: 1.8193e-04 - theta_ex_hat_loss: 2.4460e-04 - val_loss: 0.0057 - val_a_or_hat_loss: 0.0013 - val_a_ex_hat_loss: 0.0011 - val_p_or_hat_loss: 4.7413e-04 - val_p_ex_hat_loss: 4.4201e-04 - val_q_ex_hat_loss: 9.1334e-04 - val_q_or_hat_loss: 8.2832e-04 - val_v_or_hat_loss: 1.0917e-05 - val_v_ex_hat_loss: 1.0126e-05 - val_theta_or_hat_loss: 2.5124e-04 - val_theta_ex_hat_loss: 3.6938e-04\n",
      "Epoch 142/200\n",
      "782/782 [==============================] - 6s 7ms/step - loss: 0.0044 - a_or_hat_loss: 9.6037e-04 - a_ex_hat_loss: 8.9419e-04 - p_or_hat_loss: 3.3842e-04 - p_ex_hat_loss: 3.5774e-04 - q_ex_hat_loss: 7.6216e-04 - q_or_hat_loss: 6.3686e-04 - v_or_hat_loss: 6.6659e-06 - v_ex_hat_loss: 7.0113e-06 - theta_or_hat_loss: 1.7902e-04 - theta_ex_hat_loss: 2.4259e-04 - val_loss: 0.0054 - val_a_or_hat_loss: 0.0012 - val_a_ex_hat_loss: 0.0011 - val_p_or_hat_loss: 3.8235e-04 - val_p_ex_hat_loss: 4.5238e-04 - val_q_ex_hat_loss: 8.6983e-04 - val_q_or_hat_loss: 7.9791e-04 - val_v_or_hat_loss: 5.1030e-06 - val_v_ex_hat_loss: 6.1211e-06 - val_theta_or_hat_loss: 2.4745e-04 - val_theta_ex_hat_loss: 3.2487e-04\n",
      "Epoch 143/200\n",
      "782/782 [==============================] - 5s 7ms/step - loss: 0.0043 - a_or_hat_loss: 9.4068e-04 - a_ex_hat_loss: 8.7790e-04 - p_or_hat_loss: 3.3398e-04 - p_ex_hat_loss: 3.5989e-04 - q_ex_hat_loss: 7.4425e-04 - q_or_hat_loss: 6.3397e-04 - v_or_hat_loss: 6.2819e-06 - v_ex_hat_loss: 6.8316e-06 - theta_or_hat_loss: 1.8485e-04 - theta_ex_hat_loss: 2.4490e-04 - val_loss: 0.0057 - val_a_or_hat_loss: 0.0013 - val_a_ex_hat_loss: 0.0011 - val_p_or_hat_loss: 5.2586e-04 - val_p_ex_hat_loss: 4.1560e-04 - val_q_ex_hat_loss: 9.9995e-04 - val_q_or_hat_loss: 9.4218e-04 - val_v_or_hat_loss: 1.7636e-05 - val_v_ex_hat_loss: 1.8628e-05 - val_theta_or_hat_loss: 1.9818e-04 - val_theta_ex_hat_loss: 2.7143e-04\n",
      "Epoch 144/200\n",
      "782/782 [==============================] - 5s 7ms/step - loss: 0.0042 - a_or_hat_loss: 9.2500e-04 - a_ex_hat_loss: 8.6493e-04 - p_or_hat_loss: 3.2437e-04 - p_ex_hat_loss: 3.3952e-04 - q_ex_hat_loss: 7.3829e-04 - q_or_hat_loss: 6.3047e-04 - v_or_hat_loss: 6.4034e-06 - v_ex_hat_loss: 6.9009e-06 - theta_or_hat_loss: 1.6914e-04 - theta_ex_hat_loss: 2.3541e-04 - val_loss: 0.0059 - val_a_or_hat_loss: 0.0014 - val_a_ex_hat_loss: 0.0011 - val_p_or_hat_loss: 4.7259e-04 - val_p_ex_hat_loss: 4.5135e-04 - val_q_ex_hat_loss: 0.0010 - val_q_or_hat_loss: 8.9084e-04 - val_v_or_hat_loss: 1.0672e-05 - val_v_ex_hat_loss: 1.0250e-05 - val_theta_or_hat_loss: 2.7695e-04 - val_theta_ex_hat_loss: 2.7900e-04\n",
      "Epoch 145/200\n",
      "782/782 [==============================] - 5s 7ms/step - loss: 0.0044 - a_or_hat_loss: 9.5079e-04 - a_ex_hat_loss: 8.9750e-04 - p_or_hat_loss: 3.4482e-04 - p_ex_hat_loss: 3.6426e-04 - q_ex_hat_loss: 7.7132e-04 - q_or_hat_loss: 6.4668e-04 - v_or_hat_loss: 7.3075e-06 - v_ex_hat_loss: 7.7160e-06 - theta_or_hat_loss: 1.8253e-04 - theta_ex_hat_loss: 2.4401e-04 - val_loss: 0.0078 - val_a_or_hat_loss: 0.0016 - val_a_ex_hat_loss: 0.0013 - val_p_or_hat_loss: 8.4686e-04 - val_p_ex_hat_loss: 6.5468e-04 - val_q_ex_hat_loss: 0.0013 - val_q_or_hat_loss: 0.0011 - val_v_or_hat_loss: 2.4374e-05 - val_v_ex_hat_loss: 2.5595e-05 - val_theta_or_hat_loss: 3.3130e-04 - val_theta_ex_hat_loss: 5.5665e-04\n"
     ]
    },
    {
     "name": "stdout",
     "output_type": "stream",
     "text": [
      "Epoch 146/200\n",
      "782/782 [==============================] - 5s 7ms/step - loss: 0.0044 - a_or_hat_loss: 9.4599e-04 - a_ex_hat_loss: 8.8154e-04 - p_or_hat_loss: 3.5283e-04 - p_ex_hat_loss: 3.6875e-04 - q_ex_hat_loss: 7.5397e-04 - q_or_hat_loss: 6.4054e-04 - v_or_hat_loss: 6.9616e-06 - v_ex_hat_loss: 7.3468e-06 - theta_or_hat_loss: 1.7789e-04 - theta_ex_hat_loss: 2.4947e-04 - val_loss: 0.0053 - val_a_or_hat_loss: 0.0012 - val_a_ex_hat_loss: 0.0010 - val_p_or_hat_loss: 3.7216e-04 - val_p_ex_hat_loss: 4.2256e-04 - val_q_ex_hat_loss: 9.2120e-04 - val_q_or_hat_loss: 7.5534e-04 - val_v_or_hat_loss: 5.6329e-06 - val_v_ex_hat_loss: 8.5498e-06 - val_theta_or_hat_loss: 2.2154e-04 - val_theta_ex_hat_loss: 3.0393e-04\n",
      "Epoch 147/200\n",
      "782/782 [==============================] - 5s 7ms/step - loss: 0.0043 - a_or_hat_loss: 9.2575e-04 - a_ex_hat_loss: 8.7659e-04 - p_or_hat_loss: 3.2621e-04 - p_ex_hat_loss: 3.4624e-04 - q_ex_hat_loss: 7.3629e-04 - q_or_hat_loss: 6.2639e-04 - v_or_hat_loss: 7.0850e-06 - v_ex_hat_loss: 7.1733e-06 - theta_or_hat_loss: 1.7721e-04 - theta_ex_hat_loss: 2.3637e-04 - val_loss: 0.0052 - val_a_or_hat_loss: 0.0012 - val_a_ex_hat_loss: 0.0011 - val_p_or_hat_loss: 4.1202e-04 - val_p_ex_hat_loss: 3.8283e-04 - val_q_ex_hat_loss: 8.8056e-04 - val_q_or_hat_loss: 7.2617e-04 - val_v_or_hat_loss: 3.0841e-06 - val_v_ex_hat_loss: 3.4445e-06 - val_theta_or_hat_loss: 2.0248e-04 - val_theta_ex_hat_loss: 3.1338e-04\n",
      "Epoch 148/200\n",
      "782/782 [==============================] - 5s 7ms/step - loss: 0.0042 - a_or_hat_loss: 9.3134e-04 - a_ex_hat_loss: 8.7230e-04 - p_or_hat_loss: 3.3336e-04 - p_ex_hat_loss: 3.5054e-04 - q_ex_hat_loss: 7.2343e-04 - q_or_hat_loss: 6.1991e-04 - v_or_hat_loss: 6.6248e-06 - v_ex_hat_loss: 7.0468e-06 - theta_or_hat_loss: 1.7015e-04 - theta_ex_hat_loss: 2.3388e-04 - val_loss: 0.0052 - val_a_or_hat_loss: 0.0013 - val_a_ex_hat_loss: 0.0011 - val_p_or_hat_loss: 3.6824e-04 - val_p_ex_hat_loss: 3.9578e-04 - val_q_ex_hat_loss: 8.7907e-04 - val_q_or_hat_loss: 6.9459e-04 - val_v_or_hat_loss: 2.8969e-06 - val_v_ex_hat_loss: 3.9210e-06 - val_theta_or_hat_loss: 2.0377e-04 - val_theta_ex_hat_loss: 2.8484e-04\n",
      "Epoch 149/200\n",
      "782/782 [==============================] - 6s 7ms/step - loss: 0.0042 - a_or_hat_loss: 9.3254e-04 - a_ex_hat_loss: 8.7242e-04 - p_or_hat_loss: 3.2224e-04 - p_ex_hat_loss: 3.3879e-04 - q_ex_hat_loss: 7.1774e-04 - q_or_hat_loss: 6.2579e-04 - v_or_hat_loss: 6.3814e-06 - v_ex_hat_loss: 6.8904e-06 - theta_or_hat_loss: 1.7617e-04 - theta_ex_hat_loss: 2.3729e-04 - val_loss: 0.0061 - val_a_or_hat_loss: 0.0013 - val_a_ex_hat_loss: 0.0012 - val_p_or_hat_loss: 5.2350e-04 - val_p_ex_hat_loss: 5.5684e-04 - val_q_ex_hat_loss: 0.0010 - val_q_or_hat_loss: 8.3045e-04 - val_v_or_hat_loss: 1.2685e-05 - val_v_ex_hat_loss: 1.1356e-05 - val_theta_or_hat_loss: 2.3174e-04 - val_theta_ex_hat_loss: 3.4903e-04\n",
      "Epoch 150/200\n",
      "782/782 [==============================] - 5s 7ms/step - loss: 0.0044 - a_or_hat_loss: 9.4285e-04 - a_ex_hat_loss: 8.7369e-04 - p_or_hat_loss: 3.5167e-04 - p_ex_hat_loss: 3.8753e-04 - q_ex_hat_loss: 7.2638e-04 - q_or_hat_loss: 6.4161e-04 - v_or_hat_loss: 6.3542e-06 - v_ex_hat_loss: 6.6622e-06 - theta_or_hat_loss: 1.7872e-04 - theta_ex_hat_loss: 2.4496e-04 - val_loss: 0.0053 - val_a_or_hat_loss: 0.0012 - val_a_ex_hat_loss: 0.0011 - val_p_or_hat_loss: 3.8402e-04 - val_p_ex_hat_loss: 3.6491e-04 - val_q_ex_hat_loss: 8.4638e-04 - val_q_or_hat_loss: 7.5595e-04 - val_v_or_hat_loss: 2.9413e-06 - val_v_ex_hat_loss: 4.3636e-06 - val_theta_or_hat_loss: 2.5270e-04 - val_theta_ex_hat_loss: 3.6244e-04\n",
      "Epoch 151/200\n",
      "782/782 [==============================] - 5s 7ms/step - loss: 0.0041 - a_or_hat_loss: 9.1010e-04 - a_ex_hat_loss: 8.5626e-04 - p_or_hat_loss: 3.1687e-04 - p_ex_hat_loss: 3.4254e-04 - q_ex_hat_loss: 6.8990e-04 - q_or_hat_loss: 6.0548e-04 - v_or_hat_loss: 5.1768e-06 - v_ex_hat_loss: 5.4199e-06 - theta_or_hat_loss: 1.7273e-04 - theta_ex_hat_loss: 2.3854e-04 - val_loss: 0.0049 - val_a_or_hat_loss: 0.0012 - val_a_ex_hat_loss: 0.0010 - val_p_or_hat_loss: 3.5900e-04 - val_p_ex_hat_loss: 3.8361e-04 - val_q_ex_hat_loss: 8.0329e-04 - val_q_or_hat_loss: 7.2458e-04 - val_v_or_hat_loss: 2.8933e-06 - val_v_ex_hat_loss: 4.2025e-06 - val_theta_or_hat_loss: 1.9824e-04 - val_theta_ex_hat_loss: 2.6544e-04\n",
      "Epoch 152/200\n",
      "782/782 [==============================] - 5s 7ms/step - loss: 0.0042 - a_or_hat_loss: 9.0824e-04 - a_ex_hat_loss: 8.4194e-04 - p_or_hat_loss: 3.1800e-04 - p_ex_hat_loss: 3.3695e-04 - q_ex_hat_loss: 7.0846e-04 - q_or_hat_loss: 6.1773e-04 - v_or_hat_loss: 5.9846e-06 - v_ex_hat_loss: 6.0729e-06 - theta_or_hat_loss: 1.7936e-04 - theta_ex_hat_loss: 2.3676e-04 - val_loss: 0.0051 - val_a_or_hat_loss: 0.0012 - val_a_ex_hat_loss: 0.0011 - val_p_or_hat_loss: 3.7559e-04 - val_p_ex_hat_loss: 4.0547e-04 - val_q_ex_hat_loss: 8.0803e-04 - val_q_or_hat_loss: 7.2535e-04 - val_v_or_hat_loss: 2.8342e-06 - val_v_ex_hat_loss: 3.1223e-06 - val_theta_or_hat_loss: 2.0098e-04 - val_theta_ex_hat_loss: 2.8122e-04\n",
      "Epoch 153/200\n",
      "782/782 [==============================] - 5s 7ms/step - loss: 0.0041 - a_or_hat_loss: 9.1629e-04 - a_ex_hat_loss: 8.5333e-04 - p_or_hat_loss: 3.2156e-04 - p_ex_hat_loss: 3.4362e-04 - q_ex_hat_loss: 6.9201e-04 - q_or_hat_loss: 6.0660e-04 - v_or_hat_loss: 6.5614e-06 - v_ex_hat_loss: 6.9379e-06 - theta_or_hat_loss: 1.6429e-04 - theta_ex_hat_loss: 2.2652e-04 - val_loss: 0.0054 - val_a_or_hat_loss: 0.0012 - val_a_ex_hat_loss: 0.0010 - val_p_or_hat_loss: 3.3328e-04 - val_p_ex_hat_loss: 3.6244e-04 - val_q_ex_hat_loss: 0.0011 - val_q_or_hat_loss: 7.5045e-04 - val_v_or_hat_loss: 3.1967e-06 - val_v_ex_hat_loss: 3.5919e-06 - val_theta_or_hat_loss: 3.2160e-04 - val_theta_ex_hat_loss: 3.8510e-04\n",
      "Epoch 154/200\n",
      "782/782 [==============================] - 5s 7ms/step - loss: 0.0041 - a_or_hat_loss: 8.8542e-04 - a_ex_hat_loss: 8.4100e-04 - p_or_hat_loss: 3.1518e-04 - p_ex_hat_loss: 3.3363e-04 - q_ex_hat_loss: 6.8380e-04 - q_or_hat_loss: 5.8726e-04 - v_or_hat_loss: 4.7379e-06 - v_ex_hat_loss: 5.0014e-06 - theta_or_hat_loss: 1.6930e-04 - theta_ex_hat_loss: 2.2948e-04 - val_loss: 0.0050 - val_a_or_hat_loss: 0.0012 - val_a_ex_hat_loss: 0.0010 - val_p_or_hat_loss: 4.0422e-04 - val_p_ex_hat_loss: 4.4588e-04 - val_q_ex_hat_loss: 7.9541e-04 - val_q_or_hat_loss: 7.0074e-04 - val_v_or_hat_loss: 6.0712e-06 - val_v_ex_hat_loss: 5.8436e-06 - val_theta_or_hat_loss: 1.7953e-04 - val_theta_ex_hat_loss: 2.8180e-04\n",
      "Epoch 155/200\n",
      "782/782 [==============================] - 5s 7ms/step - loss: 0.0042 - a_or_hat_loss: 9.1321e-04 - a_ex_hat_loss: 8.5959e-04 - p_or_hat_loss: 3.3425e-04 - p_ex_hat_loss: 3.5632e-04 - q_ex_hat_loss: 7.1921e-04 - q_or_hat_loss: 6.1344e-04 - v_or_hat_loss: 6.7977e-06 - v_ex_hat_loss: 6.9371e-06 - theta_or_hat_loss: 1.6988e-04 - theta_ex_hat_loss: 2.3319e-04 - val_loss: 0.0054 - val_a_or_hat_loss: 0.0012 - val_a_ex_hat_loss: 0.0010 - val_p_or_hat_loss: 4.0537e-04 - val_p_ex_hat_loss: 3.7051e-04 - val_q_ex_hat_loss: 8.1092e-04 - val_q_or_hat_loss: 0.0010 - val_v_or_hat_loss: 3.5926e-06 - val_v_ex_hat_loss: 4.3835e-06 - val_theta_or_hat_loss: 1.9590e-04 - val_theta_ex_hat_loss: 3.0681e-04\n",
      "Epoch 156/200\n",
      "782/782 [==============================] - 5s 7ms/step - loss: 0.0041 - a_or_hat_loss: 8.9762e-04 - a_ex_hat_loss: 8.3431e-04 - p_or_hat_loss: 3.2654e-04 - p_ex_hat_loss: 3.4878e-04 - q_ex_hat_loss: 6.9093e-04 - q_or_hat_loss: 6.1664e-04 - v_or_hat_loss: 7.3932e-06 - v_ex_hat_loss: 7.5014e-06 - theta_or_hat_loss: 1.6962e-04 - theta_ex_hat_loss: 2.3360e-04 - val_loss: 0.0051 - val_a_or_hat_loss: 0.0011 - val_a_ex_hat_loss: 0.0011 - val_p_or_hat_loss: 4.4869e-04 - val_p_ex_hat_loss: 4.2822e-04 - val_q_ex_hat_loss: 7.8358e-04 - val_q_or_hat_loss: 6.9865e-04 - val_v_or_hat_loss: 1.2540e-05 - val_v_ex_hat_loss: 1.5161e-05 - val_theta_or_hat_loss: 2.0461e-04 - val_theta_ex_hat_loss: 2.7773e-04\n",
      "Epoch 157/200\n",
      "782/782 [==============================] - 6s 7ms/step - loss: 0.0040 - a_or_hat_loss: 8.8883e-04 - a_ex_hat_loss: 8.3798e-04 - p_or_hat_loss: 3.0912e-04 - p_ex_hat_loss: 3.2647e-04 - q_ex_hat_loss: 6.7751e-04 - q_or_hat_loss: 5.8999e-04 - v_or_hat_loss: 5.7673e-06 - v_ex_hat_loss: 6.1900e-06 - theta_or_hat_loss: 1.6053e-04 - theta_ex_hat_loss: 2.1938e-04 - val_loss: 0.0051 - val_a_or_hat_loss: 0.0011 - val_a_ex_hat_loss: 0.0011 - val_p_or_hat_loss: 3.8466e-04 - val_p_ex_hat_loss: 4.1967e-04 - val_q_ex_hat_loss: 8.4144e-04 - val_q_or_hat_loss: 7.6356e-04 - val_v_or_hat_loss: 8.8704e-06 - val_v_ex_hat_loss: 7.5020e-06 - val_theta_or_hat_loss: 2.2933e-04 - val_theta_ex_hat_loss: 2.7796e-04\n"
     ]
    },
    {
     "name": "stdout",
     "output_type": "stream",
     "text": [
      "Epoch 158/200\n",
      "782/782 [==============================] - 5s 7ms/step - loss: 0.0040 - a_or_hat_loss: 8.9083e-04 - a_ex_hat_loss: 8.3705e-04 - p_or_hat_loss: 3.0782e-04 - p_ex_hat_loss: 3.2991e-04 - q_ex_hat_loss: 6.7844e-04 - q_or_hat_loss: 5.9583e-04 - v_or_hat_loss: 5.2577e-06 - v_ex_hat_loss: 5.5017e-06 - theta_or_hat_loss: 1.6375e-04 - theta_ex_hat_loss: 2.2183e-04 - val_loss: 0.0056 - val_a_or_hat_loss: 0.0012 - val_a_ex_hat_loss: 0.0011 - val_p_or_hat_loss: 3.8044e-04 - val_p_ex_hat_loss: 4.1231e-04 - val_q_ex_hat_loss: 0.0011 - val_q_or_hat_loss: 7.7984e-04 - val_v_or_hat_loss: 5.9076e-06 - val_v_ex_hat_loss: 6.3720e-06 - val_theta_or_hat_loss: 3.3329e-04 - val_theta_ex_hat_loss: 3.3106e-04\n",
      "Epoch 159/200\n",
      "782/782 [==============================] - 5s 7ms/step - loss: 0.0042 - a_or_hat_loss: 8.9470e-04 - a_ex_hat_loss: 8.3774e-04 - p_or_hat_loss: 3.3877e-04 - p_ex_hat_loss: 3.5009e-04 - q_ex_hat_loss: 7.1846e-04 - q_or_hat_loss: 5.9773e-04 - v_or_hat_loss: 6.8332e-06 - v_ex_hat_loss: 6.9589e-06 - theta_or_hat_loss: 1.8017e-04 - theta_ex_hat_loss: 2.3828e-04 - val_loss: 0.0049 - val_a_or_hat_loss: 0.0011 - val_a_ex_hat_loss: 9.9652e-04 - val_p_or_hat_loss: 3.6125e-04 - val_p_ex_hat_loss: 4.0625e-04 - val_q_ex_hat_loss: 8.8031e-04 - val_q_or_hat_loss: 6.3055e-04 - val_v_or_hat_loss: 2.6466e-06 - val_v_ex_hat_loss: 4.4288e-06 - val_theta_or_hat_loss: 1.9276e-04 - val_theta_ex_hat_loss: 2.7068e-04\n",
      "Epoch 160/200\n",
      "782/782 [==============================] - 5s 7ms/step - loss: 0.0040 - a_or_hat_loss: 8.7345e-04 - a_ex_hat_loss: 8.2254e-04 - p_or_hat_loss: 3.1815e-04 - p_ex_hat_loss: 3.3192e-04 - q_ex_hat_loss: 6.8927e-04 - q_or_hat_loss: 5.8168e-04 - v_or_hat_loss: 5.7352e-06 - v_ex_hat_loss: 5.7507e-06 - theta_or_hat_loss: 1.5916e-04 - theta_ex_hat_loss: 2.1511e-04 - val_loss: 0.0050 - val_a_or_hat_loss: 0.0012 - val_a_ex_hat_loss: 9.9104e-04 - val_p_or_hat_loss: 4.0945e-04 - val_p_ex_hat_loss: 3.7107e-04 - val_q_ex_hat_loss: 8.1194e-04 - val_q_or_hat_loss: 6.9323e-04 - val_v_or_hat_loss: 3.7259e-06 - val_v_ex_hat_loss: 5.4472e-06 - val_theta_or_hat_loss: 1.9878e-04 - val_theta_ex_hat_loss: 2.6866e-04\n",
      "Epoch 161/200\n",
      "782/782 [==============================] - 6s 7ms/step - loss: 0.0040 - a_or_hat_loss: 8.7994e-04 - a_ex_hat_loss: 8.1468e-04 - p_or_hat_loss: 3.0867e-04 - p_ex_hat_loss: 3.2119e-04 - q_ex_hat_loss: 6.7948e-04 - q_or_hat_loss: 5.9028e-04 - v_or_hat_loss: 5.3802e-06 - v_ex_hat_loss: 5.5213e-06 - theta_or_hat_loss: 1.6545e-04 - theta_ex_hat_loss: 2.2569e-04 - val_loss: 0.0050 - val_a_or_hat_loss: 0.0011 - val_a_ex_hat_loss: 9.8491e-04 - val_p_or_hat_loss: 3.4891e-04 - val_p_ex_hat_loss: 3.4599e-04 - val_q_ex_hat_loss: 8.4318e-04 - val_q_or_hat_loss: 7.6382e-04 - val_v_or_hat_loss: 4.9422e-06 - val_v_ex_hat_loss: 7.1920e-06 - val_theta_or_hat_loss: 1.9895e-04 - val_theta_ex_hat_loss: 3.3171e-04\n",
      "Epoch 162/200\n",
      "782/782 [==============================] - 5s 7ms/step - loss: 0.0041 - a_or_hat_loss: 8.8678e-04 - a_ex_hat_loss: 8.3332e-04 - p_or_hat_loss: 3.2106e-04 - p_ex_hat_loss: 3.4066e-04 - q_ex_hat_loss: 7.1304e-04 - q_or_hat_loss: 6.0543e-04 - v_or_hat_loss: 7.3902e-06 - v_ex_hat_loss: 7.3045e-06 - theta_or_hat_loss: 1.7887e-04 - theta_ex_hat_loss: 2.3175e-04 - val_loss: 0.0069 - val_a_or_hat_loss: 0.0015 - val_a_ex_hat_loss: 0.0012 - val_p_or_hat_loss: 6.2729e-04 - val_p_ex_hat_loss: 4.8446e-04 - val_q_ex_hat_loss: 0.0015 - val_q_or_hat_loss: 0.0010 - val_v_or_hat_loss: 1.5825e-05 - val_v_ex_hat_loss: 1.4648e-05 - val_theta_or_hat_loss: 2.1666e-04 - val_theta_ex_hat_loss: 3.2830e-04\n",
      "Epoch 163/200\n",
      "782/782 [==============================] - 5s 7ms/step - loss: 0.0040 - a_or_hat_loss: 8.7846e-04 - a_ex_hat_loss: 8.1407e-04 - p_or_hat_loss: 3.1973e-04 - p_ex_hat_loss: 3.2548e-04 - q_ex_hat_loss: 6.8443e-04 - q_or_hat_loss: 5.8451e-04 - v_or_hat_loss: 6.5861e-06 - v_ex_hat_loss: 6.6577e-06 - theta_or_hat_loss: 1.6023e-04 - theta_ex_hat_loss: 2.2009e-04 - val_loss: 0.0050 - val_a_or_hat_loss: 0.0012 - val_a_ex_hat_loss: 9.9925e-04 - val_p_or_hat_loss: 3.7823e-04 - val_p_ex_hat_loss: 4.2948e-04 - val_q_ex_hat_loss: 7.6734e-04 - val_q_or_hat_loss: 7.3907e-04 - val_v_or_hat_loss: 4.1438e-06 - val_v_ex_hat_loss: 7.0033e-06 - val_theta_or_hat_loss: 2.1219e-04 - val_theta_ex_hat_loss: 2.5411e-04\n",
      "Epoch 164/200\n",
      "782/782 [==============================] - 5s 7ms/step - loss: 0.0039 - a_or_hat_loss: 8.7075e-04 - a_ex_hat_loss: 8.0887e-04 - p_or_hat_loss: 2.9591e-04 - p_ex_hat_loss: 3.1977e-04 - q_ex_hat_loss: 6.4800e-04 - q_or_hat_loss: 5.6697e-04 - v_or_hat_loss: 5.3338e-06 - v_ex_hat_loss: 5.5208e-06 - theta_or_hat_loss: 1.5839e-04 - theta_ex_hat_loss: 2.1264e-04 - val_loss: 0.0050 - val_a_or_hat_loss: 0.0012 - val_a_ex_hat_loss: 0.0011 - val_p_or_hat_loss: 4.1745e-04 - val_p_ex_hat_loss: 4.2921e-04 - val_q_ex_hat_loss: 7.7393e-04 - val_q_or_hat_loss: 6.5853e-04 - val_v_or_hat_loss: 3.0697e-06 - val_v_ex_hat_loss: 3.4509e-06 - val_theta_or_hat_loss: 2.2032e-04 - val_theta_ex_hat_loss: 2.6786e-04\n",
      "Epoch 165/200\n",
      "782/782 [==============================] - 6s 7ms/step - loss: 0.0039 - a_or_hat_loss: 8.5876e-04 - a_ex_hat_loss: 8.0553e-04 - p_or_hat_loss: 3.0222e-04 - p_ex_hat_loss: 3.1627e-04 - q_ex_hat_loss: 6.5007e-04 - q_or_hat_loss: 5.7310e-04 - v_or_hat_loss: 5.6077e-06 - v_ex_hat_loss: 5.8102e-06 - theta_or_hat_loss: 1.5614e-04 - theta_ex_hat_loss: 2.1276e-04 - val_loss: 0.0046 - val_a_or_hat_loss: 0.0011 - val_a_ex_hat_loss: 9.7430e-04 - val_p_or_hat_loss: 3.3347e-04 - val_p_ex_hat_loss: 3.6593e-04 - val_q_ex_hat_loss: 7.0678e-04 - val_q_or_hat_loss: 6.9394e-04 - val_v_or_hat_loss: 2.5025e-06 - val_v_ex_hat_loss: 3.1199e-06 - val_theta_or_hat_loss: 1.7459e-04 - val_theta_ex_hat_loss: 2.6476e-04\n",
      "Epoch 166/200\n",
      "782/782 [==============================] - 5s 7ms/step - loss: 0.0039 - a_or_hat_loss: 8.4838e-04 - a_ex_hat_loss: 8.0205e-04 - p_or_hat_loss: 2.9424e-04 - p_ex_hat_loss: 3.1734e-04 - q_ex_hat_loss: 6.3592e-04 - q_or_hat_loss: 5.6343e-04 - v_or_hat_loss: 5.6006e-06 - v_ex_hat_loss: 5.7382e-06 - theta_or_hat_loss: 1.8562e-04 - theta_ex_hat_loss: 2.3471e-04 - val_loss: 0.0049 - val_a_or_hat_loss: 0.0011 - val_a_ex_hat_loss: 0.0011 - val_p_or_hat_loss: 3.1195e-04 - val_p_ex_hat_loss: 3.8308e-04 - val_q_ex_hat_loss: 7.4616e-04 - val_q_or_hat_loss: 7.3449e-04 - val_v_or_hat_loss: 3.9510e-06 - val_v_ex_hat_loss: 4.6947e-06 - val_theta_or_hat_loss: 2.0326e-04 - val_theta_ex_hat_loss: 2.4482e-04\n",
      "Epoch 167/200\n",
      "782/782 [==============================] - 5s 7ms/step - loss: 0.0039 - a_or_hat_loss: 8.6180e-04 - a_ex_hat_loss: 8.0816e-04 - p_or_hat_loss: 3.1643e-04 - p_ex_hat_loss: 3.3047e-04 - q_ex_hat_loss: 6.5524e-04 - q_or_hat_loss: 5.7203e-04 - v_or_hat_loss: 5.6439e-06 - v_ex_hat_loss: 5.5973e-06 - theta_or_hat_loss: 1.5592e-04 - theta_ex_hat_loss: 2.1103e-04 - val_loss: 0.0055 - val_a_or_hat_loss: 0.0012 - val_a_ex_hat_loss: 0.0010 - val_p_or_hat_loss: 4.5802e-04 - val_p_ex_hat_loss: 4.7184e-04 - val_q_ex_hat_loss: 9.2686e-04 - val_q_or_hat_loss: 8.5870e-04 - val_v_or_hat_loss: 7.0019e-06 - val_v_ex_hat_loss: 6.0835e-06 - val_theta_or_hat_loss: 2.2537e-04 - val_theta_ex_hat_loss: 2.9102e-04\n",
      "Epoch 168/200\n",
      "782/782 [==============================] - 5s 7ms/step - loss: 0.0039 - a_or_hat_loss: 8.6606e-04 - a_ex_hat_loss: 8.0446e-04 - p_or_hat_loss: 3.0244e-04 - p_ex_hat_loss: 3.1440e-04 - q_ex_hat_loss: 6.4294e-04 - q_or_hat_loss: 5.6910e-04 - v_or_hat_loss: 5.5557e-06 - v_ex_hat_loss: 5.6059e-06 - theta_or_hat_loss: 1.5960e-04 - theta_ex_hat_loss: 2.1386e-04 - val_loss: 0.0048 - val_a_or_hat_loss: 0.0012 - val_a_ex_hat_loss: 9.8841e-04 - val_p_or_hat_loss: 3.7144e-04 - val_p_ex_hat_loss: 4.2274e-04 - val_q_ex_hat_loss: 7.4883e-04 - val_q_or_hat_loss: 6.4326e-04 - val_v_or_hat_loss: 1.1715e-05 - val_v_ex_hat_loss: 1.0149e-05 - val_theta_or_hat_loss: 1.8215e-04 - val_theta_ex_hat_loss: 2.5600e-04\n",
      "Epoch 169/200\n",
      "782/782 [==============================] - 5s 7ms/step - loss: 0.0039 - a_or_hat_loss: 8.5285e-04 - a_ex_hat_loss: 7.9403e-04 - p_or_hat_loss: 3.1235e-04 - p_ex_hat_loss: 3.2591e-04 - q_ex_hat_loss: 6.4083e-04 - q_or_hat_loss: 5.6145e-04 - v_or_hat_loss: 6.0028e-06 - v_ex_hat_loss: 5.7825e-06 - theta_or_hat_loss: 1.6644e-04 - theta_ex_hat_loss: 2.2833e-04 - val_loss: 0.0050 - val_a_or_hat_loss: 0.0012 - val_a_ex_hat_loss: 0.0011 - val_p_or_hat_loss: 4.0664e-04 - val_p_ex_hat_loss: 4.6888e-04 - val_q_ex_hat_loss: 7.8652e-04 - val_q_or_hat_loss: 6.9445e-04 - val_v_or_hat_loss: 8.5974e-06 - val_v_ex_hat_loss: 8.3074e-06 - val_theta_or_hat_loss: 1.6156e-04 - val_theta_ex_hat_loss: 2.4005e-04\n",
      "Epoch 170/200\n",
      "782/782 [==============================] - 5s 7ms/step - loss: 0.0038 - a_or_hat_loss: 8.4285e-04 - a_ex_hat_loss: 7.9804e-04 - p_or_hat_loss: 2.9560e-04 - p_ex_hat_loss: 3.1060e-04 - q_ex_hat_loss: 6.3945e-04 - q_or_hat_loss: 5.5726e-04 - v_or_hat_loss: 5.7149e-06 - v_ex_hat_loss: 5.7661e-06 - theta_or_hat_loss: 1.5199e-04 - theta_ex_hat_loss: 2.0980e-04 - val_loss: 0.0047 - val_a_or_hat_loss: 0.0011 - val_a_ex_hat_loss: 9.4833e-04 - val_p_or_hat_loss: 3.9903e-04 - val_p_ex_hat_loss: 3.3311e-04 - val_q_ex_hat_loss: 7.2195e-04 - val_q_or_hat_loss: 6.4165e-04 - val_v_or_hat_loss: 4.6272e-06 - val_v_ex_hat_loss: 4.4244e-06 - val_theta_or_hat_loss: 2.1189e-04 - val_theta_ex_hat_loss: 3.1284e-04\n",
      "Epoch 171/200\n",
      "782/782 [==============================] - 5s 7ms/step - loss: 0.0038 - a_or_hat_loss: 8.4323e-04 - a_ex_hat_loss: 7.8902e-04 - p_or_hat_loss: 2.9895e-04 - p_ex_hat_loss: 3.0613e-04 - q_ex_hat_loss: 6.2436e-04 - q_or_hat_loss: 5.4858e-04 - v_or_hat_loss: 5.1248e-06 - v_ex_hat_loss: 5.0898e-06 - theta_or_hat_loss: 1.5888e-04 - theta_ex_hat_loss: 2.1374e-04 - val_loss: 0.0046 - val_a_or_hat_loss: 0.0011 - val_a_ex_hat_loss: 9.8215e-04 - val_p_or_hat_loss: 3.3097e-04 - val_p_ex_hat_loss: 3.5732e-04 - val_q_ex_hat_loss: 7.5501e-04 - val_q_or_hat_loss: 6.6002e-04 - val_v_or_hat_loss: 2.2017e-06 - val_v_ex_hat_loss: 2.7962e-06 - val_theta_or_hat_loss: 1.7878e-04 - val_theta_ex_hat_loss: 2.4724e-04\n",
      "Epoch 172/200\n",
      "782/782 [==============================] - 5s 7ms/step - loss: 0.0038 - a_or_hat_loss: 8.4523e-04 - a_ex_hat_loss: 7.9542e-04 - p_or_hat_loss: 2.9017e-04 - p_ex_hat_loss: 3.0906e-04 - q_ex_hat_loss: 6.3226e-04 - q_or_hat_loss: 5.5060e-04 - v_or_hat_loss: 5.0662e-06 - v_ex_hat_loss: 5.1239e-06 - theta_or_hat_loss: 1.4925e-04 - theta_ex_hat_loss: 2.0393e-04 - val_loss: 0.0051 - val_a_or_hat_loss: 0.0012 - val_a_ex_hat_loss: 0.0010 - val_p_or_hat_loss: 4.8945e-04 - val_p_ex_hat_loss: 4.5997e-04 - val_q_ex_hat_loss: 7.4828e-04 - val_q_or_hat_loss: 6.8694e-04 - val_v_or_hat_loss: 6.2765e-06 - val_v_ex_hat_loss: 6.3950e-06 - val_theta_or_hat_loss: 1.7929e-04 - val_theta_ex_hat_loss: 3.1123e-04\n",
      "Epoch 173/200\n",
      "782/782 [==============================] - 6s 7ms/step - loss: 0.0037 - a_or_hat_loss: 8.2570e-04 - a_ex_hat_loss: 7.6791e-04 - p_or_hat_loss: 2.7836e-04 - p_ex_hat_loss: 2.9361e-04 - q_ex_hat_loss: 6.0796e-04 - q_or_hat_loss: 5.3550e-04 - v_or_hat_loss: 4.9758e-06 - v_ex_hat_loss: 4.8523e-06 - theta_or_hat_loss: 1.4231e-04 - theta_ex_hat_loss: 1.9853e-04 - val_loss: 0.0045 - val_a_or_hat_loss: 0.0011 - val_a_ex_hat_loss: 9.5160e-04 - val_p_or_hat_loss: 3.1716e-04 - val_p_ex_hat_loss: 3.6838e-04 - val_q_ex_hat_loss: 7.0318e-04 - val_q_or_hat_loss: 6.6519e-04 - val_v_or_hat_loss: 2.9337e-06 - val_v_ex_hat_loss: 2.6456e-06 - val_theta_or_hat_loss: 1.7571e-04 - val_theta_ex_hat_loss: 2.7334e-04\n",
      "Epoch 174/200\n",
      "782/782 [==============================] - 5s 7ms/step - loss: 0.0038 - a_or_hat_loss: 8.3340e-04 - a_ex_hat_loss: 7.7944e-04 - p_or_hat_loss: 2.9398e-04 - p_ex_hat_loss: 3.0835e-04 - q_ex_hat_loss: 6.1865e-04 - q_or_hat_loss: 5.5674e-04 - v_or_hat_loss: 4.6348e-06 - v_ex_hat_loss: 4.6890e-06 - theta_or_hat_loss: 1.5226e-04 - theta_ex_hat_loss: 2.0950e-04 - val_loss: 0.0047 - val_a_or_hat_loss: 0.0011 - val_a_ex_hat_loss: 9.6319e-04 - val_p_or_hat_loss: 3.2183e-04 - val_p_ex_hat_loss: 3.3681e-04 - val_q_ex_hat_loss: 7.8090e-04 - val_q_or_hat_loss: 6.8789e-04 - val_v_or_hat_loss: 9.5735e-06 - val_v_ex_hat_loss: 1.0041e-05 - val_theta_or_hat_loss: 1.6832e-04 - val_theta_ex_hat_loss: 2.6305e-04\n",
      "Epoch 175/200\n",
      "782/782 [==============================] - 6s 7ms/step - loss: 0.0037 - a_or_hat_loss: 8.3271e-04 - a_ex_hat_loss: 7.7634e-04 - p_or_hat_loss: 2.8110e-04 - p_ex_hat_loss: 2.9411e-04 - q_ex_hat_loss: 6.2126e-04 - q_or_hat_loss: 5.3820e-04 - v_or_hat_loss: 5.4525e-06 - v_ex_hat_loss: 5.4913e-06 - theta_or_hat_loss: 1.4711e-04 - theta_ex_hat_loss: 2.0189e-04 - val_loss: 0.0048 - val_a_or_hat_loss: 0.0012 - val_a_ex_hat_loss: 9.9211e-04 - val_p_or_hat_loss: 3.8295e-04 - val_p_ex_hat_loss: 3.5942e-04 - val_q_ex_hat_loss: 7.5526e-04 - val_q_or_hat_loss: 7.1249e-04 - val_v_or_hat_loss: 4.2685e-06 - val_v_ex_hat_loss: 4.6750e-06 - val_theta_or_hat_loss: 2.1108e-04 - val_theta_ex_hat_loss: 2.4359e-04\n",
      "Epoch 176/200\n",
      "782/782 [==============================] - 6s 8ms/step - loss: 0.0038 - a_or_hat_loss: 8.4182e-04 - a_ex_hat_loss: 7.8889e-04 - p_or_hat_loss: 2.9987e-04 - p_ex_hat_loss: 3.1080e-04 - q_ex_hat_loss: 6.2798e-04 - q_or_hat_loss: 5.5477e-04 - v_or_hat_loss: 6.0529e-06 - v_ex_hat_loss: 6.0271e-06 - theta_or_hat_loss: 1.4995e-04 - theta_ex_hat_loss: 2.0270e-04 - val_loss: 0.0046 - val_a_or_hat_loss: 0.0011 - val_a_ex_hat_loss: 9.9832e-04 - val_p_or_hat_loss: 3.0255e-04 - val_p_ex_hat_loss: 3.2558e-04 - val_q_ex_hat_loss: 7.3615e-04 - val_q_or_hat_loss: 6.6608e-04 - val_v_or_hat_loss: 2.5105e-06 - val_v_ex_hat_loss: 2.3508e-06 - val_theta_or_hat_loss: 2.0699e-04 - val_theta_ex_hat_loss: 2.7849e-04\n",
      "Epoch 177/200\n",
      "782/782 [==============================] - 6s 8ms/step - loss: 0.0037 - a_or_hat_loss: 8.2034e-04 - a_ex_hat_loss: 7.7947e-04 - p_or_hat_loss: 2.8617e-04 - p_ex_hat_loss: 3.0062e-04 - q_ex_hat_loss: 6.2073e-04 - q_or_hat_loss: 5.3903e-04 - v_or_hat_loss: 4.8376e-06 - v_ex_hat_loss: 4.7061e-06 - theta_or_hat_loss: 1.4853e-04 - theta_ex_hat_loss: 2.0185e-04 - val_loss: 0.0045 - val_a_or_hat_loss: 0.0011 - val_a_ex_hat_loss: 9.2093e-04 - val_p_or_hat_loss: 3.4026e-04 - val_p_ex_hat_loss: 3.1692e-04 - val_q_ex_hat_loss: 7.0965e-04 - val_q_or_hat_loss: 6.9974e-04 - val_v_or_hat_loss: 5.1971e-06 - val_v_ex_hat_loss: 4.2446e-06 - val_theta_or_hat_loss: 1.7249e-04 - val_theta_ex_hat_loss: 2.4204e-04\n",
      "Epoch 178/200\n",
      "782/782 [==============================] - 7s 8ms/step - loss: 0.0037 - a_or_hat_loss: 8.1952e-04 - a_ex_hat_loss: 7.7210e-04 - p_or_hat_loss: 2.8679e-04 - p_ex_hat_loss: 2.9701e-04 - q_ex_hat_loss: 6.2115e-04 - q_or_hat_loss: 5.3787e-04 - v_or_hat_loss: 5.2652e-06 - v_ex_hat_loss: 5.0652e-06 - theta_or_hat_loss: 1.4481e-04 - theta_ex_hat_loss: 1.9915e-04 - val_loss: 0.0045 - val_a_or_hat_loss: 0.0011 - val_a_ex_hat_loss: 9.2345e-04 - val_p_or_hat_loss: 3.3033e-04 - val_p_ex_hat_loss: 3.1563e-04 - val_q_ex_hat_loss: 7.8518e-04 - val_q_or_hat_loss: 6.1431e-04 - val_v_or_hat_loss: 3.0057e-06 - val_v_ex_hat_loss: 4.1090e-06 - val_theta_or_hat_loss: 1.7594e-04 - val_theta_ex_hat_loss: 2.3531e-04\n",
      "Epoch 179/200\n",
      "782/782 [==============================] - 7s 9ms/step - loss: 0.0037 - a_or_hat_loss: 8.1377e-04 - a_ex_hat_loss: 7.6989e-04 - p_or_hat_loss: 2.8220e-04 - p_ex_hat_loss: 2.9526e-04 - q_ex_hat_loss: 6.0889e-04 - q_or_hat_loss: 5.3761e-04 - v_or_hat_loss: 5.3343e-06 - v_ex_hat_loss: 5.2149e-06 - theta_or_hat_loss: 1.4936e-04 - theta_ex_hat_loss: 2.0606e-04 - val_loss: 0.0050 - val_a_or_hat_loss: 0.0013 - val_a_ex_hat_loss: 0.0011 - val_p_or_hat_loss: 3.2531e-04 - val_p_ex_hat_loss: 3.7558e-04 - val_q_ex_hat_loss: 7.9791e-04 - val_q_or_hat_loss: 6.1124e-04 - val_v_or_hat_loss: 6.0052e-06 - val_v_ex_hat_loss: 5.0418e-06 - val_theta_or_hat_loss: 1.9880e-04 - val_theta_ex_hat_loss: 2.9310e-04\n",
      "Epoch 180/200\n"
     ]
    },
    {
     "name": "stdout",
     "output_type": "stream",
     "text": [
      "782/782 [==============================] - 7s 9ms/step - loss: 0.0039 - a_or_hat_loss: 8.4069e-04 - a_ex_hat_loss: 7.8879e-04 - p_or_hat_loss: 3.1390e-04 - p_ex_hat_loss: 3.2385e-04 - q_ex_hat_loss: 6.6937e-04 - q_or_hat_loss: 5.7081e-04 - v_or_hat_loss: 7.7017e-06 - v_ex_hat_loss: 7.3454e-06 - theta_or_hat_loss: 1.5158e-04 - theta_ex_hat_loss: 2.0889e-04 - val_loss: 0.0058 - val_a_or_hat_loss: 0.0012 - val_a_ex_hat_loss: 0.0011 - val_p_or_hat_loss: 6.2885e-04 - val_p_ex_hat_loss: 6.2272e-04 - val_q_ex_hat_loss: 9.2818e-04 - val_q_or_hat_loss: 7.5129e-04 - val_v_or_hat_loss: 1.3041e-05 - val_v_ex_hat_loss: 1.3582e-05 - val_theta_or_hat_loss: 2.3138e-04 - val_theta_ex_hat_loss: 3.1985e-04\n",
      "Epoch 181/200\n",
      "782/782 [==============================] - 7s 9ms/step - loss: 0.0037 - a_or_hat_loss: 8.2698e-04 - a_ex_hat_loss: 7.7762e-04 - p_or_hat_loss: 2.9927e-04 - p_ex_hat_loss: 3.0474e-04 - q_ex_hat_loss: 6.2356e-04 - q_or_hat_loss: 5.4306e-04 - v_or_hat_loss: 5.7826e-06 - v_ex_hat_loss: 5.8107e-06 - theta_or_hat_loss: 1.4748e-04 - theta_ex_hat_loss: 2.0367e-04 - val_loss: 0.0056 - val_a_or_hat_loss: 0.0013 - val_a_ex_hat_loss: 0.0012 - val_p_or_hat_loss: 4.7892e-04 - val_p_ex_hat_loss: 5.3578e-04 - val_q_ex_hat_loss: 8.1203e-04 - val_q_or_hat_loss: 8.0973e-04 - val_v_or_hat_loss: 9.6775e-06 - val_v_ex_hat_loss: 8.8587e-06 - val_theta_or_hat_loss: 2.0852e-04 - val_theta_ex_hat_loss: 2.9237e-04\n",
      "Epoch 182/200\n",
      "782/782 [==============================] - 7s 9ms/step - loss: 0.0037 - a_or_hat_loss: 8.1987e-04 - a_ex_hat_loss: 7.7137e-04 - p_or_hat_loss: 3.0462e-04 - p_ex_hat_loss: 3.1658e-04 - q_ex_hat_loss: 6.0393e-04 - q_or_hat_loss: 5.3456e-04 - v_or_hat_loss: 4.9331e-06 - v_ex_hat_loss: 4.8496e-06 - theta_or_hat_loss: 1.4772e-04 - theta_ex_hat_loss: 2.0141e-04 - val_loss: 0.0045 - val_a_or_hat_loss: 0.0010 - val_a_ex_hat_loss: 9.4108e-04 - val_p_or_hat_loss: 3.2305e-04 - val_p_ex_hat_loss: 3.7251e-04 - val_q_ex_hat_loss: 7.5255e-04 - val_q_or_hat_loss: 6.5243e-04 - val_v_or_hat_loss: 2.6417e-06 - val_v_ex_hat_loss: 3.5111e-06 - val_theta_or_hat_loss: 1.7566e-04 - val_theta_ex_hat_loss: 2.8236e-04\n",
      "Epoch 183/200\n",
      "782/782 [==============================] - 8s 10ms/step - loss: 0.0037 - a_or_hat_loss: 8.1225e-04 - a_ex_hat_loss: 7.6614e-04 - p_or_hat_loss: 2.8827e-04 - p_ex_hat_loss: 2.9928e-04 - q_ex_hat_loss: 5.9999e-04 - q_or_hat_loss: 5.3522e-04 - v_or_hat_loss: 4.6711e-06 - v_ex_hat_loss: 4.6661e-06 - theta_or_hat_loss: 1.4735e-04 - theta_ex_hat_loss: 2.0693e-04 - val_loss: 0.0045 - val_a_or_hat_loss: 0.0011 - val_a_ex_hat_loss: 9.2591e-04 - val_p_or_hat_loss: 3.6412e-04 - val_p_ex_hat_loss: 3.4279e-04 - val_q_ex_hat_loss: 6.8856e-04 - val_q_or_hat_loss: 6.2419e-04 - val_v_or_hat_loss: 3.6141e-06 - val_v_ex_hat_loss: 3.0423e-06 - val_theta_or_hat_loss: 2.1061e-04 - val_theta_ex_hat_loss: 2.4746e-04\n",
      "Epoch 184/200\n",
      "782/782 [==============================] - 7s 9ms/step - loss: 0.0037 - a_or_hat_loss: 8.0967e-04 - a_ex_hat_loss: 7.6324e-04 - p_or_hat_loss: 2.8250e-04 - p_ex_hat_loss: 2.9558e-04 - q_ex_hat_loss: 6.1521e-04 - q_or_hat_loss: 5.4465e-04 - v_or_hat_loss: 5.1238e-06 - v_ex_hat_loss: 5.1727e-06 - theta_or_hat_loss: 1.5681e-04 - theta_ex_hat_loss: 2.0041e-04 - val_loss: 0.0045 - val_a_or_hat_loss: 0.0011 - val_a_ex_hat_loss: 9.6059e-04 - val_p_or_hat_loss: 3.6436e-04 - val_p_ex_hat_loss: 3.5134e-04 - val_q_ex_hat_loss: 6.8580e-04 - val_q_or_hat_loss: 6.4130e-04 - val_v_or_hat_loss: 8.0892e-06 - val_v_ex_hat_loss: 8.5941e-06 - val_theta_or_hat_loss: 1.6547e-04 - val_theta_ex_hat_loss: 2.4658e-04\n",
      "Epoch 185/200\n",
      "782/782 [==============================] - 7s 9ms/step - loss: 0.0036 - a_or_hat_loss: 7.9777e-04 - a_ex_hat_loss: 7.5119e-04 - p_or_hat_loss: 2.8072e-04 - p_ex_hat_loss: 2.9308e-04 - q_ex_hat_loss: 5.9831e-04 - q_or_hat_loss: 5.2276e-04 - v_or_hat_loss: 4.8586e-06 - v_ex_hat_loss: 4.8380e-06 - theta_or_hat_loss: 1.3868e-04 - theta_ex_hat_loss: 1.8995e-04 - val_loss: 0.0049 - val_a_or_hat_loss: 0.0011 - val_a_ex_hat_loss: 9.9936e-04 - val_p_or_hat_loss: 3.9183e-04 - val_p_ex_hat_loss: 3.7676e-04 - val_q_ex_hat_loss: 8.4896e-04 - val_q_or_hat_loss: 6.7537e-04 - val_v_or_hat_loss: 5.4892e-06 - val_v_ex_hat_loss: 4.9250e-06 - val_theta_or_hat_loss: 1.6281e-04 - val_theta_ex_hat_loss: 2.5635e-04\n",
      "Epoch 186/200\n",
      "782/782 [==============================] - 6s 8ms/step - loss: 0.0036 - a_or_hat_loss: 8.0030e-04 - a_ex_hat_loss: 7.4940e-04 - p_or_hat_loss: 2.8524e-04 - p_ex_hat_loss: 2.9615e-04 - q_ex_hat_loss: 6.0099e-04 - q_or_hat_loss: 5.2526e-04 - v_or_hat_loss: 4.9728e-06 - v_ex_hat_loss: 4.9139e-06 - theta_or_hat_loss: 1.5621e-04 - theta_ex_hat_loss: 2.0580e-04 - val_loss: 0.0044 - val_a_or_hat_loss: 0.0010 - val_a_ex_hat_loss: 9.2818e-04 - val_p_or_hat_loss: 3.1157e-04 - val_p_ex_hat_loss: 3.6042e-04 - val_q_ex_hat_loss: 7.2154e-04 - val_q_or_hat_loss: 6.6687e-04 - val_v_or_hat_loss: 2.6190e-06 - val_v_ex_hat_loss: 2.6649e-06 - val_theta_or_hat_loss: 1.6407e-04 - val_theta_ex_hat_loss: 2.4158e-04\n",
      "Epoch 187/200\n",
      "782/782 [==============================] - 6s 8ms/step - loss: 0.0036 - a_or_hat_loss: 8.0734e-04 - a_ex_hat_loss: 7.6098e-04 - p_or_hat_loss: 2.7799e-04 - p_ex_hat_loss: 2.9866e-04 - q_ex_hat_loss: 6.0102e-04 - q_or_hat_loss: 5.2913e-04 - v_or_hat_loss: 4.7072e-06 - v_ex_hat_loss: 4.7426e-06 - theta_or_hat_loss: 1.4260e-04 - theta_ex_hat_loss: 1.9794e-04 - val_loss: 0.0050 - val_a_or_hat_loss: 0.0011 - val_a_ex_hat_loss: 0.0010 - val_p_or_hat_loss: 4.1141e-04 - val_p_ex_hat_loss: 4.2198e-04 - val_q_ex_hat_loss: 8.8484e-04 - val_q_or_hat_loss: 6.3189e-04 - val_v_or_hat_loss: 5.0219e-06 - val_v_ex_hat_loss: 4.9964e-06 - val_theta_or_hat_loss: 2.6590e-04 - val_theta_ex_hat_loss: 2.4083e-04\n",
      "Epoch 188/200\n",
      "782/782 [==============================] - 6s 7ms/step - loss: 0.0036 - a_or_hat_loss: 8.0731e-04 - a_ex_hat_loss: 7.5823e-04 - p_or_hat_loss: 2.8884e-04 - p_ex_hat_loss: 3.0029e-04 - q_ex_hat_loss: 6.0402e-04 - q_or_hat_loss: 5.2666e-04 - v_or_hat_loss: 4.7012e-06 - v_ex_hat_loss: 4.6187e-06 - theta_or_hat_loss: 1.4805e-04 - theta_ex_hat_loss: 2.0351e-04 - val_loss: 0.0042 - val_a_or_hat_loss: 0.0010 - val_a_ex_hat_loss: 9.2021e-04 - val_p_or_hat_loss: 3.1763e-04 - val_p_ex_hat_loss: 3.0507e-04 - val_q_ex_hat_loss: 6.5690e-04 - val_q_or_hat_loss: 5.8858e-04 - val_v_or_hat_loss: 2.7788e-06 - val_v_ex_hat_loss: 3.2541e-06 - val_theta_or_hat_loss: 1.5582e-04 - val_theta_ex_hat_loss: 2.4568e-04\n",
      "Epoch 189/200\n",
      "782/782 [==============================] - 6s 7ms/step - loss: 0.0035 - a_or_hat_loss: 7.9575e-04 - a_ex_hat_loss: 7.5314e-04 - p_or_hat_loss: 2.7767e-04 - p_ex_hat_loss: 2.7788e-04 - q_ex_hat_loss: 5.8858e-04 - q_or_hat_loss: 5.1032e-04 - v_or_hat_loss: 5.1982e-06 - v_ex_hat_loss: 5.1793e-06 - theta_or_hat_loss: 1.3667e-04 - theta_ex_hat_loss: 1.9026e-04 - val_loss: 0.0053 - val_a_or_hat_loss: 0.0011 - val_a_ex_hat_loss: 0.0010 - val_p_or_hat_loss: 5.8618e-04 - val_p_ex_hat_loss: 4.9411e-04 - val_q_ex_hat_loss: 7.9419e-04 - val_q_or_hat_loss: 6.9469e-04 - val_v_or_hat_loss: 5.0550e-06 - val_v_ex_hat_loss: 4.2040e-06 - val_theta_or_hat_loss: 2.2133e-04 - val_theta_ex_hat_loss: 3.5210e-04\n",
      "Epoch 190/200\n",
      "782/782 [==============================] - 5s 7ms/step - loss: 0.0036 - a_or_hat_loss: 7.9757e-04 - a_ex_hat_loss: 7.5508e-04 - p_or_hat_loss: 2.8149e-04 - p_ex_hat_loss: 2.9153e-04 - q_ex_hat_loss: 5.8808e-04 - q_or_hat_loss: 5.1837e-04 - v_or_hat_loss: 5.1625e-06 - v_ex_hat_loss: 5.0766e-06 - theta_or_hat_loss: 1.4132e-04 - theta_ex_hat_loss: 1.9505e-04 - val_loss: 0.0045 - val_a_or_hat_loss: 0.0010 - val_a_ex_hat_loss: 9.4562e-04 - val_p_or_hat_loss: 3.6129e-04 - val_p_ex_hat_loss: 3.3629e-04 - val_q_ex_hat_loss: 7.7540e-04 - val_q_or_hat_loss: 6.4640e-04 - val_v_or_hat_loss: 3.0544e-06 - val_v_ex_hat_loss: 3.0829e-06 - val_theta_or_hat_loss: 1.6408e-04 - val_theta_ex_hat_loss: 2.4179e-04\n",
      "Epoch 191/200\n",
      "782/782 [==============================] - 5s 7ms/step - loss: 0.0036 - a_or_hat_loss: 8.0207e-04 - a_ex_hat_loss: 7.5704e-04 - p_or_hat_loss: 2.8574e-04 - p_ex_hat_loss: 2.9410e-04 - q_ex_hat_loss: 5.9272e-04 - q_or_hat_loss: 5.2347e-04 - v_or_hat_loss: 4.7970e-06 - v_ex_hat_loss: 4.8071e-06 - theta_or_hat_loss: 1.4387e-04 - theta_ex_hat_loss: 1.9831e-04 - val_loss: 0.0045 - val_a_or_hat_loss: 0.0011 - val_a_ex_hat_loss: 9.0035e-04 - val_p_or_hat_loss: 3.2246e-04 - val_p_ex_hat_loss: 3.2886e-04 - val_q_ex_hat_loss: 7.0498e-04 - val_q_or_hat_loss: 6.3223e-04 - val_v_or_hat_loss: 2.4621e-06 - val_v_ex_hat_loss: 3.1258e-06 - val_theta_or_hat_loss: 2.4724e-04 - val_theta_ex_hat_loss: 2.5198e-04\n",
      "Epoch 192/200\n",
      "782/782 [==============================] - 5s 7ms/step - loss: 0.0036 - a_or_hat_loss: 7.8841e-04 - a_ex_hat_loss: 7.4858e-04 - p_or_hat_loss: 2.7460e-04 - p_ex_hat_loss: 2.8976e-04 - q_ex_hat_loss: 5.9109e-04 - q_or_hat_loss: 5.2334e-04 - v_or_hat_loss: 5.1338e-06 - v_ex_hat_loss: 4.9994e-06 - theta_or_hat_loss: 1.5061e-04 - theta_ex_hat_loss: 2.0411e-04 - val_loss: 0.0045 - val_a_or_hat_loss: 0.0010 - val_a_ex_hat_loss: 9.5233e-04 - val_p_or_hat_loss: 3.6759e-04 - val_p_ex_hat_loss: 3.5345e-04 - val_q_ex_hat_loss: 7.7609e-04 - val_q_or_hat_loss: 6.6058e-04 - val_v_or_hat_loss: 3.8348e-06 - val_v_ex_hat_loss: 3.5338e-06 - val_theta_or_hat_loss: 1.5084e-04 - val_theta_ex_hat_loss: 2.3607e-04\n",
      "Epoch 193/200\n",
      "782/782 [==============================] - 6s 8ms/step - loss: 0.0036 - a_or_hat_loss: 7.8289e-04 - a_ex_hat_loss: 7.4294e-04 - p_or_hat_loss: 2.9674e-04 - p_ex_hat_loss: 3.0185e-04 - q_ex_hat_loss: 5.9716e-04 - q_or_hat_loss: 5.2333e-04 - v_or_hat_loss: 4.7409e-06 - v_ex_hat_loss: 4.7300e-06 - theta_or_hat_loss: 1.4719e-04 - theta_ex_hat_loss: 1.9430e-04 - val_loss: 0.0053 - val_a_or_hat_loss: 0.0011 - val_a_ex_hat_loss: 9.8595e-04 - val_p_or_hat_loss: 4.2992e-04 - val_p_ex_hat_loss: 5.0233e-04 - val_q_ex_hat_loss: 9.8613e-04 - val_q_or_hat_loss: 7.3147e-04 - val_v_or_hat_loss: 1.1056e-05 - val_v_ex_hat_loss: 1.0741e-05 - val_theta_or_hat_loss: 2.3404e-04 - val_theta_ex_hat_loss: 2.9682e-04\n",
      "Epoch 194/200\n",
      "782/782 [==============================] - 6s 8ms/step - loss: 0.0037 - a_or_hat_loss: 8.1366e-04 - a_ex_hat_loss: 7.6300e-04 - p_or_hat_loss: 3.1203e-04 - p_ex_hat_loss: 3.2008e-04 - q_ex_hat_loss: 6.2827e-04 - q_or_hat_loss: 5.2836e-04 - v_or_hat_loss: 5.8746e-06 - v_ex_hat_loss: 5.7487e-06 - theta_or_hat_loss: 1.4478e-04 - theta_ex_hat_loss: 2.0617e-04 - val_loss: 0.0044 - val_a_or_hat_loss: 9.9622e-04 - val_a_ex_hat_loss: 9.5377e-04 - val_p_or_hat_loss: 3.1393e-04 - val_p_ex_hat_loss: 3.3206e-04 - val_q_ex_hat_loss: 8.3001e-04 - val_q_or_hat_loss: 6.1136e-04 - val_v_or_hat_loss: 4.3114e-06 - val_v_ex_hat_loss: 4.2091e-06 - val_theta_or_hat_loss: 1.6519e-04 - val_theta_ex_hat_loss: 2.3297e-04\n",
      "Epoch 195/200\n",
      "782/782 [==============================] - 6s 7ms/step - loss: 0.0036 - a_or_hat_loss: 8.0166e-04 - a_ex_hat_loss: 7.5004e-04 - p_or_hat_loss: 2.7842e-04 - p_ex_hat_loss: 2.8480e-04 - q_ex_hat_loss: 5.9546e-04 - q_or_hat_loss: 5.1380e-04 - v_or_hat_loss: 5.1450e-06 - v_ex_hat_loss: 5.0691e-06 - theta_or_hat_loss: 1.3688e-04 - theta_ex_hat_loss: 1.9257e-04 - val_loss: 0.0041 - val_a_or_hat_loss: 0.0010 - val_a_ex_hat_loss: 9.2399e-04 - val_p_or_hat_loss: 3.1101e-04 - val_p_ex_hat_loss: 2.9350e-04 - val_q_ex_hat_loss: 6.6096e-04 - val_q_or_hat_loss: 5.5330e-04 - val_v_or_hat_loss: 2.1486e-06 - val_v_ex_hat_loss: 2.7344e-06 - val_theta_or_hat_loss: 1.6021e-04 - val_theta_ex_hat_loss: 2.1532e-04\n",
      "Epoch 196/200\n",
      "782/782 [==============================] - 5s 7ms/step - loss: 0.0035 - a_or_hat_loss: 7.7299e-04 - a_ex_hat_loss: 7.3322e-04 - p_or_hat_loss: 2.7660e-04 - p_ex_hat_loss: 2.7979e-04 - q_ex_hat_loss: 5.7786e-04 - q_or_hat_loss: 4.9913e-04 - v_or_hat_loss: 5.1342e-06 - v_ex_hat_loss: 5.0052e-06 - theta_or_hat_loss: 1.3678e-04 - theta_ex_hat_loss: 1.9017e-04 - val_loss: 0.0043 - val_a_or_hat_loss: 0.0010 - val_a_ex_hat_loss: 9.5588e-04 - val_p_or_hat_loss: 2.9343e-04 - val_p_ex_hat_loss: 3.3127e-04 - val_q_ex_hat_loss: 7.0609e-04 - val_q_or_hat_loss: 6.0607e-04 - val_v_or_hat_loss: 3.5809e-06 - val_v_ex_hat_loss: 3.1135e-06 - val_theta_or_hat_loss: 1.5353e-04 - val_theta_ex_hat_loss: 2.2580e-04\n",
      "Epoch 197/200\n",
      "782/782 [==============================] - 5s 7ms/step - loss: 0.0035 - a_or_hat_loss: 7.8196e-04 - a_ex_hat_loss: 7.3565e-04 - p_or_hat_loss: 2.7289e-04 - p_ex_hat_loss: 2.7789e-04 - q_ex_hat_loss: 5.6850e-04 - q_or_hat_loss: 5.0314e-04 - v_or_hat_loss: 4.4929e-06 - v_ex_hat_loss: 4.4111e-06 - theta_or_hat_loss: 1.3686e-04 - theta_ex_hat_loss: 1.9171e-04 - val_loss: 0.0043 - val_a_or_hat_loss: 0.0010 - val_a_ex_hat_loss: 9.4693e-04 - val_p_or_hat_loss: 3.6155e-04 - val_p_ex_hat_loss: 3.1467e-04 - val_q_ex_hat_loss: 6.7905e-04 - val_q_or_hat_loss: 6.2957e-04 - val_v_or_hat_loss: 2.5064e-06 - val_v_ex_hat_loss: 2.1930e-06 - val_theta_or_hat_loss: 1.4710e-04 - val_theta_ex_hat_loss: 2.2942e-04\n",
      "Epoch 198/200\n",
      "782/782 [==============================] - 5s 7ms/step - loss: 0.0035 - a_or_hat_loss: 7.8675e-04 - a_ex_hat_loss: 7.4657e-04 - p_or_hat_loss: 2.6905e-04 - p_ex_hat_loss: 2.6984e-04 - q_ex_hat_loss: 5.8349e-04 - q_or_hat_loss: 5.0128e-04 - v_or_hat_loss: 4.6285e-06 - v_ex_hat_loss: 4.6023e-06 - theta_or_hat_loss: 1.3440e-04 - theta_ex_hat_loss: 1.8832e-04 - val_loss: 0.0046 - val_a_or_hat_loss: 0.0011 - val_a_ex_hat_loss: 0.0010 - val_p_or_hat_loss: 3.8524e-04 - val_p_ex_hat_loss: 3.5914e-04 - val_q_ex_hat_loss: 7.0332e-04 - val_q_or_hat_loss: 7.0086e-04 - val_v_or_hat_loss: 7.2546e-06 - val_v_ex_hat_loss: 7.1701e-06 - val_theta_or_hat_loss: 1.4184e-04 - val_theta_ex_hat_loss: 2.1937e-04\n",
      "Epoch 199/200\n",
      "782/782 [==============================] - 5s 7ms/step - loss: 0.0034 - a_or_hat_loss: 7.7531e-04 - a_ex_hat_loss: 7.3040e-04 - p_or_hat_loss: 2.6827e-04 - p_ex_hat_loss: 2.7594e-04 - q_ex_hat_loss: 5.6711e-04 - q_or_hat_loss: 4.9676e-04 - v_or_hat_loss: 4.6403e-06 - v_ex_hat_loss: 4.6350e-06 - theta_or_hat_loss: 1.3548e-04 - theta_ex_hat_loss: 1.8797e-04 - val_loss: 0.0043 - val_a_or_hat_loss: 0.0011 - val_a_ex_hat_loss: 9.6478e-04 - val_p_or_hat_loss: 3.1033e-04 - val_p_ex_hat_loss: 2.8469e-04 - val_q_ex_hat_loss: 6.9291e-04 - val_q_or_hat_loss: 6.3738e-04 - val_v_or_hat_loss: 4.7866e-06 - val_v_ex_hat_loss: 4.7646e-06 - val_theta_or_hat_loss: 1.4249e-04 - val_theta_ex_hat_loss: 2.3462e-04\n",
      "Epoch 200/200\n",
      "782/782 [==============================] - 5s 7ms/step - loss: 0.0036 - a_or_hat_loss: 7.9229e-04 - a_ex_hat_loss: 7.4789e-04 - p_or_hat_loss: 2.8529e-04 - p_ex_hat_loss: 2.8692e-04 - q_ex_hat_loss: 6.0014e-04 - q_or_hat_loss: 5.2038e-04 - v_or_hat_loss: 6.0626e-06 - v_ex_hat_loss: 5.9191e-06 - theta_or_hat_loss: 1.4251e-04 - theta_ex_hat_loss: 1.9614e-04 - val_loss: 0.0048 - val_a_or_hat_loss: 0.0011 - val_a_ex_hat_loss: 9.4227e-04 - val_p_or_hat_loss: 4.0968e-04 - val_p_ex_hat_loss: 4.7466e-04 - val_q_ex_hat_loss: 8.0261e-04 - val_q_or_hat_loss: 5.8371e-04 - val_v_or_hat_loss: 6.3228e-06 - val_v_ex_hat_loss: 7.0002e-06 - val_theta_or_hat_loss: 2.1368e-04 - val_theta_ex_hat_loss: 2.7678e-04\n"
     ]
    },
    {
     "data": {
      "text/plain": [
       "<tensorflow.python.keras.callbacks.History at 0x27b86f86fd0>"
      ]
     },
     "execution_count": 11,
     "metadata": {},
     "output_type": "execute_result"
    }
   ],
   "source": [
    "leapNet.train(nb_iter=200,\n",
    "              train_dataset=neurips_benchmark3.train_dataset,\n",
    "              val_dataset=neurips_benchmark3.val_dataset\n",
    "              )"
   ]
  },
  {
   "cell_type": "markdown",
   "id": "3b39d0e9",
   "metadata": {},
   "source": [
    "save it"
   ]
  },
  {
   "cell_type": "code",
   "execution_count": 12,
   "id": "6d4aba9a",
   "metadata": {},
   "outputs": [],
   "source": [
    "leapNet.save(path_save)\n",
    "leapNet.save_metadata(path_save)"
   ]
  },
  {
   "cell_type": "markdown",
   "id": "42ea7989",
   "metadata": {},
   "source": [
    "# Evaluate it "
   ]
  },
  {
   "cell_type": "code",
   "execution_count": 13,
   "id": "f2371fa9",
   "metadata": {},
   "outputs": [
    {
     "name": "stdout",
     "output_type": "stream",
     "text": [
      "A log file including some verifications is created at root directory with the name logs.log\n"
     ]
    }
   ],
   "source": [
    "leapNet_metrics_per_dataset = neurips_benchmark3.evaluate_augmented_simulator(leapNet)"
   ]
  },
  {
   "cell_type": "markdown",
   "id": "5948867b",
   "metadata": {},
   "source": [
    "### ML Metrics "
   ]
  },
  {
   "cell_type": "code",
   "execution_count": 14,
   "id": "acc6d0d4",
   "metadata": {},
   "outputs": [
    {
     "name": "stdout",
     "output_type": "stream",
     "text": [
      "MAPE90\n",
      "{'a_ex': 0.007627280422307372,\n",
      " 'a_or': 0.008161371365289707,\n",
      " 'p_ex': 0.0070716083679348615,\n",
      " 'p_or': 0.006713402995507482,\n",
      " 'q_ex': 0.01872287409967809,\n",
      " 'q_or': 0.026856733574902935,\n",
      " 'theta_ex': 0.008855646218386186,\n",
      " 'theta_or': nan,\n",
      " 'v_ex': 0.0027800687775338343,\n",
      " 'v_or': 0.0027032407203839343}\n",
      "MAPE\n",
      "{'a_ex': 0.019798308458008926,\n",
      " 'a_or': 0.020379822565709783,\n",
      " 'p_ex': 0.01460759526570545,\n",
      " 'p_or': 0.013359139042767925,\n",
      " 'q_ex': 0.02137782497860824,\n",
      " 'q_or': 0.021455024094834484,\n",
      " 'theta_ex': 0.008508733215873797,\n",
      " 'theta_or': nan,\n",
      " 'v_ex': 0.0024370175344503144,\n",
      " 'v_or': 0.0023524734635076232}\n",
      "MAE\n",
      "{'a_ex': 3.9130992889404297,\n",
      " 'a_or': 2.7250747680664062,\n",
      " 'p_ex': 0.16841043531894684,\n",
      " 'p_or': 0.15682396292686462,\n",
      " 'q_ex': 0.10360975563526154,\n",
      " 'q_or': 0.1071694865822792,\n",
      " 'theta_ex': 0.0641272084852525,\n",
      " 'theta_or': 0.05289448516613774,\n",
      " 'v_ex': 0.14341893792152405,\n",
      " 'v_or': 0.1785714030265808}\n",
      "NRMSE\n",
      "{'a_ex': 0.004338228143751621,\n",
      " 'a_or': 0.004624119959771633,\n",
      " 'p_ex': 0.0026287524960935116,\n",
      " 'p_or': 0.002425617538392544,\n",
      " 'q_ex': 0.0037089355755597353,\n",
      " 'q_or': 0.004632395692169666,\n",
      " 'theta_ex': 0.002095972474541331,\n",
      " 'theta_or': 0.0016134345684847128,\n",
      " 'v_ex': 0.004186670761555433,\n",
      " 'v_or': 0.004654895979911089}\n"
     ]
    }
   ],
   "source": [
    "ML_metrics = 0\n",
    "print(\"MAPE90\")\n",
    "pprint(leapNet_metrics_per_dataset[\"test\"][ML_metrics][\"mape90\"])\n",
    "print(\"MAPE\")\n",
    "pprint(leapNet_metrics_per_dataset[\"test\"][ML_metrics][\"mape_avg\"])\n",
    "print(\"MAE\")\n",
    "pprint(leapNet_metrics_per_dataset[\"test\"][ML_metrics][\"MAE_avg\"])\n",
    "print(\"NRMSE\")\n",
    "pprint(leapNet_metrics_per_dataset[\"test\"][ML_metrics][\"NRMSE_avg\"])"
   ]
  },
  {
   "cell_type": "markdown",
   "id": "9daacfdc",
   "metadata": {},
   "source": [
    "### OOD Generalization"
   ]
  },
  {
   "cell_type": "code",
   "execution_count": 15,
   "id": "38ce6077",
   "metadata": {},
   "outputs": [
    {
     "name": "stdout",
     "output_type": "stream",
     "text": [
      "MAPE90\n",
      "{'a_ex': 0.13353149307680554,\n",
      " 'a_or': 0.1362641806290948,\n",
      " 'p_ex': 0.1498188134163031,\n",
      " 'p_or': 0.13974530298697216,\n",
      " 'q_ex': 0.23166653743605742,\n",
      " 'q_or': 0.26613770426753536,\n",
      " 'theta_ex': 0.10928676934889206,\n",
      " 'theta_or': nan,\n",
      " 'v_ex': 0.016116134482477444,\n",
      " 'v_or': 0.015510716400258287}\n",
      "MAPE\n",
      "{'a_ex': 0.16660052068382186,\n",
      " 'a_or': 0.16457392740735016,\n",
      " 'p_ex': 0.17867681365282212,\n",
      " 'p_or': 0.16137577897119917,\n",
      " 'q_ex': 0.18446503347992374,\n",
      " 'q_or': 0.1857152761019446,\n",
      " 'theta_ex': 0.09906898033527073,\n",
      " 'theta_or': nan,\n",
      " 'v_ex': 0.010273143069932756,\n",
      " 'v_or': 0.010370839340545229}\n",
      "MAE\n",
      "{'a_ex': 44.475318908691406,\n",
      " 'a_or': 31.157516479492188,\n",
      " 'p_ex': 2.0687756538391113,\n",
      " 'p_or': 1.895237684249878,\n",
      " 'q_ex': 0.9647682309150696,\n",
      " 'q_or': 0.9432681202888489,\n",
      " 'theta_ex': 1.3143264040202853,\n",
      " 'theta_or': 1.2318205872948247,\n",
      " 'v_ex': 0.5145779848098755,\n",
      " 'v_or': 0.676001787185669}\n",
      "NRMSE\n",
      "{'a_ex': 0.04387463629245758,\n",
      " 'a_or': 0.042918186634778976,\n",
      " 'p_ex': 0.032695792615413666,\n",
      " 'p_or': 0.03047908842563629,\n",
      " 'q_ex': 0.03442451357841492,\n",
      " 'q_or': 0.03568059578537941,\n",
      " 'theta_ex': 0.0356787294584036,\n",
      " 'theta_or': 0.03278467520084287,\n",
      " 'v_ex': 0.02659294381737709,\n",
      " 'v_or': 0.023121429607272148}\n"
     ]
    }
   ],
   "source": [
    "print(\"MAPE90\")\n",
    "pprint(leapNet_metrics_per_dataset[\"test_ood_topo\"][ML_metrics][\"mape90\"])\n",
    "print(\"MAPE\")\n",
    "pprint(leapNet_metrics_per_dataset[\"test_ood_topo\"][ML_metrics][\"mape_avg\"])\n",
    "print(\"MAE\")\n",
    "pprint(leapNet_metrics_per_dataset[\"test_ood_topo\"][ML_metrics][\"MAE_avg\"])\n",
    "print(\"NRMSE\")\n",
    "pprint(leapNet_metrics_per_dataset[\"test_ood_topo\"][ML_metrics][\"NRMSE_avg\"])"
   ]
  },
  {
   "cell_type": "markdown",
   "id": "f7eabce0",
   "metadata": {},
   "source": [
    "## Physics compliances"
   ]
  },
  {
   "cell_type": "code",
   "execution_count": 18,
   "id": "cb187861",
   "metadata": {},
   "outputs": [
    {
     "name": "stdout",
     "output_type": "stream",
     "text": [
      "current pos\n",
      "0.000495\n",
      "0.0003\n",
      "voltage pos\n",
      "loss\n",
      "0.274485\n",
      "line_status\n",
      "{'a_ex_not_null': 0.0,\n",
      " 'a_or_not_null': 0.0,\n",
      " 'a_violations': 0.0,\n",
      " 'p_ex_not_null': 0.0,\n",
      " 'p_or_not_null': 0,\n",
      " 'p_violations': 0.0,\n",
      " 'q_ex_not_null': 0.0,\n",
      " 'q_or_not_null': 0.0,\n",
      " 'q_violations': 0.0}\n"
     ]
    }
   ],
   "source": [
    "PhysicCompliances = 1\n",
    "print(\"current pos\")\n",
    "pprint(leapNet_metrics_per_dataset[\"test\"][PhysicCompliances][\"BasicVerifications\"][\"currents\"][\"a_or\"][\"Violation_proportion\"])\n",
    "pprint(leapNet_metrics_per_dataset[\"test\"][PhysicCompliances][\"BasicVerifications\"][\"currents\"][\"a_ex\"][\"Violation_proportion\"])\n",
    "print(\"voltage pos\")\n",
    "#pprint(leapNet_metrics_per_dataset[\"test\"][1][\"BasicVerifications\"][\"voltages\"][\"v_or\"][\"Violation_proportion\"])\n",
    "#pprint(leapNet_metrics_per_dataset[\"test\"][1][\"BasicVerifications\"][\"voltages\"][\"v_ex\"][\"Violation_proportion\"])\n",
    "\n",
    "print(\"loss\")\n",
    "pprint(leapNet_metrics_per_dataset[\"test\"][PhysicCompliances][\"BasicVerifications\"][\"loss\"][\"violation_proportion\"])\n",
    "print(\"line_status\")\n",
    "pprint(leapNet_metrics_per_dataset[\"test\"][PhysicCompliances][\"BasicVerifications\"][\"line_status\"])"
   ]
  },
  {
   "cell_type": "code",
   "execution_count": 19,
   "id": "9207f7d0",
   "metadata": {},
   "outputs": [
    {
     "name": "stdout",
     "output_type": "stream",
     "text": [
      "current pos\n",
      "0.00393\n",
      "0.004095\n",
      "voltage pos\n",
      "loss\n",
      "0.39763\n",
      "line_status\n",
      "{'a_ex_not_null': 0.0,\n",
      " 'a_or_not_null': 0.0,\n",
      " 'a_violations': 0.0,\n",
      " 'p_ex_not_null': 0.0,\n",
      " 'p_or_not_null': 0,\n",
      " 'p_violations': 0.0,\n",
      " 'q_ex_not_null': 0.0,\n",
      " 'q_or_not_null': 0.0,\n",
      " 'q_violations': 0.0}\n"
     ]
    }
   ],
   "source": [
    "PhysicCompliances = 1\n",
    "print(\"current pos\")\n",
    "pprint(leapNet_metrics_per_dataset[\"test_ood_topo\"][PhysicCompliances][\"BasicVerifications\"][\"currents\"][\"a_or\"][\"Violation_proportion\"])\n",
    "pprint(leapNet_metrics_per_dataset[\"test_ood_topo\"][PhysicCompliances][\"BasicVerifications\"][\"currents\"][\"a_ex\"][\"Violation_proportion\"])\n",
    "print(\"voltage pos\")\n",
    "#pprint(leapNet_metrics_per_dataset[\"test_ood_topo\"][1][\"BasicVerifications\"][\"voltages\"][\"v_or\"][\"Violation_proportion\"])\n",
    "#pprint(leapNet_metrics_per_dataset[\"test_ood_topo\"][1][\"BasicVerifications\"][\"voltages\"][\"v_ex\"][\"Violation_proportion\"])\n",
    "\n",
    "print(\"loss\")\n",
    "pprint(leapNet_metrics_per_dataset[\"test_ood_topo\"][PhysicCompliances][\"BasicVerifications\"][\"loss\"][\"violation_proportion\"])\n",
    "print(\"line_status\")\n",
    "pprint(leapNet_metrics_per_dataset[\"test_ood_topo\"][PhysicCompliances][\"BasicVerifications\"][\"line_status\"])\n",
    "#pprint(dc_metrics_per_dataset[\"test_ood_topo\"][1])"
   ]
  }
 ],
 "metadata": {
  "kernelspec": {
   "display_name": "RTE",
   "language": "python",
   "name": "rte"
  },
  "language_info": {
   "codemirror_mode": {
    "name": "ipython",
    "version": 3
   },
   "file_extension": ".py",
   "mimetype": "text/x-python",
   "name": "python",
   "nbconvert_exporter": "python",
   "pygments_lexer": "ipython3",
   "version": "3.8.8"
  }
 },
 "nbformat": 4,
 "nbformat_minor": 5
}
