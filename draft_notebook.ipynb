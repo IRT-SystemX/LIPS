{
 "cells": [
  {
   "cell_type": "code",
   "execution_count": 1,
   "id": "dbff8eac-c04b-4fe2-8462-ed3be79c8f7f",
   "metadata": {
    "ExecuteTime": {
     "end_time": "2024-12-18T17:22:59.172122Z",
     "start_time": "2024-12-18T17:22:59.153473Z"
    }
   },
   "outputs": [],
   "source": [
    "%load_ext autoreload\n",
    "%autoreload 2"
   ]
  },
  {
   "cell_type": "code",
   "execution_count": 2,
   "id": "initial_id",
   "metadata": {
    "ExecuteTime": {
     "end_time": "2024-12-18T17:23:00.903459Z",
     "start_time": "2024-12-18T17:23:00.884193Z"
    }
   },
   "outputs": [],
   "source": [
    "from lips.scoring import PowerGridScoring"
   ]
  },
  {
   "cell_type": "code",
   "execution_count": 3,
   "id": "542ed9d6-5949-409a-bcb5-380abc2a441c",
   "metadata": {
    "ExecuteTime": {
     "end_time": "2024-12-18T17:23:02.170728Z",
     "start_time": "2024-12-18T17:23:02.155588Z"
    }
   },
   "outputs": [],
   "source": [
    "scoring = PowerGridScoring(config_path=\"configurations/powergrid/scoring/ScoreConfig.ini\", scenario=\"DEFAULT\")"
   ]
  },
  {
   "cell_type": "code",
   "execution_count": 4,
   "id": "4c318392-fc30-4e95-b9b2-7d8fad33ee06",
   "metadata": {
    "ExecuteTime": {
     "end_time": "2024-12-18T17:23:03.691169Z",
     "start_time": "2024-12-18T17:23:03.666826Z"
    }
   },
   "outputs": [
    {
     "data": {
      "text/plain": [
       "{'Score Colors': {'ML': {'x-velocity': 'g',\n",
       "   'y-velocity': 'g',\n",
       "   'pressure': 'o',\n",
       "   'turbulent_viscosity': 'g'},\n",
       "  'Physics': {'spearman_correlation_drag': 'o',\n",
       "   'spearman_correlation_lift': 'g',\n",
       "   'mean_relative_drag': 'g',\n",
       "   'mean_relative_lift': 'g'},\n",
       "  'OOD': {'ML': {'x-velocity': 'g',\n",
       "    'y-velocity': 'g',\n",
       "    'pressure': 'r',\n",
       "    'turbulent_viscosity': 'g'},\n",
       "   'Physics': {'spearman_correlation_drag': 'r',\n",
       "    'spearman_correlation_lift': 'g',\n",
       "    'mean_relative_drag': 'g',\n",
       "    'mean_relative_lift': 'g'}}},\n",
       " 'Score Values': {'ML': 0.875,\n",
       "  'OOD': 0.75,\n",
       "  'Physics': 0.875,\n",
       "  'Speed': 0.024655622815809464,\n",
       "  'Global Score': 0.7524655622815809}}"
      ]
     },
     "execution_count": 4,
     "metadata": {},
     "output_type": "execute_result"
    }
   ],
   "source": [
    "scoring.scoring(metrics_path=\"./score_scripts/NeurIPS_scoreV2_8/res/json_metrics_new.json\")"
   ]
  },
  {
   "cell_type": "code",
   "execution_count": 5,
   "id": "44738300-76ab-4834-b8d9-bf96b6b04f8f",
   "metadata": {
    "ExecuteTime": {
     "end_time": "2024-12-18T17:23:05.955460Z",
     "start_time": "2024-12-18T17:23:05.932678Z"
    }
   },
   "outputs": [
    {
     "data": {
      "text/plain": [
       "{'test': {'ML': {'MSE_avg': {'v_or': 0.00010645988368196413,\n",
       "    'v_ex': 0.00011296240700175986,\n",
       "    'p_or': 0.18411502242088318,\n",
       "    'p_ex': 0.1777658313512802,\n",
       "    'a_or': 16.51224136352539,\n",
       "    'a_ex': 16.86044692993164},\n",
       "   'MAE_avg': {'v_or': 0.001553428708575666,\n",
       "    'v_ex': 0.001500570448115468,\n",
       "    'p_or': 0.14518952369689941,\n",
       "    'p_ex': 0.14409466087818146,\n",
       "    'a_or': 1.4204329252243042,\n",
       "    'a_ex': 1.4652109146118164},\n",
       "   'MAPE_avg': {'v_or': 9.848606168816332e-06,\n",
       "    'v_ex': 1.0132289389730431e-05,\n",
       "    'p_or': 63017717760.0,\n",
       "    'p_ex': 22879956992.0,\n",
       "    'a_or': 121335185408.0,\n",
       "    'a_ex': 52108500992.0},\n",
       "   'MAPE_90_avg': {'v_or': 5.658699643585033e-06,\n",
       "    'v_ex': 5.919416245742559e-06,\n",
       "    'p_or': 0.0033098454767013486,\n",
       "    'p_ex': 0.0032964480543750145,\n",
       "    'a_or': 0.007386949784782199,\n",
       "    'a_ex': 0.007292245940119987},\n",
       "   'MAPE_10_avg': {'v_or': 7.93336312753172e-06,\n",
       "    'v_ex': 8.195988824322852e-06,\n",
       "    'p_or': 0.006397687786608211,\n",
       "    'p_ex': 0.006388048696331843,\n",
       "    'a_or': 0.021526892545594315,\n",
       "    'a_ex': 0.022162465019418712},\n",
       "   'TIME_INF': 4.163906573085114},\n",
       "  'Physics': {'CURRENT_POS': {'a_or': {'Error': 10040.3349609375,\n",
       "     'Violation_proportion': 0.00044102150537634406},\n",
       "    'a_ex': {'Error': 11018.400390625,\n",
       "     'Violation_proportion': 0.0005930645161290322}},\n",
       "   'VOLTAGE_POS': {'v_or': {'Violation_proportion': 0.0},\n",
       "    'v_ex': {'Violation_proportion': 0.0}},\n",
       "   'LOSS_POS': {'loss_criterion': 209.59898,\n",
       "    'violation_proportion': 0.008733548387096774},\n",
       "   'DISC_LINES': {'p_or': 0.0,\n",
       "    'p_ex': 0.0,\n",
       "    'a_or': 0.0,\n",
       "    'a_ex': 0.0,\n",
       "    'v_or': 0.0,\n",
       "    'v_ex': 0.0,\n",
       "    'violation_proportion': 0.0},\n",
       "   'CHECK_LOSS': {'violation_percentage': 1.539},\n",
       "   'CHECK_GC': {'violation_percentage': 0.0,\n",
       "    'mae': 9.128214e-05,\n",
       "    'wmape': 1.2492486e-06},\n",
       "   'CHECK_LC': {'violation_percentage': 77.35536440677966,\n",
       "    'mae': 0.10304196395080921,\n",
       "    'mape': 0.002859223697836113},\n",
       "   'CHECK_JOULE_LAW': {'violation_proportion': 0.0,\n",
       "    'mae': 3.054519562577347e-07,\n",
       "    'wmape': 2.268769940016548e-06}},\n",
       "  'IndRed': {'TIME_INF': 3.9108043271116912}},\n",
       " 'test_ood_topo': {'ML': {'MSE_avg': {'v_or': 0.0008741252822801471,\n",
       "    'v_ex': 0.0009632128058001399,\n",
       "    'p_or': 0.47769251465797424,\n",
       "    'p_ex': 0.4475671350955963,\n",
       "    'a_or': 40.1962890625,\n",
       "    'a_ex': 41.00724411010742},\n",
       "   'MAE_avg': {'v_or': 0.0023060280364006758,\n",
       "    'v_ex': 0.0023030198644846678,\n",
       "    'p_or': 0.18595275282859802,\n",
       "    'p_ex': 0.1843600869178772,\n",
       "    'a_or': 1.7880399227142334,\n",
       "    'a_ex': 1.8418012857437134},\n",
       "   'MAPE_avg': {'v_or': 1.5199337212834507e-05,\n",
       "    'v_ex': 1.5929399523884058e-05,\n",
       "    'p_or': 189589094400.0,\n",
       "    'p_ex': 56932474880.0,\n",
       "    'a_or': 386140471296.0,\n",
       "    'a_ex': 157286449152.0},\n",
       "   'MAPE_90_avg': {'v_or': 7.414690380649798e-06,\n",
       "    'v_ex': 8.032887808804589e-06,\n",
       "    'p_or': 0.004977200835027814,\n",
       "    'p_ex': 0.004950829903700901,\n",
       "    'a_or': 0.010261113576488012,\n",
       "    'a_ex': 0.01012922324923192},\n",
       "   'MAPE_10_avg': {'v_or': 1.0476555723965095e-05,\n",
       "    'v_ex': 1.1106274117571183e-05,\n",
       "    'p_or': 0.008155790825441843,\n",
       "    'p_ex': 0.008147190351295156,\n",
       "    'a_or': 0.027774648502433164,\n",
       "    'a_ex': 0.028373457148515593}},\n",
       "  'Physics': {'CURRENT_POS': {'a_or': {'Error': 21769.7578125,\n",
       "     'Violation_proportion': 0.0004038709677419355},\n",
       "    'a_ex': {'Error': 23943.244140625,\n",
       "     'Violation_proportion': 0.0005124731182795699}},\n",
       "   'VOLTAGE_POS': {'v_or': {'Violation_proportion': 0.0},\n",
       "    'v_ex': {'Violation_proportion': 0.0}},\n",
       "   'LOSS_POS': {'loss_criterion': 1076.4073,\n",
       "    'violation_proportion': 0.00829997311827957},\n",
       "   'DISC_LINES': {'p_or': 0.0,\n",
       "    'p_ex': 0.0,\n",
       "    'a_or': 0.0,\n",
       "    'a_ex': 0.0,\n",
       "    'v_or': 0.0,\n",
       "    'v_ex': 0.0,\n",
       "    'violation_proportion': 0.0},\n",
       "   'CHECK_LOSS': {'violation_percentage': 3.2485},\n",
       "   'CHECK_GC': {'violation_percentage': 0.0,\n",
       "    'mae': 9.088051e-05,\n",
       "    'wmape': 1.2194811e-06},\n",
       "   'CHECK_LC': {'violation_percentage': 83.45940254237289,\n",
       "    'mae': 0.14096058704044898,\n",
       "    'mape': 0.0039999913278262085},\n",
       "   'CHECK_JOULE_LAW': {'violation_proportion': 0.0,\n",
       "    'mae': 2.9970232693607007e-07,\n",
       "    'wmape': 2.1807441470482367e-06}},\n",
       "  'IndRed': {}}}"
      ]
     },
     "execution_count": 5,
     "metadata": {},
     "output_type": "execute_result"
    }
   ],
   "source": [
    "import json\n",
    "\n",
    "with open(\"./score_scripts/PowerGrid_score/res/json_metrics.json\", \"r\") as f:\n",
    "    raw_metrics = json.load(f)\n",
    "raw_metrics"
   ]
  },
  {
   "cell_type": "code",
   "execution_count": 6,
   "id": "3e05c2fd12981d8d",
   "metadata": {
    "ExecuteTime": {
     "end_time": "2024-12-18T17:23:16.572933Z",
     "start_time": "2024-12-18T17:23:16.554868Z"
    }
   },
   "outputs": [
    {
     "data": {
      "text/plain": [
       "{'Speed': {'inference_time': 4.163906573085114}}"
      ]
     },
     "execution_count": 6,
     "metadata": {},
     "output_type": "execute_result"
    }
   ],
   "source": [
    "scoring.reconstruct_speed_metric(raw_metrics, [\"test\", \"ML\", \"TIME_INF\"])"
   ]
  },
  {
   "cell_type": "code",
   "execution_count": 7,
   "id": "b40bcc1a2a0a9ad9",
   "metadata": {
    "ExecuteTime": {
     "end_time": "2024-12-18T17:23:18.497174Z",
     "start_time": "2024-12-18T17:23:18.481366Z"
    }
   },
   "outputs": [
    {
     "data": {
      "text/plain": [
       "{'ML': {'v_or': 0.00010645988368196413,\n",
       "  'v_ex': 0.00011296240700175986,\n",
       "  'p_or': 0.18411502242088318,\n",
       "  'p_ex': 0.1777658313512802,\n",
       "  'a_or': 16.51224136352539,\n",
       "  'a_ex': 16.86044692993164}}"
      ]
     },
     "execution_count": 7,
     "metadata": {},
     "output_type": "execute_result"
    }
   ],
   "source": [
    "scoring.reconstruct_ml_metrics(raw_metrics, [\"test\", \"ML\", \"MSE_avg\"], scoring.thresholds.keys())"
   ]
  },
  {
   "cell_type": "code",
   "execution_count": 8,
   "id": "19c352a2e2f0f9cb",
   "metadata": {
    "ExecuteTime": {
     "end_time": "2024-12-18T17:43:48.497718Z",
     "start_time": "2024-12-18T17:43:48.478015Z"
    }
   },
   "outputs": [
    {
     "data": {
      "text/plain": [
       "{'Physics': {'CURRENT_POS': 0.04410215053763441,\n",
       "  'VOLTAGE_POS': 0.0,\n",
       "  'LOSS_POS': 0.8733548387096773,\n",
       "  'DISC_LINES': 0.0,\n",
       "  'CHECK_LOSS': 1.539,\n",
       "  'CHECK_GC': 0.0,\n",
       "  'CHECK_LC': 77.35536440677966,\n",
       "  'CHECK_JOULE_LAW': 0.0}}"
      ]
     },
     "execution_count": 8,
     "metadata": {},
     "output_type": "execute_result"
    }
   ],
   "source": [
    "scoring.reconstruct_physic_metrics(raw_metrics, [\"test\", \"Physics\"], competition_name=\"PowerGrid Competition\",used_metric_list=scoring.thresholds.keys())"
   ]
  },
  {
   "cell_type": "code",
   "execution_count": null,
   "id": "7e1066c2-198c-4a6a-8e89-bfc28ac42dcb",
   "metadata": {},
   "outputs": [],
   "source": []
  },
  {
   "cell_type": "code",
   "execution_count": null,
   "id": "9dabb70f-110b-4151-aea4-62521e48e04d",
   "metadata": {},
   "outputs": [],
   "source": []
  }
 ],
 "metadata": {
  "kernelspec": {
   "display_name": "Python 3 (ipykernel)",
   "language": "python",
   "name": "python3"
  },
  "language_info": {
   "codemirror_mode": {
    "name": "ipython",
    "version": 3
   },
   "file_extension": ".py",
   "mimetype": "text/x-python",
   "name": "python",
   "nbconvert_exporter": "python",
   "pygments_lexer": "ipython3",
   "version": "3.10.16"
  }
 },
 "nbformat": 4,
 "nbformat_minor": 5
}
