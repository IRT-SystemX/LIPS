{
 "cells": [
  {
   "cell_type": "code",
   "execution_count": 4,
   "id": "16191009",
   "metadata": {},
   "outputs": [],
   "source": [
    "import os\n",
    "OUTPUT_DIR = os.path.join(\"lips\",\"Outputs\")\n",
    "INPUT_DIR = os.path.join(\"lips\", \"Outputs\", \"Data\", \"test\")\n",
    "BENCHMARK_DIR = os.path.join(\"lips\", \"Outputs\", \"Benchmark 1\")"
   ]
  },
  {
   "cell_type": "code",
   "execution_count": 17,
   "id": "7a45e1a2",
   "metadata": {},
   "outputs": [],
   "source": [
    "import numpy as np\n",
    "from pprint import pprint\n",
    "from lips.dataset import PowerGridDataSet\n",
    "from lips.simulators import DCApproximation\n",
    "from lips.benchmark import Benchmark\n",
    "from lips.evaluation import Evaluation\n",
    "from lips.simulators import FullyConnectedNN\n",
    "from pprint import pprint"
   ]
  },
  {
   "cell_type": "code",
   "execution_count": 3,
   "id": "a3313782",
   "metadata": {},
   "outputs": [
    {
     "data": {
      "text/html": [
       "<div id=\"my_id_menu_nb\">run previous cell, wait for 2 seconds</div>\n",
       "<script>\n",
       "function repeat_indent_string(n){\n",
       "    var a = \"\" ;\n",
       "    for ( ; n > 0 ; --n)\n",
       "        a += \"    \";\n",
       "    return a;\n",
       "}\n",
       "// look up into all sections and builds an automated menu //\n",
       "var update_menu_string = function(begin, lfirst, llast, sformat, send, keep_item, begin_format, end_format) {\n",
       "    var anchors = document.getElementsByClassName(\"section\");\n",
       "    if (anchors.length == 0) {\n",
       "        anchors = document.getElementsByClassName(\"text_cell_render rendered_html\");\n",
       "    }\n",
       "    var i,t;\n",
       "    var text_menu = begin;\n",
       "    var text_memo = \"<pre>\\nlength:\" + anchors.length + \"\\n\";\n",
       "    var ind = \"\";\n",
       "    var memo_level = 1;\n",
       "    var href;\n",
       "    var tags = [];\n",
       "    var main_item = 0;\n",
       "    var format_open = 0;\n",
       "    for (i = 0; i <= llast; i++)\n",
       "        tags.push(\"h\" + i);\n",
       "\n",
       "    for (i = 0; i < anchors.length; i++) {\n",
       "        text_memo += \"**\" + anchors[i].id + \"--\\n\";\n",
       "\n",
       "        var child = null;\n",
       "        for(t = 0; t < tags.length; t++) {\n",
       "            var r = anchors[i].getElementsByTagName(tags[t]);\n",
       "            if (r.length > 0) {\n",
       "child = r[0];\n",
       "break;\n",
       "            }\n",
       "        }\n",
       "        if (child == null) {\n",
       "            text_memo += \"null\\n\";\n",
       "            continue;\n",
       "        }\n",
       "        if (anchors[i].hasAttribute(\"id\")) {\n",
       "            // when converted in RST\n",
       "            href = anchors[i].id;\n",
       "            text_memo += \"#1-\" + href;\n",
       "            // passer à child suivant (le chercher)\n",
       "        }\n",
       "        else if (child.hasAttribute(\"id\")) {\n",
       "            // in a notebook\n",
       "            href = child.id;\n",
       "            text_memo += \"#2-\" + href;\n",
       "        }\n",
       "        else {\n",
       "            text_memo += \"#3-\" + \"*\" + \"\\n\";\n",
       "            continue;\n",
       "        }\n",
       "        var title = child.textContent;\n",
       "        var level = parseInt(child.tagName.substring(1,2));\n",
       "\n",
       "        text_memo += \"--\" + level + \"?\" + lfirst + \"--\" + title + \"\\n\";\n",
       "\n",
       "        if ((level < lfirst) || (level > llast)) {\n",
       "            continue ;\n",
       "        }\n",
       "        if (title.endsWith('¶')) {\n",
       "            title = title.substring(0,title.length-1).replace(\"<\", \"&lt;\")\n",
       "         .replace(\">\", \"&gt;\").replace(\"&\", \"&amp;\");\n",
       "        }\n",
       "        if (title.length == 0) {\n",
       "            continue;\n",
       "        }\n",
       "\n",
       "        while (level < memo_level) {\n",
       "            text_menu += end_format + \"</ul>\\n\";\n",
       "            format_open -= 1;\n",
       "            memo_level -= 1;\n",
       "        }\n",
       "        if (level == lfirst) {\n",
       "            main_item += 1;\n",
       "        }\n",
       "        if (keep_item != -1 && main_item != keep_item + 1) {\n",
       "            // alert(main_item + \" - \" + level + \" - \" + keep_item);\n",
       "            continue;\n",
       "        }\n",
       "        while (level > memo_level) {\n",
       "            text_menu += \"<ul>\\n\";\n",
       "            memo_level += 1;\n",
       "        }\n",
       "        text_menu += repeat_indent_string(level-2);\n",
       "        text_menu += begin_format + sformat.replace(\"__HREF__\", href).replace(\"__TITLE__\", title);\n",
       "        format_open += 1;\n",
       "    }\n",
       "    while (1 < memo_level) {\n",
       "        text_menu += end_format + \"</ul>\\n\";\n",
       "        memo_level -= 1;\n",
       "        format_open -= 1;\n",
       "    }\n",
       "    text_menu += send;\n",
       "    //text_menu += \"\\n\" + text_memo;\n",
       "\n",
       "    while (format_open > 0) {\n",
       "        text_menu += end_format;\n",
       "        format_open -= 1;\n",
       "    }\n",
       "    return text_menu;\n",
       "};\n",
       "var update_menu = function() {\n",
       "    var sbegin = \"\";\n",
       "    var sformat = '<a href=\"#__HREF__\">__TITLE__</a>';\n",
       "    var send = \"\";\n",
       "    var begin_format = '<li>';\n",
       "    var end_format = '</li>';\n",
       "    var keep_item = -1;\n",
       "    var text_menu = update_menu_string(sbegin, 2, 4, sformat, send, keep_item,\n",
       "       begin_format, end_format);\n",
       "    var menu = document.getElementById(\"my_id_menu_nb\");\n",
       "    menu.innerHTML=text_menu;\n",
       "};\n",
       "window.setTimeout(update_menu,2000);\n",
       "            </script>"
      ],
      "text/plain": [
       "<IPython.core.display.HTML object>"
      ]
     },
     "execution_count": 3,
     "metadata": {},
     "output_type": "execute_result"
    }
   ],
   "source": [
    "# Run the cell below to produce a table of contents \n",
    "res = None\n",
    "try:\n",
    "    from jyquickhelper import add_notebook_menu\n",
    "    res = add_notebook_menu()\n",
    "except ModuleNotFoundError:\n",
    "    print(\"Impossible to automatically add a menu / table of content to this notebook.\\nYou can download \\\"jyquickhelper\\\" package with: \\n\\\"pip install jyquickhelper\\\"\")\n",
    "res"
   ]
  },
  {
   "cell_type": "markdown",
   "id": "3e96b4ea",
   "metadata": {},
   "source": [
    "## Data Generation\n",
    "To generate the datasets, we use `PowerGridDataSet` class which is a sub-class of a more general `DataSet` class and is designed specifically for power grid data. It allows to generate one dataset at a time. We keep the DataSet class (therefore the platform) as generic as possible for its use in other research and industrial domains. "
   ]
  },
  {
   "cell_type": "code",
   "execution_count": 3,
   "id": "f43a8c6c",
   "metadata": {},
   "outputs": [],
   "source": [
    "dataset = PowerGridDataSet(env_name=\"l2rpn_case14_sandbox\")"
   ]
  },
  {
   "cell_type": "code",
   "execution_count": 7,
   "id": "d07788c5",
   "metadata": {},
   "outputs": [
    {
     "name": "stderr",
     "output_type": "stream",
     "text": [
      "C:\\Users\\milad.leyli-abadi\\Anaconda3\\envs\\RTE\\lib\\site-packages\\lightsim2grid\\_aux_add_trafo.py:33: UserWarning: There were some Nan in the pp_net.trafo[\"tap_neutral\"], they have been replaced by 0\n",
      "  warnings.warn(\"There were some Nan in the pp_net.trafo[\\\"tap_neutral\\\"], they have been replaced by 0\")\n",
      "C:\\Users\\milad.leyli-abadi\\Anaconda3\\envs\\RTE\\lib\\site-packages\\lightsim2grid\\_aux_add_trafo.py:41: UserWarning: There were some Nan in the pp_net.trafo[\"tap_step_percent\"], they have been replaced by 0\n",
      "  warnings.warn(\"There were some Nan in the pp_net.trafo[\\\"tap_step_percent\\\"], they have been replaced by 0\")\n",
      "C:\\Users\\milad.leyli-abadi\\Anaconda3\\envs\\RTE\\lib\\site-packages\\lightsim2grid\\_aux_add_trafo.py:46: UserWarning: There were some Nan in the pp_net.trafo[\"tap_pos\"], they have been replaced by 0\n",
      "  warnings.warn(\"There were some Nan in the pp_net.trafo[\\\"tap_pos\\\"], they have been replaced by 0\")\n",
      "100%|█████████████████████████████████████████████████████████████████████████| 131072/131072 [08:00<00:00, 272.66it/s]\n"
     ]
    }
   ],
   "source": [
    "test_data = dataset.generate(nb_samples=int(1024) * 128,\n",
    "                             tag=\"test\",\n",
    "                             val_regex=\".*99[0-9].*\",\n",
    "                             use_lightsim_if_available=True,\n",
    "                             reference_number=0,\n",
    "                             agent_generator_name=\"random_nn1\",\n",
    "                             agent_parameters={\"p\": 0.5},\n",
    "                             skip_gameover=True,\n",
    "                             env_seed=1234,\n",
    "                             agent_seed=14,\n",
    "                             verbose=True\n",
    "                            )"
   ]
  },
  {
   "cell_type": "markdown",
   "id": "23f421dc",
   "metadata": {},
   "source": [
    "#### save the generated dataset\n",
    "<span style=\"color:red\">In this version, I have stored a list of Grid2op `Observations`, but it takes a lot of space on disk !!! </span>"
   ]
  },
  {
   "cell_type": "code",
   "execution_count": 10,
   "id": "a904efb2",
   "metadata": {},
   "outputs": [],
   "source": [
    "dataset.save(path=OUTPUT_DIR)"
   ]
  },
  {
   "cell_type": "markdown",
   "id": "93cd2765",
   "metadata": {},
   "source": [
    "#### Load the generated dataset "
   ]
  },
  {
   "cell_type": "code",
   "execution_count": 5,
   "id": "96a6b123",
   "metadata": {},
   "outputs": [
    {
     "name": "stderr",
     "output_type": "stream",
     "text": [
      "C:\\Users\\milad.leyli-abadi\\Anaconda3\\envs\\RTE\\lib\\site-packages\\lightsim2grid\\_aux_add_trafo.py:33: UserWarning: There were some Nan in the pp_net.trafo[\"tap_neutral\"], they have been replaced by 0\n",
      "  warnings.warn(\"There were some Nan in the pp_net.trafo[\\\"tap_neutral\\\"], they have been replaced by 0\")\n",
      "C:\\Users\\milad.leyli-abadi\\Anaconda3\\envs\\RTE\\lib\\site-packages\\lightsim2grid\\_aux_add_trafo.py:41: UserWarning: There were some Nan in the pp_net.trafo[\"tap_step_percent\"], they have been replaced by 0\n",
      "  warnings.warn(\"There were some Nan in the pp_net.trafo[\\\"tap_step_percent\\\"], they have been replaced by 0\")\n",
      "C:\\Users\\milad.leyli-abadi\\Anaconda3\\envs\\RTE\\lib\\site-packages\\lightsim2grid\\_aux_add_trafo.py:46: UserWarning: There were some Nan in the pp_net.trafo[\"tap_pos\"], they have been replaced by 0\n",
      "  warnings.warn(\"There were some Nan in the pp_net.trafo[\\\"tap_pos\\\"], they have been replaced by 0\")\n"
     ]
    }
   ],
   "source": [
    "test_data = dataset.load(INPUT_DIR)"
   ]
  },
  {
   "cell_type": "markdown",
   "id": "126694e5",
   "metadata": {},
   "source": [
    "## Loading and evaluating a Simulator"
   ]
  },
  {
   "cell_type": "markdown",
   "id": "7e04cafc",
   "metadata": {},
   "source": [
    "### Physical Simulator (DC approximation)\n",
    "To assess the performance of a physical solver, one can use the DCApproximation available in `simulators` module. As opposed to augmented simulators, it does not require to be learned. Hence, only test dataset should be used to evaluate its performance. Various variables could be used as inputs and outputs of this solver."
   ]
  },
  {
   "cell_type": "code",
   "execution_count": 6,
   "id": "d9769ee5",
   "metadata": {},
   "outputs": [],
   "source": [
    "dc_app = DCApproximation(dataset.env._init_grid_path,\n",
    "                         name=\"dc_approx\",\n",
    "                         attr_x=(\"prod_p\", \"prod_v\", \"load_p\", \"load_q\", \"topo_vect\"),  # input that will be given to the proxy\n",
    "                         attr_y=(\"a_or\", \"a_ex\", \"p_or\", \"p_ex\", \"q_or\", \"q_ex\", \"prod_q\", \"load_v\", \"v_or\", \"v_ex\"),\n",
    "                        )"
   ]
  },
  {
   "cell_type": "markdown",
   "id": "0ae031d8",
   "metadata": {},
   "source": [
    "DC approximator should be initialized with generated data. "
   ]
  },
  {
   "cell_type": "code",
   "execution_count": 8,
   "id": "f7b71586",
   "metadata": {},
   "outputs": [],
   "source": [
    "# I have reduced the size of experimentation, as it takes long time to be excuted for DC approximation\n",
    "dc_app.init(test_data[:10000])"
   ]
  },
  {
   "cell_type": "markdown",
   "id": "17f64ead",
   "metadata": {},
   "source": [
    "Once, intitialized, it allows to infer the output variables from the input ones using its `predict` function."
   ]
  },
  {
   "cell_type": "code",
   "execution_count": 9,
   "id": "1545739c",
   "metadata": {},
   "outputs": [
    {
     "name": "stderr",
     "output_type": "stream",
     "text": [
      "100%|████████████████████████████████████████████████████████████████████████████| 10000/10000 [07:47<00:00, 21.37it/s]\n"
     ]
    },
    {
     "name": "stdout",
     "output_type": "stream",
     "text": [
      "Observations and Predictions are saved successfully !\n"
     ]
    }
   ],
   "source": [
    "predictions, observations, predict_time = dc_app.predict(save_path=BENCHMARK_DIR)"
   ]
  },
  {
   "cell_type": "markdown",
   "id": "58cf0318",
   "metadata": {},
   "source": [
    "## Evaluation metrics\n",
    "The `Evaluation` class allows to evaluate the performance of different simulators with respect to various criteria arosed from various domains. \n",
    "- Physic compliance\n",
    "- Machine Learning metrics\n",
    "- Generalization\n",
    "- Readiness (not yet implemented)\n",
    "\n",
    "In this new version of platform, one should activate or deactivate the verifications required for a specific benchmark, before passing an object of this class to the `Benchmark` class."
   ]
  },
  {
   "cell_type": "markdown",
   "id": "ca759b36",
   "metadata": {},
   "source": [
    "we start by creating an object of the Evaluation class as follows:"
   ]
  },
  {
   "cell_type": "code",
   "execution_count": 11,
   "id": "b4c5239c",
   "metadata": {},
   "outputs": [],
   "source": [
    "evaluation = Evaluation()"
   ]
  },
  {
   "cell_type": "markdown",
   "id": "11115286",
   "metadata": {},
   "source": [
    "Then, a dictionary of Metric Activation is provided using `get_active_dict()` function : "
   ]
  },
  {
   "cell_type": "code",
   "execution_count": 12,
   "id": "a8e1fecb",
   "metadata": {},
   "outputs": [],
   "source": [
    "active_dict = evaluation.get_active_dict()"
   ]
  },
  {
   "cell_type": "code",
   "execution_count": 18,
   "id": "8d45ed74",
   "metadata": {},
   "outputs": [
    {
     "name": "stdout",
     "output_type": "stream",
     "text": [
      "{'evaluate_ML': False,\n",
      " 'evaluate_adaptability': False,\n",
      " 'evaluate_physic': {'verify_EL': False,\n",
      "                     'verify_KCL': False,\n",
      "                     'verify_LCE': False,\n",
      "                     'verify_current_eq': False,\n",
      "                     'verify_current_pos': False,\n",
      "                     'verify_loss_pos': False,\n",
      "                     'verify_predict_disc': False,\n",
      "                     'verify_voltage_pos': False},\n",
      " 'evaluate_readiness': False}\n"
     ]
    }
   ],
   "source": [
    "pprint(active_dict)"
   ]
  },
  {
   "cell_type": "markdown",
   "id": "4698181d",
   "metadata": {},
   "source": [
    "#### Activate the required verifications "
   ]
  },
  {
   "cell_type": "markdown",
   "id": "089026c9",
   "metadata": {},
   "source": [
    "For example, if we wish for benchmark 1 only test the ML metrics and to verify the positivity of current values, one possible way to active them is the following :"
   ]
  },
  {
   "cell_type": "code",
   "execution_count": 19,
   "id": "90a7229b",
   "metadata": {},
   "outputs": [],
   "source": [
    "active_dict[\"evaluate_ML\"] = True\n",
    "active_dict[\"evaluate_physic\"][\"verify_current_pos\"] = True\n",
    "evaluation.set_active_dict(active_dict)"
   ]
  },
  {
   "cell_type": "code",
   "execution_count": 20,
   "id": "127cc015",
   "metadata": {},
   "outputs": [
    {
     "name": "stdout",
     "output_type": "stream",
     "text": [
      "{'evaluate_ML': True,\n",
      " 'evaluate_adaptability': False,\n",
      " 'evaluate_physic': {'verify_EL': False,\n",
      "                     'verify_KCL': False,\n",
      "                     'verify_LCE': False,\n",
      "                     'verify_current_eq': False,\n",
      "                     'verify_current_pos': True,\n",
      "                     'verify_loss_pos': False,\n",
      "                     'verify_predict_disc': False,\n",
      "                     'verify_voltage_pos': False},\n",
      " 'evaluate_readiness': False}\n"
     ]
    }
   ],
   "source": [
    "pprint(evaluation.get_active_dict())"
   ]
  },
  {
   "cell_type": "markdown",
   "id": "4c57c4ab",
   "metadata": {},
   "source": [
    "It can be verified as above, that these two tests are activated for the Benchmark."
   ]
  },
  {
   "cell_type": "markdown",
   "id": "dc9e2f27",
   "metadata": {},
   "source": [
    "## Benchmark\n",
    "Once a dataset has been generated, a simulator has been trained and predicted the required results and an evaluator with required metrics is parameterized, the `Benchmark` class allows to assess the performance of the simulator with respect to the indicated metrics and criteria. "
   ]
  },
  {
   "cell_type": "markdown",
   "id": "4d2a666a",
   "metadata": {},
   "source": [
    "As it can be seen below, the Benchmark class, takes as input an object of the following classes:\n",
    "\n",
    "- PowerGridDataSet\n",
    "- DCApproximation\n",
    "- Evaluation"
   ]
  },
  {
   "cell_type": "code",
   "execution_count": 32,
   "id": "435109dd",
   "metadata": {},
   "outputs": [],
   "source": [
    "benchmark_dc = Benchmark(\"Risk assessment\", dataset, dc_app, evaluation, save_path=BENCHMARK_DIR)"
   ]
  },
  {
   "cell_type": "markdown",
   "id": "555df299",
   "metadata": {},
   "source": [
    "The prediction time of the corresponding simulator could be accessed rapidly."
   ]
  },
  {
   "cell_type": "code",
   "execution_count": 33,
   "id": "0501c823",
   "metadata": {},
   "outputs": [
    {
     "data": {
      "text/plain": [
       "205.00069546699524"
      ]
     },
     "execution_count": 33,
     "metadata": {},
     "output_type": "execute_result"
    }
   ],
   "source": [
    "benchmark_dc.prediction_time"
   ]
  },
  {
   "cell_type": "markdown",
   "id": "19a090d3",
   "metadata": {},
   "source": [
    "Now, we can evaluate the simulator using all the indicated metrics in the previous section by activating the metrics. The choice allows to consider the real observations for physic compliance verifications. However, for Machine Learning metrics, the verification does not change by this parameter."
   ]
  },
  {
   "cell_type": "code",
   "execution_count": 34,
   "id": "73f98487",
   "metadata": {},
   "outputs": [
    {
     "name": "stdout",
     "output_type": "stream",
     "text": [
      "************* Basic verifier *************\n",
      "Current positivity check passed for origin side !\n",
      "----------------------------------------------\n",
      "Current positivity check passed for extremity side !\n",
      "----------------------------------------------\n"
     ]
    }
   ],
   "source": [
    "benchmark_dc.evaluate_simulator(choice=\"real\",\n",
    "                                EL_tolerance=0.04,\n",
    "                                LCE_tolerance=1e-3,\n",
    "                                KCL_tolerance=1e-2,\n",
    "                                active_flow=True,\n",
    "                                save_path=None\n",
    "                               )"
   ]
  },
  {
   "cell_type": "markdown",
   "id": "557546a1",
   "metadata": {},
   "source": [
    "All the metrics could be accessed via the member variables of Benchmark class as follows : "
   ]
  },
  {
   "cell_type": "markdown",
   "id": "4878594a",
   "metadata": {},
   "source": [
    "#### ML metrics"
   ]
  },
  {
   "cell_type": "code",
   "execution_count": 39,
   "id": "58fec72d",
   "metadata": {},
   "outputs": [
    {
     "name": "stdout",
     "output_type": "stream",
     "text": [
      "The list of all the available metrics\n",
      "dict_keys(['MSE_avg', 'MAE_avg', 'NRMSE_avg', 'pearson_r_avg', 'mape_avg', 'rmse_avg', 'MSE', 'MAE', 'NRMSE', 'pearson_r', 'mape', 'rmse', 'mape90', 'MAE90'])\n",
      "********************\n",
      "MAE_avg\n",
      "{'a_ex': 91.23420715332031,\n",
      " 'a_or': 76.09380340576172,\n",
      " 'load_v': 0.9383689761161804,\n",
      " 'p_ex': 0.8885318040847778,\n",
      " 'p_or': 0.9869451522827148,\n",
      " 'prod_q': 18.775745391845703,\n",
      " 'q_ex': 6.444573879241943,\n",
      " 'q_or': 6.574471473693848,\n",
      " 'v_ex': 1.0005929470062256,\n",
      " 'v_or': 0.6585171222686768}\n",
      "MAPE\n",
      "{'a_ex': 0.20803854516880946,\n",
      " 'a_or': 0.22168532480028338,\n",
      " 'load_v': 0.0335074732580896,\n",
      " 'p_ex': 0.08478020147489072,\n",
      " 'p_or': 0.08923333471048199,\n",
      " 'prod_q': 0.7642740689280486,\n",
      " 'q_ex': 1.0,\n",
      " 'q_or': 1.0,\n",
      " 'v_ex': 0.03471973123270375,\n",
      " 'v_or': 0.022346339484299878}\n",
      "MAPE90\n",
      "{'a_or': 0.14264498503758033,\n",
      " 'p_or': 0.04650562424478667,\n",
      " 'q_or': 1.0,\n",
      " 'v_or': 0.019656345361385094}\n"
     ]
    }
   ],
   "source": [
    "print(\"The list of all the available metrics\")\n",
    "pprint(benchmark_dc.metrics_ML.keys())\n",
    "print(\"********************\")\n",
    "print(\"MAE_avg\")\n",
    "pprint(benchmark_dc.metrics_ML[\"MAE_avg\"])\n",
    "print(\"MAPE\")\n",
    "pprint(benchmark_dc.metrics_ML[\"mape_avg\"])\n",
    "print(\"MAPE90\")\n",
    "pprint(benchmark_dc.metrics_ML[\"mape90\"])"
   ]
  },
  {
   "cell_type": "markdown",
   "id": "9f202caf",
   "metadata": {},
   "source": [
    "#### Physic compliances "
   ]
  },
  {
   "cell_type": "code",
   "execution_count": 40,
   "id": "f5391321",
   "metadata": {},
   "outputs": [
    {
     "data": {
      "text/plain": [
       "{'BasicVerifications': {'currents': {}}}"
      ]
     },
     "execution_count": 40,
     "metadata": {},
     "output_type": "execute_result"
    }
   ],
   "source": [
    "benchmark_dc.metrics_physics"
   ]
  },
  {
   "cell_type": "markdown",
   "id": "fc2518e7",
   "metadata": {},
   "source": [
    "as there is no violation of current values, this metric does not contain any value."
   ]
  },
  {
   "cell_type": "markdown",
   "id": "85bca463",
   "metadata": {},
   "source": [
    "The Physic compliance verification could also be performed for predictions."
   ]
  },
  {
   "cell_type": "code",
   "execution_count": 41,
   "id": "f68b631b",
   "metadata": {},
   "outputs": [
    {
     "name": "stdout",
     "output_type": "stream",
     "text": [
      "************* Basic verifier *************\n",
      "Current positivity check passed for origin side !\n",
      "----------------------------------------------\n",
      "Current positivity check passed for extremity side !\n",
      "----------------------------------------------\n"
     ]
    }
   ],
   "source": [
    "benchmark_dc.evaluate_simulator(choice=\"predictions\",\n",
    "                                EL_tolerance=0.04,\n",
    "                                LCE_tolerance=1e-3,\n",
    "                                KCL_tolerance=1e-2,\n",
    "                                active_flow=True,\n",
    "                                save_path=None\n",
    "                               )"
   ]
  },
  {
   "cell_type": "markdown",
   "id": "59c4b4d6",
   "metadata": {},
   "source": [
    "As it can be seen there is no violation for the positivity of current values."
   ]
  },
  {
   "cell_type": "markdown",
   "id": "884d2b70",
   "metadata": {},
   "source": [
    "# <span style=\"color:red\">Critical evaluation</span>"
   ]
  },
  {
   "cell_type": "markdown",
   "id": "e5a4a097",
   "metadata": {},
   "source": [
    "Here, I activate the EL, LCE and KCL metrics from physic compliance category."
   ]
  },
  {
   "cell_type": "code",
   "execution_count": 42,
   "id": "2c8b61e6",
   "metadata": {},
   "outputs": [],
   "source": [
    "active_dict = evaluation.get_active_dict()"
   ]
  },
  {
   "cell_type": "code",
   "execution_count": 43,
   "id": "deb5f037",
   "metadata": {},
   "outputs": [
    {
     "data": {
      "text/plain": [
       "{'evaluate_ML': True,\n",
       " 'evaluate_physic': {'verify_current_pos': True,\n",
       "  'verify_voltage_pos': False,\n",
       "  'verify_loss_pos': False,\n",
       "  'verify_predict_disc': False,\n",
       "  'verify_current_eq': False,\n",
       "  'verify_EL': False,\n",
       "  'verify_LCE': False,\n",
       "  'verify_KCL': False},\n",
       " 'evaluate_adaptability': False,\n",
       " 'evaluate_readiness': False}"
      ]
     },
     "execution_count": 43,
     "metadata": {},
     "output_type": "execute_result"
    }
   ],
   "source": [
    "active_dict"
   ]
  },
  {
   "cell_type": "code",
   "execution_count": 44,
   "id": "07588b4d",
   "metadata": {},
   "outputs": [],
   "source": [
    "active_dict[\"evaluate_physic\"][\"verify_EL\"] = True\n",
    "active_dict[\"evaluate_physic\"][\"verify_LCE\"] = True\n",
    "active_dict[\"evaluate_physic\"][\"verify_KCL\"] = True"
   ]
  },
  {
   "cell_type": "code",
   "execution_count": 45,
   "id": "8c7fb828",
   "metadata": {},
   "outputs": [],
   "source": [
    "evaluation.set_active_dict(active_dict)"
   ]
  },
  {
   "cell_type": "code",
   "execution_count": 47,
   "id": "7e89e3b4",
   "metadata": {},
   "outputs": [
    {
     "name": "stdout",
     "output_type": "stream",
     "text": [
      "{'evaluate_ML': True,\n",
      " 'evaluate_adaptability': False,\n",
      " 'evaluate_physic': {'verify_EL': True,\n",
      "                     'verify_KCL': True,\n",
      "                     'verify_LCE': True,\n",
      "                     'verify_current_eq': False,\n",
      "                     'verify_current_pos': True,\n",
      "                     'verify_loss_pos': False,\n",
      "                     'verify_predict_disc': False,\n",
      "                     'verify_voltage_pos': False},\n",
      " 'evaluate_readiness': False}\n"
     ]
    }
   ],
   "source": [
    "pprint(evaluation.get_active_dict())"
   ]
  },
  {
   "cell_type": "markdown",
   "id": "d751c129",
   "metadata": {},
   "source": [
    "### <span style=\"color:red\">Now Evaluating these criteria using Benchmark class</span>"
   ]
  },
  {
   "cell_type": "code",
   "execution_count": 48,
   "id": "15001c24",
   "metadata": {},
   "outputs": [],
   "source": [
    "benchmark_dc = Benchmark(\"Risk assessment\", dataset, dc_app, evaluation, save_path=BENCHMARK_DIR)"
   ]
  },
  {
   "cell_type": "code",
   "execution_count": 49,
   "id": "80560e9f",
   "metadata": {},
   "outputs": [
    {
     "name": "stdout",
     "output_type": "stream",
     "text": [
      "************* Basic verifier *************\n",
      "Current positivity check passed for origin side !\n",
      "----------------------------------------------\n",
      "Current positivity check passed for extremity side !\n",
      "----------------------------------------------\n",
      "************* Check loss *************\n",
      "Verification is done without any violation !\n",
      "************* Check Energy Conservation *************\n",
      "Number of failed cases is 0 and the proportion is 0.000% : \n",
      "************* Check kirchhoff's current law *************\n",
      "0.00% not verify the Kirchhoff's current law at 0.01 tolerance\n"
     ]
    }
   ],
   "source": [
    "benchmark_dc.evaluate_simulator(choice=\"real\",\n",
    "                                EL_tolerance=0.04,\n",
    "                                LCE_tolerance=1e-3,\n",
    "                                KCL_tolerance=1e-2,\n",
    "                                active_flow=True,\n",
    "                                save_path=None\n",
    "                               )"
   ]
  },
  {
   "cell_type": "markdown",
   "id": "b9d297d9",
   "metadata": {},
   "source": [
    "There is no problem using Real Observations"
   ]
  },
  {
   "cell_type": "code",
   "execution_count": 50,
   "id": "8c4394e7",
   "metadata": {},
   "outputs": [
    {
     "name": "stdout",
     "output_type": "stream",
     "text": [
      "************* Basic verifier *************\n",
      "Current positivity check passed for origin side !\n",
      "----------------------------------------------\n",
      "Current positivity check passed for extremity side !\n",
      "----------------------------------------------\n",
      "************* Check loss *************\n",
      "Verification is done without any violation !\n",
      "************* Check Energy Conservation *************\n",
      "Number of failed cases is 10000 and the proportion is 100.000% : \n",
      "************* Check kirchhoff's current law *************\n",
      "7.14% not verify the Kirchhoff's current law at 0.01 tolerance\n"
     ]
    }
   ],
   "source": [
    "benchmark_dc.evaluate_simulator(choice=\"predictions\",\n",
    "                                EL_tolerance=0.04,\n",
    "                                LCE_tolerance=1e-3,\n",
    "                                KCL_tolerance=1e-2,\n",
    "                                active_flow=True,\n",
    "                                save_path=None\n",
    "                               )"
   ]
  },
  {
   "cell_type": "markdown",
   "id": "5b151cf1",
   "metadata": {},
   "source": [
    "It can be seen here that, therea 100% of the cases that DC violates the Law of Conservation of Energy and 7% of the cases that it violates the Kirchoff's current law."
   ]
  },
  {
   "cell_type": "markdown",
   "id": "342a6ecb",
   "metadata": {},
   "source": [
    "### <span style=\"color:red\">I dont think that it could be a problem from the implementation point of view !</span>"
   ]
  }
 ],
 "metadata": {
  "kernelspec": {
   "display_name": "RTE",
   "language": "python",
   "name": "rte"
  },
  "language_info": {
   "codemirror_mode": {
    "name": "ipython",
    "version": 3
   },
   "file_extension": ".py",
   "mimetype": "text/x-python",
   "name": "python",
   "nbconvert_exporter": "python",
   "pygments_lexer": "ipython3",
   "version": "3.8.8"
  }
 },
 "nbformat": 4,
 "nbformat_minor": 5
}
