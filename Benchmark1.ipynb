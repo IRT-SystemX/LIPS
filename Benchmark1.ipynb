{
 "cells": [
  {
   "cell_type": "code",
   "execution_count": null,
   "id": "16191009",
   "metadata": {},
   "outputs": [],
   "source": [
    "import os\n",
    "OUTPUT_DIR = os.path.join(\"lips\",\"Outputs\")\n",
    "INPUT_DIR = os.path.join(\"lips\", \"Outputs\", \"Data\", \"test\")\n",
    "BENCHMARK_DIR = os.path.join(\"lips\", \"Outputs\", \"Benchmark 1\")"
   ]
  },
  {
   "cell_type": "code",
   "execution_count": null,
   "id": "7a45e1a2",
   "metadata": {},
   "outputs": [],
   "source": [
    "import numpy as np\n",
    "from pprint import pprint\n",
    "from lips.dataset import PowerGridDataSet\n",
    "from lips.simulators import DCApproximation\n",
    "from lips.benchmark import Benchmark\n",
    "from lips.evaluation import Evaluation\n",
    "from lips.simulators import FullyConnectedNN\n",
    "from pprint import pprint"
   ]
  },
  {
   "cell_type": "code",
   "execution_count": null,
   "id": "a3313782",
   "metadata": {},
   "outputs": [],
   "source": [
    "# Run the cell below to produce a table of contents \n",
    "res = None\n",
    "try:\n",
    "    from jyquickhelper import add_notebook_menu\n",
    "    res = add_notebook_menu()\n",
    "except ModuleNotFoundError:\n",
    "    print(\"Impossible to automatically add a menu / table of content to this notebook.\\nYou can download \\\"jyquickhelper\\\" package with: \\n\\\"pip install jyquickhelper\\\"\")\n",
    "res"
   ]
  },
  {
   "cell_type": "markdown",
   "id": "3e96b4ea",
   "metadata": {},
   "source": [
    "## Data Generation\n",
    "To generate the datasets, we use `PowerGridDataSet` class which is a sub-class of a more general `DataSet` class and is designed specifically for power grid data. It allows to generate one dataset at a time. We keep the DataSet class (therefore the platform) as generic as possible for its use in other research and industrial domains. "
   ]
  },
  {
   "cell_type": "code",
   "execution_count": null,
   "id": "f43a8c6c",
   "metadata": {},
   "outputs": [],
   "source": [
    "dataset = PowerGridDataSet(env_name=\"l2rpn_case14_sandbox\")"
   ]
  },
  {
   "cell_type": "code",
   "execution_count": null,
   "id": "d07788c5",
   "metadata": {},
   "outputs": [],
   "source": [
    "test_data = dataset.generate(nb_samples=int(1024) * 128,\n",
    "                             tag=\"test\",\n",
    "                             val_regex=\".*99[0-9].*\",\n",
    "                             use_lightsim_if_available=True,\n",
    "                             reference_number=0,\n",
    "                             agent_generator_name=\"random_nn1\",\n",
    "                             agent_parameters={\"p\": 0.5},\n",
    "                             skip_gameover=True,\n",
    "                             env_seed=1234,\n",
    "                             agent_seed=14,\n",
    "                             verbose=True\n",
    "                            )"
   ]
  },
  {
   "cell_type": "markdown",
   "id": "23f421dc",
   "metadata": {},
   "source": [
    "#### save the generated dataset\n",
    "<span style=\"color:red\">In this version, I have stored a list of Grid2op `Observations`, but it takes a lot of space on disk !!! </span>"
   ]
  },
  {
   "cell_type": "code",
   "execution_count": null,
   "id": "a904efb2",
   "metadata": {},
   "outputs": [],
   "source": [
    "dataset.save(path=OUTPUT_DIR)"
   ]
  },
  {
   "cell_type": "markdown",
   "id": "93cd2765",
   "metadata": {},
   "source": [
    "#### Load the generated dataset "
   ]
  },
  {
   "cell_type": "code",
   "execution_count": null,
   "id": "96a6b123",
   "metadata": {},
   "outputs": [],
   "source": [
    "test_data = dataset.load(INPUT_DIR)"
   ]
  },
  {
   "cell_type": "markdown",
   "id": "126694e5",
   "metadata": {},
   "source": [
    "## Loading and evaluating a Simulator"
   ]
  },
  {
   "cell_type": "markdown",
   "id": "7e04cafc",
   "metadata": {},
   "source": [
    "### Physical Simulator (DC approximation)\n",
    "To assess the performance of a physical solver, one can use the DCApproximation available in `simulators` module. As opposed to augmented simulators, it does not require to be learned. Hence, only test dataset should be used to evaluate its performance. Various variables could be used as inputs and outputs of this solver."
   ]
  },
  {
   "cell_type": "code",
   "execution_count": null,
   "id": "d9769ee5",
   "metadata": {},
   "outputs": [],
   "source": [
    "dc_app = DCApproximation(dataset.env._init_grid_path,\n",
    "                         name=\"dc_approx\",\n",
    "                         attr_x=(\"prod_p\", \"prod_v\", \"load_p\", \"load_q\", \"topo_vect\"),  # input that will be given to the proxy\n",
    "                         attr_y=(\"a_or\", \"a_ex\", \"p_or\", \"p_ex\", \"q_or\", \"q_ex\", \"prod_q\", \"load_v\", \"v_or\", \"v_ex\"),\n",
    "                        )"
   ]
  },
  {
   "cell_type": "markdown",
   "id": "0ae031d8",
   "metadata": {},
   "source": [
    "DC approximator should be initialized with generated data. "
   ]
  },
  {
   "cell_type": "code",
   "execution_count": null,
   "id": "f7b71586",
   "metadata": {},
   "outputs": [],
   "source": [
    "# I have reduced the size of experimentation, as it takes long time to be excuted for DC approximation\n",
    "dc_app.init(test_data[:5000])"
   ]
  },
  {
   "cell_type": "markdown",
   "id": "17f64ead",
   "metadata": {},
   "source": [
    "Once, intitialized, it allows to infer the output variables from the input ones using its `predict` function."
   ]
  },
  {
   "cell_type": "code",
   "execution_count": null,
   "id": "1545739c",
   "metadata": {},
   "outputs": [
    {
     "name": "stderr",
     "output_type": "stream",
     "text": [
      "<<<<<<< local <removed>\n"
     ]
    },
    {
     "name": "stderr",
     "output_type": "stream",
     "text": [
      "=======\n"
     ]
    },
    {
     "name": "stderr",
     "output_type": "stream",
     "text": [
      "100%|█████████████████████████████████████████████████████████████| 5000/5000 [01:55<00:00, 43.45it/s]\n"
     ]
    },
    {
     "name": "stderr",
     "output_type": "stream",
     "text": [
      ">>>>>>> remote <modified: >\n"
     ]
    }
   ],
   "source": [
    "predictions, observations, predict_time = dc_app.predict(save_path=BENCHMARK_DIR)"
   ]
  },
  {
   "cell_type": "markdown",
   "id": "58cf0318",
   "metadata": {},
   "source": [
    "## Evaluation metrics\n",
    "The `Evaluation` class allows to evaluate the performance of different simulators with respect to various criteria arosed from various domains. \n",
    "- Physic compliance\n",
    "- Machine Learning metrics\n",
    "- Generalization\n",
    "- Readiness (not yet implemented)\n",
    "\n",
    "In this new version of platform, one should activate or deactivate the verifications required for a specific benchmark, before passing an object of this class to the `Benchmark` class."
   ]
  },
  {
   "cell_type": "markdown",
   "id": "ca759b36",
   "metadata": {},
   "source": [
    "we start by creating an object of the Evaluation class as follows:"
   ]
  },
  {
   "cell_type": "code",
   "execution_count": null,
   "id": "b4c5239c",
   "metadata": {},
   "outputs": [],
   "source": [
    "evaluation = Evaluation()"
   ]
  },
  {
   "cell_type": "markdown",
   "id": "11115286",
   "metadata": {},
   "source": [
    "Then, a dictionary of Metric Activation is provided using `get_active_dict()` function : "
   ]
  },
  {
   "cell_type": "code",
   "execution_count": null,
   "id": "a8e1fecb",
   "metadata": {},
   "outputs": [],
   "source": [
    "active_dict = evaluation.get_active_dict()"
   ]
  },
  {
   "cell_type": "code",
   "execution_count": null,
   "id": "8d45ed74",
   "metadata": {},
   "outputs": [],
   "source": [
    "pprint(active_dict)"
   ]
  },
  {
   "cell_type": "markdown",
   "id": "4698181d",
   "metadata": {},
   "source": [
    "#### Activate the required verifications "
   ]
  },
  {
   "cell_type": "markdown",
   "id": "089026c9",
   "metadata": {},
   "source": [
    "For example, if we wish for benchmark 1 only test the ML metrics and to verify the positivity of current values, one possible way to active them is the following :"
   ]
  },
  {
   "cell_type": "code",
   "execution_count": null,
   "id": "90a7229b",
   "metadata": {},
   "outputs": [],
   "source": [
    "active_dict[\"evaluate_ML\"] = True\n",
    "active_dict[\"evaluate_physic\"][\"verify_current_pos\"] = True\n",
    "evaluation.set_active_dict(active_dict)"
   ]
  },
  {
   "cell_type": "code",
   "execution_count": null,
   "id": "127cc015",
   "metadata": {},
   "outputs": [],
   "source": [
    "pprint(evaluation.get_active_dict())"
   ]
  },
  {
   "cell_type": "markdown",
   "id": "4c57c4ab",
   "metadata": {},
   "source": [
    "It can be verified as above, that these two tests are activated for the Benchmark."
   ]
  },
  {
   "cell_type": "markdown",
   "id": "dc9e2f27",
   "metadata": {},
   "source": [
    "## Benchmark\n",
    "Once a dataset has been generated, a simulator has been trained and predicted the required results and an evaluator with required metrics is parameterized, the `Benchmark` class allows to assess the performance of the simulator with respect to the indicated metrics and criteria. "
   ]
  },
  {
   "cell_type": "markdown",
   "id": "4d2a666a",
   "metadata": {},
   "source": [
    "As it can be seen below, the Benchmark class, takes as input an object of the following classes:\n",
    "\n",
    "- PowerGridDataSet\n",
    "- DCApproximation\n",
    "- Evaluation"
   ]
  },
  {
   "cell_type": "code",
   "execution_count": null,
   "id": "435109dd",
   "metadata": {},
   "outputs": [],
   "source": [
    "benchmark_dc = Benchmark(\"Risk assessment\", dataset, dc_app, evaluation, save_path=BENCHMARK_DIR)"
   ]
  },
  {
   "cell_type": "markdown",
   "id": "555df299",
   "metadata": {},
   "source": [
    "The prediction time of the corresponding simulator could be accessed rapidly."
   ]
  },
  {
   "cell_type": "code",
   "execution_count": null,
   "id": "0501c823",
   "metadata": {},
   "outputs": [
    {
     "data": {
      "text/plain": [
       "53.3128616809845"
      ]
     },
     "execution_count": 15,
     "metadata": {},
     "output_type": "execute_result"
    }
   ],
   "source": [
    "benchmark_dc.prediction_time"
   ]
  },
  {
   "cell_type": "markdown",
   "id": "19a090d3",
   "metadata": {},
   "source": [
    "Now, we can evaluate the simulator using all the indicated metrics in the previous section by activating the metrics. The choice allows to consider the real observations for physic compliance verifications. However, for Machine Learning metrics, the verification does not change by this parameter."
   ]
  },
  {
   "cell_type": "code",
   "execution_count": 16,
   "id": "28302865",
   "metadata": {},
   "outputs": [
    {
     "data": {
      "text/plain": [
       "'lips\\\\Outputs\\\\Benchmark 1'"
      ]
     },
     "execution_count": 16,
     "metadata": {},
     "output_type": "execute_result"
    }
   ],
   "source": [
    "BENCHMARK_DIR"
   ]
  },
  {
   "cell_type": "code",
   "execution_count": null,
   "id": "73f98487",
   "metadata": {},
   "outputs": [],
   "source": [
    "benchmark_dc.evaluate_simulator(choice=\"real\",\n",
    "                                EL_tolerance=0.04,\n",
    "                                LCE_tolerance=1e-3,\n",
    "                                KCL_tolerance=1e-2,\n",
    "                                active_flow=True,\n",
    "                                save_path=os.path.join(BENCHMARK_DIR, \"real\")\n",
    "                               )"
   ]
  },
  {
   "cell_type": "markdown",
   "id": "557546a1",
   "metadata": {},
   "source": [
    "All the metrics could be accessed via the member variables of Benchmark class as follows : "
   ]
  },
  {
   "cell_type": "markdown",
   "id": "4878594a",
   "metadata": {},
   "source": [
    "#### ML metrics"
   ]
  },
  {
   "cell_type": "code",
   "execution_count": null,
   "id": "58fec72d",
   "metadata": {},
   "outputs": [],
   "source": [
    "print(\"The list of all the available metrics\")\n",
    "pprint(benchmark_dc.metrics_ML.keys())\n",
    "print(\"********************\")\n",
    "print(\"MAE_avg\")\n",
    "pprint(benchmark_dc.metrics_ML[\"MAE_avg\"])\n",
    "print(\"MAPE\")\n",
    "pprint(benchmark_dc.metrics_ML[\"mape_avg\"])\n",
    "print(\"MAPE90\")\n",
    "pprint(benchmark_dc.metrics_ML[\"mape90\"])"
   ]
  },
  {
   "cell_type": "markdown",
   "id": "9f202caf",
   "metadata": {},
   "source": [
    "#### Physic compliances "
   ]
  },
  {
   "cell_type": "code",
   "execution_count": null,
   "id": "f5391321",
   "metadata": {},
   "outputs": [],
   "source": [
    "benchmark_dc.metrics_physics"
   ]
  },
  {
   "cell_type": "markdown",
   "id": "fc2518e7",
   "metadata": {},
   "source": [
    "as there is no violation of current values, this metric does not contain any value."
   ]
  },
  {
   "cell_type": "markdown",
   "id": "85bca463",
   "metadata": {},
   "source": [
    "The Physic compliance verification could also be performed for predictions."
   ]
  },
  {
   "cell_type": "code",
   "execution_count": null,
   "id": "f68b631b",
   "metadata": {},
   "outputs": [],
   "source": [
    "benchmark_dc.evaluate_simulator(choice=\"predictions\",\n",
    "                                EL_tolerance=0.04,\n",
    "                                LCE_tolerance=1e-3,\n",
    "                                KCL_tolerance=1e-2,\n",
    "                                active_flow=True,\n",
    "                                save_path=os.path.join(BENCHMARK_DIR, \"predictions\")\n",
    "                               )"
   ]
  },
  {
   "cell_type": "markdown",
   "id": "59c4b4d6",
   "metadata": {},
   "source": [
    "As it can be seen there is no violation for the positivity of current values."
   ]
  },
  {
   "cell_type": "markdown",
   "id": "884d2b70",
   "metadata": {},
   "source": [
    "# <span style=\"color:red\">Critical evaluation</span>"
   ]
  },
  {
   "cell_type": "markdown",
   "id": "e5a4a097",
   "metadata": {},
   "source": [
    "Here, I activate the EL, LCE and KCL metrics from physic compliance category."
   ]
  },
  {
   "cell_type": "code",
   "execution_count": null,
   "id": "2c8b61e6",
   "metadata": {},
   "outputs": [],
   "source": [
    "active_dict = evaluation.get_active_dict()"
   ]
  },
  {
   "cell_type": "code",
   "execution_count": null,
   "id": "deb5f037",
   "metadata": {},
   "outputs": [],
   "source": [
    "active_dict"
   ]
  },
  {
   "cell_type": "code",
   "execution_count": null,
   "id": "07588b4d",
   "metadata": {},
   "outputs": [],
   "source": [
    "active_dict[\"evaluate_physic\"][\"verify_EL\"] = True\n",
    "active_dict[\"evaluate_physic\"][\"verify_LCE\"] = True\n",
    "active_dict[\"evaluate_physic\"][\"verify_KCL\"] = True"
   ]
  },
  {
   "cell_type": "code",
   "execution_count": null,
   "id": "8c7fb828",
   "metadata": {},
   "outputs": [],
   "source": [
    "evaluation.set_active_dict(active_dict)"
   ]
  },
  {
   "cell_type": "code",
   "execution_count": null,
   "id": "7e89e3b4",
   "metadata": {},
   "outputs": [],
   "source": [
    "pprint(evaluation.get_active_dict())"
   ]
  },
  {
   "cell_type": "markdown",
   "id": "d751c129",
   "metadata": {},
   "source": [
    "### <span style=\"color:red\">Now Evaluating these criteria using Benchmark class</span>"
   ]
  },
  {
   "cell_type": "code",
   "execution_count": null,
   "id": "15001c24",
   "metadata": {},
   "outputs": [],
   "source": [
    "benchmark_dc = Benchmark(\"Risk assessment\", dataset, dc_app, evaluation, save_path=BENCHMARK_DIR)"
   ]
  },
  {
   "cell_type": "code",
   "execution_count": null,
   "id": "80560e9f",
   "metadata": {},
   "outputs": [],
   "source": [
    "benchmark_dc.evaluate_simulator(choice=\"real\",\n",
    "                                EL_tolerance=0.04,\n",
    "                                LCE_tolerance=1e-3,\n",
    "                                KCL_tolerance=1e-2,\n",
    "                                active_flow=True,\n",
    "                                save_path=os.path.join(BENCHMARK_DIR, \"real\")\n",
    "                               )"
   ]
  },
  {
   "cell_type": "markdown",
   "id": "b9d297d9",
   "metadata": {},
   "source": [
    "There is no problem using Real Observations"
   ]
  },
  {
   "cell_type": "code",
   "execution_count": null,
   "id": "8c4394e7",
   "metadata": {},
   "outputs": [
    {
     "name": "stderr",
     "output_type": "stream",
     "text": [
      "<<<<<<< local <removed>\n"
     ]
    },
    {
     "name": "stderr",
     "output_type": "stream",
     "text": [
      "=======\n"
     ]
    },
    {
     "name": "stdout",
     "output_type": "stream",
     "text": [
      "************* Basic verifier *************\n",
      "Current positivity check passed for origin side !\n",
      "----------------------------------------------\n",
      "Current positivity check passed for extremity side !\n",
      "----------------------------------------------\n",
      "************* Check loss *************\n",
      "Verification is done without any violation !\n",
      "************* Check Energy Conservation *************\n",
      "Number of failed cases is 5000 and the proportion is 100.000% : \n",
      "************* Check kirchhoff's current law *************\n",
      "7.14% not verify the Kirchhoff's current law at 0.01 tolerance\n"
     ]
    },
    {
     "name": "stderr",
     "output_type": "stream",
     "text": [
      ">>>>>>> remote <modified: >\n"
     ]
    }
   ],
   "source": [
    "benchmark_dc.evaluate_simulator(choice=\"predictions\",\n",
    "                                EL_tolerance=0.04,\n",
    "                                LCE_tolerance=1e-3,\n",
    "                                KCL_tolerance=1e-2,\n",
    "                                active_flow=True,\n",
    "                                save_path=os.path.join(BENCHMARK_DIR, \"predictions\")\n",
    "                               )"
   ]
  },
  {
   "cell_type": "markdown",
   "id": "5b151cf1",
   "metadata": {},
   "source": [
    "It can be seen here that, therea 100% of the cases that DC violates the Law of Conservation of Energy and 7% of the cases that it violates the Kirchoff's current law."
   ]
  },
  {
   "cell_type": "markdown",
   "id": "342a6ecb",
   "metadata": {},
   "source": [
    "### <span style=\"color:red\">I dont think that it could be a problem from the implementation point of view !</span>"
   ]
  },
  {
   "cell_type": "code",
   "execution_count": 27,
   "id": "d5007d5f",
   "metadata": {},
   "outputs": [
    {
     "data": {
      "text/plain": [
       "{'BasicVerifications': {'currents': {}},\n",
       " 'EL': {'violation_percentage': 0.0,\n",
       "  'EL_values': array([0., 0., 0., ..., 0., 0., 0.], dtype=float32)},\n",
       " 'LCE': {'violation_percentage': 100.0,\n",
       "  'LCE_values': array([4.22937  , 5.1879272, 4.0081177, ..., 2.707962 , 2.7460938,\n",
       "         2.692276 ], dtype=float32)},\n",
       " 'KCL': {'violation_percentage': 7.142857142857142,\n",
       "  'nodes_values': array([[ 4.2293701e+00,  1.9073486e-06,  0.0000000e+00, ...,\n",
       "          -4.7683716e-07,  0.0000000e+00,  0.0000000e+00],\n",
       "         [ 5.1879349e+00,  1.9073486e-06,  0.0000000e+00, ...,\n",
       "          -4.7683716e-07,  9.5367432e-07,  0.0000000e+00],\n",
       "         [ 4.0081100e+00, -5.7220459e-06,  0.0000000e+00, ...,\n",
       "           2.3841858e-07, -9.5367432e-07,  0.0000000e+00],\n",
       "         ...,\n",
       "         [ 2.7079487e+00,  1.9073486e-06,  1.9073486e-06, ...,\n",
       "           0.0000000e+00, -1.9073486e-06,  0.0000000e+00],\n",
       "         [ 2.7460823e+00,  0.0000000e+00,  0.0000000e+00, ...,\n",
       "           2.3841858e-07, -1.9073486e-06,  0.0000000e+00],\n",
       "         [ 2.6922760e+00,  3.8146973e-06,  0.0000000e+00, ...,\n",
       "           0.0000000e+00,  1.9073486e-06,  0.0000000e+00]], dtype=float32),\n",
       "  'network_values': array([4.22938013, 5.1879487 , 4.00812173, ..., 2.70795941, 2.74609256,\n",
       "         2.69229174]),\n",
       "  'violation_indices': array([   0,    1,    2, ..., 4997, 4998, 4999])}}"
      ]
     },
     "execution_count": 27,
     "metadata": {},
     "output_type": "execute_result"
    }
   ],
   "source": [
    "evaluation.metrics_physics"
   ]
  }
 ],
 "metadata": {
  "kernelspec": {
   "display_name": "Python 3",
   "language": "python",
   "name": "python3"
  },
  "language_info": {
   "codemirror_mode": {
    "name": "ipython",
    "version": 3
   },
   "file_extension": ".py",
   "mimetype": "text/x-python",
   "name": "python",
   "nbconvert_exporter": "python",
   "pygments_lexer": "ipython3",
   "version": "3.8.10"
  }
 },
 "nbformat": 4,
 "nbformat_minor": 5
}
